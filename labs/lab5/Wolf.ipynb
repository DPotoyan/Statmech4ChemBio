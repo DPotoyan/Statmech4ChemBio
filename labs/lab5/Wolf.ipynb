{
 "cells": [
  {
   "cell_type": "markdown",
   "id": "23cac1fe-d2bb-4f42-9ee6-004ee34d0627",
   "metadata": {},
   "source": [
    "# Other Methods for sampling Ising models"
   ]
  },
  {
   "cell_type": "markdown",
   "id": "5213c505-71e0-4175-9555-dca608fc2362",
   "metadata": {},
   "source": [
    "**Wolf Algorithm (cluster methods):**\n",
    "\n",
    "Near the critical point $T_c$ where the system develops a magnetization, any single-spin-flip dynamics becomes very slow (the correlation time diverges).\n",
    "Wolff came up with a clever method to flip whole clusters of spins!\n",
    "\n",
    "1. Pick a spin at random, remember its direction $s = \\pm 1$, and flip it.\n",
    "2. For each of the four neighboring spins, if it is\n",
    "in the direction $s$, flip it with probability $p = 1 - e^{\\beta 2J}$.\n",
    "3. For each of the new flipped spins, recursively\n",
    "flip their neighbors as in step 2"
   ]
  },
  {
   "cell_type": "code",
   "execution_count": null,
   "id": "4d3c4a61-1ec8-4b0f-8871-b499fd1b6fac",
   "metadata": {},
   "outputs": [],
   "source": [
    "from numba import njit\n",
    "import numpy as np\n",
    "\n",
    "@njit\n",
    "def run_wolf_mc(spins=np.random.choice([-1, 1], size=(20, 20)), \n",
    "            J=1, \n",
    "            T=1, \n",
    "            nsteps = 10000):\n",
    "  '''Sampling 2D ising lattice with Wolff algorithm. \n",
    "  Returns:\n",
    "  - S: trajectory of lattice\n",
    "  - M: Magnetization'''\n",
    "\n",
    "  N = len(spins)\n",
    "  n = N**2\n",
    "  S, M = [], []\n",
    "\n",
    "  for step in range(nsteps):\n",
    "\n",
    "    # Pick random spin\n",
    "    i, j = np.random.randint(N), np.random.randint(N)\n",
    "\n",
    "    #Initial pocket and cluster lists\n",
    "    Pocket, Cluster = [(i,j)], [(i,j)]\n",
    "\n",
    "    #Start looking for pockets of spins pointing in same direction\n",
    "    while len(Pocket)>0:\n",
    "        i, j = Pocket.pop(0)   \n",
    "        \n",
    "        # interogate neighbours of spin[i,j]\n",
    "        for m, n in [((j+1)%N, j), ((i-1)%N, j), (i, (j+1)%N), (i, (j-1)%N)]:\n",
    "\n",
    "            #If neighbouring spin is in same direction and not already in the Cluster \n",
    "            if spins[m, n] == spins[i, j] and (m, n) not in Cluster:\n",
    "    \n",
    "                #Accept/reject move according to Wolff criteria\n",
    "                if np.random.random() < 1.0 - math.exp(- J / T):   \n",
    "                    Pocket.append((m,n))\n",
    "                    Cluster.append((m,n))\n",
    "\n",
    "    #Update cluster move and save data\n",
    "    for c in Cluster:\n",
    "        spins[c] *= -1\n",
    "\n",
    "    S.append(spins.copy())\n",
    "    M.append(np.mean(spins))\n",
    "\n",
    "  return S, M"
   ]
  }
 ],
 "metadata": {
  "kernelspec": {
   "display_name": "Python [conda env:llpsmd3] *",
   "language": "python",
   "name": "conda-env-llpsmd3-py"
  },
  "language_info": {
   "codemirror_mode": {
    "name": "ipython",
    "version": 3
   },
   "file_extension": ".py",
   "mimetype": "text/x-python",
   "name": "python",
   "nbconvert_exporter": "python",
   "pygments_lexer": "ipython3",
   "version": "3.9.16"
  }
 },
 "nbformat": 4,
 "nbformat_minor": 5
}
