{
 "cells": [
  {
   "cell_type": "markdown",
   "id": "0a45c603-e4da-4d84-8222-5290a58d392b",
   "metadata": {},
   "source": [
    "### Pytorch implementaiton of Ising-2D simulation"
   ]
  },
  {
   "cell_type": "code",
   "execution_count": null,
   "id": "640d3b8c-f758-45ce-bab3-5cb3f8135008",
   "metadata": {},
   "outputs": [],
   "source": [
    "import torch\n",
    "def ising2d_torch(N=20, \n",
    "                T=1.0, \n",
    "                J=1.0, \n",
    "                B=0.0, \n",
    "                n_steps=20000, \n",
    "                out_freq=10):\n",
    "    '''\n",
    "    Metropolis Monte Carlo simulator for the 2D Ising model using PyTorch.\n",
    "\n",
    "    Parameters:\n",
    "    spins (torch.Tensor): Initial spin configuration.\n",
    "    T (float): Temperature.\n",
    "    J (float): Interaction strength between spins.\n",
    "    B (float): External magnetic field.\n",
    "    n_steps (int): Number of Monte Carlo steps.\n",
    "    out_freq (int): Output frequency for saving spin configurations, energy, and magnetization.\n",
    "    device (str): Device to run the simulation ('cpu' or 'cuda').\n",
    "\n",
    "    Returns:\n",
    "    tuple: Arrays of spin configurations, energies, and magnetizations.\n",
    "    '''\n",
    "    \n",
    "    device = torch.device(\"cpu\")\n",
    "\n",
    "    # Initialize spins\n",
    "    spins = torch.randint(0, 2, (N, N), device=device) * 2 - 1\n",
    "    \n",
    "    M_t = spins.sum()\n",
    "    neighbors  = spins.roll(1, dims=0) + spins.roll(1, dims=1) \n",
    "    E_t        = -J * (spins * neighbors).sum() + M_t*B\n",
    "   \n",
    "    S, E, M = [], [], []\n",
    "\n",
    "    for step in range(n_steps):\n",
    "\n",
    "        i, j = torch.randint(0, N, (2,), device=device)\n",
    "\n",
    "        z = spins[(i + 1) % N, j] + spins[(i - 1) % N, j] + spins[i, (j + 1) % N] + spins[i, (j - 1) % N]\n",
    "\n",
    "        dE = 2 * spins[i, j] * (J * z + B)\n",
    "        dM = 2 * spins[i, j]\n",
    "\n",
    "        if torch.rand(1, device=device) < torch.exp(-dE / T):\n",
    "            spins[i, j] *= -1\n",
    "            E_t += dE\n",
    "            M_t += dM\n",
    "\n",
    "        if step % out_freq == 0:\n",
    "            S.append(spins.clone())\n",
    "            E.append(E_t / N**2)\n",
    "            M.append(M_t / N**2)\n",
    "\n",
    "    return torch.stack(S), torch.tensor(E), torch.tensor(M)"
   ]
  },
  {
   "cell_type": "code",
   "execution_count": null,
   "id": "b55d21e9-628b-4376-baa9-5a1e8fa58706",
   "metadata": {},
   "outputs": [],
   "source": [
    "#Parameters\n",
    "params = {'N':20,\n",
    "          'J':1, \n",
    "          'B':0, \n",
    "          'T': 4,\n",
    "          'n_steps': 10000, \n",
    "          'out_freq': 10}\n",
    "\n",
    "\n",
    "S, E, M = ising2d_torch(**params)"
   ]
  }
 ],
 "metadata": {
  "kernelspec": {
   "display_name": "Python [conda env:llpsmd3] *",
   "language": "python",
   "name": "conda-env-llpsmd3-py"
  },
  "language_info": {
   "codemirror_mode": {
    "name": "ipython",
    "version": 3
   },
   "file_extension": ".py",
   "mimetype": "text/x-python",
   "name": "python",
   "nbconvert_exporter": "python",
   "pygments_lexer": "ipython3",
   "version": "3.9.16"
  }
 },
 "nbformat": 4,
 "nbformat_minor": 5
}
