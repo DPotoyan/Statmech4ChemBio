{
 "cells": [
  {
   "cell_type": "markdown",
   "id": "b04c9764",
   "metadata": {},
   "source": [
    "# Markov Chains, master equation and detailed balance"
   ]
  },
  {
   "cell_type": "markdown",
   "id": "50dd163a",
   "metadata": {},
   "source": [
    "### Example of detailed balance: Isomerisation reaction\n",
    "\n",
    "- To illustrate the approach to equilibrium in a reversible A ↔ B reaction using a Markov chain model, let's consider the following scenario and Python simulation:\n",
    "\n",
    "**Scenario Setup**\n",
    "In this chemical interconversion reaction:\n",
    "\n",
    "- $A \\rightarrow B$ with probability $p$\n",
    "- $B \\rightarrow A$ with probability $q$\n",
    "\n",
    "**Markov Chain Model**\n",
    "\n",
    "- The system has two states (A, B), with transitions defined by a transition matrix.\n",
    "- Simulate Transitions: The simulation determines the system's state after each step by following the transition probabilities.\n",
    "- Calculate Equilibrium: We observe how the system's state probabilities evolve over $N$ steps to reach equilibrium.\n"
   ]
  },
  {
   "cell_type": "code",
   "execution_count": null,
   "id": "92e48e20",
   "metadata": {},
   "outputs": [],
   "source": [
    "impot numpy as np\n",
    "# Transition probabilities\n",
    "p = 0.3  # Probability of going from A to B\n",
    "q = 0.7  # Probability of going from B to A\n",
    "\n",
    "# Transition matrix\n",
    "transition_matrix = np.array([\n",
    "    [1-p, p],  # From A to A, B\n",
    "    [q, 1-q]   # From B to A, B\n",
    "])\n",
    "\n",
    "# Initial state (0 for A, 1 for B)\n",
    "current_state = 0\n",
    "\n",
    "# Number of steps to simulate\n",
    "n_steps = 1000\n",
    "\n",
    "# Record the state at each step to visualize the approach to equilibrium\n",
    "state_history = np.zeros((n_steps, 2))  # Create a history record for both states A and B\n",
    "state_history[0, current_state] = 1\n",
    "\n",
    "# Simulate the Markov chain\n",
    "for step in range(1, n_steps):\n",
    "    current_state = np.random.choice([0, 1], p=transition_matrix[current_state])\n",
    "    state_history[step, current_state] = 1\n",
    "\n",
    "# Calculate cumulative probabilities over time to show how probabilities stabilize\n",
    "cumulative_probabilities = np.cumsum(state_history, axis=0) / np.arange(1, n_steps+1).reshape(-1, 1)"
   ]
  },
  {
   "cell_type": "code",
   "execution_count": null,
   "id": "473bdd73",
   "metadata": {},
   "outputs": [],
   "source": [
    "# Plotting the results\n",
    "fig, (ax1, ax2) = plt.subplots(nrows=2)\n",
    "ax1.plot(cumulative_probabilities[:, 0], label='Probability of A', color='blue')\n",
    "ax1.plot(cumulative_probabilities[:, 1], label='Probability of B', color='red')\n",
    "ax1.set_xlabel('Steps')\n",
    "ax1.set_ylabel('Probability')\n",
    "ax1.set_title('Approach to Equilibrium Probabilities of States A and B')\n",
    "ax1.legend()\n",
    "ax1.grid(True)\n",
    "\n",
    "\n",
    "# Plotting the results\n",
    "ax2.bar(['A', 'B'], [state_record[0]/n_steps, state_record[1]/n_steps], color=['blue', 'red'])\n",
    "ax2.set_ylabel('Probability')\n",
    "ax2.set_title('Equilibrium probabilities of states A and B')\n",
    "fig.tight_layout()"
   ]
  },
  {
   "cell_type": "markdown",
   "id": "21f65e69",
   "metadata": {},
   "source": [
    "\n",
    "- As the number of steps increases, the fraction of time the system spends in each state $A$ and $B$ should converge to the theoretical equilibrium probabilities. These are derived from the detailed balance conditions $p \\cdot \\pi_A = q \\cdot \\pi_B$ and the normalization condition $\\pi_A + \\pi_B = 1$.\n",
    "- This simulation visually demonstrates the concept of reaching equilibrium in a reversible reaction through a Markov process, which is essential in understanding statistical thermodynamics."
   ]
  }
 ],
 "metadata": {
  "language_info": {
   "name": "python"
  }
 },
 "nbformat": 4,
 "nbformat_minor": 5
}
