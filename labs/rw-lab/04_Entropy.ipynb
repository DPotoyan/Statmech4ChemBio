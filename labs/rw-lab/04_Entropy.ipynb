{
 "cells": [
  {
   "attachments": {},
   "cell_type": "markdown",
   "metadata": {},
   "source": [
    "# Entropy"
   ]
  },
  {
   "cell_type": "code",
   "execution_count": 3,
   "metadata": {},
   "outputs": [],
   "source": [
    "import numpy as np\n",
    "import matplotlib.pyplot as plt\n",
    "from ipywidgets import widgets"
   ]
  },
  {
   "attachments": {},
   "cell_type": "markdown",
   "metadata": {},
   "source": [
    ":::{figure-md} markdown-fig\n",
    "\n",
    "<img src=\"https://upload.wikimedia.org/wikipedia/commons/d/d4/Entropy_flip_2_coins.jpg\" alt=\"Information\" style=\"width:10%\">\n",
    "\n",
    "Introducing entropy\n",
    ":::"
   ]
  },
  {
   "cell_type": "markdown",
   "metadata": {},
   "source": [
    "### **Key Distinction Between Entropy and Large Deviations**\n",
    "| Concept | Expression | What it Describes |\n",
    "|---------|-----------|-------------------|\n",
    "| **Entropy** | $ s = - f_+ \\log f_+ - f_- \\log f_- $ | The entropy of a particular empirical fraction $ f_+ $ |\n",
    "| **Expected Entropy** | $ s_{\\text{Shannon}} = - p_+ \\log p_+ - p_- \\log p_- $ | The entropy of the system assuming it follows $ p_+ $ |\n",
    "| **Rate Function** | $ I(f_+) = f_+ \\log \\frac{f_+}{p_+} + f_- \\log \\frac{f_-}{p_-} $ | The probability suppression for deviations of $ f_+ $ from $ p_+ $ |"
   ]
  },
  {
   "cell_type": "code",
   "execution_count": 104,
   "metadata": {},
   "outputs": [
    {
     "data": {
      "application/vnd.jupyter.widget-view+json": {
       "model_id": "14b9a5dab49848f3a0fd4b42850c2211",
       "version_major": 2,
       "version_minor": 0
      },
      "text/plain": [
       "interactive(children=(FloatSlider(value=0.5, description='theta', max=0.99, min=0.01), IntSlider(value=500, de…"
      ]
     },
     "metadata": {},
     "output_type": "display_data"
    }
   ],
   "source": [
    "@widgets.interact(theta=(0.01,0.99), N=(1,1000))\n",
    "def large_dev(theta, N):\n",
    "\n",
    "  fmin, fmax, step=0, 1, 0.01\n",
    "    \n",
    "  f = np.arange(fmin+step, fmax-step, step)\n",
    "    \n",
    "  I = - f * np.log(theta) - (1-f)*np.log(1-theta) + f * np.log(f) + (1-f)*np.log(1-f)\n",
    "\n",
    "  plt.plot(f, I, linewidth=2.5, label=r'$I(p, \\theta)$')\n",
    "  plt.plot(f, np.exp(-N*I), label=r'$e^{-NI(p, \\theta)}$' )\n",
    "\n",
    "  plt.xlabel(r'$p$')\n",
    "  plt.ylabel(r'$I(p)$')\n",
    "  plt.legend()\n",
    "  plt.show()"
   ]
  },
  {
   "cell_type": "code",
   "execution_count": 118,
   "metadata": {},
   "outputs": [
    {
     "data": {
      "text/plain": [
       "(2.584962500721156, 0.6073108582109139)"
      ]
     },
     "execution_count": 118,
     "metadata": {},
     "output_type": "execute_result"
    }
   ],
   "source": [
    "def comp_entropy(px, dx=1):\n",
    "    \n",
    "    p = px*dx # np.sum(p)=1\n",
    "    \n",
    "    return np.sum(-p*np.log2(p))\n",
    "\n",
    "\n",
    "fair_die = 1/6*np.ones(6)\n",
    "unfair_die = 1/6*np.array([5.5, 0.1, 0.1, 0.1, 0.1, 0.1])\n",
    "\n",
    "comp_entropy(fair_die), comp_entropy(unfair_die)"
   ]
  },
  {
   "cell_type": "code",
   "execution_count": 119,
   "metadata": {},
   "outputs": [
    {
     "data": {
      "text/plain": [
       "0.16666666666666666"
      ]
     },
     "execution_count": 119,
     "metadata": {},
     "output_type": "execute_result"
    }
   ],
   "source": [
    "np.sum(1/6*np.ones(1))"
   ]
  },
  {
   "cell_type": "markdown",
   "metadata": {},
   "source": [
    "- If you flip N fair coins which configuration (number of heads n out of N) will correspond to maximum entropy?\n",
    "- How much information is needed to find out how these coins landed? "
   ]
  },
  {
   "cell_type": "code",
   "execution_count": 100,
   "metadata": {},
   "outputs": [],
   "source": [
    "def gauss(x, sigma):\n",
    "        \n",
    "    return 1/np.sqrt(2*np.pi*sigma**2) * np.exp(-x**2/(2*sigma**2) )\n",
    "       \n",
    "def ent_g(sigma):\n",
    "        \n",
    "    return 0.5 * np.log2(2 * np.pi * np.e * sigma**2)   \n",
    "\n",
    "def viz_gauss_entropy(sigma=1):\n",
    "    \n",
    "    fig, (ax1, ax2)  = plt.subplots(ncols=2)\n",
    "    \n",
    "    \n",
    "    x = np.arange(-100, 100, 0.01)\n",
    "    px = gauss(x, sigma)\n",
    "    \n",
    "    ax1.plot(x, px, label=f'Entropy={ent_g(sigma):.3f}')\n",
    "    ax1.legend()\n",
    "    ax1.set_xlabel('x')\n",
    "    ax1.set_ylabel('p(x)')\n",
    "    ax1.set_ylim(0, 0.5)\n",
    "    #\n",
    "    sigmas = np.arange(20) \n",
    "    ax2.plot(sigmas, ent_g(sigmas), color='orange')\n",
    "    ax2.plot(sigma, ent_g(sigma), 'o', ms=10, color='red')\n",
    "    plt.show()"
   ]
  },
  {
   "cell_type": "code",
   "execution_count": 101,
   "metadata": {},
   "outputs": [
    {
     "data": {
      "application/vnd.jupyter.widget-view+json": {
       "model_id": "129b972b2a5f4e50ae6baaaa7928e51a",
       "version_major": 2,
       "version_minor": 0
      },
      "text/plain": [
       "interactive(children=(IntSlider(value=1, description='sigma', max=20, min=1), Output()), _dom_classes=('widget…"
      ]
     },
     "metadata": {},
     "output_type": "display_data"
    },
    {
     "data": {
      "text/plain": [
       "<function __main__.viz_gauss_entropy(sigma=1)>"
      ]
     },
     "execution_count": 101,
     "metadata": {},
     "output_type": "execute_result"
    }
   ],
   "source": [
    "widgets.interact(viz_gauss_entropy, sigma=(1, 20))"
   ]
  },
  {
   "attachments": {},
   "cell_type": "markdown",
   "metadata": {},
   "source": [
    "### Entropy and Information"
   ]
  },
  {
   "attachments": {},
   "cell_type": "markdown",
   "metadata": {},
   "source": [
    "**Which of these two statements conveys the most information?**\n",
    "\n",
    "- I will eat some food tomorrow.\n",
    "- I will see a giraffe walking by my apartment. "
   ]
  },
  {
   "attachments": {},
   "cell_type": "markdown",
   "metadata": {},
   "source": [
    "**A measure of information (whatever it may be) is closely related to the element of... surprise!**\n",
    "\n",
    "- has very high probability and so conveys little information,\n",
    "- has very low probability and so conveys much information. \n",
    "\n",
    "> If we quanitfy suprise we will quantify information"
   ]
  },
  {
   "attachments": {},
   "cell_type": "markdown",
   "metadata": {},
   "source": [
    "**Knowledge leads to gaining information**\n",
    "\n",
    "Which is more surprising (contains more information)?\n",
    "\n",
    "- E1: The card is heart?\n",
    "\n",
    "- E2:The card is Queen?\n",
    "\n",
    "- E3: The card is Queen of hearts?"
   ]
  },
  {
   "attachments": {},
   "cell_type": "markdown",
   "metadata": {},
   "source": [
    "- $P(E_1) = \\frac{1}{4}$\n",
    "\n",
    "\n",
    "- $P(E_2)  =  \\frac{4}{52} = \\frac{1}{13}$\n",
    "\n",
    "\n",
    "- $P(E_1 \\, and\\,  E_2) = \\frac{1}{52}$ "
   ]
  },
  {
   "attachments": {},
   "cell_type": "markdown",
   "metadata": {},
   "source": [
    "1. We learn the card is heart $I(E_1)$\n",
    "\n",
    "2. We learn the card is Queen $I(E_2)$\n",
    "\n",
    "3. $I(E_1 and E_2) = I(E_1) + I(E_2)$\n",
    "\n",
    "4. Knowledge of event can add to information: $I(E) \\geq 0$"
   ]
  },
  {
   "attachments": {},
   "cell_type": "markdown",
   "metadata": {},
   "source": [
    "### A logarithm of probability is a good candidate function for information!\n",
    "\n",
    "Because information should be additive!\n",
    "\n",
    "$$log P(E_1) P(E_2) = log P(E_1) + log(E_2)$$"
   ]
  },
  {
   "attachments": {},
   "cell_type": "markdown",
   "metadata": {},
   "source": [
    "### Why bit (base two)\n",
    "\n",
    "- Consider symmetric a 1D random walk with equal jump probabilities. We can view **Random walk = string of Yes/No questions**. \n",
    "- Imagine driving to a location how many left/right turn informations you need to reach destination? \n",
    "\n",
    "- You gain one bit of information when you are told Yes/No answer\n",
    "\n",
    "$$I(X=0) = I(X=1) = -log_2 \\frac{1}{2} = 1$$\n",
    "\n",
    "- To decode N step random walk trajectory we need N bits. \n",
    "\n",
    "$$(x_0,x_1,...x_N) = 10111101001010100100$$"
   ]
  },
  {
   "cell_type": "code",
   "execution_count": 122,
   "metadata": {},
   "outputs": [
    {
     "data": {
      "text/plain": [
       "[<matplotlib.lines.Line2D at 0x180a27c10>]"
      ]
     },
     "execution_count": 122,
     "metadata": {},
     "output_type": "execute_result"
    },
    {
     "data": {
      "image/png": "[encoded data removed]",
      "text/plain": [
       "<Figure size 640x480 with 1 Axes>"
      ]
     },
     "metadata": {},
     "output_type": "display_data"
    }
   ],
   "source": [
    "from scipy.stats import binom\n",
    "\n",
    "N = 1000 #trials\n",
    "p = 0.5 # probability of step to right\n",
    "\n",
    "W_bin = [binom.pmf(n, N, p=p) for n in range(N)] \n",
    "\n",
    "plt.plot( np.arange(N), np.log(W_bin) )"
   ]
  },
  {
   "attachments": {},
   "cell_type": "markdown",
   "metadata": {},
   "source": [
    "### Shannon  Measure of Information (SMI)\n",
    "\n",
    "**Surprise**\n",
    "\n",
    "$$I_i = -log p_i$$\n",
    "\n",
    "$$H = -\\sum_i p_i log p_i$$\n",
    "\n",
    "- Information is an average of surprise.!!! How surprised are you on average? \n",
    "- How many yes or no answers we need to reconstruct random walk. \n",
    "- How many yes/no answers to pinpoint weather molecules are in the left vs right side of container\n",
    "- How many yes/no answers to pinpoint precise conformation of a polymer\n",
    "\n",
    "> [To Shanon], You should call it Entropy, for two reasons. \n",
    "In the first place you uncertainty function has been used in statistical mechanics under that name. \n",
    "In the second place, and more importantly, no one knows what entropy really is, so in a debate you will always have the advantage.” J von Neumann\n",
    "\n"
   ]
  },
  {
   "attachments": {},
   "cell_type": "markdown",
   "metadata": {},
   "source": [
    "Information per letter $I(m)$ to decode the message\n",
    "\n",
    "- $m:$ Letters in the alphabet (Russian: 33,Enlgish: 26,  Korean: 24) \n",
    "\n",
    "\n",
    "- $I(Russian) > I(English) > I(Korean)$\n",
    "\n",
    "\n",
    "- $I(m_1, m_2) = I(m_1) + I(m_2)$ reagrdless of the order letters are sent!\n",
    "\n",
    "\n",
    "> One bit is an amount of information one can obtain from the answer to a single yes–no question. The number of bits to decode a message grows with the length of an alphabet and length of the word. "
   ]
  },
  {
   "attachments": {},
   "cell_type": "markdown",
   "metadata": {},
   "source": [
    "### Alphabets are not random! hghjxcjxcc"
   ]
  },
  {
   "attachments": {},
   "cell_type": "markdown",
   "metadata": {},
   "source": [
    "Some letters happen more often than the others! Probability of each letter in an independent sequence is $p_m = \\frac{1}{m}$\n",
    "\n",
    "$$\\boxed{H(p) = - \\sum_m p_m log_m p_m}$$\n",
    "\n",
    "> We must send a message explaining how to combine the transferred symbols as a part of the message, but the length of the needed message is finite and independent of the length of the actual message we wish to send, so in the long message limit we may ignore this overhead."
   ]
  },
  {
   "attachments": {},
   "cell_type": "markdown",
   "metadata": {},
   "source": [
    "### Quantifying information"
   ]
  },
  {
   "attachments": {},
   "cell_type": "markdown",
   "metadata": {},
   "source": [
    "- How much knowledge we need to find out outcome of fair dice?\n",
    "\n",
    "- We are told die shows a digit higher than 2 (3, 4, 5 or 6). How much knowledge does this information carry? "
   ]
  },
  {
   "attachments": {},
   "cell_type": "markdown",
   "metadata": {},
   "source": [
    " - $H(E_1) = log_2 6$\n",
    " \n",
    " \n",
    " - $H(E_1) - H(E_2) = log_2 6 - log_2 4$"
   ]
  },
  {
   "attachments": {},
   "cell_type": "markdown",
   "metadata": {},
   "source": [
    "### Information per Letter of English\n",
    "\n",
    "If the symbols of English alphabet (+ blank) appear equally probably, what is the information carried by a single symbol? This must be $log_2(26 + 1) = 4.755$ bits, but for actual English sentences, it is known to be about **$1.3$ bits. Why?**"
   ]
  },
  {
   "attachments": {},
   "cell_type": "markdown",
   "metadata": {},
   "source": [
    "### Two kittens\n",
    "\n",
    "There are two kittens. We are told that at least one of them is a male. What is the information we get from this message?"
   ]
  },
  {
   "attachments": {},
   "cell_type": "markdown",
   "metadata": {},
   "source": [
    "$$E_1 = \\{mm,mf,fm, ff \\} $$\n",
    "\n",
    "$$E_2 = \\{mm,mf,fm\\}$$\n",
    "\n",
    "$$H(E_1) -H(E_2) = log_2 4 -log_2 3 = 0.41$$"
   ]
  },
  {
   "attachments": {},
   "cell_type": "markdown",
   "metadata": {},
   "source": [
    "### Game of message decoding:\n",
    "\n",
    "Given some 70 letters decode a 250 letter paragraph!\n",
    "\n",
    "$$\\frac{70}{250}log_2 27 = 1.3$$\n",
    "\n",
    "> Cover T. M. and King, R. C. (1978). \"A convergent gambling estimate of the entropy of English\" IEEE Trans. Info. Theory, 24, 413–421"
   ]
  },
  {
   "attachments": {},
   "cell_type": "markdown",
   "metadata": {},
   "source": [
    "### Monty Hall problem\n",
    "\n",
    "There are five boxes, of which one contains a prize. A game participant is asked to choose one box. After they choose one of the five boxes, the “coordinator” of the game identifies as empty three of the four unchosen boxes. What is the information of this message? "
   ]
  },
  {
   "attachments": {},
   "cell_type": "markdown",
   "metadata": {},
   "source": [
    "- $H(E_1) = log_2 5 = 2.322$\n",
    "\n",
    "\n",
    "- $H(E_2) = -\\frac{1}{5} log_2 5 - \\frac{4}{5} log_2 \\frac{4}{5} = 0.722$\n",
    "\n",
    "- $H(E_1)-H(E_2) = 1.6$"
   ]
  },
  {
   "attachments": {},
   "cell_type": "markdown",
   "metadata": {},
   "source": [
    "### Non integer number of YES/NO questions??\n",
    "\n",
    "We have encountered a fraction of bit of information several times now. What does it imply in terms of number of YES/NO questions. That is becasue in some cases single YES/NO question can rule out more than one elementary event.\n",
    "\n",
    "> 999 blue balls and 1 red ball. how many questions we need to ask to determin the colors of all balls? $S = 9.97$ bit or 0.01 bit per ball. Divide the container by 500 and 500 and ask where the red ball is? 1 questions rules out 500 balls at once. "
   ]
  },
  {
   "attachments": {},
   "cell_type": "markdown",
   "metadata": {},
   "source": [
    "### Is information physical?\n",
    "\n",
    "**Wheeler's It from bit.**\n",
    "\n",
    "> Every it — every particle, every field of force, even the space-time continuum itself — derives its function, its meaning, its very existence entirely — even if in some contexts indirectly — from the apparatus-elicited answers to yes-or-no questions, binary choices, bits. It from bit symbolizes the idea that every item of the physical world has at bottom — a very deep bottom, in most instances — an immaterial source and explanation; that which we call reality arises in the last analysis from the posing of yes-no questions and the registering of equipment-evoked responses; in short, that **all things physical are information-theoretic in origin**\" John Weeler"
   ]
  },
  {
   "attachments": {},
   "cell_type": "markdown",
   "metadata": {},
   "source": [
    "### Jayne's MaxEnt (Maximum Entropy principle)\n",
    "\n",
    "Probability is an expression of incomplete information. Given that we have some\n",
    "information, how should we construct a probability distribution that reflects that\n",
    "knowledge, but is otherwise unbiased? The best general procedure, known as Jaynes\n",
    "Maximum Entropy Principle , is to choose the probabilities $p_k$ to maximize the Shanon Measure of Information of the distribution, subject to constraints that express what we do know"
   ]
  },
  {
   "attachments": {},
   "cell_type": "markdown",
   "metadata": {},
   "source": [
    "**Fair die example**"
   ]
  },
  {
   "attachments": {},
   "cell_type": "markdown",
   "metadata": {},
   "source": [
    "$$J[p_1, p_2, ..] = - \\sum p_i log p_i - \\lambda \\sum_i p_i$$\n",
    "\n",
    "$$p_1  = p_2 = ... =  p_N $$"
   ]
  },
  {
   "attachments": {},
   "cell_type": "markdown",
   "metadata": {},
   "source": [
    "**biased die**\n",
    "\n",
    "We are given infromation that on average rolling a die yields $\\langle x \\rangle = 5.5$\n",
    "\n",
    "\n",
    "$$J[p_1, p_2, ..] = - \\sum p_i log p_i - \\lambda \\sum_i p_i - B \\sum_i p_i x_i $$\n",
    "\n",
    "$$p_i \\sim e^{-B x_i}$$"
   ]
  },
  {
   "attachments": {},
   "cell_type": "markdown",
   "metadata": {},
   "source": [
    "### Problems\n",
    "\n",
    "- Compute entropy of gaussian distribution. Plot entropy as a function of variance\n",
    "\n",
    "- Using MaxEnt approach find probability distribution with mean and variance equal to $\\mu$ and $\\sigma^2$ respectively. \n",
    "\n",
    "- Simulate 1D random walk and compute entropy by first computing probability distribution $p_N(n)$"
   ]
  }
 ],
 "metadata": {
  "kernelspec": {
   "display_name": "Python 3 (ipykernel)",
   "language": "python",
   "name": "python3"
  },
  "language_info": {
   "codemirror_mode": {
    "name": "ipython",
    "version": 3
   },
   "file_extension": ".py",
   "mimetype": "text/x-python",
   "name": "python",
   "nbconvert_exporter": "python",
   "pygments_lexer": "ipython3",
   "version": "3.9.16"
  }
 },
 "nbformat": 4,
 "nbformat_minor": 4
}
