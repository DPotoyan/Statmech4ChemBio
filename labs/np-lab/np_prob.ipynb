{
 "cells": [
  {
   "cell_type": "markdown",
   "metadata": {},
   "source": [
    "# Numpy and Probabilities"
   ]
  },
  {
   "cell_type": "code",
   "execution_count": null,
   "metadata": {},
   "outputs": [],
   "source": [
    "pxy = array([[0.0888395 , 0.04135306, 0.07692385, 0.04716456],\n",
    "       [0.05191984, 0.04715928, 0.06539948, 0.04739613],\n",
    "       [0.09325686, 0.05106682, 0.05221257, 0.05864018],\n",
    "       [0.08283109, 0.11219392, 0.02191071, 0.06173214]])"
   ]
  },
  {
   "cell_type": "markdown",
   "metadata": {},
   "source": [
    "#### Compute the following full marginal and conditional probabilities"
   ]
  },
  {
   "cell_type": "markdown",
   "metadata": {},
   "source": [
    "- Check for normalization\n",
    "\n",
    "- Compute $p(x)$\n",
    "\n",
    "- Compute $p(x=1, y=2)$\n",
    "\n",
    "- Compute $p(x|y=3)$"
   ]
  }
 ],
 "metadata": {
  "language_info": {
   "name": "python"
  }
 },
 "nbformat": 4,
 "nbformat_minor": 2
}
