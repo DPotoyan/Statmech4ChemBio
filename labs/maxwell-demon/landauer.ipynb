{
 "cells": [
  {
   "cell_type": "markdown",
   "metadata": {},
   "source": [
    "## Information erasure and Landauer's principle\n",
    "\n",
    "> When a physical system performs a logical operation that erases or loses information, without a copy being preserved, it must transfer a minimum amount of heat, $k_BT log(2)$, to the environment.\n",
    "\n",
    "> Put another way: if an observer loses information about a physical system, the observer loses the ability to extract work from that system. There is a minimal price to be payed for erasing one bit it is $k_BT log(2)$ (Landauer's bound)"
   ]
  },
  {
   "cell_type": "code",
   "execution_count": null,
   "metadata": {
    "vscode": {
     "languageId": "plaintext"
    }
   },
   "outputs": [],
   "source": [
    "#%run ./code/maxwells_demon.py"
   ]
  },
  {
   "cell_type": "markdown",
   "metadata": {},
   "source": [
    "- [\"Experimental verification of Landauer's principle\" by A Berut et al](https://www.nature.com/articles/nature10872) </li>\n",
    "\n",
    "<img src=\"./figs/LandauerExperiment2.jpg\" alt=\"landauer1\" style=\"width:40%\">  "
   ]
  },
  {
   "cell_type": "markdown",
   "metadata": {},
   "source": [
    "### Szilard's Engine\n",
    "\n",
    "Recording inforation we can extract work from the environment: $W = k_B log 2$ and $Q = k_B log 2$\n",
    "\n",
    "- **No ghost principle:** information must be carried by something. Information is physical! \n",
    "\n",
    "$$\\Delta S = \\Delta S + k_B I \\geq \\frac{Q}{T}$$\n",
    "\n",
    "$$\\Delta S = \\Delta S  \\geq \\frac{Q}{T} - k_B I$$\n",
    "\n",
    "- Therefore Information can be used to do work. Knowledge is power!\n",
    "\n",
    "$$\\Delta F \\geq W + k_B T I $$"
   ]
  },
  {
   "cell_type": "markdown",
   "metadata": {},
   "source": [
    "### Conditional Entropy \n",
    "\n",
    "- System + Aparatus: S, A. After a measurment we have the following ucnertainty about system+apparatus states:\n",
    "\n",
    "$$H(S,A) = - \\sum_{i,j} p(s_i, a_j)log p(s_i a_j)$$\n",
    "\n",
    "$$H(S) = - \\sum_{s_i} p_S(s_i)log p_S(s_i)$$\n",
    "\n",
    "$$H(S | A) = - \\sum_{s_i} p_S(s_i)log p_S(s_i)$$\n",
    "\n",
    "$$H(S | A) = H(S) - H(S,A) =  -\\sum_{s_i} p(s_i, a_j)log \\frac{p(s_i, a_j)}{p_A(a_j)}$$"
   ]
  },
  {
   "cell_type": "markdown",
   "metadata": {},
   "source": [
    "### Mutual Infromation \n",
    "\n",
    "$$I(S,A) = H(S) - H(S | A) = H(S) +H(A) - H(S A) = \\sum_{s_i} p(s_i, a_j)log \\frac{p(s_i, a_j)}{p_S(s_i)p_A(a_j)}\\geq 0$$"
   ]
  }
 ],
 "metadata": {
  "language_info": {
   "name": "python"
  },
  "orig_nbformat": 4
 },
 "nbformat": 4,
 "nbformat_minor": 2
}
