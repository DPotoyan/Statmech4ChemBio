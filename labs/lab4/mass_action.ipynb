{
 "cells": [
  {
   "cell_type": "markdown",
   "id": "52cc5c4a-710a-41e3-aabf-21559681b488",
   "metadata": {},
   "source": [
    "# Mass action law"
   ]
  },
  {
   "cell_type": "code",
   "execution_count": 3,
   "id": "23fee85f-c2f5-41a3-b7d5-197cb91598ae",
   "metadata": {},
   "outputs": [],
   "source": [
    "import numpy as np\n",
    "\n",
    "k_B = 1.380649e-23  # m^2 kg s^-2 K^-1\n",
    "h = 6.62607015e-34  # m^2 kg / s\n",
    "T = 298  # Temperature in Kelvin\n",
    "V = 0.022414  # m^3/mol\n",
    "N_A = 6.02214076e23  # Avogadro's number"
   ]
  },
  {
   "cell_type": "markdown",
   "id": "48386fbc-ce52-40aa-b892-4d7bf29a5c66",
   "metadata": {},
   "source": [
    "$$H_2+I_2\\rightarrow 2HI$$"
   ]
  },
  {
   "cell_type": "markdown",
   "id": "e4fb90aa-3dcb-4f30-8859-c594217c1ceb",
   "metadata": {},
   "source": [
    "### Molecular data"
   ]
  },
  {
   "cell_type": "code",
   "execution_count": 4,
   "id": "f0f296b4-8a6d-4a8a-a234-7ba35fb8ab0d",
   "metadata": {},
   "outputs": [],
   "source": [
    "# Molecular masses (kg per molecule)\n",
    "m_H2 = 2 * 1.008 / N_A\n",
    "m_I2 = 2 * 126.90447 / N_A\n",
    "m_HI = (1.008 + 126.90447) / N_A\n",
    "\n",
    "# Rotational partition function for linear molecules\n",
    "# Approximate rotational temperatures (K)\n",
    "Theta_rot_H2 = 85.4\n",
    "Theta_rot_I2 = 0.053\n",
    "Theta_rot_HI = 9.5\n",
    "\n",
    "# Vibrational partition function\n",
    "# Approximate vibrational temperatures (K)\n",
    "Theta_vib_H2 = 6100\n",
    "Theta_vib_I2 = 214\n",
    "Theta_vib_HI = 1300"
   ]
  },
  {
   "cell_type": "markdown",
   "id": "232b5752-2493-4a0a-b01e-df28210ee5fc",
   "metadata": {},
   "source": [
    "### Partition function calculation"
   ]
  },
  {
   "cell_type": "code",
   "execution_count": 2,
   "id": "43de36ae-1288-4682-bab7-17073b1db42d",
   "metadata": {},
   "outputs": [],
   "source": [
    "# Function to calculate the translational partition function\n",
    "def Z_trans(m, T, V):\n",
    "    return ((2 * np.pi * m * k_B * T) / h**2)**(3/2) * V\n",
    "\n",
    "def Z_rot(Theta_rot, T, sigma):\n",
    "    return T / (sigma * Theta_rot)\n",
    "\n",
    "def Z_vib(Theta_vib, T):\n",
    "    return 1 / (1 - np.exp(-Theta_vib / T))\n"
   ]
  }
 ],
 "metadata": {
  "kernelspec": {
   "display_name": "Python 3 (ipykernel)",
   "language": "python",
   "name": "python3"
  }
 },
 "nbformat": 4,
 "nbformat_minor": 5
}
