{
 "cells": [
  {
   "cell_type": "markdown",
   "metadata": {},
   "source": [
    "# Tutorial: Numpy simultions of 2D gas"
   ]
  },
  {
   "cell_type": "code",
   "execution_count": null,
   "metadata": {},
   "outputs": [],
   "source": [
    "import numpy as np\n",
    "import matplotlib.pyplot as plt\n",
    "import matplotlib.animation as animation\n",
    "from IPython.display import HTML"
   ]
  },
  {
   "cell_type": "code",
   "execution_count": null,
   "metadata": {},
   "outputs": [],
   "source": [
    "class GasSimulation:\n",
    "\n",
    "    def __init__(self, N=100, L=10.0, dt=0.01, radius=0.2, temperature=1.0, mass=1.0, steps=500):\n",
    "        \"\"\"Initialize simulation by specifiying: No of gas particles (N), Box dimensions (L), time-step (dt), radius, tempertauture, mass and simulation steps\"\"\"\n",
    "\n",
    "        self.N = N\n",
    "        self.L = L\n",
    "        self.dt = dt\n",
    "        self.radius = radius\n",
    "        self.temperature = temperature\n",
    "        self.mass = mass\n",
    "        self.steps = steps  # Total steps for simulation\n",
    "        \n",
    "        # Initialize positions on the left side\n",
    "        self.positions = np.column_stack((np.random.uniform(0, L/2, N), np.random.uniform(0, L, N)))\n",
    "        \n",
    "        # Initialize velocities using Maxwell-Boltzmann distribution\n",
    "        self.velocities = np.random.normal(0, np.sqrt(self.temperature / self.mass), (N, 2))\n",
    "\n",
    "        # Storage for post-processing\n",
    "        self.positions_history  = []\n",
    "        self.velocities_history = []\n",
    "\n",
    "    def update_positions(self):\n",
    "        \"\"\"Updates positions and handles wall collisions\"\"\"\n",
    "\n",
    "        self.positions += self.velocities * self.dt\n",
    "        \n",
    "        # Find particles that hit the left or right walls\n",
    "        wall_collisions = (self.positions - self.radius < 0) | (self.positions + self.radius > self.L)\n",
    "        \n",
    "        # Reverse velocity for colliding particles\n",
    "        self.velocities[wall_collisions] *= -1\n",
    "\n",
    "        # Keep positions inside the valid range\n",
    "        self.positions = np.clip(self.positions, self.radius, self.L - self.radius)\n",
    "\n",
    "    def run_simulation(self):\n",
    "        \"\"\"Runs the simulation and stores data for post-analysis\"\"\"\n",
    "        \n",
    "        for _ in range(self.steps):\n",
    "            \n",
    "            self.update_positions()\n",
    "            self.positions_history.append(self.positions.copy())\n",
    "            self.velocities_history.append(self.velocities.copy())"
   ]
  },
  {
   "cell_type": "code",
   "execution_count": null,
   "metadata": {},
   "outputs": [],
   "source": [
    "def animate_simulation(positions_history, L):\n",
    "\n",
    "    fig, ax = plt.subplots(figsize=(6,6))\n",
    "    ax.set_xlim(0, L)\n",
    "    ax.set_ylim(0, L)\n",
    "    scatter = ax.scatter([], [], s=20, c='blue', alpha=0.6)\n",
    "\n",
    "    def update(frame):\n",
    "        scatter.set_offsets(positions_history[frame])\n",
    "        return scatter,\n",
    "\n",
    "    ani = animation.FuncAnimation(fig, update, frames=len(positions_history), interval=20, blit=True)\n",
    "    \n",
    "    return HTML(ani.to_jshtml())"
   ]
  },
  {
   "cell_type": "code",
   "execution_count": null,
   "metadata": {},
   "outputs": [],
   "source": [
    "# Create and run simulation\n",
    "sim = GasSimulation(N=100, steps=500)\n",
    "sim.run_simulation()\n",
    "\n",
    "# Animate the simulation\n",
    "animate_simulation(sim.positions_history, sim.L)"
   ]
  },
  {
   "cell_type": "markdown",
   "metadata": {},
   "source": [
    "## Project 1: Plot velocity and particle distributions"
   ]
  },
  {
   "cell_type": "code",
   "execution_count": null,
   "metadata": {},
   "outputs": [],
   "source": [
    "#plot_speed_distribution(sim.velocities_history)\n",
    "#plot_position_heatmap(sim.positions_history)"
   ]
  },
  {
   "cell_type": "markdown",
   "metadata": {},
   "source": [
    "## Project 2: Implement elastic collisions between gas particles\n",
    "\n",
    "### 1. Conservation Laws\n",
    "\n",
    "When two particles collide elastically, both **momentum** and **kinetic energy** are conserved.\n",
    "\n",
    "#### **Momentum Conservation**\n",
    "$$\n",
    "m_1 v_{1,\\text{init}} + m_2 v_{2,\\text{init}} = m_1 v_{1,\\text{final}} + m_2 v_{2,\\text{final}}\n",
    "$$\n",
    "\n",
    "#### **Kinetic Energy Conservation**\n",
    "$$\n",
    "\\frac{1}{2} m_1 v_{1,\\text{init}}^2 + \\frac{1}{2} m_2 v_{2,\\text{init}}^2 = \\frac{1}{2} m_1 v_{1,\\text{final}}^2 + \\frac{1}{2} m_2 v_{2,\\text{final}}^2\n",
    "$$\n",
    "\n",
    "where:\n",
    "- $v_{1,\\text{init}}$, $v_{2,\\text{init}}$ are the initial speeds of particles 1 and 2.\n",
    "- $v_{1,\\text{final}}$, $v_{2,\\text{final}}$ are the final speeds after the collision.\n",
    "\n",
    "\n",
    "\n",
    "### 2. Collision Setup\n",
    "\n",
    "For two **colliding particles**, we define:\n",
    "\n",
    "- **Positions:** $ \\mathbf{r}_1, \\mathbf{r}_2 $\n",
    "- **Velocities (before collision):** $ \\mathbf{v}_{1,\\text{init}}, \\mathbf{v}_{2,\\text{init}} $\n",
    "- **Masses:** $ m_1, m_2 $\n",
    "\n",
    "The **relative velocity** between the two particles before the collision is:\n",
    "\n",
    "$$\n",
    "\\mathbf{v}_{\\text{rel}} = \\mathbf{v}_{1,\\text{init}} - \\mathbf{v}_{2,\\text{init}}\n",
    "$$\n",
    "\n",
    "The **unit vector along the collision axis** (the direction along the line joining the particle centers) is:\n",
    "\n",
    "$$\n",
    "\\hat{\\mathbf{r}} = \\frac{\\mathbf{r}_1 - \\mathbf{r}_2}{|\\mathbf{r}_1 - \\mathbf{r}_2|}\n",
    "$$\n",
    "\n",
    "\n",
    "\n",
    "### 3. Velocities After Collision\n",
    "\n",
    "After the collision, the velocity component **along the collision axis** changes, while the **perpendicular components remain unchanged**.\n",
    "\n",
    "Using **momentum** and **energy** conservation, the updated velocities are:\n",
    "\n",
    "$$\n",
    "\\mathbf{v}_{1,\\text{final}} = \\mathbf{v}_{1,\\text{init}} - \\frac{2 m_2}{m_1 + m_2} (\\mathbf{v}_{\\text{rel}} \\cdot \\hat{\\mathbf{r}}) \\hat{\\mathbf{r}}\n",
    "$$\n",
    "\n",
    "$$\n",
    "\\mathbf{v}_{2,\\text{final}} = \\mathbf{v}_{2,\\text{init}} + \\frac{2 m_1}{m_1 + m_2} (\\mathbf{v}_{\\text{rel}} \\cdot \\hat{\\mathbf{r}}) \\hat{\\mathbf{r}}\n",
    "$$\n",
    "\n",
    "where:\n",
    "- $ \\mathbf{v}_{\\text{rel}} \\cdot \\hat{\\mathbf{r}} $ is the projection of **relative velocity** along the collision axis.\n",
    "- Projection is **negative** when particles moving **towards each other** and positive if moving away from each other.\n",
    "- The prefactors $ \\frac{2 m_2}{m_1 + m_2} $ and $ \\frac{2 m_1}{m_1 + m_2} $ ensure **momentum and energy conservation**.\n",
    "\n",
    "\n"
   ]
  },
  {
   "cell_type": "markdown",
   "metadata": {},
   "source": [
    "### Need to update positions by checking for collisions"
   ]
  },
  {
   "cell_type": "markdown",
   "metadata": {},
   "source": [
    "```python\n",
    "        for i in range(self.N):\n",
    "            for j in range(i + 1, self.N):\n",
    "\n",
    "                r_rel = self.positions[i] - self.positions[j]    # Relative position\n",
    "                v_rel = self.velocities[i] - self.velocities[j]  # Relative velocity\n",
    "\n",
    "                dist = np.linalg.norm(r_rel)\n",
    "\n",
    "                if dist < 2 * self.radius:  # Collision condition\n",
    "                    # Fill out code\n",
    "                    # Ensure that particles moving towards each other and not away from each other to avoid extra computation\n",
    "\n",
    "\n",
    "```"
   ]
  }
 ],
 "metadata": {
  "language_info": {
   "name": "python"
  }
 },
 "nbformat": 4,
 "nbformat_minor": 2
}
