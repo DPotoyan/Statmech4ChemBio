{
 "cells": [
  {
   "attachments": {},
   "cell_type": "markdown",
   "metadata": {},
   "source": [
    "# Simulating Ethane"
   ]
  },
  {
   "cell_type": "code",
   "execution_count": null,
   "metadata": {},
   "outputs": [],
   "source": [
    "!pip install -q condacolab\n",
    "import condacolab\n",
    "condacolab.install()"
   ]
  },
  {
   "cell_type": "code",
   "execution_count": null,
   "metadata": {},
   "outputs": [],
   "source": [
    "%%capture\n",
    "!conda install -c conda-forge openmm mdtraj parmed\n",
    "!pip install py3dmol "
   ]
  },
  {
   "cell_type": "code",
   "execution_count": null,
   "metadata": {},
   "outputs": [],
   "source": [
    "import parmed\n",
    "import mdtraj as md\n",
    "import py3Dmol\n",
    "import numpy as np\n",
    "import pandas as pd\n",
    "import matplotlib.pyplot as plt\n",
    "\n",
    "\n",
    "import openmm as mm\n",
    "from   openmm import app\n",
    "from   openmm.unit import * "
   ]
  },
  {
   "attachments": {},
   "cell_type": "markdown",
   "metadata": {},
   "source": [
    "### Structure + topology file"
   ]
  },
  {
   "attachments": {},
   "cell_type": "markdown",
   "metadata": {},
   "source": [
    "```\n",
    "ATOM      1  C1  ETH     1      -3.553   2.382   0.000  1.00  0.00           C  \n",
    "ATOM      2  H11 ETH     1      -3.940   1.922   0.912  1.00  0.00           H  \n",
    "ATOM      3  H12 ETH     1      -3.941   1.831  -0.859  1.00  0.00           H  \n",
    "ATOM      4  H13 ETH     1      -3.919   3.410  -0.053  1.00  0.00           H  \n",
    "ATOM      5  C2  ETH     1      -2.016   2.361   0.000  1.00  0.00           C  \n",
    "ATOM      6  H21 ETH     1      -1.649   1.333   0.053  1.00  0.00           H  \n",
    "ATOM      7  H22 ETH     1      -1.627   2.912   0.859  1.00  0.00           H  \n",
    "ATOM      8  H23 ETH     1      -1.629   2.821  -0.912  1.00  0.00           H  \n",
    "CONECT    1    3    4    5    2                                       \n",
    "CONECT    2    1                                                      \n",
    "CONECT    3    1                                                      \n",
    "CONECT    4    1                                                      \n",
    "CONECT    5    8    1    6    7                                       \n",
    "CONECT    6    5                                                      \n",
    "CONECT    7    5                                                      \n",
    "CONECT    8    5                                                      \n",
    "MASTER        0    0    0    0    0    0    0    0    8    0    8    0\n",
    "END\n",
    "```"
   ]
  },
  {
   "attachments": {},
   "cell_type": "markdown",
   "metadata": {},
   "source": [
    "### Forcefield file"
   ]
  },
  {
   "attachments": {},
   "cell_type": "markdown",
   "metadata": {},
   "source": [
    "```\n",
    "<ForceField>\n",
    " <AtomTypes>\n",
    "  <Type name=\"0\" class=\"c3\" element=\"C\" mass=\"12.01078\"/>\n",
    "  <Type name=\"1\" class=\"hc\" element=\"H\" mass=\"1.007947\"/>\n",
    " </AtomTypes>\n",
    " <Residues>\n",
    "  <Residue name=\"ETH\">\n",
    "   <Atom name=\"C1\" type=\"0\"/>\n",
    "   <Atom name=\"H11\" type=\"1\"/>\n",
    "   <Atom name=\"H12\" type=\"1\"/>\n",
    "   <Atom name=\"H13\" type=\"1\"/>\n",
    "   <Atom name=\"C2\" type=\"0\"/>\n",
    "   <Atom name=\"H21\" type=\"1\"/>\n",
    "   <Atom name=\"H22\" type=\"1\"/>\n",
    "   <Atom name=\"H23\" type=\"1\"/>\n",
    "   <Bond atomName1=\"C1\" atomName2=\"H11\"/>\n",
    "   <Bond atomName1=\"C1\" atomName2=\"H12\"/>\n",
    "   <Bond atomName1=\"C1\" atomName2=\"H13\"/>\n",
    "   <Bond atomName1=\"C1\" atomName2=\"C2\"/>\n",
    "   <Bond atomName1=\"C2\" atomName2=\"H21\"/>\n",
    "   <Bond atomName1=\"C2\" atomName2=\"H22\"/>\n",
    "   <Bond atomName1=\"C2\" atomName2=\"H23\"/>\n",
    "  </Residue>\n",
    " </Residues>\n",
    " <HarmonicBondForce>\n",
    "  <Bond class1=\"c3\" class2=\"c3\" length=\"0.15380\" k=\"1945727.36\"/>\n",
    "  <Bond class1=\"c3\" class2=\"hc\" length=\"0.10970\" k=\"3145687.56\"/>\n",
    " </HarmonicBondForce>\n",
    " <HarmonicAngleForce>\n",
    "  <Angle class1=\"c3\" class2=\"c3\" class3=\"hc\" angle=\"1.91637152\" k=\"391.756288\"/>\n",
    "  <Angle class1=\"hc\" class2=\"c3\" class3=\"hc\" angle=\"1.87762521\" k=\"326.01728\"/>\n",
    " </HarmonicAngleForce>\n",
    " <PeriodicTorsionForce>\n",
    "  <Proper class1=\"hc\" class2=\"c3\" class3=\"c3\" class4=\"hc\" periodicity1=\"3\" phase1=\"0.0\" k1=\"0.50208\"/>\n",
    " </PeriodicTorsionForce>\n",
    " <NonbondedForce coulomb14scale=\"0.833333\" lj14scale=\"0.5\">\n",
    "  <Atom type=\"0\" charge=\"-0.094100\" sigma=\"0.3397710\" epsilon=\"0.4510352\"/>\n",
    "  <Atom type=\"1\" charge=\"0.031700\" sigma=\"0.2600177\" epsilon=\"0.0870272\"/>\n",
    " </NonbondedForce>\n",
    "</ForceField>\n",
    "```"
   ]
  },
  {
   "attachments": {},
   "cell_type": "markdown",
   "metadata": {},
   "source": [
    "### Creating system from structure and forcefield files"
   ]
  },
  {
   "cell_type": "code",
   "execution_count": null,
   "metadata": {},
   "outputs": [],
   "source": [
    "pdb        = app.PDBFile('ethane.pdb')\n",
    "forcefield = app.ForceField('ethane.xml')"
   ]
  },
  {
   "cell_type": "code",
   "execution_count": null,
   "metadata": {},
   "outputs": [],
   "source": [
    "system = forcefield.createSystem(pdb.topology, nonbondedMethod=app.NoCutoff, constraints=app.HBonds)"
   ]
  },
  {
   "cell_type": "code",
   "execution_count": null,
   "metadata": {},
   "outputs": [],
   "source": [
    "integrator = mm.LangevinIntegrator(298.15*kelvin, 5.0/picoseconds, 2.0*femtoseconds)\n",
    "integrator.setConstraintTolerance(1e-5)\n",
    "\n",
    "simulation = app.Simulation(pdb.topology, system, integrator)\n",
    "simulation.context.setPositions(pdb.positions)"
   ]
  },
  {
   "cell_type": "code",
   "execution_count": null,
   "metadata": {},
   "outputs": [],
   "source": [
    "print('Minimizing...')\n",
    "\n",
    "st = simulation.context.getState(getPositions=True,getEnergy=True)\n",
    "print(f\"Potential energy before minimization is {st.getPotentialEnergy()}\")\n",
    "\n",
    "simulation.minimizeEnergy(maxIterations=100)\n",
    "\n",
    "st = simulation.context.getState(getPositions=True,getEnergy=True)\n",
    "print(f\"Potential energy after minimization is {st.getPotentialEnergy()}\")\n",
    "\n",
    "\n",
    "print('Equilibration...')\n",
    "from sys import stdout\n",
    "\n",
    "simulation.reporters.append(app.StateDataReporter(stdout, 100, step=True, \n",
    "    potentialEnergy=True, temperature=True, separator=','))\n",
    "simulation.context.setVelocitiesToTemperature(150.0*kelvin)\n",
    "simulation.step(2500)"
   ]
  },
  {
   "attachments": {},
   "cell_type": "markdown",
   "metadata": {},
   "source": [
    "### Production run"
   ]
  },
  {
   "cell_type": "code",
   "execution_count": null,
   "metadata": {},
   "outputs": [],
   "source": [
    "import time as time\n",
    "\n",
    "print('Running Production...')\n",
    "\n",
    "# Begin timer\n",
    "tinit=time.time()\n",
    "\n",
    "# Clear simulation reporters\n",
    "simulation.reporters.clear()\n",
    "\n",
    "# Reinitialize simulation reporters. We do this because we want different information printed from the production run than the equilibration run.\n",
    "# output basic simulation information below every 250000 steps - (which is equal to 2 fs(250,000) = 500,000 fs = 500 ps)\n",
    "simulation.reporters.append(app.StateDataReporter(stdout, \n",
    "                                                  250000, \n",
    "                                                  step=True, \n",
    "                                                  time=True, \n",
    "                                                  potentialEnergy=True, \n",
    "                                                  temperature=True, \n",
    "                                                  speed=True, \n",
    "                                                  separator=','))\n",
    "\n",
    "# write out a trajectory (i.e., coordinates vs. time) to a DCD\n",
    "# file every 100 steps - 0.2 ps\n",
    "simulation.reporters.append(app.DCDReporter('ethane_sim.dcd', 100))\n",
    "\n",
    "# run the simulation for 1.0x10^7 steps - 20 ns\n",
    "simulation.step(10000000)\n",
    "\n",
    "# End timer\n",
    "tfinal=time.time()\n",
    "print('Done!')\n",
    "print('Time required for simulation:', tfinal-tinit, 'seconds')"
   ]
  },
  {
   "attachments": {},
   "cell_type": "markdown",
   "metadata": {},
   "source": [
    "### Analysis"
   ]
  },
  {
   "cell_type": "code",
   "execution_count": null,
   "metadata": {},
   "outputs": [],
   "source": [
    "traj = md.load('ethane_sim.dcd', top='ethane.pdb')"
   ]
  },
  {
   "cell_type": "code",
   "execution_count": null,
   "metadata": {},
   "outputs": [],
   "source": [
    "atoms, bonds = traj.topology.to_dataframe()\n",
    "atoms"
   ]
  },
  {
   "cell_type": "code",
   "execution_count": null,
   "metadata": {},
   "outputs": [],
   "source": [
    "bond_indices = [0, 4] # atoms to define the bond length\n",
    "bond_length = md.compute_distances(traj, [bond_indices])"
   ]
  },
  {
   "cell_type": "code",
   "execution_count": null,
   "metadata": {},
   "outputs": [],
   "source": [
    "\n",
    "bondcounts, binedges, otherstuff = plt.hist(bond_length, bins=120)\n",
    "plt.title('C-C bond length histogram')\n",
    "plt.xlabel('Bond length (nm)')\n",
    "plt.ylabel('Counts')\n",
    "plt.show()"
   ]
  },
  {
   "cell_type": "code",
   "execution_count": null,
   "metadata": {},
   "outputs": [],
   "source": [
    "phi_indices = [1, 0, 4, 5] # atoms to define the torsion angle\n",
    "phi = md.compute_dihedrals(traj, [phi_indices])\n",
    "\n",
    "phicounts, phi_binedges, otherstuff = plt.hist(phi, bins=90) # create a histogram with 90 bins\n",
    "plt.title('H-C-C-H torsion angle')\n",
    "plt.xlabel(r'$\\phi$ (rad)')\n",
    "plt.ylabel('Counts')"
   ]
  },
  {
   "attachments": {},
   "cell_type": "markdown",
   "metadata": {},
   "source": [
    "#### Potential of Mean Force (PMF)\n",
    "\n",
    "So far in our analysis, we have looked at the distribution of bond lengths and torsion angles for ethane. However, we can also use our simulations to calculate thermodynamics properties of our system. For example, we can use our calculated distributions along with Boltzmann's constant to calculate the potential of mean force (pmf), or energy change associated with changes in the bond length or torsion angle.\n",
    "\n",
    "The potential of mean force is defined by the expression\n",
    "\n",
    "$$ W(x) = -k_{B}T*ln[p(x)] + C $$\n",
    "\n",
    "where $$p(x)$$ is the probability, or the histogram we calculated previously.\n",
    "\n",
    "For our torsion angle, we can calculate and plot the PMF:"
   ]
  },
  {
   "cell_type": "code",
   "execution_count": null,
   "metadata": {},
   "outputs": [],
   "source": [
    "kB = 8.31446/1000 # Boltzmann constant in kJ/mol\n",
    "Temp = 298.15 # simulation temperature\n",
    "phicounts[phicounts==0] = 0.1 # get rid of any bins with 0 counts/infinite energy\n",
    "pmf = -kB*Temp*np.log(phicounts) # W(x) = -kT*ln[p(x)] = -kT*ln[n(x)] + C\n",
    "pmf = pmf - np.min(pmf) # subtract off minimum value so that energies start from 0\n",
    "\n",
    "phi_bincenters = (phi_binedges[1:] + phi_binedges[:-1])/2 # compute centers of histogram bins\n",
    "\n",
    "plt.plot(phi_bincenters, pmf)\n",
    "plt.title('H-C-C-H torsion pmf')\n",
    "plt.xlabel(r'$\\phi$ (rad)')\n",
    "plt.ylabel('Relative free energy (kJ/mol)')"
   ]
  }
 ],
 "metadata": {
  "kernelspec": {
   "display_name": "Python 3 (ipykernel)",
   "language": "python",
   "name": "python3"
  }
 },
 "nbformat": 4,
 "nbformat_minor": 4
}
