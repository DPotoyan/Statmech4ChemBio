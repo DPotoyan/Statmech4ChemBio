{
 "cells": [
  {
   "cell_type": "code",
   "execution_count": 2,
   "metadata": {},
   "outputs": [],
   "source": [
    "%matplotlib inline\n",
    "%config InlineBackend.figure_format = 'retina'\n",
    "\n",
    "from ipywidgets import widgets\n",
    "import matplotlib.pyplot as plt\n",
    "import numpy as np\n",
    "import scipy as sci\n",
    "import seaborn as sns"
   ]
  },
  {
   "cell_type": "markdown",
   "metadata": {},
   "source": [
    "### Random walk and MC problems. \n",
    "\n",
    "<br>\n",
    "\n",
    "- Simulate 1D random walk for 10000 stepts and estimate the find the percentage of times random walker returns to the origin. Calculate how variance in return times decreases as a function of number simulated traejctories. \n",
    "<br>\n",
    "\n",
    "- Write a code for caclulating the shortest mean time (alsow known as mean passage time) for random walker exits the a circle of Radisu R give N number of steps and diffusion coefficeint $D=1$ for continuus space random walk.   \n",
    "<br>\n",
    "\n",
    "- Evaluate integral of function $f(x) = (x^4-x^3+x)e^{-x}$ on an interval from 0 to 1 and from 5 to 10."
   ]
  },
  {
   "cell_type": "markdown",
   "metadata": {},
   "source": [
    "### Limit theorems\n",
    "\n",
    "- Show that sum of posison distributed random variables converges to gaussian distribution. \n",
    "<br>\n",
    "\n",
    "- What happens when combining N poisson and N unfirm numbers?"
   ]
  },
  {
   "cell_type": "markdown",
   "metadata": {},
   "source": [
    "###  $NVT-NVE-\\mu V T$ \n",
    "\n",
    "- Consider a three level single particle system with five microstates with energies 0, ε, ε, ε, and 2ε. What is $\\Omega(\\epsilon n)$  n=0,1,2 for this system? What is the mean energy of the system if is in equilibrium with a heat bath at temperature T ?\n",
    "\n",
    "- Derive an expression for the chemical potential of an ideal gas using clssical mechanics model for energy $E=\\frac{p^2}{2m}$ in the NVT ensemble.\n",
    "\n",
    "- Consider a system in equilibrium with a heat bath at temperature $T$ and a particle reservoir at chemical potential $\\mu$. The system has a minimum of one particle and a maximum of four distinguishable particles. The particles in the system do not interact and can be in one of two states with energies zero or $\\Delta$. Determine the (grand) partition function of the system.\n",
    "\n",
    "- Combine the Gibbs formula of Entropy $S=-k_B \\sum_i p_i log p_i$ with the Grand canonical prbability distribution $P(E_i,N_i)=\\frac{e^{-\\beta E_i+\\mu N_i}}{\\Xi}$ to show that $\\beta PV=log \\Xi$<br>\n",
    "\n",
    "- Derive partition function for a pressure ensemble $(T, p, N)$ and show its connection with microcanonical ensemble $N V E$"
   ]
  },
  {
   "cell_type": "markdown",
   "metadata": {},
   "source": [
    "### Plotting thermodynamic relationships for a two level system \n",
    "\n",
    "Let us consider the porblem of N independent particles with two levels again.\n",
    "\n",
    "- Plot $S(U)$ comment on beahviour of entropy is it increasing decresing, staying the same with U. What does this imply for T\n",
    "\n",
    "- Plot $E(T)$ \n",
    "\n",
    "- Plot $C_v(T)$"
   ]
  }
 ],
 "metadata": {
  "kernelspec": {
   "display_name": "Python 3",
   "language": "python",
   "name": "python3"
  },
  "language_info": {
   "codemirror_mode": {
    "name": "ipython",
    "version": 3
   },
   "file_extension": ".py",
   "mimetype": "text/x-python",
   "name": "python",
   "nbconvert_exporter": "python",
   "pygments_lexer": "ipython3",
   "version": "3.6.7"
  },
  "toc": {
   "base_numbering": 1,
   "nav_menu": {},
   "number_sections": true,
   "sideBar": true,
   "skip_h1_title": false,
   "title_cell": "Table of Contents",
   "title_sidebar": "Contents",
   "toc_cell": false,
   "toc_position": {},
   "toc_section_display": true,
   "toc_window_display": false
  }
 },
 "nbformat": 4,
 "nbformat_minor": 2
}
