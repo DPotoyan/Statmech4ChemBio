{
 "cells": [
  {
   "cell_type": "markdown",
   "metadata": {},
   "source": [
    "# NVT"
   ]
  },
  {
   "cell_type": "code",
   "execution_count": 3,
   "metadata": {},
   "outputs": [],
   "source": [
    "%matplotlib inline\n",
    "%config InlineBackend.figure_format = 'retina'\n",
    "\n",
    "from ipywidgets import widgets\n",
    "import matplotlib.pyplot as plt\n",
    "import numpy as np\n",
    "import scipy as sci\n",
    "import seaborn as sns"
   ]
  },
  {
   "cell_type": "markdown",
   "metadata": {
    "slideshow": {
     "slide_type": "slide"
    }
   },
   "source": [
    "### $NVE \\rightarrow NVT$ by releasing E=const constraint to get $T=const$\n",
    "\n",
    "In the NVT ensemble system samples different $E_i$ consistent with T=const constraint imposed by putting system in contact with infinitely large reservoir. \n",
    "\n",
    "$$E_{tot} = E_r + E_i$$\n",
    "\n",
    "\n",
    "$$\\Omega_{tot}(E_{tot}) = \\sum_i \\Omega_r(E_{tot}-E_i) \\cdot \\Omega(E_i)$$"
   ]
  },
  {
   "cell_type": "markdown",
   "metadata": {
    "slideshow": {
     "slide_type": "slide"
    }
   },
   "source": [
    "### NVT Ensemble"
   ]
  },
  {
   "cell_type": "markdown",
   "metadata": {
    "slideshow": {
     "slide_type": "fragment"
    }
   },
   "source": [
    "Let us single out one micro-state $E_i$ of our system $\\Omega(E_i) =1$ and see what would be its probability in NVT ensemble.\n",
    "\n",
    "$$p_i = \\frac{\\Omega_r(E_{tot}-E_i)}{\\Omega_{tot} (E_{tot})} = \\frac{e^{S_r(E_{tot}-E_i)/k_B}}{e^{S_{tot}(E)/k_B}}$$\n",
    "\n",
    "Where we have used use the microcanonical ensemble of **system+reservoir** to cast the problem in terms of probabilities of **the system**."
   ]
  },
  {
   "cell_type": "markdown",
   "metadata": {
    "slideshow": {
     "slide_type": "slide"
    }
   },
   "source": [
    "### Derivation- 1 (quick n' dirty) \n",
    "\n",
    "Since entropy is a smoothly varying function of energy we can expand it around $E_{tot}$ as $E_i$ is a much smaller quantity.\n",
    "\n",
    "$$S_r(E_{tot}) \\approx S_r(E_{tot}) - \\Big( \\frac{\\partial S_r(E)}{\\partial E}\\Big) E_i = S_r(E_{tot}) -\\frac{E_i}{T}$$\n",
    "\n",
    "This leads to $$p_i \\sim e^{-\\beta E_i}\\,\\,\\,\\, where \\,\\,\\,\\,\\beta = \\frac{1}{k_B T}$$ after normalizing we obtain:\n",
    "\n",
    "$$ p_i = \\frac{e^{-\\beta E_i}}{Z}\\,\\,\\,\\,\\, Z= \\sum_i e^{-\\beta E_i}$$"
   ]
  },
  {
   "cell_type": "markdown",
   "metadata": {
    "slideshow": {
     "slide_type": "slide"
    }
   },
   "source": [
    "### Derivation- 2 (clean n' insightful)\n",
    "\n",
    "A more revealing is the expansion around system's average energy $U = \\sum_i p_i E_i$ which has small fluctuations around it $U - E_i = \\delta E_i \\sim O(N^{1/2})$:\n",
    "\n",
    "\n",
    "   - **Entropy of reservoir**\n",
    "$$S_r(E_{tot}-E_i) = S_r(E_{tot}-U + U-E_i) \\approx S_r(E_{tot}-U) +\\Big( \\frac{\\partial S_r(E)}{\\partial E}\\Big) (U-E_i)=  S_r(E_{tot}-U) +\\frac{1}{T}(U-E_i)$$\n",
    "\n",
    "<br>\n",
    "\n",
    "   - **Entropy of total system.**\n",
    "$$ S_{tot}(E_{tot}) = S_r(E_{tot}-U)+S(U)$$\n",
    "\n",
    "<br>\n",
    "\n",
    "$$p_i =\\frac{e^{S_r(E_{tot}-E_i)/k_B}}{e^{S_{tot}(E_{tot})/k_B}} = \\frac{e^{S_r(E_{tot}-U)/k_B}e^{-\\beta (U-E_i)}}{e^{S_r(E_{tot}-U)/k_B} e^{S(U)/k_B}} = \\frac{e^{-\\beta E_i}}{e^{-\\beta F}}$$"
   ]
  },
  {
   "cell_type": "markdown",
   "metadata": {
    "slideshow": {
     "slide_type": "slide"
    }
   },
   "source": [
    "#### Boltzmann distribution\n",
    "$$\\boxed{p_i = \\frac{e^{-E_i/k_B T}}{Z}}$$\n",
    "\n",
    "#### Partiation Function\n",
    "\n",
    "$$\\boxed{Z = \\sum_i E^{-\\beta E_i}}$$ \n",
    "\n",
    "#### Free Energy \n",
    "\n",
    "$$\\boxed{Z = e^{-{\\beta F}}} \\,\\,\\,\\,\\, \\boxed{F = -\\beta^{-1} log Z}$$"
   ]
  },
  {
   "cell_type": "markdown",
   "metadata": {
    "slideshow": {
     "slide_type": "slide"
    }
   },
   "source": [
    "### Closer look at the Z: The partiation function\n",
    "\n",
    "\n",
    "<br>\n",
    "$$\\boxed{Z(\\beta) = \\sum_i e^{-\\beta E_i} = \\int \\Omega(E) e^{-\\beta E}dE = \\int e^{-\\beta (E-TS)}dE }$$\n",
    "<br>\n",
    "\n",
    "- The parition function is \"partitioning\" or disirbuting (exponentially) the states of NVT ensemble with different energy levels/values:\n",
    "<br>\n",
    "\n",
    "- It can be seen that $Z$, the partition function of NVT is **Laplace Transform** of density of states of NVE. While connection between energy and free energy $F= E -TS$ is  via **Legendre Transform** \n",
    "<br>\n",
    "\n",
    "- $\\Omega(E)\\sim e^N$ rapidly increasing function with N eacsue of limit theorems: e.g the large deviation, central limit theorem, law of large numbers. \n",
    "<br>\n",
    "\n",
    "- $e^{-\\beta E}\\sim e^{-N}$ rapidly decreasing function with N\n",
    "\n",
    "- Thermodynamic limit $N, V\\rightarrow \\infty$ and $N/V \\rightarrow const$ only the region of energy survivies hat guarantees non-negligible contribution\n",
    "\n",
    "$$\\boxed{Z = \\int e^{-\\beta (E-TS)}dE \\approx e^{-\\beta(U-TS)} = e^{-\\beta F}}$$\n",
    "\n",
    "Where $U =\\langle E \\rangle$ is the thermodynamic average energy, flucutatins around which are on order of $O(N^{1/2})$"
   ]
  },
  {
   "cell_type": "code",
   "execution_count": 66,
   "metadata": {
    "slideshow": {
     "slide_type": "slide"
    }
   },
   "outputs": [],
   "source": [
    "N=np.linspace(1,10)\n",
    "\n",
    "omega = np.exp(2.0*N)\n",
    "\n",
    "p = np.exp(-2.5*N)"
   ]
  },
  {
   "cell_type": "code",
   "execution_count": 67,
   "metadata": {
    "slideshow": {
     "slide_type": "fragment"
    }
   },
   "outputs": [
    {
     "data": {
      "text/plain": [
       "[<matplotlib.lines.Line2D at 0x1170175f8>]"
      ]
     },
     "execution_count": 67,
     "metadata": {},
     "output_type": "execute_result"
    },
    {
     "data": {
      "image/png": "[encoded data removed]",
      "text/plain": [
       "<Figure size 432x288 with 3 Axes>"
      ]
     },
     "metadata": {
      "image/png": {
       "height": 248,
       "width": 378
      },
      "needs_background": "light"
     },
     "output_type": "display_data"
    }
   ],
   "source": [
    "fig,ax = plt.subplots(nrows=3,sharex=True)\n",
    "ax[0].plot(N,p)\n",
    "ax[1].plot(N,omega)\n",
    "ax[2].plot(N,omega*p)"
   ]
  },
  {
   "cell_type": "markdown",
   "metadata": {
    "slideshow": {
     "slide_type": "slide"
    }
   },
   "source": [
    "### Why free energy is a central quantity in the NVT ensemble.\n",
    "\n",
    "\n",
    ">As we have learned in Thermodynamics, after legendre transorming total energy the equilibrium corresponds to the minimum of the free energy.\n",
    "\n",
    "Now time to see how free energy governes probabilities in the NVT ensemble:\n",
    "\n",
    "$$p_1 =\\frac{\\Omega (E_1) e^{-\\beta E_1}}{Z} = \\frac{e^{-\\beta F_1}}{e^{-\\beta F}}$$\n",
    "\n",
    "Often we re interested in relative probabilities of different states, e.g conformation A vs B of polymer:\n",
    "\n",
    "$$\\frac{p_2}{p_1} = e^{-\\beta (F_2-F_1)} $$"
   ]
  },
  {
   "cell_type": "markdown",
   "metadata": {
    "slideshow": {
     "slide_type": "slide"
    }
   },
   "source": [
    "### logZ as cumulant generating function\n",
    "\n",
    "- **Moment generation function $M(k)$**\n",
    "\n",
    "$$M(k) = \\int f(x) e^{kx} dx = \\langle e^{kx} \\rangle$$\n",
    "\n",
    "$$M(k) = 1 +\\langle x \\rangle k + \\frac{1}{2!} \\langle x^2 \\rangle k^2 + ...$$\n",
    "\n",
    "- **Cumulant generation function $C(k)=log M(k)$:**\n",
    "\n",
    "$$C(k) = log \\langle e^{kx} \\rangle$$\n",
    "\n",
    "$$\\langle e^{kx} \\rangle = e^{C(k)} = e^{[1 +\\langle x \\rangle k + \\frac{1}{2!} \\langle x^2 \\rangle k^2 + ...]}= 1+\\kappa_1 k^2 +\\kappa_2 k^2 + ...$$\n",
    "\n",
    "First two cumulants are mean and fluctuation!\n",
    "\n",
    "1. $k_1 = \\langle x \\rangle$\n",
    "\n",
    "2. $k_2 = \\langle (x-\\langle x \\rangle)^2 \\rangle$ "
   ]
  },
  {
   "cell_type": "markdown",
   "metadata": {
    "slideshow": {
     "slide_type": "slide"
    }
   },
   "source": [
    "### Energy fluctuations\n",
    "\n",
    "$$\\langle E \\rangle = \\frac{\\partial log Z}{\\partial (-\\beta)}$$\n",
    "\n",
    "$$\\sigma^2_E = \\frac{\\partial^2 log Z}{\\partial \\beta^2} = -\\frac{\\partial \\langle E \\rangle}{\\partial \\beta} = k_BT^2 C_v$$\n",
    "\n",
    "$$\\frac{\\sigma_E}{\\langle E\\rangle} = \\frac{(k_BT^2 C_v)^{1/2}}{\\langle E\\rangle}\\sim O(N^{-1/2})$$"
   ]
  },
  {
   "cell_type": "markdown",
   "metadata": {},
   "source": [
    "## Applications of NVT"
   ]
  },
  {
   "cell_type": "markdown",
   "metadata": {
    "slideshow": {
     "slide_type": "slide"
    }
   },
   "source": [
    "### Two state model: NVE vs NVT "
   ]
  },
  {
   "cell_type": "markdown",
   "metadata": {
    "slideshow": {
     "slide_type": "fragment"
    }
   },
   "source": [
    "Let us consider simple two level system where lower level $\\epsilon_0 = 0$ and upper level $\\epsilon_1 =\\epsilon$. We will now use $NVE$ ensemble to obtian thermodynamic quantities $(S, T, C_v)$ and then obtain same quantities with $NVT$.\n",
    "\n",
    "$$E = n\\epsilon$$\n",
    "\n",
    "$$\\Omega(E) = \\frac{N!}{(N-n)! n!}$$\n",
    "\n",
    "$$S = k_B log \\Omega(E) = N k_B \\Big [- \\frac{n}{N}log \\frac{n}{N} - \\frac{N-n}{N}log \\frac{N-n}{N} \\Big]$$\n",
    "\n",
    "$$\\frac{1}{T} = \\frac{\\partial S(E)}{\\partial E} =  \\frac{k_B}{\\epsilon}\\frac{\\partial log\\Omega(n)}{\\partial  n} = \\frac{k_B}{\\epsilon}log \\frac{N-n}{N}$$\n",
    "\n",
    "$$\\frac{n}{N} = \\frac{1}{1+e^{\\beta \\epsilon}}$$\n",
    "\n",
    "$$E = n\\epsilon = \\frac{N\\epsilon}{1+e^{\\beta \\epsilon}}$$"
   ]
  },
  {
   "cell_type": "code",
   "execution_count": 64,
   "metadata": {
    "slideshow": {
     "slide_type": "slide"
    }
   },
   "outputs": [
    {
     "data": {
      "text/plain": [
       "[<matplotlib.lines.Line2D at 0x116c81828>]"
      ]
     },
     "execution_count": 64,
     "metadata": {},
     "output_type": "execute_result"
    },
    {
     "data": {
      "image/png": "[encoded data removed]",
      "text/plain": [
       "<Figure size 432x288 with 1 Axes>"
      ]
     },
     "metadata": {
      "image/png": {
       "height": 248,
       "width": 372
      },
      "needs_background": "light"
     },
     "output_type": "display_data"
    }
   ],
   "source": [
    "ee2 = lambda x,beta: 1/(1+np.exp(beta*x))\n",
    "\n",
    "x=np.linspace(0,10,1000)\n",
    "\n",
    "plt.plot(x, ee2(x,1))\n",
    "plt.plot(x, ee2(x,2))\n",
    "plt.plot(x, ee2(x,5))\n",
    "plt.plot(x, ee2(x,10))"
   ]
  },
  {
   "cell_type": "markdown",
   "metadata": {
    "slideshow": {
     "slide_type": "slide"
    }
   },
   "source": [
    "### Parition function decouples non-interacting terms in energy!\n",
    "\n",
    "<br>\n",
    "\n",
    "$$Z = \\sum^{n=N}_{n=0} e^{-\\beta E_n} =  \\Big (\\sum^{i=1}_{i=0} e^{-\\beta \\epsilon_i} \\Big)\\Big (\\sum^{i=1}_{i=0} e^{-\\beta \\epsilon_i} \\Big)...\\Big (\\sum^{i=1}_{i=0} e^{-\\beta \\epsilon_i} \\Big) = (1+e^{-\\beta \\epsilon})^N$$\n",
    "\n",
    "<br>\n",
    "\n",
    "$$F= -k_B T log Z = -k_BT N log(1+e^{-\\beta \\epsilon})$$\n",
    "\n",
    "<br>\n",
    "\n",
    "$$\\langle E \\rangle  = \\frac{\\partial log Z}{\\partial (-\\beta)} =  \\frac{N\\epsilon}{1+e^{\\beta \\epsilon}}$$"
   ]
  },
  {
   "cell_type": "markdown",
   "metadata": {
    "slideshow": {
     "slide_type": "slide"
    }
   },
   "source": [
    "### Non-interacting system\n",
    "\n",
    "For **distinguishable states**:\n",
    "\n",
    "$$Z = z^N$$\n",
    "\n",
    "For **indistinguishable states**:\n",
    "\n",
    "$$ Z = \\frac{1}{N!}z^N $$"
   ]
  },
  {
   "cell_type": "markdown",
   "metadata": {
    "slideshow": {
     "slide_type": "slide"
    }
   },
   "source": [
    "### Example-2: Ideal gas (classical)"
   ]
  },
  {
   "cell_type": "markdown",
   "metadata": {
    "slideshow": {
     "slide_type": "slide"
    }
   },
   "source": [
    "$$H(p^N, x^N) = K(p^N)  = \\sum^{i=N}_{i=1}\\frac{p^2_i}{2m}$$\n",
    "\n",
    "$$\\boxed{Z(\\beta) = \\frac{1}{h^{N} N!} \\int dp^N dx^N e^{-\\beta H(p^N,x^N)}}$$"
   ]
  },
  {
   "cell_type": "markdown",
   "metadata": {
    "slideshow": {
     "slide_type": "slide"
    }
   },
   "source": [
    "$$Z(\\beta) = \\frac{V^N}{h^{N} N!} \\Big [ \\int^{+\\infty}_{-\\infty} dp e^{-\\beta \\frac{p^2}{2m}}  \\Big ]^N = \\frac{V^N}{h^{N} N!} \\Big [ \\frac{2\\pi m}{\\beta} \\Big]^N  $$\n",
    "<br><br>\n",
    "\n",
    "$$F = -k_B T log Z \\approx -N k_B T log \\Big [log \\Big(\\frac{V}{N}\\Big)\\frac{1}{\\lambda^3} +1\\Big]$$\n",
    "<br><br>\n",
    "\n",
    "- Note linear dependence on N. Entropy is an extensive quantity!\n",
    "\n",
    "- exponent 3/2 reflexts that each particle has 3 degrees of freedom\n",
    "\n",
    "- $\\lambda = \\Big(\\frac{3h^2 N}{4\\pi m E}\\Big)^{1/2}$ thermal de Broglie wavelength."
   ]
  },
  {
   "cell_type": "markdown",
   "metadata": {
    "slideshow": {
     "slide_type": "slide"
    }
   },
   "source": [
    "- $$\\langle E \\rangle = \\frac{\\partial log Z}{\\partial (-\\beta)} = \\frac{3}{2}N k_B T$$\n",
    "<br><br>\n",
    "\n",
    "- $$p = -\\frac{\\partial F}{\\partial V} =\\frac{N k_B T}{V}$$\n",
    "<br><br>\n",
    "- $$S = \\frac{E-F}{T} = k_B N \\cdot  \\Big [ log \\Big(\\frac{V}{N \\lambda^3}\\Big) + \\frac{5}{2}\\Big]$$\n",
    "<br><br>\n",
    "\n",
    ">  Entropy of ideal gas is eactly the same expression as what we obtained in NVE! \n",
    ">  Thermodynamics is the same regardless of the ensemble used! Consequence of smallnes sof fluctuations."
   ]
  },
  {
   "cell_type": "markdown",
   "metadata": {
    "slideshow": {
     "slide_type": "slide"
    }
   },
   "source": [
    "### Ideal gas QM treatment (NVE vs NVT)\n",
    "\n",
    "![](./pib-states.png)\n",
    "\n",
    "$$\\frac{N}{V} \\ll \\lambda^{-3}$$\n",
    "\n",
    "$$E({\\bf n}) = \\frac{h^2}{8mL^2} {\\bf n^2}$$\n",
    "\n",
    "$$\\vec{k} = \\frac{\\pi}{L}(n_x,n_y,n_z) = \\frac{\\pi}{L} \\vec{n}$$\n",
    "\n",
    "$$ \\psi_{\\bf k}(k_,k_y,k_z) = sin k_x x \\cdot sin k_y y \\cdot sin k_z z$$"
   ]
  },
  {
   "cell_type": "markdown",
   "metadata": {
    "slideshow": {
     "slide_type": "slide"
    }
   },
   "source": [
    "$$\\sum_{n-sphere} 1  = \\int_{k-sphere} d k$$"
   ]
  },
  {
   "cell_type": "markdown",
   "metadata": {
    "slideshow": {
     "slide_type": "slide"
    }
   },
   "source": [
    "### Harmonic oscillator model\n",
    "\n",
    "$$E_n = \\hbar \\omega (n+1/2)$$\n",
    "\n",
    "$$z = \\sum^{n=+\\infty}_{n=0} = e^{-\\frac{1}{2}\\beta \\hbar \\omega} (1 + e^{-\\beta\\hbar\\omega}+e^{-2\\beta\\hbar\\omega}+...) = \\frac{e^{-\\frac{1}{2}\\beta \\hbar \\omega}}{1-e^{-\\beta\\hbar\\omega}}$$\n",
    "\n",
    "$$Z = z^N$$"
   ]
  },
  {
   "cell_type": "markdown",
   "metadata": {
    "slideshow": {
     "slide_type": "slide"
    }
   },
   "source": [
    "$$E = \\frac{\\partial log Z}{\\partial (-\\beta)} = N\\hbar \\omega \\Big(\\frac{1}{2}+ \\frac{1}{1+e^{\\beta\\hbar\\omega}} \\Big) $$\n",
    "\n",
    "- When $T \\rightarrow 0$ we are left with zero point energies $E \\rightarrow \\frac{N \\hbar \\omega}{2}$\n",
    "\n",
    "- When $T \\rightarrow \\infty$ we get equipartion of energy! $E \\rightarrow \\frac{3}{2} N k_B T$"
   ]
  },
  {
   "cell_type": "markdown",
   "metadata": {
    "slideshow": {
     "slide_type": "slide"
    }
   },
   "source": [
    "### Rigid rotor model \n",
    "\n",
    "$$E = \\frac{\\hbar^2}{2I} J (J+1) $$\n",
    "\n",
    "$$Z \\approx \\int^{J=\\infty}_{J=0} (2J+1)e^{-\\Big[\\beta \\frac{\\hbar^2}{2I} J (J+1)\\Big]}\\approx \\frac{T}{\\theta_{rot}}$$\n",
    "\n",
    "- Where $\\theta_{rot} = \\frac{\\hbar^2}{2 I_0 k_B}$ is called rotational temperature. "
   ]
  },
  {
   "cell_type": "markdown",
   "metadata": {
    "slideshow": {
     "slide_type": "slide"
    }
   },
   "source": [
    "### Partition function for a molecular gas\n",
    "\n",
    "<br>\n",
    "\n",
    "$$E = E_{transl}+E_{vib}+E_{rot}+E_{elec} $$\n",
    "\n",
    "<br>\n",
    "\n",
    "$$Z = Z_{transl} Z_{vib} Z_{rot} Z_{elec} $$\n",
    "\n",
    "> $\\frac{1}{N!}$ must go inside $Z_{tranls}$ to account for indistinguishability"
   ]
  },
  {
   "cell_type": "markdown",
   "metadata": {
    "slideshow": {
     "slide_type": "slide"
    }
   },
   "source": [
    "## Digression:  Boltzman's original derivation "
   ]
  },
  {
   "cell_type": "markdown",
   "metadata": {
    "slideshow": {
     "slide_type": "slide"
    }
   },
   "source": [
    "Boltzmann's original derivation of canonical distirbution proceeds in a slightly different manner and it is worth discussing in some detail. The starting point is the fact that under $NVT$ system is in equilibrium with some average energy $U$ over the esnemble of states. That is in the ensemble of N memebers, $n_1$ members are in E_1, $n_2$ in $E_2$, ... $n_k$ in $E_k$. We realize that individual members of ensemble have different energies, but the fluctuations around the average $U$ are expected to be very small $O(N^{1/2})$. Hence we would like to find the peak of the distirbution, that is most likely distribution of average energy among members of ensemble ${n_1, n_2, ... n_k}$ given the constant number of particles $N$ average energy $U$. Thus we formulate the problem as **constraint optimization problem** with the following constraints:\n",
    "\n",
    "$$\\sum_{k} n_{k}=N$$\n",
    "\n",
    "$$ \\sum_k n_k E_k = N U$$"
   ]
  },
  {
   "cell_type": "markdown",
   "metadata": {
    "slideshow": {
     "slide_type": "slide"
    }
   },
   "source": [
    "Recall that we every configuration in the $NVE$ ensemble is equally likely. Therefore the set of ${n_1,n_2,...}$that maximizes $\\Omega(U)$ is the most likely to occur. This is the eseence of Boltzmann's original derivation. \n",
    "\n",
    "$$\\Omega(U) = \\frac{N!}{n_1! n_2! n_3! ... }$$\n",
    "\n",
    "<br>\n",
    "\n",
    "$$log \\Omega(U) \\approx  NlogN -\\sum_k n_k log n_k = N \\Big[ -\\sum_k \\frac{n_k}{N}log\\frac{n_k}{N} \\Big] = \\frac{1}{k_B}S(U)$$\n",
    "\n",
    "Last equality, we will come to recognize as a general expression for the entropy (first derived by J W Gibbs)! Notice that it is an extensive quantity propotional to N where $p_i = \\frac{n_i}{N}$ can bee seen as probabilities of states in the ensemble.   \n",
    "\n",
    "$$\\boxed{S = -\\sum_i p_i log p_i}$$"
   ]
  },
  {
   "cell_type": "markdown",
   "metadata": {
    "slideshow": {
     "slide_type": "slide"
    }
   },
   "source": [
    "### Maximizing number of states with Lagrange multipliers"
   ]
  },
  {
   "cell_type": "markdown",
   "metadata": {
    "slideshow": {
     "slide_type": "slide"
    }
   },
   "source": [
    "Constrained optimization is done via Lagrange multipliers. Here we also threw away constant facotrs $NlogN$ keeping only terms dependening on $n_k$ explicitely. \n",
    "\n",
    "$$I(n_1, n_2,...n_k...) = -\\sum_k n_k log n_k - \\lambda_1 \\sum n_k -\\lambda_2 \\sum_k n_k E_k $$\n",
    "\n",
    "$$\\frac{\\partial }{\\partial n_k} I = 0  = -log n_k -\\lambda_1 -\\lambda_2 E_k$$\n",
    "\n",
    "$$n_k = e^{-(1+\\lambda_1)} e^{-\\lambda_2 E_k}$$\n",
    "\n",
    "After normalization we eliminate $\\lambda_1$ and identify $\\lambda_2$ with $\\beta =\\frac{1}{k_B T}$ which has units of inverse energy. \n",
    "\n",
    "$$ p_k = \\frac{n_k}{N} = \\frac{e^{-\\beta E_k}}{Z} $$"
   ]
  },
  {
   "cell_type": "markdown",
   "metadata": {
    "slideshow": {
     "slide_type": "slide"
    }
   },
   "source": [
    "## Systems where potential energy is not zero: Energy vs Entropy"
   ]
  },
  {
   "cell_type": "markdown",
   "metadata": {},
   "source": [
    "### Equipartition\n",
    "\n"
   ]
  },
  {
   "cell_type": "markdown",
   "metadata": {},
   "source": [
    "$$U(x) = U(x_0) +U^{'}(x-x_0) +\\frac{1}{2}U^{''}(x-x_0)^2 +...$$\n",
    "\n",
    "$$ U_{harm}(x) = U(x_0) +  \\frac{1}{2}U^{''}(x-x_0)^2 = U_0 + \\frac{1}{2}\\kappa (x-x_0)^2$$"
   ]
  },
  {
   "cell_type": "markdown",
   "metadata": {},
   "source": [
    "$$\\langle U \\rangle = \\int p(x) U(x) dx = \\frac{\\int U(x) e^{-\\beta U(x)}dx}{\\int e^{-\\beta U(x)}dx}$$\n",
    "\n",
    "$$U(x) = U_0 + \\frac{k_B T}{2}$$\n",
    "\n",
    "> Notice the spring constant does not figure in the average energy expression! "
   ]
  },
  {
   "cell_type": "markdown",
   "metadata": {
    "slideshow": {
     "slide_type": "slide"
    }
   },
   "source": [
    "### Grouping microstates into states"
   ]
  },
  {
   "cell_type": "markdown",
   "metadata": {
    "slideshow": {
     "slide_type": "fragment"
    }
   },
   "source": [
    "The word state is overloaded and is easilyt one of the more slippery defined concepts in physics/chemistry and biology. SO let us try to be more precise:\n",
    "\n",
    "- **A microstate, $i$:** a single frozen snapshot of atomic configurations (in CM). For instance instanenotus positions and momenta of all atoms in Ar gas. \n",
    "\n",
    "- **A state, $A$:** a collection (fairly large) of microstates. For instance open vs colsed states of a polymer."
   ]
  },
  {
   "cell_type": "markdown",
   "metadata": {
    "slideshow": {
     "slide_type": "slide"
    }
   },
   "source": [
    "### Relative populations of states\n",
    "\n",
    "Probabilities is what we observe experimentally. In a sense we can say that probability is the most objective thing we can know about a system. So let us reason in terms of probabilities as much as possible while treating entropies and free energies as utility quantieis for computing the probabilities "
   ]
  },
  {
   "cell_type": "markdown",
   "metadata": {
    "slideshow": {
     "slide_type": "fragment"
    }
   },
   "source": [
    "$$ \\frac{p_A}{p_B} = \\frac{\\int_{V_A} e^{-\\beta U(x)}}{\\int_{V_B} e^{-\\beta U(x)}} = \\frac{Z_A}{Z_B} = \\frac{e^{-\\beta F_A}}{e^{-\\beta F_B}}= exp(-\\beta \\Delta F)$$"
   ]
  },
  {
   "cell_type": "markdown",
   "metadata": {
    "slideshow": {
     "slide_type": "slide"
    }
   },
   "source": [
    "$$\\int_{V_A} e^{-\\beta U(x)} \\approx \\int^{+\\infty}_{-\\infty} e^{-\\beta \\big[ U^0_A+ \\frac{\\kappa_A}{2}(x-x_A)^2\\big]} = \\Big(\\frac{2\\pi k_B T}{\\kappa_A} \\Big)^{1/2} e^{-\\beta U^0_A}$$"
   ]
  },
  {
   "cell_type": "markdown",
   "metadata": {
    "slideshow": {
     "slide_type": "fragment"
    }
   },
   "source": [
    "$$\\frac{p_B}{p_A} = \\Big(\\frac{\\kappa_A}{\\kappa_B} \\Big)^{1/2} e^{-\\beta (U^0_B-U^0_A)}$$"
   ]
  },
  {
   "cell_type": "markdown",
   "metadata": {
    "slideshow": {
     "slide_type": "fragment"
    }
   },
   "source": [
    "$$F_A(T) = U_A -T S_A$$\n",
    "\n",
    "$$F_A(T) = -k_B T log Z_A = U^0_A -k_B T log \\frac{1}{V}\\Big(\\frac{2\\pi k_B T}{\\kappa_A} \\Big)^{1/2}$$"
   ]
  },
  {
   "cell_type": "markdown",
   "metadata": {
    "slideshow": {
     "slide_type": "slide"
    }
   },
   "source": [
    "### Protein folding problem with 1D potential\n",
    "\n",
    "As crazy as it sounds we can learn something about protein folding by using a simple 1D potential:\n",
    "\n",
    "![](./folding.png)"
   ]
  },
  {
   "cell_type": "code",
   "execution_count": 4,
   "metadata": {
    "slideshow": {
     "slide_type": "slide"
    }
   },
   "outputs": [],
   "source": [
    "def U_fold1D(ratio=1/25, deltaU=50, T=0.1):\n",
    "    \n",
    "    '''1D energy function, where\n",
    "    rationL: fraction of folded vs unfolded states (must be less than 1)\n",
    "    deltaU: energy difference between unfolded and folded states (must be positive) in units of kb = 1\n",
    "    T: temperature (must be possitive)\n",
    "    OUTPUT: x coordinate, U(x) potential, pf, pu\" fractions of folded and funfolded states respectively. \n",
    "    '''\n",
    "    assert np.any(T) > 0 \n",
    "    assert ratio < 1\n",
    "    assert deltaU > 0\n",
    "    \n",
    "    x = np.linspace(0,1,1000)\n",
    "    U = np.linspace(0,1,1000)\n",
    "    \n",
    "    U[x < ratio] = 0\n",
    "    U[x > ratio] = deltaU\n",
    "    \n",
    "    pf = ratio/(ratio+np.exp(-deltaU/T))\n",
    "    pu = 1 - pf\n",
    "    \n",
    "    U[0] = U[-1] = 100 # set end states to be high\n",
    "    \n",
    "    return x, U, pf, pu"
   ]
  },
  {
   "cell_type": "code",
   "execution_count": 5,
   "metadata": {
    "slideshow": {
     "slide_type": "slide"
    }
   },
   "outputs": [
    {
     "data": {
      "text/plain": [
       "Text(0, 0.5, '$p(x)$')"
      ]
     },
     "execution_count": 5,
     "metadata": {},
     "output_type": "execute_result"
    },
    {
     "data": {
      "image/png": "[encoded data removed]",
      "text/plain": [
       "<Figure size 432x288 with 2 Axes>"
      ]
     },
     "metadata": {
      "image/png": {
       "height": 261,
       "width": 389
      },
      "needs_background": "light"
     },
     "output_type": "display_data"
    }
   ],
   "source": [
    "x, u, pf, pu = U_fold1D()\n",
    "\n",
    "fig, ax  = plt.subplots(nrows=2)\n",
    "\n",
    "ax[0].plot(x,u, lw =3)\n",
    "ax[0].set_xlabel('$x$')\n",
    "ax[0].set_ylabel('$U(x)$')\n",
    "\n",
    "ax[1].plot(x,np.exp(-u), lw=3, color='orange')\n",
    "ax[1].set_xlabel('$x$')\n",
    "ax[1].set_ylabel('$p(x)$')"
   ]
  },
  {
   "cell_type": "code",
   "execution_count": 7,
   "metadata": {
    "slideshow": {
     "slide_type": "slide"
    }
   },
   "outputs": [
    {
     "data": {
      "text/plain": [
       "<matplotlib.legend.Legend at 0x114757518>"
      ]
     },
     "execution_count": 7,
     "metadata": {},
     "output_type": "execute_result"
    },
    {
     "data": {
      "image/png": "[encoded data removed]",
      "text/plain": [
       "<Figure size 432x288 with 1 Axes>"
      ]
     },
     "metadata": {
      "image/png": {
       "height": 266,
       "width": 390
      },
      "needs_background": "light"
     },
     "output_type": "display_data"
    }
   ],
   "source": [
    "T = np.linspace(0.1,100,1000)\n",
    "x, u, pf, pu = U_fold1D(T=T)\n",
    "\n",
    "plt.plot(T,pf,lw=3, color='green')\n",
    "plt.plot(T,pu,'--',lw=3, color='red')\n",
    "\n",
    "plt.xlabel('Temperature, T',fontsize=15)\n",
    "\n",
    "plt.ylabel('Fraction of (un)folded',fontsize=15)\n",
    "\n",
    "plt.legend(['folded','unfolded'],fontsize=15)"
   ]
  }
 ],
 "metadata": {
  "kernelspec": {
   "display_name": "Python 3",
   "language": "python",
   "name": "python3"
  },
  "language_info": {
   "codemirror_mode": {
    "name": "ipython",
    "version": 3
   },
   "file_extension": ".py",
   "mimetype": "text/x-python",
   "name": "python",
   "nbconvert_exporter": "python",
   "pygments_lexer": "ipython3",
   "version": "3.8.5"
  },
  "latex_envs": {
   "LaTeX_envs_menu_present": true,
   "autoclose": false,
   "autocomplete": true,
   "bibliofile": "biblio.bib",
   "cite_by": "apalike",
   "current_citInitial": 1,
   "eqLabelWithNumbers": true,
   "eqNumInitial": 1,
   "hotkeys": {
    "equation": "Ctrl-E",
    "itemize": "Ctrl-I"
   },
   "labels_anchors": false,
   "latex_user_defs": false,
   "report_style_numbering": false,
   "user_envs_cfg": false
  },
  "livereveal": {
   "theme": "sky"
  },
  "toc": {
   "base_numbering": 1,
   "nav_menu": {},
   "number_sections": true,
   "sideBar": true,
   "skip_h1_title": false,
   "title_cell": "Table of Contents",
   "title_sidebar": "Contents",
   "toc_cell": true,
   "toc_position": {},
   "toc_section_display": true,
   "toc_window_display": false
  }
 },
 "nbformat": 4,
 "nbformat_minor": 4
}
