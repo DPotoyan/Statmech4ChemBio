{
 "cells": [
  {
   "cell_type": "markdown",
   "metadata": {},
   "source": [
    "# Quantum non-interacting systems\n"
   ]
  },
  {
   "source": [
    "### Occupation number representaiton of energy\n",
    "\n",
    "$$E = \\sum_i n_i \\epsilon_i$$\n",
    "\n",
    "$$N = \\sum_i n_i$$"
   ],
   "cell_type": "markdown",
   "metadata": {}
  },
  {
   "source": [
    "### Grand canonical partiion function\n",
    "\n",
    "Evaluating partition functions in the occupation number representaiton is easier in grand-caoninical ensemble where there are no restrictions $N=\\sum_i n_i$ placed on sums.\n",
    "\n",
    "$$Y(\\beta, \\mu) = \\sum_{n_1, n_2, ...} e^{-\\beta E} e^{\\beta \\mu N}$$\n",
    "\n",
    "$$Y = \\sum_{n_1} \\Big[e^{-\\beta(\\epsilon_1-\\mu)n_1}\\Big]\\cdot  \\sum_{n_2}   \\Big[e^{-\\beta(\\epsilon_2-\\mu)n_2} \\Big]...$$\n",
    "\n",
    "$$Y = \\prod_i Y_i$$\n",
    "\n",
    "$$Y_i = \\sum^{n_{max}}_{n=0} e^{-\\beta(\\epsilon_i -\\mu)n}$$\n"
   ],
   "cell_type": "markdown",
   "metadata": {}
  },
  {
   "source": [
    "### Average and fluctuations of occupation numbers \n",
    "\n",
    "The averages and flucutations as usual are obtained by taking appropriate derivatives of partiton function. \n",
    "\n",
    "$$\\bar{n}_i = \\frac{1}{\\beta} \\frac{\\partial logY_i}{\\partial \\mu}$$\n",
    "\n",
    "$$\\sigma^2(n_i) = \\frac{1}{\\beta^2} \\frac{\\partial^2 logY_i}{\\partial \\mu^2}$$"
   ],
   "cell_type": "markdown",
   "metadata": {}
  },
  {
   "source": [
    "### Bosons and Fermions\n",
    "\n",
    "- **bosons** Any one particle state has no upper bound for its occupation number. Integer spins.\n",
    "\n",
    "- **fermions** The occupation number for any one-particle state is at most one (Pauli exclusion). Half odd integer spins. "
   ],
   "cell_type": "markdown",
   "metadata": {}
  },
  {
   "source": [
    "### Ideal Boson systems\n",
    "\n",
    "$$Y_i = \\sum^{n=\\infty}_{n=0}  = \\big[ 1-e^{-\\beta(\\epsilon_i-\\mu)} \\big]^{-1}$$\n",
    "\n",
    "$$\\boxed{\\bar{n}_i = \\frac{\\partial log Y_i}{\\partial \\beta \\mu } = \\frac{1}{e^{\\beta(\\epsilon_i-\\mu)}-1} }$$\n",
    "\n",
    "For the ground state energy $\\epsilon_i=0$ we have $\\bar{n}_0 = (e^{-\\beta \\mu}-1)^{-1}$. Thus $\\mu$ is not allowed to be positive. That is chemical ptoential must be smaller than graound state energy to maintain non-negative occupation number"
   ],
   "cell_type": "markdown",
   "metadata": {}
  },
  {
   "source": [
    "### Ideal Fermion systems\n",
    "\n",
    "$$Y_i = \\sum^{n=1}_{n=0}  = e^{-\\beta(\\epsilon_i-\\mu)}+1$$\n",
    "\n",
    "$$\\boxed{ \\bar{n}_i = \\frac{\\partial log Y_i}{\\partial \\beta \\mu } = \\frac{1}{e^{\\beta(\\epsilon_i-\\mu)}+1}}$$\n"
   ],
   "cell_type": "markdown",
   "metadata": {}
  },
  {
   "source": [
    "### Classical Limit\n",
    "\n",
    "- The Fermi-Dirac and Bose-Einstein distributions are very different from Maxwell-Boltzmann. THe difference is due to quantum interference when number density is high. \n",
    "\n",
    "- $\\mu \\rightarrow -\\infty$ System has no resistance to chemostat's donation of particles. E.g the system is highly dilute with low ocupancy numbers $n_i \\ll 1$\n",
    "\n",
    "$$\\bar{n_i}\\rightarrow e^{\\beta \\mu}e^{-\\beta \\epsilon_i} = \\frac{1}{Z}e^{-\\beta \\epsilon_i}$$"
   ],
   "cell_type": "markdown",
   "metadata": {}
  },
  {
   "source": [
    "### All distributions captured wihin one universal formula\n",
    "\n",
    "$$\\boxed{\\bar{n}_i = \\frac{1}{e^{\\beta(\\epsilon_i-\\mu)}+c }}$$\n",
    "\n",
    "1. $c = -1$ Bose-Einstein distribution. \n",
    "\n",
    "2. $c = +1$ Fermi-Dirac distribution.\n",
    "\n",
    "3. $c = 0$ Maxwell-Boltzmann distribution. "
   ],
   "cell_type": "markdown",
   "metadata": {}
  },
  {
   "cell_type": "code",
   "execution_count": null,
   "metadata": {},
   "outputs": [],
   "source": []
  },
  {
   "cell_type": "code",
   "execution_count": null,
   "metadata": {},
   "outputs": [],
   "source": []
  },
  {
   "cell_type": "code",
   "execution_count": null,
   "metadata": {},
   "outputs": [],
   "source": []
  },
  {
   "source": [
    "## Density  states (DOS) for an ideal gas"
   ],
   "cell_type": "markdown",
   "metadata": {}
  },
  {
   "source": [
    "Let us analyze the density of states of free particles in volume V in some detail starting from fundamental equation governing state of such particles.\n",
    "\n",
    "$$ \\hat{H}\\psi(r) = E \\psi(r)$$\n",
    "\n",
    "Solution for free particles are plane waves for which we need to impose boundary conditions.\n",
    "\n",
    "$$\\psi(r) = exp(i k \\cdot r) = exp[i(k_x x + k_y y + k_z z)]$$\n",
    "\n",
    "We impose periodic boundary conditions  $k_x(x + Lx) = k_x x + 2πn$\n",
    "\n",
    "$$k_x = \\frac{2 \\pi}{L_x} n_x ;\\,\\,\\, k_y = \\frac{2 \\pi}{L_y} n_y ;\\,\\,\\, k_z = \\frac{2 \\pi}{L_z} n_z$$ \n",
    "\n",
    "Discrete eigenvalues emerge from boundary conditions\n",
    "\n",
    "$$\\epsilon = \\frac{\\hbar^2}{2m} (k^2_x+k^2_y+k^2_z) $$\n",
    "\n",
    "Now we want to count the number of modes or waves that have wavevectors between $([k_x, k_x+dk_x], [k_y, k_y+dk_y], [k_z, k_z+dk_z])$:\n",
    "\n",
    "$$\\Delta n_x = \\frac{L_x}{2 \\pi} dk_x = \\frac{L_x}{h} dp_x$$\n",
    "\n",
    "Number of states within $\\Delta n_x \\Delta n_y \\Delta n_z$ region is given in terms of momenta values $\\rho(p) d^3p$\n",
    "\n",
    "$$\\Delta n_x \\Delta n_y \\Delta n_z = \\frac{L_x L_y L_z}{(2\\pi)^3} d^3 k  = \\frac{L_x L_y L_z}{h^3}d^3p$$\n",
    "\n",
    " - Density of states in cartesian coordines\n",
    "\n",
    "$$\\boxed{g(p) = \\frac{V}{h^3};\\,\\,\\,\\,\\, g(k) = \\frac{V}{(2\\pi)^3}}$$\n",
    "\n",
    "- Azimuthally averaged density of states $g(p)dp = \\int^{\\pi}_{0} d\\theta \\int^{2\\pi}_{0} d\\phi g(p)d^3 p$ results in multiplying by $4\\pi r^2$ term. \n",
    "\n",
    "$$\\boxed{g(p) = \\frac{V}{h^3} 4\\pi p^2;\\,\\,\\,\\, g(k) = \\frac{V}{2\\pi^2}k^2}$$\n"
   ],
   "cell_type": "markdown",
   "metadata": {}
  },
  {
   "source": [
    "> Another insightful way of computing $\\Omega(k)$ is by dividing the volume of a sphere with radius $k$ $V_k = \\frac{4\\pi }{3} k^3$ by the volume availible per one state $g(k)$\n",
    "\n",
    "$$N(k) = \\frac{4\\pi k^3}{3}\\cdot \\frac{1}{g(k)} = \\frac{Vk^3}{6\\pi^2}$$\n",
    "\n",
    "$$g(k) = \\frac{dN(k)}{dk} = \\frac{Vk^2}{2\\pi^2}$$\n",
    "\n",
    "\n",
    "\n",
    "\n"
   ],
   "cell_type": "markdown",
   "metadata": {}
  },
  {
   "cell_type": "markdown",
   "metadata": {},
   "source": []
  }
 ],
 "metadata": {
  "kernelspec": {
   "display_name": "Python 3",
   "language": "python",
   "name": "python3"
  },
  "language_info": {
   "codemirror_mode": {
    "name": "ipython",
    "version": 3
   },
   "file_extension": ".py",
   "mimetype": "text/x-python",
   "name": "python",
   "nbconvert_exporter": "python",
   "pygments_lexer": "ipython3",
   "version": "3.7.9-final"
  }
 },
 "nbformat": 4,
 "nbformat_minor": 4
}