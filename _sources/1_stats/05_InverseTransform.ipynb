{
 "cells": [
  {
   "cell_type": "markdown",
   "metadata": {},
   "source": [
    "# Appendix C: The Inverse Transform of RVs"
   ]
  },
  {
   "cell_type": "code",
   "execution_count": 2,
   "metadata": {},
   "outputs": [],
   "source": [
    "%matplotlib inline\n",
    "\n",
    "import numpy as np\n",
    "import matplotlib.pyplot as plt\n",
    "import seaborn as sns"
   ]
  },
  {
   "cell_type": "markdown",
   "metadata": {},
   "source": [
    "## The idea\n",
    "\n",
    "[Inverse transform sampling](https://en.wikipedia.org/wiki/Inverse_transform_sampling) is a basic method for [pseudo-random number sampling](https://en.wikipedia.org/wiki/Pseudo-random_number_sampling), i.e. for generating sample numbers at random from any probability distribution given its cumulative distribution function. That is, by drawing from a uniform distribution, we make it possible to draw from the other distribution in question.\n",
    "\n",
    "Let's start by defining uniform distribution $U(0,1)$ which geneerates random numbers $Z\\sim U(0,1)$ falling on $[0,1]$ range. Now let's look for a way of transforming random number $Z$ with $p(z)=\\frac{1}{1-0}$ unifrom pdf into a function $X(Z)$ where x is distributed according to some pdf $p(x)$. The probability to find $x$ between $x$ and $x+dx$ is equal to:\n",
    "\n",
    "$$p(x)dx = p(z)dz = dz$$\n",
    "\n",
    "This relation is simply transform of variables. Now the key point to realize is that integrals from over $[-\\infty, x(z)]$ for X and $[0, z]$ for Z are equal (these are comulative distribution functions (CDF). \n",
    "\n",
    "$$\n",
    "\\int_{-\\infty}^{x(z)} p(x') dx' = \\int_0^z dz'= z\n",
    "$$\n",
    "\n",
    "Thus if we can (i) integrate expression on the left analytically and (ii) solve for $x$ then we are done! \n",
    "For most of the pdf at least one of the two is not possible. Below is a typical example where both (i) and (ii) states are easily done. \n",
    "\n",
    "#### Example: Drawing from the exponential distribution.\n",
    "\n",
    "\n",
    " For example, lets assume we would like\n",
    "to generate random numbers that follow the exponential distribution\n",
    "$$p(x) = \\frac{1}{\\lambda} e^{-x/\\lambda}$$ \n",
    "\n",
    "for $x\\ge0$ and $f(x)=0$ otherwise. Following the recipe from the above we have\n",
    "\n",
    "$$u = \\int_{0}^{x} \\frac{1}{\\lambda} e^{-x'/\\lambda} dx'  = 1- e^{-x/\\lambda} $$ \n",
    "\n",
    "Solving for $x$ we get\n",
    "\n",
    "$$x = - \\lambda \\ln (1-u) $$\n",
    "\n",
    "### Let us formalize this procedure:\n",
    "\n",
    "1. **Get a uniform sample $u$ from $U(0,1)$**\n",
    "2. **Solve for $x$ yielding a new equation $x=F^{-1}(u)$ where $F$ is the CDF of the distribution we desire.** \n",
    "3. **Repeat.** "
   ]
  },
  {
   "cell_type": "code",
   "execution_count": 2,
   "metadata": {},
   "outputs": [
    {
     "data": {
      "text/plain": [
       "<matplotlib.legend.Legend at 0x1125a8d30>"
      ]
     },
     "execution_count": 2,
     "metadata": {},
     "output_type": "execute_result"
    },
    {
     "data": {
      "image/png": "[encoded data removed]",
      "text/plain": [
       "<Figure size 432x288 with 1 Axes>"
      ]
     },
     "metadata": {
      "needs_background": "light"
     },
     "output_type": "display_data"
    }
   ],
   "source": [
    "# probability distribution we're trying to calculate\n",
    "p = lambda x: np.exp(-x)\n",
    "\n",
    "# CDF of p\n",
    "CDF = lambda x: 1-np.exp(-x)\n",
    "\n",
    "# invert the CDF\n",
    "invCDF = lambda r: -np.log(1-r)\n",
    "\n",
    "# domain limits\n",
    "xmin = 0 # the lower limit of our domain\n",
    "xmax = 6 # the upper limit of our domain\n",
    "\n",
    "# range limits\n",
    "rmin = CDF(xmin)\n",
    "rmax = CDF(xmax)\n",
    "\n",
    "N = 10000 # the total of samples we wish to generate\n",
    "\n",
    "# generate uniform samples in our range then invert the CDF\n",
    "# to get samples of our target distribution\n",
    "R = np.random.uniform(rmin, rmax, N)\n",
    "X = invCDF(R)\n",
    "\n",
    "# get the histogram info\n",
    "hinfo = np.histogram(X,100)\n",
    "\n",
    "# plot the histogram\n",
    "plt.hist(X,bins=100, label=u'Samples');\n",
    "\n",
    "# plot our (normalized) function\n",
    "xvals=np.linspace(xmin, xmax, 1000)\n",
    "plt.plot(xvals, hinfo[0][0]*p(xvals), 'r', label=u'p(x)')\n",
    "\n",
    "# turn on the legend\n",
    "plt.legend()"
   ]
  },
  {
   "cell_type": "markdown",
   "metadata": {},
   "source": [
    "### [Box-Muller algorithm](https://en.wikipedia.org/wiki/Box%E2%80%93Muller_transform)\n",
    "\n",
    "In many cases the integral to calculate the CDF may not be easy to calculate analytically\n",
    "and we need to come with clever algorithms. For example \n",
    "there is no closed form formula for the integral of the normal distribution\n",
    "$ I=\\frac{1}{2\\pi} \\int_{-\\infty}^{x} e^{-x'^2/2}dx' $.\n",
    "\n",
    "The **Box Muller method** is a brilliant trick to overcome this by producing two independent standard normals\n",
    "from two independent uniforms. \n",
    "\n",
    "The idea is this. Consider the  product of two independent normals N(0,1):\n",
    "\n",
    "$$ X \\sim N(0,1), Y \\sim N(0,1) \\implies X,Y \\sim N(0,1)N(0,1)$$\n",
    "\n",
    "The pdf then is:\n",
    "\n",
    "$$f_{XY}(x,y)  =  \\frac{1}{\\sqrt{2\\pi}} e^{-x^2/2} \\times \\frac{1}{\\sqrt{2\\pi}} e^{-y^2/2} = \\frac{1}{2\\pi} \\times e^{-r^2/2}$$\n",
    "\n",
    "where $r^2 = x^2 + y^2$.\n",
    "\n",
    "If you think of this in terms of polar co-ordinates $r$ and $\\theta$, we have\n",
    "\n",
    "$$\\Theta \\sim U(0, 2\\pi) \\\\   S = R^2 \\sim Exp(1/2)$$\n",
    "\n",
    "From the inverse method for the exponential above:\n",
    "\n",
    "$$ s = r^2 = -2 ln(1-u) $$\n",
    "\n",
    "where u is a sample from $U \\sim U(0,1)$. Now if $U \\sim U(0,1)$, then $1-U \\sim U(0,1)$.\n",
    "\n",
    "Thus  we can write:\n",
    "\n",
    "$$r = \\sqrt{-2\\,ln(u_1)} \\\\ \\\\ \\theta = 2\\pi\\, u_2$$\n",
    "\n",
    "where $u_1$ and $u_2$ are both drawn from a $U(0,1)$. Now we can use:\n",
    "\n",
    "$$x = r\\,cos\\theta, y = r\\,sin\\theta$$\n",
    "\n",
    "to generate samples for the normally distributed random variables $X$ and $Y$."
   ]
  },
  {
   "cell_type": "code",
   "execution_count": 4,
   "metadata": {},
   "outputs": [
    {
     "data": {
      "text/plain": [
       "<seaborn.axisgrid.JointGrid at 0x1118b8a20>"
      ]
     },
     "execution_count": 4,
     "metadata": {},
     "output_type": "execute_result"
    },
    {
     "data": {
      "image/png": "[encoded data removed]",
      "text/plain": [
       "<Figure size 432x432 with 3 Axes>"
      ]
     },
     "metadata": {
      "needs_background": "light"
     },
     "output_type": "display_data"
    }
   ],
   "source": [
    "n=1000\n",
    "u1 = np.random.random(n)\n",
    "u2 = np.random.random(n)\n",
    "\n",
    "r_squared = -2*np.log(u1)\n",
    "r = np.sqrt(r_squared)\n",
    "\n",
    "theta = 2*np.pi*u2\n",
    "x = r*np.cos(theta)\n",
    "y = r*np.sin(theta)\n",
    "\n",
    "sns.jointplot(x, y, kind='scatter')"
   ]
  }
 ],
 "metadata": {
  "anaconda-cloud": {},
  "kernel_info": {
   "name": "python3"
  },
  "kernelspec": {
   "display_name": "Python 3",
   "language": "python",
   "name": "python3"
  },
  "language_info": {
   "codemirror_mode": {
    "name": "ipython",
    "version": 3
   },
   "file_extension": ".py",
   "mimetype": "text/x-python",
   "name": "python",
   "nbconvert_exporter": "python",
   "pygments_lexer": "ipython3",
   "version": "3.8.5"
  },
  "latex_envs": {
   "LaTeX_envs_menu_present": true,
   "autoclose": false,
   "autocomplete": true,
   "bibliofile": "biblio.bib",
   "cite_by": "apalike",
   "current_citInitial": 1,
   "eqLabelWithNumbers": true,
   "eqNumInitial": 1,
   "hotkeys": {
    "equation": "Ctrl-E",
    "itemize": "Ctrl-I"
   },
   "labels_anchors": false,
   "latex_user_defs": false,
   "report_style_numbering": false,
   "user_envs_cfg": false
  },
  "nteract": {
   "version": "0.15.0"
  },
  "toc": {
   "base_numbering": 1,
   "nav_menu": {},
   "number_sections": true,
   "sideBar": true,
   "skip_h1_title": false,
   "title_cell": "Table of Contents",
   "title_sidebar": "Contents",
   "toc_cell": false,
   "toc_position": {},
   "toc_section_display": true,
   "toc_window_display": false
  }
 },
 "nbformat": 4,
 "nbformat_minor": 4
}
