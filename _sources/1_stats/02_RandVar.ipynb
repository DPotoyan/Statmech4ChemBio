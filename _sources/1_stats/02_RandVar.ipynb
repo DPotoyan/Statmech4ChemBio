{
 "cells": [
  {
   "attachments": {},
   "cell_type": "markdown",
   "metadata": {
    "slideshow": {
     "slide_type": "slide"
    }
   },
   "source": [
    "# Random walk and CLT\n",
    "\n",
    "$^*CLT:$  **Central Limit Theorem**"
   ]
  },
  {
   "cell_type": "code",
   "execution_count": 223,
   "metadata": {
    "slideshow": {
     "slide_type": "slide"
    }
   },
   "outputs": [],
   "source": [
    "import numpy as np\n",
    "from numpy.random import normal, choice, uniform\n",
    "\n",
    "import scipy \n",
    "from scipy import stats\n",
    "import ipywidgets as widgets\n",
    "import matplotlib.pyplot as plt"
   ]
  },
  {
   "attachments": {},
   "cell_type": "markdown",
   "metadata": {},
   "source": [
    "### Objectives\n",
    "\n",
    "- Learn what Central Limit Theorem and law of large numbers.\n",
    "- Be able to invoke CLT to make predicitons.\n",
    "- Learn to use random numbers from numpy.random library\n",
    "- Learn to build simple simulations on the example of random walk\n",
    "- Learn to use statistical distributions to fit probability distirbutions computed from simulations. \n"
   ]
  },
  {
   "attachments": {},
   "cell_type": "markdown",
   "metadata": {},
   "source": [
    "### Sum of random variables\n",
    "\n",
    "- Consider a sequence $X_1, X_2, \\ldots$ of **i.i.d. (independent identically distributed)** ranom variables. What would be the distirbution of a **sample sum** of n number of such random variables?\n",
    "\n",
    "$$S_n = \\sum_{i=1}^n X_i$$\n",
    "\n",
    "- Since we have identical random variables each member of sum will have the same mean $\\mu = E(X_1)$ and variance $\\sigma^2 = V(X_1)$.  \n",
    "\n",
    "\n",
    "- Becasue we are dealing with **independent random variables** both the variance and the expectation of sample sum are a liiner function of $n$ number of steps. In other words no cross terms survive averaging. \n",
    "\n",
    "$$E\\left(S_n\\right) = \\sum_{i=1}^n E\\left(X_i\\right) = n \\mu$$\n",
    "\n",
    "$$V\\left(S_n\\right) = E[ S^2_n] - E[S_n]^2 =  \\sum_{i=1}^n V\\left(X_i\\right) = n \\sigma^2$$\n",
    "\n",
    "- Similarly mean value of sample sum $M_n = S_n/n$ we get\n",
    "\n",
    "$$E\\left[M_n\\right] = \\mu$$  \n",
    "\n",
    "$$V\\left(M_n\\right) = \\frac{\\sigma^2}{n}$$\n",
    "\n",
    "- Notice that the variance of the sample mean decreases to zero as *n* increases, implying that most of the probability distribution for $M$ is close to the mean value. this is known **Law of Large Numbers (LLN)** \n",
    "\n",
    "- Notice also that the sample mean converges to exact mean with variance gowing down as $n^{-1/2}$\n",
    "\n",
    "$$\\boxed{\\frac{V(M_n)^{1/2}}{E(M_n)} = \\frac{1}{n^{1/2}}\\frac{\\sigma}{\\mu }}$$"
   ]
  },
  {
   "attachments": {},
   "cell_type": "markdown",
   "metadata": {},
   "source": [
    "### The Central Limit Theorem  (CLT)\n",
    "\n",
    "Let us introduce  make our random variables **de-meaned** and **scaled** to not worry about mean and variance. \n",
    "\n",
    "$$Z_n = \\frac{M_n - \\mu}{V^{1/2}(M_n)} =  \\frac{S_n - n\\mu}{\\sigma \\sqrt{n}}$$\n",
    "\n",
    "\n",
    "$$E\\left[Z_n\\right] = 0$$\n",
    "\n",
    "$$V\\left(Z_n\\right) = 1$$\n",
    "\n",
    "Let $X_1, X_2, \\ldots $ be a sequence of i.i.d. random variables with common mean $\\mu$ and variance $\\sigma^2$. Define zero mean and unit variance sum:\n",
    "\n",
    "$$Z_n = \\frac{\\sum_{i=1}^n (X_i - n\\mu)}{\\sigma \\sqrt{n}}$$\n",
    "\n",
    "Then, Central Limit Theorem asserts that the Probability distribution function or **PDF** of $Z_n$ converges to the standard normal distribution:\n",
    "\n",
    "$$P\\left(z\\right) \\sim  e^{-z^2/2}$$\n",
    "\n",
    "> Note that there is an implicit assumption that the **mean and variance**, $\\mu$ and $\\sigma^2$, **are finite**. Thus CLT does not hold for certain power law distributed RVs."
   ]
  },
  {
   "cell_type": "markdown",
   "metadata": {
    "slideshow": {
     "slide_type": "slide"
    }
   },
   "source": [
    "### Random numbers, probability distribution and stat analysis\n",
    "\n",
    "- The [**numpy.random**](https://docs.scipy.org/doc/numpy-1.15.1/reference/routines.random.html) has the fastest random number generators that are based on low level code written in C. \n",
    "- The [**Scipy.stats**](https://docs.scipy.org/doc/scipy/reference/stats.html ) has an extensive library of statistical distributions and tools for statistical analysis. \n",
    "\n",
    "- The [**Statsmodels**](https://www.statsmodels.org/stable/ ) Enhancing Scipy functionality with more tools\n",
    "- The [**Seaborn**](https://docs.pymc.io/) library that enhances matplotlib functionality for stat visualization.  "
   ]
  },
  {
   "cell_type": "markdown",
   "metadata": {
    "slideshow": {
     "slide_type": "slide"
    }
   },
   "source": [
    "### General overview of random numbers in python "
   ]
  },
  {
   "cell_type": "markdown",
   "metadata": {
    "slideshow": {
     "slide_type": "fragment"
    }
   },
   "source": [
    "First we take a look at most widely used random numbers of numpy also called standard random numbers. These are rand (uniform random number on interval 0,1) and randn (stnadard normal random number with 0 mean and 1 variance). \n",
    "\n",
    "- When running code that uses random numbers results will always be different for every run. If you want code to reproduce same result you can fix the seed to get reproducible results: ```np.random.seed(8376743)```"
   ]
  },
  {
   "cell_type": "markdown",
   "metadata": {},
   "source": [
    "$$f(x)=\\begin{cases}\n",
    "{\\frac {1}{b-a}}&\\mathrm {for} \\ a\\leq x\\leq b,\\\\[8pt]0&\\mathrm {for} \\ x<a\\ \\mathrm {or} \\ x>b\n",
    "\\end{cases}\n",
    "$$"
   ]
  },
  {
   "cell_type": "code",
   "execution_count": 2,
   "metadata": {
    "slideshow": {
     "slide_type": "slide"
    }
   },
   "outputs": [
    {
     "data": {
      "text/plain": [
       "array([0.14844069, 0.78110037, 0.17294069, 0.49010182, 0.56340324,\n",
       "       0.9799353 , 0.84345523, 0.18753032, 0.8023181 , 0.62587149])"
      ]
     },
     "execution_count": 2,
     "metadata": {},
     "output_type": "execute_result"
    }
   ],
   "source": [
    "# Generates standard uniform random numbers U(0,1)\n",
    "r = np.random.rand(10) \n",
    "\n",
    "r"
   ]
  },
  {
   "cell_type": "code",
   "execution_count": 44,
   "metadata": {},
   "outputs": [],
   "source": [
    "def rnplot(r):\n",
    "    '''Convenience function for making quick two panel plot showing \n",
    "    a line plot for the sequece of random numbers (RN)\n",
    "    a histogram plot of probability density of random numbers \n",
    "    '''\n",
    "    \n",
    "    fig, ax = plt.subplots(ncols=2) \n",
    "\n",
    "    ax[0].plot(r,  color='blue', label='trajectory')\n",
    "    ax[1].hist(r,  density=True, color='red',  label = 'histogram')\n",
    "    \n",
    "    \n",
    "    ax[0].set_xlabel('Samples of RN')\n",
    "    ax[0].set_ylabel('Values of RN')\n",
    "    \n",
    "    ax[1].set_xlabel('Values of RN')\n",
    "    ax[1].set_ylabel('Probability Density')\n",
    "\n",
    "    fig.legend();\n",
    "    fig.tight_layout()"
   ]
  },
  {
   "cell_type": "code",
   "execution_count": 45,
   "metadata": {},
   "outputs": [
    {
     "data": {
      "image/png": "[encoded data removed]",
      "text/plain": [
       "<Figure size 432x288 with 2 Axes>"
      ]
     },
     "metadata": {
      "needs_background": "light"
     },
     "output_type": "display_data"
    }
   ],
   "source": [
    "r = np.random.rand(200) \n",
    "rnplot(r)"
   ]
  },
  {
   "cell_type": "markdown",
   "metadata": {},
   "source": [
    "In the same way we generate and visualize norally distributed random numbers, $N(0,1)$\n",
    "\n",
    "$$P(x |\\mu=0, \\sigma=1) = \\frac{1}{\\sigma \\sqrt{2\\pi}}e^{-\\frac{(x-\\mu)^2}{2\\sigma^2}}$$"
   ]
  },
  {
   "cell_type": "code",
   "execution_count": 46,
   "metadata": {
    "slideshow": {
     "slide_type": "slide"
    }
   },
   "outputs": [
    {
     "data": {
      "image/png": "[encoded data removed]",
      "text/plain": [
       "<Figure size 432x288 with 2 Axes>"
      ]
     },
     "metadata": {
      "needs_background": "light"
     },
     "output_type": "display_data"
    }
   ],
   "source": [
    "# For a standard normal with sigma=1, mu=0\n",
    "r = np.random.randn(200)\n",
    "\n",
    "# For a more general gaussian\n",
    "rgauss = np.random.normal(loc=2., scale=5, size=200) \n",
    "\n",
    "rnplot(r)"
   ]
  },
  {
   "attachments": {},
   "cell_type": "markdown",
   "metadata": {},
   "source": [
    "- We showed examples of standard random numbers $U(0,1)$ and $N(0,1)$. There are many more ranom numbers sampled from general gaussian, poisson and binomial. Check [docs](https://numpy.org/doc/stable/reference/random/legacy.html#functions-in-numpy-random) for numpy.random for mor cases."
   ]
  },
  {
   "cell_type": "code",
   "execution_count": 59,
   "metadata": {
    "slideshow": {
     "slide_type": "slide"
    }
   },
   "outputs": [
    {
     "name": "stdout",
     "output_type": "stream",
     "text": [
      "(2000,)\n"
     ]
    },
    {
     "data": {
      "image/png": "[encoded data removed]",
      "text/plain": [
       "<Figure size 432x288 with 2 Axes>"
      ]
     },
     "metadata": {
      "needs_background": "light"
     },
     "output_type": "display_data"
    }
   ],
   "source": [
    "r = np.random.binomial(n=10, p=0.6, size=2000) \n",
    "\n",
    "print(r.shape)\n",
    "rnplot(r)"
   ]
  },
  {
   "cell_type": "markdown",
   "metadata": {
    "slideshow": {
     "slide_type": "slide"
    }
   },
   "source": [
    "### Using random numbers to get answers via simulations "
   ]
  },
  {
   "cell_type": "markdown",
   "metadata": {},
   "source": [
    "One of the major uses of random numbers is for conducting numerical simulations. What is a simulation? It is a recreation of a process on a computer. And this recreation is done by random numbers. E.g to simulate coint tosses, die throws, diffusion of molecules, conformational change of polymers we use random number to recreate the process on a computer. Let's start off by asking some simple questions\n",
    "\n",
    "- How often do we get a run of 5 or more consecutive heads in 100 coin tosses if we repeat the experiment 1000 times?\n",
    "<br>\n",
    "- What if the coin is biased to generate heads only 40% of the time?"
   ]
  },
  {
   "cell_type": "markdown",
   "metadata": {},
   "source": [
    "We will use ```np.random.choice``` which generates random samples from limited options. \n",
    "\n",
    "```python\n",
    "np.random.choice(a, size, p, replace=True)\n",
    "```\n",
    "- ```a:``` an array/list of choices like, ```[-1, 1]``` or ```[1, 2, 3]``` or ```['bagel', 'muffin']```\n",
    "- ```p:``` probabilities of picking choices from a. E.g ```p=[0.5, 0.5]```. Default is equal probabilities.\n",
    "- ```size:``` shape of an array could be ```N, (N,M), (N,M,Q)``` etc\n",
    "- ```replace=True.``` If you choose bagel from a, the caffee will put back a new one on shelf."
   ]
  },
  {
   "cell_type": "code",
   "execution_count": 65,
   "metadata": {
    "slideshow": {
     "slide_type": "slide"
    }
   },
   "outputs": [],
   "source": [
    "n = 100    # length of each trajectory\n",
    "N = 1      # number of experiments: stochastic trajecotries generated\n",
    "\n",
    "xs = np.random.choice([0,1], size=(n, N)) # (i) Unbiased coin p=[0.5,0.5] by default\n",
    "\n",
    "ys = np.random.choice([0,1], size=(n, N), p=[0.9, 0.1])  # (ii) biased coin\n",
    "\n",
    "plt.hist((xs[:,0], ys[:,0]), 2, label = (\"unbiased\", \"biased\"))\n",
    "plt.legend()\n"
   ]
  },
  {
   "attachments": {},
   "cell_type": "markdown",
   "metadata": {},
   "source": [
    "### Simulating a 1D unbiased random walk \n",
    "\n",
    "- Random walker will be modeled by a random variable $X_i$ assuming +1 or -1 values at every ith step. \n",
    "\n",
    "- We will be tracking the net displacement of a random walker or cumulative sum of steps:\n",
    "\n",
    "$$Z_n = \\sum^{i=n}_{i=1} X_i$$\n",
    "\n",
    "- We will be interested in computing probability distribution of $P(z=Z_n)$ and its various moments.\n",
    "- We need $N$ number of independent random walkers making $n$ number of steps to get acurate statistics on $Z_n$ distribution! "
   ]
  },
  {
   "attachments": {},
   "cell_type": "markdown",
   "metadata": {
    "slideshow": {
     "slide_type": "slide"
    }
   },
   "source": [
    "**Independent observations (trajectories) of random walkers**\n",
    "\n",
    "In the course of simulating random walks we will be generating multidimensional numpy arrays. We will adhere to a convention that:\n",
    "\n",
    "- **Rows** are regarded as number of measurements, or **samples**\n",
    "- **Columns** are regarded as number of observables **distinct measurements/trajectories**\n",
    "\n",
    "We then take **cumulative sum  over trajectory** which accumulates random walker's position over time [a, a+b, a+b+c,...]. This is done by convenient ```np.cumsum()``` method."
   ]
  },
  {
   "cell_type": "code",
   "execution_count": null,
   "metadata": {},
   "outputs": [],
   "source": [
    "def rw_1d(n, N):\n",
    "    '''\n",
    "    n: trajectory length\n",
    "    N: Number of trajecotries\n",
    "    returns np.array with shape (n, N) \n",
    "    '''\n",
    "    \n",
    "    # Create random walks \n",
    "    r  = choice([-1,1], size=(n, N))\n",
    "    \n",
    "    #Accumulate position\n",
    "    rw = r.cumsum(axis=0)\n",
    "\n",
    "    #Set initial position \n",
    "    rw[0,:]=0 \n",
    "    \n",
    "    return rw"
   ]
  },
  {
   "cell_type": "code",
   "execution_count": 68,
   "metadata": {},
   "outputs": [
    {
     "name": "stdout",
     "output_type": "stream",
     "text": [
      "(2000, 1000)\n"
     ]
    }
   ],
   "source": [
    "rw = rw_1d(2000, 1000)\n",
    "\n",
    "print(rw.shape)"
   ]
  },
  {
   "cell_type": "code",
   "execution_count": 122,
   "metadata": {},
   "outputs": [
    {
     "data": {
      "application/vnd.jupyter.widget-view+json": {
       "model_id": "0ea58bfd5b68498b92bb82045308b85c",
       "version_major": 2,
       "version_minor": 0
      },
      "text/plain": [
       "interactive(children=(IntSlider(value=1, description='t', max=999, min=1), Output()), _dom_classes=('widget-in…"
      ]
     },
     "metadata": {},
     "output_type": "display_data"
    }
   ],
   "source": [
    "# Simulate 1D random walk\n",
    "n_max = 1000\n",
    "N     = 1000 \n",
    "rw    = rw_1d(n_max, N)\n",
    "\n",
    "@widgets.interact(t=(1, n_max-1))\n",
    "def rw_plotter(t=1):\n",
    "    \n",
    "    fig, ax = plt.subplots(nrows=2)\n",
    "\n",
    "    ax[0].plot(rw)\n",
    "    ax[0].axvline(x=t, color='black', linestyle='-', lw=2)\n",
    "    ax[1].hist(rw[t, :], color='orange', density=True, label=f'time={t}')\n",
    "\n",
    "    ## Plot gaussian with width t**0.5\n",
    "    x = np.linspace(-100,100, 1000)\n",
    "    y = stats.norm.pdf(x, 0, np.sqrt(t))\n",
    "    ax[1].plot(x,y, color='black', lw=2, label=f'std={np.sqrt(t):.2f}')  \n",
    "\n",
    "    ax[0].set_ylabel('Position')\n",
    "    ax[0].set_title('RW trajectries');\n",
    "\n",
    "    ax[1].set_xlabel('Position')\n",
    "    ax[1].set_ylabel('Histogram')\n",
    "    ax[1].set_xlim([-100, 100])\n",
    "    ax[1].legend()\n",
    "    fig.tight_layout()"
   ]
  },
  {
   "attachments": {},
   "cell_type": "markdown",
   "metadata": {
    "slideshow": {
     "slide_type": "slide"
    }
   },
   "source": [
    "### Fitting numerical random walk statistics to analytic probability distributions \n",
    "\n",
    "- So far we have mostly simulated random walk pretending that we do not know which porbability distributions the walk was governed.  \n",
    "\n",
    "- Below we illustrate a few example uses of ```scipy.stats``` library which contains probability distribution functions.\n",
    "- Moreover ```scipy.stats``` also has convenience reference to the same numpy random numbers that we have generated above. "
   ]
  },
  {
   "cell_type": "code",
   "execution_count": 124,
   "metadata": {
    "slideshow": {
     "slide_type": "fragment"
    }
   },
   "outputs": [],
   "source": [
    "from scipy.stats import binom, norm, poisson  \n",
    "\n",
    "s =  binom(n=10, p=0.5) # Let us declare s to be a binomial RV\n",
    "\n",
    "print(s.rvs(20))          # 20 random samples form X\n",
    "print(s.pmf(5))           # P(X = 5) pdf in case of continuous variable\n",
    "print(s.cdf(5))           # P(X <= 5)\n",
    "print(s.mean())           # E[X], mean\n",
    "print(s.var())            # Var(X), variance\n",
    "print(s.std())            # Std(X), standard deviation"
   ]
  },
  {
   "cell_type": "code",
   "execution_count": 214,
   "metadata": {
    "slideshow": {
     "slide_type": "slide"
    }
   },
   "outputs": [],
   "source": [
    "def coin_flip(p,N):\n",
    "    '''\n",
    "    N: flip coint N times taking on values 0 or 1 \n",
    "    p: with p probability\n",
    "    ''' \n",
    "    # Binomial\n",
    "    b       = binom(N, p) \n",
    "    \n",
    "    #Gaussian       \n",
    "    g = norm(N*p, (N*p*p)**0.5) #loc=mu, scale=sigma\n",
    "    \n",
    "    #Poisson\n",
    "    p = poisson(N*p)\n",
    "        \n",
    "    fig, ax=plt.subplots(nrows=2, ncols=1)\n",
    "    \n",
    "    # Plot values of coin flips and histogram\n",
    "    ax[0].plot(b.rvs(N), '-',color='grey')\n",
    "    ax[1].hist(b.rvs(N),  density=True)\n",
    "    \n",
    "    # Possible values of a coin to plot dists\n",
    "    vals    = np.arange(N) \n",
    "    \n",
    "    ax[1].plot(b.pmf(vals), '-o', color='black', label='Binom')\n",
    "    ax[1].plot(g.pdf(vals), color='green', label='Gauss')\n",
    "    ax[1].plot(p.pmf(vals), color='red', label='Poisson')\n",
    "    \n",
    "    #ax[1].set_ylim(0,)\n",
    "    ax[0].set_ylabel('Coin sum')\n",
    "    ax[1].set_xlabel('Coin sum')\n",
    "    ax[1].set_ylabel('Probability dist')\n",
    "    ax[1].legend()\n",
    "    fig.tight_layout()"
   ]
  },
  {
   "cell_type": "code",
   "execution_count": 221,
   "metadata": {},
   "outputs": [
    {
     "data": {
      "image/png": "[encoded data removed]",
      "text/plain": [
       "<Figure size 432x288 with 2 Axes>"
      ]
     },
     "metadata": {
      "needs_background": "light"
     },
     "output_type": "display_data"
    }
   ],
   "source": [
    "# try 0.1, 0.5 and 0.9\n",
    "coin_flip(p=0.5, N=100);"
   ]
  },
  {
   "cell_type": "markdown",
   "metadata": {},
   "source": [
    "### Problems\n",
    "\n"
   ]
  },
  {
   "cell_type": "markdown",
   "metadata": {},
   "source": [
    "####  Confined diffusion.\n",
    "Simulate 2D random walk in a circular confinement. Re-write 2D random walk  code to simulate diffusion of a particle which is stuck inside a sphere. \n",
    "Study how root mean square deviation of position scales with time. \n",
    "- Carry out simulations for different confinement sizes. \n",
    "- Make plots of simulated trajectories."
   ]
  },
  {
   "cell_type": "markdown",
   "metadata": {},
   "source": [
    "#### Return to the origin!\n",
    "\n",
    "- Simulate random walk in 1D and 2D for a different number of steps $N=10, 10^2,10^3, 10^4, 10^5$\n",
    "- Compute average number of returns to the origin $\\langle n_{orig} \\rangle$. That is number of times a random walker returns to the origin $0$ for 1D  or (0,0)$ for 2D . You may want to use some 1000 trajectories to obtain average. \n",
    "- Plot how $\\langle n_{orig} \\rangle$ depends on number of steps N for 1D and 2D walker.\n"
   ]
  },
  {
   "cell_type": "markdown",
   "metadata": {},
   "source": [
    "####  Breaking the CLT; Cauchy vs Normal random walk in 2D\n",
    "\n",
    "For this problem we are going to simulate two kinds of random walks in continuum space (not lattice): Levy flights and Normal distributd random walk. \n",
    "\n",
    "To simulate a 2D continuum space random walk we need to generate random step sizes $r_x$, $r_y$. \n",
    "Also you will need unifrom random namber to sample angles in 2D giving you a conitnuum random walk in 2D space: $x = r_x sin\\theta$ and $y=r_ycos\\theta$\n",
    "\n",
    "- Normally: $r\\sim N(0,1)$\n",
    "- Cauchy distribution (long tails, infinite variance) $r\\sim Cauchy(0,1)$\n",
    "- Unform angles $\\theta \\sim U(0,1)$\n",
    "\n",
    "Visualize random walk using matplotlib and study statistics of random walkers the way that is done for normal random walk/brownian motion examples!"
   ]
  },
  {
   "cell_type": "markdown",
   "metadata": {},
   "source": [
    "#### (Optional Problem) Continuous time random walk (CTRW)\n",
    "\n",
    "Simulate 1D random walk but instead of picking times at regular intervals pick them from  exponential distribution. <br>\n",
    "Hint: you may want to use random variables from scipy.stats.exp <br>\n",
    "\n",
    "[scipy.stats.expon](https://docs.scipy.org/doc/scipy/reference/generated/scipy.stats.expon.html) <br>\n",
    "\n",
    "Study the root mean square deviation as a function of exponential decay parameter $\\lambda$ of exponential distribution $e^{-\\lambda x}$. "
   ]
  },
  {
   "cell_type": "markdown",
   "metadata": {
    "slideshow": {
     "slide_type": "slide"
    }
   },
   "source": [
    "## References\n",
    "\n",
    "**The mighty little books**\n",
    "-  [\"Random Walks in Biology\",  H Berg (1993)](https://www.amazon.com/Random-Walks-Biology-Howard-Berg/dp/0691000646)\n",
    "-  [\"Physical models of Living systems\",  P Nelson (2015)](https://www.amazon.com/gp/product/1464140294/ref=ppx_yo_dt_b_search_asin_title?ie=UTF8&psc=1)\n",
    "\n",
    "**More in depth**\n",
    " \n",
    " - [\"Simple Brownian Diffusion: An Introduction to the Standard Theoretical Models\", D Gillespie](https://www.amazon.com/Simple-Brownian-Diffusion-Introduction-Theoretical/dp/0199664501/ref=sr_1_1?keywords=diffusion+brownian&qid=1579882520&sr=8-1)\n",
    "- \n",
    " - [\"Stochastic Processes for Physicists\" K Jacobs](https://www.amazon.com/Stochastic-Processes-Physicists-Understanding-Systems/dp/0521765420/ref=sr_1_1?keywords=kurt+jacobs+stochastic&qid=1579882738&sr=8-1)\n",
    " \n",
    "**On the applied side**\n",
    "- [Brownian Motion: Elements of Colloid Dynamics A P Philipse (2018)](https://www.amazon.com/Brownian-Motion-Elements-Dynamics-Undergraduate/dp/3319980521/ref=sr_1_7?keywords=einstein+brownian&qid=1579882356&sr=8-7)"
   ]
  }
 ],
 "metadata": {
  "kernelspec": {
   "display_name": "Python 3",
   "language": "python",
   "name": "python3"
  },
  "language_info": {
   "codemirror_mode": {
    "name": "ipython",
    "version": 3
   },
   "file_extension": ".py",
   "mimetype": "text/x-python",
   "name": "python",
   "nbconvert_exporter": "python",
   "pygments_lexer": "ipython3",
   "version": "3.9.10"
  },
  "latex_envs": {
   "LaTeX_envs_menu_present": true,
   "autoclose": false,
   "autocomplete": true,
   "bibliofile": "biblio.bib",
   "cite_by": "apalike",
   "current_citInitial": 1,
   "eqLabelWithNumbers": true,
   "eqNumInitial": 1,
   "hotkeys": {
    "equation": "Ctrl-E",
    "itemize": "Ctrl-I"
   },
   "labels_anchors": false,
   "latex_user_defs": false,
   "report_style_numbering": false,
   "user_envs_cfg": false
  },
  "livereveal": {
   "theme": "sky"
  },
  "nteract": {
   "version": "0.15.0"
  },
  "toc": {
   "base_numbering": 1,
   "nav_menu": {},
   "number_sections": true,
   "sideBar": true,
   "skip_h1_title": false,
   "title_cell": "Table of Contents",
   "title_sidebar": "Contents",
   "toc_cell": false,
   "toc_position": {},
   "toc_section_display": true,
   "toc_window_display": false
  }
 },
 "nbformat": 4,
 "nbformat_minor": 4
}
