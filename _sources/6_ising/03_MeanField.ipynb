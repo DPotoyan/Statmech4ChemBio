{
 "cells": [
  {
   "attachments": {},
   "cell_type": "markdown",
   "metadata": {
    "id": "nZQfSpbbI5F8"
   },
   "source": [
    "# Mean Field Theory\n",
    "\n",
    "**Mean Field Approximation (MFA): replacing fluctuating terms by averages**\n",
    "\n",
    "- When sufficiently away from critical points equilibrium averages of functions of spins can be approximated by field averages of individual spins. This approximation ignores fluctuations of spin states hence it is likely to break down at critical points where fluctuations reach macroscopic scales.\n",
    "\n",
    "$$\\big\\langle f(s_1, s_2, s_3,...) \\big\\rangle = f(\\langle s_1\\rangle, \\langle s_2\\rangle, \\langle s_3\\rangle,...) $$\n",
    "\n",
    "\n",
    "Let look at the 2D ising model again and regroup hamiltonian where spin $i$ is interacting with instantaneous and fluctuating fields generating by its nearest neightbours (summation over $\\delta$) .\n",
    "\n",
    "$$H_i = -J\\sum_{\\delta} s_i s_{i+\\delta} - h s_i = -\\Big(J\\sum_{\\delta}s_{\\delta} +h \\Big) s_i$$\n",
    " \n",
    "\n",
    "$$H_i = J\\sum_{\\delta}s_{\\delta}+h$$\n",
    "\n",
    "$$H^{eff}=\\sum H_i s_i$$\n",
    "\n",
    "- So far no approximation has been made and instead we re-wrote haitlonian in terms of effective field hamiltonians for each spin."
   ]
  },
  {
   "cell_type": "markdown",
   "metadata": {
    "id": "ouDIhs8_I5pE"
   },
   "source": [
    "Now we are ready to make a dramatic approximation: replace the effective field by its mean field approximation where each spin is experiencing a field independent of others. The average magnetization per spin due to translational invariance is same for every spin (in periodic boundary conditions that is)\n",
    "\n",
    "$$H^{MFA}_i = \\langle H_i \\rangle = J\\sum_{\\delta} \\langle s_{\\delta} \\rangle+h = Jzm+h$$\n",
    "\n",
    "- z=4 for 2D lattice\n",
    "- z=6 for 3D lattice\n",
    "\n",
    "**In MFA hamitlonian factors out into additive components**\n",
    "\n",
    "Just like the exact case we had with $J=0$ we find the solution whihc does not admit simple functional form. \n",
    "\n",
    "$$\\boxed{m = tanh(\\beta(Jzm+h))}$$"
   ]
  },
  {
   "cell_type": "markdown",
   "metadata": {
    "id": "uK8DycxyJifu"
   },
   "source": [
    "**The $h=0$ MFA case**\n",
    "\n",
    "The equation can be solved in a self-consistent manner or graphically by finding intersection between:\n",
    "\n",
    "- $m =tanh(x)$\n",
    "- $x = \\beta Jzm$\n",
    "\n",
    "When the slope is equal to one it provides a dividing line between two behaviours. \n",
    "\n",
    "$$k_B T_c =zJ$$\n",
    "\n",
    "$$m = tanh \\Big(\\frac{Tc}{T} m \\Big)$$\n",
    "\n",
    "> **MFA shows phase transitio for 1D Ising model at finite $T=T_c$!** "
   ]
  },
  {
   "cell_type": "code",
   "execution_count": 1,
   "metadata": {
    "executionInfo": {
     "elapsed": 2809,
     "status": "ok",
     "timestamp": 1619461683087,
     "user": {
      "displayName": "Davit Potoyan",
      "photoUrl": "https://lh3.googleusercontent.com/a-/AOh14GiUdLXplMG8UEHwBVcNr7CDgo7SDIZxxozSCzi7xQ=s64",
      "userId": "16339487288737364945"
     },
     "user_tz": 300
    },
    "id": "Gr0_dQiOJrph"
   },
   "outputs": [],
   "source": [
    "import ipywidgets as widgets\n",
    "import matplotlib.pyplot as plt\n",
    "import numpy as np"
   ]
  },
  {
   "cell_type": "code",
   "execution_count": null,
   "metadata": {
    "colab": {
     "base_uri": "https://localhost:8080/",
     "height": 352,
     "referenced_widgets": [
      "239d1ed2085c40bcb7c0961ff65031a0",
      "0a917297b8214210ae2165d19ce3bfe7",
      "a8f003ae483c4286a83604234ea9d750",
      "0bfdbb43cafd4737ad13de18c7d93b37",
      "1b11bf95fe17444ba3a5903354477d8a",
      "730bbe632fe24e39a4329b685ea58e2d",
      "827310a3f67141aab9ec8373858307ab",
      "9d4b488a0891477985a6953de765a0eb",
      "c11a1d6f8b4e4fef88c5bd64c80681a8",
      "9fd7fd709110445581b2bbb0149a9e77"
     ]
    },
    "executionInfo": {
     "elapsed": 663,
     "status": "ok",
     "timestamp": 1618859145600,
     "user": {
      "displayName": "Davit Potoyan",
      "photoUrl": "https://lh3.googleusercontent.com/a-/AOh14GiUdLXplMG8UEHwBVcNr7CDgo7SDIZxxozSCzi7xQ=s64",
      "userId": "16339487288737364945"
     },
     "user_tz": 300
    },
    "id": "2qgu45-sJnaj",
    "outputId": "ff5df308-0b7d-4bfe-bc77-e03238bc0f09"
   },
   "outputs": [],
   "source": [
    "@widgets.interact(T=(0.1,5), Tc=(0.1,5)) \n",
    "def mfa_ising1d_plot(T=1, Tc=1):\n",
    "\n",
    "    x  = np.linspace(-3,3,1000)\n",
    "    \n",
    "    f = lambda x: (T/Tc)*x\n",
    "    m = lambda x: np.tanh(x)\n",
    "    \n",
    "    plt.plot(x,m(x), lw=3, alpha=0.9, color='green')\n",
    "    \n",
    "    plt.plot(x,f(x),'--',color='black')\n",
    "    idx = np.argwhere(np.diff(np.sign(m(x) - f(x))))\n",
    "    plt.plot(x[idx], f(x)[idx], 'ro')\n",
    "    \n",
    "    plt.legend(['m=tanh(x)', 'x'])\n",
    "    \n",
    "    plt.ylim(-2,2)\n",
    "    plt.grid('True')\n",
    "    plt.xlabel('m',fontsize=16)\n",
    "    plt.ylabel(r'$tanh (\\frac{Tc}{T} m )$',fontsize=16)"
   ]
  },
  {
   "cell_type": "code",
   "execution_count": null,
   "metadata": {
    "colab": {
     "base_uri": "https://localhost:8080/",
     "height": 354,
     "referenced_widgets": [
      "1d69458eafde415db07996b507a4b263",
      "464dc2905f084351adb68e446687f6e2",
      "a5b43ee338184625aaa4d5a65d02ad8b",
      "b597496d55aa4c899ce643cfb8a00041",
      "41e9a6be36a44deb9de443b67ad59336",
      "d670f378d9894b089dde2bf34c2466ff",
      "1660e3f107714e7993a614917b644995"
     ]
    },
    "executionInfo": {
     "elapsed": 581,
     "status": "ok",
     "timestamp": 1618859525019,
     "user": {
      "displayName": "Davit Potoyan",
      "photoUrl": "https://lh3.googleusercontent.com/a-/AOh14GiUdLXplMG8UEHwBVcNr7CDgo7SDIZxxozSCzi7xQ=s64",
      "userId": "16339487288737364945"
     },
     "user_tz": 300
    },
    "id": "ydfVfgZGPC4h",
    "outputId": "1fd2a372-5acb-4e3e-eac3-f488cc91356f"
   },
   "outputs": [],
   "source": [
    "@widgets.interact(Tc_T=(0.1,5)) \n",
    "def mfa_ising1d_plot(Tc_T=1):\n",
    "\n",
    "    x  = np.linspace(-1,1,200)\n",
    "    \n",
    "    h = lambda x: np.arctanh(x) - Tc_T*x\n",
    "    \n",
    "    plt.plot(h(x),x, lw=3, alpha=0.9, color='green')\n",
    "\n",
    "    plt.plot(x, np.zeros_like(x), lw=1, color='black')\n",
    "    plt.plot(np.zeros_like(x), x, lw=1, color='black')\n",
    "     \n",
    "    plt.grid(True)\n",
    "\n",
    "    plt.ylabel('m',fontsize=16)\n",
    "    plt.xlabel('h',fontsize=16)\n",
    "    plt.ylim([-1,1])\n",
    "    plt.xlim([-1,1])\n",
    "    "
   ]
  },
  {
   "cell_type": "markdown",
   "metadata": {
    "id": "xbpC4M4NJo37"
   },
   "source": [
    "### Critical exponents\n",
    "\n",
    "**A signature of phase transitions of second kind or critical phenomena is the universal power law behaviour near critical point**\n",
    "\n",
    "$$m \\sim |T-T_c |^{\\beta}$$\n",
    "\n",
    "$$c \\sim |T-T_c|^{-\\alpha}$$\n",
    "\n",
    "$$\\chi =\\frac{\\partial m}{\\partial B} \\sim |T-T_c|^{-\\gamma}$$\n",
    "\n",
    "**Correlation lengths $\\xi$ diverge at critical points**\n",
    "\n",
    "$$f(r=|j-k|) = \\langle s_j s_k \\rangle \\sim r^{-d+2+\\eta}e^{-r/\\xi}$$\n",
    "\n",
    "$$\\xi \\sim |T-T_c|^{-\\nu}$$"
   ]
  },
  {
   "cell_type": "markdown",
   "metadata": {
    "id": "6PE_ychJL8FO"
   },
   "source": [
    "### Mean field exponents\n",
    "\n",
    "We can derive the value of critical exponent $\\beta$ within mean field approximation by Taylor expanding the  hyperbolic tangent\n",
    "\n",
    "$$tanh(x) \\approx x-\\frac{1}{3}x^3+...$$\n",
    "\n",
    "$$m = tanh(\\beta J z m) \\approx \\beta J z m - \\frac{1}{3} (\\beta Jzm)^3$$\n",
    "\n",
    "- One solution is obviously m = 0 which is the only solution above $T_c$\n",
    "\n",
    "- Below $T_c$ the non-zero solution is found $m=\\sqrt{3}\\frac{T}{T_c} \\Big(1-\\frac{T}{T_c} \\Big)^{1/2}+...$ \n",
    "\n",
    "- $\\beta_{MFA}=1/2$"
   ]
  },
  {
   "cell_type": "markdown",
   "metadata": {
    "id": "LvVOuO0ARxIG"
   },
   "source": [
    "### Helmholtz Free energy"
   ]
  },
  {
   "cell_type": "markdown",
   "metadata": {
    "id": "np28VWstR0uK"
   },
   "source": [
    "$$dF = -SdT + BdM $$\n",
    "\n",
    "$$F_T = \\int dF  = F_0 + \\int^{M}_0 B(M) dM$$\n",
    "\n",
    "We will now make use of Mean field theory to approximate dependence of field on magnetization: $h(m) \\approx m(1-T_c/T)+ 1/3 m^3$ which enables us to evaluate the integral above.\n",
    "\n",
    "$$B(M) = aM +bM^3$$\n",
    "\n",
    "$$F_T = F_0 + \\frac{1}{2}aM^2 + \\frac{1}{4} bM^4$$\n",
    "\n",
    "Equilibirum is found by minimizing the free energy: $aM +bM^3 = 0$ with solutions M = 0 and $M=\\pm (-a/b)^{1/2}$\n",
    "\n",
    "- $T < T_c$ case we get  $a<0$ and $M=\\pm (-|a|/b)^{1/2} = \\pm M_S$\n",
    "\n",
    "- $T > T_c$ case we get  $a>0$ and $M=0$\n",
    "\n"
   ]
  },
  {
   "cell_type": "code",
   "execution_count": null,
   "metadata": {
    "colab": {
     "base_uri": "https://localhost:8080/",
     "height": 334,
     "referenced_widgets": [
      "ab97c39629124c969b55bf9bbec8a6d2",
      "52b0e225ecb445c08e6ecc9eb47e4dfb",
      "e2d864cb97f744c1b5eb88860c4f6650",
      "581f2d5383ca4ab9978363bf4409fc1d",
      "6289b3ca09e14553957778c6952489b3",
      "147c0846caa74e95a9e45bb5da91c27e",
      "44adbf13fd474e6d826bbfabe1cb0b47"
     ]
    },
    "executionInfo": {
     "elapsed": 541,
     "status": "ok",
     "timestamp": 1618880910220,
     "user": {
      "displayName": "Davit Potoyan",
      "photoUrl": "https://lh3.googleusercontent.com/a-/AOh14GiUdLXplMG8UEHwBVcNr7CDgo7SDIZxxozSCzi7xQ=s64",
      "userId": "16339487288737364945"
     },
     "user_tz": 300
    },
    "id": "riRLrU6bRxNM",
    "outputId": "51296abe-3024-4957-9930-db7ecac04a0f"
   },
   "outputs": [],
   "source": [
    "@widgets.interact(T=(400,800)) \n",
    "def HelmF(T=400):\n",
    "\n",
    "  Tc=631 # constnt for Ni\n",
    "\n",
    "  a = 882*(T/Tc-1)\n",
    "  b = 0.4734*T\n",
    "  M = np.linspace(-2,2,1000)\n",
    "  plt.plot(M, 0.5*a*M**2 + 0.25*b*M**4, lw=4, color='brown', label=f\"T/Tc = {(T/Tc)}\")\n",
    "  plt.grid(True)\n",
    "  plt.xlim([-2,2])\n",
    "  plt.ylim([-140,200])\n",
    "  plt.ylabel('$F(M)$')\n",
    "  plt.xlabel('$M$')\n",
    "  plt.legend()\n"
   ]
  },
  {
   "cell_type": "markdown",
   "metadata": {
    "id": "ZFsNE3j6L9IN"
   },
   "source": [
    "### Problems\n",
    "\n",
    "1. Use Transfer matrix method to solve general 1D Ising model with $h = 0$ (Do not simply copy the solution by setting h=0 but repeat the derivation :)\n",
    "\n",
    "2. Plot temperature dependence of heat capacity and free energy as a function for $(h=\\neq, J\\neq 0)$  $(h=0, J\\neq 0)$ and $(h=\\neq, J\\neq \\neq)$ cases of 1D Ising model. Coment on the observed behaviours.\n",
    "\n",
    "3. Explain in 1-2 sentences:\n",
    "    - why heat capacity and magnetic susceptibility diverge at critical temperatures. \n",
    "    - why correlation functions diverge at a critical temperature\n",
    "    -  why are there universal critical exponents.\n",
    "    - why the dimensionality and range of intereactions matters for existance and nature of phase transitions.\n",
    "    - why MFT predictions fail for low dimensionsal systems but consistently get better with higher dimensions?\n",
    "\n",
    "4. Using mean field approximation show that near critical temperature magnetization per spin goes as $m\\sim (T_c-T)^{\\beta}$ (critical exponent not to nbe confused with inverse $k_B T$) and find the value of \\beta. Do the same for magnetic susceptibility $\\chi \\sim (T-T_c)^{-\\gamma}$ and find the value of $\\gamma$\n",
    "\n",
    "5. Consider a 1D model given by the Hamiltonian:\n",
    "\n",
    "$$H = -J\\sum^{N}_{i=1} s_i s_{i+1} + D\\sum^{N}_{i=1} s^2_i $$\n",
    "\n",
    "where $J>1$, $D>1$ and $s_i =-1,0,+1$\n",
    "\n",
    "- Assuming periodic boundary codnitions calcualte eigenvalues of the transfer matrix\n",
    "\n",
    "- Obtain expresions for internal energy, entropy and free energy\n",
    "\n",
    "- What is the ground state of this model (T=0) as a function of $d=D/J$ Obtain asymptotic form of the eigenvalues of the transfer matrix in the limit $T\\rightarrow 0$ in the characteristic regimes of d (e.g consider differnet extereme cases)\n",
    "\n"
   ]
  }
 ],
 "metadata": {
  "colab": {
   "collapsed_sections": [],
   "name": "03_MeanField.ipynb",
   "provenance": []
  },
  "kernelspec": {
   "display_name": "Python 3",
   "language": "python",
   "name": "python3"
  },
  "language_info": {
   "codemirror_mode": {
    "name": "ipython",
    "version": 3
   },
   "file_extension": ".py",
   "mimetype": "text/x-python",
   "name": "python",
   "nbconvert_exporter": "python",
   "pygments_lexer": "ipython3",
   "version": "3.8.8"
  },
  "widgets": {
   "application/vnd.jupyter.widget-state+json": {
    "state": {},
    "version_major": 2,
    "version_minor": 0
   }
  }
 },
 "nbformat": 4,
 "nbformat_minor": 4
}
