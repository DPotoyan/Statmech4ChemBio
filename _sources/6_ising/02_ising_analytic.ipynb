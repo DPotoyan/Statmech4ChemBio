{
 "cells": [
  {
   "cell_type": "markdown",
   "metadata": {
    "id": "JYnR-r60FT1A"
   },
   "source": [
    "# Phase transitions through the lense of Ising models "
   ]
  },
  {
   "cell_type": "markdown",
   "metadata": {
    "id": "0-QOtWwYFT1F"
   },
   "source": [
    "![](./figs/spont-mag.png)"
   ]
  },
  {
   "cell_type": "markdown",
   "metadata": {
    "id": "wDPYPJ49FT1G"
   },
   "source": [
    "### A. bit of history: Ising model and phase transitions\n",
    "\n",
    "**1895 Pierre Curie in his doctoral thesis studies types of magnetism, discovers**\n",
    "- The effect of temperature\n",
    "- A phase transition happening at the Curie point\n",
    "- The phenomenon occurs at the atomic scale\n",
    "\n",
    "![](./figs/Curie.png)"
   ]
  },
  {
   "cell_type": "markdown",
   "metadata": {
    "id": "dU0bWF25FT1G"
   },
   "source": [
    "**1920 Lenz introduces a lattice model for ferromagnetism** \n",
    "\n",
    "- Lenz argued that “atoms are dipoles which turn over between two positions”:\n",
    "- in a quantum-theoretical treatment they would by and large occupy two distinct positions."
   ]
  },
  {
   "cell_type": "markdown",
   "metadata": {
    "id": "5unvfVfiFT1G"
   },
   "source": [
    "**1920 Lenz suggests a project to his PhD student who comes up with a 1D model of spin lattice**\n",
    "\n",
    "- Each square represents spin state either +1 or -1\n",
    "- Only nearest-neighbouring spins interact"
   ]
  },
  {
   "cell_type": "markdown",
   "metadata": {
    "id": "vhlqg564FT1H"
   },
   "source": [
    "**1924 Ernst Ising PhD thesis. Conlcusion: No phase transition!?**\n",
    "\n",
    "- Ising finds no phase transition in dimension 1\n",
    "\n",
    "- Dismisses the models as too simplistic and mathemtical. **Wrongly concluded that there is\n",
    "no phase transition in all dimensions.**\n",
    "\n",
    "- Leaves science to teach college physics.\n",
    "\n",
    "- The paper was widely discussed (Pauli, Heisenberg, Dirac, …) with a consensus that it is oversimplified. "
   ]
  },
  {
   "cell_type": "markdown",
   "metadata": {
    "id": "xkEgTJWAFT1H"
   },
   "source": [
    "**1936 Rudolf Peierels: Unexpectedly proves that in dimension 2 the Lenz-Ising model undergoes a phase transition!!!**\n",
    "\n",
    "- reignites the interest in Ising models\n",
    "\n",
    "- His perhaps more influential work: 1940 memorandum with Otto Frisch often credited with starting the Manhattan project\n",
    "\n",
    "![](./figs/critical-ising.png)"
   ]
  },
  {
   "cell_type": "markdown",
   "metadata": {
    "id": "HdF8FhfGFT1H"
   },
   "source": [
    "**1941 Kramers-Wannier calculate critical Temperature**"
   ]
  },
  {
   "cell_type": "markdown",
   "metadata": {
    "id": "4DbhozM3FT1H"
   },
   "source": [
    "**1944 Onsager solves 2D Ising model, analytically**\n",
    "\n",
    "- Widely regarded as one tour de force of theoretical physics.\n",
    "\n",
    "-  Partition function, magnetization and other quantities derived\n",
    "\n",
    "- Larse Onsager was trained as a chemists. Many other Chemists, most notably Ben Widom contributed to theory of phase transition."
   ]
  },
  {
   "cell_type": "markdown",
   "metadata": {
    "id": "Y3XerhADFT1H"
   },
   "source": [
    "**1944- Ising model becomes a household system for studying phase tranistions**\n",
    "\n",
    "- From 1944 widely studied in mathematical physics, with many results by different methods:\n",
    "- Regained prominence in physics, used in biology, chemistry, economics, computer science…"
   ]
  },
  {
   "cell_type": "markdown",
   "metadata": {
    "id": "rLxI8f4dFT1I"
   },
   "source": [
    "**1970s Renomralization Group (RG) theory is developed by Kenneth Wilson (Nobel Prize 1982)**\n",
    "\n",
    "- The Curie critical point is universal and hence translation, scale and rotation invariant.\n",
    "\n",
    "- Ideas of Renormalizeation, scale invariance, universality and coarse graining widely enter into statistical mechanics. "
   ]
  },
  {
   "cell_type": "markdown",
   "metadata": {
    "id": "Fl8oihGaFT1I"
   },
   "source": [
    "**1985 Conformal Field Theory**"
   ]
  },
  {
   "cell_type": "markdown",
   "metadata": {
    "id": "rOLMgvWAFT1I"
   },
   "source": [
    "## Ising models: The H atom of phase transitions\n",
    "\n",
    "\n",
    "\n",
    "$$\\boxed{H([s])= \\sum_{\\langle ij \\rangle} J_{ij}s_i s_j - \\mu B \\sum_i s_i}$$\n",
    "\n",
    "<br>\n",
    "\n",
    "\n",
    "$$\\boxed{Z=\\sum_{[s]}e^{-H([s])/k_B T}}$$"
   ]
  },
  {
   "cell_type": "markdown",
   "metadata": {
    "id": "WVqj3tzoFT1I"
   },
   "source": [
    "### 1st order vs 2nd order phjase transition\n",
    "\n",
    "![](./figs/1st_2nd_Ising.png)"
   ]
  },
  {
   "cell_type": "markdown",
   "metadata": {
    "id": "FoY-smExFT1I"
   },
   "source": [
    "### Analogy with fluid phase transitions\n",
    "\n",
    "![](./figs/fluid-analogy.png)"
   ]
  },
  {
   "cell_type": "markdown",
   "metadata": {
    "id": "Rx-ut91OFT1J"
   },
   "source": [
    "### Critical Phenomena: Correlation length diverges\n",
    "\n",
    "![](./figs/crit1.png)"
   ]
  },
  {
   "cell_type": "markdown",
   "metadata": {
    "id": "635tpO02FT1J"
   },
   "source": [
    "### Critical Phenomena: Universaility at critical points \n",
    "\n",
    "![](./figs/crit2.png)"
   ]
  },
  {
   "cell_type": "markdown",
   "metadata": {
    "id": "-npNmZyNFT1J"
   },
   "source": [
    "![](./figs/crit3.png)"
   ]
  },
  {
   "cell_type": "markdown",
   "metadata": {
    "id": "rvI4FHgYFT1J"
   },
   "source": [
    "![](./figs/crit4.png)"
   ]
  },
  {
   "cell_type": "markdown",
   "metadata": {
    "id": "1Y_I8M6eFT1J"
   },
   "source": [
    "### Fluctuations, correlations and susceptibilities\n",
    "\n",
    "- **Heat capacity $C_v$**\n",
    "\n",
    "Heat capacity is again the familiar expression established in our treatment of canonical ensemble. \n",
    "\n",
    "$$ C_v(T) = \\Big (\\frac{\\partial E}{\\partial T} \\Big )_V= \\frac{1}{k_B T^2} \\big(\\langle E^2 \\rangle-\\langle E \\rangle^2 \\big) $$\n",
    "\n",
    "\n",
    "- **Susceptibility $\\chi$**\n",
    "\n",
    "Magnetic susceptibility quantifies response of the ssytem to the variation of magnetic field.\n",
    "\n",
    "$$\\chi(T)=\\Big (\\frac{\\partial M}{\\partial B} \\Big )_T= \\frac{1}{k_B T} \\big(\\langle M^2 \\rangle-\\langle M \\rangle^2 \\big) $$\n",
    "\n",
    "- **Correlation function $c(i,j)$  and correlation length**\n",
    "\n",
    "At high temperatures, spins on an ising lattice point up and down randomly. While at low temperatures, all spins tend to align. To quantify the degree of alignment, we can define a quantity named correlation length $\\xi$, which can be defined mathematically through correlation function $c(i,j)$ \n",
    "\n",
    "$$c(i,j)=\\langle s_i-\\langle s_i\\rangle\\rangle \\langle s_j-\\langle s_j\\rangle\\rangle$$"
   ]
  },
  {
   "cell_type": "markdown",
   "metadata": {
    "id": "Pt49e88SFT1K"
   },
   "source": [
    "### Some notable applications of Ising models. More applications are found [here](https://en.wikipedia.org/wiki/Ising_model)\n",
    "\n",
    "1. **Ferromagnetism**\n",
    "The Ising model is the scalar version of the three-dimensional ‘Heisenberg model’ :\n",
    "<br>\n",
    "\n",
    "2. **Binary alloys and lattice gases**\n",
    "Each lattice site is occupied either by an atom A or B. Nearest neighbour interac- tions are $\\epsilon_{AA}$, $\\epsilon_{BB}$ and $\\epsilon_{AB}$. We identify $A$ with $s_i = 1$ and B with $S_i = −1$. The Hamiltonian then is:\n",
    "$H = − ∑ J_{ij}s_is_j \\langle i,j\\rangle$\n",
    "with $J_{ij} = \\epsilon_{AB} − 0.5(\\epsilon_{AA} + \\epsilon_{BB})$. Thus the Ising model describes order-disorder \n",
    "transitions in regard to composition.\n",
    "<br>\n",
    "\n",
    "3. **Spin glasses**\n",
    "now each bond is assigned an individual coupling constant J and they are drawn from a random distribution. E.g. one can mix ferromagnetic and anti-ferromagnetic couplings. This is an example for a structurally disordered system, on top of which we can have a thermal order-disorder transition.\n",
    "<br>\n",
    "\n",
    "4. **Conformations in biomolecules**\n",
    "a famous example is the helix-coil transition from biophysics. $s_i$ a hydrogen bond in a DNA-molecules is closed; $s_i$ = −1 the bond is open. The phase tran- sition is between a straight DNA-molecule (helix) and a coiled DNA-molecule. Other examples are the oxygen-binding sites in hemoglobin, chemotactic recep- tors in the receptor fields of bacteria, or the molecules building the bacterial flag- ellum, which undergos a conformational switch if the flagellum is rotated in the other direction (switch from run to tumble phases).\n",
    "<br>\n",
    "\n",
    "5. **Neural networks representing the brain**\n",
    "$s_i = 1$ a synapse is firing, $s_i = −1$ it is resting. The Hopfield model for neu- ral networks is a dynamic version of the Ising model and Boltzmann machines recognise handwriting by using the Ising model.\n",
    "<br>\n",
    "\n",
    "6. **Spread of opinions or diseases**\n",
    "Spread of opinions, rumours or diseases in a society; these kinds of models are used in socioeconomic physics. If nearest neighbour coupling is sufficiently strong, the system gets ‘infected’."
   ]
  },
  {
   "cell_type": "markdown",
   "metadata": {
    "id": "JkGLnursFT1L"
   },
   "source": [
    "## The [Peierls](https://en.wikipedia.org/wiki/Rudolf_Peierls) argument for presence/absence of phase transitions in  1D, 2D and 3D\n",
    "\n",
    "Starting around 1933, Peierls published scaling arguments why a phase transition should occur in 2D as opposed to 1D"
   ]
  },
  {
   "cell_type": "markdown",
   "metadata": {
    "id": "SGh-fRLBFT1L"
   },
   "source": [
    "### No phase transition in 1D at T>0\n",
    "1D case Start with 1D chain of all spin up configuration and create an isalnd of oposite spins. \n",
    "\n",
    "$$++++++++++++++++++++$$\n",
    "\n",
    "$$++++++{\\bf \\boxed{-}----\\boxed{-}}++++++++$$\n",
    "\n",
    "- Energy cost is:\n",
    "\n",
    "$$\\Delta E = 2 \\cdot 2J =4J $$\n",
    "\n",
    "- Entropy cost is:\n",
    "\n",
    "$$\\Delta S = k_B log \\frac{N(N-1)}{2} \\approx 2k_B log N $$\n",
    "\n",
    "- Free Energy differnece:\n",
    "\n",
    "$$\\Delta F = 4J - 2k_B T log N < 0 $$\n",
    "\n",
    "Thus free energy for $N\\gg1$ is always negative for any finite temperature. It is always favorable to create grain boundaries due to entropic reasons. <br> **Phase transition in 1D cannot occur at finite temperature!**"
   ]
  },
  {
   "cell_type": "markdown",
   "metadata": {
    "id": "wA3aAbOkFT1L"
   },
   "source": [
    "### Phase transition in 2D at $T>0$ realizable"
   ]
  },
  {
   "cell_type": "markdown",
   "metadata": {
    "id": "YdM5LCBBFT1L"
   },
   "source": [
    "In 2D and 3D introducing isalnd of spins creates a surface spins sproportional to linear size of the island L which is now a macroscopic quantitiy comparable to N\n",
    "\n",
    "- Energy cost is:\n",
    "\n",
    "$$\\Delta E = L \\cdot 2J$$\n",
    "\n",
    "- Entropy cost using a crude estimate of random walk on cubic lattice is:\n",
    "\n",
    "$$\\Delta S = k_B log 3^L = k_B L log 3$$\n",
    "\n",
    "- Free Energy differnece:\n",
    "\n",
    "$$\\Delta F = L (2J -2k_B T log 3)$$\n",
    "\n",
    "$$T > T_c = \\frac{2J}{k_Blog 3}$$"
   ]
  },
  {
   "cell_type": "markdown",
   "metadata": {
    "id": "HT1PA0hUFT1L"
   },
   "source": [
    "## Analytic solutions for 1D Ising model\n",
    "\n",
    "$$H = -\\sum_{\\langle ij \\rangle} J s_i s_i -B\\sum_i s_i$$\n",
    "\n",
    "$$\\beta H = -\\sum_{\\langle ij \\rangle} K s_i s_i - h \\sum_i s_i$$\n",
    "\n",
    "$$K = \\frac{J}{k_B T}\\,\\, , \\,\\, h = \\frac{B}{k_B T} $$"
   ]
  },
  {
   "cell_type": "markdown",
   "metadata": {
    "id": "svsr10jlFT1L"
   },
   "source": [
    "### Case-1: $h\\neq 0$ and $J=0$"
   ]
  },
  {
   "cell_type": "markdown",
   "metadata": {
    "id": "T5JBtlg4FT1M"
   },
   "source": [
    "$$Z = \\sum_{[s]} e^{h \\sum s_i } = \\sum_{[s]} \\prod^{N}_{i=1} e^{h  s_i } = \\prod^{N}_i Z_i = Z^N_i$$\n",
    "\n",
    "$$Z_i = \\sum_{s_i} e^{h s_i} =  e^{h}+e^{-h} = 2cosh(h)$$"
   ]
  },
  {
   "cell_type": "markdown",
   "metadata": {
    "id": "S2P1furpFT1M"
   },
   "source": [
    "$$ m = \\langle s_i \\rangle = \\frac{\\partial log Z_i}{\\partial h} =  \\frac{e^{h}-e^{-h}}{e^{h}+e^{-h}} =tanh(h)$$"
   ]
  },
  {
   "cell_type": "markdown",
   "metadata": {
    "id": "yQLNywgIFT1M"
   },
   "source": [
    "- **Free energy**\n",
    "\n",
    "$$F = -\\beta^{-1} log Z = -\\beta^{-1} N log \\Big[  2cosh(\\beta B)\\Big]$$\n",
    "\n",
    "\n",
    "- **Energy.** Obtained by ensemble average of Ising Hamiltonian. Which comes down as simply the average of single spin multipled by number of spins\n",
    "\n",
    "$$U = -N B\\langle s \\rangle = -N B \\cdot tanh(\\beta B)$$\n",
    "\n",
    "<br>\n",
    "\n",
    "- **Entropy** can be computed as $(U-F)/T$ or as $S=-\\frac{\\partial F}{\\partial T}$\n",
    "\n",
    "$$S = N k_B\\Big(-\\beta B \\cdot tanh(\\beta B) + log \\Big[  2cosh(\\beta B)\\Big] \\Big)$$\n",
    "\n",
    "\n",
    "- **Heat capacity** \n",
    "$$c = \\frac{1}{N}\\frac{\\partial U}{\\partial T} = k_B \\beta^2 B^2 sech^2 (\\beta B)$$\n",
    "\n",
    "We see that heat capacity goes to zero at both $T=0$ and $T=\\infty$"
   ]
  },
  {
   "cell_type": "code",
   "execution_count": null,
   "metadata": {
    "executionInfo": {
     "elapsed": 502,
     "status": "ok",
     "timestamp": 1618860636619,
     "user": {
      "displayName": "Davit Potoyan",
      "photoUrl": "https://lh3.googleusercontent.com/a-/AOh14GiUdLXplMG8UEHwBVcNr7CDgo7SDIZxxozSCzi7xQ=s64",
      "userId": "16339487288737364945"
     },
     "user_tz": 300
    },
    "id": "BrCKiNrYFT1M"
   },
   "outputs": [],
   "source": [
    "import ipywidgets as widgets\n",
    "import matplotlib.pyplot as plt\n",
    "import numpy as np\n",
    "import scipy as sp"
   ]
  },
  {
   "cell_type": "code",
   "execution_count": null,
   "metadata": {
    "colab": {
     "base_uri": "https://localhost:8080/",
     "height": 320,
     "referenced_widgets": [
      "c21cf9cbd106436fac9e256eb740d609",
      "eb1d5be38ae7406ab6a6593f18485a73",
      "652daf1562f24bb4be9e0ca91ec49cf6",
      "2d82ea5e6bdc46dc9db5f4195a980882",
      "295d1e6f10cb46b69fd66a084e7a931c",
      "2154074e8235485e8fba26f11d653569",
      "eba4d890bba847dda94fca453504e926"
     ]
    },
    "executionInfo": {
     "elapsed": 879,
     "status": "ok",
     "timestamp": 1618860657929,
     "user": {
      "displayName": "Davit Potoyan",
      "photoUrl": "https://lh3.googleusercontent.com/a-/AOh14GiUdLXplMG8UEHwBVcNr7CDgo7SDIZxxozSCzi7xQ=s64",
      "userId": "16339487288737364945"
     },
     "user_tz": 300
    },
    "id": "zRly6nfUFT1N",
    "outputId": "102b1b57-d4b1-417f-a5e7-033fbc379493"
   },
   "outputs": [],
   "source": [
    "@widgets.interact(kbT=(0.1,10))\n",
    "def mag1(kbT=1):\n",
    "    \n",
    "    x = np.linspace(-10,10,1000)\n",
    "    plt.plot(x, np.tanh(x/kbT), lw=3, label=f'$k_B T={kbT}$')\n",
    "    plt.xlabel('h, magnetic field',fontsize=16)\n",
    "    plt.ylabel('m, magnetization',fontsize=16)\n",
    "    plt.legend(fontsize=16)\n"
   ]
  },
  {
   "cell_type": "markdown",
   "metadata": {
    "id": "LRRvhwbaFT1N"
   },
   "source": [
    "### Case-2: $h= 0$ and $J\\neq 0$"
   ]
  },
  {
   "cell_type": "markdown",
   "metadata": {
    "id": "VFpZbjajFT1O"
   },
   "source": [
    "$$H = -J \\sum^{N-1}_{i=1} s_i s_{i+1}$$\n",
    "\n",
    "- We use free boundary conditions\n",
    "- Let $\\tau_1 =s_1$ and $\\tau_j =s_{j-1} s_j$ for $j\\geq 2$\n",
    "\n",
    "$$H = -J \\sum^{N}_{i=2} \\tau_i$$\n",
    "\n",
    "- There will be an overall factor of 2 in front of partition function becasue of summation over $\\tau_1$"
   ]
  },
  {
   "cell_type": "markdown",
   "metadata": {
    "id": "rVF9YNVsFT1O"
   },
   "source": [
    "$$Z = \\sum_{\\tau} \\prod^{N}_{j=1} e^{K \\tau_j} = 2 \\prod^{N}_{j=2} \\sum_{\\tau_j} e^{K \\tau_j} =2 \\prod^{N}_{j=2} Z_j$$\n",
    "\n",
    "$$Z_j = e^K +e^{-K} = 2cosh(K) =2cosh(\\beta J)$$\n",
    "\n",
    "$$Z =2Z^{N-1}_j = 2 (2 cosh(K))^{N-1} \\approx (2 cosh(K))^N$$\n",
    "\n",
    "$$F = -\\beta^{-1}logZ = -k_B T N log [2cosh(\\beta J)]$$ "
   ]
  },
  {
   "cell_type": "markdown",
   "metadata": {
    "id": "GfRnZxL0FT1O"
   },
   "source": [
    "### Case-3: $h \\neq$ and $J\\neq 0$ and Transfer Matrix technique"
   ]
  },
  {
   "cell_type": "markdown",
   "metadata": {
    "id": "UHOmGycdFT1O"
   },
   "source": [
    "$$H = -J \\sum^{N-1}_{i=1} s_i s_{i+1} - \\frac{B}{2} (s_j +s_{j+1})$$\n",
    "\n",
    "- We write hamiltonain in this symmetric form consisting of sums of $(s_j, s_{j+1})$ terms for presenting partiion function as product of terms. "
   ]
  },
  {
   "cell_type": "markdown",
   "metadata": {
    "id": "yBpkZVHoFT1O"
   },
   "source": [
    "$$Z = \\sum_{[s]}\\prod_j  e^{K s_j s_{j+1}+\\frac{1}{2}h(s_j+s_{J+1})} = \\sum_{[s]}\\prod_j T(s_j, s_{j+1})$$\n",
    "\n",
    "- Transfer matrix has been introduced: \n",
    "\n",
    "$$T(s_j, s_{j+1}) =  e^{K s_j s_{j+1}+\\frac{1}{2}h(s_j+s_{J+1})}$$\n",
    "\n",
    "$$T(s_j, s_{j+1}) = \\begin{pmatrix}\n",
    "e^{K+h} & e^{-K} \\\\\n",
    "e^{-K} & e^{K-h}\n",
    "\\end{pmatrix} $$\n",
    "\n",
    "While compared to previous examples partition function did not factor out into single particle contributions we nevertheless have factored the partition function as product of 2 by 2 matrices! "
   ]
  },
  {
   "cell_type": "markdown",
   "metadata": {
    "id": "K_HLxtiNFT1O"
   },
   "source": [
    "### Note the close connection of matrix technique applied to partion functions  with mathematical formalism of quantum mechanics! \n",
    "\n",
    "In quantum mecchanical notation $T_{j,j+1} = \\langle s_j | T | s_{j+1}\\rangle$ can be seen as an operator that propagates or transfers state from spin $j+1$ to spin state $j$. "
   ]
  },
  {
   "cell_type": "markdown",
   "metadata": {
    "id": "-k3PBPw5FT1O"
   },
   "source": [
    "$$Z = \\sum_{[s]}e^{-\\beta H} = \\sum_{s_1,s_2,...s_N}  \\langle s_1 | T | s_{2}\\rangle \\langle s_2 | T | s_{3}\\rangle ...\\langle s_{N-1} | T | s_{N}\\rangle$$\n",
    "\n",
    "$$Z  = \\sum_{s_1 = \\pm 1} \\langle s_1 | T^N | s_{1}\\rangle  = Tr(T^N)$$\n",
    "\n",
    "Trace of matrix is invariant to unitary trasnformation $U^{-1} T U =D$ which we can use to diagonalize the matrix $T$ which then allows to us to write the N product in terms of two diagonal elements:\n",
    "\n",
    "$$Z = \\lambda^N_1 +\\lambda^N_2$$"
   ]
  },
  {
   "cell_type": "markdown",
   "metadata": {
    "id": "tGAt9tbWFT1P"
   },
   "source": [
    "**Problem is reduced to diagonalizing the transfer matrix**\n",
    "\n",
    "$$det \\begin{pmatrix}\n",
    "e^{K+h}-\\lambda & e^{-K} \\\\\n",
    "e^{-K} & e^{K-h}-\\lambda\n",
    "\\end{pmatrix} =0 $$\n",
    "\n",
    "$$\\lambda_{1,2} = e^K \\big ( cosh(h) \\pm \\sqrt{cosh^2(h)-2e^{-2K}sinh(2K)}\\Big)$$\n",
    "\n",
    "- Thus we have arrived at an exact solution for the one dimension Ising model with external field:\n",
    "\n",
    "$$Z = \\lambda^N_1 +\\lambda^N_2 = \\lambda^N_1 \\Big(1+\\big (\\frac{\\lambda_2}{\\lambda_1}\\big)^N \\Big)\\rightarrow \\lambda^N_1$$"
   ]
  },
  {
   "cell_type": "markdown",
   "metadata": {
    "id": "KvenUiHKFT1P"
   },
   "source": [
    "**No phase transition at finite $T>0$ is posisble for 1D ising model as free energy remains analytic for T>0**\n",
    "\n",
    "$$F = -k_B T N log \\lambda_1 $$"
   ]
  }
 ],
 "metadata": {
  "colab": {
   "collapsed_sections": [],
   "name": "02_ising_analytic.ipynb",
   "provenance": []
  },
  "kernelspec": {
   "display_name": "Python 3",
   "language": "python",
   "name": "python3"
  },
  "language_info": {
   "codemirror_mode": {
    "name": "ipython",
    "version": 3
   },
   "file_extension": ".py",
   "mimetype": "text/x-python",
   "name": "python",
   "nbconvert_exporter": "python",
   "pygments_lexer": "ipython3",
   "version": "3.8.8"
  },
  "livereveal": {
   "theme": "sky"
  },
  "nteract": {
   "version": "0.21.0"
  },
  "toc": {
   "base_numbering": 1,
   "nav_menu": {},
   "number_sections": true,
   "sideBar": true,
   "skip_h1_title": false,
   "title_cell": "Table of Contents",
   "title_sidebar": "Contents",
   "toc_cell": false,
   "toc_position": {},
   "toc_section_display": true,
   "toc_window_display": false
  },
  "widgets": {
   "application/vnd.jupyter.widget-state+json": {
    "state": {},
    "version_major": 2,
    "version_minor": 0
   }
  }
 },
 "nbformat": 4,
 "nbformat_minor": 4
}
