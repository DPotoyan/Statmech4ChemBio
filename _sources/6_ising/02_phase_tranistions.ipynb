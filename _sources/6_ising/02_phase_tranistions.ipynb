{
 "cells": [
  {
   "cell_type": "markdown",
   "metadata": {
    "id": "JYnR-r60FT1A"
   },
   "source": [
    "# Phase transitions through the lense of Ising models "
   ]
  },
  {
   "cell_type": "markdown",
   "metadata": {
    "id": "0-QOtWwYFT1F"
   },
   "source": [
    "![](./figs/spont-mag.png)"
   ]
  },
  {
   "cell_type": "markdown",
   "metadata": {
    "id": "wDPYPJ49FT1G"
   },
   "source": [
    "### A. bit of history: Ising model and phase transitions\n",
    "\n",
    "**1895 Pierre Curie in his doctoral thesis studies types of magnetism, discovers**\n",
    "- The effect of temperature\n",
    "- A phase transition happening at the Curie point\n",
    "- The phenomenon occurs at the atomic scale\n",
    "\n",
    "![](./figs/Curie.png)"
   ]
  },
  {
   "cell_type": "markdown",
   "metadata": {
    "id": "dU0bWF25FT1G"
   },
   "source": [
    "**1920 Lenz introduces a lattice model for ferromagnetism** \n",
    "\n",
    "- Lenz argued that “atoms are dipoles which turn over between two positions”:\n",
    "- in a quantum-theoretical treatment they would by and large occupy two distinct positions."
   ]
  },
  {
   "cell_type": "markdown",
   "metadata": {
    "id": "5unvfVfiFT1G"
   },
   "source": [
    "**1920 Lenz suggests a project to his PhD student who comes up with a 1D model of spin lattice**\n",
    "\n",
    "- Each square represents spin state either +1 or -1\n",
    "- Only nearest-neighbouring spins interact"
   ]
  },
  {
   "cell_type": "markdown",
   "metadata": {
    "id": "vhlqg564FT1H"
   },
   "source": [
    "**1924 Ernst Ising PhD thesis. Conlcusion: No phase transition!?**\n",
    "\n",
    "- Ising finds no phase transition in dimension 1\n",
    "\n",
    "- Dismisses the models as too simplistic and mathemtical. **Wrongly concluded that there is\n",
    "no phase transition in all dimensions.**\n",
    "\n",
    "- Leaves science to teach college physics.\n",
    "\n",
    "- The paper was widely discussed (Pauli, Heisenberg, Dirac, …) with a consensus that it is oversimplified. "
   ]
  },
  {
   "cell_type": "markdown",
   "metadata": {
    "id": "xkEgTJWAFT1H"
   },
   "source": [
    "**1936 Rudolf Peierels: Unexpectedly proves that in dimension 2 the Lenz-Ising model undergoes a phase transition!!!**\n",
    "\n",
    "- reignites the interest in Ising models\n",
    "\n",
    "- His perhaps more influential work: 1940 memorandum with Otto Frisch often credited with starting the Manhattan project\n",
    "\n",
    "![](./figs/critical-ising.png)"
   ]
  },
  {
   "cell_type": "markdown",
   "metadata": {
    "id": "HdF8FhfGFT1H"
   },
   "source": [
    "**1941 Kramers-Wannier calculate critical Temperature**"
   ]
  },
  {
   "cell_type": "markdown",
   "metadata": {
    "id": "4DbhozM3FT1H"
   },
   "source": [
    "**1944 Onsager solves 2D Ising model, analytically**\n",
    "\n",
    "- Widely regarded as one tour de force of theoretical physics.\n",
    "\n",
    "-  Partition function, magnetization and other quantities derived\n",
    "\n",
    "- Larse Onsager was trained as a chemists. Many other Chemists, most notably Ben Widom contributed to theory of phase transition."
   ]
  },
  {
   "cell_type": "markdown",
   "metadata": {
    "id": "Y3XerhADFT1H"
   },
   "source": [
    "**1944- Ising model becomes a household system for studying phase tranistions**\n",
    "\n",
    "- From 1944 widely studied in mathematical physics, with many results by different methods:\n",
    "- Regained prominence in physics, used in biology, chemistry, economics, computer science…"
   ]
  },
  {
   "cell_type": "markdown",
   "metadata": {
    "id": "rLxI8f4dFT1I"
   },
   "source": [
    "**1970s Renomralization Group (RG) theory is developed by Kenneth Wilson (Nobel Prize 1982)**\n",
    "\n",
    "- The Curie critical point is universal and hence translation, scale and rotation invariant.\n",
    "\n",
    "- Ideas of Renormalizeation, scale invariance, universality and coarse graining widely enter into statistical mechanics. "
   ]
  },
  {
   "cell_type": "markdown",
   "metadata": {
    "id": "Fl8oihGaFT1I"
   },
   "source": [
    "**1985 Conformal Field Theory**"
   ]
  },
  {
   "cell_type": "markdown",
   "metadata": {
    "id": "rOLMgvWAFT1I"
   },
   "source": [
    "## Ising models: The H atom of phase transitions\n",
    "\n",
    "\n",
    "\n",
    "$$\\boxed{H([s])= \\sum_{\\langle ij \\rangle} J_{ij}s_i s_j - \\mu B \\sum_i s_i}$$\n",
    "\n",
    "<br>\n",
    "\n",
    "\n",
    "$$\\boxed{Z=\\sum_{[s]}e^{-H([s])/k_B T}}$$"
   ]
  },
  {
   "cell_type": "markdown",
   "metadata": {
    "id": "WVqj3tzoFT1I"
   },
   "source": [
    "### 1st order vs 2nd order phjase transition\n",
    "\n",
    "![](./figs/1st_2nd_Ising.png)"
   ]
  },
  {
   "cell_type": "markdown",
   "metadata": {
    "id": "FoY-smExFT1I"
   },
   "source": [
    "### Analogy with fluid phase transitions\n",
    "\n",
    "![](./figs/fluid-analogy.png)"
   ]
  },
  {
   "cell_type": "markdown",
   "metadata": {
    "id": "Rx-ut91OFT1J"
   },
   "source": [
    "### Critical Phenomena: Correlation length diverges\n",
    "\n",
    "![](./figs/crit1.png)"
   ]
  },
  {
   "cell_type": "markdown",
   "metadata": {
    "id": "635tpO02FT1J"
   },
   "source": [
    "### Critical Phenomena: Universaility at critical points \n",
    "\n",
    "![](./figs/crit2.png)"
   ]
  },
  {
   "cell_type": "markdown",
   "metadata": {
    "id": "-npNmZyNFT1J"
   },
   "source": [
    "![](./figs/crit3.png)"
   ]
  },
  {
   "cell_type": "markdown",
   "metadata": {
    "id": "rvI4FHgYFT1J"
   },
   "source": [
    "![](./figs/crit4.png)"
   ]
  },
  {
   "cell_type": "markdown",
   "metadata": {},
   "source": [
    "### Thermodynamics of magnetic systems\n",
    "\n",
    "For magnetic systems placed under external field $B$ the change in internal energy consists of an extra term of work done by the external field to displace mangetization $M$\n",
    "\n",
    "$$dU = TdS + B dM$$\n",
    "\n",
    "A free energy as a function of intensive variables can be written down following legendre transform:\n",
    "\n",
    "\n",
    "$$dF = -SdT - M dB$$\n",
    "\n",
    "- Magnetization and Entropy can now be linked to derivatives of free energy\n",
    "\n",
    "$$M = - \\Big( \\frac{\\partial F}{\\partial B} \\Big)_{T}$$\n",
    "\n",
    "$$S = - \\Big(\\frac{\\partial F}{\\partial T}\\Big)_{B}$$"
   ]
  },
  {
   "cell_type": "markdown",
   "metadata": {
    "id": "1Y_I8M6eFT1J"
   },
   "source": [
    "### Fluctuations, correlations and susceptibilities\n",
    "\n",
    "- **Heat capacity $C_v$**\n",
    "\n",
    "Heat capacity is again the familiar expression established in our treatment of canonical ensemble. \n",
    "\n",
    "$$ C_v(T) = \\Big (\\frac{\\partial E}{\\partial T} \\Big )_V= \\frac{1}{k_B T^2} \\big(\\langle E^2 \\rangle-\\langle E \\rangle^2 \\big) $$\n",
    "\n",
    "\n",
    "- **Susceptibility $\\chi$**\n",
    "\n",
    "Magnetic susceptibility quantifies response of the ssytem to the variation of magnetic field.\n",
    "\n",
    "$$\\chi(T)=\\Big (\\frac{\\partial M}{\\partial B} \\Big )_T= \\frac{1}{k_B T} \\big(\\langle M^2 \\rangle-\\langle M \\rangle^2 \\big) $$\n",
    "\n",
    "- **Correlation function $c(i,j)$  and correlation length**\n",
    "\n",
    "At high temperatures, spins on an ising lattice point up and down randomly. While at low temperatures, all spins tend to align. To quantify the degree of alignment, we can define a quantity named correlation length $\\xi$, which can be defined mathematically through correlation function $c(i,j)$ \n",
    "\n",
    "$$c(i,j)=\\langle s_i-\\langle s_i\\rangle\\rangle \\langle s_j-\\langle s_j\\rangle\\rangle$$"
   ]
  },
  {
   "cell_type": "markdown",
   "metadata": {
    "id": "Pt49e88SFT1K"
   },
   "source": [
    "### Some notable applications of Ising models.\n",
    "\n",
    "1. **Ferromagnetism**\n",
    "The Ising model is the scalar version of the three-dimensional ‘Heisenberg model’ :\n",
    "<br>\n",
    "\n",
    "2. **Binary alloys and lattice gases**\n",
    "Each lattice site is occupied either by an atom A or B. Nearest neighbour interac- tions are $\\epsilon_{AA}$, $\\epsilon_{BB}$ and $\\epsilon_{AB}$. We identify $A$ with $s_i = 1$ and B with $S_i = −1$. The Hamiltonian then is:\n",
    "$H = − ∑ J_{ij}s_is_j \\langle i,j\\rangle$\n",
    "with $J_{ij} = \\epsilon_{AB} − 0.5(\\epsilon_{AA} + \\epsilon_{BB})$. Thus the Ising model describes order-disorder \n",
    "transitions in regard to composition.\n",
    "<br>\n",
    "\n",
    "3. **Spin glasses**\n",
    "now each bond is assigned an individual coupling constant J and they are drawn from a random distribution. E.g. one can mix ferromagnetic and anti-ferromagnetic couplings. This is an example for a structurally disordered system, on top of which we can have a thermal order-disorder transition.\n",
    "<br>\n",
    "\n",
    "4. **Conformations in biomolecules**\n",
    "a famous example is the helix-coil transition from biophysics. $s_i$ a hydrogen bond in a DNA-molecules is closed; $s_i$ = −1 the bond is open. The phase tran- sition is between a straight DNA-molecule (helix) and a coiled DNA-molecule. Other examples are the oxygen-binding sites in hemoglobin, chemotactic recep- tors in the receptor fields of bacteria, or the molecules building the bacterial flag- ellum, which undergos a conformational switch if the flagellum is rotated in the other direction (switch from run to tumble phases).\n",
    "<br>\n",
    "\n",
    "5. **Neural networks representing the brain**\n",
    "$s_i = 1$ a synapse is firing, $s_i = −1$ it is resting. The Hopfield model for neu- ral networks is a dynamic version of the Ising model and Boltzmann machines recognise handwriting by using the Ising model.\n",
    "<br>\n",
    "\n",
    "6. **Spread of opinions or diseases**\n",
    "Spread of opinions, rumours or diseases in a society; these kinds of models are used in socioeconomic physics. If nearest neighbour coupling is sufficiently strong, the system gets ‘infected’."
   ]
  },
  {
   "cell_type": "markdown",
   "metadata": {
    "id": "JkGLnursFT1L"
   },
   "source": [
    "## The Peierls argument for presence/absence of phase transitions in  1D, 2D and 3D\n",
    "\n",
    "Starting around 1933, Peierls published scaling arguments why a phase transition should occur in 2D as opposed to 1D"
   ]
  },
  {
   "cell_type": "markdown",
   "metadata": {
    "id": "SGh-fRLBFT1L"
   },
   "source": [
    "### No phase transition in 1D at T>0\n",
    "1D case Start with 1D chain of all spin up configuration and create an isalnd of oposite spins. \n",
    "\n",
    "$$++++++++++++++++++++$$\n",
    "\n",
    "$$++++++{\\bf \\boxed{-}----\\boxed{-}}++++++++$$\n",
    "\n",
    "- Energy cost is:\n",
    "\n",
    "$$\\Delta E = 2 \\cdot 2J =4J $$\n",
    "\n",
    "- Entropy cost is:\n",
    "\n",
    "$$\\Delta S = k_B log \\frac{N(N-1)}{2} \\approx 2k_B log N $$\n",
    "\n",
    "- Free Energy differnece:\n",
    "\n",
    "$$\\Delta F = 4J - 2k_B T log N < 0 $$\n",
    "\n",
    "Thus free energy for $N\\gg1$ is always negative for any finite temperature. It is always favorable to create grain boundaries due to entropic reasons. <br> **Phase transition in 1D cannot occur at finite temperature!**"
   ]
  },
  {
   "cell_type": "markdown",
   "metadata": {
    "id": "wA3aAbOkFT1L"
   },
   "source": [
    "### Phase transition in 2D at $T>0$ realizable"
   ]
  },
  {
   "cell_type": "markdown",
   "metadata": {
    "id": "YdM5LCBBFT1L"
   },
   "source": [
    "In 2D and 3D introducing isalnd of spins creates a surface spins sproportional to linear size of the island L which is now a macroscopic quantitiy comparable to N\n",
    "\n",
    "- Energy cost is:\n",
    "\n",
    "$$\\Delta E = L \\cdot 2J$$\n",
    "\n",
    "- Entropy cost using a crude estimate of random walk on cubic lattice is:\n",
    "\n",
    "$$\\Delta S = k_B log 3^L = k_B L log 3$$\n",
    "\n",
    "- Free Energy differnece:\n",
    "\n",
    "$$\\Delta F = L (2J -2k_B T log 3)$$\n",
    "\n",
    "$$T > T_c = \\frac{2J}{k_Blog 3}$$"
   ]
  }
 ],
 "metadata": {
  "colab": {
   "collapsed_sections": [],
   "name": "02_ising_analytic.ipynb",
   "provenance": []
  },
  "kernelspec": {
   "display_name": "Python 3 (ipykernel)",
   "language": "python",
   "name": "python3"
  },
  "language_info": {
   "codemirror_mode": {
    "name": "ipython",
    "version": 3
   },
   "file_extension": ".py",
   "mimetype": "text/x-python",
   "name": "python",
   "nbconvert_exporter": "python",
   "pygments_lexer": "ipython3",
   "version": "3.9.16"
  },
  "livereveal": {
   "theme": "sky"
  },
  "nteract": {
   "version": "0.21.0"
  },
  "toc": {
   "base_numbering": 1,
   "nav_menu": {},
   "number_sections": true,
   "sideBar": true,
   "skip_h1_title": false,
   "title_cell": "Table of Contents",
   "title_sidebar": "Contents",
   "toc_cell": false,
   "toc_position": {},
   "toc_section_display": true,
   "toc_window_display": false
  },
  "widgets": {
   "application/vnd.jupyter.widget-state+json": {
    "state": {},
    "version_major": 2,
    "version_minor": 0
   }
  }
 },
 "nbformat": 4,
 "nbformat_minor": 4
}
