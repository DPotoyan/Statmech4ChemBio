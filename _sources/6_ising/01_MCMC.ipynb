{
 "cells": [
  {
   "cell_type": "markdown",
   "metadata": {
    "id": "HrNpG_LzFbuj"
   },
   "source": [
    "# Ising models and Metropolis algorithm"
   ]
  },
  {
   "cell_type": "code",
   "execution_count": 2,
   "metadata": {
    "executionInfo": {
     "elapsed": 335,
     "status": "ok",
     "timestamp": 1618583375336,
     "user": {
      "displayName": "Davit Potoyan",
      "photoUrl": "https://lh3.googleusercontent.com/a-/AOh14GiUdLXplMG8UEHwBVcNr7CDgo7SDIZxxozSCzi7xQ=s64",
      "userId": "16339487288737364945"
     },
     "user_tz": 300
    },
    "id": "Piq9Cs-vFbun"
   },
   "outputs": [],
   "source": [
    "import matplotlib.pyplot as plt\n",
    "import ipywidgets as widgets\n",
    "\n",
    "import numpy as np"
   ]
  },
  {
   "cell_type": "markdown",
   "metadata": {
    "id": "B3Yjz-JqFbuq"
   },
   "source": [
    "- Ising models are a class of simple lattice based spin $s = \\pm 1$ ssytems which are widely used for studying the nature of phase transitions.\n",
    "\n",
    "- Many aspects of phase transitions are universal and independent of mciroscopic details of interactions. Hence One wants as simple of a model capable of displaying phase transition as possible! Ising models fit the bill perfectly and one could even obtain analytical solutions (1D and 2D).\n",
    "\n",
    "- Ising Models are defined by hamiltonian which encodes interactions between spins $i$ and $j$ (nearest enighbours $|i-j|=1$) and interactions of spins with an external field $B$\n",
    "\n",
    "$$\\boxed{H([s])= \\sum_{\\langle ij \\rangle} J_{ij}s_i s_j - \\mu B \\sum_i s_i}$$\n",
    "\n",
    "- Partition function is sum over all posisble microstates or in the case of Ising models over all possible spin configurations!\n",
    "\n",
    "$$\\boxed{Z=\\sum_{[s]}e^{-H([s])/k_B T}}$$\n",
    "\n",
    "- Note that the spin lattice in Ising models could be in 1D, 2D, 3D, ... ND dimensions. In this notebook we only look at 2D becuase it is the simplest system that can display phase-transition and plus is faster to simulate and visualize"
   ]
  },
  {
   "cell_type": "markdown",
   "metadata": {},
   "source": [
    "### Thermodynamics of Ising models\n",
    "\n",
    "#### Magnetization\n",
    "\n",
    "- **Total magnetization, $M$**  \n",
    "\n",
    "$$M([s])=\\sum_is_i $$\n",
    "\n",
    "- **Magnetization per spin $m$** \n",
    "\n",
    "$$m([s])=\\frac{1}{N}\\sum_is_i =\\frac{M}{N}$$"
   ]
  },
  {
   "cell_type": "markdown",
   "metadata": {},
   "source": [
    "#### Heat capacity $C_v$\n",
    "\n",
    "$$ C_V(T) = \\Big (\\frac{\\partial E}{\\partial T} \\Big )_V= \\frac{1}{k_B T^2} \\big(\\langle E^2 \\rangle-\\langle E \\rangle^2 \\big) $$\n",
    "\n",
    "#### Susceptibility $\\chi$\n",
    "\n",
    "$$\\chi_T=\\Big (\\frac{\\partial M}{\\partial B} \\Big )_T= \\frac{1}{k_B T} \\big(\\langle M^2 \\rangle-\\langle M \\rangle^2 \\big) $$"
   ]
  },
  {
   "cell_type": "markdown",
   "metadata": {},
   "source": [
    "### Free energy profile\n",
    "\n",
    "$$Z(M) = \\sum_{[s]} e^{-\\beta H([s])} \\delta (M-M([s]))$$\n",
    "\n",
    "$$F(M)=-\\beta^{-1} log Z(M)$$\n",
    "\n",
    "Note that $Z(M)$ is a partial sum over states for which magnetization is equal to a particular value $M$ as opposed to the full partition function $Z$ where summation is unrestricted."
   ]
  },
  {
   "cell_type": "markdown",
   "metadata": {},
   "source": [
    "### Numerical calculation of thermodynamic quantities"
   ]
  },
  {
   "cell_type": "code",
   "execution_count": 3,
   "metadata": {
    "id": "dpVMe8amFbuq",
    "outputId": "e15d0b8f-4221-472d-83a9-b3bf44193e51"
   },
   "outputs": [
    {
     "name": "stdout",
     "output_type": "stream",
     "text": [
      "[[ 1 -1  1 -1 -1  1 -1  1]\n",
      " [ 1  1 -1 -1  1 -1 -1 -1]\n",
      " [ 1 -1 -1 -1  1  1  1 -1]\n",
      " [-1 -1  1  1 -1  1  1 -1]\n",
      " [-1 -1 -1 -1  1 -1  1  1]\n",
      " [ 1  1 -1  1 -1  1 -1 -1]\n",
      " [ 1  1 -1  1  1 -1 -1 -1]\n",
      " [-1 -1  1 -1 -1 -1 -1  1]]\n"
     ]
    },
    {
     "data": {
      "text/plain": [
       "<matplotlib.image.AxesImage at 0x7fa5c0d6f9a0>"
      ]
     },
     "execution_count": 3,
     "metadata": {},
     "output_type": "execute_result"
    },
    {
     "data": {
      "image/png": "[encoded data removed]",
      "text/plain": [
       "<Figure size 432x288 with 1 Axes>"
      ]
     },
     "metadata": {
      "needs_background": "light"
     },
     "output_type": "display_data"
    }
   ],
   "source": [
    "spins = np.random.choice([-1,1],size=(8,8))\n",
    "\n",
    "print(spins)\n",
    "\n",
    "plt.imshow(spins)"
   ]
  },
  {
   "cell_type": "markdown",
   "metadata": {
    "id": "LBBclNXcFbur"
   },
   "source": [
    "### Enforcing periodic boundary conditions"
   ]
  },
  {
   "cell_type": "code",
   "execution_count": 4,
   "metadata": {},
   "outputs": [
    {
     "data": {
      "text/plain": [
       "<matplotlib.image.AxesImage at 0x7fa5c0e2bd90>"
      ]
     },
     "execution_count": 4,
     "metadata": {},
     "output_type": "execute_result"
    },
    {
     "data": {
      "image/png": "[encoded data removed]",
      "text/plain": [
       "<Figure size 432x288 with 3 Axes>"
      ]
     },
     "metadata": {
      "needs_background": "light"
     },
     "output_type": "display_data"
    }
   ],
   "source": [
    "X = np.array([[1, 2 ,3], \n",
    "              [4, 5, 6],\n",
    "              [7, 8, 9]])\n",
    "Y = np.roll(X, 1, axis=0)\n",
    "Z = np.roll(X, -1, axis=0)\n",
    "\n",
    "fig, (ax1, ax2, ax3) = plt.subplots(ncols=3)\n",
    "ax1.imshow(X, cmap='jet')\n",
    "ax2.imshow(Y, cmap='jet')\n",
    "ax3.imshow(Z, cmap='jet')"
   ]
  },
  {
   "cell_type": "code",
   "execution_count": 31,
   "metadata": {},
   "outputs": [],
   "source": [
    "def get_E(spins, J=1, B=0):\n",
    "    '''Compute energy of spin lattice by lopping over each spin \n",
    "    with periodic boundary conditions enforced \n",
    "    via numpy roll''' \n",
    "      \n",
    "    z = np.roll(spins, 1, axis = 0) + np.roll(spins, -1, axis = 0) + \\\n",
    "        np.roll(spins, 1, axis = 1) + np.roll(spins, -1, axis = 1)\n",
    "\n",
    "    E = np.sum( -J*spins*z/4 )\n",
    "    \n",
    "    return E - B*np.sum(spins)\n",
    "\n",
    "def get_E2(spins,N,J,B):   \n",
    "     \n",
    "    N =len(spins)\n",
    "    E = 0\n",
    "    for i in range(N):\n",
    "        for j in range(N):   \n",
    "            z = spins[(i+1)%N, j] + spins[(i-1)%N, j] +\\\n",
    "                spins[i,(j+1)%N]  +  spins[i,(j-1)%N]\n",
    "            E += -J*z*spins[i,j]/4 \n",
    "            \n",
    "    return E - B*np.sum(spins) \n",
    "\n",
    "\n",
    "def get_dE(spins, i, j, J=1, B=0):\n",
    "    '''Compute change in energy of 2D spin lattice \n",
    "    after flipping a spin at a location (i,j''' \n",
    "    \n",
    "    N = len(spins)\n",
    "    \n",
    "    z  = spins[(i+1)%N, j] + spins[(i-1)%N, j] + \\\n",
    "             spins[i, (j+1)%N] + spins[i, (j-1)%N] \n",
    "             \n",
    "    dE = 2*spins[i,j]*(J*z + B)\n",
    "    \n",
    "    return dE\n",
    "        "
   ]
  },
  {
   "cell_type": "code",
   "execution_count": 38,
   "metadata": {},
   "outputs": [],
   "source": [
    "#get_E(spins)\n",
    "#get_dE(spins, 1, 2)"
   ]
  },
  {
   "cell_type": "markdown",
   "metadata": {
    "id": "Hq1Fj7ZYFbuv"
   },
   "source": [
    "### Sampling of Boltzmann distribution: MC vs MCMC\n",
    "\n",
    "**MC sampling**\n",
    "- How to compute the expectation value of a thermodynamic variable $A$. In theory everything is simple: we need to sample from the exponential distribution.\n",
    "\n",
    "$$P(E_i)= \\frac{e^{-\\beta E_i}}{\\sum_i e^{-\\beta E_i}}$$\n",
    "\n",
    "$$\\langle A\\rangle = \\sum_i A_iP(E_i) \\approx\\frac{1}{N}\\sum_{i=1}^N \\underbrace{A_i}_{{\\rm chosen}\\ {\\rm acc.}\\ {\\rm to}\\ P(E_i)}$$\n",
    "\n",
    "- In practice the brute force MC sampling of exponential fails for even smallest ising lattices. \n",
    "\n",
    "**Problems with MC**\n",
    "- There is an astronomical number of states, $i = 1... N^2$! \n",
    "- Most of these microstates make exponentially small contribution to probability distribution! $P(E_i)$\n",
    "- Brute force MC will not be efficient for sampling important portions of $P(E_i)$.\n",
    "- **Conclusion: We need Importance sampling!**\n",
    "\n",
    "**MCMC Sampling**\n",
    "\n",
    "-  Instead of ranodmly picking states we generate chain of states. This sampling technique is known as Markov Chain Monte Carlo (MCMC). MCMC generates random walks in configuration space and is more efficient at finding sampling states than basic MC.\n",
    "\n"
   ]
  },
  {
   "cell_type": "markdown",
   "metadata": {
    "id": "SCHvA9c3Fbuw"
   },
   "source": [
    "### Generating chains! Master Equation and Detailed Balance"
   ]
  },
  {
   "cell_type": "markdown",
   "metadata": {
    "id": "JF0pdQWjFbuw"
   },
   "source": [
    "**Random chain**\n",
    "\n",
    "- In simple MC each sampled state $X_i$ at steo $i$ is independet of the next or previous steps. \n",
    "\n",
    "- Thus, MC sampling generates totally uncorrelated samples which is good for rapid convergence according to Central Limit Theorem. But as we remarked above the samples are most likely not covering important areas!\n",
    "\n",
    "$$P(X_N, ..., X_2, X_1) = P_N(X_N)\\cdot ... P_2(X_2) \\cdot P_1(X_1)$$"
   ]
  },
  {
   "cell_type": "markdown",
   "metadata": {
    "id": "HmKNJsAaFbuw"
   },
   "source": [
    "**Markov chain:**\n",
    "\n",
    "- In simple MCMC each sampled state $X_i$ at steo $i$ is generated from $i-1$.\n",
    "- This introduces correlations between samples which means slower covnergence to the mean.\n",
    "- On the other hand MCMC find the important areas for sampling much faster so in the hand it wins big compared to MC.\n",
    "\n",
    "$$P(X_N, ..., X_2, X_1) = P_N(X_N)\\cdot ... P_3(X_3| X_2) \\cdot P_2(X_2| X_1)... P_1(X_1)$$\n",
    "\n",
    "\n",
    "- The probability of picking state $i+1$ given taht we started from $i$ is referred to as **transition probability** $T_{ij}$ \n",
    "\n",
    "$$T(X_2 \\leftarrow X_1) = T_{21} = P(X_2|X_1)$$\n",
    "\n",
    "- As any probability it should be normalized meaning summing over all possible states should yield one:\n",
    "\n",
    "$$\\sum_{X} T(X\\leftarrow X') = 1$$"
   ]
  },
  {
   "cell_type": "markdown",
   "metadata": {
    "id": "XazLP_chFbuw"
   },
   "source": [
    "**Probability of being at $X$ at $t+\\Delta t$ given a prior state at $(X',t)$**\n",
    "\n",
    "$$P(X, t+\\Delta t) = \\sum_{X'}  T(X \\leftarrow X') P(X', t)$$\n",
    "\n",
    "- Subtracting P(X,t) from both states we can obtain equation of motion for Markov chain.\n",
    "\n",
    "$$P(X, t+\\Delta t) -P(X,t)= \\sum_{X'}  T(X \\leftarrow X') P(X', t) - P(X, t)\\sum_{X'} T(X'\\leftarrow X)$$\n",
    "\n",
    "**Master equation: A continuity equation in probability space.**\n",
    "\n",
    "$$\\boxed{\\frac{\\partial P(X,t)}{\\partial t} = \\sum_{X'}  w_{X X'} P(X', t) - \\sum_{X'} w_{X' X} P(X, t)}$$\n",
    "\n",
    "- Where we have defined transition rates as: $w(X' \\rightarrow X, t) = lim_{\\Delta t \\rightarrow 0}\\frac{T(X' \\rightarrow X, t)}{\\Delta t}$"
   ]
  },
  {
   "cell_type": "markdown",
   "metadata": {
    "id": "ME3G3GWZFbuw"
   },
   "source": [
    "### Detailed Balance = Equilibrium\n",
    "\n",
    "<br>\n",
    "\n",
    "$$\\boxed{\\frac{\\partial P(X,t)}{\\partial t}  = \\sum_{X'} P(X', t) w_{X'X} - \\sum_{X'} P(X, t) w_{X X'}}=0$$\n",
    "\n",
    "<br>\n",
    "\n",
    "$$\\boxed{ p_i w_{ij} = p_j w_{ji}  }$$"
   ]
  },
  {
   "cell_type": "markdown",
   "metadata": {
    "id": "aAlB9n2gFbuw"
   },
   "source": [
    "**Master equation for a two state dynamics**\n",
    "\n",
    "$$\\frac{dP(x_1,t)}{dt} = p_1 w_{12} - p_2 w_{21}$$\n",
    "\n",
    "$$\\frac{dP(x_2,t)}{dt} = p_2 w_{21} - p_1 w_{12}$$\n",
    "\n",
    "- In the equilibrium we see that equilibrium is established when probability ratio matches the ratio of tranistions $\\frac{p_1}{p_2} = \\frac{w_{21}}{w_{12}}$\n",
    "- In the $NVT$ ensemble we have an explicit requirment for transition rates $\\frac{p_1}{p_2} = e^{-\\beta (E_1-E_2)} = \\frac{w_{21}}{w_{12}}$"
   ]
  },
  {
   "cell_type": "markdown",
   "metadata": {
    "id": "LN-Uv_2EFbux"
   },
   "source": [
    "### How to pick the moves for Markov chain?"
   ]
  },
  {
   "cell_type": "markdown",
   "metadata": {
    "id": "tYuh2xA0Fbux"
   },
   "source": [
    "- Now it is time to consider practical aspects of conducting MCMC. How to pick states and transitions?\n",
    "\n",
    "$$[transition] =  [accept/reject] \\cdot [move]$$\n",
    "\n",
    "$$T(X' \\leftarrow X) = \\alpha_{X' X}\\cdot A_{X' X} $$\n",
    "\n",
    "- We have great freedom in picking states and moves as long as we satisfy the detailed balance! E.g as long as the ratio of transition probabilities matches ration of Botlzman factors!"
   ]
  },
  {
   "cell_type": "markdown",
   "metadata": {
    "id": "NhuvPj8dFbux"
   },
   "source": [
    "- The simplest case for move is to pick one spins at random per iteration:\n",
    "\n",
    "$$\\alpha_{X' X} = \\frac{1}{L^2}$$ \n",
    "\n",
    "- For transitions we adopt criteria that favors our chain to explore low energy (high probability) configurations:\n",
    "\n",
    "- If $p(X') < p(X),\\,\\,\\,\\,$ $A_{X'X}=\\frac{p(X')}{p(X)}$\n",
    "- If $p(X') \\geq p(X),\\,\\,\\,$ $A_{X'X}=1$\n",
    "\n",
    "$$\\frac{T_{X'X}}{T_{XX'}} = \\frac{1/L^2}{1/L^2} \\cdot \\frac{p(X')/p(X)}{1}$$"
   ]
  },
  {
   "cell_type": "markdown",
   "metadata": {
    "id": "kVcIdI1eFbux"
   },
   "source": [
    "## Metropolis algorithm"
   ]
  },
  {
   "cell_type": "markdown",
   "metadata": {
    "id": "Nog40BMAFbux"
   },
   "source": [
    "${\\bf i. Initialization.}$ Generate some initiaal configuration for spins $[s_0]=(s_1,...s_N)$. For instnace Choosing random orientation for each spins $(+1, -1)$ or giving them  the same orientation. \n",
    "\n",
    "${\\bf ii. Attempt\\,\\, spin\\,\\, flip.\\,\\,}$ Pick a spin at random and flip it. E.g multiply by -1 so that +1 state becomes -1 and vice versa. this generated a new configuration $[s_1]$\n",
    "\n",
    "${\\bf iii. Acceptance/Rejection}$ Evaluate energy differene between old configuration $[s_{0}]$ and new one $[s_{1}]$ with flipped spin which has created in previous step. The $\\Delta E=E_{1}-E_{0}$ is used for deciding weather the move is accepted or rejected in a way that is consistent with Boltzman distribution: \n",
    "\n",
    "$$w=\\frac{P[s_{1}]}{P[s_{0}]}=exp\\big(-\\beta[E_{1}-E_{0}] \\big ) $$\n",
    "\n",
    "This is done by generating a unifor random number $r$ between $[0,1]$ and \n",
    "\n",
    "(a) if $r  \\leq w$ Accept the spin flip thereby keeping $[s_1]$ and proceeding to try new spin flip via step ii.  \n",
    "\n",
    "(b) if $r  > w$ reject the spin flip and set  $[s_1]=[s_0]$ and proceeding to try a new spin flip via step ii."
   ]
  },
  {
   "cell_type": "markdown",
   "metadata": {},
   "source": [
    "### Code for running 2D ising MCMC Simulations\n",
    "\n",
    "- If numba is installed, uncomment to benfit from jit acceleration!\n",
    "- To speed benchmarks to assess how long simulation would take"
   ]
  },
  {
   "cell_type": "code",
   "execution_count": 79,
   "metadata": {
    "id": "v_lLp3T3Fbux"
   },
   "outputs": [],
   "source": [
    "from numba import njit\n",
    "\n",
    "@njit\n",
    "def run_ising2d(spins=np.random.choice([-1, 1], size=(20, 20)), \n",
    "                T=1, \n",
    "                J=1, \n",
    "                B=0, \n",
    "                n_steps=20000, \n",
    "                out_freq=10):\n",
    "    '''Basic Metropolis Monte Carlo simulator of 2D Ising model\n",
    "    ---\n",
    "    spins:    (int, int) 2D numpy array\n",
    "    T, J, B:  (floats) corresponding to temperature, coupling and field variables\n",
    "    n_steps:  (int), simulation steeps\n",
    "    out_freq: (int), How often to compute and save data\n",
    "    ---\n",
    "    Returns:\n",
    "    E/N: per-spin energy over n steps  \n",
    "    M/N: per-spin magnetization over n steps \n",
    "    S:   2D spin configurations over n steps \n",
    "    '''\n",
    "    \n",
    "    #### Initialize simulation\n",
    "    N   = len(spins)\n",
    "    \n",
    "    M_t = np.sum(spins)\n",
    "    E_t = 0\n",
    "    for i in range(N):\n",
    "        for j in range(N): \n",
    "            z    = spins[(i+1)%N, j] + spins[(i-1)%N, j] + spins[i,(j+1)%N] + spins[i,(j-1)%N]\n",
    "            E_t += -1/4 * J * z\n",
    "\n",
    "    #### Run MC Simulation\n",
    "    S, E, M = [], [], []\n",
    "    for step in range(n_steps):\n",
    "        \n",
    "        # Pick random spin\n",
    "        i, j = np.random.randint(N), np.random.randint(N)\n",
    "\n",
    "        # Compute energy change resulting from a flip of spin at i,j\n",
    "        z  = spins[(i+1)%N, j] + spins[(i-1)%N, j] + spins[i, (j+1)%N] + spins[i, (j-1)%N] \n",
    "        dE = 2*spins[i,j]*(J*z + B)\n",
    "\n",
    "        # Metropolis condition\n",
    "        if np.exp(-dE/T) > np.random.rand():\n",
    "            spins[i,j] *= -1 \n",
    "            E_t        += dE\n",
    "            M_t        += 2*spins[i,j]\n",
    "\n",
    "        # Save Thermo data\n",
    "        if step % out_freq == 0:\n",
    "            M.append(M_t/N)\n",
    "            E.append(E_t/N**2)\n",
    "            S.append(spins.copy())\n",
    "\n",
    "    return S, E, M"
   ]
  },
  {
   "cell_type": "code",
   "execution_count": 75,
   "metadata": {
    "id": "NjD_PHdbFbuy",
    "outputId": "6ee75a81-c621-4f65-fa1d-99a10c775e89"
   },
   "outputs": [],
   "source": [
    "#%%timeit\n",
    "S, E, M = run_ising2d(spins=np.random.choice([-1, 1], size=(40, 40)), \n",
    "                T=4, \n",
    "                J=1, \n",
    "                B=0, \n",
    "                n_steps=500000, \n",
    "                out_freq=10)"
   ]
  },
  {
   "cell_type": "code",
   "execution_count": 70,
   "metadata": {},
   "outputs": [
    {
     "data": {
      "text/plain": [
       "((50000, 40, 40), (50000,), (50000,))"
      ]
     },
     "execution_count": 70,
     "metadata": {},
     "output_type": "execute_result"
    }
   ],
   "source": [
    "np.array(S).shape, np.array(E).shape, np.array(M).shape"
   ]
  },
  {
   "cell_type": "code",
   "execution_count": 76,
   "metadata": {
    "id": "dm6cBnLaFbuy"
   },
   "outputs": [
    {
     "data": {
      "application/vnd.jupyter.widget-view+json": {
       "model_id": "61421242ab5d4bc0901bb5cd839b74eb",
       "version_major": 2,
       "version_minor": 0
      },
      "text/plain": [
       "interactive(children=(IntSlider(value=0, description='i', max=9999), Output()), _dom_classes=('widget-interact…"
      ]
     },
     "metadata": {},
     "output_type": "display_data"
    }
   ],
   "source": [
    "@widgets.interact(i=(0, 10000-1))\n",
    "def plot_image(i=0):\n",
    "    \n",
    "    fig, ax  = plt.subplots(ncols=3, figsize=(10,4))\n",
    "    \n",
    "    ax[0].pcolor(S[i])\n",
    "    ax[1].plot(E)\n",
    "    ax[2].plot(M)\n",
    "    \n",
    "    ax[0].set(ylabel='$i$', xlabel='j')\n",
    "    ax[1].set(ylabel='$E$', xlabel='steps')\n",
    "    ax[2].set(ylabel='$M$', xlabel='steps')\n",
    "    fig.tight_layout()"
   ]
  },
  {
   "cell_type": "code",
   "execution_count": 78,
   "metadata": {},
   "outputs": [
    {
     "data": {
      "text/plain": [
       "Text(0, 0.5, '$\\\\langle M(t)M(t+n) \\\\rangle$')"
      ]
     },
     "execution_count": 78,
     "metadata": {},
     "output_type": "execute_result"
    },
    {
     "data": {
      "image/png": "[encoded data removed]",
      "text/plain": [
       "<Figure size 432x288 with 1 Axes>"
      ]
     },
     "metadata": {
      "needs_background": "light"
     },
     "output_type": "display_data"
    }
   ],
   "source": [
    "def autocorr(x):\n",
    "    result = np.correlate(x, x, mode='full')\n",
    "    return result[result.size // 2:]\n",
    "\n",
    "plt.plot(autocorr(M)/autocorr(M)[0] )\n",
    "plt.xlabel('Steps, $n$')\n",
    "plt.ylabel(r'$\\langle M(t)M(t+n) \\rangle$')"
   ]
  },
  {
   "cell_type": "markdown",
   "metadata": {
    "id": "PML0FOQHFbuz"
   },
   "source": [
    "### Carry out explorative simulations\n",
    "\n",
    "$\\bf{i.}$ Test the dependence of observables on system size.\n",
    "\n",
    "$\\bf{ii.}$ Test the dependence of observables on initital conditions.\n",
    "\n",
    "$\\bf{iii.}$ Vary intensive parameters, e.g temperature and field strength. Investigate changes in observables such as magnetization, energy, susceptibility, heat capacity.\n",
    "\n",
    "$\\bf{iv.}$ How do we know if simulation has done enough sampling? How do we assess covnergence and errors? \n",
    "\n",
    "$\\bf{v.}$ Think about alternative ways of accelerating and enhancing the sampling."
   ]
  },
  {
   "cell_type": "markdown",
   "metadata": {
    "id": "CR6KKTgDFbuz"
   },
   "source": [
    "#### Parameter sweeps and calculation of second order thermodynamic quantities"
   ]
  },
  {
   "cell_type": "code",
   "execution_count": 97,
   "metadata": {},
   "outputs": [],
   "source": [
    "def get_Cv(E, T):\n",
    "    return np.var(E)/T**2\n",
    "\n",
    "def get_Xi(M, T):\n",
    "    return np.var(M)/T"
   ]
  },
  {
   "cell_type": "code",
   "execution_count": 109,
   "metadata": {
    "id": "j7zfxnDiFbuz"
   },
   "outputs": [],
   "source": [
    "# Carry out multiple MC runs at differnet Temperatures. \n",
    "# This calculation may take ~5 mins. \n",
    "# Think about equilibration, convergence and statistical errors\n",
    "\n",
    "Ts = np.linspace(1, 4, 40) \n",
    "n_equil  = 100000\n",
    "out = 10\n",
    "\n",
    "Es, Ms, Cs, Xs = [], [], [], []  \n",
    "\n",
    "for T in Ts:\n",
    "    \n",
    "    S, E, M = run_ising2d(spins=np.random.choice([-1, 1], size=(20, 20)), \n",
    "                          T=T, \n",
    "                          J=1, \n",
    "                          B=0, \n",
    "                          n_steps=int(2*n_equil), \n",
    "                          out_freq=out)\n",
    "    \n",
    "    E = E[n_equil//out:]\n",
    "    M = M[n_equil//out:]\n",
    "    \n",
    "    Es.append(np.mean(E))\n",
    "    Ms.append(np.mean(M))\n",
    "    \n",
    "    Cs.append(get_Cv(E, T)) \n",
    "    Xs.append(get_Xi(M, T))"
   ]
  },
  {
   "cell_type": "code",
   "execution_count": 114,
   "metadata": {},
   "outputs": [
    {
     "data": {
      "image/png": "[encoded data removed]",
      "text/plain": [
       "<Figure size 576x432 with 4 Axes>"
      ]
     },
     "metadata": {
      "needs_background": "light"
     },
     "output_type": "display_data"
    }
   ],
   "source": [
    "fig, ax  = plt.subplots(ncols=2, nrows=2, figsize=(8,6))\n",
    "\n",
    "ax[0,0].scatter(Ts, Es)\n",
    "ax[0,0].set(ylabel='$E(T)$')\n",
    "\n",
    "ax[0,1].scatter(Ts, Ms)\n",
    "ax[0,1].set(ylabel='$M(T)$')\n",
    "\n",
    "ax[1,0].scatter(Ts, Cs)\n",
    "ax[1,0].set(ylabel='$C_v(T)$')\n",
    "\n",
    "ax[1,1].scatter(Ts, Xs)\n",
    "ax[1,1].set(ylabel='$\\Xi(T)$')\n",
    "fig.tight_layout()"
   ]
  },
  {
   "cell_type": "markdown",
   "metadata": {},
   "source": [
    "### Other Methods for sampling Ising models\n",
    "\n",
    "**Wolf Algorithm (cluster methods):**\n",
    "\n",
    "Near the critical point $T_c$ where the system develops a magnetization, any single-spin-flip dynamics becomes very slow (the correlation time diverges).\n",
    "Wolff came up with a clever method to flip whole clusters of spins!\n",
    "\n",
    "1. Pick a spin at random, remember its direction $D = \\pm 1$, and flip it.\n",
    "2. For each of the four neighboring spins, if it is\n",
    "in the direction D, flip it with probability p.\n",
    "3. For each of the new flipped spins, recursively\n",
    "flip their neighbors as in (2).\n",
    "\n",
    "**Gibbs Sampling:**\n",
    "\n",
    "Gibbs sampling is conceptually even simpler than Metropolis algorithm and is based on the idea of sampling from conditional probabilities $p(x_1 | All\\, x \\neq\\,\\, x_1)$. Gibbs sampling is not as efficient as Wolff or Metropolis at but shines in other problems"
   ]
  },
  {
   "cell_type": "code",
   "execution_count": null,
   "metadata": {},
   "outputs": [],
   "source": [
    "def WolffMove(lattice):\n",
    "        \"\"\"\n",
    "        Pick a random spin; remember its direction as oldSpin\n",
    "        Push it onto a list \"toFlip\" of spins to flip\n",
    "        Set spinsFlipped = 0\n",
    "        While there are spins left in toFlip Remove the first spin\n",
    "           If it has not been flipped in between\n",
    "              Flip it\n",
    "              Add one to spinsFlipped\n",
    "              For each of its neighbors\n",
    "                  if the neighbor is in the oldSpin direction flip with probability p, put it on the stack\n",
    "        Return spinsFlipped\n",
    "        \"\"\"\n",
    "        i, j = np.random.randint(0, N), np.random.randint(0, N)\n",
    "\n",
    "        oldSpin = lattice[i, j]\n",
    "        toFlip = [(i, j)]\n",
    "        \n",
    "        spinsFlipped = 0\n",
    "        while len(toFlip) > 0:\n",
    "            \n",
    "            i, j = toFlip.pop(0)\n",
    "            \n",
    "            # Check if flipped in between\n",
    "            if lattice[i, j] == oldSpin:\n",
    "                lattice[i, j] = (lattice[i, j] + 1) % 2\n",
    "                spinsFlipped += 1\n",
    "\n",
    "                neighbors = [((i+1)%N, j), ((i-1)%N, j), (i, (i+1)%N), (i, (i-1)%N)]\n",
    "                for m, n in neighbors:\n",
    "                    if  lattice[m, n] == oldSpin:\n",
    "                        if np.random.random() < p:\n",
    "                            toFlip.append((m, n))\n",
    "        return spinsFlipped\n",
    "\n",
    "def SweepWolff(nTimes=1, partialSweep=0):\n",
    "        \"\"\"\n",
    "        Do sweeps until at least\n",
    "        N*N-partialSweep spins have been flipped.\n",
    "        \"\"\"\n",
    "        for time in range(nTimes):\n",
    "            \n",
    "            while partialSweep < N * N:\n",
    "                partialSweep += WolffMove()\n",
    "            partialSweep = partialSweep - (N*N)\n",
    "        return partialSweep"
   ]
  },
  {
   "cell_type": "markdown",
   "metadata": {
    "id": "qFNE9Y04Fbu0"
   },
   "source": [
    "### Problems"
   ]
  },
  {
   "cell_type": "markdown",
   "metadata": {
    "id": "ZoHqqSnqFbu1"
   },
   "source": [
    "#### Problem-1\n",
    "\n",
    "Revisit the example MCMC simulation for determining $\\pi$ value. Vary the size of the displacement to determine the optimal size that generates quickest convergence to the value of $\\pi$\n",
    "\n",
    "\n",
    "#### Problem-2 \n",
    "\n",
    "Carry out MC simulation of 2D ising spin model for various lattice sizes $N= 16,32, 64$ at temperatures above and below critical e.g $T<T_c$ and $T>T_c$.   \n",
    "\n",
    "- How long does it take to equilibrate system as a function of size and as a function of T?\n",
    "\n",
    "- Plot some observables as a function of number of samples states to show that the system is carrying out some sort of random walk in the configurational space. \n",
    "\n",
    "- How do profiles of Energy vs T, Magnetization vs T and heat capacity vs T, and susceptibility vs T change as a function of size of our lattice. \n",
    "\n",
    "- Does $J>0$ and $J<0$ change the nature of phase transition?"
   ]
  },
  {
   "cell_type": "markdown",
   "metadata": {
    "id": "x-MPRohEFbu1"
   },
   "source": [
    "#### Problem-3\n",
    "\n",
    "Compute correlation functions of spin variable, that is how correlated are spins as a function of distance on a lattice, $L$. $C(L)=\\langle s_i s_{i+L}\\rangle -\\langle s_i\\rangle \\langle s_{i+L}\\rangle $ Make sure to account for the periodic boundary conditions! \n",
    "\n",
    "> Note that you can pick a special tagged spin and calculate correlation function of taged spin ($s_13$ for instance) with any other as a function of lattice spearation  by averaging over produced MC configurations.  Or you can take advantage of the fact that there are no priviledged spins and average over many spins and average over MC configruations e.g $s_1, s_2, ...$. E.g you can pick a horizontal line of spins and run a summation for each fixed r_ab distance. "
   ]
  },
  {
   "cell_type": "markdown",
   "metadata": {
    "id": "y3zetrDWFbu1"
   },
   "source": [
    "#### Problem-4\n",
    "\n",
    "Take a 20 by 20 lattice and equilibriate the system with a value of extneral field B equal to +1. \n",
    "Now slowly change h to −1 in discrete steps during each of these steps, use the previously equilibriated\n",
    "configuration as an input to the system to undergo equilibriation again.  \n",
    "\n",
    "Caluclate average and variance quantities (e.g E, M, C etc). Notice anything interesing :)"
   ]
  }
 ],
 "metadata": {
  "colab": {
   "collapsed_sections": [
    "j-FI9OY2Fbut",
    "U9V6J1DCFbut",
    "3FHaCVFsFbut",
    "zLAqk5gCFbut",
    "NguLNDH3Fbut",
    "CR6KKTgDFbuz"
   ],
   "name": "01_MCMC_Ising.ipynb",
   "provenance": [],
   "toc_visible": true
  },
  "interpreter": {
   "hash": "38cca0c38332a56087b24af0bc80247f4fced29cb4f7f437d91dc159adec9c4e"
  },
  "kernelspec": {
   "display_name": "llpsmd3",
   "language": "python",
   "name": "python3"
  },
  "language_info": {
   "codemirror_mode": {
    "name": "ipython",
    "version": 3
   },
   "file_extension": ".py",
   "mimetype": "text/x-python",
   "name": "python",
   "nbconvert_exporter": "python",
   "pygments_lexer": "ipython3",
   "version": "3.8.12"
  },
  "livereveal": {
   "theme": "sky"
  },
  "nteract": {
   "version": "0.21.0"
  },
  "toc": {
   "base_numbering": 1,
   "nav_menu": {},
   "number_sections": true,
   "sideBar": true,
   "skip_h1_title": false,
   "title_cell": "Table of Contents",
   "title_sidebar": "Contents",
   "toc_cell": false,
   "toc_position": {},
   "toc_section_display": true,
   "toc_window_display": false
  }
 },
 "nbformat": 4,
 "nbformat_minor": 4
}
