{
 "cells": [
  {
   "cell_type": "markdown",
   "metadata": {
    "id": "HrNpG_LzFbuj"
   },
   "source": [
    "# Ising models and Metropolis-Hastings algorithm"
   ]
  },
  {
   "cell_type": "code",
   "execution_count": 136,
   "metadata": {
    "executionInfo": {
     "elapsed": 335,
     "status": "ok",
     "timestamp": 1618583375336,
     "user": {
      "displayName": "Davit Potoyan",
      "photoUrl": "https://lh3.googleusercontent.com/a-/AOh14GiUdLXplMG8UEHwBVcNr7CDgo7SDIZxxozSCzi7xQ=s64",
      "userId": "16339487288737364945"
     },
     "user_tz": 300
    },
    "id": "Piq9Cs-vFbun"
   },
   "outputs": [],
   "source": [
    "import matplotlib.pyplot as plt\n",
    "import ipywidgets as widgets\n",
    "\n",
    "import numpy as np\n",
    "from numpy.random import rand, random, randint, choice, normal, uniform "
   ]
  },
  {
   "cell_type": "markdown",
   "metadata": {
    "id": "B3Yjz-JqFbuq"
   },
   "source": [
    "## Ising models: The H atom of phase transitions\n",
    "\n",
    "\n",
    "\n",
    "$$\\boxed{H([s])= \\sum_{\\langle ij \\rangle} J_{ij}s_i s_j - \\mu B \\sum_i s_i}$$\n",
    "\n",
    "<br>\n",
    "\n",
    "\n",
    "$$\\boxed{Z=\\sum_{[s]}e^{-H([s])/k_B T}}$$"
   ]
  },
  {
   "cell_type": "markdown",
   "metadata": {},
   "source": [
    "#### Magnetization\n",
    "\n",
    "- **Total magnetization, $M$**  \n",
    "\n",
    "$$M([s])=\\sum_is_i $$\n",
    "\n",
    "- **Magnetization per spin $m$** \n",
    "\n",
    "$$m([s])=\\frac{1}{N}\\sum_is_i =\\frac{M}{N}$$"
   ]
  },
  {
   "cell_type": "markdown",
   "metadata": {},
   "source": [
    "#### Heat capacity $C_v$\n",
    "\n",
    "$$ C_V(T) = \\Big (\\frac{\\partial E}{\\partial T} \\Big )_V= \\frac{1}{k_B T^2} \\big(\\langle E^2 \\rangle-\\langle E \\rangle^2 \\big) $$\n",
    "\n",
    "#### Susceptibility $\\chi$\n",
    "\n",
    "$$\\chi_T=\\Big (\\frac{\\partial M}{\\partial B} \\Big )_T= \\frac{1}{k_B T} \\big(\\langle M^2 \\rangle-\\langle M \\rangle^2 \\big) $$"
   ]
  },
  {
   "cell_type": "markdown",
   "metadata": {},
   "source": [
    "### Free energy profile\n",
    "\n",
    "$$Z(M) = \\sum_{[s]} e^{-\\beta H([s])} \\delta (M-M([s]))$$\n",
    "\n",
    "$$F(M)=-\\beta^{-1} log Z(M)$$\n",
    "\n",
    "Note that $Z(M)$ is a partial sum over states for which magnetization is equal to a particular value $M$ as opposed to the full partition function $Z$ where summation is unrestricted."
   ]
  },
  {
   "cell_type": "markdown",
   "metadata": {},
   "source": [
    "### Numerical calculation of thermodynamic quantities"
   ]
  },
  {
   "cell_type": "code",
   "execution_count": 24,
   "metadata": {
    "id": "dpVMe8amFbuq",
    "outputId": "e15d0b8f-4221-472d-83a9-b3bf44193e51"
   },
   "outputs": [
    {
     "name": "stdout",
     "output_type": "stream",
     "text": [
      "[[ 1  1 -1  1  1 -1 -1 -1]\n",
      " [-1 -1 -1 -1  1  1 -1  1]\n",
      " [-1  1  1  1  1 -1 -1  1]\n",
      " [ 1  1 -1  1  1  1 -1  1]\n",
      " [ 1  1 -1  1 -1  1 -1  1]\n",
      " [-1 -1 -1 -1 -1  1  1 -1]\n",
      " [ 1 -1  1 -1  1  1 -1 -1]\n",
      " [ 1  1  1  1  1  1  1  1]]\n"
     ]
    },
    {
     "data": {
      "text/plain": [
       "<matplotlib.image.AxesImage at 0x12fbd2f40>"
      ]
     },
     "execution_count": 24,
     "metadata": {},
     "output_type": "execute_result"
    },
    {
     "data": {
      "image/png": "[encoded data removed]",
      "text/plain": [
       "<Figure size 432x288 with 1 Axes>"
      ]
     },
     "metadata": {
      "needs_background": "light"
     },
     "output_type": "display_data"
    }
   ],
   "source": [
    "spins = choice([-1,1],size=(8,8))\n",
    "\n",
    "print(spins)\n",
    "\n",
    "plt.imshow(spins)"
   ]
  },
  {
   "cell_type": "markdown",
   "metadata": {
    "id": "LBBclNXcFbur"
   },
   "source": [
    "### Enforcing periodic boundary conditions"
   ]
  },
  {
   "cell_type": "code",
   "execution_count": 20,
   "metadata": {},
   "outputs": [
    {
     "data": {
      "text/plain": [
       "<matplotlib.image.AxesImage at 0x12fb45b20>"
      ]
     },
     "execution_count": 20,
     "metadata": {},
     "output_type": "execute_result"
    },
    {
     "data": {
      "image/png": "[encoded data removed]",
      "text/plain": [
       "<Figure size 432x288 with 3 Axes>"
      ]
     },
     "metadata": {
      "needs_background": "light"
     },
     "output_type": "display_data"
    }
   ],
   "source": [
    "X = np.array([[1, 2 ,3], \n",
    "              [4, 5, 6],\n",
    "              [7, 8, 9]])\n",
    "Y = np.roll(X, 1, axis=0)\n",
    "Z = np.roll(X, -1, axis=0)\n",
    "\n",
    "fig, (ax1, ax2, ax3) = plt.subplots(ncols=3)\n",
    "ax1.imshow(X, cmap='jet')\n",
    "ax2.imshow(Y, cmap='jet')\n",
    "ax3.imshow(Z, cmap='jet')"
   ]
  },
  {
   "cell_type": "code",
   "execution_count": 31,
   "metadata": {},
   "outputs": [],
   "source": [
    "def get_E(spins, J=1, B=0):\n",
    "    '''Compute energy of spin lattice by lopping over each spin \n",
    "    with periodic boundary conditions enforced \n",
    "    via numpy roll''' \n",
    "      \n",
    "    z = np.roll(spins, 1, axis = 0) + np.roll(spins, -1, axis = 0) + \\\n",
    "        np.roll(spins, 1, axis = 1) + np.roll(spins, -1, axis = 1)\n",
    "\n",
    "    E = np.sum( -J*spins*z/4 )\n",
    "    \n",
    "    return E - B*np.sum(spins)\n",
    "\n",
    "def get_E2(spins,N,J,B):   \n",
    "     \n",
    "    N =len(spins)\n",
    "    E = 0\n",
    "    for i in range(N):\n",
    "        for j in range(N):   \n",
    "            z = spins[(i+1)%N, j] + spins[(i-1)%N, j] +\\\n",
    "                spins[i,(j+1)%N]  +  spins[i,(j-1)%N]\n",
    "            E += -J*z*spins[i,j]/4 \n",
    "            \n",
    "    return E - B*np.sum(spins) \n",
    "\n",
    "\n",
    "def get_dE(spins, i, j, J=1, B=0):\n",
    "    '''Compute change in energy of 2D spin lattice \n",
    "    after flipping a spin at a location (i,j''' \n",
    "    \n",
    "    N = len(spins)\n",
    "    \n",
    "    z  = spins[(i+1)%N, j] + spins[(i-1)%N, j] + \\\n",
    "             spins[i, (j+1)%N] + spins[i, (j-1)%N] \n",
    "             \n",
    "    dE = 2*spins[i,j]*(J*z + B)\n",
    "    \n",
    "    return dE\n",
    "        "
   ]
  },
  {
   "cell_type": "code",
   "execution_count": 38,
   "metadata": {},
   "outputs": [],
   "source": [
    "#get_E(spins)\n",
    "#get_dE(spins, 1, 2)"
   ]
  },
  {
   "cell_type": "markdown",
   "metadata": {
    "id": "Hq1Fj7ZYFbuv"
   },
   "source": [
    "### Sampliing of Boltzmann distribution (NVT). MC vs MCMC\n",
    "\n",
    "How to compute the expectation value of an observable $A$. In theory everything is simple:\n",
    "\n",
    "$$P(E_i)=\\frac{e^{-\\beta E_i}}{Z} = \\frac{e^{-\\beta E_i}}{\\sum_i e^{-\\beta E_i}}$$\n",
    "\n",
    "$$\\langle A\\rangle = \\sum_i A_iP(E_i)$$\n",
    "\n",
    "**1. Question: What we know and what we want to know?**\n",
    "- We don't always know the **(micro)states** $i$ of a system.\n",
    "- We only know **macroscopic quantities:** temperature $T$ with $\\beta = 1/(k_BT)$, volume, etc.\n",
    "\n",
    "**2. Answer: MC sampling**\n",
    "- Simulate different states of the system with Monte Carlo, according to the thermal probability function\n",
    "\n",
    "**3. What are challanges?**\n",
    "- most probabilities $P(E_k)$ are tiny => exponentially small\n",
    "- there is an extremely large number of possible states\n",
    "\n",
    "\n",
    "**4. Concludion: We need Importance sampling!**\n",
    "\n",
    "- Use the Boltzmann probability $P(E_i)$ as probability distribution to generate $N$ samples:\n",
    "\n",
    "$$\\boxed{\\langle A\\rangle \\rightarrow\\frac{1}{N}\\sum_{i=1}^N \\underbrace{A_i}_{{\\rm chosen}\\ {\\rm acc.}\\ {\\rm to}\\ P(E_i)}}$$\n",
    "\n",
    "**MCMC Simulation** Generating random walks in configuration space of thte system states.  "
   ]
  },
  {
   "cell_type": "markdown",
   "metadata": {
    "id": "SCHvA9c3Fbuw"
   },
   "source": [
    "### Master Equation and Detailed Balance"
   ]
  },
  {
   "cell_type": "markdown",
   "metadata": {
    "id": "JF0pdQWjFbuw"
   },
   "source": [
    "**Random process:**\n",
    "\n",
    "$$P(X_1, X_2, ... X_N) = P_1(X_1)\\cdot P_2(X_2)... P_1(X_N)$$\n",
    "\n",
    "<br>\n",
    "\n",
    "**Probabilities**\n",
    "\n",
    "$$P(X_1)$$\n",
    "\n",
    "$$\\sum_{X'} P(X') =1$$"
   ]
  },
  {
   "cell_type": "markdown",
   "metadata": {
    "id": "HmKNJsAaFbuw"
   },
   "source": [
    "**Markov chain:**\n",
    "\n",
    "$$p(X_1, X_2, ... X_N) = P_1(X_1)\\cdot P_2(X_2| X_1) \\cdot P_2(X_3| X_2)... P_1(X_N | X_{N-1})$$\n",
    "\n",
    "<br>\n",
    "\n",
    "**Conditional (transition) probabilities:**\n",
    "\n",
    "$$T(X_1 \\rightarrow X_2) = P(X_2|X_1)$$\n",
    "\n",
    "$$\\sum_{X'} T(X\\rightarrow X') =1 $$"
   ]
  },
  {
   "cell_type": "markdown",
   "metadata": {
    "id": "XazLP_chFbuw"
   },
   "source": [
    "**Probability of being at $X$ at $t+\\Delta t$ given prior state at $(X',t)$**\n",
    "\n",
    "$$P(X, t+\\Delta t) = \\sum_X' P(X', t) T(X' \\rightarrow X, t)$$\n",
    "\n",
    "**Master equation: A continuity equation in probability space.**\n",
    "\n",
    "$$P(X, t+\\Delta t) -P(X,t)= \\sum_X' P(X', t) T(X' \\rightarrow X, t) - P(X, t)\\sum_{X'} T(X\\rightarrow X')$$\n",
    "\n",
    "$$\\boxed{\\frac{\\partial P(X,t)}{\\partial t} = \\sum_X' P(X', t) w(X' \\rightarrow X, t) - \\sum_{X'} P(X, t) w(X\\rightarrow X')}$$\n",
    "\n",
    "- $w(X' \\rightarrow X, t) = lim_{\\Delta t \\rightarrow 0}\\frac{T(X' \\rightarrow X, t)}{\\Delta t}$"
   ]
  },
  {
   "cell_type": "markdown",
   "metadata": {
    "id": "ME3G3GWZFbuw"
   },
   "source": [
    "### Detailed Balance = Equilibrium\n",
    "\n",
    "<br>\n",
    "\n",
    "$$\\boxed{\\frac{\\partial P(X,t)}{\\partial t}  = \\sum_{X'} P(X', t) w_{X'X} - \\sum_{X'} P(X, t) w_{X X'}}=0$$\n",
    "\n",
    "<br>\n",
    "\n",
    "$$\\boxed{ p_i w_{ij} = p_j w_{ji}  }$$"
   ]
  },
  {
   "cell_type": "markdown",
   "metadata": {
    "id": "aAlB9n2gFbuw"
   },
   "source": [
    "**Master equation for a two state dynamics**\n",
    "\n",
    "$$\\frac{dP(x_1,t)}{dt} = p_1 w_{12} - p_2 w_{21}$$\n",
    "\n",
    "$$\\frac{dP(x_2,t)}{dt} = p_2 w_{21} - p_1 w_{12}$$"
   ]
  },
  {
   "cell_type": "markdown",
   "metadata": {
    "id": "LN-Uv_2EFbux"
   },
   "source": [
    "### How to pick the moves for Markov chain?"
   ]
  },
  {
   "cell_type": "markdown",
   "metadata": {
    "id": "tYuh2xA0Fbux"
   },
   "source": [
    "$$[transition] = [move] \\cdot [acceptance]$$\n",
    "\n",
    "$$T(X\\rightarrow X') = \\alpha_{X X'}\\cdot A_{X X'} $$"
   ]
  },
  {
   "cell_type": "markdown",
   "metadata": {
    "id": "NhuvPj8dFbux"
   },
   "source": [
    "- $\\alpha_{X X'}\\geq 0$, $\\alpha_{X X'} = \\alpha_{X' X}$\n",
    "<br>\n",
    "\n",
    "- If $p(X') < p(X)$, $A_{XX'}=\\frac{p(X')}{p(X)}$\n",
    "<br>\n",
    "\n",
    "- If $p(X') \\geq p(X)$, $A_{XX'}=1$"
   ]
  },
  {
   "cell_type": "markdown",
   "metadata": {
    "id": "PG-NOJv5Fbux"
   },
   "source": [
    "**For 2D Ising model of size $(L,L)$**\n",
    "\n",
    "- $\\alpha_{X X'} = \\frac{1}{L^2}$ \n",
    "\n",
    "Where $X$ and $X'$ differ in one spin configuration."
   ]
  },
  {
   "cell_type": "markdown",
   "metadata": {
    "id": "kVcIdI1eFbux"
   },
   "source": [
    "## Metropolis algorithm"
   ]
  },
  {
   "cell_type": "markdown",
   "metadata": {
    "id": "Nog40BMAFbux"
   },
   "source": [
    "${\\bf i. Initialization.}$ Generate some initiaal configuration for spins $[s_0]=(s_1,...s_N)$. For instnace Choosing random orientation for each spins $(+1, -1)$ or giving them  the same orientation. \n",
    "\n",
    "${\\bf ii. Attempt\\,\\, spin\\,\\, flip.\\,\\,}$ Pick a spin at random and flip it. E.g multiply by -1 so that +1 state becomes -1 and vice versa. this generated a new configuration $[s_1]$\n",
    "\n",
    "${\\bf iii. Acceptance/Rejection}$ Evaluate energy differene between old configuration $[s_{0}]$ and new one $[s_{1}]$ with flipped spin which has created in previous step. The $\\Delta E=E_{1}-E_{0}$ is used for deciding weather the move is accepted or rejected in a way that is consistent with Boltzman distribution: \n",
    "\n",
    "$$w=\\frac{P[s_{1}]}{P[s_{0}]}=exp\\big(-\\beta[E_{1}-E_{0}] \\big ) $$\n",
    "\n",
    "This is done by generating a unifor random number $r$ between $[0,1]$ and \n",
    "\n",
    "(a) if $r  \\leq w$ Accept the spin flip thereby keeping $[s_1]$ and proceeding to try new spin flip via step ii.  \n",
    "\n",
    "(b) if $r  > w$ reject the spin flip and set  $[s_1]=[s_0]$ and proceeding to try a new spin flip via step ii."
   ]
  },
  {
   "cell_type": "markdown",
   "metadata": {},
   "source": [
    "### Code for running 2D ising MCMC Simulations\n",
    "\n",
    "- If numba is installed, uncomment to benfit from jit acceleration!\n",
    "- To speed benchmarks to assess how long simulation would take"
   ]
  },
  {
   "cell_type": "code",
   "execution_count": 138,
   "metadata": {
    "id": "v_lLp3T3Fbux"
   },
   "outputs": [],
   "source": [
    "#from numba import jit\n",
    "#@jit\n",
    "def run_ising2d(spins=np.random.choice([-1, 1], size=(20, 20)), \n",
    "                T=1, \n",
    "                J=1, \n",
    "                B=0, \n",
    "                n_steps=20000, \n",
    "                out_freq=10):\n",
    "    '''Basic Metropolis Monte Carlo simulator of 2D Ising model\n",
    "    ---\n",
    "    spins: 2D numy array\n",
    "    T, J, B: temperature, coupling constant and magnetic field\n",
    "    n_steps: simulation steeps\n",
    "    out_freq: How often to compute and save data\n",
    "    ---\n",
    "    Returns:\n",
    "    Et: Energy over n steps  \n",
    "    Mt: magnetization over n steps \n",
    "    St: spin configurations over n steps \n",
    "    '''\n",
    "    \n",
    "    # Initialize simulation\n",
    "    N   = len(spins)\n",
    "    M_t = np.mean(spins)\n",
    "    E_t = 0\n",
    "    for i in range(N):\n",
    "        for j in range(N): \n",
    "            z    = spins[(i+1)%N, j] + spins[(i-1)%N, j] + spins[i,(j+1)%N] + spins[i,(j-1)%N]\n",
    "            E_t += -1/4 * J * z\n",
    "\n",
    "    #### Run MC Simulation\n",
    "    S, E, M = [], [], []\n",
    "    for step in range(n_steps):\n",
    "        \n",
    "        #Pick random spin\n",
    "        i, j = np.random.randint(N), np.random.randint(N)\n",
    "\n",
    "        #Compute energy change resulting from a flip of spin at i,j\n",
    "        z  = spins[(i+1)%N, j] + spins[(i-1)%N, j] + spins[i, (j+1)%N] + spins[i, (j-1)%N] \n",
    "        dE = 2*spins[i,j]*(J*z + B)\n",
    "\n",
    "        #Metropolis condition\n",
    "        if np.exp(-dE/T) > np.random.rand():\n",
    "            spins[i,j] *= -1 \n",
    "            E_t        += dE\n",
    "            M_t        += 2*spins[i,j]\n",
    "\n",
    "        #### Save Thermo data\n",
    "        if step % out_freq == 0:\n",
    "            M.append(M_t/N)\n",
    "            E.append(E_t/N)\n",
    "            S.append(spins.copy())\n",
    "\n",
    "    return S, E, M"
   ]
  },
  {
   "cell_type": "code",
   "execution_count": 139,
   "metadata": {
    "id": "NjD_PHdbFbuy",
    "outputId": "6ee75a81-c621-4f65-fa1d-99a10c775e89"
   },
   "outputs": [
    {
     "name": "stdout",
     "output_type": "stream",
     "text": [
      "810 ms ± 11.8 ms per loop (mean ± std. dev. of 7 runs, 1 loop each)\n"
     ]
    }
   ],
   "source": [
    "%%timeit\n",
    "S, E, M = run_ising2d(spins=np.random.choice([-1, 1], size=(40, 40)), \n",
    "                T=1, \n",
    "                J=1, \n",
    "                B=0, \n",
    "                n_steps=100000, \n",
    "                out_freq=10)"
   ]
  },
  {
   "cell_type": "code",
   "execution_count": 77,
   "metadata": {
    "id": "dm6cBnLaFbuy"
   },
   "outputs": [
    {
     "data": {
      "application/vnd.jupyter.widget-view+json": {
       "model_id": "0588007602684c48b2c6113c766bceb8",
       "version_major": 2,
       "version_minor": 0
      },
      "text/plain": [
       "interactive(children=(IntSlider(value=0, description='i', max=9999), Output()), _dom_classes=('widget-interact…"
      ]
     },
     "metadata": {},
     "output_type": "display_data"
    }
   ],
   "source": [
    "@widgets.interact(i=(0, 10000-1))\n",
    "def plot_image(i=0):\n",
    "    \n",
    "    fig, ax  = plt.subplots(ncols=3, figsize=(10,4))\n",
    "    \n",
    "    ax[0].pcolor(S[i])\n",
    "    ax[1].plot(E)\n",
    "    ax[2].plot(M)\n",
    "    \n",
    "    ax[0].set(ylabel='$i$', xlabel='j')\n",
    "    ax[1].set(ylabel='$E$', xlabel='steps')\n",
    "    ax[2].set(ylabel='$M$', xlabel='steps')\n",
    "    fig.tight_layout()"
   ]
  },
  {
   "cell_type": "markdown",
   "metadata": {
    "id": "PML0FOQHFbuz"
   },
   "source": [
    "### Carry out explorative simulations\n",
    "\n",
    "$\\bf{i.}$ Test the dependence of observables on system size.\n",
    "\n",
    "$\\bf{ii.}$ Test the dependence of observables on initital conditions.\n",
    "\n",
    "$\\bf{iii.}$ Vary intensive parameters, e.g temperature and field strength. Investigate changes in observables such as magnetization, energy, susceptibility, heat capacity.\n",
    "\n",
    "$\\bf{iv.}$ How do we know if simulation has done enough sampling? How do we assess covnergence and errors? \n",
    "\n",
    "$\\bf{v.}$ Think about alternative ways of accelerating and enhancing the sampling."
   ]
  },
  {
   "cell_type": "markdown",
   "metadata": {
    "id": "CR6KKTgDFbuz"
   },
   "source": [
    "#### Parameter sweeps and calculation of second order thermodynamic quantities"
   ]
  },
  {
   "cell_type": "code",
   "execution_count": 97,
   "metadata": {},
   "outputs": [],
   "source": [
    "def get_Cv(E, T):\n",
    "    return np.var(E)/T**2\n",
    "\n",
    "def get_Xi(M, T):\n",
    "    return np.var(M)/T"
   ]
  },
  {
   "cell_type": "code",
   "execution_count": 109,
   "metadata": {
    "id": "j7zfxnDiFbuz"
   },
   "outputs": [],
   "source": [
    "# Carry out multiple MC runs at differnet Temperatures. \n",
    "# This calculation may take ~5 mins. \n",
    "# Think about equilibration, convergence and statistical errors\n",
    "\n",
    "Ts = np.linspace(1, 4, 20) \n",
    "n_equil  = 100000\n",
    "out = 10\n",
    "\n",
    "Es, Ms, Cs, Xs = [], [], [], []  \n",
    "\n",
    "for T in Ts:\n",
    "    \n",
    "    S, E, M = run_ising2d(spins=np.random.choice([-1, 1], size=(12, 12)), \n",
    "                          T=T, \n",
    "                          J=1, \n",
    "                          B=0, \n",
    "                          n_steps=int(2*n_equil), \n",
    "                          out_freq=out)\n",
    "    \n",
    "    E = E[n_equil//out:]\n",
    "    M = M[n_equil//out:]\n",
    "    \n",
    "    Es.append(np.mean(E))\n",
    "    Ms.append(np.mean(M))\n",
    "    \n",
    "    Cs.append(get_Cv(E, T)) \n",
    "    Xs.append(get_Xi(M, T))"
   ]
  },
  {
   "cell_type": "code",
   "execution_count": 114,
   "metadata": {},
   "outputs": [
    {
     "data": {
      "image/png": "[encoded data removed]",
      "text/plain": [
       "<Figure size 576x432 with 4 Axes>"
      ]
     },
     "metadata": {
      "needs_background": "light"
     },
     "output_type": "display_data"
    }
   ],
   "source": [
    "fig, ax  = plt.subplots(ncols=2, nrows=2, figsize=(8,6))\n",
    "\n",
    "ax[0,0].scatter(Ts, Es)\n",
    "ax[0,0].set(ylabel='$E(T)$')\n",
    "\n",
    "ax[0,1].scatter(Ts, Ms)\n",
    "ax[0,1].set(ylabel='$M(T)$')\n",
    "\n",
    "ax[1,0].scatter(Ts, Cs)\n",
    "ax[1,0].set(ylabel='$C_v(T)$')\n",
    "\n",
    "ax[1,1].scatter(Ts, Xs)\n",
    "ax[1,1].set(ylabel='$\\Xi(T)$')\n",
    "fig.tight_layout()"
   ]
  },
  {
   "cell_type": "markdown",
   "metadata": {
    "id": "qFNE9Y04Fbu0"
   },
   "source": [
    "### Problems"
   ]
  },
  {
   "cell_type": "markdown",
   "metadata": {
    "id": "ZoHqqSnqFbu1"
   },
   "source": [
    "#### Problem-1\n",
    "\n",
    "Revisit the example MCMC simulation for determining $\\pi$ value. Vary the size of the displacement to determine the optimal size that generates quickest convergence to the value of $\\pi$\n",
    "\n",
    "\n",
    "#### Problem-2 \n",
    "\n",
    "Carry out MC simulation of 2D ising spin model for various lattice sizes $N= 16,32, 64$ at temperatures above and below critical e.g $T<T_c$ and $T>T_c$.   \n",
    "\n",
    "- How long does it take to equilibrate system as a function of size and as a function of T?\n",
    "\n",
    "- Plot some observables as a function of number of samples states to show that the system is carrying out some sort of random walk in the configurational space. \n",
    "\n",
    "- How do profiles of Energy vs T, Magnetization vs T and heat capacity vs T, and susceptibility vs T change as a function of size of our lattice. \n",
    "\n",
    "- Does $J>0$ and $J<0$ change the nature of phase transition?"
   ]
  },
  {
   "cell_type": "markdown",
   "metadata": {
    "id": "x-MPRohEFbu1"
   },
   "source": [
    "#### Problem-3\n",
    "\n",
    "Compute correlation functions of spin variable, that is how correlated are spins as a function of distance on a lattice, $L$. $C(L)=\\langle s_i s_{i+L}\\rangle -\\langle s_i\\rangle \\langle s_{i+L}\\rangle $ Make sure to account for the periodic boundary conditions! \n",
    "\n",
    "> Note that you can pick a special tagged spin and calculate correlation function of taged spin ($s_13$ for instance) with any other as a function of lattice spearation  by averaging over produced MC configurations.  Or you can take advantage of the fact that there are no priviledged spins and average over many spins and average over MC configruations e.g $s_1, s_2, ...$. E.g you can pick a horizontal line of spins and run a summation for each fixed r_ab distance. "
   ]
  },
  {
   "cell_type": "markdown",
   "metadata": {
    "id": "y3zetrDWFbu1"
   },
   "source": [
    "#### Problem-4\n",
    "\n",
    "Take a 20 by 20 lattice and equilibriate the system with a value of extneral field B equal to +1. \n",
    "Now slowly change h to −1 in discrete steps during each of these steps, use the previously equilibriated\n",
    "configuration as an input to the system to undergo equilibriation again.  \n",
    "\n",
    "Caluclate average and variance quantities (e.g E, M, C etc). Notice anything interesing :)"
   ]
  }
 ],
 "metadata": {
  "colab": {
   "collapsed_sections": [
    "j-FI9OY2Fbut",
    "U9V6J1DCFbut",
    "3FHaCVFsFbut",
    "zLAqk5gCFbut",
    "NguLNDH3Fbut",
    "CR6KKTgDFbuz"
   ],
   "name": "01_MCMC_Ising.ipynb",
   "provenance": [],
   "toc_visible": true
  },
  "interpreter": {
   "hash": "38cca0c38332a56087b24af0bc80247f4fced29cb4f7f437d91dc159adec9c4e"
  },
  "kernelspec": {
   "display_name": "llpsmd3",
   "language": "python",
   "name": "python3"
  },
  "language_info": {
   "codemirror_mode": {
    "name": "ipython",
    "version": 3
   },
   "file_extension": ".py",
   "mimetype": "text/x-python",
   "name": "python",
   "nbconvert_exporter": "python",
   "pygments_lexer": "ipython3",
   "version": "3.8.8"
  },
  "livereveal": {
   "theme": "sky"
  },
  "nteract": {
   "version": "0.21.0"
  },
  "toc": {
   "base_numbering": 1,
   "nav_menu": {},
   "number_sections": true,
   "sideBar": true,
   "skip_h1_title": false,
   "title_cell": "Table of Contents",
   "title_sidebar": "Contents",
   "toc_cell": false,
   "toc_position": {},
   "toc_section_display": true,
   "toc_window_display": false
  }
 },
 "nbformat": 4,
 "nbformat_minor": 4
}
