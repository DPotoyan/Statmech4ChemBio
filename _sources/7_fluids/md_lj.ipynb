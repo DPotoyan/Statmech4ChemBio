{
 "cells": [
  {
   "cell_type": "markdown",
   "metadata": {},
   "source": [
    "## MD simulations of fluids"
   ]
  },
  {
   "cell_type": "code",
   "execution_count": 1,
   "metadata": {
    "id": "A0ikNu3mVyvr"
   },
   "outputs": [],
   "source": [
    "import numpy as np\n",
    "from itertools import product\n",
    "import matplotlib.pyplot as plt"
   ]
  },
  {
   "cell_type": "markdown",
   "metadata": {},
   "source": [
    "### Initial positions, velocities and forces\n",
    "\n",
    "Unlike MC simulation where the initial condition is fully specified by positin arrray in MD simulations we must also specify initial velocities which allows us to determine initial forces!"
   ]
  },
  {
   "cell_type": "code",
   "execution_count": 3,
   "metadata": {},
   "outputs": [],
   "source": [
    "def IC_box(rho=0.88, N_cell=3):\n",
    "    '''Function to generate initial positions of LJ fluid. here particles are ordered on a lattice with \n",
    "    number of unitcells N_cell of length L_lcell .\n",
    "    ---\n",
    "    rho: density of the system\n",
    "    N_cell: how many repeats of close packed unit cells\n",
    "\n",
    "    returns: position array of shape (N, 3)\n",
    "    '''\n",
    "\n",
    "    N      = 4 * N_cell ** 3      # Total number of particles \n",
    "    L_box  = (N / rho) ** (1 / 3) # length of the whole box\n",
    "    L_cell = L_box / N_cell       # length of a unit cell\n",
    "\n",
    "    pos = [[[x,  y, z], [x, 0.5 + y, 0.5 + z], [0.5 + x, y, 0.5 + z], [0.5 + x, 0.5 + y, z]] \n",
    "           for x, y, z in product(range(N_cell), range(N_cell), range(N_cell))]\n",
    "    \n",
    "    pos = np.array(pos).reshape((-1, 3))\n",
    "\n",
    "    return pos * L_cell, L_box\n",
    "\n",
    "\n",
    "def IC_vel(N):\n",
    "    '''Genreate initial distribution of velocities from Maxwell-Botlzmann'''\n",
    "\n",
    "    vel  = np.random.randn(N, 3)\n",
    "    vel -= np.average(vel, axis=0)\n",
    "\n",
    "    return vel \n",
    "\n",
    "def IC_F(N):\n",
    "    '''Generate force matrix objects to be used throughout simulation\n",
    "    ---\n",
    "    F:  (N, N, 3) array that contains all the forces between i, j particles in 3D\n",
    "    ind: arrays of size N and N. These are indices of upper triangular matrix e.g (i, j) such that  i<j. \n",
    "    Having indices of all inter-particle forces allows us to avoid using for loops\n",
    "\n",
    "    '''\n",
    "    \n",
    "    F   = np.zeros((N, N, 3))       \n",
    "    I, J = np.triu_indices(N, k=1)   \n",
    "    \n",
    "    return F, I, J"
   ]
  },
  {
   "attachments": {},
   "cell_type": "markdown",
   "metadata": {},
   "source": [
    "### Inspect initial positions, forces and velocities"
   ]
  },
  {
   "cell_type": "code",
   "execution_count": null,
   "metadata": {},
   "outputs": [],
   "source": [
    "pos, L_box = IC_box(rho=0.88, N_cell=3)\n",
    "\n",
    "plt.scatter(pos[:, 0], pos[:,1])"
   ]
  },
  {
   "cell_type": "code",
   "execution_count": null,
   "metadata": {},
   "outputs": [],
   "source": [
    "F, I, J = IC_F(5)\n",
    "\n",
    "print(F.shape)\n",
    "print(I)\n",
    "print(J)"
   ]
  },
  {
   "cell_type": "code",
   "execution_count": null,
   "metadata": {},
   "outputs": [],
   "source": [
    "vel = IC_vel(100)\n",
    "\n",
    "plt.hist(vel[:,0], alpha=0.5, density=True);"
   ]
  },
  {
   "cell_type": "markdown",
   "metadata": {
    "id": "TRh6TW13S8t3"
   },
   "source": [
    "### Computation of forces\n",
    "\n",
    "- Most of the computational heavy lifting in MD simulations goes into evaluation of forces. \n",
    "\n",
    "- As the number of particles goes so does the need to evaluate the number of interacting pairs\n",
    "\n",
    "- In realistic simulations neighbor lists and cutoff distances are used to minimize and keep track of smaller number of particle pairs"
   ]
  },
  {
   "cell_type": "code",
   "execution_count": 4,
   "metadata": {
    "id": "AQ1oF_mHV9Rk"
   },
   "outputs": [],
   "source": [
    "def force_update(pos):   \n",
    "    '''This function is used to update the force matrix F which has been created via IC_F function earlier\n",
    "    pos: (N, 3) position array is specified as input\n",
    "    \n",
    "    returns\n",
    "    ---\n",
    "    forces:\n",
    "    U:    potential energy\n",
    "    P:    pressure\n",
    "    hist: histogram of r^2 distances\n",
    "    '''\n",
    "\n",
    "    # Compute all unique ij distances\n",
    "    r_vec = pos[I] - pos[J]\n",
    "\n",
    "    # Use min image criteria for distances\n",
    "    r_vec = r_vec - np.rint(r_vec / L_box) * L_box\n",
    "\n",
    "    # Compute r^2\n",
    "    r_sq = np.sum(r_vec**2, axis=1)\n",
    "\n",
    "    # Compute forces \n",
    "    dUdr = -(48 / r_sq ** 7 - 24 / r_sq ** 4)\n",
    "\n",
    "    # Compute force maxtirx containing all forces between ij particles dU/dr * dr\n",
    "    F[I,J] = dUdr[:, np.newaxis] * r_vec\n",
    "\n",
    "    # Compute total force acting on each particle (i=1,...N) \n",
    "    forces = F.sum(axis=0) - F.sum(axis=1)\n",
    "\n",
    "    # Compute potential energy, pressure and histogram of r^2 pair distances\n",
    "    U = np.sum(4 / r_sq ** 6 - 4 / r_sq ** 3)\n",
    "\n",
    "    P = np.sum(F[I,J] * r_vec)\n",
    "\n",
    "    hist = np.histogram(r_sq, bins=30, range=(0, L_box / 2))[0]\n",
    "    \n",
    "    return forces, U, P, hist"
   ]
  },
  {
   "cell_type": "markdown",
   "metadata": {},
   "source": [
    "### Time stepping "
   ]
  },
  {
   "cell_type": "code",
   "execution_count": 5,
   "metadata": {},
   "outputs": [],
   "source": [
    "def time_step(pos, vel, F):\n",
    "    '''Update velocities, positions and forces after dt time step of integration'''\n",
    "\n",
    "    vel += 0.5 * F * dt\n",
    "    \n",
    "    pos = np.mod(pos + vel * dt, L_box)\n",
    "\n",
    "    F, pot, P, hist = force_update(pos)\n",
    "    \n",
    "    vel += 0.5 * F * dt\n",
    "    kin = 0.5 * np.sum(vel**2)\n",
    "\n",
    "    return pos, vel, F, pot, kin, P, hist"
   ]
  },
  {
   "cell_type": "code",
   "execution_count": 14,
   "metadata": {
    "id": "NRxlz22WWqAQ"
   },
   "outputs": [],
   "source": [
    "def simulate(pos, \n",
    "             vel, \n",
    "             T, \n",
    "             freq_out=50, \n",
    "             nsteps=10000):\n",
    "    '''Main MD simulation loop. All of the variables and force matrix must be initialized \n",
    "    so that functions can acess them'''\n",
    "\n",
    "    kins, pots, Ps, hists = [], [], [], []\n",
    "    \n",
    "    F = force_update(pos)[0]\n",
    "\n",
    "    for t in range(nsteps):\n",
    "\n",
    "        # Update positions, velocities, forces\n",
    "        pos, vel, F, pot, kin, P, hist = time_step(pos, vel, F)\n",
    "\n",
    "        # Scaling velocitites to keep T constant\n",
    "        vel *= np.sqrt(N * 3 * T / (2 * kin))\n",
    "        \n",
    "        # Save thermo output\n",
    "        if t % freq_out == 0:\n",
    "\n",
    "            kins.append(kin)\n",
    "            pots.append(pot)\n",
    "            Ps.append(P)\n",
    "            hists.append(hist)\n",
    "\n",
    "    return np.array(kins), np.array(pots), np.array(Ps), np.mean(hists, axis=0)"
   ]
  },
  {
   "cell_type": "markdown",
   "metadata": {},
   "source": [
    "### Running MD simulation"
   ]
  },
  {
   "cell_type": "markdown",
   "metadata": {},
   "source": [
    "- Once again we collect all the relevant parameters of simulation in once cell to make it easy to do various exploratons"
   ]
  },
  {
   "cell_type": "code",
   "execution_count": 15,
   "metadata": {
    "id": "Rrskbj7YSMh5"
   },
   "outputs": [],
   "source": [
    "#------- Initalize global variables: positions, box length, velocities and Forces-------\n",
    "pos, L_box     = IC_box(rho=0.88, N_cell=3)\n",
    "vel            = IC_vel(N)\n",
    "F, I, J        = IC_F(N)\n",
    "\n",
    "#Run simulation\n",
    "kins, pots, Ps, hist = simulate(pos, vel, T, freq_out=50, nsteps=10000)"
   ]
  },
  {
   "cell_type": "markdown",
   "metadata": {},
   "source": [
    "### Analysis of MD simulation "
   ]
  },
  {
   "cell_type": "code",
   "execution_count": 16,
   "metadata": {
    "colab": {
     "base_uri": "https://localhost:8080/",
     "height": 333
    },
    "id": "PJSDuQZeXE2s",
    "outputId": "74afa4af-1eeb-4770-d263-8e788d851fb2"
   },
   "outputs": [
    {
     "name": "stderr",
     "output_type": "stream",
     "text": [
      "<ipython-input-16-6627a5d7945d>:2: RuntimeWarning: invalid value encountered in true_divide\n",
      "  pair_correlation = hist / (4 * np.pi * rho * r)\n"
     ]
    },
    {
     "data": {
      "text/plain": [
       "Text(0, 0.5, '$g(r)$')"
      ]
     },
     "execution_count": 16,
     "metadata": {},
     "output_type": "execute_result"
    },
    {
     "data": {
      "image/png": "[encoded data removed]",
      "text/plain": [
       "<Figure size 432x288 with 1 Axes>"
      ]
     },
     "metadata": {
      "needs_background": "light"
     },
     "output_type": "display_data"
    }
   ],
   "source": [
    "r = np.linspace(0, L_box / 2, 30)\n",
    "pair_correlation = hist / (4 * np.pi * rho * r)\n",
    "\n",
    "plt.plot(r, pair_correlation, '-o') \n",
    "plt.xlabel(r'$r$')  \n",
    "plt.ylabel(r'$g(r)$')"
   ]
  }
 ],
 "metadata": {
  "colab": {
   "name": "numpyMD.ipynb",
   "provenance": []
  },
  "interpreter": {
   "hash": "4530ea2aa8bfc2750ca4edef123664b9363115d460a3300e4730305cf9e4e90b"
  },
  "kernelspec": {
   "display_name": "Python 3",
   "language": "python",
   "name": "python3"
  },
  "language_info": {
   "codemirror_mode": {
    "name": "ipython",
    "version": 3
   },
   "file_extension": ".py",
   "mimetype": "text/x-python",
   "name": "python",
   "nbconvert_exporter": "python",
   "pygments_lexer": "ipython3",
   "version": "3.8.8"
  }
 },
 "nbformat": 4,
 "nbformat_minor": 1
}
