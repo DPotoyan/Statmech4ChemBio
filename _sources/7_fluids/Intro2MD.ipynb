{
 "cells": [
  {
   "cell_type": "markdown",
   "metadata": {
    "slideshow": {
     "slide_type": "slide"
    }
   },
   "source": [
    "# Molecular Dynamics"
   ]
  },
  {
   "cell_type": "code",
   "execution_count": 2,
   "metadata": {},
   "outputs": [],
   "source": [
    "import matplotlib.pyplot as plt\n",
    "import ipywidgets as widgets\n",
    "import numpy as np\n",
    "import plotly.express as px"
   ]
  },
  {
   "cell_type": "markdown",
   "metadata": {
    "slideshow": {
     "slide_type": "slide"
    }
   },
   "source": [
    "![\"Cu atoms\"](https://upload.wikimedia.org/wikipedia/commons/4/42/Cudeposition.gif)"
   ]
  },
  {
   "cell_type": "markdown",
   "metadata": {
    "slideshow": {
     "slide_type": "slide"
    }
   },
   "source": [
    "![\"Water molecules\"](https://upload.wikimedia.org/wikipedia/commons/f/f4/MD_water.gif)"
   ]
  },
  {
   "cell_type": "markdown",
   "metadata": {},
   "source": [
    "### Is MD just Newton's laws applied on big systems?\n",
    "\n",
    "**Not quite: Noble prize in Chemistry 2013 just for MD**\n",
    "\n",
    "- Classical molecular dynamics (MD) is a powerful computational technique for studying complex molecular systems.\n",
    "- Applications span wide range including proteins, polymers, inorganic and organic materials. \n",
    "- Alos molecular dynamics simulation is being used in a complimentary way to the analysis of experimental data coming from NMR, IR, UV spectroscopies and elastic-scattering techniques, such as small angle scattering or diffraction.\n",
    "\n",
    "- [2013 Noble Lectures by M Karplus, A Warshell, M Levitt](https://www.youtube.com/watch?v=NuaeD9xYBtY)"
   ]
  },
  {
   "cell_type": "markdown",
   "metadata": {
    "slideshow": {
     "slide_type": "slide"
    }
   },
   "source": [
    "![](./figs/1466565515216.jpg)"
   ]
  },
  {
   "cell_type": "markdown",
   "metadata": {
    "slideshow": {
     "slide_type": "slide"
    }
   },
   "source": [
    "### Timescales and Lengthscales\n",
    "\n",
    "- Classical Molecular Dynamics can access a hiearrchy of time-scales from pico seconds to microseconds. \n",
    "- It is also possible to go beyond the time scale of brute force MD byb emplying clever enhanced sampling techniques."
   ]
  },
  {
   "cell_type": "markdown",
   "metadata": {
    "slideshow": {
     "slide_type": "fragment"
    }
   },
   "source": [
    "![](./figs/md-timescales.png)"
   ]
  },
  {
   "cell_type": "markdown",
   "metadata": {
    "slideshow": {
     "slide_type": "slide"
    }
   },
   "source": [
    "## Energy function (force fields) used in classical MD"
   ]
  },
  {
   "cell_type": "markdown",
   "metadata": {
    "slideshow": {
     "slide_type": "slide"
    }
   },
   "source": [
    "### Non-bonded interactions: Van der Waals"
   ]
  },
  {
   "cell_type": "code",
   "execution_count": 29,
   "metadata": {
    "slideshow": {
     "slide_type": "slide"
    }
   },
   "outputs": [
    {
     "data": {
      "application/vnd.jupyter.widget-view+json": {
       "model_id": "23d7b9f68f56478fb179d2ec3588bd98",
       "version_major": 2,
       "version_minor": 0
      },
      "text/plain": [
       "interactive(children=(FloatSlider(value=1.0, description='sig', max=2.0, min=1.0), FloatSlider(value=1.0, desc…"
      ]
     },
     "metadata": {},
     "output_type": "display_data"
    }
   ],
   "source": [
    "@widgets.interact(sig=(1,2, 0.1),eps=(0.1,3))\n",
    "def plot_lj(sig=1, eps=1):\n",
    "    \n",
    "    r  = np.linspace(0.5, 3, 1000)\n",
    "    lj = 4 * eps *  ( (sig/r)**12 -(sig/r)**6 )\n",
    "    \n",
    "    plt.plot(r, lj, lw=3)\n",
    "    plt.plot(r, -4*eps*(sig/r)**6, '-',lw=3)\n",
    "    plt.plot(r,  4*eps*(sig/r)**12,'-',lw=3)\n",
    "\n",
    "    plt.ylim([-3,3])\n",
    "    plt.xlabel(r'$r$')\n",
    "    plt.ylabel(r'$U(r)$')\n",
    "    plt.legend(['LJ', 'Attr-LJ','Repuls-LJ' ])"
   ]
  },
  {
   "cell_type": "code",
   "execution_count": 36,
   "metadata": {},
   "outputs": [
    {
     "data": {
      "application/vnd.jupyter.widget-view+json": {
       "model_id": "e28dcec6feee406f89a52e4fdbd1648e",
       "version_major": 2,
       "version_minor": 0
      },
      "text/plain": [
       "interactive(children=(FloatSlider(value=0.1, description='kappa', max=5.0, min=0.1), Output()), _dom_classes=(…"
      ]
     },
     "metadata": {},
     "output_type": "display_data"
    }
   ],
   "source": [
    "@widgets.interact(kappa=(0.1,5))\n",
    "def plot_lj(kappa=0.1):\n",
    "    \n",
    "    r    = np.linspace(1, 5, 1000)\n",
    "    \n",
    "    E_DH = np.exp(-kappa*r)/r\n",
    "\n",
    "    plt.plot(r, E_DH, lw=3)\n",
    "\n",
    "    plt.ylim([0,1])\n",
    "    plt.legend(['Debye-Huckel potential'])\n",
    "    plt.xlabel(r'$r$')\n",
    "    plt.ylabel(r'$U(r)$')\n",
    "\n",
    "    plt.grid(True)"
   ]
  },
  {
   "cell_type": "code",
   "execution_count": null,
   "metadata": {},
   "outputs": [],
   "source": [
    "@widgets.interact(kappa=(0.1,5))\n",
    "def plot_harmonic(k=0.1):\n",
    "    \n",
    "    r    = np.linspace(1, 5, 1000)\n",
    "\n",
    "    plt.grid(True)"
   ]
  },
  {
   "cell_type": "markdown",
   "metadata": {},
   "source": [
    "## Integrating equations of motion"
   ]
  },
  {
   "cell_type": "markdown",
   "metadata": {
    "slideshow": {
     "slide_type": "slide"
    }
   },
   "source": [
    "### No thanks, Euler\n",
    "The simplest integrating scheme for ODEs is the Euler's method. Given the $n$-dimensional vectors from the ODE standard form. the **Euler rule** amounts to writing down equation in finite difference form.\n",
    "\n",
    "$$\n",
    "\\frac{d {y}}{dt} = {f}(t, {y})\n",
    "$$\n",
    "\n",
    "$$\\frac{d y(t)}{dt} \\approx \\frac{{y}(t_{n+1}) - {y}(t_n)}{h}$$\n",
    "\n",
    "$${y}_{n+1} \\approx {y}_n + h {f}(t_n, {y}_n)$$\n"
   ]
  },
  {
   "cell_type": "markdown",
   "metadata": {
    "slideshow": {
     "slide_type": "slide"
    }
   },
   "source": [
    "**Much better integrators are known under the names of Runge Kutta, 2nd, 4th, 6th ... order**"
   ]
  },
  {
   "cell_type": "code",
   "execution_count": 67,
   "metadata": {
    "slideshow": {
     "slide_type": "slide"
    }
   },
   "outputs": [],
   "source": [
    "def euler(y, f, t, h):   \n",
    "    \"\"\"Euler integrator: Returns new y at t+h.\n",
    "    \"\"\"\n",
    "    return y + h * f(t, y)\n",
    "\n",
    "def rk2(y, f, t, h):\n",
    "    \"\"\"Runge-Kutta RK2 midpoint\"\"\"\n",
    "    \n",
    "    k1 = f(t, y)\n",
    "    k2 = f(t + 0.5*h, y + 0.5*h*k1)\n",
    "    \n",
    "    return y + h*k2\n",
    "\n",
    "def rk4(y, f, t, h):\n",
    "    \"\"\"Runge-Kutta RK4\"\"\"\n",
    "    \n",
    "    k1 = f(t, y)\n",
    "    k2 = f(t + 0.5*h, y + 0.5*h*k1)\n",
    "    k3 = f(t + 0.5*h, y + 0.5*h*k2)\n",
    "    k4 = f(t + h, y + h*k3)\n",
    "    \n",
    "    return y + h/6 * (k1 + 2*k2 + 2*k3 + k4)"
   ]
  },
  {
   "cell_type": "markdown",
   "metadata": {
    "slideshow": {
     "slide_type": "slide"
    }
   },
   "source": [
    "### Verlet algortihm"
   ]
  },
  {
   "cell_type": "markdown",
   "metadata": {
    "slideshow": {
     "slide_type": "slide"
    }
   },
   "source": [
    "**Taylor expansion of position $\\vec{r}(t)$ after timestep $\\Delta t$**\n",
    "\n",
    "$${r(t+\\Delta t) = r(t) +v(t)\\Delta t +\\frac{1}{2}a \\Delta t^2+...}$$\n",
    "\n",
    "$$r(t-\\Delta t) = r(t) -v(t) \\Delta t +\\frac{1}{2}a \\Delta t^2+...$$\n",
    "\n",
    "- A problem with this scheme is that simulations are not self-starting. To start simulation at $t=0$, we need to know the position at $t=-dt$.\n",
    "\n",
    "- Numericallly this scheme should work just fine as long as $\\Delta t$ is \"small enough\"\n",
    "\n",
    "- In pratice this finite difference method does not conserve total energy!"
   ]
  },
  {
   "cell_type": "markdown",
   "metadata": {
    "slideshow": {
     "slide_type": "slide"
    }
   },
   "source": [
    "### Basic Verlet updating scheme\n",
    "\n",
    "- In 1967 Loup Verlet introduced a central difference based algorithm into molecular dynamics simulations. Summing the taylor expansion we get a updating scheme which is an order of mangnitude more accurate\n",
    "\n",
    "$$r(t+\\Delta t) = 2r(t) - r(t-\\Delta t) +a(t) \\Delta t^2+O(\\Delta t^4)$$\n",
    "\n",
    "- Note that velocity is not needed to updat ethe positions but we still need them to compute kinetic energy and set the temperature. zvelocities can be computed via:\n",
    "\n",
    "$$ v(t) = \\frac{r(t+\\Delta t)-r(t-\\Delta t)}{2\\Delta t} +O(\\Delta t^2) $$\n",
    "\n",
    "\n",
    "- Terms of order $O(\\Delta t^3)$ cancel in position giving position an accuracy of order $O(\\Delta t^4)$\n",
    "\n",
    "- To update the position we need positions in the past at two different time points!\n",
    "\n",
    "- To get acceleration; $\\vec{a} = \\frac{\\vec{F}}{m}$ We need to compute forces!\n",
    "\n",
    "- One disadvantage of the original Verlet algorithm is that it requires us to store in memory two sets of\n",
    "positions"
   ]
  },
  {
   "cell_type": "markdown",
   "metadata": {
    "slideshow": {
     "slide_type": "slide"
    }
   },
   "source": [
    "### Velocity Verlet updating scheme\n",
    "\n",
    "- While velcotiy does not enter in the position updating scheme of basic Verlet, we need the velcoity to set the temperature and to start the simulation from initital codnitions! \n",
    "\n",
    "- This algorithms has shortcomings such as being of order $O(\\Delta t^2)$ aaccuracy and depending on the previous step.\n",
    "\n",
    "- A better velocity updating scheme has been proposed known as **Velocity-Verlet (VV)** which stores positions, velocities and accelerations at the same time and which also minimizes the round-off errors:\n",
    "\n",
    "$$v_{t+\\Delta t} = v_t + \\frac{1}{2}(a_t+a_{t+\\Delta t})\\Delta t +O(\\Delta t^3)$$"
   ]
  },
  {
   "cell_type": "markdown",
   "metadata": {
    "slideshow": {
     "slide_type": "slide"
    }
   },
   "source": [
    "Substituting forces instead of acelration we get \n",
    "\n",
    "$$r_{t+\\Delta t} = r_t + v_t\\Delta t + \\frac{F_t}{2m}\\Delta t^2$$\n",
    "\n",
    "\n",
    "$$v_{t+\\Delta t} = v_t + \\frac{F_t+F_{t+\\Delta t}}{2m}\\Delta t$$"
   ]
  },
  {
   "cell_type": "markdown",
   "metadata": {
    "slideshow": {
     "slide_type": "slide"
    }
   },
   "source": [
    "### Velocity Verlet  Algorithm\n",
    "\n",
    "**1. Evaluate the forces by plugging initial positions into force-field**\n",
    "\n",
    "$$F_t \\leftarrow - \\frac{\\partial U(r)}{ \\partial r}\\Big |_{r(t)} $$\n",
    "\n",
    "**2. Position update:**\n",
    "\n",
    "$$r_{t+\\Delta t}  = r_t +v \\Delta t + \\frac{F_t}{m}\\Delta t^2$$\n",
    "\n",
    "\n",
    "**3. Partial update of velocity**\n",
    "\n",
    "$$v  \\leftarrow v + \\frac{1}{2} \\frac{F_t}{m} \\Delta t$$\n",
    "\n",
    "**3. Force/acceleration evalutation at a new position**\n",
    "\n",
    "$$F_{t+\\Delta t} = -\\frac{\\partial U(r)}{\\partial r}\\Big |_{r(t+\\Delta t)}$$\n",
    "\n",
    "**4. Full update of velocity**\n",
    "\n",
    "$$v  \\leftarrow v + \\frac{1}{2} \\frac{F_{t+\\Delta t}}{m} \\Delta t$$"
   ]
  },
  {
   "cell_type": "markdown",
   "metadata": {},
   "source": [
    "#### Alternative implementaitons of VV\n",
    "\n",
    "- An alternative integration scheme known as **the Leapfrog algorithm** is mathematically identical to the original VV algorithm but differens in the way of implementation.\n",
    "\n",
    "- In the Leap-frog velocities are calculated at half-timestep $\\Delta t/2$.\n",
    "\n",
    "$$v_{t+\\Delta t/2} = v_{t-\\Delta t/2} + \\frac{F_t}{2m}\\Delta t$$\n",
    "\n",
    "$$r_{t+\\Delta t} = r_t + v_{t+\\Delta t/2}\\Delta t$$\n",
    "\n",
    "\n",
    "- One disadvantage of the leap frog approach is that the velocities are not known at the same time\n",
    "as the positions, making it difficult to evaluate the total energy (kinetic + potential) at any one\n",
    "point in time."
   ]
  },
  {
   "cell_type": "code",
   "execution_count": 124,
   "metadata": {},
   "outputs": [],
   "source": [
    "def velv(y, f, t, h):\n",
    "    \"\"\"Velocity Verlet for solving differential equation. \n",
    "    A little inefficient since same force (first and last) is evaluated twice!\"\"\"\n",
    "    \n",
    "    # 1. Evluate force\n",
    "    F = f(t, y)\n",
    "    \n",
    "    # 2, Velocity partial update\n",
    "    y[1] += 0.5*h * F[1]\n",
    "\n",
    "    # 3. Full step position\n",
    "    y[0] += h*y[1]\n",
    "    \n",
    "    # 4. Force re-eval\n",
    "    F = f(t+h, y)\n",
    "    \n",
    "    # 5. Full step velocity \n",
    "    y[1] += 0.5*h * F[1]  \n",
    "\n",
    "    return y\n",
    "\n",
    "def time_step_1D(pos, vel, F, en_force):\n",
    "    '''Velocity Verlet update of velocities, positions and forces\n",
    "    pos         (float):      position\n",
    "    vel         (float):      velocity\n",
    "    F           (float):        force\n",
    "    en_force (function): a function whichb computes potential energy and force (derivative)\n",
    "    '''\n",
    "    \n",
    "    vel   += 0.5 * F * dt\n",
    "    \n",
    "    pos   += vel * dt\n",
    "    \n",
    "    pe, F  = en_force(pos)\n",
    "    \n",
    "    vel   += 0.5 * F * dt\n",
    "\n",
    "    return pos, vel, F, pe"
   ]
  },
  {
   "cell_type": "markdown",
   "metadata": {
    "slideshow": {
     "slide_type": "slide"
    }
   },
   "source": [
    "### Comparison of RK and Verlet"
   ]
  },
  {
   "cell_type": "code",
   "execution_count": 57,
   "metadata": {},
   "outputs": [],
   "source": [
    "def f(t, y):\n",
    "    ''' Define a simple harmonic potential'''\n",
    "    \n",
    "    return np.array([y[1], -y[0]])"
   ]
  },
  {
   "cell_type": "code",
   "execution_count": 54,
   "metadata": {},
   "outputs": [
    {
     "data": {
      "text/plain": [
       "[<matplotlib.lines.Line2D at 0x7f99a070aee0>]"
      ]
     },
     "execution_count": 54,
     "metadata": {},
     "output_type": "execute_result"
    },
    {
     "data": {
      "image/png": "[encoded data removed]",
      "text/plain": [
       "<Figure size 864x216 with 3 Axes>"
      ]
     },
     "metadata": {
      "needs_background": "light"
     },
     "output_type": "display_data"
    }
   ],
   "source": [
    "y  = np.array([1., 1.])\n",
    "pos, vel = [], []\n",
    "t  = 0\n",
    "h = 0.1 # Change integration method and h=0.1\n",
    "\n",
    "for i in range(1000):\n",
    "    \n",
    "    y = velv(y, f, t, h) \n",
    "    t+=h\n",
    "    \n",
    "    pos.append(y[0])\n",
    "    vel.append(y[1])\n",
    "\n",
    "fig, ax = plt.subplots(ncols=3, nrows=1, figsize=(12,3))\n",
    "\n",
    "pos, vel =np.array(pos), np.array(vel)\n",
    "ax[0].plot(pos, vel)\n",
    "ax[1].plot(pos)\n",
    "ax[1].plot(vel)\n",
    "ax[2].plot(0.5*pos**2 + 0.5*vel**2)"
   ]
  },
  {
   "cell_type": "markdown",
   "metadata": {
    "slideshow": {
     "slide_type": "slide"
    }
   },
   "source": [
    "# Ensemble averages"
   ]
  },
  {
   "cell_type": "markdown",
   "metadata": {
    "slideshow": {
     "slide_type": "slide"
    }
   },
   "source": [
    "### Ensemble vs time average and ergodicity\n",
    "\n",
    "$$\\langle A \\rangle  = \\frac{1}{T_{prod}} \\int^{T_{eq} +T_{prod}}_{T_{eq}} A(t)$$"
   ]
  },
  {
   "cell_type": "markdown",
   "metadata": {
    "slideshow": {
     "slide_type": "slide"
    }
   },
   "source": [
    "### Kinetic, Potential and Total Energies"
   ]
  },
  {
   "cell_type": "markdown",
   "metadata": {
    "slideshow": {
     "slide_type": "slide"
    }
   },
   "source": [
    "Kinetic, potential and total energies are flcutuation quantities in the Molecualr dynamics simulations\n",
    "\n",
    "$$KE(t) = \\sum_i \\frac{p^2(t)}{2m}$$\n",
    "\n",
    "$$PE(t) = \\sum_{ij}u_{ij}(r_i(t), r_j(t))$$\n",
    "\n",
    "Energy conservation should still hold: The mean of total energy should be stable\n",
    "\n",
    "$$\\langle E \\rangle = \\langle KE \\rangle +\\langle PE \\rangle \\approx const $$"
   ]
  },
  {
   "cell_type": "markdown",
   "metadata": {
    "slideshow": {
     "slide_type": "slide"
    }
   },
   "source": [
    "### Temperature\n",
    "\n",
    "According to equipariting result of equilibrium statistical mechanics in the NVT ensmeble\n",
    "\n",
    "$$\\Big\\langle \\sum_i \\frac{p^2(t)}{2m} \\Big\\rangle =\\frac{3 }{2}N  k_B T$$\n",
    "\n",
    "\n",
    "$$T_t = \\frac{2}{3 N k_B} \\big\\langle KE \\big\\rangle_t $$"
   ]
  },
  {
   "cell_type": "markdown",
   "metadata": {
    "slideshow": {
     "slide_type": "slide"
    }
   },
   "source": [
    "### Pressure\n",
    "\n",
    "The microscopic expression for the pressure can be derived in the NVE ensemble using  \n",
    "\n",
    "$$P = \\frac{1}{3V} \\sum^N_i \\Big [\\frac{p^2_i}{m} +\\vec{F}_i(r) \\cdot \\vec{r}_i(t) \\Big ]$$"
   ]
  },
  {
   "cell_type": "markdown",
   "metadata": {},
   "source": [
    "## Molecular Dynaamics of Classical Harmonic Oscillator"
   ]
  },
  {
   "cell_type": "markdown",
   "metadata": {
    "slideshow": {
     "slide_type": "slide"
    }
   },
   "source": [
    "### NVE"
   ]
  },
  {
   "cell_type": "code",
   "execution_count": 125,
   "metadata": {},
   "outputs": [],
   "source": [
    "def time_step_1D(pos, vel, F, en_force):\n",
    "    '''Velocity Verlet update of velocities, positions and forces\n",
    "    pos         (float):      position\n",
    "    vel         (float):      velocity\n",
    "    F           (float):        force\n",
    "    en_force (function): a function whichb computes potential energy and force (derivative)\n",
    "    '''\n",
    "    \n",
    "    vel   += 0.5 * F * dt\n",
    "    \n",
    "    pos   += vel * dt\n",
    "    \n",
    "    pe, F  = en_force(pos)\n",
    "    \n",
    "    vel   += 0.5 * F * dt\n",
    "\n",
    "    return pos, vel, F, pe"
   ]
  },
  {
   "cell_type": "code",
   "execution_count": 119,
   "metadata": {},
   "outputs": [],
   "source": [
    "def md_nve_1d(x, v, dt, t_max, en_force):\n",
    "    '''Minimalistic MD code applied to a harmonic oscillator'''\n",
    "    \n",
    "    times, pos, vel, KE, PE  = [], [], [], [], []\n",
    "    \n",
    "    #1. Intialize force\n",
    "    pe, F = en_force(x) \n",
    "    \n",
    "    for step in range(int(t_max/dt)):\n",
    "        \n",
    "        x, v, F, pe = time_step_1D(x, v, F, en_force)\n",
    "        \n",
    "        pos.append(x), vel.append(v), KE.append(0.5*v*v), PE.append(pe)    \n",
    "    \n",
    "    return np.array(pos), np.array(vel), np.array(KE), np.array(PE)"
   ]
  },
  {
   "cell_type": "code",
   "execution_count": 150,
   "metadata": {},
   "outputs": [],
   "source": [
    "#----parameters of simulation----\n",
    "k     = 3 \n",
    "x0    = 1 \n",
    "v0    = 0\n",
    "dt    = 0.01 * 2*np.pi/np.sqrt(k) #A good timestep determined by using oscillator frequency\n",
    "t_max = 1000\n",
    "\n",
    "def ho_en_force(x, k=k):\n",
    "    '''Force field of harmonic oscillator:\n",
    "    returns potential energy and force'''\n",
    "    \n",
    "    return k*x**2, -k*x\n",
    "\n",
    "\n",
    "pos, vel, KE, PE = md_nve_1d(x0, v0, dt, t_max, ho_en_force)"
   ]
  },
  {
   "cell_type": "code",
   "execution_count": 149,
   "metadata": {},
   "outputs": [
    {
     "data": {
      "image/png": "[encoded data removed]",
      "text/plain": [
       "<Figure size 432x288 with 2 Axes>"
      ]
     },
     "metadata": {
      "needs_background": "light"
     },
     "output_type": "display_data"
    }
   ],
   "source": [
    "fig, ax =plt.subplots(ncols=2)\n",
    "\n",
    "ax[0].hist(pos, 40);\n",
    "ax[1].hist(vel, 40,color='orange');\n",
    "ax[0].set_ylabel('P(x)')\n",
    "ax[1].set_ylabel('P(v)')\n",
    "\n",
    "fig.tight_layout()"
   ]
  },
  {
   "cell_type": "markdown",
   "metadata": {},
   "source": [
    "### Molecualr Dynamics of Harmonic oscillator (NVT)"
   ]
  },
  {
   "cell_type": "markdown",
   "metadata": {},
   "source": [
    "**Langevin equation**\n",
    "\n",
    "$$F =  m \\ddot{x} = -\\nabla_x U$$\n",
    "\n",
    "**Langevin force = friction (dissipation) + noise (fluctuation) on top of energy landscape**\n",
    "\n",
    "$$F = m \\ddot{x} = -\\nabla_x U - \\lambda \\dot{x} + \\eta(t)$$\n",
    "\n",
    "**Overdamped Langevin  $m\\dot{v} =0$**\n",
    "\n",
    "$$ \\lambda \\dot{x} = \\nabla_x U + \\eta(t)$$\n",
    "\n",
    "**Fluctuation-dissipation theorem**\n",
    "\n",
    "$$\\langle \\eta(t) \\eta(t') \\rangle = 2\\lambda k_B T \\delta(t-t')$$"
   ]
  },
  {
   "cell_type": "markdown",
   "metadata": {},
   "source": [
    "$$ v(t_0+t) = v(t_0)e^{-\\lambda  t} + (1-e^{-2\\gamma t})^{1/2} (k_B T)^{1/2} \\cdot N(0,1)$$"
   ]
  },
  {
   "cell_type": "code",
   "execution_count": 137,
   "metadata": {},
   "outputs": [],
   "source": [
    "def langevin_md_1d(x, v, dt, kBT, gamma, t_max, en_force, **kwargs):\n",
    "    '''Langevin dynamics applied to 1D potentials\n",
    "    Using integration scheme known as BA-O-AB.\n",
    "    INPUT: Any 1D function with its parameters\n",
    "    '''\n",
    "    \n",
    "    times, pos, vel, KE, PE  = [], [], [], [], []\n",
    "    \n",
    "    t = 0  \n",
    "    \n",
    "    for step in range(int(t_max/dt)):\n",
    "        \n",
    "        #B-step\n",
    "        pe, F = en_force(x, **kwargs)\n",
    "        v    += F*dt/2\n",
    "        \n",
    "        #A-step\n",
    "        x += v*dt/2\n",
    "\n",
    "        #O-step\n",
    "        v = v*np.exp(-gamma*dt) + np.sqrt(1-np.exp(-2*gamma*dt)) * np.sqrt(kBT) * normal()\n",
    "        \n",
    "        #A-step\n",
    "        x +=  v*dt/2\n",
    "        \n",
    "        #B-step\n",
    "        pe, F = en_force(x, **kwargs)\n",
    "        v    +=  F*dt/2\n",
    "        \n",
    "        ### Save output \n",
    "        times.append(t), pos.append(x), vel.append(v), KE.append(0.5*v*v), PE.append(pe)    \n",
    "    \n",
    "    return np.array(times), np.array(pos), np.array(vel), np.array(KE), np.array(PE)"
   ]
  },
  {
   "cell_type": "code",
   "execution_count": 138,
   "metadata": {},
   "outputs": [],
   "source": [
    "# Ininital conditions\n",
    "x     = 0.1\n",
    "v     = 0.5\n",
    "\n",
    "# Input parameters of simulation\n",
    "kBT   = 0.25\n",
    "gamma = 10\n",
    "dt    = 0.01\n",
    "t_max = 10000\n",
    "freq  = 10\n",
    "\n",
    "times, pos, vel, KE, PE = langevin_md_1d(x, v, dt, kBT, gamma, t_max, ho_en_force, k=2)"
   ]
  },
  {
   "cell_type": "code",
   "execution_count": 139,
   "metadata": {},
   "outputs": [
    {
     "data": {
      "text/plain": [
       "[<matplotlib.lines.Line2D at 0x7f99a0dfa4f0>]"
      ]
     },
     "execution_count": 139,
     "metadata": {},
     "output_type": "execute_result"
    },
    {
     "data": {
      "image/png": "[encoded data removed]",
      "text/plain": [
       "<Figure size 648x288 with 2 Axes>"
      ]
     },
     "metadata": {
      "needs_background": "light"
     },
     "output_type": "display_data"
    }
   ],
   "source": [
    "def gaussian_x(x, k, kBT): \n",
    "    return  np.exp(-k*(x**2)/(2*kBT)) / np.sqrt(2*np.pi*kBT/k)\n",
    "    \n",
    "def gaussian_v(v, kBT):   \n",
    "    return  np.exp(-(v**2)/(2*kBT))  / np.sqrt(2*np.pi*kBT) \n",
    "\n",
    "fig, ax =plt.subplots(nrows=1, ncols=2, figsize=(9,4))\n",
    "\n",
    "bins=50\n",
    "x = np.linspace(min(pos), max(pos), bins)\n",
    "\n",
    "ax[0].hist(pos, bins=bins, density=True) \n",
    "ax[0].plot(x, gaussian_x(x, k, kBT), lw=3)\n",
    "\n",
    "v = np.linspace(min(vel), max(vel), bins)\n",
    "\n",
    "ax[1].hist(vel, bins=bins, density=True) \n",
    "ax[1].plot(v, gaussian_v(v, kBT), lw=3)"
   ]
  },
  {
   "cell_type": "markdown",
   "metadata": {},
   "source": [
    "### Double well potential"
   ]
  },
  {
   "cell_type": "code",
   "execution_count": 101,
   "metadata": {},
   "outputs": [
    {
     "data": {
      "application/vnd.jupyter.widget-view+json": {
       "model_id": "b167c2a43fc643dfbd206ce75cf6cee4",
       "version_major": 2,
       "version_minor": 0
      },
      "text/plain": [
       "interactive(children=(FloatSlider(value=1.0, description='k', max=1.0, min=0.1), FloatSlider(value=3.0, descri…"
      ]
     },
     "metadata": {},
     "output_type": "display_data"
    }
   ],
   "source": [
    "def double_well(x, k, a):\n",
    "    \n",
    "    energy = 0.25*k*((x-a)**2) * ((x+a)**2)\n",
    "    force = -k*x*(x-a)*(x+a)\n",
    "    \n",
    "    return energy, force\n",
    "\n",
    "@widgets.interact(k=(0.1, 1), a=(0.1,3))\n",
    "def plot_harm_force(k=1, a=3):\n",
    "    \n",
    "    x = np.linspace(-6,6,1000)\n",
    "    \n",
    "    energy, force = double_well(x, k, a) \n",
    "    \n",
    "    plt.plot(x, energy, '-o',lw=3)\n",
    "    plt.plot(x, force, '-', lw=3, alpha=0.5)\n",
    "    \n",
    "    plt.ylim(-20,40)\n",
    "    plt.grid(True)\n",
    "    plt.legend(['$U(x)$', '$F=-\\partial_x U(x)$'], fontsize=15)"
   ]
  },
  {
   "cell_type": "code",
   "execution_count": 103,
   "metadata": {},
   "outputs": [],
   "source": [
    "# Ininital conditions\n",
    "x     = 0.1\n",
    "v     = 0.5\n",
    "\n",
    "# Input parameters of simulation\n",
    "kBT   = 5 # vary this\n",
    "gamma = 0.1 # vary this\n",
    "\n",
    "dt    = 0.05\n",
    "t_max = 10000\n",
    "freq  = 10\n",
    "\n",
    "times, pos, vel, KE, PE = langevin_md_1d(x, v, dt, kBT, gamma, t_max, double_well, k=1, a=3)"
   ]
  },
  {
   "cell_type": "code",
   "execution_count": 104,
   "metadata": {},
   "outputs": [
    {
     "data": {
      "image/png": "[encoded data removed]",
      "text/plain": [
       "<Figure size 936x360 with 2 Axes>"
      ]
     },
     "metadata": {
      "needs_background": "light"
     },
     "output_type": "display_data"
    }
   ],
   "source": [
    "fig, ax =plt.subplots(nrows=1, ncols=2, figsize=(13,5))\n",
    "\n",
    "x = np.linspace(min(pos), max(pos), 50)\n",
    "\n",
    "\n",
    "ax[0].plot(pos)\n",
    "ax[1].hist(pos, bins=50, density=True, alpha=0.5);\n",
    "\n",
    "v = np.linspace(min(vel), max(vel),50)"
   ]
  },
  {
   "cell_type": "markdown",
   "metadata": {},
   "source": [
    "### Additional resoruces for learning MD\n",
    "\n",
    "For a quick dive consult the following lecture notes:\n",
    "\n",
    "- [Goran Wahnstrom's MD and MC lectures](http://fy.chalmers.se/~tfsgw/CompPhys/)\n",
    "- [Online course materials: **principles of modern molecular simulation methods**](https://sites.engineering.ucsb.edu/~shell/che210d/assignments.html)\n",
    "\n",
    "The best resource for comprehensive stuyd remains the timeless classic by Daan Frankel\n",
    "\n",
    "- [\"Understanding Molecular Simulation: From Algorithms to Applications\" a book by Daan Frankel](https://www.elsevier.com/books/understanding-molecular-simulation/frenkel/978-0-12-267351-1)"
   ]
  },
  {
   "cell_type": "markdown",
   "metadata": {
    "slideshow": {
     "slide_type": "slide"
    }
   },
   "source": [
    "### Problems\n",
    "\n",
    "#### 1D harmonic potential\n",
    "Given a 1D potential $U(x)$ write code to carry out  molecular dynamics\n",
    "\n",
    "$$U(x) = Ax^2 +B x^3 + C x^4$$\n",
    "\n",
    "- Using langevin dynamics to simulate the system in NVT ensemble. \n",
    "\n",
    "- Your input should read in A, B, C parameters, starting point and velocity, timestep and number of iterations, kBT, gamma. \n",
    "\n",
    "- Output should be the positions which should then be histogrammed to obtain probability distribution\n",
    "\n",
    "- Use A=-1, B = 0.0, C = 1.0. Try various initial positions.  Look for some interesting regions to sample by adjusting initital positions.  \n",
    "\n",
    "- Use A=-1, B = -1, C = 1.0. Again try various initial strting positions.\n",
    "\n",
    "#### Beads and springs\n",
    "\n",
    "Simulate a chain of harmonic oscillators with the following potential energy function\n",
    "\n",
    "$$U(x_1, x_2, ...) = \\sum_j \\frac{p^2_j}{2m} + \\frac{1}{2} K \\sum_j (x_j -x_{j-1})^2$$\n",
    "\n",
    "- Take the particle at $x_0 = 0$ fixed. Carry out constant T MD using langevin dynamics \n",
    "\n",
    "- Try N = 2, N=10 particles and obtain equilibrium distributions of $x_{j}-x_{j-1}$ for various temperatures. "
   ]
  }
 ],
 "metadata": {
  "kernelspec": {
   "display_name": "Python 3",
   "language": "python",
   "name": "python3"
  },
  "language_info": {
   "codemirror_mode": {
    "name": "ipython",
    "version": 3
   },
   "file_extension": ".py",
   "mimetype": "text/x-python",
   "name": "python",
   "nbconvert_exporter": "python",
   "pygments_lexer": "ipython3",
   "version": "3.8.8"
  },
  "toc": {
   "base_numbering": 1,
   "nav_menu": {},
   "number_sections": true,
   "sideBar": true,
   "skip_h1_title": false,
   "title_cell": "Table of Contents",
   "title_sidebar": "Contents",
   "toc_cell": false,
   "toc_position": {},
   "toc_section_display": true,
   "toc_window_display": false
  }
 },
 "nbformat": 4,
 "nbformat_minor": 4
}
