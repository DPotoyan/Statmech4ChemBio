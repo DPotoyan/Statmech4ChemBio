{
 "cells": [
  {
   "cell_type": "markdown",
   "metadata": {
    "id": "YXq9bgu-a5Mu"
   },
   "source": [
    "## MC simulations of fluids"
   ]
  },
  {
   "cell_type": "code",
   "execution_count": 83,
   "metadata": {
    "id": "qBaT717ia5Mz"
   },
   "outputs": [
    {
     "name": "stdout",
     "output_type": "stream",
     "text": [
      "Okay we are not in Colab just proceed as if nothing happened\n"
     ]
    }
   ],
   "source": [
    "import matplotlib.pyplot as plt\n",
    "\n",
    "import numpy as np\n",
    "from itertools import product\n",
    "\n",
    "from ipywidgets import interact, interactive\n",
    "import plotly.express as px\n",
    "import plotly.graph_objects as go\n",
    "from numba import jit, njit\n",
    "\n",
    "%matplotlib inline\n",
    "%config InlineBackend.figure_format = 'retina'\n",
    "\n",
    "try:\n",
    "    from google.colab import output\n",
    "    output.enable_custom_widget_manager()\n",
    "    print('All good to go')\n",
    "except:\n",
    "    print('Okay we are not in Colab just proceed as if nothing happened')"
   ]
  },
  {
   "cell_type": "markdown",
   "metadata": {
    "id": "JeKTIa6Xa5M0"
   },
   "source": [
    "## LJ model of a simple fluids, noble gases"
   ]
  },
  {
   "cell_type": "markdown",
   "metadata": {
    "id": "qUqnxqlVa5M0"
   },
   "source": [
    "\n",
    "**Check out reference values of [LJ fluid properties tabulated by NIST](https://www.nist.gov/mml/csd/chemical-informatics-research-group/lennard-jones-fluid-properties)**\n",
    "\n"
   ]
  },
  {
   "cell_type": "markdown",
   "metadata": {
    "id": "7HkQC3eRa5M0"
   },
   "source": [
    "### Initialize the system, and watch out for clashes!\n",
    "\n",
    "- Density and unit cell number can be used to fully specify a lattice packed with LJ particles "
   ]
  },
  {
   "cell_type": "code",
   "execution_count": 1,
   "metadata": {
    "id": "lF5a3cJVa5M1"
   },
   "outputs": [],
   "source": [
    "def IC_pos(rho=0.88, N_cell=3):\n",
    "    \"\"\"\n",
    "    Create a lattice of Lennard-Jones particles initially placed in a cubic FCC lattice.\n",
    "\n",
    "    Parameters:\n",
    "    rho (float, optional): Number density of particles. Defaults to 0.88.\n",
    "    N_cell (int, optional): Number of unit cells in one direction. Defaults to 3.\n",
    "\n",
    "    Returns:\n",
    "    np.array: Array of particle positions.\n",
    "    float: Length of the simulation box.\n",
    "    int: Total number of particles.\n",
    "    \"\"\"\n",
    "    from itertools import product\n",
    "    \n",
    "    N = 4 * N_cell ** 3  # Total number of particles in the system\n",
    "    L = (N / rho) ** (1 / 3)  # Length of the simulation box\n",
    "    L_cell = L / N_cell  # Length of a unit cell\n",
    "\n",
    "    # Generate positions within the unit cell\n",
    "    base_positions = np.array([[0, 0, 0],\n",
    "                               [0, 0.5, 0.5],\n",
    "                               [0.5, 0, 0.5],\n",
    "                               [0.5, 0.5, 0]])\n",
    "\n",
    "    # Create lattice by translating the base positions\n",
    "    pos = np.array([base + np.array([x, y, z]) for x, y, z in product(range(N_cell), repeat=3)\n",
    "                    for base in base_positions])\n",
    "\n",
    "    # Scale positions to the size of the unit cell\n",
    "    pos *= L_cell\n",
    "\n",
    "    return pos, L, N"
   ]
  },
  {
   "cell_type": "code",
   "execution_count": 84,
   "metadata": {},
   "outputs": [],
   "source": [
    "def cell_plotter(rho=0.88, N_cell=3):\n",
    "    \"\"\"\n",
    "    Generate and plot a 3D scatter plot of particles in a simulation box.\n",
    "\n",
    "    Parameters:\n",
    "    rho (float): Density of particles.\n",
    "    N_cell (int): Number of cells along one dimension.\n",
    "    \"\"\"\n",
    "    pos, L, N = IC_pos(rho=rho, N_cell=N_cell)  # Get initial conditions\n",
    "    fig = go.Figure(data=[go.Scatter3d(\n",
    "        x=pos[:,0],\n",
    "        y=pos[:,1],\n",
    "        z=pos[:,2],\n",
    "        mode='markers',\n",
    "        marker=dict(\n",
    "            size=5,  # Adjust size of markers\n",
    "            opacity=0.5  # Adjust opacity of markers\n",
    "        )\n",
    "    )])\n",
    "\n",
    "    # Update plot layout\n",
    "    fig.update_layout(\n",
    "        title=f\"3D Plot of Particles in a Box with Density {rho} and {N} Particles\",\n",
    "        width=700,\n",
    "        height=700,\n",
    "        scene=dict(\n",
    "            xaxis_title='X Coordinate',\n",
    "            yaxis_title='Y Coordinate',\n",
    "            zaxis_title='Z Coordinate',\n",
    "            xaxis=dict(range=[0, L]),\n",
    "            yaxis=dict(range=[0, L]),\n",
    "            zaxis=dict(range=[0, L])\n",
    "        )\n",
    "    )\n",
    "\n",
    "    fig.show()"
   ]
  },
  {
   "cell_type": "code",
   "execution_count": 85,
   "metadata": {
    "id": "5Fw-Byx3a5M1"
   },
   "outputs": [
    {
     "data": {
      "application/vnd.jupyter.widget-view+json": {
       "model_id": "df7a61f95ba6463788ada874e7e8c190",
       "version_major": 2,
       "version_minor": 0
      },
      "text/plain": [
       "interactive(children=(FloatSlider(value=0.88, description='rho', max=1.5, min=0.5), IntSlider(value=3, descrip…"
      ]
     },
     "metadata": {},
     "output_type": "display_data"
    }
   ],
   "source": [
    "interactive(cell_plotter, rho=(0.5, 1.5, 0.1), N_cell=(1, 10, 1))"
   ]
  },
  {
   "cell_type": "markdown",
   "metadata": {
    "id": "GNNI5lnLa5M2"
   },
   "source": [
    "### [Periodic Boundary conditions and minimum image criterion](https://en.wikipedia.org/wiki/Periodic_boundary_conditions)"
   ]
  },
  {
   "cell_type": "markdown",
   "metadata": {},
   "source": [
    "- If a particle leaves the box, it re-enters at the opposite side.\n",
    "- What should be the distance between partiles? There is some mbiguity because distance between atoms may now include crossing the system boundary and re-entering. This is identical to introducing copies of the particles around the simulation box. We adopt **minimum image convention** by choosing the shortest distance possible\n",
    "\n",
    "![](./pbc_fig1.gif)"
   ]
  },
  {
   "cell_type": "markdown",
   "metadata": {},
   "source": [
    "![](./pbc_fig2.gif)\n",
    "\n",
    "- By adopting minimum image convention we consider the closest of all 'image partners' (plus the original) of every atom for calculating interaction. The animation below highlights the image partners of the two red atoms that are closest to the green atom. \n",
    "\n",
    "- To minimize distance between points we evaluate distances along x, y and z dimension and choose the smallest possible one. \n"
   ]
  },
  {
   "cell_type": "code",
   "execution_count": 41,
   "metadata": {
    "id": "s4cUmrZRa5M3"
   },
   "outputs": [],
   "source": [
    "def pbc_basic(x, L):\n",
    "  '''For a box centered at the origin. This pbc function for wrapping positions of particles back into the into the box. \n",
    "  This function should also be used for dx displacements to obey minimum image criterion. \n",
    "  '''\n",
    "    \n",
    "  if   x >=  L/2: x -= L  \n",
    "\n",
    "  elif x <= -L/2: x += L\n",
    "\n",
    "  return x\n",
    "\n",
    "\n",
    "@njit\n",
    "def pbc_wrap(r_vec, L):\n",
    "    \"\"\"\n",
    "    Apply periodic boundary conditions using a vectorized approach to wrap a position vector back into a simulation box.\n",
    "    It is assumed that box is centered at the origin with coordinate bound by -L/2, L/2\n",
    "    \n",
    "    Parameters:\n",
    "    r_vec (np.array): A numpy array representing the displacement vector [x, y, z].\n",
    "    L_box (float): The length of one side of the cubic simulation box centered at the origin.\n",
    "\n",
    "    Returns:\n",
    "    np.array: The wrapped position vector within the simulation box centered at the origin.\n",
    "    \"\"\"\n",
    "   \n",
    "    # Vectorized operation to wrap the vector into the box centered at the origin\n",
    "    r_vec = (r_vec + L/2) % L - L/2\n",
    "\n",
    "    return r_vec"
   ]
  },
  {
   "cell_type": "markdown",
   "metadata": {},
   "source": [
    "**Visualize coordinate wrapping**"
   ]
  },
  {
   "cell_type": "code",
   "execution_count": 60,
   "metadata": {},
   "outputs": [
    {
     "data": {
      "application/vnd.jupyter.widget-view+json": {
       "model_id": "b589653ec7f64e04911916b85f740244",
       "version_major": 2,
       "version_minor": 0
      },
      "text/plain": [
       "interactive(children=(IntSlider(value=0, description='x', max=15, min=-15), IntSlider(value=10, description='L…"
      ]
     },
     "metadata": {},
     "output_type": "display_data"
    }
   ],
   "source": [
    "@interact(x=(-15, 15), L=10)\n",
    "def viz_wrap(x, L):\n",
    "\n",
    "    plt.hlines(-L/2, -L, L, color='red')\n",
    "    plt.hlines(L/2, -L, L, color='red')\n",
    "    \n",
    "    x_wrap = pbc_wrap(x, L) #pbc_basic(x, L)\n",
    "    plt.plot(x, x_wrap, 'o')\n",
    "    plt.xlabel('original x')\n",
    "    plt.ylabel('wrapped x')\n",
    "    plt.ylim(-L, L)\n",
    "    plt.show()"
   ]
  },
  {
   "cell_type": "markdown",
   "metadata": {
    "id": "RGdi41MQa5M3"
   },
   "source": [
    "### Computing pairwise distances and energies"
   ]
  },
  {
   "cell_type": "code",
   "execution_count": 61,
   "metadata": {
    "id": "bymBLpQIa5M4"
   },
   "outputs": [],
   "source": [
    "@njit\n",
    "def getE_tot(pos, L, trunc, sig=1, eps=1):\n",
    "    \"\"\"\n",
    "    Compute the total potential energy of a Lennard-Jones fluid by summing pairwise interactions.\n",
    "    \n",
    "    Parameters:\n",
    "    pos (array): Positions of particles in the system.\n",
    "    L (float): Length of the cubic simulation box.\n",
    "    trunc (float): Cutoff radius for interactions.\n",
    "    sig (float, optional): Sigma parameter of the LJ potential. Defaults to 1.\n",
    "    eps (float, optional): Epsilon parameter of the LJ potential. Defaults to 1.\n",
    "    \n",
    "    Returns:\n",
    "    float: Total potential energy of the system.\n",
    "    list: List of squared distances for each particle pair.\n",
    "    \"\"\"\n",
    "    N = len(pos)\n",
    "    energy = 0.0\n",
    "    r_sq_list = []\n",
    "\n",
    "    for i in range(N - 1):\n",
    "        for j in range(i + 1, N):\n",
    "            r_vec = pbc_wrap(pos[i] - pos[j], L)\n",
    "            r_sq = np.sum(r_vec**2)\n",
    "\n",
    "            if r_sq <= trunc**2:\n",
    "                inv_r_sq = sig**2 / r_sq\n",
    "                energy += 4 * eps * (inv_r_sq**3 - inv_r_sq**1.5)\n",
    "            r_sq_list.append(r_sq)\n",
    "\n",
    "    return energy, r_sq_list\n",
    "\n",
    "@njit\n",
    "def E_disp(pos, L, trunc, j, r_j, sig=1, eps=1):\n",
    "    \"\"\"\n",
    "    Compute the change in energy resulting from displacing particle j to position r_j.\n",
    "    \n",
    "    Parameters:\n",
    "    pos (array): Current positions of all particles.\n",
    "    L (float): Length of the cubic simulation box.\n",
    "    trunc (float): Cutoff radius for interactions.\n",
    "    j (int): Index of the particle being displaced.\n",
    "    r_j (array): New position of the displaced particle.\n",
    "    sig (float, optional): Sigma parameter of the LJ potential. Defaults to 1.\n",
    "    eps (float, optional): Epsilon parameter of the LJ potential. Defaults to 1.\n",
    "    \n",
    "    Returns:\n",
    "    float: Energy of particle j at new position due to interactions with other particles.\n",
    "    \"\"\"\n",
    "    N = len(pos)\n",
    "    energy = 0.0\n",
    "\n",
    "    for i in range(N):\n",
    "        if i != j:\n",
    "            r_vec = pbc_wrap(pos[i] - r_j, L)\n",
    "            r_sq = np.sum(r_vec**2)\n",
    "\n",
    "            if r_sq <= trunc**2:\n",
    "                inv_r_sq = sig**2 / r_sq\n",
    "                energy += 4 * eps * (inv_r_sq**3 - inv_r_sq**1.5)\n",
    "\n",
    "    return energy"
   ]
  },
  {
   "cell_type": "markdown",
   "metadata": {
    "id": "a-AX1urwa5M4"
   },
   "source": [
    "### MC engine for LJ fluid in 3D (NVT ensemble)\n",
    "Now that the main helper functions are set up we can put together a main Monte Carlo engine that loops through randomly selected particles and attemps their displacement via Metropolis Criterion. "
   ]
  },
  {
   "cell_type": "code",
   "execution_count": 80,
   "metadata": {
    "id": "C-4M9E5ba5M5"
   },
   "outputs": [],
   "source": [
    "@njit\n",
    "def run_MC_LJ(pos, L, T, trunc=4, disp=0.5, steps=10000, freq=100):\n",
    "    \"\"\"\n",
    "    Run a Monte Carlo simulation for a Lennard-Jones fluid.\n",
    "\n",
    "    Parameters:\n",
    "    pos (array): Initial positions of particles.\n",
    "    rho (float): Number density of particles.\n",
    "    T (float): Temperature of the system.\n",
    "    trunc (float, optional): Cutoff radius for interactions. Defaults to 4.\n",
    "    disp (float, optional): Maximum displacement of particles in one step. Defaults to 0.5.\n",
    "    steps (int, optional): Number of Monte Carlo steps. Defaults to 10000.\n",
    "    freq (int, optional): Frequency of recording data. Defaults to 1000.\n",
    "\n",
    "    Returns:\n",
    "    list: List of configurations at each recorded step.\n",
    "    list: List of total energies at each recorded step.\n",
    "    list: List of histograms of squared distances at each recorded step.\n",
    "    \"\"\"\n",
    "    \n",
    "    N = len(pos)\n",
    "    E_tot, r_sq_list = getE_tot(pos, L, trunc)\n",
    "    \n",
    "    es = [E_tot]\n",
    "    hists = []\n",
    "    confs = [pos.copy()]\n",
    "\n",
    "    for step in range(steps):\n",
    "        # Select a particle randomly\n",
    "        j = np.random.randint(N)\n",
    "        \n",
    "        # Calculate a random displacement\n",
    "        delta = np.random.uniform(-disp, disp, size=3)\n",
    "        \n",
    "        # New position considering periodic boundary conditions\n",
    "        r_j_new = pbc_wrap(pos[j] + delta, L)\n",
    "\n",
    "        # Energy change due to displacement\n",
    "        dE = E_disp(pos, L, trunc, j, r_j_new) - E_disp(pos, L, trunc, j, pos[j])\n",
    "\n",
    "        # Metropolis acceptance criterion\n",
    "        if np.exp(-dE / T) > np.random.rand():\n",
    "            pos[j] = r_j_new\n",
    "        \n",
    "        # Data collection at a specified frequency\n",
    "        if step % freq == 0:\n",
    "            E_tot, r_sq_list = getE_tot(pos, L, trunc)\n",
    "            H, _ = np.histogram(np.array(r_sq_list), bins=30, range=(0, L / 2))\n",
    "            hists.append(H)\n",
    "            es.append(E_tot)\n",
    "            confs.append(pos.copy())\n",
    "\n",
    "    return confs, es, hists"
   ]
  },
  {
   "cell_type": "markdown",
   "metadata": {
    "id": "aMOx9hVOa5M5"
   },
   "source": [
    "### Running MCMC simulation on LJ system"
   ]
  },
  {
   "cell_type": "code",
   "execution_count": 98,
   "metadata": {
    "id": "H4tJ9YYMa5M5"
   },
   "outputs": [],
   "source": [
    "rho=0.88\n",
    "pos, L, N = IC_pos(rho, N_cell=3)\n",
    "\n",
    "params = dict(L = L,\n",
    "              T = 0.2, \n",
    "              steps=1000000, \n",
    "              trunc=4, \n",
    "              disp=0.5,\n",
    "              freq=100)"
   ]
  },
  {
   "cell_type": "code",
   "execution_count": null,
   "metadata": {
    "colab": {
     "background_save": true
    },
    "id": "lYrcXB5ea5M6",
    "outputId": "7be0272f-882d-4f14-c463-2cc617ba0d93"
   },
   "outputs": [],
   "source": [
    "#%time \n",
    "confs, es, hists = run_MC_LJ(pos, **params)"
   ]
  },
  {
   "cell_type": "code",
   "execution_count": null,
   "metadata": {},
   "outputs": [],
   "source": [
    "plt.plot(es) "
   ]
  },
  {
   "cell_type": "code",
   "execution_count": 91,
   "metadata": {},
   "outputs": [
    {
     "data": {
      "application/vnd.jupyter.widget-view+json": {
       "model_id": "98b54fc40b1f44e0b240b3603363d2e9",
       "version_major": 2,
       "version_minor": 0
      },
      "text/plain": [
       "interactive(children=(IntSlider(value=0, description='i', max=9999), Output()), _dom_classes=('widget-interact…"
      ]
     },
     "metadata": {},
     "output_type": "display_data"
    }
   ],
   "source": [
    "n = params['steps']//params['freq']\n",
    "\n",
    "@interact(i=(0, n-1))\n",
    "def viz_sim_lj(i=0):\n",
    "\n",
    "  fig = go.Figure(data=[go.Scatter3d(\n",
    "        x=pos[i,0],\n",
    "        y=pos[i,1],\n",
    "        z=pos[i,2],\n",
    "        mode='markers',\n",
    "        marker=dict(\n",
    "            size=5,  # Adjust size of markers\n",
    "            opacity=0.5  # Adjust opacity of markers\n",
    "        )\n",
    "    )])\n",
    "\n",
    "  return fig"
   ]
  },
  {
   "cell_type": "code",
   "execution_count": 97,
   "metadata": {
    "id": "TPyYmOkfa5M6"
   },
   "outputs": [
    {
     "data": {
      "text/plain": [
       "Text(0, 0.5, '$g(r)$')"
      ]
     },
     "execution_count": 97,
     "metadata": {},
     "output_type": "execute_result"
    },
    {
     "data": {
      "image/png": "[encoded data removed]",
      "text/plain": [
       "<Figure size 640x480 with 1 Axes>"
      ]
     },
     "metadata": {
      "image/png": {
       "height": 432,
       "width": 565
      }
     },
     "output_type": "display_data"
    }
   ],
   "source": [
    "r = np.linspace(0.1, L / 2, 30)\n",
    "\n",
    "pair_correlation = np.mean(hists, axis=0) / (4 * np.pi * rho * r)\n",
    "\n",
    "plt.plot(r, pair_correlation, '-o') \n",
    "plt.xlabel(r'$r$')  \n",
    "plt.ylabel(r'$g(r)$')"
   ]
  },
  {
   "cell_type": "markdown",
   "metadata": {},
   "source": [
    "### Problems\n",
    "\n",
    "**1. Implementing PBC and minimal image convention methods outlined on  [Wikipeida](https://en.wikipedia.org/wiki/Periodic_boundary_conditions) in python.**\n",
    "\n",
    "- Write a few functions that take positions of N particles in 3D with shape (N,3) return new coordinates and all inter-particle distances. \n",
    "> You can generate random positions using ```np.random``` make sure you have enough particles outside of box to test your functions. \n",
    "> Try implementing your functions using numpy methods instead of having multiple for loops. That way your functions will run singnificantly faster.\n",
    "\n",
    "\n",
    "```python\n",
    "def pbc_dists(pos, L):\n",
    "\n",
    "    ...\n",
    "    \n",
    "    return pos, dists\n",
    "\n",
    "```\n",
    "\n",
    " - Evaluate distribution of energies of your random positions before and after applying pbc_dists.\n",
    " \n",
    " \n",
    "**2. Simulating 2D random walk with PBCs.**\n",
    "\n",
    " - Create a sequence of images or better yet an animation showing the temporal evolution of 10 independent random walkers in 100 by 100 square. Consult the random walk section and notebooks to refresh your memory of random walk simulations.\n",
    " - Calculate the root mean square displacement from the origin and show how it scales with time (steps)!\n",
    "  \n",
    " \n",
    "**2. Run MC simulations of LJ fluid at several temperatures to identify critical temperature.**\n",
    "\n",
    " - At each temperature evaluate heat capacity and RDFs.\n",
    " - Plot how energy, heat capacity and RDF change as a function of temperature.\n",
    " - Study dependence on sampling efficiency on magnitude of particle displacement."
   ]
  }
 ],
 "metadata": {
  "colab": {
   "collapsed_sections": [],
   "name": "06_MC_LJ.ipynb",
   "provenance": []
  },
  "interpreter": {
   "hash": "38cca0c38332a56087b24af0bc80247f4fced29cb4f7f437d91dc159adec9c4e"
  },
  "kernelspec": {
   "display_name": "Python [conda env:llpsmd3] *",
   "language": "python",
   "name": "conda-env-llpsmd3-py"
  },
  "language_info": {
   "codemirror_mode": {
    "name": "ipython",
    "version": 3
   },
   "file_extension": ".py",
   "mimetype": "text/x-python",
   "name": "python",
   "nbconvert_exporter": "python",
   "pygments_lexer": "ipython3",
   "version": "3.9.16"
  },
  "nteract": {
   "version": "0.22.0"
  },
  "toc": {
   "base_numbering": 1,
   "nav_menu": {},
   "number_sections": true,
   "sideBar": true,
   "skip_h1_title": false,
   "title_cell": "Table of Contents",
   "title_sidebar": "Contents",
   "toc_cell": false,
   "toc_position": {},
   "toc_section_display": true,
   "toc_window_display": false
  },
  "widgets": {
   "application/vnd.jupyter.widget-state+json": {
    "state": {},
    "version_major": 2,
    "version_minor": 0
   }
  }
 },
 "nbformat": 4,
 "nbformat_minor": 4
}
