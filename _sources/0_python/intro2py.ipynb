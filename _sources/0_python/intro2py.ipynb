{
 "cells": [
  {
   "cell_type": "markdown",
   "metadata": {
    "slideshow": {
     "slide_type": "skip"
    }
   },
   "source": [
    "# Python3"
   ]
  },
  {
   "cell_type": "markdown",
   "metadata": {},
   "source": [
    ":::{admonition} What you need to know\n",
    ":class: note\n",
    "\n",
    "- Python code is very intutive and human readable. It allows you to express very powerful ideas in very few lines of code while being very readable. \n",
    "- Python is a high-level, dynamically-typed, multiparadigm programming language. \n",
    "- What makes python special for STEM fields is its vast ecosystem of scientific libraries (numpy,  pandas, scipy, matplotlib).\n",
    "- This section will serve as a quick crash course of python programming language and some of its most essential scientific libraries. This module will cover everything we will need for this course.\n",
    "\n",
    ":::"
   ]
  },
  {
   "cell_type": "markdown",
   "metadata": {
    "slideshow": {
     "slide_type": "slide"
    }
   },
   "source": [
    ":::{figure-md} markdown-fig\n",
    "<img src=\"./figs/py-popular2.png\" alt=\"compton\" class=\"bg-primary mb-1\" width=\"300px\">\n",
    "\n",
    "Python ecosystem of scientific libraries\n",
    ":::"
   ]
  },
  {
   "cell_type": "markdown",
   "metadata": {
    "slideshow": {
     "slide_type": "slide"
    }
   },
   "source": [
    "### Python is readable!"
   ]
  },
  {
   "cell_type": "code",
   "execution_count": null,
   "metadata": {
    "slideshow": {
     "slide_type": "slide"
    }
   },
   "outputs": [],
   "source": [
    "menu = [\"h2o\", \"ch4\", \"nh3\", 'XeF4', 'c2H4', 'NaCl'] \n",
    "\n",
    "for item in menu:\n",
    "    print(item)"
   ]
  },
  {
   "cell_type": "code",
   "execution_count": null,
   "metadata": {
    "slideshow": {
     "slide_type": "slide"
    }
   },
   "outputs": [],
   "source": [
    "for item in menu:\n",
    "    \n",
    "    if item == \"NaCl\":   \n",
    "        \n",
    "        print(\"sodium chlrodie in the list!\")\n",
    "        \n",
    "    else:\n",
    "        \n",
    "        print(\"no sodium ions\")"
   ]
  },
  {
   "cell_type": "markdown",
   "metadata": {},
   "source": [
    "While these are silly examples for illustration, with the same simplicity of code you can do fairly sophisticated calculations. Do not worry if some of these commands seem unfamiliar, we are going to explain them later on. "
   ]
  },
  {
   "cell_type": "markdown",
   "metadata": {
    "slideshow": {
     "slide_type": "slide"
    }
   },
   "source": [
    "### Python versions"
   ]
  },
  {
   "cell_type": "markdown",
   "metadata": {},
   "source": [
    "- Just like any piece of code python is constantly evolving with new improvements and additions. Currently most of scientific packages and libraries are based python3 (we will be using python 3.7+). \n",
    "- If you have installed Python on your computer you can check your Python version at the command line by running `python --version`."
   ]
  },
  {
   "cell_type": "markdown",
   "metadata": {
    "slideshow": {
     "slide_type": "slide"
    }
   },
   "source": [
    "### Comments\n",
    "A “comment” is a part of code that is not run. It is a way to\n",
    "write notes about what your code is doing at certain points. This is helpful\n",
    "when you, or someone else, looks at the code later, so they know what it is\n",
    "doing. To make a comment in Python, precede the comment with a #."
   ]
  },
  {
   "cell_type": "code",
   "execution_count": null,
   "metadata": {
    "slideshow": {
     "slide_type": "slide"
    }
   },
   "outputs": [],
   "source": [
    "# Comments can be on their own line like this\n",
    "print(\"Hi\")\n",
    "print(\"World\") # A comment can also be at the end of a line"
   ]
  },
  {
   "cell_type": "markdown",
   "metadata": {
    "slideshow": {
     "slide_type": "slide"
    }
   },
   "source": [
    "### Whitespace\n",
    "In programming, white space refers to all of the space in your document that is not filled with code.  Examples of whitespace are spaces, tabs (indents), and newlines (when you press enter and go to the next line). Python is very particular about white space and how you use it, specifically the use of indentations and newlines.\n",
    "- **Newlines:** Python uses newline characters to separate logical lines of code. A logical line of code consists of a \"command\" in code. It is considered good Python style, or _Pythonic_ , to separate logical lines with newlines, although other methods exist.\n",
    "- **Indentation:** Tab characters, or indentation, are used to indicate code blocks in Python. These will be seen later in the tutorial with for loops, while loops, if statements, and other structures. For now, the take-home message is to follow the indentation pattern of the example and avoid unnecessary indentation."
   ]
  },
  {
   "cell_type": "code",
   "execution_count": null,
   "metadata": {
    "slideshow": {
     "slide_type": "slide"
    }
   },
   "outputs": [],
   "source": [
    "print(\"Hello\") # This is a logical line that assigns the value 16 to x\n",
    "print(\"World\") # This is another logical line, on the next line, that prints the value of x"
   ]
  },
  {
   "cell_type": "code",
   "execution_count": null,
   "metadata": {
    "slideshow": {
     "slide_type": "slide"
    }
   },
   "outputs": [],
   "source": [
    "print(\"Hello\")     # This line is not indented, so it is fine\n",
    "    print(\"World\") # Unnecessary indentation, this code will not work"
   ]
  },
  {
   "attachments": {},
   "cell_type": "markdown",
   "metadata": {
    "slideshow": {
     "slide_type": "slide"
    }
   },
   "source": [
    "### Basic data types\n",
    "\n",
    "Python has a variety of data types for managing different kinds of data: \n",
    "\n",
    "- **numbers:** *integers*  ```2, 3, 54```, *floats*  ```3.4, 5.2```, *complex* ```1+4j```\n",
    "- **Booleans** ```True, False```\n",
    "- **seqeuncess:** *strings* ```'words to live by'```, *lists* ```['a', 'b', 1, 2]```, *tuples* ```(1,4,7)```\n",
    "- **dictionaries:** ```{'dog': 'animal', 'apple': 'fruit'}```\n",
    "- **sets:** ```{1, 3, 7, 9}```\n",
    "\n",
    "Some of these are _point types_ such as simple numbers often used for basic arithmetic operations. Others are of _container kind_ which contain sequences of numbers often used as vectors and matrices.  "
   ]
  },
  {
   "cell_type": "markdown",
   "metadata": {
    "slideshow": {
     "slide_type": "slide"
    }
   },
   "source": [
    "## Numbers"
   ]
  },
  {
   "cell_type": "markdown",
   "metadata": {
    "slideshow": {
     "slide_type": "slide"
    }
   },
   "source": [
    "Numbers are an important data type for us which we use to do all sorts of computations. It is important to know that the numbers in Python can be:\n",
    "- **Integers:** -2, -1, 0, 1, 2\n",
    "- **Floats:** -0.001, 4.56, 3.14\n",
    "- **Complex numbers:** 1.2+2.5j, 2j, 3+1j"
   ]
  },
  {
   "cell_type": "code",
   "execution_count": null,
   "metadata": {
    "slideshow": {
     "slide_type": "slide"
    }
   },
   "outputs": [],
   "source": [
    "x = 3    # variable called x"
   ]
  },
  {
   "cell_type": "code",
   "execution_count": null,
   "metadata": {
    "slideshow": {
     "slide_type": "slide"
    }
   },
   "outputs": [],
   "source": [
    "print(x) # print contents of x"
   ]
  },
  {
   "cell_type": "code",
   "execution_count": null,
   "metadata": {
    "slideshow": {
     "slide_type": "slide"
    }
   },
   "outputs": [],
   "source": [
    "x        # Works the same for single line but for multiple lines you need print. See below"
   ]
  },
  {
   "cell_type": "code",
   "execution_count": null,
   "metadata": {
    "slideshow": {
     "slide_type": "slide"
    }
   },
   "outputs": [],
   "source": [
    "print(x + 18)   # Addition\n",
    "print(x - 1)   # Subtraction\n",
    "print(x * 2)   # Multiplication\n",
    "print(x ** 2)  # Exponentiation"
   ]
  },
  {
   "cell_type": "code",
   "execution_count": null,
   "metadata": {
    "slideshow": {
     "slide_type": "slide"
    }
   },
   "outputs": [],
   "source": [
    "x=2.3\n",
    "type(x) #let's find out what kind of number is this"
   ]
  },
  {
   "cell_type": "code",
   "execution_count": null,
   "metadata": {
    "slideshow": {
     "slide_type": "slide"
    }
   },
   "outputs": [],
   "source": [
    "x, y, z = 1, 2, 5 # multiple assignments can be done with one line!\n",
    "print(x)\n",
    "print(y)\n",
    "print(z)"
   ]
  },
  {
   "cell_type": "code",
   "execution_count": null,
   "metadata": {
    "slideshow": {
     "slide_type": "slide"
    }
   },
   "outputs": [],
   "source": [
    "x + y, x * z  # Multiple operations can be done with one line also, separated by a comma!"
   ]
  },
  {
   "cell_type": "markdown",
   "metadata": {
    "slideshow": {
     "slide_type": "slide"
    }
   },
   "source": [
    "#### Complex numbers are handled just as easily"
   ]
  },
  {
   "cell_type": "code",
   "execution_count": null,
   "metadata": {
    "slideshow": {
     "slide_type": "slide"
    }
   },
   "outputs": [],
   "source": [
    "z1 = 10+2j\n",
    "z2 = 3-1j"
   ]
  },
  {
   "cell_type": "code",
   "execution_count": null,
   "metadata": {
    "slideshow": {
     "slide_type": "slide"
    }
   },
   "outputs": [],
   "source": [
    "# extract real and imaginary parts as well as the conjugate\n",
    "z1.real, z1.imag, z1.conjugate()"
   ]
  },
  {
   "cell_type": "code",
   "execution_count": null,
   "metadata": {
    "slideshow": {
     "slide_type": "slide"
    }
   },
   "outputs": [],
   "source": [
    "z1_abs = z1 * z1.conjugate()\n",
    "print(z1_abs)"
   ]
  },
  {
   "cell_type": "code",
   "execution_count": null,
   "metadata": {
    "slideshow": {
     "slide_type": "slide"
    }
   },
   "outputs": [],
   "source": [
    "z1_abs**0.5"
   ]
  },
  {
   "cell_type": "markdown",
   "metadata": {
    "slideshow": {
     "slide_type": "slide"
    }
   },
   "source": [
    "## Booleans"
   ]
  },
  {
   "cell_type": "markdown",
   "metadata": {
    "slideshow": {
     "slide_type": "slide"
    }
   },
   "source": [
    "Booleans are key type in any computer language. Booleans allow determining true or false statements and constructing logical set of operations"
   ]
  },
  {
   "cell_type": "code",
   "execution_count": null,
   "metadata": {
    "slideshow": {
     "slide_type": "slide"
    }
   },
   "outputs": [],
   "source": [
    "x=True\n",
    "y=False\n",
    "z=True"
   ]
  },
  {
   "cell_type": "code",
   "execution_count": null,
   "metadata": {
    "slideshow": {
     "slide_type": "slide"
    }
   },
   "outputs": [],
   "source": [
    "x == z  # == (equals), != (not equal), > (greater than), < (less than) comparison operators and return True or False."
   ]
  },
  {
   "cell_type": "code",
   "execution_count": null,
   "metadata": {
    "slideshow": {
     "slide_type": "slide"
    }
   },
   "outputs": [],
   "source": [
    "y=2.3\n",
    "y>2"
   ]
  },
  {
   "cell_type": "code",
   "execution_count": null,
   "metadata": {
    "slideshow": {
     "slide_type": "slide"
    }
   },
   "outputs": [],
   "source": [
    "y<2"
   ]
  },
  {
   "cell_type": "code",
   "execution_count": null,
   "metadata": {
    "slideshow": {
     "slide_type": "slide"
    }
   },
   "outputs": [],
   "source": [
    "y==2.3"
   ]
  },
  {
   "cell_type": "code",
   "execution_count": null,
   "metadata": {
    "slideshow": {
     "slide_type": "slide"
    }
   },
   "outputs": [],
   "source": [
    "y!=-234"
   ]
  },
  {
   "cell_type": "markdown",
   "metadata": {},
   "source": [
    "Example: how to determine Even vs Odd numbers? \n",
    "\n",
    "- Check if there is any remainder after dividing by 2! This is done by ```%```"
   ]
  },
  {
   "cell_type": "code",
   "execution_count": 19,
   "metadata": {},
   "outputs": [
    {
     "data": {
      "text/plain": [
       "1"
      ]
     },
     "execution_count": 19,
     "metadata": {},
     "output_type": "execute_result"
    }
   ],
   "source": [
    "12 % 11"
   ]
  },
  {
   "cell_type": "code",
   "execution_count": 20,
   "metadata": {},
   "outputs": [
    {
     "data": {
      "text/plain": [
       "0"
      ]
     },
     "execution_count": 20,
     "metadata": {},
     "output_type": "execute_result"
    }
   ],
   "source": [
    "12 % 2"
   ]
  },
  {
   "cell_type": "markdown",
   "metadata": {},
   "source": [
    "- Note that when doing  n % m when m>n the number is returned back"
   ]
  },
  {
   "cell_type": "code",
   "execution_count": 21,
   "metadata": {},
   "outputs": [
    {
     "data": {
      "text/plain": [
       "12"
      ]
     },
     "execution_count": 21,
     "metadata": {},
     "output_type": "execute_result"
    }
   ],
   "source": [
    "12 % 13"
   ]
  },
  {
   "cell_type": "markdown",
   "metadata": {
    "slideshow": {
     "slide_type": "slide"
    }
   },
   "source": [
    "## Seqeuences"
   ]
  },
  {
   "cell_type": "markdown",
   "metadata": {
    "slideshow": {
     "slide_type": "slide"
    }
   },
   "source": [
    "- Python includes several built-in seqeunce types: **strings, lists and tuples.** \n",
    "\n",
    "- Being a sequence means these data types can be *indexed* and *sliced* in the same way.\n",
    "\n",
    "- Tuples and strings are **immutable** which means we can’t change individual elements within the tuple, and we cannot change individual characters within a string. \n",
    "- lists are **mutable** we can change elements of the list but we need to be careful when doing so because changing list has consequences to all objects that are associated with it!\n",
    "\n",
    "- Sequences share the following operations\n",
    "\n",
    "* `a[i]` returns i-th element of `a`\n",
    "* `a[i:j]` returns elements i up to j-1\n",
    "* `len(a)` returns number of elements in sequence\n",
    "* `min(a)` returns smallest value in sequence\n",
    "* `max(a)` returns largest value in sequence\n",
    "* `x in a` returns `True` if `x` is element in `a`\n",
    "* `a + b` concatenates `a` and `b`\n",
    "* `n * a` creates `n` copies of sequence `a`"
   ]
  },
  {
   "cell_type": "markdown",
   "metadata": {
    "slideshow": {
     "slide_type": "slide"
    }
   },
   "source": [
    "### Strings"
   ]
  },
  {
   "cell_type": "code",
   "execution_count": null,
   "metadata": {
    "slideshow": {
     "slide_type": "slide"
    }
   },
   "outputs": [],
   "source": [
    "hello = 'hello'   # String literals can use single quotes\n",
    "x = \"world blah blah\"   # or double quotes; it does not matter.\n",
    "type(x)"
   ]
  },
  {
   "cell_type": "code",
   "execution_count": null,
   "metadata": {
    "slideshow": {
     "slide_type": "slide"
    }
   },
   "outputs": [],
   "source": [
    "world = 'world'\n",
    "hw = hello + ' ' + world  # String concatenation with the + operator\n",
    "print(hw)  # prints \"hello world\""
   ]
  },
  {
   "cell_type": "markdown",
   "metadata": {},
   "source": [
    "- Just like any other python types, strings have their own methods specficially for string manipulation. Try a few of them out!"
   ]
  },
  {
   "cell_type": "code",
   "execution_count": null,
   "metadata": {},
   "outputs": [],
   "source": [
    "s = \"hello\"\n",
    "print(s.capitalize())  # Capitalize a string; prints \"Hello\"\n",
    "print(s.upper())       # Convert a string to uppercase; prints \"HELLO\"\n",
    "print(s.rjust(7))      # Right-justify a string, padding with spaces; prints \"  hello\"\n",
    "print(s.center(7))     # Center a string, padding with spaces; prints \" hello \"\n",
    "print(s.replace('l', '(ell)'))  # Replace all instances of one substring with another;\n",
    "                               # prints \"he(ell)(ell)o\"\n",
    "print('  world '.strip())   # Strip leading and trailing whitespace; prints \"world\"\n",
    "print('-'.join(' A B C '))\n",
    "print(''.join(' A B C '))\n",
    "print('A B C'.split())"
   ]
  },
  {
   "cell_type": "markdown",
   "metadata": {
    "slideshow": {
     "slide_type": "slide"
    }
   },
   "source": [
    "### Lists\n",
    "\n",
    "- Python list is a generic container for holding any Python type, be it a string, numbers, other lists, or a mix of everything.\n",
    "- We will look at the most essential properties of lists. For more on lists see [documentation](https://docs.python.org/2/tutorial/datastructures.html#more-on-lists)."
   ]
  },
  {
   "cell_type": "markdown",
   "metadata": {
    "slideshow": {
     "slide_type": "slide"
    }
   },
   "source": [
    ":::{figure-md} markdown-fig\n",
    "\n",
    "<img src=\"./figs/list.png\" alt=\"compton\" class=\"bg-primary mb-1\" width=\"400px\">\n",
    "\n",
    "Indexing a list\n",
    "\n",
    ":::"
   ]
  },
  {
   "cell_type": "code",
   "execution_count": null,
   "metadata": {
    "slideshow": {
     "slide_type": "slide"
    }
   },
   "outputs": [],
   "source": [
    "xs = [3, 1, 2,5,6,'blah']   # Create a list\n",
    "print(xs[4])"
   ]
  },
  {
   "cell_type": "code",
   "execution_count": null,
   "metadata": {
    "slideshow": {
     "slide_type": "slide"
    }
   },
   "outputs": [],
   "source": [
    "xs[2] = 'foo'    # Lists can contain elements of different types\n",
    "print(xs)"
   ]
  },
  {
   "cell_type": "code",
   "execution_count": null,
   "metadata": {
    "slideshow": {
     "slide_type": "slide"
    }
   },
   "outputs": [],
   "source": [
    "xs.append(145) # Add a new element to the end of the list\n",
    "print(xs)  "
   ]
  },
  {
   "cell_type": "code",
   "execution_count": null,
   "metadata": {
    "slideshow": {
     "slide_type": "slide"
    }
   },
   "outputs": [],
   "source": [
    "#x = xs.pop()     # Remove and return the last element of the list\n",
    "#print(x, xs) \n",
    "#help(x)"
   ]
  },
  {
   "cell_type": "markdown",
   "metadata": {
    "slideshow": {
     "slide_type": "slide"
    }
   },
   "source": [
    "### Slicing"
   ]
  },
  {
   "cell_type": "markdown",
   "metadata": {
    "slideshow": {
     "slide_type": "slide"
    }
   },
   "source": [
    ":::{figure-md} markdown-fig\n",
    "\n",
    "<img src=\"./figs/sliceList.jpg\" alt=\"slice-list\" class=\"bg-primary mb-1\" width=\"400px\">\n",
    "\n",
    "Slicing a list\n",
    "\n",
    ":::"
   ]
  },
  {
   "cell_type": "markdown",
   "metadata": {
    "slideshow": {
     "slide_type": "slide"
    }
   },
   "source": [
    "### Loops"
   ]
  },
  {
   "cell_type": "markdown",
   "metadata": {
    "slideshow": {
     "slide_type": "slide"
    }
   },
   "source": [
    "Loops alow you to go over the elements of containers and act on them given specific instructions. You can loop over the elements of a list like this:"
   ]
  },
  {
   "cell_type": "code",
   "execution_count": null,
   "metadata": {
    "slideshow": {
     "slide_type": "slide"
    }
   },
   "outputs": [],
   "source": [
    "animals = ['cat', 'dog', 'monkey', 'lion']\n",
    "\n",
    "for animal in animals:\n",
    "    print(animal)"
   ]
  },
  {
   "cell_type": "markdown",
   "metadata": {
    "slideshow": {
     "slide_type": "slide"
    }
   },
   "source": [
    "### List comprehensions:"
   ]
  },
  {
   "cell_type": "markdown",
   "metadata": {
    "slideshow": {
     "slide_type": "slide"
    }
   },
   "source": [
    "When programming, frequently we want to transform one type of data into another. As a simple example, consider the following code that computes square numbers:"
   ]
  },
  {
   "cell_type": "code",
   "execution_count": null,
   "metadata": {
    "slideshow": {
     "slide_type": "slide"
    }
   },
   "outputs": [],
   "source": [
    "nums = [0, 1, 2, 3, 4,5]\n",
    "squares = []\n",
    "\n",
    "for x in nums:\n",
    "    squares.append(x ** 3)\n",
    "squares"
   ]
  },
  {
   "cell_type": "markdown",
   "metadata": {
    "slideshow": {
     "slide_type": "slide"
    }
   },
   "source": [
    "You can make this code simpler using a special trick of lists called list comprehension:"
   ]
  },
  {
   "cell_type": "code",
   "execution_count": null,
   "metadata": {
    "slideshow": {
     "slide_type": "slide"
    }
   },
   "outputs": [],
   "source": [
    "nums = [0, 1, 2, 3, 4, 5]\n",
    "\n",
    "squares = [5*x + x ** 2 for x in nums]  # This is a list comprehension\n",
    "\n",
    "squares"
   ]
  },
  {
   "cell_type": "markdown",
   "metadata": {
    "slideshow": {
     "slide_type": "slide"
    }
   },
   "source": [
    "List comprehensions can also contain conditions:"
   ]
  },
  {
   "cell_type": "code",
   "execution_count": null,
   "metadata": {
    "slideshow": {
     "slide_type": "slide"
    }
   },
   "outputs": [],
   "source": [
    "nums = [0, 1, 2, 3, 4]\n",
    "even_squares = [x ** 2 for x in nums if x % 2 == 0]\n",
    "even_squares"
   ]
  },
  {
   "cell_type": "markdown",
   "metadata": {},
   "source": [
    "#### The range() command\n",
    "\n",
    "A special type of list is frequently required (often together with `for-loops`) and therefor a command exists to generate that list: the `range(n)` command generates integers starting from 0 and going up to *but not including* n. Here are a few examples:"
   ]
  },
  {
   "cell_type": "code",
   "execution_count": null,
   "metadata": {},
   "outputs": [],
   "source": [
    "list(range(3))"
   ]
  },
  {
   "cell_type": "code",
   "execution_count": null,
   "metadata": {},
   "outputs": [],
   "source": [
    "list(range(10))"
   ]
  },
  {
   "cell_type": "markdown",
   "metadata": {},
   "source": [
    "This command is often used with for loops. For example, to print the numbers 0<sup>2</sup>,1<sup>2</sup>,2<sup>2</sup>,3<sup>2</sup>,…,10<sup>2</sup>, the following program can be used:"
   ]
  },
  {
   "cell_type": "code",
   "execution_count": null,
   "metadata": {},
   "outputs": [],
   "source": [
    "for i in range(11):\n",
    "    print(i ** 2)"
   ]
  },
  {
   "cell_type": "markdown",
   "metadata": {},
   "source": [
    "The range command takes an optional parameter for the beginning of the integer sequence (start) and another optional parameter for the step size. This is often written as `range([start],stop,[step])` where the arguments in square brackets (*i.e.* start and step) are optional. Here are some examples:"
   ]
  },
  {
   "cell_type": "code",
   "execution_count": null,
   "metadata": {},
   "outputs": [],
   "source": [
    "list(range(3, 10))  "
   ]
  },
  {
   "cell_type": "code",
   "execution_count": null,
   "metadata": {},
   "outputs": [],
   "source": [
    "list(range(3, 10, 2))"
   ]
  },
  {
   "cell_type": "markdown",
   "metadata": {},
   "source": [
    "Why are we calling `list(range())`?\n",
    "\n",
    "In Python 3, `range()` generates the numbers on demand. When you use `range()` in a for loop, this is more efficient, because it doesn't take up memory with a list of numbers. Passing it to `list()` forces it to generate all of its numbers, so we can see what it does.\n",
    "\n",
    "To get the same efficient behaviour in Python 2, use `xrange()` instead of `range()`."
   ]
  },
  {
   "cell_type": "markdown",
   "metadata": {
    "slideshow": {
     "slide_type": "slide"
    }
   },
   "source": [
    "### Control Flow and the if-then-else statement"
   ]
  },
  {
   "cell_type": "markdown",
   "metadata": {
    "slideshow": {
     "slide_type": "fragment"
    }
   },
   "source": [
    "The `if statement` allows you to execute a block of code optionally, if certain conditions are met. An expression which evaluates to True or False, called the *conditional statement*, must be in the parentheses following the `if` keyword."
   ]
  },
  {
   "cell_type": "code",
   "execution_count": null,
   "metadata": {
    "slideshow": {
     "slide_type": "slide"
    }
   },
   "outputs": [],
   "source": [
    "x = 5\n",
    "\n",
    "if( x + 3 > 11):\n",
    "    print(\"I entered the conditional block!\")\n",
    "    print(\"I am also part of the conditional block.\")\n",
    "    \n",
    "print('''Since I am not indented, I am not in the \n",
    "    conditional block and execute every time.''')"
   ]
  },
  {
   "cell_type": "markdown",
   "metadata": {
    "slideshow": {
     "slide_type": "slide"
    }
   },
   "source": [
    "The `if statement` can be followed with optional blocks of code that will be executed if another condition, or no condition, is met. The default code block when no condition is met is an `else statement`. Each `if statement` can also be followed by zero or more `elif statements`. These are used to chain together `if statements` with different conditions. Try changing x to trigger the different conditions below."
   ]
  },
  {
   "cell_type": "code",
   "execution_count": null,
   "metadata": {
    "slideshow": {
     "slide_type": "fragment"
    }
   },
   "outputs": [],
   "source": [
    "x = 9\n",
    "\n",
    "if( x == 9):\n",
    "    print(\"x equals 9\")\n",
    "elif(x < 9):\n",
    "    print(\"x is less than 9\")\n",
    "elif(x > 9 and x < 20):\n",
    "    print(\"x is between 9 and 20\")\n",
    "else:\n",
    "    print(\"x is greater than 20\")"
   ]
  },
  {
   "cell_type": "markdown",
   "metadata": {},
   "source": [
    "**While loop**\n",
    "\n",
    "The <span>`while`</span> keyword allows to repeat an operation while a condition is true. Suppose we’d like to know for how many years we have to keep 100 pounds on a savings account to reach 200 pounds simply due to annual payment of interest at a rate of 5%. Here is a program to compute that this will take 15 years:"
   ]
  },
  {
   "cell_type": "code",
   "execution_count": null,
   "metadata": {},
   "outputs": [],
   "source": [
    "mymoney = 100         # in GBP\n",
    "rate = 1.05           # 5% interest\n",
    "years = 0\n",
    "while mymoney < 200:  # repeat until 20 pounds reached\n",
    "    mymoney = mymoney * rate\n",
    "    years = years + 1\n",
    "print('We need', years, 'years to reach', mymoney, 'pounds.')"
   ]
  },
  {
   "attachments": {},
   "cell_type": "markdown",
   "metadata": {},
   "source": [
    "### Dictionaries\n",
    "\n",
    "Dictionaries are *unordered* sets of *key-value pairs*.\n",
    "\n",
    "An empty dictionary can be created using curly braces:\n",
    "\n",
    "``\n",
    "my_empty_dict = {}\n",
    "``"
   ]
  },
  {
   "cell_type": "code",
   "execution_count": null,
   "metadata": {},
   "outputs": [],
   "source": [
    "polymer_properties = {'monomer': 'ch2', \n",
    "                      'mass': 120, \n",
    "                      'melting temperature': '25 C',\n",
    "                      'degree of polymerization': 24}"
   ]
  },
  {
   "cell_type": "code",
   "execution_count": null,
   "metadata": {},
   "outputs": [],
   "source": [
    "weather = {}\n",
    "\n",
    "weather['today'] = '22 deg C'    # 'today' is the keyword\n",
    "\n",
    "weather['yesterday'] = '19 deg C'"
   ]
  },
  {
   "cell_type": "markdown",
   "metadata": {},
   "source": [
    "We can retrieve values by using the keyword as the index:"
   ]
  },
  {
   "cell_type": "code",
   "execution_count": null,
   "metadata": {},
   "outputs": [],
   "source": [
    "weather['today']"
   ]
  },
  {
   "cell_type": "markdown",
   "metadata": {},
   "source": [
    "Another way of populating a dictionary if the data is known at creation time is by using the function `dict()` \n"
   ]
  },
  {
   "cell_type": "code",
   "execution_count": null,
   "metadata": {},
   "outputs": [],
   "source": [
    "d3 = dict(a=1, b=2, c=3)\n",
    "d3"
   ]
  },
  {
   "cell_type": "markdown",
   "metadata": {},
   "source": [
    "\n",
    "- Some useful dictionary methods include ` keys(), values()`, `items()` and `get()`. \n",
    "\n",
    "- You can use `in` to check for the presence of values."
   ]
  },
  {
   "cell_type": "code",
   "execution_count": null,
   "metadata": {},
   "outputs": [],
   "source": [
    "d.values()"
   ]
  },
  {
   "cell_type": "code",
   "execution_count": null,
   "metadata": {},
   "outputs": [],
   "source": [
    "d.items()"
   ]
  },
  {
   "cell_type": "markdown",
   "metadata": {
    "slideshow": {
     "slide_type": "slide"
    }
   },
   "source": [
    "## Functions"
   ]
  },
  {
   "cell_type": "markdown",
   "metadata": {
    "slideshow": {
     "slide_type": "fragment"
    }
   },
   "source": [
    "Python functions are defined using the `def` keyword. For example let us write a polynomial function \n",
    "\n",
    "$$f(x)=3.0x^3 + x^2 + 10x+1.0$$"
   ]
  },
  {
   "cell_type": "code",
   "execution_count": null,
   "metadata": {
    "slideshow": {
     "slide_type": "fragment"
    }
   },
   "outputs": [],
   "source": [
    "def sq_func(x):  \n",
    "    ''' Always document the kinds of inout and output you expect from a function\n",
    "    x:    float number\n",
    "    f(x): float number '''\n",
    "    \n",
    "    return 3.0*x**3 + x**2 + 10*x+1.0"
   ]
  },
  {
   "cell_type": "code",
   "execution_count": null,
   "metadata": {},
   "outputs": [],
   "source": [
    "def list_explorer(X, i):\n",
    "    '''\n",
    "    X: is a non empty list\n",
    "    i: is an integer\n",
    "    '''\n",
    "\n",
    "    print(f'element {i} of my list is', X[i])"
   ]
  },
  {
   "cell_type": "code",
   "execution_count": null,
   "metadata": {
    "slideshow": {
     "slide_type": "fragment"
    }
   },
   "outputs": [],
   "source": [
    "y = sq_func(3)\n",
    "y"
   ]
  },
  {
   "cell_type": "code",
   "execution_count": null,
   "metadata": {
    "slideshow": {
     "slide_type": "slide"
    }
   },
   "outputs": [],
   "source": [
    "def add_trig2(x, y):   # defined function of variable x and y\n",
    "    \n",
    "    return np.sin(x)**2 + np.cos(y)**2"
   ]
  },
  {
   "cell_type": "code",
   "execution_count": null,
   "metadata": {
    "slideshow": {
     "slide_type": "fragment"
    }
   },
   "outputs": [],
   "source": [
    "z = add_trig2(4, 4)\n",
    "\n",
    "z"
   ]
  },
  {
   "cell_type": "markdown",
   "metadata": {},
   "source": [
    "### Positional and optional arguments"
   ]
  },
  {
   "cell_type": "markdown",
   "metadata": {
    "slideshow": {
     "slide_type": "slide"
    }
   },
   "source": [
    "Sometimes we like to specify default values for funciton variables. E.g in science context this will be physical parameters, like the stiffness constant and quilibrium length of a spring. Note that the positional argument must always come first followed by any number of optional arguments."
   ]
  },
  {
   "cell_type": "code",
   "execution_count": null,
   "metadata": {
    "slideshow": {
     "slide_type": "fragment"
    }
   },
   "outputs": [],
   "source": [
    "def harm_osc(x, k=1, x0=0):\n",
    "    '''x: is a float number\n",
    "       k: float number\n",
    "       x0: float number'''\n",
    "\n",
    "    return k * (x-x0) ** 2"
   ]
  },
  {
   "cell_type": "code",
   "execution_count": null,
   "metadata": {
    "slideshow": {
     "slide_type": "fragment"
    }
   },
   "outputs": [],
   "source": [
    "print(harm_osc(2))\n",
    "\n",
    "print(harm_osc(2,10))\n",
    "\n",
    "print(harm_osc(2,k=10))\n",
    "\n",
    "print(harm_osc(2,k=10,x0=0.5))"
   ]
  },
  {
   "cell_type": "markdown",
   "metadata": {},
   "source": [
    "## Exercises"
   ]
  },
  {
   "attachments": {},
   "cell_type": "markdown",
   "metadata": {},
   "source": [
    "#### 1. Predict and explain the following statements\n",
    "\n",
    "```\n",
    "1. 1 and 2\n",
    "2. 0 and 1\n",
    "3. 1 or 0\n",
    "4. not 1 < 2 or 4 > 2\n",
    "5. not (1 < 2 or 4 > 2)\n",
    "6. 1 < 2 or 4 > 2\n",
    "7. not 0 < 1\n",
    "```\n"
   ]
  },
  {
   "attachments": {},
   "cell_type": "markdown",
   "metadata": {},
   "source": [
    "#### 2. Slice the string s = 'seehemewe' to produce the following substrings:\n",
    "\n",
    "```\n",
    "1. 'see'\n",
    "2. 'he'\n",
    "3. 'me'\n",
    "4. 'we'\n",
    "5. 'hem'\n",
    "6. 'meh'\n",
    "7. 'wee'\n",
    "```"
   ]
  },
  {
   "attachments": {},
   "cell_type": "markdown",
   "metadata": {},
   "source": [
    "#### 3. Predict the results of the following statements\n",
    "\n",
    "```    \n",
    "days = 'Sun Mon Tues Weds Thurs Fri Sat'\n",
    "\n",
    "1. print(days[days.index('M'):])\n",
    "2. print(days[days.index('M'): days.index('Sa')]. rstrip ())\n",
    "3. print(days [6:3: -1]. lower ()*3)\n",
    "4. print(days.replace('rs', ''). replace('s ', ' ')[::4])\n",
    "5. print(' -*- '.join(days.split ()))\n",
    "```"
   ]
  },
  {
   "attachments": {},
   "cell_type": "markdown",
   "metadata": {},
   "source": [
    "#### 4. Predict and explain the outcome of the following statements using the variables\n",
    "\n",
    "```\n",
    "s = 'hello' and a = [4, 10, 2]\n",
    "\n",
    "1. print(s, sep='-')\n",
    "2. print(*s, sep='-')\n",
    "3. print(a)\n",
    "4. print(*a, sep='')\n",
    "5. list(range(*a))\n",
    "```\n"
   ]
  },
  {
   "attachments": {},
   "cell_type": "markdown",
   "metadata": {},
   "source": [
    "#### 5. Seqeuences\n",
    "\n",
    "1. Acess and pring the length as well as first, middle and last letters of the string ``dna_string = \"ACGCAGG\"``\n",
    "\n",
    "2. Create two lists ``x=[1,2,4,\"dog\", \"xy\"]`` and ``y =[3,4,5,\"cat\", \"a\"]`` and do ``x+y``. ``XY=x[:3]+y[:3]``. Comment on why ``XY`` looks the way it looks. Any other way to achieve same result? \n",
    "\n",
    "3. Create two string variables ``s1=\"I am\"`` and ``s2=\"  Python Ninja\"`` (notice the space). First do s1+sw and comment. Next Capitalize every other element in the string. \n",
    "\n",
    "4. Loop over items in lists in 1 by prining the numbers only. \n",
    "\n",
    "5. Create two string variables by typing ``mol1 = \"CH3\"`` and ``mol2= \"CH2\"``. Using only these two strings and arithmetic operations on strings (+ and/or multiply *) create a third variable that would represent molecule of octane."
   ]
  },
  {
   "attachments": {},
   "cell_type": "markdown",
   "metadata": {},
   "source": [
    "#### 6. Functions\n",
    "\n",
    "1. Create a function that computes polynomial $y=ax^n+bx^3+c$ at points $x=−2$, $x=0$, and $x=2.1$ by using $n=1$, $a=b=1$, $c=-6$ as parameters. \n",
    "\n",
    "    - Create a list of values for parameter a. Compute values of function at values x = 1 and x=2 and store it in a separate list. \n",
    "\n",
    "\n",
    "#### 7. More functions\n",
    "\n",
    "Write a function that calculates the distance between the origin and a point in any dimensional space (1D, 2D, 3D, etc…) by allowing the function to take any number of coordinate values (e.g., x, xy, xyz, etc…). Your function should work for the following tests.\n",
    "\n",
    "```bash\n",
    "[in]: dist(3)\n",
    "\n",
    "[out]: 3\n",
    "\n",
    "[in]: dist(1,1)\n",
    "\n",
    "[out]: 1.4142135623730951\n",
    "\n",
    "[in]: dist(3, 2, 1)\n",
    "\n",
    "[out]: 3.7416573867739413\n",
    "\n",
    "```"
   ]
  },
  {
   "attachments": {},
   "cell_type": "markdown",
   "metadata": {},
   "source": [
    "#### 8. Computing palindromes using DNA sequence\n",
    "    \n",
    "1. Given a string representing a base-pair sequence (i.e. containing only the letters\n",
    "A, G, C and T), determine the fraction of G and C bases in the sequence.\n",
    "(Hint: strings have a count method, returning the number of occurrences of a\n",
    "substring.)\n",
    "2. Using only string methods, devise a way to determine if a nucleotide sequence\n",
    "is a palindrome in the sense that it is equal to its own complementary sequence\n",
    "read backward. For example, the sequence TGGATCCA is palindromic because\n",
    "its complement is ACCTAGGT, which is the same as the original sequence backward. The complementary base pairs are (A, T) and (C, G)."
   ]
  },
  {
   "attachments": {},
   "cell_type": "markdown",
   "metadata": {},
   "source": [
    "#### 9. Credit Card fraud.\n",
    "\n",
    "The Luhn algorithm is a simple checksum formula used to validate credit card and bank account numbers. It is designed to prevent common errors in transcribing the number, and detects all single-digit errors and almost all transpositions of two adjacent digits. The algorithm may be written as the following steps. \n",
    "\n",
    "    1. Reverse the number.\n",
    "    2. Treating the number as an array of digits, take the even-indexed digits (where the indexes start at 1 ) and double their values. If a doubled digit results in a number greater than 10, add the two digits (e.g., the digit 6 becomes 12 and hence 1 + 2 = 3).\n",
    "    3. Sum this modified array.\n",
    "    4. If the sum of the array modulo 10 is 0 the credit card number is valid.\n",
    "    \n",
    "Write a Python program to take a credit card number as a string of digits (possibly in\n",
    "groups, separated by spaces) and establish if it is valid or not. For example, the string ’4799 2739 8713 6272’ is a valid credit card number, but any number with a single digit in this string changed is not."
   ]
  },
  {
   "attachments": {},
   "cell_type": "markdown",
   "metadata": {},
   "source": [
    "#### 10. Catch a bug\n",
    "\n",
    "A Harshad number is an integer that is divisible by the sum of its digits (e.g., 21 is divisible by 2 + 1 = 3 and so is a Harshad number). Correct the following code which should return True or False if n is a Harshad number or not respectively. The code when run on some number ``is_harshad(21)`` gives error. Find the error and fix it.  \n",
    "\n",
    "```python\n",
    "def digit_sum(n):\n",
    "\n",
    "    \"\"\" Find the sum of the digits of integer n. \"\"\"\n",
    "    s_digits = list(str(n)) dsum = 0\n",
    "    for s_digit in s_digits:\n",
    "        dsum += int(s_digit) \n",
    "\n",
    "def is_harshad(n):\n",
    "    return not n % digit_sum(n)\n",
    "```"
   ]
  },
  {
   "attachments": {},
   "cell_type": "markdown",
   "metadata": {},
   "source": [
    "#### 11. The while loop and radioactive decay\n",
    "\n",
    "The isotope of $^13C$ has a half-life about 30.2 years. \n",
    "\n",
    "- Using a while loop, determine how many half-lives until a 500.0 g sample would have to decay until there is less that 10.00 grams left. To accomplish this, create a counter (counter = 0) and add 1 to it each cycle of a while loop to keep count."
   ]
  },
  {
   "attachments": {},
   "cell_type": "markdown",
   "metadata": {},
   "source": [
    "#### 12. interatomic distances\n",
    "\n",
    "The following code generates five atoms at random coordinates in 3D space. Write a Python script that calculates the distance between each pair of atoms and returns the shortest distance. \n",
    "> The combinations tool from [itertools](https://docs.python.org/3/library/itertools.html)might be helpful here but you can do without it. \n",
    "\n",
    "```python\n",
    "from random import randint\n",
    "atoms = []\n",
    "for a in range(5):\n",
    "    x, y, z = randint(0,20), randint(0,20), randint(0,20)\n",
    "    atoms.append((x,y,z))\n",
    "```\n",
    "\n"
   ]
  },
  {
   "cell_type": "markdown",
   "metadata": {},
   "source": [
    "#### Calcualte sets of pressures and volumes using ideal gas and Van der Waals equations. \n",
    "\n",
    "-  Take $a=5 L^2 \\cdot atm/mol^2$  and $b=0.05 L/mol$\n",
    "- Compare pressures at n=0.01 mol and n=1 mol values. for fixed volume. \n",
    "\n",
    "\n",
    "$$\n",
    "p = \\frac{nRT}{V}\n",
    "$$\n",
    "\n",
    "$$\n",
    "p = \\frac{nRT}{V-nb}-\\frac{n^2 a}{V^2}\n",
    "$$"
   ]
  }
 ],
 "metadata": {
  "celltoolbar": "Slideshow",
  "kernel_info": {
   "name": "python3"
  },
  "kernelspec": {
   "display_name": "Python 3 (ipykernel)",
   "language": "python",
   "name": "python3"
  },
  "language_info": {
   "codemirror_mode": {
    "name": "ipython",
    "version": 3
   },
   "file_extension": ".py",
   "mimetype": "text/x-python",
   "name": "python",
   "nbconvert_exporter": "python",
   "pygments_lexer": "ipython3",
   "version": "3.10.13"
  },
  "latex_envs": {
   "LaTeX_envs_menu_present": true,
   "autoclose": false,
   "autocomplete": true,
   "bibliofile": "biblio.bib",
   "cite_by": "apalike",
   "current_citInitial": 1,
   "eqLabelWithNumbers": true,
   "eqNumInitial": 1,
   "hotkeys": {
    "equation": "Ctrl-E",
    "itemize": "Ctrl-I"
   },
   "labels_anchors": false,
   "latex_user_defs": false,
   "report_style_numbering": false,
   "user_envs_cfg": false
  },
  "livereveal": {
   "theme": "simple"
  },
  "nteract": {
   "version": "0.15.0"
  },
  "rise": {
   "enable_chalkboard": true
  },
  "toc": {
   "base_numbering": 1,
   "nav_menu": {},
   "number_sections": true,
   "sideBar": true,
   "skip_h1_title": false,
   "title_cell": "Table of Contents",
   "title_sidebar": "Contents",
   "toc_cell": true,
   "toc_position": {},
   "toc_section_display": true,
   "toc_window_display": false
  },
  "widgets": {
   "application/vnd.jupyter.widget-state+json": {
    "state": {},
    "version_major": 2,
    "version_minor": 0
   }
  }
 },
 "nbformat": 4,
 "nbformat_minor": 4
}
