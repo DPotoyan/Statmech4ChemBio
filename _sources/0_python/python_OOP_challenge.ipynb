{
 "cells": [
  {
   "cell_type": "markdown",
   "metadata": {},
   "source": [
    "# Tutorial: Building Python Classes"
   ]
  },
  {
   "cell_type": "code",
   "execution_count": null,
   "metadata": {},
   "outputs": [],
   "source": [
    "class Particle:\n",
    "\n",
    "    def __init__(self, charge=0, position=0):\n",
    "        \"\"\"\n",
    "        Initialize particle with charge and position in 1D\n",
    "        \"\"\"\n",
    "        self.charge=charge\n",
    "        self.position=position\n",
    "\n",
    "    def modify_position(self, new_x):\n",
    "        self.position=new_x "
   ]
  },
  {
   "cell_type": "code",
   "execution_count": null,
   "metadata": {},
   "outputs": [],
   "source": [
    "electron = Particle(charge=-1, position=3.5)"
   ]
  },
  {
   "cell_type": "code",
   "execution_count": null,
   "metadata": {},
   "outputs": [],
   "source": [
    "electron.charge"
   ]
  },
  {
   "cell_type": "code",
   "execution_count": null,
   "metadata": {},
   "outputs": [],
   "source": [
    "electron.position"
   ]
  },
  {
   "cell_type": "code",
   "execution_count": null,
   "metadata": {},
   "outputs": [],
   "source": [
    "electron.modify_position(23)\n",
    "print(electron.position)\n"
   ]
  },
  {
   "cell_type": "code",
   "execution_count": null,
   "metadata": {},
   "outputs": [],
   "source": [
    "class Atom:\n",
    "    \n",
    "    def __init__(self, symbol, atomic_number, atomic_mass):\n",
    "        \"\"\"\n",
    "        Initialize an atom with its chemical symbol, atomic number, and atomic mass.\n",
    "        \"\"\"\n",
    "        self.symbol = symbol\n",
    "        self.atomic_number = atomic_number\n",
    "        self.atomic_mass = atomic_mass\n",
    "\n",
    "    def __repr__(self):\n",
    "        \"\"\"\n",
    "        Representation of the atom.\n",
    "        \"\"\"\n",
    "        return f\"{self.symbol} (Atomic Number: {self.atomic_number}, Atomic Mass: {self.atomic_mass} u)\"\n",
    "\n",
    "    def change_isotope(self, new_mass):\n",
    "\n",
    "        self.atomic_mass = new_mass\n"
   ]
  },
  {
   "cell_type": "code",
   "execution_count": null,
   "metadata": {},
   "outputs": [],
   "source": [
    "hydrogen = Atom(\"H\", 1, 1.008)\n",
    "oxygen   = Atom(\"O\", 8, 15.999)"
   ]
  },
  {
   "cell_type": "markdown",
   "metadata": {},
   "source": [
    "### Build Molecule Object with useful functions relying on Atom class"
   ]
  },
  {
   "cell_type": "code",
   "execution_count": null,
   "metadata": {},
   "outputs": [],
   "source": [
    "class Molecule:\n",
    "    \n",
    "    def __init__(self, name):\n",
    "        \"\"\"\n",
    "        Initialize a molecule with a name and an empty list of atoms.\n",
    "        \"\"\"\n",
    "        self.name = name\n",
    "        self.atoms = []\n",
    "\n",
    "    def add_atom(self, atom, count=1):\n",
    "        \"\"\"\n",
    "        Add an atom to the molecule with a specific count.\n",
    "        \"\"\"\n",
    "        \n",
    "    def molecular_weight(self):\n",
    "        \"\"\"\n",
    "        Calculate the molecular weight of the molecule.\n",
    "        \"\"\"\n",
    "        \n",
    "        return \n",
    "\n",
    "    def formula(self):\n",
    "        \"\"\"\n",
    "        Generate the chemical formula of the molecule.\n",
    "        \"\"\"\n",
    "\n",
    "\n",
    "    def __repr__(self):\n",
    "        \"\"\"\n",
    "        Representation of the molecule.\n",
    "        \"\"\"\n",
    "     "
   ]
  },
  {
   "cell_type": "code",
   "execution_count": null,
   "metadata": {},
   "outputs": [],
   "source": []
  }
 ],
 "metadata": {
  "language_info": {
   "name": "python"
  }
 },
 "nbformat": 4,
 "nbformat_minor": 2
}
