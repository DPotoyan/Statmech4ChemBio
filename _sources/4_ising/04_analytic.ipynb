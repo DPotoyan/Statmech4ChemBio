{
 "cells": [
  {
   "attachments": {},
   "cell_type": "markdown",
   "metadata": {},
   "source": [
    "## Analytic solutions to 1D Ising model"
   ]
  },
  {
   "attachments": {},
   "cell_type": "markdown",
   "metadata": {},
   "source": [
    "$$H = -\\sum_{\\langle ij \\rangle} J s_i s_i -B\\sum_i s_i$$\n",
    "\n",
    "$$\\beta H = -\\sum_{\\langle ij \\rangle} K s_i s_i - h \\sum_i s_i$$\n",
    "\n",
    "$$K = \\frac{J}{k_B T}\\,\\, , \\,\\, h = \\frac{B}{k_B T} $$\n",
    "### Case-1: $h\\neq 0$ and $J=0$\n",
    "$$Z = \\sum_{[s]} e^{h \\sum s_i } = \\sum_{[s]} \\prod^{N}_{i=1} e^{h  s_i } = \\prod^{N}_i Z_i = Z^N_i$$\n",
    "\n",
    "$$Z_i = \\sum_{s_i} e^{h s_i} =  e^{h}+e^{-h} = 2cosh(h)$$\n",
    "$$ m = \\langle s_i \\rangle = \\frac{\\partial log Z_i}{\\partial h} =  \\frac{e^{h}-e^{-h}}{e^{h}+e^{-h}} =tanh(h)$$\n",
    "- **Free energy**\n",
    "\n",
    "$$F = -\\beta^{-1} log Z = -\\beta^{-1} N log \\Big[  2cosh(\\beta B)\\Big]$$\n",
    "\n",
    "\n",
    "- **Energy.** Obtained by ensemble average of Ising Hamiltonian. Which comes down as simply the average of single spin multipled by number of spins\n",
    "\n",
    "$$U = -N B\\langle s \\rangle = -N B \\cdot tanh(\\beta B)$$\n",
    "\n",
    "\n",
    "- **Entropy** \n",
    "\n",
    "$$S = N k_B\\Big(-\\beta B \\cdot tanh(\\beta B) + log \\Big[  2cosh(\\beta B)\\Big] \\Big)$$\n",
    "\n",
    "\n",
    "- **Heat capacity** \n",
    "\n",
    "$$c = \\frac{1}{N}\\frac{\\partial U}{\\partial T} = k_B \\beta^2 B^2 sech^2 (\\beta B)$$\n",
    "\n",
    "We see that heat capacity goes to zero at both $T=0$ and $T=\\infty$"
   ]
  },
  {
   "cell_type": "code",
   "execution_count": null,
   "metadata": {
    "vscode": {
     "languageId": "plaintext"
    }
   },
   "outputs": [],
   "source": [
    "import ipywidgets as widgets\n",
    "import matplotlib.pyplot as plt\n",
    "import numpy as np\n",
    "import scipy as sp\n",
    "@widgets.interact(kbT=(0.1,10))\n",
    "def mag1(kbT=1):\n",
    "    \n",
    "    x = np.linspace(-10,10,1000)\n",
    "    plt.plot(x, np.tanh(x/kbT), lw=3, label=f'$k_B T={kbT}$')\n",
    "    plt.xlabel('h, magnetic field',fontsize=16)\n",
    "    plt.ylabel('m, magnetization',fontsize=16)\n",
    "    plt.legend(fontsize=16)"
   ]
  },
  {
   "attachments": {},
   "cell_type": "markdown",
   "metadata": {},
   "source": [
    "### Case-2: $h= 0$ and $J\\neq 0$\n",
    "$$H = -J \\sum^{N-1}_{i=1} s_i s_{i+1}$$\n",
    "\n",
    "- We use free boundary conditions\n",
    "- Let $\\tau_1 =s_1$ and $\\tau_j =s_{j-1} s_j$ for $j\\geq 2$\n",
    "\n",
    "$$H = -J \\sum^{N}_{i=2} \\tau_i$$\n",
    "\n",
    "- There will be an overall factor of 2 in front of partition function becasue of summation over $\\tau_1$\n",
    "$$Z = \\sum_{\\tau} \\prod^{N}_{j=1} e^{K \\tau_j} = 2 \\prod^{N}_{j=2} \\sum_{\\tau_j} e^{K \\tau_j} =2 \\prod^{N}_{j=2} Z_j$$\n",
    "\n",
    "$$Z_j = e^K +e^{-K} = 2cosh(K) =2cosh(\\beta J)$$\n",
    "\n",
    "$$Z =2Z^{N-1}_j = 2 (2 cosh(K))^{N-1} \\approx (2 cosh(K))^N$$\n",
    "\n",
    "$$F = -\\beta^{-1}logZ = -k_B T N log [2cosh(\\beta J)]$$ \n",
    "\n",
    "### Case-3: $h \\neq$ and $J\\neq 0$ and Transfer Matrix technique\n",
    "$$H = -J \\sum^{N-1}_{i=1} s_i s_{i+1} - \\frac{B}{2} (s_j +s_{j+1})$$\n",
    "\n",
    "- We write hamiltonain in this symmetric form consisting of sums of $(s_j, s_{j+1})$ terms for presenting partiion function as product of terms. \n",
    "$$Z = \\sum_{[s]}\\prod_j  e^{K s_j s_{j+1}+\\frac{1}{2}h(s_j+s_{J+1})} = \\sum_{[s]}\\prod_j T(s_j, s_{j+1})$$\n",
    "\n",
    "- Transfer matrix has been introduced: \n",
    "\n",
    "$$T(s_j, s_{j+1}) =  e^{K s_j s_{j+1}+\\frac{1}{2}h(s_j+s_{J+1})}$$\n",
    "\n",
    "$$T(s_j, s_{j+1}) = \\begin{pmatrix}\n",
    "e^{K+h} & e^{-K} \\\\\n",
    "e^{-K} & e^{K-h}\n",
    "\\end{pmatrix} $$\n",
    "\n",
    "While compared to previous examples partition function did not factor out into single particle contributions we nevertheless have factored the partition function as product of 2 by 2 matrices! \n",
    "### Note the close connection of matrix technique applied to partion functions  with mathematical formalism of quantum mechanics! \n",
    "\n",
    "In quantum mecchanical notation $T_{j,j+1} = \\langle s_j | T | s_{j+1}\\rangle$ can be seen as an operator that propagates or transfers state from spin $j+1$ to spin state $j$. \n",
    "$$Z = \\sum_{[s]}e^{-\\beta H} = \\sum_{s_1,s_2,...s_N}  \\langle s_1 | T | s_{2}\\rangle \\langle s_2 | T | s_{3}\\rangle ...\\langle s_{N-1} | T | s_{N}\\rangle$$\n",
    "\n",
    "$$Z  = \\sum_{s_1 = \\pm 1} \\langle s_1 | T^N | s_{1}\\rangle  = Tr(T^N)$$\n",
    "\n",
    "Trace of matrix is invariant to unitary trasnformation $U^{-1} T U =D$ which we can use to diagonalize the matrix $T$ which then allows to us to write the N product in terms of two diagonal elements:\n",
    "\n",
    "$$Z = \\lambda^N_1 +\\lambda^N_2$$\n",
    "**Problem is reduced to diagonalizing the transfer matrix**\n",
    "\n",
    "$$det \\begin{pmatrix}\n",
    "e^{K+h}-\\lambda & e^{-K} \\\\\n",
    "e^{-K} & e^{K-h}-\\lambda\n",
    "\\end{pmatrix} =0 $$\n",
    "\n",
    "$$\\lambda_{1,2} = e^K \\big ( cosh(h) \\pm \\sqrt{cosh^2(h)-2e^{-2K}sinh(2K)}\\Big)$$\n",
    "\n",
    "- Thus we have arrived at an exact solution for the one dimension Ising model with external field:\n",
    "\n",
    "$$Z = \\lambda^N_1 +\\lambda^N_2 = \\lambda^N_1 \\Big(1+\\big (\\frac{\\lambda_2}{\\lambda_1}\\big)^N \\Big)\\rightarrow \\lambda^N_1$$\n",
    "**No phase transition at finite $T>0$ is posisble for 1D ising model as free energy remains analytic for T>0**\n",
    "\n",
    "$$F = -k_B T N log \\lambda_1 $$"
   ]
  }
 ],
 "metadata": {
  "language_info": {
   "name": "python"
  },
  "orig_nbformat": 4
 },
 "nbformat": 4,
 "nbformat_minor": 2
}
