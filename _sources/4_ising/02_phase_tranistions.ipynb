{
 "cells": [
  {
   "cell_type": "markdown",
   "metadata": {
    "id": "JYnR-r60FT1A"
   },
   "source": [
    "# Phase transitions: a birds eye view"
   ]
  },
  {
   "cell_type": "markdown",
   "metadata": {},
   "source": [
    "### Phases, Phase diagrams and Phase-transitions\n",
    "\n",
    ":::{figure-md} markdown-fig  \n",
    "\n",
    "<img src=\"./figs/phase-diagram.png\" alt=\"dp\" style=\"width:40%\">\n",
    "\n",
    "Phaase-diagram for fluids. The path A does not lead to change of phase. The Path B leads to abrupt phase-transition. Path C side-steps phase boundary and hence there is no abrupt change!\n",
    ":::  "
   ]
  },
  {
   "cell_type": "markdown",
   "metadata": {
    "id": "wDPYPJ49FT1G"
   },
   "source": [
    "### History of phase transitions\n",
    "\n",
    "**1895 Pierre Curie in his doctoral thesis studies types of magnetism, discovers**\n",
    "- The effect of temperature\n",
    "- A phase transition happening at the Curie point\n",
    "- The phenomenon occurs at the atomic scale\n",
    "\n",
    "![](./figs/Curie.png)"
   ]
  },
  {
   "cell_type": "markdown",
   "metadata": {
    "id": "dU0bWF25FT1G"
   },
   "source": [
    "### **1920 – Lenz introduces a lattice model for ferromagnetism**  \n",
    "- Lenz argued that “atoms are dipoles which turn over between two positions.”  \n",
    "- In a quantum-theoretical treatment, these dipoles would largely occupy two distinct orientations.\n",
    "\n",
    "\n",
    "### **1920 – Lenz suggests a project to his PhD student, who develops a 1D spin lattice model**  \n",
    "- Each site on the lattice represents a spin state, either +1 or –1.  \n",
    "- Only nearest-neighbor interactions are considered.  \n",
    "- The model is simple, but foundational.\n",
    "\n",
    "\n",
    "\n",
    "**1924 – Ernst Ising's PhD thesis: No phase transition!?**  \n",
    "- Ising finds no phase transition in the one-dimensional model.  \n",
    "- He dismisses the model as overly simplistic and mathematical.  \n",
    "- **Incorrectly concludes** that no phase transition occurs in **any** dimension.  \n",
    "- Leaves academic research to teach college-level physics.  \n",
    "- Despite its flaws, the paper draws attention from major figures (Pauli, Heisenberg, Dirac), who agree it's too simplified.\n",
    "\n",
    "\n",
    "\n",
    "**1936 – Rudolf Peierls: Surprising proof of phase transition in 2D**  \n",
    "- Peierls proves that in two dimensions, the Lenz-Ising model **does** undergo a finite-temperature phase transition.  \n",
    "- His result revitalizes interest in the model and shows the importance of dimensionality.\n",
    "\n",
    "::: {.figure-md}  \n",
    "<img src=\"./figs/spont-mag.png\" alt=\"dp\" style=\"width:40%\">  \n",
    "_Phase diagram for magnetic systems_  Showing continupus phase-transition from ferro to paramangetic phase with increasing temperature\n",
    ":::\n",
    "\n",
    "\n",
    "\n",
    "**1941 – Kramers and Wannier calculate the critical temperature**  \n",
    "- Develop a method to estimate the critical temperature for the 2D Ising model.  \n",
    "- Predict self-duality in the system, paving the way for exact solutions.\n",
    "\n",
    "\n",
    "\n",
    " **1944 – Onsager solves the 2D Ising model analytically**  \n",
    "- A landmark achievement in theoretical physics.  \n",
    "- Exact expressions derived for partition function, magnetization, and other thermodynamic quantities.  \n",
    "- Lars Onsager, trained as a chemist, made significant contributions; other chemists like Ben Widom followed suit in developing phase transition theory.\n",
    "\n",
    "\n",
    "\n",
    "**1944– Ising model becomes a canonical system for studying phase transitions**  \n",
    "- Following Onsager’s work, the model becomes central in mathematical physics.  \n",
    "- Studied with various mathematical techniques: transfer matrix, cluster expansion, combinatorics, and more.  \n",
    "- Applications broaden to biology, chemistry, economics, and computer science.\n",
    "\n",
    "\n",
    "\n",
    "**1970s – Renormalization Group (RG) theory developed by Kenneth Wilson (Nobel Prize, 1982)**  \n",
    "- The Curie critical point is shown to be **universal**, exhibiting translation, scale, and rotation invariance.  \n",
    "- Introduces powerful concepts: renormalization, scale invariance, universality, and coarse-graining.  \n",
    "- RG revolutionizes our understanding of critical phenomena.\n",
    "\n",
    "\n",
    "\n",
    "**1985 – Conformal Field Theory (CFT)**  \n",
    "- Provides an elegant framework to describe critical systems in two dimensions.  \n",
    "- Explains universality classes via symmetry principles.  \n",
    "- Links statistical mechanics and quantum field theory in a deep and fruitful way.  \n",
    "- Becomes a cornerstone in modern theoretical physics.\n",
    "\n"
   ]
  },
  {
   "cell_type": "markdown",
   "metadata": {},
   "source": [
    "## Ising models: The H atom of phase transitions"
   ]
  },
  {
   "cell_type": "markdown",
   "metadata": {},
   "source": [
    ":::{figure-md} markdown-fig  \n",
    "\n",
    "<img src=\"./figs/arrows-ising.png\" alt=\"dp\" style=\"width:20%\">\n",
    "\n",
    "Ising model is defined on a lattice where eaach site can be occupied with one spin having up or down orientation. \n",
    "\n",
    ":::  "
   ]
  },
  {
   "cell_type": "markdown",
   "metadata": {
    "id": "rOLMgvWAFT1I"
   },
   "source": [
    ":::{admonition}\n",
    ":class: important \n",
    "\n",
    "$${H([s])= \\sum_{<ij>} J s_i s_j - h \\sum_i s_i}$$\n",
    "\n",
    "$${Z=\\sum_{[s]}e^{-H([s])/k_B T}}$$\n",
    "\n",
    "- Each spin variable takes two values $s_i=\\pm 1$\n",
    "- $[s] = [s_1, s_2]$ denotes microstates defined by all of spin values \n",
    "- Parameters of ising model: $h$ external field. $J$ coupling strength.\n",
    "- Summation marked by $<ij>$ is over **nearest neighbour spins**\n",
    "\n",
    ":::"
   ]
  },
  {
   "cell_type": "markdown",
   "metadata": {
    "id": "WVqj3tzoFT1I"
   },
   "source": [
    "### 1st order vs 2nd order phjase transition\n",
    "\n",
    ":::{figure-md} markdown-fig  \n",
    "\n",
    "<img src=\"./figs/1st_2nd_Ising (1).png\" alt=\"dp\" style=\"width:50%\">\n",
    "\n",
    "First and second order transitons\n",
    ":::  \n",
    "\n"
   ]
  },
  {
   "cell_type": "markdown",
   "metadata": {
    "id": "FoY-smExFT1I"
   },
   "source": [
    "\n",
    ":::{figure-md} markdown-fig  \n",
    "\n",
    "<img src=\"./figs/fluid-analogy.png\" alt=\"dp\" style=\"width:50%\">\n",
    "\n",
    "Analogy with fluid phase transitions\n",
    ":::  \n",
    "\n"
   ]
  },
  {
   "cell_type": "markdown",
   "metadata": {
    "id": "Rx-ut91OFT1J"
   },
   "source": [
    "### Critical Phenomena: Correlation length diverges\n",
    "\n",
    ":::{figure-md} markdown-fig  \n",
    "\n",
    "<img src=\"./figs/crit1.png\" alt=\"dp\" style=\"width:50%\">\n",
    "\n",
    "Critical Phenomena showing divergence of correlations\n",
    ":::  "
   ]
  },
  {
   "cell_type": "markdown",
   "metadata": {},
   "source": [
    "![](./figs/crit2.png)"
   ]
  },
  {
   "cell_type": "markdown",
   "metadata": {
    "id": "635tpO02FT1J"
   },
   "source": [
    "### Critical Phenomena: Universaility at critical points \n"
   ]
  },
  {
   "cell_type": "markdown",
   "metadata": {},
   "source": [
    "![](./figs/crit2.png)"
   ]
  },
  {
   "cell_type": "markdown",
   "metadata": {},
   "source": [
    "![](./figs/crit3.png)"
   ]
  },
  {
   "cell_type": "markdown",
   "metadata": {
    "id": "rvI4FHgYFT1J"
   },
   "source": [
    "![](./figs/crit4.png)"
   ]
  },
  {
   "cell_type": "markdown",
   "metadata": {},
   "source": [
    "### Universality\n",
    "\n",
    ":::{figure-md} markdown-fig  \n",
    "\n",
    "<img src=\"./figs/gas-universality.png\" alt=\"dp\" style=\"width:40%\">\n",
    "\n",
    "Universality illustrated on phase-diagram of fluids\n",
    ":::  \n",
    "\n",
    "\n",
    ":::{figure-md} markdown-fig  \n",
    "\n",
    "<img src=\"./figs/universality-ising.png\" alt=\"dp\" style=\"width:40%\">\n",
    "\n",
    "Universality illustrated on phase-diagram of fluids\n",
    ":::  "
   ]
  },
  {
   "cell_type": "markdown",
   "metadata": {},
   "source": [
    "### Thermodynamics of magnetic systems\n",
    "\n",
    "For magnetic systems placed under external field $B$ the change in internal energy consists of an extra term of work done by the external field to displace mangetization $M$\n",
    "\n",
    "$$dU = TdS + B dM$$\n",
    "\n",
    "A free energy as a function of intensive variables can be written down following legendre transform:\n",
    "\n",
    "\n",
    "$$dF = -SdT - M dB$$\n",
    "\n",
    "- Magnetization and Entropy can now be linked to derivatives of free energy\n",
    "\n",
    "$$M = - \\Big( \\frac{\\partial F}{\\partial B} \\Big)_{T}$$\n",
    "\n",
    "$$S = - \\Big(\\frac{\\partial F}{\\partial T}\\Big)_{B}$$"
   ]
  },
  {
   "cell_type": "markdown",
   "metadata": {
    "id": "1Y_I8M6eFT1J"
   },
   "source": [
    "### Fluctuations, correlations and susceptibilities\n",
    "\n",
    "- **Heat capacity $C_v$**\n",
    "\n",
    "Heat capacity is again the familiar expression established in our treatment of canonical ensemble. \n",
    "\n",
    "$$ C_v(T) = \\Big (\\frac{\\partial E}{\\partial T} \\Big )_V= \\frac{1}{k_B T^2} \\big(\\langle E^2 \\rangle-\\langle E \\rangle^2 \\big) $$\n",
    "\n",
    "\n",
    "- **Susceptibility $\\chi$**\n",
    "\n",
    "Magnetic susceptibility quantifies response of the ssytem to the variation of magnetic field.\n",
    "\n",
    "$$\\chi(T)=\\Big (\\frac{\\partial M}{\\partial B} \\Big )_T= \\frac{1}{k_B T} \\big(\\langle M^2 \\rangle-\\langle M \\rangle^2 \\big) $$\n",
    "\n",
    "- **Correlation function $c(i,j)$  and correlation length**\n",
    "\n",
    "At high temperatures, spins on an ising lattice point up and down randomly. While at low temperatures, all spins tend to align. To quantify the degree of alignment, we can define a quantity named correlation length $\\xi$, which can be defined mathematically through correlation function $c(i,j)$ \n",
    "\n",
    "$$c(i,j)=\\langle s_i-\\langle s_i\\rangle\\rangle \\langle s_j-\\langle s_j\\rangle\\rangle$$"
   ]
  },
  {
   "cell_type": "markdown",
   "metadata": {
    "id": "Pt49e88SFT1K"
   },
   "source": [
    "### Some notable applications of Ising models.\n",
    "\n",
    "1. **Ferromagnetism**\n",
    "The Ising model is the scalar version of the three-dimensional ‘Heisenberg model’ :\n",
    "<br>\n",
    "\n",
    "2. **Binary alloys and lattice gases**\n",
    "Each lattice site is occupied either by an atom A or B. Nearest neighbour interac- tions are $\\epsilon_{AA}$, $\\epsilon_{BB}$ and $\\epsilon_{AB}$. We identify $A$ with $s_i = 1$ and B with $S_i = −1$. The Hamiltonian then is:\n",
    "$H = − ∑ J_{ij}s_is_j \\langle i,j\\rangle$\n",
    "with $J_{ij} = \\epsilon_{AB} − 0.5(\\epsilon_{AA} + \\epsilon_{BB})$. Thus the Ising model describes order-disorder \n",
    "transitions in regard to composition.\n",
    "<br>\n",
    "\n",
    "3. **Spin glasses**\n",
    "now each bond is assigned an individual coupling constant J and they are drawn from a random distribution. E.g. one can mix ferromagnetic and anti-ferromagnetic couplings. This is an example for a structurally disordered system, on top of which we can have a thermal order-disorder transition.\n",
    "<br>\n",
    "\n",
    "4. **Conformations in biomolecules**\n",
    "a famous example is the helix-coil transition from biophysics. $s_i$ a hydrogen bond in a DNA-molecules is closed; $s_i$ = −1 the bond is open. The phase tran- sition is between a straight DNA-molecule (helix) and a coiled DNA-molecule. Other examples are the oxygen-binding sites in hemoglobin, chemotactic recep- tors in the receptor fields of bacteria, or the molecules building the bacterial flag- ellum, which undergos a conformational switch if the flagellum is rotated in the other direction (switch from run to tumble phases).\n",
    "<br>\n",
    "\n",
    "5. **Neural networks representing the brain**\n",
    "$s_i = 1$ a synapse is firing, $s_i = −1$ it is resting. The Hopfield model for neu- ral networks is a dynamic version of the Ising model and Boltzmann machines recognise handwriting by using the Ising model.\n",
    "<br>\n",
    "\n",
    "6. **Spread of opinions or diseases**\n",
    "Spread of opinions, rumours or diseases in a society; these kinds of models are used in socioeconomic physics. If nearest neighbour coupling is sufficiently strong, the system gets ‘infected’."
   ]
  },
  {
   "cell_type": "markdown",
   "metadata": {
    "id": "JkGLnursFT1L"
   },
   "source": [
    "## The Peierls argument for presence/absence of phase transitions in  1D, 2D and 3D\n",
    "\n",
    "Starting around 1933, Peierls published scaling arguments why a phase transition should occur in 2D as opposed to 1D"
   ]
  },
  {
   "cell_type": "markdown",
   "metadata": {
    "id": "SGh-fRLBFT1L"
   },
   "source": [
    "### No phase transition in 1D at T>0\n",
    "1D case Start with 1D chain of all spin up configuration and create an isalnd of oposite spins. \n",
    "\n",
    "$$++++++++++++++++++++$$\n",
    "\n",
    "$$++++++{\\bf \\boxed{-}----\\boxed{-}}++++++++$$\n",
    "\n",
    "- Energy cost is:\n",
    "\n",
    "$$\\Delta E = 2 \\cdot 2J =4J $$\n",
    "\n",
    "- Entropy cost is:\n",
    "\n",
    "$$\\Delta S = k_B log \\frac{N(N-1)}{2} \\approx 2k_B log N $$\n",
    "\n",
    "- Free Energy differnece:\n",
    "\n",
    "$$\\Delta F = 4J - 2k_B T log N < 0 $$\n",
    "\n",
    "Thus free energy for $N\\gg1$ is always negative for any finite temperature. It is always favorable to create grain boundaries due to entropic reasons. <br> **Phase transition in 1D cannot occur at finite temperature!**"
   ]
  },
  {
   "cell_type": "markdown",
   "metadata": {
    "id": "wA3aAbOkFT1L"
   },
   "source": [
    "### Phase transition in 2D at $T>0$ realizable"
   ]
  },
  {
   "cell_type": "markdown",
   "metadata": {
    "id": "YdM5LCBBFT1L"
   },
   "source": [
    "In 2D and 3D introducing isalnd of spins creates a surface spins sproportional to linear size of the island L which is now a macroscopic quantitiy comparable to N\n",
    "\n",
    "- Energy cost is:\n",
    "\n",
    "$$\\Delta E = L \\cdot 2J$$\n",
    "\n",
    "- Entropy cost using a crude estimate of random walk on cubic lattice is:\n",
    "\n",
    "$$\\Delta S = k_B log 3^L = k_B L log 3$$\n",
    "\n",
    "- Free Energy differnece:\n",
    "\n",
    "$$\\Delta F = L (2J -2k_B T log 3)$$\n",
    "\n",
    "$$T > T_c = \\frac{2J}{k_Blog 3}$$"
   ]
  }
 ],
 "metadata": {
  "colab": {
   "collapsed_sections": [],
   "name": "02_ising_analytic.ipynb",
   "provenance": []
  },
  "kernelspec": {
   "display_name": "Python 3 (ipykernel)",
   "language": "python",
   "name": "python3"
  },
  "language_info": {
   "codemirror_mode": {
    "name": "ipython",
    "version": 3
   },
   "file_extension": ".py",
   "mimetype": "text/x-python",
   "name": "python",
   "nbconvert_exporter": "python",
   "pygments_lexer": "ipython3",
   "version": "3.9.16"
  },
  "livereveal": {
   "theme": "sky"
  },
  "nteract": {
   "version": "0.21.0"
  },
  "toc": {
   "base_numbering": 1,
   "nav_menu": {},
   "number_sections": true,
   "sideBar": true,
   "skip_h1_title": false,
   "title_cell": "Table of Contents",
   "title_sidebar": "Contents",
   "toc_cell": false,
   "toc_position": {},
   "toc_section_display": true,
   "toc_window_display": false
  },
  "widgets": {
   "application/vnd.jupyter.widget-state+json": {
    "state": {},
    "version_major": 2,
    "version_minor": 0
   }
  }
 },
 "nbformat": 4,
 "nbformat_minor": 4
}
