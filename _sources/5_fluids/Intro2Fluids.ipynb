{
 "cells": [
  {
   "cell_type": "markdown",
   "metadata": {},
   "source": [
    "# Statistical mechanics of fluids"
   ]
  },
  {
   "cell_type": "markdown",
   "metadata": {},
   "source": [
    "## General exprssion of probability distribution of fluids in phase space"
   ]
  },
  {
   "cell_type": "markdown",
   "metadata": {},
   "source": [
    "- The probability of a state in a classical fluid system is $f(x^N, p^N)$\n",
    "\n",
    "$${f(x^N, p^N) = \\frac{e^{-\\beta H(x^N p^N)}}{Z}}$$"
   ]
  },
  {
   "cell_type": "markdown",
   "metadata": {},
   "source": [
    "- Momentum and position coordinates are separated thanks to the form of kinetic and potential energy terms\n",
    "\n",
    "$$H(x^N, p^N) = K(p^N) + U(x^N)$$\n",
    "\n",
    "$$f(x^N, p^N) = \\Phi(p^N) P(r^N)$$\n",
    "\n",
    "\n",
    "- Kinetic energy part giveus us Maxwell-Botlzman distribution or the ideal gas part of the partition function $Z_p$ \n",
    "- Potential energy part gives us configruational parition function $Z_x$ evaluation of which is non-trivial and mostly can be done via simulaions:\n",
    "\n",
    "\n",
    "$$Z(\\beta, V, N) = Z_{p} \\cdot Z_x  = \\frac{1}{\\lambda^3 N!} Q(\\beta, V, N) $$\n",
    "\n",
    "$$Q = \\int dx^N e^{-\\beta U(x^N)}$$\n",
    "\n",
    "Pressure is related to Free energy as \n",
    "\n",
    "$$p= - \\frac{\\partial F}{\\partial V} = \\frac{\\partial }{\\partial V} log \\int dx^N e^{-\\beta U(x^N)}$$\n",
    "\n",
    "- **Volume dependence of partition function is in the integration limits!** As volume grows, so does partition function. Therefore p is always positive. We can thus conclude that **in equilibrium pressure is always a positive quantity**"
   ]
  },
  {
   "cell_type": "markdown",
   "metadata": {},
   "source": [
    "### Reduced configruational distribution functions"
   ]
  },
  {
   "cell_type": "markdown",
   "metadata": {},
   "source": [
    "- **Hard fact:** $P(r^N)$ and Q do not factorize because of inteparticle interactions with stronger interactions implying stronger correlations in positions. \n",
    "<br><br>\n",
    "\n",
    "- **Probability of many-body systems:** to find particle $1$ at $r_1$, $2$ and $r_2$ ...: \n",
    "\n",
    "$$\\boxed{P(r^N) = P(r_1, r_2,...r_N)}$$\n",
    "\n",
    "- **Marginal(ized) probability**\n",
    "\n",
    "$$\\boxed{\\rho^{2/N} (r_1, r_2) =  \\int dr_3... dr_N P(r_1, r_2,...r_N)}$$\n",
    "\n",
    "- **Marginal(ized) probability for any particle 1 and 2**\n",
    "\n",
    "$$\\boxed{\\rho^{2/N} (r_1, r_2) =  N(N-1)\\int dr_3... dr_N P(r_1, r_2,...r_N)}$$\n"
   ]
  },
  {
   "cell_type": "markdown",
   "metadata": {},
   "source": [
    "### Radial distribution function (RDF)\n",
    "\n",
    "For an isotropic fluid, we have one point probability density:\n",
    "\n",
    "$$\\rho^{1/N} = N\\frac{\\int dr_2 ... dr_N}{\\int dr_1...dr_N}  = N\\frac{V^{N-2}}{V^N} =  \\frac{N}{V}=\\rho$$\n",
    "\n",
    "The joint distribution for an ideal gas:\n",
    "\n",
    "$$\\rho^{2/N} = N(N-1)\\frac{\\int dr_3 ... dr_N}{\\int dr_1...dr_N}  = N(N-1)\\frac{V^{N-2}}{V^N} =  \\approx \\rho^2$$\n",
    "\n",
    "- To measure the degree of spatial correlations, we introduce the Radial Distribution function (RDF):\n",
    "\n",
    "$$\\boxed{g(r_1, r_2)  = \\frac{\\rho^{2/N}(r_1, r_2)}{\\rho^2}}$$\n",
    "\n",
    "- RDF for isotropic fluids is due to translational invariance depends only on distance between particles:\n",
    "\n",
    "$$\\boxed{g(r) =  g(|r_2-r_1|)}$$\n",
    "\n",
    "**Meaning of RDF**\n",
    "\n",
    "\n",
    "\n",
    "- Since $\\rho = \\rho^{1/N}$, the **conditional probability density of finding a particle at r distance away from a tagged particle at the origin** is:\n",
    "\n",
    "$$\\frac{\\rho^{2/N}(0,r)}{\\rho} = \\rho g(r)$$\n",
    "\n",
    "- $\\rho g(r)$ is then average density of particles at distance r given that a tagged particle is at the origin"
   ]
  },
  {
   "cell_type": "markdown",
   "metadata": {},
   "source": [
    "### Coordination shells and structure in fluids"
   ]
  },
  {
   "cell_type": "markdown",
   "metadata": {},
   "source": [
    "![](./figs/gr1_1.png)"
   ]
  },
  {
   "cell_type": "markdown",
   "metadata": {},
   "source": [
    "![](./figs/gr2_2.png)"
   ]
  },
  {
   "cell_type": "markdown",
   "metadata": {},
   "source": [
    "![](./figs/gr3_3.png)"
   ]
  },
  {
   "cell_type": "markdown",
   "metadata": {},
   "source": [
    "![](./figs/gr4_4.png)"
   ]
  },
  {
   "cell_type": "markdown",
   "metadata": {},
   "source": [
    "### Reversible work theorem and potential of mean force"
   ]
  },
  {
   "cell_type": "markdown",
   "metadata": {},
   "source": [
    "$$\\boxed{g(r) = e^{-\\beta w(r)}}$$\n",
    "\n",
    "$$\\boxed{w(r) = - \\beta^{-1} log [g(r)]}$$\n",
    "\n",
    "- $w(r)$ Reversible work to bring two particles from infinity to distance r\n",
    "\n",
    "- $g(r)$ Radial distribution function"
   ]
  },
  {
   "cell_type": "markdown",
   "metadata": {},
   "source": [
    "$$\\Big \\langle -\\frac{d  U(r^N)}{dr_1}  \\Big \\rangle_{r_1, r_2} = -\\frac{\\int dr_3...dr_N \\frac{dU(r^N)}{dr_1} e^{-\\beta U}}{\\int dr_3...r_N e^{-\\beta U}} =  \\frac{\\beta^{-1} \\frac{d}{d r_1} \\int dr_3...dr_N e^{-\\beta U}}{\\int dr_3...dr_N e^{-\\beta U}} = \\beta^{-1} \\frac{d}{d r_1} log \\int dr_3...dr_N e^{-\\beta U} $$"
   ]
  },
  {
   "cell_type": "markdown",
   "metadata": {},
   "source": [
    "$$\\Big \\langle -\\frac{d  U(r^N)}{dr_1}  \\Big \\rangle_{r_1, r_2} = \\beta^{-1} \\frac{d}{d r_1} log N (N-1)\\int dr_3...dr_N e^{-\\beta U} = \\beta^{-1} g(r_1, r_2)$$ "
   ]
  },
  {
   "cell_type": "markdown",
   "metadata": {},
   "source": [
    "### Thermodynamic properites of $g(r)$"
   ]
  },
  {
   "cell_type": "markdown",
   "metadata": {},
   "source": [
    "$$\\langle E \\rangle = N \\Big\\langle \\frac{p^2}{2m} \\Big\\rangle + \\Big\\langle \\sum_{j>i} u(|r_i - r_j|)\\Big \\rangle$$\n",
    "\n",
    "$$\\boxed{E/N  = \\frac{3}{2}k_B T +\\frac{1}{2}\\rho \\int dr g(r) u(r) }$$"
   ]
  },
  {
   "cell_type": "markdown",
   "metadata": {},
   "source": [
    "### Low density approximation for $g(r)$\n",
    "\n",
    "$$w(r) =u(r) +\\Delta w(r) $$\n",
    "\n",
    "$$ g(r) = e^{-\\beta u(r)} \\Big (1 +O(\\rho) \\Big)$$"
   ]
  },
  {
   "cell_type": "markdown",
   "metadata": {},
   "source": [
    "### Density expanesion and virial coefficients\n",
    "\n",
    "$$\\beta p = \\rho + B_2(T) \\rho^2+ O(\\rho^3)$$\n",
    "\n",
    "$$B_2(T) = -\\frac{1}{2} \\int dr (e^{-\\beta u(r)}-1) $$"
   ]
  }
 ],
 "metadata": {
  "kernelspec": {
   "display_name": "Python 3 (ipykernel)",
   "language": "python",
   "name": "python3"
  },
  "language_info": {
   "codemirror_mode": {
    "name": "ipython",
    "version": 3
   },
   "file_extension": ".py",
   "mimetype": "text/x-python",
   "name": "python",
   "nbconvert_exporter": "python",
   "pygments_lexer": "ipython3",
   "version": "3.9.16"
  },
  "toc": {
   "base_numbering": 1,
   "nav_menu": {},
   "number_sections": true,
   "sideBar": true,
   "skip_h1_title": false,
   "title_cell": "Table of Contents",
   "title_sidebar": "Contents",
   "toc_cell": false,
   "toc_position": {},
   "toc_section_display": true,
   "toc_window_display": false
  },
  "widgets": {
   "application/vnd.jupyter.widget-state+json": {
    "state": {},
    "version_major": 2,
    "version_minor": 0
   }
  }
 },
 "nbformat": 4,
 "nbformat_minor": 4
}
