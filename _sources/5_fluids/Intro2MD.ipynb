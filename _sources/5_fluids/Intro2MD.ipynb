{
 "cells": [
  {
   "cell_type": "markdown",
   "metadata": {
    "slideshow": {
     "slide_type": "slide"
    }
   },
   "source": [
    "# Molecular Dynamics"
   ]
  },
  {
   "cell_type": "markdown",
   "metadata": {
    "slideshow": {
     "slide_type": "slide"
    }
   },
   "source": [
    "![\"Cu atoms\"](https://upload.wikimedia.org/wikipedia/commons/4/42/Cudeposition.gif)"
   ]
  },
  {
   "cell_type": "markdown",
   "metadata": {
    "slideshow": {
     "slide_type": "slide"
    }
   },
   "source": [
    "![\"Water molecules\"](https://upload.wikimedia.org/wikipedia/commons/f/f4/MD_water.gif)"
   ]
  },
  {
   "cell_type": "markdown",
   "metadata": {
    "slideshow": {
     "slide_type": "slide"
    }
   },
   "source": [
    ":::{figure-md} markdown-fig  \n",
    "\n",
    "<img src=\"./figs/mcmd.png\" alt=\"dp\" style=\"width:15%\">\n",
    "\n",
    "MD vs MC: Both sample microstates. The former follows the natural motion (dynamics) the later samples from Botlzman distribution following rules designed to make sampling efficient. \n",
    "\n",
    ":::  "
   ]
  },
  {
   "cell_type": "markdown",
   "metadata": {
    "slideshow": {
     "slide_type": "slide"
    }
   },
   "source": [
    "### Timescales and Lengthscales\n",
    "\n",
    "- Classical Molecular Dynamics can access a hiearrchy of time-scales from pico seconds to microseconds. \n",
    "- It is also possible to go beyond the time scale of brute force MD byb emplying clever enhanced sampling techniques."
   ]
  },
  {
   "cell_type": "markdown",
   "metadata": {
    "slideshow": {
     "slide_type": "fragment"
    }
   },
   "source": [
    "\n",
    ":::{figure-md} markdown-fig  \n",
    "\n",
    "<img src=\"./figs/md-time.png\" alt=\"dp\" style=\"width:40%\">\n",
    "\n",
    "Different time-scales underlying different leng-scales/motions in molecules\n",
    ":::  "
   ]
  },
  {
   "cell_type": "markdown",
   "metadata": {},
   "source": [
    "### Is MD just Newton's laws applied on big systems?\n",
    "\n",
    "**Not quite: Noble prize in Chemistry 2013**\n",
    "\n",
    "- Classical molecular dynamics (MD) is a powerful computational technique for studying complex molecular systems.\n",
    "- Applications span wide range including proteins, polymers, inorganic and organic materials. \n",
    "- Alos molecular dynamics simulation is being used in a complimentary way to the analysis of experimental data coming from NMR, IR, UV spectroscopies and elastic-scattering techniques, such as small angle scattering or diffraction.\n",
    "\n",
    "- [2013 Noble Lectures by M Karplus, A Warshell, M Levitt](https://www.youtube.com/watch?v=NuaeD9xYBtY)"
   ]
  },
  {
   "cell_type": "markdown",
   "metadata": {},
   "source": [
    "## Integrating equations of motion"
   ]
  },
  {
   "cell_type": "markdown",
   "metadata": {
    "slideshow": {
     "slide_type": "slide"
    }
   },
   "source": [
    "- The simplest integrating scheme for ODEs is the **Euler's method.**\n",
    "- Given the $n$-dimensional vectors from the ODE standard form we are writing down equation in finite difference form.\n",
    "\n",
    "$$\n",
    "\\frac{d {y}}{dt} = {f}(t, {y})\n",
    "$$\n",
    "\n",
    "$$\\frac{d y(t)}{dt} \\approx \\frac{{y}(t_{n+1}) - {y}(t_n)}{h}$$\n",
    "\n",
    "$${y}_{n+1} \\approx {y}_n + h {f}(t_n, {y}_n)$$\n"
   ]
  },
  {
   "cell_type": "markdown",
   "metadata": {
    "slideshow": {
     "slide_type": "slide"
    }
   },
   "source": [
    "**Much better integrators are known under the names of Runge Kutta, 2nd, 4th, 6th ... order**"
   ]
  },
  {
   "cell_type": "code",
   "execution_count": 67,
   "metadata": {
    "slideshow": {
     "slide_type": "slide"
    }
   },
   "outputs": [],
   "source": [
    "def euler(y, f, t, h):   \n",
    "    \"\"\"Euler integrator: Returns new y at t+h.\n",
    "    \"\"\"\n",
    "    return y + h * f(t, y)\n",
    "\n",
    "def rk2(y, f, t, h):\n",
    "    \"\"\"Runge-Kutta RK2 midpoint\"\"\"\n",
    "    \n",
    "    k1 = f(t, y)\n",
    "    k2 = f(t + 0.5*h, y + 0.5*h*k1)\n",
    "    \n",
    "    return y + h*k2\n",
    "\n",
    "def rk4(y, f, t, h):\n",
    "    \"\"\"Runge-Kutta RK4\"\"\"\n",
    "    \n",
    "    k1 = f(t, y)\n",
    "    k2 = f(t + 0.5*h, y + 0.5*h*k1)\n",
    "    k3 = f(t + 0.5*h, y + 0.5*h*k2)\n",
    "    k4 = f(t + h, y + h*k3)\n",
    "    \n",
    "    return y + h/6 * (k1 + 2*k2 + 2*k3 + k4)"
   ]
  },
  {
   "cell_type": "markdown",
   "metadata": {},
   "source": [
    "**Integrate Harmonic Oscillator using Euler, RK2, RK4**"
   ]
  },
  {
   "cell_type": "code",
   "execution_count": null,
   "metadata": {
    "tags": [
     "hide-input"
    ]
   },
   "outputs": [],
   "source": [
    "def f(t, y):\n",
    "    ''' Define a simple harmonic potential'''\n",
    "    \n",
    "    return np.array([y[1], -y[0]])\n",
    "\n",
    "\n",
    "y  = np.array([1., 1.])\n",
    "pos, vel = [], []\n",
    "t  = 0\n",
    "h = 0.1 \n",
    "\n",
    "for i in range(1000):\n",
    "    \n",
    "    y = euler(y, f, t, h) # Change integration method venv, euler, rk2, rk4\n",
    "    \n",
    "    t+=h\n",
    "    \n",
    "    pos.append(y[0])\n",
    "    vel.append(y[1])\n",
    "\n",
    "fig, ax = plt.subplots(ncols=3, nrows=1, figsize=(12,3))\n",
    "\n",
    "pos, vel =np.array(pos), np.array(vel)\n",
    "ax[0].plot(pos, vel)\n",
    "ax[1].plot(pos)\n",
    "ax[1].plot(vel)\n",
    "ax[2].plot(0.5*pos**2 + 0.5*vel**2)"
   ]
  },
  {
   "cell_type": "markdown",
   "metadata": {
    "slideshow": {
     "slide_type": "slide"
    }
   },
   "source": [
    "### Verlet algortihm"
   ]
  },
  {
   "cell_type": "markdown",
   "metadata": {
    "slideshow": {
     "slide_type": "slide"
    }
   },
   "source": [
    "Taylor expansion of position $\\vec{r}(t)$ after timestep $\\Delta t$ we obtain forward and backward Euler schems\n",
    "\n",
    "$$r_{t+\\Delta t} = r_t +v_t\\Delta t +\\frac{1}{2}a_t \\Delta t^2 + O(\\Delta t^3)$$\n",
    "\n",
    "$$r_{t-\\Delta t} = r_t -v_t \\Delta t +\\frac{1}{2}a_t \\Delta t^2 + O(\\Delta t^3)$$"
   ]
  },
  {
   "cell_type": "markdown",
   "metadata": {
    "slideshow": {
     "slide_type": "slide"
    }
   },
   "source": [
    "- In 1967 Loup Verlet introduced a new algorithm into molecular dynamics simulations which preserves energy is accurate and efficient.\n",
    "\n",
    "- Summing the two taylor expansion above we get a updating scheme which is an order of mangnitude more accurate\n",
    "\n",
    "$$r_{t+\\Delta t} = 2r_t - r_{t-\\Delta t} +a_t \\Delta t^2+O(\\Delta t^4)$$\n",
    "\n",
    "$$v_t = \\frac{r_{t+\\Delta t}-r_{t-\\Delta t}}{2\\Delta t} +O(\\Delta t^2) $$\n",
    "\n",
    "- Velocity is not needed to update the positions. But we still need them to set the temperature. \n",
    "\n",
    "- Terms of order $O(\\Delta t^3)$ cancel in position giving position an accuracy of order $O(\\Delta t^4)$\n",
    "\n",
    "- To update the position we need positions in the past at two different time points! This is is not very efficient."
   ]
  },
  {
   "cell_type": "markdown",
   "metadata": {
    "slideshow": {
     "slide_type": "slide"
    }
   },
   "source": [
    "### Velocity Verlet updating scheme\n",
    "\n",
    "- A better updating scheme has been proposed known as **Velocity-Verlet (VV)** which stores **positions, velocities and accelerations at the same time.** Time stepping backward expansion $r(t-\\Delta t + \\Delta t)$ and summing with the forward Tayloer expansions we get Velocity Verlet updating scheme:\n",
    "\n",
    "$$v_{t+\\Delta t} = v_t + \\frac{1}{2}(a_t+a_{t+\\Delta t})\\Delta t +O(\\Delta t^3)$$"
   ]
  },
  {
   "cell_type": "markdown",
   "metadata": {
    "slideshow": {
     "slide_type": "slide"
    }
   },
   "source": [
    "- Substituting forces $a=\\frac{F}{m}$ instead of acelration we get \n",
    "\n",
    "$$r_{t+\\Delta t} = r_t + v_t\\Delta t + \\frac{F_t}{2m}\\Delta t^2$$\n",
    "\n",
    "\n",
    "$$v_{t+\\Delta t} = v_t + \\frac{F_t+F_{t+\\Delta t}}{2m}\\Delta t$$"
   ]
  },
  {
   "cell_type": "markdown",
   "metadata": {
    "slideshow": {
     "slide_type": "slide"
    }
   },
   "source": [
    ":::{admonition} **Velocity Verlet Algorithm**  \n",
    ":class: tip\n",
    "\n",
    "**1. Evaluate the initial force from the current position:**\n",
    "\n",
    "$$\n",
    "F_t = -\\frac{\\partial U(r)}{\\partial r} \\Bigg|_{r(t)}\n",
    "$$\n",
    "\n",
    "**2. Update the position:**\n",
    "\n",
    "$$\n",
    "r_{t+\\Delta t} = r_t + v_t \\Delta t + \\frac{F_t}{2m} \\Delta t^2\n",
    "$$\n",
    "\n",
    "**3. Partially update the velocity:**\n",
    "\n",
    "$$\n",
    "v_{t+\\Delta t/2} = v_t + \\frac{F_t}{2m} \\Delta t\n",
    "$$\n",
    "\n",
    "**4. Evaluate the force at the new position:**\n",
    "\n",
    "$$\n",
    "F_{t+\\Delta t} = -\\frac{\\partial U(r)}{\\partial r} \\Bigg|_{r(t+\\Delta t)}\n",
    "$$\n",
    "\n",
    "**5. Complete the velocity update:**\n",
    "\n",
    "$$\n",
    "v_{t+\\Delta t} = v_{t+\\Delta t/2} + \\frac{F_{t+\\Delta t}}{2m} \\Delta t\n",
    "$$\n",
    "\n",
    ":::"
   ]
  },
  {
   "cell_type": "code",
   "execution_count": 124,
   "metadata": {},
   "outputs": [],
   "source": [
    "def velv(y, f, t, h):\n",
    "    \"\"\"Velocity Verlet for solving differential equations. \n",
    "    A little inefficient since same force (first and last) is evaluated twice!\n",
    "    \"\"\"\n",
    "    \n",
    "    # 1. Evluate force\n",
    "    F = f(t, y)\n",
    "    \n",
    "    # 2, Velocity partial update\n",
    "    y[1] += 0.5*h * F[1]\n",
    "\n",
    "    # 3. Full step position\n",
    "    y[0] += h*y[1]\n",
    "    \n",
    "    # 4. Force re-eval\n",
    "    F = f(t+h, y)\n",
    "    \n",
    "    # 5. Full step velocity \n",
    "    y[1] += 0.5*h * F[1]  \n",
    "\n",
    "    return y"
   ]
  },
  {
   "cell_type": "code",
   "execution_count": 57,
   "metadata": {
    "tags": [
     "hide-input"
    ]
   },
   "outputs": [],
   "source": [
    "def f(t, y):\n",
    "    ''' Define a simple harmonic potential'''\n",
    "    \n",
    "    return np.array([y[1], -y[0]])\n",
    "\n",
    "\n",
    "y  = np.array([1., 1.])\n",
    "pos, vel = [], []\n",
    "t  = 0\n",
    "h = 0.1 \n",
    "\n",
    "for i in range(1000):\n",
    "    \n",
    "    y = velv(y, f, t, h) # Change integration method venv, euler, rk2, rk4\n",
    "    \n",
    "    t+=h\n",
    "    \n",
    "    pos.append(y[0])\n",
    "    vel.append(y[1])\n",
    "\n",
    "fig, ax = plt.subplots(ncols=3, nrows=1, figsize=(12,3))\n",
    "\n",
    "pos, vel =np.array(pos), np.array(vel)\n",
    "ax[0].plot(pos, vel)\n",
    "ax[1].plot(pos)\n",
    "ax[1].plot(vel)\n",
    "ax[2].plot(0.5*pos**2 + 0.5*vel**2)"
   ]
  },
  {
   "cell_type": "markdown",
   "metadata": {
    "slideshow": {
     "slide_type": "slide"
    }
   },
   "source": [
    "### Ensemble averages\n",
    "\n",
    ":::{admonition} **Ergodic hypothesis**\n",
    ":class: important\n",
    "\n",
    "$$\\langle A \\rangle  = \\frac{1}{t}} \\int^{\\tau_{eq} +T}_{\\tau_{eq}} A(t)$$\n",
    "\n",
    "- $\\tau_{eq}$ time it teks for system to \"settle into\" equilibrium and $t$ time of simulation. \n",
    "- Time averages are equal to ensemble averages when $t\\lim \\infty$. But in real life we need to determine how long to sample. \n",
    "- Ergodic assumption is: during the coruse of MD we visit all the microstates (or small but representative subset) that go into the ensemble average!\n",
    ":::"
   ]
  },
  {
   "cell_type": "markdown",
   "metadata": {
    "slideshow": {
     "slide_type": "slide"
    }
   },
   "source": [
    ":::{admonition} **Energy conservation in simulations**\n",
    ":class: tip\n",
    "\n",
    "- Kinetic, potential and total energies are flcutuation quantities in the Molecualr dynamics simulations.\n",
    "- Energy in (NVE) or its average $\\langle E \\rangle$ (in NVT, NPT, etc) must remain constant!\n",
    "\n",
    "$$KE_t = \\sum_i \\frac{p_t^2}{2m}$$\n",
    "\n",
    "$$PE_t = \\sum_{ij}u_{ij}(r_t)$$\n",
    "\n",
    "$$\\langle E \\rangle = \\langle KE \\rangle +\\langle PE \\rangle \\approx const $$\n",
    "\n",
    ":::\n",
    "\n"
   ]
  },
  {
   "cell_type": "markdown",
   "metadata": {
    "slideshow": {
     "slide_type": "slide"
    }
   },
   "source": [
    ":::{admonition} **Temperature control in simulations**\n",
    ":class: tip\n",
    "\n",
    "According to equipariting result of equilibrium statistical mechanics in the NVT ensmeble\n",
    "\n",
    "$$\\Big\\langle \\sum_i \\frac{p_t^2}{2m} \\Big\\rangle =\\frac{3 }{2}N  k_B T$$\n",
    "\n",
    "\n",
    "$$T_t = \\frac{2}{3 N k_B} \\big\\langle KE \\big\\rangle_t $$\n",
    "\n",
    ":::"
   ]
  },
  {
   "cell_type": "markdown",
   "metadata": {
    "slideshow": {
     "slide_type": "slide"
    }
   },
   "source": [
    ":::{admonition} **Pressure control in simulations**\n",
    ":class: tip\n",
    "\n",
    "$$P = \\frac{1}{3V} \\sum^N_i \\Big [\\frac{p^2_i}{m} +\\vec{F}_i(r) \\cdot \\vec{r}_i(t) \\Big ]$$\n",
    "\n",
    ":::"
   ]
  },
  {
   "cell_type": "markdown",
   "metadata": {},
   "source": [
    "### Molecular Dynaamics of Classical Harmonic Oscillator (NVE)"
   ]
  },
  {
   "cell_type": "code",
   "execution_count": 158,
   "metadata": {},
   "outputs": [],
   "source": [
    "def time_step_1D(pos, vel, F, en_force):\n",
    "    '''Velocity Verlet update of velocities, positions and forces\n",
    "    pos         (float):      position\n",
    "    vel         (float):      velocity\n",
    "    F           (float):        force\n",
    "    en_force (function): a function whichb computes potential energy and force (derivative)\n",
    "    '''\n",
    "    \n",
    "    vel   += 0.5 * F * dt\n",
    "    \n",
    "    pos   += vel * dt\n",
    "    \n",
    "    pe, F  = en_force(pos)\n",
    "    \n",
    "    vel   += 0.5 * F * dt\n",
    "\n",
    "    return pos, vel, F, pe"
   ]
  },
  {
   "cell_type": "code",
   "execution_count": 159,
   "metadata": {},
   "outputs": [],
   "source": [
    "def md_nve_1d(x, v, dt, t_max, en_force):\n",
    "    '''Minimalistic MD code applied to a harmonic oscillator'''\n",
    "    \n",
    "    times, pos, vel, KE, PE  = [], [], [], [], []\n",
    "    \n",
    "    #1. Intialize force\n",
    "    pe, F = en_force(x) \n",
    "    \n",
    "    for step in range(int(t_max/dt)):\n",
    "        \n",
    "        x, v, F, pe = time_step_1D(x, v, F, en_force)\n",
    "        \n",
    "        pos.append(x), vel.append(v), KE.append(0.5*v*v), PE.append(pe)    \n",
    "    \n",
    "    return np.array(pos), np.array(vel), np.array(KE), np.array(PE)"
   ]
  },
  {
   "cell_type": "code",
   "execution_count": 179,
   "metadata": {},
   "outputs": [],
   "source": [
    "#----parameters of simulation----\n",
    "k     = 3 \n",
    "x0    = 1 \n",
    "v0    = 0\n",
    "dt    = 0.01 * 2*np.pi/np.sqrt(k) #A good timestep determined by using oscillator frequency\n",
    "t_max = 1000\n",
    "\n",
    "def ho_en_force(x, k=k):\n",
    "    '''Force field of harmonic oscillator:\n",
    "    returns potential energy and force'''\n",
    "    \n",
    "    return k*x**2, -k*x"
   ]
  },
  {
   "cell_type": "code",
   "execution_count": 180,
   "metadata": {},
   "outputs": [],
   "source": [
    "pos, vel, KE, PE = md_nve_1d(x0, v0, dt, t_max, ho_en_force)"
   ]
  },
  {
   "cell_type": "code",
   "execution_count": 181,
   "metadata": {},
   "outputs": [
    {
     "data": {
      "image/png": "[encoded data removed]",
      "text/plain": [
       "<Figure size 432x288 with 2 Axes>"
      ]
     },
     "metadata": {
      "needs_background": "light"
     },
     "output_type": "display_data"
    }
   ],
   "source": [
    "fig, ax =plt.subplots(ncols=2)\n",
    "\n",
    "ax[0].hist(pos);\n",
    "ax[1].hist(vel, color='orange');\n",
    "ax[0].set_ylabel('P(x)')\n",
    "ax[1].set_ylabel('P(v)')\n",
    "\n",
    "fig.tight_layout()"
   ]
  },
  {
   "cell_type": "markdown",
   "metadata": {},
   "source": [
    "### Langevin equation\n",
    "\n",
    "- A particle of mass $m$ moves under the force derived from a potential energy $U(x)$. The motion is purely deterministic.\n",
    "\n",
    "$$\n",
    "m \\ddot{x} = -\\nabla_x U\n",
    "$$\n",
    "\n",
    "- **Challenge:** What should we do when we have only a one or few particles, and cannot explicitly simulate the vast surrounding environment in order to assign temperature?\n",
    "- **Solution:** We model the surrounding medium (e.g., a solvent) as an **implicit thermal bath** that interacts with the particle.\n",
    "    - The particle exchanges energy with the bath, maintaining **thermal equilibrium** at a fixed temperature $T$.\n",
    "    - This motivates **Langevin dynamics**, where the effects of the solvent are captured by **friction** (dissipation) and **random thermal kicks** (fluctuations), without simulating solvent molecules explicitly.\n",
    "\n",
    ":::{admonition} **Langevin Equation**\n",
    ":class: important \n",
    "\n",
    "$$\n",
    "m \\ddot{x} = -\\nabla_x U - \\lambda \\dot{x} + \\eta(t)\n",
    "$$\n",
    "\n",
    ":::\n",
    "\n",
    ":::{admonition} **Overdamped Limit of Langevin Dynamics ($m \\ddot{x} = 0$)**\n",
    ":class: important \n",
    "\n",
    "$$\n",
    "\\lambda \\dot{x} = \\nabla_x U + \\eta(t)\n",
    "$$\n",
    "\n",
    ":::\n",
    "\n",
    "- The friction $\\lambda$ and thermal noise $\\eta(t)$ are clearly connected becasue the faster the particle movies (more noise) the more it also dissipates energy. \n",
    "- the connection is known by the name of Fluctuation-Dissipation Theorem:\n",
    "\n",
    ":::{admonition} **Fluctuation-Dissipation Theorem (FDT)**\n",
    ":class: important \n",
    "\n",
    "$$\n",
    "\\langle \\eta(t) \\eta(t') \\rangle = 2 \\lambda k_B T \\, \\delta(t - t')\n",
    "$$\n",
    "\n",
    ":::\n",
    "\n",
    "- The environment \"forgets\" what happened almost immediately after a collision very short memory hence noise terms are uncorrelated (independent). Just like what we had in brownian motion. \n",
    "- The FDT ensures that the strength of random thermal kicks is precisely tuned to the amount of viscous damping, so that the system reaches and maintains thermal equilibrium at temperature $T$\n",
    "- FDT guarantees that thermal fluctuations (random noise) and viscous dissipation are balanced, preventing runaway motion and stabilizing equilibrium.\n",
    "- FDT connects diffusion (random spreading) and viscosity (resistance to motion), both fundamentally controlled by temperature.\n",
    "\n",
    ":::{admonition}\n",
    ":class: tip, dropdown\n",
    "\n",
    "\n",
    "- Let us focus on the **overdamped Langevin equation** for simplicity:\n",
    "- Assume a **flat potential** first (i.e., $U(x) = 0$) to understand the role of friction and noise alone. (You can later generalize to nonzero $U(x)$, but this captures the key idea.)\n",
    "\n",
    "$$\n",
    "\\lambda \\dot{x}(t) = -\\nabla_x U(x) + \\eta(t)\n",
    "$$\n",
    "\n",
    "\n",
    "$$\n",
    "\\lambda \\dot{x}(t) = \\eta(t)\n",
    "\\quad \\Rightarrow \\quad\n",
    "\\dot{x}(t) = \\frac{1}{\\lambda} \\eta(t)\n",
    "$$\n",
    "\n",
    "- Thus, integrating over time:\n",
    "\n",
    "$$\n",
    "x(t) = x(0) + \\frac{1}{\\lambda} \\int_0^t \\eta(s) \\, ds\n",
    "$$\n",
    "\n",
    "- Let's compute the **mean-square displacement**:\n",
    "\n",
    "$$\n",
    "\\langle (x(t) - x(0))^2 \\rangle\n",
    "= \\frac{1}{\\lambda^2} \\left\\langle \\left( \\int_0^t \\eta(s) \\, ds \\right)^2 \\right\\rangle\n",
    "$$\n",
    "\n",
    "- Expanding:\n",
    "\n",
    "$$\n",
    "= \\frac{1}{\\lambda^2} \\int_0^t \\int_0^t \\langle \\eta(s) \\eta(s') \\rangle \\, ds \\, ds'\n",
    "$$\n",
    "\n",
    "- Now — **if** we assume $\\eta(t)$ is **delta-correlated** (white noise):\n",
    "\n",
    "$$\n",
    "\\langle \\eta(s) \\eta(s') \\rangle = C \\delta(s-s')\n",
    "$$\n",
    "\n",
    "- where $C$ is some constant to be determined. Then:\n",
    "\n",
    "$$\n",
    "= \\frac{C}{\\lambda^2} \\int_0^t ds\n",
    "= \\frac{C}{\\lambda^2} t\n",
    "$$\n",
    "\n",
    "\n",
    "$$\n",
    "\\langle (x(t) - x(0))^2 \\rangle = \\frac{C}{\\lambda^2} t\n",
    "$$\n",
    "\n",
    "- This shows **diffusive behavior** with an effective **diffusion constant**:\n",
    "\n",
    "$$\n",
    "D = \\frac{C}{2\\lambda^2}\n",
    "$$\n",
    "\n",
    "- because for normal diffusion we expect:\n",
    "\n",
    "$$\n",
    "\\langle (x(t) - x(0))^2 \\rangle = 2Dt\n",
    "$$\n",
    "\n",
    "**Connect to equilibrium (Einstein relation)**\n",
    "\n",
    "From statistical mechanics, **the equilibrium distribution** for $x$ must obey the **equipartition theorem**:\n",
    "\n",
    "If we define the equilibrium probability distribution $P(x)$ for the free particle:\n",
    "\n",
    "$$\n",
    "P(x) \\propto e^{-\\frac{0}{k_B T}} = \\text{const}\n",
    "$$\n",
    "\n",
    "- (no restoring force). But the *velocity* (or here the \"rate of change\") still carries thermal energy:\n",
    "\n",
    "- In equilibrium, for a particle moving slowly through a viscous medium, we know:\n",
    "\n",
    "- The diffusion coefficient $D$ satisfies the **Einstein relation**:\n",
    "\n",
    "$$\n",
    "D = \\frac{k_B T}{\\lambda}\n",
    "$$\n",
    "\n",
    "Thus, matching:\n",
    "\n",
    "$$\n",
    "\\frac{C}{2\\lambda^2} = \\frac{k_B T}{\\lambda}\n",
    "$$\n",
    "\n",
    "Multiplying both sides by $2\\lambda^2$, we find:\n",
    "\n",
    "$$\n",
    "C = 2 \\lambda k_B T\n",
    "$$\n",
    "\n",
    "\n",
    "$$\n",
    "\\boxed{ \\langle \\eta(t) \\eta(t') \\rangle = 2 \\lambda k_B T \\, \\delta(t-t') }\n",
    "$$\n",
    "\n",
    "This is the **fluctuation-dissipation theorem** for Langevin dynamics:  \n",
    "- **Fluctuations** (noise strength) are linked to **dissipation** (friction $lambda$) and **temperature** $T$).\n",
    "\n",
    "**Summary Intuition**\n",
    "- Without friction, noise would make energy grow indefinitely → no equilibrium.\n",
    "- Without noise, friction would freeze the system.\n",
    "- FDT guarantees just the right balance to maintain *thermal equilibrium* at temperature $T$.\n",
    "\n",
    ":::"
   ]
  },
  {
   "cell_type": "markdown",
   "metadata": {},
   "source": [
    "### Molecualr Dynamics of Harmonic oscillator (NVT)"
   ]
  },
  {
   "cell_type": "markdown",
   "metadata": {
    "slideshow": {
     "slide_type": "slide"
    }
   },
   "source": [
    "**Velocity updating when coupled to a thermal heat bath**\n",
    "\n",
    "$$ v_{t+\\Delta t} = v_t e^{-\\lambda  \\Delta t} + (k_B T)^{1/2} \\cdot (1-e^{-2\\gamma \\Delta t})^{1/2}  \\cdot N(0,1)$$"
   ]
  },
  {
   "cell_type": "code",
   "execution_count": 197,
   "metadata": {
    "slideshow": {
     "slide_type": "slide"
    }
   },
   "outputs": [],
   "source": [
    "def langevin_md_1d(x, v, dt, kBT, gamma, t_max, en_force):\n",
    "    '''Langevin dynamics applied to 1D potentials\n",
    "    Using integration scheme known as BA-O-AB.\n",
    "    INPUT: Any 1D function with its parameters\n",
    "    '''\n",
    "    \n",
    "    times, pos, vel, KE, PE  = [], [], [], [], []\n",
    "    \n",
    "    t = 0  \n",
    "    for step in range(int(t_max/dt)):\n",
    "        \n",
    "        #B-step\n",
    "        pe, F = en_force(x)\n",
    "        v    += F*dt/2\n",
    "        \n",
    "        #A-step\n",
    "        x += v*dt/2\n",
    "\n",
    "        #O-step\n",
    "        v = v*np.exp(-gamma*dt) + np.sqrt(1-np.exp(-2*gamma*dt)) * np.sqrt(kBT) * np.random.normal()\n",
    "        \n",
    "        #A-step\n",
    "        x +=  v*dt/2\n",
    "        \n",
    "        #B-step\n",
    "        pe, F = en_force(x)\n",
    "        v    +=  F*dt/2\n",
    "        \n",
    "        ### Save output \n",
    "        times.append(t), pos.append(x), vel.append(v), KE.append(0.5*v*v), PE.append(pe)    \n",
    "    \n",
    "    return np.array(times), np.array(pos), np.array(vel), np.array(KE), np.array(PE)"
   ]
  },
  {
   "cell_type": "code",
   "execution_count": 205,
   "metadata": {
    "slideshow": {
     "slide_type": "slide"
    },
    "tags": [
     "hide-input"
    ]
   },
   "outputs": [
    {
     "data": {
      "image/png": "[encoded data removed]",
      "text/plain": [
       "<Figure size 648x288 with 2 Axes>"
      ]
     },
     "metadata": {
      "needs_background": "light"
     },
     "output_type": "display_data"
    }
   ],
   "source": [
    "# Ininital conditions\n",
    "x     = 0.1\n",
    "v     = 0.5\n",
    "\n",
    "# Input parameters of simulation\n",
    "kBT   = 0.25\n",
    "gamma = 10\n",
    "dt    = 0.01\n",
    "t_max = 10000\n",
    "freq  = 10\n",
    "\n",
    "### Runt he simulation\n",
    "times, pos, vel, KE, PE = langevin_md_1d(x, v, dt, kBT, gamma, t_max, ho_en_force)\n",
    "\n",
    "\n",
    "#### Plot the results\n",
    "\n",
    "fig, ax =plt.subplots(nrows=1, ncols=2, figsize=(9,4))\n",
    "\n",
    "bins=50\n",
    "\n",
    "def gaussian_x(x, k, kBT): \n",
    "    return  np.exp(-k*(x**2)/(2*kBT)) / np.sqrt(2*np.pi*kBT/k)\n",
    "    \n",
    "def gaussian_v(v, kBT):   \n",
    "    return  np.exp(-(v**2)/(2*kBT))  / np.sqrt(2*np.pi*kBT) \n",
    "\n",
    "x = np.linspace(min(pos), max(pos), bins)\n",
    "ax[0].hist(pos, bins=bins, density=True) \n",
    "ax[0].plot(x, gaussian_x(x, k, kBT), lw=2, color='k')\n",
    "\n",
    "v = np.linspace(min(vel), max(vel), bins)\n",
    "ax[1].hist(vel, bins=bins, density=True, color='orange') \n",
    "ax[1].plot(v, gaussian_v(v, kBT), lw=2, color='k')\n",
    "\n",
    "ax[0].set_ylabel('P(x)')\n",
    "ax[1].set_ylabel('P(v)')\n",
    "\n",
    "fig.tight_layout()"
   ]
  },
  {
   "cell_type": "markdown",
   "metadata": {},
   "source": [
    "### Double well potential"
   ]
  },
  {
   "cell_type": "code",
   "execution_count": 206,
   "metadata": {
    "tags": [
     "hide-input"
    ]
   },
   "outputs": [
    {
     "data": {
      "application/vnd.jupyter.widget-view+json": {
       "model_id": "5c8646d733e44926a421c0911e97fd39",
       "version_major": 2,
       "version_minor": 0
      },
      "text/plain": [
       "interactive(children=(FloatSlider(value=1.0, description='k', max=1.0, min=0.1), FloatSlider(value=3.0, descri…"
      ]
     },
     "metadata": {},
     "output_type": "display_data"
    }
   ],
   "source": [
    "def double_well(x, k=1, a=3):\n",
    "    \n",
    "    energy = 0.25*k*((x-a)**2) * ((x+a)**2)\n",
    "    force = -k*x*(x-a)*(x+a)\n",
    "    \n",
    "    return energy, force\n",
    "\n",
    "def plot_harm_force(k=1, a=3):\n",
    "    \n",
    "    x = np.linspace(-6,6,1000)\n",
    "    \n",
    "    energy, force = double_well(x, k, a) \n",
    "    \n",
    "    plt.plot(x, energy, '-o',lw=3)\n",
    "    plt.plot(x, force, '-', lw=3, alpha=0.5)\n",
    "    \n",
    "    plt.ylim(-20,40)\n",
    "    plt.grid(True)\n",
    "    plt.legend(['$U(x)$', '$F=-\\partial_x U(x)$'], fontsize=15)\n",
    "\n",
    "plot_harm_force()"
   ]
  },
  {
   "cell_type": "code",
   "execution_count": 207,
   "metadata": {
    "tags": [
     "hide-input"
    ]
   },
   "outputs": [],
   "source": [
    "# Potential \n",
    "def double_well(x, k=1, a=3):\n",
    "    \n",
    "    energy = 0.25*k*((x-a)**2) * ((x+a)**2)\n",
    "    force = -k*x*(x-a)*(x+a)\n",
    "    \n",
    "    return energy, force\n",
    "\n",
    "# Ininital conditions\n",
    "x     = 0.1\n",
    "v     = 0.5\n",
    "\n",
    "# Input parameters of simulation\n",
    "kBT   = 5 # vary this\n",
    "gamma = 0.1 # vary this\n",
    "dt    = 0.05\n",
    "t_max = 10000\n",
    "freq  = 10\n",
    "\n",
    "#### Run the simulation\n",
    "times, pos, vel, KE, PE = langevin_md_1d(x, v, dt, kBT, gamma, t_max, double_well)\n",
    "\n",
    "#### Plotting \n",
    "fig, ax =plt.subplots(nrows=1, ncols=2, figsize=(13,5))\n",
    "\n",
    "x = np.linspace(min(pos), max(pos), 50)\n",
    "\n",
    "ax[0].plot(pos)\n",
    "ax[1].hist(pos, bins=50, density=True, alpha=0.5);\n",
    "\n",
    "v = np.linspace(min(vel), max(vel),50)\n",
    "\n",
    "ax[0].set_xlabel('t')\n",
    "ax[0].set_ylabel('x(t)')\n",
    "\n",
    "ax[1].set_xlabel('Computed P(x)')\n",
    "ax[1].set_ylabel('x')"
   ]
  },
  {
   "cell_type": "markdown",
   "metadata": {},
   "source": [
    "### Additional resoruces for learning MD\n",
    "\n",
    "- [Goran Wahnstrom's MD and MC lectures](http://fy.chalmers.se/~tfsgw/CompPhys/)\n",
    "- [Online course materials: **principles of modern molecular simulation methods**](https://sites.engineering.ucsb.edu/~shell/che210d/assignments.html)\n",
    "- [\"Understanding Molecular Simulation: From Algorithms to Applications\" a book by Daan Frankel](https://www.elsevier.com/books/understanding-molecular-simulation/frenkel/978-0-12-267351-1)"
   ]
  },
  {
   "cell_type": "markdown",
   "metadata": {
    "slideshow": {
     "slide_type": "slide"
    }
   },
   "source": [
    "### Problems\n",
    "\n",
    "#### 1D potential\n",
    "\n",
    "- In molecular simulations, we often want to sample from the **Boltzmann distribution** $P(x) \\propto e^{-V(x)/k_BT}$. \n",
    "- Langevin dynamics enables us to do this by modeling the effects of both **deterministic forces** (from the potential) and **random thermal fluctuations**.\n",
    "- Write a Python function using NumPy to simulate a 1D system under Langevin dynamics for the following potential:\n",
    "\n",
    "$$\n",
    "V(x) = Ax^2 + Bx^3 + Cx^4\n",
    "$$\n",
    "\n",
    "You should:\n",
    "\n",
    "1. Implement Langevin dynamics to evolve position and velocity over time.\n",
    "2. Allow inputs for:\n",
    "   - Coefficients A, B, C\n",
    "   - Initial position and velocity\n",
    "   - Time step `dt`, number of steps\n",
    "   - Temperature `kBT` and friction coefficient `gamma`\n",
    "3. Store all positions and plot a **normalized histogram** (probability density) after the simulation.\n",
    "4. Try the following setups:\n",
    "   - **Double well**: A = -1, B = 0, C = 1\n",
    "   - **Asymmetric well**: A = -1, B = -1, C = 1\n",
    "   - Vary initial positions and explain what changes\n",
    "\n",
    "\n",
    "5. Compare your histograms with $e^{-V(x)/k_BT}$. Do they match?\n",
    "6.  What happens if `gamma` is very small? What about very large?"
   ]
  }
 ],
 "metadata": {
  "kernelspec": {
   "display_name": "Python 3 (ipykernel)",
   "language": "python",
   "name": "python3"
  },
  "toc": {
   "base_numbering": 1,
   "nav_menu": {},
   "number_sections": true,
   "sideBar": true,
   "skip_h1_title": false,
   "title_cell": "Table of Contents",
   "title_sidebar": "Contents",
   "toc_cell": false,
   "toc_position": {},
   "toc_section_display": true,
   "toc_window_display": false
  }
 },
 "nbformat": 4,
 "nbformat_minor": 4
}
