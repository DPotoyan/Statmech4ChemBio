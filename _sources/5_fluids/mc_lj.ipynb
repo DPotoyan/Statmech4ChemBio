{
 "cells": [
  {
   "cell_type": "markdown",
   "metadata": {
    "id": "YXq9bgu-a5Mu"
   },
   "source": [
    "## MC simulations of fluids"
   ]
  },
  {
   "cell_type": "code",
   "execution_count": null,
   "metadata": {
    "id": "qBaT717ia5Mz"
   },
   "outputs": [],
   "source": [
    "import matplotlib.pyplot as plt\n",
    "\n",
    "import numpy as np\n",
    "from itertools import product\n",
    "\n",
    "from ipywidgets import interact, interactive\n",
    "import plotly.express as px\n",
    "import plotly.graph_objects as go\n",
    "from numba import jit, njit\n",
    "\n",
    "%matplotlib inline\n",
    "%config InlineBackend.figure_format = 'retina'\n",
    "\n",
    "try:\n",
    "    from google.colab import output\n",
    "    output.enable_custom_widget_manager()\n",
    "    print('All good to go')\n",
    "except:\n",
    "    print('Okay we are not in Colab just proceed as if nothing happened')"
   ]
  },
  {
   "cell_type": "markdown",
   "metadata": {
    "id": "JeKTIa6Xa5M0"
   },
   "source": [
    "## LJ model of a simple fluids, noble gases"
   ]
  },
  {
   "cell_type": "markdown",
   "metadata": {
    "id": "qUqnxqlVa5M0"
   },
   "source": [
    "\n",
    "**Check out reference values of [LJ fluid properties tabulated by NIST](https://www.nist.gov/mml/csd/chemical-informatics-research-group/lennard-jones-fluid-properties)**\n",
    "\n"
   ]
  },
  {
   "cell_type": "markdown",
   "metadata": {
    "id": "7HkQC3eRa5M0"
   },
   "source": [
    "### Initialize the system, and watch out for clashes!\n",
    "\n",
    "- Density and unit cell number can be used to fully specify a lattice packed with LJ particles "
   ]
  },
  {
   "cell_type": "code",
   "execution_count": null,
   "metadata": {
    "id": "lF5a3cJVa5M1",
    "tags": [
     "hide-input"
    ]
   },
   "outputs": [],
   "source": [
    "def IC_pos(rho=0.88, N_cell=3):\n",
    "    \"\"\"\n",
    "    Generate FCC lattice positions for Lennard-Jones particles.\n",
    "\n",
    "    Parameters:\n",
    "    rho (float): Number density (default 0.88).\n",
    "    N_cell (int): Number of unit cells per dimension (default 3).\n",
    "\n",
    "    Returns:\n",
    "    pos (np.ndarray): Particle positions.\n",
    "    L (float): Box length.\n",
    "    N (int): Number of particles.\n",
    "    \"\"\"\n",
    "    from itertools import product\n",
    "    import numpy as np\n",
    "\n",
    "    N = 4 * N_cell**3\n",
    "    L = (N / rho)**(1/3)\n",
    "    L_cell = L / N_cell\n",
    "\n",
    "    base = np.array([[0, 0, 0],\n",
    "                     [0, 0.5, 0.5],\n",
    "                     [0.5, 0, 0.5],\n",
    "                     [0.5, 0.5, 0]])\n",
    "\n",
    "    pos = np.array([b + [i, j, k] for i, j, k in product(range(N_cell), repeat=3) for b in base])\n",
    "    pos *= L_cell\n",
    "\n",
    "    return pos, L, N\n"
   ]
  },
  {
   "cell_type": "code",
   "execution_count": null,
   "metadata": {},
   "outputs": [],
   "source": [
    "import plotly.graph_objects as go\n",
    "\n",
    "def cell_plotter(rho=0.88, N_cell=3, marker_size=5, marker_opacity=0.5):\n",
    "    \"\"\"\n",
    "    Plot a 3D scatter of an FCC lattice for Lennard-Jones particles.\n",
    "\n",
    "    Parameters:\n",
    "    rho (float): Number density (default 0.88).\n",
    "    N_cell (int): Number of unit cells per dimension (default 3).\n",
    "    marker_size (float): Size of plotted particles (default 5).\n",
    "    marker_opacity (float): Opacity of plotted particles (default 0.5).\n",
    "    \"\"\"\n",
    "    pos, L, N = IC_pos(rho=rho, N_cell=N_cell)\n",
    "\n",
    "    fig = go.Figure(data=[go.Scatter3d(\n",
    "        x=pos[:, 0], y=pos[:, 1], z=pos[:, 2],\n",
    "        mode='markers',\n",
    "        marker=dict(size=marker_size, opacity=marker_opacity)\n",
    "    )])\n",
    "\n",
    "    fig.update_layout(\n",
    "        title=f\"FCC Lattice: ρ = {rho}, N = {N}\",\n",
    "        width=700, height=700,\n",
    "        scene=dict(\n",
    "            xaxis=dict(title='X', range=[0, L]),\n",
    "            yaxis=dict(title='Y', range=[0, L]),\n",
    "            zaxis=dict(title='Z', range=[0, L]),\n",
    "            aspectmode='cube'\n",
    "        )\n",
    "    )\n",
    "\n",
    "    fig.show()"
   ]
  },
  {
   "cell_type": "code",
   "execution_count": null,
   "metadata": {
    "id": "5Fw-Byx3a5M1"
   },
   "outputs": [],
   "source": [
    "interactive(cell_plotter, rho=(0.5, 1.5, 0.1), N_cell=(1, 10, 1))"
   ]
  },
  {
   "cell_type": "markdown",
   "metadata": {
    "id": "GNNI5lnLa5M2"
   },
   "source": [
    "### [Periodic Boundary conditions and minimum image criterion](https://en.wikipedia.org/wiki/Periodic_boundary_conditions)"
   ]
  },
  {
   "cell_type": "markdown",
   "metadata": {},
   "source": [
    "- If a particle leaves the box, it re-enters at the opposite side.\n",
    "- What should be the distance between partiles? There is some mbiguity because distance between atoms may now include crossing the system boundary and re-entering. This is identical to introducing copies of the particles around the simulation box. We adopt **minimum image convention** by choosing the shortest distance possible\n",
    "\n",
    "![](./pbc_fig1.gif)"
   ]
  },
  {
   "cell_type": "markdown",
   "metadata": {},
   "source": [
    "![](./pbc_fig2.gif)\n",
    "\n",
    "- By adopting minimum image convention we consider the closest of all 'image partners' (plus the original) of every atom for calculating interaction. The animation below highlights the image partners of the two red atoms that are closest to the green atom. \n",
    "\n",
    "- To minimize distance between points we evaluate distances along x, y and z dimension and choose the smallest possible one. \n"
   ]
  },
  {
   "cell_type": "code",
   "execution_count": null,
   "metadata": {
    "id": "s4cUmrZRa5M3"
   },
   "outputs": [],
   "source": [
    "def pbc_basic(x, L):\n",
    "  '''Wrap a single components into [-L/2, L/2) assuming box centered at origin'''\n",
    "    \n",
    "  if   x >=  L/2: x -= L  \n",
    "\n",
    "  elif x <= -L/2: x += L\n",
    "\n",
    "  return x\n",
    "\n",
    "\n",
    "@njit\n",
    "def pbc_wrap(r_vec, L):\n",
    "    \"\"\"\n",
    "    Wrap all vector components into [-L/2, L/2) assuming box centered at origin.\n",
    "    \"\"\"\n",
    "    return (r_vec + L/2) % L - L/2"
   ]
  },
  {
   "cell_type": "markdown",
   "metadata": {
    "id": "RGdi41MQa5M3"
   },
   "source": [
    "### Computing pairwise distances and energies"
   ]
  },
  {
   "cell_type": "code",
   "execution_count": null,
   "metadata": {
    "id": "bymBLpQIa5M4"
   },
   "outputs": [],
   "source": [
    "@njit\n",
    "def getE_tot(pos, L, trunc, sig=1.0, eps=1.0):\n",
    "    \"\"\"\n",
    "    Compute total Lennard-Jones energy with cutoff and PBC.\n",
    "    \"\"\"\n",
    "    N = len(pos)\n",
    "    energy = 0.0\n",
    "    trunc_sq = trunc**2\n",
    "\n",
    "    for i in range(N - 1):\n",
    "        for j in range(i + 1, N):\n",
    "            r_vec = pbc_wrap(pos[i] - pos[j], L)\n",
    "            r_sq = np.sum(r_vec**2)\n",
    "\n",
    "            if r_sq < 1e-12:\n",
    "                continue  # avoid singularity\n",
    "                \n",
    "            if r_sq <= trunc_sq:\n",
    "                inv_r_sq = sig**2 / r_sq\n",
    "                energy += 4 * eps * (inv_r_sq**3 - inv_r_sq**1.5)\n",
    "\n",
    "    return energy\n",
    "\n",
    "@njit\n",
    "def E_disp(pos, L, trunc, j, r_j, sig=1.0, eps=1.0):\n",
    "    \"\"\"\n",
    "    Compute interaction energy of particle j at trial position r_j.\n",
    "    \"\"\"\n",
    "    N = len(pos)\n",
    "    energy = 0.0\n",
    "    trunc_sq = trunc**2\n",
    "\n",
    "    for i in range(N):\n",
    "        if i == j:\n",
    "            continue\n",
    "        r_vec = pbc_wrap(pos[i] - r_j, L)\n",
    "        r_sq = np.sum(r_vec**2)\n",
    "\n",
    "        if r_sq < 1e-12:\n",
    "            continue\n",
    "        if r_sq <= trunc_sq:\n",
    "            inv_r_sq = sig**2 / r_sq\n",
    "            energy += 4 * eps * (inv_r_sq**3 - inv_r_sq**1.5)\n",
    "\n",
    "    return energy"
   ]
  },
  {
   "cell_type": "markdown",
   "metadata": {
    "id": "a-AX1urwa5M4"
   },
   "source": [
    "### MC engine for LJ fluid in 3D (NVT ensemble)\n",
    "Now that the main helper functions are set up we can put together a main Monte Carlo engine that loops through randomly selected particles and attemps their displacement via Metropolis Criterion. "
   ]
  },
  {
   "cell_type": "code",
   "execution_count": null,
   "metadata": {
    "id": "C-4M9E5ba5M5"
   },
   "outputs": [],
   "source": [
    "import numpy as np\n",
    "from numba import njit\n",
    "\n",
    "@njit\n",
    "def run_MC_LJ(pos, L, T, trunc=4.0, disp=0.5, steps=10000, freq=100):\n",
    "\n",
    "    N = len(pos)\n",
    "    n_snapshots = steps // freq + 1\n",
    "    confs = np.empty((n_snapshots, N, 3))\n",
    "    es = np.empty(n_snapshots)\n",
    "\n",
    "    # Initial energy\n",
    "    E_tot, _ = getE_tot(pos, L, trunc)\n",
    "    conf_index = 0\n",
    "    confs[conf_index] = pos\n",
    "    es[conf_index] = E_tot\n",
    "    conf_index += 1\n",
    "\n",
    "    for step in range(steps):\n",
    "        \n",
    "        j = np.random.randint(N)\n",
    "\n",
    "        # Generate displacement\n",
    "        dx = np.random.uniform(-disp, disp)\n",
    "        dy = np.random.uniform(-disp, disp)\n",
    "        dz = np.random.uniform(-disp, disp)\n",
    "        delta = np.array([dx, dy, dz])\n",
    "\n",
    "        r_j_new = pbc_wrap(pos[j] + delta, L)\n",
    "\n",
    "        # Energy change for displacement\n",
    "        e_old = E_disp(pos, L, trunc, j, pos[j])\n",
    "        e_new = E_disp(pos, L, trunc, j, r_j_new)\n",
    "        dE = e_new - e_old\n",
    "\n",
    "\n",
    "        if dE <= 0.0 or np.random.rand() < np.exp(-dE / T):\n",
    "\n",
    "            pos[j] = r_j_new\n",
    "            E_tot += dE\n",
    "\n",
    "        if step % freq == 0:\n",
    "\n",
    "            confs[conf_index] = pos\n",
    "            es[conf_index] = E_tot\n",
    "            conf_index += 1\n",
    "\n",
    "    return confs, es\n"
   ]
  },
  {
   "cell_type": "markdown",
   "metadata": {
    "id": "aMOx9hVOa5M5"
   },
   "source": [
    "### Running MCMC simulation on LJ system"
   ]
  },
  {
   "cell_type": "code",
   "execution_count": null,
   "metadata": {
    "id": "H4tJ9YYMa5M5"
   },
   "outputs": [],
   "source": [
    "rho=0.88\n",
    "pos, L, N = IC_pos(rho, N_cell=3)\n",
    "\n",
    "params = dict(L = L,\n",
    "              T = 1, \n",
    "              steps=1000000, \n",
    "              trunc=4, \n",
    "              disp=0.5,\n",
    "              freq=100)"
   ]
  },
  {
   "cell_type": "code",
   "execution_count": null,
   "metadata": {
    "colab": {
     "background_save": true
    },
    "id": "lYrcXB5ea5M6",
    "outputId": "7be0272f-882d-4f14-c463-2cc617ba0d93"
   },
   "outputs": [],
   "source": [
    "#%time \n",
    "confs, es = run_MC_LJ(pos, **params)"
   ]
  },
  {
   "cell_type": "code",
   "execution_count": null,
   "metadata": {},
   "outputs": [],
   "source": [
    "plt.plot(es) "
   ]
  },
  {
   "cell_type": "code",
   "execution_count": null,
   "metadata": {},
   "outputs": [],
   "source": [
    "n = params['steps']//params['freq']\n",
    "\n",
    "@interact(i=(0, n-1))\n",
    "def viz_sim_lj(i=0):\n",
    "\n",
    "  fig = go.Figure(data=[go.Scatter3d(\n",
    "        x=pos[i,0],\n",
    "        y=pos[i,1],\n",
    "        z=pos[i,2],\n",
    "        mode='markers',\n",
    "        marker=dict(\n",
    "            size=5,  # Adjust size of markers\n",
    "            opacity=0.5  # Adjust opacity of markers\n",
    "        )\n",
    "    )])\n",
    "\n",
    "  return fig"
   ]
  },
  {
   "cell_type": "code",
   "execution_count": null,
   "metadata": {
    "id": "TPyYmOkfa5M6"
   },
   "outputs": [],
   "source": [
    "def compute_g_r(configs, L, dr=0.05, r_max=None):\n",
    "    \"\"\"\n",
    "    Compute radial distribution function g(r) from a list of configurations.\n",
    "\n",
    "    Parameters:\n",
    "    configs (list): List of N x 3 arrays of particle positions.\n",
    "    L (float): Box length.\n",
    "    dr (float): Bin width for r.\n",
    "    r_max (float): Max distance to consider (default L/2).\n",
    "\n",
    "    Returns:\n",
    "    r (np.ndarray): Array of distance bin centers.\n",
    "    g_r (np.ndarray): Radial distribution function values.\n",
    "    \"\"\"\n",
    "    import numpy as np\n",
    "\n",
    "    if r_max is None:\n",
    "        r_max = L / 2\n",
    "\n",
    "    n_bins = int(r_max / dr)\n",
    "    hist = np.zeros(n_bins)\n",
    "    norm = 0\n",
    "\n",
    "    for pos in configs:\n",
    "        N = len(pos)\n",
    "        for i in range(N - 1):\n",
    "            for j in range(i + 1, N):\n",
    "                r_vec = pos[i] - pos[j]\n",
    "                # Apply minimum image convention\n",
    "                r_vec -= L * np.round(r_vec / L)\n",
    "                r = np.linalg.norm(r_vec)\n",
    "                if r < r_max:\n",
    "                    bin_index = int(r / dr)\n",
    "                    hist[bin_index] += 2  # each pair counts once, but both particles contribute\n",
    "\n",
    "        norm += N * (N - 1)\n",
    "\n",
    "    # Normalize g(r)\n",
    "    rho = len(configs[0]) / L**3\n",
    "    r = np.linspace(0, r_max, n_bins, endpoint=False) + dr / 2\n",
    "    shell_vol = 4/3 * np.pi * ((r + dr/2)**3 - (r - dr/2)**3)\n",
    "    ideal_counts = norm * rho * shell_vol / len(configs)\n",
    "    g_r = hist / ideal_counts\n",
    "\n",
    "    return r, g_r\n"
   ]
  },
  {
   "cell_type": "code",
   "execution_count": null,
   "metadata": {},
   "outputs": [],
   "source": [
    "r, g_r = compute_g_r(confs_prod, L, dr=0.05)"
   ]
  },
  {
   "cell_type": "markdown",
   "metadata": {},
   "source": [
    "### Problems\n",
    "\n",
    "**1. Implementing PBC and minimal image convention methods outlined on  [Wikipeida](https://en.wikipedia.org/wiki/Periodic_boundary_conditions) in python.**\n",
    "\n",
    "- Write a few functions that take positions of N particles in 3D with shape (N,3) return new coordinates and all inter-particle distances. \n",
    "> You can generate random positions using ```np.random``` make sure you have enough particles outside of box to test your functions. \n",
    "> Try implementing your functions using numpy methods instead of having multiple for loops. That way your functions will run singnificantly faster.\n",
    "\n",
    "\n",
    "```python\n",
    "def pbc_dists(pos, L):\n",
    "\n",
    "    ...\n",
    "    \n",
    "    return pos, dists\n",
    "\n",
    "```\n",
    "\n",
    " - Evaluate distribution of energies of your random positions before and after applying pbc_dists.\n",
    " \n",
    " \n",
    "**2. Simulating 2D random walk with PBCs.**\n",
    "\n",
    " - Create a sequence of images or better yet an animation showing the temporal evolution of 10 independent random walkers in 100 by 100 square. Consult the random walk section and notebooks to refresh your memory of random walk simulations.\n",
    " - Calculate the root mean square displacement from the origin and show how it scales with time (steps)!\n",
    "  \n",
    " \n",
    "**2. Run MC simulations of LJ fluid at several temperatures to identify critical temperature.**\n",
    "\n",
    " - At each temperature evaluate heat capacity and RDFs.\n",
    " - Plot how energy, heat capacity and RDF change as a function of temperature.\n",
    " - Study dependence on sampling efficiency on magnitude of particle displacement."
   ]
  }
 ],
 "metadata": {
  "colab": {
   "collapsed_sections": [],
   "name": "06_MC_LJ.ipynb",
   "provenance": []
  },
  "interpreter": {
   "hash": "38cca0c38332a56087b24af0bc80247f4fced29cb4f7f437d91dc159adec9c4e"
  },
  "kernelspec": {
   "display_name": "Python 3 (ipykernel)",
   "language": "python",
   "name": "python3"
  },
  "nteract": {
   "version": "0.22.0"
  },
  "toc": {
   "base_numbering": 1,
   "nav_menu": {},
   "number_sections": true,
   "sideBar": true,
   "skip_h1_title": false,
   "title_cell": "Table of Contents",
   "title_sidebar": "Contents",
   "toc_cell": false,
   "toc_position": {},
   "toc_section_display": true,
   "toc_window_display": false
  },
  "widgets": {
   "application/vnd.jupyter.widget-state+json": {
    "state": {},
    "version_major": 2,
    "version_minor": 0
   }
  }
 },
 "nbformat": 4,
 "nbformat_minor": 4
}
