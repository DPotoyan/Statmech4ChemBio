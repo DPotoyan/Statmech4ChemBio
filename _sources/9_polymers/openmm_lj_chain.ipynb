{
 "cells": [
  {
   "attachments": {},
   "cell_type": "markdown",
   "metadata": {},
   "source": [
    "# Simulating toy polymers using openMM"
   ]
  },
  {
   "cell_type": "code",
   "execution_count": null,
   "metadata": {},
   "outputs": [],
   "source": [
    "!pip install -q condacolab\n",
    "import condacolab\n",
    "condacolab.install()"
   ]
  },
  {
   "cell_type": "code",
   "execution_count": null,
   "metadata": {},
   "outputs": [],
   "source": [
    "%%capture\n",
    "!conda install -c conda-forge openmm mdtraj parmed\n",
    "!pip install py3dmol "
   ]
  },
  {
   "cell_type": "code",
   "execution_count": null,
   "metadata": {},
   "outputs": [],
   "source": [
    "import openmm as mm\n",
    "from   openmm import app\n",
    "from   openmm.unit import * \n",
    "\n",
    "import parmed\n",
    "import mdtraj as md\n",
    "import py3Dmol\n",
    "import numpy as np\n",
    "import pandas as pd\n",
    "import matplotlib.pyplot as plt"
   ]
  },
  {
   "cell_type": "code",
   "execution_count": null,
   "metadata": {},
   "outputs": [],
   "source": [
    "# Simulation parameters\n",
    "temperature = 293.15 * kelvin\n",
    "pressure = 1 * bar\n",
    "mass = 39.948 * amu\n",
    "sig = 3.419 * angstrom\n",
    "eps = 117.8 * kelvin * BOLTZMANN_CONSTANT_kB * AVOGADRO_CONSTANT_NA\n",
    "\n",
    "box_size = 150 * angstrom  \n",
    "natom    = 12\n",
    "cutoff   = 3 * sig"
   ]
  },
  {
   "attachments": {},
   "cell_type": "markdown",
   "metadata": {},
   "source": [
    "### Create polymer structure and topology\n",
    "\n",
    "- Here we will use parmed which is. apowerful tool for creating and manipulating structures and topologies of complex molecules."
   ]
  },
  {
   "cell_type": "code",
   "execution_count": null,
   "metadata": {},
   "outputs": [],
   "source": [
    "from parmed import Structure, Atom, Bond, Angle, Dihedral\n",
    "\n",
    "s  = Structure()\n",
    "\n",
    "for i in range(natom):\n",
    "  s.add_atom(atom     =  Atom(name='A',  mass=mass), \n",
    "             resname  = \"LJ\", \n",
    "             resnum   =  i, \n",
    "             chain    = 'A')\n",
    "  \n",
    "s.positions = [(0, 0, z) for z in range(natom)]\n",
    "\n",
    "for i in range(natom-1):\n",
    "  s.bonds.append(Bond(s.atoms[i], s.atoms[i+1]))\n",
    "\n",
    "s.save('lj.pdb', overwrite=True)\n",
    "s.save('lj.psf', overwrite=True)\n",
    "\n",
    "print(s.topology)\n",
    "s.to_dataframe().head()"
   ]
  },
  {
   "attachments": {},
   "cell_type": "markdown",
   "metadata": {},
   "source": [
    "### Create openmm systema and add particles"
   ]
  },
  {
   "cell_type": "code",
   "execution_count": null,
   "metadata": {},
   "outputs": [],
   "source": [
    "# Add particles to the system\n",
    "system = mm.System()\n",
    "\n",
    "for i in range(natom):\n",
    "  system.addParticle(s.atoms[i].mass)\n",
    "\n",
    "box_vecs = box_size  *np.eye(3)\n",
    "system.setDefaultPeriodicBoxVectors(*box_vecs )"
   ]
  },
  {
   "cell_type": "code",
   "execution_count": null,
   "metadata": {},
   "outputs": [],
   "source": [
    "### Create LJ force\n",
    "E_lj  = '4*eps*((sig/r)^12-(sig/r)^6); sig=0.5*(sig1+sig2); eps=sqrt(eps1*eps2)'\n",
    "force = mm.CustomNonbondedForce(E_lj)\n",
    "force.addPerParticleParameter('sig') \n",
    "force.addPerParticleParameter('eps')\n",
    "\n",
    "# Particles are assigned properties in the same order as they appear in the System object\n",
    "for _ in range(natom): \n",
    "    force.addParticle([sig, eps])\n",
    "\n",
    "# Set force cutoff parameters\n",
    "force.setNonbondedMethod(mm.NonbondedForce.CutoffPeriodic)\n",
    "force.setCutoffDistance(3.0 * sig)       # set cutoff (truncation) distance at 3*sigma\n",
    "force.createExclusionsFromBonds([(i, i+1) for i in range(natom-1)], 1) # exlcude bonded particles from LJ\n",
    "\n",
    "### Create Harmonic force\n",
    "force2 = mm.HarmonicBondForce()\n",
    "\n",
    "for i in range(natom-1):\n",
    "  force2.addBond(i, i+1, 1.5*sig, 100) \n",
    "\n",
    "### Add a force to remove Center of Mass motion to prevent drifting of molecule\n",
    "force3 = mm.CMMotionRemover()\n",
    "\n",
    "# Added forces to system\n",
    "system.addForce(force)\n",
    "system.addForce(force2)\n",
    "system.addForce(force3)"
   ]
  },
  {
   "cell_type": "code",
   "execution_count": null,
   "metadata": {},
   "outputs": [],
   "source": [
    "print('Check if force uses PBC: ', force.usesPeriodicBoundaryConditions() )\n",
    "\n",
    "print('No particles: ', force.getNumParticles() )\n",
    "\n",
    "print('per-particle parameters for particle-0: ', force.getParticleParameters(0))\n",
    "\n",
    "print('Check Energy function: ', force.getEnergyFunction() )"
   ]
  },
  {
   "attachments": {},
   "cell_type": "markdown",
   "metadata": {},
   "source": [
    "### Create OpenMM simulation object "
   ]
  },
  {
   "cell_type": "code",
   "execution_count": null,
   "metadata": {},
   "outputs": [],
   "source": [
    "integrator =  mm.LangevinIntegrator(temperature, 1/picosecond, 2*femtoseconds) \n",
    "\n",
    "simulation = app.Simulation(s.topology, \n",
    "                            system, \n",
    "                            integrator) \n",
    "\n",
    "simulation.context.setPositions(s.positions)\n",
    "\n",
    "# - Minimize the energy\n",
    "simulation.minimizeEnergy()\n",
    "\n",
    "# - Initialize velocities with random values at 300K.\n",
    "simulation.context.setVelocitiesToTemperature(300)\n",
    "\n",
    "\n",
    "# Reporters\n",
    "simulation.reporters = []\n",
    "simulation.reporters.append(app.DCDReporter('ljtraj.dcd', 100))\n",
    "simulation.reporters.append(app.PDBReporter('ljtraj.pdb', 100))\n",
    "simulation.reporters.append(app.StateDataReporter(\"ljscalars.csv\", 10, \n",
    "                                              time=True, \n",
    "                                              potentialEnergy=True, \n",
    "                                              totalEnergy=True, \n",
    "                                              temperature=True, \n",
    "                                              volume=True))\n",
    "\n",
    "simulation.step(50000)"
   ]
  },
  {
   "cell_type": "code",
   "execution_count": null,
   "metadata": {},
   "outputs": [],
   "source": [
    "# Animation\n",
    "view = py3Dmol.view(width=800, height=800)\n",
    "\n",
    "view.addModelsAsFrames(open('ljtraj.pdb', 'r').read(),'pdb')\n",
    "view.setBackgroundColor('white')\n",
    "view.setStyle({'sphere': {'color':'green'}}) \n",
    "\n",
    "#\n",
    "view.zoomTo()\n",
    "view.animate({'loop': \"forward\"})\n",
    "view.show()"
   ]
  }
 ],
 "metadata": {
  "language_info": {
   "name": "python"
  },
  "orig_nbformat": 4
 },
 "nbformat": 4,
 "nbformat_minor": 2
}
