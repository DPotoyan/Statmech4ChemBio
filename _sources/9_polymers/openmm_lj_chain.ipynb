{
 "cells": [
  {
   "attachments": {},
   "cell_type": "markdown",
   "metadata": {},
   "source": [
    "# Simulating LJ chains using openMM"
   ]
  },
  {
   "cell_type": "code",
   "execution_count": null,
   "metadata": {},
   "outputs": [],
   "source": [
    "!pip install -q condacolab\n",
    "import condacolab\n",
    "condacolab.install()"
   ]
  },
  {
   "cell_type": "code",
   "execution_count": null,
   "metadata": {},
   "outputs": [],
   "source": [
    "%%capture\n",
    "!conda install -c conda-forge openmm mdtraj parmed\n",
    "!pip install py3dmol "
   ]
  },
  {
   "cell_type": "code",
   "execution_count": null,
   "metadata": {},
   "outputs": [],
   "source": [
    "import openmm as mm\n",
    "from   openmm import app\n",
    "from   openmm.unit import * \n",
    "\n",
    "\n",
    "import parmed\n",
    "import mdtraj as md\n",
    "import py3Dmol\n",
    "import numpy as np\n",
    "import pandas as pd\n",
    "import matplotlib.pyplot as plt"
   ]
  },
  {
   "cell_type": "code",
   "execution_count": null,
   "metadata": {},
   "outputs": [],
   "source": [
    "# Simulation parameters\n",
    "temperature = 293.15 * kelvin\n",
    "pressure = 1 * bar\n",
    "mass = 39.948 * amu\n",
    "sig = 3.419 * angstrom\n",
    "eps = 117.8 * kelvin * BOLTZMANN_CONSTANT_kB * AVOGADRO_CONSTANT_NA\n",
    "\n",
    "box_size = 150 * angstrom  \n",
    "natom    = 199\n",
    "cutoff   = 3 * sig\n",
    "     "
   ]
  },
  {
   "cell_type": "code",
   "execution_count": null,
   "metadata": {},
   "outputs": [],
   "source": [
    "s    = parmed.Structure()\n",
    "\n",
    "for i in range(natom):\n",
    "\n",
    "  s.add_atom(atom     =  parmed.Atom(name='A',  mass=mass), \n",
    "             resname  = \"LJ\", \n",
    "             resnum   =  1, \n",
    "             chain    = 'A')\n",
    "\n",
    "s.positions = np.random.uniform(0, box_size/angstrom, (natom, 3))\n",
    "s.save('lj.pdb', overwrite=True)"
   ]
  },
  {
   "cell_type": "code",
   "execution_count": null,
   "metadata": {},
   "outputs": [],
   "source": [
    "\n",
    "print(s.topology)\n",
    "s.to_dataframe().head()"
   ]
  },
  {
   "cell_type": "code",
   "execution_count": null,
   "metadata": {},
   "outputs": [],
   "source": [
    "\n",
    "system = s.createSystem(removeCMMotion=False) \n",
    "\n",
    "box_vecs = 150 * angstrom *np.eye(3)\n",
    "system.setDefaultPeriodicBoxVectors(*box_vecs )\n",
    "\n",
    "system.removeForce(0) # parmed adds some extra forces that we dont need\n",
    "\n",
    "E_lj  = '4*eps*((sig/r)^12-(sig/r)^6); sig=0.5*(sig1+sig2); eps=sqrt(eps1*eps2)'\n",
    "force = mm.CustomNonbondedForce(E_lj)\n",
    "force.addPerParticleParameter('sig') \n",
    "force.addPerParticleParameter('eps')\n",
    "\n",
    "# Particles are assigned properties in the same order as they appear in the System object\n",
    "for _ in range(natom): \n",
    "    force.addParticle([sig, eps])\n",
    "\n",
    "# Set force cutoff parameters\n",
    "force.setNonbondedMethod(mm.NonbondedForce.CutoffPeriodic)\n",
    "force.setCutoffDistance(3.0 * sig)       # set cutoff (truncation) distance at 3*sigma\n",
    "force.setUseSwitchingFunction(True)      # use a smooth switching function to avoid force discontinuities at cutoff\n",
    "force.setSwitchingDistance(2.5 * sig)    # turn on switch at 2.5*sigma\n",
    "\n",
    "# Add force to system. System will now take ownership of the NonbondedForce object\n",
    "force_index = system.addForce(force) "
   ]
  },
  {
   "cell_type": "code",
   "execution_count": null,
   "metadata": {},
   "outputs": [],
   "source": [
    "\n",
    "\n",
    "print('Check if force uses PBC: ', force.usesPeriodicBoundaryConditions() )\n",
    "\n",
    "print('No particles: ', force.getNumParticles() )\n",
    "\n",
    "print('per-particle parameters for particle-0: ', force.getParticleParameters(0))\n",
    "\n",
    "print('Check Energy function: ', force.getEnergyFunction() )"
   ]
  },
  {
   "cell_type": "code",
   "execution_count": null,
   "metadata": {},
   "outputs": [],
   "source": [
    "\n",
    "integrator =  mm.LangevinIntegrator(temperature, 1/picosecond, 2*femtoseconds) \n",
    "\n",
    "#system.addForce(mm.MonteCarloBarostat(pressure, temperature)) # NPT\n",
    "\n",
    "simulation = app.Simulation(s.topology, system, integrator) \n",
    "\n",
    "simulation.context.setPositions(s.positions)\n",
    "\n",
    "# - Minimize the energy\n",
    "simulation.minimizeEnergy()\n",
    "\n",
    "# - Initialize velocities with random values at 300K.\n",
    "simulation.context.setVelocitiesToTemperature(300)\n",
    "\n",
    "\n",
    "# Reporters\n",
    "simulation.reporters = []\n",
    "simulation.reporters.append(app.DCDReporter('ljtraj.dcd', 100))\n",
    "simulation.reporters.append(app.PDBReporter('ljtraj.pdb', 100))\n",
    "simulation.reporters.append(app.StateDataReporter(\"ljscalars.csv\", 10, \n",
    "                                              time=True, \n",
    "                                              potentialEnergy=True, \n",
    "                                              totalEnergy=True, \n",
    "                                              temperature=True, \n",
    "                                              volume=True))\n",
    "\n",
    "simulation.step(30000)"
   ]
  },
  {
   "cell_type": "code",
   "execution_count": null,
   "metadata": {},
   "outputs": [],
   "source": [
    "# Animation\n",
    "view = py3Dmol.view(width=800, height=800)\n",
    "\n",
    "view.addModelsAsFrames(open('ljtraj.pdb', 'r').read(),'pdb')\n",
    "view.setBackgroundColor('white')\n",
    "view.setStyle({'sphere': {'color':'green'}}) \n",
    "\n",
    "#\n",
    "view.zoomTo()\n",
    "view.animate({'loop': \"forward\"})\n",
    "view.show()"
   ]
  }
 ],
 "metadata": {
  "language_info": {
   "name": "python"
  },
  "orig_nbformat": 4
 },
 "nbformat": 4,
 "nbformat_minor": 2
}
