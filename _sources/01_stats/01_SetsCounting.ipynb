{
 "cells": [
  {
   "cell_type": "markdown",
   "metadata": {},
   "source": [
    "# Probability by counting"
   ]
  },
  {
   "cell_type": "code",
   "execution_count": 3,
   "metadata": {
    "slideshow": {
     "slide_type": "slide"
    }
   },
   "outputs": [],
   "source": [
    "%matplotlib inline\n",
    "\n",
    "import numpy as np    \n",
    "import scipy as sp\n",
    "\n",
    "import matplotlib.pyplot as plt\n",
    "import ipywidgets as widgets"
   ]
  },
  {
   "cell_type": "code",
   "execution_count": 4,
   "metadata": {},
   "outputs": [
    {
     "name": "stdout",
     "output_type": "stream",
     "text": [
      "Requirement already satisfied: matplotlib-venn in /usr/local/anaconda3/lib/python3.8/site-packages (0.11.6)\n",
      "Requirement already satisfied: numpy in /usr/local/anaconda3/lib/python3.8/site-packages (from matplotlib-venn) (1.19.2)\n",
      "Requirement already satisfied: scipy in /usr/local/anaconda3/lib/python3.8/site-packages (from matplotlib-venn) (1.5.2)\n",
      "Requirement already satisfied: matplotlib in /usr/local/anaconda3/lib/python3.8/site-packages (from matplotlib-venn) (3.3.2)\n",
      "Requirement already satisfied: pyparsing!=2.0.4,!=2.1.2,!=2.1.6,>=2.0.3 in /usr/local/anaconda3/lib/python3.8/site-packages (from matplotlib->matplotlib-venn) (2.4.7)\n",
      "Requirement already satisfied: python-dateutil>=2.1 in /usr/local/anaconda3/lib/python3.8/site-packages (from matplotlib->matplotlib-venn) (2.8.1)\n",
      "Requirement already satisfied: pillow>=6.2.0 in /usr/local/anaconda3/lib/python3.8/site-packages (from matplotlib->matplotlib-venn) (8.0.1)\n",
      "Requirement already satisfied: cycler>=0.10 in /usr/local/anaconda3/lib/python3.8/site-packages (from matplotlib->matplotlib-venn) (0.10.0)\n",
      "Requirement already satisfied: kiwisolver>=1.0.1 in /usr/local/anaconda3/lib/python3.8/site-packages (from matplotlib->matplotlib-venn) (1.3.0)\n",
      "Requirement already satisfied: certifi>=2020.06.20 in /usr/local/anaconda3/lib/python3.8/site-packages (from matplotlib->matplotlib-venn) (2020.6.20)\n",
      "Requirement already satisfied: six>=1.5 in /usr/local/anaconda3/lib/python3.8/site-packages (from python-dateutil>=2.1->matplotlib->matplotlib-venn) (1.15.0)\n"
     ]
    }
   ],
   "source": [
    "# For this lecture we will use venn visualization module for matplotlib. Needs to be installed separately via conda or pip\n",
    "!pip install matplotlib-venn"
   ]
  },
  {
   "cell_type": "code",
   "execution_count": 5,
   "metadata": {
    "slideshow": {
     "slide_type": "slide"
    }
   },
   "outputs": [],
   "source": [
    "import matplotlib_venn as venn"
   ]
  },
  {
   "cell_type": "markdown",
   "metadata": {
    "slideshow": {
     "slide_type": "slide"
    }
   },
   "source": [
    "### Sample space\n",
    "\n",
    "The **sample space**, often signified by an $S$ is a set of **all possible outcomes** of a trial.\n",
    "\n",
    "-  if our trial is a single roll of a six-sided die, then the sample space will be:\n",
    "\n",
    "$$S = {1, 2, 3, 4, 5, 6}$$\n",
    "\n",
    "- If our trial is choosing a coin from a bag, then the sample space might be:\n",
    "\n",
    "$$S = {quarter, dime, nickel, penny}$$"
   ]
  },
  {
   "cell_type": "markdown",
   "metadata": {
    "slideshow": {
     "slide_type": "slide"
    }
   },
   "source": [
    "### Events\n",
    "\n",
    "An **Event** specifies the outcome of a trial. Events can be the outcome of a single trial OR a set of outcomes.\n",
    "\n",
    "Events are often designated with an $E$.\n",
    "\n",
    "- If we roll a die and want to specify our event to be that we get a one (1), then our event might be defined:\n",
    "\n",
    "$$E = {1}$$\n",
    "\n",
    "- If we want to specify our event to be that we get an even number, then our event might be defined:\n",
    "\n",
    "$$E = {2, 4, 6}$$"
   ]
  },
  {
   "cell_type": "markdown",
   "metadata": {
    "slideshow": {
     "slide_type": "slide"
    }
   },
   "source": [
    "### Simple probability calculations"
   ]
  },
  {
   "cell_type": "markdown",
   "metadata": {
    "slideshow": {
     "slide_type": "slide"
    }
   },
   "source": [
    "To calculate a simple probability of an event, labeled $P(E)$, we divide the number of ways of getting the event, $n(E)$ by the number of elements in the sample space, $n(S)$.\n",
    "\n",
    "$$\n",
    "\\boxed{\\Large P(E) = \\frac{n(E)}{n(S)}}\n",
    "$$\n",
    "\n",
    "For example, if we calculate the probability of rolling a `1` on a six sided die...\n",
    "\n",
    "```\n",
    "E = {1}\n",
    "S = {1, 2, 3, 4, 5, 6}\n",
    "\n",
    "\n",
    "n(E) = 1      # number of ways to get the event\n",
    "n(S) = 6      # number of elements in the sample space\n",
    "\n",
    "P(E) = 1 / 6\n",
    "```"
   ]
  },
  {
   "cell_type": "code",
   "execution_count": 29,
   "metadata": {
    "slideshow": {
     "slide_type": "slide"
    }
   },
   "outputs": [],
   "source": [
    "def probability(S={1,2}, E={1}):\n",
    "    '''\n",
    "    Simple function to calculate probability of die rolls\n",
    "    Return the probability of an event given the event measure and the sample size measure\n",
    "    '''\n",
    "    \n",
    "    return len(E)/len(S)"
   ]
  },
  {
   "cell_type": "code",
   "execution_count": 32,
   "metadata": {},
   "outputs": [
    {
     "data": {
      "text/plain": [
       "0.1"
      ]
     },
     "execution_count": 32,
     "metadata": {},
     "output_type": "execute_result"
    }
   ],
   "source": [
    "S={1,2,3,4,5,6,7,8,9,10}\n",
    "E= {1} \n",
    "probability(S,E)"
   ]
  },
  {
   "cell_type": "code",
   "execution_count": 33,
   "metadata": {},
   "outputs": [
    {
     "data": {
      "text/plain": [
       "0.3"
      ]
     },
     "execution_count": 33,
     "metadata": {},
     "output_type": "execute_result"
    }
   ],
   "source": [
    "S={1,2,3,4,5,6,7,8,9,10}\n",
    "E= {1,4,5} \n",
    "probability(S,E)"
   ]
  },
  {
   "cell_type": "markdown",
   "metadata": {
    "slideshow": {
     "slide_type": "slide"
    }
   },
   "source": [
    "### Composite events and Venn diagrams"
   ]
  },
  {
   "cell_type": "code",
   "execution_count": 9,
   "metadata": {
    "slideshow": {
     "slide_type": "fragment"
    }
   },
   "outputs": [
    {
     "data": {
      "text/plain": [
       "<matplotlib_venn._common.VennDiagram at 0x10f80b978>"
      ]
     },
     "execution_count": 9,
     "metadata": {},
     "output_type": "execute_result"
    },
    {
     "data": {
      "image/png": "[encoded data removed]",
      "text/plain": [
       "<Figure size 432x288 with 1 Axes>"
      ]
     },
     "metadata": {
      "image/png": {
       "height": 189,
       "width": 349
      }
     },
     "output_type": "display_data"
    }
   ],
   "source": [
    "S = {-1, 0, 1, 2, 3,4,5,7, 20,90}\n",
    "\n",
    "A = {1, 2, 3,4,5}\n",
    "\n",
    "B = {0, 2, -1, 5,7}\n",
    "\n",
    "C = {20,90}\n",
    "\n",
    "D = {100}\n",
    "\n",
    "venn.venn3([A, B, C], set_labels=('A','B', 'C'))"
   ]
  },
  {
   "cell_type": "markdown",
   "metadata": {
    "slideshow": {
     "slide_type": "slide"
    }
   },
   "source": [
    "#### What are measures of events"
   ]
  },
  {
   "cell_type": "code",
   "execution_count": 10,
   "metadata": {
    "slideshow": {
     "slide_type": "fragment"
    }
   },
   "outputs": [
    {
     "name": "stdout",
     "output_type": "stream",
     "text": [
      "n(S) =  10\n",
      "n(A) =  5\n",
      "n(B) =  5\n",
      "n(C) =  2\n",
      "n(D) =  2\n"
     ]
    }
   ],
   "source": [
    "print(\"n(S) = \", len(S))\n",
    "print(\"n(A) = \", len(A))\n",
    "print(\"n(B) = \", len(B))\n",
    "print(\"n(C) = \", len(C))\n",
    "print(\"n(D) = \", len(C))"
   ]
  },
  {
   "cell_type": "markdown",
   "metadata": {
    "slideshow": {
     "slide_type": "slide"
    }
   },
   "source": [
    "#### Creating new events out of sets\n",
    "\n",
    "Note that in python the '&' is not same 'and'. 'or' is not same '|'. & means intersection and | means union_ <br>\n",
    "We apply these operators to create composite sets"
   ]
  },
  {
   "cell_type": "code",
   "execution_count": 11,
   "metadata": {
    "slideshow": {
     "slide_type": "fragment"
    }
   },
   "outputs": [
    {
     "name": "stdout",
     "output_type": "stream",
     "text": [
      "𝐴∩𝐵 =  {2, 5}\n",
      "𝐴∩C =  set()\n",
      "𝐴∩D =  set()\n",
      "𝐴∩S =  {1, 2, 3, 4, 5}\n",
      "𝐴∪B =  {0, 1, 2, 3, 4, 5, 7, -1}\n",
      "𝐴∪C =  {1, 2, 3, 4, 5, 20, 90}\n",
      "𝐴∪B∪C =  {0, 1, 2, 3, 4, 5, 7, 20, 90, -1}  = S\n",
      "𝐴-C =  {1, 2, 3, 4, 5}\n",
      "𝐴-B =  {1, 3, 4}\n"
     ]
    }
   ],
   "source": [
    "print(\"𝐴∩𝐵 = \", A&B)\n",
    "print(\"𝐴∩C = \", A&C)        # & = intersection\n",
    "print(\"𝐴∩D = \", A&D)\n",
    "print(\"𝐴∩S = \", A&S)\n",
    "print(\"𝐴∪B = \", A|B)\n",
    "print(\"𝐴∪C = \", A|C)       # | = union\n",
    "print(\"𝐴∪B∪C = \", A|B|C, \" = S\")\n",
    "print(\"𝐴-C = \", A-C)       \n",
    "print(\"𝐴-B = \", A-B)          "
   ]
  },
  {
   "cell_type": "markdown",
   "metadata": {
    "slideshow": {
     "slide_type": "slide"
    }
   },
   "source": [
    "Computing complements of sets"
   ]
  },
  {
   "cell_type": "code",
   "execution_count": 64,
   "metadata": {
    "slideshow": {
     "slide_type": "fragment"
    }
   },
   "outputs": [
    {
     "name": "stdout",
     "output_type": "stream",
     "text": [
      "A^c =  5\n",
      "B^c =  5\n",
      "(𝐴∪𝐵)^c =  2\n",
      "𝐴^c  ∩ B^c =  2\n"
     ]
    }
   ],
   "source": [
    "print(\"A^c = \", len(S-A))\n",
    "print(\"B^c = \", len(S-B))\n",
    "print(\"(𝐴∪𝐵)^c = \", len(S-(𝐴|𝐵)))\n",
    "print(\"𝐴^c ∩ B^c = \", len((S-A)&(S-B)))"
   ]
  },
  {
   "cell_type": "markdown",
   "metadata": {
    "slideshow": {
     "slide_type": "slide"
    }
   },
   "source": [
    "### Translate words into probabilities\n",
    "\n",
    "**Give a possible sample space $\\Omega$ for each of the follow experiments**\n",
    "\n",
    "- A two-sided coin is tossed. \n",
    "\n",
    "$$\\Omega = {H,T}$$\n",
    "\n",
    "- You choose the color of your new car's exterior (choices: red, black, silver, green) and interior (choices: black, beige)?\n",
    "\n",
    "$$\\Omega = {red, black, silver, green} \\times {black, beige}$$\n",
    "    \n",
    "**Define Sample space**\n",
    "\n",
    "- A fair coin is tossed 200 times in a row  \n",
    "\n",
    "$$\\Omega = {H,T}^{200}$$\n",
    "\n",
    "- You count the number of people who enter a department store on a particular Sunday \n",
    "\n",
    "$$\\Omega = {All\\,\\, numbers\\,\\, from\\,\\, 0\\,\\, to\\,\\, 6\\,\\, billion}$$ \n",
    "\n",
    "- You open up Hamlet  and pick a word at random \n",
    "\n",
    "$$\\Omega = {words\\,\\, in\\,\\,  Hamlet}$$\n",
    "    \n",
    "**Let A, B, and C be events defined on a particular sample $\\Omega$. Write expressions for the following combinations of events**\n",
    "\n",
    "- All three events occur.\n",
    "\n",
    "$$A \\cap B \\cap C$$ \n",
    "\n",
    "-  At least one of the events occurs \n",
    "\n",
    "$$A \\cup B \\cup C$$\n",
    "\n",
    "-  A and B occur, but not C\n",
    "\n",
    "$$A \\cup B \\cup C^{c}$$"
   ]
  },
  {
   "cell_type": "markdown",
   "metadata": {
    "slideshow": {
     "slide_type": "slide"
    }
   },
   "source": [
    "### Probability Axioms\n",
    "\n",
    "```{admonition} Nonnegativity\n",
    ":class: tip \n",
    " \n",
    "For every event *A*, \n",
    " \n",
    "$$P(A) \\ge 0$$\n",
    "``` \n",
    "\n",
    "```{admonition} Normalization\n",
    ":class: tip \n",
    " \n",
    "The probability of the entire sample space is equal to 1.\n",
    " \n",
    "$$P(S)=1$$\n",
    "``` \n",
    "\n",
    "```{admonition} Addition rule\n",
    ":class: tip \n",
    " \n",
    "For any sequence of **disjoint** events, $A_i \\cap A_j = \\emptyset $, the probability of their union is the sum of their individual probabilities,\n",
    " \n",
    "$$P\\left( A_1 \\cup A_2 \\cup \\ldots \\right) = P\\left(A_1\\right) + P\\left(A_2\\right) + \\ldots$$\n",
    "``` \n",
    "\n",
    "\n",
    "```{admonition} Product rule\n",
    ":class: tip \n",
    " \n",
    "For every event *A*, \n",
    " \n",
    "$$P(A,B,C)=P(A)P(B)P(C)$$\n",
    "``` \n",
    "\n",
    "```{admonition} Complement\n",
    ":class: tip \n",
    " \n",
    "Given that $A \\cap \\bar A=\\emptyset$ and $A \\cup \\bar A=S$.\n",
    " \n",
    " $$P(\\bar A)=1-P(A)$$\n",
    "``` \n",
    " \n",
    "```{admonition} Conditional probability and Bayes Theorem\n",
    ":class: tip \n",
    " \n",
    "Knoweldge of past events may change the probability of future events\n",
    " \n",
    "$$P(A,B)=P(A|B)P(B)=P(B|A)P(A)$$\n",
    "``` "
   ]
  },
  {
   "cell_type": "markdown",
   "metadata": {},
   "source": [
    "````{admonition} Example problems: \n",
    "\n",
    "```{dropdown}  Suppose event A is getting a total of T = 9 and event B is getting a total of T = 5. What is the probability of A or B?\n",
    "Clearly A and B cannot both occur the two events are mutually exclusive. There are 4 ways to get event A\n",
    "(T = 9), and 5 ways to get event B (T = 5), so that there are 4 + 5 = 9 ways to get\n",
    "either A or B, and so $P(A or B) = 9/36 = 1/4$\n",
    "```\n",
    "\n",
    "```{dropdown}  Now suppose event C is getting a total of T = 12 and event D is getting a double, where both dice are the same. What is the probability of C or D?\n",
    "There is only one way to get 12, so P(C) = 1/36. There are six ways to get a double,\n",
    "so P(D) = 6/36. However C and D are not exclusive—rolling a double six is an\n",
    "example of both. The double six is already included in the calculation of P(D). So\n",
    "P(C or D) = 6/36 + 1/36 − 1/36 = 6/36\n",
    "```\n",
    "\n",
    "````"
   ]
  },
  {
   "cell_type": "code",
   "execution_count": null,
   "metadata": {},
   "outputs": [],
   "source": []
  },
  {
   "cell_type": "markdown",
   "metadata": {
    "slideshow": {
     "slide_type": "slide"
    }
   },
   "source": [
    "### Combinatorics\n",
    "\n",
    "Sampling   | Combinatorics\n",
    "--   |   --\n",
    "**Ordered** sampling **without** replacement       |  $\\boxed{P^n_r = \\frac{n!}{(n-r)!}}$\n",
    "**Unordered** sampling **without** replacement  |  $\\boxed{P = \\frac{n!}{r!(n-r)!}}$\n",
    "**Ordered** sampling **with** replacement          | $\\boxed{P^n_r = r^n}$  |    |  \n",
    "**Unordered** sampling **with** replacement  |  $\\boxed{P = \\frac{(n+r-1)!}{r!(n-1)!}}$"
   ]
  },
  {
   "cell_type": "markdown",
   "metadata": {
    "slideshow": {
     "slide_type": "slide"
    }
   },
   "source": [
    "#### Multinomial combination.\n",
    "\n",
    "Cominatoria forumla can be readily generalized for k>2 partitions. A classic problem we will encounter is partitioning $N$ indistinguishable molecules among $n_1$ energy level, $n_2$, ... $n_k$. $\\sum n_i = N$\n",
    "\n",
    "$$\\boxed{C^N_{n_1,n_2,...n_k}=\\frac{N!}{n_1! \\cdot n_2! \\cdot ... n_k!} }$$"
   ]
  },
  {
   "cell_type": "markdown",
   "metadata": {
    "slideshow": {
     "slide_type": "slide"
    }
   },
   "source": [
    "````{admonition} Example problems: \n",
    "\n",
    "Consider a container filled with 100 atoms of Ar.\n",
    "\n",
    "```{dropdown} What is a probability that left half has 40 atoms?\n",
    "$n(A) = \\frac{1000!}{400! \\cdot 600 !}$\n",
    "```\n",
    "\n",
    "```{dropdown} What is a probability that left half has 50 atoms?\n",
    "$n(B) = \\frac{1000!}{500! \\cdot 500 !}$\n",
    "```\n",
    "\n",
    "```{dropdown} What is a probability that 1/3 has 10 next 1/3 has 20 and next 1/3 has 70?\n",
    " $n(C) = \\frac{1000!}{100!\\cdot 200! \\cdot 700!}$\n",
    "```\n",
    "\n",
    "```{dropdown} What is the total number of all possible partitionings or staets of gas atoms in container?\n",
    "$n(S) = \\sum^{n=N}_{n=0}\\frac{N!}{n!\\cdot (N-n)!} = 2^N$ \n",
    "Each N lattice site in the container can be either vacant or filled hene $2^N$ states. \n",
    "```\n",
    "\n",
    "````"
   ]
  },
  {
   "cell_type": "code",
   "execution_count": 3,
   "metadata": {
    "slideshow": {
     "slide_type": "slide"
    }
   },
   "outputs": [
    {
     "name": "stdout",
     "output_type": "stream",
     "text": [
      "0.07958923738717874\n",
      "0.04847429662643074\n"
     ]
    }
   ],
   "source": [
    "from scipy.special import factorial\n",
    "\n",
    "def gas_partition(k1=50, k2=50, k3=0, N=100):\n",
    "\n",
    "    return factorial(N) / (2**N * factorial(k1) * factorial(k2)** factorial(k3))\n",
    "\n",
    "print(gas_partition(50,50))\n",
    "print(gas_partition(55,45))"
   ]
  },
  {
   "cell_type": "markdown",
   "metadata": {
    "slideshow": {
     "slide_type": "slide"
    }
   },
   "source": [
    "````{admonition} Example  \n",
    "Solids metal has 100 atoms. Magnetic measurments shows that there are 10 atoms with spin down. \n",
    "\n",
    "```{dropdown} If ten atoms are chosen at random, what is the probability that they all have spin up? \n",
    "$$n(S) = \\frac{100!}{10!(90)!}$$\n",
    "\n",
    "$$n(up) = \\frac{90!}{10!(80)!}$$\n",
    "\n",
    "$$p(up) =\\frac{n(up)}{n(S)}$$\n",
    "```\n",
    "\n",
    "````"
   ]
  },
  {
   "cell_type": "code",
   "execution_count": 20,
   "metadata": {
    "slideshow": {
     "slide_type": "slide"
    }
   },
   "outputs": [
    {
     "name": "stdout",
     "output_type": "stream",
     "text": [
      "0.33047621108672515\n"
     ]
    }
   ],
   "source": [
    "n_S = factorial(100) / (factorial(10) * factorial(90))\n",
    "\n",
    "n_up = factorial(90) / (factorial(10) * factorial(80))\n",
    "\n",
    "print(n_up/n_S)"
   ]
  },
  {
   "cell_type": "code",
   "execution_count": 21,
   "metadata": {
    "slideshow": {
     "slide_type": "slide"
    }
   },
   "outputs": [
    {
     "name": "stdout",
     "output_type": "stream",
     "text": [
      "('A', 'B')\n",
      "('A', 'C')\n",
      "('A', 'D')\n",
      "('B', 'A')\n",
      "('B', 'C')\n",
      "('B', 'D')\n",
      "('C', 'A')\n",
      "('C', 'B')\n",
      "('C', 'D')\n",
      "('D', 'A')\n",
      "('D', 'B')\n",
      "('D', 'C')\n"
     ]
    }
   ],
   "source": [
    "from itertools import permutations\n",
    "\n",
    "for p in permutations('ABCD', 2):\n",
    "    print(p) # print(\"\".join(p))"
   ]
  },
  {
   "cell_type": "code",
   "execution_count": 22,
   "metadata": {
    "slideshow": {
     "slide_type": "slide"
    }
   },
   "outputs": [
    {
     "name": "stdout",
     "output_type": "stream",
     "text": [
      "('A', 'B')\n",
      "('A', 'C')\n",
      "('A', 'D')\n",
      "('B', 'C')\n",
      "('B', 'D')\n",
      "('C', 'D')\n"
     ]
    }
   ],
   "source": [
    "from itertools import combinations\n",
    "\n",
    "for p in combinations('ABCD', 2):\n",
    "    print(p)"
   ]
  },
  {
   "cell_type": "code",
   "execution_count": 23,
   "metadata": {
    "slideshow": {
     "slide_type": "slide"
    }
   },
   "outputs": [
    {
     "name": "stdout",
     "output_type": "stream",
     "text": [
      "('A', 'A')\n",
      "('A', 'B')\n",
      "('A', 'C')\n",
      "('A', 'D')\n",
      "('B', 'B')\n",
      "('B', 'C')\n",
      "('B', 'D')\n",
      "('C', 'C')\n",
      "('C', 'D')\n",
      "('D', 'D')\n"
     ]
    }
   ],
   "source": [
    "from itertools import combinations_with_replacement\n",
    "\n",
    "for p in combinations_with_replacement('ABCD', 2):\n",
    "    print(p)"
   ]
  },
  {
   "cell_type": "markdown",
   "metadata": {},
   "source": [
    "### Dealinig with large numbers: Striling approximation "
   ]
  },
  {
   "cell_type": "markdown",
   "metadata": {
    "slideshow": {
     "slide_type": "slide"
    }
   },
   "source": [
    "#### Stirling's approximation \n",
    "\n",
    "A crude approximation that works out for $N\\gg 1$\n",
    "\n",
    "- $${logN! \\approx NlogN -N}$$\n",
    "\n",
    "- $${N! \\approx N^N e^{-N}}$$\n",
    "\n",
    "A quick derivation\n",
    "\n",
    "$$logN! \\approx \\sum log N_i = \\int log N dN$$\n",
    "\n",
    "$$logN! \\approx NlogN-N$$\n"
   ]
  },
  {
   "cell_type": "markdown",
   "metadata": {
    "slideshow": {
     "slide_type": "slide"
    }
   },
   "source": [
    "#### Applying Stirling's approx to Binomial \n",
    "\n",
    "$$r+r' = N$$\n",
    "\n",
    "$$\\frac{N!}{r! \\cdot r'!} \\approx \\frac{N^N e^{-N}}{r^{r} e^{-r}\\cdot r'^{r'} e^{-r'}} =\\frac{N^N }{r^{r} \\cdot r'^{r'} }$$\n",
    "\n",
    "$$log\\frac{N!}{r! \\cdot r'!} \\approx NlogN -rlogr - r'log r'$$\n",
    "\n",
    "$${log\\frac{N!}{r! \\cdot r'!} \\approx  N \\Big[ -x log x - x' log x' \\Big]}$$\n",
    "\n",
    "> The expression $S = \\Big[ -x log x - x' log x' \\Big]$ is significant. We are going to associate it with entropy further down the road."
   ]
  },
  {
   "cell_type": "markdown",
   "metadata": {
    "slideshow": {
     "slide_type": "slide"
    }
   },
   "source": [
    "#### Gamma function: generalizing the factorial\n",
    "\n",
    "$$\\Gamma (n) = \\int x^{n-1} e^{-x}dx$$"
   ]
  },
  {
   "cell_type": "markdown",
   "metadata": {},
   "source": [
    "### Exercises"
   ]
  },
  {
   "cell_type": "markdown",
   "metadata": {},
   "source": [
    "```{admonition} Exercise\n",
    "Consider an experiment with N equally likely outcomes, involving two events A and B. \n",
    "Let $N_1$ be the number of events in which A occurs but not B\n",
    "Let $N_2$ be the number of events in which B occurs but not A\n",
    "Let $N_3$ be the number of events in which both A and B occur\n",
    "Let $N_4$ be the number of events in which Neither A nor B ocurs\n",
    "\n",
    "1. Check that $\\sum^{4}_{i=1} N_i=1$\n",
    "\n",
    "2. What would be the expressions of $P(A)$ and $P(B)$ in terms of $N_i$?\n",
    "\n",
    "3. What would be the expression of $P(A+B)$ in terms of $N_i$?\n",
    "\n",
    "4. What would be the expression of $P(A|B)$ and $P(A|B)$ in terms of $N_i$?\n",
    "\n",
    "5. Show that $P(A+B) = P(A) +cP(B) - P(AB)$ and $P(AB) = P(B)P(A|B) = P(A)P(B|A)$\n",
    "\n",
    "```\n",
    "\n",
    "---"
   ]
  },
  {
   "cell_type": "markdown",
   "metadata": {},
   "source": [
    "```{admonition} Exercsie\n",
    "- What is a probability of obtaining number=6 three times in a row when rolling three independent die at once? What about rolling same dice three times?\n",
    "\n",
    "- What is a probability of obtaining a combined sum of 6 when rolling three die?\n",
    "\n",
    "- On average, how many times ($\\langle n \\rangle$ ) must a 6-sided die be rolled until a 6 turns up? (Hint: we must compute average using n roles out of which n-1 did not turn out 6. \\langle n \\rangle = \\sum^{\\infty}_n P(n) n)\n",
    "\n",
    "```\n",
    "---"
   ]
  },
  {
   "cell_type": "markdown",
   "metadata": {},
   "source": [
    "```{admonition} Exercsie\n",
    "A test for cancer is known to be 90% accurate either in detecting cancer if present\n",
    "or in giving an all-clear if cancer is absent. The prevalence of cancer in the population\n",
    "is 1%. How worried should you be if you test positive? Try answering this question\n",
    "with and without Bayes’ theorem.\n",
    "```\n",
    "---"
   ]
  },
  {
   "cell_type": "markdown",
   "metadata": {},
   "source": [
    "```{admonition} Exercsie\n",
    "A sock is selected at random and removed from a drawer containing five brown\n",
    "socks and three green socks. A second random sock is then removed. What is the\n",
    "probability that two different colours are selected?\n",
    "```\n",
    "---"
   ]
  },
  {
   "cell_type": "markdown",
   "metadata": {},
   "source": [
    "```{admonition} Exercsie\n",
    "A game show host shows you three doors, and tells you that behind two of them\n",
    "is a cuddly toy, and behind one of them is a car. You pick a door. The host opens one\n",
    "of the other doors, revealing a cuddly toy, and asks whether you want to switch your\n",
    "choice to the other unopened door. Does switching improve your chance of winning\n",
    "the car? (Hint: consider all the possible permutations of what is behind each door.)\n",
    "```\n",
    "---"
   ]
  },
  {
   "cell_type": "markdown",
   "metadata": {},
   "source": [
    "### Problems"
   ]
  },
  {
   "cell_type": "markdown",
   "metadata": {},
   "source": [
    " #### Problem-1: Smart gambler.\n",
    " \n",
    " You flip a coin 10 times and record the data in the form\n",
    "of head/tails or 1s and 0s\n",
    "-  What would be the probability of ladning 4 H's?\n",
    "-  What would be the probability of landing HHHTTTHHHT sequence?\n",
    "-  In how many ways can we have 2 head and 8 tails in this experiments?\n",
    "-  Okay, now you got tired of flipping coins and decide to play some dice. You throw die\n",
    "10 times what is the probability of never landing number 6?\n",
    "- You throw a die 3 times what is the probability of obtaining a combined sum of 7?"
   ]
  },
  {
   "cell_type": "markdown",
   "metadata": {},
   "source": [
    "#### Problem-2: Practicing counting. Gas molecules. \n",
    "\n",
    "$$C^{N}_{k}$$\n",
    "\n",
    "A container of volume $V$ contains $N$ molecules of a gas. We assume that the gas is dilute so that the position of any one molecule is independent of all other molecules. Although the density will be uniform on the average, there are fluctuations in the density. Divide the volume $V$ into two parts $V_1$ and $V_2$, where $V = V_1 + V_2$. \n",
    "- What is the probability p that a particular molecule is in each part? \n",
    "- What is the probability that $N_1$ molecules are in $V_1$ and $N_2$ molecules are in $V_2$? \n",
    "- What is the average number of molecules in each part? \n",
    "- What are the relative fluctuations of the number of particles in each part?"
   ]
  },
  {
   "cell_type": "markdown",
   "metadata": {},
   "source": [
    "#### Problem-3: DNA synthesis. \n",
    "\n",
    "Suppose that upon synthesizing a molecule of DNA, you introduce a wrong base pair, on average, every 1000 base pairs. Suppose you synthesize a DNA molecule that is 1000 bases long.\n",
    "- Calculate and draw a bar graph indicating the yield (probability) of each product DNA, containing 0, 1, 2, and 3 mutations (wrong base pairs).\n",
    "- Calculate how many combinations of DNA sequ- ences of 1000 base pairs contain exactly 2 mutant base pairs.\n",
    "-  What is the probability of having specifically the 500th base pair and the 888th base pair mutated in the pool of DNA that has only two mutations?\n",
    "- What is the probability of having two mutations side-by-side in the pool of DNA that has only two mutations?"
   ]
  },
  {
   "cell_type": "markdown",
   "metadata": {},
   "source": [
    "#### Problem-4: Stirling, factorial, Gamma and divergent series. \"Approximate don't hesitate.\" \n",
    "\n",
    "\n",
    "There are several version of Stirling's formula approximating facorial ranging from: <br> pretty good $logn! \\approx nlogn-n+\\frac{1}{2}log(2\\pi N)$ <br> to  \"OMG can't believe this works\" $logn! \\approx nlogn-n$. <br> \n",
    "\n",
    "Here we will numiercally evaluate how good these apprixmations are for different values of n. <br>\n",
    "\n",
    "\n",
    "- On the same graph plot (i) $logn!$ vs n, (ii) two stirling approximations of $logn!$ vs n and (iii) Continous $\\Gamma(n)$ function vs n. \n",
    "- Do another plot where you plot the ration of stirling's approximations for $logn!$ to exact $logn!$ as a function of n\n",
    "\n",
    "> Compute factorials of n using [scipy.special.factorial(n)](https://docs.scipy.org/doc/scipy/reference/generated/scipy.special.factorial.html)\n",
    "\n",
    "> Compute Gamma function of n using [scipy.special.gamma]()\n",
    "\n",
    "> You can import these via ```from scipy.special import factorial, gamma``` and simply use shorthand factorial(n) and gamma(n). \n",
    "\n",
    "> Read more about Striling approximations [here](https://en.wikipedia.org/wiki/Stirling%27s_approximation) and also [here](https://www.youtube.com/watch?v=rHVlS9i80x8)\n",
    "\n",
    "> Read apendix \"A.8 Stirling’s formula\""
   ]
  },
  {
   "cell_type": "markdown",
   "metadata": {},
   "source": [
    "#### Problem-5: Binomial, Gaussian and Poisson: The 3 distributions to know before heading to Las Vegas.\n",
    "\n",
    "- Solve \"Problem 3.74 and 3.78\" from the book showing the connection of Binomial with Gaussian. Type your analytical solution in LaTex in a markdown cell with comments. \n",
    "\n",
    "- In the limit $N\\rightarrow \\infty$ but for very small values of $p \\rightarrow 0$ such that $\\lambda =pN=const$ there is another distribution that better approximates Binomial distribution: $p(x)=\\frac{\\lambda^k}{k!}e^{-\\lambda} $ It is known as Poisson distribution. <br>\n",
    "Poisson distribution is an excellent approximation for probabilities of rare events. Such as, infrequently firing neurons in the brain, radioactive decay events of Plutonium or rains in the desert. <br>  Derive Poisson distribution by taking the limit of $p\\rightarrow 0$ in binomial distribution.\n",
    "\n",
    "- Using numpy and matplotlib plot binomial probability distribution\n",
    "against Gaussian and Poisson distributions for different values of N=(10,100,1000,10000). <br>\n",
    "Do four plots for the following values \n",
    "p=0.0001, 0.001, 0.01, 0.1. You can use  subplot functionality to make a pretty 4 column plot.  \n",
    "\n",
    "```python\n",
    "fig, ax =  plt.subplots(nrows=1, ncols=4)\n",
    "\n",
    "ax[0].plt()\n",
    "ax[1].plt()\n",
    "ax[2].plt()\n",
    "ax[3].plt()\n",
    "```\n"
   ]
  },
  {
   "cell_type": "markdown",
   "metadata": {},
   "source": [
    "#### Optional Project: [Porosity of materials](https://en.wikipedia.org/wiki/Porosity) \n",
    "\n",
    "A simple model of a porous rock can be imagined by placing a series of overlap- ping spheres at random into a container of fixed volume $V$ . The spheres represent the rock and the space between the spheres represents the pores. If we write the volume of the sphere as v, it can be shown the fraction of the space between the spheres or the porosity $\\phi$ is $\\phi =e^{-Nv/V}$, where $N$ is the number of spheres. \n",
    "\n",
    "For simplicity, consider a 2D system, (e.g $v=\\frac{1}{4}\\pi d^2$, see [wiki](https://en.wikipedia.org/wiki/Area_of_a_circle) if you forgot the formula). \n",
    "Write a python function which place disks of $d=1$ into a square box. The disks can overlap. Divide the box into square cells each of which has an edge length equal to the diameter of the disks. Find the probability of having 0, 1, 2, or 3 disks in a cell for $\\phi$ = 0.03, 0.1, and 0.5.\n",
    "\n",
    "> You will need [np.random.uniform()](https://docs.scipy.org/doc/numpy-1.14.0/reference/generated/numpy.random.uniform.html) to randomly place N disks of volume v into volume V. \n",
    "> \n",
    "> Check out this cool python lib for porosity evaluation of materials [R Shkarin, et al Plos Comp Bio 2019](https://journals.plos.org/plosone/article/file?id=10.1371/journal.pone.0215137&type=printable)"
   ]
  }
 ],
 "metadata": {
  "kernelspec": {
   "display_name": "Python 3",
   "language": "python",
   "name": "python3"
  },
  "language_info": {
   "codemirror_mode": {
    "name": "ipython",
    "version": 3
   },
   "file_extension": ".py",
   "mimetype": "text/x-python",
   "name": "python",
   "nbconvert_exporter": "python",
   "pygments_lexer": "ipython3",
   "version": "3.8.5"
  },
  "latex_envs": {
   "LaTeX_envs_menu_present": true,
   "autoclose": false,
   "autocomplete": true,
   "bibliofile": "biblio.bib",
   "cite_by": "apalike",
   "current_citInitial": 1,
   "eqLabelWithNumbers": true,
   "eqNumInitial": 1,
   "hotkeys": {
    "equation": "Ctrl-E",
    "itemize": "Ctrl-I"
   },
   "labels_anchors": false,
   "latex_user_defs": false,
   "report_style_numbering": false,
   "user_envs_cfg": false
  },
  "livereveal": {
   "theme": "sky"
  },
  "toc": {
   "base_numbering": 1,
   "nav_menu": {},
   "number_sections": true,
   "sideBar": true,
   "skip_h1_title": false,
   "title_cell": "Table of Contents",
   "title_sidebar": "Contents",
   "toc_cell": true,
   "toc_position": {},
   "toc_section_display": true,
   "toc_window_display": false
  }
 },
 "nbformat": 4,
 "nbformat_minor": 4
}
