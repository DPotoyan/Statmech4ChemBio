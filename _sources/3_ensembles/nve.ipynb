{
 "cells": [
  {
   "cell_type": "markdown",
   "metadata": {},
   "source": [
    "# Ensemble equivalence"
   ]
  },
  {
   "attachments": {},
   "cell_type": "markdown",
   "metadata": {
    "slideshow": {
     "slide_type": "fragment"
    }
   },
   "source": [
    ":::{admonition} What you need to know\n",
    "\n",
    "- Understand that the essence of equilirbium statistical mechanics is connecting thermodynamics operating at macroscopic scales with the microscopic states of atoms and molecules. \n",
    "- The macro-to-micro connection is established using probability arguments with **Entropy** playing the central role (Boltzmann equation)\n",
    "From the thermodynamics point of view, an isolated system with N particles, fixed volume, and Energy is a single macrostate. \n",
    "Such a system, however, would consist of a vast number of microstates. The number can be quantified for some simple systems analytically but is generally intractable even using computers! \n",
    "- In StatMech we replace the dynamics of N particle system with an ensemble of all possible microstates that the system can be consistent with a macrostate (NVE).\n",
    "- Ensemble essentially gives us a probability distribution over microstates, which allows the calculation of Entropy.\n",
    "- Through entropy, all kinds of substance-specific thermodynamic quantities can be computed from the first principles. \n",
    "- E.g., heat capacities, magnetic susceptibilities, free energy differences. These quantities serve as an input for thermodynamics because thermodynamics does not refer to the microscopic world.  \n",
    "- Thermodynamics while agnostic to atomic details is an exact theory. Predictions of statistical mechanics must obey the rules of thermodynamics.\n",
    ":::"
   ]
  },
  {
   "cell_type": "markdown",
   "metadata": {},
   "source": [
    "![](./figs/ensembl.png)"
   ]
  },
  {
   "cell_type": "markdown",
   "metadata": {},
   "source": [
    "### Boltzmann's equation: \"A bridge\" between microscopic dynamics and macroscopic thermodynamics"
   ]
  },
  {
   "attachments": {},
   "cell_type": "markdown",
   "metadata": {},
   "source": [
    "- Consider an isolated fluid system with $N=const$, $V=const$ and $E=const$ which we will refer to as NVE system. What should be the probabilities of configurations observed in the system?\n",
    "- It is clear that in the absence of any physical constraints, no states should have higher probabilities than others. This is known as \"principle of equal a priory probability\" \n",
    "\n",
    ":::{admonition} **A priori equal probability**\n",
    "\n",
    "\n",
    "- **Probability of a microstate**\n",
    "\n",
    "$$p(E) = \\frac{1}{\\Omega(N, V, E)}$$\n",
    "\n",
    ":::\n",
    "\n",
    "\n",
    ":::{admonition} **Boltzmann equation**\n",
    "\n",
    "$$S = k_B log \\Omega$$\n",
    "\n",
    "- $\\Omega$ is the number of micro-states **consistent with a macrostate of our system**. \n",
    "- $S(N, V, E)$ is the entropy of an isolated system (we are in the NVE). \n",
    "- $k_B =1.380649\\cdot 10^{-23} J/K$,  Boltzmann's constant \n",
    "\n",
    ":::\n"
   ]
  },
  {
   "attachments": {},
   "cell_type": "markdown",
   "metadata": {},
   "source": [
    "### Computing number of microstates $\\Omega$ using quantum mechanics "
   ]
  },
  {
   "attachments": {},
   "cell_type": "markdown",
   "metadata": {
    "slideshow": {
     "slide_type": "fragment"
    }
   },
   "source": [
    "#### A collection of up/down spins\n",
    "\n",
    "- Consider a single spin atom under an external magnetic field $B$. The system can be in two states with energy $\\epsilon = −m_z B$ where $m_z=\\pm \\mu$ is the spin magnetic number and $\\mu$ magnetic moment of the spin. Generalizing to N spins is straightforward\n",
    "- $N= N_{\\uparrow} + N_{\\downarrow}$ **total number of spins**\n",
    "- $M =  N_{\\uparrow} - N_{\\downarrow}$ **overall magnetization**\n",
    "- $m = M/n$ **magnetization per spin** ranging from -1 to +1.\n",
    "- The energy is sum of independent spin energies $E = \\sum^N_i  \\epsilon_i = -N_{\\uparrow}\\mu B + N_{\\downarrow}\\mu B = -\\mu B (N_{\\uparrow} - N_{\\downarrow}) = -\\mu M B$.  \n",
    "- To find number of microstates for a given $E$ we need to find a number of ways to partition $N_{\\uparrow}$ and $N_{\\downarrow}$ spins. \n",
    "\n",
    "$$\\Omega(N, N_{\\uparrow}) = \\frac{N!}{N_{\\uparrow}! N_{\\downarrow}!}  = \\frac{N!}{[1/2(N+M)!] [1/2(N-M)!]}$$"
   ]
  },
  {
   "attachments": {},
   "cell_type": "markdown",
   "metadata": {
    "slideshow": {
     "slide_type": "fragment"
    }
   },
   "source": [
    "$$\\boxed{\\Omega (E,N)= \\frac{N!}{\\Big[\\frac{1}{2}(N-E/B\\mu)\\Big]! \\Big[\\frac{1}{2}(N+E/B\\mu)\\Big]!}}$$"
   ]
  },
  {
   "cell_type": "markdown",
   "metadata": {},
   "source": [
    "$$S = Nk_B \\Big[log 2 - \\frac{1}{2}log(1-m^2)-\\frac{m}{2} log \\frac{1+m}{1-m} \\Big]$$"
   ]
  },
  {
   "cell_type": "markdown",
   "metadata": {},
   "source": [
    " -  Find temperature dependence by using $\\frac{1}{T} = \\frac{\\partial S}{\\partial E}|_N$\n",
    "\n",
    "$$U = -\\mu N B tanh \\Big(\\frac{\\mu B}{k_B T} \\Big)$$\n",
    "\n",
    "- magnetization per spin $m=-U/\\mu NB$ is given by:\n",
    "\n",
    "$$m = tanh \\Big(\\frac{\\mu B}{k_B T} \\Big)$$"
   ]
  },
  {
   "cell_type": "markdown",
   "metadata": {
    "slideshow": {
     "slide_type": "slide"
    }
   },
   "source": [
    "### Monoatomic ideal gas"
   ]
  },
  {
   "cell_type": "markdown",
   "metadata": {},
   "source": [
    "**Quantum density of states of an ideal gas**\n",
    "\n",
    "![](./figs/pib-states.png)\n",
    "\n",
    "$$E({\\bf n}) = \\frac{h^2}{8mL^2} {\\bf n^2}$$\n",
    "\n",
    "$$\\Omega(N,V, E) = \\int_{E(n)=E} dn = \\frac{C_{3N-1}}{2^{3N}} \\int \\delta \\Big(\\frac{(8mE)^{1/2}L}{h}-{\\bf n}  \\Big) d {\\bf n}$$\n",
    "\n",
    "- A sum over all total quantum number of N 3D particles in a box ends up being a problem of finding the volume of an N-dimensional sphere"
   ]
  },
  {
   "cell_type": "markdown",
   "metadata": {
    "slideshow": {
     "slide_type": "fragment"
    }
   },
   "source": [
    "**Classical density of states of an ideal gas**\n",
    "\n",
    "$$H(p,q) =\\frac{p^2}{2m} = E$$\n",
    "\n",
    "$${\\Omega(E) = \\frac{1}{N! h^{3N}}\\int_{p^N,q^N} dp^N dq^N \\delta(H(p,q) -E) =\\frac{V^N}{N! h^{3N}} \\int dp^N \\delta(p^2/2m -E)}$$\n",
    "\n",
    "$$ \\Omega(E) = \\frac{V^N}{N! h^{3N}} \\delta V(R)$$\n",
    "\n",
    "Where $\\delta V(R)$ is a volume of a spherical shell with radius $R = (2mE)^{1/2}$ and thickness $\\delta R = 1/2 (2m/E)^{1/2} \\delta E$"
   ]
  },
  {
   "cell_type": "markdown",
   "metadata": {
    "slideshow": {
     "slide_type": "slide"
    }
   },
   "source": [
    "**Volume of a sphere in N dimesnional space**\n",
    "\n",
    "$$V(R) = \\frac{\\pi^{D/2}}{(D/2)!} R^D$$\n",
    "\n",
    "For $D\\rightarrow \\infty$ we discover that most of the volume of the sphere is concentrated at its surface!\n",
    "<br>\n",
    "\n",
    "$$\\delta V(R) = V(R) -V(R-\\delta R) = C [R^D - (R-\\delta R)^D] = CR^D [1-(1- (\\delta R/R)^D)] = CR^D = V(R)$$\n"
   ]
  },
  {
   "cell_type": "markdown",
   "metadata": {
    "slideshow": {
     "slide_type": "slide"
    }
   },
   "source": [
    "### Classical density of states of an ideal gas\n",
    "\n",
    "$$\\boxed{\\Omega(E) = \\frac{V^N}{h^{3N} N!} \\cdot \\frac{(2m\\pi E)^{3N/2}}{(3N/2)!}}$$\n",
    " \n",
    "$$\\boxed{ S = log \\Omega(E) = k_B N \\cdot  \\Big [ log \\Big(\\frac{V}{N \\lambda^3}\\Big) + \\frac{5}{2}\\Big]}$$\n",
    "\n",
    "- Note linear dependence on N. Entropy is an extensive quantity!\n",
    "\n",
    "- exponent 3/2 reflexts that each particle has 3 degrees of freedom\n",
    "\n",
    "- $\\lambda = \\Big(\\frac{3h^2 N}{4\\pi m E}\\Big)^{1/2}$ thermal de Broglie wavelength.\n",
    "\n",
    "- This result know as \"Sackur Tetrode equation\" was known long before statistical mechanics. "
   ]
  },
  {
   "attachments": {},
   "cell_type": "markdown",
   "metadata": {
    "slideshow": {
     "slide_type": "slide"
    }
   },
   "source": [
    "### Thermal, Mechanical and chemical equilibrium\n",
    "\n",
    "- The number of microstate for a system consisting of two parts can be written as a sum of all posisble energy partitionings among the two states. \n",
    "\n",
    "$$\\Omega(E) = \\sum_{E_1} \\Omega_1(E_1) \\Omega_2 (E-E_1) \\approx \\Omega_1(U_1) \\Omega_2 (E-U_1)$$\n",
    "\n",
    "- Since $\\Omega(E)$ is a sharply increasing function of energy we expect the maximum term for some energy $E_1=U_1$  to dominate the sum. Let us find what state this maximum value should correspond to?\n",
    "\n",
    "$$\\frac{\\partial log \\Omega (E_1)}{\\partial E_1} \\Big |_{E_1=U_1}= \\frac{\\partial log\\Omega_1(E_1)}{\\partial E_1} - \\frac{\\partial log\\Omega(E_2)}{\\partial E_2}=0$$\n",
    "\n",
    "\n",
    "#### Example: thermal contact between two ideal gases\n",
    "\n",
    "Recall that for ideal gas we have $\\Omega(E) = C V^N E^{3/2 N}$.  Therefore for an ideal gas we will have:\n",
    "\n",
    "$$\\frac{\\partial log \\Omega (E_1)}{\\partial E_1} \\Big |_{E_1=U_1}= \\frac{3}{2}\\frac{N_1}{U_1} - \\frac{3}{2}\\frac{N_2}{U_2} = 0$$\n",
    "\n",
    "Using definition of entropy we get the most probable value of energy $(U_1)$ corresponding to the equilibirum state \n",
    "\n",
    "$$\\frac{1}{k_B T} = \\frac{3}{2}\\frac{N_1}{U_1} = \\frac{3}{2}\\frac{N_2}{U_2}$$"
   ]
  },
  {
   "cell_type": "markdown",
   "metadata": {
    "slideshow": {
     "slide_type": "slide"
    }
   },
   "source": [
    "#### Equations of state for ideal gas\n",
    "\n",
    "$$\\frac{1}{T} = \\frac{\\partial S}{\\partial E} = \\frac{3}{2}k_B \\frac{N}{E}$$\n",
    "\n",
    "<br>\n",
    "\n",
    "$$\\frac{p}{T} =  \\frac{\\partial S}{\\partial V} = k_B N \\frac{1}{V}$$\n",
    "\n",
    "<br>\n",
    "\n",
    "$$\\frac{\\mu}{T} = -\\frac{\\partial S}{\\partial N} = k_B T \\cdot log \\frac{N}{V} \\lambda^3$$\n",
    "\n",
    "\n",
    "### Quasistatic process and Irreversibility\n",
    "\n",
    "- From the NVE ensemble reasoning, we can now state that a quasistatic process corresponds to a process that does not change in the number of microstates. That is removal of a constraint keeps the \"volume\" of microstates intact.  \n",
    "\n",
    "$$\\Delta S = k_B log \\frac{\\Omega_f}{\\Omega_i} = 0$$\n",
    "\n",
    "- On the other hand, once the number of microstates grows upon removal of a constraint, then re-instating the constraint will not shrink the \"volume\" of microstate space. \n",
    "\n",
    "$$\\Delta S = k_B log \\frac{\\Omega_f}{\\Omega_i} > 0$$"
   ]
  },
  {
   "cell_type": "markdown",
   "metadata": {},
   "source": [
    "### Problems"
   ]
  },
  {
   "cell_type": "markdown",
   "metadata": {},
   "source": [
    "### Shottky defects\n",
    "\n",
    "Schotky defects are vacancies in a lattice of atoms. Creating a single vacancy costs an energy $\\epsilon$.  Consider a lattice with $N$ atoms and $n$ vacacnies. In this model the total energy is solely a function of defects: $E=n\\epsilon$\n",
    "\n",
    "- Write down number of states and compute the entropy via Boltzmann formula. Plot number of states as a function of energy. You can use log of number of states for plotting. \n",
    "\n",
    "- Compute how the temperature would affect the fraction of vacancies on the lattice. Plot fraction of vacancies as a function of temperature. \n",
    "\n",
    "- How would the total energy depend on temperature $T$. Derive expression for the high temeprature limit ($\\frac{\\epsilon}{k_b T} \\gg 1$). \n",
    "  \n",
    "- Plot total energy as a function of temperature E(T)"
   ]
  },
  {
   "cell_type": "markdown",
   "metadata": {},
   "source": [
    "#### Lattice gas\n",
    "\n",
    "Consider a lattice gas of N particles distributed among V cells (with $N\\geq V$). Suppose that each cell may be either empty or occupied by a single particle. The number of microscopic states of this syste will be given by:\n",
    "\n",
    "$$\\Omega (N, V) = \\frac{V!}{N! (V-N)!}$$\n",
    "\n",
    "- Obtain an expression for the entropy per particle $s(v)=\\frac{1}{N} \\cdot S(N,V)$ where $v=\\frac{V}{N}$. \n",
    "- From this simple fundamental equation, obtain an expression of equation of state $p/T$. \n",
    "- - Write an expansion of $p/T$ in terms of density $1/v$. Show that the first term gives Boyle law of ideal gases. \n",
    "- Sketch a graph of $\\mu/T$, where $\\mu(\\rho)$ is a chemical potential as a function of density. Comment on $\\rho\\rightarrow 0$ and $\\rho\\rightarrow 1$ limits.\n"
   ]
  },
  {
   "cell_type": "markdown",
   "metadata": {},
   "source": [
    "### Polymer Elasticity\n",
    "\n",
    "> Solve the problem 2.7  from the book."
   ]
  }
 ],
 "metadata": {
  "kernelspec": {
   "display_name": "Python 3 (ipykernel)",
   "language": "python",
   "name": "python3"
  },
  "language_info": {
   "codemirror_mode": {
    "name": "ipython",
    "version": 3
   },
   "file_extension": ".py",
   "mimetype": "text/x-python",
   "name": "python",
   "nbconvert_exporter": "python",
   "pygments_lexer": "ipython3",
   "version": "3.9.16"
  },
  "livereveal": {
   "theme": "sky"
  },
  "nteract": {
   "version": "0.28.0"
  },
  "toc": {
   "base_numbering": 1,
   "nav_menu": {},
   "number_sections": true,
   "sideBar": true,
   "skip_h1_title": false,
   "title_cell": "Table of Contents",
   "title_sidebar": "Contents",
   "toc_cell": false,
   "toc_position": {},
   "toc_section_display": true,
   "toc_window_display": false
  }
 },
 "nbformat": 4,
 "nbformat_minor": 4
}
