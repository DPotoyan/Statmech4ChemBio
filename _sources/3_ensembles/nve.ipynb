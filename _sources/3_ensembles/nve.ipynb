{
 "cells": [
  {
   "cell_type": "markdown",
   "metadata": {},
   "source": [
    "# Ensemble equivalence"
   ]
  },
  {
   "attachments": {},
   "cell_type": "markdown",
   "metadata": {
    "slideshow": {
     "slide_type": "fragment"
    }
   },
   "source": [
    ":::{admonition} What you need to know\n",
    "\n",
    "- Understand that the essence of equilirbium statistical mechanics is connecting thermodynamics operating at macroscopic scales with the microscopic states of atoms and molecules. \n",
    "- The macro-to-micro connection is established using probability arguments with **Entropy** playing the central role (Boltzmann equation)\n",
    "From the thermodynamics point of view, an isolated system with N particles, fixed volume, and Energy is a single macrostate. \n",
    "Such a system, however, would consist of a vast number of microstates. The number can be quantified for some simple systems analytically but is generally intractable even using computers! \n",
    "- In StatMech we replace the dynamics of N particle system with an ensemble of all possible microstates that the system can be consistent with a macrostate (NVE).\n",
    "- Ensemble essentially gives us a probability distribution over microstates, which allows the calculation of Entropy.\n",
    "- Through entropy, all kinds of substance-specific thermodynamic quantities can be computed from the first principles. \n",
    "- E.g., heat capacities, magnetic susceptibilities, free energy differences. These quantities serve as an input for thermodynamics because thermodynamics does not refer to the microscopic world.  \n",
    "- Thermodynamics while agnostic to atomic details is an exact theory. Predictions of statistical mechanics must obey the rules of thermodynamics.\n",
    ":::"
   ]
  },
  {
   "cell_type": "markdown",
   "metadata": {},
   "source": [
    "![](./figs/ensembl.png)"
   ]
  },
  {
   "cell_type": "markdown",
   "metadata": {},
   "source": [
    "### Boltzmann's equation: \"A bridge\" between microscopic dynamics and macroscopic thermodynamics"
   ]
  },
  {
   "attachments": {},
   "cell_type": "markdown",
   "metadata": {},
   "source": [
    "- Consider an isolated fluid system with $N=const$, $V=const$ and $E=const$ which we will refer to as NVE system. What should be the probabilities of configurations observed in the system?\n",
    "- It is clear that in the absence of any physical constraints, no states should have higher probabilities than others. This is known as \"principle of equal a priory probability\" \n",
    "\n",
    ":::{admonition} **A priori equal probability**\n",
    "\n",
    "\n",
    "- **Probability of a microstate**\n",
    "\n",
    "$$p(E) = \\frac{1}{\\Omega(N, V, E)}$$\n",
    "\n",
    ":::\n",
    "\n",
    "\n",
    ":::{admonition} **Boltzmann equation**\n",
    "\n",
    "$$S = k_B log \\Omega$$\n",
    "\n",
    "- $\\Omega$ is the number of micro-states **consistent with a macrostate of our system**. \n",
    "- $S(N, V, E)$ is the entropy of an isolated system (we are in the NVE). \n",
    "- $k_B =1.380649\\cdot 10^{-23} J/K$,  Boltzmann's constant \n",
    "\n",
    ":::\n"
   ]
  },
  {
   "cell_type": "markdown",
   "metadata": {},
   "source": [
    ":::{admonition}  **An intuitive derivation of Boltzmann distribution**\n",
    ":class: tip, dropdown\n",
    "\n",
    "**Probability of macrostates**\n",
    "\n",
    "- Consider a system in contact with the thermal reservoir. The combined system is isolated, which means we can write down the NVE partition function as a sum over different ways of partitioning total energy between the system and the reservoir. \n",
    "\n",
    "$$\\Omega_{t}(E_t) = \\sum_E \\Omega(E) \\Omega_r(E-E) \\cdot$$\n",
    "\n",
    "- The probability of being in any thermodynamic **macrostate**  described by energy $E$ will be given by the ratio of one term over all possible partitionings of energy:\n",
    "\n",
    "$$p(E) = \\frac{\\Omega(E) \\Omega_r(E_t-E) }{\\sum_E \\Omega(E) \\Omega_r(E_t-E) }$$\n",
    "\n",
    "**Reservoir is much larger than the system**\n",
    "\n",
    "- We can take advantage of the fact that the system $E_t \\sim E_r \\ll E$ is small compared to the reservoir. We can expand entropy in the exponent of partition function $\\Omega_r = e^{S_r/k_B}$ which is a smoothly varying function of energy:\n",
    "\n",
    "$$S_r(E_t-E)  \\approx S_r(E_t)- \\Big(\\frac{\\partial S_r}{\\partial E}\\Big) E =  S_r(E_t)- \\frac{1}{T} E$$\n",
    "\n",
    "- The constant reservoir term  ends up canceling out from the ratio!\n",
    "\n",
    "$$p(E) = \\frac{ \\Omega(E)  e^{\\frac{1}{k_B}S(E_t)} e^{-\\beta E} }{\\sum_E \\Omega(E) e^{\\frac{1}{k_B}S(E_t)}  e^{-\\beta E}} = \\frac{ \\Omega(E)  e^{-\\beta E} }{\\sum_E \\Omega(E)  e^{-\\beta E}}$$\n",
    "\n",
    "- We can also write down the probability of a single specific microstate $E=E_i$ for which $\\Omega(E_i)=1$\n",
    "\n",
    "$$p_i = \\frac{ e^{-\\beta E_i} }{\\sum_i e^{-\\beta E_i}}$$\n",
    "\n",
    "**Connection with Thermodynamics**\n",
    "\n",
    "- Let us now connect the entropy of the whole system to entropy in thermodynamics. Recall that in thermodynamics, entropy is an extensive quantity, meaning that total entropy should be expressed as the sum of entropies of system+reservoir. This is possible only if the sum of the $\\Omega_t(E_t)$ expression is sharply dominated by a single term that is centered on some (average) value of energy $U$\n",
    "\n",
    "$$S_t(E_t) = k_B log \\sum_E \\Omega(E) \\Omega_r(E_t-E) \\approx k_B log \\Omega(U)+k_B log \\Omega_r(E_t-U) = S(U) + S_r(E_t-U)$$\n",
    "\n",
    "$$Z = \\sum_E \\Omega(E) e^{-\\beta E} \\approx \\Omega (U) e^{-\\beta U} = e^{-\\beta(U-TS)} = e^{-\\beta F}$$\n",
    "\n",
    "- We see that the reservoir's contribution to the distribution of energy in the system is only through temperature!\n",
    "\n",
    "- We could also carry our similar derivation by expanding reservoir entropy around the average energy of the system  $U = \\sum_i p_i E_i$ by making use of the central limit theorem, which predicts small fluctuations around averages $U - E_i = \\delta E_i \\sim O(N^{1/2})$\n",
    "  \n",
    ":::"
   ]
  },
  {
   "cell_type": "markdown",
   "metadata": {},
   "source": [
    "### $\\beta$ and kT (energy)\n",
    "\n",
    "- $kT$ (also written as $k_BT$) or its inverse $\\beta =(k_BT)^{-1}$ contain a product of the Boltzmann constant $k_B$ and the temperature, T.\n",
    "\n",
    "$$p_i \\sim e^{-E_i/k_BT} = e^{-\\beta E_i}$$\n",
    "  \n",
    "- This product is used as a scale factor for energy values in molecular-scale systems (sometimes it is used as a unit of energy), as the rates and frequencies of many processes and phenomena depend not on their energy alone but on the ratio of that energy and kT."
   ]
  },
  {
   "cell_type": "markdown",
   "metadata": {},
   "source": [
    "### Thermodynamic limit and partition functions\n",
    "\n",
    "**Partition functions**\n",
    "- Recall that we counted microstates with equal weights $\\Omega$ in NVE. In other words, states were equipartitioned.\n",
    "- In NVT, states are weighted by exponential factors. In other words, low-energy states contribute more than high-energy states. The situation is more severe at low temperatures where only ground states contribute to thermodynamics.\n",
    "\n",
    "$$\\Omega = \\sum_i w_i = \\sum_i 1$$\n",
    "\n",
    "$$Z(\\beta) = \\sum_i w_i = \\sum_i e^{-\\beta E_i}$$\n",
    "\n",
    "**Sum over microstates or macrostates**\n",
    "- Partition function Z can be written down as a sum of microstates or macrostates. Since Energies of macrosystems vary smoothly we can also replace the sum as integral over energies\n",
    "\n",
    "$$Z(\\beta, N, V) = \\sum_i e^{-\\beta E_i}= \\sum_E \\Omega (E) e^{-\\beta E} = \\int \\Omega(E) e^{-\\beta E}dE$$\n",
    "\n",
    "- $\\Omega(E)\\sim e^N$ rapidly increasing function with N because of limit theorems: e.g., the large deviation, central limit theorem, law of large numbers. \n",
    "\n",
    "- $e^{-\\beta E}\\sim e^{-N}$ rapidly decreasing function with N\n",
    "\n",
    "**Connection with Free energy**\n",
    "- In the thermodynamic limit of a large number of particles and volumes, only the region of energy survives that guarantees a non-negligible contribution to the partition function\n",
    "\n",
    "$${Z(\\beta) = \\int \\Omega(E) e^{-\\beta E}dE = \\int e^{-\\beta (E-T S(E))}dE }$$\n",
    "\n",
    "$${Z(\\beta) = \\int e^{-\\beta (E-TS)}dE \\approx e^{min_E [-\\beta(E-TS)]} = e^{-\\beta(U-TS)} = e^{-\\beta F}}$$\n",
    "\n",
    "- Where $U =\\langle E \\rangle$ is the thermodynamic average energy, fluctuations around which are on the order of $O(N^{1/2})$\n",
    "\n",
    "- It can be seen that $Z$, the partition function of NVT is **Laplace Transform** of the density of states of NVE.\n",
    "- The connection between energy and free energy $F= U -TS$ is via **Legendre Transform** "
   ]
  },
  {
   "cell_type": "markdown",
   "metadata": {},
   "source": [
    "### Average and fluctuations in Energy\n",
    "\n",
    ":::{admonition}  **Deriving average and fluctuation expression for energy**\n",
    ":class: tip, dropdown\n",
    "\n",
    "**Average Energy**\n",
    "\n",
    "- Having determined probability distribution over microstates, we can calculate the mean value of energy, which corresponds to the energy in thermodynamics. \n",
    "\n",
    "$$ \\langle E \\rangle = \\sum_{i} P_i E_i $$\n",
    "\n",
    "- where $P_i = \\frac{e^{-\\beta E_i}}{Z}$ is the probability of the system being in state $i$. Plugging the expression of $P_i$ we get\n",
    "\n",
    "$$ \\langle E \\rangle = \\sum_{i} \\frac{e^{-\\beta E_i}}{Z} E_i = \\frac{1}{Z} \\sum_{i} E_i e^{-\\beta E_i} = \\frac{1}{Z} \\frac{\\partial}{\\partial (-\\beta)} \\sum_{i} e^{-\\beta E_i} =\\frac{1}{Z} \\frac{\\partial}{\\partial (-\\beta)} Z =   - \\frac{\\partial log Z}{\\partial \\beta}$$\n",
    "\n",
    "- We thus find that $ \\langle E \\rangle$ can be obtained by taking the derivative of $-\\log Z$ with respect to $\\beta$:\n",
    "\n",
    "**Heat Capacity**\n",
    "\n",
    "- The heat capacity at constant volume $C_V$ is defined as the derivative of the average energy with respect to temperature:\n",
    "\n",
    "$$ C_V = \\left( \\frac{\\partial \\langle E \\rangle}{\\partial T} \\right)_V $$\n",
    "\n",
    "- Using the chain rule, $C_V$ can be expressed as:\n",
    "\n",
    "$$ C_V = \\frac{\\partial \\langle E \\rangle}{\\partial \\beta} \\frac{\\partial \\beta}{\\partial T} $$\n",
    "\n",
    "- Since $\\beta = \\frac{1}{k_B T}$, we have $\\frac{\\partial \\beta}{\\partial T} = -\\frac{1}{k_B T^2}$. taking the derivative of $\\langle E \\rangle$ with respect to $\\beta$ gives:\n",
    "\n",
    "$$ \\frac{\\partial \\langle E \\rangle}{\\partial \\beta} = \\frac{\\partial}{\\partial \\beta} \\left( -\\frac{1}{Z} \\frac{\\partial Z}{\\partial \\beta} \\right) $$\n",
    "\n",
    "- Simplifying this derivative and substituting $\\frac{\\partial \\beta}{\\partial T}$ yields the heat capacity:\n",
    "\n",
    "$$ C_V = -k_B \\beta^2 \\frac{\\partial^2 \\ln Z}{\\partial \\beta^2} $$\n",
    "\n",
    ":::\n",
    "\n",
    "- Mean and fluctuation of energy are computed from partition function as first and second derivatives (see derivation above)\n",
    "\n",
    "$$\\langle E \\rangle = -\\frac{\\partial log Z}{\\partial (\\beta)}$$\n",
    "\n",
    "- The relationship between fluctuations and heat capacity is known as **fluctuation-response theorem** in statistical mechanics\n",
    "\n",
    "$$\\sigma^2_E = \\frac{\\partial^2 log Z}{\\partial \\beta^2}  = k_BT^2 C_v$$\n",
    "\n",
    "- The fluctuations in energy are small relative to the mean. This shows that thermodynamic quantities computed in NVE and NVT should not differ in the thermodynamic limit of large systems! Thus, we are free to choose any convenient ensemble if we want to calculate, let's say, temperature dependence on entropy.\n",
    "  \n",
    "$$\\frac{\\sigma_E}{\\langle E\\rangle} = \\frac{(k_BT^2 C_v)^{1/2}}{\\langle E\\rangle}\\sim O(N^{-1/2})$$"
   ]
  },
  {
   "cell_type": "markdown",
   "metadata": {},
   "source": [
    "### Example-1: A two-state model in NVE vs NVT ensemble\n",
    "\n",
    "- **NVE**\n",
    "Let us consider a simple two-level system where lower level $\\epsilon_0 = 0$ and upper level $\\epsilon_1 =\\epsilon$. We will now use $NVE$ ensemble to obtain thermodynamic quantities $(S, T, C_v)$ and then obtain the same quantities with $NVT$.\n",
    "\n",
    "$$E = n\\epsilon$$\n",
    "\n",
    "$$\\Omega(E) = \\frac{N!}{(N-n)! n!}$$\n",
    "\n",
    "$$S = k_B log \\Omega(E) = N k_B \\Big [- \\frac{n}{N}log \\frac{n}{N} - \\frac{N-n}{N}log \\frac{N-n}{N} \\Big]$$\n",
    "\n",
    "$$\\frac{1}{T} = \\frac{\\partial S(E)}{\\partial E} =  \\frac{k_B}{\\epsilon}\\frac{\\partial log\\Omega(n)}{\\partial  n} = \\frac{k_B}{\\epsilon}log \\frac{N-n}{N}$$\n",
    "\n",
    "$$\\frac{n}{N} = \\frac{1}{1+e^{\\beta \\epsilon}}$$\n",
    "\n",
    "$$E = n\\epsilon = \\frac{N\\epsilon}{1+e^{\\beta \\epsilon}}$$\n",
    "\n",
    "- **NVT** Solving a two-state system in an NVT ensemble is much easier because the partition function decouples into single particle contributions. \n",
    "\n",
    "$$Z = \\sum^{n=N}_{n=0} e^{-\\beta E_n}  = (1+e^{-\\beta \\epsilon})^N$$\n",
    "\n",
    "$$F= -k_B T log Z = -k_BT N log(1+e^{-\\beta \\epsilon})$$\n",
    "\n",
    "\n",
    "$$\\langle E \\rangle  = \\frac{\\partial log Z}{\\partial (-\\beta)} =  \\frac{N\\epsilon}{1+e^{\\beta \\epsilon}}$$"
   ]
  },
  {
   "cell_type": "markdown",
   "metadata": {},
   "source": [
    "#### Example-2 Non-interacting spins \n",
    "\n",
    "- Consider a single spin atom under an external magnetic field $B$. The system can be in two states with energy $\\epsilon = −m_z B$ where $m_z=\\pm \\mu$ is the spin magnetic number and $\\mu$ magnetic moment of the spin. Generalizing to N spins is straightforward\n",
    "- $N= N_{\\uparrow} + N_{\\downarrow}$ **total number of spins**\n",
    "- $M =  N_{\\uparrow} - N_{\\downarrow}$ **overall magnetization**\n",
    "- $m = M/n$ **magnetization per spin** ranging from -1 to +1.\n",
    "- The energy is sum of independent spin energies $E = \\sum^N_i  \\epsilon_i = -N_{\\uparrow}\\mu B + N_{\\downarrow}\\mu B = -\\mu B (N_{\\uparrow} - N_{\\downarrow}) = -\\mu M B$.  \n",
    "- To find number of microstates for a given $E$ we need to find a number of ways to partition $N_{\\uparrow}$ and $N_{\\downarrow}$ spins. \n",
    "\n",
    "$$\\Omega(N, N_{\\uparrow}) = \\frac{N!}{N_{\\uparrow}! N_{\\downarrow}!}  = \\frac{N!}{[1/2(N+M)!] [1/2(N-M)!]}$$\n",
    "\n",
    "$${\\Omega (E,N)= \\frac{N!}{\\Big[\\frac{1}{2}(N-E/B\\mu)\\Big]! \\Big[\\frac{1}{2}(N+E/B\\mu)\\Big]!}}$$\n",
    "\n",
    "$$S = Nk_B \\Big[log 2 - \\frac{1}{2}log(1-m^2)-\\frac{m}{2} log \\frac{1+m}{1-m} \\Big]$$\n",
    "\n",
    " -  Find temperature dependence by using $\\frac{1}{T} = \\frac{\\partial S}{\\partial E}|_N$\n",
    "\n",
    "$$U = -\\mu N B tanh \\Big(\\frac{\\mu B}{k_B T} \\Big)$$\n",
    "\n",
    "- magnetization per spin $m=-U/\\mu NB$ is given by:\n",
    "\n",
    "$$m = tanh \\Big(\\frac{\\mu B}{k_B T} \\Big)$$"
   ]
  },
  {
   "cell_type": "markdown",
   "metadata": {},
   "source": [
    "#### NVT\n",
    "\n",
    "**Partition function of a single spin**\n",
    "\n",
    "$$Z_1 = \\sum_{s_1} e^{\\beta \\mu B s_1} = e^{\\beta \\mu B} + e^{-\\beta \\mu B}  = 2 cosh(\\beta \\mu B)$$\n",
    "\n",
    "**Partition function of N spins**\n",
    "\n",
    "$$Z =Z_1^N$$\n",
    "\n",
    "**Free energy** \n",
    "\n",
    "$$ F(T, B) = - \\beta^{-1} log Z = - N \\beta^{-1} log \\Big [ 2 cosh (\\beta \\mu B )  \\Big ]$$\n",
    "\n",
    "**Entropy**\n",
    "\n",
    "$$S = - \\Big(\\frac{\\partial F}{\\partial T} \\Big)_B = k_B log \\Big [ 2 cosh (\\beta \\mu H )  \\Big ] - k_B (\\beta \\mu B)\\cdot tanh (\\beta \\mu B)$$\n",
    "\n",
    "**Magnetization**\n",
    "\n",
    "Magnetization $M$ (extensive quantity) or magnetization per particle $m=M/N$ (intensive quantity) is given as another free energy derivative:\n",
    "\n",
    "$$M = - \\Big(\\frac{\\partial F}{\\partial B} \\Big)_T = \\mu tanh \\Big(\\beta \\mu B \\Big)$$\n",
    "\n",
    "**Magnetizatic susceptibility**\n",
    "\n",
    "In the context of paramagnet, we have another response function in the form of magnetic susceptibility.\n",
    "\n",
    "$$\\chi(T, B) =  \\Big(\\frac{\\partial m}{\\partial B} \\Big)_T = \\mu^2 \\beta B cosh^{-2} (\\beta \\mu B)$$\n",
    "\n",
    "which leads to a well-known **Curie Law**\n",
    "\n",
    "$$\\chi(T, B=0) = \\frac{\\mu^2 }{k_B T}$$\n",
    "\n",
    "Finally, as a consistency check we can combine entropy and free energy expressions to obtain internal energy:\n",
    "\n",
    "$$U = F+TS = -\\mu B tanh(\\beta \\mu B)$$"
   ]
  },
  {
   "cell_type": "markdown",
   "metadata": {},
   "source": [
    "### Problems"
   ]
  },
  {
   "cell_type": "markdown",
   "metadata": {},
   "source": [
    "### Shottky defects\n",
    "\n",
    "Schotky defects are vacancies in a lattice of atoms. Creating a single vacancy costs an energy $\\epsilon$.  Consider a lattice with $N$ atoms and $n$ vacacnies. In this model the total energy is solely a function of defects: $E=n\\epsilon$\n",
    "\n",
    "- Write down number of states and compute the entropy via Boltzmann formula. Plot number of states as a function of energy. You can use log of number of states for plotting. \n",
    "\n",
    "- Compute how the temperature would affect the fraction of vacancies on the lattice. Plot fraction of vacancies as a function of temperature. \n",
    "\n",
    "- How would the total energy depend on temperature $T$. Derive expression for the high temeprature limit ($\\frac{\\epsilon}{k_b T} \\gg 1$). \n",
    "  \n",
    "- Plot total energy as a function of temperature E(T)"
   ]
  },
  {
   "cell_type": "markdown",
   "metadata": {},
   "source": [
    "#### Lattice gas\n",
    "\n",
    "Consider a lattice gas of N particles distributed among V cells (with $N\\geq V$). Suppose that each cell may be either empty or occupied by a single particle. The number of microscopic states of this syste will be given by:\n",
    "\n",
    "$$\\Omega (N, V) = \\frac{V!}{N! (V-N)!}$$\n",
    "\n",
    "- Obtain an expression for the entropy per particle $s(v)=\\frac{1}{N} \\cdot S(N,V)$ where $v=\\frac{V}{N}$. \n",
    "- From this simple fundamental equation, obtain an expression of equation of state $p/T$. \n",
    "- - Write an expansion of $p/T$ in terms of density $1/v$. Show that the first term gives Boyle law of ideal gases. \n",
    "- Sketch a graph of $\\mu/T$, where $\\mu(\\rho)$ is a chemical potential as a function of density. Comment on $\\rho\\rightarrow 0$ and $\\rho\\rightarrow 1$ limits.\n"
   ]
  },
  {
   "cell_type": "markdown",
   "metadata": {},
   "source": [
    "### Polymer Elasticity\n",
    "\n",
    "> Solve the problem 2.7  from the book."
   ]
  }
 ],
 "metadata": {
  "kernelspec": {
   "display_name": "Python 3 (ipykernel)",
   "language": "python",
   "name": "python3"
  },
  "language_info": {
   "codemirror_mode": {
    "name": "ipython",
    "version": 3
   },
   "file_extension": ".py",
   "mimetype": "text/x-python",
   "name": "python",
   "nbconvert_exporter": "python",
   "pygments_lexer": "ipython3",
   "version": "3.9.16"
  },
  "livereveal": {
   "theme": "sky"
  },
  "nteract": {
   "version": "0.28.0"
  },
  "toc": {
   "base_numbering": 1,
   "nav_menu": {},
   "number_sections": true,
   "sideBar": true,
   "skip_h1_title": false,
   "title_cell": "Table of Contents",
   "title_sidebar": "Contents",
   "toc_cell": false,
   "toc_position": {},
   "toc_section_display": true,
   "toc_window_display": false
  }
 },
 "nbformat": 4,
 "nbformat_minor": 4
}
