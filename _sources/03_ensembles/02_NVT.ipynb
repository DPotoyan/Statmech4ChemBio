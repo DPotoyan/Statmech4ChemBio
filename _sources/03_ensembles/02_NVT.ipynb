{
  "cells": [
    {
      "cell_type": "markdown",
      "source": [
        "# NVT"
      ],
      "metadata": {}
    },
    {
      "cell_type": "markdown",
      "source": [
        "## Going from an isolated system with $E=const$ to a system with fluctuating energy values $p(E)$\n",
        "\n",
        "In the NVT ensemble system samples different $E_i$ consistent with T=const constraint imposed by putting system in contact with infinitely large reservoir. \n",
        "\n",
        "Thus, in the NVT ensemble the Energy of a system $E_i$ and the resoervius $E_r$ are a fluctuating quantitities with associated probability distributions $p(E_i)$ and $p(E_r)$ which we are seeking! The total energy of a system is constant by definition (NVE). \n",
        "\n",
        "\n",
        "$$E_{t} = E_r + E_i$$\n",
        "\n",
        "\n",
        "$$\\Omega_{t}(E_{t}) = \\sum_i \\Omega_r(E_{t}-E_i) \\cdot \\Omega(E_i)$$"
      ],
      "metadata": {
        "slideshow": {
          "slide_type": "slide"
        }
      }
    },
    {
      "cell_type": "markdown",
      "source": [
        "Let us single out one micro-state $E_i$ of our system $\\Omega(E_i) =1$ and see what would be its probability in NVT ensemble.\n",
        "\n",
        "$$p_i = \\frac{\\Omega_r(E_{t}-E_i)}{\\Omega_{t} (E_{t})} = \\frac{e^{S_r(E_{t}-E_i)/k_B}}{e^{S_{t}(E)/k_B}}$$\n",
        "\n",
        "Where we have used use the microcanonical ensemble of **system+reservoir** to cast the problem in terms of probabilities of **the system**."
      ],
      "metadata": {
        "slideshow": {
          "slide_type": "fragment"
        }
      }
    },
    {
      "cell_type": "markdown",
      "source": [
        "### Derivation of Boltzmann distribution\n",
        "\n",
        "Since entropy is a smoothly varying function of energy we can expand it around $E_{tot}$ as $E_i$ is a much smaller quantity.\n",
        "\n",
        "$$S_r(E_{t}-E_i) \\approx S_r(E_{t}) - \\Big( \\frac{\\partial S_r}{\\partial E}\\Big) E_i = S_r(E_{t}) -\\frac{E_i}{T}$$\n",
        "\n",
        "This leads to $p_i \\sim e^{-\\beta E_i}$ were $\\beta = \\frac{1}{k_B T}$ after normalizing we obtain:\n",
        "\n",
        "$$p_i = \\frac{e^{-\\beta E_i}}{Z}\\,\\,\\,\\,\\, Z= \\sum_i e^{-\\beta E_i}$$"
      ],
      "metadata": {
        "slideshow": {
          "slide_type": "slide"
        }
      }
    },
    {
      "cell_type": "markdown",
      "source": [
        "### Another derivation of Boltzmann distribution\n",
        "\n",
        "A more revealing is the expansion around system's average energy \n",
        "\n",
        "$$U = \\sum_i p_i E_i$$ \n",
        "\n",
        "which has small fluctuations around it \n",
        "\n",
        "$$U - E_i = \\delta E_i \\sim O(N^{1/2})$$\n",
        "\n",
        "\n",
        "**Entropy of the reservoir**\n",
        "\n",
        "$$S_r(E_{t}-E_i) = S_r(E_{t}-U + U-E_i) \\approx S_r(E_{t}-U) +\\Big( \\frac{\\partial S_r(E)}{\\partial E}\\Big) (U-E_i)$$\n",
        "\n",
        "\n",
        "$$S_r(E_{t}-E_i) =  S_r(E_{t}-U) +\\frac{1}{T}(U-E_i)$$\n",
        "\n",
        "**Entropy of the total system.**\n",
        "\n",
        "$$ S_{t}(E_{t}) = S_r(E_{t}-U)+S(U)$$\n",
        "\n",
        "\n",
        "**Probability of a microstate**\n",
        "\n",
        "$$p_i =\\frac{exp[{S_r(E_{t}-E_i)/k_B}]}{exp[{S_{t}(E_{t})/k_B}]} = \\frac{exp[-\\beta (U-E_i)]}{exp[S(U)/k_B]}$$\n",
        "\n",
        "$$\\boxed{ p_i = \\frac{e^{-\\beta E_i}}{e^{-\\beta F}} = \\frac{e^{-\\beta E_i}}{Z} }$$"
      ],
      "metadata": {
        "slideshow": {
          "slide_type": "slide"
        }
      }
    },
    {
      "cell_type": "markdown",
      "source": [
        "#### Boltzmann distribution\n",
        "\n",
        "$$\\boxed{p_i = \\frac{e^{-E_i/k_B T}}{Z}}$$\n",
        "\n",
        "#### Partiation Function\n",
        "\n",
        "$$\\boxed{Z = \\sum_i E^{-\\beta E_i}}$$ \n",
        "\n",
        "#### Free Energy \n",
        "\n",
        "$$\\boxed{Z = e^{-{\\beta F}}} \\,\\,\\,\\,\\, \\boxed{F = -\\beta^{-1} log Z}$$"
      ],
      "metadata": {
        "slideshow": {
          "slide_type": "slide"
        }
      }
    },
    {
      "cell_type": "markdown",
      "source": [
        "### Closer look at the Z: The partiation function\n",
        "\n",
        "\n",
        "\n",
        "$$\\boxed{Z(\\beta) = \\sum_i e^{-\\beta E_i} = \\int \\Omega(E) e^{-\\beta E}dE = \\int e^{-\\beta (E-TS)}dE }$$\n",
        "\n",
        "\n",
        "- The parition function is \"partitioning\" or disirbuting (exponentially) the states of NVT ensemble with different energy levels/values:\n",
        "<br>\n",
        "\n",
        "- It can be seen that $Z$, the partition function of NVT is **Laplace Transform** of density of states of NVE. While connection between energy and free energy $F= E -TS$ is  via **Legendre Transform** \n",
        "<br>\n",
        "\n",
        "- $\\Omega(E)\\sim e^N$ rapidly increasing function with N eacsue of limit theorems: e.g the large deviation, central limit theorem, law of large numbers. \n",
        "<br>\n",
        "\n",
        "- $e^{-\\beta E}\\sim e^{-N}$ rapidly decreasing function with N\n",
        "\n",
        "- Thermodynamic limit $N, V\\rightarrow \\infty$ and $N/V \\rightarrow const$ only the region of energy survivies hat guarantees non-negligible contribution\n",
        "\n",
        "$$\\boxed{Z = \\int e^{-\\beta (E-TS)}dE \\approx e^{-\\beta(U-TS)} = e^{-\\beta F}}$$\n",
        "\n",
        "Where $U =\\langle E \\rangle$ is the thermodynamic average energy, flucutatins around which are on order of $O(N^{1/2})$"
      ],
      "metadata": {
        "slideshow": {
          "slide_type": "slide"
        }
      }
    },
    {
      "cell_type": "code",
      "source": [
        "import numpy as np\n",
        "import matplotlib.pyplot as plt\n",
        "\n",
        "N=10\n",
        "kbT = 2.5\n",
        "\n",
        "E = np.linspace(1, 10*N, 100)\n",
        "omega  = E**(1.5*N)\n",
        "boltzf = np.exp(-E/kbT)\n",
        "\n",
        "fig,ax = plt.subplots(nrows=3,sharex=True, figsize=(6, 4))\n",
        "ax[0].plot(E, omega)\n",
        "ax[0].set_ylabel('$\\Omega(E)$')\n",
        "ax[1].plot(E, boltzf)\n",
        "ax[1].set_ylabel('$exp(-E/k_B T)$')\n",
        "ax[2].plot(E, omega*boltzf)\n",
        "ax[2].set_ylabel('$\\Omega(E) exp(-E/k_B T)$')\n",
        "ax[2].set_xlabel('$E$')"
      ],
      "outputs": [
        {
          "output_type": "execute_result",
          "data": {
            "text/plain": [
              "Text(0.5, 0, '$E$')"
            ]
          },
          "metadata": {},
          "execution_count": 49
        },
        {
          "output_type": "display_data",
          "data": {
            "text/plain": "<Figure size 432x288 with 3 Axes>",
            "image/svg+xml": "<?xml version=\"1.0\" encoding=\"utf-8\" standalone=\"no\"?>\n<!DOCTYPE svg PUBLIC \"-//W3C//DTD SVG 1.1//EN\"\n  \"http://www.w3.org/Graphics/SVG/1.1/DTD/svg11.dtd\">\n<!-- Created with matplotlib (https://matplotlib.org/) -->\n<svg height=\"272.794688pt\" version=\"1.1\" viewBox=\"0 0 392.165625 272.794688\" width=\"392.165625pt\" xmlns=\"http://www.w3.org/2000/svg\" xmlns:xlink=\"http://www.w3.org/1999/xlink\">\n <metadata>\n  <rdf:RDF xmlns:cc=\"http://creativecommons.org/ns#\" xmlns:dc=\"http://purl.org/dc/elements/1.1/\" xmlns:rdf=\"http://www.w3.org/1999/02/22-rdf-syntax-ns#\">\n   <cc:Work>\n    <dc:type rdf:resource=\"http://purl.org/dc/dcmitype/StillImage\"/>\n    <dc:date>2021-03-23T21:01:45.825539</dc:date>\n    <dc:format>image/svg+xml</dc:format>\n    <dc:creator>\n     <cc:Agent>\n      <dc:title>Matplotlib v3.3.3, https://matplotlib.org/</dc:title>\n     </cc:Agent>\n    </dc:creator>\n   </cc:Work>\n  </rdf:RDF>\n </metadata>\n <defs>\n  <style type=\"text/css\">*{stroke-linecap:butt;stroke-linejoin:round;}</style>\n </defs>\n <g id=\"figure_1\">\n  <g id=\"patch_1\">\n   <path d=\"M 0 272.794688 \nL 392.165625 272.794688 \nL 392.165625 0 \nL 0 0 \nz\n\" style=\"fill:none;\"/>\n  </g>\n  <g id=\"axes_1\">\n   <g id=\"patch_2\">\n    <path d=\"M 50.165625 81.751379 \nL 384.965625 81.751379 \nL 384.965625 17.798438 \nL 50.165625 17.798438 \nz\n\" style=\"fill:#ffffff;\"/>\n   </g>\n   <g id=\"matplotlib.axis_1\">\n    <g id=\"xtick_1\">\n     <g id=\"line2d_1\">\n      <defs>\n       <path d=\"M 0 0 \nL 0 3.5 \n\" id=\"m02c3d356fd\" style=\"stroke:#000000;stroke-width:0.8;\"/>\n      </defs>\n      <g>\n       <use style=\"stroke:#000000;stroke-width:0.8;\" x=\"62.309427\" xlink:href=\"#m02c3d356fd\" y=\"81.751379\"/>\n      </g>\n     </g>\n    </g>\n    <g id=\"xtick_2\">\n     <g id=\"line2d_2\">\n      <g>\n       <use style=\"stroke:#000000;stroke-width:0.8;\" x=\"123.79703\" xlink:href=\"#m02c3d356fd\" y=\"81.751379\"/>\n      </g>\n     </g>\n    </g>\n    <g id=\"xtick_3\">\n     <g id=\"line2d_3\">\n      <g>\n       <use style=\"stroke:#000000;stroke-width:0.8;\" x=\"185.284633\" xlink:href=\"#m02c3d356fd\" y=\"81.751379\"/>\n      </g>\n     </g>\n    </g>\n    <g id=\"xtick_4\">\n     <g id=\"line2d_4\">\n      <g>\n       <use style=\"stroke:#000000;stroke-width:0.8;\" x=\"246.772237\" xlink:href=\"#m02c3d356fd\" y=\"81.751379\"/>\n      </g>\n     </g>\n    </g>\n    <g id=\"xtick_5\">\n     <g id=\"line2d_5\">\n      <g>\n       <use style=\"stroke:#000000;stroke-width:0.8;\" x=\"308.25984\" xlink:href=\"#m02c3d356fd\" y=\"81.751379\"/>\n      </g>\n     </g>\n    </g>\n    <g id=\"xtick_6\">\n     <g id=\"line2d_6\">\n      <g>\n       <use style=\"stroke:#000000;stroke-width:0.8;\" x=\"369.747443\" xlink:href=\"#m02c3d356fd\" y=\"81.751379\"/>\n      </g>\n     </g>\n    </g>\n   </g>\n   <g id=\"matplotlib.axis_2\">\n    <g id=\"ytick_1\">\n     <g id=\"line2d_7\">\n      <defs>\n       <path d=\"M 0 0 \nL -3.5 0 \n\" id=\"mf709bdb2fb\" style=\"stroke:#000000;stroke-width:0.8;\"/>\n      </defs>\n      <g>\n       <use style=\"stroke:#000000;stroke-width:0.8;\" x=\"50.165625\" xlink:href=\"#mf709bdb2fb\" y=\"78.844427\"/>\n      </g>\n     </g>\n     <g id=\"text_1\">\n      <!-- 0.0 -->\n      <g transform=\"translate(27.2625 82.643646)scale(0.1 -0.1)\">\n       <defs>\n        <path d=\"M 31.78125 66.40625 \nQ 24.171875 66.40625 20.328125 58.90625 \nQ 16.5 51.421875 16.5 36.375 \nQ 16.5 21.390625 20.328125 13.890625 \nQ 24.171875 6.390625 31.78125 6.390625 \nQ 39.453125 6.390625 43.28125 13.890625 \nQ 47.125 21.390625 47.125 36.375 \nQ 47.125 51.421875 43.28125 58.90625 \nQ 39.453125 66.40625 31.78125 66.40625 \nz\nM 31.78125 74.21875 \nQ 44.046875 74.21875 50.515625 64.515625 \nQ 56.984375 54.828125 56.984375 36.375 \nQ 56.984375 17.96875 50.515625 8.265625 \nQ 44.046875 -1.421875 31.78125 -1.421875 \nQ 19.53125 -1.421875 13.0625 8.265625 \nQ 6.59375 17.96875 6.59375 36.375 \nQ 6.59375 54.828125 13.0625 64.515625 \nQ 19.53125 74.21875 31.78125 74.21875 \nz\n\" id=\"DejaVuSans-48\"/>\n        <path d=\"M 10.6875 12.40625 \nL 21 12.40625 \nL 21 0 \nL 10.6875 0 \nz\n\" id=\"DejaVuSans-46\"/>\n       </defs>\n       <use xlink:href=\"#DejaVuSans-48\"/>\n       <use x=\"63.623047\" xlink:href=\"#DejaVuSans-46\"/>\n       <use x=\"95.410156\" xlink:href=\"#DejaVuSans-48\"/>\n      </g>\n     </g>\n    </g>\n    <g id=\"ytick_2\">\n     <g id=\"line2d_8\">\n      <g>\n       <use style=\"stroke:#000000;stroke-width:0.8;\" x=\"50.165625\" xlink:href=\"#mf709bdb2fb\" y=\"49.774908\"/>\n      </g>\n     </g>\n     <g id=\"text_2\">\n      <!-- 0.5 -->\n      <g transform=\"translate(27.2625 53.574127)scale(0.1 -0.1)\">\n       <defs>\n        <path d=\"M 10.796875 72.90625 \nL 49.515625 72.90625 \nL 49.515625 64.59375 \nL 19.828125 64.59375 \nL 19.828125 46.734375 \nQ 21.96875 47.46875 24.109375 47.828125 \nQ 26.265625 48.1875 28.421875 48.1875 \nQ 40.625 48.1875 47.75 41.5 \nQ 54.890625 34.8125 54.890625 23.390625 \nQ 54.890625 11.625 47.5625 5.09375 \nQ 40.234375 -1.421875 26.90625 -1.421875 \nQ 22.3125 -1.421875 17.546875 -0.640625 \nQ 12.796875 0.140625 7.71875 1.703125 \nL 7.71875 11.625 \nQ 12.109375 9.234375 16.796875 8.0625 \nQ 21.484375 6.890625 26.703125 6.890625 \nQ 35.15625 6.890625 40.078125 11.328125 \nQ 45.015625 15.765625 45.015625 23.390625 \nQ 45.015625 31 40.078125 35.4375 \nQ 35.15625 39.890625 26.703125 39.890625 \nQ 22.75 39.890625 18.8125 39.015625 \nQ 14.890625 38.140625 10.796875 36.28125 \nz\n\" id=\"DejaVuSans-53\"/>\n       </defs>\n       <use xlink:href=\"#DejaVuSans-48\"/>\n       <use x=\"63.623047\" xlink:href=\"#DejaVuSans-46\"/>\n       <use x=\"95.410156\" xlink:href=\"#DejaVuSans-53\"/>\n      </g>\n     </g>\n    </g>\n    <g id=\"ytick_3\">\n     <g id=\"line2d_9\">\n      <g>\n       <use style=\"stroke:#000000;stroke-width:0.8;\" x=\"50.165625\" xlink:href=\"#mf709bdb2fb\" y=\"20.705389\"/>\n      </g>\n     </g>\n     <g id=\"text_3\">\n      <!-- 1.0 -->\n      <g transform=\"translate(27.2625 24.504608)scale(0.1 -0.1)\">\n       <defs>\n        <path d=\"M 12.40625 8.296875 \nL 28.515625 8.296875 \nL 28.515625 63.921875 \nL 10.984375 60.40625 \nL 10.984375 69.390625 \nL 28.421875 72.90625 \nL 38.28125 72.90625 \nL 38.28125 8.296875 \nL 54.390625 8.296875 \nL 54.390625 0 \nL 12.40625 0 \nz\n\" id=\"DejaVuSans-49\"/>\n       </defs>\n       <use xlink:href=\"#DejaVuSans-49\"/>\n       <use x=\"63.623047\" xlink:href=\"#DejaVuSans-46\"/>\n       <use x=\"95.410156\" xlink:href=\"#DejaVuSans-48\"/>\n      </g>\n     </g>\n    </g>\n    <g id=\"text_4\">\n     <!-- $\\Omega(E)$ -->\n     <g transform=\"translate(21.182813 60.674908)rotate(-90)scale(0.1 -0.1)\">\n      <defs>\n       <path d=\"M 72.609375 8.6875 \nL 72.609375 0 \nL 43.3125 0 \nL 43.3125 8.6875 \nQ 51.953125 13.421875 56.78125 21.53125 \nQ 61.625 29.640625 61.625 39.5 \nQ 61.625 51.21875 55.171875 58.296875 \nQ 48.734375 65.375 38.1875 65.375 \nQ 27.640625 65.375 21.171875 58.265625 \nQ 14.703125 51.171875 14.703125 39.5 \nQ 14.703125 29.640625 19.53125 21.53125 \nQ 24.421875 13.421875 33.109375 8.6875 \nL 33.109375 0 \nL 3.8125 0 \nL 3.8125 8.6875 \nL 19.390625 8.6875 \nQ 11.671875 15.484375 8.109375 22.75 \nQ 4.59375 30.03125 4.59375 39.015625 \nQ 4.59375 54.546875 13.96875 64.15625 \nQ 23.296875 73.78125 38.1875 73.78125 \nQ 52.984375 73.78125 62.40625 64.15625 \nQ 71.78125 54.59375 71.78125 39.5 \nQ 71.78125 30.03125 68.3125 22.796875 \nQ 64.84375 15.578125 56.984375 8.6875 \nz\n\" id=\"DejaVuSans-937\"/>\n       <path d=\"M 31 75.875 \nQ 24.46875 64.65625 21.28125 53.65625 \nQ 18.109375 42.671875 18.109375 31.390625 \nQ 18.109375 20.125 21.3125 9.0625 \nQ 24.515625 -2 31 -13.1875 \nL 23.1875 -13.1875 \nQ 15.875 -1.703125 12.234375 9.375 \nQ 8.59375 20.453125 8.59375 31.390625 \nQ 8.59375 42.28125 12.203125 53.3125 \nQ 15.828125 64.359375 23.1875 75.875 \nz\n\" id=\"DejaVuSans-40\"/>\n       <path d=\"M 16.890625 72.90625 \nL 62.984375 72.90625 \nL 61.375 64.59375 \nL 25.09375 64.59375 \nL 20.90625 43.015625 \nL 55.71875 43.015625 \nL 54.109375 34.71875 \nL 19.28125 34.71875 \nL 14.203125 8.296875 \nL 51.3125 8.296875 \nL 49.703125 0 \nL 2.6875 0 \nz\n\" id=\"DejaVuSans-Oblique-69\"/>\n       <path d=\"M 8.015625 75.875 \nL 15.828125 75.875 \nQ 23.140625 64.359375 26.78125 53.3125 \nQ 30.421875 42.28125 30.421875 31.390625 \nQ 30.421875 20.453125 26.78125 9.375 \nQ 23.140625 -1.703125 15.828125 -13.1875 \nL 8.015625 -13.1875 \nQ 14.5 -2 17.703125 9.0625 \nQ 20.90625 20.125 20.90625 31.390625 \nQ 20.90625 42.671875 17.703125 53.65625 \nQ 14.5 64.65625 8.015625 75.875 \nz\n\" id=\"DejaVuSans-41\"/>\n      </defs>\n      <use transform=\"translate(0 0.125)\" xlink:href=\"#DejaVuSans-937\"/>\n      <use transform=\"translate(76.416016 0.125)\" xlink:href=\"#DejaVuSans-40\"/>\n      <use transform=\"translate(115.429688 0.125)\" xlink:href=\"#DejaVuSans-Oblique-69\"/>\n      <use transform=\"translate(178.613281 0.125)\" xlink:href=\"#DejaVuSans-41\"/>\n     </g>\n    </g>\n    <g id=\"text_5\">\n     <!-- 1e30 -->\n     <g transform=\"translate(50.165625 14.798437)scale(0.1 -0.1)\">\n      <defs>\n       <path d=\"M 56.203125 29.59375 \nL 56.203125 25.203125 \nL 14.890625 25.203125 \nQ 15.484375 15.921875 20.484375 11.0625 \nQ 25.484375 6.203125 34.421875 6.203125 \nQ 39.59375 6.203125 44.453125 7.46875 \nQ 49.3125 8.734375 54.109375 11.28125 \nL 54.109375 2.78125 \nQ 49.265625 0.734375 44.1875 -0.34375 \nQ 39.109375 -1.421875 33.890625 -1.421875 \nQ 20.796875 -1.421875 13.15625 6.1875 \nQ 5.515625 13.8125 5.515625 26.8125 \nQ 5.515625 40.234375 12.765625 48.109375 \nQ 20.015625 56 32.328125 56 \nQ 43.359375 56 49.78125 48.890625 \nQ 56.203125 41.796875 56.203125 29.59375 \nz\nM 47.21875 32.234375 \nQ 47.125 39.59375 43.09375 43.984375 \nQ 39.0625 48.390625 32.421875 48.390625 \nQ 24.90625 48.390625 20.390625 44.140625 \nQ 15.875 39.890625 15.1875 32.171875 \nz\n\" id=\"DejaVuSans-101\"/>\n       <path d=\"M 40.578125 39.3125 \nQ 47.65625 37.796875 51.625 33 \nQ 55.609375 28.21875 55.609375 21.1875 \nQ 55.609375 10.40625 48.1875 4.484375 \nQ 40.765625 -1.421875 27.09375 -1.421875 \nQ 22.515625 -1.421875 17.65625 -0.515625 \nQ 12.796875 0.390625 7.625 2.203125 \nL 7.625 11.71875 \nQ 11.71875 9.328125 16.59375 8.109375 \nQ 21.484375 6.890625 26.8125 6.890625 \nQ 36.078125 6.890625 40.9375 10.546875 \nQ 45.796875 14.203125 45.796875 21.1875 \nQ 45.796875 27.640625 41.28125 31.265625 \nQ 36.765625 34.90625 28.71875 34.90625 \nL 20.21875 34.90625 \nL 20.21875 43.015625 \nL 29.109375 43.015625 \nQ 36.375 43.015625 40.234375 45.921875 \nQ 44.09375 48.828125 44.09375 54.296875 \nQ 44.09375 59.90625 40.109375 62.90625 \nQ 36.140625 65.921875 28.71875 65.921875 \nQ 24.65625 65.921875 20.015625 65.03125 \nQ 15.375 64.15625 9.8125 62.3125 \nL 9.8125 71.09375 \nQ 15.4375 72.65625 20.34375 73.4375 \nQ 25.25 74.21875 29.59375 74.21875 \nQ 40.828125 74.21875 47.359375 69.109375 \nQ 53.90625 64.015625 53.90625 55.328125 \nQ 53.90625 49.265625 50.4375 45.09375 \nQ 46.96875 40.921875 40.578125 39.3125 \nz\n\" id=\"DejaVuSans-51\"/>\n      </defs>\n      <use xlink:href=\"#DejaVuSans-49\"/>\n      <use x=\"63.623047\" xlink:href=\"#DejaVuSans-101\"/>\n      <use x=\"125.146484\" xlink:href=\"#DejaVuSans-51\"/>\n      <use x=\"188.769531\" xlink:href=\"#DejaVuSans-48\"/>\n     </g>\n    </g>\n   </g>\n   <g id=\"line2d_10\">\n    <path clip-path=\"url(#p1c00b63c84)\" d=\"M 65.383807 78.844427 \nL 68.458187 78.844427 \nL 71.532567 78.844427 \nL 74.606947 78.844427 \nL 77.681327 78.844427 \nL 80.755708 78.844427 \nL 83.830088 78.844427 \nL 86.904468 78.844427 \nL 89.978848 78.844427 \nL 93.053228 78.844427 \nL 96.127608 78.844427 \nL 99.201989 78.844427 \nL 102.276369 78.844427 \nL 105.350749 78.844427 \nL 108.425129 78.844427 \nL 111.499509 78.844427 \nL 114.573889 78.844427 \nL 117.64827 78.844427 \nL 120.72265 78.844427 \nL 123.79703 78.844427 \nL 126.87141 78.844427 \nL 129.94579 78.844427 \nL 133.02017 78.844427 \nL 136.094551 78.844427 \nL 139.168931 78.844427 \nL 142.243311 78.844427 \nL 145.317691 78.844427 \nL 148.392071 78.844427 \nL 151.466451 78.844426 \nL 154.540832 78.844426 \nL 157.615212 78.844425 \nL 160.689592 78.844425 \nL 163.763972 78.844423 \nL 166.838352 78.844421 \nL 169.912732 78.844418 \nL 172.987113 78.844414 \nL 176.061493 78.844407 \nL 179.135873 78.844398 \nL 182.210253 78.844384 \nL 185.284633 78.844364 \nL 188.359013 78.844336 \nL 191.433394 78.844297 \nL 194.507774 78.844242 \nL 197.582154 78.844166 \nL 200.656534 78.844061 \nL 203.730914 78.843919 \nL 206.805294 78.843725 \nL 209.879675 78.843465 \nL 212.954055 78.843116 \nL 216.028435 78.842653 \nL 219.102815 78.842039 \nL 222.177195 78.841231 \nL 225.251575 78.840175 \nL 228.325956 78.838799 \nL 231.400336 78.837015 \nL 234.474716 78.834715 \nL 237.549096 78.831762 \nL 240.623476 78.827987 \nL 243.697856 78.823182 \nL 246.772237 78.817091 \nL 249.846617 78.809399 \nL 252.920997 78.799723 \nL 255.995377 78.787597 \nL 259.069757 78.772454 \nL 262.144137 78.75361 \nL 265.218518 78.730237 \nL 268.292898 78.701343 \nL 271.367278 78.665736 \nL 274.441658 78.621991 \nL 277.516038 78.568408 \nL 280.590418 78.502964 \nL 283.664799 78.423259 \nL 286.739179 78.326449 \nL 289.813559 78.209178 \nL 292.887939 78.067488 \nL 295.962319 77.896725 \nL 299.036699 77.691428 \nL 302.11108 77.445204 \nL 305.18546 77.15058 \nL 308.25984 76.798841 \nL 311.33422 76.379846 \nL 314.4086 75.881809 \nL 317.48298 75.291067 \nL 320.557361 74.591801 \nL 323.631741 73.765737 \nL 326.706121 72.79179 \nL 329.780501 71.645685 \nL 332.854881 70.299508 \nL 335.929261 68.721224 \nL 339.003642 66.874115 \nL 342.078022 64.716165 \nL 345.152402 62.199371 \nL 348.226782 59.268963 \nL 351.301162 55.862542 \nL 354.375542 51.909121 \nL 357.449923 47.328046 \nL 360.524303 42.027812 \nL 363.598683 35.90473 \nL 366.673063 28.841462 \nL 369.747443 20.705389 \n\" style=\"fill:none;stroke:#1f77b4;stroke-linecap:square;stroke-width:1.5;\"/>\n   </g>\n   <g id=\"patch_3\">\n    <path d=\"M 50.165625 81.751379 \nL 50.165625 17.798438 \n\" style=\"fill:none;stroke:#000000;stroke-linecap:square;stroke-linejoin:miter;stroke-width:0.8;\"/>\n   </g>\n   <g id=\"patch_4\">\n    <path d=\"M 384.965625 81.751379 \nL 384.965625 17.798438 \n\" style=\"fill:none;stroke:#000000;stroke-linecap:square;stroke-linejoin:miter;stroke-width:0.8;\"/>\n   </g>\n   <g id=\"patch_5\">\n    <path d=\"M 50.165625 81.751379 \nL 384.965625 81.751379 \n\" style=\"fill:none;stroke:#000000;stroke-linecap:square;stroke-linejoin:miter;stroke-width:0.8;\"/>\n   </g>\n   <g id=\"patch_6\">\n    <path d=\"M 50.165625 17.798438 \nL 384.965625 17.798438 \n\" style=\"fill:none;stroke:#000000;stroke-linecap:square;stroke-linejoin:miter;stroke-width:0.8;\"/>\n   </g>\n  </g>\n  <g id=\"axes_2\">\n   <g id=\"patch_7\">\n    <path d=\"M 50.165625 158.494908 \nL 384.965625 158.494908 \nL 384.965625 94.541967 \nL 50.165625 94.541967 \nz\n\" style=\"fill:#ffffff;\"/>\n   </g>\n   <g id=\"matplotlib.axis_3\">\n    <g id=\"xtick_7\">\n     <g id=\"line2d_11\">\n      <g>\n       <use style=\"stroke:#000000;stroke-width:0.8;\" x=\"62.309427\" xlink:href=\"#m02c3d356fd\" y=\"158.494908\"/>\n      </g>\n     </g>\n    </g>\n    <g id=\"xtick_8\">\n     <g id=\"line2d_12\">\n      <g>\n       <use style=\"stroke:#000000;stroke-width:0.8;\" x=\"123.79703\" xlink:href=\"#m02c3d356fd\" y=\"158.494908\"/>\n      </g>\n     </g>\n    </g>\n    <g id=\"xtick_9\">\n     <g id=\"line2d_13\">\n      <g>\n       <use style=\"stroke:#000000;stroke-width:0.8;\" x=\"185.284633\" xlink:href=\"#m02c3d356fd\" y=\"158.494908\"/>\n      </g>\n     </g>\n    </g>\n    <g id=\"xtick_10\">\n     <g id=\"line2d_14\">\n      <g>\n       <use style=\"stroke:#000000;stroke-width:0.8;\" x=\"246.772237\" xlink:href=\"#m02c3d356fd\" y=\"158.494908\"/>\n      </g>\n     </g>\n    </g>\n    <g id=\"xtick_11\">\n     <g id=\"line2d_15\">\n      <g>\n       <use style=\"stroke:#000000;stroke-width:0.8;\" x=\"308.25984\" xlink:href=\"#m02c3d356fd\" y=\"158.494908\"/>\n      </g>\n     </g>\n    </g>\n    <g id=\"xtick_12\">\n     <g id=\"line2d_16\">\n      <g>\n       <use style=\"stroke:#000000;stroke-width:0.8;\" x=\"369.747443\" xlink:href=\"#m02c3d356fd\" y=\"158.494908\"/>\n      </g>\n     </g>\n    </g>\n   </g>\n   <g id=\"matplotlib.axis_4\">\n    <g id=\"ytick_4\">\n     <g id=\"line2d_17\">\n      <g>\n       <use style=\"stroke:#000000;stroke-width:0.8;\" x=\"50.165625\" xlink:href=\"#mf709bdb2fb\" y=\"155.587956\"/>\n      </g>\n     </g>\n     <g id=\"text_6\">\n      <!-- 0.00 -->\n      <g transform=\"translate(20.9 159.387175)scale(0.1 -0.1)\">\n       <use xlink:href=\"#DejaVuSans-48\"/>\n       <use x=\"63.623047\" xlink:href=\"#DejaVuSans-46\"/>\n       <use x=\"95.410156\" xlink:href=\"#DejaVuSans-48\"/>\n       <use x=\"159.033203\" xlink:href=\"#DejaVuSans-48\"/>\n      </g>\n     </g>\n    </g>\n    <g id=\"ytick_5\">\n     <g id=\"line2d_18\">\n      <g>\n       <use style=\"stroke:#000000;stroke-width:0.8;\" x=\"50.165625\" xlink:href=\"#mf709bdb2fb\" y=\"133.904643\"/>\n      </g>\n     </g>\n     <g id=\"text_7\">\n      <!-- 0.25 -->\n      <g transform=\"translate(20.9 137.703862)scale(0.1 -0.1)\">\n       <defs>\n        <path d=\"M 19.1875 8.296875 \nL 53.609375 8.296875 \nL 53.609375 0 \nL 7.328125 0 \nL 7.328125 8.296875 \nQ 12.9375 14.109375 22.625 23.890625 \nQ 32.328125 33.6875 34.8125 36.53125 \nQ 39.546875 41.84375 41.421875 45.53125 \nQ 43.3125 49.21875 43.3125 52.78125 \nQ 43.3125 58.59375 39.234375 62.25 \nQ 35.15625 65.921875 28.609375 65.921875 \nQ 23.96875 65.921875 18.8125 64.3125 \nQ 13.671875 62.703125 7.8125 59.421875 \nL 7.8125 69.390625 \nQ 13.765625 71.78125 18.9375 73 \nQ 24.125 74.21875 28.421875 74.21875 \nQ 39.75 74.21875 46.484375 68.546875 \nQ 53.21875 62.890625 53.21875 53.421875 \nQ 53.21875 48.921875 51.53125 44.890625 \nQ 49.859375 40.875 45.40625 35.40625 \nQ 44.1875 33.984375 37.640625 27.21875 \nQ 31.109375 20.453125 19.1875 8.296875 \nz\n\" id=\"DejaVuSans-50\"/>\n       </defs>\n       <use xlink:href=\"#DejaVuSans-48\"/>\n       <use x=\"63.623047\" xlink:href=\"#DejaVuSans-46\"/>\n       <use x=\"95.410156\" xlink:href=\"#DejaVuSans-50\"/>\n       <use x=\"159.033203\" xlink:href=\"#DejaVuSans-53\"/>\n      </g>\n     </g>\n    </g>\n    <g id=\"ytick_6\">\n     <g id=\"line2d_19\">\n      <g>\n       <use style=\"stroke:#000000;stroke-width:0.8;\" x=\"50.165625\" xlink:href=\"#mf709bdb2fb\" y=\"112.22133\"/>\n      </g>\n     </g>\n     <g id=\"text_8\">\n      <!-- 0.50 -->\n      <g transform=\"translate(20.9 116.020549)scale(0.1 -0.1)\">\n       <use xlink:href=\"#DejaVuSans-48\"/>\n       <use x=\"63.623047\" xlink:href=\"#DejaVuSans-46\"/>\n       <use x=\"95.410156\" xlink:href=\"#DejaVuSans-53\"/>\n       <use x=\"159.033203\" xlink:href=\"#DejaVuSans-48\"/>\n      </g>\n     </g>\n    </g>\n    <g id=\"text_9\">\n     <!-- $exp(-E/k_B T)$ -->\n     <g transform=\"translate(14.8 157.168438)rotate(-90)scale(0.1 -0.1)\">\n      <defs>\n       <path d=\"M 48.09375 32.234375 \nQ 48.25 33.015625 48.3125 33.84375 \nQ 48.390625 34.671875 48.390625 35.5 \nQ 48.390625 41.453125 44.890625 44.921875 \nQ 41.40625 48.390625 35.40625 48.390625 \nQ 28.71875 48.390625 23.578125 44.15625 \nQ 18.453125 39.9375 15.828125 32.171875 \nz\nM 55.90625 25.203125 \nL 14.109375 25.203125 \nQ 13.8125 23.34375 13.71875 22.265625 \nQ 13.625 21.1875 13.625 20.40625 \nQ 13.625 13.625 17.796875 9.90625 \nQ 21.96875 6.203125 29.59375 6.203125 \nQ 35.453125 6.203125 40.671875 7.515625 \nQ 45.90625 8.84375 50.390625 11.375 \nL 48.6875 2.484375 \nQ 43.84375 0.53125 38.6875 -0.4375 \nQ 33.546875 -1.421875 28.21875 -1.421875 \nQ 16.84375 -1.421875 10.71875 4.015625 \nQ 4.59375 9.46875 4.59375 19.484375 \nQ 4.59375 28.03125 7.640625 35.375 \nQ 10.6875 42.71875 16.609375 48.484375 \nQ 20.40625 52.09375 25.65625 54.046875 \nQ 30.90625 56 36.8125 56 \nQ 46.09375 56 51.578125 50.4375 \nQ 57.078125 44.875 57.078125 35.5 \nQ 57.078125 33.25 56.78125 30.6875 \nQ 56.5 28.125 55.90625 25.203125 \nz\n\" id=\"DejaVuSans-Oblique-101\"/>\n       <path d=\"M 60.015625 54.6875 \nL 34.90625 27.875 \nL 50.296875 0 \nL 39.984375 0 \nL 28.421875 21.6875 \nL 8.296875 0 \nL -2.59375 0 \nL 24.3125 28.8125 \nL 10.015625 54.6875 \nL 20.3125 54.6875 \nL 30.8125 34.90625 \nL 49.125 54.6875 \nz\n\" id=\"DejaVuSans-Oblique-120\"/>\n       <path d=\"M 49.609375 33.6875 \nQ 49.609375 40.875 46.484375 44.671875 \nQ 43.359375 48.484375 37.5 48.484375 \nQ 33.5 48.484375 29.859375 46.4375 \nQ 26.21875 44.390625 23.390625 40.484375 \nQ 20.609375 36.625 18.9375 31.15625 \nQ 17.28125 25.6875 17.28125 20.3125 \nQ 17.28125 13.484375 20.40625 9.796875 \nQ 23.53125 6.109375 29.296875 6.109375 \nQ 33.546875 6.109375 37.1875 8.109375 \nQ 40.828125 10.109375 43.40625 13.921875 \nQ 46.1875 17.921875 47.890625 23.34375 \nQ 49.609375 28.765625 49.609375 33.6875 \nz\nM 21.78125 46.390625 \nQ 25.390625 51.125 30.296875 53.5625 \nQ 35.203125 56 41.21875 56 \nQ 49.609375 56 54.25 50.5 \nQ 58.890625 45.015625 58.890625 35.109375 \nQ 58.890625 27 56 19.65625 \nQ 53.125 12.3125 47.703125 6.5 \nQ 44.09375 2.640625 39.546875 0.609375 \nQ 35.015625 -1.421875 29.984375 -1.421875 \nQ 24.171875 -1.421875 20.21875 1 \nQ 16.265625 3.421875 14.3125 8.203125 \nL 8.6875 -20.796875 \nL -0.296875 -20.796875 \nL 14.40625 54.6875 \nL 23.390625 54.6875 \nz\n\" id=\"DejaVuSans-Oblique-112\"/>\n       <path d=\"M 10.59375 35.5 \nL 73.1875 35.5 \nL 73.1875 27.203125 \nL 10.59375 27.203125 \nz\n\" id=\"DejaVuSans-8722\"/>\n       <path d=\"M 25.390625 72.90625 \nL 33.6875 72.90625 \nL 8.296875 -9.28125 \nL 0 -9.28125 \nz\n\" id=\"DejaVuSans-47\"/>\n       <path d=\"M 18.3125 75.984375 \nL 27.296875 75.984375 \nL 18.703125 31.6875 \nL 49.515625 54.6875 \nL 61.1875 54.6875 \nL 26.8125 28.515625 \nL 51.90625 0 \nL 41.015625 0 \nL 17.671875 26.703125 \nL 12.5 0 \nL 3.515625 0 \nz\n\" id=\"DejaVuSans-Oblique-107\"/>\n       <path d=\"M 16.890625 72.90625 \nL 42.09375 72.90625 \nQ 52.34375 72.90625 57.421875 69.09375 \nQ 62.5 65.28125 62.5 57.625 \nQ 62.5 50.59375 58.125 45.484375 \nQ 53.765625 40.375 46.6875 39.3125 \nQ 52.734375 37.9375 55.765625 34.078125 \nQ 58.796875 30.21875 58.796875 23.78125 \nQ 58.796875 12.796875 50.65625 6.390625 \nQ 42.53125 0 28.421875 0 \nL 2.6875 0 \nz\nM 19.28125 34.8125 \nL 14.109375 8.109375 \nL 29.984375 8.109375 \nQ 38.921875 8.109375 43.75 12.203125 \nQ 48.578125 16.3125 48.578125 23.78125 \nQ 48.578125 29.546875 45.375 32.171875 \nQ 42.1875 34.8125 35.109375 34.8125 \nz\nM 25.09375 64.796875 \nL 20.796875 42.828125 \nL 35.5 42.828125 \nQ 43.359375 42.828125 47.78125 46.234375 \nQ 52.203125 49.65625 52.203125 55.71875 \nQ 52.203125 60.453125 49.21875 62.625 \nQ 46.234375 64.796875 39.703125 64.796875 \nz\n\" id=\"DejaVuSans-Oblique-66\"/>\n       <path d=\"M 5.90625 72.90625 \nL 67.578125 72.90625 \nL 66.015625 64.59375 \nL 39.984375 64.59375 \nL 27.484375 0 \nL 17.578125 0 \nL 30.078125 64.59375 \nL 4.296875 64.59375 \nz\n\" id=\"DejaVuSans-Oblique-84\"/>\n      </defs>\n      <use transform=\"translate(0 0.015625)\" xlink:href=\"#DejaVuSans-Oblique-101\"/>\n      <use transform=\"translate(61.523438 0.015625)\" xlink:href=\"#DejaVuSans-Oblique-120\"/>\n      <use transform=\"translate(120.703125 0.015625)\" xlink:href=\"#DejaVuSans-Oblique-112\"/>\n      <use transform=\"translate(184.179688 0.015625)\" xlink:href=\"#DejaVuSans-40\"/>\n      <use transform=\"translate(223.193359 0.015625)\" xlink:href=\"#DejaVuSans-8722\"/>\n      <use transform=\"translate(306.982422 0.015625)\" xlink:href=\"#DejaVuSans-Oblique-69\"/>\n      <use transform=\"translate(370.166016 0.015625)\" xlink:href=\"#DejaVuSans-47\"/>\n      <use transform=\"translate(403.857422 0.015625)\" xlink:href=\"#DejaVuSans-Oblique-107\"/>\n      <use transform=\"translate(461.767578 -16.390625)scale(0.7)\" xlink:href=\"#DejaVuSans-Oblique-66\"/>\n      <use transform=\"translate(512.524414 0.015625)\" xlink:href=\"#DejaVuSans-Oblique-84\"/>\n      <use transform=\"translate(573.608398 0.015625)\" xlink:href=\"#DejaVuSans-41\"/>\n     </g>\n    </g>\n   </g>\n   <g id=\"line2d_20\">\n    <path clip-path=\"url(#p3ce33c82b1)\" d=\"M 65.383807 97.448919 \nL 68.458187 116.616194 \nL 71.532567 129.464403 \nL 74.606947 138.076815 \nL 77.681327 143.849887 \nL 80.755708 147.719693 \nL 83.830088 150.313702 \nL 86.904468 152.052518 \nL 89.978848 153.218081 \nL 93.053228 153.999381 \nL 96.127608 154.523103 \nL 99.201989 154.874163 \nL 102.276369 155.109487 \nL 105.350749 155.267228 \nL 108.425129 155.372966 \nL 111.499509 155.443844 \nL 114.573889 155.491355 \nL 117.64827 155.523202 \nL 120.72265 155.54455 \nL 123.79703 155.55886 \nL 126.87141 155.568453 \nL 129.94579 155.574883 \nL 133.02017 155.579193 \nL 136.094551 155.582082 \nL 139.168931 155.584019 \nL 142.243311 155.585317 \nL 145.317691 155.586187 \nL 148.392071 155.58677 \nL 151.466451 155.587161 \nL 154.540832 155.587423 \nL 157.615212 155.587599 \nL 160.689592 155.587717 \nL 163.763972 155.587796 \nL 166.838352 155.587849 \nL 169.912732 155.587884 \nL 172.987113 155.587908 \nL 176.061493 155.587924 \nL 179.135873 155.587934 \nL 182.210253 155.587942 \nL 185.284633 155.587946 \nL 188.359013 155.58795 \nL 191.433394 155.587952 \nL 194.507774 155.587953 \nL 197.582154 155.587954 \nL 200.656534 155.587955 \nL 203.730914 155.587955 \nL 206.805294 155.587956 \nL 209.879675 155.587956 \nL 212.954055 155.587956 \nL 216.028435 155.587956 \nL 219.102815 155.587956 \nL 222.177195 155.587956 \nL 225.251575 155.587956 \nL 228.325956 155.587956 \nL 231.400336 155.587956 \nL 234.474716 155.587956 \nL 237.549096 155.587956 \nL 240.623476 155.587956 \nL 243.697856 155.587956 \nL 246.772237 155.587956 \nL 249.846617 155.587956 \nL 252.920997 155.587956 \nL 255.995377 155.587956 \nL 259.069757 155.587956 \nL 262.144137 155.587956 \nL 265.218518 155.587956 \nL 268.292898 155.587956 \nL 271.367278 155.587956 \nL 274.441658 155.587956 \nL 277.516038 155.587956 \nL 280.590418 155.587956 \nL 283.664799 155.587956 \nL 286.739179 155.587956 \nL 289.813559 155.587956 \nL 292.887939 155.587956 \nL 295.962319 155.587956 \nL 299.036699 155.587956 \nL 302.11108 155.587956 \nL 305.18546 155.587956 \nL 308.25984 155.587956 \nL 311.33422 155.587956 \nL 314.4086 155.587956 \nL 317.48298 155.587956 \nL 320.557361 155.587956 \nL 323.631741 155.587956 \nL 326.706121 155.587956 \nL 329.780501 155.587956 \nL 332.854881 155.587956 \nL 335.929261 155.587956 \nL 339.003642 155.587956 \nL 342.078022 155.587956 \nL 345.152402 155.587956 \nL 348.226782 155.587956 \nL 351.301162 155.587956 \nL 354.375542 155.587956 \nL 357.449923 155.587956 \nL 360.524303 155.587956 \nL 363.598683 155.587956 \nL 366.673063 155.587956 \nL 369.747443 155.587956 \n\" style=\"fill:none;stroke:#1f77b4;stroke-linecap:square;stroke-width:1.5;\"/>\n   </g>\n   <g id=\"patch_8\">\n    <path d=\"M 50.165625 158.494908 \nL 50.165625 94.541967 \n\" style=\"fill:none;stroke:#000000;stroke-linecap:square;stroke-linejoin:miter;stroke-width:0.8;\"/>\n   </g>\n   <g id=\"patch_9\">\n    <path d=\"M 384.965625 158.494908 \nL 384.965625 94.541967 \n\" style=\"fill:none;stroke:#000000;stroke-linecap:square;stroke-linejoin:miter;stroke-width:0.8;\"/>\n   </g>\n   <g id=\"patch_10\">\n    <path d=\"M 50.165625 158.494908 \nL 384.965625 158.494908 \n\" style=\"fill:none;stroke:#000000;stroke-linecap:square;stroke-linejoin:miter;stroke-width:0.8;\"/>\n   </g>\n   <g id=\"patch_11\">\n    <path d=\"M 50.165625 94.541967 \nL 384.965625 94.541967 \n\" style=\"fill:none;stroke:#000000;stroke-linecap:square;stroke-linejoin:miter;stroke-width:0.8;\"/>\n   </g>\n  </g>\n  <g id=\"axes_3\">\n   <g id=\"patch_12\">\n    <path d=\"M 50.165625 235.238438 \nL 384.965625 235.238438 \nL 384.965625 171.285496 \nL 50.165625 171.285496 \nz\n\" style=\"fill:#ffffff;\"/>\n   </g>\n   <g id=\"matplotlib.axis_5\">\n    <g id=\"xtick_13\">\n     <g id=\"line2d_21\">\n      <g>\n       <use style=\"stroke:#000000;stroke-width:0.8;\" x=\"62.309427\" xlink:href=\"#m02c3d356fd\" y=\"235.238438\"/>\n      </g>\n     </g>\n     <g id=\"text_10\">\n      <!-- 0 -->\n      <g transform=\"translate(59.128177 249.836875)scale(0.1 -0.1)\">\n       <use xlink:href=\"#DejaVuSans-48\"/>\n      </g>\n     </g>\n    </g>\n    <g id=\"xtick_14\">\n     <g id=\"line2d_22\">\n      <g>\n       <use style=\"stroke:#000000;stroke-width:0.8;\" x=\"123.79703\" xlink:href=\"#m02c3d356fd\" y=\"235.238438\"/>\n      </g>\n     </g>\n     <g id=\"text_11\">\n      <!-- 20 -->\n      <g transform=\"translate(117.43453 249.836875)scale(0.1 -0.1)\">\n       <use xlink:href=\"#DejaVuSans-50\"/>\n       <use x=\"63.623047\" xlink:href=\"#DejaVuSans-48\"/>\n      </g>\n     </g>\n    </g>\n    <g id=\"xtick_15\">\n     <g id=\"line2d_23\">\n      <g>\n       <use style=\"stroke:#000000;stroke-width:0.8;\" x=\"185.284633\" xlink:href=\"#m02c3d356fd\" y=\"235.238438\"/>\n      </g>\n     </g>\n     <g id=\"text_12\">\n      <!-- 40 -->\n      <g transform=\"translate(178.922133 249.836875)scale(0.1 -0.1)\">\n       <defs>\n        <path d=\"M 37.796875 64.3125 \nL 12.890625 25.390625 \nL 37.796875 25.390625 \nz\nM 35.203125 72.90625 \nL 47.609375 72.90625 \nL 47.609375 25.390625 \nL 58.015625 25.390625 \nL 58.015625 17.1875 \nL 47.609375 17.1875 \nL 47.609375 0 \nL 37.796875 0 \nL 37.796875 17.1875 \nL 4.890625 17.1875 \nL 4.890625 26.703125 \nz\n\" id=\"DejaVuSans-52\"/>\n       </defs>\n       <use xlink:href=\"#DejaVuSans-52\"/>\n       <use x=\"63.623047\" xlink:href=\"#DejaVuSans-48\"/>\n      </g>\n     </g>\n    </g>\n    <g id=\"xtick_16\">\n     <g id=\"line2d_24\">\n      <g>\n       <use style=\"stroke:#000000;stroke-width:0.8;\" x=\"246.772237\" xlink:href=\"#m02c3d356fd\" y=\"235.238438\"/>\n      </g>\n     </g>\n     <g id=\"text_13\">\n      <!-- 60 -->\n      <g transform=\"translate(240.409737 249.836875)scale(0.1 -0.1)\">\n       <defs>\n        <path d=\"M 33.015625 40.375 \nQ 26.375 40.375 22.484375 35.828125 \nQ 18.609375 31.296875 18.609375 23.390625 \nQ 18.609375 15.53125 22.484375 10.953125 \nQ 26.375 6.390625 33.015625 6.390625 \nQ 39.65625 6.390625 43.53125 10.953125 \nQ 47.40625 15.53125 47.40625 23.390625 \nQ 47.40625 31.296875 43.53125 35.828125 \nQ 39.65625 40.375 33.015625 40.375 \nz\nM 52.59375 71.296875 \nL 52.59375 62.3125 \nQ 48.875 64.0625 45.09375 64.984375 \nQ 41.3125 65.921875 37.59375 65.921875 \nQ 27.828125 65.921875 22.671875 59.328125 \nQ 17.53125 52.734375 16.796875 39.40625 \nQ 19.671875 43.65625 24.015625 45.921875 \nQ 28.375 48.1875 33.59375 48.1875 \nQ 44.578125 48.1875 50.953125 41.515625 \nQ 57.328125 34.859375 57.328125 23.390625 \nQ 57.328125 12.15625 50.6875 5.359375 \nQ 44.046875 -1.421875 33.015625 -1.421875 \nQ 20.359375 -1.421875 13.671875 8.265625 \nQ 6.984375 17.96875 6.984375 36.375 \nQ 6.984375 53.65625 15.1875 63.9375 \nQ 23.390625 74.21875 37.203125 74.21875 \nQ 40.921875 74.21875 44.703125 73.484375 \nQ 48.484375 72.75 52.59375 71.296875 \nz\n\" id=\"DejaVuSans-54\"/>\n       </defs>\n       <use xlink:href=\"#DejaVuSans-54\"/>\n       <use x=\"63.623047\" xlink:href=\"#DejaVuSans-48\"/>\n      </g>\n     </g>\n    </g>\n    <g id=\"xtick_17\">\n     <g id=\"line2d_25\">\n      <g>\n       <use style=\"stroke:#000000;stroke-width:0.8;\" x=\"308.25984\" xlink:href=\"#m02c3d356fd\" y=\"235.238438\"/>\n      </g>\n     </g>\n     <g id=\"text_14\">\n      <!-- 80 -->\n      <g transform=\"translate(301.89734 249.836875)scale(0.1 -0.1)\">\n       <defs>\n        <path d=\"M 31.78125 34.625 \nQ 24.75 34.625 20.71875 30.859375 \nQ 16.703125 27.09375 16.703125 20.515625 \nQ 16.703125 13.921875 20.71875 10.15625 \nQ 24.75 6.390625 31.78125 6.390625 \nQ 38.8125 6.390625 42.859375 10.171875 \nQ 46.921875 13.96875 46.921875 20.515625 \nQ 46.921875 27.09375 42.890625 30.859375 \nQ 38.875 34.625 31.78125 34.625 \nz\nM 21.921875 38.8125 \nQ 15.578125 40.375 12.03125 44.71875 \nQ 8.5 49.078125 8.5 55.328125 \nQ 8.5 64.0625 14.71875 69.140625 \nQ 20.953125 74.21875 31.78125 74.21875 \nQ 42.671875 74.21875 48.875 69.140625 \nQ 55.078125 64.0625 55.078125 55.328125 \nQ 55.078125 49.078125 51.53125 44.71875 \nQ 48 40.375 41.703125 38.8125 \nQ 48.828125 37.15625 52.796875 32.3125 \nQ 56.78125 27.484375 56.78125 20.515625 \nQ 56.78125 9.90625 50.3125 4.234375 \nQ 43.84375 -1.421875 31.78125 -1.421875 \nQ 19.734375 -1.421875 13.25 4.234375 \nQ 6.78125 9.90625 6.78125 20.515625 \nQ 6.78125 27.484375 10.78125 32.3125 \nQ 14.796875 37.15625 21.921875 38.8125 \nz\nM 18.3125 54.390625 \nQ 18.3125 48.734375 21.84375 45.5625 \nQ 25.390625 42.390625 31.78125 42.390625 \nQ 38.140625 42.390625 41.71875 45.5625 \nQ 45.3125 48.734375 45.3125 54.390625 \nQ 45.3125 60.0625 41.71875 63.234375 \nQ 38.140625 66.40625 31.78125 66.40625 \nQ 25.390625 66.40625 21.84375 63.234375 \nQ 18.3125 60.0625 18.3125 54.390625 \nz\n\" id=\"DejaVuSans-56\"/>\n       </defs>\n       <use xlink:href=\"#DejaVuSans-56\"/>\n       <use x=\"63.623047\" xlink:href=\"#DejaVuSans-48\"/>\n      </g>\n     </g>\n    </g>\n    <g id=\"xtick_18\">\n     <g id=\"line2d_26\">\n      <g>\n       <use style=\"stroke:#000000;stroke-width:0.8;\" x=\"369.747443\" xlink:href=\"#m02c3d356fd\" y=\"235.238438\"/>\n      </g>\n     </g>\n     <g id=\"text_15\">\n      <!-- 100 -->\n      <g transform=\"translate(360.203693 249.836875)scale(0.1 -0.1)\">\n       <use xlink:href=\"#DejaVuSans-49\"/>\n       <use x=\"63.623047\" xlink:href=\"#DejaVuSans-48\"/>\n       <use x=\"127.246094\" xlink:href=\"#DejaVuSans-48\"/>\n      </g>\n     </g>\n    </g>\n    <g id=\"text_16\">\n     <!-- $E$ -->\n     <g transform=\"translate(214.365625 263.515)scale(0.1 -0.1)\">\n      <use transform=\"translate(0 0.09375)\" xlink:href=\"#DejaVuSans-Oblique-69\"/>\n     </g>\n    </g>\n   </g>\n   <g id=\"matplotlib.axis_6\">\n    <g id=\"ytick_7\">\n     <g id=\"line2d_27\">\n      <g>\n       <use style=\"stroke:#000000;stroke-width:0.8;\" x=\"50.165625\" xlink:href=\"#mf709bdb2fb\" y=\"232.331486\"/>\n      </g>\n     </g>\n     <g id=\"text_17\">\n      <!-- 0.0 -->\n      <g transform=\"translate(27.2625 236.130704)scale(0.1 -0.1)\">\n       <use xlink:href=\"#DejaVuSans-48\"/>\n       <use x=\"63.623047\" xlink:href=\"#DejaVuSans-46\"/>\n       <use x=\"95.410156\" xlink:href=\"#DejaVuSans-48\"/>\n      </g>\n     </g>\n    </g>\n    <g id=\"ytick_8\">\n     <g id=\"line2d_28\">\n      <g>\n       <use style=\"stroke:#000000;stroke-width:0.8;\" x=\"50.165625\" xlink:href=\"#mf709bdb2fb\" y=\"208.999053\"/>\n      </g>\n     </g>\n     <g id=\"text_18\">\n      <!-- 0.5 -->\n      <g transform=\"translate(27.2625 212.798272)scale(0.1 -0.1)\">\n       <use xlink:href=\"#DejaVuSans-48\"/>\n       <use x=\"63.623047\" xlink:href=\"#DejaVuSans-46\"/>\n       <use x=\"95.410156\" xlink:href=\"#DejaVuSans-53\"/>\n      </g>\n     </g>\n    </g>\n    <g id=\"ytick_9\">\n     <g id=\"line2d_29\">\n      <g>\n       <use style=\"stroke:#000000;stroke-width:0.8;\" x=\"50.165625\" xlink:href=\"#mf709bdb2fb\" y=\"185.666621\"/>\n      </g>\n     </g>\n     <g id=\"text_19\">\n      <!-- 1.0 -->\n      <g transform=\"translate(27.2625 189.465839)scale(0.1 -0.1)\">\n       <use xlink:href=\"#DejaVuSans-49\"/>\n       <use x=\"63.623047\" xlink:href=\"#DejaVuSans-46\"/>\n       <use x=\"95.410156\" xlink:href=\"#DejaVuSans-48\"/>\n      </g>\n     </g>\n    </g>\n    <g id=\"text_20\">\n     <!-- $\\Omega(E) exp(-E/k_B T)$ -->\n     <g transform=\"translate(21.1625 244.811967)rotate(-90)scale(0.1 -0.1)\">\n      <use transform=\"translate(0 0.015625)\" xlink:href=\"#DejaVuSans-937\"/>\n      <use transform=\"translate(76.416016 0.015625)\" xlink:href=\"#DejaVuSans-40\"/>\n      <use transform=\"translate(115.429688 0.015625)\" xlink:href=\"#DejaVuSans-Oblique-69\"/>\n      <use transform=\"translate(178.613281 0.015625)\" xlink:href=\"#DejaVuSans-41\"/>\n      <use transform=\"translate(217.626953 0.015625)\" xlink:href=\"#DejaVuSans-Oblique-101\"/>\n      <use transform=\"translate(279.150391 0.015625)\" xlink:href=\"#DejaVuSans-Oblique-120\"/>\n      <use transform=\"translate(338.330078 0.015625)\" xlink:href=\"#DejaVuSans-Oblique-112\"/>\n      <use transform=\"translate(401.806641 0.015625)\" xlink:href=\"#DejaVuSans-40\"/>\n      <use transform=\"translate(440.820312 0.015625)\" xlink:href=\"#DejaVuSans-8722\"/>\n      <use transform=\"translate(524.609375 0.015625)\" xlink:href=\"#DejaVuSans-Oblique-69\"/>\n      <use transform=\"translate(587.792969 0.015625)\" xlink:href=\"#DejaVuSans-47\"/>\n      <use transform=\"translate(621.484375 0.015625)\" xlink:href=\"#DejaVuSans-Oblique-107\"/>\n      <use transform=\"translate(679.394531 -16.390625)scale(0.7)\" xlink:href=\"#DejaVuSans-Oblique-66\"/>\n      <use transform=\"translate(730.151367 0.015625)\" xlink:href=\"#DejaVuSans-Oblique-84\"/>\n      <use transform=\"translate(791.235352 0.015625)\" xlink:href=\"#DejaVuSans-41\"/>\n     </g>\n    </g>\n    <g id=\"text_21\">\n     <!-- 1e17 -->\n     <g transform=\"translate(50.165625 168.285496)scale(0.1 -0.1)\">\n      <defs>\n       <path d=\"M 8.203125 72.90625 \nL 55.078125 72.90625 \nL 55.078125 68.703125 \nL 28.609375 0 \nL 18.3125 0 \nL 43.21875 64.59375 \nL 8.203125 64.59375 \nz\n\" id=\"DejaVuSans-55\"/>\n      </defs>\n      <use xlink:href=\"#DejaVuSans-49\"/>\n      <use x=\"63.623047\" xlink:href=\"#DejaVuSans-101\"/>\n      <use x=\"125.146484\" xlink:href=\"#DejaVuSans-49\"/>\n      <use x=\"188.769531\" xlink:href=\"#DejaVuSans-55\"/>\n     </g>\n    </g>\n   </g>\n   <g id=\"line2d_30\">\n    <path clip-path=\"url(#p02b8e44be5)\" d=\"M 65.383807 232.331486 \nL 68.458187 232.331486 \nL 71.532567 232.331486 \nL 74.606947 232.331486 \nL 77.681327 232.331484 \nL 80.755708 232.331466 \nL 83.830088 232.331351 \nL 86.904468 232.330816 \nL 89.978848 232.32886 \nL 93.053228 232.322939 \nL 96.127608 232.307553 \nL 99.201989 232.272316 \nL 102.276369 232.199718 \nL 105.350749 232.063037 \nL 108.425129 231.824971 \nL 111.499509 231.437552 \nL 114.573889 230.843765 \nL 117.64827 229.981002 \nL 120.72265 228.786161 \nL 123.79703 227.201879 \nL 126.87141 225.183136 \nL 129.94579 222.703426 \nL 133.02017 219.759661 \nL 136.094551 216.375207 \nL 139.168931 212.600657 \nL 142.243311 208.512261 \nL 145.317691 204.208199 \nL 148.392071 199.803117 \nL 151.466451 195.42149 \nL 154.540832 191.190466 \nL 157.615212 187.232804 \nL 160.689592 183.66048 \nL 163.763972 180.569378 \nL 166.838352 178.035363 \nL 169.912732 176.111862 \nL 172.987113 174.828951 \nL 176.061493 174.193826 \nL 179.135873 174.192448 \nL 182.210253 174.792103 \nL 185.284633 175.944592 \nL 188.359013 177.589776 \nL 191.433394 179.659211 \nL 194.507774 182.07967 \nL 197.582154 184.776366 \nL 200.656534 187.675771 \nL 203.730914 190.707945 \nL 206.805294 193.808351 \nL 209.879675 196.919154 \nL 212.954055 199.990045 \nL 216.028435 202.978625 \nL 219.102815 205.850434 \nL 222.177195 208.578678 \nL 225.251575 211.143726 \nL 228.325956 213.532449 \nL 231.400336 215.73746 \nL 234.474716 217.756302 \nL 237.549096 219.590628 \nL 240.623476 221.245407 \nL 243.697856 222.728187 \nL 246.772237 224.048418 \nL 249.846617 225.216858 \nL 252.920997 226.245062 \nL 255.995377 227.144951 \nL 259.069757 227.928463 \nL 262.144137 228.607278 \nL 265.218518 229.192606 \nL 268.292898 229.695033 \nL 271.367278 230.124427 \nL 274.441658 230.489871 \nL 277.516038 230.79964 \nL 280.590418 231.061198 \nL 283.664799 231.281227 \nL 286.739179 231.465653 \nL 289.813559 231.6197 \nL 292.887939 231.74794 \nL 295.962319 231.85435 \nL 299.036699 231.942368 \nL 302.11108 232.014951 \nL 305.18546 232.074629 \nL 308.25984 232.123556 \nL 311.33422 232.163557 \nL 314.4086 232.196173 \nL 317.48298 232.222697 \nL 320.557361 232.244212 \nL 323.631741 232.26162 \nL 326.706121 232.275672 \nL 329.780501 232.286989 \nL 332.854881 232.296081 \nL 335.929261 232.303369 \nL 339.003642 232.3092 \nL 342.078022 232.313854 \nL 345.152402 232.317561 \nL 348.226782 232.320509 \nL 351.301162 232.322847 \nL 354.375542 232.324699 \nL 357.449923 232.326163 \nL 360.524303 232.327318 \nL 363.598683 232.328227 \nL 366.673063 232.328942 \nL 369.747443 232.329503 \n\" style=\"fill:none;stroke:#1f77b4;stroke-linecap:square;stroke-width:1.5;\"/>\n   </g>\n   <g id=\"patch_13\">\n    <path d=\"M 50.165625 235.238438 \nL 50.165625 171.285496 \n\" style=\"fill:none;stroke:#000000;stroke-linecap:square;stroke-linejoin:miter;stroke-width:0.8;\"/>\n   </g>\n   <g id=\"patch_14\">\n    <path d=\"M 384.965625 235.238438 \nL 384.965625 171.285496 \n\" style=\"fill:none;stroke:#000000;stroke-linecap:square;stroke-linejoin:miter;stroke-width:0.8;\"/>\n   </g>\n   <g id=\"patch_15\">\n    <path d=\"M 50.165625 235.238438 \nL 384.965625 235.238438 \n\" style=\"fill:none;stroke:#000000;stroke-linecap:square;stroke-linejoin:miter;stroke-width:0.8;\"/>\n   </g>\n   <g id=\"patch_16\">\n    <path d=\"M 50.165625 171.285496 \nL 384.965625 171.285496 \n\" style=\"fill:none;stroke:#000000;stroke-linecap:square;stroke-linejoin:miter;stroke-width:0.8;\"/>\n   </g>\n  </g>\n </g>\n <defs>\n  <clipPath id=\"p1c00b63c84\">\n   <rect height=\"63.952941\" width=\"334.8\" x=\"50.165625\" y=\"17.798438\"/>\n  </clipPath>\n  <clipPath id=\"p3ce33c82b1\">\n   <rect height=\"63.952941\" width=\"334.8\" x=\"50.165625\" y=\"94.541967\"/>\n  </clipPath>\n  <clipPath id=\"p02b8e44be5\">\n   <rect height=\"63.952941\" width=\"334.8\" x=\"50.165625\" y=\"171.285496\"/>\n  </clipPath>\n </defs>\n</svg>\n",
            "image/png": "[encoded data removed]"
          },
          "metadata": {
            "needs_background": "light"
          }
        }
      ],
      "execution_count": 49,
      "metadata": {
        "slideshow": {
          "slide_type": "slide"
        }
      }
    },
    {
      "cell_type": "markdown",
      "source": [
        "### Why free energy is a central quantity in the NVT ensemble.\n",
        "\n",
        "\n",
        "As we have learned in Thermodynamics, after legendre transorm $NVE\\rightarrow NVT$ the entropy maximiziation (energy minimization) principle gets replaced by the free energy minimization prinicple.  \n",
        "\n",
        "Now we can show thatn indded the free energy governs probabilities of states in the NVT ensemble:\n",
        "\n",
        "$$p_1 =\\frac{\\Omega (E_1) e^{-\\beta E_1}}{Z} = \\frac{e^{-\\beta F_1}}{e^{-\\beta F}}$$\n",
        "\n",
        "Often we re interested in relative probabilities of different states, e.g conformation A vs B of polymer:\n",
        "\n",
        "$$\\frac{p_2}{p_1} = e^{-\\beta (F_2-F_1)} $$"
      ],
      "metadata": {
        "slideshow": {
          "slide_type": "slide"
        }
      }
    },
    {
      "cell_type": "markdown",
      "source": [
        "### logZ as cumulant generating function\n",
        "\n",
        "- **Moment generation function $M(k)$**\n",
        "\n",
        "$$M(k) = \\int f(x) e^{kx} dx = \\langle e^{kx} \\rangle$$\n",
        "\n",
        "$$M(k) = 1 +\\langle x \\rangle k + \\frac{1}{2!} \\langle x^2 \\rangle k^2 + ...$$\n",
        "\n",
        "- **Cumulant generation function $C(k)=log M(k)$:**\n",
        "\n",
        "$$C(k) = log \\langle e^{kx} \\rangle$$\n",
        "\n",
        "$$\\langle e^{kx} \\rangle = e^{C(k)} = e^{[1 +\\langle x \\rangle k + \\frac{1}{2!} \\langle x^2 \\rangle k^2 + ...]}= 1+\\kappa_1 k^2 +\\kappa_2 k^2 + ...$$\n",
        "\n",
        "First two cumulants are mean and fluctuation!\n",
        "\n",
        "1. $k_1 = \\langle x \\rangle$\n",
        "\n",
        "2. $k_2 = \\langle (x-\\langle x \\rangle)^2 \\rangle$ "
      ],
      "metadata": {
        "slideshow": {
          "slide_type": "slide"
        }
      }
    },
    {
      "cell_type": "markdown",
      "source": [
        "### Energy fluctuations\n",
        "\n",
        "$$\\langle E \\rangle = \\frac{\\partial log Z}{\\partial (-\\beta)}$$\n",
        "\n",
        "$$\\sigma^2_E = \\frac{\\partial^2 log Z}{\\partial \\beta^2} = -\\frac{\\partial \\langle E \\rangle}{\\partial \\beta} = k_BT^2 C_v$$\n",
        "\n",
        "$$\\frac{\\sigma_E}{\\langle E\\rangle} = \\frac{(k_BT^2 C_v)^{1/2}}{\\langle E\\rangle}\\sim O(N^{-1/2})$$"
      ],
      "metadata": {
        "slideshow": {
          "slide_type": "slide"
        }
      }
    },
    {
      "cell_type": "markdown",
      "source": [
        "### Microscopic origins of quasistatic process, heat, work and entropy and all that\n",
        "\n",
        "$$U = \\langle E\\rangle =\\sum_i p_i E_i$$\n",
        "\n",
        "$$dU = \\sum_i p_i dE_i + \\sum_i E_i dp_i = \\delta W +\\delta Q$$\n",
        "\n",
        "### General criteria of equilibrium\n",
        "\n",
        "Consider a total system consisting of a heat reservoir and a subsystem. \n",
        "\n",
        "- Subsystem exchanges heat $Q=-Q^{'}$ with reservoir at a constant temperature $T$\n",
        "\n",
        "$$\\Delta S_0 = \\Delta S + \\Delta S^{'}$$\n",
        "\n",
        "\n",
        "$$log \\Omega^{'}(U^{'}+Q^{'}) \\approx log \\Omega^{'}(U^{'}) + \\frac{\\partial \\Omega^{'}}{\\partial U^{'}}+ ... = log \\Omega^{'}(U^{'})  + \\beta^{'} Q^{'}$$\n",
        "\n",
        "$$log \\Omega^{'}(U^{'}+Q^{'}) - log \\Omega^{'}(U^{'}) = \\Delta S^{'} = \\frac{Q^{'}}{T}$$\n",
        "\n",
        "Now consider that subssytem does work agains the reservoir $Q = \\Delta U + W$\n",
        "\n",
        "$$\\Delta S_0 = \\Delta S - \\frac{\\Delta U + W}{T} \\geq 0$$\n",
        "\n",
        "Defining $F = U-TS$ we define a new thermodynamic potential that for $T=T^{'}=const$ predicts equilibrium.\n",
        "\n",
        "$$ -\\frac{\\Delta (U-TS)+W}{T} = -\\frac{\\Delta F + W}{T} \\geq 0$$\n",
        "\n",
        "**maxmimum amount of work**  $W$ that a system can do in a contact with a heat bath is $-\\Delta F$ which correpsonds to a reversible work. Irreversible work leads to dissipation of the free energy into the reservioir in the form of heat. \n",
        "\n",
        "**Free energy decreases in the sponteneous process (fixed work coordinates)** reaching a minimium corresponding to an equilibrium state\n",
        "\n",
        "$$\\Delta F \\leq 0 $$\n",
        "\n",
        "\n",
        "\n",
        "-  Note that $U=const$, $V=const$ correspond to $\\Delta S \\geq 0$ (Entropy maximization) \n",
        "-  Note that $S=const$, $V=const$ correspond to $\\Delta E \\leq 0$ (Energy minimization)"
      ],
      "metadata": {}
    },
    {
      "cell_type": "markdown",
      "source": [
        "##  Ensemble equivalence\n",
        "\n",
        "### NVE vs NVT: A two state model"
      ],
      "metadata": {
        "slideshow": {
          "slide_type": "slide"
        }
      }
    },
    {
      "cell_type": "markdown",
      "source": [
        "Let us consider simple two level system where lower level $\\epsilon_0 = 0$ and upper level $\\epsilon_1 =\\epsilon$. We will now use $NVE$ ensemble to obtian thermodynamic quantities $(S, T, C_v)$ and then obtain same quantities with $NVT$.\n",
        "\n",
        "$$E = n\\epsilon$$\n",
        "\n",
        "$$\\Omega(E) = \\frac{N!}{(N-n)! n!}$$\n",
        "\n",
        "$$S = k_B log \\Omega(E) = N k_B \\Big [- \\frac{n}{N}log \\frac{n}{N} - \\frac{N-n}{N}log \\frac{N-n}{N} \\Big]$$\n",
        "\n",
        "$$\\frac{1}{T} = \\frac{\\partial S(E)}{\\partial E} =  \\frac{k_B}{\\epsilon}\\frac{\\partial log\\Omega(n)}{\\partial  n} = \\frac{k_B}{\\epsilon}log \\frac{N-n}{N}$$\n",
        "\n",
        "$$\\frac{n}{N} = \\frac{1}{1+e^{\\beta \\epsilon}}$$\n",
        "\n",
        "$$E = n\\epsilon = \\frac{N\\epsilon}{1+e^{\\beta \\epsilon}}$$"
      ],
      "metadata": {
        "slideshow": {
          "slide_type": "fragment"
        }
      }
    },
    {
      "cell_type": "code",
      "source": [
        "ee2 = lambda x,beta: 1/(1+np.exp(beta*x))\n",
        "\n",
        "x=np.linspace(0,10,1000)\n",
        "\n",
        "plt.plot(x, ee2(x,1))\n",
        "plt.plot(x, ee2(x,2))\n",
        "plt.plot(x, ee2(x,5))\n",
        "plt.plot(x, ee2(x,10))"
      ],
      "outputs": [
        {
          "output_type": "execute_result",
          "execution_count": 64,
          "data": {
            "text/plain": "[<matplotlib.lines.Line2D at 0x116c81828>]"
          },
          "metadata": {}
        },
        {
          "output_type": "display_data",
          "data": {
            "image/png": "[encoded data removed]",
            "text/plain": "<Figure size 432x288 with 1 Axes>"
          },
          "metadata": {
            "image/png": {
              "height": 248,
              "width": 372
            },
            "needs_background": "light"
          }
        }
      ],
      "execution_count": 64,
      "metadata": {
        "slideshow": {
          "slide_type": "slide"
        }
      }
    },
    {
      "cell_type": "markdown",
      "source": [
        "### Parition function decouples non-interacting terms in energy!\n",
        "\n",
        "<br>\n",
        "\n",
        "$$Z = \\sum^{n=N}_{n=0} e^{-\\beta E_n} =  \\Big (\\sum^{i=1}_{i=0} e^{-\\beta \\epsilon_i} \\Big)\\Big (\\sum^{i=1}_{i=0} e^{-\\beta \\epsilon_i} \\Big)...\\Big (\\sum^{i=1}_{i=0} e^{-\\beta \\epsilon_i} \\Big) = (1+e^{-\\beta \\epsilon})^N$$\n",
        "\n",
        "<br>\n",
        "\n",
        "$$F= -k_B T log Z = -k_BT N log(1+e^{-\\beta \\epsilon})$$\n",
        "\n",
        "<br>\n",
        "\n",
        "$$\\langle E \\rangle  = \\frac{\\partial log Z}{\\partial (-\\beta)} =  \\frac{N\\epsilon}{1+e^{\\beta \\epsilon}}$$"
      ],
      "metadata": {
        "slideshow": {
          "slide_type": "slide"
        }
      }
    },
    {
      "cell_type": "markdown",
      "source": [
        "### Non-interacting system\n",
        "\n",
        "For **distinguishable states**:\n",
        "\n",
        "$$Z = z^N$$\n",
        "\n",
        "For **indistinguishable states**:\n",
        "\n",
        "$$ Z = \\frac{1}{N!}z^N $$"
      ],
      "metadata": {
        "slideshow": {
          "slide_type": "slide"
        }
      }
    },
    {
      "cell_type": "markdown",
      "source": [
        "### Example-2: Ideal gas (classical)"
      ],
      "metadata": {
        "slideshow": {
          "slide_type": "slide"
        }
      }
    },
    {
      "cell_type": "markdown",
      "source": [
        "$$H(p^N, x^N) = K(p^N)  = \\sum^{i=N}_{i=1}\\frac{p^2_i}{2m}$$\n",
        "\n",
        "$$\\boxed{Z(\\beta) = \\frac{1}{h^{N} N!} \\int dp^N dx^N e^{-\\beta H(p^N,x^N)}}$$"
      ],
      "metadata": {
        "slideshow": {
          "slide_type": "slide"
        }
      }
    },
    {
      "cell_type": "markdown",
      "source": [
        "$$Z(\\beta) = \\frac{V^N}{h^{N} N!} \\Big [ \\int^{+\\infty}_{-\\infty} dp e^{-\\beta \\frac{p^2}{2m}}  \\Big ]^N = \\frac{V^N}{h^{N} N!} \\Big [ \\frac{2\\pi m}{\\beta} \\Big]^N  $$\n",
        "<br><br>\n",
        "\n",
        "$$F = -k_B T log Z \\approx -N k_B T log \\Big [log \\Big(\\frac{V}{N}\\Big)\\frac{1}{\\lambda^3} +1\\Big]$$\n",
        "<br><br>\n",
        "\n",
        "- Note linear dependence on N. Entropy is an extensive quantity!\n",
        "\n",
        "- exponent 3/2 reflexts that each particle has 3 degrees of freedom\n",
        "\n",
        "- $\\lambda = \\Big(\\frac{3h^2 N}{4\\pi m E}\\Big)^{1/2}$ thermal de Broglie wavelength."
      ],
      "metadata": {
        "slideshow": {
          "slide_type": "slide"
        }
      }
    },
    {
      "cell_type": "markdown",
      "source": [
        "- $$\\langle E \\rangle = \\frac{\\partial log Z}{\\partial (-\\beta)} = \\frac{3}{2}N k_B T$$\n",
        "<br><br>\n",
        "\n",
        "- $$p = -\\frac{\\partial F}{\\partial V} =\\frac{N k_B T}{V}$$\n",
        "<br><br>\n",
        "- $$S = \\frac{E-F}{T} = k_B N \\cdot  \\Big [ log \\Big(\\frac{V}{N \\lambda^3}\\Big) + \\frac{5}{2}\\Big]$$\n",
        "<br><br>\n",
        "\n",
        ">  Entropy of ideal gas is eactly the same expression as what we obtained in NVE! \n",
        ">  Thermodynamics is the same regardless of the ensemble used! Consequence of smallnes sof fluctuations."
      ],
      "metadata": {
        "slideshow": {
          "slide_type": "slide"
        }
      }
    },
    {
      "cell_type": "markdown",
      "source": [
        "### Example-3 Ideal paramagnet of spin 1/2"
      ],
      "metadata": {
        "slideshow": {
          "slide_type": "slide"
        }
      }
    },
    {
      "cell_type": "markdown",
      "source": [
        "$$E  = -\\mu H \\sum^{N}_j s_j $$\n",
        "\n",
        "- $s_j = \\pm 1$ spin variable can assume two values that we refer to as up and down. \n",
        "\n",
        "$$Z = \\sum_{E} exp(-\\beta H) = \\sum_{s_1, s_2, ... s_N} exp \\Big( \\beta \\mu H \\sum^{N}_j s_j \\Big) = \\Big [ \\sum_{s_1} exp \\Big( \\beta \\mu H  s_1 \\Big) \\Big ]... \\Big [ \\sum_{s_N} exp \\Big( \\beta \\mu H s_N \\Big) \\Big ]$$\n",
        "\n",
        "Now it is easty to see that partion function factorizes\n",
        "\n",
        "$$Z =Z_1^N$$\n",
        "\n",
        "$$Z_1 = \\sum_{s_1} exp(\\beta \\mu H s_1) = exp(\\beta \\mu H) + exp(-\\beta \\mu H)  = 2 cosh(\\beta \\mu H)$$\n",
        "\n",
        "**Free energy as as function of temperature and magnetic field:** Now we can establish a connection with thermodynamics by computing free energy function\n",
        "\n",
        "$$ F(T, H) = - \\beta^{-1} log Z = - N \\beta^{-1} log \\Big [ 2 cosh (\\beta \\mu H )  \\Big ]$$\n",
        "\n",
        "The entropy is obtained by taking derivative with respect to temperature\n",
        "\n",
        "$$S = - \\Big(\\frac{\\partial F}{\\partial T} \\Big)_H = k_B log \\Big [ 2 cosh (\\beta \\mu H )  \\Big ] - k_B (\\beta \\mu H)\\cdot tanh (\\beta \\mu H)$$\n",
        "\n",
        "**Magnetization**\n",
        "\n",
        "Magnetization $M$ (extensive quantity) or magnetization per particle $m=M/N$ (intensive quantity) is given as another free energy derivative:\n",
        "\n",
        "$$M = - \\Big(\\frac{\\partial F}{\\partial H} \\Big)_T = \\mu tanh \\Big(\\beta \\mu H \\Big)$$\n",
        "\n",
        "> Note that the same expression is obtained when computing average value of magnetization as expected $M = \\langle \\mu \\sum_{s_j} \\rangle$\n",
        "\n",
        "**Magnetizatic susceptibility**\n",
        "\n",
        "In the context of paramagnet we have another response function in the form of magnetic susceptibility\n",
        "\n",
        "$$\\chi(T, H) =  \\Big(\\frac{\\partial m}{\\partial H} \\Big)_T = \\mu^2 \\beta H cosh^{-2} (\\beta \\mu H)$$\n",
        "\n",
        "which leads to a well known **Curie Law**\n",
        "\n",
        "$$\\chi(T, H=0) = \\frac{\\mu^2 H}{k_B T}$$\n",
        "\n",
        "Finally as a consitency check we can combine enetrpy and free energy expressions to obtain internal energy:\n",
        "\n",
        "\n",
        "$$U = F+TS = -\\mu H tanh(\\beta \\mu H)$$"
      ],
      "metadata": {
        "slideshow": {
          "slide_type": "slide"
        }
      }
    },
    {
      "cell_type": "markdown",
      "source": [
        "## Boltzman gas and the original derivation of Boltzman distribution\n",
        "\n",
        "Boltzmann's original derivation of canonical distirbution proceeds in a slightly different manner and it is worth discussing in some detail. The starting point is the fact that under $NVT$ system is in equilibrium with some average energy $U$ over the esnemble of states. That is in the ensemble of N memebers, $n_1$ members are in E_1, $n_2$ in $E_2$, ... $n_k$ in $E_k$. We realize that individual members of ensemble have different energies, but the fluctuations around the average $U$ are expected to be very small $O(N^{1/2})$. Hence we would like to find the peak of the distirbution, that is most likely distribution of average energy among members of ensemble ${n_1, n_2, ... n_k}$ given the constant number of particles $N$ average energy $U$. Thus we formulate the problem as **constraint optimization problem** with the following constraints:\n",
        "\n",
        "$$\\sum_{k} n_{k}=N$$\n",
        "\n",
        "$$ \\sum_k n_k E_k = N U$$\n",
        "\n",
        "Recall that we every configuration in the $NVE$ ensemble is equally likely. Therefore the set of ${n_1,n_2,...}$that maximizes $\\Omega(U)$ is the most likely to occur. This is the eseence of Boltzmann's original derivation. \n",
        "\n",
        "$$\\Omega(U) = \\frac{N!}{n_1! n_2! n_3! ... }$$\n",
        "\n",
        "<br>\n",
        "\n",
        "$$log \\Omega(U) \\approx  NlogN -\\sum_k n_k log n_k = N \\Big[ -\\sum_k \\frac{n_k}{N}log\\frac{n_k}{N} \\Big] = \\frac{1}{k_B}S(U)$$\n",
        "\n",
        "Last equality, we will come to recognize as a general expression for the entropy (first derived by J W Gibbs)! Notice that it is an extensive quantity propotional to N where $p_i = \\frac{n_i}{N}$ can bee seen as probabilities of states in the ensemble.   \n",
        "\n",
        "$$\\boxed{S = -\\sum_i p_i log p_i}$$\n",
        "\n",
        "### Maximizing number of states with Lagrange multipliers\n",
        "\n",
        "Constrained optimization is done via Lagrange multipliers. Here we also threw away constant facotrs $NlogN$ keeping only terms dependening on $n_k$ explicitely. \n",
        "\n",
        "$$I(n_1, n_2,...n_k...) = -\\sum_k n_k log n_k - \\lambda_1 \\sum n_k -\\lambda_2 \\sum_k n_k E_k $$\n",
        "\n",
        "$$\\frac{\\partial }{\\partial n_k} I = 0  = -log n_k -\\lambda_1 -\\lambda_2 E_k$$\n",
        "\n",
        "$$n_k = e^{-(1+\\lambda_1)} e^{-\\lambda_2 E_k}$$\n",
        "\n",
        "After normalization we eliminate $\\lambda_1$ and identify $\\lambda_2$ with $\\beta =\\frac{1}{k_B T}$ which has units of inverse energy. \n",
        "\n",
        "$$ p_k = \\frac{n_k}{N} = \\frac{e^{-\\beta E_k}}{Z} $$"
      ],
      "metadata": {
        "slideshow": {
          "slide_type": "slide"
        }
      }
    }
  ],
  "metadata": {
    "kernelspec": {
      "display_name": "Python 3",
      "language": "python",
      "name": "python3"
    },
    "language_info": {
      "codemirror_mode": {
        "name": "ipython",
        "version": 3
      },
      "file_extension": ".py",
      "mimetype": "text/x-python",
      "name": "python",
      "nbconvert_exporter": "python",
      "pygments_lexer": "ipython3",
      "version": "3.7.9-final"
    },
    "latex_envs": {
      "report_style_numbering": false,
      "hotkeys": {
        "equation": "Ctrl-E",
        "itemize": "Ctrl-I"
      },
      "LaTeX_envs_menu_present": true,
      "autocomplete": true,
      "autoclose": false,
      "eqNumInitial": 1,
      "bibliofile": "biblio.bib",
      "latex_user_defs": false,
      "current_citInitial": 1,
      "eqLabelWithNumbers": true,
      "labels_anchors": false,
      "cite_by": "apalike",
      "user_envs_cfg": false
    },
    "livereveal": {
      "theme": "sky"
    },
    "toc": {
      "toc_position": {},
      "skip_h1_title": false,
      "number_sections": true,
      "title_cell": "Table of Contents",
      "toc_window_display": false,
      "base_numbering": 1,
      "toc_section_display": true,
      "title_sidebar": "Contents",
      "toc_cell": true,
      "nav_menu": {},
      "sideBar": true
    },
    "nteract": {
      "version": "0.28.0"
    }
  },
  "nbformat": 4,
  "nbformat_minor": 4
}