{
 "cells": [
  {
   "cell_type": "markdown",
   "metadata": {},
   "source": [
    "# NVT"
   ]
  },
  {
   "cell_type": "markdown",
   "metadata": {
    "slideshow": {
     "slide_type": "slide"
    }
   },
   "source": [
    "## Going from an isolated system with $E=const$ to a system with fluctuating energy values $p(E)$\n",
    "\n",
    "In the NVT ensemble system samples different $E_i$ consistent with T=const constraint imposed by putting system in contact with infinitely large reservoir. \n",
    "\n",
    "Thus, in the NVT ensemble the Energy of a system $E_i$ and the resoervius $E_r$ are a fluctuating quantitities with associated probability distributions $p(E_i)$ and $p(E_r)$ which we are seeking! The total energy of a system is constant by definition (NVE). \n",
    "\n",
    "\n",
    "$$E_{t} = E_r + E_i$$\n",
    "\n",
    "\n",
    "$$\\Omega_{t}(E_{t}) = \\sum_i \\Omega_r(E_{t}-E_i) \\cdot \\Omega(E_i)$$"
   ]
  },
  {
   "cell_type": "markdown",
   "metadata": {
    "slideshow": {
     "slide_type": "fragment"
    }
   },
   "source": [
    "Let us single out one micro-state $E_i$ of our system $\\Omega(E_i) =1$ and see what would be its probability in NVT ensemble.\n",
    "\n",
    "$$p_i = \\frac{\\Omega_r(E_{t}-E_i)}{\\Omega_{t} (E_{t})} = \\frac{e^{S_r(E_{t}-E_i)/k_B}}{e^{S_{t}(E)/k_B}}$$\n",
    "\n",
    "Where we have used use the microcanonical ensemble of **system+reservoir** to cast the problem in terms of probabilities of **the system**."
   ]
  },
  {
   "cell_type": "markdown",
   "metadata": {
    "slideshow": {
     "slide_type": "slide"
    }
   },
   "source": [
    "### Derivation of Boltzmann distribution\n",
    "\n",
    "Since entropy is a smoothly varying function of energy we can expand it around $E_{tot}$ as $E_i$ is a much smaller quantity.\n",
    "\n",
    "$$S_r(E_{t}-E_i) \\approx S_r(E_{t}) - \\Big( \\frac{\\partial S_r}{\\partial E}\\Big) E_i = S_r(E_{t}) -\\frac{E_i}{T}$$\n",
    "\n",
    "This leads to $p_i \\sim e^{-\\beta E_i}$ were $\\beta = \\frac{1}{k_B T}$ after normalizing we obtain:\n",
    "\n",
    "**Boltzmann distribution**\n",
    "$$\\boxed{p_i = \\frac{e^{-\\beta E_i}}{Z}}$$ \n",
    "\n",
    "**Partition function**\n",
    "$$\\boxed{Z= \\sum_i e^{-\\beta E_i} }$$"
   ]
  },
  {
   "cell_type": "markdown",
   "metadata": {
    "slideshow": {
     "slide_type": "slide"
    }
   },
   "source": [
    "### Another derivation of Boltzmann distribution showing connection of Z with Free energy\n",
    "\n",
    "A more revealing is the expansion around system's average energy \n",
    "\n",
    "$$U = \\sum_i p_i E_i$$ \n",
    "\n",
    "which has small fluctuations around it \n",
    "\n",
    "$$U - E_i = \\delta E_i \\sim O(N^{1/2})$$\n",
    "\n",
    "\n",
    "**Entropy of the reservoir**\n",
    "\n",
    "$$S_r(E_{t}-E_i) = S_r(E_{t}-U + U-E_i) \\approx S_r(E_{t}-U) +\\Big( \\frac{\\partial S_r(E)}{\\partial E}\\Big) (U-E_i)$$\n",
    "\n",
    "\n",
    "$$S_r(E_{t}-E_i) =  S_r(E_{t}-U) +\\frac{1}{T}(U-E_i)$$\n",
    "\n",
    "**Entropy of the total system.**\n",
    "\n",
    "$$ S_{t}(E_{t}) = S_r(E_{t}-U)+S(U)$$\n",
    "\n",
    "\n",
    "**Probability of a microstate**\n",
    "\n",
    "$$p_i =\\frac{exp[{S_r(E_{t}-E_i)/k_B}]}{exp[{S_{t}(E_{t})/k_B}]} = \\frac{exp[-\\beta (U-E_i)]}{exp[S(U)/k_B]} = \\frac{exp[-\\beta E_i]}{exp[S(U)/k_B - U/k_B T]}$$\n",
    "\n",
    "**Heat bath's contribution to the system's distribution of energies comes through the temperature**\n",
    "\n",
    "$${ p_i = \\frac{e^{-\\beta E_i}}{e^{-\\beta F}} = \\frac{e^{-\\beta E_i}}{Z} }$$"
   ]
  },
  {
   "cell_type": "markdown",
   "metadata": {
    "slideshow": {
     "slide_type": "slide"
    }
   },
   "source": [
    "**Free Energy is directly related to partition function**\n",
    "\n",
    "$$\\boxed{Z = e^{-{\\beta F}}}$$\n",
    "\n",
    "$$\\boxed{F = -\\beta^{-1} log Z}$$"
   ]
  },
  {
   "cell_type": "markdown",
   "metadata": {
    "slideshow": {
     "slide_type": "slide"
    }
   },
   "source": [
    "### Closer look at the Z: The partiation function\n",
    "\n",
    "\n",
    "\n",
    "$$\\boxed{Z(\\beta) = \\sum_i e^{-\\beta E_i} = \\int \\Omega(E) e^{-\\beta E}dE = \\int e^{-\\beta (E-TS)}dE }$$\n",
    "\n",
    "\n",
    "- The parition function is \"partitioning\" or disirbuting (exponentially) the states of NVT ensemble with different energy levels/values:\n",
    "<br>\n",
    "\n",
    "- It can be seen that $Z$, the partition function of NVT is **Laplace Transform** of density of states of NVE. While connection between energy and free energy $F= E -TS$ is  via **Legendre Transform** \n",
    "<br>\n",
    "\n",
    "- $\\Omega(E)\\sim e^N$ rapidly increasing function with N eacsue of limit theorems: e.g the large deviation, central limit theorem, law of large numbers. \n",
    "<br>\n",
    "\n",
    "- $e^{-\\beta E}\\sim e^{-N}$ rapidly decreasing function with N\n",
    "\n",
    "- Thermodynamic limit $N, V\\rightarrow \\infty$ and $N/V \\rightarrow const$ only the region of energy survivies hat guarantees non-negligible contribution\n",
    "\n",
    "$$\\boxed{Z = \\int e^{-\\beta (E-TS)}dE \\approx e^{-\\beta(U-TS)} = e^{-\\beta F}}$$\n",
    "\n",
    "Where $U =\\langle E \\rangle$ is the thermodynamic average energy, flucutatins around which are on order of $O(N^{1/2})$"
   ]
  },
  {
   "cell_type": "code",
   "execution_count": 1,
   "metadata": {
    "slideshow": {
     "slide_type": "slide"
    }
   },
   "outputs": [
    {
     "data": {
      "text/plain": [
       "Text(0.5, 0, '$E$')"
      ]
     },
     "execution_count": 1,
     "metadata": {},
     "output_type": "execute_result"
    },
    {
     "data": {
      "image/png": "[encoded data removed]",
      "text/plain": [
       "<Figure size 432x288 with 3 Axes>"
      ]
     },
     "metadata": {
      "needs_background": "light"
     },
     "output_type": "display_data"
    }
   ],
   "source": [
    "import numpy as np\n",
    "import matplotlib.pyplot as plt\n",
    "\n",
    "N=10\n",
    "kbT = 2.5\n",
    "\n",
    "E = np.linspace(1, 10*N, 100)\n",
    "omega  = E**(1.5*N)\n",
    "boltzf = np.exp(-E/kbT)\n",
    "\n",
    "fig,ax = plt.subplots(nrows=3,sharex=True, figsize=(6, 4))\n",
    "ax[0].plot(E, omega)\n",
    "ax[0].set_ylabel('$\\Omega(E)$')\n",
    "ax[1].plot(E, boltzf)\n",
    "ax[1].set_ylabel('$exp(-E/k_B T)$')\n",
    "ax[2].plot(E, omega*boltzf)\n",
    "ax[2].set_ylabel('$\\Omega(E) exp(-E/k_B T)$')\n",
    "ax[2].set_xlabel('$E$')"
   ]
  },
  {
   "cell_type": "markdown",
   "metadata": {
    "slideshow": {
     "slide_type": "slide"
    }
   },
   "source": [
    "### Why free energy is a central quantity in the NVT ensemble.\n",
    "\n",
    "\n",
    "As we have learned in Thermodynamics, after legendre transorm $NVE\\rightarrow NVT$ the entropy maximiziation (energy minimization) principle gets replaced by the free energy minimization prinicple.  \n",
    "\n",
    "Now we can show thatn indded the free energy governs probabilities of states in the NVT ensemble:\n",
    "\n",
    "$$p_1 =\\frac{\\Omega (E_1) e^{-\\beta E_1}}{Z} = \\frac{e^{-\\beta F_1}}{e^{-\\beta F}}$$\n",
    "\n",
    "Often we re interested in relative probabilities of different states, e.g conformation A vs B of polymer:\n",
    "\n",
    "$$\\frac{p_2}{p_1} = e^{-\\beta (F_2-F_1)} $$"
   ]
  },
  {
   "cell_type": "markdown",
   "metadata": {
    "slideshow": {
     "slide_type": "slide"
    }
   },
   "source": [
    "### logZ as cumulant generating function\n",
    "\n",
    "- **Moment generation function $M(k)$**\n",
    "\n",
    "$$M(k) = \\int f(x) e^{kx} dx = \\langle e^{kx} \\rangle$$\n",
    "\n",
    "$$M(k) = 1 +\\langle x \\rangle k + \\frac{1}{2!} \\langle x^2 \\rangle k^2 + ...$$\n",
    "\n",
    "- **Cumulant generation function $C(k)=log M(k)$:**\n",
    "\n",
    "$$C(k) = log \\langle e^{kx} \\rangle$$\n",
    "\n",
    "$$\\langle e^{kx} \\rangle = e^{C(k)} = e^{[1 +\\langle x \\rangle k + \\frac{1}{2!} \\langle x^2 \\rangle k^2 + ...]}= 1+\\kappa_1 k^2 +\\kappa_2 k^2 + ...$$\n",
    "\n",
    "First two cumulants are mean and fluctuation!\n",
    "\n",
    "1. $k_1 = \\langle x \\rangle$\n",
    "\n",
    "2. $k_2 = \\langle (x-\\langle x \\rangle)^2 \\rangle$ "
   ]
  },
  {
   "cell_type": "markdown",
   "metadata": {
    "slideshow": {
     "slide_type": "slide"
    }
   },
   "source": [
    "### Energy fluctuations\n",
    "\n",
    "$$\\langle E \\rangle = \\frac{\\partial log Z}{\\partial (-\\beta)}$$\n",
    "\n",
    "$$\\sigma^2_E = \\frac{\\partial^2 log Z}{\\partial \\beta^2} = -\\frac{\\partial \\langle E \\rangle}{\\partial \\beta} = k_BT^2 C_v$$\n",
    "\n",
    "$$\\frac{\\sigma_E}{\\langle E\\rangle} = \\frac{(k_BT^2 C_v)^{1/2}}{\\langle E\\rangle}\\sim O(N^{-1/2})$$"
   ]
  },
  {
   "cell_type": "markdown",
   "metadata": {},
   "source": [
    "### Microscopic origins of quasistatic process, heat, work and entropy and all that\n",
    "\n",
    "$$U = \\langle E\\rangle =\\sum_i p_i E_i$$\n",
    "\n",
    "$$dU = \\sum_i p_i dE_i + \\sum_i E_i dp_i = \\delta W +\\delta Q$$\n",
    "\n",
    "### General criteria of equilibrium\n",
    "\n",
    "Consider a total system consisting of a heat reservoir and a subsystem. \n",
    "\n",
    "- Subsystem exchanges heat $Q=-Q^{'}$ with reservoir at a constant temperature $T$\n",
    "\n",
    "$$\\Delta S_0 = \\Delta S + \\Delta S^{'}$$\n",
    "\n",
    "\n",
    "$$log \\Omega^{'}(U^{'}+Q^{'}) \\approx log \\Omega^{'}(U^{'}) + \\frac{\\partial \\Omega^{'}}{\\partial U^{'}}+ ... = log \\Omega^{'}(U^{'})  + \\beta^{'} Q^{'}$$\n",
    "\n",
    "$$log \\Omega^{'}(U^{'}+Q^{'}) - log \\Omega^{'}(U^{'}) = \\Delta S^{'} = \\frac{Q^{'}}{T}$$\n",
    "\n",
    "Now consider that subssytem does work agains the reservoir $Q = \\Delta U + W$\n",
    "\n",
    "$$\\Delta S_0 = \\Delta S - \\frac{\\Delta U + W}{T} \\geq 0$$\n",
    "\n",
    "Defining $F = U-TS$ we define a new thermodynamic potential that for $T=T^{'}=const$ predicts equilibrium.\n",
    "\n",
    "$$ -\\frac{\\Delta (U-TS)+W}{T} = -\\frac{\\Delta F + W}{T} \\geq 0$$\n",
    "\n",
    "**maxmimum amount of work**  $W$ that a system can do in a contact with a heat bath is $-\\Delta F$ which correpsonds to a reversible work. Irreversible work leads to dissipation of the free energy into the reservioir in the form of heat. \n",
    "\n",
    "**Free energy decreases in the sponteneous process (fixed work coordinates)** reaching a minimium corresponding to an equilibrium state\n",
    "\n",
    "$$\\Delta F \\leq 0 $$\n",
    "\n",
    "\n",
    "\n",
    "-  Note that $U=const$, $V=const$ correspond to $\\Delta S \\geq 0$ (Entropy maximization) \n",
    "-  Note that $S=const$, $V=const$ correspond to $\\Delta E \\leq 0$ (Energy minimization)"
   ]
  },
  {
   "cell_type": "markdown",
   "metadata": {},
   "source": [
    "## The power and utility of NVT: The non-interacting system\n",
    "\n",
    "**distinguishable states**:\n",
    "\n",
    "$$Z = z^N$$\n",
    "\n",
    "**indistinguishable states**:\n",
    "\n",
    "$$ Z = \\frac{1}{N!}z^N $$\n",
    "\n",
    "**Strategy for using NVT**\n",
    "\n",
    "1. Computed partition function of a single particle $z= e^{-\\beta \\epsilon_1}+  e^{-\\beta \\epsilon_2}+ ...$\n",
    "\n",
    "2. raise to the power of N and apply factorial in case of indistinguishable particles, $Z= \\Big (e^{-\\beta \\epsilon_1}+  e^{-\\beta \\epsilon_2}+ ... \\Big)^N$ \n",
    "\n",
    "3. Compute the free energy $F= - N k_B T log z$\n",
    "\n",
    "4. Take derivatives of Z and/or free energy to get the thermodynamics. "
   ]
  },
  {
   "cell_type": "markdown",
   "metadata": {
    "slideshow": {
     "slide_type": "slide"
    }
   },
   "source": [
    "##  Ensemble equivalence\n",
    "\n",
    "### Example-1: A two state model"
   ]
  },
  {
   "cell_type": "markdown",
   "metadata": {
    "slideshow": {
     "slide_type": "fragment"
    }
   },
   "source": [
    "Let us consider simple two level system where lower level $\\epsilon_0 = 0$ and upper level $\\epsilon_1 =\\epsilon$. We will now use $NVE$ ensemble to obtian thermodynamic quantities $(S, T, C_v)$ and then obtain same quantities with $NVT$.\n",
    "\n",
    "$$E = n\\epsilon$$\n",
    "\n",
    "$$\\Omega(E) = \\frac{N!}{(N-n)! n!}$$\n",
    "\n",
    "$$S = k_B log \\Omega(E) = N k_B \\Big [- \\frac{n}{N}log \\frac{n}{N} - \\frac{N-n}{N}log \\frac{N-n}{N} \\Big]$$\n",
    "\n",
    "$$\\frac{1}{T} = \\frac{\\partial S(E)}{\\partial E} =  \\frac{k_B}{\\epsilon}\\frac{\\partial log\\Omega(n)}{\\partial  n} = \\frac{k_B}{\\epsilon}log \\frac{N-n}{N}$$\n",
    "\n",
    "$$\\frac{n}{N} = \\frac{1}{1+e^{\\beta \\epsilon}}$$\n",
    "\n",
    "$$E = n\\epsilon = \\frac{N\\epsilon}{1+e^{\\beta \\epsilon}}$$"
   ]
  },
  {
   "cell_type": "markdown",
   "metadata": {
    "slideshow": {
     "slide_type": "slide"
    }
   },
   "source": [
    "### Parition function decouples non-interacting terms in energy!\n",
    "\n",
    "<br>\n",
    "\n",
    "$$Z = \\sum^{n=N}_{n=0} e^{-\\beta E_n} =  \\Big (\\sum^{i=1}_{i=0} e^{-\\beta \\epsilon_i} \\Big)\\Big (\\sum^{i=1}_{i=0} e^{-\\beta \\epsilon_i} \\Big)...\\Big (\\sum^{i=1}_{i=0} e^{-\\beta \\epsilon_i} \\Big) = (1+e^{-\\beta \\epsilon})^N$$\n",
    "\n",
    "<br>\n",
    "\n",
    "$$F= -k_B T log Z = -k_BT N log(1+e^{-\\beta \\epsilon})$$\n",
    "\n",
    "<br>\n",
    "\n",
    "$$\\langle E \\rangle  = \\frac{\\partial log Z}{\\partial (-\\beta)} =  \\frac{N\\epsilon}{1+e^{\\beta \\epsilon}}$$"
   ]
  },
  {
   "cell_type": "code",
   "execution_count": 2,
   "metadata": {},
   "outputs": [
    {
     "data": {
      "text/plain": [
       "[<matplotlib.lines.Line2D at 0x7fc658c3bed0>]"
      ]
     },
     "execution_count": 2,
     "metadata": {},
     "output_type": "execute_result"
    },
    {
     "data": {
      "image/png": "[encoded data removed]",
      "text/plain": [
       "<Figure size 432x288 with 1 Axes>"
      ]
     },
     "metadata": {
      "needs_background": "light"
     },
     "output_type": "display_data"
    }
   ],
   "source": [
    "ee2 = lambda x,beta: 1/(1+np.exp(beta*x))\n",
    "\n",
    "x=np.linspace(0,10,1000)\n",
    "\n",
    "plt.plot(x, ee2(x,1))\n",
    "plt.plot(x, ee2(x,2))\n",
    "plt.plot(x, ee2(x,5))\n",
    "plt.plot(x, ee2(x,10))"
   ]
  },
  {
   "cell_type": "markdown",
   "metadata": {
    "slideshow": {
     "slide_type": "slide"
    }
   },
   "source": [
    "### Example-2: Ideal gas (classical)"
   ]
  },
  {
   "cell_type": "markdown",
   "metadata": {
    "slideshow": {
     "slide_type": "slide"
    }
   },
   "source": [
    "$$H(p^N, x^N) = K(p^N)  = \\sum^{i=N}_{i=1}\\frac{p^2_i}{2m}$$\n",
    "\n",
    "$$\\boxed{Z(\\beta) = \\frac{1}{h^{N} N!} \\int dp^N dx^N e^{-\\beta H(p^N,x^N)}}$$"
   ]
  },
  {
   "cell_type": "markdown",
   "metadata": {
    "slideshow": {
     "slide_type": "slide"
    }
   },
   "source": [
    "$$Z(\\beta) = \\frac{V^N}{h^{N} N!} \\Big [ \\int^{+\\infty}_{-\\infty} dp e^{-\\beta \\frac{p^2}{2m}}  \\Big ]^N = \\frac{V^N}{h^{N} N!} \\Big [ \\frac{2\\pi m}{\\beta} \\Big]^N  $$\n",
    "<br><br>\n",
    "\n",
    "$$F = -k_B T log Z \\approx -N k_B T log \\Big [log \\Big(\\frac{V}{N}\\Big)\\frac{1}{\\lambda^3} +1\\Big]$$\n",
    "<br><br>\n",
    "\n",
    "- Note linear dependence on N. Entropy is an extensive quantity!\n",
    "\n",
    "- exponent 3/2 reflexts that each particle has 3 degrees of freedom\n",
    "\n",
    "- $\\lambda = \\Big(\\frac{3h^2 N}{4\\pi m E}\\Big)^{1/2}$ thermal de Broglie wavelength."
   ]
  },
  {
   "cell_type": "markdown",
   "metadata": {
    "slideshow": {
     "slide_type": "slide"
    }
   },
   "source": [
    "- $$\\langle E \\rangle = \\frac{\\partial log Z}{\\partial (-\\beta)} = \\frac{3}{2}N k_B T$$\n",
    "<br><br>\n",
    "\n",
    "- $$p = -\\frac{\\partial F}{\\partial V} =\\frac{N k_B T}{V}$$\n",
    "<br><br>\n",
    "- $$S = \\frac{E-F}{T} = k_B N \\cdot  \\Big [ log \\Big(\\frac{V}{N \\lambda^3}\\Big) + \\frac{5}{2}\\Big]$$\n",
    "<br><br>\n",
    "\n",
    ">  Entropy of ideal gas is eactly the same expression as what we obtained in NVE! \n",
    ">  Thermodynamics is the same regardless of the ensemble used! Consequence of smallnes sof fluctuations."
   ]
  },
  {
   "cell_type": "markdown",
   "metadata": {
    "slideshow": {
     "slide_type": "slide"
    }
   },
   "source": [
    "### Example-3 Ideal paramagnet of spin 1/2"
   ]
  },
  {
   "cell_type": "markdown",
   "metadata": {
    "slideshow": {
     "slide_type": "slide"
    }
   },
   "source": [
    "$$E  = -\\mu B \\sum^{N}_j s_j $$\n",
    "\n",
    "- $s_j = \\pm 1$ spin variable can assume two values that we refer to as up and down. \n",
    "\n",
    "$$Z = \\sum_{E} exp(-\\beta E) = \\sum_{s_1, s_2, ... s_N} exp \\Big( \\beta \\mu B \\sum^{N}_j s_j \\Big) = \\Big [ \\sum_{s_1} exp \\Big( \\beta \\mu B  s_1 \\Big) \\Big ]... \\Big [ \\sum_{s_N} exp \\Big( \\beta \\mu B s_N \\Big) \\Big ]$$\n",
    "\n",
    "Now it is easty to see that partion function factorizes\n",
    "\n",
    "$$Z =Z_1^N$$\n",
    "\n",
    "$$Z_1 = \\sum_{s_1} exp(\\beta \\mu B s_1) = exp(\\beta \\mu B) + exp(-\\beta \\mu B)  = 2 cosh(\\beta \\mu B)$$\n",
    "\n",
    "**Free energy as as function of temperature and magnetic field:** Now we can establish a connection with thermodynamics by computing free energy function\n",
    "\n",
    "$$ F(T, H) = - \\beta^{-1} log Z = - N \\beta^{-1} log \\Big [ 2 cosh (\\beta \\mu B )  \\Big ]$$\n",
    "\n",
    "The entropy is obtained by taking derivative with respect to temperature\n",
    "\n",
    "$$S = - \\Big(\\frac{\\partial F}{\\partial T} \\Big)_H = k_B log \\Big [ 2 cosh (\\beta \\mu H )  \\Big ] - k_B (\\beta \\mu B)\\cdot tanh (\\beta \\mu B)$$\n",
    "\n",
    "**Magnetization**\n",
    "\n",
    "Magnetization $M$ (extensive quantity) or magnetization per particle $m=M/N$ (intensive quantity) is given as another free energy derivative:\n",
    "\n",
    "$$M = - \\Big(\\frac{\\partial F}{\\partial B} \\Big)_T = \\mu tanh \\Big(\\beta \\mu B \\Big)$$\n",
    "\n",
    "> Note that the same expression is obtained when computing average value of magnetization as expected $M = \\langle \\mu \\sum_{s_j} \\rangle$\n",
    "\n",
    "**Magnetizatic susceptibility**\n",
    "\n",
    "In the context of paramagnet we have another response function in the form of magnetic susceptibility\n",
    "\n",
    "$$\\chi(T, B) =  \\Big(\\frac{\\partial m}{\\partial B} \\Big)_T = \\mu^2 \\beta B cosh^{-2} (\\beta \\mu B)$$\n",
    "\n",
    "which leads to a well known **Curie Law**\n",
    "\n",
    "$$\\chi(T, B=0) = \\frac{\\mu^2 H}{k_B T}$$\n",
    "\n",
    "Finally as a consitency check we can combine enetrpy and free energy expressions to obtain internal energy:\n",
    "\n",
    "\n",
    "$$U = F+TS = -\\mu B tanh(\\beta \\mu B)$$"
   ]
  },
  {
   "cell_type": "markdown",
   "metadata": {
    "slideshow": {
     "slide_type": "slide"
    }
   },
   "source": [
    "## Boltzman gas and the original derivation of Boltzman distribution\n",
    "\n",
    "Boltzmann's original derivation of canonical distirbution proceeds in a slightly different manner and it is worth discussing in some detail. The starting point is the fact that under $NVT$ system is in equilibrium with some average energy $U$ over the esnemble of states. That is in the ensemble of N memebers, $n_1$ members are in E_1, $n_2$ in $E_2$, ... $n_k$ in $E_k$. We realize that individual members of ensemble have different energies, but the fluctuations around the average $U$ are expected to be very small $O(N^{1/2})$. Hence we would like to find the peak of the distirbution, that is most likely distribution of average energy among members of ensemble ${n_1, n_2, ... n_k}$ given the constant number of particles $N$ average energy $U$. Thus we formulate the problem as **constraint optimization problem** with the following constraints:\n",
    "\n",
    "$$\\sum_{k} n_{k}=N$$\n",
    "\n",
    "$$ \\sum_k n_k E_k = N U$$\n",
    "\n",
    "Recall that we every configuration in the $NVE$ ensemble is equally likely. Therefore the set of ${n_1,n_2,...}$that maximizes $\\Omega(U)$ is the most likely to occur. This is the eseence of Boltzmann's original derivation. \n",
    "\n",
    "$$\\Omega(U) = \\frac{N!}{n_1! n_2! n_3! ... }$$\n",
    "\n",
    "<br>\n",
    "\n",
    "$$log \\Omega(U) \\approx  NlogN -\\sum_k n_k log n_k = N \\Big[ -\\sum_k \\frac{n_k}{N}log\\frac{n_k}{N} \\Big] = \\frac{1}{k_B}S(U)$$\n",
    "\n",
    "Last equality, we will come to recognize as a general expression for the entropy (first derived by J W Gibbs)! Notice that it is an extensive quantity propotional to N where $p_i = \\frac{n_i}{N}$ can bee seen as probabilities of states in the ensemble.   \n",
    "\n",
    "$$\\boxed{S = -\\sum_i p_i log p_i}$$\n",
    "\n",
    "### Maximizing number of states with Lagrange multipliers\n",
    "\n",
    "Constrained optimization is done via Lagrange multipliers. Here we also threw away constant facotrs $NlogN$ keeping only terms dependening on $n_k$ explicitely. \n",
    "\n",
    "$$I(n_1, n_2,...n_k...) = -\\sum_k n_k log n_k - \\lambda_1 \\sum n_k -\\lambda_2 \\sum_k n_k E_k $$\n",
    "\n",
    "$$\\frac{\\partial }{\\partial n_k} I = 0  = -log n_k -\\lambda_1 -\\lambda_2 E_k$$\n",
    "\n",
    "$$n_k = e^{-(1+\\lambda_1)} e^{-\\lambda_2 E_k}$$\n",
    "\n",
    "After normalization we eliminate $\\lambda_1$ and identify $\\lambda_2$ with $\\beta =\\frac{1}{k_B T}$ which has units of inverse energy. \n",
    "\n",
    "$$ p_k = \\frac{n_k}{N} = \\frac{e^{-\\beta E_k}}{Z} $$"
   ]
  },
  {
   "cell_type": "markdown",
   "metadata": {},
   "source": [
    "## Problems"
   ]
  },
  {
   "cell_type": "markdown",
   "metadata": {},
   "source": [
    "### Problem-1 Elementary derivation of Boltzmann's distirbution\n",
    "\n",
    "Let us do an elementary derivation of Boltzman distribution showing that when a macroscopic system is in equilibrium and coupled to a heat bath at temperatere T we have a universal dependence of probability for finding system at different energies: \n",
    "\n",
    "$$\\boxed{P(r')/P(r)=e^{-\\beta (U(r)-U(r'))}}$$\n",
    "\n",
    "The essence of the derivation is this. Consider a vertical column of gas somehre in the mountains. On one hand we have graviational force which acts on a column between h, h+dh with cross section A. On the other hand we have pressure balance which thankfully keeps the molecules from dropping on the ground. This means that we have a steady density of molecules at each distance n(h) for fixed T. Write down this balance of forces(gravitational vs pressure ) and find show how density at h, n(h) is related to density at h=0, n(0). \n",
    "\n",
    "> Tip: you may use P=nkT for pressure and mgh for the gravitational force) "
   ]
  },
  {
   "cell_type": "markdown",
   "metadata": {},
   "source": [
    "### Problem-2 Three level system\n",
    "\n"
   ]
  },
  {
   "cell_type": "markdown",
   "metadata": {},
   "source": [
    "Consider a system of N classical and noninteracting particles in contact with a thermal reservoir at temperature T. Each particle may have energies $0$, $\\epsilon$ and $3\\epsilon$ where $\\epsilon>0$ is sone constact number. \n",
    "\n",
    "- Obtain an expression of Z and from it compute average energy and energy flcutuation.\n",
    "\n",
    "- Plot heat capacity as a function of temperature $C_v(T)$\n",
    "\n",
    "- Plot average enegy as a function of temperature $U(T)$\n",
    "\n",
    "- Plot entropy as a function of temperature $S(T)$. \n",
    "\n"
   ]
  },
  {
   "cell_type": "markdown",
   "metadata": {},
   "source": [
    "### Problem-3 Spins on a lattice\n",
    "\n",
    "N lattice sites have quantum spins of $S=1$ associated with each spin is a mangnetic moment $\\mu$ and in a uniform mangeitc field in z direction $B=B_z$ the energy of each spin is $-\\mu B m $ where $m$ is the magnetic quantum number tellins us that spin can only point in discrete number of direction ($m=0, \\pm 1$). \n",
    "\n",
    "- Compute the entropy $S$ and the mangeitzation of the system $M$\n",
    "\n",
    "- Plot and study the limit of $S(T\\rightarrow 0)$\n",
    "\n"
   ]
  },
  {
   "cell_type": "markdown",
   "metadata": {},
   "source": [
    "### Problem-4 2D diploes on a lattice\n",
    "\n",
    "There is a 2D square lattice with M lattice points. On each oint sits a mangeetic moment that can point in four directions: $+x, -x, +y, -y$. Along y diploe has energy $\\epsilon>0$ and laong x $\\epsilon=0$.\n",
    "\n",
    "Dipols are not interacting with each other and we also ingnore kinetic energy of diplos since they ar efixed at lattice positions. \n",
    "\n",
    "- Write down parition function for this system $Z$\n",
    "\n",
    "- Compute average energy\n",
    "\n",
    "- Compute $s(T)$ per dipole. Evaluate the difference $S(T=\\infty)-S(T=0)$? Can you see a link with number of arrangements of dipols.\n",
    "\n",
    "- Compute microcanonical partition function $\\Omega (N\\epsilon)$\n",
    "\n",
    "- Show that entropy computed with NVE and NVT agree with each other"
   ]
  },
  {
   "cell_type": "markdown",
   "metadata": {},
   "source": [
    "### Problem-5 A typical spin problem \n",
    "\n",
    "Due to ligand field the degeneracy of d-orbital of chromium ion $Cr^{3+}$ is partially lifted. The spin part of the hamiltonian that lifts this degeneracy has the following form.\n",
    "\n",
    "$$H =  D \\big(S_z^2 -S(S+1)/2 \\big)$$\n",
    "\n",
    "Where $D>0$ is some constant and $S=3/2$ (the cation has electronic term ${F}^ 4_{3/2}$\n",
    "\n",
    "- Why can we apply statisical mechanics to a \"single\" ion?\n",
    "\n",
    "- Obtain occupation probability of each discrete energy level $P(E)$.\n",
    "\n",
    "- Calculate entropy and the specific heat then show that heat capacity behaves as $T^{-2}$ at high temperatures.\n",
    "\n",
    "- Supose heat capacity is $C=k_b \\Big(\\frac{T}{T_0} \\Big)^2$ with $T_0=0.18 K$ at higher temperatures. Determine the energy spacing. "
   ]
  },
  {
   "cell_type": "code",
   "execution_count": null,
   "metadata": {},
   "outputs": [],
   "source": []
  }
 ],
 "metadata": {
  "kernelspec": {
   "display_name": "Python 3",
   "language": "python",
   "name": "python3"
  },
  "language_info": {
   "codemirror_mode": {
    "name": "ipython",
    "version": 3
   },
   "file_extension": ".py",
   "mimetype": "text/x-python",
   "name": "python",
   "nbconvert_exporter": "python",
   "pygments_lexer": "ipython3",
   "version": "3.7.9"
  },
  "latex_envs": {
   "LaTeX_envs_menu_present": true,
   "autoclose": false,
   "autocomplete": true,
   "bibliofile": "biblio.bib",
   "cite_by": "apalike",
   "current_citInitial": 1,
   "eqLabelWithNumbers": true,
   "eqNumInitial": 1,
   "hotkeys": {
    "equation": "Ctrl-E",
    "itemize": "Ctrl-I"
   },
   "labels_anchors": false,
   "latex_user_defs": false,
   "report_style_numbering": false,
   "user_envs_cfg": false
  },
  "livereveal": {
   "theme": "sky"
  },
  "nteract": {
   "version": "0.28.0"
  },
  "toc": {
   "base_numbering": 1,
   "nav_menu": {},
   "number_sections": true,
   "sideBar": true,
   "skip_h1_title": false,
   "title_cell": "Table of Contents",
   "title_sidebar": "Contents",
   "toc_cell": true,
   "toc_position": {},
   "toc_section_display": true,
   "toc_window_display": false
  }
 },
 "nbformat": 4,
 "nbformat_minor": 4
}
