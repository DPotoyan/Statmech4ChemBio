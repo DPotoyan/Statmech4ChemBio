{
 "cells": [
  {
   "cell_type": "markdown",
   "id": "d93fb995-23a6-468c-984c-4d010f0153c3",
   "metadata": {},
   "source": [
    "# Two-state system"
   ]
  },
  {
   "cell_type": "code",
   "execution_count": 3,
   "id": "0310ffb8-d583-48f8-a085-2d2fc25830ca",
   "metadata": {},
   "outputs": [],
   "source": [
    "import matplotlib.pyplot as plt\n",
    "import numpy as np"
   ]
  },
  {
   "cell_type": "markdown",
   "id": "646f728c-8f63-4d57-a024-c68296151be0",
   "metadata": {},
   "source": [
    "### Calculate fraction of excited states \n",
    "\n",
    "- You have a two state system. Consider difference between energy levels $\\Delta \\epsilon$ between units of $0, 5$ kj/mol\n",
    "- Calculate how $N_1/N_2$ changes as a function of $\\Delta \\epsilon$ at temperature $kT= 1$ kj/mol\n",
    "- Repeat calculation for a few temperatures $kT=1, 10, 100$"
   ]
  },
  {
   "cell_type": "code",
   "execution_count": 9,
   "id": "2ccfca63-7099-4990-8a26-188d7c68cf6d",
   "metadata": {},
   "outputs": [],
   "source": [
    "delta_Es = np.arange(0, 5, 0.1) "
   ]
  },
  {
   "cell_type": "markdown",
   "id": "8645fa71-d1d8-44ca-b844-ce23cd4136b9",
   "metadata": {},
   "source": [
    "### Compute average energy and heat capacity as a function of temperature"
   ]
  },
  {
   "cell_type": "code",
   "execution_count": 19,
   "id": "02858c85-6a29-4bff-b3d1-82d0d78b9b23",
   "metadata": {},
   "outputs": [],
   "source": [
    "# Define the energy levels and set kB=1 to simplfy units\n",
    "E0, E1 = 0, 1\n",
    "\n",
    "# Define a range of temperatures (avoiding zero) \n",
    "T = np.linspace(0.1, 5, 100)\n",
    "\n",
    "# Calculate the internal energy U\n",
    "\n",
    "# Calculate the heat capacity C\n",
    "C = np.diff(U) / np.diff(T)"
   ]
  },
  {
   "cell_type": "code",
   "execution_count": 18,
   "id": "fb10a873-92ab-440d-98f2-21f2bb059635",
   "metadata": {},
   "outputs": [
    {
     "name": "stderr",
     "output_type": "stream",
     "text": [
      "No artists with labels found to put in legend.  Note that artists whose label start with an underscore are ignored when legend() is called with no argument.\n",
      "No artists with labels found to put in legend.  Note that artists whose label start with an underscore are ignored when legend() is called with no argument.\n"
     ]
    },
    {
     "data": {
      "text/plain": [
       "<Figure size 640x480 with 0 Axes>"
      ]
     },
     "metadata": {},
     "output_type": "display_data"
    }
   ],
   "source": [
    "# Plotting\n",
    "#fig, (ax1, ax2) = plt.subplots(1, 2, figsize=(12, 5))\n",
    "\n",
    "# Internal energy plot\n",
    "#ax1.plot(kbT, U, label='Internal Energy (U)')\n",
    "ax1.set_xlabel('Temperature (T)')\n",
    "ax1.set_ylabel('Internal Energy (U)')\n",
    "ax1.set_title('Internal Energy vs Temperature')\n",
    "ax1.legend()\n",
    "\n",
    "# Heat capacity plot\n",
    "# Skip the first temperature value since we used np.diff\n",
    "#ax2.plot(kbT[1:], C, label='Heat Capacity (C)', color='r')\n",
    "ax2.set_xlabel('Temperature (T)')\n",
    "ax2.set_ylabel('Heat Capacity (C)')\n",
    "ax2.set_title('Heat Capacity vs Temperature')\n",
    "ax2.legend()\n",
    "\n",
    "plt.tight_layout()"
   ]
  }
 ],
 "metadata": {
  "kernelspec": {
   "display_name": "Python 3 (ipykernel)",
   "language": "python",
   "name": "python3"
  }
 },
 "nbformat": 4,
 "nbformat_minor": 5
}
