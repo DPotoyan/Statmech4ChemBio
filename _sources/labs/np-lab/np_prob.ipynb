{
 "cells": [
  {
   "cell_type": "markdown",
   "metadata": {},
   "source": [
    "# Numpy and Probabilities"
   ]
  },
  {
   "cell_type": "code",
   "execution_count": null,
   "metadata": {
    "vscode": {
     "languageId": "plaintext"
    }
   },
   "outputs": [],
   "source": [
    "import numpy as np\n",
    "\n",
    "\n",
    "\n",
    "# Create a 4x4x4 3D numpy array representing p(x, y, z) as a joint probability distribution\n",
    "np.random.seed(42)  # For reproducibility\n",
    "p_xy = np.random.rand(4, 4, 4)  # Random values\n",
    "\n",
    "# Normalize so that the total probability sums to 1\n",
    "p_xy /= np.sum(p_xy)\n",
    "\n",
    "# Summing over the third axis to get p(x,y)\n",
    "p_xy_2d = p_xy.sum(axis=2)\n",
    "\n",
    "p_xy_2d"
   ]
  },
  {
   "cell_type": "markdown",
   "metadata": {},
   "source": [
    "#### Compute the following full marginal and conditional probabilities"
   ]
  },
  {
   "cell_type": "markdown",
   "metadata": {},
   "source": [
    "- Compute $p(x)$\n",
    "\n",
    "- Compute $p(x=1, y=2)$\n",
    "\n",
    "- Compute $p(x|y=3)$"
   ]
  }
 ],
 "metadata": {
  "language_info": {
   "name": "python"
  }
 },
 "nbformat": 4,
 "nbformat_minor": 2
}
