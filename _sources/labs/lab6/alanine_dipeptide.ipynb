{
  "cells": [
    {
      "cell_type": "markdown",
      "metadata": {
        "colab_type": "text",
        "id": "view-in-github"
      },
      "source": [
        "<a href=\"https://colab.research.google.com/github/PotoyanGroup/MD-cookbook/blob/main/MetadynOpenmm.ipynb\" target=\"_parent\"><img src=\"https://colab.research.google.com/assets/colab-badge.svg\" alt=\"Open In Colab\"/></a>"
      ]
    },
    {
      "cell_type": "code",
      "execution_count": 1,
      "metadata": {
        "colab": {
          "base_uri": "https://localhost:8080/"
        },
        "id": "4vdcB6eTwywA",
        "outputId": "85cdb689-227d-42e9-cfb7-78021cc8d7cc"
      },
      "outputs": [
        {
          "name": "stdout",
          "output_type": "stream",
          "text": [
            "✨🍰✨ Everything looks OK!\n"
          ]
        }
      ],
      "source": [
        "!pip install -q condacolab\n",
        "import condacolab\n",
        "condacolab.install()"
      ]
    },
    {
      "cell_type": "code",
      "execution_count": 2,
      "metadata": {
        "id": "ZyGtBPa1w3Y-"
      },
      "outputs": [],
      "source": [
        "%%capture\n",
        "!conda install -c conda-forge openmm openmmtools mdtraj nglview"
      ]
    },
    {
      "cell_type": "code",
      "execution_count": null,
      "metadata": {
        "colab": {
          "base_uri": "https://localhost:8080/",
          "height": 17,
          "referenced_widgets": [
            "37ea704dbffc451282c327952885dcc2"
          ]
        },
        "id": "2hPJn7W8xH42",
        "outputId": "76605b64-a367-44d8-a96c-b45ff5a5609b"
      },
      "outputs": [],
      "source": [
        "import openmm\n",
        "from openmm import *\n",
        "from openmm.app import *\n",
        "from openmm.unit import *\n",
        "\n",
        "import matplotlib.pyplot as plt\n",
        "import mdtraj  as md\n",
        "import numpy   as np\n",
        "import pandas  as pd\n",
        "\n",
        "import openmmtools\n",
        "from   openmmtools  import testsystems\n"
      ]
    },
    {
      "cell_type": "markdown",
      "metadata": {
        "id": "I5ahx3bLzLq9"
      },
      "source": [
        "### Create alanine dipeptide all-atom simulation"
      ]
    },
    {
      "cell_type": "code",
      "execution_count": null,
      "metadata": {
        "id": "aKeqrR09w3af"
      },
      "outputs": [],
      "source": [
        "# Grab alaine dipeptide\n",
        "dialanine = testsystems.AlanineDipeptideExplicit()\n",
        "system, positions, topology = dialanine.system, dialanine.positions, dialanine.topology\n",
        "\n",
        "from openmm.app import PDBFile\n",
        "with open(\"dialanine.pdb\", \"w\") as f:\n",
        "    PDBFile.writeFile(dialanine.topology, dialanine.positions, f)\n",
        "\n",
        "\n",
        "#import nglview as nv\n",
        "#pdb = md.load_pdb(\"dialanine.pdb\")\n",
        "#view = nv.show_mdtraj(pdb)\n",
        "#view.add_ball_and_stick('all')\n",
        "#view.center_view(zoom=True)\n",
        "#view"
      ]
    },
    {
      "cell_type": "markdown",
      "metadata": {
        "id": "HRAHT3XLzQ24"
      },
      "source": [
        "### Setup  simulation in OpenMM\n",
        "\n"
      ]
    },
    {
      "cell_type": "code",
      "execution_count": 11,
      "metadata": {},
      "outputs": [],
      "source": [
        "# Simulation parameters for explicit solvent all-atom system\n",
        "nonbondedMethod     = PME\n",
        "nonbondedCutoff     = 1.0*nanometers\n",
        "ewaldErrorTolerance = 0.0005\n",
        "constraints         = HBonds\n",
        "rigidWater          = True\n",
        "constraintTolerance = 1e-5\n",
        "hydrogenMass        = 1.5*amu\n",
        "\n",
        "dt                 = 2.0 * femtoseconds\n",
        "temperature        = 300*kelvin\n",
        "friction           = 1.0/picosecond\n",
        "pressure           = 1.0*atmospheres\n",
        "barostatInterval   = 25\n",
        "equilibrationSteps = 10000\n",
        "nsteps              = 2500000  # ~5 ns if dt = 2 fs  \n",
        "\n",
        "#Reporters\n",
        "dcdReporter        = DCDReporter('trajectory.dcd', 1000)\n",
        "dataReporter       = StateDataReporter('log.txt', 1000, \n",
        "                                 totalSteps=steps,\n",
        "                                 step=True, \n",
        "                                 speed=True, progress=True, \n",
        "                                 potentialEnergy=True, \n",
        "                                 temperature=True, \n",
        "                                 separator='\\t')"
      ]
    },
    {
      "cell_type": "markdown",
      "metadata": {},
      "source": [
        "### Run NPT simulation"
      ]
    },
    {
      "cell_type": "code",
      "execution_count": null,
      "metadata": {},
      "outputs": [],
      "source": [
        "# Prepare the Simulation\n",
        "system.addForce(MonteCarloBarostat(pressure, temperature, barostatInterval))\n",
        "\n",
        "integrator = LangevinMiddleIntegrator(temperature, friction, dt)\n",
        "integrator.setConstraintTolerance(constraintTolerance)\n",
        "simulation = Simulation(topology, system, integrator)\n",
        "simulation.context.setPositions(positions)\n",
        "\n",
        "# Minimize \n",
        "simulation.minimizeEnergy()\n",
        "simulation.context.setVelocitiesToTemperature(temperature)\n",
        "simulation.step(equilibrationSteps)\n",
        "\n",
        "# Simulate\n",
        "simulation.reporters.append(dcdReporter)\n",
        "simulation.reporters.append(dataReporter)\n",
        "\n",
        "simulation.step(nsteps)"
      ]
    },
    {
      "cell_type": "markdown",
      "metadata": {},
      "source": [
        "### Metadynamics simulation of alanine dipeptide\n"
      ]
    },
    {
      "cell_type": "code",
      "execution_count": null,
      "metadata": {},
      "outputs": [
        {
          "ename": "KeyboardInterrupt",
          "evalue": "",
          "output_type": "error",
          "traceback": [
            "\u001b[0;31m---------------------------------------------------------------------------\u001b[0m",
            "\u001b[0;31mKeyboardInterrupt\u001b[0m                         Traceback (most recent call last)",
            "\u001b[0;32m/var/folders/3h/w4n54dz57dvbhgvz68gdv0f0f3hkmm/T/ipykernel_64866/2700539307.py\u001b[0m in \u001b[0;36m<cell line: 43>\u001b[0;34m()\u001b[0m\n\u001b[1;32m     41\u001b[0m \u001b[0msimulation\u001b[0m\u001b[0;34m.\u001b[0m\u001b[0mminimizeEnergy\u001b[0m\u001b[0;34m(\u001b[0m\u001b[0;34m)\u001b[0m\u001b[0;34m\u001b[0m\u001b[0;34m\u001b[0m\u001b[0m\n\u001b[1;32m     42\u001b[0m \u001b[0msimulation\u001b[0m\u001b[0;34m.\u001b[0m\u001b[0mcontext\u001b[0m\u001b[0;34m.\u001b[0m\u001b[0msetVelocitiesToTemperature\u001b[0m\u001b[0;34m(\u001b[0m\u001b[0mtemperature\u001b[0m\u001b[0;34m)\u001b[0m\u001b[0;34m\u001b[0m\u001b[0;34m\u001b[0m\u001b[0m\n\u001b[0;32m---> 43\u001b[0;31m \u001b[0msimulation\u001b[0m\u001b[0;34m.\u001b[0m\u001b[0mstep\u001b[0m\u001b[0;34m(\u001b[0m\u001b[0mequilibrationSteps\u001b[0m\u001b[0;34m)\u001b[0m\u001b[0;34m\u001b[0m\u001b[0;34m\u001b[0m\u001b[0m\n\u001b[0m\u001b[1;32m     44\u001b[0m \u001b[0;34m\u001b[0m\u001b[0m\n\u001b[1;32m     45\u001b[0m \u001b[0;31m# Set up Metadynamics\u001b[0m\u001b[0;34m\u001b[0m\u001b[0;34m\u001b[0m\u001b[0m\n",
            "\u001b[0;32m/opt/homebrew/anaconda3/envs/llpsmd3/lib/python3.9/site-packages/openmm/app/simulation.py\u001b[0m in \u001b[0;36mstep\u001b[0;34m(self, steps)\u001b[0m\n\u001b[1;32m    139\u001b[0m     \u001b[0;32mdef\u001b[0m \u001b[0mstep\u001b[0m\u001b[0;34m(\u001b[0m\u001b[0mself\u001b[0m\u001b[0;34m,\u001b[0m \u001b[0msteps\u001b[0m\u001b[0;34m)\u001b[0m\u001b[0;34m:\u001b[0m\u001b[0;34m\u001b[0m\u001b[0;34m\u001b[0m\u001b[0m\n\u001b[1;32m    140\u001b[0m         \u001b[0;34m\"\"\"Advance the simulation by integrating a specified number of time steps.\"\"\"\u001b[0m\u001b[0;34m\u001b[0m\u001b[0;34m\u001b[0m\u001b[0m\n\u001b[0;32m--> 141\u001b[0;31m         \u001b[0mself\u001b[0m\u001b[0;34m.\u001b[0m\u001b[0m_simulate\u001b[0m\u001b[0;34m(\u001b[0m\u001b[0mendStep\u001b[0m\u001b[0;34m=\u001b[0m\u001b[0mself\u001b[0m\u001b[0;34m.\u001b[0m\u001b[0mcurrentStep\u001b[0m\u001b[0;34m+\u001b[0m\u001b[0msteps\u001b[0m\u001b[0;34m)\u001b[0m\u001b[0;34m\u001b[0m\u001b[0;34m\u001b[0m\u001b[0m\n\u001b[0m\u001b[1;32m    142\u001b[0m \u001b[0;34m\u001b[0m\u001b[0m\n\u001b[1;32m    143\u001b[0m     \u001b[0;32mdef\u001b[0m \u001b[0mrunForClockTime\u001b[0m\u001b[0;34m(\u001b[0m\u001b[0mself\u001b[0m\u001b[0;34m,\u001b[0m \u001b[0mtime\u001b[0m\u001b[0;34m,\u001b[0m \u001b[0mcheckpointFile\u001b[0m\u001b[0;34m=\u001b[0m\u001b[0;32mNone\u001b[0m\u001b[0;34m,\u001b[0m \u001b[0mstateFile\u001b[0m\u001b[0;34m=\u001b[0m\u001b[0;32mNone\u001b[0m\u001b[0;34m,\u001b[0m \u001b[0mcheckpointInterval\u001b[0m\u001b[0;34m=\u001b[0m\u001b[0;32mNone\u001b[0m\u001b[0;34m)\u001b[0m\u001b[0;34m:\u001b[0m\u001b[0;34m\u001b[0m\u001b[0;34m\u001b[0m\u001b[0m\n",
            "\u001b[0;32m/opt/homebrew/anaconda3/envs/llpsmd3/lib/python3.9/site-packages/openmm/app/simulation.py\u001b[0m in \u001b[0;36m_simulate\u001b[0;34m(self, endStep, endTime)\u001b[0m\n\u001b[1;32m    204\u001b[0m             \u001b[0mstepsToGo\u001b[0m \u001b[0;34m=\u001b[0m \u001b[0mnextSteps\u001b[0m\u001b[0;34m\u001b[0m\u001b[0;34m\u001b[0m\u001b[0m\n\u001b[1;32m    205\u001b[0m             \u001b[0;32mwhile\u001b[0m \u001b[0mstepsToGo\u001b[0m \u001b[0;34m>\u001b[0m \u001b[0;36m10\u001b[0m\u001b[0;34m:\u001b[0m\u001b[0;34m\u001b[0m\u001b[0;34m\u001b[0m\u001b[0m\n\u001b[0;32m--> 206\u001b[0;31m                 \u001b[0mself\u001b[0m\u001b[0;34m.\u001b[0m\u001b[0mintegrator\u001b[0m\u001b[0;34m.\u001b[0m\u001b[0mstep\u001b[0m\u001b[0;34m(\u001b[0m\u001b[0;36m10\u001b[0m\u001b[0;34m)\u001b[0m \u001b[0;31m# Only take 10 steps at a time, to give Python more chances to respond to a control-c.\u001b[0m\u001b[0;34m\u001b[0m\u001b[0;34m\u001b[0m\u001b[0m\n\u001b[0m\u001b[1;32m    207\u001b[0m                 \u001b[0mstepsToGo\u001b[0m \u001b[0;34m-=\u001b[0m \u001b[0;36m10\u001b[0m\u001b[0;34m\u001b[0m\u001b[0;34m\u001b[0m\u001b[0m\n\u001b[1;32m    208\u001b[0m                 \u001b[0;32mif\u001b[0m \u001b[0mendTime\u001b[0m \u001b[0;32mis\u001b[0m \u001b[0;32mnot\u001b[0m \u001b[0;32mNone\u001b[0m \u001b[0;32mand\u001b[0m \u001b[0mdatetime\u001b[0m\u001b[0;34m.\u001b[0m\u001b[0mnow\u001b[0m\u001b[0;34m(\u001b[0m\u001b[0;34m)\u001b[0m \u001b[0;34m>=\u001b[0m \u001b[0mendTime\u001b[0m\u001b[0;34m:\u001b[0m\u001b[0;34m\u001b[0m\u001b[0;34m\u001b[0m\u001b[0m\n",
            "\u001b[0;32m/opt/homebrew/anaconda3/envs/llpsmd3/lib/python3.9/site-packages/openmm/openmm.py\u001b[0m in \u001b[0;36mstep\u001b[0;34m(self, steps)\u001b[0m\n\u001b[1;32m  11900\u001b[0m             \u001b[0mthe\u001b[0m \u001b[0mnumber\u001b[0m \u001b[0mof\u001b[0m \u001b[0mtime\u001b[0m \u001b[0msteps\u001b[0m \u001b[0mto\u001b[0m \u001b[0mtake\u001b[0m\u001b[0;34m\u001b[0m\u001b[0;34m\u001b[0m\u001b[0m\n\u001b[1;32m  11901\u001b[0m         \"\"\"\n\u001b[0;32m> 11902\u001b[0;31m         \u001b[0;32mreturn\u001b[0m \u001b[0m_openmm\u001b[0m\u001b[0;34m.\u001b[0m\u001b[0mLangevinMiddleIntegrator_step\u001b[0m\u001b[0;34m(\u001b[0m\u001b[0mself\u001b[0m\u001b[0;34m,\u001b[0m \u001b[0msteps\u001b[0m\u001b[0;34m)\u001b[0m\u001b[0;34m\u001b[0m\u001b[0;34m\u001b[0m\u001b[0m\n\u001b[0m\u001b[1;32m  11903\u001b[0m \u001b[0;34m\u001b[0m\u001b[0m\n\u001b[1;32m  11904\u001b[0m     \u001b[0;32mdef\u001b[0m \u001b[0m__init__\u001b[0m\u001b[0;34m(\u001b[0m\u001b[0mself\u001b[0m\u001b[0;34m,\u001b[0m \u001b[0;34m*\u001b[0m\u001b[0margs\u001b[0m\u001b[0;34m)\u001b[0m\u001b[0;34m:\u001b[0m\u001b[0;34m\u001b[0m\u001b[0;34m\u001b[0m\u001b[0m\n",
            "\u001b[0;31mKeyboardInterrupt\u001b[0m: "
          ]
        }
      ],
      "source": [
        "# CV setup\n",
        "num_grid_pts = 25\n",
        "resolution = 2 * np.pi / num_grid_pts  # bin width in radians\n",
        "bias_factor = 3\n",
        "\n",
        "# Torsion atom indices\n",
        "psi_indices = [6, 8, 14, 16]\n",
        "phi_indices = [4, 6, 8, 14]\n",
        "\n",
        "# Define collective variables (CVs) as torsion angles\n",
        "cv1 = CustomTorsionForce('theta')\n",
        "cv1.addTorsion(*psi_indices)\n",
        "system.addForce(cv1)\n",
        "psi = BiasVariable(cv1, -np.pi, np.pi, resolution, True)\n",
        "\n",
        "cv2 = CustomTorsionForce('theta')\n",
        "cv2.addTorsion(*phi_indices)\n",
        "system.addForce(cv2)\n",
        "phi = BiasVariable(cv2, -np.pi, np.pi, resolution, True)\n",
        "\n",
        "# Add barostat\n",
        "system.addForce(MonteCarloBarostat(pressure, temperature, barostatInterval))\n",
        "\n",
        "# Integrator and Simulation object\n",
        "integrator = LangevinMiddleIntegrator(temperature, friction, dt)\n",
        "integrator.setConstraintTolerance(constraintTolerance)\n",
        "simulation = Simulation(topology, system, integrator)\n",
        "simulation.context.setPositions(positions)\n",
        "\n",
        "# Energy minimization and equilibration\n",
        "simulation.minimizeEnergy()\n",
        "simulation.context.setVelocitiesToTemperature(temperature)\n",
        "simulation.step(equilibrationSteps)\n",
        "\n",
        "# Set up Metadynamics\n",
        "meta = Metadynamics(system,\n",
        "                    [phi, psi],\n",
        "                    temperature,\n",
        "                    bias_factor,\n",
        "                    height=1.0 * kilojoules_per_mole,\n",
        "                    frequency=500,  # bias added every 1 ps\n",
        "                    save_frequency=5000,  # optional: save bias periodically\n",
        "                    bias_dir='bias_output')\n",
        "\n",
        "# Reporters\n",
        "simulation.reporters.append(DCDReporter('trajectory.dcd', 1000))\n",
        "simulation.reporters.append(StateDataReporter(stdout, 1000,\n",
        "    step=True, potentialEnergy=True, temperature=True, progress=True,\n",
        "    remainingTime=True, speed=True, totalSteps=productionSteps, separator='\\t'))\n",
        "simulation.reporters.append(CheckpointReporter('checkpoint.chk', 5000))\n",
        "\n",
        "# Run Metadynamics\n",
        "meta.step(simulation, productionSteps)\n"
      ]
    },
    {
      "cell_type": "markdown",
      "metadata": {
        "id": "GUwIyEp_yriN"
      },
      "source": [
        "### Analysis"
      ]
    },
    {
      "cell_type": "code",
      "execution_count": 9,
      "metadata": {
        "id": "7mM2CJ9eyrEB"
      },
      "outputs": [],
      "source": [
        "fes = meta.getFreeEnergy()\n",
        "np.save('fes.npy', fes)"
      ]
    },
    {
      "cell_type": "code",
      "execution_count": 26,
      "metadata": {
        "colab": {
          "base_uri": "https://localhost:8080/",
          "height": 287
        },
        "id": "od4t5O9J04a4",
        "outputId": "0d14e941-370a-4dc5-ee4c-167ad2ac4bde"
      },
      "outputs": [
        {
          "data": {
            "text/plain": [
              "<matplotlib.colorbar.Colorbar at 0x7fe190c1f3d0>"
            ]
          },
          "execution_count": 26,
          "metadata": {},
          "output_type": "execute_result"
        },
        {
          "data": {
            "image/png": "[encoded data removed]",
            "text/plain": [
              "<Figure size 432x288 with 2 Axes>"
            ]
          },
          "metadata": {
            "needs_background": "light"
          },
          "output_type": "display_data"
        }
      ],
      "source": [
        "Z = np.load('fes.npy')\n",
        "\n",
        "X, Y = np.linspace(-np.pi, np.pi, len(Z)), np.linspace(-np.pi, np.pi, len(Z))\n",
        "\n",
        "X, Y = np.meshgrid(X,Y)\n",
        "\n",
        "plt.contourf(X, Y, Z, 40)\n",
        "plt.colorbar()"
      ]
    }
  ],
  "metadata": {
    "accelerator": "GPU",
    "colab": {
      "authorship_tag": "ABX9TyO56dMkma3JixCk02bAHVpm",
      "collapsed_sections": [],
      "include_colab_link": true,
      "name": "MetadynOpenmm.ipynb",
      "provenance": []
    },
    "gpuClass": "standard",
    "kernelspec": {
      "display_name": "llpsmd3",
      "language": "python",
      "name": "python3"
    },
    "language_info": {
      "codemirror_mode": {
        "name": "ipython",
        "version": 3
      },
      "file_extension": ".py",
      "mimetype": "text/x-python",
      "name": "python",
      "nbconvert_exporter": "python",
      "pygments_lexer": "ipython3",
      "version": "3.9.16"
    },
    "widgets": {
      "application/vnd.jupyter.widget-state+json": {
        "37ea704dbffc451282c327952885dcc2": {
          "model_module": "nglview-js-widgets",
          "model_module_version": "3.0.1",
          "model_name": "ColormakerRegistryModel",
          "state": {
            "_dom_classes": [],
            "_model_module": "nglview-js-widgets",
            "_model_module_version": "3.0.1",
            "_model_name": "ColormakerRegistryModel",
            "_msg_ar": [],
            "_msg_q": [],
            "_ready": false,
            "_view_count": null,
            "_view_module": "nglview-js-widgets",
            "_view_module_version": "3.0.1",
            "_view_name": "ColormakerRegistryView",
            "layout": "IPY_MODEL_8dee9186e0304edfa7de09ec5d0e66c5"
          }
        }
      }
    }
  },
  "nbformat": 4,
  "nbformat_minor": 0
}
