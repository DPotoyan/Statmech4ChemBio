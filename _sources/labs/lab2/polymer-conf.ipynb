{
 "cells": [
  {
   "cell_type": "code",
   "execution_count": null,
   "metadata": {},
   "outputs": [],
   "source": [
    "%matplotlib inline\n",
    "import numpy as np\n",
    "import matplotlib.pyplot as plt\n",
    "import plotly.graph_objects as go "
   ]
  },
  {
   "cell_type": "markdown",
   "metadata": {},
   "source": [
    "### Conformations of random polymer chain\n",
    "\n",
    "- Generate polymer chains of 100 monomers in 2D where each monomer can point in any of the four directions with equal probability.\n",
    "- Compute distribution of end-to-end distances of the polymer. \n",
    "- Study how many conformations one needs to generate to converge to theoretical expectation.\n",
    "- Study how average root mean square end to end distance depends on number of monomers."
   ]
  },
  {
   "cell_type": "code",
   "execution_count": null,
   "metadata": {},
   "outputs": [],
   "source": [
    "def gen_conf(n_mon=100, n_conf=10000):\n",
    "    '''This function should generate 2D conformations of random polymer and store the result in conf\n",
    "    conf: array of size (n_mon, n_conf, 2)'''\n",
    "    \n",
    "    # TODO: generate first monomer at origin so we can use the coordinate of the last bead for end-to-end distance calculations\n",
    "    \n",
    "    return conf"
   ]
  },
  {
   "cell_type": "code",
   "execution_count": null,
   "metadata": {},
   "outputs": [],
   "source": [
    "def ee-dist(conf):\n",
    "    '''This function calculates end to end distance'''\n",
    "    \n",
    "    return ee-dists"
   ]
  }
 ],
 "metadata": {
  "language_info": {
   "name": "python"
  }
 },
 "nbformat": 4,
 "nbformat_minor": 2
}
