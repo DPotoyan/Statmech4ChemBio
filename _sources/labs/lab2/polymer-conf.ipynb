{
 "cells": [
  {
   "cell_type": "code",
   "execution_count": null,
   "metadata": {},
   "outputs": [],
   "source": [
    "%matplotlib inline\n",
    "import numpy as np\n",
    "import matplotlib.pyplot as plt\n",
    "import plotly.graph_objects as go "
   ]
  },
  {
   "cell_type": "markdown",
   "metadata": {},
   "source": [
    "### Conformations of random polymer chain\n",
    "\n",
    "**End-to-end sitance**\n",
    "\n",
    "- Generate polymer chains of 100 monomers in 2D where each monomer has fixed length $a$ and can point in any direction with equal probability. You can generate monomer position by using uniform random number $\\theta\\sim U(0,1)$ via ```np.random.rand()```to compute angles between $[0, 2\\pi]$ using which you can get coordinates of monomers via $x = l\\cdot cos\\theta$ and $y = l\\cdot sin \\theta$.\n",
    "- After generating all monomer positions visualize a few polymer conformations to make sure you got polymer chains in 2D. \n",
    "- Compute probability distribution of end-to-end distances of the polymer. Note that you need to determine how many conformations you need to generate to match distribution of end-to-end distances expected by theory.\n",
    "- Calculate probability distribution of radius of gyration for a polymer with N monomers which is given as $R^2_g = \\frac{1}{N}\\sim (r_k-\\langle r \\rangle)^2 $ where $r_k$ denotes positions of monomers and $\\langle r \\rangle$ is the average monomer position\n",
    "- Study how average root mean square end to end distance and radius of gyration depends on number of monomers.\n",
    "\n",
    "\n",
    "**Entropy**\n",
    "\n",
    "Given any probability distribution one can calculate entropy via $S = -\\sum p_i log p_i$ \n",
    "\n",
    "- Calculate entropy of the of the polymer chain by using end to end probability distribution\n",
    "\n",
    "- Simulate chain that is twice more likely to have monomers to be along x axis. and calculate entropy again"
   ]
  },
  {
   "cell_type": "code",
   "execution_count": null,
   "metadata": {},
   "outputs": [],
   "source": [
    "def gen_conf(n_mon=100, n_conf=10000):\n",
    "    '''This function should generate 2D conformations of random polymer and store the result in conf\n",
    "    conf: array of size (n_mon, n_conf, 2)'''\n",
    "    \n",
    "    # TODO: generate first monomer at origin so we can use the coordinate of the last bead for end-to-end distance calculations\n",
    "    \n",
    "    return conf"
   ]
  },
  {
   "cell_type": "code",
   "execution_count": null,
   "metadata": {},
   "outputs": [],
   "source": [
    "def ee_dist(conf):\n",
    "    '''This function calculates end to end distance'''\n",
    "    \n",
    "    return ee_dists"
   ]
  },
  {
   "cell_type": "code",
   "execution_count": null,
   "metadata": {},
   "outputs": [],
   "source": [
    "def entropy(prob_end_to_end):\n",
    "    '''Calculate entropy of polymer conformational ensemble from end to end distance'''"
   ]
  }
 ],
 "metadata": {
  "language_info": {
   "name": "python"
  }
 },
 "nbformat": 4,
 "nbformat_minor": 2
}
