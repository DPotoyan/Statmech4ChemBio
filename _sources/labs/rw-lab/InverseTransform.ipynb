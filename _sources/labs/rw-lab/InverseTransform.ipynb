{
 "cells": [
  {
   "attachments": {},
   "cell_type": "markdown",
   "metadata": {},
   "source": [
    "# The Inverse Transform of RVs"
   ]
  },
  {
   "cell_type": "code",
   "execution_count": 2,
   "metadata": {},
   "outputs": [],
   "source": [
    "%matplotlib inline\n",
    "\n",
    "import numpy as np\n",
    "import matplotlib.pyplot as plt\n",
    "import seaborn as sns"
   ]
  },
  {
   "cell_type": "markdown",
   "metadata": {},
   "source": [
    "### The idea\n",
    "\n",
    "- [Inverse transform sampling](https://en.wikipedia.org/wiki/Inverse_transform_sampling) is a basic method for [pseudo-random number sampling](https://en.wikipedia.org/wiki/Pseudo-random_number_sampling), i.e. for generating sample numbers at random from any probability distribution given its cumulative distribution function. That is, by drawing from a uniform distribution, we make it possible to draw from the other distribution in question.\n",
    "\n",
    "- Let's start by defining uniform distribution $U(0,1)$ which generates random numbers $Z\\sim U(0,1)$ falling on $[0,1]$ range. Now let's look for a way of transforming random number $Z$ with $p(z)=\\frac{1}{1-0}$ uniform pdf into a function $X(Z)$ where x is distributed according to some pdf $p(x)$. The probability to find $x$ between $x$ and $x+dx$ is equal to:\n",
    "\n",
    "$$p(x)dx = p(z)dz = dz$$\n",
    "\n",
    "- This relation is simply transform of variables. Now the key point to realize is that integrals from over $[-\\infty, x(z)]$ for X and $[0, z]$ for Z are equal (these are cumulative distribution functions (CDF). \n",
    "\n",
    "$$\n",
    "\\int_{-\\infty}^{x(z)} p(x') dx' = \\int_0^z dz'= z\n",
    "$$\n",
    "\n",
    "- Thus, if we can (i) integrate expression on the left analytically and (ii) solve for $x$ then we are done! \n",
    "For most of the pdf at least one of the two is not possible. Below is a typical example where both (i) and (ii) states are easily done. \n",
    "\n",
    "#### Example: Drawing from the exponential distribution.\n",
    "\n",
    "- For example, lets assume we would like\n",
    "to generate random numbers that follow the exponential distribution\n",
    "$$p(x) = \\frac{1}{\\lambda} e^{-x/\\lambda}$$ \n",
    "\n",
    "- for $x\\ge0$ and $f(x)=0$ otherwise. Following the recipe from the above we have\n",
    "\n",
    "$$u = \\int_{0}^{x} \\frac{1}{\\lambda} e^{-x'/\\lambda} dx'  = 1- e^{-x/\\lambda} $$ \n",
    "\n",
    "- Solving for $x$ we get\n",
    "\n",
    "$$x = - \\lambda \\ln (1-u) $$\n",
    "\n",
    "### Formalized procedure:\n",
    "\n",
    "1. **Get a uniform sample $u$ from $U(0,1)$**\n",
    "2. **Solve for $x$ yielding a new equation $x=F^{-1}(u)$ where $F$ is the CDF of the distribution we desire.** \n",
    "3. **Repeat.** "
   ]
  },
  {
   "cell_type": "code",
   "execution_count": 2,
   "metadata": {},
   "outputs": [
    {
     "data": {
      "text/plain": [
       "<matplotlib.legend.Legend at 0x1125a8d30>"
      ]
     },
     "execution_count": 2,
     "metadata": {},
     "output_type": "execute_result"
    },
    {
     "data": {
      "image/png": "[encoded data removed]",
      "text/plain": [
       "<Figure size 432x288 with 1 Axes>"
      ]
     },
     "metadata": {
      "needs_background": "light"
     },
     "output_type": "display_data"
    }
   ],
   "source": [
    "# Define the probability distribution function\n",
    "p = lambda x: np.exp(-x)\n",
    "\n",
    "# Compute its cumulative distribution function (CDF)\n",
    "CDF = lambda x: 1 - np.exp(-x)\n",
    "\n",
    "# Compute the inverse of the CDF\n",
    "invCDF = lambda r: -np.log(1 - r)\n",
    "\n",
    "# Define sampling limits\n",
    "xmin, xmax = 0, 6  # Domain range\n",
    "rmin, rmax = CDF(xmin), CDF(xmax)  # Range of CDF values\n",
    "\n",
    "# Generate random samples\n",
    "N = 10000\n",
    "R = np.random.uniform(rmin, rmax, N)\n",
    "X = invCDF(R)\n",
    "\n",
    "# Compute histogram data\n",
    "hist_vals, bin_edges = np.histogram(X, bins=100)\n",
    "\n",
    "# Plot histogram of samples\n",
    "plt.hist(X, bins=100, label='Samples', alpha=0.7, edgecolor='black')\n",
    "\n",
    "# Overlay the theoretical probability density function (PDF)\n",
    "x_vals = np.linspace(xmin, xmax, 1000)\n",
    "plt.plot(x_vals, hist_vals[0] * p(x_vals), 'r', linewidth=2, label='p(x)')\n",
    "\n",
    "# Display legend and formatting\n",
    "plt.legend()\n",
    "plt.xlabel('x')\n",
    "plt.ylabel('Frequency')\n",
    "plt.title('Inverse Transform Sampling of an Exponential Distribution')\n",
    "plt.grid(alpha=0.3)\n",
    "plt.show()"
   ]
  }
 ],
 "metadata": {
  "anaconda-cloud": {},
  "kernel_info": {
   "name": "python3"
  },
  "kernelspec": {
   "display_name": "Python 3",
   "language": "python",
   "name": "python3"
  },
  "language_info": {
   "codemirror_mode": {
    "name": "ipython",
    "version": 3
   },
   "file_extension": ".py",
   "mimetype": "text/x-python",
   "name": "python",
   "nbconvert_exporter": "python",
   "pygments_lexer": "ipython3",
   "version": "3.8.5"
  },
  "latex_envs": {
   "LaTeX_envs_menu_present": true,
   "autoclose": false,
   "autocomplete": true,
   "bibliofile": "biblio.bib",
   "cite_by": "apalike",
   "current_citInitial": 1,
   "eqLabelWithNumbers": true,
   "eqNumInitial": 1,
   "hotkeys": {
    "equation": "Ctrl-E",
    "itemize": "Ctrl-I"
   },
   "labels_anchors": false,
   "latex_user_defs": false,
   "report_style_numbering": false,
   "user_envs_cfg": false
  },
  "nteract": {
   "version": "0.15.0"
  },
  "toc": {
   "base_numbering": 1,
   "nav_menu": {},
   "number_sections": true,
   "sideBar": true,
   "skip_h1_title": false,
   "title_cell": "Table of Contents",
   "title_sidebar": "Contents",
   "toc_cell": false,
   "toc_position": {},
   "toc_section_display": true,
   "toc_window_display": false
  }
 },
 "nbformat": 4,
 "nbformat_minor": 4
}
