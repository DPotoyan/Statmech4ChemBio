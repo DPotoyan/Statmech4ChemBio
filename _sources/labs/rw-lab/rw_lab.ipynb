{
 "cells": [
  {
   "attachments": {},
   "cell_type": "markdown",
   "metadata": {
    "editable": true,
    "slideshow": {
     "slide_type": "slide"
    },
    "tags": []
   },
   "source": [
    "# Random walk simulations"
   ]
  },
  {
   "cell_type": "code",
   "execution_count": 1,
   "metadata": {},
   "outputs": [],
   "source": [
    "import numpy as np\n",
    "import ipywidgets as widgets\n",
    "from ipywidgets import interact, interactive\n",
    "import matplotlib.pyplot as plt"
   ]
  },
  {
   "cell_type": "code",
   "execution_count": null,
   "metadata": {},
   "outputs": [],
   "source": [
    "class RandomWalker1D:\n",
    "\n",
    "    def __init__(self, steps=1000, seed=None):\n",
    "\n",
    "        self.steps     = steps\n",
    "        self.positions = None\n",
    "\n",
    "    def walk(self):\n",
    "        \n",
    "        moves = np.random.choice([-1, 1], size=self.steps)  # Move left (-1) or right (+1)\n",
    "        self.positions = np.cumsum(moves)\n",
    "        self.positions = np.insert(self.positions, 0, 0)  # Start at origin\n",
    "\n",
    "    def plot(self):\n",
    "        if self.positions is None:\n",
    "            raise ValueError(\"Run walk() first to generate a trajectory.\")\n",
    "        plt.plot(self.positions)\n",
    "        plt.xlabel(\"Step\")\n",
    "        plt.ylabel(\"Position\")\n",
    "        plt.title(\"1D Random Walk\")\n",
    "        plt.show()\n"
   ]
  },
  {
   "cell_type": "code",
   "execution_count": null,
   "metadata": {},
   "outputs": [],
   "source": [
    "walker = RandomWalker1D(steps=10000, seed=42)\n",
    "\n",
    "walker.walk()\n",
    "walker.plot()"
   ]
  },
  {
   "cell_type": "code",
   "execution_count": null,
   "metadata": {},
   "outputs": [],
   "source": [
    "class RandomWalker2D:\n",
    "\n",
    "    def __init__(self, steps=1000, seed=None):\n",
    "\n",
    "        self.steps = steps\n",
    "        self.positions = None\n",
    "\n",
    "    def walk(self):\n",
    "\n",
    "        moves = np.array([[1, 0], [-1, 0], [0, 1], [0, -1]])  # Four possible directions\n",
    "        choices = np.random.choice(4, size=self.steps)  # Random indices for moves\n",
    "        self.positions = np.cumsum(moves[choices], axis=0)\n",
    "        self.positions = np.vstack(([0, 0], self.positions))  # Start at origin\n",
    "\n",
    "    def plot(self):\n",
    "        if self.positions is None:\n",
    "            raise ValueError(\"Run walk() first to generate a trajectory.\")\n",
    "        plt.plot(self.positions[:, 0], self.positions[:, 1], marker='o', markersize=2, linestyle='-')\n",
    "        plt.xlabel(\"X Position\")\n",
    "        plt.ylabel(\"Y Position\")\n",
    "        plt.title(\"2D Random Walk\")\n",
    "        plt.show()"
   ]
  },
  {
   "cell_type": "code",
   "execution_count": null,
   "metadata": {},
   "outputs": [],
   "source": [
    "walker = RandomWalker2D(steps=100, seed=42)\n",
    "\n",
    "walker.walk()\n",
    "walker.plot()"
   ]
  },
  {
   "cell_type": "markdown",
   "metadata": {},
   "source": [
    "#### Challange Project\n",
    "\n",
    "- Extend the previous code to do 3D random walk simulator\n",
    "- Can you write general code that can do nD random walk simulations?\n",
    "- Add function for computing mean square displacement from the origin"
   ]
  }
 ],
 "metadata": {
  "kernelspec": {
   "display_name": "Python 3 (ipykernel)",
   "language": "python",
   "name": "python3"
  },
  "language_info": {
   "codemirror_mode": {
    "name": "ipython",
    "version": 3
   },
   "file_extension": ".py",
   "mimetype": "text/x-python",
   "name": "python",
   "nbconvert_exporter": "python",
   "pygments_lexer": "ipython3",
   "version": "3.9.16"
  },
  "latex_envs": {
   "LaTeX_envs_menu_present": true,
   "autoclose": false,
   "autocomplete": true,
   "bibliofile": "biblio.bib",
   "cite_by": "apalike",
   "current_citInitial": 1,
   "eqLabelWithNumbers": true,
   "eqNumInitial": 1,
   "hotkeys": {
    "equation": "Ctrl-E",
    "itemize": "Ctrl-I"
   },
   "labels_anchors": false,
   "latex_user_defs": false,
   "report_style_numbering": false,
   "user_envs_cfg": false
  },
  "livereveal": {
   "theme": "sky"
  },
  "nteract": {
   "version": "0.15.0"
  },
  "toc": {
   "base_numbering": 1,
   "nav_menu": {},
   "number_sections": true,
   "sideBar": true,
   "skip_h1_title": false,
   "title_cell": "Table of Contents",
   "title_sidebar": "Contents",
   "toc_cell": false,
   "toc_position": {},
   "toc_section_display": true,
   "toc_window_display": false
  }
 },
 "nbformat": 4,
 "nbformat_minor": 4
}
