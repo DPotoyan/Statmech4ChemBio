{
 "cells": [
  {
   "cell_type": "markdown",
   "metadata": {},
   "source": [
    "# Langevin Equation for Brownian Motion and Mean Square Displacement (MSD)\n",
    "\n",
    "The **Langevin equation** describes the motion of a Brownian particle under the influence of random forces:\n",
    "\n",
    "$$m \\frac{d v}{d t} = - \\gamma v + \\eta(t)$$\n",
    "\n",
    "where:\n",
    "\n",
    "- $m$ is the mass of the particle,\n",
    "- $\\gamma$ is the friction coefficient,\n",
    "- $v$ is the velocity,\n",
    "- $\\eta(t)$ is a stochastic force modeled as Gaussian white noise with: \\(\\langle \\eta(t) \\rangle = 0, \\quad \\langle \\eta(t) \\eta(t') \\rangle = 2 D \\delta(t - t')\\) where \\$D\\$ is the noise strength.\n",
    "\n",
    "In the overdamped limit (high friction, negligible inertia), the Langevin equation simplifies to:\n",
    "\n",
    "$$\\frac{d x}{d t} = - \\frac{\\gamma}{m} x + \\frac{1}{m} \\eta(t)$$\n",
    "\n",
    "### Numerical Solution and MSD Calculation\n",
    "\n",
    "The **Euler-Maruyama method** can be used to simulate the Langevin equation and compute the **mean square displacement (MSD)** over time. To ensure accuracy, we compute the MSD using an **ensemble average** over multiple trajectories:\n",
    "\n",
    "### Interpretation of MSD Behavior\n",
    "\n",
    "- **At short times**, MSD grows as **ballistic motion** due to inertia.\n",
    "- **At intermediate times**, MSD transitions to diffusive behavior: \\(\\text{MSD}(t) \\sim \\frac{2 D}{\\gamma} (1 - e^{-\\gamma t})\\)\n",
    "- **At long times**, noise effects dominate, and MSD saturates due to finite simulation time or numerical artifacts.\n",
    "\n",
    "By averaging over multiple trajectories, we obtain a more reliable measure of the diffusion process, eliminating artificial decay effects seen in single-trajectory computations.\n",
    "\n"
   ]
  },
  {
   "cell_type": "code",
   "execution_count": null,
   "metadata": {},
   "outputs": [],
   "source": [
    "import numpy as np\n",
    "import matplotlib.pyplot as plt\n",
    "\n",
    "def langevin_simulation(num_steps, dt, gamma, D):\n",
    "    x = np.zeros(num_steps)\n",
    "    for i in range(1, num_steps):\n",
    "        noise = np.sqrt(2 * D * dt) * np.random.randn()\n",
    "        x[i] = x[i-1] - (gamma * x[i-1] * dt) + noise\n",
    "    return x\n",
    "\n",
    "def compute_msd_ensemble(num_trajectories, num_steps, dt, gamma, D):\n",
    "    \"\"\"Compute the mean square displacement over an ensemble of trajectories.\"\"\"\n",
    "    msd = np.zeros(num_steps)\n",
    "    for _ in range(num_trajectories):\n",
    "        x_vals = langevin_simulation(num_steps, dt, gamma, D)\n",
    "        for i in range(num_steps):\n",
    "            displacements = x_vals[i:] - x_vals[:-i] if i > 0 else np.zeros(num_steps)\n",
    "            msd[i] += np.mean(displacements**2)\n",
    "    msd /= num_trajectories\n",
    "    return msd\n",
    "\n"
   ]
  },
  {
   "cell_type": "code",
   "execution_count": null,
   "metadata": {},
   "outputs": [],
   "source": [
    "# Parameters\n",
    "num_steps = 1000\n",
    "dt = 0.01\n",
    "gamma = 1.0\n",
    "D = 0.5\n",
    "num_trajectories = 100\n",
    "\n",
    "# Compute MSD over an ensemble\n",
    "msd_vals = compute_msd_ensemble(num_trajectories, num_steps, dt, gamma, D)\n",
    "\n",
    "# Plot results\n",
    "plt.plot(np.arange(num_steps) * dt, msd_vals)\n",
    "plt.xlabel(\"t\")\n",
    "plt.ylabel(\"MSD\")\n",
    "plt.title(\"Mean Square Displacement vs. Time (Ensemble Averaged)\")\n",
    "plt.show()"
   ]
  }
 ],
 "metadata": {
  "language_info": {
   "name": "python"
  }
 },
 "nbformat": 4,
 "nbformat_minor": 2
}
