{
 "cells": [
  {
   "cell_type": "markdown",
   "metadata": {},
   "source": [
    "# Tutorial: Numpy simultions of 2D gas"
   ]
  },
  {
   "cell_type": "code",
   "execution_count": null,
   "metadata": {},
   "outputs": [],
   "source": [
    "import numpy as np\n",
    "import matplotlib.pyplot as plt\n",
    "import ipywidgets as widgets\n",
    "from ipywidgets import interactive\n",
    "\n",
    "import matplotlib.animation as animation\n",
    "from IPython.display import HTML"
   ]
  },
  {
   "cell_type": "code",
   "execution_count": null,
   "metadata": {},
   "outputs": [],
   "source": [
    "class GasSimulation:\n",
    "    def __init__(self, N=100, L=10.0, dt=0.01, radius=0.2, temperature=1.0, mass=1.0, steps=500):\n",
    "        \"\"\"Initialize gas particle simulation.\"\"\"\n",
    "\n",
    "        self.N, self.L, self.dt, self.radius, self.temperature, self.mass, self.steps = N, L, dt, radius, temperature, mass, steps\n",
    "        \n",
    "        # Initialize positions (left side) and velocities (Maxwell-Boltzmann distribution)\n",
    "        self.positions = np.column_stack((np.random.uniform(0, L/2, N), np.random.uniform(0, L, N)))\n",
    "        self.velocities = np.random.normal(0, np.sqrt(temperature / mass), (N, 2))\n",
    "\n",
    "        # Pre-allocate arrays for performance\n",
    "        self.positions_history = np.zeros((steps, N, 2), dtype=np.float32)\n",
    "        self.velocities_history = np.zeros((steps, N, 2), dtype=np.float32)\n",
    "\n",
    "    def update_positions(self):\n",
    "        \"\"\"Update positions and handle wall collisions.\"\"\"\n",
    "\n",
    "        self.positions += self.velocities * self.dt\n",
    "        collisions = (self.positions - self.radius < 0) | (self.positions + self.radius > self.L) # Grab particles that collided with the the walls\n",
    "        self.velocities[collisions] *= -1                                                         # Reverse the velocity upon collision\n",
    "        self.positions = np.clip(self.positions, self.radius, self.L - self.radius)               # Clip positions and make sure no particle is exceeding the limits\n",
    "\n",
    "    def run_simulation(self):\n",
    "        \"\"\"Run simulation and store trajectory history.\"\"\"\n",
    "        \n",
    "        for step in range(self.steps):\n",
    "            self.update_positions()\n",
    "            self.positions_history[step], self.velocities_history[step] = self.positions.copy(), self.velocities.copy()\n",
    "\n",
    "        # Visualize\n",
    "        def scatter_plot(frame=0):    \n",
    "            plt.figure(figsize=(5, 5))\n",
    "            plt.xlim(0, self.L), plt.ylim(0, self.L)\n",
    "            plt.title(f\"Frame {frame + 1} / {len(self.positions_history)}\")\n",
    "            plt.scatter(*self.positions_history[frame].T, s=20, c='blue', alpha=0.6)\n",
    "            plt.show()\n",
    "            \n",
    "        return interactive(scatter_plot, frame=(0, self.steps - 1, 1))"
   ]
  },
  {
   "cell_type": "code",
   "execution_count": null,
   "metadata": {},
   "outputs": [],
   "source": [
    "# Create and run simulation\n",
    "sim = GasSimulation(N=100, steps=500)\n",
    "sim.run_simulation()"
   ]
  },
  {
   "cell_type": "code",
   "execution_count": null,
   "metadata": {},
   "outputs": [],
   "source": [
    "#Animate\n",
    "L, pos, steps = sim.L, sim.positions_history, sim.steps\n",
    "fig, ax = plt.subplots(figsize=(5, 5))\n",
    "\n",
    "ax.set_xlim(0, L), ax.set_ylim(0, L)\n",
    "scatter = ax.scatter([], [], s=20, c='blue', alpha=0.6)\n",
    "\n",
    "def update(frame):\n",
    "  scatter.set_offsets(pos[frame])\n",
    "  return scatter,\n",
    "\n",
    "ani = animation.FuncAnimation(fig, update, frames=steps, interval=20, blit=True)\n",
    "plt.close()\n",
    "HTML(ani.to_jshtml())"
   ]
  },
  {
   "cell_type": "markdown",
   "metadata": {},
   "source": [
    "## Project 1: Plot velocity and particle distributions"
   ]
  },
  {
   "cell_type": "code",
   "execution_count": null,
   "metadata": {},
   "outputs": [],
   "source": [
    "#plot_speed_distribution(sim.velocities_history)\n",
    "#plot_position_heatmap(sim.positions_history)"
   ]
  },
  {
   "cell_type": "markdown",
   "metadata": {},
   "source": [
    "## Project 2: Implement elastic collisions between gas particles\n",
    "\n",
    "### 1. Conservation Laws\n",
    "\n",
    "When two particles collide elastically, both **momentum** and **kinetic energy** are conserved.\n",
    "\n",
    "#### **Momentum Conservation**\n",
    "$$\n",
    "m_1 v_{1,\\text{init}} + m_2 v_{2,\\text{init}} = m_1 v_{1,\\text{final}} + m_2 v_{2,\\text{final}}\n",
    "$$\n",
    "\n",
    "#### **Kinetic Energy Conservation**\n",
    "$$\n",
    "\\frac{1}{2} m_1 v_{1,\\text{init}}^2 + \\frac{1}{2} m_2 v_{2,\\text{init}}^2 = \\frac{1}{2} m_1 v_{1,\\text{final}}^2 + \\frac{1}{2} m_2 v_{2,\\text{final}}^2\n",
    "$$\n",
    "\n",
    "where:\n",
    "- $v_{1,\\text{init}}$, $v_{2,\\text{init}}$ are the initial speeds of particles 1 and 2.\n",
    "- $v_{1,\\text{final}}$, $v_{2,\\text{final}}$ are the final speeds after the collision.\n",
    "\n",
    "\n",
    "\n",
    "### 2. Collision Setup\n",
    "\n",
    "For two **colliding particles**, we define:\n",
    "\n",
    "- **Positions:** $ \\mathbf{r}_1, \\mathbf{r}_2 $\n",
    "- **Velocities (before collision):** $ \\mathbf{v}_{1,\\text{init}}, \\mathbf{v}_{2,\\text{init}} $\n",
    "- **Masses:** $ m_1, m_2 $\n",
    "\n",
    "The **relative velocity** between the two particles before the collision is:\n",
    "\n",
    "$$\n",
    "\\mathbf{v}_{\\text{rel}} = \\mathbf{v}_{1,\\text{init}} - \\mathbf{v}_{2,\\text{init}}\n",
    "$$\n",
    "\n",
    "The **unit vector along the collision axis** (the direction along the line joining the particle centers) is:\n",
    "\n",
    "$$\n",
    "\\hat{\\mathbf{r}} = \\frac{\\mathbf{r}_1 - \\mathbf{r}_2}{|\\mathbf{r}_1 - \\mathbf{r}_2|}\n",
    "$$\n",
    "\n",
    "\n",
    "\n",
    "### 3. Velocities After Collision\n",
    "\n",
    "After the collision, the velocity component **along the collision axis** changes, while the **perpendicular components remain unchanged**.\n",
    "\n",
    "Using **momentum** and **energy** conservation, the updated velocities are:\n",
    "\n",
    "$$\n",
    "\\mathbf{v}_{1,\\text{final}} = \\mathbf{v}_{1,\\text{init}} - \\frac{2 m_2}{m_1 + m_2} (\\mathbf{v}_{\\text{rel}} \\cdot \\hat{\\mathbf{r}}) \\hat{\\mathbf{r}}\n",
    "$$\n",
    "\n",
    "$$\n",
    "\\mathbf{v}_{2,\\text{final}} = \\mathbf{v}_{2,\\text{init}} + \\frac{2 m_1}{m_1 + m_2} (\\mathbf{v}_{\\text{rel}} \\cdot \\hat{\\mathbf{r}}) \\hat{\\mathbf{r}}\n",
    "$$\n",
    "\n",
    "where:\n",
    "- $ \\mathbf{v}_{\\text{rel}} \\cdot \\hat{\\mathbf{r}} $ is the projection of **relative velocity** along the collision axis.\n",
    "- Projection is **negative** when particles moving **towards each other** and positive if moving away from each other.\n",
    "- The prefactors $ \\frac{2 m_2}{m_1 + m_2} $ and $ \\frac{2 m_1}{m_1 + m_2} $ ensure **momentum and energy conservation**.\n",
    "\n",
    "\n"
   ]
  },
  {
   "cell_type": "markdown",
   "metadata": {},
   "source": [
    "### Need to update positions by checking for collisions"
   ]
  },
  {
   "cell_type": "markdown",
   "metadata": {},
   "source": [
    "```python\n",
    "        for i in range(self.N):\n",
    "            for j in range(i + 1, self.N):\n",
    "\n",
    "                r_rel = self.positions[i] - self.positions[j]    # Relative position\n",
    "                v_rel = self.velocities[i] - self.velocities[j]  # Relative velocity\n",
    "\n",
    "                dist = np.linalg.norm(r_rel)\n",
    "\n",
    "                if dist < 2 * self.radius:  # Collision condition\n",
    "                    # Fill out code\n",
    "                    # Ensure that particles moving towards each other and not away from each other to avoid extra computation\n",
    "\n",
    "\n",
    "```"
   ]
  }
 ],
 "metadata": {
  "language_info": {
   "name": "python"
  }
 },
 "nbformat": 4,
 "nbformat_minor": 2
}
