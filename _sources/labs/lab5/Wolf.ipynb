{
 "cells": [
  {
   "cell_type": "markdown",
   "id": "23cac1fe-d2bb-4f42-9ee6-004ee34d0627",
   "metadata": {},
   "source": [
    "# Other Methods for sampling Ising models"
   ]
  },
  {
   "cell_type": "markdown",
   "id": "5213c505-71e0-4175-9555-dca608fc2362",
   "metadata": {},
   "source": [
    "**Wolf Algorithm (cluster methods):**\n",
    "\n",
    "Near the critical point $T_c$ where the system develops a magnetization, any single-spin-flip dynamics becomes very slow (the correlation time diverges).\n",
    "Wolff came up with a clever method to flip whole clusters of spins!\n",
    "\n",
    "1. Pick a spin at random, remember its direction $s = \\pm 1$, and flip it.\n",
    "2. For each of the four neighboring spins, if it is\n",
    "in the direction $s$, flip it with probability $p = 1 - e^{\\beta 2J}$.\n",
    "3. For each of the new flipped spins, recursively\n",
    "flip their neighbors as in step 2"
   ]
  },
  {
   "cell_type": "code",
   "execution_count": null,
   "id": "4d3c4a61-1ec8-4b0f-8871-b499fd1b6fac",
   "metadata": {},
   "outputs": [],
   "source": [
    "from numba import njit\n",
    "import numpy as np\n",
    "import matplotlib.pyplot as plt\n",
    "from matplotlib.animation import FuncAnimation\n",
    "from IPython.display import HTML\n",
    "\n",
    "@njit\n",
    "def wolff_ising(spins, J=1.0, T=2.0, nsteps=5000):\n",
    "    N = spins.shape[0]\n",
    "    beta = 1.0 / T\n",
    "    p_add = 1.0 - np.exp(-2 * beta * J)\n",
    "\n",
    "    max_cluster_size = N * N\n",
    "    cluster_mask = np.zeros((N, N), dtype=np.uint8)\n",
    "\n",
    "    S_out = []\n",
    "    M_out = []\n",
    "\n",
    "    for step in range(nsteps):\n",
    "        cluster_mask[:, :] = 0\n",
    "\n",
    "        # Seed\n",
    "        i, j = np.random.randint(N), np.random.randint(N)\n",
    "        spin0 = spins[i, j]\n",
    "        cluster_mask[i, j] = 1\n",
    "\n",
    "        # Cluster grows from stack\n",
    "        stack = [(i, j)]\n",
    "        while stack:\n",
    "            x, y = stack.pop()\n",
    "            for dx, dy in [(-1, 0), (1, 0), (0, -1), (0, 1)]:\n",
    "                xn, yn = (x + dx) % N, (y + dy) % N\n",
    "                if cluster_mask[xn, yn] == 0 and spins[xn, yn] == spin0:\n",
    "                    if np.random.rand() < p_add:\n",
    "                        cluster_mask[xn, yn] = 1\n",
    "                        stack.append((xn, yn))\n",
    "\n",
    "        # Flip the cluster\n",
    "        for x in range(N):\n",
    "            for y in range(N):\n",
    "                if cluster_mask[x, y]:\n",
    "                    spins[x, y] *= -1\n",
    "\n",
    "        if step % 10 == 0:\n",
    "            S_out.append(spins.copy())\n",
    "            M_out.append(np.mean(spins))\n",
    "\n",
    "    return S_out, M_out\n"
   ]
  },
  {
   "cell_type": "code",
   "execution_count": null,
   "id": "cd82469b",
   "metadata": {},
   "outputs": [],
   "source": [
    "# Run simulation\n",
    "N = 20\n",
    "spins_init = np.random.choice([-1, 1], size=(N, N))\n",
    "S_out, M_out = wolff_ising(spins_init, J=1.0, T=2.2, nsteps=500) # at critical temp"
   ]
  },
  {
   "cell_type": "markdown",
   "id": "5adf3d10",
   "metadata": {},
   "source": [
    "### Visualize Simulation"
   ]
  },
  {
   "cell_type": "code",
   "execution_count": null,
   "id": "716eeeb0",
   "metadata": {},
   "outputs": [],
   "source": [
    "# Create animation\n",
    "fig, ax = plt.subplots(1, 2, figsize=(10, 5))\n",
    "im = ax[0].imshow(S_out[0], cmap=\"coolwarm\", vmin=-1, vmax=1)\n",
    "line, = ax[1].plot([], [], lw=2)\n",
    "ax[1].set_xlim(0, len(M_out))\n",
    "ax[1].set_ylim(-1.05, 1.05)\n",
    "ax[1].set_xlabel(\"Step\")\n",
    "ax[1].set_ylabel(\"Magnetization\")\n",
    "ax[0].set_title(\"Spin Configuration\")\n",
    "ax[1].set_title(\"Magnetization\")\n",
    "\n",
    "def update(frame):\n",
    "    im.set_data(S_out[frame])\n",
    "    line.set_data(np.arange(frame + 1), M_out[:frame + 1])\n",
    "    return im, line\n",
    "\n",
    "ani = FuncAnimation(fig, update, frames=len(S_out), interval=100, blit=True)\n",
    "plt.close()\n",
    "\n",
    "HTML(ani.to_jshtml())"
   ]
  }
 ],
 "metadata": {
  "kernelspec": {
   "display_name": "Python 3 (ipykernel)",
   "language": "python",
   "name": "python3"
  }
 },
 "nbformat": 4,
 "nbformat_minor": 5
}
