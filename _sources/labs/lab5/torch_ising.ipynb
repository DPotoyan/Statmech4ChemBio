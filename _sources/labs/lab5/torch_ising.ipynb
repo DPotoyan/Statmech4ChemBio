{
 "cells": [
  {
   "cell_type": "markdown",
   "id": "0a45c603-e4da-4d84-8222-5290a58d392b",
   "metadata": {},
   "source": [
    "### Ising-2D simulations using ML libraries"
   ]
  },
  {
   "cell_type": "code",
   "execution_count": null,
   "id": "4d022430-b7db-49be-a99d-df8d57f8f8a0",
   "metadata": {},
   "outputs": [],
   "source": [
    "import torch\n",
    "import numpy as np\n",
    "import matplotlib.pyplot as plt\n",
    "import tqdm"
   ]
  },
  {
   "cell_type": "markdown",
   "id": "b0339162-2789-499c-8762-7201fc545b15",
   "metadata": {},
   "source": [
    "### Pytorch implementation"
   ]
  },
  {
   "cell_type": "code",
   "execution_count": null,
   "id": "640d3b8c-f758-45ce-bab3-5cb3f8135008",
   "metadata": {},
   "outputs": [],
   "source": [
    "def ising2d_torch(N=20, \n",
    "                T=1.0, \n",
    "                J=1.0, \n",
    "                B=0.0, \n",
    "                n_steps=20000, \n",
    "                out_freq=10):\n",
    "    '''\n",
    "    Metropolis Monte Carlo simulator for the 2D Ising model using PyTorch.\n",
    "\n",
    "    Parameters:\n",
    "    N (int): dimension of spin lattice, returning N*N spins\n",
    "    T (float): Temperature.\n",
    "    J (float): Interaction strength between spins.\n",
    "    B (float): External magnetic field.\n",
    "    n_steps (int): Number of Monte Carlo steps.\n",
    "    out_freq (int): Output frequency for saving spin configurations, energy, and magnetization.\n",
    "  \n",
    "    Returns:\n",
    "    tuple: Numpy arrays of spin configurations, energies, and magnetizations.\n",
    "    '''\n",
    "    \n",
    "    device = torch.device(\"cpu\") # For small lattices that we simulate CPU is more efficient\n",
    "\n",
    "    # Initialize spins\n",
    "    spins = torch.randint(0, 2, (N, N), device=device) * 2 - 1\n",
    "    \n",
    "    M_t = spins.sum()\n",
    "    neighbors  = spins.roll(1, dims=0) + spins.roll(1, dims=1) \n",
    "    E_t        = -J * (spins * neighbors).sum() - M_t*B\n",
    "   \n",
    "    S, E, M = [], [], []\n",
    "\n",
    "    for step in range(n_steps):\n",
    "\n",
    "        i, j = torch.randint(0, N, (2,), device=device)\n",
    "\n",
    "        z = spins[(i + 1) % N, j] + spins[(i - 1) % N, j] + spins[i, (j + 1) % N] + spins[i, (j - 1) % N]\n",
    "\n",
    "        dE = 2 * spins[i, j] * (J * z + B)\n",
    "        dM = 2 * spins[i, j]\n",
    "\n",
    "        if torch.rand(1, device=device) < torch.exp(-dE / T):\n",
    "            spins[i, j] *= -1\n",
    "            E_t += dE\n",
    "            M_t += dM\n",
    "\n",
    "        if step % out_freq == 0:\n",
    "            S.append(spins.clone())\n",
    "            E.append(E_t / N**2)\n",
    "            M.append(M_t / N**2)\n",
    "\n",
    "    return np.array(S), np.array(E), np.array(M)"
   ]
  },
  {
   "cell_type": "markdown",
   "id": "e6b41310-6bdd-4148-831a-898016e3c5c7",
   "metadata": {},
   "source": [
    "### Jax implementation"
   ]
  },
  {
   "cell_type": "code",
   "execution_count": null,
   "id": "c7b03aae-b631-4b7d-a404-c2d05182523c",
   "metadata": {},
   "outputs": [],
   "source": [
    "import jax\n",
    "import jax.numpy as jnp\n",
    "from jax import random, jit\n",
    "\n",
    "def metropolis_update(spins, i, j, J, B, T, key):\n",
    "    '''Calculate the energy change for a proposed spin flip at position (i, j) and decide whether to accept it.'''\n",
    "    N = spins.shape[0]\n",
    "    spin = spins[i, j]\n",
    "    # Manual periodic boundary conditions\n",
    "    neighbors = (\n",
    "        spins[(i+1) % N, j] + spins[(i-1) % N, j] +\n",
    "        spins[i, (j+1) % N] + spins[i, (j-1) % N]\n",
    "    )\n",
    "    delta_E = 2 * spin * (J * neighbors + B)\n",
    "    accept = random.uniform(key) < jnp.exp(-delta_E / T)\n",
    "    return accept, delta_E\n",
    "\n",
    "@jit\n",
    "def metropolis_step(state, key):\n",
    "    spins, J, B, T = state\n",
    "    N = spins.shape[0]\n",
    "\n",
    "    # Split key for the operation\n",
    "    key, subkey = random.split(key)\n",
    "\n",
    "    # Pick a random spin\n",
    "    i, j = random.randint(subkey, (2,), 0, N)\n",
    "    accept, _ = metropolis_update(spins, i, j, J, B, T, subkey)\n",
    "    \n",
    "    # Apply the Metropolis condition\n",
    "    spins = jax.numpy.where(accept, spins.at[i, j].set(-spins[i, j]), spins)\n",
    "\n",
    "    return (spins, J, B, T), key  # Pass the new key along\n",
    "\n",
    "def simulate_ising(N, T, J=1.0, B=0.0, n_steps=10000, seed=0):\n",
    "  \n",
    "    key = random.PRNGKey(seed)\n",
    "    spins = random.choice(key, jnp.array([-1, 1]), shape=(N, N))\n",
    "\n",
    "    # Pack state\n",
    "    state = (spins, J, B, T)\n",
    "    keys = random.split(key, n_steps)  # Pre-split keys for each step\n",
    "\n",
    "    # Use scan to apply metropolis_step across all steps\n",
    "    final_state, _ = jax.lax.scan(metropolis_step, state, keys)\n",
    "\n",
    "    return final_state[0]  # Return final spins only"
   ]
  },
  {
   "cell_type": "markdown",
   "id": "3d70f6a8-c7bf-41da-8425-2cd232495362",
   "metadata": {},
   "source": [
    "### Speed Test"
   ]
  },
  {
   "cell_type": "code",
   "execution_count": null,
   "id": "b55d21e9-628b-4376-baa9-5a1e8fa58706",
   "metadata": {},
   "outputs": [],
   "source": [
    "#Parameters\n",
    "params = {'N':20,\n",
    "          'J':1, \n",
    "          'B':0, \n",
    "          'T': 4,\n",
    "          'n_steps': 10000, \n",
    "          'out_freq': 10}\n"
   ]
  }
 ],
 "metadata": {
  "kernelspec": {
   "display_name": "Python [conda env:llpsmd3] *",
   "language": "python",
   "name": "conda-env-llpsmd3-py"
  },
  "language_info": {
   "codemirror_mode": {
    "name": "ipython",
    "version": 3
   },
   "file_extension": ".py",
   "mimetype": "text/x-python",
   "name": "python",
   "nbconvert_exporter": "python",
   "pygments_lexer": "ipython3",
   "version": "3.9.16"
  }
 },
 "nbformat": 4,
 "nbformat_minor": 5
}
