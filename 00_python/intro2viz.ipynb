{
 "cells": [
  {
   "cell_type": "markdown",
   "metadata": {
    "id": "zeIbLLUGl7pK"
   },
   "source": [
    "# Plotting"
   ]
  },
  {
   "cell_type": "markdown",
   "metadata": {
    "id": "aQCyJ68El7pU"
   },
   "source": [
    "Matplotlib is a standard plotting library of python. We begin by importing it first along with numpy."
   ]
  },
  {
   "cell_type": "code",
   "execution_count": null,
   "metadata": {
    "executionInfo": {
     "elapsed": 429,
     "status": "ok",
     "timestamp": 1618882890947,
     "user": {
      "displayName": "Davit Potoyan",
      "photoUrl": "https://lh3.googleusercontent.com/a-/AOh14GiUdLXplMG8UEHwBVcNr7CDgo7SDIZxxozSCzi7xQ=s64",
      "userId": "16339487288737364945"
     },
     "user_tz": 300
    },
    "id": "oDkpYJKhl7pU"
   },
   "outputs": [],
   "source": [
    "import matplotlib.pyplot as plt\n",
    "import numpy as np\n",
    "import pandas as pd"
   ]
  },
  {
   "cell_type": "markdown",
   "metadata": {
    "id": "uC7krQ1ml7pV"
   },
   "source": [
    "The most widely used function in `matplotlib` is plot, which allows you to plot 1D and 2D data. Here is a simple example:"
   ]
  },
  {
   "cell_type": "code",
   "execution_count": null,
   "metadata": {
    "id": "Okis6gQSl7pV",
    "outputId": "ec61495b-0bc9-4051-e92f-9ad8fff849cf"
   },
   "outputs": [],
   "source": [
    "# Compute the x and y coordinates for points on a sine curve\n",
    "x = np.arange(0, 3 * np.pi, 0.1)\n",
    "y = np.sin(x)\n",
    "\n",
    "# Plot the points using matplotlib\n",
    "plt.plot(x, y)"
   ]
  },
  {
   "cell_type": "markdown",
   "metadata": {
    "id": "eB52ArHfl7pX"
   },
   "source": [
    "We can easily customize the style of plots for poster/talk/paper"
   ]
  },
  {
   "cell_type": "code",
   "execution_count": null,
   "metadata": {
    "id": "XwbX4LUsl7pY",
    "outputId": "7c9fb993-d2cb-4bf3-f9d8-046ea4e36ef7"
   },
   "outputs": [],
   "source": [
    "print(plt.style.available)"
   ]
  },
  {
   "cell_type": "code",
   "execution_count": null,
   "metadata": {
    "id": "BscDN7HSl7pY",
    "outputId": "8b2d0634-6326-404c-b511-74ef32deee2e"
   },
   "outputs": [],
   "source": [
    "plt.style.use(['seaborn-white'])\n",
    "plt.plot(x, y)"
   ]
  },
  {
   "cell_type": "markdown",
   "metadata": {
    "id": "mLcxecaql7pY"
   },
   "source": [
    "if we want to customize plots it is better to plot by first defining fig and ax objecs which have manuy methods for customizing figure resolution and plot related aspects respecticely. "
   ]
  },
  {
   "cell_type": "code",
   "execution_count": null,
   "metadata": {
    "id": "VZSe9IJJl7pZ",
    "outputId": "7051c769-1a6d-4a2e-d70a-06472135341c"
   },
   "outputs": [],
   "source": [
    "fig, ax = plt.subplots()\n",
    "\n",
    "y_sin = np.sin(x)\n",
    "y_cos = np.cos(x)\n",
    "\n",
    "# Plot the points using matplotlib\n",
    "ax.plot(x, y_sin)\n",
    "ax.plot(x, y_cos)\n",
    "\n",
    "# Specify labels\n",
    "ax.set_xlabel('x axis label')\n",
    "ax.set_ylabel('y axis label')\n",
    "ax.set_title('Sine and Cosine')\n",
    "ax.legend(['Sine', 'Cosine'])\n",
    "\n",
    "#fig.savefig(\"myfig.pdf\")"
   ]
  },
  {
   "cell_type": "markdown",
   "metadata": {
    "id": "BwFv36a3l7pa"
   },
   "source": [
    "## A gallery of useful examples\n",
    "\n",
    "**For a greater variety of plotting examples check out [Matploltib Gallery!](https://matplotlib.org/3.1.1/gallery/index.html)**"
   ]
  },
  {
   "cell_type": "markdown",
   "metadata": {
    "id": "yXtkSCPjl7pa"
   },
   "source": [
    "1D plotting is conveniently done by creating fig and ax objects which allow coutom styling plots and figure properties separately. "
   ]
  },
  {
   "cell_type": "code",
   "execution_count": null,
   "metadata": {
    "id": "jh0cTU9jl7pa",
    "outputId": "5a40f019-c73b-4d83-ad79-fbaf11eef597"
   },
   "outputs": [],
   "source": [
    "fig, ax = plt.subplots()          # Create fig and ax objects\n",
    "\n",
    "t = np.arange(0.0,  2*np.pi, 0.1) # create x values via np.arange or np.linspace\n",
    "\n",
    "s = np.sin(t)                     # create y values\n",
    "\n",
    "ax.plot(t, s, '-o')                     # make the plot\n",
    "\n",
    "#fig.savefig('myFIG.png')         # save figure"
   ]
  },
  {
   "cell_type": "markdown",
   "metadata": {
    "id": "FdUV79UOl7pb"
   },
   "source": [
    "#### fig and ax objects\n",
    "For customizing plots it is more convenient to define **fig** and **ax** objects.  One can then use ax object to make veriety of subplots then use fig to save the entire figure as one pdf. Try changing fig size, number of columns and rows."
   ]
  },
  {
   "cell_type": "code",
   "execution_count": null,
   "metadata": {
    "id": "BWqztHAKl7pb",
    "outputId": "fc51b0cb-f1ac-4ff2-b91f-d5570dcf8061"
   },
   "outputs": [],
   "source": [
    "t = np.arange(0.0,  2*np.pi, 0.1) # create x values\n",
    "s = np.sin(t)                     # create y values\n",
    "\n",
    "fig, ax = plt.subplots(nrows=1,ncols=2,figsize=(6,3))          \n",
    "\n",
    "ax[0].plot(t, s,'-o', color='purple', lw=1.0)  # plot on subplot-1\n",
    "ax[1].plot(t, s**2,'-o', color='green',  lw=1.0)  # plot  on subplot-2\n",
    "\n",
    "#fig.savefig('sd.png')             # save the figure"
   ]
  },
  {
   "cell_type": "markdown",
   "metadata": {
    "id": "3ENZ5S3Nl7pb"
   },
   "source": [
    "### Plotting in 2D"
   ]
  },
  {
   "cell_type": "markdown",
   "metadata": {
    "id": "p5liLp76l7pb"
   },
   "source": [
    "To make 2D plots we need to generate 2D grid $(x,y)$ of points and pass it to our function $f(x,y)$\n",
    "\n",
    "$$f(x,y) = sin(x) \\cdot cos(x) \\,\\,\\,$$"
   ]
  },
  {
   "cell_type": "code",
   "execution_count": null,
   "metadata": {
    "id": "UqHGc307l7pc",
    "outputId": "87317ffc-e69e-46f5-9124-56e9844fb99c"
   },
   "outputs": [],
   "source": [
    "x = np.arange(0.0,  2*np.pi, 0.1)   # create x values\n",
    "y = np.arange(0.0,  2*np.pi, 0.1)   # create y values\n",
    "\n",
    "X, Y = np.meshgrid(x,y)             # tunring 1D array into 2D grids of x and y values\n",
    "\n",
    "Z = np.sin(X) * np.cos(Y)           # feed 2D grids to our 2D function f(x,y)\n",
    "\n",
    "fig, ax = plt.subplots()            # Create fig and ax objects\n",
    "ax.pcolor(X, Y, Z,cmap='RdBu')                  # plot \n",
    "\n",
    "# try also ax.contour, ax.contourf"
   ]
  },
  {
   "cell_type": "markdown",
   "metadata": {
    "id": "LQFBnlJgl7pc"
   },
   "source": [
    "### 3D plots with matplotlib"
   ]
  },
  {
   "cell_type": "code",
   "execution_count": null,
   "metadata": {
    "id": "0hRuFCedl7pd",
    "outputId": "514740b4-4135-43ab-e801-8d01fa1386b0"
   },
   "outputs": [],
   "source": [
    "from matplotlib import cm, colors\n",
    "from mpl_toolkits.mplot3d import Axes3D\n",
    "\n",
    "# Create fig and ax objects for 3d plotting\n",
    "fig = plt.figure()\n",
    "ax = fig.add_subplot(projection='3d')  \n",
    "\n",
    "# Using X,Y,Z grid of points in previous step \n",
    "ax.plot_surface(X, Y, Z, cmap='RdYlBu')"
   ]
  },
  {
   "cell_type": "markdown",
   "metadata": {
    "id": "yddGHpjhl7pd"
   },
   "source": [
    "### Plotting histograms with matplotlib"
   ]
  },
  {
   "cell_type": "code",
   "execution_count": null,
   "metadata": {
    "id": "hD86qaE1l7pd",
    "outputId": "3ae67d9c-626b-430a-d00f-a65aac360b8a"
   },
   "outputs": [],
   "source": [
    "fig, ax = plt.subplots()\n",
    "\n",
    "# Make up some random data\n",
    "mu, sigma = 100, 15\n",
    "x = mu + sigma * np.random.randn(10000)\n",
    "\n",
    "# Plot 1D histogram of the data\n",
    "hist = ax.hist(x, bins=40, density=True)"
   ]
  },
  {
   "cell_type": "code",
   "execution_count": null,
   "metadata": {
    "id": "s_wQtxvnl7pe",
    "outputId": "e26bfde1-8d08-4187-dff3-c24f67d97716"
   },
   "outputs": [],
   "source": [
    "fig, ax = plt.subplots()\n",
    "\n",
    "# Make up some random data\n",
    "mu, sigma = 100, 15\n",
    "x = mu + sigma * np.random.randn(10000)\n",
    "y = mu + 2*sigma * np.random.randn(10000)\n",
    "\n",
    "# Plot 2D histogram of the data\n",
    "hist = ax.hist2d(x, y, bins=40, density=True, cmap='RdBu_r')"
   ]
  },
  {
   "cell_type": "markdown",
   "metadata": {
    "id": "S5wQ_I6Al7pf"
   },
   "source": [
    "### Statistical visualizations with seaborn"
   ]
  },
  {
   "cell_type": "markdown",
   "metadata": {
    "id": "whiYdC-Bl7pf"
   },
   "source": [
    "- [Seaborn](https://seaborn.pydata.org/index.html) For visualizing statistical plots there is a specialized library build on top of matplotlib that simplifies many intermediate steps that are needed to go from data to beautiful and polished visualization."
   ]
  },
  {
   "cell_type": "code",
   "execution_count": null,
   "metadata": {
    "id": "Jk-LmEZWl7pg"
   },
   "outputs": [],
   "source": [
    "import seaborn as sns\n",
    "from scipy import stats"
   ]
  },
  {
   "cell_type": "code",
   "execution_count": null,
   "metadata": {
    "id": "6DjuJcNwl7pg",
    "outputId": "b91b16a8-cd8e-4224-fb2a-0df0d8358158"
   },
   "outputs": [],
   "source": [
    "# Make up some random data\n",
    "mu, sigma = 100, 15\n",
    "\n",
    "x = mu + sigma * np.random.randn(10000)\n",
    "\n",
    "sns.displot(x, kind=\"kde\")"
   ]
  },
  {
   "cell_type": "markdown",
   "metadata": {
    "id": "nt1f7fSql7pg"
   },
   "source": [
    "## Pandas and seaborn! a power couple for multivariate statistics visualization"
   ]
  },
  {
   "cell_type": "code",
   "execution_count": null,
   "metadata": {
    "id": "LdxCSMbkl7pg"
   },
   "outputs": [],
   "source": [
    "# Normal distribution of points \n",
    "n_points=200\n",
    "\n",
    "df = pd.DataFrame({ 'X':    1*np.random.randn(n_points), \n",
    "                    'Y':    5*np.random.randn(n_points), \n",
    "                    'Z':    1+5*np.random.randn(n_points),\n",
    "                    'time': np.linspace(0,n_points,n_points)\n",
    "                  })"
   ]
  },
  {
   "cell_type": "code",
   "execution_count": null,
   "metadata": {
    "id": "-MK_9b54l7ph",
    "outputId": "2b13c4cc-dc26-4565-8e2d-c83929bd525b"
   },
   "outputs": [],
   "source": [
    "sns.jointplot(data=df, x='X', y='Z',\n",
    "              kind=\"kde\", cmap='RdBu_r')"
   ]
  },
  {
   "cell_type": "markdown",
   "metadata": {
    "id": "1zQJOy77l7ph"
   },
   "source": [
    "## Interactive plots"
   ]
  },
  {
   "cell_type": "code",
   "execution_count": null,
   "metadata": {
    "id": "f6cMIza2l7pi"
   },
   "outputs": [],
   "source": [
    "import plotly.express as px"
   ]
  },
  {
   "cell_type": "markdown",
   "metadata": {
    "id": "q7m6IhtDl7pi"
   },
   "source": [
    "### Plotly\n",
    "\n",
    "- [Plotly](https://plotly.com/python/) is large multi-language  interactive graphing library that covers Python/Julia/R. \n",
    "\n",
    "- [Plotly-dash](https://dash.plotly.com/introduction) is a framework for building web dashborads with itneractive plotly graphs.\n",
    "\n",
    "- [Plotly-express](https://plotly.com/python-api-reference/plotly.express.html) is a high level library for quick visualizations whihc is similiar to seaborn vs matploltib in its philosophy\n",
    "\n",
    "> Check out [this cool website](https://biapss.chem.iastate.edu/) built using Dash-Plotly"
   ]
  },
  {
   "cell_type": "code",
   "execution_count": null,
   "metadata": {
    "id": "YqrjT0cBl7pi",
    "outputId": "d3d9231c-5a8b-462c-c105-cd8272ace08d"
   },
   "outputs": [],
   "source": [
    "df = pd.DataFrame({ 'X':    1*np.random.randn(500), \n",
    "                    'Y':    5*np.random.randn(500), \n",
    "                    'Z':    1+5*np.random.randn(500),\n",
    "                    'time':  np.arange(500)\n",
    "                  })\n",
    "\n",
    "px.density_heatmap(df, x='X', y='Y')\n",
    "#px.line(df, x='X', y='Y')\n",
    "#px.scatter(df, x='X', y='Y')\n",
    "#px.area(df, x='X', y='Y')\n",
    "#px.histogram(df, x=\"X\")"
   ]
  },
  {
   "cell_type": "code",
   "execution_count": null,
   "metadata": {
    "id": "JwHo3lSDl7pj",
    "outputId": "b49577ff-6df8-4bc8-efbf-cdf86102a14a"
   },
   "outputs": [],
   "source": [
    "fig = px.scatter(df, x=\"X\", y=\"Y\", size=20*np.ones(len(df)), \n",
    "                 animation_frame=\"time\", animation_group='Y', color='Y',\n",
    "                 range_x=[-20,20], range_y=[-20,20]\n",
    "                 )\n",
    "fig.show()"
   ]
  },
  {
   "cell_type": "markdown",
   "metadata": {
    "id": "m16lodcTl7pj"
   },
   "source": [
    "### Holoviews\n",
    "\n",
    "> Stop plotting your data - annotate your data and let it visualize itself\n",
    "\n",
    "Too many libraries for visualization in pyviz universe? Enter Holoviews! We all can agree there are just too many options for visualizing data and sometimes it is impossible to pick one and stick with becaue different libaries have different strengths when it comes visualizing different kinds of data. Plotly does a gread job with 3D visualization while matploltib is mostly desinged for 2D plots. Seaborn has everying one needs to genreate statistical plots while plotly may cover ony a subgroup of seaborn, etc. One emerging idea in scientific software desing is to create library agnostic tools. E.g if you want to plot histogram you can do it either using several different libraries or using a library agnsotic tool by specifiying the particular library interface for the visualization. \n",
    "\n",
    "- [Holoviews](http://holoviews.org/#) \n",
    "- [Example of Holoviews Elements](http://holoviews.org/reference/index.html)\n"
   ]
  },
  {
   "cell_type": "code",
   "execution_count": null,
   "metadata": {
    "executionInfo": {
     "elapsed": 491,
     "status": "ok",
     "timestamp": 1618882876002,
     "user": {
      "displayName": "Davit Potoyan",
      "photoUrl": "https://lh3.googleusercontent.com/a-/AOh14GiUdLXplMG8UEHwBVcNr7CDgo7SDIZxxozSCzi7xQ=s64",
      "userId": "16339487288737364945"
     },
     "user_tz": 300
    },
    "id": "fdkIv2e-l7pj"
   },
   "outputs": [],
   "source": [
    "import holoviews as hv"
   ]
  },
  {
   "cell_type": "code",
   "execution_count": null,
   "metadata": {
    "colab": {
     "base_uri": "https://localhost:8080/",
     "height": 263,
     "output_embedded_package_id": "1OZBQXMAGnRCSQC_Qv2brB7eDL58Xoe_g"
    },
    "executionInfo": {
     "elapsed": 2593,
     "status": "ok",
     "timestamp": 1618881429218,
     "user": {
      "displayName": "Davit Potoyan",
      "photoUrl": "https://lh3.googleusercontent.com/a-/AOh14GiUdLXplMG8UEHwBVcNr7CDgo7SDIZxxozSCzi7xQ=s64",
      "userId": "16339487288737364945"
     },
     "user_tz": 300
    },
    "id": "pW3dWRuVl7pn",
    "outputId": "d0db299a-f4bc-4ebf-e65a-b4380b2bc5b5"
   },
   "outputs": [],
   "source": [
    "hv.extension('matplotlib') # try 'bokeh' or 'matplotlib'\n",
    "data = [1,2,4,8,16,25]\n",
    "\n",
    "#hv.Curve(data) + hv.Scatter(data) # adding crates subplots\n",
    "hv.Curve(data) * hv.Scatter(data) # multiplying creates overlay"
   ]
  },
  {
   "cell_type": "code",
   "execution_count": null,
   "metadata": {
    "colab": {
     "base_uri": "https://localhost:8080/",
     "height": 264
    },
    "executionInfo": {
     "elapsed": 3591,
     "status": "ok",
     "timestamp": 1618877544538,
     "user": {
      "displayName": "Davit Potoyan",
      "photoUrl": "https://lh3.googleusercontent.com/a-/AOh14GiUdLXplMG8UEHwBVcNr7CDgo7SDIZxxozSCzi7xQ=s64",
      "userId": "16339487288737364945"
     },
     "user_tz": 300
    },
    "id": "KszvWZ4ql7pn",
    "outputId": "b584b8d2-6213-4b83-e8d0-65b8b31a964b"
   },
   "outputs": [],
   "source": [
    "import numpy as np\n",
    "import pandas as pd\n",
    "df = pd.DataFrame({'X':np.random.randn(1000),'Y':np.random.randn(1000), 'Z':np.random.randn(1000)})\n",
    "\n",
    "data = df[['X', 'Y']].values\n",
    "\n",
    "#hv.Curve(data)\n",
    "hv.Scatter(data) + hv.Curve(data) + hv.Points(data) + hv.Bivariate(data)\n",
    "#hv.Histogram(df['X'], density=True, bins=50)"
   ]
  },
  {
   "cell_type": "code",
   "execution_count": null,
   "metadata": {
    "id": "94_ecfwnl7po",
    "outputId": "58ccaef0-3219-4a73-9300-cc4db868215c"
   },
   "outputs": [],
   "source": [
    "#Example of 3D plot\n",
    "\n",
    "Z = np.sin( np.random.randn(40,40) )\n",
    "\n",
    "hv.Surface(Z, bounds=(-5, -5, 5, 5))"
   ]
  },
  {
   "cell_type": "markdown",
   "metadata": {
    "id": "2mZf07pIl7po"
   },
   "source": [
    "### Using interactive widgets\n",
    "\n",
    "Suppose we would like to explore how the variation of parameter $\\lambda$ affects the following function of a standing wave:\n",
    "\n",
    "$$f(x) = sin (\\omega *x +p)$$\n",
    "\n",
    "- Make a python-function which creates a plot as a function of a parameter(s) of interest.\n",
    "\n",
    "- Add an interactive widget on top to vary the parameter."
   ]
  },
  {
   "cell_type": "code",
   "execution_count": null,
   "metadata": {
    "id": "MG3eW_9ql7po"
   },
   "outputs": [],
   "source": [
    "from ipywidgets import widgets"
   ]
  },
  {
   "cell_type": "code",
   "execution_count": null,
   "metadata": {
    "colab": {
     "referenced_widgets": [
      "6ea12fd6d8394961a382b248719b8c77"
     ]
    },
    "id": "3itjmsi1l7po",
    "outputId": "4175abc6-3fd6-4edc-b7e9-e3d0758b1396"
   },
   "outputs": [],
   "source": [
    "@widgets.interact(phase=(0,2*np.pi), freq = (0.1,5))  \n",
    "def wave(phase=0, freq=0.5):          \n",
    "    \n",
    "    x  = np.linspace(0,10,1000)\n",
    "    y  = np.sin(freq*x+phase)\n",
    "        \n",
    "    plt.plot(x, y)"
   ]
  },
  {
   "cell_type": "code",
   "execution_count": null,
   "metadata": {
    "executionInfo": {
     "elapsed": 516,
     "status": "ok",
     "timestamp": 1618882862747,
     "user": {
      "displayName": "Davit Potoyan",
      "photoUrl": "https://lh3.googleusercontent.com/a-/AOh14GiUdLXplMG8UEHwBVcNr7CDgo7SDIZxxozSCzi7xQ=s64",
      "userId": "16339487288737364945"
     },
     "user_tz": 300
    },
    "id": "_w91KVO5l7pp"
   },
   "outputs": [],
   "source": [
    "def wave(phase, freq):\n",
    "    \n",
    "    x  = np.linspace(0,10,100)\n",
    "    y  = np.sin(freq*x+phase)\n",
    "    \n",
    "    return hv.Curve((x, y))"
   ]
  },
  {
   "cell_type": "code",
   "execution_count": null,
   "metadata": {
    "colab": {
     "base_uri": "https://localhost:8080/",
     "height": 17
    },
    "executionInfo": {
     "elapsed": 682,
     "status": "ok",
     "timestamp": 1618883081919,
     "user": {
      "displayName": "Davit Potoyan",
      "photoUrl": "https://lh3.googleusercontent.com/a-/AOh14GiUdLXplMG8UEHwBVcNr7CDgo7SDIZxxozSCzi7xQ=s64",
      "userId": "16339487288737364945"
     },
     "user_tz": 300
    },
    "id": "2L04R4xr8Cjq",
    "outputId": "79aee165-c197-40cd-feba-6931f061ada1"
   },
   "outputs": [],
   "source": [
    "#hv.extension('bokeh')\n",
    "\n",
    "## Option-1: Define ranges of variables and pass to DynamicMap\n",
    "#hv.DynamicMap(wave, kdims=['phase', 'freq']).redim.range(phase=(0.0,2*np.pi), freq=(0.1, 5))\n",
    "hv.DynamicMap(wave, kdims=['phase', 'freq']).redim.values(phase=np.linspace(0.0,2*np.pi,20), freq=np.linspace(0.1, 5,20))\n",
    "\n",
    "## Option-2: make dictionary of data points and pass to HoloMap\n",
    "#data = {(phase, freq): wave(phase, freq) for (phase, freq) in zip(np.linspace(0.0,2*np.pi,20), np.linspace(0.1, 5, 20)) }\n",
    "#hv.HoloMap(data, kdims=['phase', 'freq'])"
   ]
  },
  {
   "cell_type": "markdown",
   "metadata": {
    "id": "uzNeqWLFl7pp"
   },
   "source": [
    "### Interactive visualization of a Reaction-Diffusion system"
   ]
  },
  {
   "cell_type": "code",
   "execution_count": null,
   "metadata": {
    "executionInfo": {
     "elapsed": 621,
     "status": "ok",
     "timestamp": 1618882992912,
     "user": {
      "displayName": "Davit Potoyan",
      "photoUrl": "https://lh3.googleusercontent.com/a-/AOh14GiUdLXplMG8UEHwBVcNr7CDgo7SDIZxxozSCzi7xQ=s64",
      "userId": "16339487288737364945"
     },
     "user_tz": 300
    },
    "id": "-y4iqW90l7pp"
   },
   "outputs": [],
   "source": [
    "def laplacian(Z, dx):\n",
    "    \"\"\"\n",
    "    Function to computes the discrete Laplace operator of\n",
    "    a 2D variable on the grid (using a five-point stencil\n",
    "    finite difference method.)\n",
    "    \"\"\"\n",
    "    Ztop = Z[0:-2,1:-1]\n",
    "    Zleft = Z[1:-1,0:-2]\n",
    "    Zbottom = Z[2:,1:-1]\n",
    "    Zright = Z[1:-1,2:]\n",
    "    Zcenter = Z[1:-1,1:-1]\n",
    "    return (Ztop + Zleft + Zbottom + Zright - 4 * Zcenter) / dx**2\n",
    "\n",
    "\n",
    "def reaction_diffusion(a=2.8e-4, b=5e-3, tau=0.1, k=-0.005, samples=10):\n",
    "    \"\"\"\n",
    "    We simulate the PDE with the finite difference method.\n",
    "\n",
    "    The samples value is the number of equally spaced samples\n",
    "    to collect over the total simulation time T.\n",
    "    \"\"\"\n",
    "    size = 100         # size of the 2D grid\n",
    "    dx = 2./size       # space step\n",
    "    T = 10.0           # total time\n",
    "    dt = 4.5 * dx**2    # simulation time step\n",
    "    n = int(T/dt)\n",
    "\n",
    "    result = []\n",
    "    U = np.random.rand(size, size)\n",
    "    V = np.random.rand(size, size)\n",
    "\n",
    "    sample_times = [int(el) for el in np.linspace(0, n, samples)]\n",
    "\n",
    "    for i in range(n):\n",
    "        # We compute the Laplacian of u and v.\n",
    "        deltaU = laplacian(U, dx=dx)\n",
    "        deltaV = laplacian(V, dx=dx)\n",
    "        # We take the values of u and v inside the grid.\n",
    "        Uc = U[1:-1,1:-1]\n",
    "        Vc = V[1:-1,1:-1]\n",
    "        # We update the variables.\n",
    "        U[1:-1,1:-1], V[1:-1,1:-1] = \\\n",
    "            Uc + dt * (a * deltaU + Uc - Uc**3 - Vc + k), \\\n",
    "            Vc + dt * (b * deltaV + Uc - Vc) / tau\n",
    "        # Neumann conditions: derivatives at the edges\n",
    "        # are null.\n",
    "        for Z in (U, V):\n",
    "            Z[0,:] = Z[1,:]\n",
    "            Z[-1,:] = Z[-2,:]\n",
    "            Z[:,0] = Z[:,1]\n",
    "            Z[:,-1] = Z[:,-2]\n",
    "\n",
    "        if i in sample_times:\n",
    "            result.append((i * dt,U.copy()))\n",
    "            \n",
    "    return result"
   ]
  },
  {
   "cell_type": "code",
   "execution_count": null,
   "metadata": {
    "executionInfo": {
     "elapsed": 6231,
     "status": "ok",
     "timestamp": 1618882998992,
     "user": {
      "displayName": "Davit Potoyan",
      "photoUrl": "https://lh3.googleusercontent.com/a-/AOh14GiUdLXplMG8UEHwBVcNr7CDgo7SDIZxxozSCzi7xQ=s64",
      "userId": "16339487288737364945"
     },
     "user_tz": 300
    },
    "id": "6eCBnoYSl7pq"
   },
   "outputs": [],
   "source": [
    "sim1 = reaction_diffusion()"
   ]
  },
  {
   "cell_type": "code",
   "execution_count": null,
   "metadata": {
    "colab": {
     "base_uri": "https://localhost:8080/",
     "height": 17
    },
    "executionInfo": {
     "elapsed": 2032,
     "status": "ok",
     "timestamp": 1618883028795,
     "user": {
      "displayName": "Davit Potoyan",
      "photoUrl": "https://lh3.googleusercontent.com/a-/AOh14GiUdLXplMG8UEHwBVcNr7CDgo7SDIZxxozSCzi7xQ=s64",
      "userId": "16339487288737364945"
     },
     "user_tz": 300
    },
    "id": "T7XBbV4rl7pq",
    "outputId": "f7182633-6077-4249-b536-8cab5dc54798"
   },
   "outputs": [],
   "source": [
    "hv.HoloMap({time: hv.Image(array) for (time, array) in sim1}, kdims=['Time'])"
   ]
  },
  {
   "cell_type": "markdown",
   "metadata": {
    "id": "KrkgLyEel7pq"
   },
   "source": [
    "## Additional resoruces. \n",
    "\n",
    "Matplotlib has a huge scientific user base. This means that you can always find a good working template of any kind of visualization which you want to make. With basic understanding of matplotlib and some solid googling skills you can go very far. Here are some additional resources that you may find helpful\n",
    "\n",
    "- [Matplotlib](https://matplotlib.org/index.html)\n",
    "\n",
    "- [Matplotlib gallery](https://matplotlib.org/3.1.1/gallery/index.html)\n",
    "\n",
    "- [Matplotlib Blog](https://matplotlib.org/matplotblog/)\n",
    "\n",
    "- [PyViz universe](https://pyviz.org/index.html)\n",
    "\n",
    "- [The Python Graph Gallery](https://python-graph-gallery.com/)\n",
    "\n",
    "- [Plotly documentaiton](https://plotly.com/python/)"
   ]
  }
 ],
 "metadata": {
  "colab": {
   "collapsed_sections": [],
   "name": "intro2viz.ipynb",
   "provenance": []
  },
  "kernelspec": {
   "display_name": "Python 3",
   "language": "python",
   "name": "python3"
  },
  "language_info": {
   "codemirror_mode": {
    "name": "ipython",
    "version": 3
   },
   "file_extension": ".py",
   "mimetype": "text/x-python",
   "name": "python",
   "nbconvert_exporter": "python",
   "pygments_lexer": "ipython3",
   "version": "3.8.8"
  },
  "nteract": {
   "version": "0.28.0"
  },
  "toc": {
   "base_numbering": 1,
   "nav_menu": {},
   "number_sections": true,
   "sideBar": true,
   "skip_h1_title": false,
   "title_cell": "Table of Contents",
   "title_sidebar": "Contents",
   "toc_cell": false,
   "toc_position": {},
   "toc_section_display": true,
   "toc_window_display": false
  }
 },
 "nbformat": 4,
 "nbformat_minor": 4
}
