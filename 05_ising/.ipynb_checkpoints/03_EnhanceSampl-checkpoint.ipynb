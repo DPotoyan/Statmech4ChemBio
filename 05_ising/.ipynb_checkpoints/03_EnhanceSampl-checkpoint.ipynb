{
 "cells": [
  {
   "cell_type": "code",
   "execution_count": 3,
   "metadata": {},
   "outputs": [],
   "source": [
    "%matplotlib inline\n",
    "%config InlineBackend.figure_format = 'retina'\n",
    "import ipywidgets as widgets\n",
    "\n",
    "# Load scientific and plotting libraries \n",
    "import matplotlib.pyplot as plt\n",
    "import numpy as np\n",
    "import scipy as sp\n",
    "import seaborn as sns\n",
    "\n",
    "from numpy.random import rand, random, randint, choice, normal, uniform \n",
    "\n",
    "from numba import jit, njit\n",
    "import warnings\n",
    "warnings.filterwarnings('ignore')"
   ]
  },
  {
   "cell_type": "markdown",
   "metadata": {
    "slideshow": {
     "slide_type": "slide"
    }
   },
   "source": [
    "# Non-boltzman (enhanced) sampling ideas"
   ]
  },
  {
   "cell_type": "markdown",
   "metadata": {
    "slideshow": {
     "slide_type": "slide"
    }
   },
   "source": [
    "Suppse we have a system in NVT ensemble with energies $E_{\\nu}$ but it is hard to sample via straight MCMC. On the other hand if we reshape energy levels into $E^0_{\\nu}$ sampling would be greatly enhanced:\n",
    "\n",
    "$$E_{\\nu} =  E^0_{\\nu}+\\Delta E_{\\nu} $$\n",
    "\n",
    "- $E_{\\nu}$   target system.\n",
    "- $E^0_{\\nu}$ convneient for sampling system.\n",
    "- $\\Delta E_{\\nu}$ pertrubation."
   ]
  },
  {
   "cell_type": "markdown",
   "metadata": {
    "slideshow": {
     "slide_type": "slide"
    }
   },
   "source": [
    "#### Boltzman exponent factorization to the rescue!\n",
    "\n",
    "$$\\boxed{e^{-\\beta E_{\\nu}} =  e^{-\\beta E^0_{\\nu}} e^{-\\beta \\Delta E_{\\nu}}}$$"
   ]
  },
  {
   "cell_type": "markdown",
   "metadata": {
    "slideshow": {
     "slide_type": "slide"
    }
   },
   "source": [
    "$$Z = \\sum_{\\nu} e^{-\\beta E_{\\nu}}  = \\frac{Z_0}{Z_0} \\sum_{\\nu} e^{-\\beta E^0_{\\nu}} e^{-\\beta \\Delta E_{\\nu}} = Z_0 \\langle e^{-\\beta \\Delta E_{\\nu}} \\rangle_0 $$\n",
    "\n",
    "$$\\boxed{e^{-\\beta(F-F_0)} = \\langle e^{-\\beta \\Delta E_{\\nu}} \\rangle_0}$$\n",
    "\n",
    "- Where $\\langle ... \\rangle_0$ indicates canonical average with $E^0_{\\nu}$"
   ]
  },
  {
   "cell_type": "markdown",
   "metadata": {
    "slideshow": {
     "slide_type": "slide"
    }
   },
   "source": [
    "$$\\langle G\\rangle = \\frac{1}{Z}\\sum_{\\nu} G_{\\nu}e^{-\\beta E_{\\nu}}  = \\frac{Z_0}{Z} \\langle G_{\\nu} e^{-\\beta \\Delta E_{\\nu}} \\rangle_0 $$"
   ]
  },
  {
   "cell_type": "markdown",
   "metadata": {
    "slideshow": {
     "slide_type": "slide"
    }
   },
   "source": [
    "## Umbrella Sampling"
   ]
  },
  {
   "cell_type": "markdown",
   "metadata": {
    "slideshow": {
     "slide_type": "slide"
    }
   },
   "source": [
    "$$E_{\\nu} =  E^0_{\\nu}+ W_{\\nu}$$\n",
    "\n",
    "- Where $W_{\\nu} \\approx 0$ in the interesting regions\n",
    "<br><br>\n",
    "- Where $W_{\\nu} \\gg 0$ outside of interesting regions\n",
    "<br><br>\n",
    "- Read more about US in [J Kastner; WIREs Comp Mol Sci (2011)](https://onlinelibrary.wiley.com/doi/full/10.1002/wcms.66?casa_token=KxOXA8oqPO4AAAAA%3AR78Iv0cMhe3NaCNe86T0AnQBJ57euERM3h20FTeSRcM9wOzEHIJq-6FD7J4_kZHg4UZ1RKuGm_OoCPw)\n",
    "\n",
    "![](./figs/umbrella-1.png)"
   ]
  },
  {
   "cell_type": "markdown",
   "metadata": {
    "slideshow": {
     "slide_type": "slide"
    }
   },
   "source": [
    "### Connection between biased and unbiased simulations:\n",
    "\n",
    "- Free energy as a function of order parameter (reaction-coordinate) \n",
    "\n",
    "$$Z(m) = \\sum_{\\nu} \\delta(M(s_{\\nu})-m) e^{-\\beta E_{\\nu}} = e^{-\\beta F(m)}$$\n",
    "\n",
    "$$F(m) = -\\frac{1}{\\beta}log\\, p(m) +const$$\n",
    "\n",
    "- Biased and unbiased probability distributions (historgrams)\n",
    "\n",
    "$$P(m) = \\langle \\delta(M(s)-m) \\rangle$$\n",
    "\n",
    "$$P^0(m) = \\langle \\delta(M(s)-m) \\rangle_0$$"
   ]
  },
  {
   "cell_type": "markdown",
   "metadata": {
    "slideshow": {
     "slide_type": "slide"
    }
   },
   "source": [
    "$$\\frac{P(m)}{P^0(m)} = e^{\\beta w(m)} \\langle e^{-\\beta w(m)} \\rangle_0 $$\n",
    "\n",
    "$$F(m) = F^0(m) -w(m) +C$$\n",
    "\n",
    "- For multiple umbrellas centered at i=1...N locations:\n",
    "\n",
    "$$F_i(m) = F_i^0(m) -w_i(m) +C_i$$"
   ]
  },
  {
   "cell_type": "markdown",
   "metadata": {
    "slideshow": {
     "slide_type": "slide"
    }
   },
   "source": [
    "![](./figs/umbrealla-2.png)"
   ]
  },
  {
   "cell_type": "code",
   "execution_count": 776,
   "metadata": {},
   "outputs": [],
   "source": [
    "%run ./codes/us_mcmc.py"
   ]
  },
  {
   "cell_type": "code",
   "execution_count": 788,
   "metadata": {},
   "outputs": [
    {
     "name": "stdout",
     "output_type": "stream",
     "text": [
      "CPU times: user 5.6 s, sys: 81.1 ms, total: 5.68 s\n",
      "Wall time: 6.01 s\n"
     ]
    }
   ],
   "source": [
    "J = 1\n",
    "B = 0\n",
    "T = 2\n",
    "W = (0.8, 1)\n",
    "spins   =  initalize(20, mode='ones')\n",
    "\n",
    "%time configs, Ms = us_mcmc(spins, J, B, T, W , n_steps = 1e7, out_freq = 10000)"
   ]
  },
  {
   "cell_type": "code",
   "execution_count": 789,
   "metadata": {},
   "outputs": [
    {
     "data": {
      "text/plain": [
       "[<matplotlib.lines.Line2D at 0x1444eed90>]"
      ]
     },
     "execution_count": 789,
     "metadata": {},
     "output_type": "execute_result"
    },
    {
     "data": {
      "image/png": "[encoded data removed]",
      "text/plain": [
       "<Figure size 432x288 with 1 Axes>"
      ]
     },
     "metadata": {
      "image/png": {
       "height": 250,
       "width": 380
      },
      "needs_background": "light"
     },
     "output_type": "display_data"
    }
   ],
   "source": [
    "plt.plot(Ms)\n",
    "#plt.hist(Ms)\n",
    "#sns.distplot(Ms[1000:], kde_kws={\"lw\": 3, \"label\": f\"Umb{W}\"}, hist_kws={\"lw\": 1})"
   ]
  },
  {
   "cell_type": "code",
   "execution_count": 790,
   "metadata": {},
   "outputs": [
    {
     "data": {
      "application/vnd.jupyter.widget-view+json": {
       "model_id": "d19d2bc9b30b47eab705a5d837899da8",
       "version_major": 2,
       "version_minor": 0
      },
      "text/plain": [
       "interactive(children=(IntSlider(value=1, description='i', max=10), Output()), _dom_classes=('widget-interact',…"
      ]
     },
     "metadata": {},
     "output_type": "display_data"
    }
   ],
   "source": [
    "@widgets.interact(i=(0,10))\n",
    "\n",
    "def plot_image(i=1):\n",
    "    plt.imshow(configs[i],origin='lower')"
   ]
  },
  {
   "cell_type": "markdown",
   "metadata": {
    "slideshow": {
     "slide_type": "slide"
    }
   },
   "source": [
    "##  Simulated annealing\n",
    "\n",
    "Monte Carlo technique for the **numerical optimization** of functions\n",
    "\n",
    "1. Original paper: [S. Kirkpatrick, C. D. Gelatt, Jr., M. P. Vecchi, Science 220, 671-680 (1983)](http://science.sciencemag.org/content/220/4598/671.long)\n",
    "\n",
    "2. Remember: it is difficult to find the **global** extremum of a function\n",
    "\n",
    "3. Idea: Monte Carlo search of the function domain"
   ]
  },
  {
   "cell_type": "markdown",
   "metadata": {
    "slideshow": {
     "slide_type": "slide"
    }
   },
   "source": [
    "### Finding energy minima of any thermal  system $\\leftrightarrow$ finding minimum of any abstract function\n",
    "\n",
    "- Introduce (artificial) temperature parameter $T$\n",
    "- Metropolis algorithm with acceptance probability min$(1, e^{-\\Delta f/T})$\n",
    "- Here $f$ can be any function we want to minimize (not only energy)\n",
    "- For maximum simply change the sign: min$(1, e^{+\\Delta f/T})$\n",
    "- Slowly reduce the temperature"
   ]
  },
  {
   "cell_type": "markdown",
   "metadata": {
    "slideshow": {
     "slide_type": "slide"
    }
   },
   "source": [
    "### \"Slow cooling\" is the main idea of simulated annealing\n",
    "\n",
    "very high $T$                                |   very low $T$\n",
    "---------------------------------------------|------------------------------------\n",
    "almost all updates are accepted              | only updates that decrease the energy are accepted\n",
    "random configurations/explore entire space   | descend towards minimum \n",
    "high energy                                  | low energy but might get stuck in local minimum\n",
    "  \n",
    "- if we slowly cool from high $T$ to low $T$ we will explore the entire space until we converge to the (hopefully) global minimum\n",
    "- success is not guaranteed, but the methods works very well with good cooling schemes\n",
    "\n",
    "- Inspiration: annealing in metallurgy. \n",
    "\n",
    "- This is a great method to tackle **NP-hard** optimization problems, such as the traveling salesman!"
   ]
  },
  {
   "cell_type": "markdown",
   "metadata": {
    "slideshow": {
     "slide_type": "slide"
    }
   },
   "source": [
    "### Cooling schedules\n",
    "\n",
    "- slow cooling is essential: otherwise the system will \"freeze\" into a local minimum\n",
    "- but too slow cooling is inefficient...\n",
    "- initial temperature should be high enough so that the system is essentially random and equilibrates quickly\n",
    "- final temperature should be small enough so that we are essentially in the ground state (system no longer changes)\n",
    "- exponential **cooling schedule** is commonly used\n",
    "\n",
    "  $$\\boxed{T(t)=T_0e^{-t/\\tau}}$$\n",
    "  \n",
    "  where $t$ is the Monte Carlo time and the constant $\\tau$ needs to be determined (usually empirically)\n",
    "  \n",
    "- alternative cooling schedules:\n",
    "\n",
    "  linear: $T(t)=T_0 - t/\\tau$ (also widely used)\n",
    "  \n",
    "  logarithmic: $T(t) = c/\\log(1+t/\\tau)$"
   ]
  },
  {
   "cell_type": "markdown",
   "metadata": {
    "slideshow": {
     "slide_type": "slide"
    }
   },
   "source": [
    "### **Example:** find global minimum of the function via simulated annealing: $f(x) = x^2 -\\cos (4\\pi x)$"
   ]
  },
  {
   "cell_type": "code",
   "execution_count": 4,
   "metadata": {
    "slideshow": {
     "slide_type": "slide"
    }
   },
   "outputs": [
    {
     "data": {
      "image/png": "[encoded data removed]",
      "text/plain": [
       "<Figure size 432x288 with 1 Axes>"
      ]
     },
     "metadata": {
      "image/png": {
       "height": 272,
       "width": 386
      },
      "needs_background": "light"
     },
     "output_type": "display_data"
    }
   ],
   "source": [
    "f = lambda x: x*x - np.cos(4*np.pi*x) \n",
    "xvals = np.arange(-3,3,0.01)\n",
    "\n",
    "plt.plot(xvals, f(xvals),lw=3)\n",
    "\n",
    "plt.xlabel(\"$x$\",fontsize=20)\n",
    "plt.ylabel(\"$f(x)$\",fontsize=20)\n",
    "plt.grid(True)"
   ]
  },
  {
   "cell_type": "markdown",
   "metadata": {
    "slideshow": {
     "slide_type": "slide"
    }
   },
   "source": [
    "#### Search for global minima of $f(x)$ using simulated annealing"
   ]
  },
  {
   "cell_type": "code",
   "execution_count": 5,
   "metadata": {
    "slideshow": {
     "slide_type": "slide"
    }
   },
   "outputs": [],
   "source": [
    "def MCupdate(T, x, mean, sigma):\n",
    "    \n",
    "    '''Making a new move by incremening a normal distributed step\n",
    "    We are exploring function diffusivefly, e.g doing random walk!\n",
    "    T: temp\n",
    "    mean, sigma: parameters of random walk\n",
    "    '''\n",
    "    \n",
    "    xnew = x + normal(mean, sigma)\n",
    "    \n",
    "    delta_f = f(xnew) - f(x)\n",
    "    \n",
    "   \n",
    "    if delta_f < 0 or np.exp(-delta_f/T) > rand():\n",
    "        \n",
    "        x = xnew\n",
    "        \n",
    "    return x\n",
    "\n",
    "\n",
    "def cool(T, cool_t):\n",
    "    \n",
    "    '''Function for educing T after every MC step. \n",
    "    \n",
    "    cool_t: cooling time tau for exponential schedule \n",
    "    Alternatively we could reduce every N steps.'''\n",
    "    \n",
    "    return T*np.exp(-1/cool_t)"
   ]
  },
  {
   "cell_type": "code",
   "execution_count": 6,
   "metadata": {
    "slideshow": {
     "slide_type": "slide"
    }
   },
   "outputs": [],
   "source": [
    "def sim_anneal(T=10, T_min=1e-4, cool_t=1e4, x=2, mean=0, sigma=1):\n",
    "    \n",
    "    '''Simulated annealing search for min of function:\n",
    "    \n",
    "    T=T0:        starting temperature\n",
    "    T_min:       minimal temp reaching which sim should stop\n",
    "    cool_t:      colling pace/time\n",
    "    x=x0:        starting position \n",
    "    mean, sigma: parameters for diffusive exploration of x'''\n",
    "    \n",
    "    xlog   = []\n",
    "\n",
    "    while T > T_min:\n",
    "    \n",
    "        x = MCupdate(T, x, mean, sigma)\n",
    "    \n",
    "        T = cool(T, cool_t)\n",
    "   \n",
    "        xlog.append(x)\n",
    "    \n",
    "    return xlog"
   ]
  },
  {
   "cell_type": "code",
   "execution_count": 7,
   "metadata": {
    "slideshow": {
     "slide_type": "slide"
    }
   },
   "outputs": [
    {
     "name": "stdout",
     "output_type": "stream",
     "text": [
      "Final search result for the global minimum:  0.0007810635243000301\n"
     ]
    },
    {
     "data": {
      "image/png": "[encoded data removed]",
      "text/plain": [
       "<Figure size 432x288 with 1 Axes>"
      ]
     },
     "metadata": {
      "image/png": {
       "height": 264,
       "width": 401
      },
      "needs_background": "light"
     },
     "output_type": "display_data"
    }
   ],
   "source": [
    "xlog = sim_anneal()\n",
    "\n",
    "plt.plot(xlog)\n",
    "\n",
    "plt.xlabel('MC time')\n",
    "plt.ylabel('x')\n",
    "print('Final search result for the global minimum: ', xlog[-1])"
   ]
  },
  {
   "cell_type": "code",
   "execution_count": 8,
   "metadata": {
    "slideshow": {
     "slide_type": "slide"
    }
   },
   "outputs": [
    {
     "data": {
      "application/vnd.jupyter.widget-view+json": {
       "model_id": "dc202669dbf64910a2cba0ea3489cee7",
       "version_major": 2,
       "version_minor": 0
      },
      "text/plain": [
       "interactive(children=(IntSlider(value=1, description='t_sim', min=1), Output()), _dom_classes=('widget-interac…"
      ]
     },
     "metadata": {},
     "output_type": "display_data"
    }
   ],
   "source": [
    "@widgets.interact(t_sim=(1,100))\n",
    "def viz_anneal(t_sim=1):\n",
    "    \n",
    "    T           = 4\n",
    "    x           = 2\n",
    "    cool_t      = 1e4\n",
    "    mean, sigma = 0, 1\n",
    "    \n",
    "    plt.plot(xvals, f(xvals),lw=3, color='green')\n",
    "    \n",
    "    for t in range(t_sim):\n",
    "        \n",
    "        x = MCupdate(T, x, mean=0, sigma=1)\n",
    "    \n",
    "        T = cool(T, cool_t)\n",
    "    \n",
    "    plt.plot(x, f(x),'o',color='red',ms=20,alpha=0.5)\n",
    "    plt.ylim(-1,8)\n",
    "    plt.xlim(-3,3)\n",
    "    plt.grid(True)\n",
    "    plt.xlabel('$x$',fontsize=20)\n",
    "    plt.ylabel('$f(x)$',fontsize=20)"
   ]
  },
  {
   "cell_type": "markdown",
   "metadata": {
    "slideshow": {
     "slide_type": "slide"
    }
   },
   "source": [
    "#### Lessons learened In this example: for finding minimum of a continuous function\n",
    "\n",
    "- always slightly above true minimum if $T>0$\n",
    "\n",
    "- best combined with a steepest descent method"
   ]
  },
  {
   "cell_type": "markdown",
   "metadata": {
    "slideshow": {
     "slide_type": "slide"
    }
   },
   "source": [
    "### Simulated annealing applied to MCMC sampling of 2D Ising model"
   ]
  },
  {
   "cell_type": "code",
   "execution_count": 6,
   "metadata": {
    "slideshow": {
     "slide_type": "slide"
    }
   },
   "outputs": [],
   "source": [
    "temperature = 10.0    # initial temperature\n",
    "tempmin = 1e-4        # minimal temperature (stop annealing when this is reached)\n",
    "cooltime = 1e4        # cooling time tau for exponential schedule\n",
    "\n",
    "# how long it will take to cool to minimal temperature in MC steps\n",
    "MCtime = -cooltime*np.log(tempmin/temperature)\n",
    "\n",
    "# after every MC step we reduce the temperature\n",
    "def cool(temperature):\n",
    "    \n",
    "    return temperature*np.exp(-1/cooltime)"
   ]
  },
  {
   "cell_type": "code",
   "execution_count": null,
   "metadata": {},
   "outputs": [],
   "source": []
  },
  {
   "cell_type": "markdown",
   "metadata": {
    "slideshow": {
     "slide_type": "slide"
    }
   },
   "source": [
    "### Parallel tempering\n",
    "\n",
    "1. **Simulated annealing is not guaranteed to find the global extremum**\n",
    "    - Unless you cool infinitely slowly. \n",
    "    - Usually need to repeat search multiple times using independent simulations.\n",
    "<br><br>\n",
    "\n",
    "2. **Automating and generalizing sim annealing: parallel tempering (aka Replica Exchange MCMC)**\n",
    "\n",
    "    - Simulate several copies of the system in parallel\n",
    "    - Each copy is at a different constant temperature $T$\n",
    "    - Usual Metropolis updates for each copy\n",
    "    - Every certain number of steps attempt to exchange copies at neighboring temperatures\n",
    "    - Exchange acceptance probability is min(1, $e^{-\\Delta f\\Delta\\beta}$)\n",
    "    - If temperature difference small enough, the energy histograms of the copies will overlap and exhcanges will happen often. \n",
    "<br><br>\n",
    "\n",
    "3. **Advantages of replica exchange:**\n",
    "\n",
    "    - Exchanges allow to explore different extrema\n",
    "    - More successful for complex functions/energy landscapes. Random walk in temperature space!\n",
    "    - Detailed balance is maintained! (regular simulated annealing breaks detailed balance)"
   ]
  },
  {
   "cell_type": "markdown",
   "metadata": {
    "slideshow": {
     "slide_type": "slide"
    }
   },
   "source": [
    "### How to choose Temperature distributions for replica exchange MCMC**\n",
    "\n",
    "- A dense temperature grid increases the exchange acceptance rates\n",
    "- But dense T grid takes longer to simulate and more steps are needed to move from one temperature to another\n",
    "- There are many options, often trial and error is needed\n",
    "     - exchange acceptance probability should be between about 20% and 80%\n",
    "     - exchange acceptance probability should be approximately temperature-independent\n",
    "     - commonly used: geometric progression for $N$ temperatures $T_n$ between and including $T_{\\rm min}$ and $T_{\\rm max}$ (ensures more steps around $T_{\\rm min}$)\n",
    "     \n",
    "       $$T_n = T_{\\rm min}\\left(\\frac{T_{\\rm max}}{T_{\\rm min}}\\right)^{\\frac{n-1}{N-1}}$$\n",
    "       \n",
    "       \n",
    "       \n",
    "- make sure to spend enough time before swapping to achieve equilibrium!"
   ]
  },
  {
   "cell_type": "code",
   "execution_count": 184,
   "metadata": {
    "slideshow": {
     "slide_type": "slide"
    }
   },
   "outputs": [],
   "source": [
    "def temper(configs):\n",
    "    \n",
    "    '''Randomly pick two adjacent replicas and attempt an exchange'''\n",
    "    \n",
    "    i       = np.random.randint(N_repl-1)\n",
    "    j       = i+1\n",
    "    \n",
    "    deltaBeta      = 1/T[i] - 1/T[j]\n",
    "    \n",
    "    deltaEnergy    = getE(configs[i][-1],N,J,B) - getE(configs[j][-1],N,J,B)\n",
    "    \n",
    "    if deltaBeta*deltaEnergy < 0 or np.exp(-deltaBeta*deltaEnergy) > rand():\n",
    "        \n",
    "        configs[i][-1], configs[j][-1] = configs[j][-1], configs[i][-1]\n",
    "        \n",
    "    return configs"
   ]
  },
  {
   "cell_type": "markdown",
   "metadata": {
    "slideshow": {
     "slide_type": "slide"
    }
   },
   "source": [
    "### parallel tempering simulation"
   ]
  },
  {
   "cell_type": "code",
   "execution_count": 182,
   "metadata": {
    "slideshow": {
     "slide_type": "slide"
    }
   },
   "outputs": [],
   "source": [
    "%run ./codes/parallel_temp_ising2D.py"
   ]
  },
  {
   "cell_type": "code",
   "execution_count": 183,
   "metadata": {
    "slideshow": {
     "slide_type": "slide"
    }
   },
   "outputs": [],
   "source": [
    "N = 20       # size of lattice in each direction\n",
    "J = 1       # interaction parameter\n",
    "B = 0       # magnetic field\n",
    "T=[5.0, 0.01, 0.0008, 0.0007, 0.00016, 0.00010]\n",
    "\n",
    "n_exch = 1000\n",
    "n_steps=10000\n",
    "out_freq=100\n",
    "\n",
    "configs = pt_mcmc(N, J, B, T, n_exch, n_steps, out_freq)"
   ]
  },
  {
   "cell_type": "code",
   "execution_count": 167,
   "metadata": {
    "slideshow": {
     "slide_type": "slide"
    }
   },
   "outputs": [
    {
     "data": {
      "text/plain": [
       "[<matplotlib.lines.Line2D at 0x12a30de50>]"
      ]
     },
     "execution_count": 167,
     "metadata": {},
     "output_type": "execute_result"
    },
    {
     "data": {
      "image/png": "[encoded data removed]",
      "text/plain": [
       "<Figure size 432x288 with 1 Axes>"
      ]
     },
     "metadata": {
      "image/png": {
       "height": 250,
       "width": 385
      },
      "needs_background": "light"
     },
     "output_type": "display_data"
    }
   ],
   "source": [
    "E1 = [getE(spins,N,J,B) for spins in configs[1]]\n",
    "\n",
    "plt.plot(E1)"
   ]
  },
  {
   "cell_type": "code",
   "execution_count": 169,
   "metadata": {
    "slideshow": {
     "slide_type": "slide"
    }
   },
   "outputs": [
    {
     "data": {
      "application/vnd.jupyter.widget-view+json": {
       "model_id": "f0bf945e46794fa98903d17eb18e03ba",
       "version_major": 2,
       "version_minor": 0
      },
      "text/plain": [
       "interactive(children=(IntSlider(value=1, description='i', max=999), Output()), _dom_classes=('widget-interact'…"
      ]
     },
     "metadata": {},
     "output_type": "display_data"
    }
   ],
   "source": [
    "@widgets.interact(i=(0,999))\n",
    "def plot_image(i=1):\n",
    "    \n",
    "    fig,ax = plt.subplots(figsize=(8,8))\n",
    "    ax.imshow(configs[0][i])"
   ]
  },
  {
   "cell_type": "markdown",
   "metadata": {},
   "source": [
    "## HW-8 \n",
    "\n",
    "### Problem-1\n",
    "\n",
    "- Use umbrealla sampling to obtain free energy profile as a function of magnetization below $T_c$ at $T_c$ and above $T_c$. E.g $T=2, 2.5, 3$ Consider using the inputs from adjecent umbrella simulations. E.g input for umbrella 4 can come from umbrella 3 to speed up simulations.\n",
    "\n",
    "### Problem-2\n",
    "\n",
    "- Complete the simulated annealing part of the code for finding minimum energy in Ising models. Test your code with field on and off. \n",
    "\n",
    "### Problem-3\n",
    "\n",
    "- Use parallell tempering to enhanced sampling at $T =1$ by coupling 8 replicas with $T>1$. Find the optimal T spacing between replicas, Calculate histograms of magnetization to show enhancment of sampling with repsect to constant T MCMC. "
   ]
  }
 ],
 "metadata": {
  "celltoolbar": "Slideshow",
  "kernelspec": {
   "display_name": "Python 3",
   "language": "python",
   "name": "python3"
  },
  "language_info": {
   "codemirror_mode": {
    "name": "ipython",
    "version": 3
   },
   "file_extension": ".py",
   "mimetype": "text/x-python",
   "name": "python",
   "nbconvert_exporter": "python",
   "pygments_lexer": "ipython3",
   "version": "3.7.4"
  },
  "toc": {
   "base_numbering": 1,
   "nav_menu": {},
   "number_sections": true,
   "sideBar": true,
   "skip_h1_title": false,
   "title_cell": "Table of Contents",
   "title_sidebar": "Contents",
   "toc_cell": false,
   "toc_position": {},
   "toc_section_display": true,
   "toc_window_display": false
  }
 },
 "nbformat": 4,
 "nbformat_minor": 4
}
