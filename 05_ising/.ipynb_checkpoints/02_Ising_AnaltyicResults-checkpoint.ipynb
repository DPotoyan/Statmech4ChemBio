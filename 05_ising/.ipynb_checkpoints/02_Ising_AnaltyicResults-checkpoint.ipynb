{
 "cells": [
  {
   "cell_type": "code",
   "execution_count": 3,
   "metadata": {
    "slideshow": {
     "slide_type": "slide"
    }
   },
   "outputs": [],
   "source": [
    "%matplotlib inline\n",
    "%config InlineBackend.figure_format = 'retina'\n",
    "import ipywidgets as widgets\n",
    "\n",
    "# Load scientific and plotting libraries \n",
    "import matplotlib.pyplot as plt\n",
    "import numpy as np\n",
    "import scipy as sp"
   ]
  },
  {
   "cell_type": "markdown",
   "metadata": {
    "slideshow": {
     "slide_type": "slide"
    }
   },
   "source": [
    "# Phase transitions through the lense of Ising models "
   ]
  },
  {
   "cell_type": "markdown",
   "metadata": {
    "slideshow": {
     "slide_type": "fragment"
    }
   },
   "source": [
    "![](./figs/spont-mag.png)"
   ]
  },
  {
   "cell_type": "markdown",
   "metadata": {
    "slideshow": {
     "slide_type": "slide"
    }
   },
   "source": [
    "# A. bit of history: Ising model and phase transitions\n",
    "\n",
    "**1895 Pierre Curie in his doctoral thesis studies types of magnetism, discovers**\n",
    "- The effect of temperature\n",
    "- A phase transition happening at the Curie point\n",
    "- The phenomenon occurs at the atomic scale\n",
    "\n",
    "![](./figs/Curie.png)"
   ]
  },
  {
   "cell_type": "markdown",
   "metadata": {
    "slideshow": {
     "slide_type": "slide"
    }
   },
   "source": [
    "**1920 Lenz introduces a lattice model for ferromagnetism** \n",
    "\n",
    "- Lenz argued that “atoms are dipoles which turn over between two positions”:\n",
    "- in a quantum-theoretical treatment they would by and large occupy two distinct positions."
   ]
  },
  {
   "cell_type": "markdown",
   "metadata": {
    "slideshow": {
     "slide_type": "slide"
    }
   },
   "source": [
    "**1920 Lenz suggests a project to his PhD student who comes up with a 1D model of spin lattice**\n",
    "\n",
    "- Each square represents spin state either +1 or -1\n",
    "- Only nearest-neighbouring spins interact"
   ]
  },
  {
   "cell_type": "markdown",
   "metadata": {
    "slideshow": {
     "slide_type": "slide"
    }
   },
   "source": [
    "**1924 Ernst Ising PhD thesis. Conlcusion: No phase transition!?**\n",
    "\n",
    "- Ising finds no phase transition in dimension 1\n",
    "\n",
    "- Dismisses the models as too simplistic and mathemtical. **Wrongly concluded that there is\n",
    "no phase transition in all dimensions.**\n",
    "\n",
    "- Leaves science to teach college physics.\n",
    "\n",
    "- The paper was widely discussed (Pauli, Heisenberg, Dirac, …) with a consensus that it is oversimplified. "
   ]
  },
  {
   "cell_type": "markdown",
   "metadata": {
    "slideshow": {
     "slide_type": "slide"
    }
   },
   "source": [
    "**1936 Rudolf Peierels: Unexpectedly proves that in dimension 2 the Lenz-Ising model undergoes a phase transition!!!**\n",
    "\n",
    "- reignites the interest in Ising models\n",
    "\n",
    "- His perhaps more influential work: 1940 memorandum with Otto Frisch often credited with starting the Manhattan project\n",
    "\n",
    "![](./figs/critical-ising.png)"
   ]
  },
  {
   "cell_type": "markdown",
   "metadata": {
    "slideshow": {
     "slide_type": "slide"
    }
   },
   "source": [
    "**1941 Kramers-Wannier calculate critical Temperature**"
   ]
  },
  {
   "cell_type": "markdown",
   "metadata": {
    "slideshow": {
     "slide_type": "fragment"
    }
   },
   "source": [
    "**1944 Onsager solves 2D Ising model, analytically**\n",
    "\n",
    "- Widely regarded as one tour de force of theoretical physics.\n",
    "\n",
    "-  Partition function, magnetization and other quantities derived\n",
    "\n",
    "- Larse Onsager was trained as a chemists. Many other Chemists, most notably Ben Widom contributed to theory of phase transition."
   ]
  },
  {
   "cell_type": "markdown",
   "metadata": {
    "slideshow": {
     "slide_type": "fragment"
    }
   },
   "source": [
    "**1944- Ising model becomes a household system for studying phase tranistions**\n",
    "\n",
    "- From 1944 widely studied in mathematical physics, with many results by different methods:\n",
    "- Regained prominence in physics, used in biology, chemistry, economics, computer science…"
   ]
  },
  {
   "cell_type": "markdown",
   "metadata": {
    "slideshow": {
     "slide_type": "slide"
    }
   },
   "source": [
    "**1970s Renomralization Group (RG) theory is developed by Kenneth Wilson (Nobel Prize 1982)**\n",
    "\n",
    "- The Curie critical point is universal and hence translation, scale and rotation invariant.\n",
    "\n",
    "- Ideas of Renormalizeation, scale invariance, universality and coarse graining widely enter into statistical mechanics. "
   ]
  },
  {
   "cell_type": "markdown",
   "metadata": {
    "slideshow": {
     "slide_type": "fragment"
    }
   },
   "source": [
    "**1985 Conformal Field Theory**"
   ]
  },
  {
   "cell_type": "markdown",
   "metadata": {
    "slideshow": {
     "slide_type": "slide"
    }
   },
   "source": [
    "## Ising models: The H atom of phase transitions\n",
    "\n",
    "\n",
    "\n",
    "$$\\boxed{H([s])= \\sum_{\\langle ij \\rangle} J_{ij}s_i s_j - \\mu B \\sum_i s_i}$$\n",
    "\n",
    "<br>\n",
    "\n",
    "\n",
    "$$\\boxed{Z=\\sum_{[s]}e^{-H([s])/k_B T}}$$"
   ]
  },
  {
   "cell_type": "markdown",
   "metadata": {
    "slideshow": {
     "slide_type": "slide"
    }
   },
   "source": [
    "### 1st order vs 2nd order phjase transition\n",
    "\n",
    "![](./figs/1st_2nd_Ising.png)"
   ]
  },
  {
   "cell_type": "markdown",
   "metadata": {
    "slideshow": {
     "slide_type": "slide"
    }
   },
   "source": [
    "### Analogy with fluid phase transitions\n",
    "\n",
    "![](./figs/fluid-analogy.png)"
   ]
  },
  {
   "cell_type": "markdown",
   "metadata": {
    "slideshow": {
     "slide_type": "slide"
    }
   },
   "source": [
    "### Critical Phenomena: Correlation length diverges\n",
    "\n",
    "![](./figs/crit1.png)"
   ]
  },
  {
   "cell_type": "markdown",
   "metadata": {
    "slideshow": {
     "slide_type": "slide"
    }
   },
   "source": [
    "### Critical Phenomena: Universaility at critical points \n",
    "\n",
    "![](./figs/crit2.png)"
   ]
  },
  {
   "cell_type": "markdown",
   "metadata": {
    "slideshow": {
     "slide_type": "slide"
    }
   },
   "source": [
    "![](./figs/crit3.png)"
   ]
  },
  {
   "cell_type": "markdown",
   "metadata": {
    "slideshow": {
     "slide_type": "slide"
    }
   },
   "source": [
    "![](./figs/crit4.png)"
   ]
  },
  {
   "cell_type": "markdown",
   "metadata": {
    "slideshow": {
     "slide_type": "slide"
    }
   },
   "source": [
    "### Main extensive thermodynamic quantities, $E$ and $M$\n",
    "\n",
    "- **Energy of spin configuration [s]**\n",
    "\n",
    "$$H[s]= \\sum_{\\langle ij \\rangle} J_{ij}s_i s_j - \\mu B \\sum_i s_i$$. \n",
    "\n",
    "- **Energy per spin**\n",
    "\n",
    "$$\\epsilon = \\frac{E}{N}$$\n",
    "\n",
    "- **Total magnetization, $M$**  \n",
    "\n",
    "$$M=\\sum_is_i $$\n",
    "\n",
    "- **Magnetization per spin $m$** \n",
    "\n",
    "$$m=\\frac{1}{N}\\sum_is_i =\\frac{M}{N}$$"
   ]
  },
  {
   "cell_type": "markdown",
   "metadata": {
    "slideshow": {
     "slide_type": "slide"
    }
   },
   "source": [
    "### Fluctuations, correlations and susceptibilities\n",
    "\n",
    "- **Heat capacity $C_v$**\n",
    "\n",
    "Heat capacity is again the familiar expression established in our treatment of canonical ensemble. \n",
    "\n",
    "$$ C_v(T) = \\Big (\\frac{\\partial E}{\\partial T} \\Big )_V= \\frac{1}{k_B T^2} \\big(\\langle E^2 \\rangle-\\langle E \\rangle^2 \\big) $$\n",
    "\n",
    "\n",
    "- **Susceptibility $\\chi$**\n",
    "\n",
    "Magnetic susceptibility quantifies response of the ssytem to the variation of magnetic field.\n",
    "\n",
    "$$\\chi(T)=\\Big (\\frac{\\partial M}{\\partial B} \\Big )_T= \\frac{1}{k_B T} \\big(\\langle M^2 \\rangle-\\langle M \\rangle^2 \\big) $$\n",
    "\n",
    "- **Correlation function $c(i,j)$  and correlation length**\n",
    "\n",
    "At high temperatures, spins on an ising lattice point up and down randomly. While at low temperatures, all spins tend to align. To quantify the degree of alignment, we can define a quantity named correlation length $\\xi$, which can be defined mathematically through correlation function $c(i,j)$ \n",
    "\n",
    "$$c(i,j)=\\langle s_i-\\langle s_i\\rangle\\rangle \\langle s_j-\\langle s_j\\rangle\\rangle$$"
   ]
  },
  {
   "cell_type": "markdown",
   "metadata": {
    "slideshow": {
     "slide_type": "slide"
    }
   },
   "source": [
    "### Parition function and Free energy \n",
    "\n",
    "\n",
    "$$Z=\\sum_{[s]}e^{-\\beta H([s])}=\\sum_{[s]}e^{-\\beta \\big ( \\sum_{\\langle ij \\rangle} J_{ij}s_i s_j - \\mu B M \\big )}$$\n",
    "\n",
    "<br><br>\n",
    "\n",
    "$$F=-\\beta^{-1} log Z $$"
   ]
  },
  {
   "cell_type": "markdown",
   "metadata": {
    "slideshow": {
     "slide_type": "slide"
    }
   },
   "source": [
    "- **Free energy as a function of M (Potential of mean force)**\n",
    "\n",
    "<br>\n",
    "\n",
    "$$Z(M) = \\sum_{[s]} e^{-\\beta H([s])} \\delta (M-M([s]))$$\n",
    "\n",
    "$$F(M)=-\\beta^{-1} log Z(M)$$\n",
    "\n",
    "The  Z(M) is a partial sum over states for which magnetization is equal to a particular value M as opposed to Z where summation is unrestricted. "
   ]
  },
  {
   "cell_type": "markdown",
   "metadata": {
    "slideshow": {
     "slide_type": "slide"
    }
   },
   "source": [
    "### Some notable applications of Ising models. More applications are found [here](https://en.wikipedia.org/wiki/Ising_model)\n",
    "\n",
    "1. **Ferromagnetism**\n",
    "The Ising model is the scalar version of the three-dimensional ‘Heisenberg model’ :\n",
    "<br>\n",
    "\n",
    "2. **Binary alloys and lattice gases**\n",
    "Each lattice site is occupied either by an atom A or B. Nearest neighbour interac- tions are $\\epsilon_{AA}$, $\\epsilon_{BB}$ and $\\epsilon_{AB}$. We identify $A$ with $s_i = 1$ and B with $S_i = −1$. The Hamiltonian then is:\n",
    "$H = − ∑ J_{ij}s_is_j \\langle i,j\\rangle$\n",
    "with $J_{ij} = \\epsilon_{AB} − 0.5(\\epsilon_{AA} + \\epsilon_{BB})$. Thus the Ising model describes order-disorder \n",
    "transitions in regard to composition.\n",
    "<br>\n",
    "\n",
    "3. **Spin glasses**\n",
    "now each bond is assigned an individual coupling constant J and they are drawn from a random distribution. E.g. one can mix ferromagnetic and anti-ferromagnetic couplings. This is an example for a structurally disordered system, on top of which we can have a thermal order-disorder transition.\n",
    "<br>\n",
    "\n",
    "4. **Conformations in biomolecules**\n",
    "a famous example is the helix-coil transition from biophysics. $s_i$ a hydrogen bond in a DNA-molecules is closed; $s_i$ = −1 the bond is open. The phase tran- sition is between a straight DNA-molecule (helix) and a coiled DNA-molecule. Other examples are the oxygen-binding sites in hemoglobin, chemotactic recep- tors in the receptor fields of bacteria, or the molecules building the bacterial flag- ellum, which undergos a conformational switch if the flagellum is rotated in the other direction (switch from run to tumble phases).\n",
    "<br>\n",
    "\n",
    "5. **Neural networks representing the brain**\n",
    "$s_i = 1$ a synapse is firing, $s_i = −1$ it is resting. The Hopfield model for neu- ral networks is a dynamic version of the Ising model and Boltzmann machines recognise handwriting by using the Ising model.\n",
    "<br>\n",
    "\n",
    "6. **Spread of opinions or diseases**\n",
    "Spread of opinions, rumours or diseases in a society; these kinds of models are used in socioeconomic physics. If nearest neighbour coupling is sufficiently strong, the system gets ‘infected’."
   ]
  },
  {
   "cell_type": "markdown",
   "metadata": {
    "slideshow": {
     "slide_type": "slide"
    }
   },
   "source": [
    "## The [Peierls](https://en.wikipedia.org/wiki/Rudolf_Peierls) argument for presence/absence of phase transitions in  1D, 2D and 3D\n",
    "\n",
    "Starting around 1933, Peierls published scaling arguments why a phase transition should occur in 2D as opposed to 1D"
   ]
  },
  {
   "cell_type": "markdown",
   "metadata": {
    "slideshow": {
     "slide_type": "slide"
    }
   },
   "source": [
    "### No phase transition in 1D at T>0\n",
    "1D case Start with 1D chain of all spin up configuration and create an isalnd of oposite spins. \n",
    "\n",
    "$$++++++++++++++++++++$$\n",
    "\n",
    "$$++++++{\\bf \\boxed{-}----\\boxed{-}}++++++++$$\n",
    "\n",
    "- Energy cost is:\n",
    "\n",
    "$$\\Delta E = 2 \\cdot 2J =4J $$\n",
    "\n",
    "- Entropy cost is:\n",
    "\n",
    "$$\\Delta S = k_B log \\frac{N(N-1)}{2} \\approx 2k_B log N $$\n",
    "\n",
    "- Free Energy differnece:\n",
    "\n",
    "$$\\Delta F = 4J - 2k_B T log N < 0 $$\n",
    "\n",
    "Thus free energy for $N\\gg1$ is always negative for any finite temperature. It is always favorable to create grain boundaries due to entropic reasons. <br> **Phase transition in 1D cannot occur at finite temperature!**"
   ]
  },
  {
   "cell_type": "markdown",
   "metadata": {
    "slideshow": {
     "slide_type": "slide"
    }
   },
   "source": [
    "### Phase transition in 2D at $T>0$ realizable"
   ]
  },
  {
   "cell_type": "markdown",
   "metadata": {
    "slideshow": {
     "slide_type": "fragment"
    }
   },
   "source": [
    "In 2D and 3D introducing isalnd of spins creates a surface spins sproportional to linear size of the island L which is now a macroscopic quantitiy comparable to N\n",
    "\n",
    "- Energy cost is:\n",
    "\n",
    "$$\\Delta E = L \\cdot 2J$$\n",
    "\n",
    "- Entropy cost using a crude estimate of random walk on cubic lattice is:\n",
    "\n",
    "$$\\Delta S = k_B log 3^L = k_B L log 3$$\n",
    "\n",
    "- Free Energy differnece:\n",
    "\n",
    "$$\\Delta F = L (2J -2k_B T log 3)$$\n",
    "\n",
    "$$T > T_c = \\frac{2J}{k_Blog 3}$$"
   ]
  },
  {
   "cell_type": "markdown",
   "metadata": {
    "slideshow": {
     "slide_type": "slide"
    }
   },
   "source": [
    "## Analytic solutions for 1D Ising model\n",
    "\n",
    "$$H = -\\sum_{\\langle ij \\rangle} J s_i s_i -B\\sum_i s_i$$\n",
    "\n",
    "$$\\beta H = -\\sum_{\\langle ij \\rangle} K s_i s_i - h \\sum_i s_i$$\n",
    "\n",
    "$$K = \\frac{J}{k_B T}\\,\\, , \\,\\, h = \\frac{B}{k_B T} $$"
   ]
  },
  {
   "cell_type": "markdown",
   "metadata": {
    "slideshow": {
     "slide_type": "slide"
    }
   },
   "source": [
    "### Case-1: $h\\neq 0$ and $J=0$"
   ]
  },
  {
   "cell_type": "markdown",
   "metadata": {
    "slideshow": {
     "slide_type": "fragment"
    }
   },
   "source": [
    "$$Z = \\sum_{[s]} e^{h \\sum s_i } = \\sum_{[s]} \\prod^{N}_{i=1} e^{h  s_i } = \\prod^{N}_i Z_i = Z^N_i$$\n",
    "\n",
    "$$Z_i = \\sum_{s_i} e^{h s_i} =  e^{h}+e^{-h} = 2cosh(h)$$"
   ]
  },
  {
   "cell_type": "markdown",
   "metadata": {
    "slideshow": {
     "slide_type": "slide"
    }
   },
   "source": [
    "$$ m = \\langle s_i \\rangle = \\frac{\\partial log Z_i}{\\partial h} =  \\frac{e^{h}-e^{-h}}{e^{h}+e^{-h}} =tanh(h) =tanh(\\beta B) $$"
   ]
  },
  {
   "cell_type": "markdown",
   "metadata": {
    "slideshow": {
     "slide_type": "slide"
    }
   },
   "source": [
    "- **Free energy**\n",
    "\n",
    "$$F = -\\beta^{-1} log Z = -\\beta^{-1} N log \\Big[  2cosh(\\beta B)\\Big]$$\n",
    "\n",
    "\n",
    "- **Energy.** Obtained by ensemble average of Ising Hamiltonian. Which comes down as simply the average of single spin multipled by number of spins\n",
    "\n",
    "$$U = -N B\\langle s \\rangle = -N B \\cdot tanh(\\beta B)$$\n",
    "\n",
    "<br>\n",
    "\n",
    "- **Entropy** can be computed as $(U-F)/T$ or as $S=-\\frac{\\partial F}{\\partial T}$\n",
    "\n",
    "$$S = N k_B\\Big(-\\beta B \\cdot tanh(\\beta B) + log \\Big[  2cosh(\\beta B)\\Big] \\Big)$$\n",
    "\n",
    "\n",
    "- **Heat capacity** \n",
    "$$c = \\frac{1}{N}\\frac{\\partial U}{\\partial T} = k_B \\beta^2 B^2 sech^2 (\\beta B)$$\n",
    "\n",
    "We see that heat capacity goes to zero at both $T=0$ and $T=\\infty$"
   ]
  },
  {
   "cell_type": "code",
   "execution_count": 5,
   "metadata": {
    "slideshow": {
     "slide_type": "slide"
    }
   },
   "outputs": [
    {
     "data": {
      "text/plain": [
       "Text(0.5, 0, 'B, magnetic field')"
      ]
     },
     "execution_count": 5,
     "metadata": {},
     "output_type": "execute_result"
    },
    {
     "data": {
      "image/png": "[encoded data removed]",
      "text/plain": [
       "<Figure size 432x288 with 1 Axes>"
      ]
     },
     "metadata": {
      "image/png": {
       "height": 263,
       "width": 388
      },
      "needs_background": "light"
     },
     "output_type": "display_data"
    }
   ],
   "source": [
    "def mag1(x, T=1):\n",
    "    \n",
    "    return np.tanh(x/T)\n",
    "\n",
    "x = np.linspace(-10,10,1000)\n",
    "\n",
    "[plt.plot(x, mag1(x, T)) for T in (1,2,5,10)]\n",
    "\n",
    "plt.legend(['T=1','T=2','T=5', 'T=10'])\n",
    "plt.grid('True')\n",
    "plt.xlabel('B, magnetic field')"
   ]
  },
  {
   "cell_type": "markdown",
   "metadata": {
    "slideshow": {
     "slide_type": "slide"
    }
   },
   "source": [
    "### Case-2: $h= 0$ and $J\\neq 0$"
   ]
  },
  {
   "cell_type": "markdown",
   "metadata": {
    "slideshow": {
     "slide_type": "slide"
    }
   },
   "source": [
    "$$H = -J \\sum^{N-1}_{i=1} s_i s_{i+1}$$\n",
    "\n",
    "- We use free boundary conditions\n",
    "- Let $\\tau_1 =s_1$ and $\\tau_j =s_{j-1} s_j$ for $j\\geq 2$\n",
    "\n",
    "$$H = -J \\sum^{N}_{i=2} \\tau_i$$\n",
    "\n",
    "- There will be an overall factor of 2 in front of partition function becasue of summation over $\\tau_1$"
   ]
  },
  {
   "cell_type": "markdown",
   "metadata": {
    "slideshow": {
     "slide_type": "slide"
    }
   },
   "source": [
    "$$Z = \\sum_{\\tau} \\prod^{N}_{j=1} e^{K \\tau_j} = 2 \\prod^{N}_{j=2} \\sum_{\\tau_j} e^{K \\tau_j} =2 \\prod^{N}_{j=2} Z_j$$\n",
    "\n",
    "$$Z_j = e^K +e^{-K} = 2cosh(K) =2cosh(\\beta J)$$\n",
    "\n",
    "$$Z =2Z^{N-1}_j = 2 (2 cosh(K))^{N-1} \\approx (2 cosh(K))^N$$\n",
    "\n",
    "$$F = -\\beta^{-1}logZ = -k_B T N log [2cosh(\\beta J)]$$ "
   ]
  },
  {
   "cell_type": "markdown",
   "metadata": {
    "slideshow": {
     "slide_type": "slide"
    }
   },
   "source": [
    "### Case-3: $h \\neq$ and $J\\neq 0$ and Transfer Matrix technique"
   ]
  },
  {
   "cell_type": "markdown",
   "metadata": {
    "slideshow": {
     "slide_type": "slide"
    }
   },
   "source": [
    "$$H = -J \\sum^{N-1}_{i=1} s_i s_{i+1} - \\frac{B}{2} (s_j +s_{j+1})$$\n",
    "\n",
    "- We write hamiltonain in this symmetric form consisting of sums of $(s_j, s_{j+1})$ terms for presenting partiion function as product of terms. "
   ]
  },
  {
   "cell_type": "markdown",
   "metadata": {
    "slideshow": {
     "slide_type": "slide"
    }
   },
   "source": [
    "$$Z = \\sum_{[s]}\\prod_j  e^{K s_j s_{j+1}+\\frac{1}{2}h(s_j+s_{J+1})} = \\sum_{[s]}\\prod_j T(s_j, s_{j+1})$$\n",
    "\n",
    "- Transfer matrix has been introduced: \n",
    "\n",
    "$$T(s_j, s_{j+1}) =  e^{K s_j s_{j+1}+\\frac{1}{2}h(s_j+s_{J+1})}$$\n",
    "\n",
    "$$T(s_j, s_{j+1}) = \\begin{pmatrix}\n",
    "e^{K+h} & e^{-K} \\\\\n",
    "e^{-K} & e^{K-h}\n",
    "\\end{pmatrix} $$\n",
    "\n",
    "While compared to previous examples partition function did not factor out into single particle contributions we nevertheless have factored the partition function as product of 2 by 2 matrices! "
   ]
  },
  {
   "cell_type": "markdown",
   "metadata": {
    "slideshow": {
     "slide_type": "slide"
    }
   },
   "source": [
    "### Note the close connection of matrix technique applied to partion functions  with mathematical formalism of quantum mechanics! \n",
    "\n",
    "In quantum mecchanical notation $T_{j,j+1} = \\langle s_j | T | s_{j+1}\\rangle$ can be seen as an operator that propagates or transfers state from spin $j+1$ to spin state $j$. "
   ]
  },
  {
   "cell_type": "markdown",
   "metadata": {
    "slideshow": {
     "slide_type": "slide"
    }
   },
   "source": [
    "$$Z = \\sum_{[s]}e^{-\\beta H} = \\sum_{s_1,s_2,...s_N}  \\langle s_1 | T | s_{2}\\rangle \\langle s_2 | T | s_{3}\\rangle ...\\langle s_{N-1} | T | s_{N}\\rangle$$\n",
    "\n",
    "$$Z  = \\sum_{s_1 = \\pm 1} \\langle s_1 | T^N | s_{1}\\rangle  = Tr(T^N)$$\n",
    "\n",
    "Trace of matrix is invariant to unitary trasnformation $U^{-1} T U =D$ which we can use to diagonalize the matrix $T$ which then allows to us to write the N product in terms of two diagonal elements:\n",
    "\n",
    "$$Z = \\lambda^N_1 +\\lambda^N_2$$"
   ]
  },
  {
   "cell_type": "markdown",
   "metadata": {
    "slideshow": {
     "slide_type": "slide"
    }
   },
   "source": [
    "**Problem is reduced to diagonalizing the transfer matrix**\n",
    "\n",
    "$$det \\begin{pmatrix}\n",
    "e^{K+h}-\\lambda & e^{-K} \\\\\n",
    "e^{-K} & e^{K-h}-\\lambda\n",
    "\\end{pmatrix} =0 $$\n",
    "\n",
    "$$\\lambda_{1,2} = e^K \\big ( cosh(h) \\pm \\sqrt{cosh^2(h)-2e^{-2K}sinh(2K)}\\Big)$$\n",
    "\n",
    "- Thus we have arrived at an exact solution for the one dimension Ising model with external field:\n",
    "\n",
    "$$Z = \\lambda^N_1 +\\lambda^N_2 = \\lambda^N_1 \\Big(1+\\big (\\frac{\\lambda_2}{\\lambda_1}\\big)^N \\Big)\\rightarrow \\lambda^N_1$$"
   ]
  },
  {
   "cell_type": "markdown",
   "metadata": {
    "slideshow": {
     "slide_type": "slide"
    }
   },
   "source": [
    "**No phase transition at finite $T>0$ is posisble for 1D ising model as free energy remains analytic for T>0**\n",
    "\n",
    "$$F = -k_B T N log \\lambda_1 $$"
   ]
  },
  {
   "cell_type": "markdown",
   "metadata": {
    "slideshow": {
     "slide_type": "slide"
    }
   },
   "source": [
    "### Mean Field Theory\n",
    "\n",
    "- Let us assume each spin i independently of each other feels some average effect of a field:\n",
    "\n",
    "$$H_i = -J\\sum_{\\delta} s_i s_{i+\\delta} - h s_i = -\\Big(J\\sum_{\\delta}s_{\\delta} +h \\Big) s_i$$\n",
    "\n",
    "$$H_i = J\\sum_{\\delta}s_{\\delta}+h$$\n",
    "\n",
    "$$H^{eff}=\\sum H_i s_i$$\n",
    "\n",
    "- The difficulty with effective field is that $H_i$ depends on the instatnaous states of neighbouring spins of $s_i$ which flucutuate"
   ]
  },
  {
   "cell_type": "markdown",
   "metadata": {
    "slideshow": {
     "slide_type": "slide"
    }
   },
   "source": [
    "**Mean Field Approach: replace fluctuating spin terms by their average values**\n",
    "\n",
    "The average values should equal to magnetiszation per spin due to trasnlational invariance\n",
    "\n",
    "$$H^{MFA}_i = \\langle H_i \\rangle = J\\sum_{\\delta} \\langle s_{\\delta} \\rangle+h = Jzm+h$$\n",
    "\n",
    "- z=4 for 2D lattice\n",
    "- z=6 for 3D lattice"
   ]
  },
  {
   "cell_type": "markdown",
   "metadata": {
    "slideshow": {
     "slide_type": "slide"
    }
   },
   "source": [
    "**In MFA hamitlonian factors out into additive components**\n",
    "\n",
    "Just like the exact case we had with J=0. \n",
    "\n",
    "$$\\boxed{m = tanh(\\beta(Jzm+h))}$$"
   ]
  },
  {
   "cell_type": "markdown",
   "metadata": {
    "slideshow": {
     "slide_type": "slide"
    }
   },
   "source": [
    "**The $h=0$ MFA case**\n",
    "\n",
    "The equation can be solved in a self-consistent manner or graphically by finding intersection between:\n",
    "\n",
    "- $m =tanh(x)$\n",
    "- $x = \\beta Jzm$\n",
    "\n",
    "When the slope is equal to one it provides a dividing line between two behaviours. \n",
    "$$\\boxed{k_B T_c =zJ}$$\n",
    "\n",
    "- **MFA shows phase transitio for 1D Ising model at finite $T=T_c$!** "
   ]
  },
  {
   "cell_type": "code",
   "execution_count": 51,
   "metadata": {},
   "outputs": [
    {
     "data": {
      "application/vnd.jupyter.widget-view+json": {
       "model_id": "00078c10a6ab4133a4158f5c6d5132fe",
       "version_major": 2,
       "version_minor": 0
      },
      "text/plain": [
       "interactive(children=(FloatSlider(value=1.0, description='T', max=5.0, min=0.1), Output()), _dom_classes=('wid…"
      ]
     },
     "metadata": {},
     "output_type": "display_data"
    }
   ],
   "source": [
    "@widgets.interact(T=(0.1,5)) \n",
    "def mfa_ising1d_plot(T=1):\n",
    "\n",
    "    Tc = 1\n",
    "    x  = np.linspace(-3,3,1000)\n",
    "    \n",
    "    f = lambda x: (T/Tc)*x\n",
    "    m = lambda x: np.tanh(x)\n",
    "    \n",
    "    plt.plot(x,m(x),lw=3,alpha=0.9,color='green')\n",
    "    \n",
    "    plt.plot(x,f(x),'--',color='black')\n",
    "    idx = np.argwhere(np.diff(np.sign(m(x) - f(x))))\n",
    "    plt.plot(x[idx], f(x)[idx], 'ro')\n",
    "    \n",
    "    plt.legend(['m=tanh(x)', 'x'])\n",
    "    \n",
    "    plt.ylim(-2,2)\n",
    "    plt.grid('True')"
   ]
  },
  {
   "cell_type": "markdown",
   "metadata": {
    "slideshow": {
     "slide_type": "slide"
    }
   },
   "source": [
    "### Critical exponents\n",
    "\n",
    "**A signature of phase transitions and critical phenomena is that there are universal power law behaviours near critical point**\n",
    "\n",
    "$$m \\sim |T-T_c |^{\\beta}$$\n",
    "\n",
    "$$c \\sim |T-T_c|^{-\\alpha}$$\n",
    "\n",
    "$$\\chi =\\frac{\\partial m}{\\partial B} \\sim |T-T_c|^{-\\gamma}$$\n",
    "\n",
    "**Correlation lengths $\\xi$ diverge at critical points**\n",
    "\n",
    "$$f(r=|j-k|) = \\langle s_j s_k \\rangle \\sim r^{-d+2+\\eta}e^{-r/\\xi}$$\n",
    "\n",
    "$$\\xi \\sim |T-T_c|^{-\\nu}$$"
   ]
  },
  {
   "cell_type": "markdown",
   "metadata": {
    "slideshow": {
     "slide_type": "slide"
    }
   },
   "source": [
    "### Mean field exponents\n",
    "\n",
    "We can derive the value of critical exponent $\\beta$ within mean field approximation by Taylor expanding the  hyperbolic tangent\n",
    "\n",
    "$$tanh(x) \\approx x-\\frac{1}{3}x^3+...$$\n",
    "\n",
    "$$m = tanh(\\beta J z m) \\approx \\beta J z m - \\frac{1}{3} (\\beta Jzm)^3$$\n",
    "\n",
    "- One solution is obviously m = 0 which is the only solution above $T_c$\n",
    "\n",
    "- Below $T_c$ the non-zero solution is found $m=\\sqrt{3}\\frac{T}{T_c} \\Big(1-\\frac{T}{T_c} \\Big)^{1/2}+...$ \n",
    "\n",
    "- $\\beta_{MFA}=1/2$"
   ]
  },
  {
   "cell_type": "markdown",
   "metadata": {
    "slideshow": {
     "slide_type": "slide"
    }
   },
   "source": [
    "# Homework-7"
   ]
  },
  {
   "cell_type": "markdown",
   "metadata": {
    "slideshow": {
     "slide_type": "slide"
    }
   },
   "source": [
    "1. Use Transfer matrix method to solve general 1D Ising model with $h = 0$ (Do not simply copy the solution by setting h=0 but repeat the derivation :) \n",
    "<br>\n",
    "\n",
    "2. Find the free energy per particle $F/N$ in the limit $n\\rightarrow \\infty $ for both periodic bounary codnition conditions and free boundary cases. \n",
    "\n",
    "3. Plot temperature dependence of heat capacity and free energy as a function for $(h=\\neq, J\\neq 0)$  $(h=0, J\\neq 0)$ and $(h=\\neq, J\\neq \\neq)$ cases of 1D Ising model. Coment on the observed behaviours.\n",
    "\n",
    "4. Explain why heat capacity and magnetic susceptibility diverge at critical temperatures. \n",
    "\n",
    "5. Explain why correlation functions diverge at a critical temperature\n",
    "\n",
    "6. Explain why are there universal critical exponents.\n",
    "\n",
    "7. Explain why the dimensionality and range of intereactions matters for existance and nature of phase transitions.\n",
    "\n",
    "8. Using mean field approximation show that near critical temperature magnetization per spin goes as $m\\sim (T_c-T)^{\\beta}$ (critical exponent not to nbe confused with inverse $k_B T$) and find the value of \\beta. Do the same for magnetic susceptibility $\\chi \\sim (T-T_c)^{-\\gamma}$ and find the value of $\\gamma$\n",
    "\n",
    "9. Explain what is the nature of mean field theory approximation and why is predictions fail for low dimensionsal systems but consistently get better with higher dimensions?\n",
    "\n",
    "10. Consider a 1D model given by the Hamiltonian:\n",
    "\n",
    "$$H = -J\\sum^{N}_{i=1} s_i s_{i+1} + D\\sum^{N}_{i=1} s^2_i $$\n",
    "\n",
    "where $J>1$, $D>1$ and $s_i =-1,0,+1$\n",
    "\n",
    "- Assuming periodic boundary codnitions calcualte eigenvalues of the transfer matrix\n",
    "\n",
    "- Obtain expresions for internal energy, entropy and free energy\n",
    "\n",
    "- What is the ground state of this model (T=0) as a function of $d=D/J$ Obtain asymptotic form of the eigenvalues of the transfer matrix in the limit $T\\rightarrow 0$ in the characteristic regimes of d (e.g consider differnet extereme cases)\n",
    "\n"
   ]
  },
  {
   "cell_type": "code",
   "execution_count": 1,
   "metadata": {},
   "outputs": [],
   "source": [
    "from sympy import *"
   ]
  },
  {
   "cell_type": "code",
   "execution_count": 8,
   "metadata": {},
   "outputs": [],
   "source": [
    "K =Symbol(\"K\")\n",
    "lam = Symbol('lambda')\n",
    "\n",
    "M = Matrix([ [exp(K),     1,            exp(-K)],\n",
    "             [ 1,         0,                  1],\n",
    "             [exp(-K),    1,           exp(K)]])\n",
    "\n",
    "\n",
    "cp = det(M - lam * eye(3))\n",
    "eigs = roots(Poly(cp, lam))"
   ]
  },
  {
   "cell_type": "code",
   "execution_count": 9,
   "metadata": {},
   "outputs": [
    {
     "data": {
      "text/plain": [
       "{(exp(2*K) - 1)*exp(-K): 1,\n",
       " (sqrt(exp(4*K) + 10*exp(2*K) + 1) + exp(2*K) + 1)*exp(-K)/2: 1,\n",
       " (-sqrt(exp(4*K) + 10*exp(2*K) + 1) + exp(2*K) + 1)*exp(-K)/2: 1}"
      ]
     },
     "execution_count": 9,
     "metadata": {},
     "output_type": "execute_result"
    }
   ],
   "source": [
    "eigs"
   ]
  },
  {
   "cell_type": "code",
   "execution_count": null,
   "metadata": {},
   "outputs": [],
   "source": []
  }
 ],
 "metadata": {
  "kernelspec": {
   "display_name": "Python 3",
   "language": "python",
   "name": "python3"
  },
  "language_info": {
   "codemirror_mode": {
    "name": "ipython",
    "version": 3
   },
   "file_extension": ".py",
   "mimetype": "text/x-python",
   "name": "python",
   "nbconvert_exporter": "python",
   "pygments_lexer": "ipython3",
   "version": "3.7.4"
  },
  "livereveal": {
   "theme": "sky"
  },
  "nteract": {
   "version": "0.21.0"
  },
  "toc": {
   "base_numbering": 1,
   "nav_menu": {},
   "number_sections": true,
   "sideBar": true,
   "skip_h1_title": false,
   "title_cell": "Table of Contents",
   "title_sidebar": "Contents",
   "toc_cell": false,
   "toc_position": {},
   "toc_section_display": true,
   "toc_window_display": false
  }
 },
 "nbformat": 4,
 "nbformat_minor": 4
}
