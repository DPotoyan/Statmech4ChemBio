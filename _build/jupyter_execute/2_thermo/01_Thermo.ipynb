{
 "cells": [
  {
   "cell_type": "markdown",
   "metadata": {
    "slideshow": {
     "slide_type": "slide"
    }
   },
   "source": [
    "# Review of thermodynamics principles"
   ]
  },
  {
   "cell_type": "markdown",
   "metadata": {
    "slideshow": {
     "slide_type": "slide"
    }
   },
   "source": [
    "### Summary of the key principles thermodynamics\n",
    "\n",
    "1. Thermodynamics is a **phenomoneological** theory. Phenomoneological means that the macrosocpic phenomena are descibred terms of few quanitites which can be observed and measrued by macroscopic devices without any refernce to microscopic details.\n",
    "2. The variables one deals in thermodynamics can be classifeid as **extensive** and **intensive**. Former depends on the size of system (volume, number of particles, energy, entropy) the latter is size independent (temperature, pressure, magnetic field, etc). **Extensive variables** are a priviledges set of variables which uniquely define the equilibrium sates. **Intensive variables** are derived from extensive ones and are conjugate pairs to extensive ones. E.g $V-P$, $S-T$, $N-\\mu$ are conjugate pairs. Conjugate means one can replace extensive variables by intensive variables through legendre transformation.\n",
    "3. **Equilibrium** is a special state of matter where the most simple descirption is possible in terms of extensive variables or properly chosen set of extensive+intensive variables. Equilibrium state is defined as a state where on the timescale of interest no measurable variable dsiplays any changes over time. In particular there are no macrosopic fluxex or flows of any form of energy or matter. In equilibrium, macroscopic matter assumes a particularly simple description in terms of **few extensive quantites**. \n",
    "4.  **Fundmanetal equation** in thermodynamics is the equation that binds together all extensive variables, e.g $E(U,V,S,N_1, N_2, ...)$.      \n",
    "5. **Transformations between equilibrium states** is the central task of thermodynamics. Thermodynamics is fully equiped to predict the equilibrium state B which results form equilibrium state A through spontenous transformation upon removal of a **constraint.**  \n",
    "6. **Quasi-static path: a dense successtion of equilibrium states** that connects A with B in the space of extensive variables is constructed in order to compute changes in thermodynamic variables between states A and B. This equilibrium path is necessarily quasistatic for ensuring that system does not at all deviate from equilibrium state during transformation. The quasistatic path can also be reversible when the path from B to A can be re-traced with zero change in the universe while the system remains in the state of equilibrium. This necessitates intoduction of Entropy which differnetiates reversible from non-reversible changes. \n",
    "7. Thermodynamic space is folliated into non-corssing **adiabats**. These adiabats are planes on whcih system can be transformed reversibly.  The only way to \"jump\" from one adiabt to another is by heating or cooling the system, e.g transfer of heat. \n",
    "8. The second Law establishes the directionality of processes. The first law is a reflection of conservation of \"mechanical energy\" in many body systems such studied in thermodynamics. \n",
    "9. Any change in adiabatic system is accompanied either by entropy increase (non-equilibrium change) or entropy remaining the same (equilibrium-change)"
   ]
  },
  {
   "cell_type": "markdown",
   "metadata": {
    "slideshow": {
     "slide_type": "slide"
    }
   },
   "source": [
    "### Basic features of macrosystems "
   ]
  },
  {
   "cell_type": "markdown",
   "metadata": {
    "slideshow": {
     "slide_type": "fragment"
    }
   },
   "source": [
    "Let us list some of the most conspicious features of macroscopic systems consisting of many particles:\n",
    "\n",
    "- **Additivitiy of Energy**\n",
    "- **Irreversibility of time evoluation.** \n",
    "- **Simplicity and stability of equiliubrium states.**\n",
    "- **\"Invisibility\" of fluctuations**"
   ]
  },
  {
   "cell_type": "markdown",
   "metadata": {
    "slideshow": {
     "slide_type": "slide"
    }
   },
   "source": [
    "#### On Addititivty of Energy\n",
    "\n",
    "The additivity of energy can hold if we assumed pairwise potential description between particles and that these potentials decasye with distance faster than the $r^{-3}$ in 3D. "
   ]
  },
  {
   "cell_type": "code",
   "execution_count": 1,
   "metadata": {
    "slideshow": {
     "slide_type": "skip"
    }
   },
   "outputs": [],
   "source": [
    "from ipywidgets import widgets\n",
    "import matplotlib.pyplot as plt\n",
    "import numpy as np\n",
    "import scipy as sci"
   ]
  },
  {
   "cell_type": "code",
   "execution_count": 2,
   "metadata": {
    "slideshow": {
     "slide_type": "slide"
    }
   },
   "outputs": [],
   "source": [
    "def U_LJ6_12(r, sig=1, eps=1):\n",
    "    '''Classic 6-12 Lennar Jones Potential\n",
    "    r: interatomic distance in units sigma\n",
    "    sigma: atomic/particle size\n",
    "    E: energy in units of epsilon\n",
    "    '''\n",
    "    \n",
    "    x=r/sig\n",
    "    \n",
    "    inv_r6  = 1/x**6\n",
    "    inv_r12 = inv_r6**2\n",
    "    \n",
    "    return 4*eps*(inv_r12 - inv_r6)\n",
    "\n",
    "def U_DH(r, a=1):\n",
    "    '''Screened electrostatic potential\n",
    "    '''\n",
    "    \n",
    "    return 1/r * np.exp(-a*r)"
   ]
  },
  {
   "cell_type": "code",
   "execution_count": 3,
   "metadata": {
    "slideshow": {
     "slide_type": "slide"
    }
   },
   "outputs": [
    {
     "data": {
      "image/png": "[encoded data removed]",
      "text/plain": [
       "<Figure size 792x288 with 2 Axes>"
      ]
     },
     "metadata": {
      "filenames": {
       "image/png": "/Volumes/GoogleDrive/My Drive/Lectures/StatMech_Chem563/Statmech4ChemBio/_build/jupyter_execute/2_thermo/01_Thermo_7_0.png"
      },
      "needs_background": "light"
     },
     "output_type": "display_data"
    }
   ],
   "source": [
    "fig, ax = plt.subplots(nrows=1, ncols=2,figsize=(11,4))\n",
    "dist = np.linspace(1, 4,100)\n",
    "\n",
    "ax[0].plot(dist, U_LJ6_12(dist,1,1),'--',lw=3,color='orange')\n",
    "ax[0].set_xlabel('$r, [\\sigma]$',fontsize=12)\n",
    "ax[0].set_ylabel('$U_{LJ}(r)$',fontsize=12)\n",
    "\n",
    "ax[1].plot(dist, U_DH(dist,1),'--',lw=3,color='green')\n",
    "ax[1].set_xlabel('$r, [\\sigma]$',fontsize=12)\n",
    "ax[1].set_ylabel('$U_{DH}(r)$',fontsize=12)\n",
    "\n",
    "ax[0].grid('on')\n",
    "ax[1].grid('on')\n"
   ]
  },
  {
   "cell_type": "markdown",
   "metadata": {
    "slideshow": {
     "slide_type": "slide"
    }
   },
   "source": [
    "#### On Irreversibility\n",
    "\n",
    "[Poincarre recurrence theorem](https://en.wikipedia.org/wiki/Poincar%C3%A9_recurrence_theorem)\n",
    "\n",
    "If you play bridge long enough you will eventually be dealt any grand-slam hand, not once but several times. A similar thing is true for mechanical systems governed by Newton's laws, as the French mathematician Henri Poincare (1854-1912) showed with his recurrence theorem in 1890: if the system has a fixed total energy that restricts its dynamics to bounded subsets of its phase space, the system will eventually return as closely as you like to any given initial set of molecular positions and velocities. If the entropy is determined by these variables, then it must also return to its original value, so if it increases during one period of time it must decrease during another.\n",
    "\n",
    "<img src=\"./figs/recurrence.jpg\"  class=\"bg-primary\" width=\"400px\">\n",
    "\n",
    "- Zermello is right for small systems. A dynamical system will alwasy return to its starting configuration hence irreversibility is not a property of micrsccopic systems.  \n",
    "\n",
    "- Boltzman is right for large systems becasue a likelihhood of recurrence for macrosystem happening is beyond the lifetime of a universie. Case closed. \n"
   ]
  },
  {
   "cell_type": "markdown",
   "metadata": {
    "slideshow": {
     "slide_type": "slide"
    }
   },
   "source": [
    "### Extensive vs Intensive\n",
    "\n",
    "The **extensive variables (E,V,N)** are a priviledged set of variables in thermodynamin space becasue:\n",
    "- Proportional to the size of the system \n",
    "- Uniquely describe macroscopic states \n",
    "- Only mechanics/electromagnetis is needed without introdcuing derived notions of heat and temperature. \n",
    "\n",
    "The **intensive variables (T, P, $\\mu$)** are derived from extensive variables and are therefore derived, conveient variables for controlling experiments. Thus, intensive variables do not have the same status of extenisve variables. \n",
    "\n",
    "- A glass of water with and without ice cube can both be under 1 atm and 0 C whereas values of energy, entropy volume will be different. "
   ]
  },
  {
   "cell_type": "markdown",
   "metadata": {
    "slideshow": {
     "slide_type": "slide"
    }
   },
   "source": [
    "### Thermodynamic coordinates and thermodynamic space. "
   ]
  },
  {
   "cell_type": "markdown",
   "metadata": {
    "slideshow": {
     "slide_type": "fragment"
    }
   },
   "source": [
    "- State of equilibrium is completely defined as a point in the space of thermodynamic coordinates:  $E, V, N, S$. Theese coordinates have a **unique** and well defined values for each equilirbum state irresective to how such state was created.  Weather through violent non-equilibrimu process or calm quasi-static sequence of equilibrou states. This is why the functions of extensive variables $E(S,V,N)$ or $S(E,V,N)$ are called **state functions** and their changes are given by differnee between initial or final state only $\\Delta E =E_f -E_i$, $\\Delta S =S_f -S_i$. The work $W$ or heat $Q$ on the other hand are process dependent characterizing the way  energy is trasnfered to the system and not characterizing equilibrium states itself.  \n",
    "\n",
    "- Study of thermodynamic processes than boils down to study of transofrmations between equilibium A to equilibrium B in the **thermodynamic space** spanned by thermodynamic coordinates. E.g computing $\\Delta E = E_B - E_A$\n",
    "\n",
    "- To compute changes between equilirbum state A and B we construct reversible (read equilirbium) and quasistatic path connecting the two states which allwos writing down exact differntials for state changes. "
   ]
  },
  {
   "cell_type": "markdown",
   "metadata": {
    "slideshow": {
     "slide_type": "slide"
    }
   },
   "source": [
    "### Reversible, quasistatic process\n",
    "\n",
    "<img src=\"./figs/adiabat.png\"  class=\"bg-primary\" width=\"400px\">"
   ]
  },
  {
   "cell_type": "markdown",
   "metadata": {
    "slideshow": {
     "slide_type": "slide"
    }
   },
   "source": [
    "### Plank's statment of 2nd law\n",
    "\n",
    "<img src=\"./figs/plank.png\"  class=\"bg-primary mb-1\" width=\"400px\">\n",
    "\n",
    "> \"Planck’s principle: For any adiabatic process with all the work coordinates returning to\n",
    "their original values $\\Delta E \\geq 0$ \" M Plank\n",
    " \n",
    "> In other words doing pure mechanical work on insulated(read adiabatic) system with no net change in mechanical variables results in energy either going up or remaining unchanged $\\Delta E \\geq 0$.  Thus we can not through mechanical work \"steal\" energy away from closed system wihtout any other change in the environment.    "
   ]
  },
  {
   "cell_type": "markdown",
   "metadata": {
    "slideshow": {
     "slide_type": "slide"
    }
   },
   "source": [
    "### Thermodynamic space is made up of non-crossing adiabats. \n",
    "\n",
    "<img src=\"./figs/Adiabats.png\"  class=\"bg-primary\" width=\"400px\">"
   ]
  },
  {
   "cell_type": "markdown",
   "metadata": {
    "slideshow": {
     "slide_type": "slide"
    }
   },
   "source": [
    "### Nope-1\n",
    "\n",
    "<img src=\"./figs/NO1.png\"  class=\"bg-primary\" width=\"400px\">"
   ]
  },
  {
   "cell_type": "markdown",
   "metadata": {
    "slideshow": {
     "slide_type": "slide"
    }
   },
   "source": [
    "### Nope-2\n",
    "\n",
    "<img src=\"./figs/NO2.png\"  class=\"bg-primary\" width=\"400px\">"
   ]
  },
  {
   "cell_type": "markdown",
   "metadata": {
    "slideshow": {
     "slide_type": "slide"
    }
   },
   "source": [
    "### First Law\n",
    "\n",
    "Mechanical energy conservation law extended to many-body thermal systems\n",
    "\n",
    "$$dE = \\delta Q +\\delta W$$"
   ]
  },
  {
   "cell_type": "markdown",
   "metadata": {
    "slideshow": {
     "slide_type": "fragment"
    }
   },
   "source": [
    "### Second Law\n",
    "\n",
    "For an adiabatic quasisatic process entropy always increases or remains the same (in the equilibrium state). \n",
    "\n",
    "$$dS \\geq 0$$"
   ]
  },
  {
   "cell_type": "markdown",
   "metadata": {
    "slideshow": {
     "slide_type": "slide"
    }
   },
   "source": [
    "### Gibbs relation\n",
    "\n",
    "Given the energy as a function of extensive variables $E(S,V,N)$ we can write down its full differntial. \n",
    "\n",
    "\n",
    "$$dE = \\Big(\\frac{\\partial E}{\\partial S} \\Big)_{V,N}dS+ \\Big(\\frac{\\partial E}{\\partial V} \\Big)_{S,N}dV+\\Big(\\frac{\\partial E}{\\partial N} \\Big)_{S,V}dN$$\n",
    "\n",
    "We identify **intensive variables** conjugate to extenive variables:\n",
    "\n",
    "-  $$T = \\Big(\\frac{\\partial E}{\\partial S} \\Big)_{V,N}$$\n",
    "\n",
    "-  $$P = \\Big(\\frac{\\partial E}{\\partial V} \\Big)_{S,N}$$\n",
    "\n",
    "-  $$\\mu = \\Big(\\frac{\\partial E}{\\partial N} \\Big)_{S,V}$$\n",
    "\n",
    "This is known as **Gibbs relation** in Thermodynamics and is a starting point for thermodynamic calculations\n",
    "\n",
    "$$\\boxed{dE=  TdS - pdV +\\mu dN}$$"
   ]
  },
  {
   "cell_type": "markdown",
   "metadata": {
    "slideshow": {
     "slide_type": "slide"
    }
   },
   "source": [
    "### Gibbs Duhem relation\n",
    "\n",
    "Extensivity proeprty implies linear scaling with respect to extensive variables. In other words extensive variables are additive quantities \n",
    "\n",
    "$$E(\\lambda S,\\lambda V,\\lambda N) = \\lambda E(S,V,N)$$ \n",
    "\n",
    "$$E = \\Big(\\frac{\\partial E}{\\partial \\lambda S} \\Big)_{V,N}S+ \\Big(\\frac{\\partial E}{\\partial  \\lambda V} \\Big)_{S,N}V+\\Big(\\frac{\\partial E}{\\partial  \\lambda N} \\Big)_{S,V}N$$\n",
    "\n",
    "$$E = TS -PV +\\mu N$$\n",
    "\n",
    "Now take derivative of E and compare with Gibbs relation\n",
    "\n",
    "$$\\boxed{SdT-VdP+Nd\\mu =0}$$"
   ]
  },
  {
   "cell_type": "markdown",
   "metadata": {
    "slideshow": {
     "slide_type": "slide"
    }
   },
   "source": [
    "### Other useful thermodynamic derivatives "
   ]
  },
  {
   "cell_type": "markdown",
   "metadata": {
    "slideshow": {
     "slide_type": "fragment"
    }
   },
   "source": [
    "#### Heat capacities at constnat P and V. Thermal stability requires $c_v,c_p\\geq 0$\n",
    "\n",
    "$$C_p = \\Big(\\frac{d Q}{dT} \\Big)_{p,N}$$\n",
    "\n",
    "$$C_v = \\Big(\\frac{d Q}{dT} \\Big)_{v,N}$$\n",
    "\n",
    "#### Expansion and compression coefficients. Mechanical stability requires $\\kappa_T\\geq 0$\n",
    "\n",
    "- **Thermal expansion coeff:** \n",
    "\n",
    "$$\\alpha  = \\frac{1}{V}\\Big(\\frac{d V}{dT} \\Big)_{p,N}$$\n",
    "\n",
    "- **Isothermal compressibility coeff:** \n",
    "\n",
    "$$\\kappa_T  = -\\frac{1}{V}\\Big(\\frac{d V}{dP} \\Big)_{T,N}$$"
   ]
  },
  {
   "cell_type": "markdown",
   "metadata": {
    "slideshow": {
     "slide_type": "slide"
    }
   },
   "source": [
    "### Ideal Gas entropy example\n",
    "\n",
    "$$dS = \\frac{1}{T}dE + \\frac{P}{T}dV$$\n",
    "\n",
    "- $E = \\frac{3}{2}Nk_B T$ and $PV = Nk_BT$ for monoatomic gas\n",
    "\n",
    "$$dS = \\frac{3Nk_B}{2E}dE + \\frac{Nk_B}{V}dV$$\n",
    "\n",
    "\n",
    "$$S(E,V,T) = \\frac{3}{2}Nk_B log \\frac{E}{N} +Nk log \\frac{V}{N} + const$$"
   ]
  },
  {
   "cell_type": "markdown",
   "metadata": {
    "slideshow": {
     "slide_type": "slide"
    }
   },
   "source": [
    "### Convexity of Entropy and Concavity of Energy"
   ]
  },
  {
   "cell_type": "markdown",
   "metadata": {
    "slideshow": {
     "slide_type": "fragment"
    }
   },
   "source": [
    "Entropy $S(E,V,N)$ of a composite system is additive over each one of the individual components. The entropy is therefore continuous, differentiable, and monotonically increasing function of the energy $S(E)$\n",
    "\n",
    "\n",
    "![](./figs/concave_convex.png)\n",
    "\n",
    "To sum up we have the follwing fundamental properties that any Entropy as a function of extensive variables should obey:\n",
    "\n",
    "- $S(\\alpha E + (1-\\alpha) E^{'}, \\alpha V + (1-\\alpha) V^{'}) \\geq \\alpha S_1 (E, V) +(1-\\alpha) S_2(E^{'}, V^{'})$ \n",
    "\n",
    "- $S(\\lambda E,\\lambda V, \\lambda N) = \\lambda S(E,V,N)$ \n",
    "\n",
    "- $\\frac{\\partial S}{\\partial E} > 0$  \n",
    "\n",
    "- $\\frac{\\partial E}{\\partial S} = 0,\\ as\\ S \\rightarrow 0$\n"
   ]
  },
  {
   "cell_type": "markdown",
   "metadata": {},
   "source": []
  },
  {
   "cell_type": "markdown",
   "metadata": {},
   "source": [
    "#### Exercise: Is it fundamental enough?\n",
    "\n",
    "The following ten equations are purported to be fundamental equations for various thermodynamic systems. Five, however, are inconsisent with the basic postulates of a fundamental equation and are thus unphysical.  For each, plot the relationship between $S$ and $U$ and identify the five that are unacceptable. $v_0$, $\\theta$, and $R$ are all positive constants and, in the case of fractional exponents, the real positive root is to be implied.\n",
    "\n",
    "1. $\\ S = \\left ( \\frac{R^2}{v_0\\theta} \\right )^{1/3}\\left ( NVU \\right\n",
    ")^{1/3}$\n",
    "\n",
    "2. $S = \\left ( \\frac{R}{\\theta^2} \\right )^{1/3}\\left ( \\frac{NU}{V} \\right)^{2/3}$\n",
    "\n",
    "3. $S = \\left ( \\frac{R}{\\theta} \\right )^{1/2}\\left ( NU + \\frac{R\\theta V^2}{v_0^2} \\right)^{1/2}$\n",
    "\n",
    "4. $S = \\left ( \\frac{R^2\\theta}{v_0^3} \\right ) \\frac{V^3}{NU}$\n",
    "\n",
    "5. $S = \\left ( \\frac{R^3}{v_0\\theta^2} \\right )^{1/5}\\left ( N^2U^2V \\right)$\n",
    "\n",
    "6. $S = NR \\ln \\left ( \\frac{UV}{N^2 R \\theta v_0}  \\right )$\n",
    "\n",
    "7. $S = \\left ( \\frac{NRU}{\\theta} \\right )^{1/2}\\exp \\left (-\\frac{V^2}{2N^2v_0^2} \\right )$\n",
    "\n",
    "8. $S = \\left ( \\frac{NRU}{\\theta} \\right )^{1/2}\\exp\n",
    "\\left (-\\frac{UV}{NR\\theta v_0} \\right )$\n",
    "\n",
    "9. $U = \\left ( \\frac{NR\\theta V}{v_0} \\right ) \\left ( 1+\\frac{S}{NR} \\right ) \\exp \\left (-S/NR \\right)$\n",
    "\n",
    "10. $U = \\left ( \\frac{v_0\\theta}{R} \\right ) \\frac{S^2}{V} \\exp\\left ( S/NR \\right)$\n"
   ]
  },
  {
   "cell_type": "markdown",
   "metadata": {},
   "source": [
    "#### Exercise: from equation of state to fundamental equation\n",
    "\n",
    "- Obtain Helmholtz free energy of a simple pure homogenuus fluid described by the following equations of state \n",
    "\n",
    "$$u = \\frac{3}{2}pv$$\n",
    "\n",
    "$$p=av T^4$$"
   ]
  },
  {
   "cell_type": "markdown",
   "metadata": {},
   "source": [
    "#### Exercise: Where is my equilibrium state?\n",
    "\n",
    "The fundamental equations of both systems $A$ and $B$ are \n",
    "\n",
    "$$S = \\left (\\frac{R^2}{v_0\\theta} \\right )^{1/3} \\left ( N V U \\right )^{1/3}$$\n",
    "\n",
    "- The volume and mole number of system $A$ are $ 9 \\times 10^{-6}\\ m^3 $ and $3$ mol, respectively, \n",
    "- and of system $B$ are $ 4 \\times 10^{-6}\\ m^3 $ and $2$ mol, respectively.  \n",
    "\n",
    "First suppose $A$ and $B$ are completely isolated from one\n",
    "another.  Plot the total entropy $S_A + S_B$ as function of $U_A/(U_A + U_B)$,\n",
    "where $U_A + U_B = 80$ J. If $A$ and $B$ were connected by a diathermal wall and\n",
    "the pair allowed to come to equilibrium, what would $U_A$ and $U_B$ be?"
   ]
  },
  {
   "cell_type": "markdown",
   "metadata": {},
   "source": [
    "Call\n",
    "\n",
    "$$ X = \\frac{U_A}{U_A + U_B}$$\n",
    "\n",
    "we know $U_A + U_B = 80$, therefore\n",
    "\n",
    "$$ U_A = 80X,\\hspace{20pt} U_B = 80(1 - X) $$\n",
    "\n",
    "Then setting $R, v_0, \\theta = 1 $ and plugging in $V_A$, $V_B$, $N_A$ and $N_B$.\n",
    "\n",
    "$S = S_A + S_B = \\left(3 \\times 9 \\times 10^{-6} \\times 80X \\right)^{1/3} + \\left(2 \\times 4 \\times 10^{-6} \\times 80(1-X)\\right)^{1/3} = 0.086(1-X)^{1/3} + 0.129X^{1/3}$\n",
    "\n",
    "Entropy is maximized when $X = 0.65$, which is where we would expect the system to go at equilibrium once the internal wall is made diathermal."
   ]
  },
  {
   "cell_type": "code",
   "execution_count": 4,
   "metadata": {},
   "outputs": [
    {
     "data": {
      "text/plain": [
       "Text(0, 0.5, 'S(X)')"
      ]
     },
     "execution_count": 4,
     "metadata": {},
     "output_type": "execute_result"
    },
    {
     "data": {
      "image/png": "[encoded data removed]",
      "text/plain": [
       "<Figure size 432x288 with 1 Axes>"
      ]
     },
     "metadata": {
      "filenames": {
       "image/png": "/Volumes/GoogleDrive/My Drive/Lectures/StatMech_Chem563/Statmech4ChemBio/_build/jupyter_execute/2_thermo/01_Thermo_31_1.png"
      },
      "needs_background": "light"
     },
     "output_type": "display_data"
    }
   ],
   "source": [
    "import matplotlib.pyplot as plt\n",
    "import numpy as np\n",
    "\n",
    "X = np.linspace(0,1,100)\n",
    "S = 0.086 * (1 - X)**(1./3) + 0.129 * (X**(1./3))\n",
    "\n",
    "plt.plot(X, S,'-o')\n",
    "\n",
    "plt.xlabel('X')\n",
    "plt.ylabel('S(X)')"
   ]
  },
  {
   "cell_type": "markdown",
   "metadata": {
    "slideshow": {
     "slide_type": "slide"
    }
   },
   "source": [
    "### Free Energies: Swapping extensive variables for intensive ones\n",
    "\n",
    "$$E(S,V,N) \\rightarrow A(T,V,N)$$\n",
    "\n",
    "$$E(S,V,N) \\rightarrow G(T,p,N)$$\n",
    "\n",
    "$$E(S,V,N) \\rightarrow \\Omega(T,p,\\mu)$$"
   ]
  },
  {
   "cell_type": "markdown",
   "metadata": {
    "slideshow": {
     "slide_type": "slide"
    }
   },
   "source": [
    "### Legendre Transform of convex functions. \n",
    "\n",
    "Genrally speaking legendre transform is transforming one convex function $f(x)$ into another $f^*(\\alpha)$. \n",
    "Morover, the transofmraiton is involutive, meaning it is its own inverse. If we apply legendre trnsform to a function if single variable twice we get back to orginal function! \n",
    "\n",
    "![](./figs/Legendre.png)\n",
    "\n",
    "\n",
    "$$f^*(\\alpha) = max_x  \\big [{\\alpha x - f(x)} \\big ]$$\n",
    "\n",
    "$$f(x) = max_{\\alpha} \\big [ {\\alpha x - f^*(\\alpha)} \\big ]$$"
   ]
  },
  {
   "cell_type": "markdown",
   "metadata": {
    "slideshow": {
     "slide_type": "slide"
    }
   },
   "source": [
    "#### Example of Legendre transform-1\n",
    "\n",
    "$$f(x) = x^2$$\n",
    "\n",
    "$$a = f'(x) =2x \\rightarrow x = a/2 $$\n",
    "\n",
    "$$g(\\alpha) = f^*(\\alpha) = max_x \\Big[ \\alpha x - f(x) \\Big ] = \\alpha^2/2 - \\alpha^2/4 = \\alpha^2/4$$"
   ]
  },
  {
   "cell_type": "code",
   "execution_count": 5,
   "metadata": {
    "slideshow": {
     "slide_type": "slide"
    }
   },
   "outputs": [],
   "source": [
    "f = lambda x: x**2\n",
    "\n",
    "g = lambda a: a*(a/2) - f(a/2)   # deriv f(x) = 2x = a ---> x = a/2"
   ]
  },
  {
   "cell_type": "code",
   "execution_count": 6,
   "metadata": {
    "slideshow": {
     "slide_type": "slide"
    }
   },
   "outputs": [
    {
     "data": {
      "application/vnd.jupyter.widget-view+json": {
       "model_id": "206d684231c5453997831ec30cef69d3",
       "version_major": 2,
       "version_minor": 0
      },
      "text/plain": [
       "interactive(children=(FloatSlider(value=1.0, description='a', max=2.0, step=0.2), Output()), _dom_classes=('wi…"
      ]
     },
     "metadata": {},
     "output_type": "display_data"
    }
   ],
   "source": [
    "@widgets.interact(a=(0,2,0.2))\n",
    "def legendre_transf(a):\n",
    "    \n",
    "    fig,ax =plt.subplots(nrows=1,ncols=2, figsize = (10,4))\n",
    "    \n",
    "    x = np.linspace(0,1,100)\n",
    "    ax[0].plot(x,f(x),lw=3) \n",
    "    ax[0].plot(x, a*x-g(a),'--')\n",
    "    \n",
    "    ax[0].set_title('$f(x) = x^2$')\n",
    "    ax[0].legend(['f(x)', f\"$y = ax-g(a)$ = {a}x -{g(a):.2f}\"])    \n",
    "    ax[0].set_xlim(0,1.2)\n",
    "    ax[0].set_ylim(0,1.2)\n",
    "    ax[0].set_xlabel('x',fontsize=20)\n",
    "    ax[0].set_ylabel('f(x)',fontsize=20)\n",
    "    ax[0].grid('on')\n",
    "    \n",
    "    ax[1].set_title('$g(a) = max_x [ax-f(x)]= a^2/2$')\n",
    "    ax[1].plot(a,g(a),'o',color='orange',ms=12)\n",
    "    ax[1].plot(np.linspace(0,2,10),g(np.linspace(0,2,10)),'-',lw=3, color='red')\n",
    "    ax[1].set_xlim(0,1.2)\n",
    "    ax[1].set_ylim(0,1.2)\n",
    "    ax[1].set_xlabel('a',fontsize=20)\n",
    "    ax[1].set_ylabel('g(a)',fontsize=20)\n",
    "    ax[1].grid('on') "
   ]
  },
  {
   "cell_type": "markdown",
   "metadata": {
    "slideshow": {
     "slide_type": "slide"
    }
   },
   "source": [
    "#### Example of Legendre transform-2\n",
    "\n",
    "$$f(x) = e^x$$\n",
    "\n",
    "$$a = f'(x) =e^x \\rightarrow x = log a$$\n",
    "\n",
    "$$g(\\alpha) = max_x \\Big[ \\alpha x - f(x) \\Big ] = a(log a-1)$$"
   ]
  },
  {
   "cell_type": "code",
   "execution_count": 7,
   "metadata": {
    "slideshow": {
     "slide_type": "slide"
    }
   },
   "outputs": [],
   "source": [
    "f2 = lambda x: np.exp(x)\n",
    "\n",
    "g2 = lambda a: a*np.log(a) - f2(np.log(a))   # deriv f(x) = e^x = a ---> x = log a"
   ]
  },
  {
   "cell_type": "code",
   "execution_count": 8,
   "metadata": {
    "slideshow": {
     "slide_type": "slide"
    }
   },
   "outputs": [
    {
     "data": {
      "application/vnd.jupyter.widget-view+json": {
       "model_id": "3d8f3f119f6f46c1a5ecd8d009e9b730",
       "version_major": 2,
       "version_minor": 0
      },
      "text/plain": [
       "interactive(children=(FloatSlider(value=2.0, description='a', max=3.0, min=1.0, step=0.2), Output()), _dom_cla…"
      ]
     },
     "metadata": {},
     "output_type": "display_data"
    }
   ],
   "source": [
    "@widgets.interact(a=(1,3,0.2))\n",
    "def legendre_transf(a):\n",
    "    \n",
    "    fig,ax =plt.subplots(nrows=1,ncols=2, figsize = (10,4))\n",
    "    \n",
    "    x = np.linspace(0,1,100)\n",
    "    ax[0].plot(x,f2(x),lw=3) \n",
    "    ax[0].plot(x, a*x-g2(a),'--')\n",
    "    \n",
    "    ax[0].set_title('$f(x) = x^2$')\n",
    "    ax[0].legend(['f(x)', f\"$y = ax-g(a)$ = {a:.2f}x-{g2(a):.2f}\"])    \n",
    "    ax[0].set_xlim(0,1.2)\n",
    "    ax[0].set_ylim(0,3)\n",
    "    ax[0].set_xlabel('x',fontsize=20)\n",
    "    ax[0].set_ylabel('f(x)',fontsize=20)\n",
    "    ax[0].grid('on')\n",
    "    \n",
    "    ax[1].set_title('$g(a) = max_x [ax-f(x)]= a(log a-1)$')\n",
    "    ax[1].plot(a,g(a),'o',color='orange',ms=12)\n",
    "    ax[1].plot(np.linspace(0,3,10),g(np.linspace(0,3,10)),'-',lw=3, color='red')\n",
    "    ax[1].set_xlim(0,3)\n",
    "    ax[1].set_ylim(0,3)\n",
    "    ax[1].set_xlabel('a',fontsize=20)\n",
    "    ax[1].set_ylabel('g(a)',fontsize=20)\n",
    "    ax[1].grid('on') "
   ]
  },
  {
   "cell_type": "markdown",
   "metadata": {},
   "source": [
    "### Legendre Transform numerically  (via numpy/scipy )"
   ]
  },
  {
   "cell_type": "code",
   "execution_count": 9,
   "metadata": {},
   "outputs": [],
   "source": [
    "def legendre_transf(f, a=1, guess_0=0):\n",
    "    \n",
    "    '''Legendre transform function f to g \n",
    "    \n",
    "    INPUT:\n",
    "    f <-- function\n",
    "    a <-- value of new variable\n",
    "    \n",
    "    OUTPUT:\n",
    "    g(a) = min_x[a*x-f(x)] legendre transform at point a\n",
    "    '''\n",
    "    \n",
    "    min_x, = sci.optimize.fmin(lambda x: f(x)-a*x, guess_0) \n",
    "            \n",
    "    return a*min_x - f(min_x)"
   ]
  },
  {
   "cell_type": "code",
   "execution_count": 10,
   "metadata": {},
   "outputs": [],
   "source": [
    "f = lambda x: x**2+x**4\n",
    "\n",
    "#g = [legendre_transf(f, a) for a in np.linspace(0,1,100)]"
   ]
  },
  {
   "cell_type": "markdown",
   "metadata": {},
   "source": [
    "### Problem-1\n",
    "\n",
    "1. Give an example of a process in which a system is not heated, but its temperature increases. Also give an example of a process in which a system is heated, but its temperature is unchanged.\n",
    " \n",
    "2. Which states are in an equilibrium state, a time dependent non-equilibrium state, or time independent but still non-equilibrium state (e.g steady stae). Explain your reasoning. In some cases, the state is not a true steady or equilibrium state but close to one. Discuss under what conditions it can be treated as a steady or equilibrium state. \n",
    "    - a cup of hot tea, sitting on the table while cooling down \n",
    "    - the wine in a bottle that is stored in a wine cellar \n",
    "    - the sun \n",
    "    - the atmosphere of the earth \n",
    "    - electrons in the wiring of a flashlight switched off \n",
    "    - electrons in the wiring of a flashlight switched on\n",
    "3. What is meant by a constraint in thermodynamics and why its removal must always lead to increase of entropy?\n",
    "4. What is meant by a quasi-static process in thermodynamics and how this idealization is used for computing changes in thermodynamic variables?\n",
    "5. What is the difference between fundemtnal equation in thermodyamics $S(E,V,N)=$ vs state equation $P(V,N,T)$ e.g like $PV=NRT$ for ideal gas. \n",
    "\n",
    "6. Why during a spotneous transofrmation of systems  entropy tend to its maximum value. This is the reason why we use entropy maximization as a powerful tool to predict the final equilibrium states. \n",
    "\n",
    "7. Why do we introduce Free energies of various kinds? Explain why free energy minimization is equivalent of total entropy maximization. \n",
    "\n",
    "8. Can part of the entropy of a part of a total system decrease? Give some exmaples. \n",
    "\n",
    "9. Does the change of the entropy depend on the path between two equilibrium states?\n",
    "\n",
    "10. How is adiabatic process different from quasistatic and reversible process?  \n",
    "\n"
   ]
  },
  {
   "cell_type": "markdown",
   "metadata": {},
   "source": [
    "### Problem-2: Expansion of a gas into vacuum\n",
    "\n",
    "\n",
    "-  Suppose that a gas expands adiabatically into a vacuum. What is the work done by the gas?\n",
    "-  Suppose that the total energy of the gas is given by \n",
    "\n",
    "$$E = 3/2NkT −N^2 V/a$$\n",
    "\n",
    " Initially the gas occupies a volume $V_1$ at a temperature $T_1$. The gas then expands adiabatically into a vacuum so that it occupies a total volume $V_2$. What is the final temperature $T_2$ of the gas?"
   ]
  },
  {
   "cell_type": "markdown",
   "metadata": {},
   "source": [
    "### Problem-3: Entropy changes\n",
    "\n",
    "1. kg of water (specific heat = 4.2 kJ/(kg·K)) at $0 ^oC$ is in contact with a $50 ^oC$ heat bath, and eventually reaches $50 ^oC$. What is the entropy change of the water? What is the increase of the entropy of this water plus the heat bath?\n",
    "\n",
    "2. Instead of (1) first the water at $0 ^oC$ is in contact with a $25 ^oC$ heat bath. Then, after reaching thermal equilibrium, the water is in contact with a $50 ^oC$ heat bath to reach the final temperature $50 ^oC$ as in (1). What is the increase of the entropy of the water plus the two heat baths?\n",
    "\n",
    "3. Show that in the two-step heating process whatever the first heat bath temperature T is between $0^oC$ and $50^oC$, the total change of entropy of the water plus heat baths is less than the case of (1)"
   ]
  },
  {
   "cell_type": "markdown",
   "metadata": {},
   "source": [
    "### Problem-4: Legendre transforms\n",
    "\n",
    "Carry out the following transformations and plot the resulting function with matploltib. \n",
    "\n",
    "- From $f(x) = x^2+x^4$ to $g(a)$ \n",
    "\n",
    "- From $f(x,y,z) = x^2+y^4+logz$ to $g(a,b,c)$\n",
    "\n",
    "- From $G(T,p,N)$ to $A(S,p,N)$\n",
    "\n",
    "- From $\\Omega(T,p,\\mu)$ to $E(S,V,N)$\n",
    "\n",
    "\n"
   ]
  },
  {
   "cell_type": "markdown",
   "metadata": {},
   "source": [
    "### Problem-5: manipulate derivatives\n",
    "\n",
    "Derive the following identities: \n",
    "\n",
    "- $$\\Big( \\frac{\\partial C_p}{\\partial P} \\Big)_T = - T \\Big( \\frac{\\partial^2 V}{\\partial T^2} \\Big)_P$$\n",
    "\n",
    "- $$\\Big( \\frac{\\partial C_v}{\\partial V} \\Big)_T =  T \\Big( \\frac{\\partial^2 P}{\\partial T^2} \\Big)_V$$\n"
   ]
  },
  {
   "cell_type": "code",
   "execution_count": null,
   "metadata": {},
   "outputs": [],
   "source": []
  }
 ],
 "metadata": {
  "kernelspec": {
   "display_name": "Python 3",
   "language": "python",
   "name": "python3"
  },
  "language_info": {
   "codemirror_mode": {
    "name": "ipython",
    "version": 3
   },
   "file_extension": ".py",
   "mimetype": "text/x-python",
   "name": "python",
   "nbconvert_exporter": "python",
   "pygments_lexer": "ipython3",
   "version": "3.8.8"
  },
  "livereveal": {
   "theme": "sky"
  },
  "toc-autonumbering": false,
  "toc-showcode": false,
  "toc-showmarkdowntxt": false,
  "widgets": {
   "application/vnd.jupyter.widget-state+json": {
    "state": {
     "1aa86514f3a94a4a9c7741adc6aa2025": {
      "model_module": "@jupyter-widgets/output",
      "model_module_version": "1.0.0",
      "model_name": "OutputModel",
      "state": {
       "_dom_classes": [],
       "_model_module": "@jupyter-widgets/output",
       "_model_module_version": "1.0.0",
       "_model_name": "OutputModel",
       "_view_count": null,
       "_view_module": "@jupyter-widgets/output",
       "_view_module_version": "1.0.0",
       "_view_name": "OutputView",
       "layout": "IPY_MODEL_8ea3eaf0959f43a19d626718b41834f8",
       "msg_id": "",
       "outputs": [
        {
         "data": {
          "image/png": "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\n",
          "text/plain": "<Figure size 720x288 with 2 Axes>"
         },
         "metadata": {
          "needs_background": "light"
         },
         "output_type": "display_data"
        }
       ]
      }
     },
     "2037fe4d5a8543089e8dc4116d541540": {
      "model_module": "@jupyter-widgets/output",
      "model_module_version": "1.0.0",
      "model_name": "OutputModel",
      "state": {
       "_dom_classes": [],
       "_model_module": "@jupyter-widgets/output",
       "_model_module_version": "1.0.0",
       "_model_name": "OutputModel",
       "_view_count": null,
       "_view_module": "@jupyter-widgets/output",
       "_view_module_version": "1.0.0",
       "_view_name": "OutputView",
       "layout": "IPY_MODEL_78636197075549aba7160dc35ba878cd",
       "msg_id": "",
       "outputs": [
        {
         "data": {
          "image/png": "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\n",
          "text/plain": "<Figure size 720x288 with 2 Axes>"
         },
         "metadata": {
          "needs_background": "light"
         },
         "output_type": "display_data"
        }
       ]
      }
     },
     "206d684231c5453997831ec30cef69d3": {
      "model_module": "@jupyter-widgets/controls",
      "model_module_version": "1.5.0",
      "model_name": "VBoxModel",
      "state": {
       "_dom_classes": [
        "widget-interact"
       ],
       "_model_module": "@jupyter-widgets/controls",
       "_model_module_version": "1.5.0",
       "_model_name": "VBoxModel",
       "_view_count": null,
       "_view_module": "@jupyter-widgets/controls",
       "_view_module_version": "1.5.0",
       "_view_name": "VBoxView",
       "box_style": "",
       "children": [
        "IPY_MODEL_482d5d29639a4ad597ffe58d92c704b3",
        "IPY_MODEL_2037fe4d5a8543089e8dc4116d541540"
       ],
       "layout": "IPY_MODEL_af879f68fd2b43d0adf80a40a0dea0de"
      }
     },
     "37724de83a864d1eb632e5408fa44a2e": {
      "model_module": "@jupyter-widgets/base",
      "model_module_version": "1.2.0",
      "model_name": "LayoutModel",
      "state": {
       "_model_module": "@jupyter-widgets/base",
       "_model_module_version": "1.2.0",
       "_model_name": "LayoutModel",
       "_view_count": null,
       "_view_module": "@jupyter-widgets/base",
       "_view_module_version": "1.2.0",
       "_view_name": "LayoutView",
       "align_content": null,
       "align_items": null,
       "align_self": null,
       "border": null,
       "bottom": null,
       "display": null,
       "flex": null,
       "flex_flow": null,
       "grid_area": null,
       "grid_auto_columns": null,
       "grid_auto_flow": null,
       "grid_auto_rows": null,
       "grid_column": null,
       "grid_gap": null,
       "grid_row": null,
       "grid_template_areas": null,
       "grid_template_columns": null,
       "grid_template_rows": null,
       "height": null,
       "justify_content": null,
       "justify_items": null,
       "left": null,
       "margin": null,
       "max_height": null,
       "max_width": null,
       "min_height": null,
       "min_width": null,
       "object_fit": null,
       "object_position": null,
       "order": null,
       "overflow": null,
       "overflow_x": null,
       "overflow_y": null,
       "padding": null,
       "right": null,
       "top": null,
       "visibility": null,
       "width": null
      }
     },
     "3d8f3f119f6f46c1a5ecd8d009e9b730": {
      "model_module": "@jupyter-widgets/controls",
      "model_module_version": "1.5.0",
      "model_name": "VBoxModel",
      "state": {
       "_dom_classes": [
        "widget-interact"
       ],
       "_model_module": "@jupyter-widgets/controls",
       "_model_module_version": "1.5.0",
       "_model_name": "VBoxModel",
       "_view_count": null,
       "_view_module": "@jupyter-widgets/controls",
       "_view_module_version": "1.5.0",
       "_view_name": "VBoxView",
       "box_style": "",
       "children": [
        "IPY_MODEL_d37e0fb932964bdf8d5392e397e1bafd",
        "IPY_MODEL_1aa86514f3a94a4a9c7741adc6aa2025"
       ],
       "layout": "IPY_MODEL_9cfc27580a574175a97b46957b9abb4c"
      }
     },
     "482d5d29639a4ad597ffe58d92c704b3": {
      "model_module": "@jupyter-widgets/controls",
      "model_module_version": "1.5.0",
      "model_name": "FloatSliderModel",
      "state": {
       "_dom_classes": [],
       "_model_module": "@jupyter-widgets/controls",
       "_model_module_version": "1.5.0",
       "_model_name": "FloatSliderModel",
       "_view_count": null,
       "_view_module": "@jupyter-widgets/controls",
       "_view_module_version": "1.5.0",
       "_view_name": "FloatSliderView",
       "continuous_update": true,
       "description": "a",
       "description_tooltip": null,
       "disabled": false,
       "layout": "IPY_MODEL_37724de83a864d1eb632e5408fa44a2e",
       "max": 2.0,
       "min": 0.0,
       "orientation": "horizontal",
       "readout": true,
       "readout_format": ".2f",
       "step": 0.2,
       "style": "IPY_MODEL_d5c0653351554654b9b3bd403ea660a3",
       "value": 1.0
      }
     },
     "4e7dfa026fac49638bed9202d2b50a51": {
      "model_module": "@jupyter-widgets/controls",
      "model_module_version": "1.5.0",
      "model_name": "SliderStyleModel",
      "state": {
       "_model_module": "@jupyter-widgets/controls",
       "_model_module_version": "1.5.0",
       "_model_name": "SliderStyleModel",
       "_view_count": null,
       "_view_module": "@jupyter-widgets/base",
       "_view_module_version": "1.2.0",
       "_view_name": "StyleView",
       "description_width": "",
       "handle_color": null
      }
     },
     "6246f00925f34b288cc7232242b8cadd": {
      "model_module": "@jupyter-widgets/base",
      "model_module_version": "1.2.0",
      "model_name": "LayoutModel",
      "state": {
       "_model_module": "@jupyter-widgets/base",
       "_model_module_version": "1.2.0",
       "_model_name": "LayoutModel",
       "_view_count": null,
       "_view_module": "@jupyter-widgets/base",
       "_view_module_version": "1.2.0",
       "_view_name": "LayoutView",
       "align_content": null,
       "align_items": null,
       "align_self": null,
       "border": null,
       "bottom": null,
       "display": null,
       "flex": null,
       "flex_flow": null,
       "grid_area": null,
       "grid_auto_columns": null,
       "grid_auto_flow": null,
       "grid_auto_rows": null,
       "grid_column": null,
       "grid_gap": null,
       "grid_row": null,
       "grid_template_areas": null,
       "grid_template_columns": null,
       "grid_template_rows": null,
       "height": null,
       "justify_content": null,
       "justify_items": null,
       "left": null,
       "margin": null,
       "max_height": null,
       "max_width": null,
       "min_height": null,
       "min_width": null,
       "object_fit": null,
       "object_position": null,
       "order": null,
       "overflow": null,
       "overflow_x": null,
       "overflow_y": null,
       "padding": null,
       "right": null,
       "top": null,
       "visibility": null,
       "width": null
      }
     },
     "78636197075549aba7160dc35ba878cd": {
      "model_module": "@jupyter-widgets/base",
      "model_module_version": "1.2.0",
      "model_name": "LayoutModel",
      "state": {
       "_model_module": "@jupyter-widgets/base",
       "_model_module_version": "1.2.0",
       "_model_name": "LayoutModel",
       "_view_count": null,
       "_view_module": "@jupyter-widgets/base",
       "_view_module_version": "1.2.0",
       "_view_name": "LayoutView",
       "align_content": null,
       "align_items": null,
       "align_self": null,
       "border": null,
       "bottom": null,
       "display": null,
       "flex": null,
       "flex_flow": null,
       "grid_area": null,
       "grid_auto_columns": null,
       "grid_auto_flow": null,
       "grid_auto_rows": null,
       "grid_column": null,
       "grid_gap": null,
       "grid_row": null,
       "grid_template_areas": null,
       "grid_template_columns": null,
       "grid_template_rows": null,
       "height": null,
       "justify_content": null,
       "justify_items": null,
       "left": null,
       "margin": null,
       "max_height": null,
       "max_width": null,
       "min_height": null,
       "min_width": null,
       "object_fit": null,
       "object_position": null,
       "order": null,
       "overflow": null,
       "overflow_x": null,
       "overflow_y": null,
       "padding": null,
       "right": null,
       "top": null,
       "visibility": null,
       "width": null
      }
     },
     "8ea3eaf0959f43a19d626718b41834f8": {
      "model_module": "@jupyter-widgets/base",
      "model_module_version": "1.2.0",
      "model_name": "LayoutModel",
      "state": {
       "_model_module": "@jupyter-widgets/base",
       "_model_module_version": "1.2.0",
       "_model_name": "LayoutModel",
       "_view_count": null,
       "_view_module": "@jupyter-widgets/base",
       "_view_module_version": "1.2.0",
       "_view_name": "LayoutView",
       "align_content": null,
       "align_items": null,
       "align_self": null,
       "border": null,
       "bottom": null,
       "display": null,
       "flex": null,
       "flex_flow": null,
       "grid_area": null,
       "grid_auto_columns": null,
       "grid_auto_flow": null,
       "grid_auto_rows": null,
       "grid_column": null,
       "grid_gap": null,
       "grid_row": null,
       "grid_template_areas": null,
       "grid_template_columns": null,
       "grid_template_rows": null,
       "height": null,
       "justify_content": null,
       "justify_items": null,
       "left": null,
       "margin": null,
       "max_height": null,
       "max_width": null,
       "min_height": null,
       "min_width": null,
       "object_fit": null,
       "object_position": null,
       "order": null,
       "overflow": null,
       "overflow_x": null,
       "overflow_y": null,
       "padding": null,
       "right": null,
       "top": null,
       "visibility": null,
       "width": null
      }
     },
     "9cfc27580a574175a97b46957b9abb4c": {
      "model_module": "@jupyter-widgets/base",
      "model_module_version": "1.2.0",
      "model_name": "LayoutModel",
      "state": {
       "_model_module": "@jupyter-widgets/base",
       "_model_module_version": "1.2.0",
       "_model_name": "LayoutModel",
       "_view_count": null,
       "_view_module": "@jupyter-widgets/base",
       "_view_module_version": "1.2.0",
       "_view_name": "LayoutView",
       "align_content": null,
       "align_items": null,
       "align_self": null,
       "border": null,
       "bottom": null,
       "display": null,
       "flex": null,
       "flex_flow": null,
       "grid_area": null,
       "grid_auto_columns": null,
       "grid_auto_flow": null,
       "grid_auto_rows": null,
       "grid_column": null,
       "grid_gap": null,
       "grid_row": null,
       "grid_template_areas": null,
       "grid_template_columns": null,
       "grid_template_rows": null,
       "height": null,
       "justify_content": null,
       "justify_items": null,
       "left": null,
       "margin": null,
       "max_height": null,
       "max_width": null,
       "min_height": null,
       "min_width": null,
       "object_fit": null,
       "object_position": null,
       "order": null,
       "overflow": null,
       "overflow_x": null,
       "overflow_y": null,
       "padding": null,
       "right": null,
       "top": null,
       "visibility": null,
       "width": null
      }
     },
     "af879f68fd2b43d0adf80a40a0dea0de": {
      "model_module": "@jupyter-widgets/base",
      "model_module_version": "1.2.0",
      "model_name": "LayoutModel",
      "state": {
       "_model_module": "@jupyter-widgets/base",
       "_model_module_version": "1.2.0",
       "_model_name": "LayoutModel",
       "_view_count": null,
       "_view_module": "@jupyter-widgets/base",
       "_view_module_version": "1.2.0",
       "_view_name": "LayoutView",
       "align_content": null,
       "align_items": null,
       "align_self": null,
       "border": null,
       "bottom": null,
       "display": null,
       "flex": null,
       "flex_flow": null,
       "grid_area": null,
       "grid_auto_columns": null,
       "grid_auto_flow": null,
       "grid_auto_rows": null,
       "grid_column": null,
       "grid_gap": null,
       "grid_row": null,
       "grid_template_areas": null,
       "grid_template_columns": null,
       "grid_template_rows": null,
       "height": null,
       "justify_content": null,
       "justify_items": null,
       "left": null,
       "margin": null,
       "max_height": null,
       "max_width": null,
       "min_height": null,
       "min_width": null,
       "object_fit": null,
       "object_position": null,
       "order": null,
       "overflow": null,
       "overflow_x": null,
       "overflow_y": null,
       "padding": null,
       "right": null,
       "top": null,
       "visibility": null,
       "width": null
      }
     },
     "d37e0fb932964bdf8d5392e397e1bafd": {
      "model_module": "@jupyter-widgets/controls",
      "model_module_version": "1.5.0",
      "model_name": "FloatSliderModel",
      "state": {
       "_dom_classes": [],
       "_model_module": "@jupyter-widgets/controls",
       "_model_module_version": "1.5.0",
       "_model_name": "FloatSliderModel",
       "_view_count": null,
       "_view_module": "@jupyter-widgets/controls",
       "_view_module_version": "1.5.0",
       "_view_name": "FloatSliderView",
       "continuous_update": true,
       "description": "a",
       "description_tooltip": null,
       "disabled": false,
       "layout": "IPY_MODEL_6246f00925f34b288cc7232242b8cadd",
       "max": 3.0,
       "min": 1.0,
       "orientation": "horizontal",
       "readout": true,
       "readout_format": ".2f",
       "step": 0.2,
       "style": "IPY_MODEL_4e7dfa026fac49638bed9202d2b50a51",
       "value": 2.0
      }
     },
     "d5c0653351554654b9b3bd403ea660a3": {
      "model_module": "@jupyter-widgets/controls",
      "model_module_version": "1.5.0",
      "model_name": "SliderStyleModel",
      "state": {
       "_model_module": "@jupyter-widgets/controls",
       "_model_module_version": "1.5.0",
       "_model_name": "SliderStyleModel",
       "_view_count": null,
       "_view_module": "@jupyter-widgets/base",
       "_view_module_version": "1.2.0",
       "_view_name": "StyleView",
       "description_width": "",
       "handle_color": null
      }
     }
    },
    "version_major": 2,
    "version_minor": 0
   }
  }
 },
 "nbformat": 4,
 "nbformat_minor": 4
}