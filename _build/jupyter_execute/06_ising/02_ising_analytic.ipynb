{
 "cells": [
  {
   "cell_type": "markdown",
   "metadata": {
    "id": "JYnR-r60FT1A"
   },
   "source": [
    "# Phase transitions through the lense of Ising models "
   ]
  },
  {
   "cell_type": "markdown",
   "metadata": {
    "id": "0-QOtWwYFT1F"
   },
   "source": [
    "![](./figs/spont-mag.png)"
   ]
  },
  {
   "cell_type": "markdown",
   "metadata": {
    "id": "wDPYPJ49FT1G"
   },
   "source": [
    "### A. bit of history: Ising model and phase transitions\n",
    "\n",
    "**1895 Pierre Curie in his doctoral thesis studies types of magnetism, discovers**\n",
    "- The effect of temperature\n",
    "- A phase transition happening at the Curie point\n",
    "- The phenomenon occurs at the atomic scale\n",
    "\n",
    "![](./figs/Curie.png)"
   ]
  },
  {
   "cell_type": "markdown",
   "metadata": {
    "id": "dU0bWF25FT1G"
   },
   "source": [
    "**1920 Lenz introduces a lattice model for ferromagnetism** \n",
    "\n",
    "- Lenz argued that “atoms are dipoles which turn over between two positions”:\n",
    "- in a quantum-theoretical treatment they would by and large occupy two distinct positions."
   ]
  },
  {
   "cell_type": "markdown",
   "metadata": {
    "id": "5unvfVfiFT1G"
   },
   "source": [
    "**1920 Lenz suggests a project to his PhD student who comes up with a 1D model of spin lattice**\n",
    "\n",
    "- Each square represents spin state either +1 or -1\n",
    "- Only nearest-neighbouring spins interact"
   ]
  },
  {
   "cell_type": "markdown",
   "metadata": {
    "id": "vhlqg564FT1H"
   },
   "source": [
    "**1924 Ernst Ising PhD thesis. Conlcusion: No phase transition!?**\n",
    "\n",
    "- Ising finds no phase transition in dimension 1\n",
    "\n",
    "- Dismisses the models as too simplistic and mathemtical. **Wrongly concluded that there is\n",
    "no phase transition in all dimensions.**\n",
    "\n",
    "- Leaves science to teach college physics.\n",
    "\n",
    "- The paper was widely discussed (Pauli, Heisenberg, Dirac, …) with a consensus that it is oversimplified. "
   ]
  },
  {
   "cell_type": "markdown",
   "metadata": {
    "id": "xkEgTJWAFT1H"
   },
   "source": [
    "**1936 Rudolf Peierels: Unexpectedly proves that in dimension 2 the Lenz-Ising model undergoes a phase transition!!!**\n",
    "\n",
    "- reignites the interest in Ising models\n",
    "\n",
    "- His perhaps more influential work: 1940 memorandum with Otto Frisch often credited with starting the Manhattan project\n",
    "\n",
    "![](./figs/critical-ising.png)"
   ]
  },
  {
   "cell_type": "markdown",
   "metadata": {
    "id": "HdF8FhfGFT1H"
   },
   "source": [
    "**1941 Kramers-Wannier calculate critical Temperature**"
   ]
  },
  {
   "cell_type": "markdown",
   "metadata": {
    "id": "4DbhozM3FT1H"
   },
   "source": [
    "**1944 Onsager solves 2D Ising model, analytically**\n",
    "\n",
    "- Widely regarded as one tour de force of theoretical physics.\n",
    "\n",
    "-  Partition function, magnetization and other quantities derived\n",
    "\n",
    "- Larse Onsager was trained as a chemists. Many other Chemists, most notably Ben Widom contributed to theory of phase transition."
   ]
  },
  {
   "cell_type": "markdown",
   "metadata": {
    "id": "Y3XerhADFT1H"
   },
   "source": [
    "**1944- Ising model becomes a household system for studying phase tranistions**\n",
    "\n",
    "- From 1944 widely studied in mathematical physics, with many results by different methods:\n",
    "- Regained prominence in physics, used in biology, chemistry, economics, computer science…"
   ]
  },
  {
   "cell_type": "markdown",
   "metadata": {
    "id": "rLxI8f4dFT1I"
   },
   "source": [
    "**1970s Renomralization Group (RG) theory is developed by Kenneth Wilson (Nobel Prize 1982)**\n",
    "\n",
    "- The Curie critical point is universal and hence translation, scale and rotation invariant.\n",
    "\n",
    "- Ideas of Renormalizeation, scale invariance, universality and coarse graining widely enter into statistical mechanics. "
   ]
  },
  {
   "cell_type": "markdown",
   "metadata": {
    "id": "Fl8oihGaFT1I"
   },
   "source": [
    "**1985 Conformal Field Theory**"
   ]
  },
  {
   "cell_type": "markdown",
   "metadata": {
    "id": "rOLMgvWAFT1I"
   },
   "source": [
    "## Ising models: The H atom of phase transitions\n",
    "\n",
    "\n",
    "\n",
    "$$\\boxed{H([s])= \\sum_{\\langle ij \\rangle} J_{ij}s_i s_j - \\mu B \\sum_i s_i}$$\n",
    "\n",
    "<br>\n",
    "\n",
    "\n",
    "$$\\boxed{Z=\\sum_{[s]}e^{-H([s])/k_B T}}$$"
   ]
  },
  {
   "cell_type": "markdown",
   "metadata": {
    "id": "WVqj3tzoFT1I"
   },
   "source": [
    "### 1st order vs 2nd order phjase transition\n",
    "\n",
    "![](./figs/1st_2nd_Ising.png)"
   ]
  },
  {
   "cell_type": "markdown",
   "metadata": {
    "id": "FoY-smExFT1I"
   },
   "source": [
    "### Analogy with fluid phase transitions\n",
    "\n",
    "![](./figs/fluid-analogy.png)"
   ]
  },
  {
   "cell_type": "markdown",
   "metadata": {
    "id": "Rx-ut91OFT1J"
   },
   "source": [
    "### Critical Phenomena: Correlation length diverges\n",
    "\n",
    "![](./figs/crit1.png)"
   ]
  },
  {
   "cell_type": "markdown",
   "metadata": {
    "id": "635tpO02FT1J"
   },
   "source": [
    "### Critical Phenomena: Universaility at critical points \n",
    "\n",
    "![](./figs/crit2.png)"
   ]
  },
  {
   "cell_type": "markdown",
   "metadata": {
    "id": "-npNmZyNFT1J"
   },
   "source": [
    "![](./figs/crit3.png)"
   ]
  },
  {
   "cell_type": "markdown",
   "metadata": {
    "id": "rvI4FHgYFT1J"
   },
   "source": [
    "![](./figs/crit4.png)"
   ]
  },
  {
   "cell_type": "markdown",
   "metadata": {
    "id": "j8tbxFMHFT1J"
   },
   "source": [
    "### Main extensive thermodynamic quantities, $E$ and $M$\n",
    "\n",
    "- **Energy of spin configuration [s]**\n",
    "\n",
    "$$H[s]= \\sum_{\\langle ij \\rangle} J_{ij}s_i s_j - \\mu B \\sum_i s_i$$. \n",
    "\n",
    "- **Energy per spin**\n",
    "\n",
    "$$\\epsilon = \\frac{E}{N}$$\n",
    "\n",
    "- **Total magnetization, $M$**  \n",
    "\n",
    "$$M=\\sum_is_i $$\n",
    "\n",
    "- **Magnetization per spin $m$** \n",
    "\n",
    "$$m=\\frac{1}{N}\\sum_is_i =\\frac{M}{N}$$"
   ]
  },
  {
   "cell_type": "markdown",
   "metadata": {
    "id": "1Y_I8M6eFT1J"
   },
   "source": [
    "### Fluctuations, correlations and susceptibilities\n",
    "\n",
    "- **Heat capacity $C_v$**\n",
    "\n",
    "Heat capacity is again the familiar expression established in our treatment of canonical ensemble. \n",
    "\n",
    "$$ C_v(T) = \\Big (\\frac{\\partial E}{\\partial T} \\Big )_V= \\frac{1}{k_B T^2} \\big(\\langle E^2 \\rangle-\\langle E \\rangle^2 \\big) $$\n",
    "\n",
    "\n",
    "- **Susceptibility $\\chi$**\n",
    "\n",
    "Magnetic susceptibility quantifies response of the ssytem to the variation of magnetic field.\n",
    "\n",
    "$$\\chi(T)=\\Big (\\frac{\\partial M}{\\partial B} \\Big )_T= \\frac{1}{k_B T} \\big(\\langle M^2 \\rangle-\\langle M \\rangle^2 \\big) $$\n",
    "\n",
    "- **Correlation function $c(i,j)$  and correlation length**\n",
    "\n",
    "At high temperatures, spins on an ising lattice point up and down randomly. While at low temperatures, all spins tend to align. To quantify the degree of alignment, we can define a quantity named correlation length $\\xi$, which can be defined mathematically through correlation function $c(i,j)$ \n",
    "\n",
    "$$c(i,j)=\\langle s_i-\\langle s_i\\rangle\\rangle \\langle s_j-\\langle s_j\\rangle\\rangle$$"
   ]
  },
  {
   "cell_type": "markdown",
   "metadata": {
    "id": "3CIbmcvfFT1K"
   },
   "source": [
    "### Parition function and Free energy \n",
    "\n",
    "\n",
    "$$Z=\\sum_{[s]}e^{-\\beta H([s])}=\\sum_{[s]}e^{-\\beta \\big ( \\sum_{\\langle ij \\rangle} J_{ij}s_i s_j - \\mu B M \\big )}$$\n",
    "\n",
    "<br><br>\n",
    "\n",
    "$$F=-\\beta^{-1} log Z $$"
   ]
  },
  {
   "cell_type": "markdown",
   "metadata": {
    "id": "ysKsOaUoFT1K"
   },
   "source": [
    "- **Free energy as a function of M (Potential of mean force)**\n",
    "\n",
    "<br>\n",
    "\n",
    "$$Z(M) = \\sum_{[s]} e^{-\\beta H([s])} \\delta (M-M([s]))$$\n",
    "\n",
    "$$F(M)=-\\beta^{-1} log Z(M)$$\n",
    "\n",
    "The  Z(M) is a partial sum over states for which magnetization is equal to a particular value M as opposed to Z where summation is unrestricted. "
   ]
  },
  {
   "cell_type": "markdown",
   "metadata": {
    "id": "Pt49e88SFT1K"
   },
   "source": [
    "### Some notable applications of Ising models. More applications are found [here](https://en.wikipedia.org/wiki/Ising_model)\n",
    "\n",
    "1. **Ferromagnetism**\n",
    "The Ising model is the scalar version of the three-dimensional ‘Heisenberg model’ :\n",
    "<br>\n",
    "\n",
    "2. **Binary alloys and lattice gases**\n",
    "Each lattice site is occupied either by an atom A or B. Nearest neighbour interac- tions are $\\epsilon_{AA}$, $\\epsilon_{BB}$ and $\\epsilon_{AB}$. We identify $A$ with $s_i = 1$ and B with $S_i = −1$. The Hamiltonian then is:\n",
    "$H = − ∑ J_{ij}s_is_j \\langle i,j\\rangle$\n",
    "with $J_{ij} = \\epsilon_{AB} − 0.5(\\epsilon_{AA} + \\epsilon_{BB})$. Thus the Ising model describes order-disorder \n",
    "transitions in regard to composition.\n",
    "<br>\n",
    "\n",
    "3. **Spin glasses**\n",
    "now each bond is assigned an individual coupling constant J and they are drawn from a random distribution. E.g. one can mix ferromagnetic and anti-ferromagnetic couplings. This is an example for a structurally disordered system, on top of which we can have a thermal order-disorder transition.\n",
    "<br>\n",
    "\n",
    "4. **Conformations in biomolecules**\n",
    "a famous example is the helix-coil transition from biophysics. $s_i$ a hydrogen bond in a DNA-molecules is closed; $s_i$ = −1 the bond is open. The phase tran- sition is between a straight DNA-molecule (helix) and a coiled DNA-molecule. Other examples are the oxygen-binding sites in hemoglobin, chemotactic recep- tors in the receptor fields of bacteria, or the molecules building the bacterial flag- ellum, which undergos a conformational switch if the flagellum is rotated in the other direction (switch from run to tumble phases).\n",
    "<br>\n",
    "\n",
    "5. **Neural networks representing the brain**\n",
    "$s_i = 1$ a synapse is firing, $s_i = −1$ it is resting. The Hopfield model for neu- ral networks is a dynamic version of the Ising model and Boltzmann machines recognise handwriting by using the Ising model.\n",
    "<br>\n",
    "\n",
    "6. **Spread of opinions or diseases**\n",
    "Spread of opinions, rumours or diseases in a society; these kinds of models are used in socioeconomic physics. If nearest neighbour coupling is sufficiently strong, the system gets ‘infected’."
   ]
  },
  {
   "cell_type": "markdown",
   "metadata": {
    "id": "JkGLnursFT1L"
   },
   "source": [
    "## The [Peierls](https://en.wikipedia.org/wiki/Rudolf_Peierls) argument for presence/absence of phase transitions in  1D, 2D and 3D\n",
    "\n",
    "Starting around 1933, Peierls published scaling arguments why a phase transition should occur in 2D as opposed to 1D"
   ]
  },
  {
   "cell_type": "markdown",
   "metadata": {
    "id": "SGh-fRLBFT1L"
   },
   "source": [
    "### No phase transition in 1D at T>0\n",
    "1D case Start with 1D chain of all spin up configuration and create an isalnd of oposite spins. \n",
    "\n",
    "$$++++++++++++++++++++$$\n",
    "\n",
    "$$++++++{\\bf \\boxed{-}----\\boxed{-}}++++++++$$\n",
    "\n",
    "- Energy cost is:\n",
    "\n",
    "$$\\Delta E = 2 \\cdot 2J =4J $$\n",
    "\n",
    "- Entropy cost is:\n",
    "\n",
    "$$\\Delta S = k_B log \\frac{N(N-1)}{2} \\approx 2k_B log N $$\n",
    "\n",
    "- Free Energy differnece:\n",
    "\n",
    "$$\\Delta F = 4J - 2k_B T log N < 0 $$\n",
    "\n",
    "Thus free energy for $N\\gg1$ is always negative for any finite temperature. It is always favorable to create grain boundaries due to entropic reasons. <br> **Phase transition in 1D cannot occur at finite temperature!**"
   ]
  },
  {
   "cell_type": "markdown",
   "metadata": {
    "id": "wA3aAbOkFT1L"
   },
   "source": [
    "### Phase transition in 2D at $T>0$ realizable"
   ]
  },
  {
   "cell_type": "markdown",
   "metadata": {
    "id": "YdM5LCBBFT1L"
   },
   "source": [
    "In 2D and 3D introducing isalnd of spins creates a surface spins sproportional to linear size of the island L which is now a macroscopic quantitiy comparable to N\n",
    "\n",
    "- Energy cost is:\n",
    "\n",
    "$$\\Delta E = L \\cdot 2J$$\n",
    "\n",
    "- Entropy cost using a crude estimate of random walk on cubic lattice is:\n",
    "\n",
    "$$\\Delta S = k_B log 3^L = k_B L log 3$$\n",
    "\n",
    "- Free Energy differnece:\n",
    "\n",
    "$$\\Delta F = L (2J -2k_B T log 3)$$\n",
    "\n",
    "$$T > T_c = \\frac{2J}{k_Blog 3}$$"
   ]
  },
  {
   "cell_type": "markdown",
   "metadata": {
    "id": "HT1PA0hUFT1L"
   },
   "source": [
    "## Analytic solutions for 1D Ising model\n",
    "\n",
    "$$H = -\\sum_{\\langle ij \\rangle} J s_i s_i -B\\sum_i s_i$$\n",
    "\n",
    "$$\\beta H = -\\sum_{\\langle ij \\rangle} K s_i s_i - h \\sum_i s_i$$\n",
    "\n",
    "$$K = \\frac{J}{k_B T}\\,\\, , \\,\\, h = \\frac{B}{k_B T} $$"
   ]
  },
  {
   "cell_type": "markdown",
   "metadata": {
    "id": "svsr10jlFT1L"
   },
   "source": [
    "### Case-1: $h\\neq 0$ and $J=0$"
   ]
  },
  {
   "cell_type": "markdown",
   "metadata": {
    "id": "T5JBtlg4FT1M"
   },
   "source": [
    "$$Z = \\sum_{[s]} e^{h \\sum s_i } = \\sum_{[s]} \\prod^{N}_{i=1} e^{h  s_i } = \\prod^{N}_i Z_i = Z^N_i$$\n",
    "\n",
    "$$Z_i = \\sum_{s_i} e^{h s_i} =  e^{h}+e^{-h} = 2cosh(h)$$"
   ]
  },
  {
   "cell_type": "markdown",
   "metadata": {
    "id": "S2P1furpFT1M"
   },
   "source": [
    "$$ m = \\langle s_i \\rangle = \\frac{\\partial log Z_i}{\\partial h} =  \\frac{e^{h}-e^{-h}}{e^{h}+e^{-h}} =tanh(h)$$"
   ]
  },
  {
   "cell_type": "markdown",
   "metadata": {
    "id": "yQLNywgIFT1M"
   },
   "source": [
    "- **Free energy**\n",
    "\n",
    "$$F = -\\beta^{-1} log Z = -\\beta^{-1} N log \\Big[  2cosh(\\beta B)\\Big]$$\n",
    "\n",
    "\n",
    "- **Energy.** Obtained by ensemble average of Ising Hamiltonian. Which comes down as simply the average of single spin multipled by number of spins\n",
    "\n",
    "$$U = -N B\\langle s \\rangle = -N B \\cdot tanh(\\beta B)$$\n",
    "\n",
    "<br>\n",
    "\n",
    "- **Entropy** can be computed as $(U-F)/T$ or as $S=-\\frac{\\partial F}{\\partial T}$\n",
    "\n",
    "$$S = N k_B\\Big(-\\beta B \\cdot tanh(\\beta B) + log \\Big[  2cosh(\\beta B)\\Big] \\Big)$$\n",
    "\n",
    "\n",
    "- **Heat capacity** \n",
    "$$c = \\frac{1}{N}\\frac{\\partial U}{\\partial T} = k_B \\beta^2 B^2 sech^2 (\\beta B)$$\n",
    "\n",
    "We see that heat capacity goes to zero at both $T=0$ and $T=\\infty$"
   ]
  },
  {
   "cell_type": "code",
   "execution_count": 1,
   "metadata": {
    "executionInfo": {
     "elapsed": 502,
     "status": "ok",
     "timestamp": 1618860636619,
     "user": {
      "displayName": "Davit Potoyan",
      "photoUrl": "https://lh3.googleusercontent.com/a-/AOh14GiUdLXplMG8UEHwBVcNr7CDgo7SDIZxxozSCzi7xQ=s64",
      "userId": "16339487288737364945"
     },
     "user_tz": 300
    },
    "id": "BrCKiNrYFT1M"
   },
   "outputs": [],
   "source": [
    "import ipywidgets as widgets\n",
    "import matplotlib.pyplot as plt\n",
    "import numpy as np\n",
    "import scipy as sp"
   ]
  },
  {
   "cell_type": "code",
   "execution_count": 2,
   "metadata": {
    "colab": {
     "base_uri": "https://localhost:8080/",
     "height": 320,
     "referenced_widgets": [
      "c21cf9cbd106436fac9e256eb740d609",
      "eb1d5be38ae7406ab6a6593f18485a73",
      "652daf1562f24bb4be9e0ca91ec49cf6",
      "2d82ea5e6bdc46dc9db5f4195a980882",
      "295d1e6f10cb46b69fd66a084e7a931c",
      "2154074e8235485e8fba26f11d653569",
      "eba4d890bba847dda94fca453504e926"
     ]
    },
    "executionInfo": {
     "elapsed": 879,
     "status": "ok",
     "timestamp": 1618860657929,
     "user": {
      "displayName": "Davit Potoyan",
      "photoUrl": "https://lh3.googleusercontent.com/a-/AOh14GiUdLXplMG8UEHwBVcNr7CDgo7SDIZxxozSCzi7xQ=s64",
      "userId": "16339487288737364945"
     },
     "user_tz": 300
    },
    "id": "zRly6nfUFT1N",
    "outputId": "102b1b57-d4b1-417f-a5e7-033fbc379493"
   },
   "outputs": [
    {
     "data": {
      "application/vnd.jupyter.widget-view+json": {
       "model_id": "c000c15da6d64e4aa9af69cc0499432f",
       "version_major": 2,
       "version_minor": 0
      },
      "text/plain": [
       "interactive(children=(FloatSlider(value=1.0, description='kbT', max=10.0, min=0.1), Output()), _dom_classes=('…"
      ]
     },
     "metadata": {},
     "output_type": "display_data"
    }
   ],
   "source": [
    "@widgets.interact(kbT=(0.1,10))\n",
    "def mag1(kbT=1):\n",
    "    \n",
    "    x = np.linspace(-10,10,1000)\n",
    "    plt.plot(x, np.tanh(x/kbT), lw=3, label=f'$k_B T={kbT}$')\n",
    "    plt.xlabel('h, magnetic field',fontsize=16)\n",
    "    plt.ylabel('m, magnetization',fontsize=16)\n",
    "    plt.legend(fontsize=16)\n"
   ]
  },
  {
   "cell_type": "markdown",
   "metadata": {
    "id": "LRRvhwbaFT1N"
   },
   "source": [
    "### Case-2: $h= 0$ and $J\\neq 0$"
   ]
  },
  {
   "cell_type": "markdown",
   "metadata": {
    "id": "VFpZbjajFT1O"
   },
   "source": [
    "$$H = -J \\sum^{N-1}_{i=1} s_i s_{i+1}$$\n",
    "\n",
    "- We use free boundary conditions\n",
    "- Let $\\tau_1 =s_1$ and $\\tau_j =s_{j-1} s_j$ for $j\\geq 2$\n",
    "\n",
    "$$H = -J \\sum^{N}_{i=2} \\tau_i$$\n",
    "\n",
    "- There will be an overall factor of 2 in front of partition function becasue of summation over $\\tau_1$"
   ]
  },
  {
   "cell_type": "markdown",
   "metadata": {
    "id": "rVF9YNVsFT1O"
   },
   "source": [
    "$$Z = \\sum_{\\tau} \\prod^{N}_{j=1} e^{K \\tau_j} = 2 \\prod^{N}_{j=2} \\sum_{\\tau_j} e^{K \\tau_j} =2 \\prod^{N}_{j=2} Z_j$$\n",
    "\n",
    "$$Z_j = e^K +e^{-K} = 2cosh(K) =2cosh(\\beta J)$$\n",
    "\n",
    "$$Z =2Z^{N-1}_j = 2 (2 cosh(K))^{N-1} \\approx (2 cosh(K))^N$$\n",
    "\n",
    "$$F = -\\beta^{-1}logZ = -k_B T N log [2cosh(\\beta J)]$$ "
   ]
  },
  {
   "cell_type": "markdown",
   "metadata": {
    "id": "GfRnZxL0FT1O"
   },
   "source": [
    "### Case-3: $h \\neq$ and $J\\neq 0$ and Transfer Matrix technique"
   ]
  },
  {
   "cell_type": "markdown",
   "metadata": {
    "id": "UHOmGycdFT1O"
   },
   "source": [
    "$$H = -J \\sum^{N-1}_{i=1} s_i s_{i+1} - \\frac{B}{2} (s_j +s_{j+1})$$\n",
    "\n",
    "- We write hamiltonain in this symmetric form consisting of sums of $(s_j, s_{j+1})$ terms for presenting partiion function as product of terms. "
   ]
  },
  {
   "cell_type": "markdown",
   "metadata": {
    "id": "yBpkZVHoFT1O"
   },
   "source": [
    "$$Z = \\sum_{[s]}\\prod_j  e^{K s_j s_{j+1}+\\frac{1}{2}h(s_j+s_{J+1})} = \\sum_{[s]}\\prod_j T(s_j, s_{j+1})$$\n",
    "\n",
    "- Transfer matrix has been introduced: \n",
    "\n",
    "$$T(s_j, s_{j+1}) =  e^{K s_j s_{j+1}+\\frac{1}{2}h(s_j+s_{J+1})}$$\n",
    "\n",
    "$$T(s_j, s_{j+1}) = \\begin{pmatrix}\n",
    "e^{K+h} & e^{-K} \\\\\n",
    "e^{-K} & e^{K-h}\n",
    "\\end{pmatrix} $$\n",
    "\n",
    "While compared to previous examples partition function did not factor out into single particle contributions we nevertheless have factored the partition function as product of 2 by 2 matrices! "
   ]
  },
  {
   "cell_type": "markdown",
   "metadata": {
    "id": "K_HLxtiNFT1O"
   },
   "source": [
    "### Note the close connection of matrix technique applied to partion functions  with mathematical formalism of quantum mechanics! \n",
    "\n",
    "In quantum mecchanical notation $T_{j,j+1} = \\langle s_j | T | s_{j+1}\\rangle$ can be seen as an operator that propagates or transfers state from spin $j+1$ to spin state $j$. "
   ]
  },
  {
   "cell_type": "markdown",
   "metadata": {
    "id": "-k3PBPw5FT1O"
   },
   "source": [
    "$$Z = \\sum_{[s]}e^{-\\beta H} = \\sum_{s_1,s_2,...s_N}  \\langle s_1 | T | s_{2}\\rangle \\langle s_2 | T | s_{3}\\rangle ...\\langle s_{N-1} | T | s_{N}\\rangle$$\n",
    "\n",
    "$$Z  = \\sum_{s_1 = \\pm 1} \\langle s_1 | T^N | s_{1}\\rangle  = Tr(T^N)$$\n",
    "\n",
    "Trace of matrix is invariant to unitary trasnformation $U^{-1} T U =D$ which we can use to diagonalize the matrix $T$ which then allows to us to write the N product in terms of two diagonal elements:\n",
    "\n",
    "$$Z = \\lambda^N_1 +\\lambda^N_2$$"
   ]
  },
  {
   "cell_type": "markdown",
   "metadata": {
    "id": "tGAt9tbWFT1P"
   },
   "source": [
    "**Problem is reduced to diagonalizing the transfer matrix**\n",
    "\n",
    "$$det \\begin{pmatrix}\n",
    "e^{K+h}-\\lambda & e^{-K} \\\\\n",
    "e^{-K} & e^{K-h}-\\lambda\n",
    "\\end{pmatrix} =0 $$\n",
    "\n",
    "$$\\lambda_{1,2} = e^K \\big ( cosh(h) \\pm \\sqrt{cosh^2(h)-2e^{-2K}sinh(2K)}\\Big)$$\n",
    "\n",
    "- Thus we have arrived at an exact solution for the one dimension Ising model with external field:\n",
    "\n",
    "$$Z = \\lambda^N_1 +\\lambda^N_2 = \\lambda^N_1 \\Big(1+\\big (\\frac{\\lambda_2}{\\lambda_1}\\big)^N \\Big)\\rightarrow \\lambda^N_1$$"
   ]
  },
  {
   "cell_type": "markdown",
   "metadata": {
    "id": "KvenUiHKFT1P"
   },
   "source": [
    "**No phase transition at finite $T>0$ is posisble for 1D ising model as free energy remains analytic for T>0**\n",
    "\n",
    "$$F = -k_B T N log \\lambda_1 $$"
   ]
  }
 ],
 "metadata": {
  "colab": {
   "collapsed_sections": [],
   "name": "02_ising_analytic.ipynb",
   "provenance": []
  },
  "kernelspec": {
   "display_name": "Python 3",
   "language": "python",
   "name": "python3"
  },
  "language_info": {
   "codemirror_mode": {
    "name": "ipython",
    "version": 3
   },
   "file_extension": ".py",
   "mimetype": "text/x-python",
   "name": "python",
   "nbconvert_exporter": "python",
   "pygments_lexer": "ipython3",
   "version": "3.8.8"
  },
  "livereveal": {
   "theme": "sky"
  },
  "nteract": {
   "version": "0.21.0"
  },
  "toc": {
   "base_numbering": 1,
   "nav_menu": {},
   "number_sections": true,
   "sideBar": true,
   "skip_h1_title": false,
   "title_cell": "Table of Contents",
   "title_sidebar": "Contents",
   "toc_cell": false,
   "toc_position": {},
   "toc_section_display": true,
   "toc_window_display": false
  },
  "widgets": {
   "application/vnd.jupyter.widget-state+json": {
    "state": {
     "05865363a8304830b683c5816d350e07": {
      "model_module": "@jupyter-widgets/base",
      "model_module_version": "1.2.0",
      "model_name": "LayoutModel",
      "state": {
       "_model_module": "@jupyter-widgets/base",
       "_model_module_version": "1.2.0",
       "_model_name": "LayoutModel",
       "_view_count": null,
       "_view_module": "@jupyter-widgets/base",
       "_view_module_version": "1.2.0",
       "_view_name": "LayoutView",
       "align_content": null,
       "align_items": null,
       "align_self": null,
       "border": null,
       "bottom": null,
       "display": null,
       "flex": null,
       "flex_flow": null,
       "grid_area": null,
       "grid_auto_columns": null,
       "grid_auto_flow": null,
       "grid_auto_rows": null,
       "grid_column": null,
       "grid_gap": null,
       "grid_row": null,
       "grid_template_areas": null,
       "grid_template_columns": null,
       "grid_template_rows": null,
       "height": null,
       "justify_content": null,
       "justify_items": null,
       "left": null,
       "margin": null,
       "max_height": null,
       "max_width": null,
       "min_height": null,
       "min_width": null,
       "object_fit": null,
       "object_position": null,
       "order": null,
       "overflow": null,
       "overflow_x": null,
       "overflow_y": null,
       "padding": null,
       "right": null,
       "top": null,
       "visibility": null,
       "width": null
      }
     },
     "51af910f4f90478fa2e28d7bb102615e": {
      "model_module": "@jupyter-widgets/base",
      "model_module_version": "1.2.0",
      "model_name": "LayoutModel",
      "state": {
       "_model_module": "@jupyter-widgets/base",
       "_model_module_version": "1.2.0",
       "_model_name": "LayoutModel",
       "_view_count": null,
       "_view_module": "@jupyter-widgets/base",
       "_view_module_version": "1.2.0",
       "_view_name": "LayoutView",
       "align_content": null,
       "align_items": null,
       "align_self": null,
       "border": null,
       "bottom": null,
       "display": null,
       "flex": null,
       "flex_flow": null,
       "grid_area": null,
       "grid_auto_columns": null,
       "grid_auto_flow": null,
       "grid_auto_rows": null,
       "grid_column": null,
       "grid_gap": null,
       "grid_row": null,
       "grid_template_areas": null,
       "grid_template_columns": null,
       "grid_template_rows": null,
       "height": null,
       "justify_content": null,
       "justify_items": null,
       "left": null,
       "margin": null,
       "max_height": null,
       "max_width": null,
       "min_height": null,
       "min_width": null,
       "object_fit": null,
       "object_position": null,
       "order": null,
       "overflow": null,
       "overflow_x": null,
       "overflow_y": null,
       "padding": null,
       "right": null,
       "top": null,
       "visibility": null,
       "width": null
      }
     },
     "679b1a2ef7a348d9a9a210ce8d5ea611": {
      "model_module": "@jupyter-widgets/output",
      "model_module_version": "1.0.0",
      "model_name": "OutputModel",
      "state": {
       "_dom_classes": [],
       "_model_module": "@jupyter-widgets/output",
       "_model_module_version": "1.0.0",
       "_model_name": "OutputModel",
       "_view_count": null,
       "_view_module": "@jupyter-widgets/output",
       "_view_module_version": "1.0.0",
       "_view_name": "OutputView",
       "layout": "IPY_MODEL_98fb2ee1dc384d8b892948eb55dc71f8",
       "msg_id": "",
       "outputs": [
        {
         "data": {
          "image/png": "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\n",
          "text/plain": "<Figure size 432x288 with 1 Axes>"
         },
         "metadata": {
          "needs_background": "light"
         },
         "output_type": "display_data"
        }
       ]
      }
     },
     "7ad7ab1633e44f16b5e9d76e8e1ae3f3": {
      "model_module": "@jupyter-widgets/controls",
      "model_module_version": "1.5.0",
      "model_name": "FloatSliderModel",
      "state": {
       "_dom_classes": [],
       "_model_module": "@jupyter-widgets/controls",
       "_model_module_version": "1.5.0",
       "_model_name": "FloatSliderModel",
       "_view_count": null,
       "_view_module": "@jupyter-widgets/controls",
       "_view_module_version": "1.5.0",
       "_view_name": "FloatSliderView",
       "continuous_update": true,
       "description": "kbT",
       "description_tooltip": null,
       "disabled": false,
       "layout": "IPY_MODEL_05865363a8304830b683c5816d350e07",
       "max": 10.0,
       "min": 0.1,
       "orientation": "horizontal",
       "readout": true,
       "readout_format": ".2f",
       "step": 0.1,
       "style": "IPY_MODEL_ca29a569e5c6476bb1b917cd55bb6705",
       "value": 1.0
      }
     },
     "98fb2ee1dc384d8b892948eb55dc71f8": {
      "model_module": "@jupyter-widgets/base",
      "model_module_version": "1.2.0",
      "model_name": "LayoutModel",
      "state": {
       "_model_module": "@jupyter-widgets/base",
       "_model_module_version": "1.2.0",
       "_model_name": "LayoutModel",
       "_view_count": null,
       "_view_module": "@jupyter-widgets/base",
       "_view_module_version": "1.2.0",
       "_view_name": "LayoutView",
       "align_content": null,
       "align_items": null,
       "align_self": null,
       "border": null,
       "bottom": null,
       "display": null,
       "flex": null,
       "flex_flow": null,
       "grid_area": null,
       "grid_auto_columns": null,
       "grid_auto_flow": null,
       "grid_auto_rows": null,
       "grid_column": null,
       "grid_gap": null,
       "grid_row": null,
       "grid_template_areas": null,
       "grid_template_columns": null,
       "grid_template_rows": null,
       "height": null,
       "justify_content": null,
       "justify_items": null,
       "left": null,
       "margin": null,
       "max_height": null,
       "max_width": null,
       "min_height": null,
       "min_width": null,
       "object_fit": null,
       "object_position": null,
       "order": null,
       "overflow": null,
       "overflow_x": null,
       "overflow_y": null,
       "padding": null,
       "right": null,
       "top": null,
       "visibility": null,
       "width": null
      }
     },
     "c000c15da6d64e4aa9af69cc0499432f": {
      "model_module": "@jupyter-widgets/controls",
      "model_module_version": "1.5.0",
      "model_name": "VBoxModel",
      "state": {
       "_dom_classes": [
        "widget-interact"
       ],
       "_model_module": "@jupyter-widgets/controls",
       "_model_module_version": "1.5.0",
       "_model_name": "VBoxModel",
       "_view_count": null,
       "_view_module": "@jupyter-widgets/controls",
       "_view_module_version": "1.5.0",
       "_view_name": "VBoxView",
       "box_style": "",
       "children": [
        "IPY_MODEL_7ad7ab1633e44f16b5e9d76e8e1ae3f3",
        "IPY_MODEL_679b1a2ef7a348d9a9a210ce8d5ea611"
       ],
       "layout": "IPY_MODEL_51af910f4f90478fa2e28d7bb102615e"
      }
     },
     "ca29a569e5c6476bb1b917cd55bb6705": {
      "model_module": "@jupyter-widgets/controls",
      "model_module_version": "1.5.0",
      "model_name": "SliderStyleModel",
      "state": {
       "_model_module": "@jupyter-widgets/controls",
       "_model_module_version": "1.5.0",
       "_model_name": "SliderStyleModel",
       "_view_count": null,
       "_view_module": "@jupyter-widgets/base",
       "_view_module_version": "1.2.0",
       "_view_name": "StyleView",
       "description_width": "",
       "handle_color": null
      }
     }
    },
    "version_major": 2,
    "version_minor": 0
   }
  }
 },
 "nbformat": 4,
 "nbformat_minor": 0
}