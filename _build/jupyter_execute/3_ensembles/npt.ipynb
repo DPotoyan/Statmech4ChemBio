{
 "cells": [
  {
   "cell_type": "markdown",
   "metadata": {},
   "source": [
    "# NPT"
   ]
  },
  {
   "cell_type": "markdown",
   "metadata": {
    "slideshow": {
     "slide_type": "slide"
    }
   },
   "source": [
    "### Open systems \n",
    "![](./figs/bottleocean.jpg)"
   ]
  },
  {
   "cell_type": "markdown",
   "metadata": {
    "slideshow": {
     "slide_type": "slide"
    }
   },
   "source": [
    "$NVT \\rightarrow \\mu VT$ by releasing N=const constraint to get $\\mu=const$\n",
    "\n",
    "In the $\\mu VT$ ensemble, the system samples different number of particles $N$ consistent with $\\mu =const$ constraint imposed by putting system in contact with infinitely large chemostat.  \n",
    "\n",
    "$$E_{tot} = E_r + E_i$$\n",
    "\n",
    "$$N_{tot} = N_r + N_i$$\n",
    "\n",
    "\n",
    "$$\\Omega_{tot}(E_{tot}, N_{tot}) = \\sum_N \\sum_i \\Omega_r(E_{tot}-E_i, N_{tot}-N_i) \\cdot \\Omega(E_i, N_i)$$"
   ]
  },
  {
   "cell_type": "markdown",
   "metadata": {
    "slideshow": {
     "slide_type": "slide"
    }
   },
   "source": [
    "### $\\mu V T Ensemble$"
   ]
  },
  {
   "cell_type": "markdown",
   "metadata": {
    "slideshow": {
     "slide_type": "fragment"
    }
   },
   "source": [
    "Let us single out one micro-state $E_i, N$ of our system $\\Omega(E_i, N) =1$ and see what would be its probability in $\\mu VT$ ensemble.\n",
    "\n",
    "$$p(E_i, N_i) = \\frac{\\Omega_r(E_{tot}-E_i, N_{tot}-N_i)}{\\Omega_{tot} (E_{tot}, N_{tot})} = \\frac{e^{S_r(E_{tot}-E_i, N_{tot}-N_i)/k_B}}{e^{S_{tot}(E_{tot}, N_{tot})/k_B}}$$\n",
    "\n",
    "Where we have used use the microcanonical ensemble of **system+reservoir** to cast the problem in terms of probabilities of **the system**."
   ]
  },
  {
   "cell_type": "markdown",
   "metadata": {
    "slideshow": {
     "slide_type": "slide"
    }
   },
   "source": [
    "### Deriving probability distribution (complete analogy with NVT). \n",
    "\n",
    "A more revealing is the expansion around system's average energy $\\delta E = E-U \\sim O(N^{1/2})$  and average particle number  fluctuations  $\\delta N = N-\\bar{N} \\sim O(N^{1/2})$ around which are small:  \n",
    "\n",
    "**Entropy of reservoir**\n",
    "\n",
    "\n",
    "\n",
    "$$S_r(E_{tot}-E_i, N_{tot}-N) = S_r(E_{tot}-U + \\color{blue}{ [U-E_i]}, N_{tot}-\\bar{N} + \\color{green}{[\\bar{N}-N_i]})$$\n",
    "\n",
    "\n",
    "$$S_r(E_{tot}-U + \\color{blue}{ \\delta E}, N_{tot}-\\bar{N} + \\color{green}{\\delta N}) \\approx S_r(E_{tot}-U, N_{tot}-\\bar{N}) +\\frac{\\partial S_r(E, N)}{\\partial E} \\color{blue}{\\delta E} + \\frac{\\partial S_r(E, N)}{\\partial N} \\color{green}{\\delta N}$$\n",
    "\n",
    "$$ S_r =  S_r(E_{tot}-U, N_{tot}-\\bar{N}) + \\frac{1}{T}\\color{blue}{ \\delta E} - \\frac{\\mu}{T} \\color{green}{\\delta N}$$\n",
    "\n",
    "**Entropy of total system**\n",
    "\n",
    "Let us now use additivity of entropy of the combined syste+resoervioir in equilibrium: \n",
    "\n",
    "$$S_{tot}(E_{tot}, N_{tot}) = S_r(E_{tot}-U, N_{tot}-\\bar{N})+S(U, \\bar{N})$$\n",
    "\n",
    "\n",
    "Combining the expressions of total and reservoir entropies we get the probability distirbution of system's energy and particle numbers \n",
    "\n",
    "$$p(E_i, N_i) =\\frac{e^{S_r(E_{tot}-E_i, N_{tot}-N_i)/k_B}}{e^{S_{tot}(E_{tot}, N_{tot})/k_B}} = \\frac{e^{-\\beta E_i} e^{\\beta \\mu N}}{e^{-\\beta \\Psi}}$$"
   ]
  },
  {
   "cell_type": "markdown",
   "metadata": {
    "slideshow": {
     "slide_type": "slide"
    }
   },
   "source": [
    "**Grand-Canonical distribution**\n",
    "\n",
    "$$\\boxed{p(E_i, N_i) = \\frac{e^{-\\beta(E_i -\\mu N_i)}}{Z_G}}$$\n",
    "\n",
    "**Grand-Canonical Partiation Function**\n",
    "\n",
    "$$\\boxed{Z_G = \\sum_i E^{-\\beta (E_i-\\mu N_i)}}$$ \n",
    "\n",
    "**Free Energy** \n",
    "\n",
    "$$\\boxed{Z_G = e^{-{\\beta \\Psi}}}$$ \n",
    "\n",
    "$$\\boxed{\\Psi = -\\beta^{-1} log Z_G}$$"
   ]
  },
  {
   "cell_type": "markdown",
   "metadata": {
    "slideshow": {
     "slide_type": "slide"
    }
   },
   "source": [
    "### Connections with $NVE$ and $NVT$"
   ]
  },
  {
   "cell_type": "markdown",
   "metadata": {
    "slideshow": {
     "slide_type": "slide"
    }
   },
   "source": [
    "**Grand canonical partition function**\n",
    "\n",
    "$$Z_G = \\sum^{N=\\infty}_{N=0} \\Big [ \\sum_i e^{-\\beta E_i}  \\Big ]e^{\\beta \\mu N} = \\sum^{N=\\infty}_{N=0} Z(N,V,T)e^{\\beta \\mu N}$$\n",
    "\n",
    "Hence why we call partition function **Grand canononical** as it is expresed as exponentially  weighted (by $e^{\\beta \\mu N}$) summation of canonical parition functions over all values of N. \n",
    "\n",
    "**Laplace and Legendre transform connection with NVE and NVT**\n",
    "\n",
    "$$\\boxed{p(E,N) = \\frac{1}{Z_G} \\Omega(E,N) e^{-\\beta(E-\\mu N)} = \\frac{1}{Z_G} e^{-\\beta \\Psi(T,V,\\mu))}}$$\n",
    "\n",
    "$$\\boxed{\\Psi(T,V, \\mu) = E- TS -\\mu N}$$\n",
    "\n",
    "The free energy in grand canonical parition function is obtained by legendre transforming microcanonical ensemble over conjugate variables: $(S, T)$ and $(N, \\mu)$.\n",
    "\n",
    "**Using Euler's relation**\n",
    "\n",
    "$$\\boxed{\\Psi(T,V, \\mu) = -PV}$$"
   ]
  },
  {
   "cell_type": "markdown",
   "metadata": {
    "slideshow": {
     "slide_type": "slide"
    }
   },
   "source": [
    "### Grand-canonical potential"
   ]
  },
  {
   "cell_type": "markdown",
   "metadata": {
    "slideshow": {
     "slide_type": "fragment"
    }
   },
   "source": [
    "**Recall Gibbs equation of thermodynamics**\n",
    "\n",
    "$$dE = TdS -pdV +\\mu dN$$\n",
    "\n",
    "**Free energy minimization with $(T,V, \\mu)$**\n",
    "\n",
    "Using Gibbs-Duhem we get the connection with the rest of the intensive variable changes\n",
    "\n",
    "$$\\boxed{d\\Psi(\\mu, V, T) = -SdT -p dV -Nd \\mu}$$\n",
    "\n",
    "For constant temperature and chemical potential we have a simple connection with pressure and volume\n",
    "\n",
    "$$\\boxed{d\\Psi_{\\mu, T} = d (E-TS-\\mu N) = -pdV}$$\n",
    "\n",
    "\n",
    "**Equations of state**\n",
    "\n",
    "- $$S = -\\frac{\\partial \\Psi}{\\partial T}$$\n",
    "\n",
    "- $$p = -\\frac{\\partial \\Psi}{\\partial V}$$\n",
    "\n",
    "- $$N = -\\frac{\\partial \\Psi}{\\partial \\mu}$$"
   ]
  },
  {
   "cell_type": "markdown",
   "metadata": {
    "slideshow": {
     "slide_type": "slide"
    }
   },
   "source": [
    "### Fluctuations\n",
    "\n",
    "$$\\langle N \\rangle  = \\sum_i p_i N_i = \\frac{\\partial log Z_G}{\\partial (\\beta \\mu)}$$\n",
    "\n",
    "$$\\sigma^2_N =\\langle N^2\\rangle - \\langle N \\rangle^2 = \\frac{\\partial^2 log Z_G}{\\partial (\\beta \\mu)^2} = \\frac{\\partial \\langle N \\rangle}{\\partial (\\beta \\mu)}$$\n",
    "\n",
    "$$\\sigma^2_N = \\frac{N^2 k_B T \\kappa_T}{V} \\sim O(N)$$\n",
    "\n",
    "> Notice anology with NVT where we found $\\sigma^2_E = k_B T^2 C_v$ for energy fluctuations with $C_v\\geq 0$ implying stability. For particle fluctuataions instead of heat capacity we have the isothermal compressibility $\\kappa_T = -\\frac{1}{V}\\frac{\\partial V}{\\partial p} \\geq 0$\n",
    "\n",
    "$$\\frac{\\sigma_N}{\\langle N \\rangle} \\sim O(N^{-1/2})$$"
   ]
  },
  {
   "cell_type": "markdown",
   "metadata": {
    "slideshow": {
     "slide_type": "slide"
    }
   },
   "source": [
    "### Ideal Gas"
   ]
  },
  {
   "cell_type": "markdown",
   "metadata": {
    "slideshow": {
     "slide_type": "fragment"
    }
   },
   "source": [
    "\n",
    "$$Z(T,V,N) = \\frac{1}{N!} \\Big( \\frac{V}{\\lambda^3} \\Big)^N\\,\\,\\,\\,$$\n",
    "\n",
    "- **Thermal wavelength** $\\lambda = \\frac{h}{(2 \\pi mk_B T)^{1/2}}$\n",
    "\n",
    "$$Z_G = \\sum^{N=\\infty}_{N =0} Z(T,V,N) e^{\\beta \\mu N} = \\sum^{N=\\infty}_{N =0} \\frac{1}{N!} \\Big( e^{\\beta \\mu} \\frac{V}{\\lambda^3} \\Big)^N = exp\\Big(z \\frac{V}{\\lambda^3} \\Big)$$\n",
    "\n",
    "\n",
    "- **Fugacity** $z = e^{\\beta \\mu}$\n",
    "\n",
    "$$\\langle N \\rangle = \\frac{\\partial log Z_G}{\\partial (\\beta \\mu)} = \\frac{V}{\\lambda^3} e^{\\beta \\mu}$$\n",
    "\n",
    "$$\\mu  = k_B T log \\frac{N \\lambda^3}{V} = k_B T log [(k_B T)\\lambda^3 \\cdot p ] = \\mu^0 (T) + k_B Tlog p $$\n",
    "\n",
    "$$\\sigma^2_N = \\frac{N^2 k_B T \\kappa_T}{V} = N$$\n",
    "\n",
    "$$\\kappa_T = \\frac{NV }{N^2 k_B T} = \\frac{1}{p} \\geq 0$$"
   ]
  },
  {
   "cell_type": "markdown",
   "metadata": {},
   "source": [
    "#### System of dilute uncorrelated particles = ideal gas\n",
    "\n",
    "$$\\sigma^2_N = \\langle N \\rangle$$"
   ]
  },
  {
   "cell_type": "markdown",
   "metadata": {
    "slideshow": {
     "slide_type": "slide"
    }
   },
   "source": [
    "### Molecular adsorption on the surface\n",
    "\n",
    "![](./figs/adsorption.png)"
   ]
  },
  {
   "cell_type": "markdown",
   "metadata": {
    "slideshow": {
     "slide_type": "fragment"
    }
   },
   "source": [
    "$$Z_G = z^N_G$$"
   ]
  },
  {
   "cell_type": "markdown",
   "metadata": {
    "slideshow": {
     "slide_type": "slide"
    }
   },
   "source": [
    "#### One site one molecule model\n",
    "\n",
    "$$z_G = 1 +e^{-\\beta (\\epsilon-\\mu)}$$\n",
    "\n",
    "$$\\langle n \\rangle =\\frac{0+1\\cdot e^{-\\beta(\\epsilon - \\mu)}}{Z_G} = \\frac{1}{e^{-\\beta(\\mu-\\epsilon)}+1}$$\n",
    "\n",
    "$$\\langle E \\rangle =\\frac{0+\\epsilon\\cdot e^{-\\beta(\\epsilon - \\mu)}}{Z_G} = \\epsilon \\langle n \\rangle $$\n",
    "\n",
    "For the idea gas $\\mu  = k_B T log \\frac{p}{p_0}$\n",
    "\n",
    "$$\\langle n \\rangle = \\frac{p}{p_0e^{\\beta \\epsilon}+p}$$\n",
    "\n",
    "> This is known as Langmuir isotherm. "
   ]
  },
  {
   "cell_type": "markdown",
   "metadata": {
    "slideshow": {
     "slide_type": "slide"
    }
   },
   "source": [
    "#### Multi-stide binding of molecular gas with internal states\n",
    "\n",
    "1. Molecule A binds to one site and adopts 2 conformations. \n",
    "2. Two molecules of B can bind one site. When one molecle is bound it has one conformation and when two bound there are 5 conformations.  \n",
    "\n"
   ]
  },
  {
   "cell_type": "markdown",
   "metadata": {
    "slideshow": {
     "slide_type": "slide"
    }
   },
   "source": [
    "$$z_G = 1 + 2 e^{-\\beta(\\epsilon_A - \\mu_A)}+ e^{-\\beta(\\epsilon_B - \\mu_B)} +5 e^{-2\\beta(\\epsilon_B - \\mu_B)}$$"
   ]
  },
  {
   "cell_type": "markdown",
   "metadata": {},
   "source": [
    "## Problems"
   ]
  },
  {
   "cell_type": "markdown",
   "metadata": {},
   "source": [
    "###  $NVT-NVE-\\mu V T$ \n",
    "\n",
    "1. Consider a three level single particle system with five microstates with energies 0, ε, ε, ε, and 2ε. What is $\\Omega(\\epsilon n)$  n=0,1,2 for this system? What is the mean energy of the system if is in equilibrium with a heat bath at temperature T ?\n",
    "\n",
    "2. Derive an expression for the chemical potential of an ideal gas using clssical mechanics model for energy $E=\\frac{p^2}{2m}$ in the $\\mu VT$ ensemble evaluate the fluctuations in particle number. \n",
    "\n",
    "3. Consider a system in equilibrium with a heat bath at temperature $T$ and a particle reservoir at chemical potential $\\mu$. The system can have a minimum of one and a maximum of four distinguishable particles. The particles in the system do not interact and can be in one of two states with energies zero or $\\Delta$. Determine the (grand) partition function of the system.\n",
    "\n",
    "4. Combine the Gibbs formula of Entropy $S=-k_B \\sum_i p_i log p_i$ with the Grand canonical prbability distribution $P(E_i,N_i)=\\frac{e^{-\\beta E_i+\\mu N_i}}{Z_G}$ to show that $\\beta PV=log Z_G$<br>\n",
    "\n",
    "5. Derive partition function for a pressure ensemble $(T, p, N)$ and show its connection with microcanonical ensemble $N V E$\n",
    "\n",
    "6. At a given temperature T a surface with N_0 adsorption centers has $N\\neq N_0$ adsorbed molecules. Suppose hat there are no interactions between molecules. \n",
    "\n",
    "    - Show that the chemical potential of adsoprbed gas is given by: $\\mu  = k_B T log \\frac{N}{N_0 - N a(T)}$\n",
    "\n",
    "    - What is the meaning of $a(T)$"
   ]
  }
 ],
 "metadata": {
  "kernelspec": {
   "display_name": "Python 3",
   "language": "python",
   "name": "python3"
  },
  "language_info": {
   "codemirror_mode": {
    "name": "ipython",
    "version": 3
   },
   "file_extension": ".py",
   "mimetype": "text/x-python",
   "name": "python",
   "nbconvert_exporter": "python",
   "pygments_lexer": "ipython3",
   "version": "3.8.5"
  },
  "livereveal": {
   "theme": "sky"
  },
  "toc": {
   "base_numbering": 1,
   "nav_menu": {},
   "number_sections": true,
   "sideBar": true,
   "skip_h1_title": false,
   "title_cell": "Table of Contents",
   "title_sidebar": "Contents",
   "toc_cell": true,
   "toc_position": {},
   "toc_section_display": true,
   "toc_window_display": false
  }
 },
 "nbformat": 4,
 "nbformat_minor": 4
}