{
 "cells": [
  {
   "cell_type": "markdown",
   "metadata": {},
   "source": [
    "# Applications"
   ]
  },
  {
   "cell_type": "code",
   "execution_count": 1,
   "metadata": {},
   "outputs": [],
   "source": [
    "import numpy as np\n",
    "import scipy\n",
    "import matplotlib.pyplot as plt"
   ]
  },
  {
   "cell_type": "markdown",
   "metadata": {
    "slideshow": {
     "slide_type": "slide"
    }
   },
   "source": [
    "## Interplay of Energy and Entropy"
   ]
  },
  {
   "cell_type": "markdown",
   "metadata": {
    "slideshow": {
     "slide_type": "slide"
    }
   },
   "source": [
    "### Grouping microstates into states"
   ]
  },
  {
   "cell_type": "markdown",
   "metadata": {
    "slideshow": {
     "slide_type": "fragment"
    }
   },
   "source": [
    "The word state is overloaded and is easilyt one of the more slippery defined concepts in physics/chemistry and biology. SO let us try to be more precise:\n",
    "\n",
    "- **A microstate** $i$: a single frozen snapshot of atomic configurations (in CM). For instance instanenotus positions and momenta of all atoms in Ar gas. \n",
    "\n",
    "- **A state,** $A$: a collection (fairly large) of microstates. For instance open vs colsed states of a polymer."
   ]
  },
  {
   "cell_type": "markdown",
   "metadata": {
    "slideshow": {
     "slide_type": "slide"
    }
   },
   "source": [
    "### Relative populations of states\n",
    "\n",
    "Probabilities is what we observe experimentally. In a sense we can say that probability is the most objective thing we can know about a system. So let us reason in terms of probabilities as much as possible while treating entropies and free energies as utility quantieis for computing the probabilities "
   ]
  },
  {
   "cell_type": "markdown",
   "metadata": {
    "slideshow": {
     "slide_type": "fragment"
    }
   },
   "source": [
    "$$ \\frac{p_A}{p_B} = \\frac{\\int_{V_A} e^{-\\beta U(x)}}{\\int_{V_B} e^{-\\beta U(x)}} = \\frac{Z_A}{Z_B} = \\frac{e^{-\\beta F_A}}{e^{-\\beta F_B}}= exp(-\\beta \\Delta F)$$"
   ]
  },
  {
   "cell_type": "markdown",
   "metadata": {
    "slideshow": {
     "slide_type": "slide"
    }
   },
   "source": [
    "$$\\int_{V_A} e^{-\\beta U(x)} \\approx \\int^{+\\infty}_{-\\infty} e^{-\\beta \\big[ U^0_A+ \\frac{\\kappa_A}{2}(x-x_A)^2\\big]} = \\Big(\\frac{2\\pi k_B T}{\\kappa_A} \\Big)^{1/2} e^{-\\beta U^0_A}$$"
   ]
  },
  {
   "cell_type": "markdown",
   "metadata": {
    "slideshow": {
     "slide_type": "fragment"
    }
   },
   "source": [
    "$$\\frac{p_B}{p_A} = \\Big(\\frac{\\kappa_A}{\\kappa_B} \\Big)^{1/2} e^{-\\beta (U^0_B-U^0_A)}$$"
   ]
  },
  {
   "cell_type": "markdown",
   "metadata": {
    "slideshow": {
     "slide_type": "fragment"
    }
   },
   "source": [
    "$$F_A(T) = U_A -T S_A$$\n",
    "\n",
    "$$F_A(T) = -k_B T log Z_A = U^0_A -k_B T log \\frac{1}{V}\\Big(\\frac{2\\pi k_B T}{\\kappa_A} \\Big)^{1/2}$$"
   ]
  },
  {
   "cell_type": "markdown",
   "metadata": {
    "slideshow": {
     "slide_type": "slide"
    }
   },
   "source": [
    "### Protein folding problem with 1D potential\n",
    "\n",
    "As crazy as it sounds we can learn something about protein folding by using a simple 1D potential:\n",
    "\n",
    "![](./figs/folding.png)"
   ]
  },
  {
   "cell_type": "code",
   "execution_count": 2,
   "metadata": {
    "slideshow": {
     "slide_type": "slide"
    }
   },
   "outputs": [],
   "source": [
    "def U_fold1D(ratio=1/25, deltaU=50, T=0.1):\n",
    "    \n",
    "    '''1D energy function, where\n",
    "    rationL: fraction of folded vs unfolded states (must be less than 1)\n",
    "    deltaU: energy difference between unfolded and folded states (must be positive) in units of kb = 1\n",
    "    T: temperature (must be possitive)\n",
    "    OUTPUT: x coordinate, U(x) potential, pf, pu\" fractions of folded and funfolded states respectively. \n",
    "    '''\n",
    "    assert np.any(T) > 0 \n",
    "    assert ratio < 1\n",
    "    assert deltaU > 0\n",
    "    \n",
    "    x = np.linspace(0,1,1000)\n",
    "    U = np.linspace(0,1,1000)\n",
    "    \n",
    "    U[x < ratio] = 0\n",
    "    U[x > ratio] = deltaU\n",
    "    \n",
    "    pf = ratio/(ratio+np.exp(-deltaU/T))\n",
    "    pu = 1 - pf\n",
    "    \n",
    "    U[0] = U[-1] = 100 # set end states to be high\n",
    "    \n",
    "    return x, U, pf, pu"
   ]
  },
  {
   "cell_type": "code",
   "execution_count": 3,
   "metadata": {
    "slideshow": {
     "slide_type": "slide"
    }
   },
   "outputs": [
    {
     "data": {
      "text/plain": [
       "Text(0, 0.5, '$p(x)$')"
      ]
     },
     "execution_count": 3,
     "metadata": {},
     "output_type": "execute_result"
    },
    {
     "data": {
      "image/png": "[encoded data removed]",
      "text/plain": [
       "<Figure size 432x288 with 2 Axes>"
      ]
     },
     "metadata": {
      "filenames": {
       "image/png": "/Volumes/GoogleDrive/My Drive/Lectures/StatMech_Chem563/Statmech4ChemBio/_build/jupyter_execute/3_ensembles/applications_12_1.png"
      },
      "needs_background": "light"
     },
     "output_type": "display_data"
    }
   ],
   "source": [
    "x, u, pf, pu = U_fold1D()\n",
    "\n",
    "fig, ax  = plt.subplots(nrows=2)\n",
    "\n",
    "ax[0].plot(x,u, lw =3)\n",
    "ax[0].set_xlabel('$x$')\n",
    "ax[0].set_ylabel('$U(x)$')\n",
    "\n",
    "ax[1].plot(x,np.exp(-u), lw=3, color='orange')\n",
    "ax[1].set_xlabel('$x$')\n",
    "ax[1].set_ylabel('$p(x)$')"
   ]
  },
  {
   "cell_type": "code",
   "execution_count": 4,
   "metadata": {
    "slideshow": {
     "slide_type": "slide"
    }
   },
   "outputs": [
    {
     "data": {
      "text/plain": [
       "<matplotlib.legend.Legend at 0x7ffab042e8e0>"
      ]
     },
     "execution_count": 4,
     "metadata": {},
     "output_type": "execute_result"
    },
    {
     "data": {
      "image/png": "[encoded data removed]",
      "text/plain": [
       "<Figure size 432x288 with 1 Axes>"
      ]
     },
     "metadata": {
      "filenames": {
       "image/png": "/Volumes/GoogleDrive/My Drive/Lectures/StatMech_Chem563/Statmech4ChemBio/_build/jupyter_execute/3_ensembles/applications_13_1.png"
      },
      "needs_background": "light"
     },
     "output_type": "display_data"
    }
   ],
   "source": [
    "T = np.linspace(0.1,100,1000)\n",
    "x, u, pf, pu = U_fold1D(T=T)\n",
    "\n",
    "plt.plot(T,pf,lw=3, color='green')\n",
    "plt.plot(T,pu,'--',lw=3, color='red')\n",
    "\n",
    "plt.xlabel('Temperature, T',fontsize=15)\n",
    "\n",
    "plt.ylabel('Fraction of (un)folded',fontsize=15)\n",
    "\n",
    "plt.legend(['folded','unfolded'],fontsize=15)"
   ]
  }
 ],
 "metadata": {
  "kernelspec": {
   "display_name": "Python 3",
   "language": "python",
   "name": "python3"
  },
  "language_info": {
   "codemirror_mode": {
    "name": "ipython",
    "version": 3
   },
   "file_extension": ".py",
   "mimetype": "text/x-python",
   "name": "python",
   "nbconvert_exporter": "python",
   "pygments_lexer": "ipython3",
   "version": "3.8.8"
  },
  "latex_envs": {
   "LaTeX_envs_menu_present": true,
   "autoclose": false,
   "autocomplete": true,
   "bibliofile": "biblio.bib",
   "cite_by": "apalike",
   "current_citInitial": 1,
   "eqLabelWithNumbers": true,
   "eqNumInitial": 1,
   "hotkeys": {
    "equation": "Ctrl-E",
    "itemize": "Ctrl-I"
   },
   "labels_anchors": false,
   "latex_user_defs": false,
   "report_style_numbering": false,
   "user_envs_cfg": false
  },
  "livereveal": {
   "theme": "sky"
  },
  "toc": {
   "base_numbering": 1,
   "nav_menu": {},
   "number_sections": true,
   "sideBar": true,
   "skip_h1_title": false,
   "title_cell": "Table of Contents",
   "title_sidebar": "Contents",
   "toc_cell": true,
   "toc_position": {},
   "toc_section_display": true,
   "toc_window_display": false
  }
 },
 "nbformat": 4,
 "nbformat_minor": 4
}