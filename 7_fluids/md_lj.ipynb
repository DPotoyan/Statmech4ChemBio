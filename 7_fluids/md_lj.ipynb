{
 "cells": [
  {
   "cell_type": "markdown",
   "metadata": {},
   "source": [
    "## MD simulations of fluids"
   ]
  },
  {
   "cell_type": "code",
   "execution_count": 2,
   "metadata": {
    "id": "A0ikNu3mVyvr"
   },
   "outputs": [],
   "source": [
    "import numpy as np\n",
    "from itertools import product\n",
    "import matplotlib.pyplot as plt"
   ]
  },
  {
   "cell_type": "markdown",
   "metadata": {},
   "source": [
    "### Initial positions, velocities and forces\n",
    "\n",
    "Unlike MC simulation where the initial condition is fully specified by positin arrray in MD simulations we must also specify initial velocities which allows us to determine initial forces!"
   ]
  },
  {
   "cell_type": "code",
   "execution_count": 17,
   "metadata": {},
   "outputs": [],
   "source": [
    "def IC_pos(rho=0.88, N_cell=3):\n",
    "    \"\"\"\n",
    "    Create a lattice of Lennard-Jones particles initially placed in a cubic FCC lattice.\n",
    "\n",
    "    Parameters:\n",
    "    rho (float, optional): Number density of particles. Defaults to 0.88.\n",
    "    N_cell (int, optional): Number of unit cells in one direction. Defaults to 3.\n",
    "\n",
    "    Returns:\n",
    "    np.array: Array of particle positions.\n",
    "    float: Length of the simulation box.\n",
    "    int: Total number of particles.\n",
    "    \"\"\"\n",
    "    from itertools import product\n",
    "    \n",
    "    N = 4 * N_cell ** 3  # Total number of particles in the system\n",
    "    L = (N / rho) ** (1 / 3)  # Length of the simulation box\n",
    "    L_cell = L / N_cell  # Length of a unit cell\n",
    "\n",
    "    # Generate positions within the unit cell\n",
    "    base_positions = np.array([[0, 0, 0],\n",
    "                               [0, 0.5, 0.5],\n",
    "                               [0.5, 0, 0.5],\n",
    "                               [0.5, 0.5, 0]])\n",
    "\n",
    "    # Create lattice by translating the base positions\n",
    "    pos = np.array([base + np.array([x, y, z]) for x, y, z in product(range(N_cell), repeat=3)\n",
    "                    for base in base_positions])\n",
    "\n",
    "    # Scale positions to the size of the unit cell\n",
    "    pos *= L_cell\n",
    "\n",
    "    return pos, L, N\n",
    "\n",
    "\n",
    "def IC_vel(N):\n",
    "    '''Genreate initial distribution of velocities from Maxwell-Botlzmann'''\n",
    "\n",
    "    vel  = np.random.randn(N, 3)\n",
    "    vel -= np.average(vel, axis=0)\n",
    "\n",
    "    return vel \n",
    "\n",
    "def IC_F(N):\n",
    "    '''Generate force matrix objects to be used throughout simulation\n",
    "    ---\n",
    "    F:  (N, N, 3) array that contains all the forces between i, j particles in 3D\n",
    "    ind: arrays of size N and N. These are indices of upper triangular matrix e.g (i, j) such that  i<j. \n",
    "    Having indices of all inter-particle forces allows us to avoid using for loops\n",
    "\n",
    "    '''\n",
    "    \n",
    "    F   = np.zeros((N, N, 3))       \n",
    "    I, J = np.triu_indices(N, k=1)   \n",
    "    \n",
    "    return F, I, J"
   ]
  },
  {
   "attachments": {},
   "cell_type": "markdown",
   "metadata": {},
   "source": [
    "### Inspect initial positions, forces and velocities"
   ]
  },
  {
   "cell_type": "code",
   "execution_count": 19,
   "metadata": {},
   "outputs": [
    {
     "data": {
      "text/plain": [
       "<matplotlib.collections.PathCollection at 0x165f59f40>"
      ]
     },
     "execution_count": 19,
     "metadata": {},
     "output_type": "execute_result"
    },
    {
     "data": {
      "image/png": "[encoded data removed]",
      "text/plain": [
       "<Figure size 640x480 with 1 Axes>"
      ]
     },
     "metadata": {},
     "output_type": "display_data"
    }
   ],
   "source": [
    "pos, L_box, N = IC_pos(rho=0.88, N_cell=3)\n",
    "\n",
    "plt.scatter(pos[:, 0], pos[:,1])"
   ]
  },
  {
   "cell_type": "code",
   "execution_count": 20,
   "metadata": {},
   "outputs": [
    {
     "name": "stdout",
     "output_type": "stream",
     "text": [
      "(5, 5, 3)\n",
      "[0 0 0 0 1 1 1 2 2 3]\n",
      "[1 2 3 4 2 3 4 3 4 4]\n"
     ]
    }
   ],
   "source": [
    "F, I, J = IC_F(5)\n",
    "\n",
    "print(F.shape)\n",
    "print(I)\n",
    "print(J)"
   ]
  },
  {
   "cell_type": "code",
   "execution_count": 21,
   "metadata": {},
   "outputs": [
    {
     "data": {
      "image/png": "[encoded data removed]",
      "text/plain": [
       "<Figure size 640x480 with 1 Axes>"
      ]
     },
     "metadata": {},
     "output_type": "display_data"
    }
   ],
   "source": [
    "vel = IC_vel(100)\n",
    "\n",
    "plt.hist(vel[:,0], alpha=0.5, density=True);"
   ]
  },
  {
   "cell_type": "markdown",
   "metadata": {
    "id": "TRh6TW13S8t3"
   },
   "source": [
    "### Computation of forces\n",
    "\n",
    "- Most of the computational heavy lifting in MD simulations goes into evaluation of forces. \n",
    "\n",
    "- As the number of particles goes so does the need to evaluate the number of interacting pairs\n",
    "\n",
    "- In realistic simulations neighbor lists and cutoff distances are used to minimize and keep track of smaller number of particle pairs"
   ]
  },
  {
   "cell_type": "code",
   "execution_count": 22,
   "metadata": {
    "id": "AQ1oF_mHV9Rk"
   },
   "outputs": [],
   "source": [
    "def force_update(pos):   \n",
    "    '''This function is used to update the force matrix F which has been created via IC_F function earlier\n",
    "    pos: (N, 3) position array is specified as input\n",
    "    \n",
    "    returns\n",
    "    ---\n",
    "    forces:\n",
    "    U:    potential energy\n",
    "    P:    pressure\n",
    "    hist: histogram of r^2 distances\n",
    "    '''\n",
    "\n",
    "    # Compute all unique ij distances\n",
    "    r_vec = pos[I] - pos[J]\n",
    "\n",
    "    # Use min image criteria for distances\n",
    "    r_vec = (r_vec + L_box/2) % L_box - L_box/2\n",
    "\n",
    "    # Compute r^2\n",
    "    r_sq = np.sum(r_vec**2, axis=1)\n",
    "\n",
    "    # Compute forces \n",
    "    dUdr = -(48 / r_sq ** 7 - 24 / r_sq ** 4)\n",
    "\n",
    "    # Compute force maxtirx containing all forces between ij particles dU/dr * dr\n",
    "    F[I,J] = dUdr[:, np.newaxis] * r_vec\n",
    "\n",
    "    # Compute total force acting on each particle (i=1,...N) \n",
    "    forces = F.sum(axis=0) - F.sum(axis=1)\n",
    "\n",
    "    # Compute potential energy, pressure and histogram of r^2 pair distances\n",
    "    U = np.sum(4 / r_sq ** 6 - 4 / r_sq ** 3)\n",
    "\n",
    "    P = np.sum(F[I,J] * r_vec)\n",
    "\n",
    "    hist = np.histogram(r_sq, bins=30, range=(0, L_box / 2))[0]\n",
    "    \n",
    "    return forces, U, P, hist"
   ]
  },
  {
   "cell_type": "markdown",
   "metadata": {},
   "source": [
    "### Time stepping "
   ]
  },
  {
   "cell_type": "code",
   "execution_count": 30,
   "metadata": {},
   "outputs": [],
   "source": [
    "def time_step(pos, vel, F, dt=0.01):\n",
    "    '''Update velocities, positions and forces after dt time step of integration'''\n",
    "\n",
    "    vel += 0.5 * F * dt\n",
    "    \n",
    "    pos = np.mod(pos + vel * dt, L_box)\n",
    "\n",
    "    F, pot, P, hist = force_update(pos)\n",
    "    \n",
    "    vel += 0.5 * F * dt\n",
    "    kin = 0.5 * np.sum(vel**2)\n",
    "\n",
    "    return pos, vel, F, pot, kin, P, hist"
   ]
  },
  {
   "attachments": {},
   "cell_type": "markdown",
   "metadata": {},
   "source": [
    "### MD simulation loop"
   ]
  },
  {
   "cell_type": "code",
   "execution_count": 27,
   "metadata": {
    "id": "NRxlz22WWqAQ"
   },
   "outputs": [],
   "source": [
    "def simulate(pos, \n",
    "             vel, \n",
    "             T=1, \n",
    "             freq_out=50, \n",
    "             nsteps=10000):\n",
    "    '''Main MD simulation loop. All of the variables and force matrix must be initialized \n",
    "    so that functions can acess them'''\n",
    "\n",
    "    kins, pots, Ps, hists = [], [], [], []\n",
    "    \n",
    "    F = force_update(pos)[0]\n",
    "\n",
    "    for t in range(nsteps):\n",
    "\n",
    "        # Update positions, velocities, forces\n",
    "        pos, vel, F, pot, kin, P, hist = time_step(pos, vel, F)\n",
    "\n",
    "        # Scaling velocitites to keep T constant\n",
    "        vel *= np.sqrt(N * 3 * T / (2 * kin))\n",
    "        \n",
    "        # Save thermo output\n",
    "        if t % freq_out == 0:\n",
    "\n",
    "            kins.append(kin)\n",
    "            pots.append(pot)\n",
    "            Ps.append(P)\n",
    "            hists.append(hist)\n",
    "\n",
    "    return np.array(kins), np.array(pots), np.array(Ps), np.mean(hists, axis=0)"
   ]
  },
  {
   "cell_type": "markdown",
   "metadata": {},
   "source": [
    "### Running MD simulation"
   ]
  },
  {
   "attachments": {},
   "cell_type": "markdown",
   "metadata": {},
   "source": [
    "- Note that variables pos, L_box, F, I, J, vel are global variables which are used and updated by simulate function. \n",
    "- Therefore we collect all the relevant parameters of simulation in once cell to make it easy to do various exploratons."
   ]
  },
  {
   "cell_type": "code",
   "execution_count": 31,
   "metadata": {
    "id": "Rrskbj7YSMh5"
   },
   "outputs": [],
   "source": [
    "#------- Initalize global variables: positions, box length, velocities and Forces-------\n",
    "pos, L_box, N  = IC_pos(rho=0.88, N_cell=3) \n",
    "vel            = IC_vel(N)\n",
    "F, I, J        = IC_F(N)\n",
    "\n",
    "#Run simulation\n",
    "kins, pots, Ps, hist = simulate(pos, vel, T=1, freq_out=50, nsteps=10000)"
   ]
  },
  {
   "cell_type": "markdown",
   "metadata": {},
   "source": [
    "### Analysis of MD simulation "
   ]
  },
  {
   "cell_type": "code",
   "execution_count": 32,
   "metadata": {},
   "outputs": [
    {
     "data": {
      "text/plain": [
       "<matplotlib.legend.Legend at 0x166006be0>"
      ]
     },
     "execution_count": 32,
     "metadata": {},
     "output_type": "execute_result"
    },
    {
     "data": {
      "image/png": "[encoded data removed]",
      "text/plain": [
       "<Figure size 640x480 with 1 Axes>"
      ]
     },
     "metadata": {},
     "output_type": "display_data"
    }
   ],
   "source": [
    "plt.plot(kins, label='KE')\n",
    "plt.plot(pots, label='PE')\n",
    "plt.xlabel('Time')\n",
    "plt.ylabel('Energy')\n",
    "plt.legend()"
   ]
  },
  {
   "cell_type": "code",
   "execution_count": 34,
   "metadata": {
    "colab": {
     "base_uri": "https://localhost:8080/",
     "height": 333
    },
    "id": "PJSDuQZeXE2s",
    "outputId": "74afa4af-1eeb-4770-d263-8e788d851fb2"
   },
   "outputs": [
    {
     "name": "stderr",
     "output_type": "stream",
     "text": [
      "/var/folders/3h/w4n54dz57dvbhgvz68gdv0f0f3hkmm/T/ipykernel_77253/971943631.py:3: RuntimeWarning: invalid value encountered in divide\n",
      "  pair_correlation = hist / (4 * np.pi * rho * r)\n"
     ]
    },
    {
     "data": {
      "text/plain": [
       "Text(0, 0.5, '$g(r)$')"
      ]
     },
     "execution_count": 34,
     "metadata": {},
     "output_type": "execute_result"
    },
    {
     "data": {
      "image/png": "[encoded data removed]",
      "text/plain": [
       "<Figure size 640x480 with 1 Axes>"
      ]
     },
     "metadata": {},
     "output_type": "display_data"
    }
   ],
   "source": [
    "rho=0.88\n",
    "r = np.linspace(0, L_box / 2, 30)\n",
    "pair_correlation = hist / (4 * np.pi * rho * r)\n",
    "\n",
    "plt.plot(r, pair_correlation, '-o') \n",
    "plt.xlabel(r'$r$')  \n",
    "plt.ylabel(r'$g(r)$')"
   ]
  }
 ],
 "metadata": {
  "colab": {
   "name": "numpyMD.ipynb",
   "provenance": []
  },
  "interpreter": {
   "hash": "4530ea2aa8bfc2750ca4edef123664b9363115d460a3300e4730305cf9e4e90b"
  },
  "kernelspec": {
   "display_name": "Python 3 (ipykernel)",
   "language": "python",
   "name": "python3"
  },
  "language_info": {
   "codemirror_mode": {
    "name": "ipython",
    "version": 3
   },
   "file_extension": ".py",
   "mimetype": "text/x-python",
   "name": "python",
   "nbconvert_exporter": "python",
   "pygments_lexer": "ipython3",
   "version": "3.9.16"
  }
 },
 "nbformat": 4,
 "nbformat_minor": 4
}
