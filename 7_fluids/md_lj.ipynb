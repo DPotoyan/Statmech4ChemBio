{
  "cells": [
    {
      "cell_type": "markdown",
      "metadata": {},
      "source": [
        "## Molecular Dynamics simulations of fluids"
      ]
    },
    {
      "cell_type": "code",
      "execution_count": 76,
      "metadata": {
        "id": "A0ikNu3mVyvr"
      },
      "outputs": [],
      "source": [
        "import numpy as np\n",
        "from itertools import product\n",
        "import matplotlib.pyplot as plt"
      ]
    },
    {
      "cell_type": "markdown",
      "metadata": {},
      "source": [
        "### Thermodynamic parameters of simulation"
      ]
    },
    {
      "cell_type": "code",
      "execution_count": 77,
      "metadata": {
        "id": "JFq9ATbMV0dt"
      },
      "outputs": [],
      "source": [
        "rho    = .88 # density of Argon in natural units\n",
        "dt     = 0.004 # time step size\n",
        "T_0    = 1 # temperature\n",
        "N_cell = 3 # number of unitcells in one direction    \n",
        "\n",
        "\n",
        "N = 4 * N_cell ** 3 # the total number of particles in the system\n",
        "L_box = (N / rho) ** (1 / 3) # length of the whole box\n",
        "L_cell = L_box / N_cell # length of a unitcell"
      ]
    },
    {
      "cell_type": "markdown",
      "metadata": {},
      "source": [
        "### Initialize positions, velocities and forces"
      ]
    },
    {
      "cell_type": "code",
      "execution_count": 78,
      "metadata": {},
      "outputs": [],
      "source": [
        "def IC_pos(N_cell, L_cell):\n",
        "    '''Generate initial positions of LJ fluid'''\n",
        "\n",
        "    pos = [[[x,  y, z], [x, 0.5 + y, 0.5 + z], [0.5 + x, y, 0.5 + z], [0.5 + x, 0.5 + y, z]] \n",
        "           for x, y, z in product(range(N_cell), range(N_cell), range(N_cell))]\n",
        "    \n",
        "    pos = np.array(pos).reshape((-1, 3))\n",
        "\n",
        "    return pos * L_cell\n",
        "\n",
        "\n",
        "def IC_vel(N):\n",
        "    '''Genreate initial distribution of velocities according to Maxwell-Botlzmann'''\n",
        "\n",
        "    vel  = np.random.randn(N, 3)\n",
        "    vel -= np.average(vel, axis=0)\n",
        "\n",
        "    return vel "
      ]
    },
    {
      "cell_type": "markdown",
      "metadata": {},
      "source": [
        "**Which quantities change and which remain constant**\n",
        "\n",
        "- Run the cell below to create initial state of the simulation\n",
        "Forces, positions and velocities \n",
        "- Forces, velocities and positions will be updated as a result of integration of equation of motion (MD simulation)\n",
        "- We periodically will save velocities and positions for further analysis of thermodynamic data \n",
        "- Temperature will change a result of change in velocities but we make sure it remains constant on average by coupling particles to thermostat.\n",
        "\n",
        "> Number of particles, box size and hence number of interacting pairs remains constant throughout simulation!"
      ]
    },
    {
      "cell_type": "code",
      "execution_count": 118,
      "metadata": {
        "id": "TiZYBKaYS7Dg"
      },
      "outputs": [],
      "source": [
        "pos = IC_pos(N_cell, L_cell)    # Initialize position\n",
        "\n",
        "vel = IC_vel(N)                 # Initialize velocity\n",
        "\n",
        "F   = np.zeros((N, N, 3))       # matrix that contains all the forces between i, j particles in 3D\n",
        "\n",
        "ind = np.triu_indices(N, k=1)   # Indices of upper triangular matrix. Created to avoid acessing force elements via loop"
      ]
    },
    {
      "cell_type": "code",
      "execution_count": 80,
      "metadata": {
        "colab": {
          "base_uri": "https://localhost:8080/"
        },
        "id": "t6LAqMvZUf2L",
        "outputId": "59284177-5223-41ac-cf8b-d37f8f485dbf"
      },
      "outputs": [
        {
          "name": "stdout",
          "output_type": "stream",
          "text": [
            "position array (108, 3)\n",
            "velocity array (108, 3)\n",
            "force array (108, 108, 3)\n",
            "Indices of relevant portion of force array\n",
            " (array([  0,   0,   0, ..., 105, 105, 106]), array([  1,   2,   3, ..., 106, 107, 107]))\n"
          ]
        }
      ],
      "source": [
        "### Study the shapes of the force, pos, vel objects\n",
        "print('position array', pos.shape)\n",
        "print('velocity array', vel.shape)\n",
        "print('force array', F.shape)\n",
        "print('Indices of relevant portion of force array\\n', \n",
        "      ind)"
      ]
    },
    {
      "cell_type": "markdown",
      "metadata": {
        "id": "TRh6TW13S8t3"
      },
      "source": [
        "### Computation of forces\n",
        "\n",
        "- Most of the computational heavy lifting in MD simulations goes into evaluation of forces. \n",
        "\n",
        "- As the number of particles goes so does the need to evaluate the number of interacting pairs\n",
        "\n",
        "- In realistic simulations neighbor lists and cutoff distances are used to minimize and keep track of smaller number of particle pairs"
      ]
    },
    {
      "cell_type": "code",
      "execution_count": 112,
      "metadata": {
        "id": "AQ1oF_mHV9Rk"
      },
      "outputs": [],
      "source": [
        "def find_force(pos):\n",
        "\n",
        "    # Compute all unique ij distances\n",
        "    r_vec = pos[ind[0]] - pos[ind[1]]\n",
        "\n",
        "    # Use min image criteria for distances\n",
        "    r_vec = r_vec - np.rint(r_vec / L_box) * L_box\n",
        "\n",
        "    # Compute r^2\n",
        "    r_sq = np.sum(r_vec**2, axis=1)\n",
        "\n",
        "    # Compute forces \n",
        "    dUdr = -(48 / r_sq ** 7 - 24 / r_sq ** 4)\n",
        "\n",
        "    # Compute force maxtirx containing all forces between ij particles dU/dr * dr\n",
        "    F_vec = dUdr[:, np.newaxis] * r_vec\n",
        "\n",
        "    F[ind[0], ind[1]] = F_vec\n",
        "\n",
        "    # Compute total force acting on each particle (i=1,...N) \n",
        "    forces = F.sum(axis=0) - F.sum(axis=1)\n",
        "\n",
        "    # Compute potential energy, pressure and histogram of r^2 pair distances\n",
        "\n",
        "    U = np.sum(4 / r_sq ** 6 - 4 / r_sq ** 3)\n",
        "\n",
        "    P = np.sum(F_vec * r_vec)\n",
        "\n",
        "    hist = np.histogram(r_sq, bins=30, range=(0, L_box / 2))[0]\n",
        "    \n",
        "    return forces, U, P, hist"
      ]
    },
    {
      "cell_type": "code",
      "execution_count": 113,
      "metadata": {},
      "outputs": [],
      "source": [
        "def time_step(pos, vel, F):\n",
        "    '''Update velocities, positions and forces after dt time step\n",
        "    '''\n",
        "\n",
        "    vel += 0.5 * F * dt\n",
        "    \n",
        "    pos = np.mod(pos + vel * dt, L_box)\n",
        "\n",
        "    F, pot, P, hist = find_force(pos)\n",
        "    \n",
        "    vel += 0.5 * F * dt\n",
        "    kin = 0.5 * np.sum(vel**2)\n",
        "\n",
        "    return pos, vel, F, pot, kin, P, hist"
      ]
    },
    {
      "cell_type": "code",
      "execution_count": 116,
      "metadata": {
        "id": "NRxlz22WWqAQ"
      },
      "outputs": [],
      "source": [
        "def simulate(freq_T=10, freq_out=50, nsteps=10000):\n",
        "\n",
        "    kins, pots, Ps, hists = [], [], [], []\n",
        "    \n",
        "    pos = IC_pos(N_cell, L_cell)\n",
        "    vel = IC_vel(N)\n",
        "    F = find_force(pos)[0]\n",
        "\n",
        "    for t in range(nsteps):\n",
        "\n",
        "        pos, vel, F, pot, kin, P, hist = time_step(pos, vel, F)\n",
        "\n",
        "        if t % freq_T == 0:\n",
        "\n",
        "          vel *= np.sqrt(N * 3 * T_0 / (2 * kin))\n",
        "        \n",
        "        if t % freq_out == 0:\n",
        "\n",
        "            kins.append(kin)\n",
        "            pots.append(pot)\n",
        "            Ps.append(P)\n",
        "            hists.append(hist)\n",
        "\n",
        "    return np.array(kins), np.array(pots), np.array(Ps), np.mean(hists, axis=0)"
      ]
    },
    {
      "cell_type": "markdown",
      "metadata": {},
      "source": [
        "### Running MD simulation"
      ]
    },
    {
      "cell_type": "code",
      "execution_count": 122,
      "metadata": {
        "id": "Rrskbj7YSMh5"
      },
      "outputs": [],
      "source": [
        "#------- Simulation parameters ----\n",
        "rho    = .88 # Density of Argon in natural units\n",
        "T      = 1   # Temperature\n",
        "N_cell = 3   # Number of unitcells in one direction    \n",
        "\n",
        "#------- All else is inferred from simulation params -------\n",
        "N      = 4 * N_cell ** 3 # the total number of particles in the system\n",
        "L_box  = (N / rho) ** (1 / 3) # length of the whole box\n",
        "L_cell =  L_box / N_cell # length of a unitcell\n",
        "F      = np.zeros((N, N, 3))       \n",
        "ind    = np.triu_indices(N, k=1) \n",
        "\n",
        "#Run simulation\n",
        "kins, pots, Ps, hist = simulate(freq_T=10, freq_out=50, nsteps=10000)"
      ]
    },
    {
      "cell_type": "markdown",
      "metadata": {},
      "source": [
        "### Analysis of MD simulation "
      ]
    },
    {
      "cell_type": "code",
      "execution_count": 123,
      "metadata": {
        "colab": {
          "base_uri": "https://localhost:8080/",
          "height": 333
        },
        "id": "PJSDuQZeXE2s",
        "outputId": "74afa4af-1eeb-4770-d263-8e788d851fb2"
      },
      "outputs": [
        {
          "name": "stderr",
          "output_type": "stream",
          "text": [
            "/var/folders/3h/w4n54dz57dvbhgvz68gdv0f0f3hkmm/T/ipykernel_93665/1357775899.py:2: RuntimeWarning: invalid value encountered in true_divide\n",
            "  pair_correlation = hist / (4 * np.pi * rho * r)\n"
          ]
        },
        {
          "data": {
            "text/plain": [
              "Text(0, 0.5, '$g(r)$')"
            ]
          },
          "execution_count": 123,
          "metadata": {},
          "output_type": "execute_result"
        },
        {
          "data": {
            "image/png": "[encoded data removed]",
            "text/plain": [
              "<Figure size 432x288 with 1 Axes>"
            ]
          },
          "metadata": {
            "needs_background": "light"
          },
          "output_type": "display_data"
        }
      ],
      "source": [
        "r = np.linspace(0, L_box / 2, 30)\n",
        "pair_correlation = hist / (4 * np.pi * rho * r)\n",
        "\n",
        "plt.plot(r, pair_correlation, '-o') \n",
        "plt.xlabel(r'$r$')  \n",
        "plt.ylabel(r'$g(r)$')"
      ]
    }
  ],
  "metadata": {
    "colab": {
      "name": "numpyMD.ipynb",
      "provenance": []
    },
    "interpreter": {
      "hash": "4530ea2aa8bfc2750ca4edef123664b9363115d460a3300e4730305cf9e4e90b"
    },
    "kernelspec": {
      "display_name": "llpsmd3",
      "language": "python",
      "name": "llpsmd3"
    },
    "language_info": {
      "codemirror_mode": {
        "name": "ipython",
        "version": 3
      },
      "file_extension": ".py",
      "mimetype": "text/x-python",
      "name": "python",
      "nbconvert_exporter": "python",
      "pygments_lexer": "ipython3",
      "version": "3.9.10"
    }
  },
  "nbformat": 4,
  "nbformat_minor": 0
}
