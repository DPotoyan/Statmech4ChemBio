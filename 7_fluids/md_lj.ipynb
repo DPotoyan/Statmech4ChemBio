{
  "cells": [
    {
      "cell_type": "markdown",
      "metadata": {},
      "source": [
        "## Molecular Dynamics simulations of fluids"
      ]
    },
    {
      "cell_type": "code",
      "execution_count": 1,
      "metadata": {
        "id": "A0ikNu3mVyvr"
      },
      "outputs": [],
      "source": [
        "import numpy as np\n",
        "from itertools import product\n",
        "import matplotlib.pyplot as plt"
      ]
    },
    {
      "cell_type": "code",
      "execution_count": 11,
      "metadata": {
        "id": "JFq9ATbMV0dt"
      },
      "outputs": [],
      "source": [
        "rho    = .88 # density of Argon in natural units\n",
        "dt     = 0.004 # time step size\n",
        "T_0    = 1 # temperature\n",
        "N_cell = 3 # number of unitcells in one direction    \n",
        "\n",
        "\n",
        "N = 4 * N_cell ** 3 # the total number of particles in the system\n",
        "L_box = (N / rho) ** (1 / 3) # length of the whole box\n",
        "L_cell = L_box / N_cell # length of a unitcell"
      ]
    },
    {
      "cell_type": "code",
      "execution_count": 13,
      "metadata": {
        "id": "bCzO3Wx-S_j1"
      },
      "outputs": [],
      "source": [
        "def IC_pos(N_cell, L_cell):\n",
        "\n",
        "    pos = [[[x,  y, z], [x, 0.5 + y, 0.5 + z], [0.5 + x, y, 0.5 + z], [0.5 + x, 0.5 + y, z]] \n",
        "           for x, y, z in product(range(N_cell), range(N_cell), range(N_cell))]\n",
        "    \n",
        "    pos = np.array(pos).reshape((-1, 3))\n",
        "\n",
        "    return pos * L_cell\n",
        "\n",
        "\n",
        "def IC_vel(N):\n",
        "\n",
        "    vel  = np.random.randn(N, 3)\n",
        "    vel -= np.average(vel, axis=0)\n",
        "\n",
        "    return vel "
      ]
    },
    {
      "cell_type": "markdown",
      "metadata": {
        "id": "TRh6TW13S8t3"
      },
      "source": [
        "### Computation of forces"
      ]
    },
    {
      "cell_type": "code",
      "execution_count": 24,
      "metadata": {
        "id": "TiZYBKaYS7Dg"
      },
      "outputs": [],
      "source": [
        "pos = IC_pos(N_cell, L_cell)    # Initialize position\n",
        "vel = IC_vel(N)                 # Initialize velocity\n",
        "\n",
        "F   = np.zeros((N, N, 3))       # matrix that contains all the forces between i, j particles in 3D\n",
        "\n",
        "ind = np.triu_indices(N, k=1)   # Indices of upper triangular matrix. Created to avoid acessing force elements via loop"
      ]
    },
    {
      "cell_type": "code",
      "execution_count": 32,
      "metadata": {
        "colab": {
          "base_uri": "https://localhost:8080/"
        },
        "id": "t6LAqMvZUf2L",
        "outputId": "59284177-5223-41ac-cf8b-d37f8f485dbf"
      },
      "outputs": [
        {
          "name": "stdout",
          "output_type": "stream",
          "text": [
            "position array (108, 3)\n",
            "velocity array (108, 3)\n",
            "force array (108, 108, 3)\n",
            "Indices of relevant portion of force array\n",
            " (array([  0,   0,   0, ..., 105, 105, 106]), array([  1,   2,   3, ..., 106, 107, 107]))\n"
          ]
        }
      ],
      "source": [
        "print('position array', pos.shape)\n",
        "print('velocity array', vel.shape)\n",
        "print('force array', F.shape)\n",
        "print('Indices of relevant portion of force array\\n', \n",
        "      ind)"
      ]
    },
    {
      "cell_type": "code",
      "execution_count": 4,
      "metadata": {
        "id": "AQ1oF_mHV9Rk"
      },
      "outputs": [],
      "source": [
        "def find_force(pos, L_box, bins=30):\n",
        "\n",
        "    # Compute all unique ij distances\n",
        "    r_vec = pos[ind[0]] - pos[ind[1]]\n",
        "\n",
        "    # Use min image criteria for distances\n",
        "    r_vec = r_vec - np.rint(r_vec / L_box) * L_box\n",
        "\n",
        "    # Compute r^2\n",
        "    r_sq = np.sum(r_vec**2, axis=1)\n",
        "\n",
        "    # Compute forces \n",
        "    dUdr = -(48 / r_sq ** 7 - 24 / r_sq ** 4)\n",
        "\n",
        "    # Compute force maxtirx containing all forces between ij particles dU/dr * dr\n",
        "    F_vec = dUdr[:, np.newaxis] * r_vec\n",
        "\n",
        "    F[ind[0], ind[1]] = F_vec\n",
        "\n",
        "    # Compute total force acting on each particle (i=1,...N) \n",
        "    forces = F.sum(axis=0) - F.sum(axis=1)\n",
        "\n",
        "    # Compute potential energy, pressure and histogram of r^2 pair distances\n",
        "\n",
        "    U = np.sum(4 / r_sq ** 6 - 4 / r_sq ** 3)\n",
        "\n",
        "    P = np.sum(F_vec * r_vec)\n",
        "\n",
        "    hist = np.histogram(r_sq, bins=bins, range=(0, L_box / 2))[0]\n",
        "    \n",
        "    return forces, U, P, hist\n",
        "\n",
        "def time_step(pos, vel, F):\n",
        "\n",
        "    vel += 0.5 * F * dt\n",
        "    \n",
        "    pos = np.mod(pos + vel * dt, L_box)\n",
        "\n",
        "    F, pot, P, hist = find_force(pos)\n",
        "    \n",
        "    vel += 0.5 * F * dt\n",
        "    kin = 0.5 * np.sum(vel**2)\n",
        "\n",
        "    return pos, vel, F, pot, kin, P, hist"
      ]
    },
    {
      "cell_type": "code",
      "execution_count": 6,
      "metadata": {
        "id": "NRxlz22WWqAQ"
      },
      "outputs": [],
      "source": [
        "def simulate(pos, vel, L_box, freq_T=10, freq_out=50, nsteps=10000):      \n",
        "    \n",
        "    kins, pots, Ps, hists = [], [], [], []\n",
        "\n",
        "    F = find_force(pos, L_box)[0]\n",
        "\n",
        "    for t in range(10000):\n",
        "\n",
        "        pos, vel, F, pot, kin, P, hist = time_step(pos, vel, F)\n",
        "\n",
        "        if t % freq_T == 0:\n",
        "\n",
        "          vel *= np.sqrt(N * 3 * T_0 / (2 * kin))\n",
        "        \n",
        "        if t % freq_out == 0:\n",
        "\n",
        "            kins.append(kin)\n",
        "            pots.append(pot)\n",
        "            Ps.append(P)\n",
        "            hists.append(hist)\n",
        "\n",
        "    return np.array(kins), np.array(pots), np.array(Ps), np.mean(hists, axis=0)\n"
      ]
    },
    {
      "cell_type": "code",
      "execution_count": 10,
      "metadata": {
        "id": "Rrskbj7YSMh5"
      },
      "outputs": [],
      "source": [
        "kins, pots, Ps, hist = simulate()\n",
        "\n",
        "T = np.mean(kins * 2 / (3 * N))\n",
        "P = 1 - np.mean(Ps) / (3 * N * T) - 16 * np.pi * rho / (3 * T * L_box**3)"
      ]
    },
    {
      "cell_type": "code",
      "execution_count": 33,
      "metadata": {
        "colab": {
          "base_uri": "https://localhost:8080/",
          "height": 333
        },
        "id": "PJSDuQZeXE2s",
        "outputId": "74afa4af-1eeb-4770-d263-8e788d851fb2"
      },
      "outputs": [
        {
          "name": "stderr",
          "output_type": "stream",
          "text": [
            "/usr/local/lib/python3.7/dist-packages/ipykernel_launcher.py:2: RuntimeWarning: invalid value encountered in true_divide\n",
            "  \n"
          ]
        },
        {
          "data": {
            "text/plain": [
              "Text(0, 0.5, '$g(r)$')"
            ]
          },
          "execution_count": 33,
          "metadata": {},
          "output_type": "execute_result"
        },
        {
          "data": {
            "image/png": "[encoded data removed]",
            "text/plain": [
              "<Figure size 432x288 with 1 Axes>"
            ]
          },
          "metadata": {
            "needs_background": "light"
          },
          "output_type": "display_data"
        }
      ],
      "source": [
        "r = np.linspace(0, L_box / 2, bins)\n",
        "pair_correlation = hist / (4 * np.pi * rho * r)\n",
        "\n",
        "\n",
        "plt.plot(r, pair_correlation, '-o') \n",
        "plt.xlabel(r'$r$')  \n",
        "plt.ylabel(r'$g(r)$')"
      ]
    }
  ],
  "metadata": {
    "colab": {
      "name": "numpyMD.ipynb",
      "provenance": []
    },
    "kernelspec": {
      "display_name": "Python 3",
      "name": "python3"
    },
    "language_info": {
      "name": "python"
    }
  },
  "nbformat": 4,
  "nbformat_minor": 0
}
