{
 "cells": [
  {
   "cell_type": "markdown",
   "metadata": {
    "id": "YXq9bgu-a5Mu"
   },
   "source": [
    "## Monte Carlo simulations of Lennard-Jones fluids"
   ]
  },
  {
   "cell_type": "code",
   "execution_count": 2,
   "metadata": {
    "id": "qBaT717ia5Mz"
   },
   "outputs": [],
   "source": [
    "import matplotlib.pyplot as plt\n",
    "\n",
    "import numpy as np\n",
    "from itertools import product\n",
    "\n",
    "from ipywidgets import interact\n",
    "import plotly.express as px\n",
    "from numba import jit, njit"
   ]
  },
  {
   "cell_type": "markdown",
   "metadata": {
    "id": "JeKTIa6Xa5M0"
   },
   "source": [
    "## LJ model of a simple fluids, noble gases"
   ]
  },
  {
   "cell_type": "markdown",
   "metadata": {
    "id": "qUqnxqlVa5M0"
   },
   "source": [
    "\n",
    "**Check out reference values of [LJ fluid properties tabulated by NIST](https://www.nist.gov/mml/csd/chemical-informatics-research-group/lennard-jones-fluid-properties)**\n",
    "\n"
   ]
  },
  {
   "cell_type": "code",
   "execution_count": 3,
   "metadata": {
    "id": "gIH3TnLfa5M0"
   },
   "outputs": [],
   "source": [
    "#------- Simulation parameters ----\n",
    "rho    = .88 # Density of Argon in natural units\n",
    "T_0    = 1   # Temperature\n",
    "N_cell = 3   # Number of unitcells in one direction    \n",
    "\n",
    "#------- All else is inferred from simulation params -------\n",
    "N      = 4 * N_cell ** 3 # the total number of particles in the system\n",
    "L_box  = (N / rho) ** (1 / 3) # length of the whole box\n",
    "L_cell =  L_box / N_cell # length of a unitcell"
   ]
  },
  {
   "cell_type": "markdown",
   "metadata": {
    "id": "7HkQC3eRa5M0"
   },
   "source": [
    "### Initializing the system, watch out for clashes!"
   ]
  },
  {
   "cell_type": "code",
   "execution_count": 4,
   "metadata": {
    "id": "lF5a3cJVa5M1"
   },
   "outputs": [],
   "source": [
    "def IC_pos(L_cell, N_cell):\n",
    "  '''Create lattice of LJ particles positioned\n",
    "  ---\n",
    "  N_cell: # number of unitcells in one direction  \n",
    "  L_cell: # length of a unitcell, which is box-length/N_cell\n",
    "  '''\n",
    "\n",
    "  pos = [[[x,  y, z], [x, 0.5 + y, 0.5 + z], [0.5 + x, y, 0.5 + z], [0.5 + x, 0.5 + y, z]] \n",
    "           for x, y, z in product(range(N_cell), range(N_cell), range(N_cell))]\n",
    "    \n",
    "  pos = np.array(pos).reshape((-1, 3))\n",
    "\n",
    "  return pos * L_cell"
   ]
  },
  {
   "cell_type": "code",
   "execution_count": 5,
   "metadata": {
    "id": "5Fw-Byx3a5M1"
   },
   "outputs": [
    {
     "data": {
      "application/vnd.plotly.v1+json": {
       "config": {
        "plotlyServerURL": "https://plot.ly"
       },
       "data": [
        {
         "hovertemplate": "x=%{x}<br>y=%{y}<br>z=%{z}<extra></extra>",
         "legendgroup": "",
         "marker": {
          "color": "#636efa",
          "opacity": 0.5,
          "symbol": "circle"
         },
         "mode": "markers",
         "name": "",
         "scene": "scene",
         "showlegend": false,
         "type": "scatter3d",
         "x": [
          0,
          0,
          0.8282519061799049,
          0.8282519061799049,
          0,
          0,
          0.8282519061799049,
          0.8282519061799049,
          0,
          0,
          0.8282519061799049,
          0.8282519061799049,
          0,
          0,
          0.8282519061799049,
          0.8282519061799049,
          0,
          0,
          0.8282519061799049,
          0.8282519061799049,
          0,
          0,
          0.8282519061799049,
          0.8282519061799049,
          0,
          0,
          0.8282519061799049,
          0.8282519061799049,
          0,
          0,
          0.8282519061799049,
          0.8282519061799049,
          0,
          0,
          0.8282519061799049,
          0.8282519061799049,
          1.6565038123598097,
          1.6565038123598097,
          2.4847557185397147,
          2.4847557185397147,
          1.6565038123598097,
          1.6565038123598097,
          2.4847557185397147,
          2.4847557185397147,
          1.6565038123598097,
          1.6565038123598097,
          2.4847557185397147,
          2.4847557185397147,
          1.6565038123598097,
          1.6565038123598097,
          2.4847557185397147,
          2.4847557185397147,
          1.6565038123598097,
          1.6565038123598097,
          2.4847557185397147,
          2.4847557185397147,
          1.6565038123598097,
          1.6565038123598097,
          2.4847557185397147,
          2.4847557185397147,
          1.6565038123598097,
          1.6565038123598097,
          2.4847557185397147,
          2.4847557185397147,
          1.6565038123598097,
          1.6565038123598097,
          2.4847557185397147,
          2.4847557185397147,
          1.6565038123598097,
          1.6565038123598097,
          2.4847557185397147,
          2.4847557185397147,
          3.3130076247196194,
          3.3130076247196194,
          4.141259530899524,
          4.141259530899524,
          3.3130076247196194,
          3.3130076247196194,
          4.141259530899524,
          4.141259530899524,
          3.3130076247196194,
          3.3130076247196194,
          4.141259530899524,
          4.141259530899524,
          3.3130076247196194,
          3.3130076247196194,
          4.141259530899524,
          4.141259530899524,
          3.3130076247196194,
          3.3130076247196194,
          4.141259530899524,
          4.141259530899524,
          3.3130076247196194,
          3.3130076247196194,
          4.141259530899524,
          4.141259530899524,
          3.3130076247196194,
          3.3130076247196194,
          4.141259530899524,
          4.141259530899524,
          3.3130076247196194,
          3.3130076247196194,
          4.141259530899524,
          4.141259530899524,
          3.3130076247196194,
          3.3130076247196194,
          4.141259530899524,
          4.141259530899524
         ],
         "y": [
          0,
          0.8282519061799049,
          0,
          0.8282519061799049,
          0,
          0.8282519061799049,
          0,
          0.8282519061799049,
          0,
          0.8282519061799049,
          0,
          0.8282519061799049,
          1.6565038123598097,
          2.4847557185397147,
          1.6565038123598097,
          2.4847557185397147,
          1.6565038123598097,
          2.4847557185397147,
          1.6565038123598097,
          2.4847557185397147,
          1.6565038123598097,
          2.4847557185397147,
          1.6565038123598097,
          2.4847557185397147,
          3.3130076247196194,
          4.141259530899524,
          3.3130076247196194,
          4.141259530899524,
          3.3130076247196194,
          4.141259530899524,
          3.3130076247196194,
          4.141259530899524,
          3.3130076247196194,
          4.141259530899524,
          3.3130076247196194,
          4.141259530899524,
          0,
          0.8282519061799049,
          0,
          0.8282519061799049,
          0,
          0.8282519061799049,
          0,
          0.8282519061799049,
          0,
          0.8282519061799049,
          0,
          0.8282519061799049,
          1.6565038123598097,
          2.4847557185397147,
          1.6565038123598097,
          2.4847557185397147,
          1.6565038123598097,
          2.4847557185397147,
          1.6565038123598097,
          2.4847557185397147,
          1.6565038123598097,
          2.4847557185397147,
          1.6565038123598097,
          2.4847557185397147,
          3.3130076247196194,
          4.141259530899524,
          3.3130076247196194,
          4.141259530899524,
          3.3130076247196194,
          4.141259530899524,
          3.3130076247196194,
          4.141259530899524,
          3.3130076247196194,
          4.141259530899524,
          3.3130076247196194,
          4.141259530899524,
          0,
          0.8282519061799049,
          0,
          0.8282519061799049,
          0,
          0.8282519061799049,
          0,
          0.8282519061799049,
          0,
          0.8282519061799049,
          0,
          0.8282519061799049,
          1.6565038123598097,
          2.4847557185397147,
          1.6565038123598097,
          2.4847557185397147,
          1.6565038123598097,
          2.4847557185397147,
          1.6565038123598097,
          2.4847557185397147,
          1.6565038123598097,
          2.4847557185397147,
          1.6565038123598097,
          2.4847557185397147,
          3.3130076247196194,
          4.141259530899524,
          3.3130076247196194,
          4.141259530899524,
          3.3130076247196194,
          4.141259530899524,
          3.3130076247196194,
          4.141259530899524,
          3.3130076247196194,
          4.141259530899524,
          3.3130076247196194,
          4.141259530899524
         ],
         "z": [
          0,
          0.8282519061799049,
          0.8282519061799049,
          0,
          1.6565038123598097,
          2.4847557185397147,
          2.4847557185397147,
          1.6565038123598097,
          3.3130076247196194,
          4.141259530899524,
          4.141259530899524,
          3.3130076247196194,
          0,
          0.8282519061799049,
          0.8282519061799049,
          0,
          1.6565038123598097,
          2.4847557185397147,
          2.4847557185397147,
          1.6565038123598097,
          3.3130076247196194,
          4.141259530899524,
          4.141259530899524,
          3.3130076247196194,
          0,
          0.8282519061799049,
          0.8282519061799049,
          0,
          1.6565038123598097,
          2.4847557185397147,
          2.4847557185397147,
          1.6565038123598097,
          3.3130076247196194,
          4.141259530899524,
          4.141259530899524,
          3.3130076247196194,
          0,
          0.8282519061799049,
          0.8282519061799049,
          0,
          1.6565038123598097,
          2.4847557185397147,
          2.4847557185397147,
          1.6565038123598097,
          3.3130076247196194,
          4.141259530899524,
          4.141259530899524,
          3.3130076247196194,
          0,
          0.8282519061799049,
          0.8282519061799049,
          0,
          1.6565038123598097,
          2.4847557185397147,
          2.4847557185397147,
          1.6565038123598097,
          3.3130076247196194,
          4.141259530899524,
          4.141259530899524,
          3.3130076247196194,
          0,
          0.8282519061799049,
          0.8282519061799049,
          0,
          1.6565038123598097,
          2.4847557185397147,
          2.4847557185397147,
          1.6565038123598097,
          3.3130076247196194,
          4.141259530899524,
          4.141259530899524,
          3.3130076247196194,
          0,
          0.8282519061799049,
          0.8282519061799049,
          0,
          1.6565038123598097,
          2.4847557185397147,
          2.4847557185397147,
          1.6565038123598097,
          3.3130076247196194,
          4.141259530899524,
          4.141259530899524,
          3.3130076247196194,
          0,
          0.8282519061799049,
          0.8282519061799049,
          0,
          1.6565038123598097,
          2.4847557185397147,
          2.4847557185397147,
          1.6565038123598097,
          3.3130076247196194,
          4.141259530899524,
          4.141259530899524,
          3.3130076247196194,
          0,
          0.8282519061799049,
          0.8282519061799049,
          0,
          1.6565038123598097,
          2.4847557185397147,
          2.4847557185397147,
          1.6565038123598097,
          3.3130076247196194,
          4.141259530899524,
          4.141259530899524,
          3.3130076247196194
         ]
        }
       ],
       "layout": {
        "legend": {
         "tracegroupgap": 0
        },
        "margin": {
         "t": 60
        },
        "scene": {
         "domain": {
          "x": [
           0,
           1
          ],
          "y": [
           0,
           1
          ]
         },
         "xaxis": {
          "title": {
           "text": "x"
          }
         },
         "yaxis": {
          "title": {
           "text": "y"
          }
         },
         "zaxis": {
          "title": {
           "text": "z"
          }
         }
        },
        "template": {
         "data": {
          "bar": [
           {
            "error_x": {
             "color": "#2a3f5f"
            },
            "error_y": {
             "color": "#2a3f5f"
            },
            "marker": {
             "line": {
              "color": "#E5ECF6",
              "width": 0.5
             },
             "pattern": {
              "fillmode": "overlay",
              "size": 10,
              "solidity": 0.2
             }
            },
            "type": "bar"
           }
          ],
          "barpolar": [
           {
            "marker": {
             "line": {
              "color": "#E5ECF6",
              "width": 0.5
             },
             "pattern": {
              "fillmode": "overlay",
              "size": 10,
              "solidity": 0.2
             }
            },
            "type": "barpolar"
           }
          ],
          "carpet": [
           {
            "aaxis": {
             "endlinecolor": "#2a3f5f",
             "gridcolor": "white",
             "linecolor": "white",
             "minorgridcolor": "white",
             "startlinecolor": "#2a3f5f"
            },
            "baxis": {
             "endlinecolor": "#2a3f5f",
             "gridcolor": "white",
             "linecolor": "white",
             "minorgridcolor": "white",
             "startlinecolor": "#2a3f5f"
            },
            "type": "carpet"
           }
          ],
          "choropleth": [
           {
            "colorbar": {
             "outlinewidth": 0,
             "ticks": ""
            },
            "type": "choropleth"
           }
          ],
          "contour": [
           {
            "colorbar": {
             "outlinewidth": 0,
             "ticks": ""
            },
            "colorscale": [
             [
              0,
              "#0d0887"
             ],
             [
              0.1111111111111111,
              "#46039f"
             ],
             [
              0.2222222222222222,
              "#7201a8"
             ],
             [
              0.3333333333333333,
              "#9c179e"
             ],
             [
              0.4444444444444444,
              "#bd3786"
             ],
             [
              0.5555555555555556,
              "#d8576b"
             ],
             [
              0.6666666666666666,
              "#ed7953"
             ],
             [
              0.7777777777777778,
              "#fb9f3a"
             ],
             [
              0.8888888888888888,
              "#fdca26"
             ],
             [
              1,
              "#f0f921"
             ]
            ],
            "type": "contour"
           }
          ],
          "contourcarpet": [
           {
            "colorbar": {
             "outlinewidth": 0,
             "ticks": ""
            },
            "type": "contourcarpet"
           }
          ],
          "heatmap": [
           {
            "colorbar": {
             "outlinewidth": 0,
             "ticks": ""
            },
            "colorscale": [
             [
              0,
              "#0d0887"
             ],
             [
              0.1111111111111111,
              "#46039f"
             ],
             [
              0.2222222222222222,
              "#7201a8"
             ],
             [
              0.3333333333333333,
              "#9c179e"
             ],
             [
              0.4444444444444444,
              "#bd3786"
             ],
             [
              0.5555555555555556,
              "#d8576b"
             ],
             [
              0.6666666666666666,
              "#ed7953"
             ],
             [
              0.7777777777777778,
              "#fb9f3a"
             ],
             [
              0.8888888888888888,
              "#fdca26"
             ],
             [
              1,
              "#f0f921"
             ]
            ],
            "type": "heatmap"
           }
          ],
          "heatmapgl": [
           {
            "colorbar": {
             "outlinewidth": 0,
             "ticks": ""
            },
            "colorscale": [
             [
              0,
              "#0d0887"
             ],
             [
              0.1111111111111111,
              "#46039f"
             ],
             [
              0.2222222222222222,
              "#7201a8"
             ],
             [
              0.3333333333333333,
              "#9c179e"
             ],
             [
              0.4444444444444444,
              "#bd3786"
             ],
             [
              0.5555555555555556,
              "#d8576b"
             ],
             [
              0.6666666666666666,
              "#ed7953"
             ],
             [
              0.7777777777777778,
              "#fb9f3a"
             ],
             [
              0.8888888888888888,
              "#fdca26"
             ],
             [
              1,
              "#f0f921"
             ]
            ],
            "type": "heatmapgl"
           }
          ],
          "histogram": [
           {
            "marker": {
             "pattern": {
              "fillmode": "overlay",
              "size": 10,
              "solidity": 0.2
             }
            },
            "type": "histogram"
           }
          ],
          "histogram2d": [
           {
            "colorbar": {
             "outlinewidth": 0,
             "ticks": ""
            },
            "colorscale": [
             [
              0,
              "#0d0887"
             ],
             [
              0.1111111111111111,
              "#46039f"
             ],
             [
              0.2222222222222222,
              "#7201a8"
             ],
             [
              0.3333333333333333,
              "#9c179e"
             ],
             [
              0.4444444444444444,
              "#bd3786"
             ],
             [
              0.5555555555555556,
              "#d8576b"
             ],
             [
              0.6666666666666666,
              "#ed7953"
             ],
             [
              0.7777777777777778,
              "#fb9f3a"
             ],
             [
              0.8888888888888888,
              "#fdca26"
             ],
             [
              1,
              "#f0f921"
             ]
            ],
            "type": "histogram2d"
           }
          ],
          "histogram2dcontour": [
           {
            "colorbar": {
             "outlinewidth": 0,
             "ticks": ""
            },
            "colorscale": [
             [
              0,
              "#0d0887"
             ],
             [
              0.1111111111111111,
              "#46039f"
             ],
             [
              0.2222222222222222,
              "#7201a8"
             ],
             [
              0.3333333333333333,
              "#9c179e"
             ],
             [
              0.4444444444444444,
              "#bd3786"
             ],
             [
              0.5555555555555556,
              "#d8576b"
             ],
             [
              0.6666666666666666,
              "#ed7953"
             ],
             [
              0.7777777777777778,
              "#fb9f3a"
             ],
             [
              0.8888888888888888,
              "#fdca26"
             ],
             [
              1,
              "#f0f921"
             ]
            ],
            "type": "histogram2dcontour"
           }
          ],
          "mesh3d": [
           {
            "colorbar": {
             "outlinewidth": 0,
             "ticks": ""
            },
            "type": "mesh3d"
           }
          ],
          "parcoords": [
           {
            "line": {
             "colorbar": {
              "outlinewidth": 0,
              "ticks": ""
             }
            },
            "type": "parcoords"
           }
          ],
          "pie": [
           {
            "automargin": true,
            "type": "pie"
           }
          ],
          "scatter": [
           {
            "marker": {
             "colorbar": {
              "outlinewidth": 0,
              "ticks": ""
             }
            },
            "type": "scatter"
           }
          ],
          "scatter3d": [
           {
            "line": {
             "colorbar": {
              "outlinewidth": 0,
              "ticks": ""
             }
            },
            "marker": {
             "colorbar": {
              "outlinewidth": 0,
              "ticks": ""
             }
            },
            "type": "scatter3d"
           }
          ],
          "scattercarpet": [
           {
            "marker": {
             "colorbar": {
              "outlinewidth": 0,
              "ticks": ""
             }
            },
            "type": "scattercarpet"
           }
          ],
          "scattergeo": [
           {
            "marker": {
             "colorbar": {
              "outlinewidth": 0,
              "ticks": ""
             }
            },
            "type": "scattergeo"
           }
          ],
          "scattergl": [
           {
            "marker": {
             "colorbar": {
              "outlinewidth": 0,
              "ticks": ""
             }
            },
            "type": "scattergl"
           }
          ],
          "scattermapbox": [
           {
            "marker": {
             "colorbar": {
              "outlinewidth": 0,
              "ticks": ""
             }
            },
            "type": "scattermapbox"
           }
          ],
          "scatterpolar": [
           {
            "marker": {
             "colorbar": {
              "outlinewidth": 0,
              "ticks": ""
             }
            },
            "type": "scatterpolar"
           }
          ],
          "scatterpolargl": [
           {
            "marker": {
             "colorbar": {
              "outlinewidth": 0,
              "ticks": ""
             }
            },
            "type": "scatterpolargl"
           }
          ],
          "scatterternary": [
           {
            "marker": {
             "colorbar": {
              "outlinewidth": 0,
              "ticks": ""
             }
            },
            "type": "scatterternary"
           }
          ],
          "surface": [
           {
            "colorbar": {
             "outlinewidth": 0,
             "ticks": ""
            },
            "colorscale": [
             [
              0,
              "#0d0887"
             ],
             [
              0.1111111111111111,
              "#46039f"
             ],
             [
              0.2222222222222222,
              "#7201a8"
             ],
             [
              0.3333333333333333,
              "#9c179e"
             ],
             [
              0.4444444444444444,
              "#bd3786"
             ],
             [
              0.5555555555555556,
              "#d8576b"
             ],
             [
              0.6666666666666666,
              "#ed7953"
             ],
             [
              0.7777777777777778,
              "#fb9f3a"
             ],
             [
              0.8888888888888888,
              "#fdca26"
             ],
             [
              1,
              "#f0f921"
             ]
            ],
            "type": "surface"
           }
          ],
          "table": [
           {
            "cells": {
             "fill": {
              "color": "#EBF0F8"
             },
             "line": {
              "color": "white"
             }
            },
            "header": {
             "fill": {
              "color": "#C8D4E3"
             },
             "line": {
              "color": "white"
             }
            },
            "type": "table"
           }
          ]
         },
         "layout": {
          "annotationdefaults": {
           "arrowcolor": "#2a3f5f",
           "arrowhead": 0,
           "arrowwidth": 1
          },
          "autotypenumbers": "strict",
          "coloraxis": {
           "colorbar": {
            "outlinewidth": 0,
            "ticks": ""
           }
          },
          "colorscale": {
           "diverging": [
            [
             0,
             "#8e0152"
            ],
            [
             0.1,
             "#c51b7d"
            ],
            [
             0.2,
             "#de77ae"
            ],
            [
             0.3,
             "#f1b6da"
            ],
            [
             0.4,
             "#fde0ef"
            ],
            [
             0.5,
             "#f7f7f7"
            ],
            [
             0.6,
             "#e6f5d0"
            ],
            [
             0.7,
             "#b8e186"
            ],
            [
             0.8,
             "#7fbc41"
            ],
            [
             0.9,
             "#4d9221"
            ],
            [
             1,
             "#276419"
            ]
           ],
           "sequential": [
            [
             0,
             "#0d0887"
            ],
            [
             0.1111111111111111,
             "#46039f"
            ],
            [
             0.2222222222222222,
             "#7201a8"
            ],
            [
             0.3333333333333333,
             "#9c179e"
            ],
            [
             0.4444444444444444,
             "#bd3786"
            ],
            [
             0.5555555555555556,
             "#d8576b"
            ],
            [
             0.6666666666666666,
             "#ed7953"
            ],
            [
             0.7777777777777778,
             "#fb9f3a"
            ],
            [
             0.8888888888888888,
             "#fdca26"
            ],
            [
             1,
             "#f0f921"
            ]
           ],
           "sequentialminus": [
            [
             0,
             "#0d0887"
            ],
            [
             0.1111111111111111,
             "#46039f"
            ],
            [
             0.2222222222222222,
             "#7201a8"
            ],
            [
             0.3333333333333333,
             "#9c179e"
            ],
            [
             0.4444444444444444,
             "#bd3786"
            ],
            [
             0.5555555555555556,
             "#d8576b"
            ],
            [
             0.6666666666666666,
             "#ed7953"
            ],
            [
             0.7777777777777778,
             "#fb9f3a"
            ],
            [
             0.8888888888888888,
             "#fdca26"
            ],
            [
             1,
             "#f0f921"
            ]
           ]
          },
          "colorway": [
           "#636efa",
           "#EF553B",
           "#00cc96",
           "#ab63fa",
           "#FFA15A",
           "#19d3f3",
           "#FF6692",
           "#B6E880",
           "#FF97FF",
           "#FECB52"
          ],
          "font": {
           "color": "#2a3f5f"
          },
          "geo": {
           "bgcolor": "white",
           "lakecolor": "white",
           "landcolor": "#E5ECF6",
           "showlakes": true,
           "showland": true,
           "subunitcolor": "white"
          },
          "hoverlabel": {
           "align": "left"
          },
          "hovermode": "closest",
          "mapbox": {
           "style": "light"
          },
          "paper_bgcolor": "white",
          "plot_bgcolor": "#E5ECF6",
          "polar": {
           "angularaxis": {
            "gridcolor": "white",
            "linecolor": "white",
            "ticks": ""
           },
           "bgcolor": "#E5ECF6",
           "radialaxis": {
            "gridcolor": "white",
            "linecolor": "white",
            "ticks": ""
           }
          },
          "scene": {
           "xaxis": {
            "backgroundcolor": "#E5ECF6",
            "gridcolor": "white",
            "gridwidth": 2,
            "linecolor": "white",
            "showbackground": true,
            "ticks": "",
            "zerolinecolor": "white"
           },
           "yaxis": {
            "backgroundcolor": "#E5ECF6",
            "gridcolor": "white",
            "gridwidth": 2,
            "linecolor": "white",
            "showbackground": true,
            "ticks": "",
            "zerolinecolor": "white"
           },
           "zaxis": {
            "backgroundcolor": "#E5ECF6",
            "gridcolor": "white",
            "gridwidth": 2,
            "linecolor": "white",
            "showbackground": true,
            "ticks": "",
            "zerolinecolor": "white"
           }
          },
          "shapedefaults": {
           "line": {
            "color": "#2a3f5f"
           }
          },
          "ternary": {
           "aaxis": {
            "gridcolor": "white",
            "linecolor": "white",
            "ticks": ""
           },
           "baxis": {
            "gridcolor": "white",
            "linecolor": "white",
            "ticks": ""
           },
           "bgcolor": "#E5ECF6",
           "caxis": {
            "gridcolor": "white",
            "linecolor": "white",
            "ticks": ""
           }
          },
          "title": {
           "x": 0.05
          },
          "xaxis": {
           "automargin": true,
           "gridcolor": "white",
           "linecolor": "white",
           "ticks": "",
           "title": {
            "standoff": 15
           },
           "zerolinecolor": "white",
           "zerolinewidth": 2
          },
          "yaxis": {
           "automargin": true,
           "gridcolor": "white",
           "linecolor": "white",
           "ticks": "",
           "title": {
            "standoff": 15
           },
           "zerolinecolor": "white",
           "zerolinewidth": 2
          }
         }
        }
       }
      }
     },
     "metadata": {},
     "output_type": "display_data"
    }
   ],
   "source": [
    "pos = IC_pos(L_cell, N_cell)\n",
    "\n",
    "px.scatter_3d(x=pos[:,0], y=pos[:,1], z=pos[:,2], opacity=0.5)"
   ]
  },
  {
   "cell_type": "markdown",
   "metadata": {
    "id": "GNNI5lnLa5M2"
   },
   "source": [
    "### [Periodic Boundary conditions and minimum image criterion](https://en.wikipedia.org/wiki/Periodic_boundary_conditions)"
   ]
  },
  {
   "cell_type": "code",
   "execution_count": 6,
   "metadata": {
    "id": "s4cUmrZRa5M3"
   },
   "outputs": [],
   "source": [
    "def pbc_basic(x, L):\n",
    "  '''For a box centered at the origin. This pbc function for wrapping positions of particles back into the into the box. \n",
    "  This function should also be used for dx displacements to obey minimum image criterion. \n",
    "  '''\n",
    "    \n",
    "  if   x >=  L/2: x -= L  \n",
    "\n",
    "  elif x <= -L/2: x += L\n",
    "\n",
    "  return x\n",
    "\n",
    "@njit\n",
    "def pbc_wrap(r_vec, L_box):\n",
    "    '''For a box with origin at a corner. This function does not put particles back into box but is shifting dx, dy, dz \n",
    "    distances to obey minimum image criterion.  \n",
    "    ---\n",
    "    r_vec: np.array([x,y,z]) \n",
    "    L_box: float, \n",
    "    '''\n",
    "    \n",
    "    r_vec = r_vec - np.rint(r_vec / L_box) * L_box\n",
    "    \n",
    "    return r_vec"
   ]
  },
  {
   "cell_type": "markdown",
   "metadata": {
    "id": "RGdi41MQa5M3"
   },
   "source": [
    "### Computing pairwise distances and energies"
   ]
  },
  {
   "cell_type": "code",
   "execution_count": 7,
   "metadata": {
    "id": "bymBLpQIa5M4"
   },
   "outputs": [],
   "source": [
    "@njit\n",
    "def getE_tot(pos, L, trunc, sig=1, eps=1):\n",
    "    '''Compute Total energy by summing all pairwise interactions'''\n",
    "    \n",
    "    N = len(pos)\n",
    "    energy = 0\n",
    "\n",
    "    r_sq_list = []\n",
    "    \n",
    "    for i in range(0, N-1):\n",
    "        for j in range(i+1, N):\n",
    "\n",
    "          r_vec = pbc_wrap(pos[i]-pos[j], L)\n",
    "\n",
    "          r_sq = np.sum(r_vec**2)\n",
    "\n",
    "          if r_sq <= trunc**2:\n",
    "                \n",
    "            energy += 4 * eps * ( (sig/r_sq)**6 - (sig/r_sq)**3 )\n",
    "\n",
    "          r_sq_list.append(r_sq)\n",
    "\n",
    "    return energy, r_sq_list\n",
    "    \n",
    "@njit \n",
    "def E_disp(pos, L, trunc, j, delta, sig=1, eps=1):\n",
    "    '''Compute energy resulting from displacing a tagged particle j by a small incremenet delta'''\n",
    "    \n",
    "    N = len(pos)\n",
    "    energy = 0\n",
    "\n",
    "    #iterate over neighbours of tagged particle j\n",
    "    nbs = [i for i in range(N) if i!=j]\n",
    "\n",
    "    r_j = pos[j]+delta\n",
    "\n",
    "    for i in nbs:\n",
    "\n",
    "      r_vec = pbc_wrap(pos[i] - r_j, L)\n",
    "\n",
    "      r_sq = np.sum(r_vec**2)\n",
    "      \n",
    "      if r_sq <= trunc**2:\n",
    "                \n",
    "        energy += 4* eps * ( (sig/r_sq)**6 - (sig/r_sq)**3 )\n",
    "\n",
    "    return energy"
   ]
  },
  {
   "cell_type": "markdown",
   "metadata": {
    "id": "a-AX1urwa5M4"
   },
   "source": [
    "### MC engine for LJ fluid in 3D (NVT ensemble)\n",
    "Now that the main helper functions are set up we can put together a main Monte Carlo engine that loops through randomly selected particles and attemps their displacement via Metropolis Criterion. "
   ]
  },
  {
   "cell_type": "code",
   "execution_count": 8,
   "metadata": {
    "id": "C-4M9E5ba5M5"
   },
   "outputs": [],
   "source": [
    "@njit\n",
    "def doMC_LJ(pos, rho, T, trunc=4, disp=0.5, steps=10000, freq=1000):\n",
    "\n",
    "    # initialize variables\n",
    "\n",
    "    N      = len(pos)\n",
    "    L      = ( N / rho ) ** (1/3)\n",
    "    \n",
    "    E_tot, r_sq_list   = getE_tot(pos, L, trunc)\n",
    "    es      = [E_tot]\n",
    "    hists   = []\n",
    "    confs   = [pos.copy()] \n",
    "    \n",
    "    # Loop through MC steps\n",
    "    for step in range(int(steps)):\n",
    "        \n",
    "        # Randomly choose some particle i in  \n",
    "        j     = np.random.randint(N)\n",
    "        \n",
    "        #Give particle i a random push delta, from -0.5 to 0.5:\n",
    "        delta = np.random.rand(3) - disp\n",
    "\n",
    "        # Evaluate energy change due to particle displacement\n",
    "        dE = E_disp(pos, L, trunc, j, delta) - E_disp(pos, L, trunc, j, delta=0.0)\n",
    "\n",
    "        # Metropolis acceptance/rejection conditions\n",
    "        if  np.exp(-dE/T) > np.random.rand():\n",
    "            \n",
    "            pos[j] += delta\n",
    "            \n",
    "        if step % freq ==0:\n",
    "\n",
    "            E_tot, r_sq_list  = getE_tot(pos, L, trunc)\n",
    "            H, _ = np.histogram(np.array(r_sq_list), bins=30, range=(0, L / 2))\n",
    "\n",
    "            hists.append(H)\n",
    "            es.append(E_tot)\n",
    "            confs.append(pos.copy())\n",
    "\n",
    "    return confs, es, hists"
   ]
  },
  {
   "cell_type": "markdown",
   "metadata": {
    "id": "aMOx9hVOa5M5"
   },
   "source": [
    "### Running MCMC simulation on LJ system"
   ]
  },
  {
   "cell_type": "code",
   "execution_count": 9,
   "metadata": {
    "id": "H4tJ9YYMa5M5"
   },
   "outputs": [],
   "source": [
    "#------- Simulation parameters ----\n",
    "rho    = .88 # Density of Argon in natural units\n",
    "T    = 1   # Temperature\n",
    "N_cell = 3   # Number of unitcells in one direction    \n",
    "\n",
    "#------- All else is inferred from simulation params -------\n",
    "N      = 4 * N_cell ** 3 # the total number of particles in the system\n",
    "L_box  = (N / rho) ** (1 / 3) # length of the whole box\n",
    "L_cell =  L_box / N_cell # length of a unitcell"
   ]
  },
  {
   "cell_type": "code",
   "execution_count": 10,
   "metadata": {
    "colab": {
     "background_save": true
    },
    "id": "lYrcXB5ea5M6",
    "outputId": "7be0272f-882d-4f14-c463-2cc617ba0d93"
   },
   "outputs": [
    {
     "name": "stdout",
     "output_type": "stream",
     "text": [
      "CPU times: user 1e+03 ns, sys: 1 µs, total: 2 µs\n",
      "Wall time: 3.1 µs\n"
     ]
    }
   ],
   "source": [
    "%time \n",
    "\n",
    "pos = IC_pos(L_cell, N_cell)\n",
    "\n",
    "confs, es, hists = doMC_LJ(pos, rho, T, steps = int(3e5),  freq=100)"
   ]
  },
  {
   "cell_type": "code",
   "execution_count": 11,
   "metadata": {},
   "outputs": [
    {
     "data": {
      "text/plain": [
       "[<matplotlib.lines.Line2D at 0x1862e5a00>]"
      ]
     },
     "execution_count": 11,
     "metadata": {},
     "output_type": "execute_result"
    },
    {
     "data": {
      "image/png": "[encoded data removed]",
      "text/plain": [
       "<Figure size 432x288 with 1 Axes>"
      ]
     },
     "metadata": {
      "needs_background": "light"
     },
     "output_type": "display_data"
    }
   ],
   "source": [
    "plt.plot(es)"
   ]
  },
  {
   "cell_type": "code",
   "execution_count": 12,
   "metadata": {},
   "outputs": [],
   "source": [
    "#@interact(i=(0, 1000-1))\n",
    "def viz_sim_lj(i=0):\n",
    "\n",
    "  view = px.scatter_3d(x=confs[i][:,0], y=confs[i][:,1], z=confs[i][:,2], opacity=0.5)\n",
    "\n",
    "  return view"
   ]
  },
  {
   "cell_type": "code",
   "execution_count": 14,
   "metadata": {
    "id": "TPyYmOkfa5M6"
   },
   "outputs": [
    {
     "name": "stderr",
     "output_type": "stream",
     "text": [
      "/var/folders/3h/w4n54dz57dvbhgvz68gdv0f0f3hkmm/T/ipykernel_78294/2060904021.py:3: RuntimeWarning:\n",
      "\n",
      "invalid value encountered in true_divide\n",
      "\n"
     ]
    },
    {
     "data": {
      "text/plain": [
       "Text(0, 0.5, '$g(r)$')"
      ]
     },
     "execution_count": 14,
     "metadata": {},
     "output_type": "execute_result"
    },
    {
     "data": {
      "image/png": "[encoded data removed]",
      "text/plain": [
       "<Figure size 432x288 with 1 Axes>"
      ]
     },
     "metadata": {
      "needs_background": "light"
     },
     "output_type": "display_data"
    }
   ],
   "source": [
    "r = np.linspace(0, L_box / 2, 30)\n",
    "\n",
    "pair_correlation = np.mean(hists, axis=0) / (4 * np.pi * rho * r)\n",
    "\n",
    "plt.plot(r, pair_correlation, '-o') \n",
    "plt.xlabel(r'$r$')  \n",
    "plt.ylabel(r'$g(r)$')"
   ]
  }
 ],
 "metadata": {
  "colab": {
   "collapsed_sections": [],
   "name": "06_MC_LJ.ipynb",
   "provenance": []
  },
  "interpreter": {
   "hash": "38cca0c38332a56087b24af0bc80247f4fced29cb4f7f437d91dc159adec9c4e"
  },
  "kernelspec": {
   "display_name": "Python 3",
   "language": "python",
   "name": "python3"
  },
  "language_info": {
   "codemirror_mode": {
    "name": "ipython",
    "version": 3
   },
   "file_extension": ".py",
   "mimetype": "text/x-python",
   "name": "python",
   "nbconvert_exporter": "python",
   "pygments_lexer": "ipython3",
   "version": "3.8.8"
  },
  "nteract": {
   "version": "0.22.0"
  },
  "toc": {
   "base_numbering": 1,
   "nav_menu": {},
   "number_sections": true,
   "sideBar": true,
   "skip_h1_title": false,
   "title_cell": "Table of Contents",
   "title_sidebar": "Contents",
   "toc_cell": false,
   "toc_position": {},
   "toc_section_display": true,
   "toc_window_display": false
  },
  "widgets": {
   "application/vnd.jupyter.widget-state+json": {
    "state": {},
    "version_major": 2,
    "version_minor": 0
   }
  }
 },
 "nbformat": 4,
 "nbformat_minor": 4
}
