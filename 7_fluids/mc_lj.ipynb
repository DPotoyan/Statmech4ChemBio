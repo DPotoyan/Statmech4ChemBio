{
 "cells": [
  {
   "cell_type": "markdown",
   "metadata": {
    "id": "YXq9bgu-a5Mu"
   },
   "source": [
    "## MC simulations of fluids"
   ]
  },
  {
   "cell_type": "code",
   "execution_count": 2,
   "metadata": {
    "id": "qBaT717ia5Mz"
   },
   "outputs": [],
   "source": [
    "import matplotlib.pyplot as plt\n",
    "\n",
    "import numpy as np\n",
    "from itertools import product\n",
    "\n",
    "from ipywidgets import interact\n",
    "import plotly.express as px\n",
    "from numba import jit, njit"
   ]
  },
  {
   "cell_type": "markdown",
   "metadata": {
    "id": "JeKTIa6Xa5M0"
   },
   "source": [
    "## LJ model of a simple fluids, noble gases"
   ]
  },
  {
   "cell_type": "markdown",
   "metadata": {
    "id": "qUqnxqlVa5M0"
   },
   "source": [
    "\n",
    "**Check out reference values of [LJ fluid properties tabulated by NIST](https://www.nist.gov/mml/csd/chemical-informatics-research-group/lennard-jones-fluid-properties)**\n",
    "\n"
   ]
  },
  {
   "cell_type": "markdown",
   "metadata": {},
   "source": []
  },
  {
   "cell_type": "markdown",
   "metadata": {
    "id": "7HkQC3eRa5M0"
   },
   "source": [
    "### Initializing the system, watch out for clashes!\n",
    "\n",
    "- Density, temperature and unitcell number can be used to fully speify a lattice packed with LJ particles "
   ]
  },
  {
   "cell_type": "code",
   "execution_count": 20,
   "metadata": {
    "id": "lF5a3cJVa5M1"
   },
   "outputs": [],
   "source": [
    "\n",
    "\n",
    "def IC_pos(rho=0.88, N_cell=3):\n",
    "    \"\"\"\n",
    "    Create a lattice of Lennard-Jones particles initially placed in a cubic FCC lattice.\n",
    "\n",
    "    Parameters:\n",
    "    rho (float, optional): Number density of particles. Defaults to 0.88.\n",
    "    N_cell (int, optional): Number of unit cells in one direction. Defaults to 3.\n",
    "\n",
    "    Returns:\n",
    "    np.array: Array of particle positions.\n",
    "    float: Length of the simulation box.\n",
    "    int: Total number of particles.\n",
    "    \"\"\"\n",
    "    from itertools import product\n",
    "    \n",
    "    N = 4 * N_cell ** 3  # Total number of particles in the system\n",
    "    L_box = (N / rho) ** (1 / 3)  # Length of the simulation box\n",
    "    L_cell = L_box / N_cell  # Length of a unit cell\n",
    "\n",
    "    # Generate positions within the unit cell\n",
    "    base_positions = np.array([[0, 0, 0],\n",
    "                               [0, 0.5, 0.5],\n",
    "                               [0.5, 0, 0.5],\n",
    "                               [0.5, 0.5, 0]])\n",
    "\n",
    "    # Create lattice by translating the base positions\n",
    "    pos = np.array([base + np.array([x, y, z]) for x, y, z in product(range(N_cell), repeat=3)\n",
    "                    for base in base_positions])\n",
    "\n",
    "    # Scale positions to the size of the unit cell\n",
    "    pos *= L_cell\n",
    "\n",
    "    return pos, L_box, N\n"
   ]
  },
  {
   "cell_type": "code",
   "execution_count": 22,
   "metadata": {
    "id": "5Fw-Byx3a5M1"
   },
   "outputs": [
    {
     "data": {
      "application/vnd.plotly.v1+json": {
       "config": {
        "plotlyServerURL": "https://plot.ly"
       },
       "data": [
        {
         "hovertemplate": "x=%{x}<br>y=%{y}<br>z=%{z}<extra></extra>",
         "legendgroup": "",
         "marker": {
          "color": "#636efa",
          "opacity": 0.5,
          "symbol": "circle"
         },
         "mode": "markers",
         "name": "",
         "scene": "scene",
         "showlegend": false,
         "type": "scatter3d",
         "x": [
          0,
          0,
          0.6707991776733532,
          0.6707991776733532,
          0,
          0,
          0.6707991776733532,
          0.6707991776733532,
          0,
          0,
          0.6707991776733532,
          0.6707991776733532,
          0,
          0,
          0.6707991776733532,
          0.6707991776733532,
          0,
          0,
          0.6707991776733532,
          0.6707991776733532,
          0,
          0,
          0.6707991776733532,
          0.6707991776733532,
          0,
          0,
          0.6707991776733532,
          0.6707991776733532,
          0,
          0,
          0.6707991776733532,
          0.6707991776733532,
          0,
          0,
          0.6707991776733532,
          0.6707991776733532,
          1.3415983553467064,
          1.3415983553467064,
          2.0123975330200596,
          2.0123975330200596,
          1.3415983553467064,
          1.3415983553467064,
          2.0123975330200596,
          2.0123975330200596,
          1.3415983553467064,
          1.3415983553467064,
          2.0123975330200596,
          2.0123975330200596,
          1.3415983553467064,
          1.3415983553467064,
          2.0123975330200596,
          2.0123975330200596,
          1.3415983553467064,
          1.3415983553467064,
          2.0123975330200596,
          2.0123975330200596,
          1.3415983553467064,
          1.3415983553467064,
          2.0123975330200596,
          2.0123975330200596,
          1.3415983553467064,
          1.3415983553467064,
          2.0123975330200596,
          2.0123975330200596,
          1.3415983553467064,
          1.3415983553467064,
          2.0123975330200596,
          2.0123975330200596,
          1.3415983553467064,
          1.3415983553467064,
          2.0123975330200596,
          2.0123975330200596,
          2.6831967106934127,
          2.6831967106934127,
          3.3539958883667658,
          3.3539958883667658,
          2.6831967106934127,
          2.6831967106934127,
          3.3539958883667658,
          3.3539958883667658,
          2.6831967106934127,
          2.6831967106934127,
          3.3539958883667658,
          3.3539958883667658,
          2.6831967106934127,
          2.6831967106934127,
          3.3539958883667658,
          3.3539958883667658,
          2.6831967106934127,
          2.6831967106934127,
          3.3539958883667658,
          3.3539958883667658,
          2.6831967106934127,
          2.6831967106934127,
          3.3539958883667658,
          3.3539958883667658,
          2.6831967106934127,
          2.6831967106934127,
          3.3539958883667658,
          3.3539958883667658,
          2.6831967106934127,
          2.6831967106934127,
          3.3539958883667658,
          3.3539958883667658,
          2.6831967106934127,
          2.6831967106934127,
          3.3539958883667658,
          3.3539958883667658
         ],
         "y": [
          0,
          0.6707991776733532,
          0,
          0.6707991776733532,
          0,
          0.6707991776733532,
          0,
          0.6707991776733532,
          0,
          0.6707991776733532,
          0,
          0.6707991776733532,
          1.3415983553467064,
          2.0123975330200596,
          1.3415983553467064,
          2.0123975330200596,
          1.3415983553467064,
          2.0123975330200596,
          1.3415983553467064,
          2.0123975330200596,
          1.3415983553467064,
          2.0123975330200596,
          1.3415983553467064,
          2.0123975330200596,
          2.6831967106934127,
          3.3539958883667658,
          2.6831967106934127,
          3.3539958883667658,
          2.6831967106934127,
          3.3539958883667658,
          2.6831967106934127,
          3.3539958883667658,
          2.6831967106934127,
          3.3539958883667658,
          2.6831967106934127,
          3.3539958883667658,
          0,
          0.6707991776733532,
          0,
          0.6707991776733532,
          0,
          0.6707991776733532,
          0,
          0.6707991776733532,
          0,
          0.6707991776733532,
          0,
          0.6707991776733532,
          1.3415983553467064,
          2.0123975330200596,
          1.3415983553467064,
          2.0123975330200596,
          1.3415983553467064,
          2.0123975330200596,
          1.3415983553467064,
          2.0123975330200596,
          1.3415983553467064,
          2.0123975330200596,
          1.3415983553467064,
          2.0123975330200596,
          2.6831967106934127,
          3.3539958883667658,
          2.6831967106934127,
          3.3539958883667658,
          2.6831967106934127,
          3.3539958883667658,
          2.6831967106934127,
          3.3539958883667658,
          2.6831967106934127,
          3.3539958883667658,
          2.6831967106934127,
          3.3539958883667658,
          0,
          0.6707991776733532,
          0,
          0.6707991776733532,
          0,
          0.6707991776733532,
          0,
          0.6707991776733532,
          0,
          0.6707991776733532,
          0,
          0.6707991776733532,
          1.3415983553467064,
          2.0123975330200596,
          1.3415983553467064,
          2.0123975330200596,
          1.3415983553467064,
          2.0123975330200596,
          1.3415983553467064,
          2.0123975330200596,
          1.3415983553467064,
          2.0123975330200596,
          1.3415983553467064,
          2.0123975330200596,
          2.6831967106934127,
          3.3539958883667658,
          2.6831967106934127,
          3.3539958883667658,
          2.6831967106934127,
          3.3539958883667658,
          2.6831967106934127,
          3.3539958883667658,
          2.6831967106934127,
          3.3539958883667658,
          2.6831967106934127,
          3.3539958883667658
         ],
         "z": [
          0,
          0.6707991776733532,
          0.6707991776733532,
          0,
          1.3415983553467064,
          2.0123975330200596,
          2.0123975330200596,
          1.3415983553467064,
          2.6831967106934127,
          3.3539958883667658,
          3.3539958883667658,
          2.6831967106934127,
          0,
          0.6707991776733532,
          0.6707991776733532,
          0,
          1.3415983553467064,
          2.0123975330200596,
          2.0123975330200596,
          1.3415983553467064,
          2.6831967106934127,
          3.3539958883667658,
          3.3539958883667658,
          2.6831967106934127,
          0,
          0.6707991776733532,
          0.6707991776733532,
          0,
          1.3415983553467064,
          2.0123975330200596,
          2.0123975330200596,
          1.3415983553467064,
          2.6831967106934127,
          3.3539958883667658,
          3.3539958883667658,
          2.6831967106934127,
          0,
          0.6707991776733532,
          0.6707991776733532,
          0,
          1.3415983553467064,
          2.0123975330200596,
          2.0123975330200596,
          1.3415983553467064,
          2.6831967106934127,
          3.3539958883667658,
          3.3539958883667658,
          2.6831967106934127,
          0,
          0.6707991776733532,
          0.6707991776733532,
          0,
          1.3415983553467064,
          2.0123975330200596,
          2.0123975330200596,
          1.3415983553467064,
          2.6831967106934127,
          3.3539958883667658,
          3.3539958883667658,
          2.6831967106934127,
          0,
          0.6707991776733532,
          0.6707991776733532,
          0,
          1.3415983553467064,
          2.0123975330200596,
          2.0123975330200596,
          1.3415983553467064,
          2.6831967106934127,
          3.3539958883667658,
          3.3539958883667658,
          2.6831967106934127,
          0,
          0.6707991776733532,
          0.6707991776733532,
          0,
          1.3415983553467064,
          2.0123975330200596,
          2.0123975330200596,
          1.3415983553467064,
          2.6831967106934127,
          3.3539958883667658,
          3.3539958883667658,
          2.6831967106934127,
          0,
          0.6707991776733532,
          0.6707991776733532,
          0,
          1.3415983553467064,
          2.0123975330200596,
          2.0123975330200596,
          1.3415983553467064,
          2.6831967106934127,
          3.3539958883667658,
          3.3539958883667658,
          2.6831967106934127,
          0,
          0.6707991776733532,
          0.6707991776733532,
          0,
          1.3415983553467064,
          2.0123975330200596,
          2.0123975330200596,
          1.3415983553467064,
          2.6831967106934127,
          3.3539958883667658,
          3.3539958883667658,
          2.6831967106934127
         ]
        }
       ],
       "layout": {
        "autosize": true,
        "legend": {
         "tracegroupgap": 0
        },
        "margin": {
         "t": 60
        },
        "scene": {
         "aspectmode": "auto",
         "aspectratio": {
          "x": 1,
          "y": 1,
          "z": 1
         },
         "camera": {
          "center": {
           "x": 0,
           "y": 0,
           "z": 0
          },
          "eye": {
           "x": 1.371183282271062,
           "y": 1.1703554632661133,
           "z": 1.1990097981349113
          },
          "projection": {
           "type": "perspective"
          },
          "up": {
           "x": 0,
           "y": 0,
           "z": 1
          }
         },
         "domain": {
          "x": [
           0,
           1
          ],
          "y": [
           0,
           1
          ]
         },
         "xaxis": {
          "title": {
           "text": "x"
          },
          "type": "linear"
         },
         "yaxis": {
          "title": {
           "text": "y"
          },
          "type": "linear"
         },
         "zaxis": {
          "title": {
           "text": "z"
          },
          "type": "linear"
         }
        },
        "template": {
         "data": {
          "bar": [
           {
            "error_x": {
             "color": "#2a3f5f"
            },
            "error_y": {
             "color": "#2a3f5f"
            },
            "marker": {
             "line": {
              "color": "#E5ECF6",
              "width": 0.5
             },
             "pattern": {
              "fillmode": "overlay",
              "size": 10,
              "solidity": 0.2
             }
            },
            "type": "bar"
           }
          ],
          "barpolar": [
           {
            "marker": {
             "line": {
              "color": "#E5ECF6",
              "width": 0.5
             },
             "pattern": {
              "fillmode": "overlay",
              "size": 10,
              "solidity": 0.2
             }
            },
            "type": "barpolar"
           }
          ],
          "carpet": [
           {
            "aaxis": {
             "endlinecolor": "#2a3f5f",
             "gridcolor": "white",
             "linecolor": "white",
             "minorgridcolor": "white",
             "startlinecolor": "#2a3f5f"
            },
            "baxis": {
             "endlinecolor": "#2a3f5f",
             "gridcolor": "white",
             "linecolor": "white",
             "minorgridcolor": "white",
             "startlinecolor": "#2a3f5f"
            },
            "type": "carpet"
           }
          ],
          "choropleth": [
           {
            "colorbar": {
             "outlinewidth": 0,
             "ticks": ""
            },
            "type": "choropleth"
           }
          ],
          "contour": [
           {
            "colorbar": {
             "outlinewidth": 0,
             "ticks": ""
            },
            "colorscale": [
             [
              0,
              "#0d0887"
             ],
             [
              0.1111111111111111,
              "#46039f"
             ],
             [
              0.2222222222222222,
              "#7201a8"
             ],
             [
              0.3333333333333333,
              "#9c179e"
             ],
             [
              0.4444444444444444,
              "#bd3786"
             ],
             [
              0.5555555555555556,
              "#d8576b"
             ],
             [
              0.6666666666666666,
              "#ed7953"
             ],
             [
              0.7777777777777778,
              "#fb9f3a"
             ],
             [
              0.8888888888888888,
              "#fdca26"
             ],
             [
              1,
              "#f0f921"
             ]
            ],
            "type": "contour"
           }
          ],
          "contourcarpet": [
           {
            "colorbar": {
             "outlinewidth": 0,
             "ticks": ""
            },
            "type": "contourcarpet"
           }
          ],
          "heatmap": [
           {
            "colorbar": {
             "outlinewidth": 0,
             "ticks": ""
            },
            "colorscale": [
             [
              0,
              "#0d0887"
             ],
             [
              0.1111111111111111,
              "#46039f"
             ],
             [
              0.2222222222222222,
              "#7201a8"
             ],
             [
              0.3333333333333333,
              "#9c179e"
             ],
             [
              0.4444444444444444,
              "#bd3786"
             ],
             [
              0.5555555555555556,
              "#d8576b"
             ],
             [
              0.6666666666666666,
              "#ed7953"
             ],
             [
              0.7777777777777778,
              "#fb9f3a"
             ],
             [
              0.8888888888888888,
              "#fdca26"
             ],
             [
              1,
              "#f0f921"
             ]
            ],
            "type": "heatmap"
           }
          ],
          "heatmapgl": [
           {
            "colorbar": {
             "outlinewidth": 0,
             "ticks": ""
            },
            "colorscale": [
             [
              0,
              "#0d0887"
             ],
             [
              0.1111111111111111,
              "#46039f"
             ],
             [
              0.2222222222222222,
              "#7201a8"
             ],
             [
              0.3333333333333333,
              "#9c179e"
             ],
             [
              0.4444444444444444,
              "#bd3786"
             ],
             [
              0.5555555555555556,
              "#d8576b"
             ],
             [
              0.6666666666666666,
              "#ed7953"
             ],
             [
              0.7777777777777778,
              "#fb9f3a"
             ],
             [
              0.8888888888888888,
              "#fdca26"
             ],
             [
              1,
              "#f0f921"
             ]
            ],
            "type": "heatmapgl"
           }
          ],
          "histogram": [
           {
            "marker": {
             "pattern": {
              "fillmode": "overlay",
              "size": 10,
              "solidity": 0.2
             }
            },
            "type": "histogram"
           }
          ],
          "histogram2d": [
           {
            "colorbar": {
             "outlinewidth": 0,
             "ticks": ""
            },
            "colorscale": [
             [
              0,
              "#0d0887"
             ],
             [
              0.1111111111111111,
              "#46039f"
             ],
             [
              0.2222222222222222,
              "#7201a8"
             ],
             [
              0.3333333333333333,
              "#9c179e"
             ],
             [
              0.4444444444444444,
              "#bd3786"
             ],
             [
              0.5555555555555556,
              "#d8576b"
             ],
             [
              0.6666666666666666,
              "#ed7953"
             ],
             [
              0.7777777777777778,
              "#fb9f3a"
             ],
             [
              0.8888888888888888,
              "#fdca26"
             ],
             [
              1,
              "#f0f921"
             ]
            ],
            "type": "histogram2d"
           }
          ],
          "histogram2dcontour": [
           {
            "colorbar": {
             "outlinewidth": 0,
             "ticks": ""
            },
            "colorscale": [
             [
              0,
              "#0d0887"
             ],
             [
              0.1111111111111111,
              "#46039f"
             ],
             [
              0.2222222222222222,
              "#7201a8"
             ],
             [
              0.3333333333333333,
              "#9c179e"
             ],
             [
              0.4444444444444444,
              "#bd3786"
             ],
             [
              0.5555555555555556,
              "#d8576b"
             ],
             [
              0.6666666666666666,
              "#ed7953"
             ],
             [
              0.7777777777777778,
              "#fb9f3a"
             ],
             [
              0.8888888888888888,
              "#fdca26"
             ],
             [
              1,
              "#f0f921"
             ]
            ],
            "type": "histogram2dcontour"
           }
          ],
          "mesh3d": [
           {
            "colorbar": {
             "outlinewidth": 0,
             "ticks": ""
            },
            "type": "mesh3d"
           }
          ],
          "parcoords": [
           {
            "line": {
             "colorbar": {
              "outlinewidth": 0,
              "ticks": ""
             }
            },
            "type": "parcoords"
           }
          ],
          "pie": [
           {
            "automargin": true,
            "type": "pie"
           }
          ],
          "scatter": [
           {
            "marker": {
             "colorbar": {
              "outlinewidth": 0,
              "ticks": ""
             }
            },
            "type": "scatter"
           }
          ],
          "scatter3d": [
           {
            "line": {
             "colorbar": {
              "outlinewidth": 0,
              "ticks": ""
             }
            },
            "marker": {
             "colorbar": {
              "outlinewidth": 0,
              "ticks": ""
             }
            },
            "type": "scatter3d"
           }
          ],
          "scattercarpet": [
           {
            "marker": {
             "colorbar": {
              "outlinewidth": 0,
              "ticks": ""
             }
            },
            "type": "scattercarpet"
           }
          ],
          "scattergeo": [
           {
            "marker": {
             "colorbar": {
              "outlinewidth": 0,
              "ticks": ""
             }
            },
            "type": "scattergeo"
           }
          ],
          "scattergl": [
           {
            "marker": {
             "colorbar": {
              "outlinewidth": 0,
              "ticks": ""
             }
            },
            "type": "scattergl"
           }
          ],
          "scattermapbox": [
           {
            "marker": {
             "colorbar": {
              "outlinewidth": 0,
              "ticks": ""
             }
            },
            "type": "scattermapbox"
           }
          ],
          "scatterpolar": [
           {
            "marker": {
             "colorbar": {
              "outlinewidth": 0,
              "ticks": ""
             }
            },
            "type": "scatterpolar"
           }
          ],
          "scatterpolargl": [
           {
            "marker": {
             "colorbar": {
              "outlinewidth": 0,
              "ticks": ""
             }
            },
            "type": "scatterpolargl"
           }
          ],
          "scatterternary": [
           {
            "marker": {
             "colorbar": {
              "outlinewidth": 0,
              "ticks": ""
             }
            },
            "type": "scatterternary"
           }
          ],
          "surface": [
           {
            "colorbar": {
             "outlinewidth": 0,
             "ticks": ""
            },
            "colorscale": [
             [
              0,
              "#0d0887"
             ],
             [
              0.1111111111111111,
              "#46039f"
             ],
             [
              0.2222222222222222,
              "#7201a8"
             ],
             [
              0.3333333333333333,
              "#9c179e"
             ],
             [
              0.4444444444444444,
              "#bd3786"
             ],
             [
              0.5555555555555556,
              "#d8576b"
             ],
             [
              0.6666666666666666,
              "#ed7953"
             ],
             [
              0.7777777777777778,
              "#fb9f3a"
             ],
             [
              0.8888888888888888,
              "#fdca26"
             ],
             [
              1,
              "#f0f921"
             ]
            ],
            "type": "surface"
           }
          ],
          "table": [
           {
            "cells": {
             "fill": {
              "color": "#EBF0F8"
             },
             "line": {
              "color": "white"
             }
            },
            "header": {
             "fill": {
              "color": "#C8D4E3"
             },
             "line": {
              "color": "white"
             }
            },
            "type": "table"
           }
          ]
         },
         "layout": {
          "annotationdefaults": {
           "arrowcolor": "#2a3f5f",
           "arrowhead": 0,
           "arrowwidth": 1
          },
          "autotypenumbers": "strict",
          "coloraxis": {
           "colorbar": {
            "outlinewidth": 0,
            "ticks": ""
           }
          },
          "colorscale": {
           "diverging": [
            [
             0,
             "#8e0152"
            ],
            [
             0.1,
             "#c51b7d"
            ],
            [
             0.2,
             "#de77ae"
            ],
            [
             0.3,
             "#f1b6da"
            ],
            [
             0.4,
             "#fde0ef"
            ],
            [
             0.5,
             "#f7f7f7"
            ],
            [
             0.6,
             "#e6f5d0"
            ],
            [
             0.7,
             "#b8e186"
            ],
            [
             0.8,
             "#7fbc41"
            ],
            [
             0.9,
             "#4d9221"
            ],
            [
             1,
             "#276419"
            ]
           ],
           "sequential": [
            [
             0,
             "#0d0887"
            ],
            [
             0.1111111111111111,
             "#46039f"
            ],
            [
             0.2222222222222222,
             "#7201a8"
            ],
            [
             0.3333333333333333,
             "#9c179e"
            ],
            [
             0.4444444444444444,
             "#bd3786"
            ],
            [
             0.5555555555555556,
             "#d8576b"
            ],
            [
             0.6666666666666666,
             "#ed7953"
            ],
            [
             0.7777777777777778,
             "#fb9f3a"
            ],
            [
             0.8888888888888888,
             "#fdca26"
            ],
            [
             1,
             "#f0f921"
            ]
           ],
           "sequentialminus": [
            [
             0,
             "#0d0887"
            ],
            [
             0.1111111111111111,
             "#46039f"
            ],
            [
             0.2222222222222222,
             "#7201a8"
            ],
            [
             0.3333333333333333,
             "#9c179e"
            ],
            [
             0.4444444444444444,
             "#bd3786"
            ],
            [
             0.5555555555555556,
             "#d8576b"
            ],
            [
             0.6666666666666666,
             "#ed7953"
            ],
            [
             0.7777777777777778,
             "#fb9f3a"
            ],
            [
             0.8888888888888888,
             "#fdca26"
            ],
            [
             1,
             "#f0f921"
            ]
           ]
          },
          "colorway": [
           "#636efa",
           "#EF553B",
           "#00cc96",
           "#ab63fa",
           "#FFA15A",
           "#19d3f3",
           "#FF6692",
           "#B6E880",
           "#FF97FF",
           "#FECB52"
          ],
          "font": {
           "color": "#2a3f5f"
          },
          "geo": {
           "bgcolor": "white",
           "lakecolor": "white",
           "landcolor": "#E5ECF6",
           "showlakes": true,
           "showland": true,
           "subunitcolor": "white"
          },
          "hoverlabel": {
           "align": "left"
          },
          "hovermode": "closest",
          "mapbox": {
           "style": "light"
          },
          "paper_bgcolor": "white",
          "plot_bgcolor": "#E5ECF6",
          "polar": {
           "angularaxis": {
            "gridcolor": "white",
            "linecolor": "white",
            "ticks": ""
           },
           "bgcolor": "#E5ECF6",
           "radialaxis": {
            "gridcolor": "white",
            "linecolor": "white",
            "ticks": ""
           }
          },
          "scene": {
           "xaxis": {
            "backgroundcolor": "#E5ECF6",
            "gridcolor": "white",
            "gridwidth": 2,
            "linecolor": "white",
            "showbackground": true,
            "ticks": "",
            "zerolinecolor": "white"
           },
           "yaxis": {
            "backgroundcolor": "#E5ECF6",
            "gridcolor": "white",
            "gridwidth": 2,
            "linecolor": "white",
            "showbackground": true,
            "ticks": "",
            "zerolinecolor": "white"
           },
           "zaxis": {
            "backgroundcolor": "#E5ECF6",
            "gridcolor": "white",
            "gridwidth": 2,
            "linecolor": "white",
            "showbackground": true,
            "ticks": "",
            "zerolinecolor": "white"
           }
          },
          "shapedefaults": {
           "line": {
            "color": "#2a3f5f"
           }
          },
          "ternary": {
           "aaxis": {
            "gridcolor": "white",
            "linecolor": "white",
            "ticks": ""
           },
           "baxis": {
            "gridcolor": "white",
            "linecolor": "white",
            "ticks": ""
           },
           "bgcolor": "#E5ECF6",
           "caxis": {
            "gridcolor": "white",
            "linecolor": "white",
            "ticks": ""
           }
          },
          "title": {
           "x": 0.05
          },
          "xaxis": {
           "automargin": true,
           "gridcolor": "white",
           "linecolor": "white",
           "ticks": "",
           "title": {
            "standoff": 15
           },
           "zerolinecolor": "white",
           "zerolinewidth": 2
          },
          "yaxis": {
           "automargin": true,
           "gridcolor": "white",
           "linecolor": "white",
           "ticks": "",
           "title": {
            "standoff": 15
           },
           "zerolinecolor": "white",
           "zerolinewidth": 2
          }
         }
        }
       }
      },
      "image/png": "[encoded data removed]",
      "text/html": [
       "<div>                            <div id=\"0d558fa4-e3f2-4aae-b429-914e1ddbbf3e\" class=\"plotly-graph-div\" style=\"height:525px; width:100%;\"></div>            <script type=\"text/javascript\">                require([\"plotly\"], function(Plotly) {                    window.PLOTLYENV=window.PLOTLYENV || {};                                    if (document.getElementById(\"0d558fa4-e3f2-4aae-b429-914e1ddbbf3e\")) {                    Plotly.newPlot(                        \"0d558fa4-e3f2-4aae-b429-914e1ddbbf3e\",                        [{\"hovertemplate\":\"x=%{x}<br>y=%{y}<br>z=%{z}<extra></extra>\",\"legendgroup\":\"\",\"marker\":{\"color\":\"#636efa\",\"opacity\":0.5,\"symbol\":\"circle\"},\"mode\":\"markers\",\"name\":\"\",\"scene\":\"scene\",\"showlegend\":false,\"type\":\"scatter3d\",\"x\":[0.0,0.0,0.6707991776733532,0.6707991776733532,0.0,0.0,0.6707991776733532,0.6707991776733532,0.0,0.0,0.6707991776733532,0.6707991776733532,0.0,0.0,0.6707991776733532,0.6707991776733532,0.0,0.0,0.6707991776733532,0.6707991776733532,0.0,0.0,0.6707991776733532,0.6707991776733532,0.0,0.0,0.6707991776733532,0.6707991776733532,0.0,0.0,0.6707991776733532,0.6707991776733532,0.0,0.0,0.6707991776733532,0.6707991776733532,1.3415983553467064,1.3415983553467064,2.0123975330200596,2.0123975330200596,1.3415983553467064,1.3415983553467064,2.0123975330200596,2.0123975330200596,1.3415983553467064,1.3415983553467064,2.0123975330200596,2.0123975330200596,1.3415983553467064,1.3415983553467064,2.0123975330200596,2.0123975330200596,1.3415983553467064,1.3415983553467064,2.0123975330200596,2.0123975330200596,1.3415983553467064,1.3415983553467064,2.0123975330200596,2.0123975330200596,1.3415983553467064,1.3415983553467064,2.0123975330200596,2.0123975330200596,1.3415983553467064,1.3415983553467064,2.0123975330200596,2.0123975330200596,1.3415983553467064,1.3415983553467064,2.0123975330200596,2.0123975330200596,2.6831967106934127,2.6831967106934127,3.3539958883667658,3.3539958883667658,2.6831967106934127,2.6831967106934127,3.3539958883667658,3.3539958883667658,2.6831967106934127,2.6831967106934127,3.3539958883667658,3.3539958883667658,2.6831967106934127,2.6831967106934127,3.3539958883667658,3.3539958883667658,2.6831967106934127,2.6831967106934127,3.3539958883667658,3.3539958883667658,2.6831967106934127,2.6831967106934127,3.3539958883667658,3.3539958883667658,2.6831967106934127,2.6831967106934127,3.3539958883667658,3.3539958883667658,2.6831967106934127,2.6831967106934127,3.3539958883667658,3.3539958883667658,2.6831967106934127,2.6831967106934127,3.3539958883667658,3.3539958883667658],\"y\":[0.0,0.6707991776733532,0.0,0.6707991776733532,0.0,0.6707991776733532,0.0,0.6707991776733532,0.0,0.6707991776733532,0.0,0.6707991776733532,1.3415983553467064,2.0123975330200596,1.3415983553467064,2.0123975330200596,1.3415983553467064,2.0123975330200596,1.3415983553467064,2.0123975330200596,1.3415983553467064,2.0123975330200596,1.3415983553467064,2.0123975330200596,2.6831967106934127,3.3539958883667658,2.6831967106934127,3.3539958883667658,2.6831967106934127,3.3539958883667658,2.6831967106934127,3.3539958883667658,2.6831967106934127,3.3539958883667658,2.6831967106934127,3.3539958883667658,0.0,0.6707991776733532,0.0,0.6707991776733532,0.0,0.6707991776733532,0.0,0.6707991776733532,0.0,0.6707991776733532,0.0,0.6707991776733532,1.3415983553467064,2.0123975330200596,1.3415983553467064,2.0123975330200596,1.3415983553467064,2.0123975330200596,1.3415983553467064,2.0123975330200596,1.3415983553467064,2.0123975330200596,1.3415983553467064,2.0123975330200596,2.6831967106934127,3.3539958883667658,2.6831967106934127,3.3539958883667658,2.6831967106934127,3.3539958883667658,2.6831967106934127,3.3539958883667658,2.6831967106934127,3.3539958883667658,2.6831967106934127,3.3539958883667658,0.0,0.6707991776733532,0.0,0.6707991776733532,0.0,0.6707991776733532,0.0,0.6707991776733532,0.0,0.6707991776733532,0.0,0.6707991776733532,1.3415983553467064,2.0123975330200596,1.3415983553467064,2.0123975330200596,1.3415983553467064,2.0123975330200596,1.3415983553467064,2.0123975330200596,1.3415983553467064,2.0123975330200596,1.3415983553467064,2.0123975330200596,2.6831967106934127,3.3539958883667658,2.6831967106934127,3.3539958883667658,2.6831967106934127,3.3539958883667658,2.6831967106934127,3.3539958883667658,2.6831967106934127,3.3539958883667658,2.6831967106934127,3.3539958883667658],\"z\":[0.0,0.6707991776733532,0.6707991776733532,0.0,1.3415983553467064,2.0123975330200596,2.0123975330200596,1.3415983553467064,2.6831967106934127,3.3539958883667658,3.3539958883667658,2.6831967106934127,0.0,0.6707991776733532,0.6707991776733532,0.0,1.3415983553467064,2.0123975330200596,2.0123975330200596,1.3415983553467064,2.6831967106934127,3.3539958883667658,3.3539958883667658,2.6831967106934127,0.0,0.6707991776733532,0.6707991776733532,0.0,1.3415983553467064,2.0123975330200596,2.0123975330200596,1.3415983553467064,2.6831967106934127,3.3539958883667658,3.3539958883667658,2.6831967106934127,0.0,0.6707991776733532,0.6707991776733532,0.0,1.3415983553467064,2.0123975330200596,2.0123975330200596,1.3415983553467064,2.6831967106934127,3.3539958883667658,3.3539958883667658,2.6831967106934127,0.0,0.6707991776733532,0.6707991776733532,0.0,1.3415983553467064,2.0123975330200596,2.0123975330200596,1.3415983553467064,2.6831967106934127,3.3539958883667658,3.3539958883667658,2.6831967106934127,0.0,0.6707991776733532,0.6707991776733532,0.0,1.3415983553467064,2.0123975330200596,2.0123975330200596,1.3415983553467064,2.6831967106934127,3.3539958883667658,3.3539958883667658,2.6831967106934127,0.0,0.6707991776733532,0.6707991776733532,0.0,1.3415983553467064,2.0123975330200596,2.0123975330200596,1.3415983553467064,2.6831967106934127,3.3539958883667658,3.3539958883667658,2.6831967106934127,0.0,0.6707991776733532,0.6707991776733532,0.0,1.3415983553467064,2.0123975330200596,2.0123975330200596,1.3415983553467064,2.6831967106934127,3.3539958883667658,3.3539958883667658,2.6831967106934127,0.0,0.6707991776733532,0.6707991776733532,0.0,1.3415983553467064,2.0123975330200596,2.0123975330200596,1.3415983553467064,2.6831967106934127,3.3539958883667658,3.3539958883667658,2.6831967106934127]}],                        {\"legend\":{\"tracegroupgap\":0},\"margin\":{\"t\":60},\"scene\":{\"domain\":{\"x\":[0.0,1.0],\"y\":[0.0,1.0]},\"xaxis\":{\"title\":{\"text\":\"x\"}},\"yaxis\":{\"title\":{\"text\":\"y\"}},\"zaxis\":{\"title\":{\"text\":\"z\"}}},\"template\":{\"data\":{\"bar\":[{\"error_x\":{\"color\":\"#2a3f5f\"},\"error_y\":{\"color\":\"#2a3f5f\"},\"marker\":{\"line\":{\"color\":\"#E5ECF6\",\"width\":0.5},\"pattern\":{\"fillmode\":\"overlay\",\"size\":10,\"solidity\":0.2}},\"type\":\"bar\"}],\"barpolar\":[{\"marker\":{\"line\":{\"color\":\"#E5ECF6\",\"width\":0.5},\"pattern\":{\"fillmode\":\"overlay\",\"size\":10,\"solidity\":0.2}},\"type\":\"barpolar\"}],\"carpet\":[{\"aaxis\":{\"endlinecolor\":\"#2a3f5f\",\"gridcolor\":\"white\",\"linecolor\":\"white\",\"minorgridcolor\":\"white\",\"startlinecolor\":\"#2a3f5f\"},\"baxis\":{\"endlinecolor\":\"#2a3f5f\",\"gridcolor\":\"white\",\"linecolor\":\"white\",\"minorgridcolor\":\"white\",\"startlinecolor\":\"#2a3f5f\"},\"type\":\"carpet\"}],\"choropleth\":[{\"colorbar\":{\"outlinewidth\":0,\"ticks\":\"\"},\"type\":\"choropleth\"}],\"contour\":[{\"colorbar\":{\"outlinewidth\":0,\"ticks\":\"\"},\"colorscale\":[[0.0,\"#0d0887\"],[0.1111111111111111,\"#46039f\"],[0.2222222222222222,\"#7201a8\"],[0.3333333333333333,\"#9c179e\"],[0.4444444444444444,\"#bd3786\"],[0.5555555555555556,\"#d8576b\"],[0.6666666666666666,\"#ed7953\"],[0.7777777777777778,\"#fb9f3a\"],[0.8888888888888888,\"#fdca26\"],[1.0,\"#f0f921\"]],\"type\":\"contour\"}],\"contourcarpet\":[{\"colorbar\":{\"outlinewidth\":0,\"ticks\":\"\"},\"type\":\"contourcarpet\"}],\"heatmap\":[{\"colorbar\":{\"outlinewidth\":0,\"ticks\":\"\"},\"colorscale\":[[0.0,\"#0d0887\"],[0.1111111111111111,\"#46039f\"],[0.2222222222222222,\"#7201a8\"],[0.3333333333333333,\"#9c179e\"],[0.4444444444444444,\"#bd3786\"],[0.5555555555555556,\"#d8576b\"],[0.6666666666666666,\"#ed7953\"],[0.7777777777777778,\"#fb9f3a\"],[0.8888888888888888,\"#fdca26\"],[1.0,\"#f0f921\"]],\"type\":\"heatmap\"}],\"heatmapgl\":[{\"colorbar\":{\"outlinewidth\":0,\"ticks\":\"\"},\"colorscale\":[[0.0,\"#0d0887\"],[0.1111111111111111,\"#46039f\"],[0.2222222222222222,\"#7201a8\"],[0.3333333333333333,\"#9c179e\"],[0.4444444444444444,\"#bd3786\"],[0.5555555555555556,\"#d8576b\"],[0.6666666666666666,\"#ed7953\"],[0.7777777777777778,\"#fb9f3a\"],[0.8888888888888888,\"#fdca26\"],[1.0,\"#f0f921\"]],\"type\":\"heatmapgl\"}],\"histogram\":[{\"marker\":{\"pattern\":{\"fillmode\":\"overlay\",\"size\":10,\"solidity\":0.2}},\"type\":\"histogram\"}],\"histogram2d\":[{\"colorbar\":{\"outlinewidth\":0,\"ticks\":\"\"},\"colorscale\":[[0.0,\"#0d0887\"],[0.1111111111111111,\"#46039f\"],[0.2222222222222222,\"#7201a8\"],[0.3333333333333333,\"#9c179e\"],[0.4444444444444444,\"#bd3786\"],[0.5555555555555556,\"#d8576b\"],[0.6666666666666666,\"#ed7953\"],[0.7777777777777778,\"#fb9f3a\"],[0.8888888888888888,\"#fdca26\"],[1.0,\"#f0f921\"]],\"type\":\"histogram2d\"}],\"histogram2dcontour\":[{\"colorbar\":{\"outlinewidth\":0,\"ticks\":\"\"},\"colorscale\":[[0.0,\"#0d0887\"],[0.1111111111111111,\"#46039f\"],[0.2222222222222222,\"#7201a8\"],[0.3333333333333333,\"#9c179e\"],[0.4444444444444444,\"#bd3786\"],[0.5555555555555556,\"#d8576b\"],[0.6666666666666666,\"#ed7953\"],[0.7777777777777778,\"#fb9f3a\"],[0.8888888888888888,\"#fdca26\"],[1.0,\"#f0f921\"]],\"type\":\"histogram2dcontour\"}],\"mesh3d\":[{\"colorbar\":{\"outlinewidth\":0,\"ticks\":\"\"},\"type\":\"mesh3d\"}],\"parcoords\":[{\"line\":{\"colorbar\":{\"outlinewidth\":0,\"ticks\":\"\"}},\"type\":\"parcoords\"}],\"pie\":[{\"automargin\":true,\"type\":\"pie\"}],\"scatter\":[{\"marker\":{\"colorbar\":{\"outlinewidth\":0,\"ticks\":\"\"}},\"type\":\"scatter\"}],\"scatter3d\":[{\"line\":{\"colorbar\":{\"outlinewidth\":0,\"ticks\":\"\"}},\"marker\":{\"colorbar\":{\"outlinewidth\":0,\"ticks\":\"\"}},\"type\":\"scatter3d\"}],\"scattercarpet\":[{\"marker\":{\"colorbar\":{\"outlinewidth\":0,\"ticks\":\"\"}},\"type\":\"scattercarpet\"}],\"scattergeo\":[{\"marker\":{\"colorbar\":{\"outlinewidth\":0,\"ticks\":\"\"}},\"type\":\"scattergeo\"}],\"scattergl\":[{\"marker\":{\"colorbar\":{\"outlinewidth\":0,\"ticks\":\"\"}},\"type\":\"scattergl\"}],\"scattermapbox\":[{\"marker\":{\"colorbar\":{\"outlinewidth\":0,\"ticks\":\"\"}},\"type\":\"scattermapbox\"}],\"scatterpolar\":[{\"marker\":{\"colorbar\":{\"outlinewidth\":0,\"ticks\":\"\"}},\"type\":\"scatterpolar\"}],\"scatterpolargl\":[{\"marker\":{\"colorbar\":{\"outlinewidth\":0,\"ticks\":\"\"}},\"type\":\"scatterpolargl\"}],\"scatterternary\":[{\"marker\":{\"colorbar\":{\"outlinewidth\":0,\"ticks\":\"\"}},\"type\":\"scatterternary\"}],\"surface\":[{\"colorbar\":{\"outlinewidth\":0,\"ticks\":\"\"},\"colorscale\":[[0.0,\"#0d0887\"],[0.1111111111111111,\"#46039f\"],[0.2222222222222222,\"#7201a8\"],[0.3333333333333333,\"#9c179e\"],[0.4444444444444444,\"#bd3786\"],[0.5555555555555556,\"#d8576b\"],[0.6666666666666666,\"#ed7953\"],[0.7777777777777778,\"#fb9f3a\"],[0.8888888888888888,\"#fdca26\"],[1.0,\"#f0f921\"]],\"type\":\"surface\"}],\"table\":[{\"cells\":{\"fill\":{\"color\":\"#EBF0F8\"},\"line\":{\"color\":\"white\"}},\"header\":{\"fill\":{\"color\":\"#C8D4E3\"},\"line\":{\"color\":\"white\"}},\"type\":\"table\"}]},\"layout\":{\"annotationdefaults\":{\"arrowcolor\":\"#2a3f5f\",\"arrowhead\":0,\"arrowwidth\":1},\"autotypenumbers\":\"strict\",\"coloraxis\":{\"colorbar\":{\"outlinewidth\":0,\"ticks\":\"\"}},\"colorscale\":{\"diverging\":[[0,\"#8e0152\"],[0.1,\"#c51b7d\"],[0.2,\"#de77ae\"],[0.3,\"#f1b6da\"],[0.4,\"#fde0ef\"],[0.5,\"#f7f7f7\"],[0.6,\"#e6f5d0\"],[0.7,\"#b8e186\"],[0.8,\"#7fbc41\"],[0.9,\"#4d9221\"],[1,\"#276419\"]],\"sequential\":[[0.0,\"#0d0887\"],[0.1111111111111111,\"#46039f\"],[0.2222222222222222,\"#7201a8\"],[0.3333333333333333,\"#9c179e\"],[0.4444444444444444,\"#bd3786\"],[0.5555555555555556,\"#d8576b\"],[0.6666666666666666,\"#ed7953\"],[0.7777777777777778,\"#fb9f3a\"],[0.8888888888888888,\"#fdca26\"],[1.0,\"#f0f921\"]],\"sequentialminus\":[[0.0,\"#0d0887\"],[0.1111111111111111,\"#46039f\"],[0.2222222222222222,\"#7201a8\"],[0.3333333333333333,\"#9c179e\"],[0.4444444444444444,\"#bd3786\"],[0.5555555555555556,\"#d8576b\"],[0.6666666666666666,\"#ed7953\"],[0.7777777777777778,\"#fb9f3a\"],[0.8888888888888888,\"#fdca26\"],[1.0,\"#f0f921\"]]},\"colorway\":[\"#636efa\",\"#EF553B\",\"#00cc96\",\"#ab63fa\",\"#FFA15A\",\"#19d3f3\",\"#FF6692\",\"#B6E880\",\"#FF97FF\",\"#FECB52\"],\"font\":{\"color\":\"#2a3f5f\"},\"geo\":{\"bgcolor\":\"white\",\"lakecolor\":\"white\",\"landcolor\":\"#E5ECF6\",\"showlakes\":true,\"showland\":true,\"subunitcolor\":\"white\"},\"hoverlabel\":{\"align\":\"left\"},\"hovermode\":\"closest\",\"mapbox\":{\"style\":\"light\"},\"paper_bgcolor\":\"white\",\"plot_bgcolor\":\"#E5ECF6\",\"polar\":{\"angularaxis\":{\"gridcolor\":\"white\",\"linecolor\":\"white\",\"ticks\":\"\"},\"bgcolor\":\"#E5ECF6\",\"radialaxis\":{\"gridcolor\":\"white\",\"linecolor\":\"white\",\"ticks\":\"\"}},\"scene\":{\"xaxis\":{\"backgroundcolor\":\"#E5ECF6\",\"gridcolor\":\"white\",\"gridwidth\":2,\"linecolor\":\"white\",\"showbackground\":true,\"ticks\":\"\",\"zerolinecolor\":\"white\"},\"yaxis\":{\"backgroundcolor\":\"#E5ECF6\",\"gridcolor\":\"white\",\"gridwidth\":2,\"linecolor\":\"white\",\"showbackground\":true,\"ticks\":\"\",\"zerolinecolor\":\"white\"},\"zaxis\":{\"backgroundcolor\":\"#E5ECF6\",\"gridcolor\":\"white\",\"gridwidth\":2,\"linecolor\":\"white\",\"showbackground\":true,\"ticks\":\"\",\"zerolinecolor\":\"white\"}},\"shapedefaults\":{\"line\":{\"color\":\"#2a3f5f\"}},\"ternary\":{\"aaxis\":{\"gridcolor\":\"white\",\"linecolor\":\"white\",\"ticks\":\"\"},\"baxis\":{\"gridcolor\":\"white\",\"linecolor\":\"white\",\"ticks\":\"\"},\"bgcolor\":\"#E5ECF6\",\"caxis\":{\"gridcolor\":\"white\",\"linecolor\":\"white\",\"ticks\":\"\"}},\"title\":{\"x\":0.05},\"xaxis\":{\"automargin\":true,\"gridcolor\":\"white\",\"linecolor\":\"white\",\"ticks\":\"\",\"title\":{\"standoff\":15},\"zerolinecolor\":\"white\",\"zerolinewidth\":2},\"yaxis\":{\"automargin\":true,\"gridcolor\":\"white\",\"linecolor\":\"white\",\"ticks\":\"\",\"title\":{\"standoff\":15},\"zerolinecolor\":\"white\",\"zerolinewidth\":2}}}},                        {\"responsive\": true}                    ).then(function(){\n",
       "                            \n",
       "var gd = document.getElementById('0d558fa4-e3f2-4aae-b429-914e1ddbbf3e');\n",
       "var x = new MutationObserver(function (mutations, observer) {{\n",
       "        var display = window.getComputedStyle(gd).display;\n",
       "        if (!display || display === 'none') {{\n",
       "            console.log([gd, 'removed!']);\n",
       "            Plotly.purge(gd);\n",
       "            observer.disconnect();\n",
       "        }}\n",
       "}});\n",
       "\n",
       "// Listen for the removal of the full notebook cells\n",
       "var notebookContainer = gd.closest('#notebook-container');\n",
       "if (notebookContainer) {{\n",
       "    x.observe(notebookContainer, {childList: true});\n",
       "}}\n",
       "\n",
       "// Listen for the clearing of the current output cell\n",
       "var outputEl = gd.closest('.output');\n",
       "if (outputEl) {{\n",
       "    x.observe(outputEl, {childList: true});\n",
       "}}\n",
       "\n",
       "                        })                };                });            </script>        </div>"
      ]
     },
     "metadata": {},
     "output_type": "display_data"
    }
   ],
   "source": [
    "pos, L, N = IC_pos(L_cell, N_cell)\n",
    "\n",
    "px.scatter_3d(x=pos[:,0], y=pos[:,1], z=pos[:,2], opacity=0.5)"
   ]
  },
  {
   "cell_type": "markdown",
   "metadata": {
    "id": "GNNI5lnLa5M2"
   },
   "source": [
    "### [Periodic Boundary conditions and minimum image criterion](https://en.wikipedia.org/wiki/Periodic_boundary_conditions)"
   ]
  },
  {
   "cell_type": "markdown",
   "metadata": {},
   "source": [
    "- If a particle leaves the box, it re-enters at the opposite side.\n",
    "- What should be the distance between partiles? There is some mbiguity because distance between atoms may now include crossing the system boundary and re-entering. This is identical to introducing copies of the particles around the simulation box. We adopt **minimum image convention** by choosing the shortest distance possible\n",
    "\n",
    "\n",
    "![](./pbc_fig1.gif)"
   ]
  },
  {
   "cell_type": "markdown",
   "metadata": {},
   "source": [
    "![](./pbc_fig2.gif)\n",
    "\n",
    "- By adopting minimum image convention we consider the closest of all 'image partners' (plus the original) of every atom for calculating interaction. The animation below highlights the image partners of the two red atoms that are closest to the green atom. \n",
    "\n",
    "- To minimize distance between points we evaluate distances along x, y and z dimension and choose the smallest possible one. \n"
   ]
  },
  {
   "cell_type": "code",
   "execution_count": 6,
   "metadata": {
    "id": "s4cUmrZRa5M3"
   },
   "outputs": [],
   "source": [
    "def pbc_basic(x, L):\n",
    "  '''For a box centered at the origin. This pbc function for wrapping positions of particles back into the into the box. \n",
    "  This function should also be used for dx displacements to obey minimum image criterion. \n",
    "  '''\n",
    "    \n",
    "  if   x >=  L/2: x -= L  \n",
    "\n",
    "  elif x <= -L/2: x += L\n",
    "\n",
    "  return x\n",
    "\n",
    "\n",
    "@njit\n",
    "def pbc_wrap(r_vec, L_box):\n",
    "    \"\"\"\n",
    "    Apply periodic boundary conditions to wrap a position vector back into the simulation box.\n",
    "    \n",
    "    Parameters:\n",
    "    r_vec (np.array): A numpy array representing the displacement vector [x, y, z].\n",
    "    L_box (float): The length of one side of the cubic simulation box.\n",
    "\n",
    "    Returns:\n",
    "    np.array: The wrapped position vector within the simulation box.\n",
    "    \"\"\"\n",
    "    # Use np.floor_divide for accurate integer division to handle edge cases.\n",
    "    r_vec = r_vec - np.floor_divide(r_vec, L_box) * L_box\n",
    "    \n",
    "    return r_vec"
   ]
  },
  {
   "cell_type": "markdown",
   "metadata": {
    "id": "RGdi41MQa5M3"
   },
   "source": [
    "### Computing pairwise distances and energies"
   ]
  },
  {
   "cell_type": "code",
   "execution_count": 10,
   "metadata": {
    "id": "bymBLpQIa5M4"
   },
   "outputs": [],
   "source": [
    "@njit\n",
    "def getE_tot(pos, L, trunc, sig=1, eps=1):\n",
    "    \"\"\"\n",
    "    Compute the total potential energy of a Lennard-Jones fluid by summing pairwise interactions.\n",
    "    \n",
    "    Parameters:\n",
    "    pos (array): Positions of particles in the system.\n",
    "    L (float): Length of the cubic simulation box.\n",
    "    trunc (float): Cutoff radius for interactions.\n",
    "    sig (float, optional): Sigma parameter of the LJ potential. Defaults to 1.\n",
    "    eps (float, optional): Epsilon parameter of the LJ potential. Defaults to 1.\n",
    "    \n",
    "    Returns:\n",
    "    float: Total potential energy of the system.\n",
    "    list: List of squared distances for each particle pair.\n",
    "    \"\"\"\n",
    "    N = len(pos)\n",
    "    energy = 0.0\n",
    "    r_sq_list = []\n",
    "\n",
    "    for i in range(N - 1):\n",
    "        for j in range(i + 1, N):\n",
    "            r_vec = pbc_wrap(pos[i] - pos[j], L)\n",
    "            r_sq = np.sum(r_vec**2)\n",
    "\n",
    "            if r_sq <= trunc**2:\n",
    "                inv_r_sq = sig**2 / r_sq\n",
    "                energy += 4 * eps * (inv_r_sq**3 - inv_r_sq**1.5)\n",
    "            r_sq_list.append(r_sq)\n",
    "\n",
    "    return energy, r_sq_list\n",
    "\n",
    "@njit\n",
    "def E_disp(pos, L, trunc, j, r_j, sig=1, eps=1):\n",
    "    \"\"\"\n",
    "    Compute the change in energy resulting from displacing particle j to position r_j.\n",
    "    \n",
    "    Parameters:\n",
    "    pos (array): Current positions of all particles.\n",
    "    L (float): Length of the cubic simulation box.\n",
    "    trunc (float): Cutoff radius for interactions.\n",
    "    j (int): Index of the particle being displaced.\n",
    "    r_j (array): New position of the displaced particle.\n",
    "    sig (float, optional): Sigma parameter of the LJ potential. Defaults to 1.\n",
    "    eps (float, optional): Epsilon parameter of the LJ potential. Defaults to 1.\n",
    "    \n",
    "    Returns:\n",
    "    float: Energy of particle j at new position due to interactions with other particles.\n",
    "    \"\"\"\n",
    "    N = len(pos)\n",
    "    energy = 0.0\n",
    "\n",
    "    for i in range(N):\n",
    "        if i != j:\n",
    "            r_vec = pbc_wrap(pos[i] - r_j, L)\n",
    "            r_sq = np.sum(r_vec**2)\n",
    "\n",
    "            if r_sq <= trunc**2:\n",
    "                inv_r_sq = sig**2 / r_sq\n",
    "                energy += 4 * eps * (inv_r_sq**3 - inv_r_sq**1.5)\n",
    "\n",
    "    return energy"
   ]
  },
  {
   "cell_type": "markdown",
   "metadata": {
    "id": "a-AX1urwa5M4"
   },
   "source": [
    "### MC engine for LJ fluid in 3D (NVT ensemble)\n",
    "Now that the main helper functions are set up we can put together a main Monte Carlo engine that loops through randomly selected particles and attemps their displacement via Metropolis Criterion. "
   ]
  },
  {
   "cell_type": "code",
   "execution_count": 9,
   "metadata": {
    "id": "C-4M9E5ba5M5"
   },
   "outputs": [],
   "source": [
    "@njit\n",
    "def run_MC_LJ(pos, rho, T, trunc=4, disp=0.5, steps=10000, freq=1000):\n",
    "    \"\"\"\n",
    "    Run a Monte Carlo simulation for a Lennard-Jones fluid.\n",
    "\n",
    "    Parameters:\n",
    "    pos (array): Initial positions of particles.\n",
    "    rho (float): Number density of particles.\n",
    "    T (float): Temperature of the system.\n",
    "    trunc (float, optional): Cutoff radius for interactions. Defaults to 4.\n",
    "    disp (float, optional): Maximum displacement of particles in one step. Defaults to 0.5.\n",
    "    steps (int, optional): Number of Monte Carlo steps. Defaults to 10000.\n",
    "    freq (int, optional): Frequency of recording data. Defaults to 1000.\n",
    "\n",
    "    Returns:\n",
    "    list: List of configurations at each recorded step.\n",
    "    list: List of total energies at each recorded step.\n",
    "    list: List of histograms of squared distances at each recorded step.\n",
    "    \"\"\"\n",
    "    N = len(pos)\n",
    "    L = (N / rho) ** (1/3)\n",
    "    E_tot, r_sq_list = getE_tot(pos, L, trunc)\n",
    "    es = [E_tot]\n",
    "    hists = []\n",
    "    confs = [pos.copy()]\n",
    "\n",
    "    for step in range(steps):\n",
    "        # Select a particle randomly\n",
    "        j = np.random.randint(N)\n",
    "        \n",
    "        # Calculate a random displacement\n",
    "        delta = np.random.uniform(-disp, disp, size=3)\n",
    "        \n",
    "        # New position considering periodic boundary conditions\n",
    "        r_j_new = pbc_wrap(pos[j] + delta, L)\n",
    "\n",
    "        # Energy change due to displacement\n",
    "        dE = E_disp(pos, L, trunc, j, r_j_new) - E_disp(pos, L, trunc, j, pos[j])\n",
    "\n",
    "        # Metropolis acceptance criterion\n",
    "        if np.exp(-dE / T) > np.random.rand():\n",
    "            pos[j] = r_j_new\n",
    "        \n",
    "        # Data collection at a specified frequency\n",
    "        if step % freq == 0:\n",
    "            E_tot, r_sq_list = getE_tot(pos, L, trunc)\n",
    "            H, _ = np.histogram(np.array(r_sq_list), bins=30, range=(0, L / 2))\n",
    "            hists.append(H)\n",
    "            es.append(E_tot)\n",
    "            confs.append(pos.copy())\n",
    "\n",
    "    return confs, es, hists"
   ]
  },
  {
   "cell_type": "markdown",
   "metadata": {
    "id": "aMOx9hVOa5M5"
   },
   "source": [
    "### Running MCMC simulation on LJ system"
   ]
  },
  {
   "cell_type": "code",
   "execution_count": 17,
   "metadata": {
    "id": "H4tJ9YYMa5M5"
   },
   "outputs": [],
   "source": [
    "params = dict(rho  = .88, \n",
    "              T=1, \n",
    "              steps=1000000, \n",
    "              trunc=4, \n",
    "              disp=0.5,\n",
    "              freq=100)"
   ]
  },
  {
   "cell_type": "code",
   "execution_count": 19,
   "metadata": {
    "colab": {
     "background_save": true
    },
    "id": "lYrcXB5ea5M6",
    "outputId": "7be0272f-882d-4f14-c463-2cc617ba0d93"
   },
   "outputs": [
    {
     "name": "stdout",
     "output_type": "stream",
     "text": [
      "CPU times: user 7 µs, sys: 3 µs, total: 10 µs\n",
      "Wall time: 43.9 µs\n"
     ]
    }
   ],
   "source": [
    "%time \n",
    "\n",
    "pos, L, N = IC_pos(L_cell, N_cell) \n",
    "\n",
    "confs, es, hists = run_MC_LJ(pos, **params)"
   ]
  },
  {
   "cell_type": "code",
   "execution_count": 13,
   "metadata": {},
   "outputs": [
    {
     "data": {
      "text/plain": [
       "[<matplotlib.lines.Line2D at 0x18e7c7490>]"
      ]
     },
     "execution_count": 13,
     "metadata": {},
     "output_type": "execute_result"
    },
    {
     "data": {
      "image/png": "[encoded data removed]",
      "text/plain": [
       "<Figure size 640x480 with 1 Axes>"
      ]
     },
     "metadata": {},
     "output_type": "display_data"
    }
   ],
   "source": [
    "plt.plot(es) "
   ]
  },
  {
   "cell_type": "code",
   "execution_count": 102,
   "metadata": {},
   "outputs": [
    {
     "data": {
      "application/vnd.jupyter.widget-view+json": {
       "model_id": "3a9c9f3bc6384379b47b102f6d140b2d",
       "version_major": 2,
       "version_minor": 0
      },
      "text/plain": [
       "interactive(children=(IntSlider(value=0, description='i', max=999), Output()), _dom_classes=('widget-interact'…"
      ]
     },
     "metadata": {},
     "output_type": "display_data"
    }
   ],
   "source": [
    "@interact(i=(0, 1000-1))\n",
    "def viz_sim_lj(i=0):\n",
    "\n",
    "  fig = px.scatter_3d(x=confs[i][:,0], y=confs[i][:,1], z=confs[i][:,2], opacity=0.5)\n",
    "\n",
    "  return fig"
   ]
  },
  {
   "cell_type": "code",
   "execution_count": 14,
   "metadata": {
    "id": "TPyYmOkfa5M6"
   },
   "outputs": [
    {
     "name": "stderr",
     "output_type": "stream",
     "text": [
      "/var/folders/3h/w4n54dz57dvbhgvz68gdv0f0f3hkmm/T/ipykernel_14277/2060904021.py:3: RuntimeWarning:\n",
      "\n",
      "invalid value encountered in divide\n",
      "\n"
     ]
    },
    {
     "data": {
      "text/plain": [
       "Text(0, 0.5, '$g(r)$')"
      ]
     },
     "execution_count": 14,
     "metadata": {},
     "output_type": "execute_result"
    },
    {
     "data": {
      "image/png": "[encoded data removed]",
      "text/plain": [
       "<Figure size 640x480 with 1 Axes>"
      ]
     },
     "metadata": {},
     "output_type": "display_data"
    }
   ],
   "source": [
    "r = np.linspace(0, L_box / 2, 30)\n",
    "\n",
    "pair_correlation = np.mean(hists, axis=0) / (4 * np.pi * rho * r)\n",
    "\n",
    "plt.plot(r, pair_correlation, '-o') \n",
    "plt.xlabel(r'$r$')  \n",
    "plt.ylabel(r'$g(r)$')"
   ]
  },
  {
   "cell_type": "markdown",
   "metadata": {},
   "source": [
    "### Problems\n",
    "\n",
    "**1. Implementing PBC and minimal image convention methods outlined on  [Wikipeida](https://en.wikipedia.org/wiki/Periodic_boundary_conditions) in python.**\n",
    "\n",
    "- Write a few functions that take positions of N particles in 3D with shape (N,3) return new coordinates and all inter-particle distances. \n",
    "> You can generate random positions using ```np.random``` make sure you have enough particles outside of box to test your functions. \n",
    "> Try implementing your functions using numpy methods instead of having multiple for loops. That way your functions will run singnificantly faster.\n",
    "\n",
    "\n",
    "```python\n",
    "def pbc_dists(pos, L):\n",
    "\n",
    "    ...\n",
    "    \n",
    "    return pos, dists\n",
    "\n",
    "```\n",
    "\n",
    " - Evaluate distribution of energies of your random positions before and after applying pbc_dists.\n",
    " \n",
    " \n",
    "**2. Simulating 2D random walk with PBCs.**\n",
    "\n",
    " - Create a sequence of images or better yet an animation showing the temporal evolution of 10 independent random walkers in 100 by 100 square. Consult the random walk section and notebooks to refresh your memory of random walk simulations.\n",
    " - Calculate the root mean square displacement from the origin and show how it scales with time (steps)!\n",
    "  \n",
    " \n",
    "**2. Run MC simulations of LJ fluid at several temperatures to identify critical temperature.**\n",
    "\n",
    " - At each temperature evaluate heat capacity and RDFs.\n",
    " - Plot how energy, heat capacity and RDF change as a function of temperature.\n",
    " - Study dependence on sampling efficiency on magnitude of particle displacement."
   ]
  }
 ],
 "metadata": {
  "colab": {
   "collapsed_sections": [],
   "name": "06_MC_LJ.ipynb",
   "provenance": []
  },
  "interpreter": {
   "hash": "38cca0c38332a56087b24af0bc80247f4fced29cb4f7f437d91dc159adec9c4e"
  },
  "kernelspec": {
   "display_name": "Python [conda env:llpsmd3] *",
   "language": "python",
   "name": "conda-env-llpsmd3-py"
  },
  "language_info": {
   "codemirror_mode": {
    "name": "ipython",
    "version": 3
   },
   "file_extension": ".py",
   "mimetype": "text/x-python",
   "name": "python",
   "nbconvert_exporter": "python",
   "pygments_lexer": "ipython3",
   "version": "3.9.16"
  },
  "nteract": {
   "version": "0.22.0"
  },
  "toc": {
   "base_numbering": 1,
   "nav_menu": {},
   "number_sections": true,
   "sideBar": true,
   "skip_h1_title": false,
   "title_cell": "Table of Contents",
   "title_sidebar": "Contents",
   "toc_cell": false,
   "toc_position": {},
   "toc_section_display": true,
   "toc_window_display": false
  },
  "widgets": {
   "application/vnd.jupyter.widget-state+json": {
    "state": {},
    "version_major": 2,
    "version_minor": 0
   }
  }
 },
 "nbformat": 4,
 "nbformat_minor": 4
}
