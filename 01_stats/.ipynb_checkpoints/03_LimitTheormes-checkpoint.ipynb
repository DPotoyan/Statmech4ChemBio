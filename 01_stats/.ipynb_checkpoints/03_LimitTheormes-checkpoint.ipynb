{
 "cells": [
  {
   "cell_type": "markdown",
   "metadata": {},
   "source": [
    "# Probability distirbutions functions (PDFs) and limit theorems"
   ]
  },
  {
   "cell_type": "code",
   "execution_count": 2,
   "metadata": {
    "slideshow": {
     "slide_type": "slide"
    }
   },
   "outputs": [],
   "source": [
    "%matplotlib inline\n",
    "%config InlineBackend.figure_format = 'retina'\n",
    "\n",
    "#First let's load the main scientific and plotting libraries we will need \n",
    "import matplotlib.pyplot as plt\n",
    "import ipywidgets as widgets\n",
    "\n",
    "import seaborn as sns\n",
    "import numpy as np\n",
    "import scipy as sp"
   ]
  },
  {
   "cell_type": "code",
   "execution_count": 4,
   "metadata": {
    "slideshow": {
     "slide_type": "slide"
    }
   },
   "outputs": [],
   "source": [
    "from scipy.stats import binom, norm, poisson, expon, uniform"
   ]
  },
  {
   "cell_type": "markdown",
   "metadata": {
    "slideshow": {
     "slide_type": "slide"
    }
   },
   "source": [
    "Some great probability Distribution Function (PDF) explorers \n",
    "\n",
    "[Wikiepida list of distributions](https://en.wikipedia.org/wiki/List_of_probability_distributions)\n",
    "\n",
    "[Probability distribution explorer](https://idiot.computer/probs/)\n",
    "\n",
    "[The distribution zoo w/ LaTeX and python snippets](https://ben18785.shinyapps.io/distribution-zoo/)\n",
    "\n",
    "[Seeing theory: visual intro to Probab and Stats](https://seeing-theory.brown.edu/)\n",
    "\n",
    "[Distribution explorer by Justin de Bois](http://bois.caltech.edu/distribution_explorer/)"
   ]
  },
  {
   "cell_type": "markdown",
   "metadata": {
    "slideshow": {
     "slide_type": "slide"
    }
   },
   "source": [
    "### Uniform distribution \n",
    "\n",
    "- **Mean**\n",
    "\n",
    "$$\n",
    "\\mathrm{E}(X) = \\frac{1}{2}(a + b)\n",
    "$$\n",
    "\n",
    "- **Var**\n",
    "\n",
    "$$\n",
    "V(X) = \\frac{1}{12}(b - a)^2\n",
    "$$\n",
    "\n",
    "- **PDF**\n",
    "\n",
    "$$\n",
    "f(x|a,b)=\\begin{cases}\n",
    "  0,  & \\text{if }x \\not\\in [a,b] \\\\\n",
    "  \\frac{1}{b-a}, & \\text{if } x \\in [a,b]\n",
    "  \\end{cases}\n",
    "$$\n",
    "\n",
    "- **CDF**\n",
    "$$\n",
    "F(x|a,b)=\\begin{cases}\n",
    "  0,  & \\text{if }x < a \\\\\n",
    "  \\frac{x-a}{b-a}, & \\text{if } x\\in [a,b]\\\\\n",
    "  1, & \\text{if } x > b\n",
    "  \\end{cases}\n",
    "$$"
   ]
  },
  {
   "cell_type": "code",
   "execution_count": 7,
   "metadata": {
    "slideshow": {
     "slide_type": "slide"
    }
   },
   "outputs": [
    {
     "data": {
      "application/vnd.jupyter.widget-view+json": {
       "model_id": "b57b8f08f56745d5afb23b8a4838d023",
       "version_major": 2,
       "version_minor": 0
      },
      "text/plain": [
       "interactive(children=(IntSlider(value=0, description='a', max=1), IntSlider(value=1, description='b', max=10),…"
      ]
     },
     "metadata": {},
     "output_type": "display_data"
    }
   ],
   "source": [
    "@widgets.interact(b=(0,10))\n",
    "def plot_uniform(a=0,b=1):\n",
    "    \n",
    "    fig, ax = plt.subplots(nrows=1,ncols=3,figsize=(16,4))\n",
    "\n",
    "    rv = uniform(loc=a, scale=b) # Select distribution using parameters [a,b]\n",
    "    \n",
    "    xvals = np.linspace(a,b,20)\n",
    "    rvs   =  rv.rvs(size=200) # generate randomv variables, same as from numpy\n",
    "    \n",
    "    ax[0].plot(rvs,'o',alpha=0.5) \n",
    "    ax[0].set_xlim(0,200)\n",
    "    ax[0].set_ylim(0,10)\n",
    "    \n",
    "    ax[1].plot(xvals,rv.pdf(xvals),'-',lw=5,color='red') \n",
    "    ax[1].hist(rvs, density=1, alpha=0.5)\n",
    "    ax[1].set_xlim(0,10)\n",
    "    ax[1].set_ylim(0,1)\n",
    "    \n",
    "    ax[2].plot(xvals,rv.cdf(xvals),'-',lw=5, color='green')\n",
    "    ax[2].fill_between(xvals,rv.cdf(xvals), color='gold',alpha=0.3)\n",
    "    ax[2].set_xlim(0,10)\n",
    "    ax[2].set_ylim(0,1)"
   ]
  },
  {
   "cell_type": "markdown",
   "metadata": {
    "slideshow": {
     "slide_type": "slide"
    }
   },
   "source": [
    "### Normal dist"
   ]
  },
  {
   "cell_type": "markdown",
   "metadata": {
    "slideshow": {
     "slide_type": "slide"
    }
   },
   "source": [
    "- **Mean**\n",
    "\n",
    "$$\n",
    "\\mathrm{E}(X) = \\mu\n",
    "$$\n",
    "\n",
    "- **Var**\n",
    "\n",
    "$$\n",
    "V(X) = \\sigma^2\n",
    "$$\n",
    "\n",
    "- **PDF**\n",
    "$$\n",
    "f(x|\\mu,\\sigma) = \\frac{1}{\\sqrt{2\\pi\\sigma^2}}\n",
    "                                 \\text{exp}\\left(-\\frac{(x-\\mu)^2}{2\\sigma^2}\\right)\n",
    "$$\n",
    "\n",
    "\n",
    "- **CDF**\n",
    "$$\n",
    "F(x|\\mu,\\sigma) = \\frac{1}{2}\\left[1+\\text{erf}\n",
    "                          \\left(\\frac{x-\\mu}{\\sigma\\sqrt{2}}\\right)\\right]\n",
    "$$"
   ]
  },
  {
   "cell_type": "code",
   "execution_count": 119,
   "metadata": {
    "slideshow": {
     "slide_type": "slide"
    }
   },
   "outputs": [
    {
     "data": {
      "application/vnd.jupyter.widget-view+json": {
       "model_id": "c45fa9a470254cdf88f4fd00835c0ddb",
       "version_major": 2,
       "version_minor": 0
      },
      "text/plain": [
       "interactive(children=(IntSlider(value=0, description='mu', max=1), FloatSlider(value=1.0, description='sigma',…"
      ]
     },
     "metadata": {},
     "output_type": "display_data"
    }
   ],
   "source": [
    "@widgets.interact(sigma=(0.1,4))\n",
    "def plot_norm(mu=0, sigma=1):\n",
    "    \n",
    "    fig, ax = plt.subplots(nrows=1,ncols=3,figsize=(16,4))\n",
    "\n",
    "    rv = norm(loc=mu, scale=sigma) # Select distribution using parameters (mu, sigma)\n",
    "    \n",
    "    xvals = np.linspace(mu-4*sigma,mu+4*sigma,20) # range\n",
    "    rvs = rv.rvs(size=200) # random variables\n",
    "    \n",
    "    ax[0].plot(rvs,'o',alpha=0.5) \n",
    "    ax[0].set_xlim(0,200)\n",
    "    ax[0].set_ylim(0,10)\n",
    "    \n",
    "    ax[1].plot(xvals, rv.pdf(xvals), '-', lw=5, color='red') \n",
    "    ax[1].hist(rvs, density=1, alpha=0.5) \n",
    "    ax[1].set_xlim(-10,10)\n",
    "    ax[1].set_ylim(0,1)\n",
    "    \n",
    "    ax[2].plot(xvals,rv.cdf(xvals),'-',lw=5, color='green')\n",
    "    ax[2].fill_between(xvals,rv.cdf(xvals), color='gold',alpha=0.3)\n",
    "    ax[2].set_xlim(-10,10)\n",
    "    ax[2].set_ylim(0,1)"
   ]
  },
  {
   "cell_type": "code",
   "execution_count": null,
   "metadata": {},
   "outputs": [],
   "source": []
  },
  {
   "cell_type": "code",
   "execution_count": null,
   "metadata": {},
   "outputs": [],
   "source": []
  },
  {
   "cell_type": "code",
   "execution_count": null,
   "metadata": {},
   "outputs": [],
   "source": []
  },
  {
   "cell_type": "markdown",
   "metadata": {
    "slideshow": {
     "slide_type": "slide"
    }
   },
   "source": [
    "## Limit Theorems  and [the Laws of Large Numbers](https://en.wikipedia.org/wiki/Law_of_large_numbers)\n",
    "\n",
    "#### Sample mean and variance\n",
    "Consider a sequence $X_1, X_2, \\ldots$ of **i.i.d. (independent identically distributed)** random variables with mean $\\mu$ and variance $\\sigma^2$. \n",
    "\n",
    "We define a partial sum  or **sample sum** of the random variables as: \n",
    "\n",
    "$$S_n = \\sum_{i=1}^n X_i$$\n",
    "\n",
    "becasue of **independence** of random variables we have\n",
    "\n",
    "$$V\\left(S_n\\right) = \\sum_{i=1}^n V\\left(X_i\\right) = n \\sigma^2$$\n",
    "\n",
    "$$E\\left(S_n\\right) = \\sum_{i=1}^n E\\left(X_i\\right) = n \\mu$$\n",
    "\n",
    "Similarly we can the **sample mean** as  \n",
    "\n",
    "$$M_n = \\frac{1}{n}\\sum_{i=1}^n X_i = \\frac{S_n}{n}$$\n",
    "\n",
    "which has expected value and variance\n",
    "\n",
    "$$E\\left[M_n\\right] = \\mu $$  $$V\\left(M_n\\right) = \\frac{\\sigma^2}{n}$$\n",
    "\n",
    "Notice that the variance of the sample mean decreases to zero as *n* increases, implying that most of the probability distribution for $M$ is close to the mean value.\n",
    "\n",
    "Most importatnly we see that sample mean converges to true value with variance gowing down as $n^{-1/2}$\n",
    "\n",
    "$$\\boxed{\\frac{V(M_n)^{1/2}}{E(M_n)} = \\frac{1}{n^{1/2}}\\frac{\\sigma}{\\mu }}$$\n",
    "\n",
    "#### De-mean and scaled RVs\n",
    "We also introduce a convenient **de-meaned** and **scaled** random variable \n",
    "\n",
    "$$Z_n = \\frac{M_n - \\mu}{V^{1/2}(M_n)} =  \\frac{S_n - n\\mu}{\\sigma \\sqrt{n}}$$\n",
    "\n",
    "for which \n",
    "\n",
    "$$E\\left[Z_n\\right] = 0$$ $$V\\left(Z_n\\right) = 1$$"
   ]
  },
  {
   "cell_type": "markdown",
   "metadata": {
    "slideshow": {
     "slide_type": "slide"
    }
   },
   "source": [
    "### Markov Inequality \n",
    "If a RV *X* can only take nonnegative values, then\n",
    "\n",
    "$$P\\left(X \\ge a \\right) \\le \\frac{E\\left[X\\right]}{a}$$\n",
    "\n",
    "$$\\forall a \\gt 0$$"
   ]
  },
  {
   "cell_type": "markdown",
   "metadata": {
    "slideshow": {
     "slide_type": "slide"
    }
   },
   "source": [
    "### Chebyshev Inequality \n",
    "\n",
    "If *X* is a RV with mean $\\mu$ and variance $\\sigma^2$, then\n",
    "\n",
    "$$P\\left(\\left| X - \\mu \\right| \\ge c \\right) \\le \\frac{\\sigma^2}{c^2} \\,\\,\\,\\,\\, \\forall c \\gt 0$$\n",
    "\n",
    "An alternative form of the Chebyshev inequality is obtained by letting $c=k\\sigma$ where *k* is postive. This gives\n",
    "\n",
    "$$P\\left(\\left| X - \\mu \\right| \\ge k\\sigma \\right) \\le \\frac{1}{k^2} $$\n",
    "\n",
    "which indicates that the probability of an observation of the random variable *X* being more than *k* standard deviations from the mean is less than or equal to $1/k^2$ "
   ]
  },
  {
   "cell_type": "markdown",
   "metadata": {
    "slideshow": {
     "slide_type": "slide"
    }
   },
   "source": [
    "### Weak and Strong Law of Large Numbers \n",
    "\n",
    "- **Weak Law:** \n",
    "Let $X_1, X_2, \\ldots$ be i.i.d. RVs with mean $\\mu$. For **every** $\\epsilon > 0$ \n",
    "\n",
    "$$\\lim_{n\\rightarrow \\infty} P\\left(\\left|M_n - \\mu \\right| \\ge \\epsilon \\right)= 0$$\n",
    "\n",
    "- **Strong Law:** \n",
    "The strong law of large numbers states that the sample average converges almost surely to the expected value\n",
    "\n",
    "$$ P(\\lim_{n\\rightarrow \\infty} M_n =\\mu)= 1$$"
   ]
  },
  {
   "cell_type": "markdown",
   "metadata": {
    "slideshow": {
     "slide_type": "slide"
    }
   },
   "source": [
    "### Convergence in Probability \n",
    "\n",
    "Let $Y_1, Y_2, \\ldots$ be a sequence of RVs, *not necessarily independent*, and let *a* be a real number. We say that the sequence $Y_n$ **converges to** *a* **in probability** if for every $\\epsilon \\gt 0$ we have\n",
    "\n",
    "$$\\lim_{n\\rightarrow 0} P\\left( \\left| Y_n -a \\right|  \\gt \\epsilon \\right) = 0$$\n",
    "\n",
    "This implies that the probability distribution of the random variables, $Y_n$ converges to a distribution that is contained within a space of width $2\\epsilon$ around the point *a*. However this says nothing about the shape of the distribution. \n",
    "\n",
    "This can be rephrased in the following way: For every $\\epsilon \\gt 0$ and for any $\\delta \\gt 0$, there exists $n_0$ such that\n",
    "\n",
    "$$ P\\left( \\left| Y_n -a \\right|  \\gt \\epsilon \\right) \\le \\delta \\,\\,\\,\\,\\, \\forall n \\ge n_0$$\n",
    "\n",
    "where $\\epsilon$ is known as the **accuracy** and $\\delta$ is known as the **confidence**."
   ]
  },
  {
   "cell_type": "markdown",
   "metadata": {
    "slideshow": {
     "slide_type": "slide"
    }
   },
   "source": [
    "### The Central Limit Theorem  (CLT)\n",
    "\n",
    "\n",
    "Let $X_1, X_2, \\ldots $ be a sequence of i.i.d. random variables with common mean $\\mu$ and variance $\\sigma^2$ snd define\n",
    "\n",
    "$$Z_n = \\frac{\\sum_{i=1}^n X_i - n\\mu}{\\sigma \\sqrt{n}}$$\n",
    "\n",
    "Then, the **PDF** of $Z_n$ converges to the standard normal PDF\n",
    "\n",
    "$$P\\left(z\\right) = \\frac{1}{\\sqrt{2\\pi}} \\int_{-\\infty}^{+\\infty} e^{-z^2/2}dz$$\n",
    "\n",
    "\n",
    "Note that there is an implicit assumption that the **mean and variance**, $\\mu$ and $\\sigma^2$, **are finite**. This does not hold for certain power law distributed RVs."
   ]
  },
  {
   "cell_type": "markdown",
   "metadata": {
    "slideshow": {
     "slide_type": "slide"
    }
   },
   "source": [
    "### Large Deviation Theorem (LDT)\n",
    "\n"
   ]
  },
  {
   "cell_type": "markdown",
   "metadata": {},
   "source": [
    "Sum of N random variables $X_i$ tends to a distribution which is exponentially suppressing deviaions from the mean $Y=\\frac{1}{N} \\sum X_i$ with coefficient N and rate function $I(y)$\n",
    "\n",
    "$$P_N(y)= Ce^{-N I(y)}$$"
   ]
  },
  {
   "cell_type": "markdown",
   "metadata": {},
   "source": [
    "$$ I(y)=I(y_0)+\\frac{1}{2!} I''(y_0) (y-y_0)^2$$"
   ]
  },
  {
   "cell_type": "markdown",
   "metadata": {},
   "source": [
    "As N increases the LDT tends to CLT result that is gaussian distribution. "
   ]
  },
  {
   "cell_type": "markdown",
   "metadata": {},
   "source": [
    "### References\n",
    "\n",
    "1. **Limit Theorems and PDFs**\n",
    "\n",
    "For a smooth introduction to Prob, Stats and RV theory with lots of examples and simulation results, see:\n",
    "- [ Intro to Probability by Grinstead & Snell's, 2012](https://www.amazon.com/Introduction-Probability-Charles-M-Grinstead/dp/0821894145/ref=sr_1_2?keywords=grinstead+snell&qid=1580828540&sr=8-2#customerReviews)\n",
    "- [Probability for the Enthusiastic Beginner by DJ Morin, 2016](https://www.amazon.com/Probability-Enthusiastic-Beginner-David-Morin/dp/1523318678/ref=pd_sbs_14_2/143-1917920-7901730?_encoding=UTF8&pd_rd_i=1523318678&pd_rd_r=c40c1b9c-9f20-4569-97da-77d9734c34fb&pd_rd_w=1QlKP&pd_rd_wg=m6CoU&pf_rd_p=670e3530-913b-43e2-8005-da937e9a4fe8&pf_rd_r=HXQ2D2F8ZM7CMQSXB1EP&psc=1&refRID=HXQ2D2F8ZM7CMQSXB1EP)\n",
    "- [Introduction to Probability by Hossein Pishro-Nik, 2014](https://www.amazon.com/Introduction-Probability-Charles-M-Grinstead/dp/0821894145/ref=sr_1_2?keywords=grinstead+snell&qid=1580828540&sr=8-2#customerReviews)\n",
    "- [All of Statistics by Larry Wasserman, 2004](https://www.amazon.com/All-Statistics-Statistical-Inference-Springer/dp/0387402721/ref=pd_sbs_14_9?_encoding=UTF8&pd_rd_i=0387402721&pd_rd_r=b2d61494-2ccb-4885-a0a4-43c232335dfe&pd_rd_w=GCMqV&pd_rd_wg=p9Afm&pf_rd_p=670e3530-913b-43e2-8005-da937e9a4fe8&pf_rd_r=XRGGZ9XS1SXMAT68HDF9&psc=1&refRID=XRGGZ9XS1SXMAT68HDF9)\n",
    "\n",
    "A bit more advanced, but thorught, including conscience statement of LDT results (Chapter 5!) stochastic, inference, simulation and more in a timeless calssic, \n",
    "\n",
    " - [Probability and Random Processes by Grimmet and Stirzaker, 2001](https://www.amazon.com/Probability-Random-Processes-Geoffrey-Grimmett/dp/0198572220/ref=sr_1_1?keywords=stirzaker&qid=1580829691&s=books&sr=1-1)\n",
    "\n",
    "2. **LDT** \n",
    "\n",
    "Excellent places to start learning about utility and power of LDT in statstical mechanics are reviews and lectures given by Hugo Touchette\n",
    "\n",
    "- [A basic introduction to large deviations: Theory, applications, simulations](https://arxiv.org/abs/1106.4146)\n",
    "\n",
    "- [The large deviation approach to statistical mechanics](https://arxiv.org/abs/0804.0327)\n",
    "\n",
    "- [Large deviations of random walks on random graphs](https://arxiv.org/abs/1808.00700)\n",
    " \n",
    "- [VIDEO: Large deviations of Markov processes](https://www.youtube.com/watch?v=I1PRP14QXVE) "
   ]
  },
  {
   "cell_type": "code",
   "execution_count": null,
   "metadata": {},
   "outputs": [],
   "source": []
  }
 ],
 "metadata": {
  "kernelspec": {
   "display_name": "Python 3",
   "language": "python",
   "name": "python3"
  },
  "language_info": {
   "codemirror_mode": {
    "name": "ipython",
    "version": 3
   },
   "file_extension": ".py",
   "mimetype": "text/x-python",
   "name": "python",
   "nbconvert_exporter": "python",
   "pygments_lexer": "ipython3",
   "version": "3.8.5"
  },
  "latex_envs": {
   "LaTeX_envs_menu_present": true,
   "autoclose": false,
   "autocomplete": true,
   "bibliofile": "biblio.bib",
   "cite_by": "apalike",
   "current_citInitial": 1,
   "eqLabelWithNumbers": true,
   "eqNumInitial": 1,
   "hotkeys": {
    "equation": "Ctrl-E",
    "itemize": "Ctrl-I"
   },
   "labels_anchors": false,
   "latex_user_defs": false,
   "report_style_numbering": false,
   "user_envs_cfg": false
  },
  "toc": {
   "base_numbering": 1,
   "nav_menu": {},
   "number_sections": true,
   "sideBar": true,
   "skip_h1_title": false,
   "title_cell": "Table of Contents",
   "title_sidebar": "Contents",
   "toc_cell": false,
   "toc_position": {},
   "toc_section_display": true,
   "toc_window_display": false
  }
 },
 "nbformat": 4,
 "nbformat_minor": 4
}
