{
 "cells": [
  {
   "cell_type": "markdown",
   "metadata": {
    "editable": true,
    "slideshow": {
     "slide_type": ""
    },
    "tags": []
   },
   "source": [
    "# Probability theory"
   ]
  },
  {
   "cell_type": "markdown",
   "metadata": {
    "@deathbeds/jupyterlab-fonts": {
     "styles": {
      "": {
       "body[data-jp-deck-mode='presenting'] &": {
        "zoom": "132%"
       }
      }
     }
    },
    "editable": true,
    "slideshow": {
     "slide_type": "slide"
    },
    "tags": []
   },
   "source": [
    ":::{admonition} What you need to know\n",
    "\n",
    "- **Sample space** $\\Omega$ is a set of elementary outcomes or events.\n",
    "- **Events** can contain more than one elementary event and can be constructed by forming subsets ($A$, $B$, $C$ etc) of $\\Omega$ \n",
    "- **Probability function** P(A) assigns a numeric value to each event, A quantifying certainty of an event happening on a 0-1 scale. \n",
    "- **Venn diagrams** visualize P(A) as a \"volume fraction\" of our confidence in the event expressed on 0-1 scale.\n",
    "- **Probability axioms** define a set of logical rules for creating composite events from trivial ones.\n",
    "- **Bayesian approach:** In physical sciences and modeling one often deals with situations where counting is impossible. Hence, probability is interpreted as a degree of belief.\n",
    ":::"
   ]
  },
  {
   "cell_type": "code",
   "execution_count": 8,
   "metadata": {},
   "outputs": [],
   "source": [
    "import numpy as np\n",
    "import ipywidgets as widgets\n",
    "import matplotlib.pyplot as plt"
   ]
  },
  {
   "cell_type": "markdown",
   "metadata": {
    "editable": true,
    "slideshow": {
     "slide_type": "slide"
    },
    "tags": []
   },
   "source": [
    "### Sample space\n",
    "\n",
    "- The **sample space**, often signified by an $\\Omega$ is a set of **all possible elementary events**. Elementary means the events can not be further broken down into simpler events. For instance, rolling a die can result in any one of six elementary events.\n",
    "\n",
    "- In the context of statistical mechanics, we are going to call states inside $\\Omega$ **microstates**. States of $\\Omega$ are sampled during a system trial, which could be done via an experiment or simulation. "
   ]
  },
  {
   "cell_type": "markdown",
   "metadata": {
    "editable": true,
    "slideshow": {
     "slide_type": "slide"
    },
    "tags": []
   },
   "source": [
    "#### Examples of Samples spaces\n",
    "\n",
    "-  If our trial is a single roll of a six-sided die, then the sample space will be:\n",
    "\n",
    "$$\\Omega =\\{1, 2, 3, 4, 5, 6 \\}$$\n",
    "\n",
    "- A fair coin is tossed once \n",
    "\n",
    "$$\\Omega = \\{H, T \\}$$\n",
    "\n",
    "- If a fair coin is tossed three times in a row, we will have sample space of size $2^3$ (HTT, THT, TTH, THH, HTH, HHT, HHH, TTT) \n",
    "\n",
    "$$\\Omega = \\{H,T\\}^{3}$$\n",
    "\n",
    "- Position of an atom in a container of size $L_x$ along x. There will be a huge number of  \n",
    "\n",
    "$$\\Omega = \\{0... L_x\\}$$ "
   ]
  },
  {
   "cell_type": "markdown",
   "metadata": {
    "editable": true,
    "slideshow": {
     "slide_type": "slide"
    },
    "tags": []
   },
   "source": [
    "### Events\n",
    "\n",
    "- An **Event** specifies the outcome of a trial. Generally an event can contain one or more elementary events from $\\Omega$.\n",
    "  \n",
    "- In the contact of statistical mechanics we will refer to events containing multiple microstates as **Macrostates**. \n",
    "\n",
    "#### Examples of events\n",
    "\n",
    "- If we roll a die we can choose event to be getting a single number\n",
    "\n",
    "$$A= \\{1 \\}$$\n",
    "\n",
    "- Or we can choose event to be any even number: \n",
    "\n",
    "$$B = \\{2, 4, 6 \\}$$\n",
    "\n",
    "- A macrostate of a nitrogen molecule could be all positions of molecule in second half of container\n",
    "\n",
    "$$C  = \\{L/2, ..., L \\} $$\n"
   ]
  },
  {
   "cell_type": "markdown",
   "metadata": {
    "editable": true,
    "slideshow": {
     "slide_type": "slide"
    },
    "tags": []
   },
   "source": [
    "### Compute probabilities through counting "
   ]
  },
  {
   "cell_type": "markdown",
   "metadata": {
    "editable": true,
    "slideshow": {
     "slide_type": "slide"
    },
    "tags": []
   },
   "source": [
    "We calculate probabilities of events as fractions in the sample space that events take up.\n",
    "\n",
    "$$\n",
    "\\boxed{\\Large P(A) = \\frac{n(A)}{n(\\Omega)}}\n",
    "$$\n",
    "\n",
    "- $n(A)$ probability of event, e.g rolling an even number. The size of the event space is 3\n",
    "- $n(\\Omega)$ size of sample space. In the context of single die roll is equal 6"
   ]
  },
  {
   "cell_type": "code",
   "execution_count": 1,
   "metadata": {
    "editable": true,
    "slideshow": {
     "slide_type": "slide"
    },
    "tags": []
   },
   "outputs": [],
   "source": [
    "def probability(Omega={1,2}, A={1}):\n",
    "    '''\n",
    "    Compute the probability of event A given sample set Omega.\n",
    "    '''\n",
    "    \n",
    "    return len(A)/len(Omega)"
   ]
  },
  {
   "cell_type": "code",
   "execution_count": 2,
   "metadata": {
    "editable": true,
    "slideshow": {
     "slide_type": "fragment"
    },
    "tags": []
   },
   "outputs": [
    {
     "data": {
      "text/plain": [
       "0.3"
      ]
     },
     "execution_count": 2,
     "metadata": {},
     "output_type": "execute_result"
    }
   ],
   "source": [
    "S={1,2,3,4,5,6,7,8,9,10}\n",
    "E= {1, 4, 8} \n",
    "probability(S,E)"
   ]
  },
  {
   "cell_type": "code",
   "execution_count": 3,
   "metadata": {
    "@deathbeds/jupyterlab-fonts": {
     "styles": {
      "": {
       "body[data-jp-deck-mode='presenting'] &": {
        "zoom": "192%"
       }
      }
     }
    },
    "editable": true,
    "slideshow": {
     "slide_type": "fragment"
    },
    "tags": []
   },
   "outputs": [
    {
     "data": {
      "text/plain": [
       "0.4"
      ]
     },
     "execution_count": 3,
     "metadata": {},
     "output_type": "execute_result"
    }
   ],
   "source": [
    "S={1,2,3,4,5,6,7,8,9,10}\n",
    "E= {1,4,5, 7} \n",
    "probability(S,E)"
   ]
  },
  {
   "cell_type": "markdown",
   "metadata": {
    "editable": true,
    "slideshow": {
     "slide_type": "slide"
    },
    "tags": []
   },
   "source": [
    "### Composite events and Venn diagrams"
   ]
  },
  {
   "cell_type": "code",
   "execution_count": 5,
   "metadata": {
    "editable": true,
    "slideshow": {
     "slide_type": "fragment"
    },
    "tags": []
   },
   "outputs": [
    {
     "name": "stdout",
     "output_type": "stream",
     "text": [
      "Requirement already satisfied: matplotlib-venn in /opt/homebrew/anaconda3/envs/llpsmd3/lib/python3.9/site-packages (0.11.6)\n",
      "Requirement already satisfied: matplotlib in /opt/homebrew/anaconda3/envs/llpsmd3/lib/python3.9/site-packages (from matplotlib-venn) (3.5.1)\n",
      "Requirement already satisfied: numpy in /opt/homebrew/anaconda3/envs/llpsmd3/lib/python3.9/site-packages (from matplotlib-venn) (1.23.5)\n",
      "Requirement already satisfied: scipy in /opt/homebrew/anaconda3/envs/llpsmd3/lib/python3.9/site-packages (from matplotlib-venn) (1.10.1)\n",
      "Requirement already satisfied: fonttools>=4.22.0 in /opt/homebrew/anaconda3/envs/llpsmd3/lib/python3.9/site-packages (from matplotlib->matplotlib-venn) (4.28.5)\n",
      "Requirement already satisfied: packaging>=20.0 in /opt/homebrew/anaconda3/envs/llpsmd3/lib/python3.9/site-packages (from matplotlib->matplotlib-venn) (23.1)\n",
      "Requirement already satisfied: python-dateutil>=2.7 in /opt/homebrew/anaconda3/envs/llpsmd3/lib/python3.9/site-packages (from matplotlib->matplotlib-venn) (2.8.2)\n",
      "Requirement already satisfied: pillow>=6.2.0 in /opt/homebrew/anaconda3/envs/llpsmd3/lib/python3.9/site-packages (from matplotlib->matplotlib-venn) (9.2.0)\n",
      "Requirement already satisfied: cycler>=0.10 in /opt/homebrew/anaconda3/envs/llpsmd3/lib/python3.9/site-packages (from matplotlib->matplotlib-venn) (0.11.0)\n",
      "Requirement already satisfied: kiwisolver>=1.0.1 in /opt/homebrew/anaconda3/envs/llpsmd3/lib/python3.9/site-packages (from matplotlib->matplotlib-venn) (1.4.4)\n",
      "Requirement already satisfied: pyparsing>=2.2.1 in /opt/homebrew/anaconda3/envs/llpsmd3/lib/python3.9/site-packages (from matplotlib->matplotlib-venn) (3.0.9)\n",
      "Requirement already satisfied: six>=1.5 in /opt/homebrew/anaconda3/envs/llpsmd3/lib/python3.9/site-packages (from python-dateutil>=2.7->matplotlib->matplotlib-venn) (1.16.0)\n"
     ]
    }
   ],
   "source": [
    "%%capture\n",
    "!pip install matplotlib-venn #install if running locally\n",
    "import matplotlib_venn as venn"
   ]
  },
  {
   "cell_type": "code",
   "execution_count": 10,
   "metadata": {
    "editable": true,
    "slideshow": {
     "slide_type": "fragment"
    },
    "tags": []
   },
   "outputs": [
    {
     "data": {
      "text/plain": [
       "<matplotlib_venn._common.VennDiagram at 0x17c58c3d0>"
      ]
     },
     "execution_count": 10,
     "metadata": {},
     "output_type": "execute_result"
    },
    {
     "data": {
      "image/png": "[encoded data removed]",
      "text/plain": [
       "<Figure size 640x480 with 1 Axes>"
      ]
     },
     "metadata": {},
     "output_type": "display_data"
    }
   ],
   "source": [
    "Omega = {-1, 0, 1, 2, 3,4,5,7, 20, 90}\n",
    "\n",
    "A = {1, 2, 3,4,5}\n",
    "\n",
    "B = {0, 2, -1, 5,7}\n",
    "\n",
    "C = {20, 90, 0}\n",
    "\n",
    "D = {90}\n",
    "\n",
    "venn.venn3([A, B, D], set_labels=('A','B', 'D'))"
   ]
  },
  {
   "cell_type": "markdown",
   "metadata": {
    "editable": true,
    "slideshow": {
     "slide_type": "slide"
    },
    "tags": []
   },
   "source": [
    "#### Creating new events"
   ]
  },
  {
   "cell_type": "code",
   "execution_count": 5,
   "metadata": {
    "@deathbeds/jupyterlab-fonts": {
     "styles": {
      "": {
       "body[data-jp-deck-mode='presenting'] &": {
        "zoom": "148%"
       }
      }
     }
    },
    "editable": true,
    "slideshow": {
     "slide_type": "fragment"
    },
    "tags": []
   },
   "outputs": [
    {
     "name": "stdout",
     "output_type": "stream",
     "text": [
      "𝐴∩𝐵 =  {2, 5}\n",
      "𝐴∪B =  {0, 1, 2, 3, 4, 5, 7, -1}\n",
      "𝐴-B =  {1, 3, 4}\n"
     ]
    }
   ],
   "source": [
    "print(\"𝐴∩𝐵 = \", A&B)\n",
    "\n",
    "print(\"𝐴∪B = \", A|B)    \n",
    "\n",
    "print(\"𝐴-B = \", A-B)     \n",
    "\n",
    "print(\"A^c = \", len(Omega-A))\n",
    "\n",
    "print(\"B^c = \", len(Omega-B))\n",
    "\n",
    "print(\"(𝐴∪𝐵)^c = \", len(Omega-(𝐴|𝐵)))\n",
    "\n",
    "print(\"𝐴^c ∩ B^c = \", len((Omega-A)&(Omega-B)))"
   ]
  },
  {
   "cell_type": "markdown",
   "metadata": {
    "editable": true,
    "slideshow": {
     "slide_type": "slide"
    },
    "tags": []
   },
   "source": [
    "### Probability Axioms\n",
    "\n",
    ":::{admonition} Nonnegativity\n",
    ":class: tip \n",
    " \n",
    "For every event *A*, \n",
    " \n",
    "$$P(A) \\ge 0$$\n",
    ":::\n",
    "\n",
    ":::{admonition} Normalization\n",
    ":class: tip \n",
    " \n",
    "The probability of the entire sample space is equal to 1.\n",
    " \n",
    "$$P(\\Omega)=1$$\n",
    ":::\n",
    "\n",
    ":::{admonition} Addition rule\n",
    ":class: tip \n",
    " \n",
    "For any sequence of **disjoint** events, $A_i \\cap A_j = \\emptyset $, the probability of their union is the sum of their probabilities,\n",
    " \n",
    "$$P\\left( A_1 \\cup A_2 \\cup \\ldots \\right) = P\\left(A_1\\right) + P\\left(A_2\\right) + \\ldots$$\n",
    "::: \n",
    "\n",
    "\n",
    ":::{admonition} Product rule\n",
    ":class: tip \n",
    " \n",
    "For every event *A*, \n",
    " \n",
    "$$P(A,B,C)=P(A)P(B)P(C)$$\n",
    "::: \n",
    "\n",
    ":::{admonition} Complement\n",
    ":class: tip \n",
    " \n",
    "Given that $A \\cap \\bar A=\\emptyset$ and $A \\cup \\bar A=\\Omega$.\n",
    " \n",
    " $$P(\\bar A)=1-P(A)$$\n",
    ":::\n",
    " \n",
    ":::{admonition} Conditional probability and Bayes Theorem\n",
    ":class: tip \n",
    " \n",
    "Knowledge of past events may change the probability of future events\n",
    " \n",
    "$$P(A,B)=P(A|B)P(B)=P(B|A)P(A)$$\n",
    "::: "
   ]
  },
  {
   "cell_type": "markdown",
   "metadata": {
    "editable": true,
    "slideshow": {
     "slide_type": "slide"
    },
    "tags": []
   },
   "source": [
    "::::{admonition} Example\n",
    "\n",
    "We roll two dice and record the total sum of numbers $T$. Suppose event $A$ is getting a total of $T = 9$ and event $B$ is getting a total of $T = 5$. What is the probability of A or B?\n",
    "\n",
    ":::{dropdown}  \n",
    "A and B cannot both occur. The two events are mutually exclusive. There are four ways to get event A\n",
    "(T = 9), and 4 ways to get event B (T = 5), so that there are 4 + 4 = 8 ways to get\n",
    "either A or B, and so $P(A or B) = 8/36$\n",
    ":::\n",
    "::::\n",
    "\n",
    "::::{admonition} Example\n",
    "Suppose event C is getting a total of $T = 12$ and event D is getting a double, where both dice are the same. What is the probability of C or D?\n",
    "\n",
    ":::{dropdown}  \n",
    "\n",
    "There is only one way to get 12, so P(C) = 1/36. There are six ways to get a double,\n",
    "so P(D) = 6/36. However, C and D are not exclusive—rolling a double six is an\n",
    "example of both. The double six is already included in the P(D) calculation. So\n",
    "P(C or D) = 6/36 + 1/36 − 1/36 = 6/36\n",
    ":::\n",
    "\n",
    "::::"
   ]
  },
  {
   "cell_type": "markdown",
   "metadata": {
    "editable": true,
    "slideshow": {
     "slide_type": "slide"
    },
    "tags": []
   },
   "source": [
    "### Joint, marginal and conditional probability\n",
    "\n",
    "-  **Joint Probability $P(A, B)$**  Quantifies the probability of two or more events happening simultaneously.\n",
    "\n",
    "- **Marginal Probability $P(A)$**  Quantifies the probability of an event irrespective of the outcomes of other random variables. Is obtained by marginalization, summing over all possibilities of B.\n",
    "\n",
    "$$P(A) = P(A, B) + P(A, B^c)$$\n",
    "\n",
    "- **Conditional Probability $P(A | B)$**  Quantifies probability of event A given the information that event B happened.\n",
    "\n",
    "$$P(B | A) = \\frac{P(B, A)}{P(A)}$$\n",
    "\n",
    "$$P(A, B) = P(B | A) \\cdot  P(A)$$\n",
    "\n",
    "- We are counting the fraction of A and B overlap confined within the given event A\n",
    "\n",
    "- Note that joint probability is symmetric $P(A, B) = P(B, A)$ while conditional probability is not! $P(A | B) != P(B | A)$\n"
   ]
  },
  {
   "cell_type": "markdown",
   "metadata": {
    "editable": true,
    "slideshow": {
     "slide_type": "slide"
    },
    "tags": []
   },
   "source": [
    "![](./figs/bayes.png)"
   ]
  },
  {
   "cell_type": "markdown",
   "metadata": {
    "@deathbeds/jupyterlab-fonts": {
     "styles": {
      "": {
       "body[data-jp-deck-mode='presenting'] &": {
        "zoom": "145%"
       }
      }
     }
    },
    "editable": true,
    "slideshow": {
     "slide_type": "slide"
    },
    "tags": []
   },
   "source": [
    "### Bayes formula\n",
    "\n",
    "**Prior, posterior and likelihood**\n",
    "\n",
    "- The Bayes theorem provides a powerful way to test hypotheses and learn the parameters of a model from data. The jargon used when using the bayes formula differs slightly from the one given above.\n",
    "\n",
    "$$P(H|D) = \\frac{P(D|H) \\cdot P(H) }{P(D)}$$\n",
    "\n",
    "- $P(H)$ is called **prior** and quantifies information we have about our hyothesis. \n",
    "- $P(D)$ is called **evidence** and is just the probability of having the date we generated.\n",
    "- $P(D|H)$ is called likelihood of data! It is not called probability because one is interested in how different values of $H$ change the $P(D|H)$. \n",
    "- $P(H|D)$ is the quantity we are after is called called **posterior**"
   ]
  },
  {
   "cell_type": "markdown",
   "metadata": {
    "@deathbeds/jupyterlab-fonts": {
     "styles": {
      "": {
       "body[data-jp-deck-mode='presenting'] &": {
        "z-index": "-5",
        "zoom": "167%"
       }
      }
     }
    },
    "editable": true,
    "slideshow": {
     "slide_type": "fragment"
    },
    "tags": []
   },
   "source": [
    ":::{admonition} Example \n",
    "\n",
    "- A test for cancer is known to be 90% accurate either in detecting cancer if present or in giving an all-clear if cancer is absent.\n",
    "- The prevalence of cancer in the population is 1%.\n",
    "How worried should you be if you test positive? Try answering this question\n",
    "using Bayes’ theorem.\n",
    "\n",
    ":::{dropdown}  Solution\n",
    "\n",
    "- Accuracy of a test (how often positives show up when cancer is certain)\n",
    "\n",
    "$$P(+|X) = 0.9 \\\\ P(-|X^c)=0.9$$\n",
    "\n",
    "- Only 1% of the population has cancer; hence, we get the probability of an individual having (not having) cancer as:\n",
    "\n",
    "$$P(X)=0.01\\,\\,\\,\\,hence\\,\\,\\,\\,\\,\\,\\, P(X^c)=1-P(X)=0.99$$\n",
    "\n",
    "- Now we have all terms to compute $p(X|+)$ probability of disease given the positive test. \n",
    "\n",
    "$$P(X|+) = \\frac{P(+|X)p(X)}{p(+)} = \\frac{P(+|X)p(X)}{p(+|X)p(X)+p(+| X^c)p(X^c)} =  \\frac{0.9\\cdot 0.01}{0.9\\cdot 0.01+0.1\\cdot 0.99} = 0.083$$\n",
    "\n",
    ":::"
   ]
  },
  {
   "cell_type": "markdown",
   "metadata": {},
   "source": [
    ":::{admonition} **Exercise**\n",
    ":class: attention\n",
    "\n",
    "A second test is done, and you test positive again. Calculate $P(X|+, ++)$, which you can do by noting that tests are independent; hence \n",
    "\n",
    "$$P(++, +|X)= P(++|X, +)\\cdot P(+|X) = P(++|X)\\cdot P(+|X)$$\n",
    "\n",
    "- The Bayes formula allows you to update probabilities with the emergence of new data easily!\n",
    ":::"
   ]
  },
  {
   "cell_type": "markdown",
   "metadata": {
    "editable": true,
    "slideshow": {
     "slide_type": "slide"
    },
    "tags": []
   },
   "source": [
    "### Combinatorics\n",
    "\n",
    "- Combinatoric expressions are helpful for computing the size of events and answering questions such as \"How many ways can molecules arrange in this or that way?\"\n",
    "- If you are given **n molecules in a jar**, **you have r ways of sampling them**. You get different answers depending on whether molecules are distinguishable and whether sampling is done with or without replacement. \n",
    "\n",
    "Sampling   | Combinatorics\n",
    "--   |   --\n",
    "**Ordered** sampling **without** replacement       |  $\\boxed{P^n_r = \\frac{n!}{(n-r)!}}$\n",
    "**Unordered** sampling **without** replacement  |  $\\boxed{C^n_r = \\frac{n!}{r!(n-r)!}}$\n",
    "**Ordered** sampling **with** replacement          | $\\boxed{P^n_r = r^n}$  |    |  \n",
    "**Unordered** sampling **with** replacement  |  $\\boxed{P^n_r = \\frac{(n+r-1)!}{r!(n-1)!}}$\n",
    "\n",
    "\n",
    "#### Multinomial combination.\n",
    "\n",
    "The combinatorial formula can be readily generalized for k>2 partitions. A classic problem we will encounter is partitioning $N$ indistinguishable molecules among $n_1$ energy level, $n_2$, ... $n_k$. $\\sum n_i = N$\n",
    "\n",
    "$$\\boxed{C^N_{n_1,n_2,...n_k}=\\frac{N!}{n_1! \\cdot n_2! \\cdot ... n_k!} }$$"
   ]
  },
  {
   "cell_type": "markdown",
   "metadata": {
    "editable": true,
    "slideshow": {
     "slide_type": "slide"
    },
    "tags": []
   },
   "source": [
    "````{admonition} Example: gas atoms\n",
    "\n",
    "Consider a container filled with 1000 atoms of Ar.\n",
    "\n",
    "```{dropdown} What is the probability that the left half has 400 atoms?\n",
    "$n(A) = \\frac{1000!}{400! \\cdot 600 !}$\n",
    "```\n",
    "\n",
    "```{dropdown} What is the probability that the left half has 500 atoms?\n",
    "$n(B) = \\frac{1000!}{500! \\cdot 500 !}$\n",
    "```\n",
    "\n",
    "```{dropdown} What is a probability that 1/3 has 100 next 1/3 has 200 and next 1/3 has 700?\n",
    " $n(C) = \\frac{1000!}{100!\\cdot 200! \\cdot 700!}$\n",
    "```\n",
    "\n",
    "```{dropdown} What is the total number of all possible partitionings or states of gas atoms in a container?\n",
    "$n(S) = \\sum^{n=N}_{n=0}\\frac{N!}{n!\\cdot (N-n)!} = 2^N$ \n",
    "Each N lattice site in the container can be vacant or filled with $2^N$ states. \n",
    "```\n",
    "\n",
    "````"
   ]
  },
  {
   "cell_type": "markdown",
   "metadata": {
    "@deathbeds/jupyterlab-fonts": {
     "styles": {
      "": {
       "body[data-jp-deck-mode='presenting'] &": {
        "opacity": "100%",
        "z-index": "2",
        "zoom": "222%"
       }
      }
     }
    },
    "editable": true,
    "slideshow": {
     "slide_type": "slide"
    },
    "tags": []
   },
   "source": [
    "````{admonition} **Example: spins**\n",
    "\n",
    "Solid metal has 100 atoms. Magnetic measurements show that there are 10 atoms with spin down. If ten atoms are chosen at random, what is the probability that they all have spin up? \n",
    "\n",
    "```{dropdown} Solution\n",
    "\n",
    "\n",
    "$$n(S) = \\frac{100!}{10!(90)!}$$\n",
    "\n",
    "$$n(up) = \\frac{90!}{10!(80)!}$$\n",
    "\n",
    "$$p(up) =\\frac{n(up)}{n(S)}$$\n",
    "```\n",
    "\n",
    "````"
   ]
  },
  {
   "cell_type": "code",
   "execution_count": 55,
   "metadata": {
    "editable": true,
    "slideshow": {
     "slide_type": "slide"
    },
    "tags": []
   },
   "outputs": [
    {
     "name": "stdout",
     "output_type": "stream",
     "text": [
      "1.0089134454556417e+29\n",
      "1.977470353093058e+33\n"
     ]
    }
   ],
   "source": [
    "def gas_partition(k1=30, k2=30, k3=30):\n",
    "    '''partitioning N gas molecules into regions k1, k2 and k3'''\n",
    "\n",
    "    from scipy.special import factorial\n",
    "\n",
    "    N = k1+k2+k3 \n",
    "\n",
    "    return factorial(N) / (factorial(k1) * factorial(k2)* factorial(k3))\n",
    "\n",
    "print( gas_partition(k1=50, k2=50, k3=0) )\n",
    "\n",
    "print( gas_partition(k1=50, k2=47, k3=3) )\n"
   ]
  },
  {
   "cell_type": "markdown",
   "metadata": {},
   "source": [
    ":::{admonition} **Exercise**\n",
    ":class: attention\n",
    "\n",
    "Plot how a number of configurations resulting from portioning molecules of gas into two regions depends on the ratio of molecules in compartments\n",
    ":::"
   ]
  },
  {
   "cell_type": "markdown",
   "metadata": {
    "editable": true,
    "slideshow": {
     "slide_type": ""
    },
    "tags": []
   },
   "source": [
    "### Permutations and combinations in python\n",
    "\n",
    "- [itertools](https://docs.python.org/3/library/itertools.html) module of python as the name may suggest provides tools for building complex iterations. \n",
    "- For instance itertoosl has functions for obtaining all possible permutations and combinations of two objects; two lists or strings for instance.  "
   ]
  },
  {
   "cell_type": "code",
   "execution_count": 13,
   "metadata": {
    "editable": true,
    "slideshow": {
     "slide_type": "slide"
    },
    "tags": []
   },
   "outputs": [
    {
     "name": "stdout",
     "output_type": "stream",
     "text": [
      "Permuations\n",
      "('A', 'B')\n",
      "('A', 'C')\n",
      "('A', 'D')\n",
      "('B', 'A')\n",
      "('B', 'C')\n",
      "('B', 'D')\n",
      "('C', 'A')\n",
      "('C', 'B')\n",
      "('C', 'D')\n",
      "('D', 'A')\n",
      "('D', 'B')\n",
      "('D', 'C')\n",
      "Combinations\n",
      "('A', 'B')\n",
      "('A', 'C')\n",
      "('A', 'D')\n",
      "('B', 'C')\n",
      "('B', 'D')\n",
      "('C', 'D')\n",
      "Combinations with replacement\n",
      "('A', 'A')\n",
      "('A', 'B')\n",
      "('A', 'C')\n",
      "('A', 'D')\n",
      "('B', 'B')\n",
      "('B', 'C')\n",
      "('B', 'D')\n",
      "('C', 'C')\n",
      "('C', 'D')\n",
      "('D', 'D')\n"
     ]
    }
   ],
   "source": [
    "from itertools import permutations, combinations, combinations_with_replacement\n",
    "\n",
    "#Try out different methods, sequence and combination numbers\n",
    "seq = 'ABCD'\n",
    "n   = 2\n",
    "\n",
    "print('Permuations')\n",
    "[print(p) for p in permutations(seq, n)];\n",
    "\n",
    "print('Combinations')\n",
    "[print(p) for p in combinations(seq, n)]; \n",
    "\n",
    "print('Combinations with replacement')\n",
    "[print(p) for p in combinations_with_replacement(seq, n)] ;"
   ]
  },
  {
   "cell_type": "markdown",
   "metadata": {
    "editable": true,
    "slideshow": {
     "slide_type": "slide"
    },
    "tags": []
   },
   "source": [
    "### Random variables \n",
    "\n",
    "- **A random variable X** is a quantitative variable whose value depends on the outcomes of a random phenomenon. $X$ is a function from possible outcomes of a sample space $\\Omega$. For a coin toss $\\Omega={-1,1}$ and one possible X(H)=+1 and X(T)=-1. Every time the experiment is done, X returns either +1 or -1. We could also make functions of random variables, e.g., every time X=+1, we earn 10$, etc. \n",
    "-  Random variables are classified into two main types: **discrete and continuous.**\n",
    "\n",
    "**Discrete Random Variable:** It assumes a countable number of distinct values. Discrete random variables are used to model scenarios where outcomes can be counted, such as the number of particles emitted by a radioactive source in a given time interval or the number of photons hitting a detector in a certain period.\n",
    "\n",
    "**Continuous Random Variable:** It can take any value within a continuous range. These variables describe quantities that can vary smoothly, such as the position of a particle in space, the velocity of a molecule in a gas, or the energy levels of an atom."
   ]
  },
  {
   "cell_type": "markdown",
   "metadata": {
    "editable": true,
    "slideshow": {
     "slide_type": "slide"
    },
    "tags": []
   },
   "source": [
    "### Probability distribution of random variable\n",
    "\n",
    "- For any random variable X, we are interested in finding probability distribution over possible values x that X takes: $p(x)$.\n",
    "- Note the very subtle but crucial difference between x (1-6 for a die) and a random variable X, which generates numbers x according to distributions p(x)\n",
    "\n",
    "\n",
    "#### Normalization\n",
    "  \n",
    "$$\\int p(x)dx = 1$$\n",
    "\n",
    "#### Expectation \n",
    "\n",
    "- $E[x]$ is the theoretical or exact value of the mean instead of the sample mean, which we compute in simulations and hope it is close to expectation.\n",
    "\n",
    "$$E[x]  = \\int x \\cdot p(x)dx$$\n",
    "\n",
    "$$E[f(x)] = \\int f(x) \\cdot p(x)dx$$\n",
    "\n",
    "- We see that expectation is always a linear operator in the sense that $E[f+g] = E[f]+E[g]$\n",
    "\n",
    "#### Variance (fluctuation)\n",
    "\n",
    "Variance is an expectation of squared deviation of x from expectation, which characterizes the spread in values of x.\n",
    "\n",
    "$$V[x] = E[(x-E[x])^2 ] = E[x^2]-E[x]^2$$ \n",
    "\n",
    "- We see that Variance, in general, is not a linear operator in the sense that $V[f+g] \\neq V[f]+V[g]$. "
   ]
  },
  {
   "cell_type": "markdown",
   "metadata": {
    "editable": true,
    "slideshow": {
     "slide_type": "slide"
    },
    "tags": []
   },
   "source": [
    "### Random numbers in python\n",
    "\n",
    "- The [**numpy.random**](https://docs.scipy.org/doc/numpy-1.15.1/reference/routines.random.html) has the fastest random number generators based on low-level code written in C. \n",
    "- The [**Scipy.stats**](https://docs.scipy.org/doc/scipy/reference/stats.html ) has an extensive library of statistical distributions and tools for statistical analysis.\n",
    "\n",
    "- First, we take a look at the most widely used random numbers of numpy, also called standard random numbers. These are rand (uniform random number on interval 0,1) and randn (stnadard average random number with 0 mean and 1 variance). \n",
    "\n",
    "- When running code that uses random numbers results will always differ for every run. If you want code to reproduce the same result, you can fix the seed to get reproducible results: ``` np.random.seed(8376743)```"
   ]
  },
  {
   "cell_type": "code",
   "execution_count": null,
   "metadata": {
    "editable": true,
    "slideshow": {
     "slide_type": "fragment"
    },
    "tags": []
   },
   "outputs": [],
   "source": [
    "X = np.random.rand(10)"
   ]
  },
  {
   "cell_type": "code",
   "execution_count": null,
   "metadata": {
    "editable": true,
    "slideshow": {
     "slide_type": "fragment"
    },
    "tags": []
   },
   "outputs": [],
   "source": [
    "Y = np.random.randn(100)"
   ]
  },
  {
   "cell_type": "markdown",
   "metadata": {
    "editable": true,
    "slideshow": {
     "slide_type": ""
    },
    "tags": []
   },
   "source": [
    "### Probability distributions"
   ]
  },
  {
   "cell_type": "code",
   "execution_count": 10,
   "metadata": {
    "editable": true,
    "slideshow": {
     "slide_type": "slide"
    },
    "tags": []
   },
   "outputs": [],
   "source": [
    "def rnplot(r):\n",
    "    '''Convenience function for making quick two-panel plot showing \n",
    "    a line plot for the sequence of random numbers (RN)\n",
    "    a histogram plot of the probability density of random numbers \n",
    "    '''\n",
    "    \n",
    "    fig, ax = plt.subplots(ncols=2) \n",
    "\n",
    "    ax[0].plot(r,  color='blue', label='trajectory')\n",
    "    ax[1].hist(r,  density=True, color='red',  label = 'histogram')\n",
    "    \n",
    "    \n",
    "    ax[0].set_xlabel('Samples of RN')\n",
    "    ax[0].set_ylabel('Values of RN')\n",
    "    \n",
    "    ax[1].set_xlabel('Values of RN')\n",
    "    ax[1].set_ylabel('Probability Density')\n",
    "\n",
    "    fig.legend();\n",
    "    fig.tight_layout()"
   ]
  },
  {
   "cell_type": "markdown",
   "metadata": {
    "editable": true,
    "slideshow": {
     "slide_type": "slide"
    },
    "tags": []
   },
   "source": [
    "### Uniform\n",
    "\n",
    "$$p(x| a, b)=\\begin{cases}\n",
    "{\\frac {1}{b-a}}&\\mathrm {for} \\ a\\leq x\\leq b,\\\\[8pt]0&\\mathrm {for} \\ x<a\\ \\mathrm {or} \\ x>b\n",
    "\\end{cases}\n",
    "$$"
   ]
  },
  {
   "cell_type": "code",
   "execution_count": null,
   "metadata": {
    "editable": true,
    "slideshow": {
     "slide_type": "fragment"
    },
    "tags": []
   },
   "outputs": [],
   "source": [
    "r = np.random.rand(200) \n",
    "\n",
    "rnplot(r)"
   ]
  },
  {
   "cell_type": "markdown",
   "metadata": {
    "editable": true,
    "slideshow": {
     "slide_type": "slide"
    },
    "tags": []
   },
   "source": [
    "### Binomial\n",
    "\n",
    "$$P(n |r, N) =  \\frac{N!}{(N-n)! n!}r^n (1-r)^{N-n}$$"
   ]
  },
  {
   "cell_type": "code",
   "execution_count": null,
   "metadata": {
    "editable": true,
    "slideshow": {
     "slide_type": "fragment"
    },
    "tags": []
   },
   "outputs": [],
   "source": [
    "r = np.random.binomial(n=10, p=0.6, size=2000) \n",
    "\n",
    "rnplot(r)"
   ]
  },
  {
   "cell_type": "markdown",
   "metadata": {
    "editable": true,
    "slideshow": {
     "slide_type": "slide"
    },
    "tags": []
   },
   "source": [
    "### Gaussian\n",
    "\n",
    "$$P(x |\\mu, \\sigma) = \\frac{1}{\\sigma \\sqrt{2\\pi}}e^{-\\frac{(x-\\mu)^2}{2\\sigma^2}}$$"
   ]
  },
  {
   "cell_type": "code",
   "execution_count": null,
   "metadata": {
    "editable": true,
    "slideshow": {
     "slide_type": "fragment"
    },
    "tags": []
   },
   "outputs": [],
   "source": [
    "# For a standard normal with sigma=1, mu=0\n",
    "r = np.random.randn(200)\n",
    "\n",
    "# For a more general Gaussian\n",
    "rgauss = np.random.normal(loc=2., scale=5, size=200) \n",
    "\n",
    "rnplot(r)"
   ]
  },
  {
   "cell_type": "markdown",
   "metadata": {},
   "source": [
    "### Poisson"
   ]
  },
  {
   "cell_type": "markdown",
   "metadata": {
    "editable": true,
    "slideshow": {
     "slide_type": "slide"
    },
    "tags": []
   },
   "source": [
    "$$P(n| \\lambda) = \\frac{\\lambda^n e^{-\\lambda}}{n!}$$"
   ]
  },
  {
   "cell_type": "code",
   "execution_count": 12,
   "metadata": {
    "editable": true,
    "slideshow": {
     "slide_type": "fragment"
    },
    "tags": []
   },
   "outputs": [
    {
     "data": {
      "image/png": "[encoded data removed]",
      "text/plain": [
       "<Figure size 640x480 with 2 Axes>"
      ]
     },
     "metadata": {},
     "output_type": "display_data"
    }
   ],
   "source": [
    "# For a standard normal with sigma=1, mu=0\n",
    "r = np.random.poisson(5, 200) \n",
    "\n",
    "rnplot(r)"
   ]
  },
  {
   "cell_type": "markdown",
   "metadata": {
    "editable": true,
    "slideshow": {
     "slide_type": "slide"
    },
    "tags": []
   },
   "source": [
    "### Plotting exact probability distributions\n",
    "\n",
    "- [scipy.stats](https://docs.scipy.org/doc/scipy/reference/stats.html) contains a large number of probability distributions. Explores examples there"
   ]
  },
  {
   "cell_type": "code",
   "execution_count": 13,
   "metadata": {},
   "outputs": [],
   "source": [
    "from scipy.stats import binom, norm, poisson"
   ]
  },
  {
   "cell_type": "code",
   "execution_count": 27,
   "metadata": {},
   "outputs": [
    {
     "data": {
      "text/plain": [
       "[<matplotlib.lines.Line2D at 0x17eb8b460>]"
      ]
     },
     "execution_count": 27,
     "metadata": {},
     "output_type": "execute_result"
    },
    {
     "data": {
      "image/png": "[encoded data removed]",
      "text/plain": [
       "<Figure size 640x480 with 1 Axes>"
      ]
     },
     "metadata": {},
     "output_type": "display_data"
    }
   ],
   "source": [
    "r = np.random.randn(200)\n",
    "plt.hist(r, density=True);\n",
    "\n",
    "x = np.linspace(1.5*r.min(), 1.5*r.max(), 1000)\n",
    "plt.plot(x, norm.pdf(x),'k', label='norm pdf')"
   ]
  },
  {
   "cell_type": "markdown",
   "metadata": {
    "editable": true,
    "slideshow": {
     "slide_type": "slide"
    },
    "tags": []
   },
   "source": [
    "### Using random numbers to get answers via simulations \n",
    "\n",
    "One of the major uses of random numbers is for conducting numerical simulations. What is a simulation? It is a recreation of a process on a computer. And this recreation is done by random numbers. E.g to simulate coint tosses, die throws, diffusion of molecules, conformational change of polymers we use random number to recreate the process on a computer. Let's start off by asking some simple questions\n",
    "\n",
    "- How often do we get a run of 5 or more consecutive heads in 100 coin tosses if we repeat the experiment 1000 times?\n",
    "- What if the coin is biased to generate heads only 40% of the time?"
   ]
  },
  {
   "cell_type": "markdown",
   "metadata": {
    "editable": true,
    "slideshow": {
     "slide_type": "slide"
    },
    "tags": []
   },
   "source": [
    "We will use ```np.random.choice``` which generates random samples from limited options. \n",
    "\n",
    "```python\n",
    "np.random.choice(a, size, p, replace=True)\n",
    "```\n",
    "- ```a:``` an array/list of choices like, ```[-1, 1]``` or ```[1, 2, 3]``` or ```['bagel', 'muffin']```\n",
    "- ```p:``` probabilities of picking choices from a. E.g ```p=[0.5, 0.5]```. Default is equal probabilities.\n",
    "- ```size:``` shape of an array could be ```N, (N,M), (N,M,Q)``` etc\n",
    "- ```replace=True.``` If you choose bagel from a, the caffee will put back a new one on shelf."
   ]
  },
  {
   "cell_type": "code",
   "execution_count": null,
   "metadata": {
    "editable": true,
    "slideshow": {
     "slide_type": ""
    },
    "tags": []
   },
   "outputs": [],
   "source": [
    "n = 100    # length of each trajectory\n",
    "N = 1      # number of experiments: stochastic trajecotries generated\n",
    "\n",
    "xs = np.random.choice([0,1], size=(n, N)) # (i) Unbiased coin p=[0.5,0.5] by default\n",
    "\n",
    "ys = np.random.choice([0,1], size=(n, N), p=[0.9, 0.1])  # (ii) biased coin\n",
    "\n",
    "plt.hist((xs[:,0], ys[:,0]), 2, label = (\"unbiased\", \"biased\"))\n",
    "plt.legend()"
   ]
  },
  {
   "cell_type": "markdown",
   "metadata": {
    "editable": true,
    "slideshow": {
     "slide_type": ""
    },
    "tags": []
   },
   "source": [
    "### Exercises"
   ]
  },
  {
   "cell_type": "markdown",
   "metadata": {},
   "source": [
    "**Events, sets, probability**\n",
    "\n",
    "Consider an experiment with N equally likely outcomes, involving two events A and B. \n",
    "Let $N_1$ be the number of events in which A occurs but not B\n",
    "Let $N_2$ be the number of events in which B occurs but not A\n",
    "Let $N_3$ be the number of events in which both A and B occur\n",
    "Let $N_4$ be the number of events in which Neither A nor B ocurs\n",
    "\n",
    "1. Check that $\\sum^{4}_{i=1} N_i=1$\n",
    "\n",
    "2. What would be the expressions of $P(A)$ and $P(B)$ in terms of $N_i$?\n",
    "\n",
    "3. What would be the expression of $P(A+B)$ in terms of $N_i$?\n",
    "\n",
    "4. What would be the expression of $P(A|B)$ and $P(A|B)$ in terms of $N_i$?\n",
    "\n",
    "5. Show that $P(A+B) = P(A) +cP(B) - P(AB)$ and $P(AB) = P(B)P(A|B) = P(A)P(B|A)$"
   ]
  },
  {
   "cell_type": "markdown",
   "metadata": {},
   "source": [
    "**Die rolls**\n",
    "\n",
    "- What is a probability of obtaining number=6 three times in a row when rolling three independent die at once? What about rolling same dice three times?\n",
    "\n",
    "- What is a probability of obtaining a combined sum of 6 when rolling three die?\n",
    "\n",
    "- On average, how many times ($\\langle n \\rangle$ ) must a 6-sided die be rolled until a 6 turns up? (Hint: we must compute average using n roles out of which n-1 did not turn out 6. $\\langle n \\rangle = \\sum^{\\infty}_n P(n) n)$\n"
   ]
  },
  {
   "cell_type": "markdown",
   "metadata": {},
   "source": [
    "**Sock combinations**\n",
    "\n",
    "A sock is selected at random and removed from a drawer containing five brown\n",
    "socks and three green socks. A second random sock is then removed. What is the\n",
    "probability that two different colors are selected?\n"
   ]
  },
  {
   "cell_type": "markdown",
   "metadata": {},
   "source": [
    "### Problems"
   ]
  },
  {
   "cell_type": "markdown",
   "metadata": {},
   "source": [
    "**Smart gambler.**\n",
    " \n",
    " You flip a coin 10 times and record the data in the form\n",
    "of head/tails or 1s and 0s\n",
    "-  What would be the probability of ladning 4 H's?\n",
    "-  What would be the probability of landing HHHTTTHHHT sequence?\n",
    "-  In how many ways can we have 2 head and 8 tails in this experiments?\n",
    "-  Okay, now you got tired of flipping coins and decide to play some dice. You throw die\n",
    "10 times what is the probability of never landing number 6?\n",
    "- You throw a die 3 times what is the probability of obtaining a combined sum of 7?"
   ]
  },
  {
   "cell_type": "markdown",
   "metadata": {
    "editable": true,
    "slideshow": {
     "slide_type": ""
    },
    "tags": []
   },
   "source": [
    "**Practicing counting. Gas molecules.**\n",
    "\n",
    "$$C^{N}_{k}$$\n",
    "\n",
    "A container of volume $V$ contains $N$ molecules of a gas. We assume that the gas is dilute so that the position of any one molecule is independent of all other molecules. Although the density will be uniform on the average, there are fluctuations in the density. Divide the volume $V$ into two parts $V_1$ and $V_2$, where $V = V_1 + V_2$. \n",
    "- What is the probability p that a particular molecule is in each part? \n",
    "- What is the probability that $N_1$ molecules are in $V_1$ and $N_2$ molecules are in $V_2$? \n",
    "- What is the average number of molecules in each part? \n",
    "- What are the relative fluctuations of the number of particles in each part?"
   ]
  },
  {
   "cell_type": "markdown",
   "metadata": {
    "editable": true,
    "slideshow": {
     "slide_type": ""
    },
    "tags": []
   },
   "source": [
    "**Binomial, Gaussian and Poisson: The 3 distributions to know before heading to Las Vegas.**\n",
    "\n",
    "- Show that in large number limit binomial distribution tends to gaussian. Show is by expanding binomial distirbution $logp(n)$ in power series showing that terms beyond quadratic can be ignored. \n",
    "\n",
    "- In the limit $N\\rightarrow \\infty$ but for very small values of $p \\rightarrow 0$ such that $\\lambda =pN=const$ there is another distribution that better approximates Binomial distribution: $p(x)=\\frac{\\lambda^k}{k!}e^{-\\lambda} $ It is known as Poisson distribution. <br>\n",
    "Poisson distribution is an excellent approximation for probabilities of rare events. Such as, infrequently firing neurons in the brain, radioactive decay events of Plutonium or rains in the desert. <br>  Derive Poisson distribution by taking the limit of $p\\rightarrow 0$ in binomial distribution.\n",
    "\n",
    "- Using numpy and matplotlib plot binomial probability distribution\n",
    "against Gaussian and Poisson distributions for different values of N=(10,100,1000,10000). <br>\n",
    "- For a value N=10000 do four plots with the following values \n",
    "p=0.0001, 0.001, 0.01, 0.1. You can use  subplot functionality to make a pretty 4 column plot. (See plotting module)\n",
    "\n",
    "```python\n",
    "fig, ax =  plt.subplots(nrows=1, ncols=4)\n",
    "ax[0].plot()\n",
    "ax[1].plot()\n",
    "ax[2].plot()\n",
    "ax[3].plot()\n",
    "```"
   ]
  },
  {
   "cell_type": "markdown",
   "metadata": {
    "editable": true,
    "slideshow": {
     "slide_type": ""
    },
    "tags": []
   },
   "source": [
    "**Optional Project:** [Porosity of materials](https://en.wikipedia.org/wiki/Porosity)\n",
    "\n",
    "A simple model of a porous rock can be imagined by placing a series of overlap- ping spheres at random into a container of fixed volume $V$ . The spheres represent the rock and the space between the spheres represents the pores. If we write the volume of the sphere as v, it can be shown the fraction of the space between the spheres or the porosity $\\phi$ is $\\phi =e^{-Nv/V}$, where $N$ is the number of spheres. \n",
    "\n",
    "For simplicity, consider a 2D system, (e.g $v=\\frac{1}{4}\\pi d^2$, see [wiki](https://en.wikipedia.org/wiki/Area_of_a_circle) if you forgot the formula). \n",
    "Write a python function which place disks of $d=1$ into a square box. The disks can overlap. Divide the box into square cells each of which has an edge length equal to the diameter of the disks. Find the probability of having 0, 1, 2, or 3 disks in a cell for $\\phi$ = 0.03, 0.1, and 0.5.\n",
    "\n",
    "> You will need [np.random.uniform()](https://docs.scipy.org/doc/numpy-1.14.0/reference/generated/numpy.random.uniform.html) to randomly place N disks of volume v into volume V. \n",
    "> Check out this cool python lib for porosity evaluation of materials [R Shkarin, et al Plos Comp Bio 2019](https://journals.plos.org/plosone/article/file?id=10.1371/journal.pone.0215137&type=printable)"
   ]
  }
 ],
 "metadata": {
  "celltoolbar": "Slideshow",
  "kernelspec": {
   "display_name": "Python 3 (ipykernel)",
   "language": "python",
   "name": "python3"
  },
  "language_info": {
   "codemirror_mode": {
    "name": "ipython",
    "version": 3
   },
   "file_extension": ".py",
   "mimetype": "text/x-python",
   "name": "python",
   "nbconvert_exporter": "python",
   "pygments_lexer": "ipython3",
   "version": "3.9.16"
  },
  "latex_envs": {
   "LaTeX_envs_menu_present": true,
   "autoclose": false,
   "autocomplete": true,
   "bibliofile": "biblio.bib",
   "cite_by": "apalike",
   "current_citInitial": 1,
   "eqLabelWithNumbers": true,
   "eqNumInitial": 1,
   "hotkeys": {
    "equation": "Ctrl-E",
    "itemize": "Ctrl-I"
   },
   "labels_anchors": false,
   "latex_user_defs": false,
   "report_style_numbering": false,
   "user_envs_cfg": false
  },
  "livereveal": {
   "theme": "sky"
  },
  "toc": {
   "base_numbering": 1,
   "nav_menu": {},
   "number_sections": true,
   "sideBar": true,
   "skip_h1_title": false,
   "title_cell": "Table of Contents",
   "title_sidebar": "Contents",
   "toc_cell": true,
   "toc_position": {},
   "toc_section_display": true,
   "toc_window_display": false
  },
  "widgets": {
   "application/vnd.jupyter.widget-state+json": {
    "state": {},
    "version_major": 2,
    "version_minor": 0
   }
  }
 },
 "nbformat": 4,
 "nbformat_minor": 4
}
