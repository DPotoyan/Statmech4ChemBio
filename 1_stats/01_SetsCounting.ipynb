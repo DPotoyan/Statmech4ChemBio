{
 "cells": [
  {
   "cell_type": "markdown",
   "metadata": {
    "editable": true,
    "slideshow": {
     "slide_type": ""
    },
    "tags": []
   },
   "source": [
    "# Probability theory"
   ]
  },
  {
   "cell_type": "markdown",
   "metadata": {
    "@deathbeds/jupyterlab-fonts": {
     "styles": {
      "": {
       "body[data-jp-deck-mode='presenting'] &": {
        "zoom": "132%"
       }
      }
     }
    },
    "editable": true,
    "slideshow": {
     "slide_type": "slide"
    },
    "tags": []
   },
   "source": [
    ":::{admonition} What you need to know\n",
    "\n",
    "- **Sample space** $\\Omega$ is a set of elementary outcomes or events.\n",
    "- **Events** can contain more than one elementary event and can be constructed by forming subsets ($A$, $B$, $C$ etc) of $\\Omega$ \n",
    "- **Probability function** P(A) assigns a numeric value to each event, A quantifying certainty of an event happening on a 0-1 scale. \n",
    "- **Venn diagrams** visualize P(A) as a \"volume fraction\" of our confidence in the event expressed on 0-1 scale.\n",
    "- **Probability axioms** define a set of logical rules for creating composite events from trivial ones.\n",
    "- **Bayesian approach:** In physical sciences and modeling one often deals with situations where counting is impossible. Hence, probability is interpreted as a degree of belief.\n",
    ":::"
   ]
  },
  {
   "cell_type": "markdown",
   "metadata": {
    "editable": true,
    "slideshow": {
     "slide_type": "slide"
    },
    "tags": []
   },
   "source": [
    "### Sample space\n",
    "\n",
    "- The **sample space**, often signified by an $\\Omega$ is a set of **all possible elementary events**. \n",
    "- Elementary means the events can not be further broken down into simpler events. For instance, rolling a die can result in any one of six elementary events.\n",
    "\n",
    "- In the context of statistical mechanics, we are going to call states inside $\\Omega$ **microstates**. \n",
    "- States of $\\Omega$ are sampled during a system trial, which could be done via an experiment or simulation. "
   ]
  },
  {
   "cell_type": "markdown",
   "metadata": {
    "editable": true,
    "slideshow": {
     "slide_type": "slide"
    },
    "tags": []
   },
   "source": [
    "#### Examples of Samples spaces\n",
    "\n",
    "-  If our trial is a single roll of a six-sided die, then the sample space will be:\n",
    "\n",
    "$$\\Omega =\\{1, 2, 3, 4, 5, 6 \\}$$\n",
    "\n",
    "- A fair coin is tossed once \n",
    "\n",
    "$$\\Omega = \\{H, T \\}$$\n",
    "\n",
    "- If a fair coin is tossed three times in a row, we will have sample space of size $2^3$ (HTT, THT, TTH, THH, HTH, HHT, HHH, TTT) \n",
    "\n",
    "$$\\Omega = \\{H,T\\}^{3}$$\n",
    "\n",
    "- Position of an atom in a container of size $L_x$ along x. There will be a huge number of  \n",
    "\n",
    "$$\\Omega = \\{0... L_x\\}$$ "
   ]
  },
  {
   "cell_type": "markdown",
   "metadata": {
    "editable": true,
    "slideshow": {
     "slide_type": "slide"
    },
    "tags": []
   },
   "source": [
    "### Events (Macrostates)\n",
    "\n",
    "- An **Event** specifies the outcome of a trial. Generally an event can contain one or more elementary events from $\\Omega$.\n",
    "  \n",
    "- In the contact of statistical mechanics we will refer to events containing multiple microstates as **Macrostates**. \n",
    "\n",
    "#### Examples of events\n",
    "- If we roll a die we can choose event to be getting a single number\n",
    "\n",
    "$$A= \\{1 \\}$$\n",
    "\n",
    "- Or we can choose event to be any even number: \n",
    "\n",
    "$$B = \\{2, 4, 6 \\}$$\n",
    "\n",
    "- A macrostate of a nitrogen molecule could be all positions of molecule in second half of container\n",
    "\n",
    "$$C  = \\{L/2, ..., L \\} $$\n"
   ]
  },
  {
   "cell_type": "markdown",
   "metadata": {
    "editable": true,
    "slideshow": {
     "slide_type": "slide"
    },
    "tags": []
   },
   "source": [
    "### Compute probabilities through counting "
   ]
  },
  {
   "cell_type": "markdown",
   "metadata": {
    "editable": true,
    "slideshow": {
     "slide_type": "slide"
    },
    "tags": []
   },
   "source": [
    "We calculate probabilities of events as fractions in the sample space that events take up.\n",
    "\n",
    "$$\n",
    "\\boxed{\\Large P(A) = \\frac{n(A)}{n(\\Omega)}}\n",
    "$$\n",
    "\n",
    "- $n(A)$ probability of event, e.g rolling an even number. The size of the event space is 3\n",
    "- $n(\\Omega)$ size of sample space. In the context of single die roll is equal 6"
   ]
  },
  {
   "cell_type": "markdown",
   "metadata": {
    "editable": true,
    "slideshow": {
     "slide_type": "slide"
    },
    "tags": []
   },
   "source": [
    "### Macrostates and  Venn diagrams"
   ]
  },
  {
   "cell_type": "code",
   "execution_count": 5,
   "metadata": {
    "editable": true,
    "slideshow": {
     "slide_type": "fragment"
    },
    "tags": []
   },
   "outputs": [
    {
     "name": "stdout",
     "output_type": "stream",
     "text": [
      "Requirement already satisfied: matplotlib-venn in /opt/homebrew/anaconda3/envs/llpsmd3/lib/python3.9/site-packages (0.11.6)\n",
      "Requirement already satisfied: matplotlib in /opt/homebrew/anaconda3/envs/llpsmd3/lib/python3.9/site-packages (from matplotlib-venn) (3.5.1)\n",
      "Requirement already satisfied: numpy in /opt/homebrew/anaconda3/envs/llpsmd3/lib/python3.9/site-packages (from matplotlib-venn) (1.23.5)\n",
      "Requirement already satisfied: scipy in /opt/homebrew/anaconda3/envs/llpsmd3/lib/python3.9/site-packages (from matplotlib-venn) (1.10.1)\n",
      "Requirement already satisfied: fonttools>=4.22.0 in /opt/homebrew/anaconda3/envs/llpsmd3/lib/python3.9/site-packages (from matplotlib->matplotlib-venn) (4.28.5)\n",
      "Requirement already satisfied: packaging>=20.0 in /opt/homebrew/anaconda3/envs/llpsmd3/lib/python3.9/site-packages (from matplotlib->matplotlib-venn) (23.1)\n",
      "Requirement already satisfied: python-dateutil>=2.7 in /opt/homebrew/anaconda3/envs/llpsmd3/lib/python3.9/site-packages (from matplotlib->matplotlib-venn) (2.8.2)\n",
      "Requirement already satisfied: pillow>=6.2.0 in /opt/homebrew/anaconda3/envs/llpsmd3/lib/python3.9/site-packages (from matplotlib->matplotlib-venn) (9.2.0)\n",
      "Requirement already satisfied: cycler>=0.10 in /opt/homebrew/anaconda3/envs/llpsmd3/lib/python3.9/site-packages (from matplotlib->matplotlib-venn) (0.11.0)\n",
      "Requirement already satisfied: kiwisolver>=1.0.1 in /opt/homebrew/anaconda3/envs/llpsmd3/lib/python3.9/site-packages (from matplotlib->matplotlib-venn) (1.4.4)\n",
      "Requirement already satisfied: pyparsing>=2.2.1 in /opt/homebrew/anaconda3/envs/llpsmd3/lib/python3.9/site-packages (from matplotlib->matplotlib-venn) (3.0.9)\n",
      "Requirement already satisfied: six>=1.5 in /opt/homebrew/anaconda3/envs/llpsmd3/lib/python3.9/site-packages (from python-dateutil>=2.7->matplotlib->matplotlib-venn) (1.16.0)\n"
     ]
    }
   ],
   "source": [
    "%%capture\n",
    "!pip install matplotlib-venn #install if running locally\n",
    "import matplotlib_venn as venn"
   ]
  },
  {
   "cell_type": "code",
   "execution_count": 10,
   "metadata": {
    "editable": true,
    "slideshow": {
     "slide_type": "fragment"
    },
    "tags": []
   },
   "outputs": [
    {
     "data": {
      "text/plain": [
       "<matplotlib_venn._common.VennDiagram at 0x17c58c3d0>"
      ]
     },
     "execution_count": 10,
     "metadata": {},
     "output_type": "execute_result"
    },
    {
     "data": {
      "image/png": "[encoded data removed]",
      "text/plain": [
       "<Figure size 640x480 with 1 Axes>"
      ]
     },
     "metadata": {},
     "output_type": "display_data"
    }
   ],
   "source": [
    "Omega = {-1, 0, 1, 2, 3,4,5,7, 20, 90}\n",
    "\n",
    "A = {1, 2, 3,4,5}\n",
    "\n",
    "B = {0, 2, -1, 5,7}\n",
    "\n",
    "C = {20, 90, 0}\n",
    "\n",
    "venn.venn3([A, B, C], set_labels=('A','B', 'C'))"
   ]
  },
  {
   "cell_type": "markdown",
   "metadata": {
    "editable": true,
    "slideshow": {
     "slide_type": "slide"
    },
    "tags": []
   },
   "source": [
    "### Probability Axioms\n",
    "\n",
    ":::{admonition} Positivity and Normalization\n",
    ":class: tip \n",
    " \n",
    "$$P(A) \\ge 0$$\n",
    " \n",
    "$$P(\\Omega)=1$$\n",
    "\n",
    "> Probability of rolling each number is 1/6 and rolling any number is 1.\n",
    ":::\n",
    "\n",
    ":::{admonition} Addition rule\n",
    ":class: tip \n",
    " \n",
    "For any sequence of **mutually exclusive** events, $A_i \\cap A_j = \\emptyset $, the probability of their union is the sum of their probabilities,\n",
    " \n",
    "$$P\\left( A_1 \\cup A_2 \\cup \\ldots \\right) = P\\left(A_1\\right) + P\\left(A_2\\right) + \\ldots$$\n",
    "\n",
    "> Probability of die rolling even number is: $1/6+1/6+1/6$\n",
    "::: \n",
    "\n",
    "\n",
    ":::{admonition} Product rule\n",
    ":class: tip \n",
    " \n",
    "When independent events  $A_i \\cap A_j = \\emptyset$, the probability of their intersection is a product of their probabilities\n",
    " \n",
    "$$P\\left( A_1 \\cap A_2 \\cap \\ldots \\right) = P\\left(A_1\\right) \\cdot P\\left(A_2\\right) \\cdot \\ldots$$\n",
    "\n",
    "> Probability of rolling twice getting 3 and 5 is: $\\frac{1}{6}\\cdot \\frac{1}{6}$\n",
    "\n",
    "::: \n",
    "\n",
    ":::{admonition} Complement\n",
    ":class: tip \n",
    " \n",
    "Given that $A \\cap \\bar A=\\emptyset$ and $A \\cup \\bar A=\\Omega$.\n",
    " \n",
    " $$P(\\bar A)=1-P(A)$$\n",
    "\n",
    "> the probability of not rolling a number: $1-\\frac{1}{6}$\n",
    ":::\n",
    " \n",
    ":::{admonition} Conditional probability and Bayes Theorem\n",
    ":class: tip \n",
    " \n",
    "Knowledge of past events may change the probability of future events\n",
    " \n",
    "$$P(A,B)=P(A|B)P(B)=P(B|A)P(A)$$\n",
    "\n",
    "> the probability of getting 4 given that we have rolled an even number: $p(4|even) = \\frac{p(even|4)p(4)}{p(even)}=\\frac{1\\cdot 1/6}{1/2}=1/3$\n",
    "::: "
   ]
  },
  {
   "cell_type": "markdown",
   "metadata": {
    "editable": true,
    "slideshow": {
     "slide_type": "slide"
    },
    "tags": []
   },
   "source": [
    "::::{admonition} Examples\n",
    "\n",
    "We roll two dice and record the total sum of numbers $T$. Suppose event $A$ is getting a total of $T = 9$ and event $B$ is getting a total of $T = 5$. What is the probability of A or B?\n",
    "\n",
    ":::{dropdown}  Solution\n",
    "\n",
    "- A and B cannot both occur. The two events are mutually exclusive, and we can apply the sum rule.\n",
    "- There are 4 ways to get event A (T = 9), and also 4 ways to get event B (T = 5), so that there are 4 + 4 = 8 ways to get\n",
    "either A or B, and so $P(A or B) = 8/36$\n",
    ":::\n",
    "\n",
    "Now suppose event C is getting a total of $T = 12$ and event D is getting a double, where both dice are the same. What is the probability of C or D?\n",
    "\n",
    ":::{dropdown}  Solution\n",
    "\n",
    "- There is only one way to get 12, so P(C) = 1/36.\n",
    "- There are six ways to get a double, so P(D) = 6/36.\n",
    "- However, C and D are not exclusive; rolling a double six is an example of both.\n",
    "- The double six is already included in the P(D) calculation. So we use sum rule but make sure to account for double counting\n",
    "P(C or D) = 6/36 + 1/36 − 1/36 = 6/36\n",
    ":::\n",
    "\n",
    "::::"
   ]
  },
  {
   "cell_type": "markdown",
   "metadata": {
    "editable": true,
    "slideshow": {
     "slide_type": "slide"
    },
    "tags": []
   },
   "source": [
    "### Joint, marginal and conditional probability\n",
    "\n",
    "-  **Joint Probability $P(A, B)$**  Quantifies the probability of two or more events happening simultaneously.\n",
    "\n",
    "- **Marginal Probability $P(A)$**  Quantifies the probability of an event irrespective of the outcomes of other random variables. Is obtained by marginalization, summing over all possibilities of B.\n",
    "\n",
    "$$P(A) = P(A, B) + P(A, B^c)$$\n",
    "\n",
    "- **Conditional Probability $P(A | B)$**  Quantifies probability of event A given the information that event B happened.\n",
    "\n",
    "$$P(B | A) = \\frac{P(B, A)}{P(A)}$$\n",
    "\n",
    "$$P(A, B) = P(B | A) \\cdot  P(A)$$\n",
    "\n",
    "- We are counting the fraction of A and B overlap confined within the given event A\n",
    "\n",
    "- Note that joint probability is symmetric $P(A, B) = P(B, A)$ while conditional probability is not! $P(A | B) != P(B | A)$\n"
   ]
  },
  {
   "cell_type": "markdown",
   "metadata": {
    "editable": true,
    "slideshow": {
     "slide_type": "slide"
    },
    "tags": []
   },
   "source": [
    "![](./figs/bayes.png)"
   ]
  },
  {
   "cell_type": "markdown",
   "metadata": {
    "@deathbeds/jupyterlab-fonts": {
     "styles": {
      "": {
       "body[data-jp-deck-mode='presenting'] &": {
        "zoom": "145%"
       }
      }
     }
    },
    "editable": true,
    "slideshow": {
     "slide_type": "slide"
    },
    "tags": []
   },
   "source": [
    "### Bayes formula\n",
    "\n",
    "**Prior, posterior and likelihood**\n",
    "\n",
    "- The Bayes theorem provides a powerful way to test hypotheses and learn the parameters of a model from data. The jargon used when using the bayes formula differs slightly from the one given above.\n",
    "\n",
    "$$P(H|D) = \\frac{P(D|H) \\cdot P(H) }{P(D)}$$\n",
    "\n",
    "- $P(H)$ is called **prior** and quantifies information we have about our hyothesis. \n",
    "- $P(D)$ is called **evidence** and is just the probability of having the date we generated.\n",
    "- $P(D|H)$ is called **likelihood** of data! It is not called probability because one is interested in how different values of $H$ change the $P(D|H)$. \n",
    "- $P(H|D)$ is the quantity we are after is called called **posterior**"
   ]
  },
  {
   "cell_type": "markdown",
   "metadata": {
    "@deathbeds/jupyterlab-fonts": {
     "styles": {
      "": {
       "body[data-jp-deck-mode='presenting'] &": {
        "z-index": "-5",
        "zoom": "167%"
       }
      }
     }
    },
    "editable": true,
    "slideshow": {
     "slide_type": "fragment"
    },
    "tags": []
   },
   "source": [
    ":::{admonition} Example \n",
    "\n",
    "- A test for cancer is known to be 90% accurate either in detecting cancer if present or in giving an all-clear if cancer is absent.\n",
    "- The prevalence of cancer in the population is 1%.\n",
    "How worried should you be if you test positive? Try answering this question\n",
    "using Bayes’ theorem.\n",
    "\n",
    ":::{dropdown}  Solution\n",
    "\n",
    "- Accuracy of a test (how often positives show up when cancer is certain)\n",
    "\n",
    "$$P(+|X) = 0.9 \\\\ P(-|X^c)=0.9$$\n",
    "\n",
    "- Only 1% of the population has cancer; hence, we get the probability of an individual having (not having) cancer as:\n",
    "\n",
    "$$P(X)=0.01\\,\\,\\,\\,hence\\,\\,\\,\\,\\,\\,\\, P(X^c)=1-P(X)=0.99$$\n",
    "\n",
    "- Now we have all terms to compute $p(X|+)$ probability of disease given the positive test. \n",
    "\n",
    "$$P(X|+) = \\frac{P(+|X)p(X)}{p(+)} = \\frac{P(+|X)p(X)}{p(+|X)p(X)+p(+| X^c)p(X^c)} =  \\frac{0.9\\cdot 0.01}{0.9\\cdot 0.01+0.1\\cdot 0.99} = 0.083$$\n",
    "\n",
    ":::"
   ]
  },
  {
   "cell_type": "markdown",
   "metadata": {
    "editable": true,
    "slideshow": {
     "slide_type": "slide"
    },
    "tags": []
   },
   "source": [
    "### Counting and Combinatorics\n",
    "\n",
    "- Combinatoric expressions are helpful for computing the size of events and answering questions such as \"How many ways can molecules arrange in this or that way?\"\n",
    "- If you are given **n molecules in a jar**, **you have r ways of sampling them**. You get different answers depending on whether molecules are distinguishable and whether sampling is done with or without replacement. \n",
    "\n",
    "Sampling   | Combinatorics\n",
    "--   |   --\n",
    "**Ordered** sampling **without** replacement       |  $\\boxed{P^n_r = \\frac{n!}{(n-r)!}}$\n",
    "**Unordered** sampling **without** replacement  |  $\\boxed{C^n_r = \\frac{n!}{r!(n-r)!}}$\n",
    "**Ordered** sampling **with** replacement          | $\\boxed{P^n_r = r^n}$  |    |  \n",
    "**Unordered** sampling **with** replacement  |  $\\boxed{P^n_r = \\frac{(n+r-1)!}{r!(n-1)!}}$\n",
    "\n",
    "\n",
    "#### Multinomial combination.\n",
    "\n",
    "The combinatorial formula can be readily generalized for k>2 partitions. A classic problem we will encounter is partitioning $N$ indistinguishable molecules among $n_1$ energy level, $n_2$, ... $n_k$. $\\sum n_i = N$\n",
    "\n",
    "$$\\boxed{C^N_{n_1,n_2,...n_k}=\\frac{N!}{n_1! \\cdot n_2! \\cdot ... n_k!} }$$"
   ]
  },
  {
   "cell_type": "markdown",
   "metadata": {
    "editable": true,
    "slideshow": {
     "slide_type": "slide"
    },
    "tags": []
   },
   "source": [
    "````{admonition} Example: gas atoms\n",
    "\n",
    "Consider a container filled with 1000 atoms of Ar.\n",
    "\n",
    "```{dropdown} What is the probability that the left half has 400 atoms?\n",
    "$n(A) = \\frac{1000!}{400! \\cdot 600 !}$\n",
    "\n",
    "```\n",
    "\n",
    "```{dropdown} What is the probability that the left half has 500 atoms?\n",
    "$n(B) = \\frac{1000!}{500! \\cdot 500 !}$\n",
    "```\n",
    "\n",
    "```{dropdown} What is a probability that 1/3 has 100 next 1/3 has 200 and next 1/3 has 700?\n",
    " $n(C) = \\frac{1000!}{100!\\cdot 200! \\cdot 700!}$\n",
    "```\n",
    "\n",
    "```{dropdown} What is the total number of all possible partitionings or states of gas atoms in a container?\n",
    "$n(S) = \\sum^{n=N}_{n=0}\\frac{N!}{n!\\cdot (N-n)!} = 2^N$ \n",
    "Each N lattice site in the container can be vacant or filled with $2^N$ states. \n",
    "```\n",
    "\n",
    "````"
   ]
  },
  {
   "cell_type": "markdown",
   "metadata": {
    "@deathbeds/jupyterlab-fonts": {
     "styles": {
      "": {
       "body[data-jp-deck-mode='presenting'] &": {
        "opacity": "100%",
        "z-index": "2",
        "zoom": "222%"
       }
      }
     }
    },
    "editable": true,
    "slideshow": {
     "slide_type": "slide"
    },
    "tags": []
   },
   "source": [
    "````{admonition} **Example: spins**\n",
    "\n",
    "Solid metal has 100 atoms. Magnetic measurements show that there are 10 atoms with spin down. If ten atoms are chosen at random, what is the probability that they all have spin up? \n",
    "\n",
    "```{dropdown} Solution\n",
    "\n",
    "- The total number of ways to choose any 10 atoms out of 100, regardless of spin is:\n",
    "\n",
    "$$n(S) = \\frac{100!}{10!(90)!}$$\n",
    "\n",
    "- The number of ways to choose 10 atoms out of 90 with spin up is:\n",
    "$$n(up) = \\frac{90!}{10!(80)!}$$\n",
    "\n",
    "- Probability of picking 10 up spins is:\n",
    "$$p(up) =\\frac{n(up)}{n(S)}$$\n",
    "```\n",
    "\n",
    "````"
   ]
  },
  {
   "cell_type": "code",
   "execution_count": 55,
   "metadata": {
    "editable": true,
    "slideshow": {
     "slide_type": "slide"
    },
    "tags": []
   },
   "outputs": [
    {
     "name": "stdout",
     "output_type": "stream",
     "text": [
      "1.0089134454556417e+29\n",
      "1.977470353093058e+33\n"
     ]
    }
   ],
   "source": [
    "def gas_partition(k1=30, k2=30, k3=30):\n",
    "    '''partitioning N gas molecules into regions k1, k2 and k3'''\n",
    "\n",
    "    from scipy.special import factorial\n",
    "\n",
    "    N = k1+k2+k3 \n",
    "\n",
    "    return factorial(N) / (factorial(k1) * factorial(k2)* factorial(k3))\n",
    "\n",
    "print( gas_partition(k1=50, k2=50, k3=0) )\n",
    "\n",
    "print( gas_partition(k1=50, k2=47, k3=3) )\n"
   ]
  },
  {
   "cell_type": "markdown",
   "metadata": {},
   "source": [
    ":::{admonition} **Exercise**\n",
    ":class: attention\n",
    "\n",
    "Plot how a number of configurations resulting from portioning molecules of gas into two regions depends on the ratio of molecules in compartments\n",
    ":::"
   ]
  },
  {
   "cell_type": "markdown",
   "metadata": {},
   "source": [
    "### Problems"
   ]
  },
  {
   "cell_type": "markdown",
   "metadata": {},
   "source": [
    "#### Problem 1: Counting Dies and coins\n",
    " \n",
    " You flip a coin 10 times and record the data in the form\n",
    "of head/tails or 1s and 0s\n",
    "-  What would be the probability of ladning 4 H's?\n",
    "-  What would be the probability of landing HHHTTTHHHT sequence?\n",
    "-  In how many ways can we have 2 head and 8 tails in this experiments?\n",
    "-  Okay, now you got tired of flipping coins and decide to play some dice. You throw die\n",
    "10 times what is the probability of never landing number 6?\n",
    "- You throw a die 3 times what is the probability of obtaining a combined sum of 7?"
   ]
  },
  {
   "cell_type": "markdown",
   "metadata": {
    "editable": true,
    "slideshow": {
     "slide_type": ""
    },
    "tags": []
   },
   "source": [
    "#### Problem 2: Counting gas molecules\n",
    "\n",
    "$$C^{N}_{k}$$\n",
    "\n",
    "A container of volume $V$ contains $N$ molecules of a gas. We assume that the gas is dilute so that the position of any one molecule is independent of all other molecules. Although the density will be uniform on the average, there are fluctuations in the density. Divide the volume $V$ into two parts $V_1$ and $V_2$, where $V = V_1 + V_2$. \n",
    "- What is the probability p that a particular molecule is in each part? \n",
    "- What is the probability that $N_1$ molecules are in $V_1$ and $N_2$ molecules are in $V_2$? \n",
    "- What is the average number of molecules in each part? \n",
    "- What are the relative fluctuations of the number of particles in each part?"
   ]
  },
  {
   "cell_type": "markdown",
   "metadata": {
    "editable": true,
    "slideshow": {
     "slide_type": ""
    },
    "tags": []
   },
   "source": [
    "#### Project [Porosity of materials](https://en.wikipedia.org/wiki/Porosity)\n",
    "\n",
    "A simple model of a porous rock can be imagined by placing a series of overlap- ping spheres at random into a container of fixed volume $V$ . The spheres represent the rock and the space between the spheres represents the pores. If we write the volume of the sphere as v, it can be shown the fraction of the space between the spheres or the porosity $\\phi$ is $\\phi =e^{-Nv/V}$, where $N$ is the number of spheres. \n",
    "\n",
    "For simplicity, consider a 2D system, (e.g $v=\\frac{1}{4}\\pi d^2$, see [wiki](https://en.wikipedia.org/wiki/Area_of_a_circle) if you forgot the formula). \n",
    "Write a python function which place disks of $d=1$ into a square box. The disks can overlap. Divide the box into square cells each of which has an edge length equal to the diameter of the disks. Find the probability of having 0, 1, 2, or 3 disks in a cell for $\\phi$ = 0.03, 0.1, and 0.5.\n",
    "\n",
    "> You will need [np.random.uniform()](https://docs.scipy.org/doc/numpy-1.14.0/reference/generated/numpy.random.uniform.html) to randomly place N disks of volume v into volume V. \n",
    "> Check out this cool python lib for porosity evaluation of materials [R Shkarin, et al Plos Comp Bio 2019](https://journals.plos.org/plosone/article/file?id=10.1371/journal.pone.0215137&type=printable)"
   ]
  }
 ],
 "metadata": {
  "celltoolbar": "Slideshow",
  "kernelspec": {
   "display_name": "Python 3 (ipykernel)",
   "language": "python",
   "name": "python3"
  },
  "language_info": {
   "codemirror_mode": {
    "name": "ipython",
    "version": 3
   },
   "file_extension": ".py",
   "mimetype": "text/x-python",
   "name": "python",
   "nbconvert_exporter": "python",
   "pygments_lexer": "ipython3",
   "version": "3.9.16"
  },
  "latex_envs": {
   "LaTeX_envs_menu_present": true,
   "autoclose": false,
   "autocomplete": true,
   "bibliofile": "biblio.bib",
   "cite_by": "apalike",
   "current_citInitial": 1,
   "eqLabelWithNumbers": true,
   "eqNumInitial": 1,
   "hotkeys": {
    "equation": "Ctrl-E",
    "itemize": "Ctrl-I"
   },
   "labels_anchors": false,
   "latex_user_defs": false,
   "report_style_numbering": false,
   "user_envs_cfg": false
  },
  "livereveal": {
   "theme": "sky"
  },
  "toc": {
   "base_numbering": 1,
   "nav_menu": {},
   "number_sections": true,
   "sideBar": true,
   "skip_h1_title": false,
   "title_cell": "Table of Contents",
   "title_sidebar": "Contents",
   "toc_cell": true,
   "toc_position": {},
   "toc_section_display": true,
   "toc_window_display": false
  },
  "widgets": {
   "application/vnd.jupyter.widget-state+json": {
    "state": {},
    "version_major": 2,
    "version_minor": 0
   }
  }
 },
 "nbformat": 4,
 "nbformat_minor": 4
}
