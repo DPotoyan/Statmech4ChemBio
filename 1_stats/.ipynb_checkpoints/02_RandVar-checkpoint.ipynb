{
 "cells": [
  {
   "attachments": {},
   "cell_type": "markdown",
   "metadata": {
    "editable": true,
    "slideshow": {
     "slide_type": "slide"
    },
    "tags": []
   },
   "source": [
    "# Random walk and CLT\n",
    "\n",
    "$^*CLT:$  **Central Limit Theorem**"
   ]
  },
  {
   "cell_type": "code",
   "execution_count": 223,
   "metadata": {
    "slideshow": {
     "slide_type": "slide"
    }
   },
   "outputs": [],
   "source": [
    "import numpy as np\n",
    "from numpy.random import normal, choice, uniform\n",
    "\n",
    "import scipy \n",
    "from scipy import stats\n",
    "import ipywidgets as widgets\n",
    "import matplotlib.pyplot as plt"
   ]
  },
  {
   "attachments": {},
   "cell_type": "markdown",
   "metadata": {
    "editable": true,
    "slideshow": {
     "slide_type": ""
    },
    "tags": []
   },
   "source": [
    ":::{admonition} What you need to know\n",
    "\n",
    "- Learn why the Central Limit Theorem (CLT) and the law of large numbers apply to virtually every data\n",
    "- Be able to invoke CLT to make predictions.\n",
    "- Learn to use random numbers from numpy.random library\n",
    "- Learn to build simple simulations on the example of random walk\n",
    "- Learn to use statistical distributions to fit probability distributions computed from simulations.\n",
    ":::"
   ]
  },
  {
   "attachments": {},
   "cell_type": "markdown",
   "metadata": {
    "editable": true,
    "slideshow": {
     "slide_type": ""
    },
    "tags": []
   },
   "source": [
    "### Sum of random variables\n",
    "\n",
    "- Consider a sequence $X_1, X_2, \\ldots$ of **i.i.d. (independent identically distributed)** ranom variables. What would be the distirbution of a **sample sum** of n number of such random variables?\n",
    "\n",
    "$$S_n = \\sum_{i=1}^n X_i$$\n",
    "\n",
    "- Since we have identical random variables each member of sum will have the same mean $\\mu = E(X_1)$ and variance $\\sigma^2 = V(X_1)$.  \n",
    "\n",
    "\n",
    "- Becasue we are dealing with **independent random variables** both the variance and the expectation of sample sum are a liiner function of $n$ number of steps. In other words no cross terms survive averaging. \n",
    "\n",
    "$$E\\left(S_n\\right) = \\sum_{i=1}^n E\\left(X_i\\right) = n \\mu$$\n",
    "\n",
    "$$V\\left(S_n\\right) =  \\sum_i \\sum_j E\\big[(X_i-E(x))\\cdot (X_j-E(x))\\big]=  \\sum_i E\\big[(X_i-E(x))^2\\big] =\\sum_{i=1}^n V\\left(X_i\\right) = n \\sigma^2$$\n",
    "\n",
    "- Similarly mean value of sample sum $M_n = S_n/n$ we get\n",
    "\n",
    "$$E\\left[M_n\\right] = \\mu$$  \n",
    "\n",
    "$$V\\left(M_n\\right) = \\frac{\\sigma^2}{n}$$\n",
    "\n",
    "- Notice that the variance of the sample mean decreases to zero as *n* increases, implying that most of the probability distribution for $M$ is close to the mean value. this is known **Law of Large Numbers (LLN)** \n",
    "\n",
    "- Notice also that the sample mean converges to exact mean with variance gowing down as $n^{-1/2}$\n",
    "\n",
    "$$\\boxed{\\frac{V(M_n)^{1/2}}{E(M_n)} = \\frac{1}{n^{1/2}}\\frac{\\sigma}{\\mu }}$$"
   ]
  },
  {
   "attachments": {},
   "cell_type": "markdown",
   "metadata": {
    "editable": true,
    "slideshow": {
     "slide_type": ""
    },
    "tags": []
   },
   "source": [
    "### The Central Limit Theorem  (CLT)\n",
    "\n",
    "Let $X_1, X_2, \\ldots $ be a sequence of i.i.d. random variables with common mean $\\mu$ and variance $\\sigma^2$. \n",
    "\n",
    "We scale our random variables to make them **de-meaned** and **scaled** which makes mean zero $E\\left[Z_n\\right] = 0$ and  variance unity $V\\left(Z_n\\right) = 1$\n",
    "\n",
    "$$Z_n = \\frac{M_n - \\mu}{V^{1/2}(M_n)} =  \\frac{S_n - n\\mu}{\\sigma \\sqrt{n}}$$\n",
    "\n",
    "The **Central Limit Theorem** asserts that the probability distribution function or **PDF** of $p_Z(z)$ converges to the standard normal distribution in the limit of large number of n steps:\n",
    "\n",
    "$$p_Z\\left(z\\right) \\rightarrow \\frac{1}{\\sqrt{2\\pi}}  e^{-z^2/2}$$\n",
    "\n",
    "> There is an implicit assumption that the **mean and variance**, $\\mu$ and $\\sigma^2$, **are finite**. Thus CLT does not hold for certain power law distributed RVs."
   ]
  },
  {
   "cell_type": "markdown",
   "metadata": {
    "editable": true,
    "slideshow": {
     "slide_type": ""
    },
    "tags": []
   },
   "source": [
    "In the same way we generate and visualize norally distributed random numbers, $N(0,1)$\n",
    "\n",
    "$$P(x |\\mu=0, \\sigma=1) = \\frac{1}{\\sigma \\sqrt{2\\pi}}e^{-\\frac{(x-\\mu)^2}{2\\sigma^2}}$$"
   ]
  },
  {
   "attachments": {},
   "cell_type": "markdown",
   "metadata": {
    "editable": true,
    "slideshow": {
     "slide_type": ""
    },
    "tags": []
   },
   "source": [
    "- We showed examples of standard random numbers $U(0,1)$ and $N(0,1)$. There are many more ranom numbers sampled from general gaussian, poisson and binomial. Check [docs](https://numpy.org/doc/stable/reference/random/legacy.html#functions-in-numpy-random) for numpy.random for mor cases."
   ]
  },
  {
   "attachments": {},
   "cell_type": "markdown",
   "metadata": {
    "editable": true,
    "slideshow": {
     "slide_type": ""
    },
    "tags": []
   },
   "source": [
    "### Simulating a 1D unbiased random walk \n",
    "\n",
    "- Random walker will be modeled by a random variable $X_i$ assuming +1 or -1 values at every ith step. \n",
    "\n",
    "- We will be tracking the net displacement of a random walker or cumulative sum of steps:\n",
    "\n",
    "$$Z_n = \\sum^{i=n}_{i=1} X_i$$\n",
    "\n",
    "- We will be interested in computing probability distribution of $P(z=Z_n)$ and its various moments.\n",
    "- We need $N$ number of independent random walkers making $n$ number of steps to get acurate statistics on $Z_n$ distribution! "
   ]
  },
  {
   "attachments": {},
   "cell_type": "markdown",
   "metadata": {
    "slideshow": {
     "slide_type": "slide"
    }
   },
   "source": [
    "**Independent observations (trajectories) of random walkers**\n",
    "\n",
    "In the course of simulating random walks we will be generating multidimensional numpy arrays. We will adhere to a convention that:\n",
    "\n",
    "- **Rows** are regarded as number of measurements, or **samples**\n",
    "- **Columns** are regarded as number of observables **distinct measurements/trajectories**\n",
    "\n",
    "We then take **cumulative sum  over trajectory** which accumulates random walker's position over time [a, a+b, a+b+c,...]. This is done by convenient ```np.cumsum()``` method."
   ]
  },
  {
   "cell_type": "code",
   "execution_count": null,
   "metadata": {},
   "outputs": [],
   "source": [
    "def rw_1d(n, N):\n",
    "    '''\n",
    "    n: trajectory length\n",
    "    N: Number of trajecotries\n",
    "    returns np.array with shape (n, N) \n",
    "    '''\n",
    "    \n",
    "    # Create random walks \n",
    "    r  = choice([-1,1], size=(n, N))\n",
    "    \n",
    "    #Accumulate position\n",
    "    rw = r.cumsum(axis=0)\n",
    "\n",
    "    #Set initial position \n",
    "    rw[0,:]=0 \n",
    "    \n",
    "    return rw"
   ]
  },
  {
   "cell_type": "code",
   "execution_count": 68,
   "metadata": {},
   "outputs": [
    {
     "name": "stdout",
     "output_type": "stream",
     "text": [
      "(2000, 1000)\n"
     ]
    }
   ],
   "source": [
    "rw = rw_1d(2000, 1000)\n",
    "\n",
    "print(rw.shape)"
   ]
  },
  {
   "cell_type": "code",
   "execution_count": 122,
   "metadata": {},
   "outputs": [
    {
     "data": {
      "application/vnd.jupyter.widget-view+json": {
       "model_id": "0ea58bfd5b68498b92bb82045308b85c",
       "version_major": 2,
       "version_minor": 0
      },
      "text/plain": [
       "interactive(children=(IntSlider(value=1, description='t', max=999, min=1), Output()), _dom_classes=('widget-in…"
      ]
     },
     "metadata": {},
     "output_type": "display_data"
    }
   ],
   "source": [
    "# Simulate 1D random walk\n",
    "n_max = 1000\n",
    "N     = 1000 \n",
    "rw    = rw_1d(n_max, N)\n",
    "\n",
    "@widgets.interact(t=(1, n_max-1))\n",
    "def rw_plotter(t=1):\n",
    "    \n",
    "    fig, ax = plt.subplots(nrows=2)\n",
    "\n",
    "    ax[0].plot(rw)\n",
    "    ax[0].axvline(x=t, color='black', linestyle='-', lw=2)\n",
    "    ax[1].hist(rw[t, :], color='orange', density=True, label=f'time={t}')\n",
    "\n",
    "    ## Plot gaussian with width t**0.5\n",
    "    x = np.linspace(-100,100, 1000)\n",
    "    y = stats.norm.pdf(x, 0, np.sqrt(t))\n",
    "    ax[1].plot(x,y, color='black', lw=2, label=f'std={np.sqrt(t):.2f}')  \n",
    "\n",
    "    ax[0].set_ylabel('Position')\n",
    "    ax[0].set_title('RW trajectries');\n",
    "\n",
    "    ax[1].set_xlabel('Position')\n",
    "    ax[1].set_ylabel('Histogram')\n",
    "    ax[1].set_xlim([-100, 100])\n",
    "    ax[1].legend()\n",
    "    fig.tight_layout()"
   ]
  },
  {
   "attachments": {},
   "cell_type": "markdown",
   "metadata": {
    "slideshow": {
     "slide_type": "slide"
    }
   },
   "source": [
    "### Fitting numerical random walk statistics to analytic probability distributions \n",
    "\n",
    "- So far we have mostly simulated random walk pretending that we do not know which porbability distributions the walk was governed.  \n",
    "\n",
    "- Below we illustrate a few example uses of ```scipy.stats``` library which contains probability distribution functions.\n",
    "- Moreover ```scipy.stats``` also has convenience reference to the same numpy random numbers that we have generated above. "
   ]
  },
  {
   "cell_type": "code",
   "execution_count": 124,
   "metadata": {
    "slideshow": {
     "slide_type": "fragment"
    }
   },
   "outputs": [],
   "source": [
    "from scipy.stats import binom, norm, poisson  \n",
    "\n",
    "s =  binom(n=10, p=0.5) # Let us declare s to be a binomial RV\n",
    "\n",
    "print(s.rvs(20))          # 20 random samples form X\n",
    "print(s.pmf(5))           # P(X = 5) pdf in case of continuous variable\n",
    "print(s.cdf(5))           # P(X <= 5)\n",
    "print(s.mean())           # E[X], mean\n",
    "print(s.var())            # Var(X), variance\n",
    "print(s.std())            # Std(X), standard deviation"
   ]
  },
  {
   "cell_type": "code",
   "execution_count": 214,
   "metadata": {
    "slideshow": {
     "slide_type": "slide"
    }
   },
   "outputs": [],
   "source": [
    "def coin_flip(p,N):\n",
    "    '''\n",
    "    N: flip coint N times taking on values 0 or 1 \n",
    "    p: with p probability\n",
    "    ''' \n",
    "    # Binomial\n",
    "    b       = binom(N, p) \n",
    "    \n",
    "    #Gaussian       \n",
    "    g = norm(N*p, (N*p*p)**0.5) #loc=mu, scale=sigma\n",
    "    \n",
    "    #Poisson\n",
    "    p = poisson(N*p)\n",
    "        \n",
    "    fig, ax=plt.subplots(nrows=2, ncols=1)\n",
    "    \n",
    "    # Plot values of coin flips and histogram\n",
    "    ax[0].plot(b.rvs(N), '-',color='grey')\n",
    "    ax[1].hist(b.rvs(N),  density=True)\n",
    "    \n",
    "    # Possible values of a coin to plot dists\n",
    "    vals    = np.arange(N) \n",
    "    \n",
    "    ax[1].plot(b.pmf(vals), '-o', color='black', label='Binom')\n",
    "    ax[1].plot(g.pdf(vals), color='green', label='Gauss')\n",
    "    ax[1].plot(p.pmf(vals), color='red', label='Poisson')\n",
    "    \n",
    "    #ax[1].set_ylim(0,)\n",
    "    ax[0].set_ylabel('Coin sum')\n",
    "    ax[1].set_xlabel('Coin sum')\n",
    "    ax[1].set_ylabel('Probability dist')\n",
    "    ax[1].legend()\n",
    "    fig.tight_layout()"
   ]
  },
  {
   "cell_type": "code",
   "execution_count": 221,
   "metadata": {},
   "outputs": [
    {
     "data": {
      "image/png": "[encoded data removed]",
      "text/plain": [
       "<Figure size 432x288 with 2 Axes>"
      ]
     },
     "metadata": {
      "needs_background": "light"
     },
     "output_type": "display_data"
    }
   ],
   "source": [
    "# try 0.1, 0.5 and 0.9\n",
    "coin_flip(p=0.5, N=100);"
   ]
  },
  {
   "cell_type": "markdown",
   "metadata": {},
   "source": [
    "### Problems\n",
    "\n"
   ]
  },
  {
   "cell_type": "markdown",
   "metadata": {},
   "source": [
    "####  Confined diffusion.\n",
    "Simulate 2D random walk in a circular confinement. Re-write 2D random walk  code to simulate diffusion of a particle which is stuck inside a sphere. \n",
    "Study how root mean square deviation of position scales with time. \n",
    "- Carry out simulations for different confinement sizes. \n",
    "- Make plots of simulated trajectories."
   ]
  },
  {
   "cell_type": "markdown",
   "metadata": {},
   "source": [
    "#### Return to the origin!\n",
    "\n",
    "- Simulate random walk in 1D and 2D for a different number of steps $N=10, 10^2,10^3, 10^4, 10^5$\n",
    "- Compute average number of returns to the origin $\\langle n_{orig} \\rangle$. That is number of times a random walker returns to the origin $0$ for 1D  or (0,0)$ for 2D . You may want to use some 1000 trajectories to obtain average. \n",
    "- Plot how $\\langle n_{orig} \\rangle$ depends on number of steps N for 1D and 2D walker.\n"
   ]
  },
  {
   "cell_type": "markdown",
   "metadata": {},
   "source": [
    "####  Breaking the CLT; Cauchy vs Normal random walk in 2D\n",
    "\n",
    "For this problem we are going to simulate two kinds of random walks in continuum space (not lattice): Levy flights and Normal distributd random walk. \n",
    "\n",
    "To simulate a 2D continuum space random walk we need to generate random step sizes $r_x$, $r_y$. \n",
    "Also you will need unifrom random namber to sample angles in 2D giving you a conitnuum random walk in 2D space: $x = r_x sin\\theta$ and $y=r_ycos\\theta$\n",
    "\n",
    "- Normally: $r\\sim N(0,1)$\n",
    "- Cauchy distribution (long tails, infinite variance) $r\\sim Cauchy(0,1)$\n",
    "- Unform angles $\\theta \\sim U(0,1)$\n",
    "\n",
    "Visualize random walk using matplotlib and study statistics of random walkers the way that is done for normal random walk/brownian motion examples!"
   ]
  },
  {
   "cell_type": "markdown",
   "metadata": {},
   "source": [
    "#### (Optional Problem) Continuous time random walk (CTRW)\n",
    "\n",
    "Simulate 1D random walk but instead of picking times at regular intervals pick them from  exponential distribution. <br>\n",
    "Hint: you may want to use random variables from scipy.stats.exp <br>\n",
    "\n",
    "[scipy.stats.expon](https://docs.scipy.org/doc/scipy/reference/generated/scipy.stats.expon.html) <br>\n",
    "\n",
    "Study the root mean square deviation as a function of exponential decay parameter $\\lambda$ of exponential distribution $e^{-\\lambda x}$. "
   ]
  },
  {
   "cell_type": "markdown",
   "metadata": {
    "slideshow": {
     "slide_type": "slide"
    }
   },
   "source": [
    "## References\n",
    "\n",
    "**The mighty little books**\n",
    "-  [\"Random Walks in Biology\",  H Berg (1993)](https://www.amazon.com/Random-Walks-Biology-Howard-Berg/dp/0691000646)\n",
    "-  [\"Physical models of Living systems\",  P Nelson (2015)](https://www.amazon.com/gp/product/1464140294/ref=ppx_yo_dt_b_search_asin_title?ie=UTF8&psc=1)\n",
    "\n",
    "**More in depth**\n",
    " \n",
    " - [\"Simple Brownian Diffusion: An Introduction to the Standard Theoretical Models\", D Gillespie](https://www.amazon.com/Simple-Brownian-Diffusion-Introduction-Theoretical/dp/0199664501/ref=sr_1_1?keywords=diffusion+brownian&qid=1579882520&sr=8-1)\n",
    "- \n",
    " - [\"Stochastic Processes for Physicists\" K Jacobs](https://www.amazon.com/Stochastic-Processes-Physicists-Understanding-Systems/dp/0521765420/ref=sr_1_1?keywords=kurt+jacobs+stochastic&qid=1579882738&sr=8-1)\n",
    " \n",
    "**On the applied side**\n",
    "- [Brownian Motion: Elements of Colloid Dynamics A P Philipse (2018)](https://www.amazon.com/Brownian-Motion-Elements-Dynamics-Undergraduate/dp/3319980521/ref=sr_1_7?keywords=einstein+brownian&qid=1579882356&sr=8-7)"
   ]
  }
 ],
 "metadata": {
  "kernelspec": {
   "display_name": "Python 3 (ipykernel)",
   "language": "python",
   "name": "python3"
  },
  "language_info": {
   "codemirror_mode": {
    "name": "ipython",
    "version": 3
   },
   "file_extension": ".py",
   "mimetype": "text/x-python",
   "name": "python",
   "nbconvert_exporter": "python",
   "pygments_lexer": "ipython3",
   "version": "3.9.16"
  },
  "latex_envs": {
   "LaTeX_envs_menu_present": true,
   "autoclose": false,
   "autocomplete": true,
   "bibliofile": "biblio.bib",
   "cite_by": "apalike",
   "current_citInitial": 1,
   "eqLabelWithNumbers": true,
   "eqNumInitial": 1,
   "hotkeys": {
    "equation": "Ctrl-E",
    "itemize": "Ctrl-I"
   },
   "labels_anchors": false,
   "latex_user_defs": false,
   "report_style_numbering": false,
   "user_envs_cfg": false
  },
  "livereveal": {
   "theme": "sky"
  },
  "nteract": {
   "version": "0.15.0"
  },
  "toc": {
   "base_numbering": 1,
   "nav_menu": {},
   "number_sections": true,
   "sideBar": true,
   "skip_h1_title": false,
   "title_cell": "Table of Contents",
   "title_sidebar": "Contents",
   "toc_cell": false,
   "toc_position": {},
   "toc_section_display": true,
   "toc_window_display": false
  }
 },
 "nbformat": 4,
 "nbformat_minor": 4
}
