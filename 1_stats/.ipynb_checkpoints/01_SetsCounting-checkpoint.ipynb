{
 "cells": [
  {
   "cell_type": "markdown",
   "metadata": {},
   "source": [
    "# Probability by counting"
   ]
  },
  {
   "cell_type": "code",
   "execution_count": 15,
   "metadata": {
    "slideshow": {
     "slide_type": "slide"
    }
   },
   "outputs": [],
   "source": [
    "import numpy as np \n",
    "import scipy   \n",
    "import matplotlib.pyplot as plt\n",
    "import ipywidgets as widgets\n",
    "\n",
    "%matplotlib inline"
   ]
  },
  {
   "cell_type": "markdown",
   "metadata": {},
   "source": [
    "### Objectives of the module \n",
    "\n",
    "- **Sample space** $\\Omega$ is a set whose elements are called outcomes or events.\n",
    "- **Events** can be constructed by forming subsets (A, B, C etc) of $\\Omega$ \n",
    "- **Probability function** P(A) associates a numeric value of probability to each event A. \n",
    "- **Venn diagrams** visualize P(A) as a \"volume fraction\" of our confidence in the event expressed on 0-1 scale.\n",
    "- **Probability axioms** defining a set of logical rules for creating composite events from trivial ones.\n",
    "- **Probability of mutually exclusive events is additive\"** P(A or B)= P(A) +P(B)\n",
    "\n",
    "- The sample space can be **discrete:** examples are the possible outcomes for a coin. We call probability function a **probability mass function** \n",
    "    - An important example is **Binomial distribution**\n",
    "    \n",
    "- The sample space can be **continuous:** examples are position of gas molecules in a box. We call probability function a **probability distribution function**\n",
    "    - An important example is **Gaussian distribution**\n",
    "  \n",
    "\n",
    "- **The law of large numbers** and **Stringling approximation** explain why repeated experiments converge to robust mean values and why Gaussian distribution is so ubiqutious. \n",
    "\n",
    "- **Frequencist apporach:** In practice probability is often computed via counting a number of occurences of outcomes \n",
    "- **Bayesian approach:** In physical scientces and modeling probability one often deals with situations where counting is not posisble. Hence pornbability is interpreted as a degree of belief in each possible event.\n"
   ]
  },
  {
   "cell_type": "markdown",
   "metadata": {
    "slideshow": {
     "slide_type": "slide"
    }
   },
   "source": [
    "### Sample space\n",
    "\n",
    "The **sample space**, often signified by an $S$ is a set of **all possible outcomes** of a trial.\n",
    "\n",
    "-  if our trial is a single roll of a six-sided die, then the sample space will be:\n",
    "\n",
    "$$S = {1, 2, 3, 4, 5, 6}$$\n",
    "\n",
    "- If our trial is choosing a coin from a bag, then the sample space might be:\n",
    "\n",
    "$$S = {quarter, dime, nickel, penny}$$"
   ]
  },
  {
   "cell_type": "markdown",
   "metadata": {
    "slideshow": {
     "slide_type": "slide"
    }
   },
   "source": [
    "### Events\n",
    "\n",
    "An **Event** specifies the outcome of a trial. Events can be the outcome of a single trial OR a set of outcomes.\n",
    "\n",
    "Events are often designated with an $E$.\n",
    "\n",
    "- If we roll a die and want to specify our event to be that we get a one (1), then our event might be defined:\n",
    "\n",
    "$$E = {1}$$\n",
    "\n",
    "- If we want to specify our event to be that we get an even number, then our event might be defined:\n",
    "\n",
    "$$E = {2, 4, 6}$$"
   ]
  },
  {
   "cell_type": "markdown",
   "metadata": {
    "slideshow": {
     "slide_type": "slide"
    }
   },
   "source": [
    "### Compute probabilities through counting "
   ]
  },
  {
   "cell_type": "markdown",
   "metadata": {
    "slideshow": {
     "slide_type": "slide"
    }
   },
   "source": [
    "To calculate a simple probability of an event, labeled $P(E)$, we divide the number of ways of getting the event, $n(E)$ by the number of elements in the sample space, $n(S)$.\n",
    "\n",
    "$$\n",
    "\\boxed{\\Large P(E) = \\frac{n(E)}{n(S)}}\n",
    "$$\n",
    "\n",
    "For example, if we calculate the probability of rolling a `1` on a six sided die...\n",
    "\n",
    "```python\n",
    "E = {1}\n",
    "S = {1, 2, 3, 4, 5, 6}\n",
    "\n",
    "\n",
    "n(E) = 1      # number of ways to get the event\n",
    "n(S) = 6      # number of elements in the sample space\n",
    "\n",
    "P(E) = 1 / 6\n",
    "```"
   ]
  },
  {
   "cell_type": "code",
   "execution_count": 29,
   "metadata": {
    "slideshow": {
     "slide_type": "slide"
    }
   },
   "outputs": [],
   "source": [
    "def probability(S={1,2}, E={1}):\n",
    "    '''\n",
    "    Simple function to calculate probability of die rolls\n",
    "    Return the probability of an event given the event measure and the sample size measure\n",
    "    '''\n",
    "    \n",
    "    return len(E)/len(S)"
   ]
  },
  {
   "cell_type": "code",
   "execution_count": 32,
   "metadata": {},
   "outputs": [
    {
     "data": {
      "text/plain": [
       "0.1"
      ]
     },
     "execution_count": 32,
     "metadata": {},
     "output_type": "execute_result"
    }
   ],
   "source": [
    "S={1,2,3,4,5,6,7,8,9,10}\n",
    "E= {1} \n",
    "probability(S,E)"
   ]
  },
  {
   "cell_type": "code",
   "execution_count": 33,
   "metadata": {},
   "outputs": [
    {
     "data": {
      "text/plain": [
       "0.3"
      ]
     },
     "execution_count": 33,
     "metadata": {},
     "output_type": "execute_result"
    }
   ],
   "source": [
    "S={1,2,3,4,5,6,7,8,9,10}\n",
    "E= {1,4,5} \n",
    "probability(S,E)"
   ]
  },
  {
   "cell_type": "markdown",
   "metadata": {
    "slideshow": {
     "slide_type": "slide"
    }
   },
   "source": [
    "### Composite events and Venn diagrams"
   ]
  },
  {
   "cell_type": "code",
   "execution_count": 73,
   "metadata": {},
   "outputs": [],
   "source": [
    "%%capture\n",
    "!pip install matplotlib-venn #install if running locally\n",
    "import matplotlib_venn as venn"
   ]
  },
  {
   "cell_type": "code",
   "execution_count": 4,
   "metadata": {
    "slideshow": {
     "slide_type": "fragment"
    }
   },
   "outputs": [
    {
     "data": {
      "text/plain": [
       "<matplotlib_venn._common.VennDiagram at 0x1697caeb0>"
      ]
     },
     "execution_count": 4,
     "metadata": {},
     "output_type": "execute_result"
    },
    {
     "data": {
      "image/png": "[encoded data removed]",
      "text/plain": [
       "<Figure size 432x288 with 1 Axes>"
      ]
     },
     "metadata": {},
     "output_type": "display_data"
    }
   ],
   "source": [
    "S = {-1, 0, 1, 2, 3,4,5,7, 20,90}\n",
    "\n",
    "A = {1, 2, 3,4,5}\n",
    "\n",
    "B = {0, 2, -1, 5,7}\n",
    "\n",
    "C = {20,90}\n",
    "\n",
    "D = {100}\n",
    "\n",
    "venn.venn3([A, B, C], set_labels=('A','B', 'C'))"
   ]
  },
  {
   "cell_type": "markdown",
   "metadata": {
    "slideshow": {
     "slide_type": "slide"
    }
   },
   "source": [
    "#### Creating new events out of sets\n",
    "\n",
    "- When dealing with sets in python & means intersection and | means union.\n",
    "- We apply these operators to create composite sets"
   ]
  },
  {
   "cell_type": "code",
   "execution_count": 5,
   "metadata": {
    "slideshow": {
     "slide_type": "fragment"
    }
   },
   "outputs": [
    {
     "name": "stdout",
     "output_type": "stream",
     "text": [
      "𝐴∩𝐵 =  {2, 5}\n",
      "𝐴∪B =  {0, 1, 2, 3, 4, 5, 7, -1}\n",
      "𝐴-B =  {1, 3, 4}\n"
     ]
    }
   ],
   "source": [
    "print(\"𝐴∩𝐵 = \", A&B)\n",
    "print(\"𝐴∪B = \", A|B)     \n",
    "print(\"𝐴-B = \", A-B)          "
   ]
  },
  {
   "cell_type": "markdown",
   "metadata": {
    "slideshow": {
     "slide_type": "slide"
    }
   },
   "source": [
    "Computing complements of sets"
   ]
  },
  {
   "cell_type": "code",
   "execution_count": 64,
   "metadata": {
    "slideshow": {
     "slide_type": "fragment"
    }
   },
   "outputs": [
    {
     "name": "stdout",
     "output_type": "stream",
     "text": [
      "A^c =  5\n",
      "B^c =  5\n",
      "(𝐴∪𝐵)^c =  2\n",
      "𝐴^c  ∩ B^c =  2\n"
     ]
    }
   ],
   "source": [
    "print(\"A^c = \", len(S-A))\n",
    "print(\"B^c = \", len(S-B))\n",
    "print(\"(𝐴∪𝐵)^c = \", len(S-(𝐴|𝐵)))\n",
    "print(\"𝐴^c ∩ B^c = \", len((S-A)&(S-B)))"
   ]
  },
  {
   "cell_type": "markdown",
   "metadata": {
    "slideshow": {
     "slide_type": "slide"
    }
   },
   "source": [
    "### Translate words into probabilities\n",
    "\n",
    "**Give a possible sample space $\\Omega$ for each of the follow experiments**\n",
    "\n",
    "- A two-sided coin is tossed. \n",
    "\n",
    "$$\\Omega = {H,T}$$\n",
    "\n",
    "- You choose the color of your new car's exterior (choices: red, black, silver, green) and interior (choices: black, beige)?\n",
    "\n",
    "$$\\Omega = {red, black, silver, green} \\times {black, beige}$$\n",
    "    \n",
    "**Define Sample space**\n",
    "\n",
    "- A fair coin is tossed 200 times in a row  \n",
    "\n",
    "$$\\Omega = \\{H,T\\}^{200}$$\n",
    "\n",
    "- You count the number of people who enter a department store on a particular Sunday \n",
    "\n",
    "$$\\Omega = \\{All\\,\\, numbers\\,\\, from\\,\\, 0\\,\\, to\\,\\, 6\\,\\, billion\\}$$ \n",
    "\n",
    "- You open up Hamlet  and pick a word at random \n",
    "\n",
    "$$\\Omega = \\{words\\,\\, in\\,\\,  Hamlet\\}$$\n",
    "    \n",
    "**Let A, B, and C be events defined on a particular sample $\\Omega$. Write expressions for the following combinations of events**\n",
    "\n",
    "- All three events occur.\n",
    "\n",
    "$$A \\cap B \\cap C$$ \n",
    "\n",
    "-  At least one of the events occurs \n",
    "\n",
    "$$A \\cup B \\cup C$$\n",
    "\n",
    "-  A and B occur, but not C\n",
    "\n",
    "$$A \\cup B \\cup C^{c}$$"
   ]
  },
  {
   "cell_type": "markdown",
   "metadata": {
    "slideshow": {
     "slide_type": "slide"
    }
   },
   "source": [
    "### Probability Axioms\n",
    "\n",
    "```{admonition} Nonnegativity\n",
    ":class: tip \n",
    " \n",
    "For every event *A*, \n",
    " \n",
    "$$P(A) \\ge 0$$\n",
    "``` \n",
    "\n",
    "```{admonition} Normalization\n",
    ":class: tip \n",
    " \n",
    "The probability of the entire sample space is equal to 1.\n",
    " \n",
    "$$P(S)=1$$\n",
    "``` \n",
    "\n",
    "```{admonition} Addition rule\n",
    ":class: tip \n",
    " \n",
    "For any sequence of **disjoint** events, $A_i \\cap A_j = \\emptyset $, the probability of their union is the sum of their individual probabilities,\n",
    " \n",
    "$$P\\left( A_1 \\cup A_2 \\cup \\ldots \\right) = P\\left(A_1\\right) + P\\left(A_2\\right) + \\ldots$$\n",
    "``` \n",
    "\n",
    "\n",
    "```{admonition} Product rule\n",
    ":class: tip \n",
    " \n",
    "For every event *A*, \n",
    " \n",
    "$$P(A,B,C)=P(A)P(B)P(C)$$\n",
    "``` \n",
    "\n",
    "```{admonition} Complement\n",
    ":class: tip \n",
    " \n",
    "Given that $A \\cap \\bar A=\\emptyset$ and $A \\cup \\bar A=S$.\n",
    " \n",
    " $$P(\\bar A)=1-P(A)$$\n",
    "``` \n",
    " \n",
    "```{admonition} Conditional probability and Bayes Theorem\n",
    ":class: tip \n",
    " \n",
    "Knoweldge of past events may change the probability of future events\n",
    " \n",
    "$$P(A,B)=P(A|B)P(B)=P(B|A)P(A)$$\n",
    "``` "
   ]
  },
  {
   "cell_type": "markdown",
   "metadata": {},
   "source": [
    "````{admonition} Example problems: \n",
    "\n",
    "```{dropdown}  We role two dice and record the total sum of numbers $T$. Suppose event $A$ is getting a total of $T = 9$ and event $B$ is getting a total of $T = 5$. What is the probability of A or B?\n",
    "\n",
    "Clearly A and B cannot both occur the two events are mutually exclusive. There are 4 ways to get event A\n",
    "(T = 9), and 5 ways to get event B (T = 5), so that there are 4 + 5 = 9 ways to get\n",
    "either A or B, and so $P(A or B) = 9/36 = 1/4$\n",
    "```\n",
    "\n",
    "```{dropdown}  Now suppose event C is getting a total of $T = 12$ and event D is getting a double, where both dice are the same. What is the probability of C or D?\n",
    "\n",
    "There is only one way to get 12, so P(C) = 1/36. There are six ways to get a double,\n",
    "so P(D) = 6/36. However C and D are not exclusive—rolling a double six is an\n",
    "example of both. The double six is already included in the calculation of P(D). So\n",
    "P(C or D) = 6/36 + 1/36 − 1/36 = 6/36\n",
    "```\n",
    "\n",
    "````"
   ]
  },
  {
   "cell_type": "markdown",
   "metadata": {},
   "source": [
    "### Bayes theorem"
   ]
  },
  {
   "cell_type": "markdown",
   "metadata": {},
   "source": [
    "- **Marginal Probability:** The probability of an event irrespective of the outcomes of other random variables, e.g. \n",
    "\n",
    "$$P(A)$$\n",
    "\n",
    "- **Joint Probability:** Probability of two (or more) simultaneous events, e.g. \n",
    "\n",
    "$$P(A, B)\\,\\,\\,\\, or \\,\\,\\,\\, P(𝐴∩𝐵) \\,\\,\\,\\,or \\,\\,\\,\\, P(A\\,\\, and\\,\\, B)$$\n",
    "\n",
    "- **Conditional Probability:** Probability of one (or more) event given the occurrence of another event.\n",
    "\n",
    "$$P(A\\,\\, given\\,\\, B)\\,\\,\\,\\, or \\,\\,\\,\\,P(A | B)$$"
   ]
  },
  {
   "cell_type": "markdown",
   "metadata": {},
   "source": [
    "#### Computations with joint and codnitional probability\n",
    "\n",
    "The joint probability can be calculated using the conditional probability\n",
    "\n",
    "$$P(A, B) = P(B | A) \\cdot  P(A)$$\n",
    "\n",
    "> Note that joint probability is symmetric $P(A, B) = P(B, A)$\n",
    "\n",
    "The conditional probability can be calculated using the joint probability. Thinking in terms of sets this shows that we are counting the fraction of A and B overlap confined within area of A, an event that has happened! \n",
    "\n",
    "$$P(B | A) = \\frac{P(B, A)}{P(A)}$$\n",
    "\n",
    "> Note that conditional probability is not symmetric $P(A | B) != P(B | A)$\n",
    "\n",
    "There is another way of calculating conditional probability that is widely employed in practice.\n",
    "\n",
    "$$P(B|A) = \\frac{P(A|B) \\cdot P(B) }{P(A)} = \\frac{P(A|B) \\cdot P(B) }{P(A|B) \\cdot P(B) + P(A|B^c) \\cdot P(B^c)}$$\n",
    "\n",
    "Where we have used marginalization of joint probability to express $P(A)$ in terms od conditional probabilities\n",
    "\n",
    "> The last formulate looks abstract but essentially this forumale is used to learn probability of some hypothesis $B$ given data $A$ $P(B|A)$. And for that we make use of likelihood of hypothesis $P(A |B)$ with a given data.  "
   ]
  },
  {
   "cell_type": "markdown",
   "metadata": {},
   "source": [
    "````{admonition} Example \n",
    "\n",
    "```{dropdown}  A test for cancer is known to be 90% accurate either in detecting cancer if present or in giving an all-clear if cancer is absent. The prevalence of cancer in the population\n",
    "is 1%. How worried should you be if you test positive? Try answering this question\n",
    "with and without Bayes’ theorem.\n",
    "\n",
    "- Only 1% population has cancer hence we get probability of an inidivual having (not having) cancer as:\n",
    "\n",
    "$$P(X)=0.01\\,\\,\\,\\,hence\\,\\,\\,\\,\\,\\,\\, P(X^c)=1-P(X)=0.99$$\n",
    "\n",
    "- Accuracy of a test (how ofte positives show up when cancer is certain)\n",
    "\n",
    "$$P(+|X) = 0.9 \\\\ P(-|X^c)=0.9$$\n",
    "\n",
    "$$P(X|+) = \\frac{P(+|X)p(X)}{p(+)} = \\frac{P(+|X)p(X)}{p(+|X)p(X)+p(+| X^c)p(X^c)} =  \\frac{0.9\\cdot 0.01}{0.9\\cdot 0.01+0.1\\cdot 0.99} = 0.083$$\n",
    "\n",
    "```\n",
    "\n",
    "\n",
    "```{dropdown} A game show host shows you three doors, and tells you that behind two of them\n",
    "is a goat, and behind one of them is a car. You pick a door. The host opens one\n",
    "of the other doors, revealing a goat, and asks whether you want to switch your\n",
    "choice to the other unopened door. Does switching improve your chance of winning\n",
    "the car? (Hint: for intuition consider all the possible permutations of what is behind each door.)\n",
    "\n",
    "There are two aspects of the Monty Hall problem that many struggle to agree with. First, why aren’t the odds 50-50 after the host opens the door? Why is it that switching doors has a 2 in 3 chance of winning when sticking with the first pick only has a 1 in 3 chance? Secondly, why is it the case that if Monty opened a door truly randomly and happened to show a goat, then the odds of staying vs. switching doors are now 50-50? Bayes' theorem can answer these questions.\n",
    "\n",
    "- $P(H)$ is the prior probability that door 1 has a car behind it (Hypothesis H) without knowing about the door that Monty reveals. This is $\\frac{1}{3}$ \n",
    "\n",
    "- $P(H^c)$ is the probability that we did not pick the door with the car behind it. Since the door either has the car behind it or not, $P(H^c) = 1 - P(H) = \\frac{2}{3}P(H^c)=1−P(H)= \\frac{2}{3}$\n",
    " \n",
    "- $P(E \\mid H)$ is the probability that Monty shows a door with a goat behind it, given that there is a car behind door 1. Since Monty always shows a door with a goat, this is equal to 1.\n",
    "\n",
    "- $P(E\\mid H^c)$ is the probability that Monty shows the goat, given that there is a goat behind door 1. Again, since Monty always shows a door with a goat, this is equal to 1.\n",
    "\n",
    "$$P(H \\mid E) = ... $$\n",
    "```\n",
    "\n",
    "````\n",
    "---"
   ]
  },
  {
   "cell_type": "markdown",
   "metadata": {
    "slideshow": {
     "slide_type": "slide"
    }
   },
   "source": [
    "### Combinatorics\n",
    "\n",
    "Sampling   | Combinatorics\n",
    "--   |   --\n",
    "**Ordered** sampling **without** replacement       |  $\\boxed{P^n_r = \\frac{n!}{(n-r)!}}$\n",
    "**Unordered** sampling **without** replacement  |  $\\boxed{P = \\frac{n!}{r!(n-r)!}}$\n",
    "**Ordered** sampling **with** replacement          | $\\boxed{P^n_r = r^n}$  |    |  \n",
    "**Unordered** sampling **with** replacement  |  $\\boxed{P = \\frac{(n+r-1)!}{r!(n-1)!}}$"
   ]
  },
  {
   "cell_type": "markdown",
   "metadata": {
    "slideshow": {
     "slide_type": "slide"
    }
   },
   "source": [
    "#### Multinomial combination.\n",
    "\n",
    "Cominatoria forumla can be readily generalized for k>2 partitions. A classic problem we will encounter is partitioning $N$ indistinguishable molecules among $n_1$ energy level, $n_2$, ... $n_k$. $\\sum n_i = N$\n",
    "\n",
    "$$\\boxed{C^N_{n_1,n_2,...n_k}=\\frac{N!}{n_1! \\cdot n_2! \\cdot ... n_k!} }$$"
   ]
  },
  {
   "cell_type": "markdown",
   "metadata": {
    "slideshow": {
     "slide_type": "slide"
    }
   },
   "source": [
    "````{admonition} Example problems: \n",
    "\n",
    "Consider a container filled with 1000 atoms of Ar.\n",
    "\n",
    "```{dropdown} What is a probability that left half has 400 atoms?\n",
    "$n(A) = \\frac{1000!}{400! \\cdot 600 !}$\n",
    "```\n",
    "\n",
    "```{dropdown} What is a probability that left half has 500 atoms?\n",
    "$n(B) = \\frac{1000!}{500! \\cdot 500 !}$\n",
    "```\n",
    "\n",
    "```{dropdown} What is a probability that 1/3 has 100 next 1/3 has 200 and next 1/3 has 700?\n",
    " $n(C) = \\frac{1000!}{100!\\cdot 200! \\cdot 700!}$\n",
    "```\n",
    "\n",
    "```{dropdown} What is the total number of all possible partitionings or staets of gas atoms in container?\n",
    "$n(S) = \\sum^{n=N}_{n=0}\\frac{N!}{n!\\cdot (N-n)!} = 2^N$ \n",
    "Each N lattice site in the container can be either vacant or filled hene $2^N$ states. \n",
    "```\n",
    "\n",
    "````"
   ]
  },
  {
   "cell_type": "code",
   "execution_count": 3,
   "metadata": {
    "slideshow": {
     "slide_type": "slide"
    }
   },
   "outputs": [
    {
     "name": "stdout",
     "output_type": "stream",
     "text": [
      "0.07958923738717874\n",
      "0.04847429662643074\n"
     ]
    }
   ],
   "source": [
    "from scipy.special import factorial\n",
    "\n",
    "def gas_partition(k1=50, k2=50, k3=0, N=100):\n",
    "\n",
    "    return factorial(N) / (2**N * factorial(k1) * factorial(k2)** factorial(k3))\n",
    "\n",
    "print(gas_partition(50,50))\n",
    "print(gas_partition(55,45))"
   ]
  },
  {
   "cell_type": "markdown",
   "metadata": {
    "slideshow": {
     "slide_type": "slide"
    }
   },
   "source": [
    "````{admonition} Example  \n",
    "Solids metal has 100 atoms. Magnetic measurments shows that there are 10 atoms with spin down. \n",
    "\n",
    "```{dropdown} If ten atoms are chosen at random, what is the probability that they all have spin up? \n",
    "$$n(S) = \\frac{100!}{10!(90)!}$$\n",
    "\n",
    "$$n(up) = \\frac{90!}{10!(80)!}$$\n",
    "\n",
    "$$p(up) =\\frac{n(up)}{n(S)}$$\n",
    "```\n",
    "\n",
    "````"
   ]
  },
  {
   "cell_type": "markdown",
   "metadata": {},
   "source": [
    "### Permutations and combinations in python"
   ]
  },
  {
   "cell_type": "markdown",
   "metadata": {},
   "source": [
    "- [itertools](https://docs.python.org/3/library/itertools.html) module of python as the name may suggest provides tools for building complex iterations. \n",
    "- For instance itertoosl has functions for obtaining all possible permutations and combinations of two objects; two lists or strings for instance.  "
   ]
  },
  {
   "cell_type": "code",
   "execution_count": 13,
   "metadata": {
    "slideshow": {
     "slide_type": "slide"
    }
   },
   "outputs": [
    {
     "name": "stdout",
     "output_type": "stream",
     "text": [
      "Permuations\n",
      "('A', 'B')\n",
      "('A', 'C')\n",
      "('A', 'D')\n",
      "('B', 'A')\n",
      "('B', 'C')\n",
      "('B', 'D')\n",
      "('C', 'A')\n",
      "('C', 'B')\n",
      "('C', 'D')\n",
      "('D', 'A')\n",
      "('D', 'B')\n",
      "('D', 'C')\n",
      "Combinations\n",
      "('A', 'B')\n",
      "('A', 'C')\n",
      "('A', 'D')\n",
      "('B', 'C')\n",
      "('B', 'D')\n",
      "('C', 'D')\n",
      "Combinations with replacement\n",
      "('A', 'A')\n",
      "('A', 'B')\n",
      "('A', 'C')\n",
      "('A', 'D')\n",
      "('B', 'B')\n",
      "('B', 'C')\n",
      "('B', 'D')\n",
      "('C', 'C')\n",
      "('C', 'D')\n",
      "('D', 'D')\n"
     ]
    }
   ],
   "source": [
    "from itertools import permutations, combinations, combinations_with_replacement\n",
    "\n",
    "#Try out different methods, sequence and combination numbers\n",
    "seq = 'ABCD'\n",
    "n   = 2\n",
    "\n",
    "print('Permuations')\n",
    "[print(p) for p in permutations(seq, n)];\n",
    "\n",
    "print('Combinations')\n",
    "[print(p) for p in combinations(seq, n)]; \n",
    "\n",
    "print('Combinations with replacement')\n",
    "[print(p) for p in combinations_with_replacement(seq, n)] ;"
   ]
  },
  {
   "cell_type": "markdown",
   "metadata": {},
   "source": [
    "### Dealinig with large numbers: Striling approximation "
   ]
  },
  {
   "cell_type": "markdown",
   "metadata": {
    "slideshow": {
     "slide_type": "slide"
    }
   },
   "source": [
    "####  Stirling's approximation  A crude approximation that works out for $N\\gg 1$\n",
    "\n",
    "$$logN! \\approx \\sum log N_i = \\int log N dN$$\n",
    "\n",
    "$$\\boxed{logN! \\approx NlogN-N}$$\n",
    "\n",
    "$$\\boxed{N! \\approx N^N e^{-N}}$$"
   ]
  },
  {
   "cell_type": "markdown",
   "metadata": {
    "slideshow": {
     "slide_type": "slide"
    }
   },
   "source": [
    "#### Applying Stirling approximation to the Binomial \n",
    "\n",
    "$$r+r' = N$$\n",
    "\n",
    "$$\\frac{N!}{r! \\cdot r'!} \\approx \\frac{N^N e^{-N}}{r^{r} e^{-r}\\cdot r'^{r'} e^{-r'}} =\\frac{N^N }{r^{r} \\cdot r'^{r'} }$$\n",
    "\n",
    "$$log\\frac{N!}{r! \\cdot r'!} \\approx NlogN -rlogr - r'log r'$$\n",
    "\n",
    "$${log\\frac{N!}{r! \\cdot r'!} \\approx  N \\Big[ -x log x - x' log x' \\Big]}$$\n",
    "\n",
    "> The expression $S = \\Big[ -x log x - x' log x' \\Big]$ is significant. We are going to associate it with entropy further down the road."
   ]
  },
  {
   "cell_type": "markdown",
   "metadata": {
    "slideshow": {
     "slide_type": "slide"
    }
   },
   "source": [
    "#### Gamma function: generalizing the factorial\n",
    "\n",
    "$$\\Gamma (n) = \\int^{\\infty}_0 x^{n-1} e^{-x}dx$$\n",
    "\n",
    "- The gamma function $\\Gamma(n)$ provides an extension of the factorial function to domain of noninteger and complex numbers. \n",
    "- The gamma function is defined for all complex numbers except the non-positive integers. \n",
    "- For any positive integer gamma function reduces to factorials\n",
    "\n",
    "\n",
    "$$\\Gamma(n)=(n-1)!$$"
   ]
  },
  {
   "cell_type": "code",
   "execution_count": 67,
   "metadata": {},
   "outputs": [
    {
     "data": {
      "text/plain": [
       "<matplotlib.legend.Legend at 0x1673acaf0>"
      ]
     },
     "execution_count": 67,
     "metadata": {},
     "output_type": "execute_result"
    },
    {
     "data": {
      "image/png": "[encoded data removed]",
      "text/plain": [
       "<Figure size 432x288 with 1 Axes>"
      ]
     },
     "metadata": {
      "needs_background": "light"
     },
     "output_type": "display_data"
    }
   ],
   "source": [
    "from scipy.special import gamma\n",
    "\n",
    "# Plot gamma function \n",
    "x = np.linspace(-5, 5, 1000)\n",
    "plt.plot(x, gamma(x), label='$\\Gamma(x)$')\n",
    "\n",
    "# Plot (x-1)! for x = 1, 2, ..., 6\n",
    "xint = 1+np.arange(6)\n",
    "factorials = [np.math.factorial(x-1) for x in xint]\n",
    "plt.plot(xint, factorials, '*', ms=10, color='red', label='$(x-1)!$')\n",
    "\n",
    "# Style\n",
    "plt.ylim(-50,50)\n",
    "plt.xlim(-5, 5)\n",
    "plt.xlabel('$x$')\n",
    "plt.legend()"
   ]
  },
  {
   "cell_type": "markdown",
   "metadata": {},
   "source": [
    "### Exercises"
   ]
  },
  {
   "cell_type": "markdown",
   "metadata": {},
   "source": [
    "**Events, sets, probability**\n",
    "\n",
    "Consider an experiment with N equally likely outcomes, involving two events A and B. \n",
    "Let $N_1$ be the number of events in which A occurs but not B\n",
    "Let $N_2$ be the number of events in which B occurs but not A\n",
    "Let $N_3$ be the number of events in which both A and B occur\n",
    "Let $N_4$ be the number of events in which Neither A nor B ocurs\n",
    "\n",
    "1. Check that $\\sum^{4}_{i=1} N_i=1$\n",
    "\n",
    "2. What would be the expressions of $P(A)$ and $P(B)$ in terms of $N_i$?\n",
    "\n",
    "3. What would be the expression of $P(A+B)$ in terms of $N_i$?\n",
    "\n",
    "4. What would be the expression of $P(A|B)$ and $P(A|B)$ in terms of $N_i$?\n",
    "\n",
    "5. Show that $P(A+B) = P(A) +cP(B) - P(AB)$ and $P(AB) = P(B)P(A|B) = P(A)P(B|A)$"
   ]
  },
  {
   "cell_type": "markdown",
   "metadata": {},
   "source": [
    "**Die rolls**\n",
    "\n",
    "- What is a probability of obtaining number=6 three times in a row when rolling three independent die at once? What about rolling same dice three times?\n",
    "\n",
    "- What is a probability of obtaining a combined sum of 6 when rolling three die?\n",
    "\n",
    "- On average, how many times ($\\langle n \\rangle$ ) must a 6-sided die be rolled until a 6 turns up? (Hint: we must compute average using n roles out of which n-1 did not turn out 6. $\\langle n \\rangle = \\sum^{\\infty}_n P(n) n)$\n"
   ]
  },
  {
   "cell_type": "markdown",
   "metadata": {},
   "source": [
    "**Sock combinations**\n",
    "\n",
    "A sock is selected at random and removed from a drawer containing five brown\n",
    "socks and three green socks. A second random sock is then removed. What is the\n",
    "probability that two different colors are selected?\n"
   ]
  },
  {
   "cell_type": "markdown",
   "metadata": {},
   "source": [
    "### Problems"
   ]
  },
  {
   "cell_type": "markdown",
   "metadata": {},
   "source": [
    "**Smart gambler.**\n",
    " \n",
    " You flip a coin 10 times and record the data in the form\n",
    "of head/tails or 1s and 0s\n",
    "-  What would be the probability of ladning 4 H's?\n",
    "-  What would be the probability of landing HHHTTTHHHT sequence?\n",
    "-  In how many ways can we have 2 head and 8 tails in this experiments?\n",
    "-  Okay, now you got tired of flipping coins and decide to play some dice. You throw die\n",
    "10 times what is the probability of never landing number 6?\n",
    "- You throw a die 3 times what is the probability of obtaining a combined sum of 7?"
   ]
  },
  {
   "cell_type": "markdown",
   "metadata": {},
   "source": [
    "**Practicing counting. Gas molecules.**\n",
    "\n",
    "$$C^{N}_{k}$$\n",
    "\n",
    "A container of volume $V$ contains $N$ molecules of a gas. We assume that the gas is dilute so that the position of any one molecule is independent of all other molecules. Although the density will be uniform on the average, there are fluctuations in the density. Divide the volume $V$ into two parts $V_1$ and $V_2$, where $V = V_1 + V_2$. \n",
    "- What is the probability p that a particular molecule is in each part? \n",
    "- What is the probability that $N_1$ molecules are in $V_1$ and $N_2$ molecules are in $V_2$? \n",
    "- What is the average number of molecules in each part? \n",
    "- What are the relative fluctuations of the number of particles in each part?"
   ]
  },
  {
   "cell_type": "markdown",
   "metadata": {},
   "source": [
    "**Binomial, Gaussian and Poisson: The 3 distributions to know before heading to Las Vegas.**\n",
    "\n",
    "- Show that in large number limit binomial distribution tends to gaussian. Show is by expanding binomial distirbution $logp(n)$ in power series showing that terms beyond quadratic can be ignored. \n",
    "\n",
    "- In the limit $N\\rightarrow \\infty$ but for very small values of $p \\rightarrow 0$ such that $\\lambda =pN=const$ there is another distribution that better approximates Binomial distribution: $p(x)=\\frac{\\lambda^k}{k!}e^{-\\lambda} $ It is known as Poisson distribution. <br>\n",
    "Poisson distribution is an excellent approximation for probabilities of rare events. Such as, infrequently firing neurons in the brain, radioactive decay events of Plutonium or rains in the desert. <br>  Derive Poisson distribution by taking the limit of $p\\rightarrow 0$ in binomial distribution.\n",
    "\n",
    "- Using numpy and matplotlib plot binomial probability distribution\n",
    "against Gaussian and Poisson distributions for different values of N=(10,100,1000,10000). <br>\n",
    "Do four plots for the following values \n",
    "p=0.0001, 0.001, 0.01, 0.1. You can use  subplot functionality to make a pretty 4 column plot.  \n",
    "\n",
    "```python\n",
    "fig, ax =  plt.subplots(nrows=1, ncols=4)\n",
    "\n",
    "ax[0].plt()\n",
    "ax[1].plt()\n",
    "ax[2].plt()\n",
    "ax[3].plt()\n",
    "```\n",
    "\n",
    "````"
   ]
  },
  {
   "cell_type": "markdown",
   "metadata": {},
   "source": [
    "**Optional Project:** [Porosity of materials](https://en.wikipedia.org/wiki/Porosity)\n",
    "\n",
    "A simple model of a porous rock can be imagined by placing a series of overlap- ping spheres at random into a container of fixed volume $V$ . The spheres represent the rock and the space between the spheres represents the pores. If we write the volume of the sphere as v, it can be shown the fraction of the space between the spheres or the porosity $\\phi$ is $\\phi =e^{-Nv/V}$, where $N$ is the number of spheres. \n",
    "\n",
    "For simplicity, consider a 2D system, (e.g $v=\\frac{1}{4}\\pi d^2$, see [wiki](https://en.wikipedia.org/wiki/Area_of_a_circle) if you forgot the formula). \n",
    "Write a python function which place disks of $d=1$ into a square box. The disks can overlap. Divide the box into square cells each of which has an edge length equal to the diameter of the disks. Find the probability of having 0, 1, 2, or 3 disks in a cell for $\\phi$ = 0.03, 0.1, and 0.5.\n",
    "\n",
    "> You will need [np.random.uniform()](https://docs.scipy.org/doc/numpy-1.14.0/reference/generated/numpy.random.uniform.html) to randomly place N disks of volume v into volume V. \n",
    "> Check out this cool python lib for porosity evaluation of materials [R Shkarin, et al Plos Comp Bio 2019](https://journals.plos.org/plosone/article/file?id=10.1371/journal.pone.0215137&type=printable)"
   ]
  }
 ],
 "metadata": {
  "kernelspec": {
   "display_name": "Python 3 (ipykernel)",
   "language": "python",
   "name": "python3"
  },
  "language_info": {
   "codemirror_mode": {
    "name": "ipython",
    "version": 3
   },
   "file_extension": ".py",
   "mimetype": "text/x-python",
   "name": "python",
   "nbconvert_exporter": "python",
   "pygments_lexer": "ipython3",
   "version": "3.9.10"
  },
  "latex_envs": {
   "LaTeX_envs_menu_present": true,
   "autoclose": false,
   "autocomplete": true,
   "bibliofile": "biblio.bib",
   "cite_by": "apalike",
   "current_citInitial": 1,
   "eqLabelWithNumbers": true,
   "eqNumInitial": 1,
   "hotkeys": {
    "equation": "Ctrl-E",
    "itemize": "Ctrl-I"
   },
   "labels_anchors": false,
   "latex_user_defs": false,
   "report_style_numbering": false,
   "user_envs_cfg": false
  },
  "livereveal": {
   "theme": "sky"
  },
  "toc": {
   "base_numbering": 1,
   "nav_menu": {},
   "number_sections": true,
   "sideBar": true,
   "skip_h1_title": false,
   "title_cell": "Table of Contents",
   "title_sidebar": "Contents",
   "toc_cell": true,
   "toc_position": {},
   "toc_section_display": true,
   "toc_window_display": false
  }
 },
 "nbformat": 4,
 "nbformat_minor": 4
}
