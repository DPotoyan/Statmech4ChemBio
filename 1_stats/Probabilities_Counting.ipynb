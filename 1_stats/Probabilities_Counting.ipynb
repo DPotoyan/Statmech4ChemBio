{
 "cells": [
  {
   "cell_type": "markdown",
   "metadata": {
    "editable": true,
    "slideshow": {
     "slide_type": ""
    },
    "tags": []
   },
   "source": [
    "# Probability theory"
   ]
  },
  {
   "cell_type": "markdown",
   "metadata": {
    "@deathbeds/jupyterlab-fonts": {
     "styles": {
      "": {
       "body[data-jp-deck-mode='presenting'] &": {
        "zoom": "132%"
       }
      }
     }
    },
    "editable": true,
    "slideshow": {
     "slide_type": "slide"
    },
    "tags": []
   },
   "source": [
    ":::{admonition} What you need to know\n",
    "\n",
    "- **Sample space** $\\Omega$ is a set of elementary outcomes or events.\n",
    "- **Events** can contain more than one elementary event and can be constructed by forming subsets ($A$, $B$, $C$ etc) of $\\Omega$ \n",
    "- **Probability function** P(A) assigns a numeric value to each event, A quantifying certainty of an event happening on a 0-1 scale. \n",
    "- **Venn diagrams** visualize P(A) as a \"volume fraction\" of our confidence in the event expressed on 0-1 scale.\n",
    "- **Probability axioms** define a set of logical rules for creating composite events from trivial ones.\n",
    "- **Bayesian approach:** In physical sciences and modeling one often deals with situations where counting is impossible. Hence, probability is interpreted as a degree of belief.\n",
    ":::"
   ]
  },
  {
   "cell_type": "markdown",
   "metadata": {},
   "source": [
    "### Probabilistic world of complex many particle systems"
   ]
  },
  {
   "cell_type": "markdown",
   "metadata": {},
   "source": [
    ":::{figure-md} markdown-fig\n",
    "<img src=\"./figs/2d_gas_simulation.gif\" alt=\"compton\" class=\"bg-primary mb-1\" width=\"300px\">\n",
    "\n",
    "Characterizing many particle complex systems is best done via probabilistic approach. \n",
    ":::"
   ]
  },
  {
   "cell_type": "markdown",
   "metadata": {},
   "source": [
    "- What is the probability to find a gas in upper right corner cell?\n",
    "- What is the probability that all gas atoms will be in left side of the box?\n",
    "- What is the probability distribution of velocities of the gas?"
   ]
  },
  {
   "cell_type": "markdown",
   "metadata": {},
   "source": [
    ":::{figure-md} markdown-fig\n",
    "<img src=\"./figs/1d_random_walk.gif\" alt=\"compton\" class=\"bg-primary mb-1\" width=\"300px\">\n",
    "\n",
    "Simulations of a Random Walk in 1D\n",
    ":::"
   ]
  },
  {
   "cell_type": "markdown",
   "metadata": {},
   "source": [
    "- What is the probability of finding molecule away from center by n steps out of N?\n",
    "- How do we obtain probability distribution after N steps given probability for 1 step?\n",
    "- Why is there tendency for probability distributions to evolve towards Gaussian?"
   ]
  },
  {
   "cell_type": "markdown",
   "metadata": {
    "editable": true,
    "slideshow": {
     "slide_type": "slide"
    },
    "tags": []
   },
   "source": [
    "### Sample space\n",
    "\n",
    "- The **sample space**, often signified by an $\\Omega$ is a set of **all possible elementary events**. \n",
    "- Elementary means the events can not be further broken down into simpler events. For instance, rolling a die can result in any one of six elementary events.\n",
    "- States of $\\Omega$ are sampled during a system trial, which could be done via an experiment or simulation. "
   ]
  },
  {
   "cell_type": "markdown",
   "metadata": {
    "editable": true,
    "slideshow": {
     "slide_type": "slide"
    },
    "tags": []
   },
   "source": [
    "-  If our trial is a single roll of a six-sided die, then the sample has size $n(\\Omega) = 6$\n",
    "\n",
    "$$\\Omega =\\{1, 2, 3, 4, 5, 6 \\}$$\n",
    "\n",
    "- A fair coin is tossed once has a sample size $n(\\Omega) = 2$\n",
    "\n",
    "$$\\Omega = \\{H, T \\}$$\n",
    "\n",
    "- If a fair coin is tossed three times in a row, we will have sample space of size $n(\\Omega) = 2^3$ \n",
    "\n",
    "$$\\Omega = \\{H,T\\}^{3}= {HTT, THT, TTH, THH, HTH, HHT, HHH, TTT}$$\n",
    "\n",
    "- Position of an atom in a container of size $L_x$ along x. $n(\\Omega)$ is a huge number. We will need some special tools to quantify. \n",
    "\n",
    "$$\\Omega = \\{0... L_x\\}$$ "
   ]
  },
  {
   "cell_type": "markdown",
   "metadata": {
    "editable": true,
    "slideshow": {
     "slide_type": "slide"
    },
    "tags": []
   },
   "source": [
    "### Events, micro and macro states\n",
    "\n",
    "- An event in probability theory refers to an outcome of an experiment. Event can contain one or more elementary events from $\\Omega$. \n",
    "\n",
    "- Event can be getting getting 5 on a die or getting any number less than 5. \n",
    "\n",
    "- In the context of statistical mechanics, we are going to call elementary events in $\\Omega$ **microstates** and events containing multiple microstates as **macrostates** \n",
    "\n",
    "    - If we roll a single die there are six micostates. We can define a macrostate as an event $A$ of getting any number less than 4\n",
    "\n",
    "    $$A= \\{1, 2, 3 \\}$$\n",
    "\n",
    "    - Or we can create a macrostate $B$ containing only even numbers\n",
    "\n",
    "    $$B = \\{2, 4, 6 \\}$$\n",
    "\n",
    "    - IF we roll toss two coins microstates are HT, TH, HH, TT. We can define a macrostate $D$ of having 50% H and 50% T \n",
    "\n",
    "    $$D = \\{TH, HT\\}$$\n",
    "\n",
    "    - A microstate of a gas atom in 1D container could be its position x. A macrostate could be finding atom anywehere in the second half of the container\n",
    "\n",
    "    $$C  = \\{L_x/2, ..., L_x \\} $$\n"
   ]
  },
  {
   "cell_type": "markdown",
   "metadata": {
    "editable": true,
    "slideshow": {
     "slide_type": "slide"
    },
    "tags": []
   },
   "source": [
    "### Compute probabilities through counting "
   ]
  },
  {
   "cell_type": "markdown",
   "metadata": {
    "editable": true,
    "slideshow": {
     "slide_type": "slide"
    },
    "tags": []
   },
   "source": [
    ":::{admonition} **probabilities of events as fractions in the sample space**\n",
    ":class: important\n",
    "\n",
    "$$\n",
    "{ P(A) = \\frac{n(A)}{n(\\Omega)}}\n",
    "$$\n",
    "\n",
    "- $n(A)$ probability of event, e.g rolling an even number. The size of the event space is 3\n",
    "- $n(\\Omega)$ size of sample space. In the context of single die roll is equal 6\n",
    "\n",
    ":::"
   ]
  },
  {
   "cell_type": "markdown",
   "metadata": {
    "editable": true,
    "slideshow": {
     "slide_type": "slide"
    },
    "tags": []
   },
   "source": [
    "#### Visualizing events as Venn diagrams"
   ]
  },
  {
   "cell_type": "code",
   "execution_count": 10,
   "metadata": {
    "editable": true,
    "slideshow": {
     "slide_type": "fragment"
    },
    "tags": []
   },
   "outputs": [
    {
     "data": {
      "text/plain": [
       "<matplotlib_venn._common.VennDiagram at 0x17c58c3d0>"
      ]
     },
     "execution_count": 10,
     "metadata": {},
     "output_type": "execute_result"
    },
    {
     "data": {
      "image/png": "[encoded data removed]",
      "text/plain": [
       "<Figure size 640x480 with 1 Axes>"
      ]
     },
     "metadata": {},
     "output_type": "display_data"
    }
   ],
   "source": [
    "# COllab has this but in local notebook you may want to install it\n",
    "#!pip install matplotlib-venn #install if running locally\n",
    "import matplotlib_venn as venn\n",
    "import matplotlib.pyplot as plt\n",
    "\n",
    "Omega = {1,2,3,4,5,6}\n",
    "\n",
    "A = {1, 2, 3, 4, 5}\n",
    "\n",
    "B = {4, 5, 6}\n",
    "\n",
    "venn.venn2([A, B], set_labels=('A','B'))\n",
    "\n",
    "print(len(A)/len(Omega))\n",
    "print(len(B)/len(Omega))\n",
    "print(len(A & B)/len(Omega))\n",
    "print(len(A | B)/len(Omega))"
   ]
  },
  {
   "cell_type": "markdown",
   "metadata": {
    "editable": true,
    "slideshow": {
     "slide_type": "slide"
    },
    "tags": []
   },
   "source": [
    "### Probability Axioms\n",
    "\n",
    ":::{admonition} Positivity and Normalization\n",
    ":class: important \n",
    " \n",
    "$$P(A) \\ge 0$$\n",
    " \n",
    "$$P(\\Omega)=1$$\n",
    "\n",
    "> Probability of rolling each number is 1/6 and rolling any number is 1.\n",
    ":::\n",
    "\n",
    ":::{admonition} Addition rule\n",
    ":class: important \n",
    " \n",
    "For any sequence of **mutually exclusive** events, $A_i \\cap A_j = \\emptyset $, the probability of their union is the sum of their probabilities,\n",
    " \n",
    "$$P\\left( A_1 \\cup A_2 \\cup \\ldots \\right) = P\\left(A_1\\right) + P\\left(A_2\\right) + \\ldots$$\n",
    "\n",
    "> Probability of die rolling even number is: $1/6+1/6+1/6$\n",
    "::: \n",
    "\n",
    "\n",
    ":::{admonition} Product rule\n",
    ":class: important  \n",
    " \n",
    "When independent events  $A_i \\cap A_j = \\emptyset$, the probability of their intersection is a product of their probabilities\n",
    " \n",
    "$$P\\left( A_1 \\cap A_2 \\cap \\ldots \\right) = P\\left(A_1\\right) \\cdot P\\left(A_2\\right) \\cdot \\ldots$$\n",
    "\n",
    "> Probability of rolling twice getting 3 and 5 is: $\\frac{1}{6}\\cdot \\frac{1}{6}$\n",
    "\n",
    "::: \n",
    "\n",
    ":::{admonition} Complement\n",
    ":class: important \n",
    " \n",
    "Given that $A \\cap \\bar A=\\emptyset$ and $A \\cup \\bar A=\\Omega$.\n",
    " \n",
    " $$P(\\bar A)=1-P(A)$$\n",
    "\n",
    "> the probability of not rolling a number: $1-\\frac{1}{6}$\n",
    ":::\n",
    " \n",
    ":::{admonition} Conditional probability and Bayes Theorem\n",
    ":class: important \n",
    " \n",
    "Knowledge of past events may change the probability of future events\n",
    " \n",
    "$$P(A,B)=P(A|B)P(B)=P(B|A)P(A)$$\n",
    "\n",
    "> the probability of getting 4 given that we have rolled an even number: $p(4|even) = \\frac{p(even|4)p(4)}{p(even)}=\\frac{1\\cdot 1/6}{1/2}=1/3$\n",
    "::: "
   ]
  },
  {
   "cell_type": "markdown",
   "metadata": {},
   "source": [
    "### Bayes Theorem"
   ]
  },
  {
   "cell_type": "markdown",
   "metadata": {},
   "source": [
    ":::{figure-md} markdown-fig\n",
    "<img src=\"./figs/bayes.png\" alt=\"compton\" class=\"bg-primary mb-1\" width=\"500px\">\n",
    "\n",
    "**Joint Probability $P(A,B)$:** Quantifies the probability of two or more events happening simultaneously. **Marginal Probability $P(A)$:** Quantifies the probability of an event irrespective of the outcomes of other random variables. Is obtained by marginalization, summing over all possibilities of B. **Conditional Probability $P(A|B)$:** Quantifies probability of event A given the information that event B happened.\n",
    "\n",
    ":::"
   ]
  },
  {
   "cell_type": "markdown",
   "metadata": {},
   "source": [
    "::::{admonition} **Example of Using Bayes Formula to Test Hypothesis**\n",
    "\n",
    "- A test for cancer is known to be 90% accurate either in detecting cancer if present or in giving an all-clear if cancer is absent.\n",
    "- The prevalence of cancer in the population is 1%. How worried should you be if you test positive? Try answering this question using Bayes’ theorem.\n",
    "\n",
    ":::{dropdown} **Solution**\n",
    "\n",
    "- Accuracy of a test (how often positives show up when cancer is certain)\n",
    "\n",
    "$$P(+|X) = 0.9 \\\\ P(-|X^c)=0.9$$\n",
    "\n",
    "- Only 1% of the population has cancer; hence, we get the probability of an individual having (not having) cancer as:\n",
    "\n",
    "$$P(X)=0.01\\,\\,\\,\\,hence\\,\\,\\,\\,\\,\\,\\, P(X^c)=1-P(X)=0.99$$\n",
    "\n",
    "- Now we have all terms to compute $p(X|+)$ probability of disease given the positive test. \n",
    "\n",
    "$$P(X|+) = \\frac{P(+|X)p(X)}{p(+)} = \\frac{P(+|X)p(X)}{p(+|X)p(X)+p(+| X^c)p(X^c)} =  \\frac{0.9\\cdot 0.01}{0.9\\cdot 0.01+0.1\\cdot 0.99} = 0.083$$\n",
    ":::\n",
    "\n",
    "::::"
   ]
  },
  {
   "cell_type": "markdown",
   "metadata": {
    "@deathbeds/jupyterlab-fonts": {
     "styles": {
      "": {
       "body[data-jp-deck-mode='presenting'] &": {
        "zoom": "145%"
       }
      }
     }
    },
    "editable": true,
    "slideshow": {
     "slide_type": "slide"
    },
    "tags": []
   },
   "source": [
    ":::{admonition} **Prior, Posterior, and Likelihood**  \n",
    ":class: tip, dropdown\n",
    "\n",
    "Bayes' theorem provides a powerful framework for testing hypotheses or learning model parameters from data. While the mathematical formulation remains the same, the terminology used in Bayesian inference differs from the standard probability notation:\n",
    "\n",
    "$$\n",
    "P(\\theta | D) = \\frac{P(D | \\theta) \\cdot P(\\theta)}{P(D)}\n",
    "$$\n",
    "\n",
    "where:  \n",
    "\n",
    "- **Prior**: $P(\\theta)$ represents our initial belief about the hypothesis or parameter before observing the data. For example, if we are tossing a coin, a reasonable prior might be a gaussian centered at $1/2$ or take unifrom distribution in absence of information.\n",
    "\n",
    "- **Evidence**: $P(D)$ is the probability of the observed data, also known as the **marginal likelihood**. It accounts for all possible parameter values and normalizes the posterior. For example, it is the probability of obtaining a specific sequence, such as $HTHH$, given all possible biases of the coin.  \n",
    "\n",
    "- **Likelihood**: $P(D | \\theta)$ describes how probable the observed data is for a given parameter $\\theta$. E.g for sequence of $HTHH$ it will be $L(\\theta)=\\theta^3(1-\\theta)$ giving probability of landing three H and 1 T. \n",
    "\n",
    "- **Posterior**: $P(\\theta | D)$ is the updated probability of the hypothesis after incorporating the observed data. This is the key quantity in Bayesian inference, as it represents our revised belief about $\\theta$ given the data.  We can take value of $\\theta$ corresponding to maximum of posterior to be most likely value of our parameter. For our case of uniform prior and likelhood the maxima will be $\\theta = 3/4$ as we may expect. \n",
    "\n",
    "\n",
    ":::"
   ]
  },
  {
   "cell_type": "markdown",
   "metadata": {
    "editable": true,
    "slideshow": {
     "slide_type": "slide"
    },
    "tags": []
   },
   "source": [
    "### Computing number of microstates via combinatorics\n",
    "\n",
    "**Binomial Distribution (Two-State Systems)**  \n",
    "\n",
    "When molecules can be in **two states** (e.g., adsorbed vs. free, spin-up vs. spin-down), the number of ways to arrange $N$ molecules into **state A** $k$ and **state B** $N-k$ follows:  \n",
    "\n",
    "$$\n",
    "W(N, n) = \\binom{N}{n} = \\frac{N!}{N!(N-n)!}\n",
    "$$  \n",
    "\n",
    "- For example, if $N$ gas molecules distribute between two parts of the box or spins occupying two energy levels, this formula gives the number of microstates for a given occupation $k$.  \n",
    "\n",
    "**Multinomial Distribution (Multiple States)**  \n",
    "\n",
    "For systems with **more than two states**, such as molecules distributed among **$m$ energy levels**, the number of ways to assign $N$ molecules into states $n_1, n_2, ..., n_m$ with  $\\sum n_i = N$ is:  \n",
    "\n",
    "$$\n",
    "W(n_1, n_2, ..., n_m) = \\frac{N!}{n_1! n_2! \\cdots n_m!}.\n",
    "$$  "
   ]
  },
  {
   "cell_type": "markdown",
   "metadata": {
    "editable": true,
    "slideshow": {
     "slide_type": "slide"
    },
    "tags": []
   },
   "source": [
    "::::{admonition} **Example: partitioning gas particles**\n",
    "\n",
    "Consider a container filled with 1000 atoms of Ar.\n",
    "\n",
    ":::{dropdown} What is the probability that the left half has 400 atoms?\n",
    "\n",
    "$$n(A) = \\frac{1000!}{400! \\cdot 600 !}$$\n",
    "\n",
    ":::\n",
    "\n",
    ":::{dropdown} What is the probability that the left half has 500 atoms?\n",
    "\n",
    "$$n(B) = \\frac{1000!}{500! \\cdot 500 !}$$\n",
    ":\n",
    "::\n",
    "\n",
    ":::{dropdown} What is a probability that 1/3 has 100 next 1/3 has 200 and next 1/3 has 700?\n",
    "\n",
    " $$n(C) = \\frac{1000!}{100!\\cdot 200! \\cdot 700!}$$\n",
    "\n",
    ":::\n",
    "\n",
    ":::{dropdown} What is the total number of all possible partitionings or states of gas atoms in a container?\n",
    "\n",
    "$$n(S) = \\sum^{n=N}_{n=0}\\frac{N!}{n!\\cdot (N-n)!} = 2^N$$ \n",
    "\n",
    "Each N lattice site in the container can be vacant or filled with $2^N$ states. \n",
    ":::\n",
    "\n",
    "::::"
   ]
  },
  {
   "cell_type": "markdown",
   "metadata": {
    "@deathbeds/jupyterlab-fonts": {
     "styles": {
      "": {
       "body[data-jp-deck-mode='presenting'] &": {
        "opacity": "100%",
        "z-index": "2",
        "zoom": "222%"
       }
      }
     }
    },
    "editable": true,
    "slideshow": {
     "slide_type": "slide"
    },
    "tags": []
   },
   "source": [
    "::::{admonition} **Example: spins**\n",
    "\n",
    "Solid metal has 100 atoms. Magnetic measurements show that there are 10 atoms with spin down. If ten atoms are chosen at random, what is the probability that they all have spin up? \n",
    "\n",
    ":::{dropdown} **Solution**\n",
    "\n",
    "- The total number of ways to choose any 10 atoms out of 100, regardless of spin is:\n",
    "\n",
    "$$n(S) = \\frac{100!}{10!(90)!}$$\n",
    "\n",
    "- The number of ways to choose 10 atoms out of 90 with spin up is:\n",
    "$$n(up) = \\frac{90!}{10!(80)!}$$\n",
    "\n",
    "- Probability of picking 10 up spins is:\n",
    "\n",
    "$$p(up) =\\frac{n(up)}{n(S)}$$\n",
    "\n",
    ":::\n",
    "\n",
    "::::"
   ]
  },
  {
   "cell_type": "code",
   "execution_count": 55,
   "metadata": {
    "editable": true,
    "slideshow": {
     "slide_type": "slide"
    },
    "tags": []
   },
   "outputs": [
    {
     "name": "stdout",
     "output_type": "stream",
     "text": [
      "1.0089134454556417e+29\n",
      "1.977470353093058e+33\n"
     ]
    }
   ],
   "source": [
    "def gas_partition(k1=30, k2=30, k3=30):\n",
    "    '''partitioning N gas molecules into regions k1, k2 and k3'''\n",
    "\n",
    "    from scipy.special import factorial\n",
    "\n",
    "    N = k1+k2+k3 \n",
    "\n",
    "    return factorial(N) / (factorial(k1) * factorial(k2)* factorial(k3))\n",
    "\n",
    "print( gas_partition(k1=50, k2=50, k3=0) )\n",
    "\n",
    "print( gas_partition(k1=50, k2=49, k3=1) )\n",
    "\n",
    "print( gas_partition(k1=50, k2=25, k3=25) )\n",
    "\n",
    "print( gas_partition(k1=34, k2=33, k3=33) )\n"
   ]
  },
  {
   "cell_type": "markdown",
   "metadata": {},
   "source": [
    "### Strinling approximation of factorial and binomials\n",
    "\n",
    ":::{admonition} **Stitrling approximation of N!**\n",
    ":class: important\n",
    "\n",
    "- This is the crude version of Stirling approximation that works out for $N\\gg 1$\n",
    "\n",
    "$$logN! \\approx \\sum log N_i = \\int log N dN \\approx NlogN-N $$\n",
    "\n",
    "$${N! \\approx N^N e^{-N}}$$\n",
    "\n",
    "- A more accurate version is:\n",
    "\n",
    "$${N! \\approx N^N e^{-N} \\sqrt{2\\pi N}}$$\n",
    "\n",
    ":::"
   ]
  },
  {
   "cell_type": "code",
   "execution_count": null,
   "metadata": {
    "tags": [
     "hide-input"
    ]
   },
   "outputs": [],
   "source": [
    "import numpy as np\n",
    "import matplotlib.pyplot as plt\n",
    "import scipy.special as sp\n",
    "\n",
    "# Define range for N\n",
    "N_values = np.arange(1, 100, 1)\n",
    "\n",
    "# Exact factorial using log(N!)\n",
    "log_fact_exact = np.log(sp.factorial(N_values))\n",
    "\n",
    "# Crude Stirling approximation\n",
    "log_fact_crude = N_values * np.log(N_values) - N_values\n",
    "\n",
    "# More accurate Stirling approximation\n",
    "log_fact_accurate = N_values * np.log(N_values) - N_values + 0.5 * np.log(2 * np.pi * N_values)\n",
    "\n",
    "# Plot comparisons\n",
    "plt.figure(figsize=(10, 6))\n",
    "plt.plot(N_values, log_fact_exact, label=\"Exact $\\log N!$\", color=\"black\", linewidth=2)\n",
    "plt.plot(N_values, log_fact_crude, label=\"Crude Stirling Approximation\", linestyle=\"--\", color=\"red\", linewidth=2)\n",
    "plt.plot(N_values, log_fact_accurate, label=\"Accurate Stirling Approximation\", linestyle=\":\", color=\"blue\", linewidth=2)\n",
    "\n",
    "plt.xlabel(\"N\")\n",
    "plt.ylabel(\"$\\log N!$\")\n",
    "plt.title(\"Comparison of Stirling Approximations for $\\log N!$\")\n",
    "plt.legend()\n",
    "plt.grid(True)\n",
    "plt.show()\n"
   ]
  },
  {
   "cell_type": "markdown",
   "metadata": {},
   "source": [
    "### Random Walk\n",
    "\n",
    "- Consider a problem with a **binary outcome,** with fixed probabilities $p_{+} + p_{-} = 1$.  \n",
    "- A clssic example is **Random walk** of N steps where molecules jumps right ($+1$) or left ($-1$) with fixed probabilities. \n",
    "    - Other examples are tossing $N$ coins or counting $N$ non-interacting molecules in the left vs right hand side of a container.  \n",
    "\n",
    "- Each experiment generates a sequence—e.g., $+1, -1, -1, -1, +1$ for a random walk or $HTHTTT$ for coin flips. \n",
    "- Such a sequence represents a **single microstate** in the sample space of all possible sequences which is $\\Omega=2^N$. \n",
    "    - For **unbiased random walk** $p_{+} = p_{-} = 1/2$, **all microstates are equally probable** and equal to $\\frac{1}{2^N}$. \n",
    "    - For **biased random walk** $p_{+} \\neq p_{-}$ the probability of microstates (sequence) is determined by the **product of step probabilities** (becasue steps are independent)\n",
    "\n",
    ":::{admonition} **Probability of a sequence (microstate)**\n",
    ":class: important\n",
    "\n",
    "$$p(sequence) = p_{+}^{N_{+}} \\cdot p_{-}^{N_{-}}$$\n",
    ":::\n",
    "\n",
    "- A more interesting question is the probability of taking $N_{+}$ steps to the right, or having a net displacement of $\\Delta N $, regardless of the sequence of events.\n",
    "\n",
    "$$\n",
    "N_{+} + N_{-} = N\n",
    "$$\n",
    "\n",
    "$$\n",
    "N_{+} - N_{-} = \\Delta N\n",
    "$$\n",
    "\n",
    "\n",
    ":::{admonition} **Probability of net number of steps or displacements (macrostate)**\n",
    ":class: important\n",
    "\n",
    "- **Probability of $N_{+}$ Steps to the Right** \n",
    "\n",
    "$$\n",
    "P(N_{+} | N, p_{+}) = \\frac{N!}{N_{+}! N_{-}!} \\cdot p_{+}^{N_{+}} \\cdot p_{-}^{N_{-}}\n",
    "$$\n",
    "\n",
    "- **Probability of $\\Delta N$ net displacement from the origin** \n",
    "\n",
    "$$\n",
    "P(\\Delta N | N, p_{+}) = \\frac{ N!}{ \\Big(\\frac{N+\\Delta N}{2}\\Big)! \\Big(\\frac{N-\\Delta N}{2}\\Big)!} \\cdot p_{+}^{(N+\\Delta N)/2} \\cdot p_{-}^{(N-\\Delta N)/2}\n",
    "$$\n",
    "\n",
    ":::\n"
   ]
  },
  {
   "cell_type": "code",
   "execution_count": null,
   "metadata": {
    "tags": [
     "hide-input"
    ]
   },
   "outputs": [],
   "source": [
    "import numpy as np\n",
    "import matplotlib.pyplot as plt\n",
    "from scipy.special import comb\n",
    "\n",
    "def P_x(N, x, p_plus):\n",
    "    \"\"\"Computes the binomial probability P(x|N, p_+)\"\"\"\n",
    "    if (N + x) % 2 != 0:  # Ensure x is valid (must be even relative to N)\n",
    "        return 0\n",
    "    k = (N + x) // 2\n",
    "    return comb(N, k) * (p_plus ** k) * ((1 - p_plus) ** (N - k))\n",
    "\n",
    "# Define parameters\n",
    "p_plus_unbiased = 0.5  # Unbiased case\n",
    "p_plus_biased = 0.7  # Biased case\n",
    "N_values = [10, 50, 100, 200]  # Different N values\n",
    "\n",
    "# Create a figure with two subplots\n",
    "fig, axes = plt.subplots(1, 2, figsize=(12, 5), sharey=True)\n",
    "\n",
    "# Colors for different N values\n",
    "colors = [\"blue\", \"green\", \"red\", \"purple\"]\n",
    "\n",
    "# Loop through different N values\n",
    "for i, N in enumerate(N_values):\n",
    "    x_vals = np.arange(-N, N + 1, 2)  # x values must be -N to N, in steps of 2\n",
    "    x_norm = x_vals / N  # Normalize x by N\n",
    "\n",
    "    # Compute probabilities using vectorized function\n",
    "    P_unbiased = np.array([P_x(N, x, p_plus_unbiased) for x in x_vals])\n",
    "    P_biased = np.array([P_x(N, x, p_plus_biased) for x in x_vals])\n",
    "\n",
    "    # Plot lines\n",
    "    axes[0].plot(x_norm, P_unbiased, marker=\"o\", linestyle=\"-\", label=f\"N={N}\", color=colors[i])\n",
    "    axes[1].plot(x_norm, P_biased, marker=\"o\", linestyle=\"-\", label=f\"N={N}\", color=colors[i])\n",
    "\n",
    "# Titles and labels\n",
    "axes[0].set_title(f\"Unbiased Coin ($p_+$ = {p_plus_unbiased})\")\n",
    "axes[0].set_xlabel(\"$x/N$\")\n",
    "axes[0].set_ylabel(\"$P(x)$\")\n",
    "axes[0].legend()\n",
    "\n",
    "axes[1].set_title(f\"Biased Coin ($p_+$ = {p_plus_biased})\")\n",
    "axes[1].set_xlabel(\"$x/N$\")\n",
    "axes[1].legend()\n",
    "\n",
    "plt.tight_layout()\n",
    "plt.show()\n"
   ]
  },
  {
   "cell_type": "markdown",
   "metadata": {},
   "source": [
    "### Log of probability leads us to Entropy and Energy \n",
    "\n",
    "$$log\\, p(N_{+}|N, p_{+}) =  {\\bigg[ log  \\frac{N!}{N_{+}! N_{-}!}\\bigg ]} + {log \\bigg[p_{+}^{N_{+}} \\cdot p_{-}^{N_{-}}\\bigg]} = {entropy} + {energy}$$"
   ]
  },
  {
   "cell_type": "markdown",
   "metadata": {},
   "source": [
    "#### Entropy as log of number of microstates in a macrostate\n",
    "\n",
    "$$\n",
    "\\log\\frac{N!}{N_{+}! \\cdot N_{-}!} \\approx N \\log N -N_{+} \\log N_{+} - N_{-} \\log N_{-}  = N \\Big[ -\\frac{N_{+}}{N} \\log\\frac {N_{+}}{N} - \\frac{N_{-}}{N} \\log \\frac{N_{-}}{N} \\Big]\n",
    "$$\n",
    "\n",
    "$$\n",
    "= N\\Big[-f_{+} \\log f_{+} - f_{-} \\log f_{-}\\Big] = N\\Big[-flog f + (1-f)log(1-f)\\Big] = N s(f)\n",
    "$$\n",
    "\n",
    "\n",
    "- Where we introduced fractions of steps going to the right/left, $f_{\\pm} = \\frac{N_{\\pm}}{N}$. Since these fractions are dependent we only have one variable to keep track of $f_{+}=f$ and $f_{-} = 1-f$\n",
    "\n",
    "- Note that **$p_{+}$ is fixed** while **$f_{+}$ is variable** becasue as we observe more steps fractions will fluctuate. For large  $N$, however, we exepct to get $f_{\\pm} \\rightarrow p_{\\pm}$. \n",
    "- A general expression will later be identified with **entropy $s =  -\\sum_i p_i \\log p_i$**where $p_i$ would be identified with microstate probabilities. \n",
    "\n",
    "#### Energy as the degree of bias or tilt\n",
    "\n",
    "- Taking the logarithm of the probability factor we get a term resembling an **energy-like function** $\\epsilon$ that tilts distribution to left or right depending on fraction of steps $f_{\\pm} = \\frac{N_{\\pm}}{N}$\n",
    "\n",
    "$$\n",
    "\\log \\Big[ p_{+}^{N_{+}} \\cdot p_{-}^{N_{-}} \\Big] = - N [ f_{+}log p_{+}+f_{-}log p_{-}] = -N \\epsilon(f)\n",
    "$$"
   ]
  },
  {
   "cell_type": "markdown",
   "metadata": {},
   "source": [
    ":::{admonition} Entropy expressed via **fractional displacement $x=\\frac{\\Delta N}{N}$**\n",
    ":class: tip, dropdown\n",
    "\n",
    "$$log \\frac{ N!}{ \\Big(\\frac{N+\\Delta N}{2}\\Big)! \\Big(\\frac{N-\\Delta N}{2}\\Big)!} = N \\Bigg [\\frac{1+x}{2} \\log \\frac{1+x}{2} - \\frac{1-x}{2} \\log \\frac{1-x}{2}\\Bigg ] = N s(x)$$\n",
    "\n",
    ":::\n",
    "\n",
    ":::{admonition} Energy term expressed via **fractional displacement $x=\\frac{\\Delta N}{N}$**\n",
    ":class: tip, dropdown\n",
    "\n",
    "$$\n",
    "\\log \\Big[ p_{+}^{(N+\\Delta N)/2} \\cdot p_{-}^{(N-\\Delta N)/2} \\Big] = - N\\Big [ \\frac{1}{2}\\log ( p_{+} p_{-}) + \\frac{x}{2}  \\log \\frac{p_{+}}{p_{-}} \\Big] = -N \\epsilon(x)\n",
    "$$\n",
    "\n",
    "- The term $\\frac{1}{2} (\\log p_{+} + \\log p_{-})$ is a **baseline** energy-like term.\n",
    "- The term $\\frac{x}{2} (\\log p_{+} - \\log p_{-})$ represents the **bias** introduced by the displacement $l$, tilting the distribution towards $p_+$ or $p_-$.\n",
    "\n",
    ":::"
   ]
  },
  {
   "cell_type": "markdown",
   "metadata": {},
   "source": [
    "### Large Deviation Theory  \n",
    "\n",
    "- Putting everything together we find that probability of observing fraction of steps $f_{\\pm} = \\frac{N_{\\pm}}{N}$ is governed by a rate function $I(f)$, with $N$ appearing as a linear factor:  \n",
    "\n",
    "  $$\n",
    "  \\log P_{N}(f) \\approx -N \\big(\\epsilon(f) - s(f) \\big) = -N I(f).\n",
    "  $$\n",
    "\n",
    "- When there are $N$ steps, molecules, or components, the probability distribution over the fraction of steps $f$ tends to concentrate near the minima of $I(f)$. This follows from a general mathematical property of probability distributions known as the **large deviation theorem**.  "
   ]
  },
  {
   "cell_type": "markdown",
   "metadata": {},
   "source": [
    ":::{admonition} **Large Deviation Theorem (LDT)**\n",
    ":class: important\n",
    "\n",
    "- **Large deviation function $I(f)$:** dictates both the shape and decay of probability distributions in the large-$N$ limit.  \n",
    "\n",
    "$$\n",
    "P_N (f) \\sim e^{-N I(f)}.\n",
    "$$\n",
    "\n",
    "- **Example of $I(f)$ for Random Walk:** Determines how deviations of $f_+$ from $ p_+$ are exponentially suppressed as $N$ increases.\n",
    "\n",
    "$$\n",
    "I(f) = f_+ \\log \\frac{f_+}{p_+} + f_- \\log \\frac{f_-}{p_-}\n",
    "$$\n",
    "\n",
    ":::"
   ]
  },
  {
   "cell_type": "code",
   "execution_count": null,
   "metadata": {
    "tags": [
     "hide-input"
    ]
   },
   "outputs": [],
   "source": [
    "# Re-import required libraries since execution state was reset\n",
    "import numpy as np\n",
    "import matplotlib.pyplot as plt\n",
    "\n",
    "# Define parameters\n",
    "p_plus = 0.7  # Biased probability\n",
    "p_minus = 1 - p_plus  # Complementary probability\n",
    "\n",
    "# Define range for f_+\n",
    "f_plus_values = np.linspace(0.01, 0.99, 200)  # Avoid log(0) issues\n",
    "f_minus_values = 1 - f_plus_values  # f_- = 1 - f_+\n",
    "\n",
    "# Compute entropy component s(f_+)\n",
    "s_values = -(f_plus_values * np.log(f_plus_values) + f_minus_values * np.log(f_minus_values))\n",
    "\n",
    "# Compute energy component ε(f_+)\n",
    "epsilon_values = - (f_plus_values * np.log(p_plus) + f_minus_values * np.log(p_minus))\n",
    "\n",
    "# Compute large deviation rate function I(f_+)\n",
    "I_values = f_plus_values * np.log(f_plus_values / p_plus) + f_minus_values * np.log(f_minus_values / p_minus)\n",
    "\n",
    "# Compute probability P_N(f_+) using large deviation approximation\n",
    "N = 50  # Arbitrary large N\n",
    "P_x_values = np.exp(-N * I_values)  # Exponential suppression\n",
    "P_x_values /= np.trapz(P_x_values, f_plus_values)  # Normalize for probability density\n",
    "\n",
    "# Create subplots\n",
    "fig, axes = plt.subplots(1, 2, figsize=(12, 5))\n",
    "\n",
    "# First subplot: Entropy and Energy Components\n",
    "axes[0].plot(f_plus_values, s_values, label=r\"$s(f)$ (Entropy)\", color=\"blue\")\n",
    "axes[0].plot(f_plus_values, epsilon_values, label=r\"$\\epsilon(f_+)$ (Energy)\", color=\"green\")\n",
    "axes[0].plot(f_plus_values, I_values, label=r\"$I(f)$ (Rate Function)\", color=\"red\")\n",
    "axes[0].axvline(p_plus, linestyle=\"--\", color=\"black\", label=r\"$f_+ = p_+$\")\n",
    "axes[0].set_xlabel(r\"$f_+$\")\n",
    "axes[0].set_ylabel(\"Value\")\n",
    "axes[0].set_title(\"Entropy, Energy, and Rate Function\")\n",
    "axes[0].legend()\n",
    "axes[0].grid()\n",
    "\n",
    "# Second subplot: Probability Distribution P_N(f_+)\n",
    "axes[1].plot(f_plus_values, P_x_values, label=r\"$P_N(f_+)$\", color=\"purple\")\n",
    "axes[1].axvline(p_plus, linestyle=\"--\", color=\"black\", label=r\"$f_+ = p_+$\")\n",
    "axes[1].set_xlabel(r\"$f_+$\")\n",
    "axes[1].set_ylabel(r\"$P_N(f_+)$\")\n",
    "axes[1].set_title(\"Probability Distribution\")\n",
    "axes[1].legend()\n",
    "axes[1].grid()\n",
    "\n",
    "plt.tight_layout()\n",
    "plt.show()\n"
   ]
  },
  {
   "cell_type": "code",
   "execution_count": null,
   "metadata": {
    "tags": [
     "hide-input"
    ]
   },
   "outputs": [],
   "source": [
    "import numpy as np\n",
    "import matplotlib.pyplot as plt\n",
    "from scipy.special import comb\n",
    "\n",
    "def plot_large_deviation(N, theta, color):\n",
    "    \"\"\"Plots the large deviation approximation for given N and bias theta.\"\"\"\n",
    "    f = np.linspace(0.01, 0.99, 200)  # Avoid log(0) issues\n",
    "\n",
    "    # Compute the rate function I(f)\n",
    "    I = f * np.log(f / theta) + (1 - f) * np.log((1 - f) / (1 - theta))\n",
    "\n",
    "    # Compute normalized probability P_LDT(f) ∼ exp(-N I(f))\n",
    "    p_ldt = np.exp(-N * I)\n",
    "    p_ldt /= np.trapz(p_ldt, f)  # Normalize using trapezoidal rule for integration\n",
    "\n",
    "    plt.plot(f, p_ldt, color=color, linestyle=\"-\", linewidth=2, label=f\"LDT Approx. (N={N})\")\n",
    "\n",
    "def plot_binomial(N, theta, color):\n",
    "    \"\"\"Plots the exact binomial distribution for given N and bias theta.\"\"\"\n",
    "    n = np.arange(N + 1)\n",
    "    f = n / N  # Convert discrete counts to fractions\n",
    "\n",
    "    # Compute binomial probability mass function\n",
    "    prob = comb(N, n) * theta**n * (1 - theta)**(N - n)\n",
    "\n",
    "    # Normalize probability for direct comparison with LDT curve\n",
    "    prob /= np.trapz(prob, f)\n",
    "\n",
    "    plt.plot(f, prob, 'o', color=color, markersize=5, label=f\"Binomial (N={N})\")\n",
    "\n",
    "# Parameters\n",
    "theta = 0.5  # Fair coin\n",
    "Ns = [5, 10, 20, 50, 100]  # Different values of N\n",
    "colors = plt.cm.viridis(np.linspace(0.2, 0.8, len(Ns)))  # Use colormap for better distinction\n",
    "\n",
    "# Create the plot\n",
    "plt.figure(figsize=(8, 6))\n",
    "for i, N in enumerate(Ns):\n",
    "    plot_large_deviation(N, theta, colors[i])\n",
    "    plot_binomial(N, theta, colors[i])\n",
    "\n",
    "# Labels and formatting\n",
    "plt.xlabel(r\"$f_+$\", fontsize=14)\n",
    "plt.ylabel(r\"Probability Density\", fontsize=14)\n",
    "plt.title(\"Comparison of Binomial Distribution (Points) and Large Deviation Approximation (Lines)\", fontsize=12)\n",
    "plt.legend(loc=\"upper left\", fontsize=10)\n",
    "plt.grid()\n",
    "plt.show()\n"
   ]
  },
  {
   "cell_type": "markdown",
   "metadata": {},
   "source": [
    "### Gaussian nature of fluctuations\n",
    "\n",
    "- The Taylor expansion of the large deviation function around its minimum leads to a Gaussian distribution in the limit of small fluctuations. This is a key result in large deviation theory, often used to justify the Gaussian nature of fluctuations in equilibrium statistical mechanics. \n",
    "\n",
    "- Since $I(f)$ has a minimum at $f^*$, we expand it in a Taylor series around $f^*$:\n",
    "\n",
    "$$\n",
    "I(f) = I(f^*) + \\frac{1}{2} I''(f^*) (f - f^*)^2 + \\mathcal{O}((f - f^*)^3).\n",
    "$$\n",
    "\n",
    "- Since $I(f^*) = 0$ (by definition, the probability is maximal at $X^*$, we obtain:\n",
    "\n",
    "$$\n",
    "I(f) \\approx \\frac{1}{2} I''(f^*) (f - f^*)^2.\n",
    "$$\n",
    "\n",
    "- Using this expansion in the large deviation form,\n",
    "\n",
    "$$\n",
    "P(f) \\approx e^{-N I(f)} \\approx e^{-N \\frac{1}{2} I''(f^*) (f - f^*)^2} = e^{-\\frac{(f - f^*)^2}{2 \\sigma^2}}\n",
    "$$\n",
    "\n",
    "- Where we define the variance as $\\sigma^2 = \\frac{1}{N I''(f^*)}$. This is precisely a **Gaussian distribution** centered at $f^*$, with variance $\\sigma^2$. Note that f refers to fraction or normalized particle quantity $f = n/N$. You may also encounter distribution as a function of absolte particle numbers $P(n)$ \n",
    "\n",
    "- Thus, the Taylor expansion of the large deviation function around its minimum shows that, in the limit of small fluctuations large $N$, the probability distribution approximates a Gaussian. This result underpins why **equilibrium fluctuations in statistical physics and thermodynamics are often Gaussian.**"
   ]
  },
  {
   "cell_type": "markdown",
   "metadata": {},
   "source": [
    "### Appendix: Explicit derivations"
   ]
  },
  {
   "cell_type": "markdown",
   "metadata": {},
   "source": [
    ":::{admonition} Appendix A. **Gaussian or large $N$ limit of Binomial Distribution**\n",
    ":class: tip, dropdown  \n",
    "\n",
    "The binomial distribution for large values of $N$ has a sharply peaked distribution around its maximum (most likely) value $\\tilde{n}$. This motivates us to seek a continuous approximation by Taylor expanding the probability distribution around its maximum value $\\Delta n = n - \\tilde{n}$ and keeping terms up to quadratic order.\n",
    "\n",
    "$$\n",
    "P_N(n) = \\frac{N!}{n! (N - n)!} p^{n} (1-p)^{N-n}\n",
    "$$\n",
    "\n",
    "Thus, from the onset, we aim for a Gaussian distribution. The task is to find the coefficients and justify that the third term in the Taylor expansion is negligible compared to the second.\n",
    "\n",
    "$$\n",
    "\\log P(n) = \\log P(\\tilde{n}) + \\frac{1}{2} B_2 \\Delta n^2 + O(\\Delta n^3)\n",
    "$$\n",
    "\n",
    "$$\n",
    "\\log P(n) = \\log N! - \\log n! - \\log( N - n)! + n \\log(p) + N_{-} \\log(1-p)\n",
    "$$\n",
    "\n",
    "We evaluate the derivative of $\\log n!$ in the limit of $n \\gg 1$ as:\n",
    "\n",
    "$$\n",
    "\\frac{d}{dn} \\log n! = \\frac{\\log(n+1)! - \\log n!}{n+1 - n} \\approx \\log(n+1) \\approx \\log(n)\n",
    "$$\n",
    "\n",
    "- We could also arrive at the same result by using Stirling's approximation $\\log N! \\approx N \\log N - N$.\n",
    "- Taking the first derivative of the Taylor expansion for the binomial distribution, we find the peak of the distribution around which we expand:\n",
    "\n",
    "$$\n",
    "\\frac{d}{dn} \\log P(n) \\Big|_{n = \\tilde{n}} = - \\log n + \\log(N - n) + \\log(p) - \\log(1-p) = 0\n",
    "$$\n",
    "\n",
    "$$\n",
    "\\log \\left( \\frac{N - n}{n} \\cdot \\frac{p}{1 - p} \\right) = 0 \\quad \\Rightarrow \\quad \\tilde{n} = N p\n",
    "$$\n",
    "\n",
    "- We recall that $\\tilde{n} = N p$ is also the mean of the binomial distribution!\n",
    "- Having found the peak of the distribution and knowing the first derivative, we now proceed to compute the second derivative:\n",
    "\n",
    "$$\n",
    "B_2 = \\frac{d^2}{d n^2} \\log P(n) \\Big|_{n = \\tilde{n}}\n",
    "$$\n",
    "\n",
    "$$\n",
    "= \\frac{d}{dn} \\log \\left( \\frac{N - n}{n} \\cdot \\frac{p}{1 - p} \\right) = \\left( -\\frac{1}{N - n} - \\frac{1}{n} \\right) \\Bigg|_{n = \\tilde{n}} = -\\frac{1}{N p(1 - p)}\n",
    "$$\n",
    "\n",
    "- While the first derivative gave us the mean of the binomial distribution, we notice that the second derivative produces the variance $\\sigma^2 = N p (1 - p)$.\n",
    "- Now, all that remains is to plug the coefficients into our approximated probability distribution and normalize it. Why normalize? The binomial was already properly normalized, but since we made an approximation by neglecting higher-order terms, we must re-normalize.\n",
    "\n",
    "$$\n",
    "P(n) \\approx P(\\tilde{n}) e^{-(n - \\tilde{n})^2 / 2N p (1 - p)}\n",
    "$$\n",
    "\n",
    "- Normalizing the Gaussian distribution is done via the following integral:\n",
    "\n",
    "$$\n",
    "\\int_{-\\infty}^{+\\infty} e^{-a x^2} dx = \\left(\\frac{\\pi}{a}\\right)^{1/2}\n",
    "$$\n",
    "\n",
    "$$\n",
    "\\int P(\\tilde{n}) e^{-(n - \\tilde{n})^2 / 2N p (1 - p)} dn = P(\\tilde{n}) (2\\pi N p (1 - p))^{1/2} = 1\n",
    "$$\n",
    "\n",
    "- Finally, we obtain the normalized Gaussian approximation to the binomial distribution:\n",
    "\n",
    "$$\n",
    "P(n) \\approx \\frac{1}{(2\\pi N p (1 - p))^{1/2}} e^{-(n - \\tilde{n})^2 / 2N p (1 - p)} = \\frac{1}{(2\\pi \\sigma^2)^{1/2}} e^{-(n - \\mu)^2 / 2\\sigma^2}\n",
    "$$\n",
    ":::"
   ]
  },
  {
   "cell_type": "markdown",
   "metadata": {},
   "source": [
    ":::{admonition} Appendix B. **Poisson limit or the limit of large $N$ and small $p$ such that $Np=const$**\n",
    ":class: tip, dropdown \n",
    "\n",
    "- This is a situation of rare events like rains in forest or radioactive decay of uranium where each individual event has small chance of happening $p \\rightarrow 0$  yet there are large number of samples $N\\rightarrow \\infty$ such that one has a constant average rate of events $\\lambda = pN = const$\n",
    "- In this limit distirbution is no longer well described by the gaussian as the shape of distribution is heavily skewed due to tiny values of p.\n",
    "\n",
    "$$P_N(n) = \\frac{N!}{n! (N-n)!} p^n (1-p)^{(N-n)}$$\n",
    "\n",
    "- Writing factorial $N!/(N-n)!$ explicitely we realize that it is dominated $N^n$ and also $N-n \\approx N$\n",
    "\n",
    "$$P_N(n) = \\frac{N(N-1)...(N-1+1))}{n!} p^n (1-p)^{(N-n)} \\approx \\frac{N^n}{n!} p^n (1-p)^{N}$$\n",
    "\n",
    "- Next let us plug in $\\lambda = pN = const$ and recall the definition of exponential $lim_{x\\rightarrow \\infty }(1-1/x)^x = e^{-x}$\n",
    "\n",
    "$$P(n) = \\frac{N^n}{n!} \\Big( \\frac{\\lambda}{N} \\Big)^n \\Big( 1-\\frac{\\lambda}{N} \\Big)^{N} = \\frac{\\lambda^n}{n!} \\Big( 1-\\frac{\\lambda}{N} \\Big)^{N} \\approx \\frac{\\lambda^n}{n!} e^{-\\lambda}$$\n",
    ":::"
   ]
  },
  {
   "cell_type": "markdown",
   "metadata": {},
   "source": [
    ":::{admonition} **Example of Gaussian limit of Large Deviation function for random walk**\n",
    ":class: note, dropdown\n",
    "\n",
    "\n",
    "The large deviation rate function for a simple random walk is given by:\n",
    "\n",
    "$$\n",
    "I(f) = f_+ \\log \\frac{f_+}{p_+} + f_- \\log \\frac{f_-}{p_-}\n",
    "$$\n",
    "\n",
    "where $f_+$ and $f_-$ are empirical step probabilities, and $p_+$, $p_-$ are their expected values with $p_+ + p_- = 1$.\n",
    "\n",
    "**Expansion Around the Minimum**\n",
    "\n",
    "The function $I(f)$ is minimized at $f_+ = p_+$, $f_- = p_-$. Introducing small deviations $\\delta f$:\n",
    "\n",
    "$$\n",
    "f_+ = p_+ + \\delta f, \\quad f_- = p_- - \\delta f.\n",
    "$$\n",
    "\n",
    "Expanding the logarithms:\n",
    "\n",
    "$$\n",
    "\\log \\frac{p_+ + \\delta f}{p_+} \\approx \\frac{\\delta f}{p_+} - \\frac{(\\delta f)^2}{2 p_+^2}, \\quad\n",
    "\\log \\frac{p_- - \\delta f}{p_-} \\approx -\\frac{\\delta f}{p_-} - \\frac{(\\delta f)^2}{2 p_-^2}.\n",
    "$$\n",
    "\n",
    "Substituting into $I(f)$, the linear terms cancel, and we obtain:\n",
    "\n",
    "$$\n",
    "I(f) \\approx \\frac{(\\delta f)^2}{2} \\left( \\frac{1}{p_+} + \\frac{1}{p_-} \\right).\n",
    "$$\n",
    "\n",
    "**Gaussian Limit**\n",
    "\n",
    "By the large deviation principle:\n",
    "\n",
    "$$\n",
    "P(f) \\approx e^{-N I(f)} = e^{-N \\frac{(\\delta f)^2}{2} \\left( \\frac{1}{p_+} + \\frac{1}{p_-} \\right)} = e^{- \\frac{(\\delta f)^2}{2 p_{+}p_{-}/N} }\n",
    "$$\n",
    "\n",
    "This is a Gaussian with variance:\n",
    "\n",
    "$$\n",
    "\\sigma^2 = \\frac{p_+ p_-}{N}.\n",
    "$$\n",
    "\n",
    "Thus, the empirical frequency $f_+$ follows a Gaussian distribution in the large $N$ limit. \n",
    "\n",
    ":::\n"
   ]
  },
  {
   "cell_type": "markdown",
   "metadata": {},
   "source": [
    "### Problems"
   ]
  },
  {
   "cell_type": "markdown",
   "metadata": {},
   "source": [
    "#### Problem 1: Counting Dies and coins\n",
    " \n",
    " You flip a coin 10 times and record the data in the form\n",
    "of head/tails or 1s and 0s\n",
    "-  What would be the probability of ladning 4 H's?\n",
    "-  What would be the probability of landing HHHTTTHHHT sequence?\n",
    "-  In how many ways can we have 2 head and 8 tails in this experiments?\n",
    "-  Okay, now you got tired of flipping coins and decide to play some dice. You throw die\n",
    "10 times what is the probability of never landing number 6?\n",
    "- You throw a die 3 times what is the probability of obtaining a combined sum of 7?"
   ]
  },
  {
   "cell_type": "markdown",
   "metadata": {
    "editable": true,
    "slideshow": {
     "slide_type": ""
    },
    "tags": []
   },
   "source": [
    "#### Problem 2: Counting gas molecules\n",
    "\n",
    "$$C^{N}_{k}$$\n",
    "\n",
    "A container of volume $V$ contains $N$ molecules of a gas. We assume that the gas is dilute so that the position of any one molecule is independent of all other molecules. Although the density will be uniform on the average, there are fluctuations in the density. Divide the volume $V$ into two parts $V_1$ and $V_2$, where $V = V_1 + V_2$. \n",
    "- What is the probability p that a particular molecule is in each part? \n",
    "- What is the probability that $N_1$ molecules are in $V_1$ and $N_2$ molecules are in $V_2$? \n",
    "- What is the average number of molecules in each part? \n",
    "- What are the relative fluctuations of the number of particles in each part?"
   ]
  },
  {
   "cell_type": "markdown",
   "metadata": {
    "editable": true,
    "slideshow": {
     "slide_type": ""
    },
    "tags": []
   },
   "source": [
    "#### Project [Porosity of materials](https://en.wikipedia.org/wiki/Porosity)\n",
    "\n",
    "A simple model of a porous rock can be imagined by placing a series of overlap- ping spheres at random into a container of fixed volume $V$ . The spheres represent the rock and the space between the spheres represents the pores. If we write the volume of the sphere as v, it can be shown the fraction of the space between the spheres or the porosity $\\phi$ is $\\phi =e^{-Nv/V}$, where $N$ is the number of spheres. \n",
    "\n",
    "For simplicity, consider a 2D system, (e.g $v=\\frac{1}{4}\\pi d^2$, see [wiki](https://en.wikipedia.org/wiki/Area_of_a_circle) if you forgot the formula). \n",
    "Write a python function which place disks of $d=1$ into a square box. The disks can overlap. Divide the box into square cells each of which has an edge length equal to the diameter of the disks. Find the probability of having 0, 1, 2, or 3 disks in a cell for $\\phi$ = 0.03, 0.1, and 0.5.\n",
    "\n",
    "> You will need [np.random.uniform()](https://docs.scipy.org/doc/numpy-1.14.0/reference/generated/numpy.random.uniform.html) to randomly place N disks of volume v into volume V. \n",
    "> Check out this cool python lib for porosity evaluation of materials [R Shkarin, et al Plos Comp Bio 2019](https://journals.plos.org/plosone/article/file?id=10.1371/journal.pone.0215137&type=printable)"
   ]
  }
 ],
 "metadata": {
  "celltoolbar": "Slideshow",
  "kernelspec": {
   "display_name": "Python 3 (ipykernel)",
   "language": "python",
   "name": "python3"
  },
  "language_info": {
   "codemirror_mode": {
    "name": "ipython",
    "version": 3
   },
   "file_extension": ".py",
   "mimetype": "text/x-python",
   "name": "python",
   "nbconvert_exporter": "python",
   "pygments_lexer": "ipython3",
   "version": "3.9.16"
  },
  "latex_envs": {
   "LaTeX_envs_menu_present": true,
   "autoclose": false,
   "autocomplete": true,
   "bibliofile": "biblio.bib",
   "cite_by": "apalike",
   "current_citInitial": 1,
   "eqLabelWithNumbers": true,
   "eqNumInitial": 1,
   "hotkeys": {
    "equation": "Ctrl-E",
    "itemize": "Ctrl-I"
   },
   "labels_anchors": false,
   "latex_user_defs": false,
   "report_style_numbering": false,
   "user_envs_cfg": false
  },
  "livereveal": {
   "theme": "sky"
  },
  "toc": {
   "base_numbering": 1,
   "nav_menu": {},
   "number_sections": true,
   "sideBar": true,
   "skip_h1_title": false,
   "title_cell": "Table of Contents",
   "title_sidebar": "Contents",
   "toc_cell": true,
   "toc_position": {},
   "toc_section_display": true,
   "toc_window_display": false
  },
  "widgets": {
   "application/vnd.jupyter.widget-state+json": {
    "state": {},
    "version_major": 2,
    "version_minor": 0
   }
  }
 },
 "nbformat": 4,
 "nbformat_minor": 4
}
