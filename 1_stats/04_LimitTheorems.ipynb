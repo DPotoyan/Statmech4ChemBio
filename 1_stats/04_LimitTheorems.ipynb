{
 "cells": [
  {
   "cell_type": "markdown",
   "metadata": {},
   "source": [
    "# Appendix B: Limit theorems"
   ]
  },
  {
   "cell_type": "code",
   "execution_count": null,
   "metadata": {
    "slideshow": {
     "slide_type": "slide"
    }
   },
   "outputs": [],
   "source": [
    "import matplotlib.pyplot as plt\n",
    "\n",
    "import seaborn as sns\n",
    "import numpy as np\n",
    "import scipy as sp\n",
    "from scipy.stats import binom, norm, poisson, expon, uniform\n",
    "import holoviews as hv"
   ]
  },
  {
   "cell_type": "markdown",
   "metadata": {
    "slideshow": {
     "slide_type": "slide"
    }
   },
   "source": [
    "### Limit Theorems  and [the Laws of Large Numbers](https://en.wikipedia.org/wiki/Law_of_large_numbers)\n",
    "\n",
    "#### Sample mean and variance\n",
    "Consider a sequence $X_1, X_2, \\ldots$ of **i.i.d. (independent identically distributed)** random variables with mean $\\mu$ and variance $\\sigma^2$. \n",
    "\n",
    "We define a partial sum  or **sample sum** of the random variables as: \n",
    "\n",
    "$$S_n = \\sum_{i=1}^n X_i$$\n",
    "\n",
    "becasue of **independence** of random variables we have\n",
    "\n",
    "$$V\\left(S_n\\right) = \\sum_{i=1}^n V\\left(X_i\\right) = n \\sigma^2$$\n",
    "\n",
    "$$E\\left(S_n\\right) = \\sum_{i=1}^n E\\left(X_i\\right) = n \\mu$$\n",
    "\n",
    "Similarly we can the **sample mean** as  \n",
    "\n",
    "$$M_n = \\frac{1}{n}\\sum_{i=1}^n X_i = \\frac{S_n}{n}$$\n",
    "\n",
    "which has expected value and variance\n",
    "\n",
    "$$E\\left[M_n\\right] = \\mu$$  \n",
    "\n",
    "$$V\\left(M_n\\right) = \\frac{\\sigma^2}{n}$$\n",
    "\n",
    "Notice that the variance of the sample mean decreases to zero as *n* increases, implying that most of the probability distribution for $M$ is close to the mean value.\n",
    "\n",
    "Most importatnly we see that sample mean converges to true value with variance gowing down as $n^{-1/2}$\n",
    "\n",
    "$$\\boxed{\\frac{V(M_n)^{1/2}}{E(M_n)} = \\frac{1}{n^{1/2}}\\frac{\\sigma}{\\mu }}$$\n",
    "\n",
    "#### De-meaned and scaled RVs\n",
    "\n",
    "We also introduce a convenient **de-meaned** and **scaled** random variable \n",
    "\n",
    "$$Z_n = \\frac{M_n - \\mu}{V^{1/2}(M_n)} =  \\frac{S_n - n\\mu}{\\sigma \\sqrt{n}}$$\n",
    "\n",
    "for which \n",
    "\n",
    "$$E\\left[Z_n\\right] = 0$$\n",
    "\n",
    "$$V\\left(Z_n\\right) = 1$$"
   ]
  },
  {
   "cell_type": "markdown",
   "metadata": {
    "slideshow": {
     "slide_type": "slide"
    }
   },
   "source": [
    "### Markov Inequality \n",
    "If a RV *X* can only take nonnegative values, then\n",
    "\n",
    "$$P\\left(X \\ge a \\right) \\le \\frac{E\\left[X\\right]}{a}$$\n",
    "\n",
    "$$\\forall a \\gt 0$$"
   ]
  },
  {
   "cell_type": "markdown",
   "metadata": {
    "slideshow": {
     "slide_type": "slide"
    }
   },
   "source": [
    "### Chebyshev Inequality \n",
    "\n",
    "If *X* is a RV with mean $\\mu$ and variance $\\sigma^2$, then\n",
    "\n",
    "$$P\\left(\\left| X - \\mu \\right| \\ge c \\right) \\le \\frac{\\sigma^2}{c^2} \\,\\,\\,\\,\\, \\forall c \\gt 0$$\n",
    "\n",
    "An alternative form of the Chebyshev inequality is obtained by letting $c=k\\sigma$ where *k* is postive. This gives\n",
    "\n",
    "$$P\\left(\\left| X - \\mu \\right| \\ge k\\sigma \\right) \\le \\frac{1}{k^2} $$\n",
    "\n",
    "which indicates that the probability of an observation of the random variable *X* being more than *k* standard deviations from the mean is less than or equal to $1/k^2$ "
   ]
  },
  {
   "cell_type": "markdown",
   "metadata": {
    "slideshow": {
     "slide_type": "slide"
    }
   },
   "source": [
    "### Weak and Strong Law of Large Numbers \n",
    "\n",
    "- **Weak Law:** \n",
    "Let $X_1, X_2, \\ldots$ be i.i.d. RVs with mean $\\mu$. For **every** $\\epsilon > 0$ \n",
    "\n",
    "$$\\lim_{n\\rightarrow \\infty} P\\left(\\left|M_n - \\mu \\right| \\ge \\epsilon \\right)= 0$$\n",
    "\n",
    "- **Strong Law:** \n",
    "The strong law of large numbers states that the sample average converges almost surely to the expected value\n",
    "\n",
    "$$ P(\\lim_{n\\rightarrow \\infty} M_n =\\mu)= 1$$"
   ]
  },
  {
   "cell_type": "markdown",
   "metadata": {
    "slideshow": {
     "slide_type": "slide"
    }
   },
   "source": [
    "### Convergence in Probability \n",
    "\n",
    "Let $Y_1, Y_2, \\ldots$ be a sequence of RVs, *not necessarily independent*, and let *a* be a real number. We say that the sequence $Y_n$ **converges to** *a* **in probability** if for every $\\epsilon \\gt 0$ we have\n",
    "\n",
    "$$\\lim_{n\\rightarrow 0} P\\left( \\left| Y_n -a \\right|  \\gt \\epsilon \\right) = 0$$\n",
    "\n",
    "This implies that the probability distribution of the random variables, $Y_n$ converges to a distribution that is contained within a space of width $2\\epsilon$ around the point *a*. However this says nothing about the shape of the distribution. \n",
    "\n",
    "This can be rephrased in the following way: For every $\\epsilon \\gt 0$ and for any $\\delta \\gt 0$, there exists $n_0$ such that\n",
    "\n",
    "$$ P\\left( \\left| Y_n -a \\right|  \\gt \\epsilon \\right) \\le \\delta \\,\\,\\,\\,\\, \\forall n \\ge n_0$$\n",
    "\n",
    "where $\\epsilon$ is known as the **accuracy** and $\\delta$ is known as the **confidence**."
   ]
  },
  {
   "cell_type": "markdown",
   "metadata": {
    "slideshow": {
     "slide_type": "slide"
    }
   },
   "source": [
    "### The Central Limit Theorem  (CLT)\n",
    "\n",
    "\n",
    "Let $X_1, X_2, \\ldots $ be a sequence of i.i.d. random variables with common mean $\\mu$ and variance $\\sigma^2$. Define zero mean and unit variance sum:\n",
    "\n",
    "$$Z_n = \\frac{\\sum_{i=1}^n (X_i - n\\mu)}{\\sigma \\sqrt{n}}$$\n",
    "\n",
    "Then, the **PDF** of $Z_n$ converges to the standard normal PDF\n",
    "\n",
    "$$P\\left(z\\right) \\sim  e^{-z^2/2}$$\n",
    "\n",
    "\n",
    "> Note that there is an implicit assumption that the **mean and variance**, $\\mu$ and $\\sigma^2$, **are finite**. This does not hold for certain power law distributed RVs."
   ]
  },
  {
   "cell_type": "markdown",
   "metadata": {
    "slideshow": {
     "slide_type": "slide"
    }
   },
   "source": [
    "### Large Deviation Theorem (LDT)"
   ]
  },
  {
   "cell_type": "markdown",
   "metadata": {},
   "source": [
    "Sum of N random variables $X_i$ tends to a distribution which is exponentially suppressing deviaions from the mean $Y=\\frac{1}{N} \\sum X_i$ with coefficient N and rate function $I(y)$\n",
    "\n",
    "$$P_N(y)= Ce^{-N I(y)}$$"
   ]
  },
  {
   "cell_type": "markdown",
   "metadata": {},
   "source": [
    "$$ I(y)=I(y_0)+\\frac{1}{2!} I''(y_0) (y-y_0)^2$$"
   ]
  },
  {
   "cell_type": "markdown",
   "metadata": {},
   "source": [
    "As N increases the LDT tends to CLT result that is gaussian distribution. "
   ]
  },
  {
   "cell_type": "markdown",
   "metadata": {},
   "source": [
    "### References\n",
    "\n",
    "**Limit Theorems and PDFs**\n",
    "\n",
    "- [ Intro to Probability by Grinstead & Snell's, 2012](https://www.amazon.com/Introduction-Probability-Charles-M-Grinstead/dp/0821894145/ref=sr_1_2?keywords=grinstead+snell&qid=1580828540&sr=8-2#customerReviews)\n",
    "- [Probability for the Enthusiastic Beginner by DJ Morin, 2016](https://www.amazon.com/Probability-Enthusiastic-Beginner-David-Morin/dp/1523318678/ref=pd_sbs_14_2/143-1917920-7901730?_encoding=UTF8&pd_rd_i=1523318678&pd_rd_r=c40c1b9c-9f20-4569-97da-77d9734c34fb&pd_rd_w=1QlKP&pd_rd_wg=m6CoU&pf_rd_p=670e3530-913b-43e2-8005-da937e9a4fe8&pf_rd_r=HXQ2D2F8ZM7CMQSXB1EP&psc=1&refRID=HXQ2D2F8ZM7CMQSXB1EP)\n",
    "- [Introduction to Probability by Hossein Pishro-Nik, 2014](https://www.amazon.com/Introduction-Probability-Charles-M-Grinstead/dp/0821894145/ref=sr_1_2?keywords=grinstead+snell&qid=1580828540&sr=8-2#customerReviews)\n",
    "- [All of Statistics by Larry Wasserman, 2004](https://www.amazon.com/All-Statistics-Statistical-Inference-Springer/dp/0387402721/ref=pd_sbs_14_9?_encoding=UTF8&pd_rd_i=0387402721&pd_rd_r=b2d61494-2ccb-4885-a0a4-43c232335dfe&pd_rd_w=GCMqV&pd_rd_wg=p9Afm&pf_rd_p=670e3530-913b-43e2-8005-da937e9a4fe8&pf_rd_r=XRGGZ9XS1SXMAT68HDF9&psc=1&refRID=XRGGZ9XS1SXMAT68HDF9)\n",
    "\n",
    " - [Probability and Random Processes by Grimmet and Stirzaker, 2001](https://www.amazon.com/Probability-Random-Processes-Geoffrey-Grimmett/dp/0198572220/ref=sr_1_1?keywords=stirzaker&qid=1580829691&s=books&sr=1-1)\n",
    "\n",
    "**Large Deviation Theory** \n",
    "\n",
    "- [A basic introduction to large deviations: Theory, applications, simulations](https://arxiv.org/abs/1106.4146)\n",
    "\n",
    "- [The large deviation approach to statistical mechanics](https://arxiv.org/abs/0804.0327)\n",
    "\n",
    "- [Large deviations of random walks on random graphs](https://arxiv.org/abs/1808.00700)\n",
    " \n",
    "- [VIDEO: Large deviations of Markov processes](https://www.youtube.com/watch?v=I1PRP14QXVE) "
   ]
  }
 ],
 "metadata": {
  "kernelspec": {
   "display_name": "Python 3 (ipykernel)",
   "language": "python",
   "name": "python3"
  },
  "language_info": {
   "codemirror_mode": {
    "name": "ipython",
    "version": 3
   },
   "file_extension": ".py",
   "mimetype": "text/x-python",
   "name": "python",
   "nbconvert_exporter": "python",
   "pygments_lexer": "ipython3",
   "version": "3.9.10"
  },
  "latex_envs": {
   "LaTeX_envs_menu_present": true,
   "autoclose": false,
   "autocomplete": true,
   "bibliofile": "biblio.bib",
   "cite_by": "apalike",
   "current_citInitial": 1,
   "eqLabelWithNumbers": true,
   "eqNumInitial": 1,
   "hotkeys": {
    "equation": "Ctrl-E",
    "itemize": "Ctrl-I"
   },
   "labels_anchors": false,
   "latex_user_defs": false,
   "report_style_numbering": false,
   "user_envs_cfg": false
  },
  "toc": {
   "base_numbering": 1,
   "nav_menu": {},
   "number_sections": true,
   "sideBar": true,
   "skip_h1_title": false,
   "title_cell": "Table of Contents",
   "title_sidebar": "Contents",
   "toc_cell": false,
   "toc_position": {},
   "toc_section_display": true,
   "toc_window_display": false
  }
 },
 "nbformat": 4,
 "nbformat_minor": 4
}
