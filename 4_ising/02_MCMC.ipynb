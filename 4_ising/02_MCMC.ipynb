{
 "cells": [
  {
   "cell_type": "markdown",
   "metadata": {
    "id": "HrNpG_LzFbuj"
   },
   "source": [
    "# Ising models and Metropolis algorithm"
   ]
  },
  {
   "attachments": {},
   "cell_type": "markdown",
   "metadata": {
    "id": "B3Yjz-JqFbuq"
   },
   "source": [
    ":::{admonition} **What you will learn**\n",
    "\n",
    "- Ising models are minimal models used to phase transitions. \n",
    "- The Ising model is defined by a Hamiltonian that encodes both the interaction between neighboring spins $i$ and $j$ (for nearest neighbors, $|i - j| = 1$), and the interaction of spins with an external field $B$:\n",
    "- Markov Chain Monte Carlo (MCMC) presents an straightforward and affordable way of simulating ising models. \n",
    "- The particularly simple and efficient formulation of MCMC for ising models is given by Metropolis selection criteria. \n",
    ":::\n"
   ]
  },
  {
   "cell_type": "markdown",
   "metadata": {},
   "source": [
    "### Hamiltonian of a 2D Ising model\n",
    "\n",
    ":::{admonition} **Ising Model**\n",
    ":class: important\n",
    "\n",
    "$${H([s]) = - \\sum_{<ij>} J s_i s_j - h \\sum_i s_i}$$\n",
    "\n",
    "$${Z = \\sum_{[s]} e^{-H([s])/k_B T}}$$\n",
    "\n",
    "- Each spin variable takes values $s_i = \\pm 1$\n",
    "- $[s] = [s_1, s_2, \\dots]$ denotes a microstate defined by the configuration of all spins  \n",
    "- Parameters of the Ising model: $h$ is the external magnetic field, and $J$ is the spin–spin coupling strength  \n",
    "- The summation $<ij>$ is over **nearest-neighbor** spin pairs\n",
    "\n",
    ":::"
   ]
  },
  {
   "attachments": {},
   "cell_type": "markdown",
   "metadata": {},
   "source": [
    "### Extracting thermodynamics from Ising models\n",
    "\n",
    "- We can compute thermodynamic quantities from spin configurations generated during Ising model simulations. \n",
    "\n",
    "- One key observable is the total or per spin **magnetization**, which measures the net alignment of spins.\n",
    "\n",
    "$$M([s]) = \\sum_i s_i$$\n",
    "\n",
    "$$m([s]) = \\frac{1}{N} \\sum_i s_i = \\frac{M}{N}$$\n",
    "\n",
    "- We can calculate probability of macrostate defined to include all spin configurations with a fixed value of magnetization $M$.\n",
    "\n",
    "$$P(M) = \\frac{Z(M)}{Z} = \\frac{\\sum_{[s]} e^{-\\beta H([s])} \\, \\delta(M - M([s]))}{Z}$$\n",
    "\n",
    "- From this, we can compute the **free energy** as a function of magnetization $M$\n",
    "\n",
    "$$F(M) = -\\beta^{-1} \\log Z(M) + const$$\n",
    "\n",
    "- This magnetization-dependent free energy tells us about the relative stability and likelihood of different magnetization states in the system. Near phase transitions, $F(M)$ may develop multiple minima, corresponding to coexisting phases.\n",
    "\n",
    "\n",
    "### Extracting Response functions \n",
    "\n",
    "To quantify **fluctuations** in energy and magnetization, we compute the following **response functions**:\n",
    "\n",
    "- **Heat capacity**, $C_V$, measures energy fluctuations:\n",
    "\n",
    "$$C_V(T) = \\left( \\frac{\\partial \\langle E \\rangle}{\\partial T} \\right)_V = \\frac{1}{k_B T^2} \\left( \\langle E^2 \\rangle - \\langle E \\rangle^2 \\right)$$\n",
    "\n",
    "- **Magnetic susceptibility**, $\\chi_T$, measures magnetization fluctuations in response to an external field $B$:\n",
    "\n",
    "$$\\chi_T = \\left( \\frac{\\partial \\langle M \\rangle}{\\partial B} \\right)_T = \\frac{1}{k_B T} \\left( \\langle M^2 \\rangle - \\langle M \\rangle^2 \\right)$$\n",
    "\n",
    "These response functions become particularly important near critical points, where fluctuations are enhanced, and $C_V$ and $\\chi_T$ may diverge in the thermodynamic limit.\n"
   ]
  },
  {
   "attachments": {},
   "cell_type": "markdown",
   "metadata": {},
   "source": [
    "### Setting up the spin lattice "
   ]
  },
  {
   "cell_type": "code",
   "execution_count": null,
   "metadata": {
    "id": "dpVMe8amFbuq",
    "outputId": "e15d0b8f-4221-472d-83a9-b3bf44193e51"
   },
   "outputs": [
    {
     "name": "stdout",
     "output_type": "stream",
     "text": [
      "[[ 1 -1  1 -1 -1  1 -1  1]\n",
      " [ 1  1 -1 -1  1 -1 -1 -1]\n",
      " [ 1 -1 -1 -1  1  1  1 -1]\n",
      " [-1 -1  1  1 -1  1  1 -1]\n",
      " [-1 -1 -1 -1  1 -1  1  1]\n",
      " [ 1  1 -1  1 -1  1 -1 -1]\n",
      " [ 1  1 -1  1  1 -1 -1 -1]\n",
      " [-1 -1  1 -1 -1 -1 -1  1]]\n"
     ]
    },
    {
     "data": {
      "text/plain": [
       "<matplotlib.image.AxesImage at 0x7fa5c0d6f9a0>"
      ]
     },
     "execution_count": 3,
     "metadata": {},
     "output_type": "execute_result"
    },
    {
     "data": {
      "image/png": "[encoded data removed]",
      "text/plain": [
       "<Figure size 432x288 with 1 Axes>"
      ]
     },
     "metadata": {
      "needs_background": "light"
     },
     "output_type": "display_data"
    }
   ],
   "source": [
    "import matplotlib.pyplot as plt\n",
    "import numpy as np\n",
    "\n",
    "spins = np.random.choice([-1,1],size=(8,8))\n",
    "\n",
    "print(spins)\n",
    "\n",
    "plt.imshow(spins)"
   ]
  },
  {
   "cell_type": "markdown",
   "metadata": {
    "id": "LBBclNXcFbur"
   },
   "source": [
    "### Enforcing periodic boundary conditions"
   ]
  },
  {
   "cell_type": "markdown",
   "metadata": {},
   "source": [
    "- In the **Ising model with periodic boundary conditions**, the **modulo operation** is used to wrap around the edges of the lattice—so that spins on one edge interact with those on the opposite edge. \n",
    "- This effectively turns a 2D grid into a torus (doughnut shape), avoiding edge effects and mimicking an infinite system.\n",
    "\n",
    "- Consider a 2D lattice of size $ L \\times L $. For a site at position $ (i, j) $, its **right neighbor** is at $ (i, j+1) $. But if $ j = L - 1 $, then $ j+1 $ exceeds the lattice. To **wrap around**, we use:\n",
    "\n",
    "$$\n",
    "j_{\\text{right}} = (j + 1) \\mod L\n",
    "$$\n",
    "\n",
    "- This brings the index back to $ 0 $ when it exceeds $ L - 1 $.\n"
   ]
  },
  {
   "cell_type": "code",
   "execution_count": null,
   "metadata": {},
   "outputs": [],
   "source": [
    "L = 10  # Lattice size\n",
    "spins = np.random.choice([-1,1], size=(L, L))\n",
    "\n",
    "i, j = 3, 9  # Current spin\n",
    "\n",
    "# Neighbors with periodic boundary conditions\n",
    "right = spins[i][(j + 1) % L]\n",
    "left  = spins[i][(j - 1) % L]\n",
    "up    = spins[(i - 1) % L][j]\n",
    "down  = spins[(i + 1) % L][j]"
   ]
  },
  {
   "cell_type": "code",
   "execution_count": null,
   "metadata": {
    "tags": [
     "hide-input"
    ]
   },
   "outputs": [],
   "source": [
    "import numpy as np\n",
    "import matplotlib.pyplot as plt\n",
    "\n",
    "# Create a color map: default to gray, highlight tagged spin and neighbors\n",
    "color_map = np.full((L, L), 0.5)  # Gray background\n",
    "\n",
    "# Highlight neighbors (green) and tagged spin (red)\n",
    "color_map[i, j] = 1.0  # Red for the tagged spin\n",
    "\n",
    "color_map[i, (j + 1) % L] = 0.2  # Green-ish\n",
    "color_map[i, (j - 1) % L] = 0.2\n",
    "color_map[(i - 1) % L, j] = 0.2\n",
    "color_map[(i + 1) % L, j] = 0.2\n",
    "\n",
    "# Plotting\n",
    "fig, ax = plt.subplots(figsize=(6, 6))\n",
    "im = ax.imshow(color_map, cmap=\"coolwarm\", origin=\"upper\", vmin=0, vmax=1)\n",
    "\n",
    "# Overlay spin values\n",
    "for x in range(L):\n",
    "    for y in range(L):\n",
    "        spin = spins[x, y]\n",
    "        ax.text(y, x, f\"{spin}\", ha='center', va='center', color='black', fontsize=10)\n",
    "\n",
    "# Grid and labels\n",
    "ax.set_xticks(np.arange(L))\n",
    "ax.set_yticks(np.arange(L))\n",
    "ax.set_xticklabels([])\n",
    "ax.set_yticklabels([])\n",
    "ax.set_title(f\"Tagged spin at ({i}, {j}) and its neighbors\", fontsize=12)\n",
    "ax.grid(False)\n",
    "\n",
    "plt.tight_layout()\n",
    "plt.show()\n"
   ]
  },
  {
   "cell_type": "code",
   "execution_count": null,
   "metadata": {},
   "outputs": [],
   "source": [
    "def get_dE(spins, i, j, J=1, B=0):\n",
    "    '''Compute change in energy of 2D spin lattice \n",
    "    after flipping a spin at a location (i,j)''' \n",
    "    \n",
    "    N = len(spins)\n",
    "    \n",
    "    z  = spins[(i+1)%N, j] + spins[(i-1)%N, j] + \\\n",
    "             spins[i, (j+1)%N] + spins[i, (j-1)%N] \n",
    "             \n",
    "    dE = 2*spins[i,j]*(J*z + B)\n",
    "    \n",
    "    return dE"
   ]
  },
  {
   "attachments": {},
   "cell_type": "markdown",
   "metadata": {
    "id": "Hq1Fj7ZYFbuv"
   },
   "source": [
    "### Sampling Boltzmann distribution: MC vs MCMC\n",
    "\n",
    "- **Monte Carlo** appraoch to computing observables is simple: all we have to do is sample from the exponential distribution.\n",
    "\n",
    "$$P(E_i)= \\frac{e^{-\\beta E_i}}{\\sum_i e^{-\\beta E_i}}$$\n",
    "\n",
    "$$\\langle A\\rangle = \\sum_i A_iP(E_i) \\approx\\frac{1}{N}\\sum_{i=1}^N \\underbrace{A_i}_{{\\rm chosen}\\ {\\rm acc.}\\ {\\rm to}\\ P(E_i)}$$\n",
    "\n",
    "- **Problems with MC**\n",
    "    - There is an astronomical number of states, $i = 1... N^2$! \n",
    "    - Most of these microstates make exponentially small contribution to probability distribution! $P(E_i)$\n",
    "    - Brute force MC will not be efficient for sampling important portions of $P(E_i)$.\n"
   ]
  },
  {
   "cell_type": "markdown",
   "metadata": {
    "id": "SCHvA9c3Fbuw"
   },
   "source": [
    "### Generating chains! Master Equation and Detailed Balance"
   ]
  },
  {
   "attachments": {},
   "cell_type": "markdown",
   "metadata": {
    "id": "JF0pdQWjFbuw"
   },
   "source": [
    "**Random chain**\n",
    "\n",
    "- In simple MC each sampled state $X_i$ at step $i$ is independet of the next or previous steps. \n",
    "\n",
    "- Thus, MC sampling generates totally uncorrelated samples which is good for rapid convergence according to Central Limit Theorem. But as we remarked above the samples are most likely not covering important areas!\n",
    "\n",
    "$$P(X_N, ..., X_2, X_1) = P_N(X_N)\\cdot ... P_2(X_2) \\cdot P_1(X_1)$$"
   ]
  },
  {
   "attachments": {},
   "cell_type": "markdown",
   "metadata": {
    "id": "HmKNJsAaFbuw"
   },
   "source": [
    "**Markov chain:**\n",
    "\n",
    "- In simple MCMC each sampled state $X_i$ at steo $i$ is generated from $i-1$.\n",
    "- This introduces correlations between samples which means slower covnergence to the mean.\n",
    "- On the other hand MCMC find the important areas for sampling much faster so in the hand it wins big compared to MC.\n",
    "\n",
    "$$P(X_N, ..., X_2, X_1) = P_N(X_N)\\cdot ... P_3(X_3| X_2) \\cdot P_2(X_2| X_1)... P_1(X_1)$$\n",
    "\n",
    "\n",
    "- The probability of picking state $i+1$ given taht we started from $i$ is referred to as **transition probability** $T_{ij}$ \n",
    "\n",
    "$$T_{21} = T(X_2 \\leftarrow X_1) = P(X_2|X_1)$$\n",
    "\n",
    "- As a probability it should be normalized:\n",
    "\n",
    "$$\\sum_{X} T_{XX'} = 1$$"
   ]
  },
  {
   "cell_type": "markdown",
   "metadata": {
    "id": "XazLP_chFbuw"
   },
   "source": [
    "- Probability of being at $X$ at $t+\\Delta t$ given a prior state at $(X',t)$ can be written in terms of $T_{XX'}$ as:\n",
    "\n",
    "$$P(X, t+\\Delta t) = \\sum_{X'}  T_{XX'} P(X', t)$$\n",
    "\n",
    "- Subtracting P(X,t) from both states we can obtain equation of motion for Markov chain.\n",
    "\n",
    "$$P(X, t+\\Delta t) -P(X,t)= \\sum_{X'}  T_{XX'} P(X', t) - P(X, t)\\sum_{X'} T_{X'X}$$\n",
    "\n",
    "- Defining **transition rates** as the limit of $w_{X'X} = lim_{\\Delta t \\rightarrow 0}\\frac{T_{X'X} (\\Delta t)}{\\Delta t}$ we arrive at the master equation\"\n",
    "\n",
    ":::{admonition} **Master equation: A continuity equation in probability space.**\n",
    ":class: important\n",
    "\n",
    "$$\\frac{\\partial P(X,t)}{\\partial t} = \\sum_{X'}  w_{X X'} P(X', t) - \\sum_{X'} w_{X' X} P(X, t)$$\n",
    "\n",
    "\n",
    "\n",
    ":::\n"
   ]
  },
  {
   "cell_type": "markdown",
   "metadata": {},
   "source": [
    "From maset equation we see that in order to reach equilibrium probability must stop depending on time. There are two possibilities:\n",
    "\n",
    "\n",
    "$$\\frac{\\partial P(X,t)}{\\partial t}  = \\sum_{X'} P(X', t) w_{XX'} - \\sum_{X'} P(X, t) w_{X' X}=0$$\n",
    "\n",
    "- When the sum is equl zero becasue influx and outflux of probabiity currents cancel each out. This corresponds to steady state condition and is not true equilbroum for there are macroscopic fluxes in the system.\n",
    "- When every single pairs is identically zero, this is known as detailed balance condition which is equivalent to thermodynamic equilibrium. "
   ]
  },
  {
   "attachments": {},
   "cell_type": "markdown",
   "metadata": {
    "id": "ME3G3GWZFbuw"
   },
   "source": [
    "\n",
    "\n",
    ":::{admonition} **Detailed Balance $\\equiv$ Condition for equilibrium**\n",
    "\n",
    "$${  w_{ij}\\cdot p_j =  w_{ji} \\cdot p_i  }$$\n",
    "\n",
    ":::"
   ]
  },
  {
   "attachments": {},
   "cell_type": "markdown",
   "metadata": {
    "id": "aAlB9n2gFbuw"
   },
   "source": [
    "**Master equation for a two state dynamics**\n",
    "\n",
    "$$\\frac{dP(x_1,t)}{dt} = w_{12} p_2 - w_{21} p_1$$\n",
    "\n",
    "$$\\frac{dP(x_2,t)}{dt} = w_{21} p_1  -  w_{12} p_2$$\n",
    "\n",
    "- In the equilibrium we see that equilibrium is established when probability ratio matches the ratio of tranistions $\\frac{p_1}{p_2} = \\frac{w_{12}}{w_{21}}$\n",
    "- In the $NVT$ ensemble we have an explicit requirment for transition rates $\\frac{p_1}{p_2} = e^{-\\beta (E_1-E_2)} = \\frac{w_{12}}{w_{21}}$"
   ]
  },
  {
   "cell_type": "markdown",
   "metadata": {
    "id": "LN-Uv_2EFbux"
   },
   "source": [
    "### How to pick the moves for Markov chain?"
   ]
  },
  {
   "cell_type": "markdown",
   "metadata": {
    "id": "tYuh2xA0Fbux"
   },
   "source": [
    "- Now it is time to consider practical aspects of conducting MCMC. How to pick states and transitions?\n",
    "\n",
    "$$[transition] =  [accept/reject] \\cdot [move]$$\n",
    "\n",
    "$$T(X' \\leftarrow X) = \\alpha_{X' X}\\cdot A_{X' X} $$\n",
    "\n",
    "- We have great freedom in picking states and moves as long as we satisfy the detailed balance! E.g as long as the ratio of transition probabilities matches ration of Botlzman factors!"
   ]
  },
  {
   "cell_type": "markdown",
   "metadata": {
    "id": "NhuvPj8dFbux"
   },
   "source": [
    "- The simplest case for move is to pick one spins at random per iteration:\n",
    "\n",
    "$$\\alpha_{X' X} = \\frac{1}{L^2}$$ \n",
    "\n",
    "- For transitions we adopt criteria that favors our chain to explore low energy (high probability) configurations:\n",
    "\n",
    "- If $p(X') < p(X),\\,\\,\\,\\,$ $A_{X'X}=\\frac{p(X')}{p(X)}$\n",
    "- If $p(X') \\geq p(X),\\,\\,\\,$ $A_{X'X}=1$\n",
    "\n",
    "$$\\frac{T_{X'X}}{T_{XX'}} = \\frac{1/L^2}{1/L^2} \\cdot \\frac{p(X')/p(X)}{1}$$"
   ]
  },
  {
   "cell_type": "markdown",
   "metadata": {
    "id": "kVcIdI1eFbux"
   },
   "source": [
    ":::{admonition} **Metropolis algorithm**\n",
    ":class: tip\n",
    "\n",
    "\n",
    "**${ i. \\ Initialization.}$**  \n",
    "Generate an initial spin configuration $[s_0] = (s_1, \\dots, s_N)$, either by assigning all spins the same value or choosing each spin randomly as $ +1 $ or $ -1 $.\n",
    "\n",
    "**${ ii. \\ Attempt\\ spin\\ flip.}$**  \n",
    "Randomly select a spin and flip it (i.e., multiply by $-1$). This produces a trial configuration $[s_1]$.\n",
    "\n",
    "\n",
    "\n",
    "**${iii. \\ Accept/Reject\\ move.}$**  \n",
    "Compute the energy difference between the trial and original configurations:  \n",
    "\n",
    "$$\\Delta E = E_1 - E_0$$\n",
    "\n",
    "Determine the acceptance probability:  \n",
    "\n",
    "$$w = \\frac{P[s_1]}{P[s_0]} = \\exp(-\\beta \\Delta E)$$\n",
    "\n",
    "Generate a random number $ r \\in [0, 1] $ and apply the Metropolis criterion:\n",
    "\n",
    "- **(a)** If $ r \\leq w $, accept the move: set $ [s_0] \\leftarrow [s_1] $\n",
    "- **(b)** If $ r > w $, reject the move: retain $ [s_0] $\n",
    "\n",
    "Return to step **ii** to continue sampling.\n",
    "\n",
    ":::"
   ]
  },
  {
   "cell_type": "markdown",
   "metadata": {},
   "source": [
    "### Code for running 2D ising MCMC Simulations\n",
    "\n",
    "- If numba is installed, uncomment to benfit from jit acceleration!\n",
    "- To speed benchmarks to assess how long simulation would take"
   ]
  },
  {
   "cell_type": "code",
   "execution_count": null,
   "metadata": {
    "id": "v_lLp3T3Fbux",
    "tags": [
     "hide-input"
    ]
   },
   "outputs": [],
   "source": [
    "from numba import njit\n",
    "import numpy as np\n",
    "\n",
    "@njit\n",
    "def run_ising2d(N, T, J, B, n_steps, out_freq):\n",
    "    '''\n",
    "    Metropolis Monte Carlo simulation of 2D Ising model.\n",
    "\n",
    "    Parameters:\n",
    "    N        : Lattice size (N x N)\n",
    "    T, J, B  : Temperature, coupling constant, external field\n",
    "    n_steps  : Number of Monte Carlo steps\n",
    "    out_freq : Interval for recording observables\n",
    "\n",
    "    Returns:\n",
    "    S : List of 2D spin configurations\n",
    "    E : List of per-spin energies\n",
    "    M : List of per-spin magnetizations\n",
    "    '''\n",
    "    \n",
    "    # Initialize spin lattice\n",
    "    spins = 2 * (np.random.rand(N, N) < 0.5) - 1\n",
    "    M_t   = np.sum(spins)\n",
    "    E_t   = -B * M_t\n",
    "\n",
    "    for i in range(N):\n",
    "        for j in range(N):\n",
    "            \n",
    "            neighbors = spins[(i+1)%N, j] + spins[(i-1)%N, j] + spins[i, (j+1)%N] + spins[i, (j-1)%N]\n",
    "            E_t += -0.5 * J * spins[i, j] * neighbors\n",
    "\n",
    "    # Lists to store observables\n",
    "    S, E, M = [], [], []\n",
    "\n",
    "    for step in range(n_steps):\n",
    "\n",
    "        i, j = np.random.randint(N), np.random.randint(N)\n",
    "        neighbors = spins[(i+1)%N, j] + spins[(i-1)%N, j] + spins[i, (j+1)%N] + spins[i, (j-1)%N]\n",
    "        dE = 2 * spins[i, j] * (J * neighbors + B)\n",
    "        dM = 2 * spins[i, j]\n",
    "\n",
    "        if np.random.rand() < np.exp(-dE / T):\n",
    "            spins[i, j] *= -1\n",
    "            E_t += dE\n",
    "            M_t += dM\n",
    "\n",
    "        if step % out_freq == 0:\n",
    "            E.append(E_t / N**2)\n",
    "            M.append(M_t / N**2)\n",
    "            S.append(spins.copy())\n",
    "\n",
    "    return S, E, M"
   ]
  },
  {
   "cell_type": "code",
   "execution_count": 160,
   "metadata": {},
   "outputs": [],
   "source": [
    "#Simulation Parameters\n",
    "params = {'N':40,\n",
    "          'J':1,\n",
    "          'B':0, \n",
    "          'T': 4,\n",
    "          'n_steps': 100000, \n",
    "          'out_freq': 10}\n",
    "\n",
    "# Simulation\n",
    "S, E, M = run_ising2d(**params)"
   ]
  },
  {
   "cell_type": "code",
   "execution_count": 158,
   "metadata": {},
   "outputs": [
    {
     "data": {
      "text/plain": [
       "((1000, 40, 40), (1000,), (1000,))"
      ]
     },
     "execution_count": 158,
     "metadata": {},
     "output_type": "execute_result"
    }
   ],
   "source": [
    "np.array(S).shape, np.array(E).shape, np.array(M).shape"
   ]
  },
  {
   "cell_type": "markdown",
   "metadata": {},
   "source": [
    "### Visualize MCMC simulations"
   ]
  },
  {
   "cell_type": "code",
   "execution_count": null,
   "metadata": {
    "tags": [
     "hide-input"
    ]
   },
   "outputs": [],
   "source": [
    "import matplotlib.pyplot as plt\n",
    "from matplotlib.animation import FuncAnimation\n",
    "from IPython.display import HTML\n",
    "\n",
    "#@widgets.interact(i=(0, 10000-1))\n",
    "def plot_image(i=0):\n",
    "    \n",
    "    fig, ax  = plt.subplots(ncols=3, figsize=(10,4))\n",
    "    \n",
    "    ax[0].pcolor(S[i])\n",
    "    ax[1].plot(E)\n",
    "    ax[2].plot(M)\n",
    "    \n",
    "    ax[0].set(ylabel='$i$', xlabel='j')\n",
    "    ax[1].set(ylabel='$E$', xlabel='steps')\n",
    "    ax[2].set(ylabel='$M$', xlabel='steps')\n",
    "    fig.tight_layout()\n",
    "    plt.show()\n",
    "\n",
    "\n",
    "\n",
    "def make_html_animation(S, E, M, interval=100):\n",
    "    fig, ax = plt.subplots(ncols=3, figsize=(10, 4))\n",
    "\n",
    "    # Initial plots\n",
    "    im = ax[0].imshow(S[0], cmap='coolwarm', origin='lower')\n",
    "    e_line, = ax[1].plot([], [], lw=2)\n",
    "    m_line, = ax[2].plot([], [], lw=2)\n",
    "\n",
    "    # Axis labels\n",
    "    ax[0].set_title(\"Spin Configuration\")\n",
    "    ax[1].set_title(\"Energy\")\n",
    "    ax[2].set_title(\"Magnetization\")\n",
    "\n",
    "    ax[0].set(xlabel=\"j\", ylabel=\"i\")\n",
    "    ax[1].set(xlabel=\"Steps\", ylabel=\"E\")\n",
    "    ax[2].set(xlabel=\"Steps\", ylabel=\"M\")\n",
    "\n",
    "    ax[1].set_xlim(0, len(E))\n",
    "    ax[1].set_ylim(min(E), max(E))\n",
    "    ax[2].set_xlim(0, len(M))\n",
    "    ax[2].set_ylim(min(M), max(M))\n",
    "\n",
    "    def update(frame):\n",
    "        im.set_array(S[frame])\n",
    "        e_line.set_data(range(frame + 1), E[:frame + 1])\n",
    "        m_line.set_data(range(frame + 1), M[:frame + 1])\n",
    "        return im, e_line, m_line\n",
    "\n",
    "    anim = FuncAnimation(fig, update, frames=len(S), interval=interval, blit=False)\n",
    "    plt.close(fig)  # Avoid double display in Jupyter\n",
    "\n",
    "    return HTML(anim.to_jshtml())  # Or anim.to_html5_video()\n"
   ]
  },
  {
   "cell_type": "code",
   "execution_count": null,
   "metadata": {},
   "outputs": [],
   "source": [
    "\n",
    "make_html_animation(S, E, M)"
   ]
  },
  {
   "cell_type": "markdown",
   "metadata": {
    "id": "PML0FOQHFbuz"
   },
   "source": [
    "### Carry out explorative simulations\n",
    "\n",
    "- How do we know if the simulation has done enough sampling? How do we assess convergence and errors? \n",
    "- Test the dependence of observables on system size.\n",
    "- Test the dependence of observables on initital conditions.\n",
    "- Vary intensive parameters, e.g., temperature and field strength. Investigate changes in observables such as magnetization, energy, susceptibility, heat capacity.\n",
    "- Think about alternative ways of accelerating and enhancing the sampling."
   ]
  },
  {
   "cell_type": "markdown",
   "metadata": {
    "id": "CR6KKTgDFbuz"
   },
   "source": [
    "#### Parameter sweeps "
   ]
  },
  {
   "cell_type": "code",
   "execution_count": 161,
   "metadata": {
    "id": "j7zfxnDiFbuz"
   },
   "outputs": [],
   "source": [
    "#Simulation Parameters\n",
    "params = {'N':40,\n",
    "          'J':1,\n",
    "          'B':0, \n",
    "          'T': 4,\n",
    "          'n_steps': 1000000, \n",
    "          'out_freq': 10}\n",
    "\n",
    "Ts = np.linspace(1, 4, 40) \n",
    "Es, Ms, Cs, Xs = [], [], [], []  \n",
    "\n",
    "for T in Ts:\n",
    "    \n",
    "    params['T']=T\n",
    "    \n",
    "    S, E, M = run_ising2d(**params)\n",
    "\n",
    "    # Save last 90% percent of data\n",
    "    idx = int(len(E) * 0.1) \n",
    "    \n",
    "    E = E[idx:]\n",
    "    M = M[idx:]\n",
    "    \n",
    "    Es.append(np.mean(E))\n",
    "    Ms.append(np.mean(M))\n",
    "    \n",
    "    Cs.append(np.var(E)/T**2) \n",
    "    Xs.append(np.var(M)/T)"
   ]
  },
  {
   "cell_type": "code",
   "execution_count": 162,
   "metadata": {},
   "outputs": [
    {
     "data": {
      "image/png": "[encoded data removed]",
      "text/plain": [
       "<Figure size 800x600 with 4 Axes>"
      ]
     },
     "metadata": {},
     "output_type": "display_data"
    }
   ],
   "source": [
    "fig, ax  = plt.subplots(ncols=2, nrows=2, figsize=(8,6))\n",
    "\n",
    "ax[0,0].scatter(Ts, Es)\n",
    "ax[0,0].set(ylabel='$E(T)$')\n",
    "\n",
    "ax[0,1].scatter(Ts, Ms)\n",
    "ax[0,1].set(ylabel='$M(T)$')\n",
    "\n",
    "ax[1,0].scatter(Ts, Cs)\n",
    "ax[1,0].set(ylabel='$C_v(T)$')\n",
    "\n",
    "ax[1,1].scatter(Ts, Xs)\n",
    "ax[1,1].set(ylabel='$\\Xi(T)$')\n",
    "fig.tight_layout()"
   ]
  },
  {
   "cell_type": "markdown",
   "metadata": {},
   "source": [
    "### Autocorrelation functions"
   ]
  },
  {
   "cell_type": "markdown",
   "metadata": {},
   "source": [
    "- For any observable $ A(t) $, you can compute:\n",
    "\n",
    "$$\n",
    "C_A(n) = \\langle A(t) A(t+n) \\rangle - \\langle A(t) \\rangle^2\n",
    "$$\n",
    "\n",
    "- or the normalized version of autocorrelation funtion:\n",
    "\n",
    "$$\n",
    "\\rho_A(n) = \\frac{\\langle A(t) A(t+n) \\rangle - \\langle A(t) \\rangle^2}{\\langle A(t)^2 \\rangle - \\langle A(t) \\rangle^2}\n",
    "$$\n",
    "\n",
    "\n",
    "| Observable            | Type                  | Purpose                              |\n",
    "|----------------------|-----------------------|--------------------------------------|\n",
    "| $ M(t) $, $ E(t) $ | Global observables    | System-wide relaxation               |\n",
    "| $ s_i s_{i+r} $      | Spatial correlation   | Correlation length / criticality     |\n",
    "| $ C(n) $             | General ACF           | Basis for estimating correlation time|\n",
    "\n",
    "\n"
   ]
  },
  {
   "cell_type": "markdown",
   "metadata": {},
   "source": [
    "#### Integrated and exponential autocorrelation time\n",
    "\n",
    "- Once you compute $ C(n) $, you can also estimate:\n",
    "\n",
    "- **Integrated autocorrelation time** $ \\tau_{\\text{int}} $:\n",
    "  $$\n",
    "  \\tau_{\\text{int}} = \\frac{1}{2} + \\sum_{n=1}^{n_{\\text{cut}}} \\frac{C(n)}{C(0)}\n",
    "  $$\n",
    "\n",
    "- **Exponential autocorrelation time** by fitting $ C(n) \\sim \\exp(-n / \\tau_{\\text{exp}}) $\n",
    "\n",
    "\n",
    "\n"
   ]
  },
  {
   "cell_type": "code",
   "execution_count": null,
   "metadata": {
    "tags": [
     "hide-input"
    ]
   },
   "outputs": [],
   "source": [
    "import numpy as np\n",
    "import matplotlib.pyplot as plt\n",
    "from scipy.optimize import curve_fit\n",
    "\n",
    "def autocorr(x):\n",
    "    \"\"\"\n",
    "    Computes the normalized autocorrelation function of a 1D time series x.\n",
    "\n",
    "    Parameters:\n",
    "    x : array-like\n",
    "        Time series (e.g., magnetization over MC steps)\n",
    "\n",
    "    Returns:\n",
    "    acf : array-like\n",
    "        Autocorrelation function normalized so that acf[0] = 1\n",
    "    \"\"\"\n",
    "    n = len(x)\n",
    "    x = x - np.mean(x)\n",
    "    result = np.correlate(x, x, mode='full')[-n:]\n",
    "    result /= x.var() * np.arange(n, 0, -1)\n",
    "    return result\n",
    "\n",
    "def exp_decay(n, a, tau):\n",
    "    \"\"\"Exponential decay model\"\"\"\n",
    "    return a * np.exp(-n / tau)\n",
    "\n",
    "def estimate_exp_autocorr_time(x, max_lag=100):\n",
    "    \"\"\"Estimate exponential autocorrelation time and effective sample size\"\"\"\n",
    "    acf = autocorr(x)\n",
    "    lags = np.arange(max_lag)\n",
    "\n",
    "    # Fit exponential decay model to ACF\n",
    "    try:\n",
    "        popt, _ = curve_fit(exp_decay, lags, acf[:max_lag], p0=(1.0, 10.0))\n",
    "        a, tau_exp = popt\n",
    "    except RuntimeError:\n",
    "        tau_exp = np.nan  # Fit failed\n",
    "\n",
    "    # Compute effective sample size\n",
    "    N_eff = len(x) / (2 * tau_exp) if tau_exp > 0 else np.nan\n",
    "\n",
    "    # Plot\n",
    "    plt.figure(figsize=(5, 3))\n",
    "    plt.plot(lags, acf[:max_lag], label=\"Autocorrelation\")\n",
    "    plt.plot(lags, exp_decay(lags, *popt), '--', label=f\"Fit: $\\\\tau_{{\\\\exp}}$ ≈ {tau_exp:.2f}\")\n",
    "    plt.xlabel(\"Lag\")\n",
    "    plt.ylabel(\"Autocorrelation\")\n",
    "    plt.legend()\n",
    "    plt.tight_layout()\n",
    "    plt.grid(True)\n",
    "    plt.show()\n",
    "\n",
    "    return tau_exp, N_eff\n"
   ]
  },
  {
   "cell_type": "code",
   "execution_count": null,
   "metadata": {},
   "outputs": [],
   "source": [
    "# Example usage\n",
    "M = np.random.randn(1000)  # Replace with your magnetization time series\n",
    "acorr = autocorr(M)\n",
    "\n",
    "# Plotting\n",
    "plt.plot(acorr / acorr[0])\n",
    "plt.xlabel('Steps, $n$')\n",
    "plt.ylabel(r'$\\langle M(t) M(t+n) \\rangle$')\n",
    "plt.title('Autocorrelation of Magnetization')\n",
    "plt.grid(True)\n",
    "plt.tight_layout()\n",
    "plt.show()"
   ]
  },
  {
   "cell_type": "code",
   "execution_count": null,
   "metadata": {},
   "outputs": [],
   "source": [
    "# Example usage:\n",
    "x = np.random.randn(1000).cumsum()  # Strongly correlated data\n",
    "tau_exp, N_eff = estimate_exp_autocorr_time(x)\n",
    "\n",
    "print(f\"Exponential autocorrelation time: {tau_exp:.2f}\")\n",
    "print(f\"Effective sample size: {N_eff:.1f} (out of {len(x)} total samples)\")"
   ]
  },
  {
   "cell_type": "markdown",
   "metadata": {},
   "source": [
    "#### Spatial correlation functions\n",
    "\n",
    "$$\n",
    "C(r) = \\langle s_i s_{i+r} \\rangle\n",
    "$$\n",
    "\n",
    "- Gives insight into **correlation length** and spatial structure."
   ]
  },
  {
   "cell_type": "code",
   "execution_count": null,
   "metadata": {
    "tags": [
     "hide-input"
    ]
   },
   "outputs": [],
   "source": [
    "import numpy as np\n",
    "import matplotlib.pyplot as plt\n",
    "\n",
    "def spatial_autocorr(spins, axis=0):\n",
    "    \"\"\"\n",
    "    Computes spatial autocorrelation function along specified axis (0 = rows, 1 = columns)\n",
    "    \n",
    "    Parameters:\n",
    "    spins : 2D numpy array of spins (+1/-1)\n",
    "    axis  : direction to compute correlation along (0 = x, 1 = y)\n",
    "\n",
    "    Returns:\n",
    "    corr : autocorrelation as a function of distance\n",
    "    \"\"\"\n",
    "    N = spins.shape[axis]\n",
    "    corr = np.zeros(N)\n",
    "    mean = np.mean(spins)\n",
    "    var = np.var(spins)\n",
    "\n",
    "    for r in range(N):\n",
    "        if axis == 0:\n",
    "            product = spins * np.roll(spins, -r, axis=0)\n",
    "        else:\n",
    "            product = spins * np.roll(spins, -r, axis=1)\n",
    "\n",
    "        corr[r] = np.mean(product) - mean**2\n",
    "    return corr / var\n"
   ]
  },
  {
   "cell_type": "code",
   "execution_count": null,
   "metadata": {},
   "outputs": [],
   "source": [
    "# Example usage:\n",
    "spins = 2 * (np.random.rand(64, 64) < 0.5) - 1  # random config\n",
    "corr_x = spatial_autocorr(spins, axis=0)\n",
    "corr_y = spatial_autocorr(spins, axis=1)\n",
    "\n",
    "# Plotting\n",
    "plt.plot(corr_x, label='X direction')\n",
    "plt.plot(corr_y, label='Y direction')\n",
    "plt.xlabel('Distance $r$')\n",
    "plt.ylabel('Spatial autocorrelation $C(r)$')\n",
    "plt.legend()\n",
    "plt.grid(True)\n",
    "plt.title(\"Spatial autocorrelation in 2D Ising lattice\")\n",
    "plt.show()"
   ]
  },
  {
   "cell_type": "markdown",
   "metadata": {
    "id": "qFNE9Y04Fbu0"
   },
   "source": [
    "### Problems"
   ]
  },
  {
   "cell_type": "markdown",
   "metadata": {
    "id": "ZoHqqSnqFbu1"
   },
   "source": [
    "#### Problem-1\n",
    "\n",
    "Revisit the example MCMC simulation for determining $\\pi$ value. Vary the size of the displacement to determine the optimal size that generates quickest convergence to the value of $\\pi$\n",
    "\n",
    "\n",
    "#### Problem-2 \n",
    "\n",
    "Carry out MC simulation of 2D ising spin model for various lattice sizes $N= 16,32, 64$ at temperatures above and below critical e.g $T<T_c$ and $T>T_c$.   \n",
    "\n",
    "- How long does it take to equilibrate system as a function of size and as a function of T?\n",
    "\n",
    "- Plot some observables as a function of number of samples states to show that the system is carrying out some sort of random walk in the configurational space. \n",
    "\n",
    "- How do profiles of Energy vs T, Magnetization vs T and heat capacity vs T, and susceptibility vs T change as a function of size of our lattice. \n",
    "\n",
    "- Does $J>0$ and $J<0$ change the nature of phase transition?"
   ]
  },
  {
   "cell_type": "markdown",
   "metadata": {
    "id": "x-MPRohEFbu1"
   },
   "source": [
    "#### Problem-3\n",
    "\n",
    "Compute correlation functions of spin variable, that is how correlated are spins as a function of distance on a lattice, $L$. $C(L)=\\langle s_i s_{i+L}\\rangle -\\langle s_i\\rangle \\langle s_{i+L}\\rangle $ Make sure to account for the periodic boundary conditions! \n",
    "\n",
    "> Note that you can pick a special tagged spin and calculate correlation function of taged spin ($s_13$ for instance) with any other as a function of lattice spearation  by averaging over produced MC configurations.  Or you can take advantage of the fact that there are no priviledged spins and average over many spins and average over MC configruations e.g $s_1, s_2, ...$. E.g you can pick a horizontal line of spins and run a summation for each fixed r_ab distance. "
   ]
  },
  {
   "cell_type": "markdown",
   "metadata": {
    "id": "y3zetrDWFbu1"
   },
   "source": [
    "#### Problem-4\n",
    "\n",
    "Take a 20 by 20 lattice and equilibriate the system with a value of extneral field B equal to +1. \n",
    "Now slowly change h to −1 in discrete steps during each of these steps, use the previously equilibriated\n",
    "configuration as an input to the system to undergo equilibriation again.  \n",
    "\n",
    "Caluclate average and variance quantities (e.g E, M, C etc). Notice anything interesing :)"
   ]
  }
 ],
 "metadata": {
  "colab": {
   "collapsed_sections": [
    "j-FI9OY2Fbut",
    "U9V6J1DCFbut",
    "3FHaCVFsFbut",
    "zLAqk5gCFbut",
    "NguLNDH3Fbut",
    "CR6KKTgDFbuz"
   ],
   "name": "01_MCMC_Ising.ipynb",
   "provenance": [],
   "toc_visible": true
  },
  "interpreter": {
   "hash": "38cca0c38332a56087b24af0bc80247f4fced29cb4f7f437d91dc159adec9c4e"
  },
  "kernelspec": {
   "display_name": "Python 3 (ipykernel)",
   "language": "python",
   "name": "python3"
  },
  "language_info": {
   "codemirror_mode": {
    "name": "ipython",
    "version": 3
   },
   "file_extension": ".py",
   "mimetype": "text/x-python",
   "name": "python",
   "nbconvert_exporter": "python",
   "pygments_lexer": "ipython3",
   "version": "3.9.16"
  },
  "livereveal": {
   "theme": "sky"
  },
  "nteract": {
   "version": "0.21.0"
  },
  "toc": {
   "base_numbering": 1,
   "nav_menu": {},
   "number_sections": true,
   "sideBar": true,
   "skip_h1_title": false,
   "title_cell": "Table of Contents",
   "title_sidebar": "Contents",
   "toc_cell": false,
   "toc_position": {},
   "toc_section_display": true,
   "toc_window_display": false
  }
 },
 "nbformat": 4,
 "nbformat_minor": 4
}
