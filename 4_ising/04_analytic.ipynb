{
 "cells": [
  {
   "attachments": {},
   "cell_type": "markdown",
   "metadata": {},
   "source": [
    "## Analytic solutions to 1D Ising model"
   ]
  },
  {
   "attachments": {},
   "cell_type": "markdown",
   "metadata": {},
   "source": []
  },
  {
   "cell_type": "code",
   "execution_count": null,
   "metadata": {
    "vscode": {
     "languageId": "plaintext"
    }
   },
   "outputs": [],
   "source": [
    "import ipywidgets as widgets\n",
    "import matplotlib.pyplot as plt\n",
    "import numpy as np\n",
    "import scipy as sp\n",
    "@widgets.interact(kbT=(0.1,10))\n",
    "def mag1(kbT=1):\n",
    "    \n",
    "    x = np.linspace(-10,10,1000)\n",
    "    plt.plot(x, np.tanh(x/kbT), lw=3, label=f'$k_B T={kbT}$')\n",
    "    plt.xlabel('h, magnetic field',fontsize=16)\n",
    "    plt.ylabel('m, magnetization',fontsize=16)\n",
    "    plt.legend(fontsize=16)"
   ]
  },
  {
   "attachments": {},
   "cell_type": "markdown",
   "metadata": {},
   "source": []
  }
 ],
 "metadata": {
  "language_info": {
   "name": "python"
  },
  "orig_nbformat": 4
 },
 "nbformat": 4,
 "nbformat_minor": 2
}
