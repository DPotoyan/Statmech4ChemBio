{
 "cells": [
  {
   "cell_type": "markdown",
   "id": "7d5f93b3-0fbc-46b2-985a-8572aea1ada3",
   "metadata": {},
   "source": [
    "### Double Well potential using OpenMM"
   ]
  },
  {
   "cell_type": "code",
   "execution_count": null,
   "id": "ae517ca8-724c-40ba-8981-8224710e8340",
   "metadata": {},
   "outputs": [],
   "source": []
  }
 ],
 "metadata": {
  "kernelspec": {
   "display_name": "Python [conda env:llpsmd3] *",
   "language": "python",
   "name": "conda-env-llpsmd3-py"
  },
  "language_info": {
   "codemirror_mode": {
    "name": "ipython",
    "version": 3
   },
   "file_extension": ".py",
   "mimetype": "text/x-python",
   "name": "python",
   "nbconvert_exporter": "python",
   "pygments_lexer": "ipython3",
   "version": "3.9.16"
  }
 },
 "nbformat": 4,
 "nbformat_minor": 5
}
