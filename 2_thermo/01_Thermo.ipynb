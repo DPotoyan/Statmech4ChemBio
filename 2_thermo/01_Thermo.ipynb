{
 "cells": [
  {
   "cell_type": "markdown",
   "metadata": {
    "slideshow": {
     "slide_type": "slide"
    }
   },
   "source": [
    "# Review of thermodynamics principles"
   ]
  },
  {
   "attachments": {},
   "cell_type": "markdown",
   "metadata": {},
   "source": [
    ":::{admonition} What you need to know\n",
    "\n",
    "- Thermodynamics is an exact **phenomenological theory** describing changes in material systems in **equilibrium**. Phenomenological means that the macroscopic phenomena are defined in terms of a few quantities that can be observed and measured by macroscopic devices without any reference to microscopic details.\n",
    "- Thermodynamics operates with **Extensive variables** (additive quantities like energy, volume, and number of moles) that completely define **thermodynamic space.**\n",
    "- **Intensive variables** (temperature, pressure, magnetic field) can be derived from extensive ones, providing a convenient way of describing the system under constant external conditions.\n",
    "- Changes can be induced by the **removal of constraints**, such as removing lids, turning on/off the electric field, poking holes in containers, removing thermal insulation, stretching polymers with an applied force, etc\n",
    "- Thermodynamics provides ways of calculating changes of state variables between equilibrium states A and B, which system transitions after removing a constraint. Furthermore, thermodynamics can predict whether state B can be reached spontaneously or one has to perform work to arrive at state B.\n",
    "- Thermodynamics is built upon **fundamental laws**. The **first law** is a statement about the conservation of energy. The **second law** defines the direction of change of a process, that is, whether the process will proceed spontaneously. The second law implies that the thermodynamic space is foliated into adiabats equal to constant entropy.\n",
    "Surfaces.\n",
    "- **Thermodynamic potentials** (Gibbs free energy, Helmholtz free energy, enthalpy) help analyze systems under different conditions (constant temperature, constant pressure, etc.)\n",
    "- **Legendre transformation** shows that using free energies changes variables from less convenient to more convenient. Yet the underlying principle remains the same as stated in the second law: isolated systems approach equilibrium by increasing entropy, and the final equilibrium state corresponds to a maximum of entropy over variables inducing the change. For non-isolated systems, equilibrium corresponds to the minimization of free energy of the system (or maximization of entropy of a larger system which can be considered isolated)\n",
    ":::"
   ]
  },
  {
   "attachments": {},
   "cell_type": "markdown",
   "metadata": {},
   "source": [
    "### Extensive vs Intensive variables\n",
    "\n",
    "- In thermodynamics, there are two kinds of variables: **extensive** and **intensive**. The former depends on the size of the system, and the latter is size-independent.\n",
    "    - **Extensive variables** are privileged variables that uniquely define the equilibrium states. Examples are $V, N, E, S$. \n",
    "    - **Intensive variables** are derived from extensive ones and are considered as conjugate pairs to extensive ones. E.g $V-P$, $N-\\mu$ and $S-T$, are conjugate pairs. \n",
    "\n",
    "\n",
    "**Intensive variables do not have the same fundamental status as extensive variables**\n",
    "- Because they do not always uniquely describe the state of matter in equilibrium.\n",
    "- For example, a glass of water with and without an ice cube can be under 1 atm and 0 C, whereas energy and entropy volume values will differ. \n",
    "\n",
    "**Large N ensures the extensivity of Energy** \n",
    "\n",
    "- For volume, it may be straightforward to explain why it is extensive. But why is Energy an extensive quantity $E= E_1 + E_2$ for a system with N interacting particles?\n",
    "- The additivity of energy can hold if we assume pairwise interactions between particles with interacting potential decaying with distance faster than the $r^{-3}$ in 3D. Meaning that surface interactions become negligible. For instance, if we divide the glass of water into two parts, the total energy, to a good approximation, is a sum of two halves. But notice that if we have microscopic quantities, like handfuls of molecules, this is no longer true\n",
    "  "
   ]
  },
  {
   "attachments": {},
   "cell_type": "markdown",
   "metadata": {},
   "source": [
    "### Equilibrium and the observation time\n",
    "\n",
    "\n",
    "- **Equilibrium** refers to a state of matter which is unchanging. There are no macroscopic fluxes or flows of energy or matter.\n",
    "- Equilibrium can also be defined as a particular state of matter where a simple macroscopic (as opposed to complex microscopic) thermodynamic description is possible regarding extensive variables. Many of the quantities of interest are ill-defined if the system is not in equilibrium (temperature, pressure, etc). In thermodynamics, we can calculate changes from state A to state B of a system that proceeds via non-equilibrium paths, but it does so by constructing quasi-equilibrium paths ensuring that state A and B are both in equilibrium.\n",
    "- The state of Equilibrium is defined relative to **observation time**! A glass of water on the table is in a state of equilibrium on the time scale of minutes but in a state of non-equilibrium over the scale of days because water evaporates, changing the thermodynamic state of the glass.\n",
    "\n"
   ]
  },
  {
   "attachments": {},
   "cell_type": "markdown",
   "metadata": {
    "slideshow": {
     "slide_type": "slide"
    }
   },
   "source": [
    "### Fundamental equation of thermodynamics\n",
    "\n",
    "- **Fundmanetal equation** in thermodynamics is the equation that binds together all of the extensive variables, e.g., $E(U,V,S,N_1, N_2, ...)$. The state of equilibrium is completely defined by the fundamental equation as a point in the space of thermodynamic coordinates: $E, V, N, S$. These coordinates have **unique** and well-defined values for each equilibrium state irrespective to how such state was created.  Whether through the violent non-equilibrium process or calm quasi-static sequence of equilibrium states. This is why the functions of extensive variables $E(S,V,N)$ or $S(E,V,N)$ are called **state functions**, and their changes are given by differences between initial or final state only $\\Delta E =E_f -E_i$, $\\Delta S =S_f -S_i$. On the other hand, the work $W$ or heat $Q$ are process dependent, characterizing the way energy is transferred to the system and not characterizing equilibrium states itself.  \n",
    "\n",
    "- **Transformations between equilibrium states** is the central task of thermodynamics. Knowing the fundamental equation, one can predict the equilibrium state B, which results from equilibrium state A through spontaneous transformation upon removal of a **constraint.**  E.g computing $\\Delta E = E_B - E_A$ given expansion of a box.\n",
    "\n",
    "- **Quasi-static path: a dense succession of equilibrium states** that connects A with B in extensive variables is constructed to compute changes in thermodynamic variables between states A and B. This equilibrium path is quasistatic to ensure the system does not deviate from the equilibrium state during transformation. The quasistatic path can also be reversible when the path from B to A can be re-traced with zero change in the universe while the system remains in equilibrium. This necessitates the introduction of Entropy, which differentiates reversible from non-reversible changes. \n",
    "\n",
    "- **Reversible transformations can go in either direction without any change in the environment** Quasistatic paths may correspond to irreversible or reversible transformations! Just because the process is infinitely slow and locally in equilibrium does not make it reversible. For instance, poking a small hole in a container and letting one molecule out very slowly does not make the process reversible. This motivates us to introduce a quantity called entropy, the change of which will tell us whether the process is reversible or not. \n",
    "\n",
    "\n",
    "<img src=\"./figs/adiabat.png\"  class=\"bg-primary\" width=\"400px\">"
   ]
  },
  {
   "attachments": {},
   "cell_type": "markdown",
   "metadata": {
    "slideshow": {
     "slide_type": "slide"
    }
   },
   "source": [
    "### Irreversibility emerges from large N\n",
    "\n",
    "[Poincarre recurrence theorem](https://en.wikipedia.org/wiki/Poincar%C3%A9_recurrence_theorem)\n",
    "\n",
    "- If you play bridge long enough you will eventually be dealt any grand-slam hand, not once but several times. A similar thing is true for mechanical systems governed by Newton's laws, as the French mathematician Henri Poincare (1854-1912) showed with his recurrence theorem in 1890: if the system has a fixed total energy that restricts its dynamics to bounded subsets of its phase space, the system will eventually return as closely as you like to any given initial set of molecular positions and velocities. If the entropy is determined by these variables, then it must also return to its original value, so if it increases during one period of time it must decrease during another.\n",
    "\n",
    "<img src=\"./figs/recurrence.jpg\"  class=\"bg-primary\" width=\"400px\">\n",
    "\n",
    "- Zermello is right for small systems. A dynamical system will alwasy return to its starting configuration hence irreversibility is not a property of micrsccopic systems.  \n",
    "\n",
    "- Boltzman is right for large systems becasue a likelihhood of recurrence for macrosystem happening is beyond the lifetime of a universie. Case closed. \n"
   ]
  },
  {
   "cell_type": "markdown",
   "metadata": {},
   "source": [
    "### Need for an extensive variable called entropy S\n",
    "\n",
    "<img src=\"./figs/plank.png\"  class=\"bg-primary mb-1\" width=\"400px\">\n",
    "\n",
    ":::{admonition} **Planck’s formulation of 2nd Law:**\n",
    ":class: tip \n",
    "For any adiabatic process where all of the work coordinates return to\n",
    "their initial values (doing a cycle). The energy of a thermally isolated system cannot decrease!  \n",
    "\n",
    "$$\\Delta E \\geq 0$$ \n",
    ":::\n",
    "\n",
    "- Intuitively, this just means that we can only impart some energy to the system when doing pure mechanical work on the system because of friction or dissipation. Put another way by through mechanical work, \"steal\" energy away from a closed system without any other environmental change.  \n",
    "- Thus it turns out that in thermodynamic space, not all paths are possible; one can not reach from A to B. This implies the existence of some law and perhaps a new variable that can quantify when transitions are permissible and when not.\n",
    " \n",
    "- This restriction means surfaces (or lines) corresponding to adiabatic changes can not intersect. Because if they do, then one can design a cyclic mechanical process to decrease the energy. It would also be physically nonsensical for the intersection point to have two different forces (energy derivatives) for the same coordinates! \n",
    "- Thus, thermodynamic space is made up of non-crossing adiabats. This naturally leads to a quantity that characterizes the adiabats as a function of energy $S(E)$ and which stays constant on adiabats.\n",
    "\n",
    "<img src=\"./figs/Adiabats.png\"  class=\"bg-primary\" width=\"300px\">"
   ]
  },
  {
   "attachments": {},
   "cell_type": "markdown",
   "metadata": {
    "slideshow": {
     "slide_type": "slide"
    }
   },
   "source": [
    "\n",
    "<img src=\"./figs/NO1.png\"  class=\"bg-primary\" width=\"200px\">\n",
    "<img src=\"./figs/NO2.png\"  class=\"bg-primary\" width=\"200px\">"
   ]
  },
  {
   "cell_type": "markdown",
   "metadata": {},
   "source": [
    "### First Law\n",
    "\n",
    "Mechanical energy conservation law extended to many-body thermal systems. Energy can change because of heat or work exchange with the surroundings.\n",
    "\n",
    "$$dE = \\delta Q +\\delta W$$\n",
    "\n",
    "- $\\delta Q$ and $\\delta W$ are **inexact differentials**. This means that work done to go from A to B will depend on a path from A to B\n",
    "\n",
    "- dE is an **exact diffrential**. This means the energy difference between states A and B is the same regardless of the path one takes. "
   ]
  },
  {
   "cell_type": "markdown",
   "metadata": {
    "slideshow": {
     "slide_type": "fragment"
    }
   },
   "source": [
    "### Second Law\n",
    "\n",
    "**Adiabatic system**\n",
    "\n",
    "- For a system that undergoes adiabatic (read no heat exchange) and quasistatic (read not deviating from equilibrium) processes, entropy can not decrease!\n",
    "\n",
    "$$dS \\geq 0$$\n",
    "\n",
    "- Once reaching the state of equilibrium, entropy reaches its maximum and does not change spontaneously  $dS=0$. Thus, to predict the equilibrium state of a thermodynamic system, one can maximize the entropy of an isolated system with respect to the variables that change!\n",
    "\n",
    "**Non-adiabatic system**\n",
    "- What about non-isolated systems which exchange heat $\\delta Q$. In this case, the change of entropy comes from changes in the system ($dS$) + changes in the environment ($dS_r$) we call the reservoir (e.g., room in which a glass of coffee is cooling.\n",
    "\n",
    "$$dS + dS_r \\geq 0 $$\n",
    "\n",
    "- the reservoir is very big, and its temperature $T$ is unchanging hence $dS_r = -\\frac{\\delta Q}{T}$. The Minus sign is because the heat has the sign with respect to the system (positive for gaining and negative for losing).\n",
    "\n",
    "$$ dS \\geq \\frac{\\delta Q}{T}$$ \n",
    "\n",
    "- This equation tells us that entropy increases because of heat flow, but other changes (internal structural rearrangements) could also increase entropy. hence the change of entropy is more than equal to $\\delta Q/T$. For reversible heat transfer equality will hold which is why in gibbs equation $dQ=TdS$"
   ]
  },
  {
   "cell_type": "markdown",
   "metadata": {},
   "source": [
    ":::{admonition} **Example**\n",
    "\n",
    "The fundamental equations for two systems $A$ and $B$ separated by diathermal wall (no heat flow allowed) is \n",
    "\n",
    "$$S =  \\left ( N V U \\right )^{1/3}$$\n",
    "\n",
    "- The total energy is $U_A + U_B = 80 J$ \n",
    "- The volume and mole number of system $A$ are $ 9 \\times 10^{-6}\\ m^3 $ and $3$ mol respectively.  \n",
    "- The volume and mole number for system $B$ are $ 4 \\times 10^{-6}\\ m^3 $ and $2$ mol respectively.  \n",
    "\n",
    "1. Plot the total entropy $S_A + S_B$ as function of energy distribution between two systems $X=U_A/(U_A + U_B)$\n",
    "2. If we enable heat flow between systems A and B a new equilibrium state would be established. What would $U_A$ and $U_B$ be like in this new equilibrium state?\n",
    "\n",
    ":::{dropdown}  Solution\n",
    "\n",
    "$$X = \\frac{U_A}{U_A + U_B}$$\n",
    "\n",
    "we know $U_A + U_B = 80$, therefore\n",
    "\n",
    "$$ U_A = 80X,\\hspace{20pt} U_B = 80(1 - X) $$\n",
    "\n",
    "Plugging in $V_A$, $V_B$, $N_A$ and $N_B$ we get:\n",
    "\n",
    "$S = S_A + S_B = \\left(3 \\times 9 \\times 10^{-6} \\times 80X \\right)^{1/3} + \\left(2 \\times 4 \\times 10^{-6} \\times 80(1-X)\\right)^{1/3} = 0.086(1-X)^{1/3} + 0.129X^{1/3}$\n",
    "\n",
    ":::\n"
   ]
  },
  {
   "cell_type": "markdown",
   "metadata": {
    "slideshow": {
     "slide_type": "slide"
    }
   },
   "source": [
    "### Gibbs relation\n",
    "\n",
    "Given the energy as a function of extensive variables $E(S,V,N)$, we can write down its full differential. \n",
    "\n",
    "$$dE = \\Big(\\frac{\\partial E}{\\partial S} \\Big)_{V,N}dS+ \\Big(\\frac{\\partial E}{\\partial V} \\Big)_{S,N}dV+\\Big(\\frac{\\partial E}{\\partial N} \\Big)_{S,V}dN$$\n",
    "\n",
    "We identify **intensive variables** conjugate to extensive variables:\n",
    "\n",
    "$$T = \\Big(\\frac{\\partial E}{\\partial S} \\Big)_{V,N}$$\n",
    "\n",
    "$$P = -\\Big(\\frac{\\partial E}{\\partial V} \\Big)_{S,N}$$\n",
    "\n",
    "$$\\mu = \\Big(\\frac{\\partial E}{\\partial N} \\Big)_{S,V}$$\n",
    "\n",
    "This is known as **Gibbs relation** in Thermodynamics and is a starting point for thermodynamic calculations.\n",
    "\n",
    "$$\\boxed{dE=  TdS - pdV +\\mu dN}$$"
   ]
  },
  {
   "cell_type": "markdown",
   "metadata": {},
   "source": [
    ":::{admonition} **Example**\n",
    "\n",
    "Consider an ideal gas in a container that is in a state of equilibrium and is therefore described by $E(S, N, V)$ or $S(E, N, V)$ fundamental equation. \n",
    "\n",
    "- Using the ideal gas relation $PV=Nk_B T$ for monoatomic gas, derive an expression for entropy  \n",
    "\n",
    "- Plot entropy surface as a function of Volume and Energy\n",
    "\n",
    ":::{dropdown}  Solution\n",
    "\n",
    "$$dS = \\frac{1}{T}dE + \\frac{P}{T}dV$$\n",
    "\n",
    "- $E = \\frac{3}{2}Nk_B T$ and $PV = Nk_BT$ for monoatomic gas\n",
    "\n",
    "$$dS = \\frac{3Nk_B}{2E}dE + \\frac{Nk_B}{V}dV$$\n",
    "\n",
    "\n",
    "$$S(E,V,N) = \\frac{3}{2}Nk_B log \\frac{E}{N} +Nk log \\frac{V}{N} + const$$\n",
    "\n",
    ":::\n"
   ]
  },
  {
   "cell_type": "markdown",
   "metadata": {},
   "source": [
    ":::{admonition} **Example**\n",
    "\n",
    "Consider the sudden Doubling of the volume of one mol of an ideal gas in a container.\n",
    "\n",
    "- Using information theoretical view of entropy, compute how much entropy of the system changes as a result of sudden doubling.\n",
    "\n",
    "- Using the expression for entropy, derive how much entropy of the system changes as a result of sudden doubling.\n",
    "\n",
    "- Is the adiabatic expansion of gas due to volume doubling reversible or irreversible?\n",
    "\n",
    "- Think about quasistatic path for this process\n",
    "\n",
    ":::{dropdown}  Solution\n",
    "\n",
    "$$\\Delta S = R log 2$$\n",
    "\n",
    ":::"
   ]
  },
  {
   "cell_type": "markdown",
   "metadata": {
    "slideshow": {
     "slide_type": "slide"
    }
   },
   "source": [
    "### Gibbs Duhem relation\n",
    "\n",
    "- The extensivity property implies linear scaling with respect to extensive variables. In other words, extensive variables are additive quantities. \n",
    "\n",
    "$$E(\\lambda S,\\lambda V,\\lambda N) = \\lambda E(S,V,N)$$ \n",
    "\n",
    "- Using chain rule we get a liner relationship between extensive variables not involving any differentials:\n",
    "\n",
    "$$E(S, V, N) = \\frac{\\partial E(\\lambda S, \\lambda V, \\lambda N}{\\partial \\lambda} =  \\Big(\\frac{\\partial E}{\\partial \\lambda S} \\Big)_{V,N}S+ \\Big(\\frac{\\partial E}{\\partial  \\lambda V} \\Big)_{S,N}V+\\Big(\\frac{\\partial E}{\\partial  \\lambda N} \\Big)_{S,V}N$$\n",
    "\n",
    "$$\\boxed{E = TS -PV +\\mu N}$$\n",
    "\n",
    "Now when we take the derivative of E and compare with Gibbs relation we end up with equation where independent variables are now intensive ones\n",
    "\n",
    "$$\\boxed{SdT-VdP+Nd\\mu =0}$$"
   ]
  },
  {
   "cell_type": "markdown",
   "metadata": {
    "slideshow": {
     "slide_type": "slide"
    }
   },
   "source": [
    "### Second order thermodynamic quantities"
   ]
  },
  {
   "cell_type": "markdown",
   "metadata": {
    "slideshow": {
     "slide_type": "fragment"
    }
   },
   "source": [
    "**$C_v$ and $C_p$: Heat capacities at constant V and P.** \n",
    "\n",
    "$$C_v = \\Big(\\frac{d Q}{dT} \\Big)_{v,N}$$\n",
    "  \n",
    "$$C_p = \\Big(\\frac{d Q}{dT} \\Big)_{p,N}$$\n",
    "\n",
    "- Thermal stability requires $c_v,c_p\\geq 0$\n",
    "\n",
    "**$\\alpha$ and $\\kappa_T$: Thermal expansion and isothermal compression coefficients.** \n",
    "\n",
    "$$\\alpha  = \\frac{1}{V}\\Big(\\frac{d V}{dT} \\Big)_{p,N}$$\n",
    "\n",
    "$$\\kappa_T  = -\\frac{1}{V}\\Big(\\frac{d V}{dP} \\Big)_{T,N}$$\n",
    "\n",
    "- Mechanical stability requires $\\kappa_T\\geq 0$"
   ]
  },
  {
   "cell_type": "markdown",
   "metadata": {
    "slideshow": {
     "slide_type": "slide"
    }
   },
   "source": [
    "### Free Energies and Legendre transforms\n",
    "\n",
    "**Motivation:** The energy $E$ is natural a function of all extensive variables $(S, V, N, ...)$ and can be used to find equilibrium by minimizing with respect to independent variables $min_{[S,V,N]} E$. But what if the independent variables are not convenient to control and we want to adopt a new ones where we can hold some of them constant.\n",
    "\n",
    "**Legendre transformation:** is what we call the change of variables in thermodynamics. The Legendre transofrmation turns Energy function into free energy function. Equilibrium state is again found by minimizing Free energy function! That is Legendre transform does not change the shape of the Energy function whcih is convex with respect to independent variables!\n",
    "\n",
    "$$E(S,V,N) \\rightarrow A(T,V,N)$$\n",
    "\n",
    "$$E(S,V,N) \\rightarrow G(T,p,N)$$\n",
    "\n",
    "$$E(S,V,N) \\rightarrow \\Omega(T,p,\\mu)$$\n",
    "\n",
    "- Note that Legendre transform of $E$ ends up wapping extensive variables with intensive ones.\n",
    "- Free energies contain as much information as the $E(S, V, N)$. THis is becasue Legendre transform is invertible! One can start with free energy and trasnform back into energy. \n",
    "- Free energies have different independent variables that are often more convenient to control experimentally, e.g pressure and temperature instead of entropy "
   ]
  },
  {
   "cell_type": "markdown",
   "metadata": {},
   "source": [
    "**General Procedure:** Change in energy can be seen as produced by paiars of conjugate variables: for instance $(S, T)$, $(p, -V)$, $(\\mu N)$\n",
    "\n",
    "$$dE = TdS - pdV + \\mu dN$$\n",
    "\n",
    "We can write the energy function more generally in terms of aribitrary number and kind of cojugate pairs ($f_i$, $X_i$)\n",
    "\n",
    "$$dE = \\sum_i f_i dX_i$$\n",
    "\n",
    "For each pair $f_i$, $X_i$ we can define a new thermodynamic potential by the Legendre transformation.\n",
    "\n",
    "$$A = E − \\sum_i f_i X_i$$\n",
    "\n",
    "The sum goes over those variables $X_i$ that we would like to replace with $f_i$.\n",
    "\n",
    "$$dA = dE - \\sum_i f_i dX_i  - \\sum_i X_i df_i = - \\sum_i X_i df_i$$"
   ]
  },
  {
   "cell_type": "markdown",
   "metadata": {},
   "source": [
    "**Helmholtz Free energy**\n",
    "\n",
    "$$\\mathcal{L}_{S} E(S,V,N) = U - T\\cdot S = F(N, V, T)$$ \n",
    "\n",
    "$$dF = dE -d(TS) = dE - TdS - SdT$$\n",
    "\n",
    "$$dF = -SdT - pdV + \\mu dN$$\n",
    "\n",
    "\n",
    "**Gibbs Free energy**\n",
    "\n",
    "$$\\mathcal{L}_{S, V} E(S,V,N) = U - T\\cdot S + pV = G(N, p, T)$$\n",
    "\n",
    "$$F = E- TS + pV$$\n",
    "\n",
    "$$dG = dE -d(TS) + d(pV) = dE - TdS - SdT + pdV + Vdp$$\n",
    "\n",
    "$$dG = -SdT + Vdp + \\mu dN$$"
   ]
  },
  {
   "cell_type": "markdown",
   "metadata": {},
   "source": [
    ":::{dropdown} **Review of thermo concenpts**\n",
    "\n",
    "1. Give an example of a process in which a system is not heated, but its temperature increases. Also give an example of a process in which a system is heated, but its temperature is unchanged.\n",
    " \n",
    "2. Which states are in an equilibrium state, a time-dependent non-equilibrium state, or a time-independent but still non-equilibrium state (e.g., steady state)? Explain your reasoning. Sometimes, the state is not a true steady or equilibrium state but close to one. Discuss how it can be treated as a steady or equilibrium state. \n",
    "    - a cup of hot tea, sitting on the table while cooling down \n",
    "    - the wine in a bottle that is stored in a wine cellar \n",
    "    - the sun \n",
    "    - the atmosphere of the earth \n",
    "    - electrons in the wiring of a flashlight switched off \n",
    "    - electrons in the wiring of a flashlight switched on\n",
    "3. What is meant by a constraint in thermodynamics, and why must its removal always lead to increased entropy?\n",
    "4. What is a quasi-static process in thermodynamics, and how is this idealization used for computing changes in thermodynamic variables?\n",
    "5. What is the difference between the fundamental equation in thermodynamics $S(E,V,N)=$ vs. state equation $P(V,N,T)$ e.g., like $PV=NRT$ for ideal gas? \n",
    "\n",
    "6. Why during a spontaneous transformation of systems entropy tend to its maximum value? This is why we use entropy maximization as a powerful tool to predict the final equilibrium states. \n",
    "\n",
    "7. Why do we introduce Free energies of various kinds? Explain why free energy minimization is equivalent of total entropy maximization. \n",
    "\n",
    "8. Can part of the entropy of a part of a total system decrease? Give some examples. \n",
    "\n",
    "9. Does the entropy change depend on the path between two equilibrium states?\n",
    "\n",
    "10. How is the adiabatic process different from the quasistatic and reversible process?  \n",
    ":::"
   ]
  },
  {
   "cell_type": "markdown",
   "metadata": {},
   "source": [
    "### Problems \n",
    "\n",
    "#### Fundamental equations\n",
    "The following ten equations are purported to be fundamental equations for various thermodynamic systems. Five, however, are inconsistent with the basic postulates of a fundamental equation and are thus unphysical.  For each, plot the relationship between $S$ and $U$ and identify the unacceptable five. $v_0$, $\\theta$, and $R$ are all positive constants and, in the case of fractional exponents, the real positive root is to be implied.\n",
    "\n",
    "1. $\\ S = \\left ( \\frac{R^2}{v_0\\theta} \\right )^{1/3}\\left ( NVU \\right\n",
    ")^{1/3}$\n",
    "\n",
    "2. $S = \\left ( \\frac{R}{\\theta^2} \\right )^{1/3}\\left ( \\frac{NU}{V} \\right)^{2/3}$\n",
    "\n",
    "3. $S = \\left ( \\frac{R}{\\theta} \\right )^{1/2}\\left ( NU + \\frac{R\\theta V^2}{v_0^2} \\right)^{1/2}$\n",
    "\n",
    "4. $S = \\left ( \\frac{R^2\\theta}{v_0^3} \\right ) \\frac{V^3}{NU}$\n",
    "\n",
    "5. $S = \\left ( \\frac{R^3}{v_0\\theta^2} \\right )^{1/5}\\left ( N^2U^2V \\right)$\n",
    "\n",
    "6. $S = NR \\ln \\left ( \\frac{UV}{N^2 R \\theta v_0}  \\right )$\n",
    "\n",
    "7. $S = \\left ( \\frac{NRU}{\\theta} \\right )^{1/2}\\exp \\left (-\\frac{V^2}{2N^2v_0^2} \\right )$\n",
    "\n",
    "8. $S = \\left ( \\frac{NRU}{\\theta} \\right )^{1/2}\\exp\n",
    "\\left (-\\frac{UV}{NR\\theta v_0} \\right )$\n",
    "\n",
    "9. $U = \\left ( \\frac{NR\\theta V}{v_0} \\right ) \\left ( 1+\\frac{S}{NR} \\right ) \\exp \\left (-S/NR \\right)$\n",
    "\n",
    "10. $U = \\left ( \\frac{v_0\\theta}{R} \\right ) \\frac{S^2}{V} \\exp\\left ( S/NR \\right)$\n"
   ]
  },
  {
   "cell_type": "markdown",
   "metadata": {},
   "source": [
    "#### Expansion of gas into the vacuum\n",
    "\n",
    "1. As a general case of gas expanding into the vacuum, use the Gibbs relation for $E$ to show that $\\Big(\\frac{\\partial S}{\\partial V}\\Big)_E>0$ this would show that free adiabatic expansion is accompanied by entropy increase and is hence and irreversible process. \n",
    "\n",
    "2. Now consider a gas in container energy described by the following equation $E = 3/2NkT −N^2 V/a$\n",
    "\n",
    "    -  Plot E as a function of V for a few temperatures.\n",
    "   \n",
    "    -  Suppose that a gas expands adiabatically into a vacuum. How will the energy and entropy of the system change, and what is the work done by the gas?\n",
    "\n",
    "    - Initially, the gas occupies a volume $V_1$ at a temperature $T_1$. The gas then expands adiabatically into a vacuum to occupy a total volume $V_2$. What is the final temperature $T_2$ of the gas?"
   ]
  },
  {
   "cell_type": "markdown",
   "metadata": {},
   "source": [
    "#### Entropy of mixing two gases\n",
    "\n",
    "Using the expression for an ideal gas $S=Nk_B log \\frac{V}{N}$, calculate the entropy change resulting after removing a divider separating $N_A$ molecules of gas A occupying Volume $V_A$ from $N_B$ molecules of gas B occupying volume $V_B$. \n",
    "\n",
    "*Hints*\n",
    "    \n",
    "-  The system overall is thermally insulated and pressure and temperatures are constant; hence, numbers and volumes are proportional $N_A \\sim V_A$ so you can express entropy change entirely in terms of molar numbers or their fractions $x_A = N_A/(N_A+N_B)$\n",
    "-  You need to first calculate the entropy change due to gas A expanding from volume $V_A$ to volume $V=V_A+V_B$ and the same for gas B. the total entropy change will be the sum of these two changes.  "
   ]
  },
  {
   "cell_type": "markdown",
   "metadata": {},
   "source": [
    "#### Entropy of heating\n",
    "\n",
    "1. 1 kg of water (specific heat = 4.2 kJ/(kg·K)) at $0 ^oC$ is in contact with a $50 ^oC$ heat bath, and eventually reaches $50 ^oC$. What is the entropy change of the water? What is the increase of the entropy of this water plus the heat bath?\n",
    "\n",
    "2. Imagine now that the water at $0 ^oC$ is in contact with a $25 ^oC$ heat bath. Then, after reaching thermal equilibrium, the water is subsequently put in contact with a $50 ^oC$ heat bath until it reaches the final temperature $50 ^oC$. What is the increase of the entropy of the water after it has been put in contact with two heat baths? Compare the answer to the case of (1)\n",
    "\n",
    "3. Show that in the two-step heating process, whatever the first heat bath temperature T is between $0^oC$ and $50^oC$, the total change of entropy of the water plus heat baths is less than the case of (1)"
   ]
  },
  {
   "cell_type": "markdown",
   "metadata": {},
   "source": [
    "#### Legendre transforms and free energy calculations\n",
    "\n",
    "- Use Legendre transform to go from $E(N, V, T)$ to $F(S,p,N)$ and to $G(T,p,N)$.\n",
    "\n",
    "- 1 mole of an ideal gas at 300 K is quasistatically and isothermally compressed from 5 to 25atm. Find $\\Delta F$ and $\\Delta G$"
   ]
  }
 ],
 "metadata": {
  "kernelspec": {
   "display_name": "Python 3 (ipykernel)",
   "language": "python",
   "name": "python3"
  },
  "language_info": {
   "codemirror_mode": {
    "name": "ipython",
    "version": 3
   },
   "file_extension": ".py",
   "mimetype": "text/x-python",
   "name": "python",
   "nbconvert_exporter": "python",
   "pygments_lexer": "ipython3",
   "version": "3.9.16"
  },
  "livereveal": {
   "theme": "sky"
  },
  "toc-autonumbering": false,
  "toc-showcode": false,
  "toc-showmarkdowntxt": false,
  "widgets": {
   "application/vnd.jupyter.widget-state+json": {
    "state": {},
    "version_major": 2,
    "version_minor": 0
   }
  }
 },
 "nbformat": 4,
 "nbformat_minor": 4
}
