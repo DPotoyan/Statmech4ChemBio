{
 "cells": [
  {
   "cell_type": "markdown",
   "metadata": {
    "slideshow": {
     "slide_type": "slide"
    }
   },
   "source": [
    "# Review of thermodynamics principles"
   ]
  },
  {
   "cell_type": "code",
   "execution_count": 2,
   "metadata": {},
   "outputs": [],
   "source": [
    "import matplotlib.pyplot as plt\n",
    "import numpy as np\n",
    "import scipy as sci\n",
    "\n",
    "from ipywidgets import widgets\n",
    "import holoviews as hv\n",
    "\n",
    "%matplotlib inline"
   ]
  },
  {
   "cell_type": "markdown",
   "metadata": {
    "slideshow": {
     "slide_type": "slide"
    }
   },
   "source": [
    "### Summary of the key principles thermodynamics\n",
    "\n",
    "1. Thermodynamics is a **phenomoneological** theory describing transofmrations between macrossytems in equilibrium. Phenomoneological means that the macroscopic phenomena are descibred terms of few quanitites which can be observed and measrued by macroscopic devices without any refernce to microscopic details.\n",
    "2. The variables one deals in thermodynamics can be classifeid as **extensive** and **intensive**. Former depends on the size of system (volume, number of particles, energy, entropy) the latter is size independent (temperature, pressure, magnetic field, etc). **Extensive variables** are a priviledges set of variables which uniquely define the equilibrium sates. **Intensive variables** are derived from extensive ones and are conjugate pairs to extensive ones. E.g $V-P$, $S-T$, $N-\\mu$ are conjugate pairs. Conjugate means one can replace extensive variables by intensive variables through legendre transformation.\n",
    "3. **Equilibrium** is a special state of matter where the most simple descirption is possible in terms of extensive variables or properly chosen set of extensive+intensive variables. Equilibrium state is defined as a state where on the timescale of interest no measurable variable dsiplays any changes over time. In particular there are no macrosopic fluxex or flows of any form of energy or matter. In equilibrium, macroscopic matter assumes a particularly simple description in terms of **few extensive quantites**. \n",
    "4.  **Fundmanetal equation** in thermodynamics is the equation that binds together all extensive variables, e.g $E(U,V,S,N_1, N_2, ...)$.      \n",
    "5. **Transformations between equilibrium states** is the central task of thermodynamics. Thermodynamics is fully equiped to predict the equilibrium state B which results form equilibrium state A through spontenous transformation upon removal of a **constraint.**  \n",
    "6. **Quasi-static path: a dense successtion of equilibrium states** that connects A with B in the space of extensive variables is constructed in order to compute changes in thermodynamic variables between states A and B. This equilibrium path is necessarily quasistatic for ensuring that system does not at all deviate from equilibrium state during transformation. The quasistatic path can also be reversible when the path from B to A can be re-traced with zero change in the universe while the system remains in the state of equilibrium. This necessitates intoduction of Entropy which differnetiates reversible from non-reversible changes. \n",
    "7. **Reversible transformations** Thermodynamic space is folliated into non-corssing **adiabats**. These adiabats are planes on whcih system can be transformed reversibly.  The only way to \"jump\" from one adiabt to another is by heating or cooling the system, e.g transfer of heat. \n",
    "8. **The first law** is a reflection of conservation of \"mechanical energy\" in many body systems such studied in thermodynamics. \n",
    "9. **The Second Law** establishes the directionality of processes. \n",
    "10. **Entropy of adiabatic system can not decrease**. Any change in adiabatic system is accompanied either by entropy increase (non-equilibrium change) or entropy remaining the same (equilibrium-change)"
   ]
  },
  {
   "cell_type": "markdown",
   "metadata": {
    "slideshow": {
     "slide_type": "slide"
    }
   },
   "source": [
    "### Basic features of macrosystems "
   ]
  },
  {
   "cell_type": "markdown",
   "metadata": {
    "slideshow": {
     "slide_type": "fragment"
    }
   },
   "source": [
    "Let us list some of the most conspicious features of macroscopic systems consisting of many particles:\n",
    "\n",
    "- **Additivitiy of Energy**\n",
    "- **Irreversibility of time evolution.** \n",
    "- **Simplicity and stability of equiliubrium states.**\n",
    "- **\"Invisibility\" of fluctuations**"
   ]
  },
  {
   "cell_type": "markdown",
   "metadata": {
    "slideshow": {
     "slide_type": "slide"
    }
   },
   "source": [
    "**Addititivty of Energy**\n",
    "\n",
    "The additivity of energy can hold if we assumed pairwise interactions between particles and decay with distance faster than the $r^{-3}$ in 3D. "
   ]
  },
  {
   "cell_type": "code",
   "execution_count": 23,
   "metadata": {
    "slideshow": {
     "slide_type": "slide"
    }
   },
   "outputs": [],
   "source": [
    "def U_LJ6_12(r, sig=1, eps=1):\n",
    "    '''Classic 6-12 Lennar Jones Potential\n",
    "    r: interatomic distance in units sigma\n",
    "    sigma: atomic/particle size\n",
    "    E: energy in units of epsilon\n",
    "    '''\n",
    "    \n",
    "    return 4*eps*((sig/r)**12 - (sig/r)**6)\n",
    "\n",
    "def U_dh(r, k=1):\n",
    "    '''Debye-Huckel potential modeling screening electorstatic \n",
    "    interactions between charged particles.\n",
    "    r: interactomic distance\n",
    "    k: screeening constant [1/nm]\n",
    "    '''\n",
    "    \n",
    "    return 1/r * np.exp(-k*r)"
   ]
  },
  {
   "cell_type": "code",
   "execution_count": 28,
   "metadata": {
    "slideshow": {
     "slide_type": "slide"
    }
   },
   "outputs": [
    {
     "data": {
      "text/plain": [
       "<matplotlib.legend.Legend at 0x7fdda0e9bbe0>"
      ]
     },
     "execution_count": 28,
     "metadata": {},
     "output_type": "execute_result"
    },
    {
     "data": {
      "image/png": "[encoded data removed]",
      "text/plain": [
       "<Figure size 432x288 with 1 Axes>"
      ]
     },
     "metadata": {
      "needs_background": "light"
     },
     "output_type": "display_data"
    }
   ],
   "source": [
    "fig, ax = plt.subplots()\n",
    "\n",
    "dist = np.linspace(1, 5,100)\n",
    "\n",
    "ax.plot(dist, U_dh(dist,k=1), label='$U_{dh}(r)$' )\n",
    "ax.plot(dist, U_LJ6_12(dist,sig=1,eps=1), label='$U_{LJ}(r)$' )\n",
    "ax.plot(dist, 1/dist**3, label='$1/r^3$', color='grey')\n",
    "ax.set(xlabel='$r, [\\sigma]$', ylabel='$U_{LJ}(r)$')\n",
    "ax.legend()"
   ]
  },
  {
   "cell_type": "markdown",
   "metadata": {
    "slideshow": {
     "slide_type": "slide"
    }
   },
   "source": [
    "#### Irreversibility\n",
    "\n",
    "[Poincarre recurrence theorem](https://en.wikipedia.org/wiki/Poincar%C3%A9_recurrence_theorem)\n",
    "\n",
    "If you play bridge long enough you will eventually be dealt any grand-slam hand, not once but several times. A similar thing is true for mechanical systems governed by Newton's laws, as the French mathematician Henri Poincare (1854-1912) showed with his recurrence theorem in 1890: if the system has a fixed total energy that restricts its dynamics to bounded subsets of its phase space, the system will eventually return as closely as you like to any given initial set of molecular positions and velocities. If the entropy is determined by these variables, then it must also return to its original value, so if it increases during one period of time it must decrease during another.\n",
    "\n",
    "<img src=\"./figs/recurrence.jpg\"  class=\"bg-primary\" width=\"400px\">\n",
    "\n",
    "- Zermello is right for small systems. A dynamical system will alwasy return to its starting configuration hence irreversibility is not a property of micrsccopic systems.  \n",
    "\n",
    "- Boltzman is right for large systems becasue a likelihhood of recurrence for macrosystem happening is beyond the lifetime of a universie. Case closed. \n"
   ]
  },
  {
   "cell_type": "markdown",
   "metadata": {
    "slideshow": {
     "slide_type": "slide"
    }
   },
   "source": [
    "### Extensive vs Intensive\n",
    "\n",
    "The **extensive variables (E,V,N)** are a priviledged set of variables in thermodynamin space becasue:\n",
    "- Proportional to the size of the system \n",
    "- Uniquely describe macroscopic states \n",
    "- Only mechanics/electromagnetis is needed without introdcuing derived notions of heat and temperature. \n",
    "\n",
    "The **intensive variables (T, P, $\\mu$)** are derived from extensive variables and are therefore derived, conveient variables for controlling experiments. Thus, intensive variables do not have the same status of extenisve variables. \n",
    "\n",
    "- A glass of water with and without ice cube can both be under 1 atm and 0 C whereas values of energy, entropy volume will be different. "
   ]
  },
  {
   "cell_type": "markdown",
   "metadata": {
    "slideshow": {
     "slide_type": "slide"
    }
   },
   "source": [
    "### Thermodynamic coordinates and thermodynamic space. "
   ]
  },
  {
   "cell_type": "markdown",
   "metadata": {
    "slideshow": {
     "slide_type": "fragment"
    }
   },
   "source": [
    "- State of equilibrium is completely defined as a point in the space of thermodynamic coordinates:  $E, V, N, S$. Theese coordinates have a **unique** and well defined values for each equilirbum state irresective to how such state was created.  Weather through violent non-equilibrimu process or calm quasi-static sequence of equilibrou states. This is why the functions of extensive variables $E(S,V,N)$ or $S(E,V,N)$ are called **state functions** and their changes are given by differnee between initial or final state only $\\Delta E =E_f -E_i$, $\\Delta S =S_f -S_i$. The work $W$ or heat $Q$ on the other hand are process dependent characterizing the way  energy is trasnfered to the system and not characterizing equilibrium states itself.  \n",
    "\n",
    "- Study of thermodynamic processes than boils down to study of transofrmations between equilibium A to equilibrium B in the **thermodynamic space** spanned by thermodynamic coordinates. E.g computing $\\Delta E = E_B - E_A$\n",
    "\n",
    "- To compute changes between equilirbum state A and B we construct reversible (read equilirbium) and quasistatic path connecting the two states which allwos writing down exact differntials for state changes. "
   ]
  },
  {
   "cell_type": "markdown",
   "metadata": {
    "slideshow": {
     "slide_type": "slide"
    }
   },
   "source": [
    "### Reversible, quasistatic process\n",
    "\n",
    "<img src=\"./figs/adiabat.png\"  class=\"bg-primary\" width=\"400px\">"
   ]
  },
  {
   "cell_type": "markdown",
   "metadata": {
    "slideshow": {
     "slide_type": "slide"
    }
   },
   "source": [
    "### Plank's statment of 2nd law\n",
    "\n",
    "<img src=\"./figs/plank.png\"  class=\"bg-primary mb-1\" width=\"400px\">\n",
    "\n",
    "- **Planck’s formulation of 2nd Law:** For any adiabatic process with all the work coordinates returning to\n",
    "their original values $\\Delta E \\geq 0$ \" M Plank\n",
    " \n",
    "- In other words doing pure mechanical work on insulated(read adiabatic) system with no net change in mechanical variables results in energy either going up or remaining unchanged $\\Delta E \\geq 0$.  Thus we can not through mechanical work \"steal\" energy away from closed system wihtout any other change in the environment.    "
   ]
  },
  {
   "cell_type": "markdown",
   "metadata": {
    "slideshow": {
     "slide_type": "slide"
    }
   },
   "source": [
    "### Thermodynamic space is made up of non-crossing adiabats. \n",
    "\n",
    "<img src=\"./figs/Adiabats.png\"  class=\"bg-primary\" width=\"400px\">"
   ]
  },
  {
   "cell_type": "markdown",
   "metadata": {
    "slideshow": {
     "slide_type": "slide"
    }
   },
   "source": [
    "### Nope-1\n",
    "\n",
    "<img src=\"./figs/NO1.png\"  class=\"bg-primary\" width=\"400px\">"
   ]
  },
  {
   "cell_type": "markdown",
   "metadata": {
    "slideshow": {
     "slide_type": "slide"
    }
   },
   "source": [
    "### Nope-2\n",
    "\n",
    "<img src=\"./figs/NO2.png\"  class=\"bg-primary\" width=\"400px\">"
   ]
  },
  {
   "cell_type": "markdown",
   "metadata": {
    "slideshow": {
     "slide_type": "slide"
    }
   },
   "source": [
    "### First Law\n",
    "\n",
    "Mechanical energy conservation law extended to many-body thermal systems\n",
    "\n",
    "$$dE = \\delta Q +\\delta W$$"
   ]
  },
  {
   "cell_type": "markdown",
   "metadata": {
    "slideshow": {
     "slide_type": "fragment"
    }
   },
   "source": [
    "### Second Law\n",
    "\n",
    "For an adiabatic quasisatic process entropy always increases or remains the same (in the equilibrium state). \n",
    "\n",
    "$$dS \\geq 0$$"
   ]
  },
  {
   "cell_type": "markdown",
   "metadata": {
    "slideshow": {
     "slide_type": "slide"
    }
   },
   "source": [
    "### Gibbs relation\n",
    "\n",
    "Given the energy as a function of extensive variables $E(S,V,N)$ we can write down its full differntial. \n",
    "\n",
    "\n",
    "$$dE = \\Big(\\frac{\\partial E}{\\partial S} \\Big)_{V,N}dS+ \\Big(\\frac{\\partial E}{\\partial V} \\Big)_{S,N}dV+\\Big(\\frac{\\partial E}{\\partial N} \\Big)_{S,V}dN$$\n",
    "\n",
    "We identify **intensive variables** conjugate to extenive variables:\n",
    "\n",
    "-  $$T = \\Big(\\frac{\\partial E}{\\partial S} \\Big)_{V,N}$$\n",
    "\n",
    "-  $$P = \\Big(\\frac{\\partial E}{\\partial V} \\Big)_{S,N}$$\n",
    "\n",
    "-  $$\\mu = \\Big(\\frac{\\partial E}{\\partial N} \\Big)_{S,V}$$\n",
    "\n",
    "This is known as **Gibbs relation** in Thermodynamics and is a starting point for thermodynamic calculations\n",
    "\n",
    "$$\\boxed{dE=  TdS - pdV +\\mu dN}$$"
   ]
  },
  {
   "cell_type": "markdown",
   "metadata": {
    "slideshow": {
     "slide_type": "slide"
    }
   },
   "source": [
    "### Gibbs Duhem relation\n",
    "\n",
    "Extensivity proeprty implies linear scaling with respect to extensive variables. In other words extensive variables are additive quantities \n",
    "\n",
    "$$E(\\lambda S,\\lambda V,\\lambda N) = \\lambda E(S,V,N)$$ \n",
    "\n",
    "$$E = \\Big(\\frac{\\partial E}{\\partial \\lambda S} \\Big)_{V,N}S+ \\Big(\\frac{\\partial E}{\\partial  \\lambda V} \\Big)_{S,N}V+\\Big(\\frac{\\partial E}{\\partial  \\lambda N} \\Big)_{S,V}N$$\n",
    "\n",
    "$$E = TS -PV +\\mu N$$\n",
    "\n",
    "Now take derivative of E and compare with Gibbs relation\n",
    "\n",
    "$$\\boxed{SdT-VdP+Nd\\mu =0}$$"
   ]
  },
  {
   "cell_type": "markdown",
   "metadata": {
    "slideshow": {
     "slide_type": "slide"
    }
   },
   "source": [
    "### Second order thermodynamic quantities"
   ]
  },
  {
   "cell_type": "markdown",
   "metadata": {
    "slideshow": {
     "slide_type": "fragment"
    }
   },
   "source": [
    "**Heat capacities at constnat P and V.** \n",
    "\n",
    "$$C_p = \\Big(\\frac{d Q}{dT} \\Big)_{p,N}$$\n",
    "\n",
    "$$C_v = \\Big(\\frac{d Q}{dT} \\Big)_{v,N}$$\n",
    "\n",
    "> Thermal stability requires $c_v,c_p\\geq 0$\n",
    "\n",
    "**Expansion and compression coefficients.** \n",
    "\n",
    "- Thermal expansion coefficient \n",
    "\n",
    "$$\\alpha  = \\frac{1}{V}\\Big(\\frac{d V}{dT} \\Big)_{p,N}$$\n",
    "\n",
    "- Isothermal compressibility coeff:\n",
    "\n",
    "$$\\kappa_T  = -\\frac{1}{V}\\Big(\\frac{d V}{dP} \\Big)_{T,N}$$\n",
    "\n",
    "> Mechanical stability requires $\\kappa_T\\geq 0$"
   ]
  },
  {
   "cell_type": "markdown",
   "metadata": {
    "slideshow": {
     "slide_type": "slide"
    }
   },
   "source": [
    "### Ideal Gas entropy example\n",
    "\n",
    "$$dS = \\frac{1}{T}dE + \\frac{P}{T}dV$$\n",
    "\n",
    "- $E = \\frac{3}{2}Nk_B T$ and $PV = Nk_BT$ for monoatomic gas\n",
    "\n",
    "$$dS = \\frac{3Nk_B}{2E}dE + \\frac{Nk_B}{V}dV$$\n",
    "\n",
    "\n",
    "$$S(E,V,N) = \\frac{3}{2}Nk_B log \\frac{E}{N} +Nk log \\frac{V}{N} + const$$"
   ]
  },
  {
   "cell_type": "markdown",
   "metadata": {
    "slideshow": {
     "slide_type": "slide"
    }
   },
   "source": [
    "### Convexity of Entropy and Concavity of Energy"
   ]
  },
  {
   "cell_type": "markdown",
   "metadata": {
    "slideshow": {
     "slide_type": "fragment"
    }
   },
   "source": [
    "Entropy $S(E,V,N)$ of a composite system is additive over each one of the individual components. The entropy is therefore continuous, differentiable, and monotonically increasing function of the energy $S(E)$\n",
    "\n",
    "\n",
    "![](./figs/concave_convex.png)\n",
    "\n",
    "To sum up we have the follwing fundamental properties that any Entropy as a function of extensive variables should obey:\n",
    "\n",
    "- $S(\\alpha E + (1-\\alpha) E^{'}, \\alpha V + (1-\\alpha) V^{'}) \\geq \\alpha S_1 (E, V) +(1-\\alpha) S_2(E^{'}, V^{'})$ \n",
    "\n",
    "- $S(\\lambda E,\\lambda V, \\lambda N) = \\lambda S(E,V,N)$ \n",
    "\n",
    "- $\\frac{\\partial S}{\\partial E} > 0$  \n",
    "\n",
    "- $\\frac{\\partial E}{\\partial S} = 0,\\ as\\ S \\rightarrow 0$\n"
   ]
  },
  {
   "cell_type": "markdown",
   "metadata": {
    "slideshow": {
     "slide_type": "slide"
    }
   },
   "source": [
    "### Free Energies and Legendre transforms\n",
    "\n",
    "**Motivation:** The energy E is naturally a function of all extensive variables $(S, V, N, ...)$, as can be seen for example from the form of the thermodynamic identity for $dE$. \n",
    "\n",
    "- We now introduce quantities with dimensions of energy that have useful physical interpretations and simplify calculations in situations where we control a different set of variables.\n",
    "\n",
    "$$E(S,V,N) \\rightarrow A(T,V,N)$$\n",
    "\n",
    "$$E(S,V,N) \\rightarrow G(T,p,N)$$\n",
    "\n",
    "$$E(S,V,N) \\rightarrow \\Omega(T,p,\\mu)$$\n",
    "\n",
    "- We are swapping extensive variables for intensive ones\n",
    "- Free energies contain as much information as the $E(S, V, N)$ function from which they were dervied by a unique one to one transformation.\n",
    "- Free energies have different independent variables that are often more convenient to control experimentally, e.g pressure and temperature instead of entropy "
   ]
  },
  {
   "cell_type": "markdown",
   "metadata": {},
   "source": [
    "**Idea** Every pair of conjugate intensive-extensive variables can be used to replace one of the basic thermodynamical variables by its conjugate one. E,g $(p, -V)$, $(S, T)$, $(\\mu N)$ are conjucate pairs as can be seen from the expression of dE. \n",
    "\n",
    "- Specifically, for each pair ($f_i$, $X_i$) we can define a new thermodynamic potential by the Legendre transformation $A = E − f_i X_i$\n",
    "- we can also use more than one pair of variables\n",
    "to define A. \n",
    "- The most important effect is seen in the form of the fundamental identity of thermodynamics, where the role of E is taken over by A, using the fact that the definition of A implies\n",
    "\n",
    "$$dA = dE − Xi dfi − fi dX$$"
   ]
  },
  {
   "cell_type": "markdown",
   "metadata": {},
   "source": [
    "**Helmholtz Free energy**\n",
    "\n",
    "$$F = E- TS$$\n",
    "\n",
    "$$dF = dE -d(TS) = dE - TdS - SdT$$\n",
    "\n",
    "$$dF = -SdT - pdV + \\mu dN$$\n",
    "\n",
    "\n",
    "**GibbsFree energy**\n",
    "\n",
    "$$F = E- TS + pV$$\n",
    "\n",
    "$$dG = dE -d(TS) + d(pV) = dE - TdS - SdT + pdV + Vdp$$\n",
    "\n",
    "$$dG = -SdT + Vdp + \\mu dN$$"
   ]
  },
  {
   "cell_type": "markdown",
   "metadata": {
    "slideshow": {
     "slide_type": "slide"
    }
   },
   "source": [
    "### Mathematics of Legendre Transform\n",
    "\n",
    "Genrally speaking legendre transform is transforming one convex function $f(x)$ into another $f^*(\\alpha)$. \n",
    "Morover, the transofmraiton is involutive, meaning it is its own inverse. If we apply legendre trnsform to a function if single variable twice we get back to orginal function! \n",
    "\n",
    "![](./figs/Legendre.png)\n",
    "\n",
    "\n",
    "$$f^*(\\alpha) = max_x  \\big [{\\alpha x - f(x)} \\big ]$$\n",
    "\n",
    "$$f(x) = max_{\\alpha} \\big [ {\\alpha x - f^*(\\alpha)} \\big ]$$"
   ]
  },
  {
   "cell_type": "markdown",
   "metadata": {
    "slideshow": {
     "slide_type": "slide"
    }
   },
   "source": [
    "#### Example of Legendre transform-1\n",
    "\n",
    "$$f(x) = x^2$$\n",
    "\n",
    "$$a = f'(x) =2x \\rightarrow x = a/2 $$\n",
    "\n",
    "$$g(\\alpha) = f^*(\\alpha) = max_x \\Big[ \\alpha x - f(x) \\Big ] = \\alpha^2/2 - \\alpha^2/4 = \\alpha^2/4$$"
   ]
  },
  {
   "cell_type": "code",
   "execution_count": 3,
   "metadata": {
    "slideshow": {
     "slide_type": "slide"
    }
   },
   "outputs": [],
   "source": [
    "f = lambda x: x**2\n",
    "\n",
    "g = lambda a: a*(a/2) - f(a/2)   # deriv f(x) = 2x = a ---> x = a/2"
   ]
  },
  {
   "cell_type": "code",
   "execution_count": 4,
   "metadata": {
    "slideshow": {
     "slide_type": "slide"
    }
   },
   "outputs": [
    {
     "data": {
      "application/vnd.jupyter.widget-view+json": {
       "model_id": "06b66a5f815b4a5c9e5537778c56ce18",
       "version_major": 2,
       "version_minor": 0
      },
      "text/plain": [
       "interactive(children=(FloatSlider(value=1.0, description='a', max=2.0, step=0.2), Output()), _dom_classes=('wi…"
      ]
     },
     "metadata": {},
     "output_type": "display_data"
    }
   ],
   "source": [
    "@widgets.interact(a=(0,2,0.2))\n",
    "def legendre_transf(a):\n",
    "    \n",
    "    fig,ax =plt.subplots(nrows=1,ncols=2, figsize = (10,4))\n",
    "    \n",
    "    x = np.linspace(0,1,100)\n",
    "    ax[0].plot(x,f(x),lw=3) \n",
    "    ax[0].plot(x, a*x-g(a),'--')\n",
    "    \n",
    "    ax[0].set_title('$f(x) = x^2$')\n",
    "    ax[0].legend(['f(x)', f\"$y = ax-g(a)$ = {a}x -{g(a):.2f}\"])    \n",
    "    ax[0].set_xlim(0,1.2)\n",
    "    ax[0].set_ylim(0,1.2)\n",
    "    ax[0].set_xlabel('x',fontsize=20)\n",
    "    ax[0].set_ylabel('f(x)',fontsize=20)\n",
    "    ax[0].grid('on')\n",
    "    \n",
    "    ax[1].set_title('$g(a) = max_x [ax-f(x)]= a^2/2$')\n",
    "    ax[1].plot(a,g(a),'o',color='orange',ms=12)\n",
    "    ax[1].plot(np.linspace(0,2,10),g(np.linspace(0,2,10)),'-',lw=3, color='red')\n",
    "    ax[1].set_xlim(0,1.2)\n",
    "    ax[1].set_ylim(0,1.2)\n",
    "    ax[1].set_xlabel('a',fontsize=20)\n",
    "    ax[1].set_ylabel('g(a)',fontsize=20)\n",
    "    ax[1].grid('on') "
   ]
  },
  {
   "cell_type": "markdown",
   "metadata": {
    "slideshow": {
     "slide_type": "slide"
    }
   },
   "source": [
    "#### Example of Legendre transform-2\n",
    "\n",
    "$$f(x) = e^x$$\n",
    "\n",
    "$$a = f'(x) =e^x \\rightarrow x = log a$$\n",
    "\n",
    "$$g(\\alpha) = max_x \\Big[ \\alpha x - f(x) \\Big ] = a(log a-1)$$"
   ]
  },
  {
   "cell_type": "code",
   "execution_count": 5,
   "metadata": {
    "slideshow": {
     "slide_type": "slide"
    }
   },
   "outputs": [],
   "source": [
    "f2 = lambda x: np.exp(x)\n",
    "\n",
    "g2 = lambda a: a*np.log(a) - f2(np.log(a))   # deriv f(x) = e^x = a ---> x = log a"
   ]
  },
  {
   "cell_type": "code",
   "execution_count": 6,
   "metadata": {
    "slideshow": {
     "slide_type": "slide"
    }
   },
   "outputs": [
    {
     "data": {
      "application/vnd.jupyter.widget-view+json": {
       "model_id": "9a257c6ac8bc425eb8f1db0a013bc786",
       "version_major": 2,
       "version_minor": 0
      },
      "text/plain": [
       "interactive(children=(FloatSlider(value=2.0, description='a', max=3.0, min=1.0, step=0.2), Output()), _dom_cla…"
      ]
     },
     "metadata": {},
     "output_type": "display_data"
    }
   ],
   "source": [
    "@widgets.interact(a=(1,3,0.2))\n",
    "def legendre_transf(a):\n",
    "    \n",
    "    fig,ax =plt.subplots(nrows=1,ncols=2, figsize = (10,4))\n",
    "    \n",
    "    x = np.linspace(0,1,100)\n",
    "    ax[0].plot(x,f2(x),lw=3) \n",
    "    ax[0].plot(x, a*x-g2(a),'--')\n",
    "    \n",
    "    ax[0].set_title('$f(x) = x^2$')\n",
    "    ax[0].legend(['f(x)', f\"$y = ax-g(a)$ = {a:.2f}x-{g2(a):.2f}\"])    \n",
    "    ax[0].set_xlim(0,1.2)\n",
    "    ax[0].set_ylim(0,3)\n",
    "    ax[0].set_xlabel('x',fontsize=20)\n",
    "    ax[0].set_ylabel('f(x)',fontsize=20)\n",
    "    ax[0].grid('on')\n",
    "    \n",
    "    ax[1].set_title('$g(a) = max_x [ax-f(x)]= a(log a-1)$')\n",
    "    ax[1].plot(a,g(a),'o',color='orange',ms=12)\n",
    "    ax[1].plot(np.linspace(0,3,10),g(np.linspace(0,3,10)),'-',lw=3, color='red')\n",
    "    ax[1].set_xlim(0,3)\n",
    "    ax[1].set_ylim(0,3)\n",
    "    ax[1].set_xlabel('a',fontsize=20)\n",
    "    ax[1].set_ylabel('g(a)',fontsize=20)\n",
    "    ax[1].grid('on') "
   ]
  },
  {
   "cell_type": "markdown",
   "metadata": {},
   "source": [
    "### Legendre Transform numerically  (via numpy/scipy )"
   ]
  },
  {
   "cell_type": "code",
   "execution_count": 31,
   "metadata": {},
   "outputs": [],
   "source": [
    "def legendre_transf(f, a=1, guess_0=0):\n",
    "    \n",
    "    '''Legendre transform function f to g \n",
    "    \n",
    "    INPUT:\n",
    "    f <-- function\n",
    "    a <-- value of new variable\n",
    "    \n",
    "    OUTPUT:\n",
    "    g(a) = min_x[a*x-f(x)] legendre transform at point a\n",
    "    '''\n",
    "    \n",
    "    min_x, = sci.optimize.fmin(lambda x: f(x)-a*x, guess_0) \n",
    "            \n",
    "    return a*min_x - f(min_x)"
   ]
  },
  {
   "cell_type": "code",
   "execution_count": 336,
   "metadata": {},
   "outputs": [],
   "source": [
    "f = lambda x: x**2+x**4\n",
    "\n",
    "#g = [legendre_transf(f, a) for a in np.linspace(0,1,100)]"
   ]
  },
  {
   "cell_type": "markdown",
   "metadata": {},
   "source": [
    "### Exercises\n",
    "\n",
    "#### Is it fundamental enough?\n",
    "\n",
    "The following ten equations are purported to be fundamental equations for various thermodynamic systems. Five, however, are inconsisent with the basic postulates of a fundamental equation and are thus unphysical.  For each, plot the relationship between $S$ and $U$ and identify the five that are unacceptable. $v_0$, $\\theta$, and $R$ are all positive constants and, in the case of fractional exponents, the real positive root is to be implied.\n",
    "\n",
    "1. $\\ S = \\left ( \\frac{R^2}{v_0\\theta} \\right )^{1/3}\\left ( NVU \\right\n",
    ")^{1/3}$\n",
    "\n",
    "2. $S = \\left ( \\frac{R}{\\theta^2} \\right )^{1/3}\\left ( \\frac{NU}{V} \\right)^{2/3}$\n",
    "\n",
    "3. $S = \\left ( \\frac{R}{\\theta} \\right )^{1/2}\\left ( NU + \\frac{R\\theta V^2}{v_0^2} \\right)^{1/2}$\n",
    "\n",
    "4. $S = \\left ( \\frac{R^2\\theta}{v_0^3} \\right ) \\frac{V^3}{NU}$\n",
    "\n",
    "5. $S = \\left ( \\frac{R^3}{v_0\\theta^2} \\right )^{1/5}\\left ( N^2U^2V \\right)$\n",
    "\n",
    "6. $S = NR \\ln \\left ( \\frac{UV}{N^2 R \\theta v_0}  \\right )$\n",
    "\n",
    "7. $S = \\left ( \\frac{NRU}{\\theta} \\right )^{1/2}\\exp \\left (-\\frac{V^2}{2N^2v_0^2} \\right )$\n",
    "\n",
    "8. $S = \\left ( \\frac{NRU}{\\theta} \\right )^{1/2}\\exp\n",
    "\\left (-\\frac{UV}{NR\\theta v_0} \\right )$\n",
    "\n",
    "9. $U = \\left ( \\frac{NR\\theta V}{v_0} \\right ) \\left ( 1+\\frac{S}{NR} \\right ) \\exp \\left (-S/NR \\right)$\n",
    "\n",
    "10. $U = \\left ( \\frac{v_0\\theta}{R} \\right ) \\frac{S^2}{V} \\exp\\left ( S/NR \\right)$\n"
   ]
  },
  {
   "cell_type": "markdown",
   "metadata": {},
   "source": [
    "#### Where is my equilibrium state?\n",
    "\n",
    "The fundamental equations of both systems $A$ and $B$ are \n",
    "\n",
    "$$S = \\left (\\frac{R^2}{v_0\\theta} \\right )^{1/3} \\left ( N V U \\right )^{1/3}$$\n",
    "\n",
    "The volume and mole number of system $A$ are $ 9 \\times 10^{-6}\\ m^3 $ and $3$ mol\n",
    "and of system $B$ are $ 4 \\times 10^{-6}\\ m^3 $ and $2$ mol, respectively.  Assume $A$ and $B$ are completely isolated from one\n",
    "another.  \n",
    "\n",
    "- Plot the total entropy $S_A + S_B$ as function of $X=U_A/(U_A + U_B)$,\n",
    "where $U_A + U_B = 80 J$ \n",
    "- If $A$ and $B$ were connected by a diathermal wall and\n",
    "the pair allowed to come to equilibrium, what would $U_A$ and $U_B$ be?\n",
    "\n",
    "---"
   ]
  },
  {
   "cell_type": "markdown",
   "metadata": {},
   "source": [
    "**Solution**\n",
    "$$X = \\frac{U_A}{U_A + U_B}$$\n",
    "\n",
    "we know $U_A + U_B = 80$, therefore\n",
    "\n",
    "$$ U_A = 80X,\\hspace{20pt} U_B = 80(1 - X) $$\n",
    "\n",
    "Then setting $R, v_0, \\theta = 1 $ and plugging in $V_A$, $V_B$, $N_A$ and $N_B$.\n",
    "\n",
    "$S = S_A + S_B = \\left(3 \\times 9 \\times 10^{-6} \\times 80X \\right)^{1/3} + \\left(2 \\times 4 \\times 10^{-6} \\times 80(1-X)\\right)^{1/3} = 0.086(1-X)^{1/3} + 0.129X^{1/3}$\n",
    "\n",
    "Entropy is maximized when $X = 0.65$, which is where we would expect the system to go at equilibrium once the internal wall is made diathermal."
   ]
  },
  {
   "cell_type": "code",
   "execution_count": 30,
   "metadata": {},
   "outputs": [
    {
     "data": {
      "text/plain": [
       "Text(0, 0.5, 'S(X)')"
      ]
     },
     "execution_count": 30,
     "metadata": {},
     "output_type": "execute_result"
    },
    {
     "data": {
      "image/png": "[encoded data removed]",
      "text/plain": [
       "<Figure size 432x288 with 1 Axes>"
      ]
     },
     "metadata": {
      "needs_background": "light"
     },
     "output_type": "display_data"
    }
   ],
   "source": [
    "X = np.linspace(0,1,100)\n",
    "S = 0.086 * (1 - X)**(1./3) + 0.129 * (X**(1./3))\n",
    "\n",
    "plt.plot(X, S,'-o')\n",
    "\n",
    "plt.xlabel('X')\n",
    "plt.ylabel('S(X)')"
   ]
  },
  {
   "cell_type": "markdown",
   "metadata": {},
   "source": [
    "### Problems \n",
    "\n",
    "#### Basic notions of thermodynamics\n",
    "\n",
    "1. Give an example of a process in which a system is not heated, but its temperature increases. Also give an example of a process in which a system is heated, but its temperature is unchanged.\n",
    " \n",
    "2. Which states are in an equilibrium state, a time dependent non-equilibrium state, or time independent but still non-equilibrium state (e.g steady stae). Explain your reasoning. In some cases, the state is not a true steady or equilibrium state but close to one. Discuss under what conditions it can be treated as a steady or equilibrium state. \n",
    "    - a cup of hot tea, sitting on the table while cooling down \n",
    "    - the wine in a bottle that is stored in a wine cellar \n",
    "    - the sun \n",
    "    - the atmosphere of the earth \n",
    "    - electrons in the wiring of a flashlight switched off \n",
    "    - electrons in the wiring of a flashlight switched on\n",
    "3. What is meant by a constraint in thermodynamics and why its removal must always lead to increase of entropy?\n",
    "4. What is meant by a quasi-static process in thermodynamics and how this idealization is used for computing changes in thermodynamic variables?\n",
    "5. What is the difference between fundemtnal equation in thermodyamics $S(E,V,N)=$ vs state equation $P(V,N,T)$ e.g like $PV=NRT$ for ideal gas. \n",
    "\n",
    "6. Why during a spotneous transofrmation of systems  entropy tend to its maximum value. This is the reason why we use entropy maximization as a powerful tool to predict the final equilibrium states. \n",
    "\n",
    "7. Why do we introduce Free energies of various kinds? Explain why free energy minimization is equivalent of total entropy maximization. \n",
    "\n",
    "8. Can part of the entropy of a part of a total system decrease? Give some exmaples. \n",
    "\n",
    "9. Does the change of the entropy depend on the path between two equilibrium states?\n",
    "\n",
    "10. How is adiabatic process different from quasistatic and reversible process?  \n",
    "\n"
   ]
  },
  {
   "cell_type": "markdown",
   "metadata": {},
   "source": [
    "#### Expansion of a gas into vacuum\n",
    "\n",
    "\n",
    "-  Suppose that a gas expands adiabatically into a vacuum. What is the work done by the gas?\n",
    "-  Suppose that the total energy of the gas is given by \n",
    "\n",
    "$$E = 3/2NkT −N^2 V/a$$\n",
    "\n",
    " Initially the gas occupies a volume $V_1$ at a temperature $T_1$. The gas then expands adiabatically into a vacuum so that it occupies a total volume $V_2$. What is the final temperature $T_2$ of the gas?"
   ]
  },
  {
   "cell_type": "markdown",
   "metadata": {},
   "source": [
    "#### Entropy changes\n",
    "\n",
    "1. kg of water (specific heat = 4.2 kJ/(kg·K)) at $0 ^oC$ is in contact with a $50 ^oC$ heat bath, and eventually reaches $50 ^oC$. What is the entropy change of the water? What is the increase of the entropy of this water plus the heat bath?\n",
    "\n",
    "2. Instead of (1) first the water at $0 ^oC$ is in contact with a $25 ^oC$ heat bath. Then, after reaching thermal equilibrium, the water is in contact with a $50 ^oC$ heat bath to reach the final temperature $50 ^oC$ as in (1). What is the increase of the entropy of the water plus the two heat baths?\n",
    "\n",
    "3. Show that in the two-step heating process whatever the first heat bath temperature T is between $0^oC$ and $50^oC$, the total change of entropy of the water plus heat baths is less than the case of (1)"
   ]
  },
  {
   "cell_type": "markdown",
   "metadata": {},
   "source": [
    "#### Legendre transforms\n",
    "\n",
    "Carry out the following transformations and plot the resulting function with matploltib. \n",
    "\n",
    "- From $f(x) = x^2+x^4$ to $g(a)$ \n",
    "\n",
    "- From $f(x,y,z) = x^2+y^4+logz$ to $g(a,b,c)$\n",
    "\n",
    "- From $G(T,p,N)$ to $A(S,p,N)$\n",
    "\n",
    "- From $\\Omega(T,p,\\mu)$ to $E(S,V,N)$\n",
    "\n",
    "\n"
   ]
  },
  {
   "cell_type": "markdown",
   "metadata": {},
   "source": [
    "#### Manipulating derivatives\n",
    "\n",
    "Derive the following identities: \n",
    "\n",
    "- $$\\Big( \\frac{\\partial C_p}{\\partial P} \\Big)_T = - T \\Big( \\frac{\\partial^2 V}{\\partial T^2} \\Big)_P$$\n",
    "\n",
    "- $$\\Big( \\frac{\\partial C_v}{\\partial V} \\Big)_T =  T \\Big( \\frac{\\partial^2 P}{\\partial T^2} \\Big)_V$$\n"
   ]
  }
 ],
 "metadata": {
  "kernelspec": {
   "display_name": "Python 3",
   "language": "python",
   "name": "python3"
  },
  "language_info": {
   "codemirror_mode": {
    "name": "ipython",
    "version": 3
   },
   "file_extension": ".py",
   "mimetype": "text/x-python",
   "name": "python",
   "nbconvert_exporter": "python",
   "pygments_lexer": "ipython3",
   "version": "3.8.8"
  },
  "livereveal": {
   "theme": "sky"
  },
  "toc-autonumbering": false,
  "toc-showcode": false,
  "toc-showmarkdowntxt": false,
  "widgets": {
   "application/vnd.jupyter.widget-state+json": {
    "state": {},
    "version_major": 2,
    "version_minor": 0
   }
  }
 },
 "nbformat": 4,
 "nbformat_minor": 4
}
