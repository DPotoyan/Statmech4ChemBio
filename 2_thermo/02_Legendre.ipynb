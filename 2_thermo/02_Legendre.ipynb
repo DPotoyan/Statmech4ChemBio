{
 "cells": [
  {
   "cell_type": "markdown",
   "metadata": {},
   "source": [
    "# Legendre transform"
   ]
  },
  {
   "cell_type": "code",
   "execution_count": 8,
   "metadata": {},
   "outputs": [],
   "source": [
    "import matplotlib.pyplot as plt\n",
    "import numpy as np\n",
    "import scipy as sci\n",
    "from ipywidgets import widgets"
   ]
  },
  {
   "cell_type": "markdown",
   "metadata": {},
   "source": [
    "### Convexity of Entropy and Concavity of Energy\n",
    "\n",
    "Entropy $S(E,V,N)$ of a composite system is additive over each one of the individual components. \n",
    "\n",
    "![](./figs/concave_convex.png)\n",
    "\n",
    "To sum up we have the follwing fundamental properties that any Entropy as a function of extensive variables should obey:\n",
    "\n",
    "- $S(\\alpha E + (1-\\alpha) E^{'}, \\alpha V + (1-\\alpha) V^{'}) \\geq \\alpha S_1 (E, V) +(1-\\alpha) S_2(E^{'}, V^{'})$ \n",
    "\n",
    "- $S(\\lambda E,\\lambda V, \\lambda N) = \\lambda S(E,V,N)$ \n",
    "\n",
    "- $\\frac{\\partial S}{\\partial E} > 0$  \n",
    "\n",
    "- $\\frac{\\partial E}{\\partial S} = 0,\\ as\\ S \\rightarrow 0$"
   ]
  },
  {
   "cell_type": "markdown",
   "metadata": {},
   "source": [
    "### Mathematics of Legendre Transform\n",
    "\n",
    "Genrally speaking legendre transform is transforming one convex function $f(x)$ into another $f^*(\\alpha)$. \n",
    "Morover, the transofmraiton is involutive, meaning it is its own inverse. If we apply legendre trnsform to a function if single variable twice we get back to orginal function! \n",
    "\n",
    "![](./figs/Legendre.png)\n",
    "\n",
    "\n",
    "$$f^*(\\alpha) = max_x  \\big [{\\alpha x - f(x)} \\big ]$$\n",
    "\n",
    "$$f(x) = max_{\\alpha} \\big [ {\\alpha x - f^*(\\alpha)} \\big ]$$"
   ]
  },
  {
   "cell_type": "markdown",
   "metadata": {},
   "source": [
    "#### Example of Legendre transform-1\n",
    "\n",
    "$$f(x) = x^2$$\n",
    "\n",
    "$$a = f'(x) =2x \\rightarrow x = a/2 $$\n",
    "\n",
    "$$g(\\alpha) = f^*(\\alpha) = max_x \\Big[ \\alpha x - f(x) \\Big ] = \\alpha^2/2 - \\alpha^2/4 = \\alpha^2/4$$"
   ]
  },
  {
   "cell_type": "code",
   "execution_count": 9,
   "metadata": {},
   "outputs": [],
   "source": [
    "f = lambda x: x**2\n",
    "\n",
    "g = lambda a: a*(a/2) - f(a/2)   # deriv f(x) = 2x = a ---> x = a/2"
   ]
  },
  {
   "cell_type": "code",
   "execution_count": 10,
   "metadata": {},
   "outputs": [
    {
     "data": {
      "application/vnd.jupyter.widget-view+json": {
       "model_id": "2570c3c4eddd45bfb4948f9dd0fc6ccc",
       "version_major": 2,
       "version_minor": 0
      },
      "text/plain": [
       "interactive(children=(FloatSlider(value=1.0, description='a', max=2.0, step=0.2), Output()), _dom_classes=('wi…"
      ]
     },
     "metadata": {},
     "output_type": "display_data"
    }
   ],
   "source": [
    "@widgets.interact(a=(0,2,0.2))\n",
    "def legendre_transf(a):\n",
    "    \n",
    "    fig,ax =plt.subplots(nrows=1,ncols=2, figsize = (10,4))\n",
    "    \n",
    "    x = np.linspace(0,1,100)\n",
    "    ax[0].plot(x,f(x),lw=3) \n",
    "    ax[0].plot(x, a*x-g(a),'--')\n",
    "    \n",
    "    ax[0].set_title('$f(x) = x^2$')\n",
    "    ax[0].legend(['f(x)', f\"$y = ax-g(a)$ = {a}x -{g(a):.2f}\"])    \n",
    "    ax[0].set_xlim(0,1.2)\n",
    "    ax[0].set_ylim(0,1.2)\n",
    "    ax[0].set_xlabel('x',fontsize=20)\n",
    "    ax[0].set_ylabel('f(x)',fontsize=20)\n",
    "    ax[0].grid('on')\n",
    "    \n",
    "    ax[1].set_title('$g(a) = max_x [ax-f(x)]= a^2/2$')\n",
    "    ax[1].plot(a,g(a),'o',color='orange',ms=12)\n",
    "    ax[1].plot(np.linspace(0,2,10),g(np.linspace(0,2,10)),'-',lw=3, color='red')\n",
    "    ax[1].set_xlim(0,1.2)\n",
    "    ax[1].set_ylim(0,1.2)\n",
    "    ax[1].set_xlabel('a',fontsize=20)\n",
    "    ax[1].set_ylabel('g(a)',fontsize=20)\n",
    "    ax[1].grid('on')"
   ]
  },
  {
   "cell_type": "markdown",
   "metadata": {},
   "source": [
    "#### Example of Legendre transform-2\n",
    "\n",
    "$$f(x) = e^x$$\n",
    "\n",
    "$$a = f'(x) =e^x \\rightarrow x = log a$$\n",
    "\n",
    "$$g(\\alpha) = max_x \\Big[ \\alpha x - f(x) \\Big ] = a(log a-1)$$"
   ]
  },
  {
   "cell_type": "code",
   "execution_count": 11,
   "metadata": {},
   "outputs": [],
   "source": [
    "f2 = lambda x: np.exp(x)\n",
    "\n",
    "g2 = lambda a: a*np.log(a) - f2(np.log(a))   # deriv f(x) = e^x = a ---> x = log a"
   ]
  },
  {
   "cell_type": "code",
   "execution_count": 12,
   "metadata": {},
   "outputs": [
    {
     "data": {
      "application/vnd.jupyter.widget-view+json": {
       "model_id": "8687cdc6d1584fdfba63bc662073fd0d",
       "version_major": 2,
       "version_minor": 0
      },
      "text/plain": [
       "interactive(children=(FloatSlider(value=2.0, description='a', max=3.0, min=1.0, step=0.2), Output()), _dom_cla…"
      ]
     },
     "metadata": {},
     "output_type": "display_data"
    }
   ],
   "source": [
    "@widgets.interact(a=(1,3,0.2))\n",
    "def legendre_transf(a):\n",
    "    \n",
    "    fig,ax =plt.subplots(nrows=1,ncols=2, figsize = (10,4))\n",
    "    \n",
    "    x = np.linspace(0,1,100)\n",
    "    ax[0].plot(x,f2(x),lw=3) \n",
    "    ax[0].plot(x, a*x-g2(a),'--')\n",
    "    \n",
    "    ax[0].set_title('$f(x) = x^2$')\n",
    "    ax[0].legend(['f(x)', f\"$y = ax-g(a)$ = {a:.2f}x-{g2(a):.2f}\"])    \n",
    "    ax[0].set_xlim(0,1.2)\n",
    "    ax[0].set_ylim(0,3)\n",
    "    ax[0].set_xlabel('x',fontsize=20)\n",
    "    ax[0].set_ylabel('f(x)',fontsize=20)\n",
    "    ax[0].grid('on')\n",
    "    \n",
    "    ax[1].set_title('$g(a) = max_x [ax-f(x)]= a(log a-1)$')\n",
    "    ax[1].plot(a,g(a),'o',color='orange',ms=12)\n",
    "    ax[1].plot(np.linspace(0,3,10),g(np.linspace(0,3,10)),'-',lw=3, color='red')\n",
    "    ax[1].set_xlim(0,3)\n",
    "    ax[1].set_ylim(0,3)\n",
    "    ax[1].set_xlabel('a',fontsize=20)\n",
    "    ax[1].set_ylabel('g(a)',fontsize=20)\n",
    "    ax[1].grid('on') "
   ]
  },
  {
   "attachments": {},
   "cell_type": "markdown",
   "metadata": {},
   "source": [
    "### Legendre Transform numerically"
   ]
  },
  {
   "cell_type": "code",
   "execution_count": null,
   "metadata": {},
   "outputs": [],
   "source": [
    "def legendre_transf(f, a=1, guess_0=0):\n",
    "    \n",
    "    '''Legendre transform function f to g \n",
    "    \n",
    "    INPUT:\n",
    "    f <-- function\n",
    "    a <-- value of new variable\n",
    "    \n",
    "    OUTPUT:\n",
    "    g(a) = min_x[a*x-f(x)] legendre transform at point a\n",
    "    '''\n",
    "    \n",
    "    min_x, = sci.optimize.fmin(lambda x: f(x)-a*x, guess_0) \n",
    "            \n",
    "    return a*min_x - f(min_x)"
   ]
  },
  {
   "cell_type": "code",
   "execution_count": 4,
   "metadata": {},
   "outputs": [],
   "source": [
    "f = lambda x: x**2+x**4\n",
    "\n",
    "#g = [legendre_transf(f, a) for a in np.linspace(0,1,100)]"
   ]
  }
 ],
 "metadata": {
  "interpreter": {
   "hash": "75ef8c164c1af78a3b836ed6835faaeeed07116b3221007ba3e1f5bc8ca4cbe0"
  },
  "kernelspec": {
   "display_name": "Python 3 (ipykernel)",
   "language": "python",
   "name": "python3"
  },
  "language_info": {
   "codemirror_mode": {
    "name": "ipython",
    "version": 3
   },
   "file_extension": ".py",
   "mimetype": "text/x-python",
   "name": "python",
   "nbconvert_exporter": "python",
   "pygments_lexer": "ipython3",
   "version": "3.9.16"
  }
 },
 "nbformat": 4,
 "nbformat_minor": 4
}
