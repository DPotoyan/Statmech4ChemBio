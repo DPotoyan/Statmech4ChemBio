{
 "cells": [
  {
   "cell_type": "markdown",
   "metadata": {},
   "source": [
    "# Thermodynamic Stability"
   ]
  },
  {
   "cell_type": "markdown",
   "metadata": {},
   "source": [
    "### Second order thermodynamic quantities\n",
    "\n",
    "#### Heat Capacities at Constant Volume and Pressure\n",
    "\n",
    "- The **heat capacities** quantify the amount of heat required to change the temperature of a system under different constraints:  \n",
    "\n",
    "$$\n",
    "C_V = \\left(\\frac{d Q}{dT} \\right)_{V,N}\n",
    "$$\n",
    "\n",
    "$$\n",
    "C_P = \\left(\\frac{d Q}{dT} \\right)_{P,N}\n",
    "$$\n",
    "\n",
    "- **Thermal stability** requires that heat capacities be **non-negative**:  \n",
    "\n",
    "  $$\n",
    "  C_V, C_P \\geq 0.\n",
    "  $$\n",
    "\n",
    "\n",
    "#### Thermal Expansion and Isothermal Compressibility \n",
    "\n",
    "- The **thermal expansion coefficient** $ \\alpha $ measures how volume changes with temperature at constant pressure:\n",
    "\n",
    "  $$\n",
    "  \\alpha = \\frac{1}{V} \\left(\\frac{dV}{dT} \\right)_{P,N}.\n",
    "  $$\n",
    "\n",
    "- The **isothermal compressibility** $ \\kappa_T $ quantifies how volume responds to pressure changes at constant temperature:\n",
    "\n",
    "  $$\n",
    "  \\kappa_T = -\\frac{1}{V} \\left(\\frac{dV}{dP} \\right)_{T,N}.\n",
    "  $$\n",
    "\n",
    "- **Mechanical stability** requires that the compressibility be **non-negative**:\n",
    "\n",
    "  $$\n",
    "  \\kappa_T \\geq 0.\n",
    "  $$\n",
    "\n",
    "- This ensures that an increase in pressure **does not lead to spontaneous expansion**, which would be unphysical.  \n"
   ]
  },
  {
   "cell_type": "markdown",
   "metadata": {},
   "source": []
  }
 ],
 "metadata": {
  "language_info": {
   "name": "python"
  }
 },
 "nbformat": 4,
 "nbformat_minor": 2
}
