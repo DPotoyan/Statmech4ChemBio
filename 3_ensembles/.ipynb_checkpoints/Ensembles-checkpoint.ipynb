{
 "cells": [
  {
   "cell_type": "markdown",
   "id": "dee2dadb-e798-4d1e-910b-444d4fe81581",
   "metadata": {},
   "source": [
    "# Intro to statistical ensembles"
   ]
  },
  {
   "cell_type": "markdown",
   "id": "e3cac7c9-314b-4718-97d7-8c00beb3a194",
   "metadata": {},
   "source": [
    "- **Microcanonical Ensemble:** Represents an isolated system with fixed energy, volume, and number of particles. It's described by the distribution function that gives equal weight to all accessible microstates with the same energy, leading to the principle of equal a priori probabilities.\n",
    "\n",
    "- **Canonical Ensemble:** Describes a system in thermal equilibrium with a heat bath at a fixed temperature, volume, and number of particles. The distribution function here is the Boltzmann distribution, which accounts for energy fluctuations in the system while maintaining a constant temperature.\n",
    "\n",
    "- **Grand Canonical Ensemble:** This ensemble is used for systems in contact with a reservoir that allows exchange of both energy and particles. It is characterized by fixed temperature, volume, and chemical potential. The distribution function combines the Boltzmann factor with a term accounting for particle number fluctuations."
   ]
  },
  {
   "cell_type": "markdown",
   "id": "7bb5e469-c146-4b3f-b793-0b79859af526",
   "metadata": {},
   "source": [
    "![](./figs/ensembl.png)"
   ]
  },
  {
   "cell_type": "markdown",
   "id": "72869993-9126-4b92-b430-351f2999d178",
   "metadata": {},
   "source": [
    "1. **Entropy Definition**:\n",
    "   $$S = -k \\sum_{i} p_i \\log p_i$$\n",
    "\n",
    "2. **Constraints**:\n",
    "   - Normalization of probabilities(all ensembles):\n",
    "     $$\\sum_{i} p_i = 1$$\n",
    "   - Expected energy (for certain ensembles):\n",
    "     $$\\sum_{i} p_i E_i = \\langle E \\rangle$$\n",
    "   - Expected number of particles (for certain ensembles):\n",
    "     $$\\sum_{N} p_N N = \\langle N \\rangle$$\n",
    "   - Expected volume (for certain ensembles):\n",
    "     $$\\sum_{i} p_V V = \\langle V \\rangle$$\n",
    "\n",
    "3. **Lagrange Multipliers**:\n",
    "   Construct the Lagrangian with Lagrange multipliers} $\\alpha$, $\\beta$, ...\n",
    "   \n",
    "   $$L = -k \\sum_{i} p_i \\log p_i - \\alpha \\left( \\sum_{i} p_i - 1 \\right) - \\beta \\left( \\sum_{i} p_i E_i - \\langle E \\rangle \\right) + \\gamma \\left(\\sum p_N N-\\langle N \\rangle \\right) + \\eta \\left(\\sum_V p_V V-\\langle V \\rangle\\right)$$"
   ]
  },
  {
   "cell_type": "markdown",
   "id": "ef5e81c1-e277-4194-97e6-d851cbbeec64",
   "metadata": {},
   "source": [
    "### Finding maximum entropy solution with constraints (NVE example)\n",
    "\n",
    "**Seek maximum of entropy**\n",
    "    \n",
    "   $$\\frac{\\partial L}{\\partial p_j} = -k_B (\\log p_j + 1) - \\alpha  = 0$$\n",
    "\n",
    "   $$p_j = e^{-\\frac{\\alpha}{k_B } - 1}$$\n",
    "\n",
    "**Determine Lagrange multipliers**\n",
    "\n",
    "   - Normalize $p_j$ to find $\\alpha$:\n",
    "     \n",
    "     $$\\sum_j p_j = \\sum_j e^{-\\frac{\\alpha}{k_B} - 1} =\\Omega$$\n",
    "     \n",
    "   - probabilities are independent of microstate and the sum can be set to be equal to a constant denoted as $\\Omega$\n",
    "\n",
    "**Probability Expression:**\n",
    "\n",
    "  $$ p_j = \\frac{1}{\\Omega}$$"
   ]
  }
 ],
 "metadata": {
  "kernelspec": {
   "display_name": "Python [conda env:llpsmd3] *",
   "language": "python",
   "name": "conda-env-llpsmd3-py"
  },
  "language_info": {
   "codemirror_mode": {
    "name": "ipython",
    "version": 3
   },
   "file_extension": ".py",
   "mimetype": "text/x-python",
   "name": "python",
   "nbconvert_exporter": "python",
   "pygments_lexer": "ipython3",
   "version": "3.9.16"
  }
 },
 "nbformat": 4,
 "nbformat_minor": 5
}
