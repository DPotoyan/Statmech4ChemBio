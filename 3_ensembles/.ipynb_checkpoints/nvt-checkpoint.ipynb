{
 "cells": [
  {
   "cell_type": "markdown",
   "metadata": {},
   "source": [
    "# NVT"
   ]
  },
  {
   "attachments": {},
   "cell_type": "markdown",
   "metadata": {
    "slideshow": {
     "slide_type": "slide"
    }
   },
   "source": [
    ":::{admonition} What you need to know\n",
    "\n",
    "- In the NVT ensemble, the system is allowed to exchange energy with an environment that maintains $T=const$ instead of $E=const$ \n",
    "- Probability to be in any particular microstate is given by Boltzmann distribution $p_i \\sim e^{-\\epsilon_i/k_BT}$. This shows that the system pays an exponentially high penalty for borrowing energy from the environment to occupy excited states. As temperature increases the price more and more excited states are populated. \n",
    "- In thermodynamics, exchanging variable $E$ with $T$ is accomplished via Legendre transform $F = E-TS$, which makes free energy the central object for determining equilibrium states (minimizing F) and the amount of work that the system can perform in equilibrium $W=\\Delta F$ \n",
    "- In NVE, the partition function $\\Omega$ is a sum of microstates. In NVT, it the partition function $Z$ is a Boltzman-weighted sum over microstates. $Z$ and $\\Omega$ are related via Laplace transform showing that thermodynamics computed in either ensemble is the same!\n",
    "- While in NVE entropy was linked directly with partition function $S=k_B log \\Omega$, in NVT, it is free energy that is directly linked with partition function Z, $F=-k_BT logZ$\n",
    "\n",
    ":::"
   ]
  },
  {
   "attachments": {},
   "cell_type": "markdown",
   "metadata": {},
   "source": [
    "### MaxEnt predicts exponential distribution of energies in NVT\n",
    "\n",
    "- Maximizing entropy with average energy constraint $\\sum_i p_i E_i = U$, we end up with exponential dependence on microstate energies $E_i$ known as **Boltzmann distribution**\n",
    "\n",
    "$$p_i = \\frac{e^{-\\beta E_i}}{\\sum_i e^{-\\beta E_i}} = \\frac{e^{-\\beta E_i}}{Z}$$\n",
    "\n",
    "- The denominator $Z$ is called **partition function**, it ensures normalization and is related to Helmholz free energy $F$ to be shown below.\n",
    "\n",
    "$$Z(\\beta, N, V) = \\sum_i e^{-\\beta E_i}=e^{-\\beta F}$$\n",
    "\n",
    "- Recall that in NVE, we counted microstates with equal weights $\\Omega$. In other words, states were equipartitioned. In NVE states are weighted by exponential factors. In other words low energy states contribute more than high energy states. The situation is more sever at low temperatures where only ground states contribute to thermodynamics. "
   ]
  },
  {
   "attachments": {},
   "cell_type": "markdown",
   "metadata": {},
   "source": [
    "### Determining $\\beta= \\frac{1}{k_B T}$\n",
    "\n",
    "- Plugging Boltzmann distribution back into the formula of entropy, we get\n",
    "\n",
    "$$S = - k_B \\sum_i p_i log \\frac{e^{-\\beta E_i}}{Z} = k_B \\beta \\sum_i p_i E_i +  k_B \\sum_i p_i logZ = k_B \\beta U +k_B logZ$$\n",
    "\n",
    "- To establish a link with thermodynamics, we look at entropy change under constant temperature:\n",
    "\n",
    "$$dS = k_B \\beta dU + k_B d logZ = \\frac{dU}{T} - \\frac{dF}{T}$$\n",
    "\n",
    "- Equating terms we find that $\\beta = \\frac{1}{k_B T}$ and free energy is given by\n",
    "\n",
    "$$F = -k_B T logZ$$"
   ]
  },
  {
   "attachments": {},
   "cell_type": "markdown",
   "metadata": {},
   "source": [
    ":::{admonition}  **An intutitive derivation of Boltzman distribution**\n",
    ":class: tip, dropdown\n",
    "\n",
    "- Consider a system in contact with the thermal reservoir. The combined system is isolated which means we can write down NVE partition function as a sum over different ways of partitioning total energy between system and reservoir. \n",
    "\n",
    "$$\\Omega_{t}(E_t) = \\sum_i \\Omega_r(E-E_i) \\cdot \\Omega(E_i)$$\n",
    "\n",
    "- But we know from thermodynamics that the entropy of the system is additive. Therefore we see that this additivity emerges because the sumation is dominated by term where the system adopts average energy $U$ which maximizes the entropy.\n",
    "\n",
    "$$S_t (E_t) = k_B log \\sum_i \\Omega_r(E-E_i) \\cdot \\Omega(E_i) \\approx k_B  log \\Omega_r(E-U) \\cdot \\Omega(U) = S_r(E_t-U) + S(U)$$\n",
    "\n",
    "- Let us single out one micro-state $E_i$ of our system $\\Omega(E_i) =1$ and see what would be its probability\n",
    "\n",
    "\n",
    "$$p_i = \\frac{\\Omega_r(E_{t}-E_i)}{\\Omega_{t} (E_{t})} = \\frac{e^{\\frac{1}{k_B}S_r(E_{t}-E_i)}}{e^{\\frac{1}{k_B} S_{t}(E_t)}} = \\frac{e^{\\frac{1}{k_B}S_r(E_{t}-E_i)}}{e^{\\frac{1}{k_B}[S_{r}(E_t-U) + S(U)]}}$$\n",
    "\n",
    "- Since entropy is a smoothly varying function of energy and the energy of the system is relatively small, we have $E_t \\ll E_i$ and $E_t \\ll U$ inequalities and can carry out Taylor expansion around total energy.\n",
    "\n",
    "$$S_r(E_t-E_i) \\approx S_r(E_t) + \\Big( \\frac{\\partial S_r}{\\partial E}\\Big)  (-E_i) = S_r(E_t) - \\frac{1}{T} E_i$$\n",
    "\n",
    "$$S_{r}(E_t-U)  \\approx S_r(E_t) + \\Big( \\frac{\\partial S_r}{\\partial U}\\Big)  (-U) = S_r(E_t) -\\frac{1}{T}U$$\n",
    "\n",
    "- Plugging the expression back into the probability of an entropy of reservoir $S_r$ cancels out and we get: \n",
    "\n",
    "$${ p_i = \\frac{e^{-\\beta E_i}}{e^{-\\beta (U-TS)}} = \\frac{e^{-\\beta E_i}}{e^{-\\beta F}} }$$\n",
    "\n",
    "- We see that the reservoir's contribution to the distribution of energy in the system is only through temperature!\n",
    "\n",
    "- We could also carry our similar derivation by expanding reservoir entropy around the average energy of the system  $U = \\sum_i p_i E_i$ by making use of the central limit theorem, which predicts small fluctuations around averages $U - E_i = \\delta E_i \\sim O(N^{1/2})$\n",
    ":::"
   ]
  },
  {
   "cell_type": "markdown",
   "metadata": {},
   "source": [
    "### Computing Z via classical vs quantum mechanics\n",
    "\n",
    "**Quantum Mechanics**\n",
    "\n",
    "- Counting in quantum emchanics requires knowing the solutions to Schrodinger equation $H |\\psi_i\\rangle = E_i | \\psi_i\\rangle$ whcih are used for constructing parition function:\n",
    "\n",
    "$$\\boxed{Z(\\beta) = \\sum_i e^{-\\beta E_i}}$$\n",
    "\n",
    "- Given the huge degenerace for N \"particle\" thermodynamic systems the partion function can also be written as a sum over the energy values $E$ instead of eigenvalues:\n",
    "\n",
    "$$\\boxed{Z(\\beta) = \\int \\Omega(E) e^{-\\beta E}dE}$$\n",
    "\n",
    "**Classical Mechanics**\n",
    "\n",
    "- Recall taht counting microstates in classical mechanics is done by discretizing phase space $\\Gamma = (x^{3N}, p^{3N})$ into the smallest possible quantum units $dxdp\\sim h$. In other words we replace summation over quantum states with integral over phase space $\\sum_i \\rightarrow \\int \\frac{dpdx}{h}$\n",
    "\n",
    "- Recall that we need to correct classical mechanics for \"double counting\" microstates if we have N indinstinguishable \"particles\" with a factor of $N!$  \n",
    "\n",
    "$$\\Omega(E) = \\frac{1}{N! h^{3N}} \\int_{\\Gamma}  \\delta \\big( H(\\Gamma)-E) d \\Gamma$$\n",
    "\n",
    "$$Z(\\beta) = \\int_{E} \\Omega(E) e^{-\\beta E} dE  = \\frac{1}{N! h^{3N}} \\int_{\\Gamma} \\Bigg[\\int_{E} d \\Gamma \\delta \\big( H(\\Gamma)-E) e^{-\\beta E}dE \\Bigg] d\\Gamma$$\n",
    "\n",
    "$$\\boxed{Z(\\beta) = \\frac{1}{N! h^{3N}} \\int_{\\Gamma} e^{-\\beta H(\\Gamma)} d\\Gamma}$$"
   ]
  },
  {
   "cell_type": "markdown",
   "metadata": {},
   "source": [
    "### A closer look at the the partiation function Z\n",
    "\n",
    "$$\\boxed{Z(\\beta) = \\int \\Omega(E) e^{-\\beta E}dE = \\int e^{-\\beta (E-T S(E))}dE }$$\n",
    "\n",
    "- $\\Omega(E)\\sim e^N$ rapidly increasing function with N eacsue of limit theorems: e.g the large deviation, central limit theorem, law of large numbers. \n",
    "\n",
    "- $e^{-\\beta E}\\sim e^{-N}$ rapidly decreasing function with N\n",
    "\n",
    "\n",
    "- Thermodynamic limit $N, V\\rightarrow \\infty$ and $N/V \\rightarrow const$ only the region of energy survivies hat guarantees non-negligible contribution\n",
    "\n",
    "$$\\boxed{Z = \\int e^{-\\beta (E-TS)}dE \\approx e^{min_E [-\\beta(E-TS)]} = e^{-\\beta(U-TS)} = e^{-\\beta F}}$$\n",
    "\n",
    "- Where $U =\\langle E \\rangle$ is the thermodynamic average energy, flucutatins around which are on order of $O(N^{1/2})$\n",
    "\n",
    "- It can be seen that $Z$, the partition function of NVT is **Laplace Transform** of density of states of NVE. While connection between energy and free energy $F= E -TS$ is via **Legendre Transform** "
   ]
  },
  {
   "cell_type": "code",
   "execution_count": 5,
   "metadata": {
    "slideshow": {
     "slide_type": "slide"
    }
   },
   "outputs": [
    {
     "data": {
      "text/plain": [
       "Text(0.5, 0, '$E$')"
      ]
     },
     "execution_count": 5,
     "metadata": {},
     "output_type": "execute_result"
    },
    {
     "data": {
      "image/png": "[encoded data removed]",
      "text/plain": [
       "<Figure size 200x400 with 3 Axes>"
      ]
     },
     "metadata": {},
     "output_type": "display_data"
    }
   ],
   "source": [
    "import numpy as np\n",
    "import matplotlib.pyplot as plt\n",
    "\n",
    "N=10\n",
    "kbT = 1\n",
    "\n",
    "E = np.linspace(1, 10*N, 100)\n",
    "omega  = E**(N)\n",
    "boltzf = np.exp(-E/kbT)\n",
    "\n",
    "fig,ax = plt.subplots(nrows=3,sharex=True, figsize=(2, 4))\n",
    "ax[0].plot(E, omega)\n",
    "ax[0].set_ylabel('$\\Omega(E)$')\n",
    "ax[1].plot(E, boltzf)\n",
    "ax[1].set_ylabel('$exp(-E/k_B T)$')\n",
    "ax[2].plot(E, omega*boltzf)\n",
    "ax[2].set_ylabel('$\\Omega(E) exp(-E/k_B T)$')\n",
    "ax[2].set_xlabel('$E$')"
   ]
  },
  {
   "cell_type": "markdown",
   "metadata": {
    "slideshow": {
     "slide_type": "slide"
    }
   },
   "source": [
    "### Free energies and probabilities of micro and macro states\n",
    "\n",
    "**Microstates**\n",
    "\n",
    "- Relative population of microstates is dictates by the ration of Boltzmann weights which depends on energy difference $\\Delta E$\n",
    "\n",
    "$$\\frac{p_2}{p_1} = e^{\\beta (E_2-E_1}$$\n",
    "\n",
    "**Macrostates**\n",
    "\n",
    "The relative population of macrostates is dictated by the ratio of entropic term times Boltzmann weights which depends on free energy difference $\\Delta F$\n",
    "\n",
    "$$p_A =\\frac{\\Omega (E_A) e^{-\\beta E_A}}{Z_A} = \\frac{e^{-\\beta F_A}}{e^{-\\beta F}}$$\n",
    "\n",
    "The relative probabilities of different states, e.g, conformation A vs B of polymer are dictated by free energy differences\n",
    "\n",
    "$$\\frac{p_B}{p_A} = e^{-\\beta (F_B-F_A)} $$"
   ]
  },
  {
   "cell_type": "markdown",
   "metadata": {
    "slideshow": {
     "slide_type": "slide"
    }
   },
   "source": [
    "### Mean and fluctuations of Energy \n",
    "\n",
    "$$\\langle E \\rangle = \\frac{\\partial log Z}{\\partial (-\\beta)}$$\n",
    "\n",
    "$$\\sigma^2_E = \\frac{\\partial^2 log Z}{\\partial \\beta^2} = -\\frac{\\partial \\langle E \\rangle}{\\partial \\beta} = k_BT^2 C_v$$\n",
    "\n",
    "$$\\frac{\\sigma_E}{\\langle E\\rangle} = \\frac{(k_BT^2 C_v)^{1/2}}{\\langle E\\rangle}\\sim O(N^{-1/2})$$"
   ]
  },
  {
   "cell_type": "markdown",
   "metadata": {},
   "source": [
    "## The power and utility of NVT: The non-interacting system\n",
    "\n",
    "**distinguishable states**:\n",
    "\n",
    "$$Z = z^N$$\n",
    "\n",
    "**indistinguishable states**:\n",
    "\n",
    "$$ Z = \\frac{1}{N!}z^N $$\n",
    "\n",
    "**Strategy for using NVT**\n",
    "\n",
    "1. Compute the partition function of a single particle $z= e^{-\\beta \\epsilon_1}+  e^{-\\beta \\epsilon_2}+ ...$\n",
    "\n",
    "2. raise to the power of N and apply factorial in case of indistinguishable particles, $Z= \\Big (e^{-\\beta \\epsilon_1}+  e^{-\\beta \\epsilon_2}+ ... \\Big)^N$ \n",
    "\n",
    "3. Compute the free energy $F= - N k_B T log z$\n",
    "\n",
    "4. Take derivatives of Z and/or free energy to get the thermodynamics. "
   ]
  },
  {
   "cell_type": "markdown",
   "metadata": {
    "slideshow": {
     "slide_type": "slide"
    }
   },
   "source": [
    "##  Ensemble equivalence\n",
    "\n",
    "### Example-1: A two state model"
   ]
  },
  {
   "cell_type": "markdown",
   "metadata": {
    "slideshow": {
     "slide_type": "fragment"
    }
   },
   "source": [
    "Let us consider simple two level system where lower level $\\epsilon_0 = 0$ and upper level $\\epsilon_1 =\\epsilon$. We will now use $NVE$ ensemble to obtian thermodynamic quantities $(S, T, C_v)$ and then obtain same quantities with $NVT$.\n",
    "\n",
    "$$E = n\\epsilon$$\n",
    "\n",
    "$$\\Omega(E) = \\frac{N!}{(N-n)! n!}$$\n",
    "\n",
    "$$S = k_B log \\Omega(E) = N k_B \\Big [- \\frac{n}{N}log \\frac{n}{N} - \\frac{N-n}{N}log \\frac{N-n}{N} \\Big]$$\n",
    "\n",
    "$$\\frac{1}{T} = \\frac{\\partial S(E)}{\\partial E} =  \\frac{k_B}{\\epsilon}\\frac{\\partial log\\Omega(n)}{\\partial  n} = \\frac{k_B}{\\epsilon}log \\frac{N-n}{N}$$\n",
    "\n",
    "$$\\frac{n}{N} = \\frac{1}{1+e^{\\beta \\epsilon}}$$\n",
    "\n",
    "$$E = n\\epsilon = \\frac{N\\epsilon}{1+e^{\\beta \\epsilon}}$$"
   ]
  },
  {
   "cell_type": "markdown",
   "metadata": {
    "slideshow": {
     "slide_type": "slide"
    }
   },
   "source": [
    "### Parition function decouples non-interacting terms in energy!\n",
    "\n",
    "<br>\n",
    "\n",
    "$$Z = \\sum^{n=N}_{n=0} e^{-\\beta E_n} =  \\Big (\\sum^{i=1}_{i=0} e^{-\\beta \\epsilon_i} \\Big)\\Big (\\sum^{i=1}_{i=0} e^{-\\beta \\epsilon_i} \\Big)...\\Big (\\sum^{i=1}_{i=0} e^{-\\beta \\epsilon_i} \\Big) = (1+e^{-\\beta \\epsilon})^N$$\n",
    "\n",
    "<br>\n",
    "\n",
    "$$F= -k_B T log Z = -k_BT N log(1+e^{-\\beta \\epsilon})$$\n",
    "\n",
    "<br>\n",
    "\n",
    "$$\\langle E \\rangle  = \\frac{\\partial log Z}{\\partial (-\\beta)} =  \\frac{N\\epsilon}{1+e^{\\beta \\epsilon}}$$"
   ]
  },
  {
   "cell_type": "code",
   "execution_count": 7,
   "metadata": {},
   "outputs": [
    {
     "data": {
      "application/vnd.jupyter.widget-view+json": {
       "model_id": "447748be1ca247acb8f7d664e02ecebf",
       "version_major": 2,
       "version_minor": 0
      },
      "text/plain": [
       "interactive(children=(FloatSlider(value=1.0, description='eps', max=10.0, min=0.5, step=0.5), Output()), _dom_…"
      ]
     },
     "metadata": {},
     "output_type": "display_data"
    }
   ],
   "source": [
    "from ipywidgets import interact\n",
    "\n",
    "@interact(eps=(0.5,10, 0.5))\n",
    "def E_two_sys(eps=1):\n",
    "    \n",
    "    N       = 1\n",
    "    kbT     =  np.linspace(0,5,1000)/eps\n",
    "    E_eps   = N/(1+np.exp(1/kbT))\n",
    "    \n",
    "    plt.plot(kbT, E_eps, lw=3)\n",
    "    plt.xlabel('$k_B T/\\epsilon$')\n",
    "    plt.ylabel('$E/\\epsilon$')\n",
    "    plt.show()"
   ]
  },
  {
   "cell_type": "markdown",
   "metadata": {
    "slideshow": {
     "slide_type": "slide"
    }
   },
   "source": [
    "### Example-2: Ideal gas (classical)"
   ]
  },
  {
   "cell_type": "markdown",
   "metadata": {
    "slideshow": {
     "slide_type": "slide"
    }
   },
   "source": [
    "$$H(p^N, x^N) = K(p^N)  = \\sum^{i=N}_{i=1}\\frac{p^2_i}{2m}$$\n",
    "\n",
    "$$\\boxed{Z(\\beta) = \\frac{1}{h^{N} N!} \\int dp^N dx^N e^{-\\beta H(p^N,x^N)}}$$"
   ]
  },
  {
   "cell_type": "markdown",
   "metadata": {
    "slideshow": {
     "slide_type": "slide"
    }
   },
   "source": [
    "- Let us evaluate the partion function for a single particle in 3D:\n",
    "\n",
    "$$Z(\\beta) =  \\Bigg [\\frac{1}{h} \\int_{L} dx \\int^{+\\infty}_{-\\infty} dp e^{-\\beta \\frac{p^2}{2m}}  \\Bigg ]^3 = V \\Big [ \\frac{2\\pi m}{h \\beta} \\Big]^{3/2} = V n_Q$$\n",
    "\n",
    "We wrote down the partion sum in terms of volume of container and a quantum density $n_Q$ or De-Broglie thermal wavelength $\\lambda_T$\n",
    "\n",
    "> $$n_Q = \\Big [ \\frac{m k_B T}{2 \\hbar^2} \\Big]^{3/2} = \\frac{1}{\\lambda^3_T}$$\n",
    "> $$\\lambda_T = \\frac{h}{2mk_BT} \\sim \\frac{h}{m \\bar{v}}$$\n",
    "\n",
    "- For the N particles we have:\n",
    "\n",
    "$$Z = \\frac{Z^N}{N!}  = \\frac{(V n_Q)^N}{N!}$$\n",
    "\n",
    "- Using the curdest version of Striling's approximation $N!\\approx N^N e^{-N}$ we get\n",
    "\n",
    "$$Z = \\Big[ \\frac{n_Q}{n}\\Big]^N e^N$$\n",
    "\n",
    "Where $n = N/V$ is the density\n",
    "\n",
    "$$F = -k_B T log Z = -N k_B T  log \\Big( \\frac{n_Q}{n} \\Big) - Nk_BT$$\n",
    "\n",
    "We can also calcularte entropy and compare the expression with the one obtained from microcanonical ensemble:\n",
    "\n",
    "$$S = -\\Big( \\frac{\\partial F}{\\partial T}\\Big)_{N,V} = Nk_B log \\Big( \\frac{n_Q}{n} \\Big) + Nk_B + \\frac{3}{2}Nk_B$$\n",
    "\n",
    "And unsurprisingly we get the same expression for entropy in the canonical ensmeble known as **Sackur-Tetrode equation**\n",
    "$$S = Nk_B \\Bigg[log \\Big( \\frac{n_Q}{n} \\Big)+ \\frac{5}{2} \\Bigg]$$"
   ]
  },
  {
   "cell_type": "markdown",
   "metadata": {
    "slideshow": {
     "slide_type": "slide"
    }
   },
   "source": [
    "Similarily other thermodynamic variables can be inferred by taking derivatives of free energy:\n",
    "\n",
    "$$\\langle E \\rangle = \\frac{\\partial log Z}{\\partial (-\\beta)} = \\frac{3}{2}N k_B T$$\n",
    "\n",
    "- Ideal gas equation of state is obtained by calculating pressure\n",
    "$$p = -\\frac{\\partial F}{\\partial V} =\\frac{N k_B T}{V}$$\n",
    "\n",
    "- One more way of calculating entropy by using the definition of free energy\n",
    "$$S = \\frac{E-F}{T} = k_B N \\cdot  \\Big [ log \\Big(\\frac{V}{N \\lambda^3}\\Big) + \\frac{5}{2}\\Big]$$"
   ]
  },
  {
   "cell_type": "markdown",
   "metadata": {
    "slideshow": {
     "slide_type": "slide"
    }
   },
   "source": [
    "### Example-3 Ideal paramagnet of spin 1/2"
   ]
  },
  {
   "cell_type": "markdown",
   "metadata": {
    "slideshow": {
     "slide_type": "slide"
    }
   },
   "source": [
    "$$E  = -\\mu B \\sum^{N}_j s_j $$\n",
    "\n",
    "- $s_j = \\pm 1$ spin variable can assume two values that we refer to as up and down. \n",
    "\n",
    "$$Z = \\sum_{E} exp(-\\beta E) = \\sum_{s_1, s_2, ... s_N} exp \\Big( \\beta \\mu B \\sum^{N}_j s_j \\Big) = \\Big [ \\sum_{s_1} exp \\Big( \\beta \\mu B  s_1 \\Big) \\Big ]... \\Big [ \\sum_{s_N} exp \\Big( \\beta \\mu B s_N \\Big) \\Big ]$$\n",
    "\n",
    "Now it is easty to see that partion function factorizes\n",
    "\n",
    "$$Z =Z_1^N$$\n",
    "\n",
    "$$Z_1 = \\sum_{s_1} exp(\\beta \\mu B s_1) = exp(\\beta \\mu B) + exp(-\\beta \\mu B)  = 2 cosh(\\beta \\mu B)$$\n",
    "\n",
    "**Free energy as as function of temperature and magnetic field:** Now we can establish a connection with thermodynamics by computing free energy function\n",
    "\n",
    "$$ F(T, H) = - \\beta^{-1} log Z = - N \\beta^{-1} log \\Big [ 2 cosh (\\beta \\mu B )  \\Big ]$$\n",
    "\n",
    "The entropy is obtained by taking derivative with respect to temperature\n",
    "\n",
    "$$S = - \\Big(\\frac{\\partial F}{\\partial T} \\Big)_H = k_B log \\Big [ 2 cosh (\\beta \\mu H )  \\Big ] - k_B (\\beta \\mu B)\\cdot tanh (\\beta \\mu B)$$\n",
    "\n",
    "**Magnetization**\n",
    "\n",
    "Magnetization $M$ (extensive quantity) or magnetization per particle $m=M/N$ (intensive quantity) is given as another free energy derivative:\n",
    "\n",
    "$$M = - \\Big(\\frac{\\partial F}{\\partial B} \\Big)_T = \\mu tanh \\Big(\\beta \\mu B \\Big)$$\n",
    "\n",
    "> Note that the same expression is obtained when computing average value of magnetization as expected $M = \\langle \\mu \\sum_{s_j} \\rangle$\n",
    "\n",
    "**Magnetizatic susceptibility**\n",
    "\n",
    "In the context of paramagnet we have another response function in the form of magnetic susceptibility\n",
    "\n",
    "$$\\chi(T, B) =  \\Big(\\frac{\\partial m}{\\partial B} \\Big)_T = \\mu^2 \\beta B cosh^{-2} (\\beta \\mu B)$$\n",
    "\n",
    "which leads to a well known **Curie Law**\n",
    "\n",
    "$$\\chi(T, B=0) = \\frac{\\mu^2 }{k_B T}$$\n",
    "\n",
    "Finally as a consitency check we can combine enetrpy and free energy expressions to obtain internal energy:\n",
    "\n",
    "\n",
    "$$U = F+TS = -\\mu B tanh(\\beta \\mu B)$$"
   ]
  },
  {
   "cell_type": "code",
   "execution_count": 15,
   "metadata": {},
   "outputs": [
    {
     "data": {
      "text/plain": [
       "Text(0.5, 0, 'B')"
      ]
     },
     "execution_count": 15,
     "metadata": {},
     "output_type": "execute_result"
    },
    {
     "data": {
      "image/png": "[encoded data removed]",
      "text/plain": [
       "<Figure size 432x288 with 1 Axes>"
      ]
     },
     "metadata": {
      "needs_background": "light"
     },
     "output_type": "display_data"
    }
   ],
   "source": [
    "import numpy as np\n",
    "import matplotlib.pyplot as plt\n",
    "\n",
    "x=np.linspace(-2, 2, 100)\n",
    "for beta in [0.1, 0.5, 1, 2]:\n",
    "    plt.plot(x, np.tanh(beta*x))\n",
    "    \n",
    "plt.ylabel('$m/\\mu$')    \n",
    "plt.xlabel('B')"
   ]
  },
  {
   "cell_type": "markdown",
   "metadata": {},
   "source": [
    "## Non-interacting molecules\n",
    "\n",
    "### Translational degrees of freedom: particle in a box\n",
    "\n",
    "$$E_{n_x, n_y, n_z} = \\frac{\\hbar^2 \\pi^2}{2m L^2} \\big(n^2_x+n^2_y+n^2_z \\big)$$\n",
    "\n",
    "$$ Z \\approx \\Bigg [\\int^{\\infty}_0 dn e^{-\\frac{\\hbar^2 \\pi^2}{2m k_B TL^2}n^2} \\Bigg]^{3} = V \\Bigg[\\frac{m k_B T}{2\\pi \\hbar^2} \\Bigg]^{3/2} = V n_Q$$\n",
    "\n",
    "### Rotatational degrees of freedom: Rigid rotor model \n",
    "\n",
    "$$E = \\frac{\\hbar^2}{2I} J (J+1) $$\n",
    "\n",
    "$$Z \\approx \\int^{J=\\infty}_{J=0} (2J+1)e^{-\\Big[\\beta \\frac{\\hbar^2}{2I} J (J+1)\\Big]}\\approx \\frac{T}{\\theta_{rot}}$$\n",
    "\n",
    "- Where $\\theta_{rot} = \\frac{\\hbar^2}{2 I_0 k_B}$ is called rotational temperature. \n",
    "\n",
    "### Vibrational degrees of freedom: Harmonic oscillator model\n",
    "\n",
    "$$E_n = \\hbar \\omega (n+1/2)$$\n",
    "\n",
    "$$z = \\sum^{n=+\\infty}_{n=0} = e^{-\\frac{1}{2}\\beta \\hbar \\omega} (1 + e^{-\\beta\\hbar\\omega}+e^{-2\\beta\\hbar\\omega}+...) = \\frac{e^{-\\frac{1}{2}\\beta \\hbar \\omega}}{1-e^{-\\beta\\hbar\\omega}}$$\n",
    "\n",
    "$$Z = z^N$$\n",
    "\n",
    "$$E = \\frac{\\partial log Z}{\\partial (-\\beta)} = N\\hbar \\omega \\Big(\\frac{1}{2}+ \\frac{1}{1+e^{\\beta\\hbar\\omega}} \\Big) $$\n",
    "\n",
    "- When $T \\rightarrow 0$ we are left with zero point energies $E \\rightarrow \\frac{N \\hbar \\omega}{2}$\n",
    "\n",
    "- When $T \\rightarrow \\infty$ we get equipartion of energy! $E \\rightarrow \\frac{3}{2} N k_B T$\n",
    "\n",
    "### Partition function for a molecular gas\n",
    "\n",
    "<br>\n",
    "\n",
    "$$E = E_{transl}+E_{vib}+E_{rot}+E_{elec} $$\n",
    "\n",
    "<br>\n",
    "\n",
    "$$Z = Z_{transl} Z_{vib} Z_{rot} Z_{elec} $$\n",
    "\n",
    "> $\\frac{1}{N!}$ must go inside $Z_{tranls}$ to account for indistinguishability"
   ]
  },
  {
   "cell_type": "markdown",
   "metadata": {},
   "source": [
    "### Equipartion theorem\n",
    "\n",
    "$$U(x) = U(x_0) +U^{'}(x-x_0) +\\frac{1}{2}U^{''}(x-x_0)^2 +...$$\n",
    "\n",
    "$$U_{harm}(x) = U(x_0) +  \\frac{1}{2}U^{''}(x-x_0)^2 = U_0 + \\frac{1}{2}\\kappa (x-x_0)^2$$\n",
    "\n",
    "$$\\langle U \\rangle = \\int p(x) U(x) dx = \\frac{\\int U(x) e^{-\\beta U(x)}dx}{\\int e^{-\\beta U(x)}dx}$$\n",
    "\n",
    "$$U(x) = U_0 + \\frac{k_B T}{2}$$\n",
    "\n",
    "> Notice the spring constant does not figure in the average energy expression! "
   ]
  },
  {
   "cell_type": "markdown",
   "metadata": {},
   "source": [
    "## Problems"
   ]
  },
  {
   "cell_type": "markdown",
   "metadata": {},
   "source": [
    "### Problem-1 Elementary derivation of Boltzmann's distirbution\n",
    "\n",
    "Let us do an elementary derivation of Boltzman distribution showing that when a macroscopic system is in equilibrium and coupled to a heat bath at temperatere $T$ we have a universal dependence of probability for finding system at different energies: \n",
    "\n",
    "$$\\boxed{P(r')/P(r)=e^{-\\beta (U(r)-U(r'))}}$$\n",
    "\n",
    "The essence of the derivation is this. Consider a vertical column of gas somehre in the mountains.\n",
    "- On one hand we have graviational force which acts on a column between $h, h+dh$ with cross section $A$. \n",
    "- On the other hand we have pressure balance which thankfully keeps the molecules from dropping on the ground. \n",
    "- This means that we have a steady density of molecules at each distance $n(h)$ for a fixed $T$. Write down this balance of forces (gravitational vs pressure ) and find show how density at $h$, $n(h)$ is related to density at $h=0$, $n(0)$. \n",
    "\n",
    "> Tip: you may use $P=nkT$ for pressure and $mgh$ for the gravitational force) "
   ]
  },
  {
   "cell_type": "markdown",
   "metadata": {},
   "source": [
    "### Problem-2 Three level system\n",
    "\n"
   ]
  },
  {
   "cell_type": "markdown",
   "metadata": {},
   "source": [
    "Consider a system of N classical and non-interacting particles in contact with a thermal reservoir at a temperature $T$. Each particle can have be in three states with energy $0$, $\\epsilon$ or $3\\epsilon$ where $\\epsilon>0$. \n",
    "\n",
    "- Obtain an expression for $Z$ then compute the average and fluctuation of energy.\n",
    "\n",
    "- Plot the heat capacity as a function of temperature $C_v(T)$\n",
    "\n",
    "- Plot the average enegy as a function of temperature $U(T)$\n",
    "\n",
    "- Plot the entropy as a function of temperature $S(T)$. \n",
    "\n"
   ]
  },
  {
   "cell_type": "markdown",
   "metadata": {},
   "source": [
    "### Problem-3 Spins on a lattice\n",
    "\n",
    "Consider $N$ lattice sites which have quantum spins $s=1$ (not to be confused with entropy) with a mangnetic moment $\\mu$. Spins are subject to a uniform mangeitc field in z direction $B=B_z$ making the energy of each spin $-\\mu B m $ where $m$ is the magnetic quantum number thattakes on three possible values $m=0, \\pm 1$. \n",
    "\n",
    "- Compute the entropy $S$ and the mangeitzation of the system $M$\n",
    "\n",
    "- Plot entropy as a function of temperatures and study the limit of low temperatures $S(T\\rightarrow 0)$\n",
    "\n"
   ]
  },
  {
   "cell_type": "markdown",
   "metadata": {},
   "source": [
    "### Problem-4 2D diploes on a lattice\n",
    "\n",
    "Consider a 2D square lattice with $M$ lattice points. On each point we have a mangeetic moment that can point in four possible directions: $+x, -x, +y, -y$. Along $y$ axis, the dipole has the energy $\\epsilon>0$ and along the x axis $\\epsilon=0$.\n",
    "\n",
    "Dipoles are not interacting with each other and we also ingnore kinetic energy of diplos since they are fixed at lattice positions. \n",
    "\n",
    "- Write down parition function for this system $Z$\n",
    "\n",
    "- Compute the average energy.\n",
    "\n",
    "- Compute entropy per dipole $s(T)$. Evaluate the difference $S(T=\\infty)-S(T=0)$? Can you see a link with number of arrangements of dipols?\n",
    "\n",
    "- Compute microcanonical partition function $\\Omega (N\\epsilon)$\n",
    "\n",
    "- Show that we get the same entropy expression by using $NVE$ and $NVT$ ensembles."
   ]
  },
  {
   "cell_type": "markdown",
   "metadata": {},
   "source": [
    "### Problem-5 A typical spin problem \n",
    "\n",
    "Due to a ligand field, the degeneracy of d-orbital of chromium ion $Cr^{3+}$ is partially lifted. The spin part of the hamiltonian that lifts this degeneracy has the following form.\n",
    "\n",
    "$$H =  D \\big(S_z^2 -S(S+1)/2 \\big)$$\n",
    "\n",
    "Where $D>0$ is some constant and $S=3/2$ (the cation has an electronic term ${F}^ 4_{3/2}$\n",
    "\n",
    "- Conceptual question: Why can we apply statisical mechanics to a \"single\" ion?\n",
    "\n",
    "- Obtain the occupation probability of each discrete energy level $P(E)$.\n",
    "\n",
    "- Calculate the entropy and the specific heat then show that heat capacity behaves as $T^{-2}$ at high temperatures.\n",
    "\n",
    "- Supose heat capacity is $C=k_b \\Big(\\frac{T}{T_0} \\Big)^2$ with $T_0=0.18 K$ at higher temperatures. Determine the energy spacing. "
   ]
  }
 ],
 "metadata": {
  "kernelspec": {
   "display_name": "Python 3 (ipykernel)",
   "language": "python",
   "name": "python3"
  },
  "language_info": {
   "codemirror_mode": {
    "name": "ipython",
    "version": 3
   },
   "file_extension": ".py",
   "mimetype": "text/x-python",
   "name": "python",
   "nbconvert_exporter": "python",
   "pygments_lexer": "ipython3",
   "version": "3.9.16"
  },
  "latex_envs": {
   "LaTeX_envs_menu_present": true,
   "autoclose": false,
   "autocomplete": true,
   "bibliofile": "biblio.bib",
   "cite_by": "apalike",
   "current_citInitial": 1,
   "eqLabelWithNumbers": true,
   "eqNumInitial": 1,
   "hotkeys": {
    "equation": "Ctrl-E",
    "itemize": "Ctrl-I"
   },
   "labels_anchors": false,
   "latex_user_defs": false,
   "report_style_numbering": false,
   "user_envs_cfg": false
  },
  "livereveal": {
   "theme": "sky"
  },
  "nteract": {
   "version": "0.28.0"
  },
  "toc": {
   "base_numbering": 1,
   "nav_menu": {},
   "number_sections": true,
   "sideBar": true,
   "skip_h1_title": false,
   "title_cell": "Table of Contents",
   "title_sidebar": "Contents",
   "toc_cell": true,
   "toc_position": {},
   "toc_section_display": true,
   "toc_window_display": false
  }
 },
 "nbformat": 4,
 "nbformat_minor": 4
}
