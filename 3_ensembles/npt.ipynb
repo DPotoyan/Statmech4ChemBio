{
 "cells": [
  {
   "attachments": {},
   "cell_type": "markdown",
   "metadata": {},
   "source": [
    "# Open Systems"
   ]
  },
  {
   "cell_type": "markdown",
   "metadata": {
    "slideshow": {
     "slide_type": "slide"
    }
   },
   "source": [
    "![]()\n",
    "\n",
    ":::{figure-md} markdown-fig\n",
    "\n",
    "<img src=\"./figs/bottleocean.jpg\" alt=\"Information\" style=\"width:10%\">\n",
    "\n",
    "Open systems are characterized by variable number of particles and energy\n",
    ":::"
   ]
  },
  {
   "cell_type": "markdown",
   "metadata": {
    "slideshow": {
     "slide_type": "slide"
    }
   },
   "source": [
    ":::{admonition}  **An intuitive derivation of Grand-Canonical Distribution**\n",
    ":class: tip, dropdown\n",
    "\n",
    "- The derivation for grand canonical ensemble proceeds along the same lines as that for canonical. We will write the entropy of the combined system as a sum of the entropies of the system and reservoir, which are allowed to exchange energy and several particles. Then using the fact that reservoir is much larger than the system its entropy will be Taylor expanded around average number of particles and average energy-yielding exponential distribution for probability \n",
    "\n",
    "\n",
    "- In the $\\mu VT$ ensemble, the system samples different numbers of particles $N$ consistent with $\\mu =const$ constraint imposed by putting a system in contact with an infinitely large chemostat.  \n",
    "\n",
    "$$E_{tot} = E_r + E_i$$\n",
    "\n",
    "$$N_{tot} = N_r + N$$\n",
    "\n",
    "$$\\Omega_{tot}(E_{tot}, N_{tot}) = \\sum_N \\sum_i \\Omega_r(E_{tot}-E_i, N_{tot}-N) \\cdot \\Omega(E_i, N)$$\n",
    "\n",
    "- The probability of a single microstate $\\Omega(E_i, N) =1$ can now be written down.\n",
    "\n",
    "$$p(E_i, N) = \\frac{\\Omega_r(E_{tot}-E_i, N_{tot}-N)}{\\Omega_{tot} (E_{tot}, N_{tot})} = e^{\\frac{1}{k_B}\\big(S_r- S_{tot}\\big)} $$\n",
    "\n",
    "\n",
    "**Entropy of reservoir**\n",
    "\n",
    "- We already know that averages dominate the partition functions of macroscopic systems, which ensures the extensivity of entropy.\n",
    "\n",
    "$$S_{tot} = k_Blog \\Omega_{tot}(E_{tot}, N_{tot}) = S_r(E_{tot}-U, N_{tot}-\\bar{N})+S(U, \\bar{N})$$\n",
    "\n",
    "- Therefore, this time, we will be more explicit and expand the entropy of the reservoir around the system's average energy and particles respectively:\n",
    "  \n",
    "$$S_r(E_{tot}-E_i, N_{tot}-N) = S_r(E_{tot}-U + {\\color{blue}[U-E_i]}, N_{tot}-\\bar{N} + \\color{green}{[\\bar{N}-N_i]})$$\n",
    "\n",
    "$$ S_r =  S_r(E_{tot}-U, N_{tot}-\\bar{N}) + \\frac{1}{T}{\\color{blue} [U-E_i]} - \\frac{\\mu}{T} { \\color{green} [\\bar{N}-N_i]}$$\n",
    "\n",
    "**Grand canonical probability distribution**\n",
    "\n",
    "By combining the expressions of total and reservoir entropies, we get the probability distribution of the system's energy and particle numbers. \n",
    "\n",
    "$$p(E_i, N) = e^{\\frac{1}{k_BT}\\big([U-e_i]\\big)+\\mu[\\bar{N}-N_i]\\big) } $$\n",
    "\n",
    "$$\\Psi = U-TS-\\mu N$$\n",
    ":::"
   ]
  },
  {
   "cell_type": "markdown",
   "metadata": {
    "slideshow": {
     "slide_type": "slide"
    }
   },
   "source": [
    "**Grand-Canonical distribution**\n",
    "\n",
    "$$\\boxed{p(E_i, N) = \\frac{e^{-\\beta(E_i -\\mu N)}}{Z_G}}$$\n",
    "\n",
    "Where partition function is summed over microstates with different energies and particle numbers!\n",
    "\n",
    "$$Z_G(\\mu, \\beta, V) = \\sum_i \\sum_N e^{-\\beta (E_i-\\mu N)} $$ "
   ]
  },
  {
   "cell_type": "markdown",
   "metadata": {
    "slideshow": {
     "slide_type": "slide"
    }
   },
   "source": [
    "### Connections with $NVE$ and $NVT$"
   ]
  },
  {
   "cell_type": "markdown",
   "metadata": {
    "slideshow": {
     "slide_type": "slide"
    }
   },
   "source": [
    "**Statistical dominance of average energy and numbers of particles**\n",
    "\n",
    "- Recall that canonical ensemble was an exponentially weighted sum of microcanonical ensemble over energies\n",
    "\n",
    "- Likewise, we can show that **Grand canonical** can be expressed as exponentially weighted (by $e^{\\beta \\mu N}$) summation of canonical partition functions overall particle numbers $N$ \n",
    "\n",
    "$$Z_G = \\sum^{N=\\infty}_{N=0} \\Big [ \\sum_i e^{-\\beta E_i}  \\Big ]e^{\\beta \\mu N} = \\sum^{N=\\infty}_{N=0} Z(N,V,T)e^{\\beta \\mu N}$$\n",
    "\n",
    "\n",
    "- The connection between partition functions and the domination of averages is seen clearly:\n",
    "\n",
    "$$Z_G \\approx e^{-\\beta (F-\\mu \\bar{N})} = e^{-\\beta (\\bar{E}- TS -\\mu \\bar{N})} = e^{-\\beta \\Psi(T,V,\\mu)} $$\n",
    "\n",
    "- We also identify a new free energy for grand canonical ensemble as a function of thermodynamic variables\n",
    "  \n",
    "$$\\boxed{\\Psi(T,V, \\mu) = E- TS -\\mu N}$$\n",
    "\n",
    "\n",
    "**Legendre Transform**\n",
    "\n",
    "The grand-canonical free energy can also be seen as a Legendre transform of Energy concerning Energy and several particles, e.g., swapping the following pairs of conjugate variables $(S\\rightarrow T)$ $(N \\rightarrow \\mu)$.\n",
    "\n",
    "$$E(S,V,N) \\rightarrow E- \\Big(\\frac{\\partial E}{\\partial S}\\Big) S- \\Big(\\frac{\\partial E}{\\partial N} \\Big)N = E-TS-\\mu N$$\n",
    "\n",
    "**Grand potential**\n",
    "\n",
    "Using Euler's relation $E = TS+PV+\\mu N$ for extensive thermodynamic variables we obtain an explicit expression for Grand potential in terms of volume and pressure:\n",
    "\n",
    "$$\\boxed{\\Psi(T,V, \\mu) = -PV}$$"
   ]
  },
  {
   "cell_type": "markdown",
   "metadata": {
    "slideshow": {
     "slide_type": "slide"
    }
   },
   "source": [
    "### Grand-canonical potential"
   ]
  },
  {
   "cell_type": "markdown",
   "metadata": {
    "slideshow": {
     "slide_type": "fragment"
    }
   },
   "source": [
    "- Using the Gibbs relation, one can show that the independent variables of grand potential are ($T$, $V$, $\\mu$)\n",
    "\n",
    "$$d(E-TS+\\mu N) = dE-TdS+Nd\\mu+\\mu dN$$\n",
    "\n",
    "\n",
    "$$\\boxed{d\\Psi(\\mu, V, T) = -SdT -p dV -Nd \\mu}$$\n",
    "\n",
    "$$S = -\\frac{\\partial \\Psi}{\\partial T}$$\n",
    "\n",
    "$$p = -\\frac{\\partial \\Psi}{\\partial V}$$\n",
    "\n",
    "$$N = -\\frac{\\partial \\Psi}{\\partial \\mu}$$"
   ]
  },
  {
   "cell_type": "markdown",
   "metadata": {
    "slideshow": {
     "slide_type": "slide"
    }
   },
   "source": [
    "### Fluctuations\n",
    "\n",
    "$$\\langle N \\rangle  = \\sum_i p_i N_i = \\frac{\\partial log Z_G}{\\partial (\\beta \\mu)}$$\n",
    "\n",
    "$$\\sigma^2_N =\\langle N^2\\rangle - \\langle N \\rangle^2 = \\frac{\\partial^2 log Z_G}{\\partial (\\beta \\mu)^2} = \\frac{\\partial \\langle N \\rangle}{\\partial (\\beta \\mu)}$$\n",
    "\n",
    "$$\\sigma^2_N = \\frac{N^2 k_B T \\kappa_T}{V} \\sim O(N)$$\n",
    "\n",
    "> Notice anology with NVT where we found $\\sigma^2_E = k_B T^2 C_v$ for energy fluctuations with $C_v\\geq 0$ implying stability. For particle fluctuataions instead of heat capacity we have the isothermal compressibility $\\kappa_T = -\\frac{1}{V}\\frac{\\partial V}{\\partial p} \\geq 0$\n",
    "\n",
    "$$\\frac{\\sigma_N}{\\langle N \\rangle} \\sim O(N^{-1/2})$$"
   ]
  },
  {
   "cell_type": "markdown",
   "metadata": {
    "slideshow": {
     "slide_type": "slide"
    }
   },
   "source": [
    "### Ideal Gas"
   ]
  },
  {
   "cell_type": "markdown",
   "metadata": {
    "slideshow": {
     "slide_type": "fragment"
    }
   },
   "source": [
    "\n",
    "$$Z(T,V,N) = \\frac{1}{N!} \\Big( \\frac{V}{\\lambda^3} \\Big)^N\\,\\,\\,\\,$$\n",
    "\n",
    "- **Thermal wavelength** $\\lambda = \\frac{h}{(2 \\pi mk_B T)^{1/2}}$\n",
    "\n",
    "$$Z_G = \\sum^{N=\\infty}_{N =0} Z(T,V,N) e^{\\beta \\mu N} = \\sum^{N=\\infty}_{N =0} \\frac{1}{N!} \\Big( e^{\\beta \\mu} \\frac{V}{\\lambda^3} \\Big)^N = exp\\Big(z \\frac{V}{\\lambda^3} \\Big)$$\n",
    "\n",
    "\n",
    "- **Fugacity** $z = e^{\\beta \\mu}$\n",
    "\n",
    "$$\\langle N \\rangle = \\frac{\\partial log Z_G}{\\partial (\\beta \\mu)} = \\frac{V}{\\lambda^3} e^{\\beta \\mu}$$\n",
    "\n",
    "$$\\mu  = k_B T log \\frac{N \\lambda^3}{V} = k_B T log [(k_B T)\\lambda^3 \\cdot p ] = \\mu^0 (T) + k_B Tlog p $$\n",
    "\n",
    "$$\\sigma^2_N = \\frac{N^2 k_B T \\kappa_T}{V} = N$$\n",
    "\n",
    "$$\\kappa_T = \\frac{NV }{N^2 k_B T} = \\frac{1}{p} \\geq 0$$"
   ]
  },
  {
   "cell_type": "markdown",
   "metadata": {},
   "source": [
    "#### System of dilute uncorrelated particles = ideal gas\n",
    "\n",
    "$$\\sigma^2_N = \\langle N \\rangle$$"
   ]
  },
  {
   "cell_type": "markdown",
   "metadata": {
    "slideshow": {
     "slide_type": "slide"
    }
   },
   "source": [
    "### Molecular adsorption on the surface\n",
    "\n",
    "![](./figs/adsorption.png)"
   ]
  },
  {
   "cell_type": "markdown",
   "metadata": {
    "slideshow": {
     "slide_type": "fragment"
    }
   },
   "source": [
    "$$Z_G = z^N_G$$"
   ]
  },
  {
   "cell_type": "markdown",
   "metadata": {
    "slideshow": {
     "slide_type": "slide"
    }
   },
   "source": [
    "#### One site one molecule model\n",
    "\n",
    "$$z_G = 1 +e^{-\\beta (\\epsilon-\\mu)}$$\n",
    "\n",
    "$$\\langle n \\rangle =\\frac{0+1\\cdot e^{-\\beta(\\epsilon - \\mu)}}{Z_G} = \\frac{1}{e^{-\\beta(\\mu-\\epsilon)}+1}$$\n",
    "\n",
    "$$\\langle E \\rangle =\\frac{0+\\epsilon\\cdot e^{-\\beta(\\epsilon - \\mu)}}{Z_G} = \\epsilon \\langle n \\rangle $$\n",
    "\n",
    "For the idea gas $\\mu  = k_B T log \\frac{p}{p_0}$\n",
    "\n",
    "$$\\langle n \\rangle = \\frac{p}{p_0e^{\\beta \\epsilon}+p}$$\n",
    "\n",
    "> This is known as Langmuir isotherm. "
   ]
  },
  {
   "cell_type": "markdown",
   "metadata": {
    "slideshow": {
     "slide_type": "slide"
    }
   },
   "source": [
    "#### Multi-stide binding of molecular gas with internal states\n",
    "\n",
    "1. Molecule A binds to one site and adopts 2 conformations. \n",
    "2. Two molecules of B can bind one site. When one molecle is bound it has one conformation and when two bound there are 5 conformations.  \n",
    "\n"
   ]
  },
  {
   "cell_type": "markdown",
   "metadata": {
    "slideshow": {
     "slide_type": "slide"
    }
   },
   "source": [
    "$$z_G = 1 + 2 e^{-\\beta(\\epsilon_A - \\mu_A)}+ e^{-\\beta(\\epsilon_B - \\mu_B)} +5 e^{-2\\beta(\\epsilon_B - \\mu_B)}$$"
   ]
  },
  {
   "cell_type": "markdown",
   "metadata": {},
   "source": [
    "### Phase equilibrium\n",
    "\n",
    "Recall that for equilibrium conditions under any ensemble; there is equality of intensive variables across the entire system. E.g., temperature, pressure, and chemical potential throughout the system must be equal. In the Case of the (N,P,T) ensemble commonly used by chemists, this is a consequence of Gibbs free energy minimization. \n",
    "\n",
    "$$dG = \\mu_1 dN_1+\\mu_2 dN_2 = 0$$\n",
    "\n",
    "- Since one phase interconverts to the other, we have\n",
    "  \n",
    "$$dN_1=-dN_2$$\n",
    "\n",
    "- In equilibrium chemical potential of two phases (two conformations, two states, etc) are equal\n",
    "$$\\mu_1(p, T) = \\mu_2(p, T)$$"
   ]
  },
  {
   "attachments": {},
   "cell_type": "markdown",
   "metadata": {},
   "source": [
    "### Chemical equilibrium and mass action law\n",
    "\n",
    "**Chemical Equilibrium: Athermodynamics point of view**\n",
    "\n",
    "$$aA+bB\\rightarrow cC+dD$$\n",
    "\n",
    "- Equilibrium is reached when $\\mu_{react}=\\mu_{prod}$ or written in terms of potential of each component\n",
    "\n",
    "$$-n_A \\mu_A-n_B\\mu_B +n_c \\mu_C+n_d\\mu_D =0$$\n",
    "\n",
    "- Writing more generally by using stoichiometric coeficients with a + sign for reactants and - sign for products we have\n",
    "\n",
    "$$\\sum_j n_j \\nu_j =0$$\n",
    "\n",
    "- Recall that for ideal gases or dilute solutions with non-interacting species:\n",
    "\n",
    "$$\\mu(p, T) = \\mu^o(T) +RTlog c_i = RTlog\\gamma_i+ RT log  c_i=RT log (\\gamma_i c_i)$$ \n",
    "\n",
    "- Where $\\mu^o(T)$ is a chemical potential corresponding to some standard state of the compound.\n",
    "\n",
    "$$\\sum_i \\nu_i \\mu_i = \\sum_i \\nu_i \\cdot RT log (\\gamma_i c_i)=0$$\n",
    "\n",
    "\n",
    "$$\\Pi_i (\\gamma_i c_i)^{\\nu_i}=0$$\n",
    "\n",
    "- We arrive at **mass action law**, showing that at equilibrium, the constraints defined as the ratio of reactant and product concentrations depend only on thermodynamic variables of pressure and temperatures.\n",
    "   \n",
    "$$\\boxed{K(T, P) =  \\Pi_i (c_i )^{\\nu_i} = \\Pi_i (\\gamma_i )^{-\\nu_i}}$$\n",
    "\n",
    "- We can also derive the same result by writing down the condition of chemical equilibrium in terms of free energy change $\\Delta G=\\Delta G^o+\\sum_i \\nu_i \\cdot RT log (c_i)=0$\n",
    "\n",
    "$$-\\Delta G^o = - \\sum \\nu_i \\mu_i = RT log \\Bigg(\\Pi_i c^{\\nu_i}_i\\Bigg)$$\n",
    "\n",
    "- The side of the left hand does not depend on chemical composition but only on thermodynamic variables, $T$ and $P$. We can write this constant as $K(T,P)$ chemical equilibrium constant\n",
    "\n",
    "$$\\boxed{K(T,P)= e^{-\\Delta G^o/RT}  = \\frac{...c^{\\nu_p}_p...}{...c^{\\nu_r}_r...}}$$\n",
    "\n",
    "\n",
    "**Equilibrium constants from partition functions**\n",
    "\n",
    "- We have derived partition functions for mixture of ideal gasses\n",
    "\n",
    "$$Z=\\frac{1}{N_1! N_2!...}z^{N_1}_1 z^{N_2}_2 ...$$\n",
    "\n",
    "\n",
    "$$F_i = -k_BT  log \\frac{1}{N_i!} z^{N_i}_i = -k_BT[-N_ilogN_i + N_i+ N_iz]$$\n",
    "\n",
    "- Using Stirling's approximation and taking derivative, we get the chemical potential for individual species:\n",
    "  \n",
    "\n",
    "$$\\mu_i =  -k_BT (logN_i-logz_i) = -k_B Tlog\\Big(\\frac{N_i}{z_i}\\Big)$$\n",
    "\n",
    "- Thus, we have explicitly identified $\\mu^o(T)$ or $\\gamma_i(T)$ factors.\n",
    "\n",
    "$$\\gamma_i = \\frac{z_i}{V}$$\n",
    "\n",
    "Hence, chemical equilibrium constants can be computed in terms of the partition functions of molecules\n",
    "\n",
    "$$aA+bB\\rightarrow cC+dD$$\n",
    "\n",
    "$$K = \\frac{(z_C/V)^c (z_D/V)^d}{(z_A/V)^a (z_B/V)^b}$$\n"
   ]
  },
  {
   "cell_type": "markdown",
   "metadata": {},
   "source": [
    "## Problems"
   ]
  },
  {
   "cell_type": "markdown",
   "metadata": {},
   "source": [
    "###  $NVT-NVE-\\mu V T$ \n",
    "\n",
    "1. Consider a three level single particle system with five microstates with energies 0, ε, ε, ε, and 2ε. What is $\\Omega(\\epsilon n)$  n=0,1,2 for this system? What is the mean energy of the system if is in equilibrium with a heat bath at temperature T ?\n",
    "\n",
    "2. Derive an expression for the chemical potential of an ideal gas using clssical mechanics model for energy $E=\\frac{p^2}{2m}$ in the $\\mu VT$ ensemble evaluate the fluctuations in particle number. \n",
    "\n",
    "3. Consider a system in equilibrium with a heat bath at temperature $T$ and a particle reservoir at chemical potential $\\mu$. The system can have a minimum of one and a maximum of four distinguishable particles. The particles in the system do not interact and can be in one of two states with energies zero or $\\Delta$. Determine the (grand) partition function of the system.\n",
    "\n",
    "4. Combine the Gibbs formula of Entropy $S=-k_B \\sum_i p_i log p_i$ with the Grand canonical prbability distribution $P(E_i,N)=\\frac{e^{-\\beta E_i+ \\beta \\mu N}}{Z_G}$ to show that $\\beta PV=log Z_G$\n",
    "\n",
    "5. Derive partition function for a pressure ensemble $(T, p, N)$ and show its connection with microcanonical ensemble $N V E$\n",
    "\n",
    "6. At a given temperature T a surface with $N_0$ adsorption centers has on average $N\\neq N_0$ number of adsorbed molecules. Suppose hat there are no interactions between molecules. \n",
    "\n",
    "    - Show that the chemical potential of adsorbed gas is given by: $\\mu  = k_B T log \\frac{N}{N_0 - N a(T)}$\n",
    "\n",
    "    - What is the meaning of $a(T)$"
   ]
  }
 ],
 "metadata": {
  "kernelspec": {
   "display_name": "Python 3 (ipykernel)",
   "language": "python",
   "name": "python3"
  },
  "language_info": {
   "codemirror_mode": {
    "name": "ipython",
    "version": 3
   },
   "file_extension": ".py",
   "mimetype": "text/x-python",
   "name": "python",
   "nbconvert_exporter": "python",
   "pygments_lexer": "ipython3",
   "version": "3.9.16"
  },
  "livereveal": {
   "theme": "sky"
  },
  "toc": {
   "base_numbering": 1,
   "nav_menu": {},
   "number_sections": true,
   "sideBar": true,
   "skip_h1_title": false,
   "title_cell": "Table of Contents",
   "title_sidebar": "Contents",
   "toc_cell": true,
   "toc_position": {},
   "toc_section_display": true,
   "toc_window_display": false
  }
 },
 "nbformat": 4,
 "nbformat_minor": 4
}
