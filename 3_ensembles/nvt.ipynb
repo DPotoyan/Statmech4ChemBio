{
 "cells": [
  {
   "cell_type": "markdown",
   "metadata": {},
   "source": [
    "# Ensembles in phase-space"
   ]
  },
  {
   "attachments": {},
   "cell_type": "markdown",
   "metadata": {
    "slideshow": {
     "slide_type": "slide"
    }
   },
   "source": [
    ":::{admonition} **What you will learn**\n",
    "\n",
    "- Counting microstates in quantum systems or lattice models is natural as these systems are already discretized\n",
    "- Defining microstates in classical mechanics requires us to divide phase-space into small volumes of size $\\sim h^N$\n",
    "- Using classical hailtonians for non-interacting particles we can derive a number of useful relations between free energies chemical potentials.\n",
    "- Equipartition theorem says ever quadratic degree term in Hamiltonian contributes $kT$ of energy\n",
    "- De Broglie wavelength demarcates domain of applicability of classical and quantum mechanics\n",
    "\n",
    ":::"
   ]
  },
  {
   "cell_type": "markdown",
   "metadata": {},
   "source": [
    "### Computing Z via classical mechanics\n",
    "\n",
    "- In quantum mechanics counting microsites is easy, we have discrete energies and  could simply sum over microstates to compute partition functions \n",
    "\n",
    "$$Z=\\sum_i e^{-\\beta E_i}$$\n",
    "\n",
    "- Each particle in quantum mechanics can not be defined beyond $\\delta d \\delta p \\sim h$ limit imposed by quantum mechanics. \n",
    "- Counting microstates in classical mechanics is therefore done by discretizing phase space for N particle system $x^N, p^N$ into smallest unit boxes of size $h^N$.\n",
    " \n",
    "- In other words, we replace summation over quantum states with integral over phase space \n",
    "\n",
    "$$\\sum_i \\rightarrow \\int \\frac{dpdx}{h}$$\n",
    "\n",
    "- Recall that we need to correct classical mechanics for \"double counting\" microstates if we have N indistinguishable \"particles\" with a factor of $N!$  \n",
    "\n",
    ":::{admonition} **Classical partition function**\n",
    ":class: important \n",
    "\n",
    "$$Z(\\beta) = \\frac{1}{N! h^{N}} \\int e^{-\\beta H(x^N, p^N)} dx^N dp^N$$\n",
    "\n",
    ":::"
   ]
  },
  {
   "cell_type": "markdown",
   "metadata": {},
   "source": [
    "## The power and utility of NVT: The non-interacting system\n",
    "\n",
    "- For the independent particle system, the energy of each particle enter the total energy of the system additively.  \n",
    "\n",
    "$$E(\\epsilon_1, \\epsilon_2, ... \\epsilon_N) = \\epsilon_1+\\epsilon_2+...\\epsilon_N$$\n",
    "\n",
    "- The exponential factor in the partition function allows decoupling particle contributions $e^{-\\beta{(\\epsilon_1+\\epsilon_2)}} = e^{-\\beta{\\epsilon_1}}e^{-\\beta{\\epsilon_2}}$. This means that the partition function can be written as the product of the partition functions of individual particles!\n",
    "\n",
    "$$Z = \\sum^{n=N}_{n=0} e^{-\\beta E_n} =  \\Big (\\sum^{i=1}_{i=0} e^{-\\beta \\epsilon_i} \\Big)\\Big (\\sum^{i=1}_{i=0} e^{-\\beta \\epsilon_i} \\Big)...\\Big (\\sum^{i=1}_{i=0} e^{-\\beta \\epsilon_i} \\Big)= z_1 \\cdot z_2 \\cdot z_3 ... z_N$$\n",
    "\n",
    "\n",
    "**Distinguishable states**:\n",
    "\n",
    "$$Z = z_1 \\cdot z_2 \\cdot z_3 ... z_N$$\n",
    "\n",
    "**Indistinguishable states**:\n",
    "\n",
    "$$ Z = \\frac{1}{N!}z^N $$"
   ]
  },
  {
   "cell_type": "markdown",
   "metadata": {},
   "source": [
    ":::{admonition} **General strategy for using NVT for simple non-interacting systems**\n",
    ":class: tip\n",
    "\n",
    "1. Compute the **single particle partition function** $z= e^{-\\beta \\epsilon_1}+  e^{-\\beta \\epsilon_2}+ ...$\n",
    "\n",
    "2. To compute **full partition function**, raise z to the power of N and apply factorial in case of indistinguishable particles  $Z = \\frac{1}{N!}z$ or take product in case of distinguishable identical particles $z^N$\n",
    "\n",
    "3. Compute the **free energy** $F= - k_B T log Z$\n",
    "\n",
    "4. Take **derivatives of free energy** to get the thermodynamic quantities. E.g one is often interested in computing temperature dependence of $\\mu(T), U(T), S(T)$\n",
    ":::"
   ]
  },
  {
   "cell_type": "code",
   "execution_count": 7,
   "metadata": {},
   "outputs": [
    {
     "data": {
      "application/vnd.jupyter.widget-view+json": {
       "model_id": "447748be1ca247acb8f7d664e02ecebf",
       "version_major": 2,
       "version_minor": 0
      },
      "text/plain": [
       "interactive(children=(FloatSlider(value=1.0, description='eps', max=10.0, min=0.5, step=0.5), Output()), _dom_…"
      ]
     },
     "metadata": {},
     "output_type": "display_data"
    }
   ],
   "source": [
    "from ipywidgets import interact\n",
    "\n",
    "@interact(eps=(0.5,10, 0.5))\n",
    "def E_two_sys(eps=1):\n",
    "    \n",
    "    N       = 1\n",
    "    kbT     =  np.linspace(0,5,1000)/eps\n",
    "    E_eps   = N/(1+np.exp(1/kbT))\n",
    "    \n",
    "    plt.plot(kbT, E_eps, lw=3)\n",
    "    plt.xlabel('$k_B T/\\epsilon$')\n",
    "    plt.ylabel('$E/\\epsilon$')\n",
    "    plt.show()"
   ]
  },
  {
   "cell_type": "markdown",
   "metadata": {
    "slideshow": {
     "slide_type": "slide"
    }
   },
   "source": [
    "### Example-2: Ideal gas (classical)"
   ]
  },
  {
   "cell_type": "markdown",
   "metadata": {
    "slideshow": {
     "slide_type": "slide"
    }
   },
   "source": [
    "$$H(p^N, x^N) = K(p^N)  = \\sum^{i=N}_{i=1}\\frac{p^2_i}{2m}$$"
   ]
  },
  {
   "cell_type": "markdown",
   "metadata": {
    "slideshow": {
     "slide_type": "slide"
    }
   },
   "source": [
    "**Partition function for a single atom**\n",
    "\n",
    "- Let us evaluate the partition function for a single particle in 3D:\n",
    "\n",
    "$$Z(\\beta) =  \\Bigg [\\frac{1}{h} \\int_{L} dx \\int^{+\\infty}_{-\\infty} dp e^{-\\beta \\frac{p^2}{2m}}  \\Bigg ]^3 = V \\Big [ \\frac{2\\pi m}{h \\beta} \\Big]^{3/2} = V n_Q$$\n",
    "\n",
    "**On the validity of classical approximation**\n",
    "\n",
    "- We wrote down the partition sum in terms of the volume of the container and a quantum density $n_Q$ \n",
    "\n",
    "- As long as interatomic distances are larger than De-Broglie thermal wavelength, classical approximation is good\n",
    "\n",
    "$$n_Q = \\Big [ \\frac{m k_B T}{2 \\hbar^2} \\Big]^{3/2} = \\frac{1}{\\lambda^3_T}$$\n",
    "$$\\lambda_T = \\frac{h}{2mk_BT} \\sim \\frac{h}{m \\bar{v}}$$\n",
    "\n",
    "**Partition function for N atoms**\n",
    "\n",
    "$$Z = \\frac{Z^N}{N!}  = \\frac{(V n_Q)^N}{N!}$$\n",
    "\n",
    "- Using the curdest version of Striling's approximation $N!\\approx N^N e^{-N}$ and denoting $n = N/V$ as the density we get\n",
    "\n",
    "$$Z = \\Big[ \\frac{n_Q}{n}\\Big]^N e^N$$\n",
    "\n",
    "$$F = -k_B T log Z = -N k_B T  log \\Big( \\frac{n_Q}{n} \\Big) - Nk_BT$$\n",
    "\n",
    "- We can also calculate entropy and other thermodynamic quantities and compare with expressions obtained in NVE\n",
    "\n",
    "$$S = -\\Big( \\frac{\\partial F}{\\partial T}\\Big)_{N,V} = Nk_B log \\Big( \\frac{n_Q}{n} \\Big) + Nk_B + \\frac{3}{2}Nk_B$$\n"
   ]
  },
  {
   "cell_type": "markdown",
   "metadata": {
    "slideshow": {
     "slide_type": "slide"
    }
   },
   "source": [
    "**Entropy**\n",
    "$$S = Nk_B \\Bigg[log \\Big( \\frac{n_Q}{n} \\Big)+ \\frac{5}{2} \\Bigg]$$\n",
    "\n",
    "**Mean energy**\n",
    "\n",
    "$$U = \\frac{\\partial log Z}{\\partial (-\\beta)} = \\frac{3}{2}N k_B T$$\n",
    "\n",
    "**Pressure and ideal gas law**\n",
    "$$p = -\\frac{\\partial F}{\\partial V} =\\frac{N k_B T}{V}$$\n",
    "\n",
    "**Chemical potential**\n",
    "\n",
    "$$\\mu = k_B T \\cdot log  \\Big(\\frac{n}{n_Q(T)}\\Big)$$"
   ]
  },
  {
   "cell_type": "code",
   "execution_count": 15,
   "metadata": {},
   "outputs": [
    {
     "data": {
      "text/plain": [
       "Text(0.5, 0, 'B')"
      ]
     },
     "execution_count": 15,
     "metadata": {},
     "output_type": "execute_result"
    },
    {
     "data": {
      "image/png": "[encoded data removed]",
      "text/plain": [
       "<Figure size 432x288 with 1 Axes>"
      ]
     },
     "metadata": {
      "needs_background": "light"
     },
     "output_type": "display_data"
    }
   ],
   "source": [
    "import numpy as np\n",
    "import matplotlib.pyplot as plt\n",
    "\n",
    "x=np.linspace(-2, 2, 100)\n",
    "\n",
    "for beta in [0.1, 0.5, 1, 2]:\n",
    "    plt.plot(x, np.tanh(beta*x))\n",
    "    \n",
    "plt.ylabel('$m/\\mu$')    \n",
    "plt.xlabel('B')"
   ]
  },
  {
   "cell_type": "markdown",
   "metadata": {},
   "source": [
    "## Non-interacting molecules\n",
    "\n",
    "### Translational degrees of freedom: particle in a box\n",
    "\n",
    "$$E_{n_x, n_y, n_z} = \\frac{\\hbar^2 \\pi^2}{2m L^2} \\big(n^2_x+n^2_y+n^2_z \\big)$$\n",
    "\n",
    "$$ Z \\approx \\Bigg [\\int^{\\infty}_0 dn e^{-\\frac{\\hbar^2 \\pi^2}{2m k_B TL^2}n^2} \\Bigg]^{3} = V \\Bigg[\\frac{m k_B T}{2\\pi \\hbar^2} \\Bigg]^{3/2} =  V n_Q$$\n",
    "\n",
    "- For $N$ molecules in a box\n",
    "  \n",
    "$$Z= \\frac{(V n_Q)^N}{N!}$$\n",
    "\n",
    "### Rotatational degrees of freedom: Rigid rotor model \n",
    "\n",
    "$$E = \\frac{\\hbar^2}{2I} J (J+1) $$\n",
    "\n",
    "$$Z \\approx \\int^{J=\\infty}_{J=0} (2J+1)e^{-\\Big[\\beta \\frac{\\hbar^2}{2I} J (J+1)\\Big]}\\approx \\frac{T}{\\theta_{rot}}$$\n",
    "\n",
    "- Where $\\theta_{rot} = \\frac{\\hbar^2}{2 I_0 k_B}$ is called rotational temperature. \n",
    "\n",
    "### Vibrational degrees of freedom: Harmonic oscillator model\n",
    "\n",
    "$$E_n = \\hbar \\omega (n+1/2)$$\n",
    "\n",
    "$$z = \\sum^{n=+\\infty}_{n=0} = e^{-\\frac{1}{2}\\beta \\hbar \\omega} (1 + e^{-\\beta\\hbar\\omega}+e^{-2\\beta\\hbar\\omega}+...) = \\frac{e^{-\\frac{1}{2}\\beta \\hbar \\omega}}{1-e^{-\\beta\\hbar\\omega}}$$\n",
    "\n",
    "$$Z = z^N$$\n",
    "\n",
    "$$E = \\frac{\\partial log Z}{\\partial (-\\beta)} = N\\hbar \\omega \\Big(\\frac{1}{2}+ \\frac{1}{1+e^{\\beta\\hbar\\omega}} \\Big) $$\n",
    "\n",
    "- When $T \\rightarrow 0$ we are left with zero point energies $E \\rightarrow \\frac{N \\hbar \\omega}{2}$\n",
    "\n",
    "- When $T \\rightarrow \\infty$ we get equipartion of energy! $E \\rightarrow \\frac{3}{2} N k_B T$\n",
    "\n",
    "### Partition function for a molecular gas\n",
    "\n",
    "\n",
    "$$E = E_{transl}+E_{vib}+E_{rot}+E_{elec} $$\n",
    "\n",
    "\n",
    "$$Z = Z_{transl} Z_{vib} Z_{rot} Z_{elec} $$"
   ]
  },
  {
   "cell_type": "markdown",
   "metadata": {},
   "source": [
    "### Equipartion theorem\n",
    "\n",
    "Finally, we can also prove a powerful general result showing us that each degree of freedom that appears in Hamiltonian as a quadratic function, e.g., $kx^2$, contributes on average $\\frac{1}{2}k_BT$ of energy. Hence we can count degrees of freedom and write down average energy!\n",
    "\n",
    "$$U(x) = kx^2 $$\n",
    "\n",
    "$$\\langle U \\rangle = \\int p(x) U(x) dx = \\frac{\\int kx^2 e^{-\\beta kx^2}dx}{\\int e^{-\\beta kx^2}dx} = \\frac{k_B T}{2}$$\n",
    "\n",
    "- The answer is found quickly by identifying variance $\\sigma^2$ in gaussian function with zero mean $e^{\\frac{-x^2}{2\\sigma^2}}$\n",
    "- Notice the spring constant does not figure in the average energy expression!\n",
    "\n",
    "**Example** Calculate heat capacity of diatomic gas.\n",
    "  "
   ]
  },
  {
   "cell_type": "markdown",
   "metadata": {},
   "source": [
    "## Problems"
   ]
  },
  {
   "cell_type": "markdown",
   "metadata": {},
   "source": [
    "### Problem-1 Elementary derivation of Boltzmann's distirbution\n",
    "\n",
    "Let us do an elementary derivation of Boltzman distribution showing that when a macroscopic system is in equilibrium and coupled to a heat bath at temperatere $T$ we have a universal dependence of probability for finding system at different energies: \n",
    "\n",
    "$$\\boxed{P(r')/P(r)=e^{-\\beta (U(r)-U(r'))}}$$\n",
    "\n",
    "The essence of the derivation is this. Consider a vertical column of gas somehre in the mountains.\n",
    "- On one hand we have graviational force which acts on a column between $h, h+dh$ with cross section $A$. \n",
    "- On the other hand we have pressure balance which thankfully keeps the molecules from dropping on the ground. \n",
    "- This means that we have a steady density of molecules at each distance $n(h)$ for a fixed $T$. Write down this balance of forces (gravitational vs pressure ) and find show how density at $h$, $n(h)$ is related to density at $h=0$, $n(0)$. \n",
    "\n",
    "> Tip: you may use $P=nkT$ for pressure and $mgh$ for the gravitational force) "
   ]
  },
  {
   "cell_type": "markdown",
   "metadata": {},
   "source": [
    "### Problem-4 2D diploes on a lattice\n",
    "\n",
    "Consider a 2D square lattice with $M$ lattice points. On each point we have a mangeetic moment that can point in four possible directions: $+x, -x, +y, -y$. Along $y$ axis, the dipole has the energy $\\epsilon>0$ and along the x axis $\\epsilon=0$.\n",
    "\n",
    "Dipoles are not interacting with each other and we also ingnore kinetic energy of diplos since they are fixed at lattice positions. \n",
    "\n",
    "- Write down parition function for this system $Z$\n",
    "\n",
    "- Compute the average energy.\n",
    "\n",
    "- Compute entropy per dipole $s(T)$. Evaluate the difference $S(T=\\infty)-S(T=0)$? Can you see a link with number of arrangements of dipols?\n",
    "\n",
    "- Compute microcanonical partition function $\\Omega (N\\epsilon)$\n",
    "\n",
    "- Show that we get the same entropy expression by using $NVE$ and $NVT$ ensembles."
   ]
  },
  {
   "cell_type": "markdown",
   "metadata": {},
   "source": [
    "### Problem-5 A typical spin problem \n",
    "\n",
    "Due to a ligand field, the degeneracy of d-orbital of chromium ion $Cr^{3+}$ is partially lifted. The spin part of the hamiltonian that lifts this degeneracy has the following form.\n",
    "\n",
    "$$H =  D \\big(S_z^2 -S(S+1)/2 \\big)$$\n",
    "\n",
    "Where $D>0$ is some constant and $S=3/2$ (the cation has an electronic term ${F}^ 4_{3/2}$\n",
    "\n",
    "- Conceptual question: Why can we apply statisical mechanics to a \"single\" ion?\n",
    "\n",
    "- Obtain the occupation probability of each discrete energy level $P(E)$.\n",
    "\n",
    "- Calculate the entropy and the specific heat then show that heat capacity behaves as $T^{-2}$ at high temperatures.\n",
    "\n",
    "- Supose heat capacity is $C=k_b \\Big(\\frac{T}{T_0} \\Big)^2$ with $T_0=0.18 K$ at higher temperatures. Determine the energy spacing. "
   ]
  }
 ],
 "metadata": {
  "kernelspec": {
   "display_name": "Python 3 (ipykernel)",
   "language": "python",
   "name": "python3"
  },
  "language_info": {
   "codemirror_mode": {
    "name": "ipython",
    "version": 3
   },
   "file_extension": ".py",
   "mimetype": "text/x-python",
   "name": "python",
   "nbconvert_exporter": "python",
   "pygments_lexer": "ipython3",
   "version": "3.9.16"
  },
  "latex_envs": {
   "LaTeX_envs_menu_present": true,
   "autoclose": false,
   "autocomplete": true,
   "bibliofile": "biblio.bib",
   "cite_by": "apalike",
   "current_citInitial": 1,
   "eqLabelWithNumbers": true,
   "eqNumInitial": 1,
   "hotkeys": {
    "equation": "Ctrl-E",
    "itemize": "Ctrl-I"
   },
   "labels_anchors": false,
   "latex_user_defs": false,
   "report_style_numbering": false,
   "user_envs_cfg": false
  },
  "livereveal": {
   "theme": "sky"
  },
  "nteract": {
   "version": "0.28.0"
  },
  "toc": {
   "base_numbering": 1,
   "nav_menu": {},
   "number_sections": true,
   "sideBar": true,
   "skip_h1_title": false,
   "title_cell": "Table of Contents",
   "title_sidebar": "Contents",
   "toc_cell": true,
   "toc_position": {},
   "toc_section_display": true,
   "toc_window_display": false
  }
 },
 "nbformat": 4,
 "nbformat_minor": 4
}
