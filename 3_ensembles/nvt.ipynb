{
 "cells": [
  {
   "cell_type": "markdown",
   "metadata": {},
   "source": [
    "# NVT"
   ]
  },
  {
   "attachments": {},
   "cell_type": "markdown",
   "metadata": {
    "slideshow": {
     "slide_type": "slide"
    }
   },
   "source": [
    ":::{admonition} What you need to know\n",
    "\n",
    "- In the NVT ensemble, the system is allowed to exchange energy with an environment that maintains $T=const$ instead of $E=const$ \n",
    "- Probability to be in any particular microstate is given by Boltzmann distribution $p_i \\sim e^{-\\epsilon_i/k_BT}$. This shows that the system pays an exponentially high penalty for borrowing energy from the environment to occupy excited states. As temperature increases the price more and more excited states are populated. \n",
    "- In thermodynamics, exchanging variable $E$ with $T$ is accomplished via Legendre transform $F = E-TS$, which makes free energy the central object for determining equilibrium states (minimizing F) and the amount of work that the system can perform in equilibrium $W=\\Delta F$ \n",
    "- In NVE, the partition function $\\Omega$ is a sum of microstates. In NVT, it the partition function $Z$ is a Boltzman-weighted sum over microstates. $Z$ and $\\Omega$ are related via Laplace transform showing that thermodynamics computed in either ensemble is the same!\n",
    "- While in NVE entropy was linked directly with partition function $S=k_B log \\Omega$, in NVT, it is free energy that is directly linked with partition function Z, $F=-k_BT logZ$\n",
    "\n",
    ":::"
   ]
  },
  {
   "cell_type": "markdown",
   "metadata": {},
   "source": [
    ":::{admonition}  **An intuitive derivation of Boltzmann distribution**\n",
    ":class: tip, dropdown\n",
    "\n",
    "**Probability for system to have energy E in terms of microstates**\n",
    "\n",
    "- Consider a system in contact with the thermal reservoir. The combined system is isolated which means we can write down NVE partition function as a sum over different ways of partitioning total energy between system and reservoir. \n",
    "\n",
    "$$\\Omega_{t}(E_t) = \\sum_E \\Omega(E) \\Omega_r(E-E) \\cdot$$\n",
    "\n",
    "The probability of being in any thermodynamic **macrostate**  described by energy $E$ will be given by the ratio of that term over the sum:\n",
    "\n",
    "$$p(E) = \\frac{\\Omega(E) \\Omega_r(E_t-E) }{\\sum_E \\Omega(E) \\Omega_r(E_t-E) }$$\n",
    "\n",
    "**Reservoir is much larger than the system**\n",
    "\n",
    "- We can take advantage of the fact that the reservoir is much larger than the system $E_t \\sim E_r \\ll E$ and entropy being a smoothly varying function of energy, we can make Taylor expansion around total energy:\n",
    "\n",
    "$$\\Omega_r(E_t-E) = exp \\Bigg[ \\frac{1}{k_B} S_r(E_t-E) \\Bigg]  \\approx exp \\Bigg[ \\frac{1}{k_B} S_r(E_t)-\\frac{1}{k_B} \\Big(\\frac{\\partial S_r}{\\partial E}\\Big) E \\Bigg]   = e^{S_r(E_t)}e^{-\\beta E}$$\n",
    "\n",
    "- The constant reservoir term  ends up canceling out from the ratio!\n",
    "\n",
    "$$p(E) = \\frac{ \\Omega(E)  e^{\\frac{1}{k_B}S(E_t)} e^{-\\beta E} }{\\sum_E \\Omega(E) e^{\\frac{1}{k_B}S(E_t)}  e^{-\\beta E}} = \\frac{ \\Omega(E)  e^{-\\beta E} }{\\sum_E \\Omega(E)  e^{-\\beta E}}$$\n",
    "\n",
    "- We can also write down the probability of a single specific microstate $E=E_i$ for which $\\Omega(E_i)=1$\n",
    "\n",
    "$$p_i = \\frac{ e^{-\\beta E_i} }{\\sum_i e^{-\\beta E_i}}$$\n",
    "\n",
    "**Connection with Thermodynamics**\n",
    "\n",
    "- Let us now connect the entropy of the whole system to entropy in thermodynamics. Recall that in thermodynamics, entropy is an extensive quantity, meaning that total entropy should be expressed as the sum of entropies of system+reservoir. This is possible only if the sum of the $\\Omega_t(E_t)$ expression is sharply dominated by a single term that is centered on some (average) value of energy $U$\n",
    "\n",
    "$$S = k_B log \\Omega_{t}(E_t) = k_B log \\sum_E \\Omega(E) \\Omega_r(E-E) \\approx k_B log \\Omega(U)+k_B log \\Omega_r(E_t-U) = S(U) + S_r(E_t-U)$$\n",
    "\n",
    "$$Z = \\sum_E \\Omega(E) e^{-\\beta E} \\approx \\Omega (U) e^{-\\beta U} = e^{-\\beta(U-TS)} = e^{-\\beta F}$$\n",
    "\n",
    "- We see that the reservoir's contribution to the distribution of energy in the system is only through temperature!\n",
    "\n",
    "- We could also carry our similar derivation by expanding reservoir entropy around the average energy of the system  $U = \\sum_i p_i E_i$ by making use of the central limit theorem, which predicts small fluctuations around averages $U - E_i = \\delta E_i \\sim O(N^{1/2})$\n",
    "  \n",
    ":::"
   ]
  },
  {
   "cell_type": "markdown",
   "metadata": {},
   "source": [
    ":::{admonition}  **MaxEnt derivation of Boltzmann distribution**\n",
    ":class: tip, dropdown\n",
    "\n",
    "- Maximizing entropy with a constraint on internal energy, we end up with exponential dependence on **microstate energies** $E_i$, known as Boltzmann distribution.\n",
    "\n",
    "$$ L = -k_B \\sum_{i} p_i \\log p_i - \\alpha \\left( \\sum_{i} p_i - 1 \\right) - \\beta \\left( \\sum_{i} p_i E_i-U \\right)$$\n",
    "\n",
    "$$\\frac{\\partial L}{\\partial p_j} = -k_B (\\log p_j + 1) - \\alpha - \\beta E_j = 0$$\n",
    "\n",
    "- The probability of a microstate can be expressed in terms of two Lagrange multipliers that are to be determined. First one is a constant prefactor that can be absorbed into the normalization factor \n",
    "\n",
    "$$p_j = e^{-\\frac{\\alpha}{k} - 1} e^{-\\frac{\\beta E_j}{k_B}} \\sim e^{-{\\beta E_j}}$$\n",
    "\n",
    "- Requiring $\\sum_p_j=1$ we eliminate lagrange mulitplier $\\alpha getting$ an exponential distribution known as Boltzmann distribution.\n",
    "\n",
    "**Boltzmann distribution**\n",
    "\n",
    "  $$ p_j = \\frac{e^{-\\frac{\\beta E_j}{k}}}{Z}$$\n",
    "\n",
    "- We can also write down the probability distribution of macrostate E, which has degeneracy $\\Omega(E)$ implying that lots of microstates correspond to this one macrostate, and according to probability theory, we must add up all the microstate probabilities:\n",
    "\n",
    "$$p(E) = \\frac{\\Omega (E) e^{-\\beta E}}{\\sum_E \\Omega (E) e^{-\\beta E}}$$\n",
    "\n",
    "**Determining $\\beta= \\frac{1}{k_B T}$**\n",
    "\n",
    "- Plugging Boltzmann distribution back into the formula of entropy, we get\n",
    "\n",
    "$$S = - k_B \\sum_i p_i log \\frac{e^{-\\beta E_i}}{Z} = k_B \\beta \\sum_i p_i E_i +  k_B \\sum_i p_i logZ = k_B \\beta U +k_B logZ$$\n",
    "\n",
    "- To establish a link with thermodynamics, we equate entropy change under constant temperature using stat mech sum over states and Gibbs relation from thermodynamics\n",
    "\n",
    "$$dS = k_B \\beta dU + k_B d logZ$$\n",
    "\n",
    "$$dS = \\frac{dU}{T} - \\frac{dF}{T}$$\n",
    "\n",
    "- The first term tells us that:\n",
    "  \n",
    "$$\\beta = \\frac{1}{k_B T}$$ \n",
    "\n",
    "- The second term tells us that:\n",
    "\n",
    "$$F = -k_B T logZ$$\n",
    ":::"
   ]
  },
  {
   "cell_type": "markdown",
   "metadata": {},
   "source": [
    "### $\\beta$ and kT (energy)\n",
    "\n",
    "- $kT$ (also written as $k_BT$) or its inverse $\\beta =(k_BT)^{-1}$ contain a product of the Boltzmann constant $k_B$ and the temperature, T.\n",
    "\n",
    "$$p_i \\sim e^{-E_i/k_BT} = e^{-\\beta E_i}$$\n",
    "  \n",
    "- This product is used as a scale factor for energy values in molecular-scale systems (sometimes it is used as a unit of energy), as the rates and frequencies of many processes and phenomena depend not on their energy alone but on the ratio of that energy and kT."
   ]
  },
  {
   "cell_type": "code",
   "execution_count": 38,
   "metadata": {},
   "outputs": [
    {
     "name": "stdout",
     "output_type": "stream",
     "text": [
      "kT in J: 4.141947e-21\n",
      "RT in kJ/mol: 2.494338785445972\n",
      "Multiples of thermal energy to break oxygen molecule: 198.44938582049795\n"
     ]
    }
   ],
   "source": [
    "from scipy.constants import k, N_A\n",
    "\n",
    "T = 300\n",
    "print('kT in J:', k*T) \n",
    "\n",
    "RT=N_A*k*300 *1e-3\n",
    "print('RT in kJ/mol:', RT) \n",
    "\n",
    "#Compare to the energy of breaking oxygen bond \n",
    "E_breakO = 495 # kj/mol\n",
    "\n",
    "print('Multiples of thermal energy to break oxygen molecule:', E_breakO/RT)"
   ]
  },
  {
   "cell_type": "code",
   "execution_count": 63,
   "metadata": {},
   "outputs": [
    {
     "data": {
      "image/png": "[encoded data removed]",
      "text/plain": [
       "<Figure size 640x480 with 2 Axes>"
      ]
     },
     "metadata": {},
     "output_type": "display_data"
    }
   ],
   "source": [
    "E = np.array([1, 2,2,2,2, 3,3,3, 4,4, 5,5, 6, 7, 8])\n",
    "T = 300\n",
    "\n",
    "RT=N_A*k*T *1e-3\n",
    "\n",
    "fig, (ax1,ax2) = plt.subplots(ncols=2)\n",
    "\n",
    "p_i = np.exp(-E/RT)/np.sum(np.exp(-E/RT))\n",
    "\n",
    "ax1.plot(E, p_i, '-o', label=f'RT={RT}' )\n",
    "ax1.set_xlabel('energies of microstates')\n",
    "ax1.set_ylabel(r'$p_i$')\n",
    "\n",
    "ax2.hist(microtate_Es, bins=8, edgecolor='black', alpha=0.8)\n",
    "ax2.set_ylabel(r'$\\Omega(E_i)$')\n",
    "ax2.set_xlabel('energies of microstates')\n",
    "\n",
    "fig.tight_layout()"
   ]
  },
  {
   "cell_type": "markdown",
   "metadata": {},
   "source": [
    "### Micro vs macro states\n",
    "\n",
    "**Microstates**\n",
    "\n",
    "- In NVT ensemble microstates follow Boltzmann distribution\n",
    "$$p_1 = \\frac{e^{-\\beta E_1}}{Z} = \\frac{e^{-\\beta E_1}}{e^{-\\beta F}}$$\n",
    "\n",
    "- The relative population of microstates is dictated by the ratio of Boltzmann weights which depends on energy difference $\\Delta E$\n",
    "\n",
    "$$\\boxed{\\frac{p_2}{p_1} = e^{\\beta (E_2-E_1)}}$$\n",
    "\n",
    "**Macrostates**\n",
    "\n",
    "- Probability of macrostates with energy $E_A$ is obtained by summing over all microstates with energy E_A or simply by multiplying by $\\Omega_A$. The latter is related to entropy, which ends up turning the numerator into the free energy of a macrostate $A$: $F_A = E_A-TS_A$ \n",
    "  \n",
    "$$p_A =\\frac{\\Omega (E_A) e^{-\\beta E_A}}{Z_A} = \\frac{e^{-\\beta F_A}}{e^{-\\beta F}}$$\n",
    "\n",
    "- The relative population of macrostates is dictated by the ratio of entropic term times Boltzmann weights which depends on free energy difference $\\Delta F$\n",
    "\n",
    "$$\\boxed{\\frac{p_B}{p_A} = e^{-\\beta (F_B-F_A)}}$$"
   ]
  },
  {
   "cell_type": "code",
   "execution_count": 39,
   "metadata": {},
   "outputs": [
    {
     "data": {
      "text/plain": [
       "(array([1., 4., 3., 2., 2., 1., 1., 1.]),\n",
       " array([1.   , 1.875, 2.75 , 3.625, 4.5  , 5.375, 6.25 , 7.125, 8.   ]),\n",
       " <BarContainer object of 8 artists>)"
      ]
     },
     "execution_count": 39,
     "metadata": {},
     "output_type": "execute_result"
    },
    {
     "data": {
      "image/png": "[encoded data removed]",
      "text/plain": [
       "<Figure size 640x480 with 1 Axes>"
      ]
     },
     "metadata": {},
     "output_type": "display_data"
    }
   ],
   "source": [
    "microtate_Es = np.array([1, 2,2,2,2, 3,3,3, 4,4, 5,5, 6, 7, 8]) \n",
    "\n",
    "\n",
    "# Compute probability to be in microstate 1 vs 2 at kBT = 1\n",
    "\n",
    "# Compute probability to be in state E=2 vs in state E=1 at different temperatures fromm kBT = 0.1 to 10"
   ]
  },
  {
   "cell_type": "markdown",
   "metadata": {},
   "source": [
    "#### Thermodynamic limit and partition functions\n",
    "\n",
    "**Partition functions**\n",
    "- Recall that we counted microstates with equal weights $\\Omega$ in NVE. In other words, states were equipartitioned.\n",
    "- In NVT, states are weighted by exponential factors. In other words, low-energy states contribute more than high-energy states. The situation is more severe at low temperatures where only ground states contribute to thermodynamics.\n",
    "\n",
    "$$\\Omega = \\sum_i w_i = \\sum_i 1$$\n",
    "\n",
    "$$Z(\\beta) = \\sum_i w_i = \\sum_i e^{-\\beta E_i}$$\n",
    "\n",
    "**Sum over microstates or macrostates**\n",
    "- Partition function Z can be written down as a sum of microstates or macrostates. Since Energies of macrosystems vary smoothly we can also replace the sum as integral over energies\n",
    "\n",
    "$$Z(\\beta, N, V) = \\sum_i e^{-\\beta E_i}= \\sum_E \\Omega (E) e^{-\\beta E} = \\int \\Omega(E) e^{-\\beta E}dE$$\n",
    "\n",
    "- $\\Omega(E)\\sim e^N$ rapidly increasing function with N because of limit theorems: e.g., the large deviation, central limit theorem, law of large numbers. \n",
    "\n",
    "- $e^{-\\beta E}\\sim e^{-N}$ rapidly decreasing function with N\n",
    "\n",
    "**Connection with Free energy**\n",
    "- In the thermodynamic limit of a large number of particles and volumes, only the region of energy survives that guarantees a non-negligible contribution to the partition function\n",
    "\n",
    "$${Z(\\beta) = \\int \\Omega(E) e^{-\\beta E}dE = \\int e^{-\\beta (E-T S(E))}dE }$$\n",
    "\n",
    "$${Z(\\beta) = \\int e^{-\\beta (E-TS)}dE \\approx e^{min_E [-\\beta(E-TS)]} = e^{-\\beta(U-TS)} = e^{-\\beta F}}$$\n",
    "\n",
    "- Where $U =\\langle E \\rangle$ is the thermodynamic average energy, fluctuations around which are on the order of $O(N^{1/2})$\n",
    "\n",
    "- It can be seen that $Z$, the partition function of NVT is **Laplace Transform** of the density of states of NVE.\n",
    "- The connection between energy and free energy $F= E -TS$ is via **Legendre Transform** "
   ]
  },
  {
   "cell_type": "code",
   "execution_count": null,
   "metadata": {},
   "outputs": [],
   "source": [
    "import numpy as np\n",
    "import matplotlib.pyplot as plt\n",
    "\n",
    "N=10\n",
    "kbT = 1\n",
    "\n",
    "E = np.linspace(1, 10*N, 100)\n",
    "omega  = E**(N)\n",
    "boltzf = np.exp(-E/kbT)\n",
    "\n",
    "fig,ax = plt.subplots(nrows=3,sharex=True, figsize=(2, 4))\n",
    "ax[0].plot(E, omega)\n",
    "ax[0].set_ylabel('$\\Omega(E)$')\n",
    "ax[1].plot(E, boltzf)\n",
    "ax[1].set_ylabel('$exp(-E/k_B T)$')\n",
    "ax[2].plot(E, omega*boltzf)\n",
    "ax[2].set_ylabel('$\\Omega(E) exp(-E/k_B T)$')\n",
    "ax[2].set_xlabel('$E$')"
   ]
  },
  {
   "cell_type": "markdown",
   "metadata": {},
   "source": [
    "### Computing Z via classical mechanics\n",
    "\n",
    "**Integrals over phase space**\n",
    "\n",
    "- In quantum mechanics counting microsites is easy, we have discrete energies and  could simply sum over microstates to compute partition functions $Z=\\sum_i e^{-\\beta E_i}$\n",
    "- Counting microstates in classical mechanics is done by discretizing phase space $\\Gamma = (x^{3N}, p^{3N})$ into small cubes of units $dx^Ndp^N\\sim h^N$. In other words, we replace summation over quantum states with integral over phase space $\\sum_i \\rightarrow \\int \\frac{dpdx}{h}$\n",
    "\n",
    "- Recall that we need to correct classical mechanics for \"double counting\" microstates if we have N indistinguishable \"particles\" with a factor of $N!$  \n",
    "\n",
    "$$\\Omega(E) = \\frac{1}{N! h^{3N}} \\int_{\\Gamma}  \\delta \\big( H(\\Gamma)-E) d \\Gamma$$\n",
    "\n",
    "$$Z(\\beta) = \\int_{E} \\Omega(E) e^{-\\beta E} dE  = \\frac{1}{N! h^{3N}} \\int_{\\Gamma} \\Bigg[\\int_{E} d \\Gamma \\delta \\big( H(\\Gamma)-E) e^{-\\beta E}dE \\Bigg] d\\Gamma$$\n",
    "\n",
    "- We thus obtain an expression of partition function expressed as integral over phase-space. This expression will be useful for computing partition functions of atomic and molecular gasses with simple Hamiltonian functions.\n",
    "-  \n",
    "$$\\boxed{Z(\\beta) = \\frac{1}{N! h^{3N}} \\int_{\\Gamma} e^{-\\beta H(\\Gamma)} d\\Gamma}$$"
   ]
  },
  {
   "cell_type": "markdown",
   "metadata": {
    "slideshow": {
     "slide_type": "slide"
    }
   },
   "source": [
    "### Computing mean and fluctuations of Energy \n",
    "\n",
    "$$\\langle E \\rangle = \\frac{\\partial log Z}{\\partial (-\\beta)}$$\n",
    "\n",
    "$$\\sigma^2_E = \\frac{\\partial^2 log Z}{\\partial \\beta^2} = -\\frac{\\partial \\langle E \\rangle}{\\partial \\beta} = k_BT^2 C_v$$\n",
    "\n",
    "$$\\frac{\\sigma_E}{\\langle E\\rangle} = \\frac{(k_BT^2 C_v)^{1/2}}{\\langle E\\rangle}\\sim O(N^{-1/2})$$"
   ]
  },
  {
   "cell_type": "markdown",
   "metadata": {},
   "source": [
    "## The power and utility of NVT: The non-interacting system\n",
    "\n",
    "**distinguishable states**:\n",
    "\n",
    "$$Z = z^N$$\n",
    "\n",
    "**indistinguishable states**:\n",
    "\n",
    "$$ Z = \\frac{1}{N!}z^N $$\n",
    "\n",
    "**Strategy for using NVT**\n",
    "\n",
    "1. Compute the partition function of a single particle $z= e^{-\\beta \\epsilon_1}+  e^{-\\beta \\epsilon_2}+ ...$\n",
    "\n",
    "2. raise to the power of N and apply factorial in case of indistinguishable particles, $Z= \\Big (e^{-\\beta \\epsilon_1}+  e^{-\\beta \\epsilon_2}+ ... \\Big)^N$ \n",
    "\n",
    "3. Compute the free energy $F= - N k_B T log z$\n",
    "\n",
    "4. Take derivatives of Z and/or free energy to get the thermodynamics. "
   ]
  },
  {
   "cell_type": "markdown",
   "metadata": {
    "slideshow": {
     "slide_type": "slide"
    }
   },
   "source": [
    "##  Ensemble equivalence\n",
    "\n",
    "### Example-1: A two state model"
   ]
  },
  {
   "cell_type": "markdown",
   "metadata": {
    "slideshow": {
     "slide_type": "fragment"
    }
   },
   "source": [
    "Let us consider simple two level system where lower level $\\epsilon_0 = 0$ and upper level $\\epsilon_1 =\\epsilon$. We will now use $NVE$ ensemble to obtian thermodynamic quantities $(S, T, C_v)$ and then obtain same quantities with $NVT$.\n",
    "\n",
    "$$E = n\\epsilon$$\n",
    "\n",
    "$$\\Omega(E) = \\frac{N!}{(N-n)! n!}$$\n",
    "\n",
    "$$S = k_B log \\Omega(E) = N k_B \\Big [- \\frac{n}{N}log \\frac{n}{N} - \\frac{N-n}{N}log \\frac{N-n}{N} \\Big]$$\n",
    "\n",
    "$$\\frac{1}{T} = \\frac{\\partial S(E)}{\\partial E} =  \\frac{k_B}{\\epsilon}\\frac{\\partial log\\Omega(n)}{\\partial  n} = \\frac{k_B}{\\epsilon}log \\frac{N-n}{N}$$\n",
    "\n",
    "$$\\frac{n}{N} = \\frac{1}{1+e^{\\beta \\epsilon}}$$\n",
    "\n",
    "$$E = n\\epsilon = \\frac{N\\epsilon}{1+e^{\\beta \\epsilon}}$$"
   ]
  },
  {
   "cell_type": "markdown",
   "metadata": {
    "slideshow": {
     "slide_type": "slide"
    }
   },
   "source": [
    "### Parition function decouples non-interacting terms in energy!\n",
    "\n",
    "<br>\n",
    "\n",
    "$$Z = \\sum^{n=N}_{n=0} e^{-\\beta E_n} =  \\Big (\\sum^{i=1}_{i=0} e^{-\\beta \\epsilon_i} \\Big)\\Big (\\sum^{i=1}_{i=0} e^{-\\beta \\epsilon_i} \\Big)...\\Big (\\sum^{i=1}_{i=0} e^{-\\beta \\epsilon_i} \\Big) = (1+e^{-\\beta \\epsilon})^N$$\n",
    "\n",
    "<br>\n",
    "\n",
    "$$F= -k_B T log Z = -k_BT N log(1+e^{-\\beta \\epsilon})$$\n",
    "\n",
    "<br>\n",
    "\n",
    "$$\\langle E \\rangle  = \\frac{\\partial log Z}{\\partial (-\\beta)} =  \\frac{N\\epsilon}{1+e^{\\beta \\epsilon}}$$"
   ]
  },
  {
   "cell_type": "code",
   "execution_count": 7,
   "metadata": {},
   "outputs": [
    {
     "data": {
      "application/vnd.jupyter.widget-view+json": {
       "model_id": "447748be1ca247acb8f7d664e02ecebf",
       "version_major": 2,
       "version_minor": 0
      },
      "text/plain": [
       "interactive(children=(FloatSlider(value=1.0, description='eps', max=10.0, min=0.5, step=0.5), Output()), _dom_…"
      ]
     },
     "metadata": {},
     "output_type": "display_data"
    }
   ],
   "source": [
    "from ipywidgets import interact\n",
    "\n",
    "@interact(eps=(0.5,10, 0.5))\n",
    "def E_two_sys(eps=1):\n",
    "    \n",
    "    N       = 1\n",
    "    kbT     =  np.linspace(0,5,1000)/eps\n",
    "    E_eps   = N/(1+np.exp(1/kbT))\n",
    "    \n",
    "    plt.plot(kbT, E_eps, lw=3)\n",
    "    plt.xlabel('$k_B T/\\epsilon$')\n",
    "    plt.ylabel('$E/\\epsilon$')\n",
    "    plt.show()"
   ]
  },
  {
   "cell_type": "markdown",
   "metadata": {
    "slideshow": {
     "slide_type": "slide"
    }
   },
   "source": [
    "### Example-2: Ideal gas (classical)"
   ]
  },
  {
   "cell_type": "markdown",
   "metadata": {
    "slideshow": {
     "slide_type": "slide"
    }
   },
   "source": [
    "$$H(p^N, x^N) = K(p^N)  = \\sum^{i=N}_{i=1}\\frac{p^2_i}{2m}$$\n",
    "\n",
    "$$\\boxed{Z(\\beta) = \\frac{1}{h^{N} N!} \\int dp^N dx^N e^{-\\beta H(p^N,x^N)}}$$"
   ]
  },
  {
   "cell_type": "markdown",
   "metadata": {
    "slideshow": {
     "slide_type": "slide"
    }
   },
   "source": [
    "- Let us evaluate the partion function for a single particle in 3D:\n",
    "\n",
    "$$Z(\\beta) =  \\Bigg [\\frac{1}{h} \\int_{L} dx \\int^{+\\infty}_{-\\infty} dp e^{-\\beta \\frac{p^2}{2m}}  \\Bigg ]^3 = V \\Big [ \\frac{2\\pi m}{h \\beta} \\Big]^{3/2} = V n_Q$$\n",
    "\n",
    "We wrote down the partion sum in terms of volume of container and a quantum density $n_Q$ or De-Broglie thermal wavelength $\\lambda_T$\n",
    "\n",
    "> $$n_Q = \\Big [ \\frac{m k_B T}{2 \\hbar^2} \\Big]^{3/2} = \\frac{1}{\\lambda^3_T}$$\n",
    "> $$\\lambda_T = \\frac{h}{2mk_BT} \\sim \\frac{h}{m \\bar{v}}$$\n",
    "\n",
    "- For the N particles we have:\n",
    "\n",
    "$$Z = \\frac{Z^N}{N!}  = \\frac{(V n_Q)^N}{N!}$$\n",
    "\n",
    "- Using the curdest version of Striling's approximation $N!\\approx N^N e^{-N}$ and denoting $n = N/V$ as the density we get\n",
    "\n",
    "$$Z = \\Big[ \\frac{n_Q}{n}\\Big]^N e^N$$\n",
    "\n",
    "$$F = -k_B T log Z = -N k_B T  log \\Big( \\frac{n_Q}{n} \\Big) - Nk_BT$$\n",
    "\n",
    "We can also calculate entropy and compare the expression with the one obtained from the microcanonical ensemble:\n",
    "\n",
    "$$S = -\\Big( \\frac{\\partial F}{\\partial T}\\Big)_{N,V} = Nk_B log \\Big( \\frac{n_Q}{n} \\Big) + Nk_B + \\frac{3}{2}Nk_B$$\n",
    "\n",
    "And unsurprisingly, we get the same expression for entropy in the canonical ensmeble known as **Sackur-Tetrode equation**\n",
    "$$S = Nk_B \\Bigg[log \\Big( \\frac{n_Q}{n} \\Big)+ \\frac{5}{2} \\Bigg]$$"
   ]
  },
  {
   "cell_type": "markdown",
   "metadata": {
    "slideshow": {
     "slide_type": "slide"
    }
   },
   "source": [
    "Similarly, other thermodynamic variables can be inferred by taking derivatives of free energy:\n",
    "\n",
    "$$U = \\frac{\\partial log Z}{\\partial (-\\beta)} = \\frac{3}{2}N k_B T$$\n",
    "\n",
    "- Ideal gas equation of state is obtained by calculating pressure\n",
    "$$p = -\\frac{\\partial F}{\\partial V} =\\frac{N k_B T}{V}$$"
   ]
  },
  {
   "cell_type": "markdown",
   "metadata": {
    "slideshow": {
     "slide_type": "slide"
    }
   },
   "source": [
    "### Example-3 Ideal paramagnet of spin 1/2"
   ]
  },
  {
   "cell_type": "markdown",
   "metadata": {
    "slideshow": {
     "slide_type": "slide"
    }
   },
   "source": [
    "$$E  = -\\mu B \\sum^{N}_j s_j $$\n",
    "\n",
    "- $s_j = \\pm 1$ spin variable can assume two values that we refer to as up and down. \n",
    "\n",
    "$$Z = \\sum_{E} exp(-\\beta E) = \\sum_{s_1, s_2, ... s_N} exp \\Big( \\beta \\mu B \\sum^{N}_j s_j \\Big) = \\Big [ \\sum_{s_1} exp \\Big( \\beta \\mu B  s_1 \\Big) \\Big ]... \\Big [ \\sum_{s_N} exp \\Big( \\beta \\mu B s_N \\Big) \\Big ]$$\n",
    "\n",
    "Now it is easy to see that partition function factorizes\n",
    "\n",
    "$$Z =Z_1^N$$\n",
    "\n",
    "$$Z_1 = \\sum_{s_1} exp(\\beta \\mu B s_1) = exp(\\beta \\mu B) + exp(-\\beta \\mu B)  = 2 cosh(\\beta \\mu B)$$\n",
    "\n",
    "**Free energy** \n",
    "\n",
    "$$ F(T, B) = - \\beta^{-1} log Z = - N \\beta^{-1} log \\Big [ 2 cosh (\\beta \\mu B )  \\Big ]$$\n",
    "\n",
    "The entropy is obtained by taking the derivative with respect to temperature\n",
    "\n",
    "$$S = - \\Big(\\frac{\\partial F}{\\partial T} \\Big)_B = k_B log \\Big [ 2 cosh (\\beta \\mu H )  \\Big ] - k_B (\\beta \\mu B)\\cdot tanh (\\beta \\mu B)$$\n",
    "\n",
    "**Magnetization**\n",
    "\n",
    "Magnetization $M$ (extensive quantity) or magnetization per particle $m=M/N$ (intensive quantity) is given as another free energy derivative:\n",
    "\n",
    "$$M = - \\Big(\\frac{\\partial F}{\\partial B} \\Big)_T = \\mu tanh \\Big(\\beta \\mu B \\Big)$$\n",
    "\n",
    "**Magnetizatic susceptibility**\n",
    "\n",
    "In the context of paramagnet, we have another response function in the form of magnetic susceptibility.\n",
    "\n",
    "$$\\chi(T, B) =  \\Big(\\frac{\\partial m}{\\partial B} \\Big)_T = \\mu^2 \\beta B cosh^{-2} (\\beta \\mu B)$$\n",
    "\n",
    "which leads to a well-known **Curie Law**\n",
    "\n",
    "$$\\chi(T, B=0) = \\frac{\\mu^2 }{k_B T}$$\n",
    "\n",
    "Finally, as a consistency check we can combine entropy and free energy expressions to obtain internal energy:\n",
    "\n",
    "$$U = F+TS = -\\mu B tanh(\\beta \\mu B)$$"
   ]
  },
  {
   "cell_type": "code",
   "execution_count": 15,
   "metadata": {},
   "outputs": [
    {
     "data": {
      "text/plain": [
       "Text(0.5, 0, 'B')"
      ]
     },
     "execution_count": 15,
     "metadata": {},
     "output_type": "execute_result"
    },
    {
     "data": {
      "image/png": "[encoded data removed]",
      "text/plain": [
       "<Figure size 432x288 with 1 Axes>"
      ]
     },
     "metadata": {
      "needs_background": "light"
     },
     "output_type": "display_data"
    }
   ],
   "source": [
    "import numpy as np\n",
    "import matplotlib.pyplot as plt\n",
    "\n",
    "x=np.linspace(-2, 2, 100)\n",
    "\n",
    "for beta in [0.1, 0.5, 1, 2]:\n",
    "    plt.plot(x, np.tanh(beta*x))\n",
    "    \n",
    "plt.ylabel('$m/\\mu$')    \n",
    "plt.xlabel('B')"
   ]
  },
  {
   "cell_type": "markdown",
   "metadata": {},
   "source": [
    "## Non-interacting molecules\n",
    "\n",
    "### Translational degrees of freedom: particle in a box\n",
    "\n",
    "$$E_{n_x, n_y, n_z} = \\frac{\\hbar^2 \\pi^2}{2m L^2} \\big(n^2_x+n^2_y+n^2_z \\big)$$\n",
    "\n",
    "$$ Z \\approx \\Bigg [\\int^{\\infty}_0 dn e^{-\\frac{\\hbar^2 \\pi^2}{2m k_B TL^2}n^2} \\Bigg]^{3} = V \\Bigg[\\frac{m k_B T}{2\\pi \\hbar^2} \\Bigg]^{3/2} = V n_Q$$\n",
    "\n",
    "### Rotatational degrees of freedom: Rigid rotor model \n",
    "\n",
    "$$E = \\frac{\\hbar^2}{2I} J (J+1) $$\n",
    "\n",
    "$$Z \\approx \\int^{J=\\infty}_{J=0} (2J+1)e^{-\\Big[\\beta \\frac{\\hbar^2}{2I} J (J+1)\\Big]}\\approx \\frac{T}{\\theta_{rot}}$$\n",
    "\n",
    "- Where $\\theta_{rot} = \\frac{\\hbar^2}{2 I_0 k_B}$ is called rotational temperature. \n",
    "\n",
    "### Vibrational degrees of freedom: Harmonic oscillator model\n",
    "\n",
    "$$E_n = \\hbar \\omega (n+1/2)$$\n",
    "\n",
    "$$z = \\sum^{n=+\\infty}_{n=0} = e^{-\\frac{1}{2}\\beta \\hbar \\omega} (1 + e^{-\\beta\\hbar\\omega}+e^{-2\\beta\\hbar\\omega}+...) = \\frac{e^{-\\frac{1}{2}\\beta \\hbar \\omega}}{1-e^{-\\beta\\hbar\\omega}}$$\n",
    "\n",
    "$$Z = z^N$$\n",
    "\n",
    "$$E = \\frac{\\partial log Z}{\\partial (-\\beta)} = N\\hbar \\omega \\Big(\\frac{1}{2}+ \\frac{1}{1+e^{\\beta\\hbar\\omega}} \\Big) $$\n",
    "\n",
    "- When $T \\rightarrow 0$ we are left with zero point energies $E \\rightarrow \\frac{N \\hbar \\omega}{2}$\n",
    "\n",
    "- When $T \\rightarrow \\infty$ we get equipartion of energy! $E \\rightarrow \\frac{3}{2} N k_B T$\n",
    "\n",
    "### Partition function for a molecular gas\n",
    "\n",
    "<br>\n",
    "\n",
    "$$E = E_{transl}+E_{vib}+E_{rot}+E_{elec} $$\n",
    "\n",
    "<br>\n",
    "\n",
    "$$Z = Z_{transl} Z_{vib} Z_{rot} Z_{elec} $$\n",
    "\n",
    "> $\\frac{1}{N!}$ must go inside $Z_{tranls}$ to account for indistinguishability"
   ]
  },
  {
   "cell_type": "markdown",
   "metadata": {},
   "source": [
    "### Equipartion theorem\n",
    "\n",
    "$$U(x) = U(x_0) +U^{'}(x-x_0) +\\frac{1}{2}U^{''}(x-x_0)^2 +...$$\n",
    "\n",
    "$$U_{harm}(x) = U(x_0) +  \\frac{1}{2}U^{''}(x-x_0)^2 = U_0 + \\frac{1}{2}\\kappa (x-x_0)^2$$\n",
    "\n",
    "$$\\langle U \\rangle = \\int p(x) U(x) dx = \\frac{\\int U(x) e^{-\\beta U(x)}dx}{\\int e^{-\\beta U(x)}dx}$$\n",
    "\n",
    "$$U(x) = U_0 + \\frac{k_B T}{2}$$\n",
    "\n",
    "> Notice the spring constant does not figure in the average energy expression! "
   ]
  },
  {
   "cell_type": "markdown",
   "metadata": {},
   "source": [
    "## Problems"
   ]
  },
  {
   "cell_type": "markdown",
   "metadata": {},
   "source": [
    "### Problem-1 Elementary derivation of Boltzmann's distirbution\n",
    "\n",
    "Let us do an elementary derivation of Boltzman distribution showing that when a macroscopic system is in equilibrium and coupled to a heat bath at temperatere $T$ we have a universal dependence of probability for finding system at different energies: \n",
    "\n",
    "$$\\boxed{P(r')/P(r)=e^{-\\beta (U(r)-U(r'))}}$$\n",
    "\n",
    "The essence of the derivation is this. Consider a vertical column of gas somehre in the mountains.\n",
    "- On one hand we have graviational force which acts on a column between $h, h+dh$ with cross section $A$. \n",
    "- On the other hand we have pressure balance which thankfully keeps the molecules from dropping on the ground. \n",
    "- This means that we have a steady density of molecules at each distance $n(h)$ for a fixed $T$. Write down this balance of forces (gravitational vs pressure ) and find show how density at $h$, $n(h)$ is related to density at $h=0$, $n(0)$. \n",
    "\n",
    "> Tip: you may use $P=nkT$ for pressure and $mgh$ for the gravitational force) "
   ]
  },
  {
   "cell_type": "markdown",
   "metadata": {},
   "source": [
    "### Problem-2 Three level system\n",
    "\n"
   ]
  },
  {
   "cell_type": "markdown",
   "metadata": {},
   "source": [
    "Consider a system of N classical and non-interacting particles in contact with a thermal reservoir at a temperature $T$. Each particle can have be in three states with energy $0$, $\\epsilon$ or $3\\epsilon$ where $\\epsilon>0$. \n",
    "\n",
    "- Obtain an expression for $Z$ then compute the average and fluctuation of energy.\n",
    "\n",
    "- Plot the heat capacity as a function of temperature $C_v(T)$\n",
    "\n",
    "- Plot the average enegy as a function of temperature $U(T)$\n",
    "\n",
    "- Plot the entropy as a function of temperature $S(T)$. \n",
    "\n"
   ]
  },
  {
   "cell_type": "markdown",
   "metadata": {},
   "source": [
    "### Problem-3 Spins on a lattice\n",
    "\n",
    "Consider $N$ lattice sites which have quantum spins $s=1$ (not to be confused with entropy) with a mangnetic moment $\\mu$. Spins are subject to a uniform mangeitc field in z direction $B=B_z$ making the energy of each spin $-\\mu B m $ where $m$ is the magnetic quantum number thattakes on three possible values $m=0, \\pm 1$. \n",
    "\n",
    "- Compute the entropy $S$ and the mangeitzation of the system $M$\n",
    "\n",
    "- Plot entropy as a function of temperatures and study the limit of low temperatures $S(T\\rightarrow 0)$\n",
    "\n"
   ]
  },
  {
   "cell_type": "markdown",
   "metadata": {},
   "source": [
    "### Problem-4 2D diploes on a lattice\n",
    "\n",
    "Consider a 2D square lattice with $M$ lattice points. On each point we have a mangeetic moment that can point in four possible directions: $+x, -x, +y, -y$. Along $y$ axis, the dipole has the energy $\\epsilon>0$ and along the x axis $\\epsilon=0$.\n",
    "\n",
    "Dipoles are not interacting with each other and we also ingnore kinetic energy of diplos since they are fixed at lattice positions. \n",
    "\n",
    "- Write down parition function for this system $Z$\n",
    "\n",
    "- Compute the average energy.\n",
    "\n",
    "- Compute entropy per dipole $s(T)$. Evaluate the difference $S(T=\\infty)-S(T=0)$? Can you see a link with number of arrangements of dipols?\n",
    "\n",
    "- Compute microcanonical partition function $\\Omega (N\\epsilon)$\n",
    "\n",
    "- Show that we get the same entropy expression by using $NVE$ and $NVT$ ensembles."
   ]
  },
  {
   "cell_type": "markdown",
   "metadata": {},
   "source": [
    "### Problem-5 A typical spin problem \n",
    "\n",
    "Due to a ligand field, the degeneracy of d-orbital of chromium ion $Cr^{3+}$ is partially lifted. The spin part of the hamiltonian that lifts this degeneracy has the following form.\n",
    "\n",
    "$$H =  D \\big(S_z^2 -S(S+1)/2 \\big)$$\n",
    "\n",
    "Where $D>0$ is some constant and $S=3/2$ (the cation has an electronic term ${F}^ 4_{3/2}$\n",
    "\n",
    "- Conceptual question: Why can we apply statisical mechanics to a \"single\" ion?\n",
    "\n",
    "- Obtain the occupation probability of each discrete energy level $P(E)$.\n",
    "\n",
    "- Calculate the entropy and the specific heat then show that heat capacity behaves as $T^{-2}$ at high temperatures.\n",
    "\n",
    "- Supose heat capacity is $C=k_b \\Big(\\frac{T}{T_0} \\Big)^2$ with $T_0=0.18 K$ at higher temperatures. Determine the energy spacing. "
   ]
  }
 ],
 "metadata": {
  "kernelspec": {
   "display_name": "Python 3 (ipykernel)",
   "language": "python",
   "name": "python3"
  },
  "language_info": {
   "codemirror_mode": {
    "name": "ipython",
    "version": 3
   },
   "file_extension": ".py",
   "mimetype": "text/x-python",
   "name": "python",
   "nbconvert_exporter": "python",
   "pygments_lexer": "ipython3",
   "version": "3.9.16"
  },
  "latex_envs": {
   "LaTeX_envs_menu_present": true,
   "autoclose": false,
   "autocomplete": true,
   "bibliofile": "biblio.bib",
   "cite_by": "apalike",
   "current_citInitial": 1,
   "eqLabelWithNumbers": true,
   "eqNumInitial": 1,
   "hotkeys": {
    "equation": "Ctrl-E",
    "itemize": "Ctrl-I"
   },
   "labels_anchors": false,
   "latex_user_defs": false,
   "report_style_numbering": false,
   "user_envs_cfg": false
  },
  "livereveal": {
   "theme": "sky"
  },
  "nteract": {
   "version": "0.28.0"
  },
  "toc": {
   "base_numbering": 1,
   "nav_menu": {},
   "number_sections": true,
   "sideBar": true,
   "skip_h1_title": false,
   "title_cell": "Table of Contents",
   "title_sidebar": "Contents",
   "toc_cell": true,
   "toc_position": {},
   "toc_section_display": true,
   "toc_window_display": false
  }
 },
 "nbformat": 4,
 "nbformat_minor": 4
}
