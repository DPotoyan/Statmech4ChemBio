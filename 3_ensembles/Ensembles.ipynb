{
 "cells": [
  {
   "cell_type": "markdown",
   "id": "dee2dadb-e798-4d1e-910b-444d4fe81581",
   "metadata": {},
   "source": [
    "# Intro to statistical ensembles"
   ]
  },
  {
   "cell_type": "markdown",
   "id": "7bb5e469-c146-4b3f-b793-0b79859af526",
   "metadata": {},
   "source": [
    "![](./figs/ensembl.png)"
   ]
  },
  {
   "cell_type": "markdown",
   "id": "72869993-9126-4b92-b430-351f2999d178",
   "metadata": {},
   "source": [
    "1. **Entropy as a function of microstate probabilities**:\n",
    "   \n",
    "   $$S = -k \\sum_{i} p_i \\log p_i$$\n",
    "\n",
    "3. **Constraint imposed on thermodynamic coordinates to maintain constant values**:\n",
    "   \n",
    "   - Normalization of probabilities(all ensembles):\n",
    "     \n",
    "     $$\\sum_{i} p_i = 1$$\n",
    "     \n",
    "   - Expected energy (for certain ensembles):\n",
    "     \n",
    "     $$\\sum_{i} p_i E_i = \\langle E \\rangle$$\n",
    "\n",
    "   - Expected number of particles (for certain ensembles):\n",
    "     \n",
    "     $$\\sum_{N} p_N N = \\langle N \\rangle$$\n",
    "     \n",
    "   - Expected volume (for certain ensembles):\n",
    "     \n",
    "     $$\\sum_{i} p_V V = \\langle V \\rangle$$\n",
    "\n",
    "5. **Lagrange Multipliers**:\n",
    "\n",
    "Construct the Lagrangian with Lagrange multipliers} $\\alpha$, $\\beta$, ...\n",
    "   \n",
    "   $$L = -k \\sum_{i} p_i \\log p_i - \\alpha \\left( \\sum_{i} p_i - 1 \\right) - \\beta \\left( \\sum_{i} p_i E_i + \\langle E \\rangle \\right) - ...$$"
   ]
  },
  {
   "cell_type": "markdown",
   "id": "ef5e81c1-e277-4194-97e6-d851cbbeec64",
   "metadata": {},
   "source": [
    "### Derive probability distribution for NVE\n",
    "\n",
    "**Seek maximum of entropy**\n",
    "    \n",
    "   $$\\frac{\\partial L}{\\partial p_j} = -k_B (\\log p_j + 1) - \\alpha  = 0$$\n",
    "\n",
    "   $$p_j = e^{-\\frac{\\alpha}{k_B } - 1}$$\n",
    "\n",
    "**Determine Lagrange multipliers**\n",
    "\n",
    "   - Normalize $p_j$ to find $\\alpha$:\n",
    "     \n",
    "     $$\\sum_j p_j = \\sum_j e^{-\\frac{\\alpha}{k_B} - 1} =\\Omega$$\n",
    "     \n",
    "   - probabilities are independent of microstate and the sum can be set to be equal to a constant denoted as $\\Omega$\n",
    "\n",
    "**Probability Expression:**\n",
    "\n",
    "  $$ p_j = \\frac{1}{\\Omega}$$"
   ]
  }
 ],
 "metadata": {
  "kernelspec": {
   "display_name": "Python [conda env:llpsmd3] *",
   "language": "python",
   "name": "conda-env-llpsmd3-py"
  },
  "language_info": {
   "codemirror_mode": {
    "name": "ipython",
    "version": 3
   },
   "file_extension": ".py",
   "mimetype": "text/x-python",
   "name": "python",
   "nbconvert_exporter": "python",
   "pygments_lexer": "ipython3",
   "version": "3.9.16"
  }
 },
 "nbformat": 4,
 "nbformat_minor": 5
}
