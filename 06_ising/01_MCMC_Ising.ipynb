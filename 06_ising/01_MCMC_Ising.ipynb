{
 "cells": [
  {
   "cell_type": "markdown",
   "metadata": {
    "id": "HrNpG_LzFbuj"
   },
   "source": [
    "# Ising models and Metropolis-Hastings algorithm"
   ]
  },
  {
   "cell_type": "code",
   "execution_count": 1,
   "metadata": {
    "executionInfo": {
     "elapsed": 335,
     "status": "ok",
     "timestamp": 1618583375336,
     "user": {
      "displayName": "Davit Potoyan",
      "photoUrl": "https://lh3.googleusercontent.com/a-/AOh14GiUdLXplMG8UEHwBVcNr7CDgo7SDIZxxozSCzi7xQ=s64",
      "userId": "16339487288737364945"
     },
     "user_tz": 300
    },
    "id": "Piq9Cs-vFbun"
   },
   "outputs": [],
   "source": [
    "import matplotlib.pyplot as plt\n",
    "import ipywidgets as widgets\n",
    "import numpy as np\n",
    "import scipy as sp\n",
    "\n",
    "from numpy.random import rand, random, randint, choice, normal, uniform "
   ]
  },
  {
   "cell_type": "markdown",
   "metadata": {
    "id": "RqlUZBdfFbuo"
   },
   "source": [
    "### Estimate $\\pi$ via MCMC"
   ]
  },
  {
   "cell_type": "code",
   "execution_count": null,
   "metadata": {
    "id": "0-Szo61yFbuo"
   },
   "outputs": [],
   "source": [
    "def mcmc_pi(N=1e5, delta=1.0):\n",
    "    '''Using MCMC algorithm to estimate the value of pi'''\n",
    "    \n",
    "    pts = [] # array for points in square\n",
    "    \n",
    "    r_old = uniform(-1, 1, size=2) # 2 points within [0, 1] for x and y\n",
    "\n",
    "    for i in range(N):\n",
    "        \n",
    "        dr = uniform(-delta, delta, size=2)\n",
    "        \n",
    "        r_new = r_old + dr\n",
    "        \n",
    "        if np.max(r_new) <= 1.0 and np.min(r_new) >= -1.0:\n",
    "            \n",
    "            pts.append(r_new)\n",
    "            \n",
    "            r_old = r_new\n",
    "    \n",
    "    pts  = np.array(pts)\n",
    "    hits = pts[np.sqrt(pts[:,0]**2+pts[:,1]**2) < 1]\n",
    "    \n",
    "    return 4 * len(hits) / len(pts)"
   ]
  },
  {
   "cell_type": "code",
   "execution_count": null,
   "metadata": {
    "id": "8GHAmwJ4Fbup",
    "outputId": "cac75160-16c8-41c0-cc80-1b68961aadb1"
   },
   "outputs": [
    {
     "name": "stdout",
     "output_type": "stream",
     "text": [
      "Estimated Pi value is:  3.4325957886854352\n"
     ]
    }
   ],
   "source": [
    "pi_value =  mcmc_pi(N=100000, delta=1.0)\n",
    "\n",
    "print(\"Estimated Pi value is: \", pi_value)"
   ]
  },
  {
   "cell_type": "code",
   "execution_count": null,
   "metadata": {
    "id": "UAXKx-BxFbup",
    "outputId": "2cb28e14-8cf3-42cd-8ee9-bdfd0a22c2ed"
   },
   "outputs": [
    {
     "data": {
      "text/plain": [
       "Text(0.5, 1.0, 'Mean: 3.4256, Var: 0.1912')"
      ]
     },
     "execution_count": 24,
     "metadata": {
      "tags": []
     },
     "output_type": "execute_result"
    },
    {
     "data": {
      "image/png": "[encoded data removed]",
      "text/plain": [
       "<Figure size 432x288 with 1 Axes>"
      ]
     },
     "metadata": {
      "needs_background": "light",
      "tags": []
     },
     "output_type": "display_data"
    }
   ],
   "source": [
    "n_runs = np.arange(1,1001)\n",
    "N = 100\n",
    "\n",
    "#Estimate pi via a number of mcmc simulations\n",
    "pi_vals      =  np.array([mcmc_pi(N) for i in n_runs] )\n",
    " \n",
    "# Calculaate how mean improves with number of runs\n",
    "sample_mean = np.cumsum(pi_vals )/n_runs\n",
    "\n",
    "plt.plot(n_runs, sample_mean, '-s')\n",
    "\n",
    "plt.xlabel('$N$',fontsize=20)\n",
    "plt.ylabel('$S_N/N$', fontsize=20)\n",
    "\n",
    "plt.title( f\"Mean: {np.mean(pi_vals ):.4f}, Var: {np.std(pi_vals ):.4f}\" )"
   ]
  },
  {
   "cell_type": "markdown",
   "metadata": {
    "id": "B3Yjz-JqFbuq"
   },
   "source": [
    "## Ising models: The H atom of phase transitions\n",
    "\n",
    "\n",
    "\n",
    "$$\\boxed{H([s])= \\sum_{\\langle ij \\rangle} J_{ij}s_i s_j - \\mu B \\sum_i s_i}$$\n",
    "\n",
    "<br>\n",
    "\n",
    "\n",
    "$$\\boxed{Z=\\sum_{[s]}e^{-H([s])/k_B T}}$$"
   ]
  },
  {
   "cell_type": "code",
   "execution_count": null,
   "metadata": {
    "id": "dpVMe8amFbuq",
    "outputId": "e15d0b8f-4221-472d-83a9-b3bf44193e51"
   },
   "outputs": [
    {
     "name": "stdout",
     "output_type": "stream",
     "text": [
      "[[-1  1 -1 -1 -1 -1  1 -1]\n",
      " [-1  1 -1  1 -1  1  1 -1]\n",
      " [-1  1  1  1  1 -1 -1 -1]\n",
      " [ 1  1 -1  1  1  1  1 -1]\n",
      " [-1  1 -1 -1 -1 -1 -1  1]\n",
      " [ 1 -1 -1 -1 -1 -1 -1 -1]\n",
      " [-1  1  1 -1  1  1 -1  1]\n",
      " [-1  1  1  1 -1  1  1 -1]]\n"
     ]
    },
    {
     "data": {
      "text/plain": [
       "<matplotlib.image.AxesImage at 0x125fd97b8>"
      ]
     },
     "execution_count": 8,
     "metadata": {
      "tags": []
     },
     "output_type": "execute_result"
    },
    {
     "data": {
      "image/png": "[encoded data removed]",
      "text/plain": [
       "<Figure size 432x288 with 1 Axes>"
      ]
     },
     "metadata": {
      "image/png": {
       "height": 250,
       "width": 246
      },
      "needs_background": "light",
      "tags": []
     },
     "output_type": "display_data"
    }
   ],
   "source": [
    "lattice = choice([-1,1],size=(8,8))\n",
    "\n",
    "print(lattice)\n",
    "\n",
    "plt.imshow(lattice)"
   ]
  },
  {
   "cell_type": "code",
   "execution_count": null,
   "metadata": {
    "id": "jn5PbS8pFbuq",
    "outputId": "0d2833dc-890e-49d0-8b0e-1abc06964ac4"
   },
   "outputs": [
    {
     "data": {
      "text/plain": [
       "array([[ 1, -1,  1,  1, -1,  1, -1, -1],\n",
       "       [-1, -1, -1,  1, -1, -1, -1,  1],\n",
       "       [ 1,  1, -1, -1, -1,  1, -1, -1],\n",
       "       [ 1,  1, -1, -1,  1,  1, -1,  1],\n",
       "       [-1,  1,  1, -1,  1,  1,  1,  1],\n",
       "       [ 1, -1, -1,  1,  1,  1, -1,  1],\n",
       "       [ 1,  1, -1, -1,  1, -1, -1,  1],\n",
       "       [-1, -1, -1, -1, -1,  1, -1, -1]])"
      ]
     },
     "execution_count": 6,
     "metadata": {
      "tags": []
     },
     "output_type": "execute_result"
    }
   ],
   "source": [
    "lattice[:,:]"
   ]
  },
  {
   "cell_type": "code",
   "execution_count": null,
   "metadata": {
    "id": "g0_wePVEFbur",
    "outputId": "b3ded94e-35bd-4fc3-b47e-29498434706d"
   },
   "outputs": [
    {
     "name": "stdout",
     "output_type": "stream",
     "text": [
      "2\n"
     ]
    }
   ],
   "source": [
    "N = 8\n",
    "E = 0\n",
    "\n",
    "for i in range(N-1):\n",
    "    \n",
    "    for j in range(N-1):\n",
    "        \n",
    "        E += lattice[i,j] * ( lattice[i,j+1] + lattice[i,j-1] + lattice[i+1,j] + lattice[i-1,j])\n",
    "\n",
    "print(E)"
   ]
  },
  {
   "cell_type": "markdown",
   "metadata": {
    "id": "LBBclNXcFbur"
   },
   "source": [
    "### Enforcing periodic boundary conditions"
   ]
  },
  {
   "cell_type": "markdown",
   "metadata": {
    "id": "Vv_4BkX8Fbur"
   },
   "source": [
    "- **Method-1: Creating roll over indes using modulo operator %**"
   ]
  },
  {
   "cell_type": "code",
   "execution_count": null,
   "metadata": {
    "id": "5q0OMb1NFbur",
    "outputId": "0d2ef83d-4c69-4232-a91d-60472cb650d3"
   },
   "outputs": [
    {
     "data": {
      "text/plain": [
       "(0, 1, 2, 3, 0)"
      ]
     },
     "execution_count": 64,
     "metadata": {
      "tags": []
     },
     "output_type": "execute_result"
    }
   ],
   "source": [
    "0%8, 1%8, 2%8, 3%8, 8%8\n",
    "#lattice[8%8,5]"
   ]
  },
  {
   "cell_type": "code",
   "execution_count": null,
   "metadata": {
    "id": "d-eRptzwFbus",
    "outputId": "8e1cab8d-6acc-4ff0-d71e-81bb939f4311"
   },
   "outputs": [
    {
     "name": "stdout",
     "output_type": "stream",
     "text": [
      "1\n",
      "-1\n",
      "-1\n",
      "1\n",
      "1\n",
      "1\n",
      "-1\n",
      "1\n"
     ]
    }
   ],
   "source": [
    "N = 8\n",
    "\n",
    "for i in range(8):\n",
    "    \n",
    "    print(lattice[(i+1)%N , 3])"
   ]
  },
  {
   "cell_type": "code",
   "execution_count": null,
   "metadata": {
    "id": "BWb0AQNXFbus",
    "outputId": "55ee9a72-2712-48b3-fbf5-bf8aabdb13a6"
   },
   "outputs": [
    {
     "name": "stdout",
     "output_type": "stream",
     "text": [
      "8\n"
     ]
    }
   ],
   "source": [
    "N = 8\n",
    "E = 0\n",
    "\n",
    "for i in range(N-1):\n",
    "    \n",
    "    for j in range(N-1):\n",
    "        \n",
    "        E += lattice[i,j] * ( lattice[(i+1)%N , j] + lattice[i,j-1] + lattice[i+1,j] + lattice[i-1,j])\n",
    "\n",
    "print(E)"
   ]
  },
  {
   "cell_type": "markdown",
   "metadata": {
    "id": "Ld0QSwQOFbus"
   },
   "source": [
    "- **Method-2: Creating roll over indes using numpy roll function**"
   ]
  },
  {
   "cell_type": "code",
   "execution_count": null,
   "metadata": {
    "id": "0RIyypx8Fbus",
    "outputId": "3a109a0d-2038-4fd9-f394-1f319e07b51b"
   },
   "outputs": [
    {
     "data": {
      "text/plain": [
       "array([[-1, -1, -1, -1, -1,  1, -1, -1],\n",
       "       [ 1, -1,  1,  1, -1,  1, -1, -1],\n",
       "       [-1, -1, -1,  1, -1, -1, -1,  1],\n",
       "       [ 1,  1, -1, -1, -1,  1, -1, -1],\n",
       "       [ 1,  1, -1, -1,  1,  1, -1,  1],\n",
       "       [-1,  1,  1, -1,  1,  1,  1,  1],\n",
       "       [ 1, -1, -1,  1,  1,  1, -1,  1],\n",
       "       [ 1,  1, -1, -1,  1, -1, -1,  1]])"
      ]
     },
     "execution_count": 10,
     "metadata": {
      "tags": []
     },
     "output_type": "execute_result"
    }
   ],
   "source": [
    "np.roll(lattice, 1, axis = 0)"
   ]
  },
  {
   "cell_type": "markdown",
   "metadata": {
    "id": "kiHKGxDvFbus"
   },
   "source": [
    "### Computing Thermodynamic quantities"
   ]
  },
  {
   "cell_type": "markdown",
   "metadata": {
    "id": "j-FI9OY2Fbut"
   },
   "source": [
    "#### Energy $E$\n",
    "\n",
    "- **Energy of a configuration**\n",
    "\n",
    "$$E[s] = H([s])= \\sum_{\\langle ij \\rangle} J_{ij}s_i s_j - \\mu B \\sum_i s_i$$. \n",
    "\n",
    "\n",
    "- **Ensemble average Energy**\n",
    "\n",
    "$$ \\langle E \\rangle \\approx \\frac{1}{n_{MC}} \\sum^{i=n_{MC}}_{i=1} H[s_i] $$"
   ]
  },
  {
   "cell_type": "markdown",
   "metadata": {
    "id": "U9V6J1DCFbut"
   },
   "source": [
    "#### Magnetization\n",
    "\n",
    "- **Total magnetization, $M$**  \n",
    "\n",
    "$$M([s])=\\sum_is_i $$\n",
    "\n",
    "- **Magnetization per spin $m$** \n",
    "\n",
    "$$m([s])=\\frac{1}{N}\\sum_is_i =\\frac{M}{N}$$\n",
    "\n",
    "- **Ensemble averaged Magnetization** \n",
    "\n",
    "$$\\langle M \\rangle  \\approx \\frac{1}{n_{MC}} \\sum^{i=n_{MC}}_{i=1} M[s_i]$$"
   ]
  },
  {
   "cell_type": "markdown",
   "metadata": {
    "id": "3FHaCVFsFbut"
   },
   "source": [
    "#### Heat capacity $C_v$\n",
    "\n",
    "Heat capacity is again the familiar expression established in our treatment of canonical ensemble. \n",
    "\n",
    "$$ C_V(T) = \\Big (\\frac{\\partial E}{\\partial T} \\Big )_V= \\frac{1}{k_B T^2} \\big(\\langle E^2 \\rangle-\\langle E \\rangle^2 \\big) $$\n",
    "\n",
    "\n",
    "#### Susceptibility $\\chi$\n",
    "\n",
    "Magnetic susceptibility quantifies response of the ssytem to the variation of magnetic field.\n",
    "\n",
    "$$\\chi_T=\\Big (\\frac{\\partial M}{\\partial B} \\Big )_T= \\frac{1}{k_B T} \\big(\\langle M^2 \\rangle-\\langle M \\rangle^2 \\big) $$"
   ]
  },
  {
   "cell_type": "markdown",
   "metadata": {
    "id": "zLAqk5gCFbut"
   },
   "source": [
    "#### Correlation function $c(i,j)$  and correlation length\n",
    "\n",
    "At high temperatures, spins on an ising lattice point up and down randomly. While at low temperatures, all spins tend to align. To quantify the degree of alignment, we can define a quantity named correlation length $\\xi$, which can be defined mathematically through correlation function $c(i,j)$ \n",
    "\n",
    "$$c(i,j)=\\langle s_i-\\langle s_i\\rangle\\rangle \\langle s_j-\\langle s_j\\rangle\\rangle$$"
   ]
  },
  {
   "cell_type": "markdown",
   "metadata": {
    "id": "NguLNDH3Fbut"
   },
   "source": [
    "#### Parition function and Free energy \n",
    "\n",
    "\n",
    "$$Z=\\sum_{[s]}e^{-\\beta H([s])}=\\sum_{[s]}e^{-\\beta \\big ( \\sum_{\\langle ij \\rangle} J_{ij}s_i s_j - \\mu B M \\big )}$$\n",
    "\n",
    "<br><br>\n",
    "\n",
    "$$F=-\\beta^{-1} log Z $$\n",
    "\n",
    "- **Free energy as a function of M (Potential of mean force)**\n",
    "\n",
    "<br>\n",
    "\n",
    "$$Z(M) = \\sum_{[s]} e^{-\\beta H([s])} \\delta (M-M([s]))$$\n",
    "\n",
    "$$F(M)=-\\beta^{-1} log Z(M)$$\n",
    "\n",
    "The  Z(M) is a partial sum over states for which magnetization is equal to a particular value M as opposed to Z where summation is unrestricted. "
   ]
  },
  {
   "cell_type": "code",
   "execution_count": null,
   "metadata": {
    "id": "ibXygzZqFbuu"
   },
   "outputs": [],
   "source": [
    "def getE(spins,N,J,B):    \n",
    "    \n",
    "    '''Compute energy of spin lattice by lopping over each spin \n",
    "        with periodic boundary conditions enforced \n",
    "        via rollover index implemented using modulo operator %'''\n",
    "    \n",
    "    E = 0\n",
    "    \n",
    "    for i in range(N):\n",
    "        for j in range(N):   \n",
    "            \n",
    "            z = spins[(i+1)%N, j] + spins[(i-1)%N, j] +\\\n",
    "                spins[i,(j+1)%N] +  spins[i,(j-1)%N]\n",
    "            \n",
    "            E += -J*z*spins[i,j]/4 # Since we overcounted interactions 4 times divide by 4.\n",
    "\n",
    "    return E - B*np.sum(spins) #Field contribution added"
   ]
  },
  {
   "cell_type": "code",
   "execution_count": null,
   "metadata": {
    "id": "eS9dMvd4Fbuu"
   },
   "outputs": [],
   "source": [
    "def getEE(spins,N,J,B):\n",
    "    \n",
    "    '''Compute energy of spin lattice by lopping over each spin \n",
    "    with periodic boundary conditions enforced \n",
    "    via numpy roll''' \n",
    "    \n",
    "    z = np.roll(spins, 1, axis = 0) + np.roll(spins, -1, axis = 0) + \\\n",
    "    np.roll(spins, 1, axis = 1) + np.roll(spins, -1, axis = 1)\n",
    "\n",
    "    eij = -J*spins*z/4  \n",
    "    \n",
    "    return np.sum(eij) - B*np.sum(spins)"
   ]
  },
  {
   "cell_type": "code",
   "execution_count": null,
   "metadata": {
    "id": "ODwSxSxxFbuu"
   },
   "outputs": [],
   "source": [
    "spins = choice([-1,1],size=(1000,1000))"
   ]
  },
  {
   "cell_type": "code",
   "execution_count": null,
   "metadata": {
    "id": "mecuT1YsFbuu",
    "outputId": "5c088a0d-1283-4f73-dee6-f3b6a8563740"
   },
   "outputs": [
    {
     "name": "stdout",
     "output_type": "stream",
     "text": [
      "1.55 s ± 28.8 ms per loop (mean ± std. dev. of 7 runs, 1 loop each)\n"
     ]
    }
   ],
   "source": [
    "%%timeit\n",
    "ee = getE(spins, 1000, 1, 0)\n",
    "#print(ee)"
   ]
  },
  {
   "cell_type": "code",
   "execution_count": null,
   "metadata": {
    "id": "N2PDiCQDFbuu",
    "outputId": "884a64f5-4e4c-4e24-cc00-ef782e6e4488"
   },
   "outputs": [
    {
     "name": "stdout",
     "output_type": "stream",
     "text": [
      "8.21 ms ± 170 µs per loop (mean ± std. dev. of 7 runs, 100 loops each)\n"
     ]
    }
   ],
   "source": [
    "%%timeit\n",
    "ee2 = getEE(spins, 1000, 1, 0)\n",
    "#print(ee2)"
   ]
  },
  {
   "cell_type": "code",
   "execution_count": null,
   "metadata": {
    "id": "lFmX0cGMFbuv"
   },
   "outputs": [],
   "source": [
    "def getM(s):\n",
    "    \n",
    "    return np.mean(s)"
   ]
  },
  {
   "cell_type": "code",
   "execution_count": null,
   "metadata": {
    "id": "9WWSWCOBFbuv"
   },
   "outputs": [],
   "source": [
    "def getC(Ei, T):\n",
    "    \n",
    "    Ei = np.array(Ei)\n",
    "    \n",
    "    return (np.var(Ei))/T**2"
   ]
  },
  {
   "cell_type": "code",
   "execution_count": null,
   "metadata": {
    "id": "msfCNgO1Fbuv"
   },
   "outputs": [],
   "source": [
    "def getXi(Mi, T):\n",
    "    \n",
    "    Mi = np.array(Mi)\n",
    "    \n",
    "    return (np.var(Mi))/T"
   ]
  },
  {
   "cell_type": "code",
   "execution_count": null,
   "metadata": {
    "id": "f991ongTFbuv"
   },
   "outputs": [],
   "source": [
    "def getCorr(spins, N, i, j):\n",
    "    \n",
    "    pass"
   ]
  },
  {
   "cell_type": "markdown",
   "metadata": {
    "id": "Hq1Fj7ZYFbuv"
   },
   "source": [
    "### Sampliing of Boltzmann distribution (NVT). MC vs MCMC\n",
    "\n",
    "How to compute the expectation value of an observable $A$. In theory everything is simple:\n",
    "\n",
    "$$P(E_i)=\\frac{e^{-\\beta E_i}}{Z} = \\frac{e^{-\\beta E_i}}{\\sum_i e^{-\\beta E_i}}$$\n",
    "\n",
    "$$\\langle A\\rangle = \\sum_i A_iP(E_i)$$\n",
    "\n",
    "**1. Question: What we know and what we want to know?**\n",
    "- We don't always know the **(micro)states** $i$ of a system.\n",
    "- We only know **macroscopic quantities:** temperature $T$ with $\\beta = 1/(k_BT)$, volume, etc.\n",
    "\n",
    "**2. Answer: MC sampling**\n",
    "- Simulate different states of the system with Monte Carlo, according to the thermal probability function\n",
    "\n",
    "**3. What are challanges?**\n",
    "- most probabilities $P(E_k)$ are tiny => exponentially small\n",
    "- there is an extremely large number of possible states\n",
    "\n",
    "\n",
    "**4. Concludion: We need Importance sampling!**\n",
    "\n",
    "- Use the Boltzmann probability $P(E_i)$ as probability distribution to generate $N$ samples:\n",
    "\n",
    "$$\\boxed{\\langle A\\rangle \\rightarrow\\frac{1}{N}\\sum_{i=1}^N \\underbrace{A_i}_{{\\rm chosen}\\ {\\rm acc.}\\ {\\rm to}\\ P(E_i)}}$$\n",
    "\n",
    "**MCMC Simulation** Generating random walks in configuration space of thte system states.  "
   ]
  },
  {
   "cell_type": "markdown",
   "metadata": {
    "id": "SCHvA9c3Fbuw"
   },
   "source": [
    "### Master Equation and Detailed Balance"
   ]
  },
  {
   "cell_type": "markdown",
   "metadata": {
    "id": "JF0pdQWjFbuw"
   },
   "source": [
    "**Random process:**\n",
    "\n",
    "$$P(X_1, X_2, ... X_N) = P_1(X_1)\\cdot P_2(X_2)... P_1(X_N)$$\n",
    "\n",
    "<br>\n",
    "\n",
    "**Probabilities**\n",
    "\n",
    "$$P(X_1)$$\n",
    "\n",
    "$$\\sum_{X'} P(X') =1$$"
   ]
  },
  {
   "cell_type": "markdown",
   "metadata": {
    "id": "HmKNJsAaFbuw"
   },
   "source": [
    "**Markov chain:**\n",
    "\n",
    "$$p(X_1, X_2, ... X_N) = P_1(X_1)\\cdot P_2(X_2| X_1) \\cdot P_2(X_3| X_2)... P_1(X_N | X_{N-1})$$\n",
    "\n",
    "<br>\n",
    "\n",
    "**Conditional (transition) probabilities:**\n",
    "\n",
    "$$T(X_1 \\rightarrow X_2) = P(X_2|X_1)$$\n",
    "\n",
    "$$\\sum_{X'} T(X\\rightarrow X') =1 $$"
   ]
  },
  {
   "cell_type": "markdown",
   "metadata": {
    "id": "XazLP_chFbuw"
   },
   "source": [
    "**Probability of being at $X$ at $t+\\Delta t$ given prior state at $(X',t)$**\n",
    "\n",
    "$$P(X, t+\\Delta t) = \\sum_X' P(X', t) T(X' \\rightarrow X, t)$$\n",
    "\n",
    "**Master equation: A continuity equation in probability space.**\n",
    "\n",
    "$$P(X, t+\\Delta t) -P(X,t)= \\sum_X' P(X', t) T(X' \\rightarrow X, t) - P(X, t)\\sum_{X'} T(X\\rightarrow X')$$\n",
    "\n",
    "$$\\boxed{\\frac{\\partial P(X,t)}{\\partial t} = \\sum_X' P(X', t) w(X' \\rightarrow X, t) - \\sum_{X'} P(X, t) w(X\\rightarrow X')}$$\n",
    "\n",
    "- $w(X' \\rightarrow X, t) = lim_{\\Delta t \\rightarrow 0}\\frac{T(X' \\rightarrow X, t)}{\\Delta t}$"
   ]
  },
  {
   "cell_type": "markdown",
   "metadata": {
    "id": "ME3G3GWZFbuw"
   },
   "source": [
    "### Detailed Balance = Equilibrium\n",
    "\n",
    "<br>\n",
    "\n",
    "$$\\boxed{\\frac{\\partial P(X,t)}{\\partial t}  = \\sum_{X'} P(X', t) w_{X'X} - \\sum_{X'} P(X, t) w_{X X'}}=0$$\n",
    "\n",
    "<br>\n",
    "\n",
    "$$\\boxed{ p_i w_{ij} = p_j w_{ji}  }$$"
   ]
  },
  {
   "cell_type": "markdown",
   "metadata": {
    "id": "aAlB9n2gFbuw"
   },
   "source": [
    "**Master equation for a two state dynamics**\n",
    "\n",
    "$$\\frac{dP(x_1,t)}{dt} = p_1 w_{12} - p_2 w_{21}$$\n",
    "\n",
    "$$\\frac{dP(x_2,t)}{dt} = p_2 w_{21} - p_1 w_{12}$$"
   ]
  },
  {
   "cell_type": "markdown",
   "metadata": {
    "id": "LN-Uv_2EFbux"
   },
   "source": [
    "### How to pick the moves for Markov chain?"
   ]
  },
  {
   "cell_type": "markdown",
   "metadata": {
    "id": "tYuh2xA0Fbux"
   },
   "source": [
    "$$[transition] = [move] \\cdot [acceptance]$$\n",
    "\n",
    "$$T(X\\rightarrow X') = \\alpha_{X X'}\\cdot A_{X X'} $$"
   ]
  },
  {
   "cell_type": "markdown",
   "metadata": {
    "id": "NhuvPj8dFbux"
   },
   "source": [
    "- $\\alpha_{X X'}\\geq 0$, $\\alpha_{X X'} = \\alpha_{X' X}$\n",
    "<br>\n",
    "\n",
    "- If $p(X') < p(X)$, $A_{XX'}=\\frac{p(X')}{p(X)}$\n",
    "<br>\n",
    "\n",
    "- If $p(X') \\geq p(X)$, $A_{XX'}=1$"
   ]
  },
  {
   "cell_type": "markdown",
   "metadata": {
    "id": "PG-NOJv5Fbux"
   },
   "source": [
    "**For 2D Ising model of size $(L,L)$**\n",
    "\n",
    "- $\\alpha_{X X'} = \\frac{1}{L^2}$ \n",
    "\n",
    "Where $X$ and $X'$ differ in one spin configuration."
   ]
  },
  {
   "cell_type": "markdown",
   "metadata": {
    "id": "kVcIdI1eFbux"
   },
   "source": [
    "## Metropolis algorithm"
   ]
  },
  {
   "cell_type": "markdown",
   "metadata": {
    "id": "Nog40BMAFbux"
   },
   "source": [
    "${\\bf i. Initialization.}$ Generate some initiaal configuration for spins $[s_0]=(s_1,...s_N)$. For instnace Choosing random orientation for each spins $(+1, -1)$ or giving them  the same orientation. \n",
    "\n",
    "${\\bf ii. Attempt\\,\\, spin\\,\\, flip.\\,\\,}$ Pick a spin at random and flip it. E.g multiply by -1 so that +1 state becomes -1 and vice versa. this generated a new configuration $[s_1]$\n",
    "\n",
    "${\\bf iii. Acceptance/Rejection}$ Evaluate energy differene between old configuration $[s_{0}]$ and new one $[s_{1}]$ with flipped spin which has created in previous step. The $\\Delta E=E_{1}-E_{0}$ is used for deciding weather the move is accepted or rejected in a way that is consistent with Boltzman distribution: \n",
    "\n",
    "$$w=\\frac{P[s_{1}]}{P[s_{0}]}=exp\\big(-\\beta[E_{1}-E_{0}] \\big ) $$\n",
    "\n",
    "This is done by generating a unifor random number $r$ between $[0,1]$ and \n",
    "\n",
    "(a) if $r  \\leq w$ Accept the spin flip thereby keeping $[s_1]$ and proceeding to try new spin flip via step ii.  \n",
    "\n",
    "(b) if $r  > w$ reject the spin flip and set  $[s_1]=[s_0]$ and proceeding to try a new spin flip via step ii."
   ]
  },
  {
   "cell_type": "code",
   "execution_count": null,
   "metadata": {
    "id": "v_lLp3T3Fbux"
   },
   "outputs": [],
   "source": [
    "def initialize(N):\n",
    "    \n",
    "    '''Create square lattice of spin states, stored as 2D numpy array'''  \n",
    "                        \n",
    "    spins = choice([-1, 1], size=(N, N))  \n",
    "    \n",
    "    return spins    \n",
    "    \n",
    "\n",
    "def get_dE(spins, N, J, B, i, j): \n",
    "    \n",
    "    '''Compute energy difference betwee old and spin flipped configuration.\n",
    "    Peridoic boundary conditions have been imposed. \n",
    "    Study this function carefully and understand the meaning of each term'''\n",
    "    \n",
    "    z = spins[(i-1)%N, j] + spins[(i+1)%N, j] + spins[i, (j-1)%N] + spins[i, (j+1)%N]\n",
    "    \n",
    "    return 2*spins[i,j]*(J*z + B)\n",
    "\n",
    "\n",
    "def mcmc(spins, N, J, B, T):\n",
    "    \n",
    "    ''' Attempt a flip of a randomly chosen spin at ij location of lattice''' \n",
    "    \n",
    "    i, j = choice(N), choice(N)\n",
    "    \n",
    "    deltaE = get_dE(spins, N, J, B, i, j)\n",
    "    \n",
    "    if deltaE < 0 or np.exp(-deltaE/T) > random():\n",
    "        \n",
    "        '''For negative dE always accept or for positive dE distribute acceptance according to Boltzman dist'''\n",
    "        \n",
    "        spins[i,j] *= -1\n",
    "    \n",
    "    return spins"
   ]
  },
  {
   "cell_type": "code",
   "execution_count": null,
   "metadata": {
    "id": "NjD_PHdbFbuy",
    "outputId": "6ee75a81-c621-4f65-fa1d-99a10c775e89"
   },
   "outputs": [
    {
     "data": {
      "image/png": "[encoded data removed]",
      "text/plain": [
       "<Figure size 576x576 with 1 Axes>"
      ]
     },
     "metadata": {
      "image/png": {
       "height": 494,
       "width": 505
      },
      "needs_background": "light",
      "tags": []
     },
     "output_type": "display_data"
    }
   ],
   "source": [
    "N=250\n",
    "J=1\n",
    "B=0\n",
    "n_mcsteps = 1000\n",
    "\n",
    "T = 0.5  # Try different temps. For J=1 vary T between 1-3 to see qualitative change. \n",
    "\n",
    "''' We run the Monte Carlo using a loop of n_mcsteps iterations. Later one we can create a more \n",
    "sophisticated object oriented code where one can simply execute single command. '''\n",
    "\n",
    "spins = initialize(N)\n",
    "\n",
    "for n in range(n_mcsteps):\n",
    "    \n",
    "    spins = mcmc(spins, N, J, B, T)\n",
    "\n",
    "# Plot the lattice before and after\n",
    "fig,ax=plt.subplots(figsize=(8,8))\n",
    "\n",
    "ax.set_xlabel('spin, $ s_i$',fontsize=20)\n",
    "ax.set_ylabel('spin, $ s_j$',fontsize=20)\n",
    "\n",
    "im = ax.imshow(spins)"
   ]
  },
  {
   "cell_type": "code",
   "execution_count": null,
   "metadata": {
    "id": "dm6cBnLaFbuy"
   },
   "outputs": [],
   "source": [
    "N = 64\n",
    "J = 1\n",
    "B = 0\n",
    "T = 0.7  \n",
    "\n",
    "n_steps = 100000\n",
    "spins = initialize(N)\n",
    "\n",
    "images=[]"
   ]
  },
  {
   "cell_type": "code",
   "execution_count": null,
   "metadata": {
    "id": "Q8HDW1rXFbuy",
    "outputId": "9e5292fb-17db-4720-df1d-1b23c3096f47"
   },
   "outputs": [
    {
     "name": "stdout",
     "output_type": "stream",
     "text": [
      "CPU times: user 3 µs, sys: 1 µs, total: 4 µs\n",
      "Wall time: 7.87 µs\n"
     ]
    }
   ],
   "source": [
    "for i in range(n_steps):\n",
    "    \n",
    "    images.append(spins.copy()) # use copy becasue spins keep on being updates\n",
    "    \n",
    "    spins = mcmc(spins, N, J, B, T)\n",
    "%time"
   ]
  },
  {
   "cell_type": "code",
   "execution_count": null,
   "metadata": {
    "colab": {
     "referenced_widgets": [
      "e207379c93a441bba6f6084ea00aaa9e"
     ]
    },
    "id": "aJYTN0elFbuy",
    "outputId": "bbfa0e93-38a6-4e53-ed55-884919b687b4"
   },
   "outputs": [
    {
     "data": {
      "application/vnd.jupyter.widget-view+json": {
       "model_id": "e207379c93a441bba6f6084ea00aaa9e",
       "version_major": 2,
       "version_minor": 0
      },
      "text/plain": [
       "interactive(children=(IntSlider(value=0, description='i', max=99999), Output()), _dom_classes=('widget-interac…"
      ]
     },
     "metadata": {
      "tags": []
     },
     "output_type": "display_data"
    }
   ],
   "source": [
    "@widgets.interact(i=(0,n_steps-1))\n",
    "def plot_image(i=0):\n",
    "    fig,ax = plt.subplots(figsize=(8,8))\n",
    "    ax.imshow(images[i])"
   ]
  },
  {
   "cell_type": "code",
   "execution_count": null,
   "metadata": {
    "id": "8uIhL3fJFbuz"
   },
   "outputs": [],
   "source": [
    "N=10\n",
    "J=1\n",
    "B=0\n",
    "\n",
    "n_mcsteps = 1000\n",
    "\n",
    "n_mcsteps2 = 20000\n",
    "\n",
    "T = 1  # Try different temps. For J=1 vary T between 1-3 to see qualitative change. \n",
    "\n",
    "''' Record some observables form simulation and plot as a function of time to visually inspect equilibration'''\n",
    "\n",
    "obs, obs2, obs3,  = [], [], []\n",
    "\n",
    "\n",
    "spins = initialize(N)\n",
    "\n",
    "for n in range(n_mcsteps):\n",
    "    \n",
    "    spins = mcmc(spins, N, J, B, T)\n",
    "\n",
    "for n in range(n_mcsteps2):\n",
    "    \n",
    "    spins = mcmc(spins, N, J, B, T)\n",
    "    \n",
    "    obs.append(np.mean(spins))\n",
    "    \n",
    "#    obs2.append(spins[1,5])\n",
    "    #obs3.append(getE(spins,N,J,B))"
   ]
  },
  {
   "cell_type": "code",
   "execution_count": null,
   "metadata": {
    "id": "VNw4q_GlFbuz",
    "outputId": "1e61f134-cd72-4cce-e993-0280728e720f"
   },
   "outputs": [
    {
     "data": {
      "text/plain": [
       "[<matplotlib.lines.Line2D at 0x11961d898>]"
      ]
     },
     "execution_count": 29,
     "metadata": {
      "tags": []
     },
     "output_type": "execute_result"
    },
    {
     "data": {
      "image/png": "[encoded data removed]",
      "text/plain": [
       "<Figure size 432x288 with 1 Axes>"
      ]
     },
     "metadata": {
      "image/png": {
       "height": 248,
       "width": 372
      },
      "needs_background": "light",
      "tags": []
     },
     "output_type": "display_data"
    }
   ],
   "source": [
    "plt.plot(obs)"
   ]
  },
  {
   "cell_type": "markdown",
   "metadata": {
    "id": "PML0FOQHFbuz"
   },
   "source": [
    "### Carry out explorative simulations\n",
    "\n",
    "$\\bf{i.}$ Test the dependence of observables on system size.\n",
    "\n",
    "$\\bf{ii.}$ Test the dependence of observables on initital conditions.\n",
    "\n",
    "$\\bf{iii.}$ Vary intensive parameters, e.g temperature and field strength. Investigate changes in observables such as magnetization, energy, susceptibility, heat capacity.\n",
    "\n",
    "$\\bf{iv.}$ How do we know if simulation has done enough sampling? How do we assess covnergence and errors? \n",
    "\n",
    "$\\bf{v.}$ Think about alternative ways of accelerating and enhancing the sampling."
   ]
  },
  {
   "cell_type": "markdown",
   "metadata": {
    "id": "CR6KKTgDFbuz"
   },
   "source": [
    "#### Parameter sweeps: run MC simulatons  of 2D Ising model at different  Ts\n",
    "\n",
    "For more rigirous analysis we can either optimize the code (using cython or numba) or run on HPCs. "
   ]
  },
  {
   "cell_type": "code",
   "execution_count": null,
   "metadata": {
    "id": "j7zfxnDiFbuz"
   },
   "outputs": [],
   "source": [
    "N = 10                       # Small trial system, e.g 10-20 spins\n",
    "J = 1\n",
    "B=0\n",
    "Ts = np.linspace(1, 4, 50) #vary temp\n",
    "\n",
    "n_mcsteps=10000   # Equilibrate!\n",
    "n_mcsteps2=20000   # Collect data!\n",
    "\n",
    "\n",
    "###Carry out mulitple MC runs at differnet Temperatures. This calculation may take ~5 mins. Think about equilibration, convergence and statistical errors\n",
    "\n",
    "Es, Ms = [], []\n",
    "Cs, Xis = [], []   \n",
    "\n",
    "for T in Ts:\n",
    "    \n",
    "    Ei,Mi=[],[]\n",
    "    \n",
    "    spins = initialize(N)\n",
    "    \n",
    "    for n in np.arange(n_mcsteps):\n",
    "        \n",
    "        spins = mcmc(spins, N, J, B, T)\n",
    "    \n",
    "    for n in np.arange(n_mcsteps2):  \n",
    "        \n",
    "        spins = mcmc(spins, N, J, B, T)\n",
    "        \n",
    "        Ei.append(getE(spins,N, J, B))\n",
    "        Mi.append(getM(spins))\n",
    " \n",
    "\n",
    "    # First L steps discarded as equilibration\n",
    "    Es.append(np.mean(Ei))\n",
    "    Ms.append(np.mean(Mi))\n",
    "    \n",
    "    # C and Xi computed from energies \n",
    "    Cs.append(getC(Ei, T))\n",
    "    Xis.append(getXi(Ei, T))"
   ]
  },
  {
   "cell_type": "code",
   "execution_count": null,
   "metadata": {
    "id": "afIb0RPHFbuz",
    "outputId": "932fb310-c5bf-48f5-804d-a1af1813ed55"
   },
   "outputs": [
    {
     "data": {
      "text/plain": [
       "Text(0, 0.5, 'Energy E')"
      ]
     },
     "execution_count": 31,
     "metadata": {
      "tags": []
     },
     "output_type": "execute_result"
    },
    {
     "data": {
      "image/png": "[encoded data removed]",
      "text/plain": [
       "<Figure size 432x288 with 1 Axes>"
      ]
     },
     "metadata": {
      "image/png": {
       "height": 277,
       "width": 397
      },
      "needs_background": "light",
      "tags": []
     },
     "output_type": "display_data"
    }
   ],
   "source": [
    "plt.scatter(Ts, Es,color='blue')\n",
    "plt.title(\"Energy of a %dx%d spin lattice\"%(N,N))\n",
    "plt.xlabel(\"Temperature T\")\n",
    "plt.ylabel(\"Energy E\")"
   ]
  },
  {
   "cell_type": "code",
   "execution_count": null,
   "metadata": {
    "id": "zMUWQC94Fbu0",
    "outputId": "3760b8c9-93cf-4bf3-d182-1d08c836aaee"
   },
   "outputs": [
    {
     "data": {
      "text/plain": [
       "Text(0, 0.5, 'Magnetization M')"
      ]
     },
     "execution_count": 32,
     "metadata": {
      "tags": []
     },
     "output_type": "execute_result"
    },
    {
     "data": {
      "image/png": "[encoded data removed]",
      "text/plain": [
       "<Figure size 432x288 with 1 Axes>"
      ]
     },
     "metadata": {
      "image/png": {
       "height": 277,
       "width": 400
      },
      "needs_background": "light",
      "tags": []
     },
     "output_type": "display_data"
    }
   ],
   "source": [
    "plt.scatter(Ts, Ms,color='green')\n",
    "plt.title(\"Magnetization of a %dx%d spin lattice\"%(N,N))\n",
    "plt.xlabel(\"Temperature T\")\n",
    "plt.ylabel(\"Magnetization M\")"
   ]
  },
  {
   "cell_type": "code",
   "execution_count": null,
   "metadata": {
    "id": "EAzI0-GOFbu0",
    "outputId": "446e209f-ac9c-4986-dd2d-fe634830212b"
   },
   "outputs": [
    {
     "data": {
      "text/plain": [
       "Text(0, 0.5, 'Heat capacity $C_v(T)$')"
      ]
     },
     "execution_count": 33,
     "metadata": {
      "tags": []
     },
     "output_type": "execute_result"
    },
    {
     "data": {
      "image/png": "[encoded data removed]",
      "text/plain": [
       "<Figure size 432x288 with 1 Axes>"
      ]
     },
     "metadata": {
      "image/png": {
       "height": 277,
       "width": 384
      },
      "needs_background": "light",
      "tags": []
     },
     "output_type": "display_data"
    }
   ],
   "source": [
    "plt.scatter(Ts, Cs,color='red')\n",
    "plt.title(\"Heat Capacity of a %dx%d spin lattice\"%(N,N))\n",
    "plt.xlabel(\"Temperature T\")\n",
    "plt.ylabel(\"Heat capacity $C_v(T)$\")"
   ]
  },
  {
   "cell_type": "code",
   "execution_count": null,
   "metadata": {
    "id": "zGZ4e2qHFbu0",
    "outputId": "4ee544a5-5f61-48a2-953e-0b59b6a6c6e4"
   },
   "outputs": [
    {
     "data": {
      "text/plain": [
       "Text(0, 0.5, 'Susceptibility $\\\\Xi(T)$')"
      ]
     },
     "execution_count": 34,
     "metadata": {
      "tags": []
     },
     "output_type": "execute_result"
    },
    {
     "data": {
      "image/png": "[encoded data removed]",
      "text/plain": [
       "<Figure size 432x288 with 1 Axes>"
      ]
     },
     "metadata": {
      "image/png": {
       "height": 277,
       "width": 384
      },
      "needs_background": "light",
      "tags": []
     },
     "output_type": "display_data"
    }
   ],
   "source": [
    "plt.scatter(Ts, Xis,color='gold')\n",
    "plt.title(\"Suscpetibility of a %dx%d spin lattice\"%(N,N))\n",
    "plt.xlabel(\"Temperature T\")\n",
    "plt.ylabel(\"Susceptibility $\\Xi(T)$\")"
   ]
  },
  {
   "cell_type": "code",
   "execution_count": null,
   "metadata": {
    "id": "lTArxp1UFbu0"
   },
   "outputs": [],
   "source": [
    "#Ising2D python code optimized for speed\n",
    "\n",
    "import numpy  as np\n",
    "import pandas as pd\n",
    "from numba import jit, njit\n",
    "\n",
    "@njit\n",
    "def compute_ising2d(spins, J, B):\n",
    "    '''Computes thermodynamic variables given the spin lattice'''\n",
    "  \n",
    "    N = len(spins)\n",
    "\n",
    "    E=0\n",
    "    for i in range(N):\n",
    "        for j in range(N):   \n",
    "            z = spins[(i+1)%N, j] + spins[(i-1)%N, j] +spins[i,(j+1)%N] +  spins[i,(j-1)%N]\n",
    "                \n",
    "            E += -J*z*spins[i,j]/4 # Since we overcounted interactions 4 times divide by 4.\n",
    "\n",
    "    #Energy\n",
    "    E = E/N - B*np.mean(spins) \n",
    "\n",
    "    #Magnetization\n",
    "    M   = np.mean(spins)\n",
    "\n",
    "    return M, E  \n",
    "\n",
    "@njit\n",
    "def run_ising2d(spins, J, B, T, n_steps, out_freq):\n",
    "\n",
    "    #Initialize data arrays\n",
    "    M, E, traj = [], [], []\n",
    "    N = len(spins)\n",
    "\n",
    "    for step in range(n_steps):\n",
    "\n",
    "        #Pick random spin\n",
    "        i, j = np.random.randint(N), np.random.randint(N)\n",
    "\n",
    "        #Compute energy change due to a flip of spin at i,j\n",
    "        z  = spins[(i+1)%N, j] + spins[(i-1)%N, j] + spins[i, (j+1)%N] + spins[i, (j-1)%N] \n",
    "        dE = 2*spins[i,j]*(J*z + B)\n",
    "\n",
    "        #Metropolis condition\n",
    "        if dE <= 0 or np.exp(-dE/T) > np.random.rand():\n",
    "          \n",
    "            spins[i,j] *= -1 \n",
    "\n",
    "        #Compute and store data\n",
    "        if step % out_freq == 0:\n",
    "\n",
    "            M_t, E_t = compute_ising2d(spins, J, B)\n",
    "            \n",
    "            M.append(M_t)\n",
    "            E.append(E_t)\n",
    "            traj.append(spins.copy())\n",
    "\n",
    "    return traj, E, M"
   ]
  },
  {
   "cell_type": "code",
   "execution_count": null,
   "metadata": {
    "id": "ZJdtG_E7Fbu0",
    "outputId": "6094b918-82cf-46f5-cfab-ef6c3326c961"
   },
   "outputs": [
    {
     "name": "stdout",
     "output_type": "stream",
     "text": [
      "CPU times: user 1.62 s, sys: 207 ms, total: 1.83 s\n",
      "Wall time: 1.82 s\n"
     ]
    }
   ],
   "source": [
    "%%time\n",
    "traj, E, M = run_ising2d(spins=np.ones((120, 120)), J=1, B=0, T=3, n_steps=int(1e7), out_freq = int(1e3))"
   ]
  },
  {
   "cell_type": "markdown",
   "metadata": {
    "id": "qFNE9Y04Fbu0"
   },
   "source": [
    "### Problems"
   ]
  },
  {
   "cell_type": "markdown",
   "metadata": {
    "id": "ZoHqqSnqFbu1"
   },
   "source": [
    "### Problem-1\n",
    "\n",
    "Revisit the example MCMC simulation for determining $\\pi$ value. Vary the size of the displacement to determine the optimal size that generates quickest convergence to the value of $\\pi$\n",
    "\n",
    "\n",
    "### Problem-2 \n",
    "\n",
    "Carry out MC simulation of 2D ising spin model for various lattice sizes $N= 16,32, 64$ at temperatures above and below critical e.g $T<T_c$ and $T>T_c$.   \n",
    "\n",
    "- How long does it take to equilibrate system as a function of size and as a function of T?\n",
    "\n",
    "- Plot some observables as a function of number of samples states to show that the system is carrying out some sort of random walk in the configurational space. \n",
    "\n",
    "- How do profiles of Energy vs T, Magnetization vs T and heat capacity vs T, and susceptibility vs T change as a function of size of our lattice. \n",
    "\n",
    "- Does $J>0$ and $J<0$ change the nature of phase transition?"
   ]
  },
  {
   "cell_type": "markdown",
   "metadata": {
    "id": "x-MPRohEFbu1"
   },
   "source": [
    "### Problem-3\n",
    "\n",
    "Compute correlation functions of spin variable, that is how correlated are spins as a function of distance on a lattice, $L$. $C(L)=\\langle s_i s_{i+L}\\rangle -\\langle s_i\\rangle \\langle s_{i+L}\\rangle $ Make sure to account for the periodic boundary conditions! \n",
    "\n",
    "> Note that you can pick a special tagged spin and calculate correlation function of taged spin ($s_13$ for instance) with any other as a function of lattice spearation  by averaging over produced MC configurations.  Or you can take advantage of the fact that there are no priviledged spins and average over many spins and average over MC configruations e.g $s_1, s_2, ...$. E.g you can pick a horizontal line of spins and run a summation for each fixed r_ab distance. "
   ]
  },
  {
   "cell_type": "markdown",
   "metadata": {
    "id": "y3zetrDWFbu1"
   },
   "source": [
    "### Problem-4\n",
    "\n",
    "Take a 20 by 20 lattice and equilibriate the system with a value of extneral field B equal to +1. \n",
    "Now slowly change h to −1 in discrete steps during each of these steps, use the previously equilibriated\n",
    "configuration as an input to the system to undergo equilibriation again.  \n",
    "\n",
    "Caluclate average and variance quantities (e.g E, M, C etc). Notice anything interesing :)"
   ]
  }
 ],
 "metadata": {
  "colab": {
   "collapsed_sections": [
    "j-FI9OY2Fbut",
    "U9V6J1DCFbut",
    "3FHaCVFsFbut",
    "zLAqk5gCFbut",
    "NguLNDH3Fbut",
    "CR6KKTgDFbuz"
   ],
   "name": "01_MCMC_Ising.ipynb",
   "provenance": [],
   "toc_visible": true
  },
  "kernelspec": {
   "display_name": "Python 3",
   "language": "python",
   "name": "python3"
  },
  "language_info": {
   "codemirror_mode": {
    "name": "ipython",
    "version": 3
   },
   "file_extension": ".py",
   "mimetype": "text/x-python",
   "name": "python",
   "nbconvert_exporter": "python",
   "pygments_lexer": "ipython3",
   "version": "3.8.8"
  },
  "livereveal": {
   "theme": "sky"
  },
  "nteract": {
   "version": "0.21.0"
  },
  "toc": {
   "base_numbering": 1,
   "nav_menu": {},
   "number_sections": true,
   "sideBar": true,
   "skip_h1_title": false,
   "title_cell": "Table of Contents",
   "title_sidebar": "Contents",
   "toc_cell": false,
   "toc_position": {},
   "toc_section_display": true,
   "toc_window_display": false
  }
 },
 "nbformat": 4,
 "nbformat_minor": 4
}
