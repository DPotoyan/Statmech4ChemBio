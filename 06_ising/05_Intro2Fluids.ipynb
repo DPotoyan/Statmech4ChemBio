{
 "cells": [
  {
   "cell_type": "markdown",
   "metadata": {},
   "source": [
    "# Introduction to statistical mechanics of fluids"
   ]
  },
  {
   "cell_type": "markdown",
   "metadata": {},
   "source": [
    "## Classical parition function of fluids"
   ]
  },
  {
   "cell_type": "markdown",
   "metadata": {},
   "source": [
    "- For a homogenous fluid particles \n",
    "\n",
    "$$Z(\\beta, N, V) = \\frac{1}{N! h^N}\\int e^{-\\beta H(p,x)}dp^N dx^N$$"
   ]
  },
  {
   "cell_type": "markdown",
   "metadata": {},
   "source": [
    "- For a system composed of three types A B and C for instance the partion function would be:\n",
    "\n",
    "$$Z(\\beta, N, V) = \\frac{1}{N_A! N_B! N_C! h^N}\\int e^{-\\beta H(p,x)}dp^N dx^N$$\n",
    "\n",
    "With $N=N_A+N_B+N_C$"
   ]
  },
  {
   "cell_type": "markdown",
   "metadata": {},
   "source": [
    "## General exprssion of probability distribution of fluids in phase space"
   ]
  },
  {
   "cell_type": "markdown",
   "metadata": {},
   "source": [
    "- The probability of a state in a classical fluid system is $f(x^N, p^N)$\n",
    "\n",
    "$$\\boxed{f(x^N, p^N) = \\frac{e^{-\\beta H(x^N p^N)}}{Z}}$$"
   ]
  },
  {
   "cell_type": "markdown",
   "metadata": {},
   "source": [
    "### Classical hamitlonian breaks into functions of momenta and positions respectively \n",
    "\n",
    "- $$H(x^N, p^N) = K(p^N) + U(x^N)$$\n",
    "<br><br>\n",
    "\n",
    "- $$f(x^N, p^N) = \\Phi(p^N) P(r^N)$$\n",
    "<br><br>\n",
    "\n",
    "- $$\\boxed{\\Phi(p^N) = \\frac{e^{-\\beta K(p^N)}}{\\int dp^N e^{-\\beta K(p^N)}}}$$\n",
    "<br><br>\n",
    "\n",
    "- $$\\boxed{P(x^N) = \\frac{e^{-\\beta U(x^N)}}{\\int dp^N e^{-\\beta U(x^N)}}}$$\n",
    "<br><br>\n"
   ]
  },
  {
   "cell_type": "markdown",
   "metadata": {},
   "source": [
    "#### Maxwell-Boltzman distirbution for single particles\n",
    "\n",
    "Momentum distribution further factorizes into sum of single particle kinetic energies: \n",
    "\n",
    "- $$K(p^N) = \\sum^N_{i=1} \\frac{p^2_i}{2m_i}$$\n",
    "<br><br>\n",
    "\n",
    "- $$\\Phi(p^N) = \\prod^N_{i=1} \\phi(p_i)$$\n",
    "<br><br>\n",
    "\n",
    "- $$\\boxed{\\phi(p_i) = \\frac{e^{-\\beta \\frac{p^2_i}{2m}}}{\\int dp e^{-\\beta \\frac{p^2}{2m}}}}$$\n",
    "\n",
    "Note that $p^2_i = p^2_x+p^2_y+p^2_z$ and $\\phi(p_i)$ is what is known as **Maxwell-Boltzmann distribution**. The classical system obyes the same distribution reglardles of whivh phase it is (solid, liquid, gas).  "
   ]
  },
  {
   "cell_type": "markdown",
   "metadata": {},
   "source": [
    "### Configurational partion function\n",
    "\n",
    "$$Z(\\beta, V, N) = Z_{p} \\cdot Z_x  = \\frac{1}{\\lambda^3N} Q(\\beta, V, N) $$\n",
    "\n",
    "$$Q = \\int dx^N e^{-\\beta U(x^N)}\\,\\,  ,  \\,\\,\\, F_{conf} = -{\\beta}^{-1} log Q$$\n",
    "\n",
    "Pressue is related to Free energy as \n",
    "\n",
    "- $$p= - \\frac{\\partial F}{\\partial V} = \\frac{\\partial }{\\partial V} log \\int dx^N e^{-\\beta U(x^N)}$$\n",
    "\n",
    "**Volume dependence of partition function is in the integration limits!** As volume grows so does partition function. Therefore p is always positive. We can thus conclude that **in equilibirum pressure is always a positive quantity**"
   ]
  },
  {
   "cell_type": "markdown",
   "metadata": {},
   "source": [
    "### Thermal wavelength and broad validity of classical picture of fluids"
   ]
  },
  {
   "cell_type": "markdown",
   "metadata": {},
   "source": [
    "$$Z = \\frac{1}{N!} \\frac{1}{\\lambda_T^{3N}} \\int dx^N e^{-\\beta U(x^N)}$$\n",
    "\n",
    "**Classical mechanics is valid as long as De Broglie wavelength is small compared to intermolecular length scales**\n",
    "\n",
    "$$\\lambda_{DB} = \\frac{h}{p} \\sim \\frac{h}{\\langle p \\rangle} = \\frac{h}{(8k_B T m/\\pi)^{1/2}} \\approx \\lambda_T$$\n",
    "\n",
    "For a dilute gas, relevant lengths are $\\rho^{-1/3}$ (typical distance) and $\\sigma$ (diamater of particles)\n",
    "\n",
    "- $\\lambda_T < \\sigma $ (classical regime is good)"
   ]
  },
  {
   "cell_type": "markdown",
   "metadata": {},
   "source": [
    "#### $H_2O$ vs $D_2O$ melting and freezing points\n",
    "\n",
    "- Classical descirption predicts configurational parition function to be independent of paritcle masses. Hence equation of state $p = p(\\beta, \\rho)$ is independent of masses. \n",
    "<br><br>\n",
    "\n",
    "- Thus if translationa, rotational and virbational degrees of freedo are well described by classical mechanics, $H_2O$ and $D_2O$ will have the same equation of state. Experiments however predict desnity maximum $\\rho(T)$ at $p=1 atm$ at 4 C for $H_2O$ and 10C in $D_2O$. The freezing point is higher for $D_2 O$ as well\n",
    "<br><br>\n",
    "\n",
    "- Water is a weird fluid. Size is about $3 A$ and thermal wavelength is around $0.3 A$. The role of quantum fluctuations is to blurr the positions of water molecules. As the atomic mass increases, bluring goes down and fluids gets ordered. This is why $D_2 O$ ice melts at a higher temperature, e.g need to supply more energy to disrupt the order. "
   ]
  },
  {
   "cell_type": "markdown",
   "metadata": {},
   "source": [
    "### Reduced configruational distribution functions"
   ]
  },
  {
   "cell_type": "markdown",
   "metadata": {},
   "source": [
    "- **Hard fact:** $P(r^N)$ and Q do not factorize because of inteparticle interactions with stronger interactions implying stronger correlations in positions. \n",
    "<br><br>\n",
    "\n",
    "- **Probability of many-body systems:** to find particle $1$ at $r_1$, $2$ and $r_2$ ...: \n",
    "\n",
    "$$\\boxed{P(r^N) = P(r_1, r_2,...r_N)}$$\n",
    "\n",
    "- **Marginal(ized) probability**\n",
    "\n",
    "$$\\boxed{\\rho^{2/N} (r_1, r_2) =  \\int dr_3... dr_N P(r_1, r_2,...r_N)}$$\n",
    "\n",
    "- **Marginal(ized) probability for any particle 1 and 2**\n",
    "\n",
    "$$\\boxed{\\rho^{2/N} (r_1, r_2) =  N(N-1)\\int dr_3... dr_N P(r_1, r_2,...r_N)}$$\n",
    "\n",
    "- **Marginal(ized) probability for any particle 1 and 2...n**\n",
    "\n",
    "$$\\boxed{\\rho^{n/N} (r_1, r_2,... r_n) =  \\frac{N!}{(N-n)!}\\int dr^{N-n} P(r_1, r_2,...r_N)}$$"
   ]
  },
  {
   "cell_type": "markdown",
   "metadata": {},
   "source": [
    "### Radial distribution function (RDF)\n",
    "\n",
    "For an isotropic liquid:\n",
    "\n",
    "$$\\rho = \\rho = \\frac{N}{V}$$\n",
    "\n",
    "For an ideal gas: \n",
    "\n",
    "$$\\rho^{2/N} = \\frac{N(N-1)}{V^2} = \\rho^2 (1-N^{-1}) \\approx \\rho^2$$\n",
    "\n",
    "- To measure degree of spatial correlations we introduce Radial Distribution function (RDF):\n",
    "\n",
    "$$\\boxed{g(r_1, r_2)  = \\frac{\\rho^{2/N}(r_1, r_2)}{\\rho^2}}$$\n",
    "\n",
    "- RDF for isotropic fluids is $\\boxed{g(r) =  g(|r_2-r_1|)}$\n",
    "<br><br>\n",
    "- Conditional probabilioty density of **finding a particle at r distance away from a tagged particle** placed at origin:\n",
    "\n",
    "$$\\rho^{2/N}(0,r) = \\rho g(r)$$"
   ]
  },
  {
   "cell_type": "markdown",
   "metadata": {},
   "source": [
    "### Coordination shells and structure in fluids"
   ]
  },
  {
   "cell_type": "markdown",
   "metadata": {},
   "source": [
    "![](./figs/gr1_1.png)"
   ]
  },
  {
   "cell_type": "markdown",
   "metadata": {},
   "source": [
    "![](./figs/gr2_2.png)"
   ]
  },
  {
   "cell_type": "markdown",
   "metadata": {},
   "source": [
    "![](./figs/gr3_3.png)"
   ]
  },
  {
   "cell_type": "markdown",
   "metadata": {},
   "source": [
    "![](./figs/gr4_4.png)"
   ]
  },
  {
   "cell_type": "markdown",
   "metadata": {},
   "source": [
    "### Reversible work theorem and potential of mean force"
   ]
  },
  {
   "cell_type": "markdown",
   "metadata": {},
   "source": [
    "$$\\boxed{g(r) = e^{-\\beta w(r)}}$$\n",
    "\n",
    "$$\\boxed{w(r) = - \\beta^{-1} log [g(r)]}$$\n",
    "\n",
    "- $w(r)$ Reversible work to bring two particles from infinity to distance r\n",
    "\n",
    "- $g(r)$ Radial distribution function"
   ]
  },
  {
   "cell_type": "markdown",
   "metadata": {},
   "source": [
    "$$\\Big \\langle -\\frac{d  U(r^N)}{dr_1}  \\Big \\rangle_{r_1, r_2} = -\\frac{\\int dr_3...dr_N \\frac{dU(r^N)}{dr_1} e^{-\\beta U}}{\\int dr_3...r_N e^{-\\beta U}} =  \\frac{\\beta^{-1} \\frac{d}{d r_1} \\int dr_3...dr_N e^{-\\beta U}}{\\int dr_3...dr_N e^{-\\beta U}} = \\beta^{-1} \\frac{d}{d r_1} log \\int dr_3...dr_N e^{-\\beta U} $$"
   ]
  },
  {
   "cell_type": "markdown",
   "metadata": {},
   "source": [
    "$$\\Big \\langle -\\frac{d  U(r^N)}{dr_1}  \\Big \\rangle_{r_1, r_2} = \\beta^{-1} \\frac{d}{d r_1} log N (N-1)\\int dr_3...dr_N e^{-\\beta U} = \\beta^{-1} g(r_1, r_2)$$ "
   ]
  },
  {
   "cell_type": "markdown",
   "metadata": {},
   "source": [
    "### Thermodynamic properites of $g(r)$"
   ]
  },
  {
   "cell_type": "markdown",
   "metadata": {},
   "source": [
    "$$\\langle E \\rangle = N \\Big\\langle \\frac{p^2}{2m} \\Big\\rangle + \\Big\\langle \\sum_{j>i} u(|r_i - r_j|)\\Big \\rangle$$\n",
    "\n",
    "$$\\boxed{E/N  = \\frac{3}{2}k_B T +\\frac{1}{2}\\rho \\int dr g(r) u(r) }$$"
   ]
  },
  {
   "cell_type": "markdown",
   "metadata": {},
   "source": [
    "### Low density approximation for $g(r)$\n",
    "\n",
    "$$w(r) =u(r) +\\Delta w(r) $$\n",
    "\n",
    "$$ g(r) = e^{-\\beta u(r)} \\Big (1 +O(\\rho) \\Big)$$"
   ]
  },
  {
   "cell_type": "markdown",
   "metadata": {},
   "source": [
    "### Density expanesion and virial coefficients\n",
    "\n",
    "$$\\beta p = \\rho + B_2(T) \\rho^2+ O(\\rho^3)$$\n",
    "\n",
    "$$B_2(T) = -\\frac{1}{2} \\int dr (e^{-\\beta u(r)}-1) $$"
   ]
  }
 ],
 "metadata": {
  "kernelspec": {
   "display_name": "Python 3",
   "language": "python",
   "name": "python3"
  },
  "language_info": {
   "codemirror_mode": {
    "name": "ipython",
    "version": 3
   },
   "file_extension": ".py",
   "mimetype": "text/x-python",
   "name": "python",
   "nbconvert_exporter": "python",
   "pygments_lexer": "ipython3",
   "version": "3.7.4"
  },
  "toc": {
   "base_numbering": 1,
   "nav_menu": {},
   "number_sections": true,
   "sideBar": true,
   "skip_h1_title": false,
   "title_cell": "Table of Contents",
   "title_sidebar": "Contents",
   "toc_cell": false,
   "toc_position": {},
   "toc_section_display": true,
   "toc_window_display": false
  }
 },
 "nbformat": 4,
 "nbformat_minor": 2
}
