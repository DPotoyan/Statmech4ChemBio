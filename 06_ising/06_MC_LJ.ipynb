{
 "cells": [
  {
   "cell_type": "markdown",
   "metadata": {},
   "source": [
    "## Monte Carlo simulations of Lennard-Jones fluids"
   ]
  },
  {
   "cell_type": "code",
   "execution_count": 35,
   "metadata": {
    "slideshow": {
     "slide_type": "slide"
    }
   },
   "outputs": [],
   "source": [
    "%matplotlib inline\n",
    "%config InlineBackend.figure_format = 'retina'\n",
    "import ipywidgets as widgets\n",
    "\n",
    "# Load basic science tools\n",
    "import matplotlib.pyplot as plt\n",
    "import scipy as sp\n",
    "import numpy as np\n",
    "from numpy.random import rand, randint, uniform, choice, normal \n",
    "from itertools import product\n",
    "\n",
    "import warnings\n",
    "warnings.filterwarnings('ignore')"
   ]
  },
  {
   "cell_type": "code",
   "execution_count": 36,
   "metadata": {
    "slideshow": {
     "slide_type": "slide"
    }
   },
   "outputs": [],
   "source": []
  },
  {
   "cell_type": "code",
   "execution_count": 48,
   "metadata": {
    "slideshow": {
     "slide_type": "slide"
    }
   },
   "outputs": [],
   "source": [
    "# Install Plotly and numba for aswesome speed and visualizations\n",
    "#! pip install plotly\n",
    "#! pip install numba\n",
    "\n",
    "import plotly.express as px\n",
    "from numba import jit, njit"
   ]
  },
  {
   "cell_type": "markdown",
   "metadata": {},
   "source": [
    "## LJ model of a simple fluids, noble gases"
   ]
  },
  {
   "cell_type": "markdown",
   "metadata": {
    "slideshow": {
     "slide_type": "slide"
    }
   },
   "source": [
    "\n",
    "**Check out LJ fluid properties tabulated by NIST for your reference**\n",
    "\n",
    "https://www.nist.gov/mml/csd/chemical-informatics-research-group/lennard-jones-fluid-properties"
   ]
  },
  {
   "cell_type": "code",
   "execution_count": 38,
   "metadata": {
    "slideshow": {
     "slide_type": "slide"
    }
   },
   "outputs": [],
   "source": [
    "#-------Simulation parameters ----\n",
    "N        = 100      # Try different values\n",
    "T        = 2.0      # Try different values\n",
    "rho      = 0.85     # We set density and"
   ]
  },
  {
   "cell_type": "markdown",
   "metadata": {},
   "source": [
    "### Initializing the system, watch out for clashes!"
   ]
  },
  {
   "cell_type": "code",
   "execution_count": 54,
   "metadata": {
    "slideshow": {
     "slide_type": "slide"
    }
   },
   "outputs": [],
   "source": [
    "def initialize_naive(N, rho):\n",
    "    \n",
    "    '''Initialize the simulation box \n",
    "    given N  particles with density\n",
    "    returns (N,3) array positions\n",
    "    '''\n",
    "    \n",
    "    L  =  (N/rho)**(1/3) \n",
    "\n",
    "    return uniform(-L/2, L/2, size=(N,3))\n",
    "\n",
    "def initialize(N, rho):\n",
    "    \n",
    "    \"\"\"Put N particles in a box, \n",
    "    using dense packing unit lattice size n3\"\"\"\n",
    "    \n",
    "    L  =  (N/rho)**(1/3) \n",
    "    \n",
    "    n3 = int(N **(1/3))  + 1\n",
    "    \n",
    "    iix = iiy = iiz = 0\n",
    "    pos = np.zeros((N,3))\n",
    "    \n",
    "    for i in range(N):\n",
    "        \n",
    "        pos[i][0] = (iix + 0.5) * L / n3\n",
    "        pos[i][1] = (iiy + 0.5) * L / n3\n",
    "        pos[i][2] = (iiz + 0.5) * L / n3\n",
    "        \n",
    "        iix += 1\n",
    "        \n",
    "        if iix == n3:\n",
    "            \n",
    "            iix  = 0\n",
    "            iiy += 1\n",
    "            \n",
    "            if iiy == n3:\n",
    "                \n",
    "                iiy = 0\n",
    "                iiz += 1 \n",
    "                \n",
    "    return pos-L/2"
   ]
  },
  {
   "cell_type": "code",
   "execution_count": 55,
   "metadata": {
    "slideshow": {
     "slide_type": "slide"
    }
   },
   "outputs": [],
   "source": [
    "pos = initialize(N, rho)\n",
    "#px.scatter_3d(x=pos[:,0], y=pos[:,1], z=pos[:,2], opacity=0.5)"
   ]
  },
  {
   "cell_type": "code",
   "execution_count": 57,
   "metadata": {},
   "outputs": [
    {
     "data": {
      "text/plain": [
       "(192, 3)"
      ]
     },
     "execution_count": 57,
     "metadata": {},
     "output_type": "execute_result"
    }
   ],
   "source": [
    "initialize(N, rho).shape"
   ]
  },
  {
   "cell_type": "code",
   "execution_count": 56,
   "metadata": {},
   "outputs": [
    {
     "data": {
      "text/plain": [
       "(192, 3)"
      ]
     },
     "execution_count": 56,
     "metadata": {},
     "output_type": "execute_result"
    }
   ],
   "source": [
    "pos.shape"
   ]
  },
  {
   "cell_type": "markdown",
   "metadata": {},
   "source": [
    "### Periodic Boundary conditions and minimum image convention"
   ]
  },
  {
   "cell_type": "code",
   "execution_count": 41,
   "metadata": {},
   "outputs": [],
   "source": [
    "@njit\n",
    "def pbc_wrap(pp, L):\n",
    "    \n",
    "    ''' (a) if pp = (x,y,z) position; wraps it back to box (with origin in the center!) \n",
    "        (b) if pp = (dr_x, dr_y, dr_z) distances; uses nearest image convension'''\n",
    "    \n",
    "    if pp[0] >  L/2:  pp[0] = pp[0] - L     \n",
    "    if pp[0] <= -L/2: pp[0] = pp[0] + L\n",
    "        \n",
    "    if pp[1] >  L/2:  pp[1] = pp[1] - L     \n",
    "    if pp[1] <= -L/2: pp[1] = pp[1] + L\n",
    "    \n",
    "    if pp[2] >  L/2:  pp[2] = pp[2] - L     \n",
    "    if pp[2] <= -L/2: pp[2] = pp[2] + L\n",
    "    \n",
    "    return pp"
   ]
  },
  {
   "cell_type": "markdown",
   "metadata": {},
   "source": [
    "### Computing pairwise distances and energies"
   ]
  },
  {
   "cell_type": "code",
   "execution_count": 42,
   "metadata": {
    "slideshow": {
     "slide_type": "slide"
    }
   },
   "outputs": [],
   "source": [
    "@njit\n",
    "def get_r2(p1, p2, L):\n",
    "    \n",
    "    ''' Compute squared distance between two particles \n",
    "   p1(x,y,z) and p2(x,y,z) while enforcing PBC.'''\n",
    "    \n",
    "    p1, p2 = pbc_wrap(p1, L), pbc_wrap(p2, L)  # position wrap back into box\n",
    "   \n",
    "    dr     = p2 - p1\n",
    "    \n",
    "    dr     = pbc_wrap(dr, L)                   # distance via minimum image \n",
    "    \n",
    "    return dr[0]**2 + dr[1]**2 + dr[2]**2\n",
    "\n",
    "@njit\n",
    "def get_e2(pos_i, pos_j, L, sigma=1, eps=1, trunc=3):\n",
    "    \n",
    "    pair_e  = 0\n",
    "    \n",
    "    dist_sq = get_r2(pos_i, pos_j, L)\n",
    "                \n",
    "    if dist_sq <= trunc**2:\n",
    "                \n",
    "        pair_e += (sigma/dist_sq)**6 - (sigma/dist_sq)**3\n",
    "        \n",
    "    return 4*eps*pair_e"
   ]
  },
  {
   "cell_type": "code",
   "execution_count": 43,
   "metadata": {},
   "outputs": [],
   "source": [
    "@njit\n",
    "def getE_tot(particles, L, trunc):\n",
    "    \n",
    "    '''Compute Total energy \n",
    "    by summing all pairwise interactions'''\n",
    "    \n",
    "    N = len(particles)\n",
    "    energy = 0\n",
    "    \n",
    "    for i in range(0, N-1):\n",
    "        for j in range(i+1, N):\n",
    "            \n",
    "                energy += get_e2(particles[i], particles[j], L)\n",
    "                    \n",
    "    return energy\n",
    "    \n",
    "    \n",
    "@njit\n",
    "def getE_one(particles, L, trunc, j, tag_j):\n",
    "    \n",
    "    '''Compute energy of a tagged particle j \n",
    "    by summing all pairwise interactions with j'''\n",
    "    \n",
    "    N = len(particles)\n",
    "    energy = 0\n",
    "        \n",
    "    for i in range(N):\n",
    "        if i!=j:\n",
    "                \n",
    "            energy += get_e2(particles[i], tag_j, L, trunc)\n",
    "    \n",
    "    return energy"
   ]
  },
  {
   "cell_type": "markdown",
   "metadata": {
    "slideshow": {
     "slide_type": "slide"
    }
   },
   "source": [
    "### MC engine for LJ fluid in 3D (NVT ensemble)\n",
    "Now that the main helper functions are set up we can put together a main Monte Carlo engine that loops through randomly selected particles and attemps their displacement via Metropolis Criterion. "
   ]
  },
  {
   "cell_type": "code",
   "execution_count": 44,
   "metadata": {
    "slideshow": {
     "slide_type": "slide"
    }
   },
   "outputs": [],
   "source": [
    "@njit\n",
    "def doMC_LJ(particles, rho, T, trunc=3, steps=10000, freq=1000):\n",
    "\n",
    "    N      = len(particles)\n",
    "    L      = (N/rho)**(1/3)\n",
    "    \n",
    "    E_tot       = getE_tot(particles, L, trunc) \n",
    "    confs, es   = [particles.copy()], [E_tot]\n",
    "    \n",
    "    # Loop through MC steps\n",
    "    \n",
    "    for step in range(0, steps):\n",
    "        \n",
    "        # Randomly choose some particle i in  \n",
    "        i = randint(N)\n",
    "    \n",
    "        #Position and Energy of particle i\n",
    "        pos_i      = particles[i]\n",
    "        eng_i      = getE_one(particles, L, trunc, i, pos_i)\n",
    "    \n",
    "        #Give particle i a random push delta, from -0.5 to 0.5:\n",
    "        delta_xyz = rand(3)-0.5 \n",
    "        \n",
    "        pos_i_new  = particles[i] + delta_xyz\n",
    "        eng_i_new  = getE_one(particles, L, trunc, i, pos_i_new)\n",
    "        \n",
    "        # Evaluate change in energy\n",
    "        dE = eng_i_new - eng_i\n",
    "\n",
    "        # Metropolis acceptance/rejection conditions\n",
    "        \n",
    "        if  np.exp(-dE/T) > rand():\n",
    "            \n",
    "            particles[i] = pos_i_new\n",
    "            E_tot       += dE\n",
    "            \n",
    "        if step % freq ==0:\n",
    "            \n",
    "            confs.append(particles.copy())\n",
    "            es.append(E_tot)\n",
    "                    \n",
    "    return confs, es "
   ]
  },
  {
   "cell_type": "markdown",
   "metadata": {},
   "source": [
    "### Running MCMC simulation on LJ system"
   ]
  },
  {
   "cell_type": "code",
   "execution_count": 45,
   "metadata": {},
   "outputs": [],
   "source": [
    "%run ./code/mc_lj.py"
   ]
  },
  {
   "cell_type": "code",
   "execution_count": 46,
   "metadata": {},
   "outputs": [],
   "source": [
    "#-------Simulation parameters ----\n",
    "N        = 100      # Try different values\n",
    "T        = 0.85     # Try different values\n",
    "rho      = 1e-3     # We set the density"
   ]
  },
  {
   "cell_type": "code",
   "execution_count": 47,
   "metadata": {
    "slideshow": {
     "slide_type": "slide"
    }
   },
   "outputs": [
    {
     "name": "stdout",
     "output_type": "stream",
     "text": [
      "CPU times: user 1min 18s, sys: 599 ms, total: 1min 18s\n",
      "Wall time: 1min 21s\n"
     ]
    }
   ],
   "source": [
    "particles = initialize(N, rho)\n",
    "\n",
    "%time confs, es = doMC_LJ(particles, rho, T, steps = 1e6,  freq=1000)"
   ]
  },
  {
   "cell_type": "code",
   "execution_count": 287,
   "metadata": {
    "slideshow": {
     "slide_type": "slide"
    }
   },
   "outputs": [],
   "source": [
    "#plt.plot(es[10:])"
   ]
  },
  {
   "cell_type": "code",
   "execution_count": 286,
   "metadata": {
    "slideshow": {
     "slide_type": "slide"
    }
   },
   "outputs": [],
   "source": [
    "i = 900\n",
    "#px.scatter_3d(x=confs[i][:,0], y=confs[i][:,1], z=confs[i][:,2], opacity=0.5)"
   ]
  },
  {
   "cell_type": "markdown",
   "metadata": {
    "slideshow": {
     "slide_type": "slide"
    }
   },
   "source": [
    "### Computing Radial Distribution Function $g(r)$"
   ]
  },
  {
   "cell_type": "code",
   "execution_count": 318,
   "metadata": {},
   "outputs": [],
   "source": [
    "@jit\n",
    "def get_dists(particles, L):\n",
    "    '''Compute all pairwise squared distances'''\n",
    "    \n",
    "    N   = len(particles)\n",
    "    r2 = [] \n",
    "    \n",
    "    for i in range(0,N-1):\n",
    "        for j in range(i+1,N):\n",
    "            \n",
    "            r2.append( get_r2(particles[i],particles[j], L) )\n",
    "\n",
    "    return np.sqrt(r2)"
   ]
  },
  {
   "cell_type": "code",
   "execution_count": 324,
   "metadata": {
    "slideshow": {
     "slide_type": "slide"
    }
   },
   "outputs": [],
   "source": [
    "@jit\n",
    "def comp_g_r(particles, L):\n",
    "    '''Computing radial distirbution function for a single configuration'''\n",
    "    \n",
    "    # Number of particles and density\n",
    "    N   = len(particles)\n",
    "    rho = N/(L**3)\n",
    "    \n",
    "    #Get dists\n",
    "    r_dists = get_dists(particles, L)\n",
    "    \n",
    "    #Histogram distances \n",
    "    histRadii, edges = np.histogram(r_dists, bins=40, range=(0,L/2))\n",
    "    radii = 0.5 *(edges[1:] + edges[:-1])  \n",
    "    \n",
    "    # If we loop over N*N pairs then divide by N \n",
    "    # We have N*(N-1)/2 pairs and divide by (N-1)/2 to have hist for N particles\n",
    "    histRadii = histRadii/(0.5*(N-1))    \n",
    "    \n",
    "    #Compute histogram that would be displayed by an ideal gas of N particles \n",
    "    vol       = (4.0/3.0) * np.pi * (edges[1:]**3 - edges[:-1]**3)\n",
    "    \n",
    "    histIdeal = rho * vol \n",
    "    \n",
    "    gr = histRadii/histIdeal \n",
    "    \n",
    "    return radii, gr"
   ]
  },
  {
   "cell_type": "markdown",
   "metadata": {},
   "source": [
    "### Simulations for computing $g(r)$"
   ]
  },
  {
   "cell_type": "code",
   "execution_count": 320,
   "metadata": {
    "slideshow": {
     "slide_type": "slide"
    }
   },
   "outputs": [
    {
     "name": "stdout",
     "output_type": "stream",
     "text": [
      "CPU times: user 8.26 s, sys: 83.7 ms, total: 8.34 s\n",
      "Wall time: 8.7 s\n"
     ]
    }
   ],
   "source": [
    "# Simulation for computing g_r\n",
    "N     = 100\n",
    "rho   = 0.85\n",
    "T     = 2 \n",
    "steps = 2e5\n",
    "freq  = 200\n",
    "\n",
    "######\n",
    "particles       = initialize(N, rho)\n",
    "%time confs, es = doMC_LJ(particles, L, T, steps, freq)\n",
    "######"
   ]
  },
  {
   "cell_type": "code",
   "execution_count": 321,
   "metadata": {},
   "outputs": [
    {
     "data": {
      "text/plain": [
       "1000"
      ]
     },
     "execution_count": 321,
     "metadata": {},
     "output_type": "execute_result"
    }
   ],
   "source": [
    "n_pt = int(steps/freq)\n",
    "n_pt"
   ]
  },
  {
   "cell_type": "markdown",
   "metadata": {
    "slideshow": {
     "slide_type": "slide"
    }
   },
   "source": [
    "#### Calculate $g(r)$ over trajectory"
   ]
  },
  {
   "cell_type": "code",
   "execution_count": 326,
   "metadata": {
    "slideshow": {
     "slide_type": "slide"
    }
   },
   "outputs": [],
   "source": [
    "gr_t = 0\n",
    "\n",
    "av_wind = n_pt//2\n",
    "\n",
    "for i in range(n_pt-av_wind, n_pt):\n",
    "    \n",
    "    radii, gr = comp_g_r(confs[i],L)\n",
    "    \n",
    "    gr_t += gr/av_wind"
   ]
  },
  {
   "cell_type": "code",
   "execution_count": 327,
   "metadata": {},
   "outputs": [
    {
     "data": {
      "image/png": "[encoded data removed]",
      "text/plain": [
       "<Figure size 432x288 with 1 Axes>"
      ]
     },
     "metadata": {
      "image/png": {
       "height": 248,
       "width": 375
      },
      "needs_background": "light"
     },
     "output_type": "display_data"
    }
   ],
   "source": [
    "plt.plot(radii, gr_t, '-o')\n",
    "plt.grid(True)"
   ]
  }
 ],
 "metadata": {
  "kernelspec": {
   "display_name": "Python 3",
   "language": "python",
   "name": "python3"
  },
  "language_info": {
   "codemirror_mode": {
    "name": "ipython",
    "version": 3
   },
   "file_extension": ".py",
   "mimetype": "text/x-python",
   "name": "python",
   "nbconvert_exporter": "python",
   "pygments_lexer": "ipython3",
   "version": "3.7.4"
  },
  "nteract": {
   "version": "0.22.0"
  },
  "toc": {
   "base_numbering": 1,
   "nav_menu": {},
   "number_sections": true,
   "sideBar": true,
   "skip_h1_title": false,
   "title_cell": "Table of Contents",
   "title_sidebar": "Contents",
   "toc_cell": false,
   "toc_position": {},
   "toc_section_display": true,
   "toc_window_display": false
  }
 },
 "nbformat": 4,
 "nbformat_minor": 2
}
