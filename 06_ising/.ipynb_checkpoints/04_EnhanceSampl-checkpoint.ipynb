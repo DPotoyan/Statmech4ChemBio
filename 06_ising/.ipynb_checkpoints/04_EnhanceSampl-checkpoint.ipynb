{
 "cells": [
  {
   "cell_type": "markdown",
   "metadata": {
    "id": "gGGDFFqvWOgk"
   },
   "source": [
    "# Non-boltzman (enhanced) sampling ideas"
   ]
  },
  {
   "cell_type": "code",
   "execution_count": 10,
   "metadata": {
    "id": "A5xInlgXWOgm"
   },
   "outputs": [],
   "source": [
    "import matplotlib.pyplot as plt\n",
    "import numpy as np\n",
    "import scipy as sp\n",
    "import ipywidgets as widgets\n",
    "\n",
    "from numpy.random import rand, random, randint, choice, normal, uniform \n",
    "\n",
    "from numba import jit, njit\n",
    "import warnings\n",
    "warnings.filterwarnings('ignore')"
   ]
  },
  {
   "cell_type": "markdown",
   "metadata": {
    "id": "eIlr19gdWOgo"
   },
   "source": [
    "Suppse we have a system in NVT ensemble described by energy function $E_{\\nu}$  which makes it hard to sample via straight MCMC. \n",
    "We can introduce a bias in the energy function $E^0_{\\nu}$ with an objective to accelerate the sampling and eliminate the energetic barriers present with the original system.  \n",
    "\n",
    "$$E^0_{\\nu} = E_{\\nu} - \\Delta E$$\n",
    "\n",
    "- $E_{\\nu}$   Energy function of an unbiased system\n",
    "- $E^0_{\\nu}$ Energy function of a biased system.\n",
    "- $\\Delta E_{\\nu}$ bias term. "
   ]
  },
  {
   "cell_type": "markdown",
   "metadata": {
    "id": "AywqjTVXWOgo"
   },
   "source": [
    "#### Boltzman exponent factorization to the rescue!"
   ]
  },
  {
   "cell_type": "markdown",
   "metadata": {
    "id": "nwECHlrCWOgo"
   },
   "source": [
    "$$Z = \\sum_{\\nu} e^{-\\beta E_{\\nu}}  = \\frac{Z_0}{Z_0} \\sum_{\\nu} e^{-\\beta E^0_{\\nu}} e^{-\\beta \\Delta E_{\\nu}} = Z_0 \\langle e^{-\\beta \\Delta E_{\\nu}} \\rangle_0 $$\n",
    "\n",
    "$$\\boxed{\\frac{Z}{Z_0} = e^{-\\beta(F-F_0)} = \\langle e^{-\\beta \\Delta E_{\\nu}} \\rangle_0}$$\n",
    "\n",
    "Where $\\langle ... \\rangle_0$ indicates canonical average with $E^0_{\\nu}$.\n",
    "\n",
    "Any observable of interest can now be expressed in terms of ensemble average conducted with biased energy function $E_0$"
   ]
  },
  {
   "cell_type": "markdown",
   "metadata": {
    "id": "Rs8P7_zfWOgp"
   },
   "source": [
    "$$\\langle G\\rangle = \\frac{1}{Z}\\sum_{\\nu} G_{\\nu}e^{-\\beta E_{\\nu}}  = \\frac{Z_0}{Z} \\langle G_{\\nu} e^{-\\beta \\Delta E_{\\nu}} \\rangle_0 $$"
   ]
  },
  {
   "cell_type": "markdown",
   "metadata": {
    "id": "u0cR-T61WOgp"
   },
   "source": [
    "## Umbrella Sampling"
   ]
  },
  {
   "cell_type": "markdown",
   "metadata": {
    "id": "W2Rn02D0WOgq"
   },
   "source": [
    "$$E_{\\nu} =  E^0_{\\nu}+ W_{\\nu}$$\n",
    "\n",
    "- Where $W_{\\nu} \\approx 0$ in the interesting regions\n",
    "<br><br>\n",
    "- Where $W_{\\nu} \\gg 0$ outside of interesting regions\n",
    "<br><br>\n",
    "- Read more about US in [J Kastner; WIREs Comp Mol Sci (2011)](https://onlinelibrary.wiley.com/doi/full/10.1002/wcms.66?casa_token=KxOXA8oqPO4AAAAA%3AR78Iv0cMhe3NaCNe86T0AnQBJ57euERM3h20FTeSRcM9wOzEHIJq-6FD7J4_kZHg4UZ1RKuGm_OoCPw)\n",
    "\n",
    "![](./figs/umbrella-1.png)"
   ]
  },
  {
   "cell_type": "markdown",
   "metadata": {
    "id": "f4R50Y_vWOgr"
   },
   "source": [
    "### Connection between biased and unbiased simulations:\n",
    "\n",
    "- Free energy as a function of order parameter defined as log of partial sum of parition function\n",
    "\n",
    "$$Z(m) = \\sum_{\\nu}e^{-\\beta E(s_{\\nu})}\\cdot \\delta(M(s_{\\nu})-m)  = e^{-\\beta F(m)}$$\n",
    "\n",
    "- Histogram of order parameter in the simulatons as a ratio of partial and full partition functions\n",
    "\n",
    "$$p(m) = \\frac{Z(m)}{Z} = \\langle \\delta(M(s)-m) \\rangle = e^{-\\beta(F(m)-F)}$$\n",
    "\n",
    "- Free eenergy computed as a histogram of order parameter\n",
    "\n",
    "$$F(m) =  -\\frac{1}{\\beta}log\\, Z(m) = -\\frac{1}{\\beta}log\\, p(m) +const$$"
   ]
  },
  {
   "cell_type": "markdown",
   "metadata": {
    "id": "DlFAsFDVWOgr"
   },
   "source": [
    "### Connection between biased and unbiased simulations\n",
    "\n",
    "$$p_0(m) = \\langle \\delta(M(s)-m) \\rangle_0 =e^{-\\beta w(m)} \\frac{\\sum_{\\nu} \\delta(M(s_{\\nu})-m) e^{-\\beta E_{\\nu}}}{Z_0} =    \\frac{e^{-\\beta w(m)} p(m)}{Z_0/Z}$$\n",
    "\n",
    "$$F(m) = F^0(m) - w(m)+C$$\n",
    "\n",
    "For simulation with multiple windows $w_i$ there is an undetermined constant which is optimized to obtain smooth free energy profile and reduce the statistical noise\n",
    "\n",
    "$$F_i(m) = F_i^0(m) - w_i(m)+C_i$$"
   ]
  },
  {
   "cell_type": "markdown",
   "metadata": {
    "id": "S5on4mzQWOgr"
   },
   "source": [
    "![](./figs/umbrealla-2.png)"
   ]
  },
  {
   "cell_type": "code",
   "execution_count": 3,
   "metadata": {
    "id": "Q5bOctLkWOgs"
   },
   "outputs": [],
   "source": [
    "import numpy as np\n",
    "from numpy.random import choice, rand, randint\n",
    "from numba import jit, njit\n",
    "\n",
    "######## Ising 2D+US ###########\n",
    "\n",
    "@njit\n",
    "def us_mcmc(spins, J, B, T, W, n_steps = 10000, out_freq = 100):\n",
    "    \n",
    "    '''mcmc takes spin configuration and samples with given N,J,B,T \n",
    "    for n_steps outputing results every out_freq'''\n",
    "    \n",
    "    N = len(spins)\n",
    "    confs = [] \n",
    "    Ms    = []\n",
    "    \n",
    "    for step in range(n_steps):\n",
    "        \n",
    "        #Pick random spin\n",
    "        i, j = randint(N), randint(N)\n",
    "\n",
    "        #Change in bulk energy due to spin flip\n",
    "        z            = spins[(i+1)%N, j] + spins[(i-1)%N, j] + spins[i, (j+1)%N] + spins[i, (j-1)%N]\n",
    "        dE_bulk      = 2*spins[i,j]*(J*z + B)\n",
    "        \n",
    "        #Change in magnetizaton coordinate\n",
    "        m_try        = getM(spins)   - (2/N)*spins[i,j] \n",
    "        dE_umb       = U_hard(W, m_try) \n",
    "    \n",
    "        #Compute energy change\n",
    "        dE = dE_bulk + dE_umb \n",
    "        \n",
    "        \n",
    "        #Metropolis condition\n",
    "        if dE <= 0 or np.exp(-dE/T) > rand():\n",
    "            \n",
    "            spins[i,j] *= -1 \n",
    "        \n",
    "\n",
    "        #Store the spin configuration\n",
    "        if step % out_freq == 0:\n",
    "            \n",
    "            confs.append(spins.copy())\n",
    "            Ms.append(getM(spins))\n",
    "    \n",
    "    return confs, np.array(Ms)\n",
    "\n",
    "@jit\n",
    "def initalize(N, mode='ones'):\n",
    "    \n",
    "    if mode =='random':\n",
    "        spins = choice([-1,1],(N,N))\n",
    "        \n",
    "    if mode == 'ones':\n",
    "        spins = np.ones((N,N))\n",
    "        \n",
    "    return spins\n",
    "\n",
    "@jit\n",
    "def U_hard(W, m):\n",
    "    \n",
    "    if min(W) <= m <= max(W): U = 0\n",
    "    else:  U = 1e6\n",
    "        \n",
    "    return U\n",
    "\n",
    "@jit\n",
    "def U_soft(W, m):\n",
    "        \n",
    "    return 0.5*W[1]*(W[0]-m)**2\n",
    "\n",
    "@njit\n",
    "def getM(spins):\n",
    "    \n",
    "    return np.mean(spins)\n",
    "\n",
    "\n",
    "@njit\n",
    "def getE(spins,J,B):    \n",
    "    \n",
    "    N = len(spins)\n",
    "    E = 0\n",
    "    \n",
    "    for i in range(N):\n",
    "        for j in range(N):   \n",
    "            \n",
    "            z = spins[(i+1)%N, j] + spins[(i-1)%N, j] +spins[i,(j+1)%N] +  spins[i,(j-1)%N]\n",
    "            \n",
    "            E += -J*z*spins[i,j]/4 # Since we overcounted interactions 4 times divide by 4.\n",
    "\n",
    "    return E - B*np.sum(spins) #Field contribution added"
   ]
  },
  {
   "cell_type": "code",
   "execution_count": 4,
   "metadata": {
    "id": "L-pbHxJMWOgs",
    "outputId": "1c478b0e-cc05-4b5a-b88a-f1a2b7c7eae5"
   },
   "outputs": [
    {
     "name": "stdout",
     "output_type": "stream",
     "text": [
      "CPU times: user 4.45 s, sys: 16.4 ms, total: 4.47 s\n",
      "Wall time: 4.52 s\n"
     ]
    }
   ],
   "source": [
    "J = 1\n",
    "B = 0\n",
    "T = 2\n",
    "W = (0.9, 1)\n",
    "spins   =  initalize(20, mode='ones')\n",
    "\n",
    "%time configs, Ms = us_mcmc(spins, J, B, T, W , n_steps = 1e7, out_freq = 10000)"
   ]
  },
  {
   "cell_type": "code",
   "execution_count": 5,
   "metadata": {
    "id": "USqHXeGFWOgs",
    "outputId": "dac8e63b-86b1-47f6-93ec-f369d85ccfc1"
   },
   "outputs": [
    {
     "data": {
      "text/plain": [
       "[<matplotlib.lines.Line2D at 0x7f9af8563790>]"
      ]
     },
     "execution_count": 5,
     "metadata": {},
     "output_type": "execute_result"
    },
    {
     "data": {
      "image/png": "[encoded data removed]",
      "text/plain": [
       "<Figure size 432x288 with 1 Axes>"
      ]
     },
     "metadata": {
      "needs_background": "light"
     },
     "output_type": "display_data"
    }
   ],
   "source": [
    "plt.plot(Ms)\n",
    "#plt.hist(Ms)\n",
    "#sns.distplot(Ms[1000:], kde_kws={\"lw\": 3, \"label\": f\"Umb{W}\"}, hist_kws={\"lw\": 1})"
   ]
  },
  {
   "cell_type": "code",
   "execution_count": 12,
   "metadata": {
    "colab": {
     "referenced_widgets": [
      "d19d2bc9b30b47eab705a5d837899da8"
     ]
    },
    "id": "9ow92o6CWOgt",
    "outputId": "8a413674-d171-48bf-b4e0-a86b0fa0d63b"
   },
   "outputs": [
    {
     "data": {
      "image/png": "[encoded data removed]",
      "text/plain": [
       "<Figure size 432x288 with 1 Axes>"
      ]
     },
     "metadata": {
      "needs_background": "light"
     },
     "output_type": "display_data"
    }
   ],
   "source": [
    "@widgets.interact(i=(0,10))\n",
    "def plot_image(i=1):\n",
    "    plt.imshow(configs[i],origin='lower')"
   ]
  },
  {
   "cell_type": "markdown",
   "metadata": {
    "id": "1oTDDLvLWOgt"
   },
   "source": [
    "##  Simulated annealing\n",
    "\n",
    "Monte Carlo technique for the **numerical optimization** of functions\n",
    "\n",
    "1. Original paper: [S. Kirkpatrick, C. D. Gelatt, Jr., M. P. Vecchi, Science 220, 671-680 (1983)](http://science.sciencemag.org/content/220/4598/671.long)\n",
    "\n",
    "2. Remember: it is difficult to find the **global** extremum of a function\n",
    "\n",
    "3. Idea: Monte Carlo search of the function domain"
   ]
  },
  {
   "cell_type": "markdown",
   "metadata": {
    "id": "mHbBVgsPWOgu"
   },
   "source": [
    "### Finding energy minima of any thermal  system $\\leftrightarrow$ finding minimum of any abstract function\n",
    "\n",
    "- Introduce (artificial) temperature parameter $T$\n",
    "- Metropolis algorithm with acceptance probability min$(1, e^{-\\Delta f/T})$\n",
    "- Here $f$ can be any function we want to minimize (not only energy)\n",
    "- For maximum simply change the sign: min$(1, e^{+\\Delta f/T})$\n",
    "- Slowly reduce the temperature"
   ]
  },
  {
   "cell_type": "markdown",
   "metadata": {
    "id": "hF2W680rWOgu"
   },
   "source": [
    "### \"Slow cooling\" is the main idea of simulated annealing\n",
    "\n",
    "very high $T$                                |   very low $T$\n",
    "---------------------------------------------|------------------------------------\n",
    "almost all updates are accepted              | only updates that decrease the energy are accepted\n",
    "random configurations/explore entire space   | descend towards minimum \n",
    "high energy                                  | low energy but might get stuck in local minimum\n",
    "  \n",
    "- if we slowly cool from high $T$ to low $T$ we will explore the entire space until we converge to the (hopefully) global minimum\n",
    "- success is not guaranteed, but the methods works very well with good cooling schemes\n",
    "\n",
    "- Inspiration: annealing in metallurgy. \n",
    "\n",
    "- This is a great method to tackle **NP-hard** optimization problems, such as the traveling salesman!"
   ]
  },
  {
   "cell_type": "markdown",
   "metadata": {
    "id": "tlndA48LWOgu"
   },
   "source": [
    "### Cooling schedules\n",
    "\n",
    "- slow cooling is essential: otherwise the system will \"freeze\" into a local minimum\n",
    "- but too slow cooling is inefficient...\n",
    "- initial temperature should be high enough so that the system is essentially random and equilibrates quickly\n",
    "- final temperature should be small enough so that we are essentially in the ground state (system no longer changes)\n",
    "- exponential **cooling schedule** is commonly used\n",
    "\n",
    "  $$\\boxed{T(t)=T_0e^{-t/\\tau}}$$\n",
    "  \n",
    "  where $t$ is the Monte Carlo time and the constant $\\tau$ needs to be determined (usually empirically)\n",
    "  \n",
    "- alternative cooling schedules:\n",
    "\n",
    "  linear: $T(t)=T_0 - t/\\tau$ (also widely used)\n",
    "  \n",
    "  logarithmic: $T(t) = c/\\log(1+t/\\tau)$"
   ]
  },
  {
   "cell_type": "markdown",
   "metadata": {
    "id": "eEmS9pzZWOgx"
   },
   "source": [
    "### **Example:** find global minimum of the function via simulated annealing: $f(x) = x^2 -\\cos (4\\pi x)$"
   ]
  },
  {
   "cell_type": "code",
   "execution_count": 13,
   "metadata": {
    "id": "_V-J6fJGWOgx",
    "outputId": "e16d477f-ffb0-4355-e1e7-cadec94b216d"
   },
   "outputs": [
    {
     "data": {
      "image/png": "[encoded data removed]",
      "text/plain": [
       "<Figure size 432x288 with 1 Axes>"
      ]
     },
     "metadata": {
      "needs_background": "light"
     },
     "output_type": "display_data"
    }
   ],
   "source": [
    "f = lambda x: x*x - np.cos(4*np.pi*x) \n",
    "xvals = np.arange(-3,3,0.01)\n",
    "\n",
    "plt.plot(xvals, f(xvals),lw=3)\n",
    "\n",
    "plt.xlabel(\"$x$\",fontsize=20)\n",
    "plt.ylabel(\"$f(x)$\",fontsize=20)\n",
    "plt.grid(True)"
   ]
  },
  {
   "cell_type": "markdown",
   "metadata": {
    "id": "yUxXkT6aWOgz"
   },
   "source": [
    "#### Search for global minima of $f(x)$ using simulated annealing"
   ]
  },
  {
   "cell_type": "code",
   "execution_count": 14,
   "metadata": {
    "id": "mxNEGpS2WOg0"
   },
   "outputs": [],
   "source": [
    "def MCupdate(T, x, mean, sigma):\n",
    "    \n",
    "    '''Making a new move by incremening a normal distributed step\n",
    "    We are exploring function diffusivefly, e.g doing random walk!\n",
    "    T: temp\n",
    "    mean, sigma: parameters of random walk\n",
    "    '''\n",
    "    \n",
    "    xnew = x + normal(mean, sigma)\n",
    "    \n",
    "    delta_f = f(xnew) - f(x)\n",
    "    \n",
    "   \n",
    "    if delta_f < 0 or np.exp(-delta_f/T) > rand():\n",
    "        \n",
    "        x = xnew\n",
    "        \n",
    "    return x\n",
    "\n",
    "\n",
    "def cool(T, cool_t):\n",
    "    \n",
    "    '''Function for educing T after every MC step. \n",
    "    \n",
    "    cool_t: cooling time tau for exponential schedule \n",
    "    Alternatively we could reduce every N steps.'''\n",
    "    \n",
    "    return T*np.exp(-1/cool_t)"
   ]
  },
  {
   "cell_type": "code",
   "execution_count": 15,
   "metadata": {
    "id": "r6NyHdZhWOg0"
   },
   "outputs": [],
   "source": [
    "def sim_anneal(T=10, T_min=1e-4, cool_t=1e4, x=2, mean=0, sigma=1):\n",
    "    \n",
    "    '''Simulated annealing search for min of function:\n",
    "    \n",
    "    T=T0:        starting temperature\n",
    "    T_min:       minimal temp reaching which sim should stop\n",
    "    cool_t:      colling pace/time\n",
    "    x=x0:        starting position \n",
    "    mean, sigma: parameters for diffusive exploration of x'''\n",
    "    \n",
    "    xlog   = []\n",
    "\n",
    "    while T > T_min:\n",
    "    \n",
    "        x = MCupdate(T, x, mean, sigma)\n",
    "    \n",
    "        T = cool(T, cool_t)\n",
    "   \n",
    "        xlog.append(x)\n",
    "    \n",
    "    return xlog"
   ]
  },
  {
   "cell_type": "code",
   "execution_count": 16,
   "metadata": {
    "id": "5C3ZNl2gWOg1",
    "outputId": "29127d8a-8fe4-4444-8412-7d3e9a856ad6"
   },
   "outputs": [
    {
     "name": "stdout",
     "output_type": "stream",
     "text": [
      "Final search result for the global minimum:  0.0009684624359549982\n"
     ]
    },
    {
     "data": {
      "image/png": "[encoded data removed]",
      "text/plain": [
       "<Figure size 432x288 with 1 Axes>"
      ]
     },
     "metadata": {
      "needs_background": "light"
     },
     "output_type": "display_data"
    }
   ],
   "source": [
    "xlog = sim_anneal()\n",
    "\n",
    "plt.plot(xlog)\n",
    "\n",
    "plt.xlabel('MC time')\n",
    "plt.ylabel('x')\n",
    "print('Final search result for the global minimum: ', xlog[-1])"
   ]
  },
  {
   "cell_type": "code",
   "execution_count": 17,
   "metadata": {
    "colab": {
     "referenced_widgets": [
      "dc202669dbf64910a2cba0ea3489cee7"
     ]
    },
    "id": "AvrXJ95uWOg1",
    "outputId": "1ec5ef18-50cb-459b-d447-f2c13e955cea"
   },
   "outputs": [
    {
     "data": {
      "image/png": "[encoded data removed]",
      "text/plain": [
       "<Figure size 432x288 with 1 Axes>"
      ]
     },
     "metadata": {
      "needs_background": "light"
     },
     "output_type": "display_data"
    }
   ],
   "source": [
    "@widgets.interact(t_sim=(1,100))\n",
    "def viz_anneal(t_sim=1):\n",
    "    \n",
    "    T           = 4\n",
    "    x           = 2\n",
    "    cool_t      = 1e4\n",
    "    mean, sigma = 0, 1\n",
    "    \n",
    "    plt.plot(xvals, f(xvals),lw=3, color='green')\n",
    "    \n",
    "    for t in range(t_sim):\n",
    "        \n",
    "        x = MCupdate(T, x, mean=0, sigma=1)\n",
    "    \n",
    "        T = cool(T, cool_t)\n",
    "    \n",
    "    plt.plot(x, f(x),'o',color='red',ms=20,alpha=0.5)\n",
    "    plt.ylim(-1,8)\n",
    "    plt.xlim(-3,3)\n",
    "    plt.grid(True)\n",
    "    plt.xlabel('$x$',fontsize=20)\n",
    "    plt.ylabel('$f(x)$',fontsize=20)"
   ]
  },
  {
   "cell_type": "markdown",
   "metadata": {
    "id": "XwledVACWOg1"
   },
   "source": [
    "#### Lessons learened In this example: for finding minimum of a continuous function\n",
    "\n",
    "- always slightly above true minimum if $T>0$\n",
    "\n",
    "- best combined with a steepest descent method"
   ]
  },
  {
   "cell_type": "markdown",
   "metadata": {
    "id": "BgsNWzqLWOg2"
   },
   "source": [
    "### Simulated annealing applied to MCMC sampling of 2D Ising model"
   ]
  },
  {
   "cell_type": "code",
   "execution_count": 18,
   "metadata": {
    "id": "L8Rnwwm5WOg2"
   },
   "outputs": [],
   "source": [
    "temperature = 10.0    # initial temperature\n",
    "tempmin = 1e-4        # minimal temperature (stop annealing when this is reached)\n",
    "cooltime = 1e4        # cooling time tau for exponential schedule\n",
    "\n",
    "# how long it will take to cool to minimal temperature in MC steps\n",
    "MCtime = -cooltime*np.log(tempmin/temperature)\n",
    "\n",
    "# after every MC step we reduce the temperature\n",
    "def cool(temperature):\n",
    "    \n",
    "    return temperature*np.exp(-1/cooltime)"
   ]
  },
  {
   "cell_type": "markdown",
   "metadata": {
    "id": "H1vw33EPWOg2"
   },
   "source": [
    "### Parallel tempering\n",
    "\n",
    "1. **Simulated annealing is not guaranteed to find the global extremum**\n",
    "    - Unless you cool infinitely slowly. \n",
    "    - Usually need to repeat search multiple times using independent simulations.\n",
    "<br><br>\n",
    "\n",
    "2. **Automating and generalizing sim annealing: parallel tempering (aka Replica Exchange MCMC)**\n",
    "\n",
    "    - Simulate several copies of the system in parallel\n",
    "    - Each copy is at a different constant temperature $T$\n",
    "    - Usual Metropolis updates for each copy\n",
    "    - Every certain number of steps attempt to exchange copies at neighboring temperatures\n",
    "    - Exchange acceptance probability is min(1, $e^{-\\Delta f\\Delta\\beta}$)\n",
    "    - If temperature difference small enough, the energy histograms of the copies will overlap and exhcanges will happen often. \n",
    "<br><br>\n",
    "\n",
    "3. **Advantages of replica exchange:**\n",
    "\n",
    "    - Exchanges allow to explore different extrema\n",
    "    - More successful for complex functions/energy landscapes. Random walk in temperature space!\n",
    "    - Detailed balance is maintained! (regular simulated annealing breaks detailed balance)"
   ]
  },
  {
   "cell_type": "markdown",
   "metadata": {
    "id": "jJeKJYbEWOg2"
   },
   "source": [
    "### How to choose Temperature distributions for replica exchange MCMC\n",
    "\n",
    "- A dense temperature grid increases the exchange acceptance rates\n",
    "- But dense T grid takes longer to simulate and more steps are needed to move from one temperature to another\n",
    "- There are many options, often trial and error is needed\n",
    "     - exchange acceptance probability should be between about 20% and 80%\n",
    "     - exchange acceptance probability should be approximately temperature-independent\n",
    "     - commonly used: geometric progression for $N$ temperatures $T_n$ between and including $T_{\\rm min}$ and $T_{\\rm max}$ (ensures more steps around $T_{\\rm min}$)\n",
    "     \n",
    "       $$T_n = T_{\\rm min}\\left(\\frac{T_{\\rm max}}{T_{\\rm min}}\\right)^{\\frac{n-1}{N-1}}$$\n",
    "       \n",
    "       \n",
    "       \n",
    "- make sure to spend enough time before swapping to achieve equilibrium!"
   ]
  },
  {
   "cell_type": "markdown",
   "metadata": {
    "id": "1bqatuPIWOg3"
   },
   "source": [
    "### parallel tempering simulation"
   ]
  },
  {
   "cell_type": "code",
   "execution_count": 34,
   "metadata": {
    "id": "rxN14xRfWOg3"
   },
   "outputs": [],
   "source": [
    "\n",
    "\n",
    "######## Ising 2D+US ###########\n",
    "\n",
    "@njit\n",
    "def mcmc(spins, N, J, B, T, n_steps = 10000, out_freq = 1000):\n",
    "    \n",
    "    '''mcmc takes spin configuration and samples with given N,J,B,T \n",
    "    for n_steps outputing results every out_freq'''\n",
    "\n",
    "    confs = [] \n",
    "    \n",
    "    for step in range(n_steps):\n",
    "\n",
    "        #Pick random spin\n",
    "        i, j = randint(N), randint(N)\n",
    "\n",
    "        #Compute energy change\n",
    "        z  = spins[(i+1)%N, j] + spins[(i-1)%N, j] + spins[i, (j+1)%N] + spins[i, (j-1)%N]\n",
    "        dE = 2*spins[i,j]*(J*z + B)\n",
    "\n",
    "        #Metropolis condition\n",
    "        if dE <= 0 or np.exp(-dE/T) > rand():\n",
    "            \n",
    "            spins[i,j] *= -1 \n",
    "\n",
    "        #Store the spin configuration\n",
    "        if step % out_freq == 0:\n",
    "            \n",
    "            confs.append(spins.copy())\n",
    "        \n",
    "    return confs\n",
    "\n",
    "@njit\n",
    "def getM(spins):\n",
    "    \n",
    "    return np.mean(spins)\n",
    "\n",
    "\n",
    "@njit\n",
    "def getE(spins,N,J,B):    \n",
    "    \n",
    "    E = 0\n",
    "    \n",
    "    for i in range(N):\n",
    "        for j in range(N):   \n",
    "            \n",
    "            z = spins[(i+1)%N, j] + spins[(i-1)%N, j] +spins[i,(j+1)%N] +  spins[i,(j-1)%N]\n",
    "            \n",
    "            E += -J*z*spins[i,j]/4 # Since we overcounted interactions 4 times divide by 4.\n",
    "\n",
    "    return E - B*np.sum(spins) #Field contribution added\n",
    "\n",
    "@jit\n",
    "def temper(configs, N_repl):\n",
    "    \n",
    "    '''Randomly pick two adjacent replicas and attempt an exchange'''\n",
    "    \n",
    "    i       = np.random.randint(N_repl-1)\n",
    "    j       = i+1\n",
    "    \n",
    "    deltaBeta      = 1/T[i] - 1/T[j]\n",
    "    \n",
    "    deltaEnergy    = getE(configs[i][-1],N,J,B) - getE(configs[j][-1],N,J,B)\n",
    "    \n",
    "    if deltaBeta*deltaEnergy < 0 or np.exp(-deltaBeta*deltaEnergy) > rand():\n",
    "        \n",
    "        configs[i][-1], configs[j][-1] = configs[j][-1], configs[i][-1]\n",
    "        \n",
    "    return configs\n",
    "\n",
    "@jit\n",
    "def pt_mcmc(N, J, B, T=[1, 0.1], n_exch=1000, n_steps=10000, out_freq=1000):\n",
    "    \n",
    "    N_repl     = len(T)\n",
    "    configs    = [[choice([-1,1], (N,N))] for i in range(N_repl)]\n",
    "    \n",
    "    \n",
    "    for exch_attempt in range(n_exch): #Exchange attemps\n",
    "    \n",
    "        configs = temper(configs, N_repl)\n",
    "    \n",
    "        for i in range(N_repl): #mcmc in between exchange attemps\n",
    "    \n",
    "            configs_new = mcmc(configs[i][-1],N, J, B, T[i])\n",
    "    \n",
    "            configs[i].extend(configs_new)\n",
    "        \n",
    "    return configs"
   ]
  },
  {
   "cell_type": "code",
   "execution_count": 35,
   "metadata": {
    "id": "jILvywobWOg4"
   },
   "outputs": [],
   "source": [
    "N = 20       # size of lattice in each direction\n",
    "J = 1       # interaction parameter\n",
    "B = 0       # magnetic field\n",
    "\n",
    "T=[5.0, 0.01, 0.0008, 0.0007, 0.00016, 0.00010]\n",
    "\n",
    "n_exch = 1000\n",
    "n_steps=10000\n",
    "out_freq=100\n",
    "\n",
    "configs = pt_mcmc(N, J, B, T, n_exch, n_steps, out_freq)"
   ]
  },
  {
   "cell_type": "code",
   "execution_count": 36,
   "metadata": {
    "id": "McybCJGtWOg4",
    "outputId": "4fd425d7-789b-4933-9b08-1c15eed51793"
   },
   "outputs": [
    {
     "data": {
      "text/plain": [
       "[<matplotlib.lines.Line2D at 0x7f9af87546d0>]"
      ]
     },
     "execution_count": 36,
     "metadata": {},
     "output_type": "execute_result"
    },
    {
     "data": {
      "image/png": "[encoded data removed]",
      "text/plain": [
       "<Figure size 432x288 with 1 Axes>"
      ]
     },
     "metadata": {
      "needs_background": "light"
     },
     "output_type": "display_data"
    }
   ],
   "source": [
    "E1 = [getE(spins,N,J,B) for spins in configs[1]]\n",
    "\n",
    "plt.plot(E1)"
   ]
  },
  {
   "cell_type": "code",
   "execution_count": 37,
   "metadata": {
    "colab": {
     "referenced_widgets": [
      "f0bf945e46794fa98903d17eb18e03ba"
     ]
    },
    "id": "SqYYLhyYWOg4",
    "outputId": "188d6055-d53e-4382-9eb9-ccc60a205fb3"
   },
   "outputs": [
    {
     "data": {
      "image/png": "[encoded data removed]",
      "text/plain": [
       "<Figure size 576x576 with 1 Axes>"
      ]
     },
     "metadata": {
      "needs_background": "light"
     },
     "output_type": "display_data"
    }
   ],
   "source": [
    "@widgets.interact(i=(0,999))\n",
    "def plot_image(i=1):\n",
    "    \n",
    "    fig,ax = plt.subplots(figsize=(8,8))\n",
    "    ax.imshow(configs[0][i])"
   ]
  },
  {
   "cell_type": "markdown",
   "metadata": {
    "id": "fmOoWJXOWOg4"
   },
   "source": [
    "### Problems\n",
    "\n",
    "1. **Umbrella Sampliing**\n",
    "\n",
    "    - Use umbrealla sampling to obtain free energy profile as a function of magnetization below $T_c$ at $T_c$ and above $T_c$. E.g $T=2, 2.5, 3$ Consider using the inputs from adjecent umbrella simulations. E.g input for umbrella 4 can come from umbrella 3 to speed up simulations.\n",
    "\n",
    "2. **Simulated Annealing**\n",
    "\n",
    "    - Complete the simulated annealing part of the code for finding minimum energy in Ising models. Test your code with field on and off. \n",
    "\n",
    "3. **Parallel Tempering**\n",
    "\n",
    "    - Use parallell tempering to enhanced sampling at $T =1$ by coupling 8 replicas with $T>1$. Find the optimal T spacing between replicas, Calculate histograms of magnetization to show enhancment of sampling with repsect to constant T MCMC. "
   ]
  }
 ],
 "metadata": {
  "celltoolbar": "Slideshow",
  "colab": {
   "name": "04_EnhanceSampl.ipynb",
   "provenance": []
  },
  "kernelspec": {
   "display_name": "Python 3",
   "language": "python",
   "name": "python3"
  },
  "language_info": {
   "codemirror_mode": {
    "name": "ipython",
    "version": 3
   },
   "file_extension": ".py",
   "mimetype": "text/x-python",
   "name": "python",
   "nbconvert_exporter": "python",
   "pygments_lexer": "ipython3",
   "version": "3.8.5"
  },
  "toc": {
   "base_numbering": 1,
   "nav_menu": {},
   "number_sections": true,
   "sideBar": true,
   "skip_h1_title": false,
   "title_cell": "Table of Contents",
   "title_sidebar": "Contents",
   "toc_cell": false,
   "toc_position": {},
   "toc_section_display": true,
   "toc_window_display": false
  }
 },
 "nbformat": 4,
 "nbformat_minor": 4
}
