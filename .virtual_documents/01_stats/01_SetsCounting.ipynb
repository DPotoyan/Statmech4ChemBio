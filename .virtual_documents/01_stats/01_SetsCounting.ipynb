get_ipython().run_line_magic("matplotlib", " inline")

import numpy as np    
import scipy as sp

import matplotlib.pyplot as plt
import ipywidgets as widgets


# For this lecture we will use venn visualization module for matplotlib. Needs to be installed separately via conda or pip
get_ipython().getoutput("pip install matplotlib-venn")


import matplotlib_venn as venn


def probability(S={1,2}, E={1}):
    '''
    Simple function to calculate probability of die rolls
    Return the probability of an event given the event measure and the sample size measure
    '''
    
    return len(E)/len(S)


S={1,2,3,4,5,6,7,8,9,10}
E= {1} 
probability(S,E)


S={1,2,3,4,5,6,7,8,9,10}
E= {1,4,5} 
probability(S,E)


S = {-1, 0, 1, 2, 3,4,5,7, 20,90}

A = {1, 2, 3,4,5}

B = {0, 2, -1, 5,7}

C = {20,90}

D = {100}

venn.venn3([A, B, C], set_labels=('A','B', 'C'))


print("n(S) = ", len(S))
print("n(A) = ", len(A))
print("n(B) = ", len(B))
print("n(C) = ", len(C))
print("n(D) = ", len(C))


print("𝐴∩𝐵 = ", A&B)
print("𝐴∩C = ", A&C)        # & = intersection
print("𝐴∩D = ", A&D)
print("𝐴∩S = ", A&S)
print("𝐴∪B = ", A|B)
print("𝐴∪C = ", A|C)       # | = union
print("𝐴∪B∪C = ", A|B|C, " = S")
print("𝐴-C = ", A-C)       
print("𝐴-B = ", A-B)          


print("A^c = ", len(S-A))
print("B^c = ", len(S-B))
print("(𝐴∪𝐵)^c = ", len(S-(𝐴|𝐵)))
print("𝐴^c ∩ B^c = ", len((S-A)&(S-B)))


from scipy.special import factorial

def gas_partition(k1=50, k2=50, k3=0, N=100):

    return factorial(N) / (2**N * factorial(k1) * factorial(k2)** factorial(k3))

print(gas_partition(50,50))
print(gas_partition(55,45))


n_S = factorial(100) / (factorial(10) * factorial(90))

n_up = factorial(90) / (factorial(10) * factorial(80))

print(n_up/n_S)


from itertools import permutations

for p in permutations('ABCD', 2):
    print(p) # print("".join(p))


from itertools import combinations

for p in combinations('ABCD', 2):
    print(p)


from itertools import combinations_with_replacement

for p in combinations_with_replacement('ABCD', 2):
    print(p)
