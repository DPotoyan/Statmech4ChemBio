{
 "cells": [
  {
   "cell_type": "markdown",
   "metadata": {
    "id": "YXq9bgu-a5Mu"
   },
   "source": [
    "## MC simulations of fluids"
   ]
  },
  {
   "cell_type": "markdown",
   "metadata": {},
   "source": [
    ":::{admonition} **What we will learn**\n",
    "\n",
    "- **Monte Carlo sampling**: Random sampling of configurations with correct Boltzmann probability.\n",
    "- **Minimum image convention**: Essential for periodic boundary conditions.\n",
    "- **Statistical ensemble is implemented via Metropolis conditions**: Simulating canonical ensemble (constant $NVT$) by accepting or rejecting moves via comparions of Botlzman weights\n",
    "- **Structural characterization**: Compute $g(r)$ to understand spatial correlations.\n",
    "\n",
    ":::"
   ]
  },
  {
   "cell_type": "markdown",
   "metadata": {
    "id": "JeKTIa6Xa5M0"
   },
   "source": [
    "## LJ model of a simple fluids, noble gases"
   ]
  },
  {
   "cell_type": "markdown",
   "metadata": {
    "id": "qUqnxqlVa5M0"
   },
   "source": [
    "\n",
    "**Check out reference values of [LJ fluid properties tabulated by NIST](https://www.nist.gov/mml/csd/chemical-informatics-research-group/lennard-jones-fluid-properties)**\n",
    "\n"
   ]
  },
  {
   "cell_type": "markdown",
   "metadata": {},
   "source": [
    "\n",
    "### Monte Carlo Simulation of a Lennard-Jones Fluid\n",
    "\n",
    "\n",
    "- This simulation models a **Lennard-Jones fluid** using the **Metropolis Monte Carlo (MC)** algorithm in **canonical ensemble** (constant $NVT$).\n",
    "\n",
    "- Particles are placed in a **periodic cubic box** and random moves are proposed and accepted or rejected based on the **Boltzmann probability**.\n",
    "\n",
    "- This simulation is organized into a **clean object-oriented structure** where:\n",
    "  - The system state (positions, box size, temperature) is handled inside a **`LJ_MC_System`** class.\n",
    "  - The simulation tracks **total energy** and **pair correlation function** $ g(r) $ over time.\n",
    "\n",
    "\n",
    "### Lennard-Jones (LJ) Potential\n",
    "\n",
    "Each pair of particles interacts through the LJ potential:\n",
    "\n",
    "$$\n",
    "V(r) = 4 \\left( \\frac{1}{r^{12}} - \\frac{1}{r^6} \\right)\n",
    "$$\n",
    "\n",
    "where:\n",
    "- $r$ is the distance between two particles.\n",
    "- The potential captures **short-range repulsion** and **long-range attraction** typical of simple fluids.\n",
    "\n",
    "A **cutoff distance** $r_c$ is used to make calculations more efficient.\n",
    "\n",
    "\n",
    "\n",
    "### Metropolis Monte Carlo Algorithm\n",
    "\n",
    "At each step:\n",
    "1. Randomly pick a particle.\n",
    "2. Propose a random displacement.\n",
    "3. Compute the change in energy $\\Delta E$.\n",
    "4. Accept or reject the move based on the Metropolis criterion:\n",
    "\n",
    "$$\n",
    "P_{\\text{accept}} = \\min\\left(1, e^{-\\beta \\Delta E}\\right)\n",
    "$$\n",
    "\n",
    "\n",
    "- If the move is rejected, the particle returns to its previous position."
   ]
  },
  {
   "cell_type": "markdown",
   "metadata": {
    "id": "GNNI5lnLa5M2"
   },
   "source": [
    "### [Periodic Boundary conditions and minimum image criterion](https://en.wikipedia.org/wiki/Periodic_boundary_conditions)"
   ]
  },
  {
   "cell_type": "markdown",
   "metadata": {},
   "source": [
    "- If a particle leaves the box, it re-enters at the opposite side.\n",
    "- What should be the distance between partiles? There is some mbiguity because distance between atoms may now include crossing the system boundary and re-entering. This is identical to introducing copies of the particles around the simulation box. We adopt **minimum image convention** by choosing the shortest distance possible\n",
    "\n",
    "![](./pbc_fig1.gif)"
   ]
  },
  {
   "cell_type": "markdown",
   "metadata": {},
   "source": [
    "\n",
    ":::{figure-md} \n",
    "\n",
    "<img src=\"./figs/pbc1.png\" class=\"bg-primary\" width=\"400px\">  \n",
    "\n",
    "Perioidc Boundary Conditions\n",
    "::: "
   ]
  },
  {
   "cell_type": "markdown",
   "metadata": {},
   "source": [
    "\n",
    "\n",
    ":::{figure-md} \n",
    "\n",
    "<img src=\"./figs/pbc2.png\" class=\"bg-primary\" width=\"400px\">  \n",
    "\n",
    "Minimum Image Convention showing that we only track particles with clsoest distance. \n",
    "::: \n",
    "\n",
    "\n"
   ]
  },
  {
   "cell_type": "code",
   "execution_count": null,
   "metadata": {
    "id": "s4cUmrZRa5M3"
   },
   "outputs": [],
   "source": [
    "def pbc_basic(x, L):\n",
    "  '''Wrap a single components into [-L/2, L/2) assuming box centered at origin'''\n",
    "    \n",
    "  if   x >=  L/2: x -= L  \n",
    "\n",
    "  elif x <= -L/2: x += L\n",
    "\n",
    "  return x\n",
    "\n",
    "\n",
    "@njit\n",
    "def pbc_wrap(r_vec, L):\n",
    "    \"\"\"\n",
    "    Wrap all vector components into [-L/2, L/2) assuming box centered at origin.\n",
    "    \"\"\"\n",
    "    \n",
    "    return (r_vec + L/2) % L - L/2"
   ]
  },
  {
   "cell_type": "markdown",
   "metadata": {},
   "source": [
    "### Lennar Jones potential"
   ]
  },
  {
   "cell_type": "code",
   "execution_count": null,
   "metadata": {},
   "outputs": [],
   "source": [
    "import numpy as np\n",
    "import matplotlib.pyplot as plt\n",
    "import ipywidgets as widgets\n",
    "\n",
    "@widgets.interact(sig=(1,2, 0.1),eps=(0.1,3))\n",
    "def plot_lj(sig=1, eps=1):\n",
    "    \n",
    "    r  = np.linspace(0.5, 3, 1000)\n",
    "    lj = 4 * eps *  ( (sig/r)**12 -(sig/r)**6 )\n",
    "    \n",
    "    plt.plot(r, lj, lw=3)\n",
    "    plt.plot(r, -4*eps*(sig/r)**6, '-',lw=3)\n",
    "    plt.plot(r,  4*eps*(sig/r)**12,'-',lw=3)\n",
    "\n",
    "    plt.ylim([-3,3])\n",
    "    plt.xlabel(r'$r$')\n",
    "    plt.ylabel(r'$U(r)$')\n",
    "    plt.legend(['LJ', 'Attr-LJ','Repuls-LJ' ])\n",
    "    plt.show()"
   ]
  },
  {
   "cell_type": "markdown",
   "metadata": {},
   "source": [
    "### Code Structure\n",
    "\n",
    "The simulation is organized into a **single class**: `LJ_MC_System`.\n",
    "\n",
    "Each function of the class has a clear role:\n",
    "\n",
    "\n",
    "#### 1. `__init__(self, rho=0.88, N_cell=3, T=1.0, rcut=2.5)`\n",
    "\n",
    "**Purpose**: Initialize the system.\n",
    "\n",
    "- Set up the **system parameters**:\n",
    "  - Number of particles $N$, box length $L$, temperature $T$.\n",
    "- Arrange particles initially in a **face-centered cubic (FCC)** lattice to avoid overlaps.\n",
    "- Initialize **pair indices** for efficient distance calculations.\n",
    "- Store parameters like **cutoff distance** $r_c$ and **inverse temperature** $\\beta$.\n",
    "\n",
    "\n",
    "#### 2. `minimum_image(rij, L)`\n",
    "\n",
    "**Purpose**:  \n",
    "Apply the **minimum image convention** to correctly compute distances across periodic boundaries.\n",
    "\n",
    "Formula:\n",
    "\n",
    "$$\n",
    "\\mathbf{r}_{ij} = \\mathbf{r}_{ij} - L \\times \\text{round}(\\mathbf{r}_{ij}/L)\n",
    "$$\n",
    "\n",
    "\n",
    "\n",
    "#### 3. `particle_energy(idx)`\n",
    "\n",
    "**Purpose**:  \n",
    "\n",
    "Compute the **interaction energy** between a single particle and all others.\n",
    "\n",
    "- Needed to evaluate the energy change $\\Delta E$ during a move.\n",
    "- Excludes self-interactions.\n",
    "- Only includes pairs within cutoff radius $r_c$.\n",
    "\n",
    "\n",
    "#### 4. `total_energy()`\n",
    "\n",
    "**Purpose**:  \n",
    "Compute the **total potential energy** of the entire system.\n",
    "\n",
    "- Loops over all unique particle pairs.\n",
    "- Applies the Lennard-Jones potential with cutoff.\n",
    "\n",
    "\n",
    "#### 5. `mc_move(max_disp=0.1)`\n",
    "\n",
    "**Purpose**:  \n",
    "\n",
    "Perform a **single Metropolis MC move**:\n",
    "\n",
    "- Randomly choose a particle.\n",
    "- Propose a random displacement up to `max_disp`.\n",
    "- Accept or reject the move based on the energy difference and Metropolis criterion.\n",
    "\n",
    "\n",
    "#### 6. `sample()`\n",
    "\n",
    "**Purpose**:  \n",
    "Compute a **histogram** of pair distances.\n",
    "\n",
    "- Used for calculating the **pair correlation function** $g(r)$.\n",
    "- Histograms the distance between all unique particle pairs.\n",
    "\n",
    "\n",
    "#### 7. `simulate(nsteps=50000, freq_out=500)`\n",
    "\n",
    "**Purpose**:  \n",
    "Run the full **Monte Carlo simulation loop**.\n",
    "\n",
    "- Repeat `mc_move()` for `nsteps` steps.\n",
    "- Every `freq_out` steps:\n",
    "  - Record the total energy.\n",
    "  - Sample the pair distance histogram.\n",
    "- Return arrays of recorded energies and histograms."
   ]
  },
  {
   "cell_type": "markdown",
   "metadata": {
    "id": "a-AX1urwa5M4"
   },
   "source": [
    "### MC engine for LJ fluid in 3D (NVT ensemble)"
   ]
  },
  {
   "cell_type": "code",
   "execution_count": null,
   "metadata": {
    "id": "C-4M9E5ba5M5"
   },
   "outputs": [],
   "source": [
    "import numpy as np\n",
    "import matplotlib.pyplot as plt\n",
    "from numba import njit\n",
    "\n",
    "class LJ_MC_System:\n",
    "    def __init__(self, rho=0.88, N_cell=3, T=1.0, rcut=2.5):\n",
    "        # System parameters\n",
    "        self.N = 4 * N_cell**3\n",
    "        self.rho = rho\n",
    "        self.L = (self.N / rho)**(1/3)\n",
    "        self.T = T\n",
    "        self.beta = 1.0 / T\n",
    "        self.rcut = rcut\n",
    "        self.rcut_sq = rcut**2\n",
    "\n",
    "        # Create FCC lattice positions\n",
    "        base = np.array([[0, 0, 0], [0.5, 0.5, 0], [0.5, 0, 0.5], [0, 0.5, 0.5]])\n",
    "        pos = np.array([b + [i, j, k] for i in range(N_cell) for j in range(N_cell) for k in range(N_cell) for b in base])\n",
    "        self.pos = pos * (self.L / N_cell)\n",
    "\n",
    "        # Pair indices\n",
    "        self.I, self.J = np.triu_indices(self.N, k=1)\n",
    "\n",
    "    def minimum_image(self, r_vec):\n",
    "        return (r_vec + self.L/2) % self.L - self.L/2\n",
    "\n",
    "    def total_energy(self):\n",
    "        r_vec = self.minimum_image(self.pos[self.I] - self.pos[self.J])\n",
    "        r_sq = np.sum(r_vec**2, axis=1)\n",
    "        mask = r_sq < self.rcut_sq\n",
    "        r2_inv = 1.0 / r_sq[mask]\n",
    "        r6_inv = r2_inv**3\n",
    "        return 4 * np.sum(r6_inv * (r6_inv - 1))\n",
    "\n",
    "    def particle_energy(self, idx):\n",
    "        rij = self.minimum_image(self.pos[idx] - self.pos)\n",
    "        r_sq = np.sum(rij**2, axis=1)\n",
    "        mask = (r_sq < self.rcut_sq) & (r_sq > 0)  # exclude self-interaction\n",
    "        r2_inv = 1.0 / r_sq[mask]\n",
    "        r6_inv = r2_inv**3\n",
    "        return 4 * np.sum(r6_inv * (r6_inv - 1))\n",
    "\n",
    "    def mc_move(self, max_disp=0.1):\n",
    "        idx = np.random.randint(self.N)\n",
    "        old_pos = self.pos[idx].copy()\n",
    "        old_energy = self.particle_energy(idx)\n",
    "\n",
    "        # Propose move\n",
    "        displacement = (np.random.rand(3) - 0.5) * 2 * max_disp\n",
    "        self.pos[idx] = (self.pos[idx] + displacement) % self.L\n",
    "\n",
    "        new_energy = self.particle_energy(idx)\n",
    "        dE = new_energy - old_energy\n",
    "\n",
    "        # Metropolis criterion\n",
    "        if np.random.rand() > np.exp(-self.beta * dE):\n",
    "            # Reject move\n",
    "            self.pos[idx] = old_pos\n",
    "\n",
    "    def sample(self):\n",
    "        \"\"\" Sample pair distances for g(r) \"\"\"\n",
    "        r_vec = self.minimum_image(self.pos[self.I] - self.pos[self.J])\n",
    "        r_sq = np.sum(r_vec**2, axis=1)\n",
    "        hist, _ = np.histogram(np.sqrt(r_sq), bins=30, range=(0, self.L/2))\n",
    "        return hist\n",
    "\n",
    "    def simulate(self, nsteps=50000, freq_out=500):\n",
    "        hists = []\n",
    "        energies = []\n",
    "\n",
    "        for step in range(nsteps):\n",
    "            self.mc_move()\n",
    "\n",
    "            if step % freq_out == 0:\n",
    "                hist = self.sample()\n",
    "                hists.append(hist)\n",
    "                energies.append(self.total_energy())\n",
    "\n",
    "        return np.array(energies), np.mean(hists, axis=0)"
   ]
  },
  {
   "cell_type": "markdown",
   "metadata": {
    "id": "aMOx9hVOa5M5"
   },
   "source": [
    "### Running MCMC simulation on LJ system"
   ]
  },
  {
   "cell_type": "code",
   "execution_count": null,
   "metadata": {
    "id": "H4tJ9YYMa5M5"
   },
   "outputs": [],
   "source": [
    "lj_mc = LJ_MC_System(rho=0.88, N_cell=3, T=1.0)\n",
    "\n",
    "# Run simulation\n",
    "energies, hist = lj_mc.simulate(nsteps=100000, freq_out=500)\n",
    "\n",
    "# Post-processing\n",
    "r = np.linspace(0, lj_mc.L/2, 30)\n",
    "dr = r[1] - r[0]\n",
    "shell_volumes = 4*np.pi*r**2*dr\n",
    "g_r = hist / (lj_mc.N * lj_mc.rho * shell_volumes)\n",
    "\n",
    "# Plot\n",
    "plt.plot(r, g_r, '-o')\n",
    "plt.xlabel(r'$r$')\n",
    "plt.ylabel(r'$g(r)$')\n",
    "plt.show()\n"
   ]
  },
  {
   "cell_type": "markdown",
   "metadata": {},
   "source": [
    "### Problems\n",
    "\n",
    "**1. Vary sim parameters**\n",
    "\n",
    "- **Tune maximum displacement** (`max_disp`) to optimize acceptance rate (~40%-50% is ideal).\n",
    "- **Check how $g(r)$** changes when density or temperature changes.\n",
    "- **Implement energy cutoffs with shifted potentials** to smooth out the energy at $r_c$.\n",
    "- **Try simulating hard spheres** (infinite repulsion at contact).\n",
    " \n",
    "**2. Run MC simulations of LJ fluid at several temperatures to identify critical temperature.**\n",
    "\n",
    " - At each temperature evaluate heat capacity and RDFs.\n",
    " - Plot how energy, heat capacity and RDF change as a function of temperature.\n",
    " - Study dependence on sampling efficiency on magnitude of particle displacement."
   ]
  }
 ],
 "metadata": {
  "colab": {
   "collapsed_sections": [],
   "name": "06_MC_LJ.ipynb",
   "provenance": []
  },
  "interpreter": {
   "hash": "38cca0c38332a56087b24af0bc80247f4fced29cb4f7f437d91dc159adec9c4e"
  },
  "kernelspec": {
   "display_name": "Python 3 (ipykernel)",
   "language": "python",
   "name": "python3"
  },
  "nteract": {
   "version": "0.22.0"
  },
  "toc": {
   "base_numbering": 1,
   "nav_menu": {},
   "number_sections": true,
   "sideBar": true,
   "skip_h1_title": false,
   "title_cell": "Table of Contents",
   "title_sidebar": "Contents",
   "toc_cell": false,
   "toc_position": {},
   "toc_section_display": true,
   "toc_window_display": false
  },
  "widgets": {
   "application/vnd.jupyter.widget-state+json": {
    "state": {},
    "version_major": 2,
    "version_minor": 0
   }
  }
 },
 "nbformat": 4,
 "nbformat_minor": 4
}
