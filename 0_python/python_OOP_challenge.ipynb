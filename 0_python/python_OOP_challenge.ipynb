{
 "cells": [
  {
   "cell_type": "markdown",
   "metadata": {},
   "source": [
    "# Python Class building challenge"
   ]
  },
  {
   "cell_type": "code",
   "execution_count": null,
   "metadata": {},
   "outputs": [],
   "source": [
    "class Molecule:\n",
    "    \n",
    "    def __init__(self, name):\n",
    "        \"\"\"\n",
    "        Initialize a molecule with a name and an empty list of atoms.\n",
    "        \"\"\"\n",
    "        self.name = name\n",
    "        self.atoms = []\n",
    "\n",
    "    def add_atom(self, atom, count=1):\n",
    "        \"\"\"\n",
    "        Add an atom to the molecule with a specific count.\n",
    "        \"\"\"\n",
    "        \n",
    "    def molecular_weight(self):\n",
    "        \"\"\"\n",
    "        Calculate the molecular weight of the molecule.\n",
    "        \"\"\"\n",
    "        \n",
    "        return \n",
    "\n",
    "    def formula(self):\n",
    "        \"\"\"\n",
    "        Generate the chemical formula of the molecule.\n",
    "        \"\"\"\n",
    "\n",
    "\n",
    "    def __repr__(self):\n",
    "        \"\"\"\n",
    "        Representation of the molecule.\n",
    "        \"\"\"\n",
    "     "
   ]
  }
 ],
 "metadata": {
  "language_info": {
   "name": "python"
  }
 },
 "nbformat": 4,
 "nbformat_minor": 2
}
