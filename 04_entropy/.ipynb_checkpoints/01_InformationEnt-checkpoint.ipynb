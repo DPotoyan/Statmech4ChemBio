{
 "cells": [
  {
   "cell_type": "code",
   "execution_count": 2,
   "metadata": {
    "slideshow": {
     "slide_type": "slide"
    }
   },
   "outputs": [],
   "source": [
    "%matplotlib inline\n",
    "%config InlineBackend.figure_format = 'retina'\n",
    "\n",
    "from ipywidgets import widgets\n",
    "import matplotlib.pyplot as plt\n",
    "import numpy as np\n",
    "import scipy as sci\n",
    "import seaborn as sns"
   ]
  },
  {
   "cell_type": "markdown",
   "metadata": {
    "slideshow": {
     "slide_type": "slide"
    }
   },
   "source": [
    "## What is Information?"
   ]
  },
  {
   "cell_type": "markdown",
   "metadata": {
    "slideshow": {
     "slide_type": "fragment"
    }
   },
   "source": [
    "<img src=\"https://upload.wikimedia.org/wikipedia/commons/d/d4/Entropy_flip_2_coins.jpg\" alt=\"Information\" style=\"width:50%\">"
   ]
  },
  {
   "cell_type": "markdown",
   "metadata": {
    "slideshow": {
     "slide_type": "slide"
    },
    "toc": true
   },
   "source": [
    "<h1>Table of Contents<span class=\"tocSkip\"></span></h1>\n",
    "<div class=\"toc\"><ul class=\"toc-item\"><li><span><a href=\"#What-is-Information?\" data-toc-modified-id=\"What-is-Information?-1\"><span class=\"toc-item-num\">1&nbsp;&nbsp;</span>What is Information?</a></span><ul class=\"toc-item\"><li><span><a href=\"#A-candidate-function-for-information!\" data-toc-modified-id=\"A-candidate-function-for-information!-1.1\"><span class=\"toc-item-num\">1.1&nbsp;&nbsp;</span>A candidate function for information!</a></span></li><li><span><a href=\"#Why-bit-(base-two)\" data-toc-modified-id=\"Why-bit-(base-two)-1.2\"><span class=\"toc-item-num\">1.2&nbsp;&nbsp;</span>Why bit (base two)</a></span></li><li><span><a href=\"#How-many-yes-or-no-on-average-to-reconstruct-random-walk?\" data-toc-modified-id=\"How-many-yes-or-no-on-average-to-reconstruct-random-walk?-1.3\"><span class=\"toc-item-num\">1.3&nbsp;&nbsp;</span>How many yes or no on average to reconstruct random walk?</a></span></li><li><span><a href=\"#Back-to-the-roots-of-Infromation-theory:-decoding-(secret)-messages\" data-toc-modified-id=\"Back-to-the-roots-of-Infromation-theory:-decoding-(secret)-messages-1.4\"><span class=\"toc-item-num\">1.4&nbsp;&nbsp;</span>Back to the roots of Infromation theory: decoding (secret) messages</a></span></li><li><span><a href=\"#Alphabets-are-not-random!-hghjxcjxcc\" data-toc-modified-id=\"Alphabets-are-not-random!-hghjxcjxcc-1.5\"><span class=\"toc-item-num\">1.5&nbsp;&nbsp;</span>Alphabets are not random! hghjxcjxcc</a></span></li><li><span><a href=\"#Shanon-Measure-of-Information\" data-toc-modified-id=\"Shanon-Measure-of-Information-1.6\"><span class=\"toc-item-num\">1.6&nbsp;&nbsp;</span>Shanon Measure of Information</a></span></li><li><span><a href=\"#Information-per-Letter-of-English\" data-toc-modified-id=\"Information-per-Letter-of-English-1.7\"><span class=\"toc-item-num\">1.7&nbsp;&nbsp;</span>Information per Letter of English</a></span></li><li><span><a href=\"#Game-of-message-decoding:\" data-toc-modified-id=\"Game-of-message-decoding:-1.8\"><span class=\"toc-item-num\">1.8&nbsp;&nbsp;</span>Game of message decoding:</a></span></li><li><span><a href=\"#Quantifying-the-knowledge-(-through-Shannon-measure-of-information)\" data-toc-modified-id=\"Quantifying-the-knowledge-(-through-Shannon-measure-of-information)-1.9\"><span class=\"toc-item-num\">1.9&nbsp;&nbsp;</span>Quantifying the knowledge ( through Shannon measure of information)</a></span></li><li><span><a href=\"#Two-kittens\" data-toc-modified-id=\"Two-kittens-1.10\"><span class=\"toc-item-num\">1.10&nbsp;&nbsp;</span>Two kittens</a></span></li><li><span><a href=\"#Monty-Hall-problem\" data-toc-modified-id=\"Monty-Hall-problem-1.11\"><span class=\"toc-item-num\">1.11&nbsp;&nbsp;</span>Monty Hall problem</a></span></li><li><span><a href=\"#Non-integer-number-of-YES/NO-questions??\" data-toc-modified-id=\"Non-integer-number-of-YES/NO-questions??-1.12\"><span class=\"toc-item-num\">1.12&nbsp;&nbsp;</span>Non integer number of YES/NO questions??</a></span></li></ul></li><li><span><a href=\"#What-is-Entropy?\" data-toc-modified-id=\"What-is-Entropy?-2\"><span class=\"toc-item-num\">2&nbsp;&nbsp;</span>What is Entropy?</a></span></li><li><span><a href=\"#Back-to-statistical-mechanics-and-thermodynamics\" data-toc-modified-id=\"Back-to-statistical-mechanics-and-thermodynamics-3\"><span class=\"toc-item-num\">3&nbsp;&nbsp;</span>Back to statistical mechanics and thermodynamics</a></span><ul class=\"toc-item\"><li><span><a href=\"#Thermodynamic-unit-of-information\" data-toc-modified-id=\"Thermodynamic-unit-of-information-3.1\"><span class=\"toc-item-num\">3.1&nbsp;&nbsp;</span>Thermodynamic unit of information</a></span></li><li><span><a href=\"#Is-information-physical?\" data-toc-modified-id=\"Is-information-physical?-3.2\"><span class=\"toc-item-num\">3.2&nbsp;&nbsp;</span>Is information physical?</a></span></li><li><span><a href=\"#Relation-between-Heat-and-information-(Entropy)\" data-toc-modified-id=\"Relation-between-Heat-and-information-(Entropy)-3.3\"><span class=\"toc-item-num\">3.3&nbsp;&nbsp;</span>Relation between Heat and information (Entropy)</a></span></li><li><span><a href=\"#Jayne's-MaxEnt-(Maximum-Entropy-principle)\" data-toc-modified-id=\"Jayne's-MaxEnt-(Maximum-Entropy-principle)-3.4\"><span class=\"toc-item-num\">3.4&nbsp;&nbsp;</span>Jayne's MaxEnt (Maximum Entropy principle)</a></span></li><li><span><a href=\"#Large-deviation-Theory-and-Sanov's-theorem\" data-toc-modified-id=\"Large-deviation-Theory-and-Sanov's-theorem-3.5\"><span class=\"toc-item-num\">3.5&nbsp;&nbsp;</span>Large deviation Theory and Sanov's theorem</a></span></li><li><span><a href=\"#Increasing-Entropy:-surprising-or-not?\" data-toc-modified-id=\"Increasing-Entropy:-surprising-or-not?-3.6\"><span class=\"toc-item-num\">3.6&nbsp;&nbsp;</span>Increasing Entropy: surprising or not?</a></span></li></ul></li><li><span><a href=\"#What-is-Maxwell's-demon?\" data-toc-modified-id=\"What-is-Maxwell's-demon?-4\"><span class=\"toc-item-num\">4&nbsp;&nbsp;</span>What is Maxwell's demon?</a></span></li><li><span><a href=\"#Playing-Maxwell's-demon's-advocate\" data-toc-modified-id=\"Playing-Maxwell's-demon's-advocate-5\"><span class=\"toc-item-num\">5&nbsp;&nbsp;</span>Playing Maxwell's demon's advocate</a></span></li><li><span><a href=\"#Information-erasure-and-Landauer's-principle\" data-toc-modified-id=\"Information-erasure-and-Landauer's-principle-6\"><span class=\"toc-item-num\">6&nbsp;&nbsp;</span>Information erasure and Landauer's principle</a></span><ul class=\"toc-item\"><li><span><a href=\"#Szilard's-Engine\" data-toc-modified-id=\"Szilard's-Engine-6.1\"><span class=\"toc-item-num\">6.1&nbsp;&nbsp;</span>Szilard's Engine</a></span></li><li><span><a href=\"#Conditional-Entropy\" data-toc-modified-id=\"Conditional-Entropy-6.2\"><span class=\"toc-item-num\">6.2&nbsp;&nbsp;</span>Conditional Entropy</a></span></li><li><span><a href=\"#Mutual-Infromation\" data-toc-modified-id=\"Mutual-Infromation-6.3\"><span class=\"toc-item-num\">6.3&nbsp;&nbsp;</span>Mutual Infromation</a></span><ul class=\"toc-item\"><li><span><a href=\"#Additional-References\" data-toc-modified-id=\"Additional-References-6.3.1\"><span class=\"toc-item-num\">6.3.1&nbsp;&nbsp;</span>Additional References</a></span></li></ul></li></ul></li></ul></div>"
   ]
  },
  {
   "cell_type": "markdown",
   "metadata": {
    "slideshow": {
     "slide_type": "slide"
    }
   },
   "source": [
    "**Which of these two statements conveys the most information?**\n",
    "\n",
    "- I will eat some food tomorrow.\n",
    "- I will see a giraffe walking by my apartment. "
   ]
  },
  {
   "cell_type": "markdown",
   "metadata": {
    "slideshow": {
     "slide_type": "slide"
    }
   },
   "source": [
    "**A measure of information (whatever it may be) is closely related to the element of... surprise!**\n",
    "\n",
    "- has very high probability and so conveys little information,\n",
    "- has very low probability and so conveys much information. \n",
    "\n",
    "> If we quanitfy suprise we will quantify information"
   ]
  },
  {
   "cell_type": "markdown",
   "metadata": {
    "slideshow": {
     "slide_type": "slide"
    }
   },
   "source": [
    "**Playing cards**\n",
    "\n",
    "Which is more surprising (contains more information)?\n",
    "\n",
    "- E1: The card is heart?\n",
    "\n",
    "- E2:The card is Queen?\n",
    "\n",
    "- E3: The card is Queen of hearts?"
   ]
  },
  {
   "cell_type": "markdown",
   "metadata": {
    "slideshow": {
     "slide_type": "slide"
    }
   },
   "source": [
    "- $P(E_1) = \\frac{1}{4}$\n",
    "\n",
    "\n",
    "- $P(E_2)  =  \\frac{4}{52} = \\frac{1}{13}$\n",
    "\n",
    "\n",
    "- $P(E_1 and E_2) = \\frac{1}{52}$ "
   ]
  },
  {
   "cell_type": "markdown",
   "metadata": {
    "slideshow": {
     "slide_type": "slide"
    }
   },
   "source": [
    "**Gaining information**\n",
    "\n",
    "1. We learn the card is heart $I(E_1)$\n",
    "\n",
    "\n",
    "2. We learn the card is Queen $I(E_2)$\n",
    "\n",
    "\n",
    "3. $I(E_1 and E_2) = I(E_1) + I(E_2)$\n",
    "\n",
    "> 4. Knowledge of event can add to information but neer take away from it: $I(E) \\geq 0$"
   ]
  },
  {
   "cell_type": "markdown",
   "metadata": {
    "slideshow": {
     "slide_type": "slide"
    }
   },
   "source": [
    "### A candidate function for information!\n",
    "\n",
    "$$I(E) = - C' log_D p(E)$$\n",
    "\n",
    "$$I(E) = - C log_2 p(E) $$\n",
    "\n",
    "> Constant $C', D$ can be combined into one $$log_a y = \\frac{log_b y}{log_b a}$$ if we agree on log base"
   ]
  },
  {
   "cell_type": "markdown",
   "metadata": {
    "slideshow": {
     "slide_type": "slide"
    }
   },
   "source": [
    "### Why bit (base two)\n",
    "\n",
    "Consider symmetric Bernouli process, e.g 1D random walk with equal jump probabilities:\n",
    "\n",
    "$$I(X=0) = I(X=1) = -log_2 \\frac{1}{2} = 1$$\n",
    "\n",
    "$$(x_0,x_1,...x_N) = 10111101001010100100$$\n",
    "\n",
    "> **Random walk = string of Yes/No questions**"
   ]
  },
  {
   "cell_type": "code",
   "execution_count": 4,
   "metadata": {
    "slideshow": {
     "slide_type": "slide"
    }
   },
   "outputs": [
    {
     "name": "stderr",
     "output_type": "stream",
     "text": [
      "/anaconda/lib/python3.6/site-packages/ipykernel_launcher.py:2: RuntimeWarning: divide by zero encountered in log\n",
      "  \n",
      "/anaconda/lib/python3.6/site-packages/ipykernel_launcher.py:2: RuntimeWarning: invalid value encountered in multiply\n",
      "  \n"
     ]
    },
    {
     "data": {
      "text/plain": [
       "Text(0.5, 0, 'p')"
      ]
     },
     "execution_count": 4,
     "metadata": {},
     "output_type": "execute_result"
    },
    {
     "data": {
      "image/png": "[encoded data removed]",
      "text/plain": [
       "<Figure size 432x288 with 1 Axes>"
      ]
     },
     "metadata": {
      "image/png": {
       "height": 272,
       "width": 396
      },
      "needs_background": "light"
     },
     "output_type": "display_data"
    }
   ],
   "source": [
    "def I_bern(p):\n",
    "    return -p*np.log(p) - (1-p)*np.log(1-p)\n",
    "\n",
    "p = np.linspace(0,1,1000)\n",
    "plt.plot(p, I_bern(p), lw=2)\n",
    "\n",
    "plt.ylabel('I(p)',fontsize =20)\n",
    "\n",
    "plt.xlabel('p',fontsize =20)"
   ]
  },
  {
   "cell_type": "code",
   "execution_count": 5,
   "metadata": {
    "slideshow": {
     "slide_type": "slide"
    }
   },
   "outputs": [
    {
     "data": {
      "text/plain": [
       "[<matplotlib.lines.Line2D at 0x10f6b9b00>]"
      ]
     },
     "execution_count": 5,
     "metadata": {},
     "output_type": "execute_result"
    },
    {
     "data": {
      "image/png": "[encoded data removed]",
      "text/plain": [
       "<Figure size 432x288 with 1 Axes>"
      ]
     },
     "metadata": {
      "image/png": {
       "height": 248,
       "width": 377
      },
      "needs_background": "light"
     },
     "output_type": "display_data"
    }
   ],
   "source": [
    "from scipy.stats import binom\n",
    "\n",
    "N = 100 #trials\n",
    "p = 0.01 # probability of sucess\n",
    "\n",
    "W_bin = [binom.pmf(k,N, p=0.1) for k in range(20)] \n",
    "\n",
    "plt.plot(np.arange(20),np.log(W_bin), '-o')"
   ]
  },
  {
   "cell_type": "code",
   "execution_count": 6,
   "metadata": {
    "slideshow": {
     "slide_type": "slide"
    }
   },
   "outputs": [
    {
     "name": "stdout",
     "output_type": "stream",
     "text": [
      "2.584962500721156\n",
      "2.2516291673878226\n",
      "1.6644977792004614\n"
     ]
    }
   ],
   "source": [
    "from scipy.stats import entropy\n",
    "\n",
    "die = 1/6 * np.ones(6)\n",
    "print(entropy(die, base=2))\n",
    "\n",
    "die[5], die[4] = 0, 1/3\n",
    "print(entropy(die, base=2))\n",
    "\n",
    "die[4], die[3] = 0, 2/3\n",
    "print(entropy(die, base=2))"
   ]
  },
  {
   "cell_type": "markdown",
   "metadata": {
    "slideshow": {
     "slide_type": "slide"
    }
   },
   "source": [
    "### How many yes or no on average to reconstruct random walk?\n",
    "\n",
    "**Answer**\n",
    "<br>\n",
    "$$H(X) = \\langle -log p(X) \\rangle$$\n",
    "\n",
    "**Shannon  Measure of Information (SMI)**\n",
    "$$H = -\\sum_i p_i log p_i$$\n",
    "\n",
    "**Surprise**\n",
    "\n",
    "$$I_i = -log p_i$$\n",
    "\n",
    "> Information is an average of surprise.!!! How surprised are you on average? "
   ]
  },
  {
   "cell_type": "markdown",
   "metadata": {
    "slideshow": {
     "slide_type": "slide"
    }
   },
   "source": [
    "### Back to the roots of Infromation theory: decoding (secret) messages"
   ]
  },
  {
   "cell_type": "markdown",
   "metadata": {
    "slideshow": {
     "slide_type": "fragment"
    }
   },
   "source": [
    "Information per letter $I(m)$ to decode the message\n",
    "\n",
    "- $m:$ Letters in the alphabet (Russian: 33,Enlgish: 26,  Korean: 24) \n",
    "\n",
    "\n",
    "- $I(Russian) > I(English) > I(Korean)$\n",
    "\n",
    "\n",
    "- $I(m_1, m_2) = I(m_1) + I(m_2)$ reagrdless of the order letters are sent!\n",
    "\n",
    "\n",
    "> One bit is an amount of information one can obtain from the answer to a single yes–no question. The number of bits to decode a message grows witht the lengt of an alphabet and length of the word. "
   ]
  },
  {
   "cell_type": "markdown",
   "metadata": {
    "slideshow": {
     "slide_type": "slide"
    }
   },
   "source": [
    "### Alphabets are not random! hghjxcjxcc"
   ]
  },
  {
   "cell_type": "markdown",
   "metadata": {
    "slideshow": {
     "slide_type": "fragment"
    }
   },
   "source": [
    "Some letters happen more often than the others! Probability of each letter in an independent sequence is $p_m = \\frac{1}{m}$\n",
    "\n",
    "$$\\boxed{H(p) = - \\sum_m p_m log_m p_m}$$\n",
    "\n",
    "> We must send a message explaining how to combine the transferred symbols as a part of the message, but the length of the needed message is finite and independent of the length of the actual message we wish to send, so in the long message limit we may ignore this overhead."
   ]
  },
  {
   "cell_type": "markdown",
   "metadata": {
    "slideshow": {
     "slide_type": "slide"
    }
   },
   "source": [
    "### Shanon Measure of Information\n",
    "\n",
    "$$\\boxed{H = -\\sum_i p_i log p_i}$$\n",
    "\n",
    "> **[To Shanon], You should call it Entropy, for two reasons. \n",
    "In the first place you uncertainty function has been used in statistical mechanics under that name. \n",
    "In the second place, and more importantly, no one knows what entropy really is, so in a debate you will always have the advantage.” J von Neumann**"
   ]
  },
  {
   "cell_type": "markdown",
   "metadata": {
    "slideshow": {
     "slide_type": "slide"
    }
   },
   "source": [
    "### Information per Letter of English\n",
    "\n",
    "> If the symbols of English alphabet (+ blank) appear equally probably, what is the information carried by a single symbol? This must be $log_2(26 + 1) = 4.755$ bits, but for actual English sentences, it is known to be about **$1.3$ bits. Why?**"
   ]
  },
  {
   "cell_type": "markdown",
   "metadata": {
    "slideshow": {
     "slide_type": "slide"
    }
   },
   "source": [
    "### Game of message decoding:\n",
    "\n",
    "Given some 70 letters decode a 250 letter paragraph!\n",
    "\n",
    "$$\\frac{70}{250}log_2 27 = 1.3$$\n",
    "\n",
    "> Cover T. M. and King, R. C. (1978). \"A convergent gambling estimate of the entropy of English\" IEEE Trans. Info. Theory, 24, 413–421"
   ]
  },
  {
   "cell_type": "markdown",
   "metadata": {
    "slideshow": {
     "slide_type": "slide"
    }
   },
   "source": [
    "### Quantifying the knowledge ( through Shannon measure of information)"
   ]
  },
  {
   "cell_type": "markdown",
   "metadata": {
    "slideshow": {
     "slide_type": "fragment"
    }
   },
   "source": [
    "- How much knowledge we need to find out outcome of fair dice?\n",
    "\n",
    "- We are told die shows a digit higher than 2 (3, 4,5 or6). How much knowledge does this information carry? "
   ]
  },
  {
   "cell_type": "markdown",
   "metadata": {
    "slideshow": {
     "slide_type": "slide"
    }
   },
   "source": [
    " - $H(E_1) = log_2 6$\n",
    " \n",
    " \n",
    " - $H(E_1) - H(E_2) = log_2 6 - log_2 4$"
   ]
  },
  {
   "cell_type": "markdown",
   "metadata": {
    "slideshow": {
     "slide_type": "slide"
    }
   },
   "source": [
    "### Two kittens\n",
    "\n",
    "There are two kittens. We are told that at least one of them is a male. What is the information we get from this message?"
   ]
  },
  {
   "cell_type": "markdown",
   "metadata": {
    "slideshow": {
     "slide_type": "slide"
    }
   },
   "source": [
    "$$E_1 = \\{mm,mf,fm, ff \\} $$\n",
    "\n",
    "$$E_2 = \\{mm,mf,fm\\}$$\n",
    "\n",
    "$$H(E_1) -H(E_2) = log_2 4 -log_2 3 = 0.41$$"
   ]
  },
  {
   "cell_type": "markdown",
   "metadata": {
    "slideshow": {
     "slide_type": "slide"
    }
   },
   "source": [
    "### Monty Hall problem\n",
    "\n",
    "There are five boxes, of which one contains a prize. A game participant is asked to choose one box. After they choose one of the five boxes, the “coordinator” of the game identifies as empty three of the four unchosen boxes. What is the information of this message? "
   ]
  },
  {
   "cell_type": "markdown",
   "metadata": {
    "slideshow": {
     "slide_type": "slide"
    }
   },
   "source": [
    "- $H(E_1) = log_2 5 = 2.322$\n",
    "\n",
    "\n",
    "- $H(E_2) = -\\frac{1}{5} log_2 5 - \\frac{4}{5} log_2 \\frac{4}{5} = 0.722$\n",
    "\n",
    "- $H(E_1)-H(E_2) = 1.6$"
   ]
  },
  {
   "cell_type": "markdown",
   "metadata": {
    "slideshow": {
     "slide_type": "slide"
    }
   },
   "source": [
    "### Non integer number of YES/NO questions??\n",
    "\n",
    "We have encountered a fraction of bit of information several times now. What does it imply in terms of number of YES/NO questions. That is becasue in some cases single YES/NO question can rule out more than one elementary event.\n",
    "\n",
    "> 999 blue balls and 1 red ball. how many questions we need to ask to determin the colors of all balls? $S = 9.97$ bit or 0.01 bit per ball. Divide the container by 500 and 500 and ask where the red ball is? 1 questions rules out 500 balls at once. "
   ]
  },
  {
   "cell_type": "markdown",
   "metadata": {
    "slideshow": {
     "slide_type": "slide"
    }
   },
   "source": [
    "## What is Entropy?\n",
    "\n",
    "- **Clausius (1865)** $$\\boxed{dS = \\frac{\\delta Q}{T}}$$\n",
    "\n",
    "> Entropy foliates thermodynamic space into isentropic surfaces called adiabats. One can only go from one adiabat to another by exchanging heat. \n",
    "\n",
    "- **Boltzman (1872)** $$\\boxed{S = k_B log \\Omega}$$\n",
    "\n",
    "> Entropy quantifies number of microstates consistent with a macrostate.\n",
    "\n",
    "- **Gibbs (1878)**  $$\\boxed{S = -k_B \\sum_i p_i log p_i}$$\n",
    "\n",
    "> Entropy is related to the probability  $p_i$ by which microstates are weighted in an ensemble. \n",
    "\n",
    "- **Shannon (1942)** $$\\boxed{H = -\\sum_i p_i log p_i}$$\n",
    "\n",
    "> Entropy quantifies how much of knowledge (information) we need to specify a microstate of a system."
   ]
  },
  {
   "cell_type": "markdown",
   "metadata": {
    "slideshow": {
     "slide_type": "slide"
    }
   },
   "source": [
    "## Back to statistical mechanics and thermodynamics"
   ]
  },
  {
   "cell_type": "markdown",
   "metadata": {
    "slideshow": {
     "slide_type": "fragment"
    }
   },
   "source": [
    "$$S = -k_B \\sum_i p_i log p_i$$\n",
    " \n",
    "- Adiaatic expasion (doubling of volume) of an ideal gas: \n",
    "\n",
    "$$\\Delta S = N_A k_B log 2 = R log 2$$\n",
    "\n",
    "\n",
    "> How many YES/NO questions do we need to ask to pinpoint single microsate among the ensemble of microstates of a macrostate."
   ]
  },
  {
   "cell_type": "markdown",
   "metadata": {
    "slideshow": {
     "slide_type": "slide"
    }
   },
   "source": [
    "### Thermodynamic unit of information \n",
    "\n",
    "$$k_B log_e W \\rightarrow C log_2 W $$\n",
    "\n",
    "**C = 1 bit/molecule = 9.57 × 10^{-24} J/(K·molecule))**\n",
    "\n",
    "> Small number becasue in thermodynamics we do not think microscopically and there are huge numbers of molecules. "
   ]
  },
  {
   "cell_type": "markdown",
   "metadata": {
    "slideshow": {
     "slide_type": "slide"
    }
   },
   "source": [
    "### Is information physical?\n",
    "\n",
    "**Wheeler's It from bit.**\n",
    "\n",
    "> Every it — every particle, every field of force, even the space-time continuum itself — derives its function, its meaning, its very existence entirely — even if in some contexts indirectly — from the apparatus-elicited answers to yes-or-no questions, binary choices, bits. It from bit symbolizes the idea that every item of the physical world has at bottom — a very deep bottom, in most instances — an immaterial source and explanation; that which we call reality arises in the last analysis from the posing of yes-no questions and the registering of equipment-evoked responses; in short, that **all things physical are information-theoretic in origin**\" John Weeler"
   ]
  },
  {
   "cell_type": "markdown",
   "metadata": {
    "slideshow": {
     "slide_type": "slide"
    }
   },
   "source": [
    "### Relation between Heat and information (Entropy) \n",
    "\n",
    "$$U(p(x), E(x)) = \\langle E(x) \\rangle = \\int p(x) E(x) dx$$\n",
    "\n",
    "$$S(p(x)) = \\langle -log p(x) \\rangle = \\int p(x) log p(x) dx$$"
   ]
  },
  {
   "cell_type": "markdown",
   "metadata": {
    "slideshow": {
     "slide_type": "slide"
    }
   },
   "source": [
    "**Microscopic origin of the First law**\n",
    "\n",
    "$$d U = \\frac{\\partial U}{\\partial V} dV +\\frac{\\partial U}{\\partial p}dp $$\n",
    "\n",
    "$$d U = \\delta W +\\delta Q$$\n",
    "\n",
    "$$\\delta W = \\Big [ \\frac{\\partial E_V(x)}{\\partial V}\\delta x \\Big ]dV$$\n",
    "\n",
    "$$\\delta Q = \\Big [ E_V(x)\\delta x \\Big ] dp$$"
   ]
  },
  {
   "cell_type": "markdown",
   "metadata": {
    "slideshow": {
     "slide_type": "slide"
    }
   },
   "source": [
    "**Microscopic origin of heat and entropy**\n",
    "$$dS = - \\int log p(x) \\delta x dp$$\n",
    "\n",
    "$$p(x) = \\frac{e^{-\\beta E(x)}}{e^{-\\beta F}} $$\n",
    "\n",
    "$$dS = - \\int \\beta(-E(x) + F) \\delta x dp =  \\int \\beta E(x) \\delta x dp = \\beta \\delta Q$$"
   ]
  },
  {
   "cell_type": "markdown",
   "metadata": {
    "slideshow": {
     "slide_type": "slide"
    }
   },
   "source": [
    "### Jayne's MaxEnt (Maximum Entropy principle)\n",
    "\n",
    "Probability is an expression of incomplete information. Given that we have some\n",
    "information, how should we construct a probability distribution that reflects that\n",
    "knowledge, but is otherwise unbiased? The best general procedure, known as Jaynes\n",
    "Maximum Entropy Principle , is to choose the probabilities $p_k$ to maximize the Shanon Measure of Information of the distribution, subject to constraints that express what we do know"
   ]
  },
  {
   "cell_type": "markdown",
   "metadata": {
    "slideshow": {
     "slide_type": "slide"
    }
   },
   "source": [
    "- **NVE. Do MaxEnt with no constraints:**\n",
    "\n",
    "$$- \\sum p_i log p_i - \\lambda \\sum_i p_i$$\n",
    "\n",
    "$$p_1  = p_2 = ... =  p_N $$\n",
    "\n",
    "- **NVT. Do MaxEnt with constraint on average energy:**\n",
    "\n",
    "$$- \\sum p_i log p_i - \\lambda \\sum_i p_i - \\beta \\sum_i p_i E_i$$\n",
    "\n",
    "$$p_i \\sim e^{-\\beta E_i}$$"
   ]
  },
  {
   "cell_type": "markdown",
   "metadata": {
    "slideshow": {
     "slide_type": "slide"
    }
   },
   "source": [
    "- **Roll a fair die:**\n",
    "\n",
    "$$- \\sum p_i log p_i - \\lambda \\sum_i p_i$$\n",
    "\n",
    "$$p_1  = p_2 = p_3 = p_4= p_5 = p_6$$\n",
    "\n",
    "- **NVT. Do MaxEnt with biased die which on average gives $\\langle x \\rangle = 5.5$**\n",
    "\n",
    "$$- \\sum p_i log p_i - \\lambda \\sum_i p_i - B \\sum_i p_i x_i $$\n",
    "\n",
    "$$p_i \\sim e^{-B x_i}$$"
   ]
  },
  {
   "cell_type": "markdown",
   "metadata": {
    "slideshow": {
     "slide_type": "slide"
    }
   },
   "source": [
    "### Large deviation Theory and Sanov's theorem\n",
    "\n",
    "Consider a symmetric random walk again with $p=1/2$ \n",
    "\n",
    "$$W_N (n) = \\frac{N!}{(N-n)! n!} \\Big(\\frac{1}{2} \\Big)^N$$\n",
    "\n",
    "$$ log W_N (n) = N \\Big[ - \\frac{n}{N} log \\frac{n}{N} - \\frac{N-n}{N} log \\frac{N-n}{N} + log2 \\Big]$$\n",
    "\n",
    "$$W_N \\sim e^{-N I(n)}$$\n",
    "\n",
    "**A large deviation function = Entropy (or Free energy)**\n",
    "\n",
    "$$s(n) = -\\sum_i p_i log p_i = - \\frac{n}{N} log \\frac{n}{N} - \\frac{N-n}{N} log \\frac{N-n}{N}$$\n",
    "\n",
    "**Deviation from average $\\langle n \\rangle =pN$ are expenentially suppressed with number of steps N:**\n",
    "\n",
    "$$p(n - \\langle n \\rangle) \\sim e^{-N I'(n)}$$"
   ]
  },
  {
   "cell_type": "markdown",
   "metadata": {
    "slideshow": {
     "slide_type": "slide"
    }
   },
   "source": [
    "- True distirbution (picutre a histogram) of events $\\{q_i \\}, i= 1,...$\n",
    "\n",
    "- Empirical distirbution (picutre a histogram) of events $\\{\\pi_i \\}, i= 1,...$\n",
    "\n",
    "$$\\pi_i \\rightarrow q_i \\,\\,\\,\\, N \\rightarrow +\\infty$$"
   ]
  },
  {
   "cell_type": "markdown",
   "metadata": {
    "slideshow": {
     "slide_type": "slide"
    }
   },
   "source": [
    "**What is a probability to find some arbitrary $\\pi = p$ empirical distirbution?** \n",
    "\n",
    "Since we are sampling empirical distirbution from true one:\n",
    "\n",
    "$$P(\\pi = p) = \\prod_i  \\frac{N!}{(Np_i)!} q_i^{Np_i}$$\n",
    "\n",
    "$$P(\\pi = p) \\approx e^{-N \\sum p_i log \\frac{p_i}{q_i}}$$\n",
    "\n",
    "**Relative Entropy (Kulback-Leibler measure)**\n",
    "\n",
    "$$K(p|q) = \\sum_i p_i log \\frac{p_i}{q_i}$$\n",
    "\n",
    "> MaxEnt assumes $q_1 =q_2 = ...q_N$ hence a microcanonical assumption is still built into it. "
   ]
  },
  {
   "cell_type": "markdown",
   "metadata": {
    "slideshow": {
     "slide_type": "slide"
    }
   },
   "source": [
    "### Increasing Entropy: surprising or not?\n",
    "\n",
    "- Entropy of an isolated system increases $S_{high}-S_{low}\\geq 0$ for a simple, almost tautological reason that a majority of states of a system are consistent with higher entropy values $S_{high}$. \n",
    "\n",
    "$$\\Delta S \\geq 0$$\n",
    "\n",
    "$$I \\geq 0 $$\n",
    "\n",
    "- If entropy is interpreted as (the lack of) information then the second law may be stated as: \n",
    "\n",
    "- Information never increases by itself, a decrease of (the lack of) information can only be accomplished by an import of information.\n",
    "\n",
    "\n",
    "> You should never be surprised by or feel the need to explain why any physical system is in a high entropy state. B Greene"
   ]
  },
  {
   "cell_type": "markdown",
   "metadata": {
    "slideshow": {
     "slide_type": "slide"
    }
   },
   "source": [
    "## What is Maxwell's demon?\n",
    "\n",
    "<img src=\"https://upload.wikimedia.org/wikipedia/commons/8/8b/Maxwell%27s_demon.svg\" alt=\"MaxDemon\" style=\"width:80%\">\n",
    "\n"
   ]
  },
  {
   "cell_type": "markdown",
   "metadata": {
    "slideshow": {
     "slide_type": "slide"
    }
   },
   "source": [
    "## Playing Maxwell's demon's advocate"
   ]
  },
  {
   "cell_type": "code",
   "execution_count": 7,
   "metadata": {
    "slideshow": {
     "slide_type": "fragment"
    }
   },
   "outputs": [
    {
     "data": {
      "text/plain": [
       "<Figure size 432x288 with 0 Axes>"
      ]
     },
     "metadata": {},
     "output_type": "display_data"
    }
   ],
   "source": [
    "%run ./code/maxwells_demon.py"
   ]
  },
  {
   "cell_type": "markdown",
   "metadata": {
    "slideshow": {
     "slide_type": "slide"
    }
   },
   "source": [
    "Learn more about making GUIs with python from the following links:\n",
    "> **[Tkinter](https://docs.python.org/3/library/tkinter.html)**\n",
    "\n",
    "> **[PySimpleGUI](https://pysimplegui.readthedocs.io/en/latest/)**"
   ]
  },
  {
   "cell_type": "markdown",
   "metadata": {
    "slideshow": {
     "slide_type": "slide"
    }
   },
   "source": [
    "<img src=\"./figs/LandauerExperiment.png\" alt=\"landauer1\" style=\"width:40%\"> "
   ]
  },
  {
   "cell_type": "markdown",
   "metadata": {
    "slideshow": {
     "slide_type": "slide"
    }
   },
   "source": [
    "## Information erasure and Landauer's principle\n",
    "\n",
    "> When a physical system performs a logical operation that erases or loses information, without a copy being preserved, it must transfer a minimum amount of heat, $k_BT log(2)$, to the environment.\n",
    "\n",
    "> Put another way: if an observer loses information about a physical system, the observer loses the ability to extract work from that system. There is a minimal price to be payed for erasing one bit it is $k_BT log(2)$ (Landauer's bound)"
   ]
  },
  {
   "cell_type": "markdown",
   "metadata": {
    "slideshow": {
     "slide_type": "slide"
    }
   },
   "source": [
    "<img src=\"./figs/LandauerExperiment2.jpg\" alt=\"landauer1\" style=\"width:40%\">  "
   ]
  },
  {
   "cell_type": "markdown",
   "metadata": {
    "slideshow": {
     "slide_type": "slide"
    }
   },
   "source": [
    "### Szilard's Engine\n",
    "\n",
    "Recording inforation we can extract work from the environment: $W = k_B log 2$ and $Q = k_B log 2$\n",
    "\n",
    "- **No ghost principle:** information must be carried by something. Information is physical! \n",
    "\n",
    "$$\\Delta S = \\Delta S + k_B I \\geq \\frac{Q}{T}$$\n",
    "\n",
    "$$\\Delta S = \\Delta S  \\geq \\frac{Q}{T} - k_B I$$\n",
    "\n",
    "- Therefore Information can be used to do work. Knowledge is power!\n",
    "\n",
    "$$\\Delta F \\geq W + k_B T I $$\n"
   ]
  },
  {
   "cell_type": "markdown",
   "metadata": {
    "slideshow": {
     "slide_type": "slide"
    }
   },
   "source": [
    "### Conditional Entropy \n",
    "\n",
    "- System + Aparatus: S, A. After a measurment we have the following ucnertainty about system+apparatus states:\n",
    "\n",
    "$$H(S,A) = - \\sum_{i,j} p(s_i, a_j)log p(s_i a_j)$$\n",
    "\n",
    "$$H(S) = - \\sum_{s_i} p_S(s_i)log p_S(s_i)$$\n",
    "\n",
    "$$H(S | A) = - \\sum_{s_i} p_S(s_i)log p_S(s_i)$$\n",
    "\n",
    "$$H(S | A) = H(S) - H(S,A) =  -\\sum_{s_i} p(s_i, a_j)log \\frac{p(s_i, a_j)}{p_A(a_j)}$$"
   ]
  },
  {
   "cell_type": "markdown",
   "metadata": {
    "slideshow": {
     "slide_type": "slide"
    }
   },
   "source": [
    "### Mutual Infromation \n",
    "\n",
    "$$I(S,A) = H(S) - H(S | A) = H(S) +H(A) - H(S A) = \\sum_{s_i} p(s_i, a_j)log \\frac{p(s_i, a_j)}{p_S(s_i)p_A(a_j)}\\geq 0$$"
   ]
  },
  {
   "cell_type": "markdown",
   "metadata": {
    "slideshow": {
     "slide_type": "slide"
    }
   },
   "source": [
    "\n",
    "#### Additional References\n",
    "\n",
    "1. JMR Parrondo, JM Horowtiz, T Segawa \"Thermodynamics of Information\" [Nature Physics volume 11, 131 (2015)](https://www.nature.com/articles/nphys3230)\n",
    "<br>\n",
    "\n",
    "2. Z Lu, C Jarzynski, \"Engineering Maxwell's Demon\"[Physics Today 67, (2014)](https://physicstoday.scitation.org/doi/10.1063/PT.3.2490)\n",
    "<br>\n",
    "\n",
    "3. O Maroney [Information Processing and Thermodynamic Entropy](https://plato.stanford.edu/entries/information-entropy/)\n",
    "<br>\n",
    "\n",
    "4. Observing a quantum Maxwell demon at work []()"
   ]
  }
 ],
 "metadata": {
  "celltoolbar": "Slideshow",
  "kernelspec": {
   "display_name": "Python 3",
   "language": "python",
   "name": "python3"
  },
  "language_info": {
   "codemirror_mode": {
    "name": "ipython",
    "version": 3
   },
   "file_extension": ".py",
   "mimetype": "text/x-python",
   "name": "python",
   "nbconvert_exporter": "python",
   "pygments_lexer": "ipython3",
   "version": "3.6.7"
  },
  "latex_envs": {
   "LaTeX_envs_menu_present": true,
   "autoclose": false,
   "autocomplete": true,
   "bibliofile": "biblio.bib",
   "cite_by": "apalike",
   "current_citInitial": 1,
   "eqLabelWithNumbers": true,
   "eqNumInitial": 1,
   "hotkeys": {
    "equation": "Ctrl-E",
    "itemize": "Ctrl-I"
   },
   "labels_anchors": false,
   "latex_user_defs": false,
   "report_style_numbering": false,
   "user_envs_cfg": false
  },
  "livereveal": {
   "theme": "sky"
  },
  "nteract": {
   "version": "0.21.0"
  },
  "toc": {
   "base_numbering": 1,
   "nav_menu": {},
   "number_sections": true,
   "sideBar": true,
   "skip_h1_title": false,
   "title_cell": "Table of Contents",
   "title_sidebar": "Contents",
   "toc_cell": true,
   "toc_position": {},
   "toc_section_display": true,
   "toc_window_display": false
  }
 },
 "nbformat": 4,
 "nbformat_minor": 2
}
